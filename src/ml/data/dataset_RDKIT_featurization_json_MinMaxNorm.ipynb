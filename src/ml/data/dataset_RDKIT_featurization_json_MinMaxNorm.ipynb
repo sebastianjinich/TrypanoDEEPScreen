{
 "cells": [
  {
   "cell_type": "markdown",
   "metadata": {},
   "source": [
    "## feauterization\n",
    "\n",
    "Lo que hago es feauterizo, normalizo y despues lo mando como un json para poder hacerlo csv y despues importarlo facil\n",
    "\n",
    "\n",
    "### Como es la normalizacion que estoy usando?\n",
    "\n",
    "Bueno lo que hago es hacer que todos las features sean normalizadas entre 0 1, para que despues durante el entrenamiento cuando se concatene al output de las convoluciones se escale a sus respectivos maximos y minimos, de cada compuesto.\n",
    "\n",
    "Esta idea la saco de como funciona el minmax scaleing\n",
    "https://scikit-learn.org/stable/modules/generated/sklearn.preprocessing.MinMaxScaler.html\n",
    "\n",
    "```python\n",
    "X_std = (X - X.min(axis=0)) / (X.max(axis=0) - X.min(axis=0)) # esto lo hago afuera, pq siempre es lo mismo para cada vez que se usa el vector de features\n",
    "X_scaled = X_std * (max - min) + min # este es el paso que hago adentro de la red, en base a cada output de las covoluciones\n",
    "```\n",
    "\n",
    "Se hace en dos pasos, ese Scaleing: primero se genera que todo el vector este entre 01 y despues se le improntan los maximos y minimos de los outputs de las convolucinoes."
   ]
  },
  {
   "cell_type": "code",
   "execution_count": 3,
   "metadata": {},
   "outputs": [],
   "source": [
    "from deepchem.feat import RDKitDescriptors\n",
    "import pandas as pd\n",
    "import numpy as np\n",
    "import json\n",
    "import os\n",
    "\n",
    "def add_column_feturized_json(path_original,output_path):\n",
    "    namefile = path_original.split(\"/\")[-1]\n",
    "    name = namefile[:namefile.find(\".csv\")]\n",
    "    featurizer = RDKitDescriptors()     \n",
    "    df = pd.read_csv(path_original)\n",
    "    rdkit_features_not_std = featurizer.featurize(df[\"smiles\"])\n",
    "    remove_nan = ~((np.isnan(rdkit_features_not_std)).any(axis=1))\n",
    "    rdkit_features_not_std = rdkit_features_not_std[remove_nan]\n",
    "    df_output = df[remove_nan] \n",
    "    comps_droped = len(df) - len(rdkit_features_not_std)\n",
    "    print(\"problematic compounds droped:\",comps_droped)\n",
    "    rdkit_features_not_std_max = rdkit_features_not_std.max(axis=0,keepdims=True)\n",
    "    rdkit_features_not_std_min = rdkit_features_not_std.min(axis=0,keepdims=True)\n",
    "    rdkit_features = (rdkit_features_not_std - rdkit_features_not_std_min) / (rdkit_features_not_std_max - rdkit_features_not_std_min)\n",
    "    # ESTO ES UNA INCOSISTENCIA BRUTAL PORQUE VAN A HABER DISTINTAS FEATURES EN CADA TARGET...\n",
    "    rdkit_features = rdkit_features[:,(~np.isnan(rdkit_features)).all(axis=0)]\n",
    "    \n",
    "    np.save(os.path.join(output_path,(name+\"features_rdkit.npy\")),rdkit_features)\n",
    "    df_output.to_csv(os.path.join(output_path,(name+\"features_rdkit.csv\")),index=False)\n"
   ]
  },
  {
   "cell_type": "code",
   "execution_count": 4,
   "metadata": {},
   "outputs": [
    {
     "name": "stdout",
     "output_type": "stream",
     "text": [
      "problematic compounds droped: 4\n"
     ]
    },
    {
     "name": "stderr",
     "output_type": "stream",
     "text": [
      "/tmp/ipykernel_202250/1431919571.py:20: RuntimeWarning: invalid value encountered in true_divide\n",
      "  rdkit_features = (rdkit_features_not_std - rdkit_features_not_std_min) / (rdkit_features_not_std_max - rdkit_features_not_std_min)\n"
     ]
    }
   ],
   "source": [
    "add_column_feturized_json(\"/home/sjinich/disco/TrypanoDEEPscreen/.data/processed/CHEMBL262.csv\",\"/home/sjinich/disco/TrypanoDEEPscreen/.data/processed\")"
   ]
  },
  {
   "cell_type": "code",
   "execution_count": 5,
   "metadata": {},
   "outputs": [
    {
     "name": "stdout",
     "output_type": "stream",
     "text": [
      "problematic compounds droped: 0\n"
     ]
    },
    {
     "name": "stderr",
     "output_type": "stream",
     "text": [
      "/tmp/ipykernel_202250/1431919571.py:20: RuntimeWarning: invalid value encountered in true_divide\n",
      "  rdkit_features = (rdkit_features_not_std - rdkit_features_not_std_min) / (rdkit_features_not_std_max - rdkit_features_not_std_min)\n"
     ]
    }
   ],
   "source": [
    "add_column_feturized_json(\"/home/sjinich/disco/TrypanoDEEPscreen/.data/processed/CHEMBL4657.csv\",\"/home/sjinich/disco/TrypanoDEEPscreen/.data/processed\")"
   ]
  },
  {
   "cell_type": "code",
   "execution_count": 12,
   "metadata": {},
   "outputs": [
    {
     "name": "stdout",
     "output_type": "stream",
     "text": [
      "problematic compounds droped: 1\n"
     ]
    },
    {
     "name": "stderr",
     "output_type": "stream",
     "text": [
      "/tmp/ipykernel_202250/1431919571.py:20: RuntimeWarning: invalid value encountered in true_divide\n",
      "  rdkit_features = (rdkit_features_not_std - rdkit_features_not_std_min) / (rdkit_features_not_std_max - rdkit_features_not_std_min)\n"
     ]
    }
   ],
   "source": [
    "add_column_feturized_json(\"/home/sjinich/disco/TrypanoDEEPscreen/.data/processed/CHEMBL4072.csv\",\"/home/sjinich/disco/TrypanoDEEPscreen/.data/processed\")"
   ]
  },
  {
   "cell_type": "code",
   "execution_count": 13,
   "metadata": {},
   "outputs": [
    {
     "name": "stdout",
     "output_type": "stream",
     "text": [
      "problematic compounds droped: 0\n"
     ]
    },
    {
     "name": "stderr",
     "output_type": "stream",
     "text": [
      "/tmp/ipykernel_202250/1431919571.py:20: RuntimeWarning: invalid value encountered in true_divide\n",
      "  rdkit_features = (rdkit_features_not_std - rdkit_features_not_std_min) / (rdkit_features_not_std_max - rdkit_features_not_std_min)\n"
     ]
    }
   ],
   "source": [
    "add_column_feturized_json(\"/home/sjinich/disco/TrypanoDEEPscreen/.data/processed/CHEMBL2850.csv\",\"/home/sjinich/disco/TrypanoDEEPscreen/.data/processed\")"
   ]
  },
  {
   "cell_type": "markdown",
   "metadata": {},
   "source": [
    "trials de splting"
   ]
  },
  {
   "cell_type": "code",
   "execution_count": 1,
   "metadata": {},
   "outputs": [],
   "source": [
    "import numpy as np\n",
    "import pandas as pd\n",
    "\n",
    "data = pd.read_csv(\"/home/sjinich/disco/TrypanoDEEPscreen/.data/processed/CHEMBL2850features_rdkit.csv\")\n",
    "features = np.load(\"/home/sjinich/disco/TrypanoDEEPscreen/.data/processed/CHEMBL2850features_rdkit.npy\")"
   ]
  },
  {
   "cell_type": "code",
   "execution_count": 6,
   "metadata": {},
   "outputs": [
    {
     "data": {
      "text/plain": [
       "193"
      ]
     },
     "execution_count": 6,
     "metadata": {},
     "output_type": "execute_result"
    }
   ],
   "source": [
    "len(features[0])"
   ]
  },
  {
   "cell_type": "code",
   "execution_count": 3,
   "metadata": {},
   "outputs": [],
   "source": [
    "features_1 = np.load(\"/home/sjinich/disco/TrypanoDEEPscreen/.data/processed/CHEMBL262features_rdkit.npy\")"
   ]
  },
  {
   "cell_type": "code",
   "execution_count": 5,
   "metadata": {},
   "outputs": [
    {
     "data": {
      "text/plain": [
       "198"
      ]
     },
     "execution_count": 5,
     "metadata": {},
     "output_type": "execute_result"
    }
   ],
   "source": [
    "len(features_1[0])"
   ]
  },
  {
   "cell_type": "code",
   "execution_count": 7,
   "metadata": {},
   "outputs": [],
   "source": [
    "features_2 = np.load(\"/home/sjinich/disco/TrypanoDEEPscreen/.data/processed/CHEMBL4072features_rdkit.npy\")"
   ]
  },
  {
   "cell_type": "code",
   "execution_count": 8,
   "metadata": {},
   "outputs": [
    {
     "data": {
      "text/plain": [
       "195"
      ]
     },
     "execution_count": 8,
     "metadata": {},
     "output_type": "execute_result"
    }
   ],
   "source": [
    "len(features_2[0])"
   ]
  }
 ],
 "metadata": {
  "kernelspec": {
   "display_name": "Python 3",
   "language": "python",
   "name": "python3"
  },
  "language_info": {
   "codemirror_mode": {
    "name": "ipython",
    "version": 3
   },
   "file_extension": ".py",
   "mimetype": "text/x-python",
   "name": "python",
   "nbconvert_exporter": "python",
   "pygments_lexer": "ipython3",
   "version": "3.8.undefined"
  }
 },
 "nbformat": 4,
 "nbformat_minor": 2
}
