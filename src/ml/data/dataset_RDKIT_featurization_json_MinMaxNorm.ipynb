{
 "cells": [
  {
   "cell_type": "markdown",
   "metadata": {},
   "source": [
    "## feauterization\n",
    "\n",
    "Lo que hago es feauterizo, normalizo y despues lo mando como un json para poder hacerlo csv y despues importarlo facil\n",
    "\n",
    "\n",
    "### Como es la normalizacion que estoy usando?\n",
    "\n",
    "Bueno lo que hago es hacer que todos las features sean normalizadas entre 0 1, para que despues durante el entrenamiento cuando se concatene al output de las convoluciones se escale a sus respectivos maximos y minimos, de cada compuesto.\n",
    "\n",
    "Esta idea la saco de como funciona el minmax scaleing\n",
    "https://scikit-learn.org/stable/modules/generated/sklearn.preprocessing.MinMaxScaler.html\n",
    "\n",
    "```python\n",
    "X_std = (X - X.min(axis=0)) / (X.max(axis=0) - X.min(axis=0)) # esto lo hago afuera, pq siempre es lo mismo para cada vez que se usa el vector de features\n",
    "X_scaled = X_std * (max - min) + min # este es el paso que hago adentro de la red, en base a cada output de las covoluciones\n",
    "```\n",
    "\n",
    "Se hace en dos pasos, ese Scaleing: primero se genera que todo el vector este entre 01 y despues se le improntan los maximos y minimos de los outputs de las convolucinoes."
   ]
  },
  {
   "cell_type": "code",
   "execution_count": 3,
   "metadata": {},
   "outputs": [],
   "source": [
    "from deepchem.feat import RDKitDescriptors\n",
    "import pandas as pd\n",
    "import numpy as np\n",
    "import json\n",
    "import os\n",
    "\n",
    "def add_column_feturized_json(path_original,output_path):\n",
    "    namefile = path_original.split(\"/\")[-1]\n",
    "    name = namefile[:namefile.find(\".csv\")]\n",
    "    featurizer = RDKitDescriptors()     \n",
    "    df = pd.read_csv(path_original)\n",
    "    rdkit_features_not_std = featurizer.featurize(df[\"smiles\"])\n",
    "    remove_nan = ~((np.isnan(rdkit_features_not_std)).any(axis=1))\n",
    "    rdkit_features_not_std = rdkit_features_not_std[remove_nan]\n",
    "    df_output = df[remove_nan] \n",
    "    comps_droped = len(df) - len(rdkit_features_not_std)\n",
    "    print(\"problematic compounds droped:\",comps_droped)\n",
    "    rdkit_features_not_std_max = rdkit_features_not_std.max(axis=0,keepdims=True)\n",
    "    rdkit_features_not_std_min = rdkit_features_not_std.min(axis=0,keepdims=True)\n",
    "    rdkit_features = (rdkit_features_not_std - rdkit_features_not_std_min) / (rdkit_features_not_std_max - rdkit_features_not_std_min)\n",
    "    # ESTO ES UNA INCOSISTENCIA BRUTAL PORQUE VAN A HABER DISTINTAS FEATURES EN CADA TARGET...\n",
    "    rdkit_features = rdkit_features[:,(~np.isnan(rdkit_features)).all(axis=0)]\n",
    "    \n",
    "    np.save(os.path.join(output_path,(name+\"features_rdkit.npy\")),rdkit_features)\n",
    "    df_output.to_csv(os.path.join(output_path,(name+\"features_rdkit.csv\")),index=False)\n"
   ]
  },
  {
   "cell_type": "code",
   "execution_count": 4,
   "metadata": {},
   "outputs": [
    {
     "name": "stdout",
     "output_type": "stream",
     "text": [
      "problematic compounds droped: 4\n"
     ]
    },
    {
     "name": "stderr",
     "output_type": "stream",
     "text": [
      "/tmp/ipykernel_202250/1431919571.py:20: RuntimeWarning: invalid value encountered in true_divide\n",
      "  rdkit_features = (rdkit_features_not_std - rdkit_features_not_std_min) / (rdkit_features_not_std_max - rdkit_features_not_std_min)\n"
     ]
    }
   ],
   "source": [
    "add_column_feturized_json(\"/home/sjinich/disco/TrypanoDEEPscreen/.data/processed/CHEMBL262.csv\",\"/home/sjinich/disco/TrypanoDEEPscreen/.data/processed\")"
   ]
  },
  {
   "cell_type": "code",
   "execution_count": 5,
   "metadata": {},
   "outputs": [
    {
     "name": "stdout",
     "output_type": "stream",
     "text": [
      "problematic compounds droped: 0\n"
     ]
    },
    {
     "name": "stderr",
     "output_type": "stream",
     "text": [
      "/tmp/ipykernel_202250/1431919571.py:20: RuntimeWarning: invalid value encountered in true_divide\n",
      "  rdkit_features = (rdkit_features_not_std - rdkit_features_not_std_min) / (rdkit_features_not_std_max - rdkit_features_not_std_min)\n"
     ]
    }
   ],
   "source": [
    "add_column_feturized_json(\"/home/sjinich/disco/TrypanoDEEPscreen/.data/processed/CHEMBL4657.csv\",\"/home/sjinich/disco/TrypanoDEEPscreen/.data/processed\")"
   ]
  },
  {
   "cell_type": "code",
   "execution_count": 12,
   "metadata": {},
   "outputs": [
    {
     "name": "stdout",
     "output_type": "stream",
     "text": [
      "problematic compounds droped: 1\n"
     ]
    },
    {
     "name": "stderr",
     "output_type": "stream",
     "text": [
      "/tmp/ipykernel_202250/1431919571.py:20: RuntimeWarning: invalid value encountered in true_divide\n",
      "  rdkit_features = (rdkit_features_not_std - rdkit_features_not_std_min) / (rdkit_features_not_std_max - rdkit_features_not_std_min)\n"
     ]
    }
   ],
   "source": [
    "add_column_feturized_json(\"/home/sjinich/disco/TrypanoDEEPscreen/.data/processed/CHEMBL4072.csv\",\"/home/sjinich/disco/TrypanoDEEPscreen/.data/processed\")"
   ]
  },
  {
   "cell_type": "code",
   "execution_count": 13,
   "metadata": {},
   "outputs": [
    {
     "name": "stdout",
     "output_type": "stream",
     "text": [
      "problematic compounds droped: 0\n"
     ]
    },
    {
     "name": "stderr",
     "output_type": "stream",
     "text": [
      "/tmp/ipykernel_202250/1431919571.py:20: RuntimeWarning: invalid value encountered in true_divide\n",
      "  rdkit_features = (rdkit_features_not_std - rdkit_features_not_std_min) / (rdkit_features_not_std_max - rdkit_features_not_std_min)\n"
     ]
    }
   ],
   "source": [
    "add_column_feturized_json(\"/home/sjinich/disco/TrypanoDEEPscreen/.data/processed/CHEMBL2850.csv\",\"/home/sjinich/disco/TrypanoDEEPscreen/.data/processed\")"
   ]
  },
  {
   "cell_type": "markdown",
   "metadata": {},
   "source": [
    "trials de splting"
   ]
  },
  {
   "cell_type": "code",
   "execution_count": 1,
   "metadata": {},
   "outputs": [],
   "source": [
    "import numpy as np\n",
    "import pandas as pd\n",
    "\n",
    "data = pd.read_csv(\"/home/sjinich/disco/TrypanoDEEPscreen/.data/processed/CHEMBL2850features_rdkit.csv\")\n",
    "features = np.load(\"/home/sjinich/disco/TrypanoDEEPscreen/.data/processed/CHEMBL2850features_rdkit.npy\")"
   ]
  },
  {
   "cell_type": "code",
   "execution_count": 5,
   "metadata": {},
   "outputs": [
    {
     "data": {
      "text/html": [
       "<div>\n",
       "<style scoped>\n",
       "    .dataframe tbody tr th:only-of-type {\n",
       "        vertical-align: middle;\n",
       "    }\n",
       "\n",
       "    .dataframe tbody tr th {\n",
       "        vertical-align: top;\n",
       "    }\n",
       "\n",
       "    .dataframe thead th {\n",
       "        text-align: right;\n",
       "    }\n",
       "</style>\n",
       "<table border=\"1\" class=\"dataframe\">\n",
       "  <thead>\n",
       "    <tr style=\"text-align: right;\">\n",
       "      <th></th>\n",
       "      <th>comp_id</th>\n",
       "      <th>bioactivity</th>\n",
       "      <th>data_split</th>\n",
       "      <th>smiles</th>\n",
       "    </tr>\n",
       "  </thead>\n",
       "  <tbody>\n",
       "    <tr>\n",
       "      <th>0</th>\n",
       "      <td>CHEMBL101747</td>\n",
       "      <td>1</td>\n",
       "      <td>test</td>\n",
       "      <td>CCN1CCC(CC(=O)Nc2n[nH]c3nc(-c4cccs4)c(Br)cc23)CC1</td>\n",
       "    </tr>\n",
       "    <tr>\n",
       "      <th>1</th>\n",
       "      <td>CHEMBL101804</td>\n",
       "      <td>1</td>\n",
       "      <td>train</td>\n",
       "      <td>O=C(Nc1n[nH]c2nc(-c3ccco3)ccc12)C1CC1</td>\n",
       "    </tr>\n",
       "    <tr>\n",
       "      <th>2</th>\n",
       "      <td>CHEMBL102714</td>\n",
       "      <td>1</td>\n",
       "      <td>train</td>\n",
       "      <td>Cn1cc(C2=C(c3ccc(Cl)cc3Cl)C(=O)NC2=O)c2ccccc21</td>\n",
       "    </tr>\n",
       "    <tr>\n",
       "      <th>3</th>\n",
       "      <td>CHEMBL1078178</td>\n",
       "      <td>0</td>\n",
       "      <td>test</td>\n",
       "      <td>N#CCNC(=O)c1ccc(-c2ccnc(Nc3ccc(N4CCOCC4)cc3)n2...</td>\n",
       "    </tr>\n",
       "    <tr>\n",
       "      <th>4</th>\n",
       "      <td>CHEMBL1079175</td>\n",
       "      <td>0</td>\n",
       "      <td>test</td>\n",
       "      <td>NC1(c2ccc(-c3nc4ccn5c(=O)[nH]nc5c4cc3-c3ccccc3...</td>\n",
       "    </tr>\n",
       "    <tr>\n",
       "      <th>...</th>\n",
       "      <td>...</td>\n",
       "      <td>...</td>\n",
       "      <td>...</td>\n",
       "      <td>...</td>\n",
       "    </tr>\n",
       "    <tr>\n",
       "      <th>696</th>\n",
       "      <td>CHEMBL607707</td>\n",
       "      <td>0</td>\n",
       "      <td>train</td>\n",
       "      <td>CCOc1cc2ncc(C#N)c(Nc3ccc(F)c(Cl)c3)c2cc1NC(=O)...</td>\n",
       "    </tr>\n",
       "    <tr>\n",
       "      <th>697</th>\n",
       "      <td>CHEMBL608533</td>\n",
       "      <td>1</td>\n",
       "      <td>train</td>\n",
       "      <td>CO[C@@H]1[C@H](N(C)C(=O)c2ccccc2)C[C@H]2O[C@]1...</td>\n",
       "    </tr>\n",
       "    <tr>\n",
       "      <th>698</th>\n",
       "      <td>CHEMBL63803</td>\n",
       "      <td>1</td>\n",
       "      <td>train</td>\n",
       "      <td>COc1cc(/C=N/Nc2ncnc3c2cnn3-c2ccccc2)ccc1O</td>\n",
       "    </tr>\n",
       "    <tr>\n",
       "      <th>699</th>\n",
       "      <td>CHEMBL75680</td>\n",
       "      <td>1</td>\n",
       "      <td>train</td>\n",
       "      <td>CCCCc1c(-c2ccc(O)cc2)[nH]c2nccnc12</td>\n",
       "    </tr>\n",
       "    <tr>\n",
       "      <th>700</th>\n",
       "      <td>CHEMBL91829</td>\n",
       "      <td>1</td>\n",
       "      <td>train</td>\n",
       "      <td>CN(C)C[C@@H]1CCn2cc(c3ccccc32)C2=C(C(=O)NC2=O)...</td>\n",
       "    </tr>\n",
       "  </tbody>\n",
       "</table>\n",
       "<p>701 rows × 4 columns</p>\n",
       "</div>"
      ],
      "text/plain": [
       "           comp_id  bioactivity data_split  \\\n",
       "0     CHEMBL101747            1       test   \n",
       "1     CHEMBL101804            1      train   \n",
       "2     CHEMBL102714            1      train   \n",
       "3    CHEMBL1078178            0       test   \n",
       "4    CHEMBL1079175            0       test   \n",
       "..             ...          ...        ...   \n",
       "696   CHEMBL607707            0      train   \n",
       "697   CHEMBL608533            1      train   \n",
       "698    CHEMBL63803            1      train   \n",
       "699    CHEMBL75680            1      train   \n",
       "700    CHEMBL91829            1      train   \n",
       "\n",
       "                                                smiles  \n",
       "0    CCN1CCC(CC(=O)Nc2n[nH]c3nc(-c4cccs4)c(Br)cc23)CC1  \n",
       "1                O=C(Nc1n[nH]c2nc(-c3ccco3)ccc12)C1CC1  \n",
       "2       Cn1cc(C2=C(c3ccc(Cl)cc3Cl)C(=O)NC2=O)c2ccccc21  \n",
       "3    N#CCNC(=O)c1ccc(-c2ccnc(Nc3ccc(N4CCOCC4)cc3)n2...  \n",
       "4    NC1(c2ccc(-c3nc4ccn5c(=O)[nH]nc5c4cc3-c3ccccc3...  \n",
       "..                                                 ...  \n",
       "696  CCOc1cc2ncc(C#N)c(Nc3ccc(F)c(Cl)c3)c2cc1NC(=O)...  \n",
       "697  CO[C@@H]1[C@H](N(C)C(=O)c2ccccc2)C[C@H]2O[C@]1...  \n",
       "698          COc1cc(/C=N/Nc2ncnc3c2cnn3-c2ccccc2)ccc1O  \n",
       "699                 CCCCc1c(-c2ccc(O)cc2)[nH]c2nccnc12  \n",
       "700  CN(C)C[C@@H]1CCn2cc(c3ccccc32)C2=C(C(=O)NC2=O)...  \n",
       "\n",
       "[701 rows x 4 columns]"
      ]
     },
     "execution_count": 5,
     "metadata": {},
     "output_type": "execute_result"
    }
   ],
   "source": [
    "data"
   ]
  },
  {
   "cell_type": "code",
   "execution_count": 11,
   "metadata": {},
   "outputs": [
    {
     "data": {
      "text/html": [
       "<div>\n",
       "<style scoped>\n",
       "    .dataframe tbody tr th:only-of-type {\n",
       "        vertical-align: middle;\n",
       "    }\n",
       "\n",
       "    .dataframe tbody tr th {\n",
       "        vertical-align: top;\n",
       "    }\n",
       "\n",
       "    .dataframe thead th {\n",
       "        text-align: right;\n",
       "    }\n",
       "</style>\n",
       "<table border=\"1\" class=\"dataframe\">\n",
       "  <thead>\n",
       "    <tr style=\"text-align: right;\">\n",
       "      <th></th>\n",
       "      <th>comp_id</th>\n",
       "      <th>bioactivity</th>\n",
       "      <th>data_split</th>\n",
       "      <th>smiles</th>\n",
       "    </tr>\n",
       "  </thead>\n",
       "  <tbody>\n",
       "    <tr>\n",
       "      <th>1</th>\n",
       "      <td>CHEMBL101804</td>\n",
       "      <td>1</td>\n",
       "      <td>train</td>\n",
       "      <td>O=C(Nc1n[nH]c2nc(-c3ccco3)ccc12)C1CC1</td>\n",
       "    </tr>\n",
       "    <tr>\n",
       "      <th>2</th>\n",
       "      <td>CHEMBL102714</td>\n",
       "      <td>1</td>\n",
       "      <td>train</td>\n",
       "      <td>Cn1cc(C2=C(c3ccc(Cl)cc3Cl)C(=O)NC2=O)c2ccccc21</td>\n",
       "    </tr>\n",
       "    <tr>\n",
       "      <th>5</th>\n",
       "      <td>CHEMBL1080901</td>\n",
       "      <td>1</td>\n",
       "      <td>train</td>\n",
       "      <td>Nc1nc(NCCNc2ncc(-c3ncc[nH]3)c(-c3ccc(Cl)cc3Cl)...</td>\n",
       "    </tr>\n",
       "    <tr>\n",
       "      <th>6</th>\n",
       "      <td>CHEMBL1082152</td>\n",
       "      <td>1</td>\n",
       "      <td>train</td>\n",
       "      <td>Cn1cc(C2=C(c3cccc(NCC(O)CO)c3)C(=O)NC2=O)c2cc(...</td>\n",
       "    </tr>\n",
       "    <tr>\n",
       "      <th>17</th>\n",
       "      <td>CHEMBL1201182</td>\n",
       "      <td>0</td>\n",
       "      <td>train</td>\n",
       "      <td>CO[C@H]1C[C@@H]2CC[C@@H](C)[C@@](O)(O2)C(=O)C(...</td>\n",
       "    </tr>\n",
       "    <tr>\n",
       "      <th>...</th>\n",
       "      <td>...</td>\n",
       "      <td>...</td>\n",
       "      <td>...</td>\n",
       "      <td>...</td>\n",
       "    </tr>\n",
       "    <tr>\n",
       "      <th>696</th>\n",
       "      <td>CHEMBL607707</td>\n",
       "      <td>0</td>\n",
       "      <td>train</td>\n",
       "      <td>CCOc1cc2ncc(C#N)c(Nc3ccc(F)c(Cl)c3)c2cc1NC(=O)...</td>\n",
       "    </tr>\n",
       "    <tr>\n",
       "      <th>697</th>\n",
       "      <td>CHEMBL608533</td>\n",
       "      <td>1</td>\n",
       "      <td>train</td>\n",
       "      <td>CO[C@@H]1[C@H](N(C)C(=O)c2ccccc2)C[C@H]2O[C@]1...</td>\n",
       "    </tr>\n",
       "    <tr>\n",
       "      <th>698</th>\n",
       "      <td>CHEMBL63803</td>\n",
       "      <td>1</td>\n",
       "      <td>train</td>\n",
       "      <td>COc1cc(/C=N/Nc2ncnc3c2cnn3-c2ccccc2)ccc1O</td>\n",
       "    </tr>\n",
       "    <tr>\n",
       "      <th>699</th>\n",
       "      <td>CHEMBL75680</td>\n",
       "      <td>1</td>\n",
       "      <td>train</td>\n",
       "      <td>CCCCc1c(-c2ccc(O)cc2)[nH]c2nccnc12</td>\n",
       "    </tr>\n",
       "    <tr>\n",
       "      <th>700</th>\n",
       "      <td>CHEMBL91829</td>\n",
       "      <td>1</td>\n",
       "      <td>train</td>\n",
       "      <td>CN(C)C[C@@H]1CCn2cc(c3ccccc32)C2=C(C(=O)NC2=O)...</td>\n",
       "    </tr>\n",
       "  </tbody>\n",
       "</table>\n",
       "<p>448 rows × 4 columns</p>\n",
       "</div>"
      ],
      "text/plain": [
       "           comp_id  bioactivity data_split  \\\n",
       "1     CHEMBL101804            1      train   \n",
       "2     CHEMBL102714            1      train   \n",
       "5    CHEMBL1080901            1      train   \n",
       "6    CHEMBL1082152            1      train   \n",
       "17   CHEMBL1201182            0      train   \n",
       "..             ...          ...        ...   \n",
       "696   CHEMBL607707            0      train   \n",
       "697   CHEMBL608533            1      train   \n",
       "698    CHEMBL63803            1      train   \n",
       "699    CHEMBL75680            1      train   \n",
       "700    CHEMBL91829            1      train   \n",
       "\n",
       "                                                smiles  \n",
       "1                O=C(Nc1n[nH]c2nc(-c3ccco3)ccc12)C1CC1  \n",
       "2       Cn1cc(C2=C(c3ccc(Cl)cc3Cl)C(=O)NC2=O)c2ccccc21  \n",
       "5    Nc1nc(NCCNc2ncc(-c3ncc[nH]3)c(-c3ccc(Cl)cc3Cl)...  \n",
       "6    Cn1cc(C2=C(c3cccc(NCC(O)CO)c3)C(=O)NC2=O)c2cc(...  \n",
       "17   CO[C@H]1C[C@@H]2CC[C@@H](C)[C@@](O)(O2)C(=O)C(...  \n",
       "..                                                 ...  \n",
       "696  CCOc1cc2ncc(C#N)c(Nc3ccc(F)c(Cl)c3)c2cc1NC(=O)...  \n",
       "697  CO[C@@H]1[C@H](N(C)C(=O)c2ccccc2)C[C@H]2O[C@]1...  \n",
       "698          COc1cc(/C=N/Nc2ncnc3c2cnn3-c2ccccc2)ccc1O  \n",
       "699                 CCCCc1c(-c2ccc(O)cc2)[nH]c2nccnc12  \n",
       "700  CN(C)C[C@@H]1CCn2cc(c3ccccc32)C2=C(C(=O)NC2=O)...  \n",
       "\n",
       "[448 rows x 4 columns]"
      ]
     },
     "execution_count": 11,
     "metadata": {},
     "output_type": "execute_result"
    }
   ],
   "source": [
    "data[data[\"data_split\"]==\"train\"]"
   ]
  },
  {
   "cell_type": "code",
   "execution_count": 10,
   "metadata": {},
   "outputs": [
    {
     "data": {
      "text/plain": [
       "448"
      ]
     },
     "execution_count": 10,
     "metadata": {},
     "output_type": "execute_result"
    }
   ],
   "source": [
    "len(features[data[\"data_split\"]==\"train\"])"
   ]
  },
  {
   "cell_type": "code",
   "execution_count": 4,
   "metadata": {},
   "outputs": [
    {
     "data": {
      "text/plain": [
       "701"
      ]
     },
     "execution_count": 4,
     "metadata": {},
     "output_type": "execute_result"
    }
   ],
   "source": [
    "len(features)"
   ]
  },
  {
   "cell_type": "code",
   "execution_count": 14,
   "metadata": {},
   "outputs": [
    {
     "data": {
      "text/plain": [
       "193"
      ]
     },
     "execution_count": 14,
     "metadata": {},
     "output_type": "execute_result"
    }
   ],
   "source": [
    "len(features[0])"
   ]
  }
 ],
 "metadata": {
  "kernelspec": {
   "display_name": "Python 3",
   "language": "python",
   "name": "python3"
  },
  "language_info": {
   "codemirror_mode": {
    "name": "ipython",
    "version": 3
   },
   "file_extension": ".py",
   "mimetype": "text/x-python",
   "name": "python",
   "nbconvert_exporter": "python",
   "pygments_lexer": "ipython3",
   "version": "3.8.8"
  }
 },
 "nbformat": 4,
 "nbformat_minor": 2
}
