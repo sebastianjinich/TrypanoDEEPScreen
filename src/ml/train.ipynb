{
 "cells": [
  {
   "cell_type": "code",
   "execution_count": 1,
   "metadata": {},
   "outputs": [
    {
     "name": "stderr",
     "output_type": "stream",
     "text": [
      "/home/sjinich/disco/che_env/lib/python3.8/site-packages/tqdm/auto.py:21: TqdmWarning: IProgress not found. Please update jupyter and ipywidgets. See https://ipywidgets.readthedocs.io/en/stable/user_install.html\n",
      "  from .autonotebook import tqdm as notebook_tqdm\n"
     ]
    }
   ],
   "source": [
    "from datasets.datamodule import DEEPscreenDataModule\n",
    "from engine.system import DEEPScreenClassifier\n",
    "from lightning import Trainer\n",
    "from lightning.pytorch.callbacks import ModelCheckpoint\n",
    "import pandas as pd"
   ]
  },
  {
   "cell_type": "code",
   "execution_count": 2,
   "metadata": {},
   "outputs": [],
   "source": [
    "data = pd.read_csv(\"../../.data/processed/CHEMBL2581.csv\")"
   ]
  },
  {
   "cell_type": "code",
   "execution_count": 3,
   "metadata": {},
   "outputs": [
    {
     "data": {
      "text/html": [
       "<div>\n",
       "<style scoped>\n",
       "    .dataframe tbody tr th:only-of-type {\n",
       "        vertical-align: middle;\n",
       "    }\n",
       "\n",
       "    .dataframe tbody tr th {\n",
       "        vertical-align: top;\n",
       "    }\n",
       "\n",
       "    .dataframe thead th {\n",
       "        text-align: right;\n",
       "    }\n",
       "</style>\n",
       "<table border=\"1\" class=\"dataframe\">\n",
       "  <thead>\n",
       "    <tr style=\"text-align: right;\">\n",
       "      <th></th>\n",
       "      <th>comp_id</th>\n",
       "      <th>CHEMBL2581</th>\n",
       "      <th>data_split</th>\n",
       "      <th>smiles</th>\n",
       "    </tr>\n",
       "  </thead>\n",
       "  <tbody>\n",
       "    <tr>\n",
       "      <th>0</th>\n",
       "      <td>CHEMBL104783</td>\n",
       "      <td>1</td>\n",
       "      <td>validation</td>\n",
       "      <td>COc1ccc(CN[C@@H](C(=O)N[C@H](C(=O)NCc2ccccc2)C...</td>\n",
       "    </tr>\n",
       "    <tr>\n",
       "      <th>1</th>\n",
       "      <td>CHEMBL104966</td>\n",
       "      <td>1</td>\n",
       "      <td>validation</td>\n",
       "      <td>CC(C)[C@H](NC(=O)[C@H](NCc1ccccc1)[C@H](O)[C@H...</td>\n",
       "    </tr>\n",
       "    <tr>\n",
       "      <th>2</th>\n",
       "      <td>CHEMBL1076901</td>\n",
       "      <td>1</td>\n",
       "      <td>train</td>\n",
       "      <td>CC(C)[C@H](NC(=O)[C@H](C)C[C@H](O)[C@H](COCc1c...</td>\n",
       "    </tr>\n",
       "    <tr>\n",
       "      <th>3</th>\n",
       "      <td>CHEMBL1076902</td>\n",
       "      <td>1</td>\n",
       "      <td>train</td>\n",
       "      <td>CC(C)[C@H](NC(=O)[C@H](C)C[C@H](O)[C@H](COCc1c...</td>\n",
       "    </tr>\n",
       "    <tr>\n",
       "      <th>4</th>\n",
       "      <td>CHEMBL1076905</td>\n",
       "      <td>1</td>\n",
       "      <td>train</td>\n",
       "      <td>CC(C)[C@H](NC(=O)[C@H](C)C[C@H](O)[C@H](COc1cc...</td>\n",
       "    </tr>\n",
       "    <tr>\n",
       "      <th>...</th>\n",
       "      <td>...</td>\n",
       "      <td>...</td>\n",
       "      <td>...</td>\n",
       "      <td>...</td>\n",
       "    </tr>\n",
       "    <tr>\n",
       "      <th>2265</th>\n",
       "      <td>CHEMBL96943</td>\n",
       "      <td>1</td>\n",
       "      <td>validation</td>\n",
       "      <td>C=CC1C=CC=CC1/C=C/OCC(=O)NC(C(=O)NC(Cc1ccccc1)...</td>\n",
       "    </tr>\n",
       "    <tr>\n",
       "      <th>2266</th>\n",
       "      <td>CHEMBL97013</td>\n",
       "      <td>1</td>\n",
       "      <td>train</td>\n",
       "      <td>CCCCNC(=O)CC(O)C(CC(C)C)NC(=O)C(NC(=O)Cc1ccc2c...</td>\n",
       "    </tr>\n",
       "    <tr>\n",
       "      <th>2267</th>\n",
       "      <td>CHEMBL97072</td>\n",
       "      <td>1</td>\n",
       "      <td>validation</td>\n",
       "      <td>C=Cc1ccccc1/C=C/OCC(=O)NC(C(=O)NC(CC(C)C)C(O)C...</td>\n",
       "    </tr>\n",
       "    <tr>\n",
       "      <th>2268</th>\n",
       "      <td>CHEMBL97805</td>\n",
       "      <td>1</td>\n",
       "      <td>validation</td>\n",
       "      <td>CCCCNC(=O)CC(O)C(CC(C)C)NC(=O)C(NC(=O)Cc1cc(OC...</td>\n",
       "    </tr>\n",
       "    <tr>\n",
       "      <th>2269</th>\n",
       "      <td>CHEMBL98384</td>\n",
       "      <td>1</td>\n",
       "      <td>train</td>\n",
       "      <td>CCCCNC(=O)C[C@H](O)[C@H](Cc1ccccc1)NC(=O)[C@@H...</td>\n",
       "    </tr>\n",
       "  </tbody>\n",
       "</table>\n",
       "<p>2270 rows × 4 columns</p>\n",
       "</div>"
      ],
      "text/plain": [
       "            comp_id  CHEMBL2581  data_split  \\\n",
       "0      CHEMBL104783           1  validation   \n",
       "1      CHEMBL104966           1  validation   \n",
       "2     CHEMBL1076901           1       train   \n",
       "3     CHEMBL1076902           1       train   \n",
       "4     CHEMBL1076905           1       train   \n",
       "...             ...         ...         ...   \n",
       "2265    CHEMBL96943           1  validation   \n",
       "2266    CHEMBL97013           1       train   \n",
       "2267    CHEMBL97072           1  validation   \n",
       "2268    CHEMBL97805           1  validation   \n",
       "2269    CHEMBL98384           1       train   \n",
       "\n",
       "                                                 smiles  \n",
       "0     COc1ccc(CN[C@@H](C(=O)N[C@H](C(=O)NCc2ccccc2)C...  \n",
       "1     CC(C)[C@H](NC(=O)[C@H](NCc1ccccc1)[C@H](O)[C@H...  \n",
       "2     CC(C)[C@H](NC(=O)[C@H](C)C[C@H](O)[C@H](COCc1c...  \n",
       "3     CC(C)[C@H](NC(=O)[C@H](C)C[C@H](O)[C@H](COCc1c...  \n",
       "4     CC(C)[C@H](NC(=O)[C@H](C)C[C@H](O)[C@H](COc1cc...  \n",
       "...                                                 ...  \n",
       "2265  C=CC1C=CC=CC1/C=C/OCC(=O)NC(C(=O)NC(Cc1ccccc1)...  \n",
       "2266  CCCCNC(=O)CC(O)C(CC(C)C)NC(=O)C(NC(=O)Cc1ccc2c...  \n",
       "2267  C=Cc1ccccc1/C=C/OCC(=O)NC(C(=O)NC(CC(C)C)C(O)C...  \n",
       "2268  CCCCNC(=O)CC(O)C(CC(C)C)NC(=O)C(NC(=O)Cc1cc(OC...  \n",
       "2269  CCCCNC(=O)C[C@H](O)[C@H](Cc1ccccc1)NC(=O)[C@@H...  \n",
       "\n",
       "[2270 rows x 4 columns]"
      ]
     },
     "execution_count": 3,
     "metadata": {},
     "output_type": "execute_result"
    }
   ],
   "source": [
    "data"
   ]
  },
  {
   "cell_type": "code",
   "execution_count": 4,
   "metadata": {},
   "outputs": [],
   "source": [
    "%load_ext tensorboard"
   ]
  },
  {
   "cell_type": "code",
   "execution_count": 5,
   "metadata": {},
   "outputs": [
    {
     "name": "stderr",
     "output_type": "stream",
     "text": [
      "GPU available: False, used: False\n",
      "TPU available: False, using: 0 TPU cores\n"
     ]
    },
    {
     "name": "stderr",
     "output_type": "stream",
     "text": [
      "IPU available: False, using: 0 IPUs\n",
      "HPU available: False, using: 0 HPUs\n",
      "INFO: Using hyperparameters [('fully_layer_1', 256), ('fully_layer_2', 32), ('drop_rate', 0.5), ('learning_rate', 0.0001), ('batch_size', 32), ('experiment_result_path', '../../.experiments/chembl2581')]\n",
      "ERROR: invalid columns of df\n",
      "CRITICAL: Dataframe not valid dataframe must contain the following columns{'comp_id','smiles','bioactivity'}\n"
     ]
    },
    {
     "ename": "InvalidDataframeException",
     "evalue": "dataframe must contain the following columns{'comp_id','smiles','bioactivity'}",
     "output_type": "error",
     "traceback": [
      "\u001b[0;31m---------------------------------------------------------------------------\u001b[0m",
      "\u001b[0;31mInvalidDataframeException\u001b[0m                 Traceback (most recent call last)",
      "Cell \u001b[0;32mIn[5], line 3\u001b[0m\n\u001b[1;32m      1\u001b[0m trainer \u001b[38;5;241m=\u001b[39m Trainer(max_epochs\u001b[38;5;241m=\u001b[39m\u001b[38;5;241m100\u001b[39m)\n\u001b[1;32m      2\u001b[0m model \u001b[38;5;241m=\u001b[39m DEEPScreenClassifier(fully_layer_1\u001b[38;5;241m=\u001b[39m\u001b[38;5;241m256\u001b[39m,fully_layer_2\u001b[38;5;241m=\u001b[39m\u001b[38;5;241m32\u001b[39m,drop_rate\u001b[38;5;241m=\u001b[39m\u001b[38;5;241m0.5\u001b[39m,learning_rate\u001b[38;5;241m=\u001b[39m\u001b[38;5;241m0.0001\u001b[39m,batch_size\u001b[38;5;241m=\u001b[39m\u001b[38;5;241m32\u001b[39m,experiment_result_path\u001b[38;5;241m=\u001b[39m\u001b[38;5;124m\"\u001b[39m\u001b[38;5;124m../../.experiments/chembl2581\u001b[39m\u001b[38;5;124m\"\u001b[39m)\n\u001b[0;32m----> 3\u001b[0m datamodule \u001b[38;5;241m=\u001b[39m \u001b[43mDEEPscreenDataModule\u001b[49m\u001b[43m(\u001b[49m\u001b[43mdata\u001b[49m\u001b[38;5;241;43m=\u001b[39;49m\u001b[43mdata\u001b[49m\u001b[43m,\u001b[49m\u001b[43mtarget_id\u001b[49m\u001b[38;5;241;43m=\u001b[39;49m\u001b[38;5;124;43m\"\u001b[39;49m\u001b[38;5;124;43mCHEMBL2581\u001b[39;49m\u001b[38;5;124;43m\"\u001b[39;49m\u001b[43m,\u001b[49m\u001b[43mbatch_size\u001b[49m\u001b[38;5;241;43m=\u001b[39;49m\u001b[38;5;241;43m32\u001b[39;49m\u001b[43m,\u001b[49m\u001b[43mexperiment_result_path\u001b[49m\u001b[38;5;241;43m=\u001b[39;49m\u001b[38;5;124;43m\"\u001b[39;49m\u001b[38;5;124;43m../../.experiments/chembl2581\u001b[39;49m\u001b[38;5;124;43m\"\u001b[39;49m\u001b[43m,\u001b[49m\u001b[43mdata_split_mode\u001b[49m\u001b[38;5;241;43m=\u001b[39;49m\u001b[38;5;124;43m\"\u001b[39;49m\u001b[38;5;124;43mnon_random_split\u001b[39;49m\u001b[38;5;124;43m\"\u001b[39;49m\u001b[43m,\u001b[49m\u001b[43mtmp_imgs\u001b[49m\u001b[38;5;241;43m=\u001b[39;49m\u001b[38;5;28;43;01mTrue\u001b[39;49;00m\u001b[43m)\u001b[49m\n\u001b[1;32m      4\u001b[0m trainer\u001b[38;5;241m.\u001b[39mfit(model,datamodule\u001b[38;5;241m=\u001b[39mdatamodule)\n",
      "File \u001b[0;32m/big/lab/sjinich/TrypanoDEEPscreen/src/ml/datasets/datamodule.py:39\u001b[0m, in \u001b[0;36mDEEPscreenDataModule.__init__\u001b[0;34m(self, data, target_id, batch_size, experiment_result_path, data_split_mode, tmp_imgs)\u001b[0m\n\u001b[1;32m     37\u001b[0m \u001b[38;5;28;01mif\u001b[39;00m \u001b[38;5;129;01mnot\u001b[39;00m {\u001b[38;5;124m\"\u001b[39m\u001b[38;5;124mcomp_id\u001b[39m\u001b[38;5;124m\"\u001b[39m,\u001b[38;5;124m\"\u001b[39m\u001b[38;5;124msmiles\u001b[39m\u001b[38;5;124m\"\u001b[39m,\u001b[38;5;124m\"\u001b[39m\u001b[38;5;124mbioactivity\u001b[39m\u001b[38;5;124m\"\u001b[39m}\u001b[38;5;241m.\u001b[39missubset(\u001b[38;5;28mset\u001b[39m(\u001b[38;5;28mself\u001b[39m\u001b[38;5;241m.\u001b[39mdata\u001b[38;5;241m.\u001b[39mcolumns)):\n\u001b[1;32m     38\u001b[0m     logger\u001b[38;5;241m.\u001b[39merror(\u001b[38;5;124m\"\u001b[39m\u001b[38;5;124minvalid columns of df\u001b[39m\u001b[38;5;124m\"\u001b[39m)\n\u001b[0;32m---> 39\u001b[0m     \u001b[38;5;28;01mraise\u001b[39;00m InvalidDataframeException(\u001b[38;5;124m\"\u001b[39m\u001b[38;5;124mdataframe must contain the following columns\u001b[39m\u001b[38;5;124m{\u001b[39m\u001b[38;5;124m'\u001b[39m\u001b[38;5;124mcomp_id\u001b[39m\u001b[38;5;124m'\u001b[39m\u001b[38;5;124m,\u001b[39m\u001b[38;5;124m'\u001b[39m\u001b[38;5;124msmiles\u001b[39m\u001b[38;5;124m'\u001b[39m\u001b[38;5;124m,\u001b[39m\u001b[38;5;124m'\u001b[39m\u001b[38;5;124mbioactivity\u001b[39m\u001b[38;5;124m'\u001b[39m\u001b[38;5;124m}\u001b[39m\u001b[38;5;124m\"\u001b[39m)\n",
      "\u001b[0;31mInvalidDataframeException\u001b[0m: dataframe must contain the following columns{'comp_id','smiles','bioactivity'}"
     ]
    }
   ],
   "source": [
    "trainer = Trainer(max_epochs=100)\n",
    "model = DEEPScreenClassifier(fully_layer_1=256,fully_layer_2=32,drop_rate=0.5,learning_rate=0.0001,batch_size=32,experiment_result_path=\"../../.experiments/chembl2581\")\n",
    "datamodule = DEEPscreenDataModule(data=data,target_id=\"CHEMBL2581\",batch_size=32,experiment_result_path=\"../../.experiments/chembl2581\",data_split_mode=\"non_random_split\",tmp_imgs=True)\n",
    "trainer.fit(model,datamodule=datamodule)\n"
   ]
  }
 ],
 "metadata": {
  "kernelspec": {
   "display_name": "Python 3",
   "language": "python",
   "name": "python3"
  },
  "language_info": {
   "codemirror_mode": {
    "name": "ipython",
    "version": 3
   },
   "file_extension": ".py",
   "mimetype": "text/x-python",
   "name": "python",
   "nbconvert_exporter": "python",
   "pygments_lexer": "ipython3",
   "version": "3.8.8"
  }
 },
 "nbformat": 4,
 "nbformat_minor": 2
}
