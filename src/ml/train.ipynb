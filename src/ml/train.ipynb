{
 "cells": [
  {
   "cell_type": "code",
   "execution_count": 1,
   "metadata": {},
   "outputs": [],
   "source": [
    "from datasets.datamodule import DEEPscreenDataModule\n",
    "from engine.system import DEEPScreenClassifier\n",
    "from lightning import Trainer\n",
    "# from lightning.pytorch.loggers import TensorBoardLogger\n",
    "from lightning.pytorch.callbacks.early_stopping import EarlyStopping\n",
    "from lightning.pytorch.callbacks import ModelCheckpoint\n",
    "from lightning.pytorch.callbacks import RichProgressBar\n",
    "import pandas as pd"
   ]
  },
  {
   "cell_type": "code",
   "execution_count": 2,
   "metadata": {},
   "outputs": [],
   "source": [
    "data = pd.read_csv(\"../../.data/processed/CHEMBL5567.csv\")"
   ]
  },
  {
   "cell_type": "code",
   "execution_count": 3,
   "metadata": {},
   "outputs": [
    {
     "name": "stderr",
     "output_type": "stream",
     "text": [
      "GPU available: False, used: False\n",
      "TPU available: False, using: 0 TPU cores\n",
      "IPU available: False, using: 0 IPUs\n",
      "HPU available: False, using: 0 HPUs\n",
      "/big/lab/sjinich/venv_che/lib/python3.8/site-packages/lightning/pytorch/trainer/connectors/logger_connector/logger_connector.py:67: Starting from v1.9.0, `tensorboardX` has been removed as a dependency of the `lightning.pytorch` package, due to potential conflicts with other packages in the ML ecosystem. For this reason, `logger=True` will use `CSVLogger` as the default logger, unless the `tensorboard` or `tensorboardX` packages are found. Please `pip install lightning[extra]` or one of them to enable TensorBoard support by default\n",
      "INFO: Training this hyperparameters [('fully_layer_1', 256), ('fully_layer_2', 32), ('drop_rate', 0.5), ('learning_rate', 0.0001), ('batch_size', 32)]\n",
      "INFO: Using a total of 1876 datapoints\n",
      "INFO: non_random_split datasets splited train=1200,validation=300,test=376\n",
      "Restoring states from the checkpoint path at /home/sjinich/disco/TrypanoDEEPscreen/.experiments/chembl5567/deepscreen-epoch=08-val_loss=0.60-val_mcc=-0.03-256-32-0.0001-0.5-32.ckpt\n",
      "Loaded model weights from the checkpoint at /home/sjinich/disco/TrypanoDEEPscreen/.experiments/chembl5567/deepscreen-epoch=08-val_loss=0.60-val_mcc=-0.03-256-32-0.0001-0.5-32.ckpt\n"
     ]
    },
    {
     "data": {
      "application/vnd.jupyter.widget-view+json": {
       "model_id": "0dfde84e8d0442ea9fdfc264e1593fdd",
       "version_major": 2,
       "version_minor": 0
      },
      "text/plain": [
       "Output()"
      ]
     },
     "metadata": {},
     "output_type": "display_data"
    },
    {
     "name": "stderr",
     "output_type": "stream",
     "text": [
      "/big/lab/sjinich/venv_che/lib/python3.8/site-packages/lightning/pytorch/trainer/connectors/data_connector.py:441: The 'test_dataloader' does not have many workers which may be a bottleneck. Consider increasing the value of the `num_workers` argument` to `num_workers=47` in the `DataLoader` to improve performance.\n"
     ]
    },
    {
     "data": {
      "text/html": [
       "<pre style=\"white-space:pre;overflow-x:auto;line-height:normal;font-family:Menlo,'DejaVu Sans Mono',consolas,'Courier New',monospace\">┏━━━━━━━━━━━━━━━━━━━━━━━━━━━┳━━━━━━━━━━━━━━━━━━━━━━━━━━━┓\n",
       "┃<span style=\"font-weight: bold\">        Test metric        </span>┃<span style=\"font-weight: bold\">       DataLoader 0        </span>┃\n",
       "┡━━━━━━━━━━━━━━━━━━━━━━━━━━━╇━━━━━━━━━━━━━━━━━━━━━━━━━━━┩\n",
       "│<span style=\"color: #008080; text-decoration-color: #008080\">         test_acc          </span>│<span style=\"color: #800080; text-decoration-color: #800080\">    0.7420212626457214     </span>│\n",
       "│<span style=\"color: #008080; text-decoration-color: #008080\">          test_f1          </span>│<span style=\"color: #800080; text-decoration-color: #800080\">    0.29197078943252563    </span>│\n",
       "│<span style=\"color: #008080; text-decoration-color: #008080\">         test_loss         </span>│<span style=\"color: #800080; text-decoration-color: #800080\">    0.5912715792655945     </span>│\n",
       "│<span style=\"color: #008080; text-decoration-color: #008080\">         test_mcc          </span>│<span style=\"color: #800080; text-decoration-color: #800080\">    0.14264878630638123    </span>│\n",
       "│<span style=\"color: #008080; text-decoration-color: #008080\">         test_pres         </span>│<span style=\"color: #800080; text-decoration-color: #800080\">           0.25            </span>│\n",
       "└───────────────────────────┴───────────────────────────┘\n",
       "</pre>\n"
      ],
      "text/plain": [
       "┏━━━━━━━━━━━━━━━━━━━━━━━━━━━┳━━━━━━━━━━━━━━━━━━━━━━━━━━━┓\n",
       "┃\u001b[1m \u001b[0m\u001b[1m       Test metric       \u001b[0m\u001b[1m \u001b[0m┃\u001b[1m \u001b[0m\u001b[1m      DataLoader 0       \u001b[0m\u001b[1m \u001b[0m┃\n",
       "┡━━━━━━━━━━━━━━━━━━━━━━━━━━━╇━━━━━━━━━━━━━━━━━━━━━━━━━━━┩\n",
       "│\u001b[36m \u001b[0m\u001b[36m        test_acc         \u001b[0m\u001b[36m \u001b[0m│\u001b[35m \u001b[0m\u001b[35m   0.7420212626457214    \u001b[0m\u001b[35m \u001b[0m│\n",
       "│\u001b[36m \u001b[0m\u001b[36m         test_f1         \u001b[0m\u001b[36m \u001b[0m│\u001b[35m \u001b[0m\u001b[35m   0.29197078943252563   \u001b[0m\u001b[35m \u001b[0m│\n",
       "│\u001b[36m \u001b[0m\u001b[36m        test_loss        \u001b[0m\u001b[36m \u001b[0m│\u001b[35m \u001b[0m\u001b[35m   0.5912715792655945    \u001b[0m\u001b[35m \u001b[0m│\n",
       "│\u001b[36m \u001b[0m\u001b[36m        test_mcc         \u001b[0m\u001b[36m \u001b[0m│\u001b[35m \u001b[0m\u001b[35m   0.14264878630638123   \u001b[0m\u001b[35m \u001b[0m│\n",
       "│\u001b[36m \u001b[0m\u001b[36m        test_pres        \u001b[0m\u001b[36m \u001b[0m│\u001b[35m \u001b[0m\u001b[35m          0.25           \u001b[0m\u001b[35m \u001b[0m│\n",
       "└───────────────────────────┴───────────────────────────┘\n"
      ]
     },
     "metadata": {},
     "output_type": "display_data"
    },
    {
     "data": {
      "text/html": [
       "<pre style=\"white-space:pre;overflow-x:auto;line-height:normal;font-family:Menlo,'DejaVu Sans Mono',consolas,'Courier New',monospace\"></pre>\n"
      ],
      "text/plain": []
     },
     "metadata": {},
     "output_type": "display_data"
    },
    {
     "data": {
      "text/html": [
       "<pre style=\"white-space:pre;overflow-x:auto;line-height:normal;font-family:Menlo,'DejaVu Sans Mono',consolas,'Courier New',monospace\">\n",
       "</pre>\n"
      ],
      "text/plain": [
       "\n"
      ]
     },
     "metadata": {},
     "output_type": "display_data"
    },
    {
     "data": {
      "text/plain": [
       "[{'test_loss': 0.5912715792655945,\n",
       "  'test_acc': 0.7420212626457214,\n",
       "  'test_f1': 0.29197078943252563,\n",
       "  'test_mcc': 0.14264878630638123,\n",
       "  'test_pres': 0.25}]"
      ]
     },
     "execution_count": 3,
     "metadata": {},
     "output_type": "execute_result"
    }
   ],
   "source": [
    "hyperparameters = {\"fully_layer_1\":256,\"fully_layer_2\":32,\"drop_rate\":0.5,\"learning_rate\":0.0001,\"batch_size\":32}\n",
    "checkpoint_filename = f\"deepscreen-{{epoch:02d}}-{{val_loss:.2f}}-{{val_mcc:.2f}}-{hyperparameters['fully_layer_1']}-{hyperparameters['fully_layer_2']}-{hyperparameters['learning_rate']}-{hyperparameters['drop_rate']}-{hyperparameters['batch_size']}\"\n",
    "checkpoint_callback = ModelCheckpoint(dirpath=\"../../.experiments/chembl5567\", save_top_k=3, monitor=\"val_mcc\",filename=checkpoint_filename)\n",
    "early_stopping = EarlyStopping(monitor=\"val_loss\", mode=\"min\", patience=60)\n",
    "trainer = Trainer(callbacks=[checkpoint_callback,early_stopping,RichProgressBar(leave=True)],max_epochs=200,enable_model_summary=False,log_every_n_steps=38)\n",
    "model = DEEPScreenClassifier(**hyperparameters)\n",
    "datamodule = DEEPscreenDataModule(data=data,target_id=\"chembl5567\",batch_size=32,experiment_result_path=\"../../.experiments/chembl5567\",data_split_mode=\"non_random_split\",tmp_imgs=True)\n",
    "trainer.test(model,datamodule=datamodule,ckpt_path=\"/home/sjinich/disco/TrypanoDEEPscreen/.experiments/chembl5567/deepscreen-epoch=08-val_loss=0.60-val_mcc=-0.03-256-32-0.0001-0.5-32.ckpt\")"
   ]
  }
 ],
 "metadata": {
  "kernelspec": {
   "display_name": "Python 3",
   "language": "python",
   "name": "python3"
  },
  "language_info": {
   "codemirror_mode": {
    "name": "ipython",
    "version": 3
   },
   "file_extension": ".py",
   "mimetype": "text/x-python",
   "name": "python",
   "nbconvert_exporter": "python",
   "pygments_lexer": "ipython3",
   "version": "3.8.8"
  }
 },
 "nbformat": 4,
 "nbformat_minor": 2
}
