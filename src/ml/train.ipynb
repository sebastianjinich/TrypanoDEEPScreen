{
 "cells": [
  {
   "cell_type": "code",
   "execution_count": 1,
   "metadata": {},
   "outputs": [
    {
     "name": "stderr",
     "output_type": "stream",
     "text": [
      "/home/sjinich/disco/che_env/lib/python3.8/site-packages/tqdm/auto.py:21: TqdmWarning: IProgress not found. Please update jupyter and ipywidgets. See https://ipywidgets.readthedocs.io/en/stable/user_install.html\n",
      "  from .autonotebook import tqdm as notebook_tqdm\n"
     ]
    }
   ],
   "source": [
    "from datasets.datamodule import DEEPscreenDataModule\n",
    "from engine.system import DEEPScreenClassifier\n",
    "from lightning import Trainer\n",
    "from lightning.pytorch.callbacks import ModelCheckpoint\n",
    "import pandas as pd"
   ]
  },
  {
   "cell_type": "code",
   "execution_count": 2,
   "metadata": {},
   "outputs": [],
   "source": [
    "data = pd.read_csv(\"../../.data/processed/CHEMBL2581.csv\")"
   ]
  },
  {
   "cell_type": "code",
   "execution_count": 3,
   "metadata": {},
   "outputs": [
    {
     "data": {
      "text/html": [
       "<div>\n",
       "<style scoped>\n",
       "    .dataframe tbody tr th:only-of-type {\n",
       "        vertical-align: middle;\n",
       "    }\n",
       "\n",
       "    .dataframe tbody tr th {\n",
       "        vertical-align: top;\n",
       "    }\n",
       "\n",
       "    .dataframe thead th {\n",
       "        text-align: right;\n",
       "    }\n",
       "</style>\n",
       "<table border=\"1\" class=\"dataframe\">\n",
       "  <thead>\n",
       "    <tr style=\"text-align: right;\">\n",
       "      <th></th>\n",
       "      <th>comp_id</th>\n",
       "      <th>bioactivity</th>\n",
       "      <th>data_split</th>\n",
       "      <th>smiles</th>\n",
       "    </tr>\n",
       "  </thead>\n",
       "  <tbody>\n",
       "    <tr>\n",
       "      <th>0</th>\n",
       "      <td>CHEMBL104783</td>\n",
       "      <td>1</td>\n",
       "      <td>validation</td>\n",
       "      <td>COc1ccc(CN[C@@H](C(=O)N[C@H](C(=O)NCc2ccccc2)C...</td>\n",
       "    </tr>\n",
       "    <tr>\n",
       "      <th>1</th>\n",
       "      <td>CHEMBL104966</td>\n",
       "      <td>1</td>\n",
       "      <td>validation</td>\n",
       "      <td>CC(C)[C@H](NC(=O)[C@H](NCc1ccccc1)[C@H](O)[C@H...</td>\n",
       "    </tr>\n",
       "    <tr>\n",
       "      <th>2</th>\n",
       "      <td>CHEMBL1076901</td>\n",
       "      <td>1</td>\n",
       "      <td>train</td>\n",
       "      <td>CC(C)[C@H](NC(=O)[C@H](C)C[C@H](O)[C@H](COCc1c...</td>\n",
       "    </tr>\n",
       "    <tr>\n",
       "      <th>3</th>\n",
       "      <td>CHEMBL1076902</td>\n",
       "      <td>1</td>\n",
       "      <td>train</td>\n",
       "      <td>CC(C)[C@H](NC(=O)[C@H](C)C[C@H](O)[C@H](COCc1c...</td>\n",
       "    </tr>\n",
       "    <tr>\n",
       "      <th>4</th>\n",
       "      <td>CHEMBL1076905</td>\n",
       "      <td>1</td>\n",
       "      <td>train</td>\n",
       "      <td>CC(C)[C@H](NC(=O)[C@H](C)C[C@H](O)[C@H](COc1cc...</td>\n",
       "    </tr>\n",
       "    <tr>\n",
       "      <th>...</th>\n",
       "      <td>...</td>\n",
       "      <td>...</td>\n",
       "      <td>...</td>\n",
       "      <td>...</td>\n",
       "    </tr>\n",
       "    <tr>\n",
       "      <th>2265</th>\n",
       "      <td>CHEMBL96943</td>\n",
       "      <td>1</td>\n",
       "      <td>validation</td>\n",
       "      <td>C=CC1C=CC=CC1/C=C/OCC(=O)NC(C(=O)NC(Cc1ccccc1)...</td>\n",
       "    </tr>\n",
       "    <tr>\n",
       "      <th>2266</th>\n",
       "      <td>CHEMBL97013</td>\n",
       "      <td>1</td>\n",
       "      <td>train</td>\n",
       "      <td>CCCCNC(=O)CC(O)C(CC(C)C)NC(=O)C(NC(=O)Cc1ccc2c...</td>\n",
       "    </tr>\n",
       "    <tr>\n",
       "      <th>2267</th>\n",
       "      <td>CHEMBL97072</td>\n",
       "      <td>1</td>\n",
       "      <td>validation</td>\n",
       "      <td>C=Cc1ccccc1/C=C/OCC(=O)NC(C(=O)NC(CC(C)C)C(O)C...</td>\n",
       "    </tr>\n",
       "    <tr>\n",
       "      <th>2268</th>\n",
       "      <td>CHEMBL97805</td>\n",
       "      <td>1</td>\n",
       "      <td>validation</td>\n",
       "      <td>CCCCNC(=O)CC(O)C(CC(C)C)NC(=O)C(NC(=O)Cc1cc(OC...</td>\n",
       "    </tr>\n",
       "    <tr>\n",
       "      <th>2269</th>\n",
       "      <td>CHEMBL98384</td>\n",
       "      <td>1</td>\n",
       "      <td>train</td>\n",
       "      <td>CCCCNC(=O)C[C@H](O)[C@H](Cc1ccccc1)NC(=O)[C@@H...</td>\n",
       "    </tr>\n",
       "  </tbody>\n",
       "</table>\n",
       "<p>2270 rows × 4 columns</p>\n",
       "</div>"
      ],
      "text/plain": [
       "            comp_id  bioactivity  data_split  \\\n",
       "0      CHEMBL104783            1  validation   \n",
       "1      CHEMBL104966            1  validation   \n",
       "2     CHEMBL1076901            1       train   \n",
       "3     CHEMBL1076902            1       train   \n",
       "4     CHEMBL1076905            1       train   \n",
       "...             ...          ...         ...   \n",
       "2265    CHEMBL96943            1  validation   \n",
       "2266    CHEMBL97013            1       train   \n",
       "2267    CHEMBL97072            1  validation   \n",
       "2268    CHEMBL97805            1  validation   \n",
       "2269    CHEMBL98384            1       train   \n",
       "\n",
       "                                                 smiles  \n",
       "0     COc1ccc(CN[C@@H](C(=O)N[C@H](C(=O)NCc2ccccc2)C...  \n",
       "1     CC(C)[C@H](NC(=O)[C@H](NCc1ccccc1)[C@H](O)[C@H...  \n",
       "2     CC(C)[C@H](NC(=O)[C@H](C)C[C@H](O)[C@H](COCc1c...  \n",
       "3     CC(C)[C@H](NC(=O)[C@H](C)C[C@H](O)[C@H](COCc1c...  \n",
       "4     CC(C)[C@H](NC(=O)[C@H](C)C[C@H](O)[C@H](COc1cc...  \n",
       "...                                                 ...  \n",
       "2265  C=CC1C=CC=CC1/C=C/OCC(=O)NC(C(=O)NC(Cc1ccccc1)...  \n",
       "2266  CCCCNC(=O)CC(O)C(CC(C)C)NC(=O)C(NC(=O)Cc1ccc2c...  \n",
       "2267  C=Cc1ccccc1/C=C/OCC(=O)NC(C(=O)NC(CC(C)C)C(O)C...  \n",
       "2268  CCCCNC(=O)CC(O)C(CC(C)C)NC(=O)C(NC(=O)Cc1cc(OC...  \n",
       "2269  CCCCNC(=O)C[C@H](O)[C@H](Cc1ccccc1)NC(=O)[C@@H...  \n",
       "\n",
       "[2270 rows x 4 columns]"
      ]
     },
     "execution_count": 3,
     "metadata": {},
     "output_type": "execute_result"
    }
   ],
   "source": [
    "data"
   ]
  },
  {
   "cell_type": "code",
   "execution_count": 4,
   "metadata": {},
   "outputs": [],
   "source": [
    "%load_ext tensorboard"
   ]
  },
  {
   "cell_type": "code",
   "execution_count": 5,
   "metadata": {},
   "outputs": [
    {
     "name": "stderr",
     "output_type": "stream",
     "text": [
      "GPU available: False, used: False\n",
      "TPU available: False, using: 0 TPU cores\n",
      "IPU available: False, using: 0 IPUs\n",
      "HPU available: False, using: 0 HPUs\n",
      "INFO: Using hyperparameters [('fully_layer_1', 256), ('fully_layer_2', 32), ('drop_rate', 0.5), ('learning_rate', 0.0001), ('batch_size', 32), ('experiment_result_path', '../../.experiments/chembl2581')]\n",
      "INFO: Using a total of 2270 datapoints\n",
      "INFO: non_random_split datasets splited train=1452,validation=364,test=454\n",
      "\n",
      "   | Name          | Type             | Params\n",
      "----------------------------------------------------\n",
      "0  | conv1         | Conv2d           | 416   \n",
      "1  | bn1           | BatchNorm2d      | 64    \n",
      "2  | conv2         | Conv2d           | 8.3 K \n",
      "3  | bn2           | BatchNorm2d      | 128   \n",
      "4  | conv3         | Conv2d           | 32.9 K\n",
      "5  | bn3           | BatchNorm2d      | 256   \n",
      "6  | conv4         | Conv2d           | 32.8 K\n",
      "7  | bn4           | BatchNorm2d      | 128   \n",
      "8  | conv5         | Conv2d           | 8.2 K \n",
      "9  | bn5           | BatchNorm2d      | 64    \n",
      "10 | pool          | MaxPool2d        | 0     \n",
      "11 | fc1           | Linear           | 205 K \n",
      "12 | fc2           | Linear           | 8.2 K \n",
      "13 | fc3           | Linear           | 66    \n",
      "14 | train_metrics | MetricCollection | 0     \n",
      "15 | val_metrics   | MetricCollection | 0     \n",
      "16 | test_metrics  | MetricCollection | 0     \n",
      "----------------------------------------------------\n",
      "296 K     Trainable params\n",
      "0         Non-trainable params\n",
      "296 K     Total params\n",
      "1.186     Total estimated model params size (MB)\n"
     ]
    },
    {
     "name": "stdout",
     "output_type": "stream",
     "text": [
      "Sanity Checking DataLoader 0:   0%|          | 0/2 [00:00<?, ?it/s]"
     ]
    },
    {
     "name": "stderr",
     "output_type": "stream",
     "text": [
      "/home/sjinich/disco/che_env/lib/python3.8/site-packages/lightning/pytorch/trainer/connectors/data_connector.py:441: The 'val_dataloader' does not have many workers which may be a bottleneck. Consider increasing the value of the `num_workers` argument` to `num_workers=47` in the `DataLoader` to improve performance.\n"
     ]
    },
    {
     "name": "stdout",
     "output_type": "stream",
     "text": [
      "                                                                           \r"
     ]
    },
    {
     "name": "stderr",
     "output_type": "stream",
     "text": [
      "/home/sjinich/disco/che_env/lib/python3.8/site-packages/lightning/pytorch/trainer/connectors/data_connector.py:441: The 'train_dataloader' does not have many workers which may be a bottleneck. Consider increasing the value of the `num_workers` argument` to `num_workers=47` in the `DataLoader` to improve performance.\n",
      "/home/sjinich/disco/che_env/lib/python3.8/site-packages/lightning/pytorch/loops/fit_loop.py:293: The number of training batches (46) is smaller than the logging interval Trainer(log_every_n_steps=50). Set a lower value for log_every_n_steps if you want to see logs for the training epoch.\n"
     ]
    },
    {
     "name": "stdout",
     "output_type": "stream",
     "text": [
      "Epoch 0:  37%|███▋      | 17/46 [00:09<00:16,  1.75it/s, v_num=65, train_loss=0.824]"
     ]
    },
    {
     "name": "stderr",
     "output_type": "stream",
     "text": [
      "/home/sjinich/disco/che_env/lib/python3.8/site-packages/lightning/pytorch/trainer/connectors/logger_connector/result.py:211: You called `self.log('train_mcc', ...)` in your `training_step` but the value needs to be floating point. Converting it to torch.float32.\n"
     ]
    },
    {
     "name": "stdout",
     "output_type": "stream",
     "text": [
      "Epoch 52: 100%|██████████| 46/46 [00:25<00:00,  1.79it/s, v_num=65, train_loss=0.0329, val_loss=0.623]"
     ]
    },
    {
     "name": "stderr",
     "output_type": "stream",
     "text": [
      "/home/sjinich/disco/che_env/lib/python3.8/site-packages/lightning/pytorch/trainer/connectors/logger_connector/result.py:211: You called `self.log('val_mcc', ...)` in your `validation_step` but the value needs to be floating point. Converting it to torch.float32.\n"
     ]
    },
    {
     "name": "stdout",
     "output_type": "stream",
     "text": [
      "Epoch 99: 100%|██████████| 46/46 [00:28<00:00,  1.60it/s, v_num=65, train_loss=0.0933, val_loss=0.642] "
     ]
    },
    {
     "name": "stderr",
     "output_type": "stream",
     "text": [
      "`Trainer.fit` stopped: `max_epochs=100` reached.\n"
     ]
    },
    {
     "name": "stdout",
     "output_type": "stream",
     "text": [
      "Epoch 99: 100%|██████████| 46/46 [00:28<00:00,  1.60it/s, v_num=65, train_loss=0.0933, val_loss=0.642]\n"
     ]
    }
   ],
   "source": [
    "trainer = Trainer(max_epochs=100)\n",
    "model = DEEPScreenClassifier(fully_layer_1=256,fully_layer_2=32,drop_rate=0.5,learning_rate=0.0001,batch_size=32,experiment_result_path=\"../../.experiments/chembl2581\")\n",
    "datamodule = DEEPscreenDataModule(data=data,target_id=\"CHEMBL2581\",batch_size=32,experiment_result_path=\"../../.experiments/chembl2581\",data_split_mode=\"non_random_split\",tmp_imgs=True)\n",
    "trainer.fit(model,datamodule=datamodule)\n"
   ]
  }
 ],
 "metadata": {
  "kernelspec": {
   "display_name": "Python 3",
   "language": "python",
   "name": "python3"
  },
  "language_info": {
   "codemirror_mode": {
    "name": "ipython",
    "version": 3
   },
   "file_extension": ".py",
   "mimetype": "text/x-python",
   "name": "python",
   "nbconvert_exporter": "python",
   "pygments_lexer": "ipython3",
   "version": "3.8.8"
  }
 },
 "nbformat": 4,
 "nbformat_minor": 2
}
