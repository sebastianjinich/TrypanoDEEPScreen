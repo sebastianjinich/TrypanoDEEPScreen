{
 "cells": [
  {
   "cell_type": "markdown",
   "metadata": {},
   "source": [
    "Connected to che_env (Python 3.8.8)"
   ]
  },
  {
   "cell_type": "markdown",
   "metadata": {},
   "source": [
    "# Experiment train analysis\n",
    "\n",
    "Un notebook hecho para poder analizar resultados de una busqueda de hyperparametros con Ray"
   ]
  },
  {
   "cell_type": "markdown",
   "metadata": {},
   "source": [
    "## Funciones auxiliares ploteo entrenamientos y extracción de resultados"
   ]
  },
  {
   "cell_type": "code",
   "execution_count": 2,
   "metadata": {},
   "outputs": [
    {
     "name": "stderr",
     "output_type": "stream",
     "text": [
      "/big/lab/sjinich/che_env/lib/python3.8/site-packages/tqdm/auto.py:21: TqdmWarning: IProgress not found. Please update jupyter and ipywidgets. See https://ipywidgets.readthedocs.io/en/stable/user_install.html\n",
      "  from .autonotebook import tqdm as notebook_tqdm\n",
      "2024-08-06 11:27:24,865\tINFO util.py:154 -- Missing packages: ['ipywidgets']. Run `pip install -U ipywidgets`, then restart the notebook server for rich notebook output.\n",
      "2024-08-06 11:27:25,042\tINFO util.py:154 -- Missing packages: ['ipywidgets']. Run `pip install -U ipywidgets`, then restart the notebook server for rich notebook output.\n"
     ]
    }
   ],
   "source": [
    "import glob\n",
    "import json\n",
    "import os\n",
    "import numpy as np\n",
    "import pandas as pd\n",
    "import plotly.express as px\n",
    "from scipy import signal\n",
    "from ray.tune import ExperimentAnalysis\n",
    "\n",
    "\n",
    "def training_data_experiment(experiment_dir:str,trials_id:list,metrics:list,windows_size:int,width=850,height=800):\n",
    "\n",
    "    data_to_plot = pd.DataFrame(columns=[\"Hyperparameters\",\"trial_id\",\"checkpoints\",\"epoch\"]+metrics)\n",
    "\n",
    "    for trial_id in trials_id:\n",
    "        progress_file_id_list = glob.glob(os.path.join(experiment_dir,f\"TorchTrainer_{trial_id}*\",\"progress.csv\"))\n",
    "        progress_file_id = progress_file_id_list[0]\n",
    "        progress_df = pd.read_csv(progress_file_id)\n",
    "\n",
    "        checkpoints_str = [checkpoint.split(\"/\")[-1] for checkpoint in glob.glob(os.path.join(experiment_dir,f\"TorchTrainer_{trial_id}*\",\"checkpoint*\"))]\n",
    "        checkpoints_int = [int(checkpoint.split(\"_\")[1]) for checkpoint in checkpoints_str]\n",
    "\n",
    "        hparams_json_paths = glob.glob(os.path.join(experiment_dir,f\"TorchTrainer_{trial_id}*\",\"params.json\"))\n",
    "        with open(hparams_json_paths[0]) as hpams_json:\n",
    "            hpams = json.load(hpams_json)[\"train_loop_config\"]\n",
    "        \n",
    "        hpams_str = f'FL1:{hpams[\"fully_layer_1\"]} FL2:{hpams[\"fully_layer_2\"]} DR:{hpams[\"drop_rate\"]} BS:{hpams[\"batch_size\"]} LR:{hpams[\"learning_rate\"]}'\n",
    "\n",
    "        data_from_trial = progress_df[[\"epoch\"]+metrics]\n",
    "\n",
    "        for metric in metrics:\n",
    "            data_from_trial.loc[:,metric] = smooth(data_from_trial[metric].to_numpy(),windows_size)\n",
    "\n",
    "        data_from_trial.loc[:,[\"Hyperparameters\"]] = [hpams_str]*len(data_from_trial)\n",
    "        data_from_trial.loc[:,[\"trial_id\"]] = [trial_id]*len(data_from_trial)\n",
    "        data_from_trial.loc[:,[\"checkpoints\"]] = [str(checkpoints_int)]*len(data_from_trial)\n",
    "\n",
    "        data_to_plot = pd.concat([data_to_plot,data_from_trial],axis=0)\n",
    "    \n",
    "    return data_to_plot\n",
    "\n",
    "def smooth(data, window):\n",
    "    alpha = 2 /(window + 1.0)\n",
    "    alpha_rev = 1-alpha\n",
    "\n",
    "    scale = 1/alpha_rev\n",
    "    n = data.shape[0]\n",
    "\n",
    "    r = np.arange(n)\n",
    "    scale_arr = scale**r\n",
    "    offset = data[0]*alpha_rev**(r+1)\n",
    "    pw0 = alpha*alpha_rev**(n-1)\n",
    "\n",
    "    mult = data*pw0*scale_arr\n",
    "    cumsums = mult.cumsum()\n",
    "    out = offset + cumsums*scale_arr[::-1]\n",
    "    return out\n",
    "\n",
    "def plot_training_curve_single_model(data_to_plot,width=850,height=800):\n",
    "    '''\n",
    "    Solo usar con trials multiples del mismo modelo.\n",
    "    '''\n",
    "     \n",
    "    metrics = [metric for metric in data_to_plot.columns if metric not in [\"Hyperparameters\",\"checkpoints\",\"trial_id\",\"epoch\"]]\n",
    "\n",
    "    if len(metrics) > 1:\n",
    "        fig = px.line(data_to_plot,x=\"epoch\",y=metrics, line_dash = \"trial_id\", width=width, height=height, hover_data=[\"Hyperparameters\",\"checkpoints\"])\n",
    "    else:\n",
    "        fig = px.line(data_to_plot,x=\"epoch\",y=metrics, color = \"trial_id\", width=width, height=height, hover_data=[\"Hyperparameters\",\"checkpoints\"])\n",
    "\n",
    "    return fig    \n",
    "\n",
    "def plot_training_curve_multiple_model(data_to_plot:dict,width=850,height=800):\n",
    "    '''\n",
    "    Solo usar con trials simples. Muchos modelos distintos, pero solo 1 trial en cada 1\n",
    "    '''\n",
    "\n",
    "    data_to_plot_compiled = pd.DataFrame()\n",
    "\n",
    "    for key, df in data_to_plot.items():\n",
    "        df.loc[:,[\"model\"]] = key\n",
    "        data_to_plot_compiled = pd.concat([data_to_plot_compiled,df],axis=0)\n",
    "\n",
    "    metrics = [metric for metric in data_to_plot_compiled.columns if metric not in [\"Hyperparameters\",\"checkpoints\",\"trial_id\",\"epoch\"]]\n",
    "    if len(metrics) > 1:\n",
    "        fig = px.line(data_to_plot_compiled,x=\"epoch\",y=metrics, line_dash = \"model\", width=width, height=height, hover_data=[\"Hyperparameters\",\"checkpoints\"])\n",
    "    else:\n",
    "        fig = px.line(data_to_plot_compiled,x=\"epoch\",y=metrics, color = \"model\", width=width, height=height, hover_data=[\"Hyperparameters\",\"checkpoints\"])\n",
    "\n",
    "    return fig\n",
    "        \n",
    "def get_result_df(experiment_path):\n",
    "    experiment = ExperimentAnalysis(experiment_checkpoint_path=experiment_path)\n",
    "    return experiment.results_df"
   ]
  },
  {
   "cell_type": "markdown",
   "metadata": {},
   "source": [
    "## Extracción del df de resultados"
   ]
  },
  {
   "cell_type": "code",
   "execution_count": 3,
   "metadata": {},
   "outputs": [
    {
     "name": "stderr",
     "output_type": "stream",
     "text": [
      "2024-08-06 11:27:27,449\tWARNING experiment_analysis.py:193 -- Failed to fetch metrics for 40 trial(s):\n",
      "- TorchTrainer_802fd_00280: FileNotFoundError('Could not fetch metrics for TorchTrainer_802fd_00280: both result.json and progress.csv were not found at /home/sjinich/disco/TrypanoDEEPscreen/.experiments/chembl2581_rdkitfeaturization/TorchTrainer_802fd_00280_280_batch_size=64,drop_rate=0.5000,fully_layer_1=256,fully_layer_2=32,learning_rate=0.0050_2024-07-07_06-48-46')\n",
      "- TorchTrainer_802fd_00281: FileNotFoundError('Could not fetch metrics for TorchTrainer_802fd_00281: both result.json and progress.csv were not found at /home/sjinich/disco/TrypanoDEEPscreen/.experiments/chembl2581_rdkitfeaturization/TorchTrainer_802fd_00281_281_batch_size=64,drop_rate=0.3000,fully_layer_1=16,fully_layer_2=128,learning_rate=0.0010_2024-07-07_06-55-50')\n",
      "- TorchTrainer_802fd_00282: FileNotFoundError('Could not fetch metrics for TorchTrainer_802fd_00282: both result.json and progress.csv were not found at /home/sjinich/disco/TrypanoDEEPscreen/.experiments/chembl2581_rdkitfeaturization/TorchTrainer_802fd_00282_282_batch_size=64,drop_rate=0.3000,fully_layer_1=32,fully_layer_2=32,learning_rate=0.0005_2024-07-07_07-02-55')\n",
      "- TorchTrainer_802fd_00283: FileNotFoundError('Could not fetch metrics for TorchTrainer_802fd_00283: both result.json and progress.csv were not found at /home/sjinich/disco/TrypanoDEEPscreen/.experiments/chembl2581_rdkitfeaturization/TorchTrainer_802fd_00283_283_batch_size=32,drop_rate=0.8000,fully_layer_1=128,fully_layer_2=256,learning_rate=0.0050_2024-07-07_07-32-08')\n",
      "- TorchTrainer_802fd_00284: FileNotFoundError('Could not fetch metrics for TorchTrainer_802fd_00284: both result.json and progress.csv were not found at /home/sjinich/disco/TrypanoDEEPscreen/.experiments/chembl2581_rdkitfeaturization/TorchTrainer_802fd_00284_284_batch_size=32,drop_rate=0.6000,fully_layer_1=512,fully_layer_2=128,learning_rate=0.0050_2024-07-07_07-40-29')\n",
      "- TorchTrainer_802fd_00285: FileNotFoundError('Could not fetch metrics for TorchTrainer_802fd_00285: both result.json and progress.csv were not found at /home/sjinich/disco/TrypanoDEEPscreen/.experiments/chembl2581_rdkitfeaturization/TorchTrainer_802fd_00285_285_batch_size=64,drop_rate=0.8000,fully_layer_1=256,fully_layer_2=16,learning_rate=0.0050_2024-07-07_08-00-16')\n",
      "- TorchTrainer_802fd_00286: FileNotFoundError('Could not fetch metrics for TorchTrainer_802fd_00286: both result.json and progress.csv were not found at /home/sjinich/disco/TrypanoDEEPscreen/.experiments/chembl2581_rdkitfeaturization/TorchTrainer_802fd_00286_286_batch_size=32,drop_rate=0.3000,fully_layer_1=16,fully_layer_2=128,learning_rate=0.0050_2024-07-07_08-20-10')\n",
      "- TorchTrainer_802fd_00287: FileNotFoundError('Could not fetch metrics for TorchTrainer_802fd_00287: both result.json and progress.csv were not found at /home/sjinich/disco/TrypanoDEEPscreen/.experiments/chembl2581_rdkitfeaturization/TorchTrainer_802fd_00287_287_batch_size=32,drop_rate=0.6000,fully_layer_1=16,fully_layer_2=256,learning_rate=0.0050_2024-07-07_08-27-17')\n",
      "- TorchTrainer_802fd_00288: FileNotFoundError('Could not fetch metrics for TorchTrainer_802fd_00288: both result.json and progress.csv were not found at /home/sjinich/disco/TrypanoDEEPscreen/.experiments/chembl2581_rdkitfeaturization/TorchTrainer_802fd_00288_288_batch_size=64,drop_rate=0.6000,fully_layer_1=256,fully_layer_2=512,learning_rate=0.0100_2024-07-07_08-51-48')\n",
      "- TorchTrainer_802fd_00289: FileNotFoundError('Could not fetch metrics for TorchTrainer_802fd_00289: both result.json and progress.csv were not found at /home/sjinich/disco/TrypanoDEEPscreen/.experiments/chembl2581_rdkitfeaturization/TorchTrainer_802fd_00289_289_batch_size=64,drop_rate=0.6000,fully_layer_1=32,fully_layer_2=16,learning_rate=0.0050_2024-07-07_08-59-57')\n",
      "- TorchTrainer_802fd_00290: FileNotFoundError('Could not fetch metrics for TorchTrainer_802fd_00290: both result.json and progress.csv were not found at /home/sjinich/disco/TrypanoDEEPscreen/.experiments/chembl2581_rdkitfeaturization/TorchTrainer_802fd_00290_290_batch_size=64,drop_rate=0.6000,fully_layer_1=32,fully_layer_2=16,learning_rate=0.0050_2024-07-07_09-08-14')\n",
      "- TorchTrainer_802fd_00291: FileNotFoundError('Could not fetch metrics for TorchTrainer_802fd_00291: both result.json and progress.csv were not found at /home/sjinich/disco/TrypanoDEEPscreen/.experiments/chembl2581_rdkitfeaturization/TorchTrainer_802fd_00291_291_batch_size=32,drop_rate=0.8000,fully_layer_1=128,fully_layer_2=128,learning_rate=0.0010_2024-07-07_09-15-23')\n",
      "- TorchTrainer_802fd_00292: FileNotFoundError('Could not fetch metrics for TorchTrainer_802fd_00292: both result.json and progress.csv were not found at /home/sjinich/disco/TrypanoDEEPscreen/.experiments/chembl2581_rdkitfeaturization/TorchTrainer_802fd_00292_292_batch_size=64,drop_rate=0.3000,fully_layer_1=32,fully_layer_2=256,learning_rate=0.0005_2024-07-07_09-39-59')\n",
      "- TorchTrainer_802fd_00293: FileNotFoundError('Could not fetch metrics for TorchTrainer_802fd_00293: both result.json and progress.csv were not found at /home/sjinich/disco/TrypanoDEEPscreen/.experiments/chembl2581_rdkitfeaturization/TorchTrainer_802fd_00293_293_batch_size=32,drop_rate=0.8000,fully_layer_1=16,fully_layer_2=128,learning_rate=0.0010_2024-07-07_09-48-12')\n",
      "- TorchTrainer_802fd_00294: FileNotFoundError('Could not fetch metrics for TorchTrainer_802fd_00294: both result.json and progress.csv were not found at /home/sjinich/disco/TrypanoDEEPscreen/.experiments/chembl2581_rdkitfeaturization/TorchTrainer_802fd_00294_294_batch_size=64,drop_rate=0.5000,fully_layer_1=16,fully_layer_2=512,learning_rate=0.0001_2024-07-07_09-55-44')\n",
      "- TorchTrainer_802fd_00295: FileNotFoundError('Could not fetch metrics for TorchTrainer_802fd_00295: both result.json and progress.csv were not found at /home/sjinich/disco/TrypanoDEEPscreen/.experiments/chembl2581_rdkitfeaturization/TorchTrainer_802fd_00295_295_batch_size=32,drop_rate=0.3000,fully_layer_1=256,fully_layer_2=128,learning_rate=0.0050_2024-07-07_10-03-05')\n",
      "- TorchTrainer_802fd_00296: FileNotFoundError('Could not fetch metrics for TorchTrainer_802fd_00296: both result.json and progress.csv were not found at /home/sjinich/disco/TrypanoDEEPscreen/.experiments/chembl2581_rdkitfeaturization/TorchTrainer_802fd_00296_296_batch_size=32,drop_rate=0.3000,fully_layer_1=128,fully_layer_2=32,learning_rate=0.0005_2024-07-07_10-10-30')\n",
      "- TorchTrainer_802fd_00297: FileNotFoundError('Could not fetch metrics for TorchTrainer_802fd_00297: both result.json and progress.csv were not found at /home/sjinich/disco/TrypanoDEEPscreen/.experiments/chembl2581_rdkitfeaturization/TorchTrainer_802fd_00297_297_batch_size=64,drop_rate=0.3000,fully_layer_1=256,fully_layer_2=256,learning_rate=0.0005_2024-07-07_10-18-26')\n",
      "- TorchTrainer_802fd_00298: FileNotFoundError('Could not fetch metrics for TorchTrainer_802fd_00298: both result.json and progress.csv were not found at /home/sjinich/disco/TrypanoDEEPscreen/.experiments/chembl2581_rdkitfeaturization/TorchTrainer_802fd_00298_298_batch_size=64,drop_rate=0.3000,fully_layer_1=32,fully_layer_2=256,learning_rate=0.0005_2024-07-07_10-25-50')\n",
      "- TorchTrainer_802fd_00299: FileNotFoundError('Could not fetch metrics for TorchTrainer_802fd_00299: both result.json and progress.csv were not found at /home/sjinich/disco/TrypanoDEEPscreen/.experiments/chembl2581_rdkitfeaturization/TorchTrainer_802fd_00299_299_batch_size=32,drop_rate=0.3000,fully_layer_1=128,fully_layer_2=128,learning_rate=0.0050_2024-07-07_10-33-09')\n",
      "- TorchTrainer_802fd_00300: FileNotFoundError('Could not fetch metrics for TorchTrainer_802fd_00300: both result.json and progress.csv were not found at /home/sjinich/disco/TrypanoDEEPscreen/.experiments/chembl2581_rdkitfeaturization/TorchTrainer_802fd_00300_300_batch_size=64,drop_rate=0.8000,fully_layer_1=32,fully_layer_2=128,learning_rate=0.0010_2024-07-07_10-41-12')\n",
      "- TorchTrainer_802fd_00301: FileNotFoundError('Could not fetch metrics for TorchTrainer_802fd_00301: both result.json and progress.csv were not found at /home/sjinich/disco/TrypanoDEEPscreen/.experiments/chembl2581_rdkitfeaturization/TorchTrainer_802fd_00301_301_batch_size=64,drop_rate=0.5000,fully_layer_1=256,fully_layer_2=32,learning_rate=0.0100_2024-07-07_10-48-27')\n",
      "- TorchTrainer_802fd_00302: FileNotFoundError('Could not fetch metrics for TorchTrainer_802fd_00302: both result.json and progress.csv were not found at /home/sjinich/disco/TrypanoDEEPscreen/.experiments/chembl2581_rdkitfeaturization/TorchTrainer_802fd_00302_302_batch_size=64,drop_rate=0.6000,fully_layer_1=16,fully_layer_2=256,learning_rate=0.0010_2024-07-07_10-56-22')\n",
      "- TorchTrainer_802fd_00303: FileNotFoundError('Could not fetch metrics for TorchTrainer_802fd_00303: both result.json and progress.csv were not found at /home/sjinich/disco/TrypanoDEEPscreen/.experiments/chembl2581_rdkitfeaturization/TorchTrainer_802fd_00303_303_batch_size=32,drop_rate=0.6000,fully_layer_1=128,fully_layer_2=16,learning_rate=0.0100_2024-07-07_11-04-26')\n",
      "- TorchTrainer_802fd_00304: FileNotFoundError('Could not fetch metrics for TorchTrainer_802fd_00304: both result.json and progress.csv were not found at /home/sjinich/disco/TrypanoDEEPscreen/.experiments/chembl2581_rdkitfeaturization/TorchTrainer_802fd_00304_304_batch_size=64,drop_rate=0.6000,fully_layer_1=32,fully_layer_2=256,learning_rate=0.0100_2024-07-07_11-28-37')\n",
      "- TorchTrainer_802fd_00305: FileNotFoundError('Could not fetch metrics for TorchTrainer_802fd_00305: both result.json and progress.csv were not found at /home/sjinich/disco/TrypanoDEEPscreen/.experiments/chembl2581_rdkitfeaturization/TorchTrainer_802fd_00305_305_batch_size=32,drop_rate=0.8000,fully_layer_1=32,fully_layer_2=256,learning_rate=0.0100_2024-07-07_11-35-59')\n",
      "- TorchTrainer_802fd_00306: FileNotFoundError('Could not fetch metrics for TorchTrainer_802fd_00306: both result.json and progress.csv were not found at /home/sjinich/disco/TrypanoDEEPscreen/.experiments/chembl2581_rdkitfeaturization/TorchTrainer_802fd_00306_306_batch_size=64,drop_rate=0.3000,fully_layer_1=128,fully_layer_2=512,learning_rate=0.0001_2024-07-07_11-44-06')\n",
      "- TorchTrainer_802fd_00307: FileNotFoundError('Could not fetch metrics for TorchTrainer_802fd_00307: both result.json and progress.csv were not found at /home/sjinich/disco/TrypanoDEEPscreen/.experiments/chembl2581_rdkitfeaturization/TorchTrainer_802fd_00307_307_batch_size=64,drop_rate=0.5000,fully_layer_1=128,fully_layer_2=16,learning_rate=0.0100_2024-07-07_11-51-31')\n",
      "- TorchTrainer_802fd_00308: FileNotFoundError('Could not fetch metrics for TorchTrainer_802fd_00308: both result.json and progress.csv were not found at /home/sjinich/disco/TrypanoDEEPscreen/.experiments/chembl2581_rdkitfeaturization/TorchTrainer_802fd_00308_308_batch_size=64,drop_rate=0.6000,fully_layer_1=512,fully_layer_2=32,learning_rate=0.0001_2024-07-07_12-20-52')\n",
      "- TorchTrainer_802fd_00309: FileNotFoundError('Could not fetch metrics for TorchTrainer_802fd_00309: both result.json and progress.csv were not found at /home/sjinich/disco/TrypanoDEEPscreen/.experiments/chembl2581_rdkitfeaturization/TorchTrainer_802fd_00309_309_batch_size=32,drop_rate=0.5000,fully_layer_1=512,fully_layer_2=32,learning_rate=0.0050_2024-07-07_12-44-42')\n",
      "- TorchTrainer_802fd_00310: FileNotFoundError('Could not fetch metrics for TorchTrainer_802fd_00310: both result.json and progress.csv were not found at /home/sjinich/disco/TrypanoDEEPscreen/.experiments/chembl2581_rdkitfeaturization/TorchTrainer_802fd_00310_310_batch_size=32,drop_rate=0.5000,fully_layer_1=128,fully_layer_2=32,learning_rate=0.0100_2024-07-07_12-52-05')\n",
      "- TorchTrainer_802fd_00311: FileNotFoundError('Could not fetch metrics for TorchTrainer_802fd_00311: both result.json and progress.csv were not found at /home/sjinich/disco/TrypanoDEEPscreen/.experiments/chembl2581_rdkitfeaturization/TorchTrainer_802fd_00311_311_batch_size=64,drop_rate=0.8000,fully_layer_1=32,fully_layer_2=512,learning_rate=0.0100_2024-07-07_13-16-01')\n",
      "- TorchTrainer_802fd_00312: FileNotFoundError('Could not fetch metrics for TorchTrainer_802fd_00312: both result.json and progress.csv were not found at /home/sjinich/disco/TrypanoDEEPscreen/.experiments/chembl2581_rdkitfeaturization/TorchTrainer_802fd_00312_312_batch_size=64,drop_rate=0.6000,fully_layer_1=16,fully_layer_2=256,learning_rate=0.0050_2024-07-07_13-24-15')\n",
      "- TorchTrainer_802fd_00313: FileNotFoundError('Could not fetch metrics for TorchTrainer_802fd_00313: both result.json and progress.csv were not found at /home/sjinich/disco/TrypanoDEEPscreen/.experiments/chembl2581_rdkitfeaturization/TorchTrainer_802fd_00313_313_batch_size=64,drop_rate=0.8000,fully_layer_1=256,fully_layer_2=16,learning_rate=0.0010_2024-07-07_13-53-40')\n",
      "- TorchTrainer_802fd_00314: FileNotFoundError('Could not fetch metrics for TorchTrainer_802fd_00314: both result.json and progress.csv were not found at /home/sjinich/disco/TrypanoDEEPscreen/.experiments/chembl2581_rdkitfeaturization/TorchTrainer_802fd_00314_314_batch_size=64,drop_rate=0.6000,fully_layer_1=128,fully_layer_2=16,learning_rate=0.0005_2024-07-07_14-14-22')\n",
      "- TorchTrainer_802fd_00315: FileNotFoundError('Could not fetch metrics for TorchTrainer_802fd_00315: both result.json and progress.csv were not found at /home/sjinich/disco/TrypanoDEEPscreen/.experiments/chembl2581_rdkitfeaturization/TorchTrainer_802fd_00315_315_batch_size=64,drop_rate=0.6000,fully_layer_1=512,fully_layer_2=32,learning_rate=0.0010_2024-07-07_14-22-59')\n",
      "- TorchTrainer_802fd_00316: FileNotFoundError('Could not fetch metrics for TorchTrainer_802fd_00316: both result.json and progress.csv were not found at /home/sjinich/disco/TrypanoDEEPscreen/.experiments/chembl2581_rdkitfeaturization/TorchTrainer_802fd_00316_316_batch_size=64,drop_rate=0.8000,fully_layer_1=256,fully_layer_2=128,learning_rate=0.0010_2024-07-07_14-47-46')\n",
      "- TorchTrainer_802fd_00317: FileNotFoundError('Could not fetch metrics for TorchTrainer_802fd_00317: both result.json and progress.csv were not found at /home/sjinich/disco/TrypanoDEEPscreen/.experiments/chembl2581_rdkitfeaturization/TorchTrainer_802fd_00317_317_batch_size=32,drop_rate=0.3000,fully_layer_1=32,fully_layer_2=16,learning_rate=0.0010_2024-07-07_14-55-18')\n",
      "- TorchTrainer_802fd_00318: FileNotFoundError('Could not fetch metrics for TorchTrainer_802fd_00318: both result.json and progress.csv were not found at /home/sjinich/disco/TrypanoDEEPscreen/.experiments/chembl2581_rdkitfeaturization/TorchTrainer_802fd_00318_318_batch_size=32,drop_rate=0.6000,fully_layer_1=32,fully_layer_2=16,learning_rate=0.0001_2024-07-07_15-02-45')\n",
      "- TorchTrainer_802fd_00319: FileNotFoundError('Could not fetch metrics for TorchTrainer_802fd_00319: both result.json and progress.csv were not found at /home/sjinich/disco/TrypanoDEEPscreen/.experiments/chembl2581_rdkitfeaturization/TorchTrainer_802fd_00319_319_batch_size=64,drop_rate=0.8000,fully_layer_1=16,fully_layer_2=32,learning_rate=0.0005_2024-07-07_15-10-07')\n"
     ]
    }
   ],
   "source": [
    "#normal_path = \"/home/sjinich/disco/TrypanoDEEPscreen/.experiments/chembl4567_poster\"\n",
    "#normal = get_result_df(chembl262_normal_path)\n",
    "\n",
    "featurization_path = \"/home/sjinich/disco/TrypanoDEEPscreen/.experiments/chembl2581_rdkitfeaturization\"\n",
    "featurization = get_result_df(featurization_path)"
   ]
  },
  {
   "cell_type": "markdown",
   "metadata": {},
   "source": [
    "## Ordenar analizar los resultados\n",
    "Aca se va a elegir que trials plotear. Por ejemplo, lo que tengan el mejor MCC o el que tenga, las distintas metricas, etc."
   ]
  },
  {
   "cell_type": "code",
   "execution_count": 4,
   "metadata": {},
   "outputs": [],
   "source": [
    "# Aca me quedo con los 5 mejores trials en base al MCC de validacion\n",
    "# best_5_id_normal = normal.sort_values(\"val_mcc\",ascending=False).head(5).index\n",
    "best_5_id_features = featurization.sort_values(\"val_mcc\",ascending=False).head(10).index\n"
   ]
  },
  {
   "cell_type": "markdown",
   "metadata": {},
   "source": [
    "Primero quiero ver si los mejores trials se comportan igual"
   ]
  },
  {
   "cell_type": "code",
   "execution_count": 8,
   "metadata": {},
   "outputs": [],
   "source": [
    "featurization_top5 = training_data_experiment(featurization_path,best_5_id_features,[\"val_loss\",\"train_loss\"],windows_size=5)\n",
    "fig = plot_training_curve_single_model(featurization_top5)"
   ]
  },
  {
   "cell_type": "code",
   "execution_count": 9,
   "metadata": {},
   "outputs": [
    {
     "data": {
      "application/vnd.plotly.v1+json": {
       "config": {
        "plotlyServerURL": "https://plot.ly"
       },
       "data": [
        {
         "customdata": [
          [
           "FL1:128 FL2:512 DR:0.5 BS:64 LR:0.001",
           "[199, 173]"
          ],
          [
           "FL1:128 FL2:512 DR:0.5 BS:64 LR:0.001",
           "[199, 173]"
          ],
          [
           "FL1:128 FL2:512 DR:0.5 BS:64 LR:0.001",
           "[199, 173]"
          ],
          [
           "FL1:128 FL2:512 DR:0.5 BS:64 LR:0.001",
           "[199, 173]"
          ],
          [
           "FL1:128 FL2:512 DR:0.5 BS:64 LR:0.001",
           "[199, 173]"
          ],
          [
           "FL1:128 FL2:512 DR:0.5 BS:64 LR:0.001",
           "[199, 173]"
          ],
          [
           "FL1:128 FL2:512 DR:0.5 BS:64 LR:0.001",
           "[199, 173]"
          ],
          [
           "FL1:128 FL2:512 DR:0.5 BS:64 LR:0.001",
           "[199, 173]"
          ],
          [
           "FL1:128 FL2:512 DR:0.5 BS:64 LR:0.001",
           "[199, 173]"
          ],
          [
           "FL1:128 FL2:512 DR:0.5 BS:64 LR:0.001",
           "[199, 173]"
          ],
          [
           "FL1:128 FL2:512 DR:0.5 BS:64 LR:0.001",
           "[199, 173]"
          ],
          [
           "FL1:128 FL2:512 DR:0.5 BS:64 LR:0.001",
           "[199, 173]"
          ],
          [
           "FL1:128 FL2:512 DR:0.5 BS:64 LR:0.001",
           "[199, 173]"
          ],
          [
           "FL1:128 FL2:512 DR:0.5 BS:64 LR:0.001",
           "[199, 173]"
          ],
          [
           "FL1:128 FL2:512 DR:0.5 BS:64 LR:0.001",
           "[199, 173]"
          ],
          [
           "FL1:128 FL2:512 DR:0.5 BS:64 LR:0.001",
           "[199, 173]"
          ],
          [
           "FL1:128 FL2:512 DR:0.5 BS:64 LR:0.001",
           "[199, 173]"
          ],
          [
           "FL1:128 FL2:512 DR:0.5 BS:64 LR:0.001",
           "[199, 173]"
          ],
          [
           "FL1:128 FL2:512 DR:0.5 BS:64 LR:0.001",
           "[199, 173]"
          ],
          [
           "FL1:128 FL2:512 DR:0.5 BS:64 LR:0.001",
           "[199, 173]"
          ],
          [
           "FL1:128 FL2:512 DR:0.5 BS:64 LR:0.001",
           "[199, 173]"
          ],
          [
           "FL1:128 FL2:512 DR:0.5 BS:64 LR:0.001",
           "[199, 173]"
          ],
          [
           "FL1:128 FL2:512 DR:0.5 BS:64 LR:0.001",
           "[199, 173]"
          ],
          [
           "FL1:128 FL2:512 DR:0.5 BS:64 LR:0.001",
           "[199, 173]"
          ],
          [
           "FL1:128 FL2:512 DR:0.5 BS:64 LR:0.001",
           "[199, 173]"
          ],
          [
           "FL1:128 FL2:512 DR:0.5 BS:64 LR:0.001",
           "[199, 173]"
          ],
          [
           "FL1:128 FL2:512 DR:0.5 BS:64 LR:0.001",
           "[199, 173]"
          ],
          [
           "FL1:128 FL2:512 DR:0.5 BS:64 LR:0.001",
           "[199, 173]"
          ],
          [
           "FL1:128 FL2:512 DR:0.5 BS:64 LR:0.001",
           "[199, 173]"
          ],
          [
           "FL1:128 FL2:512 DR:0.5 BS:64 LR:0.001",
           "[199, 173]"
          ],
          [
           "FL1:128 FL2:512 DR:0.5 BS:64 LR:0.001",
           "[199, 173]"
          ],
          [
           "FL1:128 FL2:512 DR:0.5 BS:64 LR:0.001",
           "[199, 173]"
          ],
          [
           "FL1:128 FL2:512 DR:0.5 BS:64 LR:0.001",
           "[199, 173]"
          ],
          [
           "FL1:128 FL2:512 DR:0.5 BS:64 LR:0.001",
           "[199, 173]"
          ],
          [
           "FL1:128 FL2:512 DR:0.5 BS:64 LR:0.001",
           "[199, 173]"
          ],
          [
           "FL1:128 FL2:512 DR:0.5 BS:64 LR:0.001",
           "[199, 173]"
          ],
          [
           "FL1:128 FL2:512 DR:0.5 BS:64 LR:0.001",
           "[199, 173]"
          ],
          [
           "FL1:128 FL2:512 DR:0.5 BS:64 LR:0.001",
           "[199, 173]"
          ],
          [
           "FL1:128 FL2:512 DR:0.5 BS:64 LR:0.001",
           "[199, 173]"
          ],
          [
           "FL1:128 FL2:512 DR:0.5 BS:64 LR:0.001",
           "[199, 173]"
          ],
          [
           "FL1:128 FL2:512 DR:0.5 BS:64 LR:0.001",
           "[199, 173]"
          ],
          [
           "FL1:128 FL2:512 DR:0.5 BS:64 LR:0.001",
           "[199, 173]"
          ],
          [
           "FL1:128 FL2:512 DR:0.5 BS:64 LR:0.001",
           "[199, 173]"
          ],
          [
           "FL1:128 FL2:512 DR:0.5 BS:64 LR:0.001",
           "[199, 173]"
          ],
          [
           "FL1:128 FL2:512 DR:0.5 BS:64 LR:0.001",
           "[199, 173]"
          ],
          [
           "FL1:128 FL2:512 DR:0.5 BS:64 LR:0.001",
           "[199, 173]"
          ],
          [
           "FL1:128 FL2:512 DR:0.5 BS:64 LR:0.001",
           "[199, 173]"
          ],
          [
           "FL1:128 FL2:512 DR:0.5 BS:64 LR:0.001",
           "[199, 173]"
          ],
          [
           "FL1:128 FL2:512 DR:0.5 BS:64 LR:0.001",
           "[199, 173]"
          ],
          [
           "FL1:128 FL2:512 DR:0.5 BS:64 LR:0.001",
           "[199, 173]"
          ],
          [
           "FL1:128 FL2:512 DR:0.5 BS:64 LR:0.001",
           "[199, 173]"
          ],
          [
           "FL1:128 FL2:512 DR:0.5 BS:64 LR:0.001",
           "[199, 173]"
          ],
          [
           "FL1:128 FL2:512 DR:0.5 BS:64 LR:0.001",
           "[199, 173]"
          ],
          [
           "FL1:128 FL2:512 DR:0.5 BS:64 LR:0.001",
           "[199, 173]"
          ],
          [
           "FL1:128 FL2:512 DR:0.5 BS:64 LR:0.001",
           "[199, 173]"
          ],
          [
           "FL1:128 FL2:512 DR:0.5 BS:64 LR:0.001",
           "[199, 173]"
          ],
          [
           "FL1:128 FL2:512 DR:0.5 BS:64 LR:0.001",
           "[199, 173]"
          ],
          [
           "FL1:128 FL2:512 DR:0.5 BS:64 LR:0.001",
           "[199, 173]"
          ],
          [
           "FL1:128 FL2:512 DR:0.5 BS:64 LR:0.001",
           "[199, 173]"
          ],
          [
           "FL1:128 FL2:512 DR:0.5 BS:64 LR:0.001",
           "[199, 173]"
          ],
          [
           "FL1:128 FL2:512 DR:0.5 BS:64 LR:0.001",
           "[199, 173]"
          ],
          [
           "FL1:128 FL2:512 DR:0.5 BS:64 LR:0.001",
           "[199, 173]"
          ],
          [
           "FL1:128 FL2:512 DR:0.5 BS:64 LR:0.001",
           "[199, 173]"
          ],
          [
           "FL1:128 FL2:512 DR:0.5 BS:64 LR:0.001",
           "[199, 173]"
          ],
          [
           "FL1:128 FL2:512 DR:0.5 BS:64 LR:0.001",
           "[199, 173]"
          ],
          [
           "FL1:128 FL2:512 DR:0.5 BS:64 LR:0.001",
           "[199, 173]"
          ],
          [
           "FL1:128 FL2:512 DR:0.5 BS:64 LR:0.001",
           "[199, 173]"
          ],
          [
           "FL1:128 FL2:512 DR:0.5 BS:64 LR:0.001",
           "[199, 173]"
          ],
          [
           "FL1:128 FL2:512 DR:0.5 BS:64 LR:0.001",
           "[199, 173]"
          ],
          [
           "FL1:128 FL2:512 DR:0.5 BS:64 LR:0.001",
           "[199, 173]"
          ],
          [
           "FL1:128 FL2:512 DR:0.5 BS:64 LR:0.001",
           "[199, 173]"
          ],
          [
           "FL1:128 FL2:512 DR:0.5 BS:64 LR:0.001",
           "[199, 173]"
          ],
          [
           "FL1:128 FL2:512 DR:0.5 BS:64 LR:0.001",
           "[199, 173]"
          ],
          [
           "FL1:128 FL2:512 DR:0.5 BS:64 LR:0.001",
           "[199, 173]"
          ],
          [
           "FL1:128 FL2:512 DR:0.5 BS:64 LR:0.001",
           "[199, 173]"
          ],
          [
           "FL1:128 FL2:512 DR:0.5 BS:64 LR:0.001",
           "[199, 173]"
          ],
          [
           "FL1:128 FL2:512 DR:0.5 BS:64 LR:0.001",
           "[199, 173]"
          ],
          [
           "FL1:128 FL2:512 DR:0.5 BS:64 LR:0.001",
           "[199, 173]"
          ],
          [
           "FL1:128 FL2:512 DR:0.5 BS:64 LR:0.001",
           "[199, 173]"
          ],
          [
           "FL1:128 FL2:512 DR:0.5 BS:64 LR:0.001",
           "[199, 173]"
          ],
          [
           "FL1:128 FL2:512 DR:0.5 BS:64 LR:0.001",
           "[199, 173]"
          ],
          [
           "FL1:128 FL2:512 DR:0.5 BS:64 LR:0.001",
           "[199, 173]"
          ],
          [
           "FL1:128 FL2:512 DR:0.5 BS:64 LR:0.001",
           "[199, 173]"
          ],
          [
           "FL1:128 FL2:512 DR:0.5 BS:64 LR:0.001",
           "[199, 173]"
          ],
          [
           "FL1:128 FL2:512 DR:0.5 BS:64 LR:0.001",
           "[199, 173]"
          ],
          [
           "FL1:128 FL2:512 DR:0.5 BS:64 LR:0.001",
           "[199, 173]"
          ],
          [
           "FL1:128 FL2:512 DR:0.5 BS:64 LR:0.001",
           "[199, 173]"
          ],
          [
           "FL1:128 FL2:512 DR:0.5 BS:64 LR:0.001",
           "[199, 173]"
          ],
          [
           "FL1:128 FL2:512 DR:0.5 BS:64 LR:0.001",
           "[199, 173]"
          ],
          [
           "FL1:128 FL2:512 DR:0.5 BS:64 LR:0.001",
           "[199, 173]"
          ],
          [
           "FL1:128 FL2:512 DR:0.5 BS:64 LR:0.001",
           "[199, 173]"
          ],
          [
           "FL1:128 FL2:512 DR:0.5 BS:64 LR:0.001",
           "[199, 173]"
          ],
          [
           "FL1:128 FL2:512 DR:0.5 BS:64 LR:0.001",
           "[199, 173]"
          ],
          [
           "FL1:128 FL2:512 DR:0.5 BS:64 LR:0.001",
           "[199, 173]"
          ],
          [
           "FL1:128 FL2:512 DR:0.5 BS:64 LR:0.001",
           "[199, 173]"
          ],
          [
           "FL1:128 FL2:512 DR:0.5 BS:64 LR:0.001",
           "[199, 173]"
          ],
          [
           "FL1:128 FL2:512 DR:0.5 BS:64 LR:0.001",
           "[199, 173]"
          ],
          [
           "FL1:128 FL2:512 DR:0.5 BS:64 LR:0.001",
           "[199, 173]"
          ],
          [
           "FL1:128 FL2:512 DR:0.5 BS:64 LR:0.001",
           "[199, 173]"
          ],
          [
           "FL1:128 FL2:512 DR:0.5 BS:64 LR:0.001",
           "[199, 173]"
          ],
          [
           "FL1:128 FL2:512 DR:0.5 BS:64 LR:0.001",
           "[199, 173]"
          ],
          [
           "FL1:128 FL2:512 DR:0.5 BS:64 LR:0.001",
           "[199, 173]"
          ],
          [
           "FL1:128 FL2:512 DR:0.5 BS:64 LR:0.001",
           "[199, 173]"
          ],
          [
           "FL1:128 FL2:512 DR:0.5 BS:64 LR:0.001",
           "[199, 173]"
          ],
          [
           "FL1:128 FL2:512 DR:0.5 BS:64 LR:0.001",
           "[199, 173]"
          ],
          [
           "FL1:128 FL2:512 DR:0.5 BS:64 LR:0.001",
           "[199, 173]"
          ],
          [
           "FL1:128 FL2:512 DR:0.5 BS:64 LR:0.001",
           "[199, 173]"
          ],
          [
           "FL1:128 FL2:512 DR:0.5 BS:64 LR:0.001",
           "[199, 173]"
          ],
          [
           "FL1:128 FL2:512 DR:0.5 BS:64 LR:0.001",
           "[199, 173]"
          ],
          [
           "FL1:128 FL2:512 DR:0.5 BS:64 LR:0.001",
           "[199, 173]"
          ],
          [
           "FL1:128 FL2:512 DR:0.5 BS:64 LR:0.001",
           "[199, 173]"
          ],
          [
           "FL1:128 FL2:512 DR:0.5 BS:64 LR:0.001",
           "[199, 173]"
          ],
          [
           "FL1:128 FL2:512 DR:0.5 BS:64 LR:0.001",
           "[199, 173]"
          ],
          [
           "FL1:128 FL2:512 DR:0.5 BS:64 LR:0.001",
           "[199, 173]"
          ],
          [
           "FL1:128 FL2:512 DR:0.5 BS:64 LR:0.001",
           "[199, 173]"
          ],
          [
           "FL1:128 FL2:512 DR:0.5 BS:64 LR:0.001",
           "[199, 173]"
          ],
          [
           "FL1:128 FL2:512 DR:0.5 BS:64 LR:0.001",
           "[199, 173]"
          ],
          [
           "FL1:128 FL2:512 DR:0.5 BS:64 LR:0.001",
           "[199, 173]"
          ],
          [
           "FL1:128 FL2:512 DR:0.5 BS:64 LR:0.001",
           "[199, 173]"
          ],
          [
           "FL1:128 FL2:512 DR:0.5 BS:64 LR:0.001",
           "[199, 173]"
          ],
          [
           "FL1:128 FL2:512 DR:0.5 BS:64 LR:0.001",
           "[199, 173]"
          ],
          [
           "FL1:128 FL2:512 DR:0.5 BS:64 LR:0.001",
           "[199, 173]"
          ],
          [
           "FL1:128 FL2:512 DR:0.5 BS:64 LR:0.001",
           "[199, 173]"
          ],
          [
           "FL1:128 FL2:512 DR:0.5 BS:64 LR:0.001",
           "[199, 173]"
          ],
          [
           "FL1:128 FL2:512 DR:0.5 BS:64 LR:0.001",
           "[199, 173]"
          ],
          [
           "FL1:128 FL2:512 DR:0.5 BS:64 LR:0.001",
           "[199, 173]"
          ],
          [
           "FL1:128 FL2:512 DR:0.5 BS:64 LR:0.001",
           "[199, 173]"
          ],
          [
           "FL1:128 FL2:512 DR:0.5 BS:64 LR:0.001",
           "[199, 173]"
          ],
          [
           "FL1:128 FL2:512 DR:0.5 BS:64 LR:0.001",
           "[199, 173]"
          ],
          [
           "FL1:128 FL2:512 DR:0.5 BS:64 LR:0.001",
           "[199, 173]"
          ],
          [
           "FL1:128 FL2:512 DR:0.5 BS:64 LR:0.001",
           "[199, 173]"
          ],
          [
           "FL1:128 FL2:512 DR:0.5 BS:64 LR:0.001",
           "[199, 173]"
          ],
          [
           "FL1:128 FL2:512 DR:0.5 BS:64 LR:0.001",
           "[199, 173]"
          ],
          [
           "FL1:128 FL2:512 DR:0.5 BS:64 LR:0.001",
           "[199, 173]"
          ],
          [
           "FL1:128 FL2:512 DR:0.5 BS:64 LR:0.001",
           "[199, 173]"
          ],
          [
           "FL1:128 FL2:512 DR:0.5 BS:64 LR:0.001",
           "[199, 173]"
          ],
          [
           "FL1:128 FL2:512 DR:0.5 BS:64 LR:0.001",
           "[199, 173]"
          ],
          [
           "FL1:128 FL2:512 DR:0.5 BS:64 LR:0.001",
           "[199, 173]"
          ],
          [
           "FL1:128 FL2:512 DR:0.5 BS:64 LR:0.001",
           "[199, 173]"
          ],
          [
           "FL1:128 FL2:512 DR:0.5 BS:64 LR:0.001",
           "[199, 173]"
          ],
          [
           "FL1:128 FL2:512 DR:0.5 BS:64 LR:0.001",
           "[199, 173]"
          ],
          [
           "FL1:128 FL2:512 DR:0.5 BS:64 LR:0.001",
           "[199, 173]"
          ],
          [
           "FL1:128 FL2:512 DR:0.5 BS:64 LR:0.001",
           "[199, 173]"
          ],
          [
           "FL1:128 FL2:512 DR:0.5 BS:64 LR:0.001",
           "[199, 173]"
          ],
          [
           "FL1:128 FL2:512 DR:0.5 BS:64 LR:0.001",
           "[199, 173]"
          ],
          [
           "FL1:128 FL2:512 DR:0.5 BS:64 LR:0.001",
           "[199, 173]"
          ],
          [
           "FL1:128 FL2:512 DR:0.5 BS:64 LR:0.001",
           "[199, 173]"
          ],
          [
           "FL1:128 FL2:512 DR:0.5 BS:64 LR:0.001",
           "[199, 173]"
          ],
          [
           "FL1:128 FL2:512 DR:0.5 BS:64 LR:0.001",
           "[199, 173]"
          ],
          [
           "FL1:128 FL2:512 DR:0.5 BS:64 LR:0.001",
           "[199, 173]"
          ],
          [
           "FL1:128 FL2:512 DR:0.5 BS:64 LR:0.001",
           "[199, 173]"
          ],
          [
           "FL1:128 FL2:512 DR:0.5 BS:64 LR:0.001",
           "[199, 173]"
          ],
          [
           "FL1:128 FL2:512 DR:0.5 BS:64 LR:0.001",
           "[199, 173]"
          ],
          [
           "FL1:128 FL2:512 DR:0.5 BS:64 LR:0.001",
           "[199, 173]"
          ],
          [
           "FL1:128 FL2:512 DR:0.5 BS:64 LR:0.001",
           "[199, 173]"
          ],
          [
           "FL1:128 FL2:512 DR:0.5 BS:64 LR:0.001",
           "[199, 173]"
          ],
          [
           "FL1:128 FL2:512 DR:0.5 BS:64 LR:0.001",
           "[199, 173]"
          ],
          [
           "FL1:128 FL2:512 DR:0.5 BS:64 LR:0.001",
           "[199, 173]"
          ],
          [
           "FL1:128 FL2:512 DR:0.5 BS:64 LR:0.001",
           "[199, 173]"
          ],
          [
           "FL1:128 FL2:512 DR:0.5 BS:64 LR:0.001",
           "[199, 173]"
          ],
          [
           "FL1:128 FL2:512 DR:0.5 BS:64 LR:0.001",
           "[199, 173]"
          ],
          [
           "FL1:128 FL2:512 DR:0.5 BS:64 LR:0.001",
           "[199, 173]"
          ],
          [
           "FL1:128 FL2:512 DR:0.5 BS:64 LR:0.001",
           "[199, 173]"
          ],
          [
           "FL1:128 FL2:512 DR:0.5 BS:64 LR:0.001",
           "[199, 173]"
          ],
          [
           "FL1:128 FL2:512 DR:0.5 BS:64 LR:0.001",
           "[199, 173]"
          ],
          [
           "FL1:128 FL2:512 DR:0.5 BS:64 LR:0.001",
           "[199, 173]"
          ],
          [
           "FL1:128 FL2:512 DR:0.5 BS:64 LR:0.001",
           "[199, 173]"
          ],
          [
           "FL1:128 FL2:512 DR:0.5 BS:64 LR:0.001",
           "[199, 173]"
          ],
          [
           "FL1:128 FL2:512 DR:0.5 BS:64 LR:0.001",
           "[199, 173]"
          ],
          [
           "FL1:128 FL2:512 DR:0.5 BS:64 LR:0.001",
           "[199, 173]"
          ],
          [
           "FL1:128 FL2:512 DR:0.5 BS:64 LR:0.001",
           "[199, 173]"
          ],
          [
           "FL1:128 FL2:512 DR:0.5 BS:64 LR:0.001",
           "[199, 173]"
          ],
          [
           "FL1:128 FL2:512 DR:0.5 BS:64 LR:0.001",
           "[199, 173]"
          ],
          [
           "FL1:128 FL2:512 DR:0.5 BS:64 LR:0.001",
           "[199, 173]"
          ],
          [
           "FL1:128 FL2:512 DR:0.5 BS:64 LR:0.001",
           "[199, 173]"
          ],
          [
           "FL1:128 FL2:512 DR:0.5 BS:64 LR:0.001",
           "[199, 173]"
          ],
          [
           "FL1:128 FL2:512 DR:0.5 BS:64 LR:0.001",
           "[199, 173]"
          ],
          [
           "FL1:128 FL2:512 DR:0.5 BS:64 LR:0.001",
           "[199, 173]"
          ],
          [
           "FL1:128 FL2:512 DR:0.5 BS:64 LR:0.001",
           "[199, 173]"
          ],
          [
           "FL1:128 FL2:512 DR:0.5 BS:64 LR:0.001",
           "[199, 173]"
          ],
          [
           "FL1:128 FL2:512 DR:0.5 BS:64 LR:0.001",
           "[199, 173]"
          ],
          [
           "FL1:128 FL2:512 DR:0.5 BS:64 LR:0.001",
           "[199, 173]"
          ],
          [
           "FL1:128 FL2:512 DR:0.5 BS:64 LR:0.001",
           "[199, 173]"
          ],
          [
           "FL1:128 FL2:512 DR:0.5 BS:64 LR:0.001",
           "[199, 173]"
          ],
          [
           "FL1:128 FL2:512 DR:0.5 BS:64 LR:0.001",
           "[199, 173]"
          ],
          [
           "FL1:128 FL2:512 DR:0.5 BS:64 LR:0.001",
           "[199, 173]"
          ],
          [
           "FL1:128 FL2:512 DR:0.5 BS:64 LR:0.001",
           "[199, 173]"
          ],
          [
           "FL1:128 FL2:512 DR:0.5 BS:64 LR:0.001",
           "[199, 173]"
          ],
          [
           "FL1:128 FL2:512 DR:0.5 BS:64 LR:0.001",
           "[199, 173]"
          ],
          [
           "FL1:128 FL2:512 DR:0.5 BS:64 LR:0.001",
           "[199, 173]"
          ],
          [
           "FL1:128 FL2:512 DR:0.5 BS:64 LR:0.001",
           "[199, 173]"
          ],
          [
           "FL1:128 FL2:512 DR:0.5 BS:64 LR:0.001",
           "[199, 173]"
          ],
          [
           "FL1:128 FL2:512 DR:0.5 BS:64 LR:0.001",
           "[199, 173]"
          ],
          [
           "FL1:128 FL2:512 DR:0.5 BS:64 LR:0.001",
           "[199, 173]"
          ],
          [
           "FL1:128 FL2:512 DR:0.5 BS:64 LR:0.001",
           "[199, 173]"
          ],
          [
           "FL1:128 FL2:512 DR:0.5 BS:64 LR:0.001",
           "[199, 173]"
          ],
          [
           "FL1:128 FL2:512 DR:0.5 BS:64 LR:0.001",
           "[199, 173]"
          ],
          [
           "FL1:128 FL2:512 DR:0.5 BS:64 LR:0.001",
           "[199, 173]"
          ],
          [
           "FL1:128 FL2:512 DR:0.5 BS:64 LR:0.001",
           "[199, 173]"
          ],
          [
           "FL1:128 FL2:512 DR:0.5 BS:64 LR:0.001",
           "[199, 173]"
          ]
         ],
         "hovertemplate": "variable=val_loss<br>trial_id=802fd_00008<br>epoch=%{x}<br>value=%{y}<br>Hyperparameters=%{customdata[0]}<br>checkpoints=%{customdata[1]}<extra></extra>",
         "legendgroup": "val_loss, 802fd_00008",
         "line": {
          "color": "#636efa",
          "dash": "solid"
         },
         "marker": {
          "symbol": "circle"
         },
         "mode": "lines",
         "name": "val_loss, 802fd_00008",
         "showlegend": true,
         "type": "scattergl",
         "x": [
          0,
          1,
          2,
          3,
          4,
          5,
          6,
          7,
          8,
          9,
          10,
          11,
          12,
          13,
          14,
          15,
          16,
          17,
          18,
          19,
          20,
          21,
          22,
          23,
          24,
          25,
          26,
          27,
          28,
          29,
          30,
          31,
          32,
          33,
          34,
          35,
          36,
          37,
          38,
          39,
          40,
          41,
          42,
          43,
          44,
          45,
          46,
          47,
          48,
          49,
          50,
          51,
          52,
          53,
          54,
          55,
          56,
          57,
          58,
          59,
          60,
          61,
          62,
          63,
          64,
          65,
          66,
          67,
          68,
          69,
          70,
          71,
          72,
          73,
          74,
          75,
          76,
          77,
          78,
          79,
          80,
          81,
          82,
          83,
          84,
          85,
          86,
          87,
          88,
          89,
          90,
          91,
          92,
          93,
          94,
          95,
          96,
          97,
          98,
          99,
          100,
          101,
          102,
          103,
          104,
          105,
          106,
          107,
          108,
          109,
          110,
          111,
          112,
          113,
          114,
          115,
          116,
          117,
          118,
          119,
          120,
          121,
          122,
          123,
          124,
          125,
          126,
          127,
          128,
          129,
          130,
          131,
          132,
          133,
          134,
          135,
          136,
          137,
          138,
          139,
          140,
          141,
          142,
          143,
          144,
          145,
          146,
          147,
          148,
          149,
          150,
          151,
          152,
          153,
          154,
          155,
          156,
          157,
          158,
          159,
          160,
          161,
          162,
          163,
          164,
          165,
          166,
          167,
          168,
          169,
          170,
          171,
          172,
          173,
          174,
          175,
          176,
          177,
          178,
          179,
          180,
          181,
          182,
          183,
          184,
          185,
          186,
          187,
          188,
          189,
          190,
          191,
          192,
          193,
          194,
          195,
          196,
          197,
          198,
          199
         ],
         "xaxis": "x",
         "y": [
          0.5908713340759264,
          0.5224485894044222,
          0.46032047602865234,
          0.42221772891503573,
          0.39077591049818117,
          0.37398674519954656,
          0.3532654208083843,
          0.3425132640295481,
          0.33616627309674973,
          0.3252721200648603,
          0.32297404079064035,
          0.3481060264403566,
          0.325960506856106,
          0.3240553172824523,
          0.3248678169248985,
          0.31629060848543883,
          0.3219223661157139,
          0.3262776264172551,
          0.3235632266350419,
          0.33655818871311466,
          0.33012258722816573,
          0.3430647533101144,
          0.33966225259584126,
          0.3415871552168119,
          0.34704304678829345,
          0.34710503249427815,
          0.36084120888882876,
          0.3619673611016662,
          0.35418972778926816,
          0.3725547718247465,
          0.36884796137549347,
          0.35431356903538275,
          0.36102455971390035,
          0.3700488118181619,
          0.3623173076477303,
          0.36942315025903383,
          0.38505124001885416,
          0.4113497664477083,
          0.37854556772083986,
          0.3778535030482266,
          0.3754830394981994,
          0.3477405630746605,
          0.3625448063478939,
          0.3735110670636799,
          0.3691365560101596,
          0.37731272910748015,
          0.3783585292413099,
          0.3873245922932525,
          0.3930911460326436,
          0.42003746091036703,
          0.4058056060387596,
          0.40454364047539826,
          0.4085447505188813,
          0.40041032533333143,
          0.3897525674799105,
          0.4114780430461966,
          0.3993086122450557,
          0.4018092885929553,
          0.40280799967171044,
          0.4189635839867666,
          0.3964589355262162,
          0.42613809094641103,
          0.42058745215875143,
          0.437594663371921,
          0.4244811112816327,
          0.42931311495669533,
          0.46212535545274713,
          0.4420657121144729,
          0.4470171407198231,
          0.4570139696422752,
          0.4872238073232119,
          0.5084727229994089,
          0.49682826613860215,
          0.4981113130216911,
          0.5105130509777266,
          0.502383181535097,
          0.4985164066704712,
          0.47345830735581357,
          0.45419520296664434,
          0.4757513414357186,
          0.4926131772024142,
          0.5046093932140329,
          0.49744707487347667,
          0.5018703748274033,
          0.4692584845415863,
          0.4701506576930216,
          0.4651338413023098,
          0.47229181426519323,
          0.48856388660109024,
          0.4763996543608496,
          0.47822002186526,
          0.4579628945334024,
          0.49739133920558587,
          0.49928815898821177,
          0.5094551956489697,
          0.5364834411829706,
          0.4976064691205807,
          0.4967077559404883,
          0.4792452776546807,
          0.4711398796316991,
          0.4809328725653882,
          0.47124751148740307,
          0.4899604038272941,
          0.5200742096288087,
          0.5187655628113657,
          0.5279440840342767,
          0.5012932592139715,
          0.5411575750182769,
          0.5444316874391955,
          0.5348257429366047,
          0.5598178709192219,
          0.5647043919989215,
          0.5195138577904126,
          0.5052527370907071,
          0.5050604265833685,
          0.5137142288621777,
          0.4948761594253445,
          0.49831552187321226,
          0.4963321346688102,
          0.5143467160494998,
          0.5146131695927418,
          0.5019563457450085,
          0.5186042998287939,
          0.5354841890635651,
          0.5368845226170316,
          0.5741417448919132,
          0.555541935311496,
          0.5535872994176134,
          0.5495259641482808,
          0.6209478298077551,
          0.6270974622335397,
          0.6226502091464957,
          0.6012765785573284,
          0.5828547888675226,
          0.5703804568236983,
          0.5796240618352025,
          0.5996658835493132,
          0.6133931698853826,
          0.6176043631272204,
          0.613596809018762,
          0.6223188122836145,
          0.6241435462055849,
          0.6311370964724636,
          0.6315741695217817,
          0.6580506468648714,
          0.6848266260382185,
          0.6568623275595658,
          0.616450812487982,
          0.5972746584608689,
          0.6215625586638523,
          0.6299348991797799,
          0.6233552046409191,
          0.599464035550152,
          0.6115206721884625,
          0.5703031482605537,
          0.5822923820752818,
          0.6354180800609386,
          0.6460767539138643,
          0.6256247064666632,
          0.6224128141136078,
          0.6308013289591394,
          0.6407790044559837,
          0.6538166112114175,
          0.6518875563415661,
          0.6834966675621104,
          0.6743036598749829,
          0.6985977352187267,
          0.7340081970244778,
          0.7090215908388369,
          0.6710275760557951,
          0.6699998810070539,
          0.6842194884470939,
          0.6828112860157634,
          0.6689652177780551,
          0.6998679620086917,
          0.6794848231514128,
          0.704761252670805,
          0.6651509906645074,
          0.6648552156683757,
          0.6742715065477244,
          0.6497233393985649,
          0.6739522340031859,
          0.6926862280986289,
          0.6868125784014036,
          0.637848952585747,
          0.6144488117259662,
          0.6830952539153822,
          0.7139558245147533,
          0.7074609431561657,
          0.7081701578654716,
          0.7293701053962338,
          0.7506628156572712,
          0.7569771489083837,
          0.7408662491758695,
          0.7529620762480632,
          0.7278809107550854,
          0.7872643177515164,
          0.7834839824044616,
          0.6921427450712451,
          0.6927985682842404
         ],
         "yaxis": "y"
        },
        {
         "customdata": [
          [
           "FL1:256 FL2:16 DR:0.5 BS:32 LR:0.0001",
           "[113, 199]"
          ],
          [
           "FL1:256 FL2:16 DR:0.5 BS:32 LR:0.0001",
           "[113, 199]"
          ],
          [
           "FL1:256 FL2:16 DR:0.5 BS:32 LR:0.0001",
           "[113, 199]"
          ],
          [
           "FL1:256 FL2:16 DR:0.5 BS:32 LR:0.0001",
           "[113, 199]"
          ],
          [
           "FL1:256 FL2:16 DR:0.5 BS:32 LR:0.0001",
           "[113, 199]"
          ],
          [
           "FL1:256 FL2:16 DR:0.5 BS:32 LR:0.0001",
           "[113, 199]"
          ],
          [
           "FL1:256 FL2:16 DR:0.5 BS:32 LR:0.0001",
           "[113, 199]"
          ],
          [
           "FL1:256 FL2:16 DR:0.5 BS:32 LR:0.0001",
           "[113, 199]"
          ],
          [
           "FL1:256 FL2:16 DR:0.5 BS:32 LR:0.0001",
           "[113, 199]"
          ],
          [
           "FL1:256 FL2:16 DR:0.5 BS:32 LR:0.0001",
           "[113, 199]"
          ],
          [
           "FL1:256 FL2:16 DR:0.5 BS:32 LR:0.0001",
           "[113, 199]"
          ],
          [
           "FL1:256 FL2:16 DR:0.5 BS:32 LR:0.0001",
           "[113, 199]"
          ],
          [
           "FL1:256 FL2:16 DR:0.5 BS:32 LR:0.0001",
           "[113, 199]"
          ],
          [
           "FL1:256 FL2:16 DR:0.5 BS:32 LR:0.0001",
           "[113, 199]"
          ],
          [
           "FL1:256 FL2:16 DR:0.5 BS:32 LR:0.0001",
           "[113, 199]"
          ],
          [
           "FL1:256 FL2:16 DR:0.5 BS:32 LR:0.0001",
           "[113, 199]"
          ],
          [
           "FL1:256 FL2:16 DR:0.5 BS:32 LR:0.0001",
           "[113, 199]"
          ],
          [
           "FL1:256 FL2:16 DR:0.5 BS:32 LR:0.0001",
           "[113, 199]"
          ],
          [
           "FL1:256 FL2:16 DR:0.5 BS:32 LR:0.0001",
           "[113, 199]"
          ],
          [
           "FL1:256 FL2:16 DR:0.5 BS:32 LR:0.0001",
           "[113, 199]"
          ],
          [
           "FL1:256 FL2:16 DR:0.5 BS:32 LR:0.0001",
           "[113, 199]"
          ],
          [
           "FL1:256 FL2:16 DR:0.5 BS:32 LR:0.0001",
           "[113, 199]"
          ],
          [
           "FL1:256 FL2:16 DR:0.5 BS:32 LR:0.0001",
           "[113, 199]"
          ],
          [
           "FL1:256 FL2:16 DR:0.5 BS:32 LR:0.0001",
           "[113, 199]"
          ],
          [
           "FL1:256 FL2:16 DR:0.5 BS:32 LR:0.0001",
           "[113, 199]"
          ],
          [
           "FL1:256 FL2:16 DR:0.5 BS:32 LR:0.0001",
           "[113, 199]"
          ],
          [
           "FL1:256 FL2:16 DR:0.5 BS:32 LR:0.0001",
           "[113, 199]"
          ],
          [
           "FL1:256 FL2:16 DR:0.5 BS:32 LR:0.0001",
           "[113, 199]"
          ],
          [
           "FL1:256 FL2:16 DR:0.5 BS:32 LR:0.0001",
           "[113, 199]"
          ],
          [
           "FL1:256 FL2:16 DR:0.5 BS:32 LR:0.0001",
           "[113, 199]"
          ],
          [
           "FL1:256 FL2:16 DR:0.5 BS:32 LR:0.0001",
           "[113, 199]"
          ],
          [
           "FL1:256 FL2:16 DR:0.5 BS:32 LR:0.0001",
           "[113, 199]"
          ],
          [
           "FL1:256 FL2:16 DR:0.5 BS:32 LR:0.0001",
           "[113, 199]"
          ],
          [
           "FL1:256 FL2:16 DR:0.5 BS:32 LR:0.0001",
           "[113, 199]"
          ],
          [
           "FL1:256 FL2:16 DR:0.5 BS:32 LR:0.0001",
           "[113, 199]"
          ],
          [
           "FL1:256 FL2:16 DR:0.5 BS:32 LR:0.0001",
           "[113, 199]"
          ],
          [
           "FL1:256 FL2:16 DR:0.5 BS:32 LR:0.0001",
           "[113, 199]"
          ],
          [
           "FL1:256 FL2:16 DR:0.5 BS:32 LR:0.0001",
           "[113, 199]"
          ],
          [
           "FL1:256 FL2:16 DR:0.5 BS:32 LR:0.0001",
           "[113, 199]"
          ],
          [
           "FL1:256 FL2:16 DR:0.5 BS:32 LR:0.0001",
           "[113, 199]"
          ],
          [
           "FL1:256 FL2:16 DR:0.5 BS:32 LR:0.0001",
           "[113, 199]"
          ],
          [
           "FL1:256 FL2:16 DR:0.5 BS:32 LR:0.0001",
           "[113, 199]"
          ],
          [
           "FL1:256 FL2:16 DR:0.5 BS:32 LR:0.0001",
           "[113, 199]"
          ],
          [
           "FL1:256 FL2:16 DR:0.5 BS:32 LR:0.0001",
           "[113, 199]"
          ],
          [
           "FL1:256 FL2:16 DR:0.5 BS:32 LR:0.0001",
           "[113, 199]"
          ],
          [
           "FL1:256 FL2:16 DR:0.5 BS:32 LR:0.0001",
           "[113, 199]"
          ],
          [
           "FL1:256 FL2:16 DR:0.5 BS:32 LR:0.0001",
           "[113, 199]"
          ],
          [
           "FL1:256 FL2:16 DR:0.5 BS:32 LR:0.0001",
           "[113, 199]"
          ],
          [
           "FL1:256 FL2:16 DR:0.5 BS:32 LR:0.0001",
           "[113, 199]"
          ],
          [
           "FL1:256 FL2:16 DR:0.5 BS:32 LR:0.0001",
           "[113, 199]"
          ],
          [
           "FL1:256 FL2:16 DR:0.5 BS:32 LR:0.0001",
           "[113, 199]"
          ],
          [
           "FL1:256 FL2:16 DR:0.5 BS:32 LR:0.0001",
           "[113, 199]"
          ],
          [
           "FL1:256 FL2:16 DR:0.5 BS:32 LR:0.0001",
           "[113, 199]"
          ],
          [
           "FL1:256 FL2:16 DR:0.5 BS:32 LR:0.0001",
           "[113, 199]"
          ],
          [
           "FL1:256 FL2:16 DR:0.5 BS:32 LR:0.0001",
           "[113, 199]"
          ],
          [
           "FL1:256 FL2:16 DR:0.5 BS:32 LR:0.0001",
           "[113, 199]"
          ],
          [
           "FL1:256 FL2:16 DR:0.5 BS:32 LR:0.0001",
           "[113, 199]"
          ],
          [
           "FL1:256 FL2:16 DR:0.5 BS:32 LR:0.0001",
           "[113, 199]"
          ],
          [
           "FL1:256 FL2:16 DR:0.5 BS:32 LR:0.0001",
           "[113, 199]"
          ],
          [
           "FL1:256 FL2:16 DR:0.5 BS:32 LR:0.0001",
           "[113, 199]"
          ],
          [
           "FL1:256 FL2:16 DR:0.5 BS:32 LR:0.0001",
           "[113, 199]"
          ],
          [
           "FL1:256 FL2:16 DR:0.5 BS:32 LR:0.0001",
           "[113, 199]"
          ],
          [
           "FL1:256 FL2:16 DR:0.5 BS:32 LR:0.0001",
           "[113, 199]"
          ],
          [
           "FL1:256 FL2:16 DR:0.5 BS:32 LR:0.0001",
           "[113, 199]"
          ],
          [
           "FL1:256 FL2:16 DR:0.5 BS:32 LR:0.0001",
           "[113, 199]"
          ],
          [
           "FL1:256 FL2:16 DR:0.5 BS:32 LR:0.0001",
           "[113, 199]"
          ],
          [
           "FL1:256 FL2:16 DR:0.5 BS:32 LR:0.0001",
           "[113, 199]"
          ],
          [
           "FL1:256 FL2:16 DR:0.5 BS:32 LR:0.0001",
           "[113, 199]"
          ],
          [
           "FL1:256 FL2:16 DR:0.5 BS:32 LR:0.0001",
           "[113, 199]"
          ],
          [
           "FL1:256 FL2:16 DR:0.5 BS:32 LR:0.0001",
           "[113, 199]"
          ],
          [
           "FL1:256 FL2:16 DR:0.5 BS:32 LR:0.0001",
           "[113, 199]"
          ],
          [
           "FL1:256 FL2:16 DR:0.5 BS:32 LR:0.0001",
           "[113, 199]"
          ],
          [
           "FL1:256 FL2:16 DR:0.5 BS:32 LR:0.0001",
           "[113, 199]"
          ],
          [
           "FL1:256 FL2:16 DR:0.5 BS:32 LR:0.0001",
           "[113, 199]"
          ],
          [
           "FL1:256 FL2:16 DR:0.5 BS:32 LR:0.0001",
           "[113, 199]"
          ],
          [
           "FL1:256 FL2:16 DR:0.5 BS:32 LR:0.0001",
           "[113, 199]"
          ],
          [
           "FL1:256 FL2:16 DR:0.5 BS:32 LR:0.0001",
           "[113, 199]"
          ],
          [
           "FL1:256 FL2:16 DR:0.5 BS:32 LR:0.0001",
           "[113, 199]"
          ],
          [
           "FL1:256 FL2:16 DR:0.5 BS:32 LR:0.0001",
           "[113, 199]"
          ],
          [
           "FL1:256 FL2:16 DR:0.5 BS:32 LR:0.0001",
           "[113, 199]"
          ],
          [
           "FL1:256 FL2:16 DR:0.5 BS:32 LR:0.0001",
           "[113, 199]"
          ],
          [
           "FL1:256 FL2:16 DR:0.5 BS:32 LR:0.0001",
           "[113, 199]"
          ],
          [
           "FL1:256 FL2:16 DR:0.5 BS:32 LR:0.0001",
           "[113, 199]"
          ],
          [
           "FL1:256 FL2:16 DR:0.5 BS:32 LR:0.0001",
           "[113, 199]"
          ],
          [
           "FL1:256 FL2:16 DR:0.5 BS:32 LR:0.0001",
           "[113, 199]"
          ],
          [
           "FL1:256 FL2:16 DR:0.5 BS:32 LR:0.0001",
           "[113, 199]"
          ],
          [
           "FL1:256 FL2:16 DR:0.5 BS:32 LR:0.0001",
           "[113, 199]"
          ],
          [
           "FL1:256 FL2:16 DR:0.5 BS:32 LR:0.0001",
           "[113, 199]"
          ],
          [
           "FL1:256 FL2:16 DR:0.5 BS:32 LR:0.0001",
           "[113, 199]"
          ],
          [
           "FL1:256 FL2:16 DR:0.5 BS:32 LR:0.0001",
           "[113, 199]"
          ],
          [
           "FL1:256 FL2:16 DR:0.5 BS:32 LR:0.0001",
           "[113, 199]"
          ],
          [
           "FL1:256 FL2:16 DR:0.5 BS:32 LR:0.0001",
           "[113, 199]"
          ],
          [
           "FL1:256 FL2:16 DR:0.5 BS:32 LR:0.0001",
           "[113, 199]"
          ],
          [
           "FL1:256 FL2:16 DR:0.5 BS:32 LR:0.0001",
           "[113, 199]"
          ],
          [
           "FL1:256 FL2:16 DR:0.5 BS:32 LR:0.0001",
           "[113, 199]"
          ],
          [
           "FL1:256 FL2:16 DR:0.5 BS:32 LR:0.0001",
           "[113, 199]"
          ],
          [
           "FL1:256 FL2:16 DR:0.5 BS:32 LR:0.0001",
           "[113, 199]"
          ],
          [
           "FL1:256 FL2:16 DR:0.5 BS:32 LR:0.0001",
           "[113, 199]"
          ],
          [
           "FL1:256 FL2:16 DR:0.5 BS:32 LR:0.0001",
           "[113, 199]"
          ],
          [
           "FL1:256 FL2:16 DR:0.5 BS:32 LR:0.0001",
           "[113, 199]"
          ],
          [
           "FL1:256 FL2:16 DR:0.5 BS:32 LR:0.0001",
           "[113, 199]"
          ],
          [
           "FL1:256 FL2:16 DR:0.5 BS:32 LR:0.0001",
           "[113, 199]"
          ],
          [
           "FL1:256 FL2:16 DR:0.5 BS:32 LR:0.0001",
           "[113, 199]"
          ],
          [
           "FL1:256 FL2:16 DR:0.5 BS:32 LR:0.0001",
           "[113, 199]"
          ],
          [
           "FL1:256 FL2:16 DR:0.5 BS:32 LR:0.0001",
           "[113, 199]"
          ],
          [
           "FL1:256 FL2:16 DR:0.5 BS:32 LR:0.0001",
           "[113, 199]"
          ],
          [
           "FL1:256 FL2:16 DR:0.5 BS:32 LR:0.0001",
           "[113, 199]"
          ],
          [
           "FL1:256 FL2:16 DR:0.5 BS:32 LR:0.0001",
           "[113, 199]"
          ],
          [
           "FL1:256 FL2:16 DR:0.5 BS:32 LR:0.0001",
           "[113, 199]"
          ],
          [
           "FL1:256 FL2:16 DR:0.5 BS:32 LR:0.0001",
           "[113, 199]"
          ],
          [
           "FL1:256 FL2:16 DR:0.5 BS:32 LR:0.0001",
           "[113, 199]"
          ],
          [
           "FL1:256 FL2:16 DR:0.5 BS:32 LR:0.0001",
           "[113, 199]"
          ],
          [
           "FL1:256 FL2:16 DR:0.5 BS:32 LR:0.0001",
           "[113, 199]"
          ],
          [
           "FL1:256 FL2:16 DR:0.5 BS:32 LR:0.0001",
           "[113, 199]"
          ],
          [
           "FL1:256 FL2:16 DR:0.5 BS:32 LR:0.0001",
           "[113, 199]"
          ],
          [
           "FL1:256 FL2:16 DR:0.5 BS:32 LR:0.0001",
           "[113, 199]"
          ],
          [
           "FL1:256 FL2:16 DR:0.5 BS:32 LR:0.0001",
           "[113, 199]"
          ],
          [
           "FL1:256 FL2:16 DR:0.5 BS:32 LR:0.0001",
           "[113, 199]"
          ],
          [
           "FL1:256 FL2:16 DR:0.5 BS:32 LR:0.0001",
           "[113, 199]"
          ],
          [
           "FL1:256 FL2:16 DR:0.5 BS:32 LR:0.0001",
           "[113, 199]"
          ],
          [
           "FL1:256 FL2:16 DR:0.5 BS:32 LR:0.0001",
           "[113, 199]"
          ],
          [
           "FL1:256 FL2:16 DR:0.5 BS:32 LR:0.0001",
           "[113, 199]"
          ],
          [
           "FL1:256 FL2:16 DR:0.5 BS:32 LR:0.0001",
           "[113, 199]"
          ],
          [
           "FL1:256 FL2:16 DR:0.5 BS:32 LR:0.0001",
           "[113, 199]"
          ],
          [
           "FL1:256 FL2:16 DR:0.5 BS:32 LR:0.0001",
           "[113, 199]"
          ],
          [
           "FL1:256 FL2:16 DR:0.5 BS:32 LR:0.0001",
           "[113, 199]"
          ],
          [
           "FL1:256 FL2:16 DR:0.5 BS:32 LR:0.0001",
           "[113, 199]"
          ],
          [
           "FL1:256 FL2:16 DR:0.5 BS:32 LR:0.0001",
           "[113, 199]"
          ],
          [
           "FL1:256 FL2:16 DR:0.5 BS:32 LR:0.0001",
           "[113, 199]"
          ],
          [
           "FL1:256 FL2:16 DR:0.5 BS:32 LR:0.0001",
           "[113, 199]"
          ],
          [
           "FL1:256 FL2:16 DR:0.5 BS:32 LR:0.0001",
           "[113, 199]"
          ],
          [
           "FL1:256 FL2:16 DR:0.5 BS:32 LR:0.0001",
           "[113, 199]"
          ],
          [
           "FL1:256 FL2:16 DR:0.5 BS:32 LR:0.0001",
           "[113, 199]"
          ],
          [
           "FL1:256 FL2:16 DR:0.5 BS:32 LR:0.0001",
           "[113, 199]"
          ],
          [
           "FL1:256 FL2:16 DR:0.5 BS:32 LR:0.0001",
           "[113, 199]"
          ],
          [
           "FL1:256 FL2:16 DR:0.5 BS:32 LR:0.0001",
           "[113, 199]"
          ],
          [
           "FL1:256 FL2:16 DR:0.5 BS:32 LR:0.0001",
           "[113, 199]"
          ],
          [
           "FL1:256 FL2:16 DR:0.5 BS:32 LR:0.0001",
           "[113, 199]"
          ],
          [
           "FL1:256 FL2:16 DR:0.5 BS:32 LR:0.0001",
           "[113, 199]"
          ],
          [
           "FL1:256 FL2:16 DR:0.5 BS:32 LR:0.0001",
           "[113, 199]"
          ],
          [
           "FL1:256 FL2:16 DR:0.5 BS:32 LR:0.0001",
           "[113, 199]"
          ],
          [
           "FL1:256 FL2:16 DR:0.5 BS:32 LR:0.0001",
           "[113, 199]"
          ],
          [
           "FL1:256 FL2:16 DR:0.5 BS:32 LR:0.0001",
           "[113, 199]"
          ],
          [
           "FL1:256 FL2:16 DR:0.5 BS:32 LR:0.0001",
           "[113, 199]"
          ],
          [
           "FL1:256 FL2:16 DR:0.5 BS:32 LR:0.0001",
           "[113, 199]"
          ],
          [
           "FL1:256 FL2:16 DR:0.5 BS:32 LR:0.0001",
           "[113, 199]"
          ],
          [
           "FL1:256 FL2:16 DR:0.5 BS:32 LR:0.0001",
           "[113, 199]"
          ],
          [
           "FL1:256 FL2:16 DR:0.5 BS:32 LR:0.0001",
           "[113, 199]"
          ],
          [
           "FL1:256 FL2:16 DR:0.5 BS:32 LR:0.0001",
           "[113, 199]"
          ],
          [
           "FL1:256 FL2:16 DR:0.5 BS:32 LR:0.0001",
           "[113, 199]"
          ],
          [
           "FL1:256 FL2:16 DR:0.5 BS:32 LR:0.0001",
           "[113, 199]"
          ],
          [
           "FL1:256 FL2:16 DR:0.5 BS:32 LR:0.0001",
           "[113, 199]"
          ],
          [
           "FL1:256 FL2:16 DR:0.5 BS:32 LR:0.0001",
           "[113, 199]"
          ],
          [
           "FL1:256 FL2:16 DR:0.5 BS:32 LR:0.0001",
           "[113, 199]"
          ],
          [
           "FL1:256 FL2:16 DR:0.5 BS:32 LR:0.0001",
           "[113, 199]"
          ],
          [
           "FL1:256 FL2:16 DR:0.5 BS:32 LR:0.0001",
           "[113, 199]"
          ],
          [
           "FL1:256 FL2:16 DR:0.5 BS:32 LR:0.0001",
           "[113, 199]"
          ],
          [
           "FL1:256 FL2:16 DR:0.5 BS:32 LR:0.0001",
           "[113, 199]"
          ],
          [
           "FL1:256 FL2:16 DR:0.5 BS:32 LR:0.0001",
           "[113, 199]"
          ],
          [
           "FL1:256 FL2:16 DR:0.5 BS:32 LR:0.0001",
           "[113, 199]"
          ],
          [
           "FL1:256 FL2:16 DR:0.5 BS:32 LR:0.0001",
           "[113, 199]"
          ],
          [
           "FL1:256 FL2:16 DR:0.5 BS:32 LR:0.0001",
           "[113, 199]"
          ],
          [
           "FL1:256 FL2:16 DR:0.5 BS:32 LR:0.0001",
           "[113, 199]"
          ],
          [
           "FL1:256 FL2:16 DR:0.5 BS:32 LR:0.0001",
           "[113, 199]"
          ],
          [
           "FL1:256 FL2:16 DR:0.5 BS:32 LR:0.0001",
           "[113, 199]"
          ],
          [
           "FL1:256 FL2:16 DR:0.5 BS:32 LR:0.0001",
           "[113, 199]"
          ],
          [
           "FL1:256 FL2:16 DR:0.5 BS:32 LR:0.0001",
           "[113, 199]"
          ],
          [
           "FL1:256 FL2:16 DR:0.5 BS:32 LR:0.0001",
           "[113, 199]"
          ],
          [
           "FL1:256 FL2:16 DR:0.5 BS:32 LR:0.0001",
           "[113, 199]"
          ],
          [
           "FL1:256 FL2:16 DR:0.5 BS:32 LR:0.0001",
           "[113, 199]"
          ],
          [
           "FL1:256 FL2:16 DR:0.5 BS:32 LR:0.0001",
           "[113, 199]"
          ],
          [
           "FL1:256 FL2:16 DR:0.5 BS:32 LR:0.0001",
           "[113, 199]"
          ],
          [
           "FL1:256 FL2:16 DR:0.5 BS:32 LR:0.0001",
           "[113, 199]"
          ],
          [
           "FL1:256 FL2:16 DR:0.5 BS:32 LR:0.0001",
           "[113, 199]"
          ],
          [
           "FL1:256 FL2:16 DR:0.5 BS:32 LR:0.0001",
           "[113, 199]"
          ],
          [
           "FL1:256 FL2:16 DR:0.5 BS:32 LR:0.0001",
           "[113, 199]"
          ],
          [
           "FL1:256 FL2:16 DR:0.5 BS:32 LR:0.0001",
           "[113, 199]"
          ],
          [
           "FL1:256 FL2:16 DR:0.5 BS:32 LR:0.0001",
           "[113, 199]"
          ],
          [
           "FL1:256 FL2:16 DR:0.5 BS:32 LR:0.0001",
           "[113, 199]"
          ],
          [
           "FL1:256 FL2:16 DR:0.5 BS:32 LR:0.0001",
           "[113, 199]"
          ],
          [
           "FL1:256 FL2:16 DR:0.5 BS:32 LR:0.0001",
           "[113, 199]"
          ],
          [
           "FL1:256 FL2:16 DR:0.5 BS:32 LR:0.0001",
           "[113, 199]"
          ],
          [
           "FL1:256 FL2:16 DR:0.5 BS:32 LR:0.0001",
           "[113, 199]"
          ],
          [
           "FL1:256 FL2:16 DR:0.5 BS:32 LR:0.0001",
           "[113, 199]"
          ],
          [
           "FL1:256 FL2:16 DR:0.5 BS:32 LR:0.0001",
           "[113, 199]"
          ],
          [
           "FL1:256 FL2:16 DR:0.5 BS:32 LR:0.0001",
           "[113, 199]"
          ],
          [
           "FL1:256 FL2:16 DR:0.5 BS:32 LR:0.0001",
           "[113, 199]"
          ],
          [
           "FL1:256 FL2:16 DR:0.5 BS:32 LR:0.0001",
           "[113, 199]"
          ],
          [
           "FL1:256 FL2:16 DR:0.5 BS:32 LR:0.0001",
           "[113, 199]"
          ],
          [
           "FL1:256 FL2:16 DR:0.5 BS:32 LR:0.0001",
           "[113, 199]"
          ],
          [
           "FL1:256 FL2:16 DR:0.5 BS:32 LR:0.0001",
           "[113, 199]"
          ],
          [
           "FL1:256 FL2:16 DR:0.5 BS:32 LR:0.0001",
           "[113, 199]"
          ],
          [
           "FL1:256 FL2:16 DR:0.5 BS:32 LR:0.0001",
           "[113, 199]"
          ],
          [
           "FL1:256 FL2:16 DR:0.5 BS:32 LR:0.0001",
           "[113, 199]"
          ],
          [
           "FL1:256 FL2:16 DR:0.5 BS:32 LR:0.0001",
           "[113, 199]"
          ],
          [
           "FL1:256 FL2:16 DR:0.5 BS:32 LR:0.0001",
           "[113, 199]"
          ],
          [
           "FL1:256 FL2:16 DR:0.5 BS:32 LR:0.0001",
           "[113, 199]"
          ],
          [
           "FL1:256 FL2:16 DR:0.5 BS:32 LR:0.0001",
           "[113, 199]"
          ],
          [
           "FL1:256 FL2:16 DR:0.5 BS:32 LR:0.0001",
           "[113, 199]"
          ],
          [
           "FL1:256 FL2:16 DR:0.5 BS:32 LR:0.0001",
           "[113, 199]"
          ]
         ],
         "hovertemplate": "variable=val_loss<br>trial_id=802fd_00106<br>epoch=%{x}<br>value=%{y}<br>Hyperparameters=%{customdata[0]}<br>checkpoints=%{customdata[1]}<extra></extra>",
         "legendgroup": "val_loss, 802fd_00106",
         "line": {
          "color": "#636efa",
          "dash": "dot"
         },
         "marker": {
          "symbol": "circle"
         },
         "mode": "lines",
         "name": "val_loss, 802fd_00106",
         "showlegend": true,
         "type": "scattergl",
         "x": [
          0,
          1,
          2,
          3,
          4,
          5,
          6,
          7,
          8,
          9,
          10,
          11,
          12,
          13,
          14,
          15,
          16,
          17,
          18,
          19,
          20,
          21,
          22,
          23,
          24,
          25,
          26,
          27,
          28,
          29,
          30,
          31,
          32,
          33,
          34,
          35,
          36,
          37,
          38,
          39,
          40,
          41,
          42,
          43,
          44,
          45,
          46,
          47,
          48,
          49,
          50,
          51,
          52,
          53,
          54,
          55,
          56,
          57,
          58,
          59,
          60,
          61,
          62,
          63,
          64,
          65,
          66,
          67,
          68,
          69,
          70,
          71,
          72,
          73,
          74,
          75,
          76,
          77,
          78,
          79,
          80,
          81,
          82,
          83,
          84,
          85,
          86,
          87,
          88,
          89,
          90,
          91,
          92,
          93,
          94,
          95,
          96,
          97,
          98,
          99,
          100,
          101,
          102,
          103,
          104,
          105,
          106,
          107,
          108,
          109,
          110,
          111,
          112,
          113,
          114,
          115,
          116,
          117,
          118,
          119,
          120,
          121,
          122,
          123,
          124,
          125,
          126,
          127,
          128,
          129,
          130,
          131,
          132,
          133,
          134,
          135,
          136,
          137,
          138,
          139,
          140,
          141,
          142,
          143,
          144,
          145,
          146,
          147,
          148,
          149,
          150,
          151,
          152,
          153,
          154,
          155,
          156,
          157,
          158,
          159,
          160,
          161,
          162,
          163,
          164,
          165,
          166,
          167,
          168,
          169,
          170,
          171,
          172,
          173,
          174,
          175,
          176,
          177,
          178,
          179,
          180,
          181,
          182,
          183,
          184,
          185,
          186,
          187,
          188,
          189,
          190,
          191,
          192,
          193,
          194,
          195,
          196,
          197,
          198,
          199
         ],
         "xaxis": "x",
         "y": [
          0.6263297200202926,
          0.5494269231955191,
          0.48429970608816997,
          0.43843344957739994,
          0.40093900502463686,
          0.3734533604035139,
          0.3534318285550905,
          0.3399914057629785,
          0.33391708146052024,
          0.33205582705150943,
          0.32255068757143807,
          0.3169792217546508,
          0.31057409925817087,
          0.3065299390657646,
          0.3030883172421914,
          0.3001475697934131,
          0.2988201820969243,
          0.29471331795849065,
          0.29224230819806496,
          0.2940647931487357,
          0.29138351689384945,
          0.2884948731171188,
          0.28721026782903986,
          0.28290402693691397,
          0.2914847817893984,
          0.2925931173480982,
          0.2872823349580119,
          0.28805765654940996,
          0.2890242645892798,
          0.2921990659338427,
          0.29190398630183156,
          0.2850174398997169,
          0.27980381858207987,
          0.28231957960034815,
          0.2779422628078547,
          0.2827053319873861,
          0.2889076339842505,
          0.29022472220272594,
          0.2867353599443083,
          0.2954409348417675,
          0.2972920389605459,
          0.3017298679638495,
          0.3028571573289619,
          0.3214189189932329,
          0.3261879138325035,
          0.34040019261667237,
          0.33262936504568646,
          0.3579907995587312,
          0.3368549732450454,
          0.33488839454676017,
          0.328094449885853,
          0.335455793306673,
          0.33388169816165714,
          0.3381254521411619,
          0.3374301491447256,
          0.3530811169589859,
          0.35395248392193107,
          0.3676390857098397,
          0.3846045375266261,
          0.38244740766939683,
          0.3699769781871441,
          0.3781001737941495,
          0.3868546499960408,
          0.3835909077957452,
          0.3920260078003118,
          0.379323453127682,
          0.37937755413806334,
          0.38029591923260525,
          0.38730667157506743,
          0.39726025610192384,
          0.4280106772914435,
          0.4183109535068201,
          0.40819485871592587,
          0.42645156640873527,
          0.41854702604522986,
          0.422763669972357,
          0.43941638501798785,
          0.4320568086856969,
          0.4442302645679547,
          0.4533865591841417,
          0.4471182519169292,
          0.47729241808067574,
          0.46481361958590256,
          0.446478982589026,
          0.44350654206102297,
          0.4440824708768066,
          0.4361004545574931,
          0.4449586281700618,
          0.4463887220967922,
          0.4661375487081936,
          0.46259825787495995,
          0.4699524698095272,
          0.510511620669678,
          0.5130866857562552,
          0.512481178985309,
          0.4943668518770203,
          0.507278996991346,
          0.5200033706342033,
          0.5092167504572096,
          0.49555573516045714,
          0.5129961414665283,
          0.5022843012233763,
          0.4796571320308694,
          0.46806528409411063,
          0.4638924051661584,
          0.4722388618084639,
          0.4781752184293556,
          0.4722466041817845,
          0.49074623122311717,
          0.49734821011289554,
          0.5222930649231831,
          0.5032170341618155,
          0.48214756953764487,
          0.47741305502287784,
          0.4839050648744375,
          0.4971747913715211,
          0.48847595312575176,
          0.48189494317359066,
          0.5162580430877615,
          0.5579544385520872,
          0.5591761721669459,
          0.5456300943095688,
          0.5256604730420104,
          0.5166145383869789,
          0.5311936020556531,
          0.5394218484364233,
          0.544633323603356,
          0.5762408539013609,
          0.5779761780868985,
          0.5786991986679366,
          0.584035553736641,
          0.5655462001450539,
          0.5374346875275283,
          0.5540812547422176,
          0.5408219652319423,
          0.5544897289371787,
          0.5688885033989137,
          0.6346762896156416,
          0.6093673587226923,
          0.6070982535934472,
          0.5966696156565351,
          0.5947370935482437,
          0.6017862034508011,
          0.6082618880714575,
          0.6153364809649241,
          0.6258880120050264,
          0.6159653214303211,
          0.6021063624281044,
          0.6171020268372915,
          0.5991871356283427,
          0.6091717679841504,
          0.6185849043755507,
          0.6179494084933568,
          0.6044848046050567,
          0.5877876136929512,
          0.6112290524264637,
          0.6122813756479449,
          0.6276890195219784,
          0.6326600615719322,
          0.6019362214233706,
          0.5793013177332752,
          0.5947283838866453,
          0.5998866978405766,
          0.6244926136810799,
          0.6303282765599885,
          0.6443242290319849,
          0.6642293439111329,
          0.6296441625092557,
          0.6378686474782962,
          0.629515949025599,
          0.6331288239259492,
          0.6514733447564274,
          0.6324898013759063,
          0.6264528638315455,
          0.6319869562117413,
          0.6632739374457551,
          0.6716074393470239,
          0.6565494568002972,
          0.658263248261659,
          0.6707364400604342,
          0.6874113334800765,
          0.6841733424919143,
          0.7355838000150033,
          0.710351856507956,
          0.6850209050430833,
          0.6981701925763788,
          0.6575209747002709,
          0.6593957113058145,
          0.640370320401639,
          0.6240207626568266,
          0.6420115281573245,
          0.6883051626835452,
          0.7377728576762251,
          0.7821257151035957,
          0.7568903589823821,
          0.7328144526865055,
          0.8060297314581564,
          0.7815965178448138,
          0.7700220586749017,
          0.7356784702600424
         ],
         "yaxis": "y"
        },
        {
         "customdata": [
          [
           "FL1:16 FL2:16 DR:0.3 BS:32 LR:0.0005",
           "[199, 96]"
          ],
          [
           "FL1:16 FL2:16 DR:0.3 BS:32 LR:0.0005",
           "[199, 96]"
          ],
          [
           "FL1:16 FL2:16 DR:0.3 BS:32 LR:0.0005",
           "[199, 96]"
          ],
          [
           "FL1:16 FL2:16 DR:0.3 BS:32 LR:0.0005",
           "[199, 96]"
          ],
          [
           "FL1:16 FL2:16 DR:0.3 BS:32 LR:0.0005",
           "[199, 96]"
          ],
          [
           "FL1:16 FL2:16 DR:0.3 BS:32 LR:0.0005",
           "[199, 96]"
          ],
          [
           "FL1:16 FL2:16 DR:0.3 BS:32 LR:0.0005",
           "[199, 96]"
          ],
          [
           "FL1:16 FL2:16 DR:0.3 BS:32 LR:0.0005",
           "[199, 96]"
          ],
          [
           "FL1:16 FL2:16 DR:0.3 BS:32 LR:0.0005",
           "[199, 96]"
          ],
          [
           "FL1:16 FL2:16 DR:0.3 BS:32 LR:0.0005",
           "[199, 96]"
          ],
          [
           "FL1:16 FL2:16 DR:0.3 BS:32 LR:0.0005",
           "[199, 96]"
          ],
          [
           "FL1:16 FL2:16 DR:0.3 BS:32 LR:0.0005",
           "[199, 96]"
          ],
          [
           "FL1:16 FL2:16 DR:0.3 BS:32 LR:0.0005",
           "[199, 96]"
          ],
          [
           "FL1:16 FL2:16 DR:0.3 BS:32 LR:0.0005",
           "[199, 96]"
          ],
          [
           "FL1:16 FL2:16 DR:0.3 BS:32 LR:0.0005",
           "[199, 96]"
          ],
          [
           "FL1:16 FL2:16 DR:0.3 BS:32 LR:0.0005",
           "[199, 96]"
          ],
          [
           "FL1:16 FL2:16 DR:0.3 BS:32 LR:0.0005",
           "[199, 96]"
          ],
          [
           "FL1:16 FL2:16 DR:0.3 BS:32 LR:0.0005",
           "[199, 96]"
          ],
          [
           "FL1:16 FL2:16 DR:0.3 BS:32 LR:0.0005",
           "[199, 96]"
          ],
          [
           "FL1:16 FL2:16 DR:0.3 BS:32 LR:0.0005",
           "[199, 96]"
          ],
          [
           "FL1:16 FL2:16 DR:0.3 BS:32 LR:0.0005",
           "[199, 96]"
          ],
          [
           "FL1:16 FL2:16 DR:0.3 BS:32 LR:0.0005",
           "[199, 96]"
          ],
          [
           "FL1:16 FL2:16 DR:0.3 BS:32 LR:0.0005",
           "[199, 96]"
          ],
          [
           "FL1:16 FL2:16 DR:0.3 BS:32 LR:0.0005",
           "[199, 96]"
          ],
          [
           "FL1:16 FL2:16 DR:0.3 BS:32 LR:0.0005",
           "[199, 96]"
          ],
          [
           "FL1:16 FL2:16 DR:0.3 BS:32 LR:0.0005",
           "[199, 96]"
          ],
          [
           "FL1:16 FL2:16 DR:0.3 BS:32 LR:0.0005",
           "[199, 96]"
          ],
          [
           "FL1:16 FL2:16 DR:0.3 BS:32 LR:0.0005",
           "[199, 96]"
          ],
          [
           "FL1:16 FL2:16 DR:0.3 BS:32 LR:0.0005",
           "[199, 96]"
          ],
          [
           "FL1:16 FL2:16 DR:0.3 BS:32 LR:0.0005",
           "[199, 96]"
          ],
          [
           "FL1:16 FL2:16 DR:0.3 BS:32 LR:0.0005",
           "[199, 96]"
          ],
          [
           "FL1:16 FL2:16 DR:0.3 BS:32 LR:0.0005",
           "[199, 96]"
          ],
          [
           "FL1:16 FL2:16 DR:0.3 BS:32 LR:0.0005",
           "[199, 96]"
          ],
          [
           "FL1:16 FL2:16 DR:0.3 BS:32 LR:0.0005",
           "[199, 96]"
          ],
          [
           "FL1:16 FL2:16 DR:0.3 BS:32 LR:0.0005",
           "[199, 96]"
          ],
          [
           "FL1:16 FL2:16 DR:0.3 BS:32 LR:0.0005",
           "[199, 96]"
          ],
          [
           "FL1:16 FL2:16 DR:0.3 BS:32 LR:0.0005",
           "[199, 96]"
          ],
          [
           "FL1:16 FL2:16 DR:0.3 BS:32 LR:0.0005",
           "[199, 96]"
          ],
          [
           "FL1:16 FL2:16 DR:0.3 BS:32 LR:0.0005",
           "[199, 96]"
          ],
          [
           "FL1:16 FL2:16 DR:0.3 BS:32 LR:0.0005",
           "[199, 96]"
          ],
          [
           "FL1:16 FL2:16 DR:0.3 BS:32 LR:0.0005",
           "[199, 96]"
          ],
          [
           "FL1:16 FL2:16 DR:0.3 BS:32 LR:0.0005",
           "[199, 96]"
          ],
          [
           "FL1:16 FL2:16 DR:0.3 BS:32 LR:0.0005",
           "[199, 96]"
          ],
          [
           "FL1:16 FL2:16 DR:0.3 BS:32 LR:0.0005",
           "[199, 96]"
          ],
          [
           "FL1:16 FL2:16 DR:0.3 BS:32 LR:0.0005",
           "[199, 96]"
          ],
          [
           "FL1:16 FL2:16 DR:0.3 BS:32 LR:0.0005",
           "[199, 96]"
          ],
          [
           "FL1:16 FL2:16 DR:0.3 BS:32 LR:0.0005",
           "[199, 96]"
          ],
          [
           "FL1:16 FL2:16 DR:0.3 BS:32 LR:0.0005",
           "[199, 96]"
          ],
          [
           "FL1:16 FL2:16 DR:0.3 BS:32 LR:0.0005",
           "[199, 96]"
          ],
          [
           "FL1:16 FL2:16 DR:0.3 BS:32 LR:0.0005",
           "[199, 96]"
          ],
          [
           "FL1:16 FL2:16 DR:0.3 BS:32 LR:0.0005",
           "[199, 96]"
          ],
          [
           "FL1:16 FL2:16 DR:0.3 BS:32 LR:0.0005",
           "[199, 96]"
          ],
          [
           "FL1:16 FL2:16 DR:0.3 BS:32 LR:0.0005",
           "[199, 96]"
          ],
          [
           "FL1:16 FL2:16 DR:0.3 BS:32 LR:0.0005",
           "[199, 96]"
          ],
          [
           "FL1:16 FL2:16 DR:0.3 BS:32 LR:0.0005",
           "[199, 96]"
          ],
          [
           "FL1:16 FL2:16 DR:0.3 BS:32 LR:0.0005",
           "[199, 96]"
          ],
          [
           "FL1:16 FL2:16 DR:0.3 BS:32 LR:0.0005",
           "[199, 96]"
          ],
          [
           "FL1:16 FL2:16 DR:0.3 BS:32 LR:0.0005",
           "[199, 96]"
          ],
          [
           "FL1:16 FL2:16 DR:0.3 BS:32 LR:0.0005",
           "[199, 96]"
          ],
          [
           "FL1:16 FL2:16 DR:0.3 BS:32 LR:0.0005",
           "[199, 96]"
          ],
          [
           "FL1:16 FL2:16 DR:0.3 BS:32 LR:0.0005",
           "[199, 96]"
          ],
          [
           "FL1:16 FL2:16 DR:0.3 BS:32 LR:0.0005",
           "[199, 96]"
          ],
          [
           "FL1:16 FL2:16 DR:0.3 BS:32 LR:0.0005",
           "[199, 96]"
          ],
          [
           "FL1:16 FL2:16 DR:0.3 BS:32 LR:0.0005",
           "[199, 96]"
          ],
          [
           "FL1:16 FL2:16 DR:0.3 BS:32 LR:0.0005",
           "[199, 96]"
          ],
          [
           "FL1:16 FL2:16 DR:0.3 BS:32 LR:0.0005",
           "[199, 96]"
          ],
          [
           "FL1:16 FL2:16 DR:0.3 BS:32 LR:0.0005",
           "[199, 96]"
          ],
          [
           "FL1:16 FL2:16 DR:0.3 BS:32 LR:0.0005",
           "[199, 96]"
          ],
          [
           "FL1:16 FL2:16 DR:0.3 BS:32 LR:0.0005",
           "[199, 96]"
          ],
          [
           "FL1:16 FL2:16 DR:0.3 BS:32 LR:0.0005",
           "[199, 96]"
          ],
          [
           "FL1:16 FL2:16 DR:0.3 BS:32 LR:0.0005",
           "[199, 96]"
          ],
          [
           "FL1:16 FL2:16 DR:0.3 BS:32 LR:0.0005",
           "[199, 96]"
          ],
          [
           "FL1:16 FL2:16 DR:0.3 BS:32 LR:0.0005",
           "[199, 96]"
          ],
          [
           "FL1:16 FL2:16 DR:0.3 BS:32 LR:0.0005",
           "[199, 96]"
          ],
          [
           "FL1:16 FL2:16 DR:0.3 BS:32 LR:0.0005",
           "[199, 96]"
          ],
          [
           "FL1:16 FL2:16 DR:0.3 BS:32 LR:0.0005",
           "[199, 96]"
          ],
          [
           "FL1:16 FL2:16 DR:0.3 BS:32 LR:0.0005",
           "[199, 96]"
          ],
          [
           "FL1:16 FL2:16 DR:0.3 BS:32 LR:0.0005",
           "[199, 96]"
          ],
          [
           "FL1:16 FL2:16 DR:0.3 BS:32 LR:0.0005",
           "[199, 96]"
          ],
          [
           "FL1:16 FL2:16 DR:0.3 BS:32 LR:0.0005",
           "[199, 96]"
          ],
          [
           "FL1:16 FL2:16 DR:0.3 BS:32 LR:0.0005",
           "[199, 96]"
          ],
          [
           "FL1:16 FL2:16 DR:0.3 BS:32 LR:0.0005",
           "[199, 96]"
          ],
          [
           "FL1:16 FL2:16 DR:0.3 BS:32 LR:0.0005",
           "[199, 96]"
          ],
          [
           "FL1:16 FL2:16 DR:0.3 BS:32 LR:0.0005",
           "[199, 96]"
          ],
          [
           "FL1:16 FL2:16 DR:0.3 BS:32 LR:0.0005",
           "[199, 96]"
          ],
          [
           "FL1:16 FL2:16 DR:0.3 BS:32 LR:0.0005",
           "[199, 96]"
          ],
          [
           "FL1:16 FL2:16 DR:0.3 BS:32 LR:0.0005",
           "[199, 96]"
          ],
          [
           "FL1:16 FL2:16 DR:0.3 BS:32 LR:0.0005",
           "[199, 96]"
          ],
          [
           "FL1:16 FL2:16 DR:0.3 BS:32 LR:0.0005",
           "[199, 96]"
          ],
          [
           "FL1:16 FL2:16 DR:0.3 BS:32 LR:0.0005",
           "[199, 96]"
          ],
          [
           "FL1:16 FL2:16 DR:0.3 BS:32 LR:0.0005",
           "[199, 96]"
          ],
          [
           "FL1:16 FL2:16 DR:0.3 BS:32 LR:0.0005",
           "[199, 96]"
          ],
          [
           "FL1:16 FL2:16 DR:0.3 BS:32 LR:0.0005",
           "[199, 96]"
          ],
          [
           "FL1:16 FL2:16 DR:0.3 BS:32 LR:0.0005",
           "[199, 96]"
          ],
          [
           "FL1:16 FL2:16 DR:0.3 BS:32 LR:0.0005",
           "[199, 96]"
          ],
          [
           "FL1:16 FL2:16 DR:0.3 BS:32 LR:0.0005",
           "[199, 96]"
          ],
          [
           "FL1:16 FL2:16 DR:0.3 BS:32 LR:0.0005",
           "[199, 96]"
          ],
          [
           "FL1:16 FL2:16 DR:0.3 BS:32 LR:0.0005",
           "[199, 96]"
          ],
          [
           "FL1:16 FL2:16 DR:0.3 BS:32 LR:0.0005",
           "[199, 96]"
          ],
          [
           "FL1:16 FL2:16 DR:0.3 BS:32 LR:0.0005",
           "[199, 96]"
          ],
          [
           "FL1:16 FL2:16 DR:0.3 BS:32 LR:0.0005",
           "[199, 96]"
          ],
          [
           "FL1:16 FL2:16 DR:0.3 BS:32 LR:0.0005",
           "[199, 96]"
          ],
          [
           "FL1:16 FL2:16 DR:0.3 BS:32 LR:0.0005",
           "[199, 96]"
          ],
          [
           "FL1:16 FL2:16 DR:0.3 BS:32 LR:0.0005",
           "[199, 96]"
          ],
          [
           "FL1:16 FL2:16 DR:0.3 BS:32 LR:0.0005",
           "[199, 96]"
          ],
          [
           "FL1:16 FL2:16 DR:0.3 BS:32 LR:0.0005",
           "[199, 96]"
          ],
          [
           "FL1:16 FL2:16 DR:0.3 BS:32 LR:0.0005",
           "[199, 96]"
          ],
          [
           "FL1:16 FL2:16 DR:0.3 BS:32 LR:0.0005",
           "[199, 96]"
          ],
          [
           "FL1:16 FL2:16 DR:0.3 BS:32 LR:0.0005",
           "[199, 96]"
          ],
          [
           "FL1:16 FL2:16 DR:0.3 BS:32 LR:0.0005",
           "[199, 96]"
          ],
          [
           "FL1:16 FL2:16 DR:0.3 BS:32 LR:0.0005",
           "[199, 96]"
          ],
          [
           "FL1:16 FL2:16 DR:0.3 BS:32 LR:0.0005",
           "[199, 96]"
          ],
          [
           "FL1:16 FL2:16 DR:0.3 BS:32 LR:0.0005",
           "[199, 96]"
          ],
          [
           "FL1:16 FL2:16 DR:0.3 BS:32 LR:0.0005",
           "[199, 96]"
          ],
          [
           "FL1:16 FL2:16 DR:0.3 BS:32 LR:0.0005",
           "[199, 96]"
          ],
          [
           "FL1:16 FL2:16 DR:0.3 BS:32 LR:0.0005",
           "[199, 96]"
          ],
          [
           "FL1:16 FL2:16 DR:0.3 BS:32 LR:0.0005",
           "[199, 96]"
          ],
          [
           "FL1:16 FL2:16 DR:0.3 BS:32 LR:0.0005",
           "[199, 96]"
          ],
          [
           "FL1:16 FL2:16 DR:0.3 BS:32 LR:0.0005",
           "[199, 96]"
          ],
          [
           "FL1:16 FL2:16 DR:0.3 BS:32 LR:0.0005",
           "[199, 96]"
          ],
          [
           "FL1:16 FL2:16 DR:0.3 BS:32 LR:0.0005",
           "[199, 96]"
          ],
          [
           "FL1:16 FL2:16 DR:0.3 BS:32 LR:0.0005",
           "[199, 96]"
          ],
          [
           "FL1:16 FL2:16 DR:0.3 BS:32 LR:0.0005",
           "[199, 96]"
          ],
          [
           "FL1:16 FL2:16 DR:0.3 BS:32 LR:0.0005",
           "[199, 96]"
          ],
          [
           "FL1:16 FL2:16 DR:0.3 BS:32 LR:0.0005",
           "[199, 96]"
          ],
          [
           "FL1:16 FL2:16 DR:0.3 BS:32 LR:0.0005",
           "[199, 96]"
          ],
          [
           "FL1:16 FL2:16 DR:0.3 BS:32 LR:0.0005",
           "[199, 96]"
          ],
          [
           "FL1:16 FL2:16 DR:0.3 BS:32 LR:0.0005",
           "[199, 96]"
          ],
          [
           "FL1:16 FL2:16 DR:0.3 BS:32 LR:0.0005",
           "[199, 96]"
          ],
          [
           "FL1:16 FL2:16 DR:0.3 BS:32 LR:0.0005",
           "[199, 96]"
          ],
          [
           "FL1:16 FL2:16 DR:0.3 BS:32 LR:0.0005",
           "[199, 96]"
          ],
          [
           "FL1:16 FL2:16 DR:0.3 BS:32 LR:0.0005",
           "[199, 96]"
          ],
          [
           "FL1:16 FL2:16 DR:0.3 BS:32 LR:0.0005",
           "[199, 96]"
          ],
          [
           "FL1:16 FL2:16 DR:0.3 BS:32 LR:0.0005",
           "[199, 96]"
          ],
          [
           "FL1:16 FL2:16 DR:0.3 BS:32 LR:0.0005",
           "[199, 96]"
          ],
          [
           "FL1:16 FL2:16 DR:0.3 BS:32 LR:0.0005",
           "[199, 96]"
          ],
          [
           "FL1:16 FL2:16 DR:0.3 BS:32 LR:0.0005",
           "[199, 96]"
          ],
          [
           "FL1:16 FL2:16 DR:0.3 BS:32 LR:0.0005",
           "[199, 96]"
          ],
          [
           "FL1:16 FL2:16 DR:0.3 BS:32 LR:0.0005",
           "[199, 96]"
          ],
          [
           "FL1:16 FL2:16 DR:0.3 BS:32 LR:0.0005",
           "[199, 96]"
          ],
          [
           "FL1:16 FL2:16 DR:0.3 BS:32 LR:0.0005",
           "[199, 96]"
          ],
          [
           "FL1:16 FL2:16 DR:0.3 BS:32 LR:0.0005",
           "[199, 96]"
          ],
          [
           "FL1:16 FL2:16 DR:0.3 BS:32 LR:0.0005",
           "[199, 96]"
          ],
          [
           "FL1:16 FL2:16 DR:0.3 BS:32 LR:0.0005",
           "[199, 96]"
          ],
          [
           "FL1:16 FL2:16 DR:0.3 BS:32 LR:0.0005",
           "[199, 96]"
          ],
          [
           "FL1:16 FL2:16 DR:0.3 BS:32 LR:0.0005",
           "[199, 96]"
          ],
          [
           "FL1:16 FL2:16 DR:0.3 BS:32 LR:0.0005",
           "[199, 96]"
          ],
          [
           "FL1:16 FL2:16 DR:0.3 BS:32 LR:0.0005",
           "[199, 96]"
          ],
          [
           "FL1:16 FL2:16 DR:0.3 BS:32 LR:0.0005",
           "[199, 96]"
          ],
          [
           "FL1:16 FL2:16 DR:0.3 BS:32 LR:0.0005",
           "[199, 96]"
          ],
          [
           "FL1:16 FL2:16 DR:0.3 BS:32 LR:0.0005",
           "[199, 96]"
          ],
          [
           "FL1:16 FL2:16 DR:0.3 BS:32 LR:0.0005",
           "[199, 96]"
          ],
          [
           "FL1:16 FL2:16 DR:0.3 BS:32 LR:0.0005",
           "[199, 96]"
          ],
          [
           "FL1:16 FL2:16 DR:0.3 BS:32 LR:0.0005",
           "[199, 96]"
          ],
          [
           "FL1:16 FL2:16 DR:0.3 BS:32 LR:0.0005",
           "[199, 96]"
          ],
          [
           "FL1:16 FL2:16 DR:0.3 BS:32 LR:0.0005",
           "[199, 96]"
          ],
          [
           "FL1:16 FL2:16 DR:0.3 BS:32 LR:0.0005",
           "[199, 96]"
          ],
          [
           "FL1:16 FL2:16 DR:0.3 BS:32 LR:0.0005",
           "[199, 96]"
          ],
          [
           "FL1:16 FL2:16 DR:0.3 BS:32 LR:0.0005",
           "[199, 96]"
          ],
          [
           "FL1:16 FL2:16 DR:0.3 BS:32 LR:0.0005",
           "[199, 96]"
          ],
          [
           "FL1:16 FL2:16 DR:0.3 BS:32 LR:0.0005",
           "[199, 96]"
          ],
          [
           "FL1:16 FL2:16 DR:0.3 BS:32 LR:0.0005",
           "[199, 96]"
          ],
          [
           "FL1:16 FL2:16 DR:0.3 BS:32 LR:0.0005",
           "[199, 96]"
          ],
          [
           "FL1:16 FL2:16 DR:0.3 BS:32 LR:0.0005",
           "[199, 96]"
          ],
          [
           "FL1:16 FL2:16 DR:0.3 BS:32 LR:0.0005",
           "[199, 96]"
          ],
          [
           "FL1:16 FL2:16 DR:0.3 BS:32 LR:0.0005",
           "[199, 96]"
          ],
          [
           "FL1:16 FL2:16 DR:0.3 BS:32 LR:0.0005",
           "[199, 96]"
          ],
          [
           "FL1:16 FL2:16 DR:0.3 BS:32 LR:0.0005",
           "[199, 96]"
          ],
          [
           "FL1:16 FL2:16 DR:0.3 BS:32 LR:0.0005",
           "[199, 96]"
          ],
          [
           "FL1:16 FL2:16 DR:0.3 BS:32 LR:0.0005",
           "[199, 96]"
          ],
          [
           "FL1:16 FL2:16 DR:0.3 BS:32 LR:0.0005",
           "[199, 96]"
          ],
          [
           "FL1:16 FL2:16 DR:0.3 BS:32 LR:0.0005",
           "[199, 96]"
          ],
          [
           "FL1:16 FL2:16 DR:0.3 BS:32 LR:0.0005",
           "[199, 96]"
          ],
          [
           "FL1:16 FL2:16 DR:0.3 BS:32 LR:0.0005",
           "[199, 96]"
          ],
          [
           "FL1:16 FL2:16 DR:0.3 BS:32 LR:0.0005",
           "[199, 96]"
          ],
          [
           "FL1:16 FL2:16 DR:0.3 BS:32 LR:0.0005",
           "[199, 96]"
          ],
          [
           "FL1:16 FL2:16 DR:0.3 BS:32 LR:0.0005",
           "[199, 96]"
          ],
          [
           "FL1:16 FL2:16 DR:0.3 BS:32 LR:0.0005",
           "[199, 96]"
          ],
          [
           "FL1:16 FL2:16 DR:0.3 BS:32 LR:0.0005",
           "[199, 96]"
          ],
          [
           "FL1:16 FL2:16 DR:0.3 BS:32 LR:0.0005",
           "[199, 96]"
          ],
          [
           "FL1:16 FL2:16 DR:0.3 BS:32 LR:0.0005",
           "[199, 96]"
          ],
          [
           "FL1:16 FL2:16 DR:0.3 BS:32 LR:0.0005",
           "[199, 96]"
          ],
          [
           "FL1:16 FL2:16 DR:0.3 BS:32 LR:0.0005",
           "[199, 96]"
          ],
          [
           "FL1:16 FL2:16 DR:0.3 BS:32 LR:0.0005",
           "[199, 96]"
          ],
          [
           "FL1:16 FL2:16 DR:0.3 BS:32 LR:0.0005",
           "[199, 96]"
          ],
          [
           "FL1:16 FL2:16 DR:0.3 BS:32 LR:0.0005",
           "[199, 96]"
          ],
          [
           "FL1:16 FL2:16 DR:0.3 BS:32 LR:0.0005",
           "[199, 96]"
          ],
          [
           "FL1:16 FL2:16 DR:0.3 BS:32 LR:0.0005",
           "[199, 96]"
          ],
          [
           "FL1:16 FL2:16 DR:0.3 BS:32 LR:0.0005",
           "[199, 96]"
          ],
          [
           "FL1:16 FL2:16 DR:0.3 BS:32 LR:0.0005",
           "[199, 96]"
          ],
          [
           "FL1:16 FL2:16 DR:0.3 BS:32 LR:0.0005",
           "[199, 96]"
          ],
          [
           "FL1:16 FL2:16 DR:0.3 BS:32 LR:0.0005",
           "[199, 96]"
          ],
          [
           "FL1:16 FL2:16 DR:0.3 BS:32 LR:0.0005",
           "[199, 96]"
          ],
          [
           "FL1:16 FL2:16 DR:0.3 BS:32 LR:0.0005",
           "[199, 96]"
          ],
          [
           "FL1:16 FL2:16 DR:0.3 BS:32 LR:0.0005",
           "[199, 96]"
          ],
          [
           "FL1:16 FL2:16 DR:0.3 BS:32 LR:0.0005",
           "[199, 96]"
          ],
          [
           "FL1:16 FL2:16 DR:0.3 BS:32 LR:0.0005",
           "[199, 96]"
          ],
          [
           "FL1:16 FL2:16 DR:0.3 BS:32 LR:0.0005",
           "[199, 96]"
          ],
          [
           "FL1:16 FL2:16 DR:0.3 BS:32 LR:0.0005",
           "[199, 96]"
          ],
          [
           "FL1:16 FL2:16 DR:0.3 BS:32 LR:0.0005",
           "[199, 96]"
          ]
         ],
         "hovertemplate": "variable=val_loss<br>trial_id=802fd_00089<br>epoch=%{x}<br>value=%{y}<br>Hyperparameters=%{customdata[0]}<br>checkpoints=%{customdata[1]}<extra></extra>",
         "legendgroup": "val_loss, 802fd_00089",
         "line": {
          "color": "#636efa",
          "dash": "dash"
         },
         "marker": {
          "symbol": "circle"
         },
         "mode": "lines",
         "name": "val_loss, 802fd_00089",
         "showlegend": true,
         "type": "scattergl",
         "x": [
          0,
          1,
          2,
          3,
          4,
          5,
          6,
          7,
          8,
          9,
          10,
          11,
          12,
          13,
          14,
          15,
          16,
          17,
          18,
          19,
          20,
          21,
          22,
          23,
          24,
          25,
          26,
          27,
          28,
          29,
          30,
          31,
          32,
          33,
          34,
          35,
          36,
          37,
          38,
          39,
          40,
          41,
          42,
          43,
          44,
          45,
          46,
          47,
          48,
          49,
          50,
          51,
          52,
          53,
          54,
          55,
          56,
          57,
          58,
          59,
          60,
          61,
          62,
          63,
          64,
          65,
          66,
          67,
          68,
          69,
          70,
          71,
          72,
          73,
          74,
          75,
          76,
          77,
          78,
          79,
          80,
          81,
          82,
          83,
          84,
          85,
          86,
          87,
          88,
          89,
          90,
          91,
          92,
          93,
          94,
          95,
          96,
          97,
          98,
          99,
          100,
          101,
          102,
          103,
          104,
          105,
          106,
          107,
          108,
          109,
          110,
          111,
          112,
          113,
          114,
          115,
          116,
          117,
          118,
          119,
          120,
          121,
          122,
          123,
          124,
          125,
          126,
          127,
          128,
          129,
          130,
          131,
          132,
          133,
          134,
          135,
          136,
          137,
          138,
          139,
          140,
          141,
          142,
          143,
          144,
          145,
          146,
          147,
          148,
          149,
          150,
          151,
          152,
          153,
          154,
          155,
          156,
          157,
          158,
          159,
          160,
          161,
          162,
          163,
          164,
          165,
          166,
          167,
          168,
          169,
          170,
          171,
          172,
          173,
          174,
          175,
          176,
          177,
          178,
          179,
          180,
          181,
          182,
          183,
          184,
          185,
          186,
          187,
          188,
          189,
          190,
          191,
          192,
          193,
          194,
          195,
          196,
          197,
          198,
          199
         ],
         "xaxis": "x",
         "y": [
          0.5523379445075975,
          0.4843552807966851,
          0.43635158406363395,
          0.403421065321673,
          0.38662300911950254,
          0.3673935029732325,
          0.3467354339908975,
          0.33874566439465725,
          0.32813342136592294,
          0.3332354242434138,
          0.3333555039319741,
          0.3383060512644274,
          0.35734978104314596,
          0.34604338662280826,
          0.34370544126599406,
          0.33550084346512465,
          0.32805110490308464,
          0.32330656035731997,
          0.32820209850199117,
          0.3437087435810232,
          0.3420282237588334,
          0.3478054061769747,
          0.3555145432710177,
          0.3625038279533064,
          0.3778319665749643,
          0.3823611543549273,
          0.3830142985432121,
          0.3910111036995224,
          0.3909073470101858,
          0.38262403991925,
          0.4032379950888098,
          0.37972786796140195,
          0.39721718279552043,
          0.4244889209537468,
          0.41885106032879793,
          0.42599716627459716,
          0.4175432413409872,
          0.41345112122368205,
          0.4158983137691766,
          0.4265178380068628,
          0.4108931082921872,
          0.42102885964430925,
          0.43866396429086646,
          0.4161856305728012,
          0.4348149387127582,
          0.4729841807210713,
          0.45373438853186066,
          0.48026662441201673,
          0.5030419188877442,
          0.5007704568002277,
          0.4729296116096203,
          0.5082183777002761,
          0.46954415233322355,
          0.4946610397192383,
          0.48118487438178914,
          0.4771370320890791,
          0.4723052699946317,
          0.4885583731587022,
          0.4903138619697937,
          0.5249469904129258,
          0.5533180454058467,
          0.5485610113331344,
          0.5615338912135128,
          0.5376935555223455,
          0.5631131101769744,
          0.536599498266811,
          0.5763167018856158,
          0.5564780351298074,
          0.5550029553822016,
          0.6024926886195149,
          0.5953927825049683,
          0.5775801267992197,
          0.5455483017213291,
          0.5311073937579743,
          0.5259007598668161,
          0.583779678457962,
          0.6316888039072248,
          0.6115173899306108,
          0.5896823342093647,
          0.634266590770668,
          0.6167282499847041,
          0.6316553578096762,
          0.5935211330862918,
          0.6284699539483953,
          0.6288447049022612,
          0.6299398320754949,
          0.6069328836494395,
          0.6218650574083915,
          0.6148095683651348,
          0.6547847361297842,
          0.6632144034525692,
          0.6332058032764939,
          0.6464405868062657,
          0.6513091864592009,
          0.6332839689258835,
          0.628505445957454,
          0.6844542473159029,
          0.6956529915069055,
          0.7128560542884458,
          0.6513955394309741,
          0.6807070639320184,
          0.6751966851676798,
          0.6974836639381297,
          0.6645456189458122,
          0.7293500459554805,
          0.7151357833784812,
          0.7064062757122496,
          0.7227449882578817,
          0.6935347827641134,
          0.7151147069115067,
          0.7018810670626563,
          0.7021585412192594,
          0.6627564037752304,
          0.6802978253968641,
          0.6723482036993279,
          0.6597028589517111,
          0.7008878334542252,
          0.6765256752027483,
          0.67431042124519,
          0.7094958260965941,
          0.7236734320927044,
          0.7345495217514273,
          0.7465327377764521,
          0.726616362442448,
          0.7001835569473585,
          0.7181757002891734,
          0.7412720858932607,
          0.7934086084287059,
          0.756956462060125,
          0.7217647062372557,
          0.7771523744948281,
          0.7745969594245187,
          0.7657992244246935,
          0.7637842893920546,
          0.7164029479240168,
          0.740869899605033,
          0.7656512591668727,
          0.7655024749324544,
          0.7429180491159888,
          0.747632904065351,
          0.7972465443695234,
          0.8165274453219187,
          0.8608925867118026,
          0.7846864215557815,
          0.8089360231839956,
          0.824672158207053,
          0.8237878055344365,
          0.7944680234439052,
          0.7825578901931214,
          0.7631225290407433,
          0.8348153433872367,
          0.7426450584777916,
          0.7529042187299129,
          0.7407421749807577,
          0.6969332683071269,
          0.713380018074297,
          0.7373160582111811,
          0.7423678544711078,
          0.7533119458325026,
          0.7251949203257623,
          0.7356487043860777,
          0.7712173745475341,
          0.7408878396247562,
          0.7536093718670944,
          0.7128386780197832,
          0.6866285393354224,
          0.7585228807208866,
          0.7736533566632471,
          0.7781761476939633,
          0.7906993951761514,
          0.7642999507562164,
          0.7781418109983747,
          0.7921749250789825,
          0.8024993073079529,
          0.7841402776462182,
          0.76946881661298,
          0.7676967001589262,
          0.7334318304480514,
          0.7860912378908109,
          0.8152084546805011,
          0.8528337609450389,
          0.8834978031900417,
          0.8346791855353027,
          0.7472844714494473,
          0.768605907398588,
          0.736778133205655,
          0.7859172179249126,
          0.745262858201873,
          0.7647491275799332,
          0.8268799503334378,
          0.7883337351804304,
          0.7815179767294261,
          0.875228838263849,
          0.8553336170904482,
          0.8498717683946169,
          0.838260004149215,
          0.8165081999211403,
          0.7644333615242687,
          0.7942381351748583,
          0.7560575504805944
         ],
         "yaxis": "y"
        },
        {
         "customdata": [
          [
           "FL1:32 FL2:256 DR:0.3 BS:64 LR:0.005",
           "[199, 173]"
          ],
          [
           "FL1:32 FL2:256 DR:0.3 BS:64 LR:0.005",
           "[199, 173]"
          ],
          [
           "FL1:32 FL2:256 DR:0.3 BS:64 LR:0.005",
           "[199, 173]"
          ],
          [
           "FL1:32 FL2:256 DR:0.3 BS:64 LR:0.005",
           "[199, 173]"
          ],
          [
           "FL1:32 FL2:256 DR:0.3 BS:64 LR:0.005",
           "[199, 173]"
          ],
          [
           "FL1:32 FL2:256 DR:0.3 BS:64 LR:0.005",
           "[199, 173]"
          ],
          [
           "FL1:32 FL2:256 DR:0.3 BS:64 LR:0.005",
           "[199, 173]"
          ],
          [
           "FL1:32 FL2:256 DR:0.3 BS:64 LR:0.005",
           "[199, 173]"
          ],
          [
           "FL1:32 FL2:256 DR:0.3 BS:64 LR:0.005",
           "[199, 173]"
          ],
          [
           "FL1:32 FL2:256 DR:0.3 BS:64 LR:0.005",
           "[199, 173]"
          ],
          [
           "FL1:32 FL2:256 DR:0.3 BS:64 LR:0.005",
           "[199, 173]"
          ],
          [
           "FL1:32 FL2:256 DR:0.3 BS:64 LR:0.005",
           "[199, 173]"
          ],
          [
           "FL1:32 FL2:256 DR:0.3 BS:64 LR:0.005",
           "[199, 173]"
          ],
          [
           "FL1:32 FL2:256 DR:0.3 BS:64 LR:0.005",
           "[199, 173]"
          ],
          [
           "FL1:32 FL2:256 DR:0.3 BS:64 LR:0.005",
           "[199, 173]"
          ],
          [
           "FL1:32 FL2:256 DR:0.3 BS:64 LR:0.005",
           "[199, 173]"
          ],
          [
           "FL1:32 FL2:256 DR:0.3 BS:64 LR:0.005",
           "[199, 173]"
          ],
          [
           "FL1:32 FL2:256 DR:0.3 BS:64 LR:0.005",
           "[199, 173]"
          ],
          [
           "FL1:32 FL2:256 DR:0.3 BS:64 LR:0.005",
           "[199, 173]"
          ],
          [
           "FL1:32 FL2:256 DR:0.3 BS:64 LR:0.005",
           "[199, 173]"
          ],
          [
           "FL1:32 FL2:256 DR:0.3 BS:64 LR:0.005",
           "[199, 173]"
          ],
          [
           "FL1:32 FL2:256 DR:0.3 BS:64 LR:0.005",
           "[199, 173]"
          ],
          [
           "FL1:32 FL2:256 DR:0.3 BS:64 LR:0.005",
           "[199, 173]"
          ],
          [
           "FL1:32 FL2:256 DR:0.3 BS:64 LR:0.005",
           "[199, 173]"
          ],
          [
           "FL1:32 FL2:256 DR:0.3 BS:64 LR:0.005",
           "[199, 173]"
          ],
          [
           "FL1:32 FL2:256 DR:0.3 BS:64 LR:0.005",
           "[199, 173]"
          ],
          [
           "FL1:32 FL2:256 DR:0.3 BS:64 LR:0.005",
           "[199, 173]"
          ],
          [
           "FL1:32 FL2:256 DR:0.3 BS:64 LR:0.005",
           "[199, 173]"
          ],
          [
           "FL1:32 FL2:256 DR:0.3 BS:64 LR:0.005",
           "[199, 173]"
          ],
          [
           "FL1:32 FL2:256 DR:0.3 BS:64 LR:0.005",
           "[199, 173]"
          ],
          [
           "FL1:32 FL2:256 DR:0.3 BS:64 LR:0.005",
           "[199, 173]"
          ],
          [
           "FL1:32 FL2:256 DR:0.3 BS:64 LR:0.005",
           "[199, 173]"
          ],
          [
           "FL1:32 FL2:256 DR:0.3 BS:64 LR:0.005",
           "[199, 173]"
          ],
          [
           "FL1:32 FL2:256 DR:0.3 BS:64 LR:0.005",
           "[199, 173]"
          ],
          [
           "FL1:32 FL2:256 DR:0.3 BS:64 LR:0.005",
           "[199, 173]"
          ],
          [
           "FL1:32 FL2:256 DR:0.3 BS:64 LR:0.005",
           "[199, 173]"
          ],
          [
           "FL1:32 FL2:256 DR:0.3 BS:64 LR:0.005",
           "[199, 173]"
          ],
          [
           "FL1:32 FL2:256 DR:0.3 BS:64 LR:0.005",
           "[199, 173]"
          ],
          [
           "FL1:32 FL2:256 DR:0.3 BS:64 LR:0.005",
           "[199, 173]"
          ],
          [
           "FL1:32 FL2:256 DR:0.3 BS:64 LR:0.005",
           "[199, 173]"
          ],
          [
           "FL1:32 FL2:256 DR:0.3 BS:64 LR:0.005",
           "[199, 173]"
          ],
          [
           "FL1:32 FL2:256 DR:0.3 BS:64 LR:0.005",
           "[199, 173]"
          ],
          [
           "FL1:32 FL2:256 DR:0.3 BS:64 LR:0.005",
           "[199, 173]"
          ],
          [
           "FL1:32 FL2:256 DR:0.3 BS:64 LR:0.005",
           "[199, 173]"
          ],
          [
           "FL1:32 FL2:256 DR:0.3 BS:64 LR:0.005",
           "[199, 173]"
          ],
          [
           "FL1:32 FL2:256 DR:0.3 BS:64 LR:0.005",
           "[199, 173]"
          ],
          [
           "FL1:32 FL2:256 DR:0.3 BS:64 LR:0.005",
           "[199, 173]"
          ],
          [
           "FL1:32 FL2:256 DR:0.3 BS:64 LR:0.005",
           "[199, 173]"
          ],
          [
           "FL1:32 FL2:256 DR:0.3 BS:64 LR:0.005",
           "[199, 173]"
          ],
          [
           "FL1:32 FL2:256 DR:0.3 BS:64 LR:0.005",
           "[199, 173]"
          ],
          [
           "FL1:32 FL2:256 DR:0.3 BS:64 LR:0.005",
           "[199, 173]"
          ],
          [
           "FL1:32 FL2:256 DR:0.3 BS:64 LR:0.005",
           "[199, 173]"
          ],
          [
           "FL1:32 FL2:256 DR:0.3 BS:64 LR:0.005",
           "[199, 173]"
          ],
          [
           "FL1:32 FL2:256 DR:0.3 BS:64 LR:0.005",
           "[199, 173]"
          ],
          [
           "FL1:32 FL2:256 DR:0.3 BS:64 LR:0.005",
           "[199, 173]"
          ],
          [
           "FL1:32 FL2:256 DR:0.3 BS:64 LR:0.005",
           "[199, 173]"
          ],
          [
           "FL1:32 FL2:256 DR:0.3 BS:64 LR:0.005",
           "[199, 173]"
          ],
          [
           "FL1:32 FL2:256 DR:0.3 BS:64 LR:0.005",
           "[199, 173]"
          ],
          [
           "FL1:32 FL2:256 DR:0.3 BS:64 LR:0.005",
           "[199, 173]"
          ],
          [
           "FL1:32 FL2:256 DR:0.3 BS:64 LR:0.005",
           "[199, 173]"
          ],
          [
           "FL1:32 FL2:256 DR:0.3 BS:64 LR:0.005",
           "[199, 173]"
          ],
          [
           "FL1:32 FL2:256 DR:0.3 BS:64 LR:0.005",
           "[199, 173]"
          ],
          [
           "FL1:32 FL2:256 DR:0.3 BS:64 LR:0.005",
           "[199, 173]"
          ],
          [
           "FL1:32 FL2:256 DR:0.3 BS:64 LR:0.005",
           "[199, 173]"
          ],
          [
           "FL1:32 FL2:256 DR:0.3 BS:64 LR:0.005",
           "[199, 173]"
          ],
          [
           "FL1:32 FL2:256 DR:0.3 BS:64 LR:0.005",
           "[199, 173]"
          ],
          [
           "FL1:32 FL2:256 DR:0.3 BS:64 LR:0.005",
           "[199, 173]"
          ],
          [
           "FL1:32 FL2:256 DR:0.3 BS:64 LR:0.005",
           "[199, 173]"
          ],
          [
           "FL1:32 FL2:256 DR:0.3 BS:64 LR:0.005",
           "[199, 173]"
          ],
          [
           "FL1:32 FL2:256 DR:0.3 BS:64 LR:0.005",
           "[199, 173]"
          ],
          [
           "FL1:32 FL2:256 DR:0.3 BS:64 LR:0.005",
           "[199, 173]"
          ],
          [
           "FL1:32 FL2:256 DR:0.3 BS:64 LR:0.005",
           "[199, 173]"
          ],
          [
           "FL1:32 FL2:256 DR:0.3 BS:64 LR:0.005",
           "[199, 173]"
          ],
          [
           "FL1:32 FL2:256 DR:0.3 BS:64 LR:0.005",
           "[199, 173]"
          ],
          [
           "FL1:32 FL2:256 DR:0.3 BS:64 LR:0.005",
           "[199, 173]"
          ],
          [
           "FL1:32 FL2:256 DR:0.3 BS:64 LR:0.005",
           "[199, 173]"
          ],
          [
           "FL1:32 FL2:256 DR:0.3 BS:64 LR:0.005",
           "[199, 173]"
          ],
          [
           "FL1:32 FL2:256 DR:0.3 BS:64 LR:0.005",
           "[199, 173]"
          ],
          [
           "FL1:32 FL2:256 DR:0.3 BS:64 LR:0.005",
           "[199, 173]"
          ],
          [
           "FL1:32 FL2:256 DR:0.3 BS:64 LR:0.005",
           "[199, 173]"
          ],
          [
           "FL1:32 FL2:256 DR:0.3 BS:64 LR:0.005",
           "[199, 173]"
          ],
          [
           "FL1:32 FL2:256 DR:0.3 BS:64 LR:0.005",
           "[199, 173]"
          ],
          [
           "FL1:32 FL2:256 DR:0.3 BS:64 LR:0.005",
           "[199, 173]"
          ],
          [
           "FL1:32 FL2:256 DR:0.3 BS:64 LR:0.005",
           "[199, 173]"
          ],
          [
           "FL1:32 FL2:256 DR:0.3 BS:64 LR:0.005",
           "[199, 173]"
          ],
          [
           "FL1:32 FL2:256 DR:0.3 BS:64 LR:0.005",
           "[199, 173]"
          ],
          [
           "FL1:32 FL2:256 DR:0.3 BS:64 LR:0.005",
           "[199, 173]"
          ],
          [
           "FL1:32 FL2:256 DR:0.3 BS:64 LR:0.005",
           "[199, 173]"
          ],
          [
           "FL1:32 FL2:256 DR:0.3 BS:64 LR:0.005",
           "[199, 173]"
          ],
          [
           "FL1:32 FL2:256 DR:0.3 BS:64 LR:0.005",
           "[199, 173]"
          ],
          [
           "FL1:32 FL2:256 DR:0.3 BS:64 LR:0.005",
           "[199, 173]"
          ],
          [
           "FL1:32 FL2:256 DR:0.3 BS:64 LR:0.005",
           "[199, 173]"
          ],
          [
           "FL1:32 FL2:256 DR:0.3 BS:64 LR:0.005",
           "[199, 173]"
          ],
          [
           "FL1:32 FL2:256 DR:0.3 BS:64 LR:0.005",
           "[199, 173]"
          ],
          [
           "FL1:32 FL2:256 DR:0.3 BS:64 LR:0.005",
           "[199, 173]"
          ],
          [
           "FL1:32 FL2:256 DR:0.3 BS:64 LR:0.005",
           "[199, 173]"
          ],
          [
           "FL1:32 FL2:256 DR:0.3 BS:64 LR:0.005",
           "[199, 173]"
          ],
          [
           "FL1:32 FL2:256 DR:0.3 BS:64 LR:0.005",
           "[199, 173]"
          ],
          [
           "FL1:32 FL2:256 DR:0.3 BS:64 LR:0.005",
           "[199, 173]"
          ],
          [
           "FL1:32 FL2:256 DR:0.3 BS:64 LR:0.005",
           "[199, 173]"
          ],
          [
           "FL1:32 FL2:256 DR:0.3 BS:64 LR:0.005",
           "[199, 173]"
          ],
          [
           "FL1:32 FL2:256 DR:0.3 BS:64 LR:0.005",
           "[199, 173]"
          ],
          [
           "FL1:32 FL2:256 DR:0.3 BS:64 LR:0.005",
           "[199, 173]"
          ],
          [
           "FL1:32 FL2:256 DR:0.3 BS:64 LR:0.005",
           "[199, 173]"
          ],
          [
           "FL1:32 FL2:256 DR:0.3 BS:64 LR:0.005",
           "[199, 173]"
          ],
          [
           "FL1:32 FL2:256 DR:0.3 BS:64 LR:0.005",
           "[199, 173]"
          ],
          [
           "FL1:32 FL2:256 DR:0.3 BS:64 LR:0.005",
           "[199, 173]"
          ],
          [
           "FL1:32 FL2:256 DR:0.3 BS:64 LR:0.005",
           "[199, 173]"
          ],
          [
           "FL1:32 FL2:256 DR:0.3 BS:64 LR:0.005",
           "[199, 173]"
          ],
          [
           "FL1:32 FL2:256 DR:0.3 BS:64 LR:0.005",
           "[199, 173]"
          ],
          [
           "FL1:32 FL2:256 DR:0.3 BS:64 LR:0.005",
           "[199, 173]"
          ],
          [
           "FL1:32 FL2:256 DR:0.3 BS:64 LR:0.005",
           "[199, 173]"
          ],
          [
           "FL1:32 FL2:256 DR:0.3 BS:64 LR:0.005",
           "[199, 173]"
          ],
          [
           "FL1:32 FL2:256 DR:0.3 BS:64 LR:0.005",
           "[199, 173]"
          ],
          [
           "FL1:32 FL2:256 DR:0.3 BS:64 LR:0.005",
           "[199, 173]"
          ],
          [
           "FL1:32 FL2:256 DR:0.3 BS:64 LR:0.005",
           "[199, 173]"
          ],
          [
           "FL1:32 FL2:256 DR:0.3 BS:64 LR:0.005",
           "[199, 173]"
          ],
          [
           "FL1:32 FL2:256 DR:0.3 BS:64 LR:0.005",
           "[199, 173]"
          ],
          [
           "FL1:32 FL2:256 DR:0.3 BS:64 LR:0.005",
           "[199, 173]"
          ],
          [
           "FL1:32 FL2:256 DR:0.3 BS:64 LR:0.005",
           "[199, 173]"
          ],
          [
           "FL1:32 FL2:256 DR:0.3 BS:64 LR:0.005",
           "[199, 173]"
          ],
          [
           "FL1:32 FL2:256 DR:0.3 BS:64 LR:0.005",
           "[199, 173]"
          ],
          [
           "FL1:32 FL2:256 DR:0.3 BS:64 LR:0.005",
           "[199, 173]"
          ],
          [
           "FL1:32 FL2:256 DR:0.3 BS:64 LR:0.005",
           "[199, 173]"
          ],
          [
           "FL1:32 FL2:256 DR:0.3 BS:64 LR:0.005",
           "[199, 173]"
          ],
          [
           "FL1:32 FL2:256 DR:0.3 BS:64 LR:0.005",
           "[199, 173]"
          ],
          [
           "FL1:32 FL2:256 DR:0.3 BS:64 LR:0.005",
           "[199, 173]"
          ],
          [
           "FL1:32 FL2:256 DR:0.3 BS:64 LR:0.005",
           "[199, 173]"
          ],
          [
           "FL1:32 FL2:256 DR:0.3 BS:64 LR:0.005",
           "[199, 173]"
          ],
          [
           "FL1:32 FL2:256 DR:0.3 BS:64 LR:0.005",
           "[199, 173]"
          ],
          [
           "FL1:32 FL2:256 DR:0.3 BS:64 LR:0.005",
           "[199, 173]"
          ],
          [
           "FL1:32 FL2:256 DR:0.3 BS:64 LR:0.005",
           "[199, 173]"
          ],
          [
           "FL1:32 FL2:256 DR:0.3 BS:64 LR:0.005",
           "[199, 173]"
          ],
          [
           "FL1:32 FL2:256 DR:0.3 BS:64 LR:0.005",
           "[199, 173]"
          ],
          [
           "FL1:32 FL2:256 DR:0.3 BS:64 LR:0.005",
           "[199, 173]"
          ],
          [
           "FL1:32 FL2:256 DR:0.3 BS:64 LR:0.005",
           "[199, 173]"
          ],
          [
           "FL1:32 FL2:256 DR:0.3 BS:64 LR:0.005",
           "[199, 173]"
          ],
          [
           "FL1:32 FL2:256 DR:0.3 BS:64 LR:0.005",
           "[199, 173]"
          ],
          [
           "FL1:32 FL2:256 DR:0.3 BS:64 LR:0.005",
           "[199, 173]"
          ],
          [
           "FL1:32 FL2:256 DR:0.3 BS:64 LR:0.005",
           "[199, 173]"
          ],
          [
           "FL1:32 FL2:256 DR:0.3 BS:64 LR:0.005",
           "[199, 173]"
          ],
          [
           "FL1:32 FL2:256 DR:0.3 BS:64 LR:0.005",
           "[199, 173]"
          ],
          [
           "FL1:32 FL2:256 DR:0.3 BS:64 LR:0.005",
           "[199, 173]"
          ],
          [
           "FL1:32 FL2:256 DR:0.3 BS:64 LR:0.005",
           "[199, 173]"
          ],
          [
           "FL1:32 FL2:256 DR:0.3 BS:64 LR:0.005",
           "[199, 173]"
          ],
          [
           "FL1:32 FL2:256 DR:0.3 BS:64 LR:0.005",
           "[199, 173]"
          ],
          [
           "FL1:32 FL2:256 DR:0.3 BS:64 LR:0.005",
           "[199, 173]"
          ],
          [
           "FL1:32 FL2:256 DR:0.3 BS:64 LR:0.005",
           "[199, 173]"
          ],
          [
           "FL1:32 FL2:256 DR:0.3 BS:64 LR:0.005",
           "[199, 173]"
          ],
          [
           "FL1:32 FL2:256 DR:0.3 BS:64 LR:0.005",
           "[199, 173]"
          ],
          [
           "FL1:32 FL2:256 DR:0.3 BS:64 LR:0.005",
           "[199, 173]"
          ],
          [
           "FL1:32 FL2:256 DR:0.3 BS:64 LR:0.005",
           "[199, 173]"
          ],
          [
           "FL1:32 FL2:256 DR:0.3 BS:64 LR:0.005",
           "[199, 173]"
          ],
          [
           "FL1:32 FL2:256 DR:0.3 BS:64 LR:0.005",
           "[199, 173]"
          ],
          [
           "FL1:32 FL2:256 DR:0.3 BS:64 LR:0.005",
           "[199, 173]"
          ],
          [
           "FL1:32 FL2:256 DR:0.3 BS:64 LR:0.005",
           "[199, 173]"
          ],
          [
           "FL1:32 FL2:256 DR:0.3 BS:64 LR:0.005",
           "[199, 173]"
          ],
          [
           "FL1:32 FL2:256 DR:0.3 BS:64 LR:0.005",
           "[199, 173]"
          ],
          [
           "FL1:32 FL2:256 DR:0.3 BS:64 LR:0.005",
           "[199, 173]"
          ],
          [
           "FL1:32 FL2:256 DR:0.3 BS:64 LR:0.005",
           "[199, 173]"
          ],
          [
           "FL1:32 FL2:256 DR:0.3 BS:64 LR:0.005",
           "[199, 173]"
          ],
          [
           "FL1:32 FL2:256 DR:0.3 BS:64 LR:0.005",
           "[199, 173]"
          ],
          [
           "FL1:32 FL2:256 DR:0.3 BS:64 LR:0.005",
           "[199, 173]"
          ],
          [
           "FL1:32 FL2:256 DR:0.3 BS:64 LR:0.005",
           "[199, 173]"
          ],
          [
           "FL1:32 FL2:256 DR:0.3 BS:64 LR:0.005",
           "[199, 173]"
          ],
          [
           "FL1:32 FL2:256 DR:0.3 BS:64 LR:0.005",
           "[199, 173]"
          ],
          [
           "FL1:32 FL2:256 DR:0.3 BS:64 LR:0.005",
           "[199, 173]"
          ],
          [
           "FL1:32 FL2:256 DR:0.3 BS:64 LR:0.005",
           "[199, 173]"
          ],
          [
           "FL1:32 FL2:256 DR:0.3 BS:64 LR:0.005",
           "[199, 173]"
          ],
          [
           "FL1:32 FL2:256 DR:0.3 BS:64 LR:0.005",
           "[199, 173]"
          ],
          [
           "FL1:32 FL2:256 DR:0.3 BS:64 LR:0.005",
           "[199, 173]"
          ],
          [
           "FL1:32 FL2:256 DR:0.3 BS:64 LR:0.005",
           "[199, 173]"
          ],
          [
           "FL1:32 FL2:256 DR:0.3 BS:64 LR:0.005",
           "[199, 173]"
          ],
          [
           "FL1:32 FL2:256 DR:0.3 BS:64 LR:0.005",
           "[199, 173]"
          ],
          [
           "FL1:32 FL2:256 DR:0.3 BS:64 LR:0.005",
           "[199, 173]"
          ],
          [
           "FL1:32 FL2:256 DR:0.3 BS:64 LR:0.005",
           "[199, 173]"
          ],
          [
           "FL1:32 FL2:256 DR:0.3 BS:64 LR:0.005",
           "[199, 173]"
          ],
          [
           "FL1:32 FL2:256 DR:0.3 BS:64 LR:0.005",
           "[199, 173]"
          ],
          [
           "FL1:32 FL2:256 DR:0.3 BS:64 LR:0.005",
           "[199, 173]"
          ],
          [
           "FL1:32 FL2:256 DR:0.3 BS:64 LR:0.005",
           "[199, 173]"
          ],
          [
           "FL1:32 FL2:256 DR:0.3 BS:64 LR:0.005",
           "[199, 173]"
          ],
          [
           "FL1:32 FL2:256 DR:0.3 BS:64 LR:0.005",
           "[199, 173]"
          ],
          [
           "FL1:32 FL2:256 DR:0.3 BS:64 LR:0.005",
           "[199, 173]"
          ],
          [
           "FL1:32 FL2:256 DR:0.3 BS:64 LR:0.005",
           "[199, 173]"
          ],
          [
           "FL1:32 FL2:256 DR:0.3 BS:64 LR:0.005",
           "[199, 173]"
          ],
          [
           "FL1:32 FL2:256 DR:0.3 BS:64 LR:0.005",
           "[199, 173]"
          ],
          [
           "FL1:32 FL2:256 DR:0.3 BS:64 LR:0.005",
           "[199, 173]"
          ],
          [
           "FL1:32 FL2:256 DR:0.3 BS:64 LR:0.005",
           "[199, 173]"
          ],
          [
           "FL1:32 FL2:256 DR:0.3 BS:64 LR:0.005",
           "[199, 173]"
          ],
          [
           "FL1:32 FL2:256 DR:0.3 BS:64 LR:0.005",
           "[199, 173]"
          ],
          [
           "FL1:32 FL2:256 DR:0.3 BS:64 LR:0.005",
           "[199, 173]"
          ],
          [
           "FL1:32 FL2:256 DR:0.3 BS:64 LR:0.005",
           "[199, 173]"
          ],
          [
           "FL1:32 FL2:256 DR:0.3 BS:64 LR:0.005",
           "[199, 173]"
          ],
          [
           "FL1:32 FL2:256 DR:0.3 BS:64 LR:0.005",
           "[199, 173]"
          ],
          [
           "FL1:32 FL2:256 DR:0.3 BS:64 LR:0.005",
           "[199, 173]"
          ],
          [
           "FL1:32 FL2:256 DR:0.3 BS:64 LR:0.005",
           "[199, 173]"
          ],
          [
           "FL1:32 FL2:256 DR:0.3 BS:64 LR:0.005",
           "[199, 173]"
          ],
          [
           "FL1:32 FL2:256 DR:0.3 BS:64 LR:0.005",
           "[199, 173]"
          ],
          [
           "FL1:32 FL2:256 DR:0.3 BS:64 LR:0.005",
           "[199, 173]"
          ],
          [
           "FL1:32 FL2:256 DR:0.3 BS:64 LR:0.005",
           "[199, 173]"
          ]
         ],
         "hovertemplate": "variable=val_loss<br>trial_id=802fd_00006<br>epoch=%{x}<br>value=%{y}<br>Hyperparameters=%{customdata[0]}<br>checkpoints=%{customdata[1]}<extra></extra>",
         "legendgroup": "val_loss, 802fd_00006",
         "line": {
          "color": "#636efa",
          "dash": "longdash"
         },
         "marker": {
          "symbol": "circle"
         },
         "mode": "lines",
         "name": "val_loss, 802fd_00006",
         "showlegend": true,
         "type": "scattergl",
         "x": [
          0,
          1,
          2,
          3,
          4,
          5,
          6,
          7,
          8,
          9,
          10,
          11,
          12,
          13,
          14,
          15,
          16,
          17,
          18,
          19,
          20,
          21,
          22,
          23,
          24,
          25,
          26,
          27,
          28,
          29,
          30,
          31,
          32,
          33,
          34,
          35,
          36,
          37,
          38,
          39,
          40,
          41,
          42,
          43,
          44,
          45,
          46,
          47,
          48,
          49,
          50,
          51,
          52,
          53,
          54,
          55,
          56,
          57,
          58,
          59,
          60,
          61,
          62,
          63,
          64,
          65,
          66,
          67,
          68,
          69,
          70,
          71,
          72,
          73,
          74,
          75,
          76,
          77,
          78,
          79,
          80,
          81,
          82,
          83,
          84,
          85,
          86,
          87,
          88,
          89,
          90,
          91,
          92,
          93,
          94,
          95,
          96,
          97,
          98,
          99,
          100,
          101,
          102,
          103,
          104,
          105,
          106,
          107,
          108,
          109,
          110,
          111,
          112,
          113,
          114,
          115,
          116,
          117,
          118,
          119,
          120,
          121,
          122,
          123,
          124,
          125,
          126,
          127,
          128,
          129,
          130,
          131,
          132,
          133,
          134,
          135,
          136,
          137,
          138,
          139,
          140,
          141,
          142,
          143,
          144,
          145,
          146,
          147,
          148,
          149,
          150,
          151,
          152,
          153,
          154,
          155,
          156,
          157,
          158,
          159,
          160,
          161,
          162,
          163,
          164,
          165,
          166,
          167,
          168,
          169,
          170,
          171,
          172,
          173,
          174,
          175,
          176,
          177,
          178,
          179,
          180,
          181,
          182,
          183,
          184,
          185,
          186,
          187,
          188,
          189,
          190,
          191,
          192,
          193,
          194,
          195,
          196,
          197,
          198,
          199
         ],
         "xaxis": "x",
         "y": [
          0.7567968964576703,
          0.673369487126666,
          0.5783663425180623,
          0.4939895393671788,
          0.4336277824125149,
          0.40547942992590835,
          0.37119439162507895,
          0.3684105966998148,
          0.3508116665491129,
          0.33894860168355395,
          0.3307710847593518,
          0.33828136068828624,
          0.3311948262469478,
          0.32437218777447907,
          0.32075168723603,
          0.3126253521094044,
          0.31187049783927256,
          0.31295102660961904,
          0.32540265603269364,
          0.3287876207524214,
          0.32217234100856135,
          0.32933015443191016,
          0.3246261630939442,
          0.316163023610048,
          0.3108541106509708,
          0.31300240989046174,
          0.2993109539847691,
          0.31909971539849086,
          0.3255649745773866,
          0.33885421953675354,
          0.35182989373523044,
          0.34588288754037966,
          0.34156836728130335,
          0.33776013162317836,
          0.3443330102932641,
          0.355241985703321,
          0.3793498188818893,
          0.3639424085991508,
          0.3585181097439205,
          0.3767275220984393,
          0.3805568620121585,
          0.37874807613135003,
          0.42421113581816644,
          0.41115407567130297,
          0.4242831065979707,
          0.43703790801942943,
          0.4075966033550135,
          0.43101812423679664,
          0.4262203443143983,
          0.41868288438149326,
          0.4207317207960809,
          0.4257274153966712,
          0.4184890510730606,
          0.46623663916141733,
          0.42420983522435574,
          0.40486578285230806,
          0.39948868512798325,
          0.38671933452082247,
          0.3956790986312258,
          0.4275141042240997,
          0.42572020370221964,
          0.4180730904370989,
          0.4165728307585207,
          0.41521815901466685,
          0.4048338528836326,
          0.40599784230951075,
          0.40975243830524183,
          0.40172022239262634,
          0.4351127720931807,
          0.4563507223831032,
          0.4654751376778813,
          0.47774821231569936,
          0.4570040782942105,
          0.4579039170115334,
          0.44035580448105127,
          0.4416688362213904,
          0.4275405294003036,
          0.43723267557236417,
          0.4670439179871657,
          0.4582424141389902,
          0.44421884268010714,
          0.4278168469633323,
          0.41436514854203643,
          0.430102441706729,
          0.42306221789682613,
          0.4269002263186015,
          0.40258683989032273,
          0.3909001200039124,
          0.3882315952671185,
          0.3980410926270882,
          0.4146338756037012,
          0.3990065988667967,
          0.40422653733148484,
          0.4106831920044565,
          0.44638908385547826,
          0.43472294330141736,
          0.4509493001271726,
          0.4275805875969879,
          0.4144176294613505,
          0.3985405796242166,
          0.4198080455907445,
          0.4443867806360618,
          0.47068395242197486,
          0.4982670282330975,
          0.44993783268709003,
          0.44440998457126396,
          0.44181646123364515,
          0.41547637989014263,
          0.4467032141810635,
          0.4273236219966388,
          0.4199330690757409,
          0.4357463441461959,
          0.42370507267916363,
          0.4061363249871733,
          0.42978571255032116,
          0.4385418785878269,
          0.4628401924019542,
          0.4736602159901108,
          0.4649422170429514,
          0.44778315237555716,
          0.4451397227670991,
          0.47281822677627044,
          0.46108548916826436,
          0.46890676404005693,
          0.4663351402346706,
          0.4590503424846067,
          0.44508313142213024,
          0.4853181574275267,
          0.515437207853142,
          0.5147712179259073,
          0.5325785244991773,
          0.519567566811401,
          0.5253928420936773,
          0.5104688583477134,
          0.5089166481404686,
          0.5610866559286356,
          0.5802178987356966,
          0.6024521396221666,
          0.5507708261848776,
          0.5401257521868592,
          0.5252187117577148,
          0.5234874198596037,
          0.546774308533161,
          0.5457775464658519,
          0.5718581591052849,
          0.6157809240290201,
          0.5984139669384331,
          0.5557196986970473,
          0.5458061464824379,
          0.5435563172365613,
          0.5369260208782466,
          0.5037269623396725,
          0.49773395268903264,
          0.4997109387237887,
          0.4746800703418947,
          0.4946499495117318,
          0.4539721825658241,
          0.4517868405540084,
          0.4631860518428536,
          0.46115389227687226,
          0.5029175662982377,
          0.46345809658288295,
          0.44993719829399836,
          0.4707475329324886,
          0.4925361689518071,
          0.49049531198807284,
          0.5351163067901632,
          0.5825823690152483,
          0.5948546029234126,
          0.5603712762133399,
          0.515141454983824,
          0.575444060993904,
          0.5469420773669829,
          0.5819729912866967,
          0.5569011799885033,
          0.5752662772862897,
          0.5605668263255733,
          0.5879348606943524,
          0.49270295706586215,
          0.4574703846189448,
          0.46116480057855797,
          0.4683409818372473,
          0.5138538405869618,
          0.49702631934312963,
          0.4837424424213027,
          0.472275950307438,
          0.4763051621084661,
          0.47415147569214194,
          0.485059866285554,
          0.48966347772295576,
          0.48744391135649634,
          0.4913960710649793,
          0.5058803767287126,
          0.49376466276403097,
          0.5155351321045268,
          0.5330366002283949,
          0.5415627033685604,
          0.5294201354963873,
          0.5628824419964201,
          0.5353946710420205
         ],
         "yaxis": "y"
        },
        {
         "customdata": [
          [
           "FL1:16 FL2:512 DR:0.6 BS:32 LR:0.0001",
           "[46, 199]"
          ],
          [
           "FL1:16 FL2:512 DR:0.6 BS:32 LR:0.0001",
           "[46, 199]"
          ],
          [
           "FL1:16 FL2:512 DR:0.6 BS:32 LR:0.0001",
           "[46, 199]"
          ],
          [
           "FL1:16 FL2:512 DR:0.6 BS:32 LR:0.0001",
           "[46, 199]"
          ],
          [
           "FL1:16 FL2:512 DR:0.6 BS:32 LR:0.0001",
           "[46, 199]"
          ],
          [
           "FL1:16 FL2:512 DR:0.6 BS:32 LR:0.0001",
           "[46, 199]"
          ],
          [
           "FL1:16 FL2:512 DR:0.6 BS:32 LR:0.0001",
           "[46, 199]"
          ],
          [
           "FL1:16 FL2:512 DR:0.6 BS:32 LR:0.0001",
           "[46, 199]"
          ],
          [
           "FL1:16 FL2:512 DR:0.6 BS:32 LR:0.0001",
           "[46, 199]"
          ],
          [
           "FL1:16 FL2:512 DR:0.6 BS:32 LR:0.0001",
           "[46, 199]"
          ],
          [
           "FL1:16 FL2:512 DR:0.6 BS:32 LR:0.0001",
           "[46, 199]"
          ],
          [
           "FL1:16 FL2:512 DR:0.6 BS:32 LR:0.0001",
           "[46, 199]"
          ],
          [
           "FL1:16 FL2:512 DR:0.6 BS:32 LR:0.0001",
           "[46, 199]"
          ],
          [
           "FL1:16 FL2:512 DR:0.6 BS:32 LR:0.0001",
           "[46, 199]"
          ],
          [
           "FL1:16 FL2:512 DR:0.6 BS:32 LR:0.0001",
           "[46, 199]"
          ],
          [
           "FL1:16 FL2:512 DR:0.6 BS:32 LR:0.0001",
           "[46, 199]"
          ],
          [
           "FL1:16 FL2:512 DR:0.6 BS:32 LR:0.0001",
           "[46, 199]"
          ],
          [
           "FL1:16 FL2:512 DR:0.6 BS:32 LR:0.0001",
           "[46, 199]"
          ],
          [
           "FL1:16 FL2:512 DR:0.6 BS:32 LR:0.0001",
           "[46, 199]"
          ],
          [
           "FL1:16 FL2:512 DR:0.6 BS:32 LR:0.0001",
           "[46, 199]"
          ],
          [
           "FL1:16 FL2:512 DR:0.6 BS:32 LR:0.0001",
           "[46, 199]"
          ],
          [
           "FL1:16 FL2:512 DR:0.6 BS:32 LR:0.0001",
           "[46, 199]"
          ],
          [
           "FL1:16 FL2:512 DR:0.6 BS:32 LR:0.0001",
           "[46, 199]"
          ],
          [
           "FL1:16 FL2:512 DR:0.6 BS:32 LR:0.0001",
           "[46, 199]"
          ],
          [
           "FL1:16 FL2:512 DR:0.6 BS:32 LR:0.0001",
           "[46, 199]"
          ],
          [
           "FL1:16 FL2:512 DR:0.6 BS:32 LR:0.0001",
           "[46, 199]"
          ],
          [
           "FL1:16 FL2:512 DR:0.6 BS:32 LR:0.0001",
           "[46, 199]"
          ],
          [
           "FL1:16 FL2:512 DR:0.6 BS:32 LR:0.0001",
           "[46, 199]"
          ],
          [
           "FL1:16 FL2:512 DR:0.6 BS:32 LR:0.0001",
           "[46, 199]"
          ],
          [
           "FL1:16 FL2:512 DR:0.6 BS:32 LR:0.0001",
           "[46, 199]"
          ],
          [
           "FL1:16 FL2:512 DR:0.6 BS:32 LR:0.0001",
           "[46, 199]"
          ],
          [
           "FL1:16 FL2:512 DR:0.6 BS:32 LR:0.0001",
           "[46, 199]"
          ],
          [
           "FL1:16 FL2:512 DR:0.6 BS:32 LR:0.0001",
           "[46, 199]"
          ],
          [
           "FL1:16 FL2:512 DR:0.6 BS:32 LR:0.0001",
           "[46, 199]"
          ],
          [
           "FL1:16 FL2:512 DR:0.6 BS:32 LR:0.0001",
           "[46, 199]"
          ],
          [
           "FL1:16 FL2:512 DR:0.6 BS:32 LR:0.0001",
           "[46, 199]"
          ],
          [
           "FL1:16 FL2:512 DR:0.6 BS:32 LR:0.0001",
           "[46, 199]"
          ],
          [
           "FL1:16 FL2:512 DR:0.6 BS:32 LR:0.0001",
           "[46, 199]"
          ],
          [
           "FL1:16 FL2:512 DR:0.6 BS:32 LR:0.0001",
           "[46, 199]"
          ],
          [
           "FL1:16 FL2:512 DR:0.6 BS:32 LR:0.0001",
           "[46, 199]"
          ],
          [
           "FL1:16 FL2:512 DR:0.6 BS:32 LR:0.0001",
           "[46, 199]"
          ],
          [
           "FL1:16 FL2:512 DR:0.6 BS:32 LR:0.0001",
           "[46, 199]"
          ],
          [
           "FL1:16 FL2:512 DR:0.6 BS:32 LR:0.0001",
           "[46, 199]"
          ],
          [
           "FL1:16 FL2:512 DR:0.6 BS:32 LR:0.0001",
           "[46, 199]"
          ],
          [
           "FL1:16 FL2:512 DR:0.6 BS:32 LR:0.0001",
           "[46, 199]"
          ],
          [
           "FL1:16 FL2:512 DR:0.6 BS:32 LR:0.0001",
           "[46, 199]"
          ],
          [
           "FL1:16 FL2:512 DR:0.6 BS:32 LR:0.0001",
           "[46, 199]"
          ],
          [
           "FL1:16 FL2:512 DR:0.6 BS:32 LR:0.0001",
           "[46, 199]"
          ],
          [
           "FL1:16 FL2:512 DR:0.6 BS:32 LR:0.0001",
           "[46, 199]"
          ],
          [
           "FL1:16 FL2:512 DR:0.6 BS:32 LR:0.0001",
           "[46, 199]"
          ],
          [
           "FL1:16 FL2:512 DR:0.6 BS:32 LR:0.0001",
           "[46, 199]"
          ],
          [
           "FL1:16 FL2:512 DR:0.6 BS:32 LR:0.0001",
           "[46, 199]"
          ],
          [
           "FL1:16 FL2:512 DR:0.6 BS:32 LR:0.0001",
           "[46, 199]"
          ],
          [
           "FL1:16 FL2:512 DR:0.6 BS:32 LR:0.0001",
           "[46, 199]"
          ],
          [
           "FL1:16 FL2:512 DR:0.6 BS:32 LR:0.0001",
           "[46, 199]"
          ],
          [
           "FL1:16 FL2:512 DR:0.6 BS:32 LR:0.0001",
           "[46, 199]"
          ],
          [
           "FL1:16 FL2:512 DR:0.6 BS:32 LR:0.0001",
           "[46, 199]"
          ],
          [
           "FL1:16 FL2:512 DR:0.6 BS:32 LR:0.0001",
           "[46, 199]"
          ],
          [
           "FL1:16 FL2:512 DR:0.6 BS:32 LR:0.0001",
           "[46, 199]"
          ],
          [
           "FL1:16 FL2:512 DR:0.6 BS:32 LR:0.0001",
           "[46, 199]"
          ],
          [
           "FL1:16 FL2:512 DR:0.6 BS:32 LR:0.0001",
           "[46, 199]"
          ],
          [
           "FL1:16 FL2:512 DR:0.6 BS:32 LR:0.0001",
           "[46, 199]"
          ],
          [
           "FL1:16 FL2:512 DR:0.6 BS:32 LR:0.0001",
           "[46, 199]"
          ],
          [
           "FL1:16 FL2:512 DR:0.6 BS:32 LR:0.0001",
           "[46, 199]"
          ],
          [
           "FL1:16 FL2:512 DR:0.6 BS:32 LR:0.0001",
           "[46, 199]"
          ],
          [
           "FL1:16 FL2:512 DR:0.6 BS:32 LR:0.0001",
           "[46, 199]"
          ],
          [
           "FL1:16 FL2:512 DR:0.6 BS:32 LR:0.0001",
           "[46, 199]"
          ],
          [
           "FL1:16 FL2:512 DR:0.6 BS:32 LR:0.0001",
           "[46, 199]"
          ],
          [
           "FL1:16 FL2:512 DR:0.6 BS:32 LR:0.0001",
           "[46, 199]"
          ],
          [
           "FL1:16 FL2:512 DR:0.6 BS:32 LR:0.0001",
           "[46, 199]"
          ],
          [
           "FL1:16 FL2:512 DR:0.6 BS:32 LR:0.0001",
           "[46, 199]"
          ],
          [
           "FL1:16 FL2:512 DR:0.6 BS:32 LR:0.0001",
           "[46, 199]"
          ],
          [
           "FL1:16 FL2:512 DR:0.6 BS:32 LR:0.0001",
           "[46, 199]"
          ],
          [
           "FL1:16 FL2:512 DR:0.6 BS:32 LR:0.0001",
           "[46, 199]"
          ],
          [
           "FL1:16 FL2:512 DR:0.6 BS:32 LR:0.0001",
           "[46, 199]"
          ],
          [
           "FL1:16 FL2:512 DR:0.6 BS:32 LR:0.0001",
           "[46, 199]"
          ],
          [
           "FL1:16 FL2:512 DR:0.6 BS:32 LR:0.0001",
           "[46, 199]"
          ],
          [
           "FL1:16 FL2:512 DR:0.6 BS:32 LR:0.0001",
           "[46, 199]"
          ],
          [
           "FL1:16 FL2:512 DR:0.6 BS:32 LR:0.0001",
           "[46, 199]"
          ],
          [
           "FL1:16 FL2:512 DR:0.6 BS:32 LR:0.0001",
           "[46, 199]"
          ],
          [
           "FL1:16 FL2:512 DR:0.6 BS:32 LR:0.0001",
           "[46, 199]"
          ],
          [
           "FL1:16 FL2:512 DR:0.6 BS:32 LR:0.0001",
           "[46, 199]"
          ],
          [
           "FL1:16 FL2:512 DR:0.6 BS:32 LR:0.0001",
           "[46, 199]"
          ],
          [
           "FL1:16 FL2:512 DR:0.6 BS:32 LR:0.0001",
           "[46, 199]"
          ],
          [
           "FL1:16 FL2:512 DR:0.6 BS:32 LR:0.0001",
           "[46, 199]"
          ],
          [
           "FL1:16 FL2:512 DR:0.6 BS:32 LR:0.0001",
           "[46, 199]"
          ],
          [
           "FL1:16 FL2:512 DR:0.6 BS:32 LR:0.0001",
           "[46, 199]"
          ],
          [
           "FL1:16 FL2:512 DR:0.6 BS:32 LR:0.0001",
           "[46, 199]"
          ],
          [
           "FL1:16 FL2:512 DR:0.6 BS:32 LR:0.0001",
           "[46, 199]"
          ],
          [
           "FL1:16 FL2:512 DR:0.6 BS:32 LR:0.0001",
           "[46, 199]"
          ],
          [
           "FL1:16 FL2:512 DR:0.6 BS:32 LR:0.0001",
           "[46, 199]"
          ],
          [
           "FL1:16 FL2:512 DR:0.6 BS:32 LR:0.0001",
           "[46, 199]"
          ],
          [
           "FL1:16 FL2:512 DR:0.6 BS:32 LR:0.0001",
           "[46, 199]"
          ],
          [
           "FL1:16 FL2:512 DR:0.6 BS:32 LR:0.0001",
           "[46, 199]"
          ],
          [
           "FL1:16 FL2:512 DR:0.6 BS:32 LR:0.0001",
           "[46, 199]"
          ],
          [
           "FL1:16 FL2:512 DR:0.6 BS:32 LR:0.0001",
           "[46, 199]"
          ],
          [
           "FL1:16 FL2:512 DR:0.6 BS:32 LR:0.0001",
           "[46, 199]"
          ],
          [
           "FL1:16 FL2:512 DR:0.6 BS:32 LR:0.0001",
           "[46, 199]"
          ],
          [
           "FL1:16 FL2:512 DR:0.6 BS:32 LR:0.0001",
           "[46, 199]"
          ],
          [
           "FL1:16 FL2:512 DR:0.6 BS:32 LR:0.0001",
           "[46, 199]"
          ],
          [
           "FL1:16 FL2:512 DR:0.6 BS:32 LR:0.0001",
           "[46, 199]"
          ],
          [
           "FL1:16 FL2:512 DR:0.6 BS:32 LR:0.0001",
           "[46, 199]"
          ],
          [
           "FL1:16 FL2:512 DR:0.6 BS:32 LR:0.0001",
           "[46, 199]"
          ],
          [
           "FL1:16 FL2:512 DR:0.6 BS:32 LR:0.0001",
           "[46, 199]"
          ],
          [
           "FL1:16 FL2:512 DR:0.6 BS:32 LR:0.0001",
           "[46, 199]"
          ],
          [
           "FL1:16 FL2:512 DR:0.6 BS:32 LR:0.0001",
           "[46, 199]"
          ],
          [
           "FL1:16 FL2:512 DR:0.6 BS:32 LR:0.0001",
           "[46, 199]"
          ],
          [
           "FL1:16 FL2:512 DR:0.6 BS:32 LR:0.0001",
           "[46, 199]"
          ],
          [
           "FL1:16 FL2:512 DR:0.6 BS:32 LR:0.0001",
           "[46, 199]"
          ],
          [
           "FL1:16 FL2:512 DR:0.6 BS:32 LR:0.0001",
           "[46, 199]"
          ],
          [
           "FL1:16 FL2:512 DR:0.6 BS:32 LR:0.0001",
           "[46, 199]"
          ],
          [
           "FL1:16 FL2:512 DR:0.6 BS:32 LR:0.0001",
           "[46, 199]"
          ],
          [
           "FL1:16 FL2:512 DR:0.6 BS:32 LR:0.0001",
           "[46, 199]"
          ],
          [
           "FL1:16 FL2:512 DR:0.6 BS:32 LR:0.0001",
           "[46, 199]"
          ],
          [
           "FL1:16 FL2:512 DR:0.6 BS:32 LR:0.0001",
           "[46, 199]"
          ],
          [
           "FL1:16 FL2:512 DR:0.6 BS:32 LR:0.0001",
           "[46, 199]"
          ],
          [
           "FL1:16 FL2:512 DR:0.6 BS:32 LR:0.0001",
           "[46, 199]"
          ],
          [
           "FL1:16 FL2:512 DR:0.6 BS:32 LR:0.0001",
           "[46, 199]"
          ],
          [
           "FL1:16 FL2:512 DR:0.6 BS:32 LR:0.0001",
           "[46, 199]"
          ],
          [
           "FL1:16 FL2:512 DR:0.6 BS:32 LR:0.0001",
           "[46, 199]"
          ],
          [
           "FL1:16 FL2:512 DR:0.6 BS:32 LR:0.0001",
           "[46, 199]"
          ],
          [
           "FL1:16 FL2:512 DR:0.6 BS:32 LR:0.0001",
           "[46, 199]"
          ],
          [
           "FL1:16 FL2:512 DR:0.6 BS:32 LR:0.0001",
           "[46, 199]"
          ],
          [
           "FL1:16 FL2:512 DR:0.6 BS:32 LR:0.0001",
           "[46, 199]"
          ],
          [
           "FL1:16 FL2:512 DR:0.6 BS:32 LR:0.0001",
           "[46, 199]"
          ],
          [
           "FL1:16 FL2:512 DR:0.6 BS:32 LR:0.0001",
           "[46, 199]"
          ],
          [
           "FL1:16 FL2:512 DR:0.6 BS:32 LR:0.0001",
           "[46, 199]"
          ],
          [
           "FL1:16 FL2:512 DR:0.6 BS:32 LR:0.0001",
           "[46, 199]"
          ],
          [
           "FL1:16 FL2:512 DR:0.6 BS:32 LR:0.0001",
           "[46, 199]"
          ],
          [
           "FL1:16 FL2:512 DR:0.6 BS:32 LR:0.0001",
           "[46, 199]"
          ],
          [
           "FL1:16 FL2:512 DR:0.6 BS:32 LR:0.0001",
           "[46, 199]"
          ],
          [
           "FL1:16 FL2:512 DR:0.6 BS:32 LR:0.0001",
           "[46, 199]"
          ],
          [
           "FL1:16 FL2:512 DR:0.6 BS:32 LR:0.0001",
           "[46, 199]"
          ],
          [
           "FL1:16 FL2:512 DR:0.6 BS:32 LR:0.0001",
           "[46, 199]"
          ],
          [
           "FL1:16 FL2:512 DR:0.6 BS:32 LR:0.0001",
           "[46, 199]"
          ],
          [
           "FL1:16 FL2:512 DR:0.6 BS:32 LR:0.0001",
           "[46, 199]"
          ],
          [
           "FL1:16 FL2:512 DR:0.6 BS:32 LR:0.0001",
           "[46, 199]"
          ],
          [
           "FL1:16 FL2:512 DR:0.6 BS:32 LR:0.0001",
           "[46, 199]"
          ],
          [
           "FL1:16 FL2:512 DR:0.6 BS:32 LR:0.0001",
           "[46, 199]"
          ],
          [
           "FL1:16 FL2:512 DR:0.6 BS:32 LR:0.0001",
           "[46, 199]"
          ],
          [
           "FL1:16 FL2:512 DR:0.6 BS:32 LR:0.0001",
           "[46, 199]"
          ],
          [
           "FL1:16 FL2:512 DR:0.6 BS:32 LR:0.0001",
           "[46, 199]"
          ],
          [
           "FL1:16 FL2:512 DR:0.6 BS:32 LR:0.0001",
           "[46, 199]"
          ],
          [
           "FL1:16 FL2:512 DR:0.6 BS:32 LR:0.0001",
           "[46, 199]"
          ],
          [
           "FL1:16 FL2:512 DR:0.6 BS:32 LR:0.0001",
           "[46, 199]"
          ],
          [
           "FL1:16 FL2:512 DR:0.6 BS:32 LR:0.0001",
           "[46, 199]"
          ],
          [
           "FL1:16 FL2:512 DR:0.6 BS:32 LR:0.0001",
           "[46, 199]"
          ],
          [
           "FL1:16 FL2:512 DR:0.6 BS:32 LR:0.0001",
           "[46, 199]"
          ],
          [
           "FL1:16 FL2:512 DR:0.6 BS:32 LR:0.0001",
           "[46, 199]"
          ],
          [
           "FL1:16 FL2:512 DR:0.6 BS:32 LR:0.0001",
           "[46, 199]"
          ],
          [
           "FL1:16 FL2:512 DR:0.6 BS:32 LR:0.0001",
           "[46, 199]"
          ],
          [
           "FL1:16 FL2:512 DR:0.6 BS:32 LR:0.0001",
           "[46, 199]"
          ],
          [
           "FL1:16 FL2:512 DR:0.6 BS:32 LR:0.0001",
           "[46, 199]"
          ],
          [
           "FL1:16 FL2:512 DR:0.6 BS:32 LR:0.0001",
           "[46, 199]"
          ],
          [
           "FL1:16 FL2:512 DR:0.6 BS:32 LR:0.0001",
           "[46, 199]"
          ],
          [
           "FL1:16 FL2:512 DR:0.6 BS:32 LR:0.0001",
           "[46, 199]"
          ],
          [
           "FL1:16 FL2:512 DR:0.6 BS:32 LR:0.0001",
           "[46, 199]"
          ],
          [
           "FL1:16 FL2:512 DR:0.6 BS:32 LR:0.0001",
           "[46, 199]"
          ],
          [
           "FL1:16 FL2:512 DR:0.6 BS:32 LR:0.0001",
           "[46, 199]"
          ],
          [
           "FL1:16 FL2:512 DR:0.6 BS:32 LR:0.0001",
           "[46, 199]"
          ],
          [
           "FL1:16 FL2:512 DR:0.6 BS:32 LR:0.0001",
           "[46, 199]"
          ],
          [
           "FL1:16 FL2:512 DR:0.6 BS:32 LR:0.0001",
           "[46, 199]"
          ],
          [
           "FL1:16 FL2:512 DR:0.6 BS:32 LR:0.0001",
           "[46, 199]"
          ],
          [
           "FL1:16 FL2:512 DR:0.6 BS:32 LR:0.0001",
           "[46, 199]"
          ],
          [
           "FL1:16 FL2:512 DR:0.6 BS:32 LR:0.0001",
           "[46, 199]"
          ],
          [
           "FL1:16 FL2:512 DR:0.6 BS:32 LR:0.0001",
           "[46, 199]"
          ],
          [
           "FL1:16 FL2:512 DR:0.6 BS:32 LR:0.0001",
           "[46, 199]"
          ],
          [
           "FL1:16 FL2:512 DR:0.6 BS:32 LR:0.0001",
           "[46, 199]"
          ],
          [
           "FL1:16 FL2:512 DR:0.6 BS:32 LR:0.0001",
           "[46, 199]"
          ],
          [
           "FL1:16 FL2:512 DR:0.6 BS:32 LR:0.0001",
           "[46, 199]"
          ],
          [
           "FL1:16 FL2:512 DR:0.6 BS:32 LR:0.0001",
           "[46, 199]"
          ],
          [
           "FL1:16 FL2:512 DR:0.6 BS:32 LR:0.0001",
           "[46, 199]"
          ],
          [
           "FL1:16 FL2:512 DR:0.6 BS:32 LR:0.0001",
           "[46, 199]"
          ],
          [
           "FL1:16 FL2:512 DR:0.6 BS:32 LR:0.0001",
           "[46, 199]"
          ],
          [
           "FL1:16 FL2:512 DR:0.6 BS:32 LR:0.0001",
           "[46, 199]"
          ],
          [
           "FL1:16 FL2:512 DR:0.6 BS:32 LR:0.0001",
           "[46, 199]"
          ],
          [
           "FL1:16 FL2:512 DR:0.6 BS:32 LR:0.0001",
           "[46, 199]"
          ],
          [
           "FL1:16 FL2:512 DR:0.6 BS:32 LR:0.0001",
           "[46, 199]"
          ],
          [
           "FL1:16 FL2:512 DR:0.6 BS:32 LR:0.0001",
           "[46, 199]"
          ],
          [
           "FL1:16 FL2:512 DR:0.6 BS:32 LR:0.0001",
           "[46, 199]"
          ],
          [
           "FL1:16 FL2:512 DR:0.6 BS:32 LR:0.0001",
           "[46, 199]"
          ],
          [
           "FL1:16 FL2:512 DR:0.6 BS:32 LR:0.0001",
           "[46, 199]"
          ],
          [
           "FL1:16 FL2:512 DR:0.6 BS:32 LR:0.0001",
           "[46, 199]"
          ],
          [
           "FL1:16 FL2:512 DR:0.6 BS:32 LR:0.0001",
           "[46, 199]"
          ],
          [
           "FL1:16 FL2:512 DR:0.6 BS:32 LR:0.0001",
           "[46, 199]"
          ],
          [
           "FL1:16 FL2:512 DR:0.6 BS:32 LR:0.0001",
           "[46, 199]"
          ],
          [
           "FL1:16 FL2:512 DR:0.6 BS:32 LR:0.0001",
           "[46, 199]"
          ],
          [
           "FL1:16 FL2:512 DR:0.6 BS:32 LR:0.0001",
           "[46, 199]"
          ],
          [
           "FL1:16 FL2:512 DR:0.6 BS:32 LR:0.0001",
           "[46, 199]"
          ],
          [
           "FL1:16 FL2:512 DR:0.6 BS:32 LR:0.0001",
           "[46, 199]"
          ],
          [
           "FL1:16 FL2:512 DR:0.6 BS:32 LR:0.0001",
           "[46, 199]"
          ],
          [
           "FL1:16 FL2:512 DR:0.6 BS:32 LR:0.0001",
           "[46, 199]"
          ],
          [
           "FL1:16 FL2:512 DR:0.6 BS:32 LR:0.0001",
           "[46, 199]"
          ],
          [
           "FL1:16 FL2:512 DR:0.6 BS:32 LR:0.0001",
           "[46, 199]"
          ],
          [
           "FL1:16 FL2:512 DR:0.6 BS:32 LR:0.0001",
           "[46, 199]"
          ],
          [
           "FL1:16 FL2:512 DR:0.6 BS:32 LR:0.0001",
           "[46, 199]"
          ],
          [
           "FL1:16 FL2:512 DR:0.6 BS:32 LR:0.0001",
           "[46, 199]"
          ],
          [
           "FL1:16 FL2:512 DR:0.6 BS:32 LR:0.0001",
           "[46, 199]"
          ],
          [
           "FL1:16 FL2:512 DR:0.6 BS:32 LR:0.0001",
           "[46, 199]"
          ],
          [
           "FL1:16 FL2:512 DR:0.6 BS:32 LR:0.0001",
           "[46, 199]"
          ]
         ],
         "hovertemplate": "variable=val_loss<br>trial_id=802fd_00107<br>epoch=%{x}<br>value=%{y}<br>Hyperparameters=%{customdata[0]}<br>checkpoints=%{customdata[1]}<extra></extra>",
         "legendgroup": "val_loss, 802fd_00107",
         "line": {
          "color": "#636efa",
          "dash": "dashdot"
         },
         "marker": {
          "symbol": "circle"
         },
         "mode": "lines",
         "name": "val_loss, 802fd_00107",
         "showlegend": true,
         "type": "scattergl",
         "x": [
          0,
          1,
          2,
          3,
          4,
          5,
          6,
          7,
          8,
          9,
          10,
          11,
          12,
          13,
          14,
          15,
          16,
          17,
          18,
          19,
          20,
          21,
          22,
          23,
          24,
          25,
          26,
          27,
          28,
          29,
          30,
          31,
          32,
          33,
          34,
          35,
          36,
          37,
          38,
          39,
          40,
          41,
          42,
          43,
          44,
          45,
          46,
          47,
          48,
          49,
          50,
          51,
          52,
          53,
          54,
          55,
          56,
          57,
          58,
          59,
          60,
          61,
          62,
          63,
          64,
          65,
          66,
          67,
          68,
          69,
          70,
          71,
          72,
          73,
          74,
          75,
          76,
          77,
          78,
          79,
          80,
          81,
          82,
          83,
          84,
          85,
          86,
          87,
          88,
          89,
          90,
          91,
          92,
          93,
          94,
          95,
          96,
          97,
          98,
          99,
          100,
          101,
          102,
          103,
          104,
          105,
          106,
          107,
          108,
          109,
          110,
          111,
          112,
          113,
          114,
          115,
          116,
          117,
          118,
          119,
          120,
          121,
          122,
          123,
          124,
          125,
          126,
          127,
          128,
          129,
          130,
          131,
          132,
          133,
          134,
          135,
          136,
          137,
          138,
          139,
          140,
          141,
          142,
          143,
          144,
          145,
          146,
          147,
          148,
          149,
          150,
          151,
          152,
          153,
          154,
          155,
          156,
          157,
          158,
          159,
          160,
          161,
          162,
          163,
          164,
          165,
          166,
          167,
          168,
          169,
          170,
          171,
          172,
          173,
          174,
          175,
          176,
          177,
          178,
          179,
          180,
          181,
          182,
          183,
          184,
          185,
          186,
          187,
          188,
          189,
          190,
          191,
          192,
          193,
          194,
          195,
          196,
          197,
          198,
          199
         ],
         "xaxis": "x",
         "y": [
          0.6589809656143173,
          0.6256928046544369,
          0.572044157319596,
          0.5180097674881943,
          0.4726916753951387,
          0.4340692595444563,
          0.40533863410700893,
          0.3784322566810543,
          0.35786155707460526,
          0.34459427559920003,
          0.3326174852884328,
          0.325350906295015,
          0.31686333539911943,
          0.308802619396506,
          0.30548797039115244,
          0.3008146152756195,
          0.30353182659292016,
          0.3000290500173548,
          0.2974288037783284,
          0.29305068793338995,
          0.28961627445248994,
          0.2868744052888826,
          0.2848422174613917,
          0.2828170223342865,
          0.2787937332065556,
          0.27509841050516526,
          0.2736486873746638,
          0.27343753521447145,
          0.2727066413879703,
          0.2708646248658697,
          0.2728140083207151,
          0.2711971320876446,
          0.27048117373843705,
          0.2675920953648595,
          0.26518827215150326,
          0.26719997018784436,
          0.2703277216368917,
          0.2656496893044309,
          0.2639746454474652,
          0.2624015468436688,
          0.26318062067549763,
          0.2611374008690069,
          0.26455868602029087,
          0.2649673012907737,
          0.2689062713262388,
          0.26870850117186307,
          0.2667290296235316,
          0.2749417838837454,
          0.27448189042579724,
          0.27243807767875655,
          0.26703730129564845,
          0.26931366260425876,
          0.26930066900502664,
          0.2676559385793138,
          0.2708538570097233,
          0.2729376122746955,
          0.2728963504495939,
          0.2727863100013939,
          0.27199751515135484,
          0.27066731703907393,
          0.26636924513598315,
          0.26833861515535207,
          0.26760679116257824,
          0.267069148556449,
          0.2713246163633512,
          0.27600852429251116,
          0.27675647059665875,
          0.274755203191351,
          0.2718627707586753,
          0.2719140222619678,
          0.28339930514168044,
          0.28475205527193803,
          0.2818423703408729,
          0.2868770788177173,
          0.28501631684199374,
          0.2833202704263747,
          0.28517153358943004,
          0.2851281927458884,
          0.2905447394604439,
          0.29399395392702315,
          0.2932323442986686,
          0.2957089197033689,
          0.2947068480249269,
          0.29487847073846474,
          0.28674749721403464,
          0.290678330191741,
          0.2929318500417925,
          0.2904010681879816,
          0.2883236288078817,
          0.2881735085810676,
          0.28367440696328505,
          0.2822422007439503,
          0.2956143663802383,
          0.2989877890532962,
          0.30182722084957625,
          0.3028536529887925,
          0.30557139327454563,
          0.3016116129711462,
          0.30219272490045634,
          0.29969699658089943,
          0.3059336144204534,
          0.2988160384016293,
          0.3022875774116679,
          0.29190183601189684,
          0.2987841627426208,
          0.30971385779826177,
          0.31104235015212306,
          0.3132743316352281,
          0.32439988371133144,
          0.3202018805106429,
          0.31526035519175644,
          0.31068363091503787,
          0.30537470712367093,
          0.30272510339222547,
          0.304909147748696,
          0.31149985918028217,
          0.313419944899764,
          0.3117513900713691,
          0.3203832868547278,
          0.3143918258488858,
          0.3152860530575562,
          0.3205198929283643,
          0.31809944812282015,
          0.31326540909756545,
          0.3154111974937996,
          0.31914282000748767,
          0.31972967688698467,
          0.3205167492526026,
          0.33433396553312666,
          0.33160805328233245,
          0.3279719029767188,
          0.3166764063903267,
          0.31471043714341607,
          0.3189667952620782,
          0.3215407956019896,
          0.32286541186278694,
          0.3239112994571893,
          0.3163222903344603,
          0.3208016908389701,
          0.32262887598556683,
          0.3179969823458612,
          0.3136904362902912,
          0.31176523195808875,
          0.31136037460370614,
          0.31623911891648265,
          0.3127720457598168,
          0.3155254888723021,
          0.31182063739761473,
          0.31067887691169754,
          0.3063068340057111,
          0.3029861317630586,
          0.3006547104356002,
          0.3037768510339856,
          0.30018735311814077,
          0.29407287890638134,
          0.2955558283787642,
          0.300571261754411,
          0.3034877869227041,
          0.30029677965498625,
          0.30100171511872975,
          0.2921046432223867,
          0.28643061494608335,
          0.2865544774517715,
          0.29794782853029095,
          0.3081596126549893,
          0.3196601920918254,
          0.3114106789956899,
          0.31244034473964905,
          0.3185828884765122,
          0.3142578078855808,
          0.3138793854945053,
          0.31496500962529833,
          0.3210156460176185,
          0.3238624168482266,
          0.32682247844317425,
          0.31053068496769515,
          0.3051902403962993,
          0.30762547589225053,
          0.3139378748793229,
          0.323207389808947,
          0.3356562034933122,
          0.330674842109173,
          0.3492564957074907,
          0.3360230095341852,
          0.3373011593788887,
          0.33050860595504533,
          0.32906723109748615,
          0.3292839036243924,
          0.33084503517268476,
          0.33308424026249683,
          0.3351140417687013,
          0.33401627991145866,
          0.33754052820169855,
          0.34272250932033727,
          0.34308475521919296,
          0.33072072444834344,
          0.32998639463370316,
          0.32814674654924314,
          0.32409177607512024,
          0.3258165411566061
         ],
         "yaxis": "y"
        },
        {
         "customdata": [
          [
           "FL1:512 FL2:16 DR:0.5 BS:32 LR:0.0005",
           "[78, 199]"
          ],
          [
           "FL1:512 FL2:16 DR:0.5 BS:32 LR:0.0005",
           "[78, 199]"
          ],
          [
           "FL1:512 FL2:16 DR:0.5 BS:32 LR:0.0005",
           "[78, 199]"
          ],
          [
           "FL1:512 FL2:16 DR:0.5 BS:32 LR:0.0005",
           "[78, 199]"
          ],
          [
           "FL1:512 FL2:16 DR:0.5 BS:32 LR:0.0005",
           "[78, 199]"
          ],
          [
           "FL1:512 FL2:16 DR:0.5 BS:32 LR:0.0005",
           "[78, 199]"
          ],
          [
           "FL1:512 FL2:16 DR:0.5 BS:32 LR:0.0005",
           "[78, 199]"
          ],
          [
           "FL1:512 FL2:16 DR:0.5 BS:32 LR:0.0005",
           "[78, 199]"
          ],
          [
           "FL1:512 FL2:16 DR:0.5 BS:32 LR:0.0005",
           "[78, 199]"
          ],
          [
           "FL1:512 FL2:16 DR:0.5 BS:32 LR:0.0005",
           "[78, 199]"
          ],
          [
           "FL1:512 FL2:16 DR:0.5 BS:32 LR:0.0005",
           "[78, 199]"
          ],
          [
           "FL1:512 FL2:16 DR:0.5 BS:32 LR:0.0005",
           "[78, 199]"
          ],
          [
           "FL1:512 FL2:16 DR:0.5 BS:32 LR:0.0005",
           "[78, 199]"
          ],
          [
           "FL1:512 FL2:16 DR:0.5 BS:32 LR:0.0005",
           "[78, 199]"
          ],
          [
           "FL1:512 FL2:16 DR:0.5 BS:32 LR:0.0005",
           "[78, 199]"
          ],
          [
           "FL1:512 FL2:16 DR:0.5 BS:32 LR:0.0005",
           "[78, 199]"
          ],
          [
           "FL1:512 FL2:16 DR:0.5 BS:32 LR:0.0005",
           "[78, 199]"
          ],
          [
           "FL1:512 FL2:16 DR:0.5 BS:32 LR:0.0005",
           "[78, 199]"
          ],
          [
           "FL1:512 FL2:16 DR:0.5 BS:32 LR:0.0005",
           "[78, 199]"
          ],
          [
           "FL1:512 FL2:16 DR:0.5 BS:32 LR:0.0005",
           "[78, 199]"
          ],
          [
           "FL1:512 FL2:16 DR:0.5 BS:32 LR:0.0005",
           "[78, 199]"
          ],
          [
           "FL1:512 FL2:16 DR:0.5 BS:32 LR:0.0005",
           "[78, 199]"
          ],
          [
           "FL1:512 FL2:16 DR:0.5 BS:32 LR:0.0005",
           "[78, 199]"
          ],
          [
           "FL1:512 FL2:16 DR:0.5 BS:32 LR:0.0005",
           "[78, 199]"
          ],
          [
           "FL1:512 FL2:16 DR:0.5 BS:32 LR:0.0005",
           "[78, 199]"
          ],
          [
           "FL1:512 FL2:16 DR:0.5 BS:32 LR:0.0005",
           "[78, 199]"
          ],
          [
           "FL1:512 FL2:16 DR:0.5 BS:32 LR:0.0005",
           "[78, 199]"
          ],
          [
           "FL1:512 FL2:16 DR:0.5 BS:32 LR:0.0005",
           "[78, 199]"
          ],
          [
           "FL1:512 FL2:16 DR:0.5 BS:32 LR:0.0005",
           "[78, 199]"
          ],
          [
           "FL1:512 FL2:16 DR:0.5 BS:32 LR:0.0005",
           "[78, 199]"
          ],
          [
           "FL1:512 FL2:16 DR:0.5 BS:32 LR:0.0005",
           "[78, 199]"
          ],
          [
           "FL1:512 FL2:16 DR:0.5 BS:32 LR:0.0005",
           "[78, 199]"
          ],
          [
           "FL1:512 FL2:16 DR:0.5 BS:32 LR:0.0005",
           "[78, 199]"
          ],
          [
           "FL1:512 FL2:16 DR:0.5 BS:32 LR:0.0005",
           "[78, 199]"
          ],
          [
           "FL1:512 FL2:16 DR:0.5 BS:32 LR:0.0005",
           "[78, 199]"
          ],
          [
           "FL1:512 FL2:16 DR:0.5 BS:32 LR:0.0005",
           "[78, 199]"
          ],
          [
           "FL1:512 FL2:16 DR:0.5 BS:32 LR:0.0005",
           "[78, 199]"
          ],
          [
           "FL1:512 FL2:16 DR:0.5 BS:32 LR:0.0005",
           "[78, 199]"
          ],
          [
           "FL1:512 FL2:16 DR:0.5 BS:32 LR:0.0005",
           "[78, 199]"
          ],
          [
           "FL1:512 FL2:16 DR:0.5 BS:32 LR:0.0005",
           "[78, 199]"
          ],
          [
           "FL1:512 FL2:16 DR:0.5 BS:32 LR:0.0005",
           "[78, 199]"
          ],
          [
           "FL1:512 FL2:16 DR:0.5 BS:32 LR:0.0005",
           "[78, 199]"
          ],
          [
           "FL1:512 FL2:16 DR:0.5 BS:32 LR:0.0005",
           "[78, 199]"
          ],
          [
           "FL1:512 FL2:16 DR:0.5 BS:32 LR:0.0005",
           "[78, 199]"
          ],
          [
           "FL1:512 FL2:16 DR:0.5 BS:32 LR:0.0005",
           "[78, 199]"
          ],
          [
           "FL1:512 FL2:16 DR:0.5 BS:32 LR:0.0005",
           "[78, 199]"
          ],
          [
           "FL1:512 FL2:16 DR:0.5 BS:32 LR:0.0005",
           "[78, 199]"
          ],
          [
           "FL1:512 FL2:16 DR:0.5 BS:32 LR:0.0005",
           "[78, 199]"
          ],
          [
           "FL1:512 FL2:16 DR:0.5 BS:32 LR:0.0005",
           "[78, 199]"
          ],
          [
           "FL1:512 FL2:16 DR:0.5 BS:32 LR:0.0005",
           "[78, 199]"
          ],
          [
           "FL1:512 FL2:16 DR:0.5 BS:32 LR:0.0005",
           "[78, 199]"
          ],
          [
           "FL1:512 FL2:16 DR:0.5 BS:32 LR:0.0005",
           "[78, 199]"
          ],
          [
           "FL1:512 FL2:16 DR:0.5 BS:32 LR:0.0005",
           "[78, 199]"
          ],
          [
           "FL1:512 FL2:16 DR:0.5 BS:32 LR:0.0005",
           "[78, 199]"
          ],
          [
           "FL1:512 FL2:16 DR:0.5 BS:32 LR:0.0005",
           "[78, 199]"
          ],
          [
           "FL1:512 FL2:16 DR:0.5 BS:32 LR:0.0005",
           "[78, 199]"
          ],
          [
           "FL1:512 FL2:16 DR:0.5 BS:32 LR:0.0005",
           "[78, 199]"
          ],
          [
           "FL1:512 FL2:16 DR:0.5 BS:32 LR:0.0005",
           "[78, 199]"
          ],
          [
           "FL1:512 FL2:16 DR:0.5 BS:32 LR:0.0005",
           "[78, 199]"
          ],
          [
           "FL1:512 FL2:16 DR:0.5 BS:32 LR:0.0005",
           "[78, 199]"
          ],
          [
           "FL1:512 FL2:16 DR:0.5 BS:32 LR:0.0005",
           "[78, 199]"
          ],
          [
           "FL1:512 FL2:16 DR:0.5 BS:32 LR:0.0005",
           "[78, 199]"
          ],
          [
           "FL1:512 FL2:16 DR:0.5 BS:32 LR:0.0005",
           "[78, 199]"
          ],
          [
           "FL1:512 FL2:16 DR:0.5 BS:32 LR:0.0005",
           "[78, 199]"
          ],
          [
           "FL1:512 FL2:16 DR:0.5 BS:32 LR:0.0005",
           "[78, 199]"
          ],
          [
           "FL1:512 FL2:16 DR:0.5 BS:32 LR:0.0005",
           "[78, 199]"
          ],
          [
           "FL1:512 FL2:16 DR:0.5 BS:32 LR:0.0005",
           "[78, 199]"
          ],
          [
           "FL1:512 FL2:16 DR:0.5 BS:32 LR:0.0005",
           "[78, 199]"
          ],
          [
           "FL1:512 FL2:16 DR:0.5 BS:32 LR:0.0005",
           "[78, 199]"
          ],
          [
           "FL1:512 FL2:16 DR:0.5 BS:32 LR:0.0005",
           "[78, 199]"
          ],
          [
           "FL1:512 FL2:16 DR:0.5 BS:32 LR:0.0005",
           "[78, 199]"
          ],
          [
           "FL1:512 FL2:16 DR:0.5 BS:32 LR:0.0005",
           "[78, 199]"
          ],
          [
           "FL1:512 FL2:16 DR:0.5 BS:32 LR:0.0005",
           "[78, 199]"
          ],
          [
           "FL1:512 FL2:16 DR:0.5 BS:32 LR:0.0005",
           "[78, 199]"
          ],
          [
           "FL1:512 FL2:16 DR:0.5 BS:32 LR:0.0005",
           "[78, 199]"
          ],
          [
           "FL1:512 FL2:16 DR:0.5 BS:32 LR:0.0005",
           "[78, 199]"
          ],
          [
           "FL1:512 FL2:16 DR:0.5 BS:32 LR:0.0005",
           "[78, 199]"
          ],
          [
           "FL1:512 FL2:16 DR:0.5 BS:32 LR:0.0005",
           "[78, 199]"
          ],
          [
           "FL1:512 FL2:16 DR:0.5 BS:32 LR:0.0005",
           "[78, 199]"
          ],
          [
           "FL1:512 FL2:16 DR:0.5 BS:32 LR:0.0005",
           "[78, 199]"
          ],
          [
           "FL1:512 FL2:16 DR:0.5 BS:32 LR:0.0005",
           "[78, 199]"
          ],
          [
           "FL1:512 FL2:16 DR:0.5 BS:32 LR:0.0005",
           "[78, 199]"
          ],
          [
           "FL1:512 FL2:16 DR:0.5 BS:32 LR:0.0005",
           "[78, 199]"
          ],
          [
           "FL1:512 FL2:16 DR:0.5 BS:32 LR:0.0005",
           "[78, 199]"
          ],
          [
           "FL1:512 FL2:16 DR:0.5 BS:32 LR:0.0005",
           "[78, 199]"
          ],
          [
           "FL1:512 FL2:16 DR:0.5 BS:32 LR:0.0005",
           "[78, 199]"
          ],
          [
           "FL1:512 FL2:16 DR:0.5 BS:32 LR:0.0005",
           "[78, 199]"
          ],
          [
           "FL1:512 FL2:16 DR:0.5 BS:32 LR:0.0005",
           "[78, 199]"
          ],
          [
           "FL1:512 FL2:16 DR:0.5 BS:32 LR:0.0005",
           "[78, 199]"
          ],
          [
           "FL1:512 FL2:16 DR:0.5 BS:32 LR:0.0005",
           "[78, 199]"
          ],
          [
           "FL1:512 FL2:16 DR:0.5 BS:32 LR:0.0005",
           "[78, 199]"
          ],
          [
           "FL1:512 FL2:16 DR:0.5 BS:32 LR:0.0005",
           "[78, 199]"
          ],
          [
           "FL1:512 FL2:16 DR:0.5 BS:32 LR:0.0005",
           "[78, 199]"
          ],
          [
           "FL1:512 FL2:16 DR:0.5 BS:32 LR:0.0005",
           "[78, 199]"
          ],
          [
           "FL1:512 FL2:16 DR:0.5 BS:32 LR:0.0005",
           "[78, 199]"
          ],
          [
           "FL1:512 FL2:16 DR:0.5 BS:32 LR:0.0005",
           "[78, 199]"
          ],
          [
           "FL1:512 FL2:16 DR:0.5 BS:32 LR:0.0005",
           "[78, 199]"
          ],
          [
           "FL1:512 FL2:16 DR:0.5 BS:32 LR:0.0005",
           "[78, 199]"
          ],
          [
           "FL1:512 FL2:16 DR:0.5 BS:32 LR:0.0005",
           "[78, 199]"
          ],
          [
           "FL1:512 FL2:16 DR:0.5 BS:32 LR:0.0005",
           "[78, 199]"
          ],
          [
           "FL1:512 FL2:16 DR:0.5 BS:32 LR:0.0005",
           "[78, 199]"
          ],
          [
           "FL1:512 FL2:16 DR:0.5 BS:32 LR:0.0005",
           "[78, 199]"
          ],
          [
           "FL1:512 FL2:16 DR:0.5 BS:32 LR:0.0005",
           "[78, 199]"
          ],
          [
           "FL1:512 FL2:16 DR:0.5 BS:32 LR:0.0005",
           "[78, 199]"
          ],
          [
           "FL1:512 FL2:16 DR:0.5 BS:32 LR:0.0005",
           "[78, 199]"
          ],
          [
           "FL1:512 FL2:16 DR:0.5 BS:32 LR:0.0005",
           "[78, 199]"
          ],
          [
           "FL1:512 FL2:16 DR:0.5 BS:32 LR:0.0005",
           "[78, 199]"
          ],
          [
           "FL1:512 FL2:16 DR:0.5 BS:32 LR:0.0005",
           "[78, 199]"
          ],
          [
           "FL1:512 FL2:16 DR:0.5 BS:32 LR:0.0005",
           "[78, 199]"
          ],
          [
           "FL1:512 FL2:16 DR:0.5 BS:32 LR:0.0005",
           "[78, 199]"
          ],
          [
           "FL1:512 FL2:16 DR:0.5 BS:32 LR:0.0005",
           "[78, 199]"
          ],
          [
           "FL1:512 FL2:16 DR:0.5 BS:32 LR:0.0005",
           "[78, 199]"
          ],
          [
           "FL1:512 FL2:16 DR:0.5 BS:32 LR:0.0005",
           "[78, 199]"
          ],
          [
           "FL1:512 FL2:16 DR:0.5 BS:32 LR:0.0005",
           "[78, 199]"
          ],
          [
           "FL1:512 FL2:16 DR:0.5 BS:32 LR:0.0005",
           "[78, 199]"
          ],
          [
           "FL1:512 FL2:16 DR:0.5 BS:32 LR:0.0005",
           "[78, 199]"
          ],
          [
           "FL1:512 FL2:16 DR:0.5 BS:32 LR:0.0005",
           "[78, 199]"
          ],
          [
           "FL1:512 FL2:16 DR:0.5 BS:32 LR:0.0005",
           "[78, 199]"
          ],
          [
           "FL1:512 FL2:16 DR:0.5 BS:32 LR:0.0005",
           "[78, 199]"
          ],
          [
           "FL1:512 FL2:16 DR:0.5 BS:32 LR:0.0005",
           "[78, 199]"
          ],
          [
           "FL1:512 FL2:16 DR:0.5 BS:32 LR:0.0005",
           "[78, 199]"
          ],
          [
           "FL1:512 FL2:16 DR:0.5 BS:32 LR:0.0005",
           "[78, 199]"
          ],
          [
           "FL1:512 FL2:16 DR:0.5 BS:32 LR:0.0005",
           "[78, 199]"
          ],
          [
           "FL1:512 FL2:16 DR:0.5 BS:32 LR:0.0005",
           "[78, 199]"
          ],
          [
           "FL1:512 FL2:16 DR:0.5 BS:32 LR:0.0005",
           "[78, 199]"
          ],
          [
           "FL1:512 FL2:16 DR:0.5 BS:32 LR:0.0005",
           "[78, 199]"
          ],
          [
           "FL1:512 FL2:16 DR:0.5 BS:32 LR:0.0005",
           "[78, 199]"
          ],
          [
           "FL1:512 FL2:16 DR:0.5 BS:32 LR:0.0005",
           "[78, 199]"
          ],
          [
           "FL1:512 FL2:16 DR:0.5 BS:32 LR:0.0005",
           "[78, 199]"
          ],
          [
           "FL1:512 FL2:16 DR:0.5 BS:32 LR:0.0005",
           "[78, 199]"
          ],
          [
           "FL1:512 FL2:16 DR:0.5 BS:32 LR:0.0005",
           "[78, 199]"
          ],
          [
           "FL1:512 FL2:16 DR:0.5 BS:32 LR:0.0005",
           "[78, 199]"
          ],
          [
           "FL1:512 FL2:16 DR:0.5 BS:32 LR:0.0005",
           "[78, 199]"
          ],
          [
           "FL1:512 FL2:16 DR:0.5 BS:32 LR:0.0005",
           "[78, 199]"
          ],
          [
           "FL1:512 FL2:16 DR:0.5 BS:32 LR:0.0005",
           "[78, 199]"
          ],
          [
           "FL1:512 FL2:16 DR:0.5 BS:32 LR:0.0005",
           "[78, 199]"
          ],
          [
           "FL1:512 FL2:16 DR:0.5 BS:32 LR:0.0005",
           "[78, 199]"
          ],
          [
           "FL1:512 FL2:16 DR:0.5 BS:32 LR:0.0005",
           "[78, 199]"
          ],
          [
           "FL1:512 FL2:16 DR:0.5 BS:32 LR:0.0005",
           "[78, 199]"
          ],
          [
           "FL1:512 FL2:16 DR:0.5 BS:32 LR:0.0005",
           "[78, 199]"
          ],
          [
           "FL1:512 FL2:16 DR:0.5 BS:32 LR:0.0005",
           "[78, 199]"
          ],
          [
           "FL1:512 FL2:16 DR:0.5 BS:32 LR:0.0005",
           "[78, 199]"
          ],
          [
           "FL1:512 FL2:16 DR:0.5 BS:32 LR:0.0005",
           "[78, 199]"
          ],
          [
           "FL1:512 FL2:16 DR:0.5 BS:32 LR:0.0005",
           "[78, 199]"
          ],
          [
           "FL1:512 FL2:16 DR:0.5 BS:32 LR:0.0005",
           "[78, 199]"
          ],
          [
           "FL1:512 FL2:16 DR:0.5 BS:32 LR:0.0005",
           "[78, 199]"
          ],
          [
           "FL1:512 FL2:16 DR:0.5 BS:32 LR:0.0005",
           "[78, 199]"
          ],
          [
           "FL1:512 FL2:16 DR:0.5 BS:32 LR:0.0005",
           "[78, 199]"
          ],
          [
           "FL1:512 FL2:16 DR:0.5 BS:32 LR:0.0005",
           "[78, 199]"
          ],
          [
           "FL1:512 FL2:16 DR:0.5 BS:32 LR:0.0005",
           "[78, 199]"
          ],
          [
           "FL1:512 FL2:16 DR:0.5 BS:32 LR:0.0005",
           "[78, 199]"
          ],
          [
           "FL1:512 FL2:16 DR:0.5 BS:32 LR:0.0005",
           "[78, 199]"
          ],
          [
           "FL1:512 FL2:16 DR:0.5 BS:32 LR:0.0005",
           "[78, 199]"
          ],
          [
           "FL1:512 FL2:16 DR:0.5 BS:32 LR:0.0005",
           "[78, 199]"
          ],
          [
           "FL1:512 FL2:16 DR:0.5 BS:32 LR:0.0005",
           "[78, 199]"
          ],
          [
           "FL1:512 FL2:16 DR:0.5 BS:32 LR:0.0005",
           "[78, 199]"
          ],
          [
           "FL1:512 FL2:16 DR:0.5 BS:32 LR:0.0005",
           "[78, 199]"
          ],
          [
           "FL1:512 FL2:16 DR:0.5 BS:32 LR:0.0005",
           "[78, 199]"
          ],
          [
           "FL1:512 FL2:16 DR:0.5 BS:32 LR:0.0005",
           "[78, 199]"
          ],
          [
           "FL1:512 FL2:16 DR:0.5 BS:32 LR:0.0005",
           "[78, 199]"
          ],
          [
           "FL1:512 FL2:16 DR:0.5 BS:32 LR:0.0005",
           "[78, 199]"
          ],
          [
           "FL1:512 FL2:16 DR:0.5 BS:32 LR:0.0005",
           "[78, 199]"
          ],
          [
           "FL1:512 FL2:16 DR:0.5 BS:32 LR:0.0005",
           "[78, 199]"
          ],
          [
           "FL1:512 FL2:16 DR:0.5 BS:32 LR:0.0005",
           "[78, 199]"
          ],
          [
           "FL1:512 FL2:16 DR:0.5 BS:32 LR:0.0005",
           "[78, 199]"
          ],
          [
           "FL1:512 FL2:16 DR:0.5 BS:32 LR:0.0005",
           "[78, 199]"
          ],
          [
           "FL1:512 FL2:16 DR:0.5 BS:32 LR:0.0005",
           "[78, 199]"
          ],
          [
           "FL1:512 FL2:16 DR:0.5 BS:32 LR:0.0005",
           "[78, 199]"
          ],
          [
           "FL1:512 FL2:16 DR:0.5 BS:32 LR:0.0005",
           "[78, 199]"
          ],
          [
           "FL1:512 FL2:16 DR:0.5 BS:32 LR:0.0005",
           "[78, 199]"
          ],
          [
           "FL1:512 FL2:16 DR:0.5 BS:32 LR:0.0005",
           "[78, 199]"
          ],
          [
           "FL1:512 FL2:16 DR:0.5 BS:32 LR:0.0005",
           "[78, 199]"
          ],
          [
           "FL1:512 FL2:16 DR:0.5 BS:32 LR:0.0005",
           "[78, 199]"
          ],
          [
           "FL1:512 FL2:16 DR:0.5 BS:32 LR:0.0005",
           "[78, 199]"
          ],
          [
           "FL1:512 FL2:16 DR:0.5 BS:32 LR:0.0005",
           "[78, 199]"
          ],
          [
           "FL1:512 FL2:16 DR:0.5 BS:32 LR:0.0005",
           "[78, 199]"
          ],
          [
           "FL1:512 FL2:16 DR:0.5 BS:32 LR:0.0005",
           "[78, 199]"
          ],
          [
           "FL1:512 FL2:16 DR:0.5 BS:32 LR:0.0005",
           "[78, 199]"
          ],
          [
           "FL1:512 FL2:16 DR:0.5 BS:32 LR:0.0005",
           "[78, 199]"
          ],
          [
           "FL1:512 FL2:16 DR:0.5 BS:32 LR:0.0005",
           "[78, 199]"
          ],
          [
           "FL1:512 FL2:16 DR:0.5 BS:32 LR:0.0005",
           "[78, 199]"
          ],
          [
           "FL1:512 FL2:16 DR:0.5 BS:32 LR:0.0005",
           "[78, 199]"
          ],
          [
           "FL1:512 FL2:16 DR:0.5 BS:32 LR:0.0005",
           "[78, 199]"
          ],
          [
           "FL1:512 FL2:16 DR:0.5 BS:32 LR:0.0005",
           "[78, 199]"
          ],
          [
           "FL1:512 FL2:16 DR:0.5 BS:32 LR:0.0005",
           "[78, 199]"
          ],
          [
           "FL1:512 FL2:16 DR:0.5 BS:32 LR:0.0005",
           "[78, 199]"
          ],
          [
           "FL1:512 FL2:16 DR:0.5 BS:32 LR:0.0005",
           "[78, 199]"
          ],
          [
           "FL1:512 FL2:16 DR:0.5 BS:32 LR:0.0005",
           "[78, 199]"
          ],
          [
           "FL1:512 FL2:16 DR:0.5 BS:32 LR:0.0005",
           "[78, 199]"
          ],
          [
           "FL1:512 FL2:16 DR:0.5 BS:32 LR:0.0005",
           "[78, 199]"
          ],
          [
           "FL1:512 FL2:16 DR:0.5 BS:32 LR:0.0005",
           "[78, 199]"
          ],
          [
           "FL1:512 FL2:16 DR:0.5 BS:32 LR:0.0005",
           "[78, 199]"
          ],
          [
           "FL1:512 FL2:16 DR:0.5 BS:32 LR:0.0005",
           "[78, 199]"
          ],
          [
           "FL1:512 FL2:16 DR:0.5 BS:32 LR:0.0005",
           "[78, 199]"
          ],
          [
           "FL1:512 FL2:16 DR:0.5 BS:32 LR:0.0005",
           "[78, 199]"
          ],
          [
           "FL1:512 FL2:16 DR:0.5 BS:32 LR:0.0005",
           "[78, 199]"
          ],
          [
           "FL1:512 FL2:16 DR:0.5 BS:32 LR:0.0005",
           "[78, 199]"
          ],
          [
           "FL1:512 FL2:16 DR:0.5 BS:32 LR:0.0005",
           "[78, 199]"
          ],
          [
           "FL1:512 FL2:16 DR:0.5 BS:32 LR:0.0005",
           "[78, 199]"
          ],
          [
           "FL1:512 FL2:16 DR:0.5 BS:32 LR:0.0005",
           "[78, 199]"
          ]
         ],
         "hovertemplate": "variable=val_loss<br>trial_id=802fd_00003<br>epoch=%{x}<br>value=%{y}<br>Hyperparameters=%{customdata[0]}<br>checkpoints=%{customdata[1]}<extra></extra>",
         "legendgroup": "val_loss, 802fd_00003",
         "line": {
          "color": "#636efa",
          "dash": "longdashdot"
         },
         "marker": {
          "symbol": "circle"
         },
         "mode": "lines",
         "name": "val_loss, 802fd_00003",
         "showlegend": true,
         "type": "scattergl",
         "x": [
          0,
          1,
          2,
          3,
          4,
          5,
          6,
          7,
          8,
          9,
          10,
          11,
          12,
          13,
          14,
          15,
          16,
          17,
          18,
          19,
          20,
          21,
          22,
          23,
          24,
          25,
          26,
          27,
          28,
          29,
          30,
          31,
          32,
          33,
          34,
          35,
          36,
          37,
          38,
          39,
          40,
          41,
          42,
          43,
          44,
          45,
          46,
          47,
          48,
          49,
          50,
          51,
          52,
          53,
          54,
          55,
          56,
          57,
          58,
          59,
          60,
          61,
          62,
          63,
          64,
          65,
          66,
          67,
          68,
          69,
          70,
          71,
          72,
          73,
          74,
          75,
          76,
          77,
          78,
          79,
          80,
          81,
          82,
          83,
          84,
          85,
          86,
          87,
          88,
          89,
          90,
          91,
          92,
          93,
          94,
          95,
          96,
          97,
          98,
          99,
          100,
          101,
          102,
          103,
          104,
          105,
          106,
          107,
          108,
          109,
          110,
          111,
          112,
          113,
          114,
          115,
          116,
          117,
          118,
          119,
          120,
          121,
          122,
          123,
          124,
          125,
          126,
          127,
          128,
          129,
          130,
          131,
          132,
          133,
          134,
          135,
          136,
          137,
          138,
          139,
          140,
          141,
          142,
          143,
          144,
          145,
          146,
          147,
          148,
          149,
          150,
          151,
          152,
          153,
          154,
          155,
          156,
          157,
          158,
          159,
          160,
          161,
          162,
          163,
          164,
          165,
          166,
          167,
          168,
          169,
          170,
          171,
          172,
          173,
          174,
          175,
          176,
          177,
          178,
          179,
          180,
          181,
          182,
          183,
          184,
          185,
          186,
          187,
          188,
          189,
          190,
          191,
          192,
          193,
          194,
          195,
          196,
          197,
          198,
          199
         ],
         "xaxis": "x",
         "y": [
          0.5915685296058641,
          0.5064651171366357,
          0.4479455318715818,
          0.4094362634199616,
          0.3795539788257908,
          0.3561121359038234,
          0.34291864332675065,
          0.3308606107838884,
          0.34130982291750916,
          0.33188279954627287,
          0.32479501424918583,
          0.328893189024196,
          0.34094225657732263,
          0.3238017810235479,
          0.3218900728788672,
          0.32080449783581405,
          0.3308778744523908,
          0.3379119562827993,
          0.3341263484771673,
          0.35764982977281745,
          0.34560142741448757,
          0.35051464230383067,
          0.35835023184991216,
          0.37510431780004627,
          0.35472162215964,
          0.3734117060837206,
          0.3676449398158023,
          0.352059267624088,
          0.345334614425147,
          0.36670336796789893,
          0.36856825599371995,
          0.36856379078030227,
          0.39577457617520945,
          0.4164202035188641,
          0.398518719323473,
          0.4132107748243513,
          0.3962897528312795,
          0.42105701692251196,
          0.4215990611404027,
          0.4590894784192128,
          0.45484481623834155,
          0.4709950378938887,
          0.4459887637962474,
          0.4545161654068071,
          0.45841971566365963,
          0.48814181837828036,
          0.47023756208281337,
          0.4790765404850936,
          0.4906543533107095,
          0.4815766937269393,
          0.49058473949522474,
          0.5160408672020865,
          0.5200493969073571,
          0.5140445455942325,
          0.5037388056539003,
          0.5324180424228299,
          0.5556868910799402,
          0.6033970117575561,
          0.5810131033265998,
          0.564005864991373,
          0.548357753842158,
          0.5960038495653738,
          0.6074827043608723,
          0.5879825372428285,
          0.562722366315164,
          0.584494538613184,
          0.5753944764587758,
          0.549262768695981,
          0.5252676849035616,
          0.5236250522711658,
          0.543658618329549,
          0.5397888251136292,
          0.5289456134366016,
          0.512583725010488,
          0.5434393832121501,
          0.5808063115698885,
          0.5810006834416105,
          0.6412488803167135,
          0.6196116000346985,
          0.5927967488721098,
          0.5743242343237046,
          0.5686839514288653,
          0.62043935016217,
          0.5813984271911912,
          0.5578918256380899,
          0.6015982692783884,
          0.58515489534178,
          0.5652424721958798,
          0.5970875242711794,
          0.6126175866763903,
          0.5872596930292643,
          0.6104796416777619,
          0.6262786512386948,
          0.632163294475087,
          0.661384647634828,
          0.716298782525593,
          0.6966127512839978,
          0.6418559589642634,
          0.6553077127309855,
          0.647035024283475,
          0.6844612305152044,
          0.6882026953688992,
          0.7196233976676533,
          0.6998361619839698,
          0.7610794684972763,
          0.7327476793982172,
          0.7726321256463762,
          0.7599273745420912,
          0.8157084666492747,
          0.7632928545476452,
          0.7727125124932281,
          0.7444676052729903,
          0.7149686741299492,
          0.6786362878128583,
          0.6964321965406118,
          0.7010680393662554,
          0.7615535031614351,
          0.7281505313752508,
          0.7844445405561649,
          0.7780469853453434,
          0.6997206938778413,
          0.6779297081970527,
          0.664980318039214,
          0.6971406114694495,
          0.7193584688899909,
          0.6884249414601573,
          0.6776711321935804,
          0.6487583304157343,
          0.7192468301925696,
          0.6611879439137789,
          0.6917618295207543,
          0.7233487023681332,
          0.6919908095578291,
          0.6870841098613152,
          0.7139252035344033,
          0.7521769145147242,
          0.7633688674381184,
          0.7746260911895685,
          0.7369524936327556,
          0.7207683590020865,
          0.7184437888838255,
          0.738742058672996,
          0.7983797028319628,
          0.8167205740780671,
          0.7645837856511949,
          0.7677233545767367,
          0.7623094736726466,
          0.7280755320649253,
          0.7229030913419777,
          0.7383169853890753,
          0.8458861327306945,
          0.870670988568762,
          0.9100906348288692,
          0.883774406119228,
          0.8766204757187349,
          0.9101872869791949,
          0.853941965663588,
          0.8292057239771903,
          0.8959114765962615,
          0.9174843176100401,
          0.8902979720892983,
          0.9343886129897463,
          0.960244678976906,
          0.9507775462486806,
          0.9446116591041902,
          0.9286060866081441,
          0.9581227260406607,
          0.9146302711682692,
          0.9092959610433805,
          0.9390897252699663,
          1.0026000008676375,
          0.9798756947579579,
          1.0187747949005868,
          1.0073485092084717,
          0.9667086413013326,
          0.9176692042421871,
          0.884784259641935,
          0.9273686662281659,
          0.9306922723826484,
          1.008281520338633,
          1.0687073809118894,
          1.0719479946435684,
          1.0672424255570543,
          1.0243944604370818,
          0.9764877014142801,
          1.0187958116519775,
          1.01077538299483,
          0.9448053410842794,
          0.9002177431315017,
          0.9442612935523056,
          1.004339563145891,
          1.0037237718997076,
          1.01766238711262,
          1.0394764218196861,
          1.0052333853950473,
          1.0220585122578896,
          1.082653976471789,
          1.055115525584462,
          1.0312193662994698,
          0.9960915069496342
         ],
         "yaxis": "y"
        },
        {
         "customdata": [
          [
           "FL1:512 FL2:16 DR:0.8 BS:32 LR:0.0005",
           "[160, 199]"
          ],
          [
           "FL1:512 FL2:16 DR:0.8 BS:32 LR:0.0005",
           "[160, 199]"
          ],
          [
           "FL1:512 FL2:16 DR:0.8 BS:32 LR:0.0005",
           "[160, 199]"
          ],
          [
           "FL1:512 FL2:16 DR:0.8 BS:32 LR:0.0005",
           "[160, 199]"
          ],
          [
           "FL1:512 FL2:16 DR:0.8 BS:32 LR:0.0005",
           "[160, 199]"
          ],
          [
           "FL1:512 FL2:16 DR:0.8 BS:32 LR:0.0005",
           "[160, 199]"
          ],
          [
           "FL1:512 FL2:16 DR:0.8 BS:32 LR:0.0005",
           "[160, 199]"
          ],
          [
           "FL1:512 FL2:16 DR:0.8 BS:32 LR:0.0005",
           "[160, 199]"
          ],
          [
           "FL1:512 FL2:16 DR:0.8 BS:32 LR:0.0005",
           "[160, 199]"
          ],
          [
           "FL1:512 FL2:16 DR:0.8 BS:32 LR:0.0005",
           "[160, 199]"
          ],
          [
           "FL1:512 FL2:16 DR:0.8 BS:32 LR:0.0005",
           "[160, 199]"
          ],
          [
           "FL1:512 FL2:16 DR:0.8 BS:32 LR:0.0005",
           "[160, 199]"
          ],
          [
           "FL1:512 FL2:16 DR:0.8 BS:32 LR:0.0005",
           "[160, 199]"
          ],
          [
           "FL1:512 FL2:16 DR:0.8 BS:32 LR:0.0005",
           "[160, 199]"
          ],
          [
           "FL1:512 FL2:16 DR:0.8 BS:32 LR:0.0005",
           "[160, 199]"
          ],
          [
           "FL1:512 FL2:16 DR:0.8 BS:32 LR:0.0005",
           "[160, 199]"
          ],
          [
           "FL1:512 FL2:16 DR:0.8 BS:32 LR:0.0005",
           "[160, 199]"
          ],
          [
           "FL1:512 FL2:16 DR:0.8 BS:32 LR:0.0005",
           "[160, 199]"
          ],
          [
           "FL1:512 FL2:16 DR:0.8 BS:32 LR:0.0005",
           "[160, 199]"
          ],
          [
           "FL1:512 FL2:16 DR:0.8 BS:32 LR:0.0005",
           "[160, 199]"
          ],
          [
           "FL1:512 FL2:16 DR:0.8 BS:32 LR:0.0005",
           "[160, 199]"
          ],
          [
           "FL1:512 FL2:16 DR:0.8 BS:32 LR:0.0005",
           "[160, 199]"
          ],
          [
           "FL1:512 FL2:16 DR:0.8 BS:32 LR:0.0005",
           "[160, 199]"
          ],
          [
           "FL1:512 FL2:16 DR:0.8 BS:32 LR:0.0005",
           "[160, 199]"
          ],
          [
           "FL1:512 FL2:16 DR:0.8 BS:32 LR:0.0005",
           "[160, 199]"
          ],
          [
           "FL1:512 FL2:16 DR:0.8 BS:32 LR:0.0005",
           "[160, 199]"
          ],
          [
           "FL1:512 FL2:16 DR:0.8 BS:32 LR:0.0005",
           "[160, 199]"
          ],
          [
           "FL1:512 FL2:16 DR:0.8 BS:32 LR:0.0005",
           "[160, 199]"
          ],
          [
           "FL1:512 FL2:16 DR:0.8 BS:32 LR:0.0005",
           "[160, 199]"
          ],
          [
           "FL1:512 FL2:16 DR:0.8 BS:32 LR:0.0005",
           "[160, 199]"
          ],
          [
           "FL1:512 FL2:16 DR:0.8 BS:32 LR:0.0005",
           "[160, 199]"
          ],
          [
           "FL1:512 FL2:16 DR:0.8 BS:32 LR:0.0005",
           "[160, 199]"
          ],
          [
           "FL1:512 FL2:16 DR:0.8 BS:32 LR:0.0005",
           "[160, 199]"
          ],
          [
           "FL1:512 FL2:16 DR:0.8 BS:32 LR:0.0005",
           "[160, 199]"
          ],
          [
           "FL1:512 FL2:16 DR:0.8 BS:32 LR:0.0005",
           "[160, 199]"
          ],
          [
           "FL1:512 FL2:16 DR:0.8 BS:32 LR:0.0005",
           "[160, 199]"
          ],
          [
           "FL1:512 FL2:16 DR:0.8 BS:32 LR:0.0005",
           "[160, 199]"
          ],
          [
           "FL1:512 FL2:16 DR:0.8 BS:32 LR:0.0005",
           "[160, 199]"
          ],
          [
           "FL1:512 FL2:16 DR:0.8 BS:32 LR:0.0005",
           "[160, 199]"
          ],
          [
           "FL1:512 FL2:16 DR:0.8 BS:32 LR:0.0005",
           "[160, 199]"
          ],
          [
           "FL1:512 FL2:16 DR:0.8 BS:32 LR:0.0005",
           "[160, 199]"
          ],
          [
           "FL1:512 FL2:16 DR:0.8 BS:32 LR:0.0005",
           "[160, 199]"
          ],
          [
           "FL1:512 FL2:16 DR:0.8 BS:32 LR:0.0005",
           "[160, 199]"
          ],
          [
           "FL1:512 FL2:16 DR:0.8 BS:32 LR:0.0005",
           "[160, 199]"
          ],
          [
           "FL1:512 FL2:16 DR:0.8 BS:32 LR:0.0005",
           "[160, 199]"
          ],
          [
           "FL1:512 FL2:16 DR:0.8 BS:32 LR:0.0005",
           "[160, 199]"
          ],
          [
           "FL1:512 FL2:16 DR:0.8 BS:32 LR:0.0005",
           "[160, 199]"
          ],
          [
           "FL1:512 FL2:16 DR:0.8 BS:32 LR:0.0005",
           "[160, 199]"
          ],
          [
           "FL1:512 FL2:16 DR:0.8 BS:32 LR:0.0005",
           "[160, 199]"
          ],
          [
           "FL1:512 FL2:16 DR:0.8 BS:32 LR:0.0005",
           "[160, 199]"
          ],
          [
           "FL1:512 FL2:16 DR:0.8 BS:32 LR:0.0005",
           "[160, 199]"
          ],
          [
           "FL1:512 FL2:16 DR:0.8 BS:32 LR:0.0005",
           "[160, 199]"
          ],
          [
           "FL1:512 FL2:16 DR:0.8 BS:32 LR:0.0005",
           "[160, 199]"
          ],
          [
           "FL1:512 FL2:16 DR:0.8 BS:32 LR:0.0005",
           "[160, 199]"
          ],
          [
           "FL1:512 FL2:16 DR:0.8 BS:32 LR:0.0005",
           "[160, 199]"
          ],
          [
           "FL1:512 FL2:16 DR:0.8 BS:32 LR:0.0005",
           "[160, 199]"
          ],
          [
           "FL1:512 FL2:16 DR:0.8 BS:32 LR:0.0005",
           "[160, 199]"
          ],
          [
           "FL1:512 FL2:16 DR:0.8 BS:32 LR:0.0005",
           "[160, 199]"
          ],
          [
           "FL1:512 FL2:16 DR:0.8 BS:32 LR:0.0005",
           "[160, 199]"
          ],
          [
           "FL1:512 FL2:16 DR:0.8 BS:32 LR:0.0005",
           "[160, 199]"
          ],
          [
           "FL1:512 FL2:16 DR:0.8 BS:32 LR:0.0005",
           "[160, 199]"
          ],
          [
           "FL1:512 FL2:16 DR:0.8 BS:32 LR:0.0005",
           "[160, 199]"
          ],
          [
           "FL1:512 FL2:16 DR:0.8 BS:32 LR:0.0005",
           "[160, 199]"
          ],
          [
           "FL1:512 FL2:16 DR:0.8 BS:32 LR:0.0005",
           "[160, 199]"
          ],
          [
           "FL1:512 FL2:16 DR:0.8 BS:32 LR:0.0005",
           "[160, 199]"
          ],
          [
           "FL1:512 FL2:16 DR:0.8 BS:32 LR:0.0005",
           "[160, 199]"
          ],
          [
           "FL1:512 FL2:16 DR:0.8 BS:32 LR:0.0005",
           "[160, 199]"
          ],
          [
           "FL1:512 FL2:16 DR:0.8 BS:32 LR:0.0005",
           "[160, 199]"
          ],
          [
           "FL1:512 FL2:16 DR:0.8 BS:32 LR:0.0005",
           "[160, 199]"
          ],
          [
           "FL1:512 FL2:16 DR:0.8 BS:32 LR:0.0005",
           "[160, 199]"
          ],
          [
           "FL1:512 FL2:16 DR:0.8 BS:32 LR:0.0005",
           "[160, 199]"
          ],
          [
           "FL1:512 FL2:16 DR:0.8 BS:32 LR:0.0005",
           "[160, 199]"
          ],
          [
           "FL1:512 FL2:16 DR:0.8 BS:32 LR:0.0005",
           "[160, 199]"
          ],
          [
           "FL1:512 FL2:16 DR:0.8 BS:32 LR:0.0005",
           "[160, 199]"
          ],
          [
           "FL1:512 FL2:16 DR:0.8 BS:32 LR:0.0005",
           "[160, 199]"
          ],
          [
           "FL1:512 FL2:16 DR:0.8 BS:32 LR:0.0005",
           "[160, 199]"
          ],
          [
           "FL1:512 FL2:16 DR:0.8 BS:32 LR:0.0005",
           "[160, 199]"
          ],
          [
           "FL1:512 FL2:16 DR:0.8 BS:32 LR:0.0005",
           "[160, 199]"
          ],
          [
           "FL1:512 FL2:16 DR:0.8 BS:32 LR:0.0005",
           "[160, 199]"
          ],
          [
           "FL1:512 FL2:16 DR:0.8 BS:32 LR:0.0005",
           "[160, 199]"
          ],
          [
           "FL1:512 FL2:16 DR:0.8 BS:32 LR:0.0005",
           "[160, 199]"
          ],
          [
           "FL1:512 FL2:16 DR:0.8 BS:32 LR:0.0005",
           "[160, 199]"
          ],
          [
           "FL1:512 FL2:16 DR:0.8 BS:32 LR:0.0005",
           "[160, 199]"
          ],
          [
           "FL1:512 FL2:16 DR:0.8 BS:32 LR:0.0005",
           "[160, 199]"
          ],
          [
           "FL1:512 FL2:16 DR:0.8 BS:32 LR:0.0005",
           "[160, 199]"
          ],
          [
           "FL1:512 FL2:16 DR:0.8 BS:32 LR:0.0005",
           "[160, 199]"
          ],
          [
           "FL1:512 FL2:16 DR:0.8 BS:32 LR:0.0005",
           "[160, 199]"
          ],
          [
           "FL1:512 FL2:16 DR:0.8 BS:32 LR:0.0005",
           "[160, 199]"
          ],
          [
           "FL1:512 FL2:16 DR:0.8 BS:32 LR:0.0005",
           "[160, 199]"
          ],
          [
           "FL1:512 FL2:16 DR:0.8 BS:32 LR:0.0005",
           "[160, 199]"
          ],
          [
           "FL1:512 FL2:16 DR:0.8 BS:32 LR:0.0005",
           "[160, 199]"
          ],
          [
           "FL1:512 FL2:16 DR:0.8 BS:32 LR:0.0005",
           "[160, 199]"
          ],
          [
           "FL1:512 FL2:16 DR:0.8 BS:32 LR:0.0005",
           "[160, 199]"
          ],
          [
           "FL1:512 FL2:16 DR:0.8 BS:32 LR:0.0005",
           "[160, 199]"
          ],
          [
           "FL1:512 FL2:16 DR:0.8 BS:32 LR:0.0005",
           "[160, 199]"
          ],
          [
           "FL1:512 FL2:16 DR:0.8 BS:32 LR:0.0005",
           "[160, 199]"
          ],
          [
           "FL1:512 FL2:16 DR:0.8 BS:32 LR:0.0005",
           "[160, 199]"
          ],
          [
           "FL1:512 FL2:16 DR:0.8 BS:32 LR:0.0005",
           "[160, 199]"
          ],
          [
           "FL1:512 FL2:16 DR:0.8 BS:32 LR:0.0005",
           "[160, 199]"
          ],
          [
           "FL1:512 FL2:16 DR:0.8 BS:32 LR:0.0005",
           "[160, 199]"
          ],
          [
           "FL1:512 FL2:16 DR:0.8 BS:32 LR:0.0005",
           "[160, 199]"
          ],
          [
           "FL1:512 FL2:16 DR:0.8 BS:32 LR:0.0005",
           "[160, 199]"
          ],
          [
           "FL1:512 FL2:16 DR:0.8 BS:32 LR:0.0005",
           "[160, 199]"
          ],
          [
           "FL1:512 FL2:16 DR:0.8 BS:32 LR:0.0005",
           "[160, 199]"
          ],
          [
           "FL1:512 FL2:16 DR:0.8 BS:32 LR:0.0005",
           "[160, 199]"
          ],
          [
           "FL1:512 FL2:16 DR:0.8 BS:32 LR:0.0005",
           "[160, 199]"
          ],
          [
           "FL1:512 FL2:16 DR:0.8 BS:32 LR:0.0005",
           "[160, 199]"
          ],
          [
           "FL1:512 FL2:16 DR:0.8 BS:32 LR:0.0005",
           "[160, 199]"
          ],
          [
           "FL1:512 FL2:16 DR:0.8 BS:32 LR:0.0005",
           "[160, 199]"
          ],
          [
           "FL1:512 FL2:16 DR:0.8 BS:32 LR:0.0005",
           "[160, 199]"
          ],
          [
           "FL1:512 FL2:16 DR:0.8 BS:32 LR:0.0005",
           "[160, 199]"
          ],
          [
           "FL1:512 FL2:16 DR:0.8 BS:32 LR:0.0005",
           "[160, 199]"
          ],
          [
           "FL1:512 FL2:16 DR:0.8 BS:32 LR:0.0005",
           "[160, 199]"
          ],
          [
           "FL1:512 FL2:16 DR:0.8 BS:32 LR:0.0005",
           "[160, 199]"
          ],
          [
           "FL1:512 FL2:16 DR:0.8 BS:32 LR:0.0005",
           "[160, 199]"
          ],
          [
           "FL1:512 FL2:16 DR:0.8 BS:32 LR:0.0005",
           "[160, 199]"
          ],
          [
           "FL1:512 FL2:16 DR:0.8 BS:32 LR:0.0005",
           "[160, 199]"
          ],
          [
           "FL1:512 FL2:16 DR:0.8 BS:32 LR:0.0005",
           "[160, 199]"
          ],
          [
           "FL1:512 FL2:16 DR:0.8 BS:32 LR:0.0005",
           "[160, 199]"
          ],
          [
           "FL1:512 FL2:16 DR:0.8 BS:32 LR:0.0005",
           "[160, 199]"
          ],
          [
           "FL1:512 FL2:16 DR:0.8 BS:32 LR:0.0005",
           "[160, 199]"
          ],
          [
           "FL1:512 FL2:16 DR:0.8 BS:32 LR:0.0005",
           "[160, 199]"
          ],
          [
           "FL1:512 FL2:16 DR:0.8 BS:32 LR:0.0005",
           "[160, 199]"
          ],
          [
           "FL1:512 FL2:16 DR:0.8 BS:32 LR:0.0005",
           "[160, 199]"
          ],
          [
           "FL1:512 FL2:16 DR:0.8 BS:32 LR:0.0005",
           "[160, 199]"
          ],
          [
           "FL1:512 FL2:16 DR:0.8 BS:32 LR:0.0005",
           "[160, 199]"
          ],
          [
           "FL1:512 FL2:16 DR:0.8 BS:32 LR:0.0005",
           "[160, 199]"
          ],
          [
           "FL1:512 FL2:16 DR:0.8 BS:32 LR:0.0005",
           "[160, 199]"
          ],
          [
           "FL1:512 FL2:16 DR:0.8 BS:32 LR:0.0005",
           "[160, 199]"
          ],
          [
           "FL1:512 FL2:16 DR:0.8 BS:32 LR:0.0005",
           "[160, 199]"
          ],
          [
           "FL1:512 FL2:16 DR:0.8 BS:32 LR:0.0005",
           "[160, 199]"
          ],
          [
           "FL1:512 FL2:16 DR:0.8 BS:32 LR:0.0005",
           "[160, 199]"
          ],
          [
           "FL1:512 FL2:16 DR:0.8 BS:32 LR:0.0005",
           "[160, 199]"
          ],
          [
           "FL1:512 FL2:16 DR:0.8 BS:32 LR:0.0005",
           "[160, 199]"
          ],
          [
           "FL1:512 FL2:16 DR:0.8 BS:32 LR:0.0005",
           "[160, 199]"
          ],
          [
           "FL1:512 FL2:16 DR:0.8 BS:32 LR:0.0005",
           "[160, 199]"
          ],
          [
           "FL1:512 FL2:16 DR:0.8 BS:32 LR:0.0005",
           "[160, 199]"
          ],
          [
           "FL1:512 FL2:16 DR:0.8 BS:32 LR:0.0005",
           "[160, 199]"
          ],
          [
           "FL1:512 FL2:16 DR:0.8 BS:32 LR:0.0005",
           "[160, 199]"
          ],
          [
           "FL1:512 FL2:16 DR:0.8 BS:32 LR:0.0005",
           "[160, 199]"
          ],
          [
           "FL1:512 FL2:16 DR:0.8 BS:32 LR:0.0005",
           "[160, 199]"
          ],
          [
           "FL1:512 FL2:16 DR:0.8 BS:32 LR:0.0005",
           "[160, 199]"
          ],
          [
           "FL1:512 FL2:16 DR:0.8 BS:32 LR:0.0005",
           "[160, 199]"
          ],
          [
           "FL1:512 FL2:16 DR:0.8 BS:32 LR:0.0005",
           "[160, 199]"
          ],
          [
           "FL1:512 FL2:16 DR:0.8 BS:32 LR:0.0005",
           "[160, 199]"
          ],
          [
           "FL1:512 FL2:16 DR:0.8 BS:32 LR:0.0005",
           "[160, 199]"
          ],
          [
           "FL1:512 FL2:16 DR:0.8 BS:32 LR:0.0005",
           "[160, 199]"
          ],
          [
           "FL1:512 FL2:16 DR:0.8 BS:32 LR:0.0005",
           "[160, 199]"
          ],
          [
           "FL1:512 FL2:16 DR:0.8 BS:32 LR:0.0005",
           "[160, 199]"
          ],
          [
           "FL1:512 FL2:16 DR:0.8 BS:32 LR:0.0005",
           "[160, 199]"
          ],
          [
           "FL1:512 FL2:16 DR:0.8 BS:32 LR:0.0005",
           "[160, 199]"
          ],
          [
           "FL1:512 FL2:16 DR:0.8 BS:32 LR:0.0005",
           "[160, 199]"
          ],
          [
           "FL1:512 FL2:16 DR:0.8 BS:32 LR:0.0005",
           "[160, 199]"
          ],
          [
           "FL1:512 FL2:16 DR:0.8 BS:32 LR:0.0005",
           "[160, 199]"
          ],
          [
           "FL1:512 FL2:16 DR:0.8 BS:32 LR:0.0005",
           "[160, 199]"
          ],
          [
           "FL1:512 FL2:16 DR:0.8 BS:32 LR:0.0005",
           "[160, 199]"
          ],
          [
           "FL1:512 FL2:16 DR:0.8 BS:32 LR:0.0005",
           "[160, 199]"
          ],
          [
           "FL1:512 FL2:16 DR:0.8 BS:32 LR:0.0005",
           "[160, 199]"
          ],
          [
           "FL1:512 FL2:16 DR:0.8 BS:32 LR:0.0005",
           "[160, 199]"
          ],
          [
           "FL1:512 FL2:16 DR:0.8 BS:32 LR:0.0005",
           "[160, 199]"
          ],
          [
           "FL1:512 FL2:16 DR:0.8 BS:32 LR:0.0005",
           "[160, 199]"
          ],
          [
           "FL1:512 FL2:16 DR:0.8 BS:32 LR:0.0005",
           "[160, 199]"
          ],
          [
           "FL1:512 FL2:16 DR:0.8 BS:32 LR:0.0005",
           "[160, 199]"
          ],
          [
           "FL1:512 FL2:16 DR:0.8 BS:32 LR:0.0005",
           "[160, 199]"
          ],
          [
           "FL1:512 FL2:16 DR:0.8 BS:32 LR:0.0005",
           "[160, 199]"
          ],
          [
           "FL1:512 FL2:16 DR:0.8 BS:32 LR:0.0005",
           "[160, 199]"
          ],
          [
           "FL1:512 FL2:16 DR:0.8 BS:32 LR:0.0005",
           "[160, 199]"
          ],
          [
           "FL1:512 FL2:16 DR:0.8 BS:32 LR:0.0005",
           "[160, 199]"
          ],
          [
           "FL1:512 FL2:16 DR:0.8 BS:32 LR:0.0005",
           "[160, 199]"
          ],
          [
           "FL1:512 FL2:16 DR:0.8 BS:32 LR:0.0005",
           "[160, 199]"
          ],
          [
           "FL1:512 FL2:16 DR:0.8 BS:32 LR:0.0005",
           "[160, 199]"
          ],
          [
           "FL1:512 FL2:16 DR:0.8 BS:32 LR:0.0005",
           "[160, 199]"
          ],
          [
           "FL1:512 FL2:16 DR:0.8 BS:32 LR:0.0005",
           "[160, 199]"
          ],
          [
           "FL1:512 FL2:16 DR:0.8 BS:32 LR:0.0005",
           "[160, 199]"
          ],
          [
           "FL1:512 FL2:16 DR:0.8 BS:32 LR:0.0005",
           "[160, 199]"
          ],
          [
           "FL1:512 FL2:16 DR:0.8 BS:32 LR:0.0005",
           "[160, 199]"
          ],
          [
           "FL1:512 FL2:16 DR:0.8 BS:32 LR:0.0005",
           "[160, 199]"
          ],
          [
           "FL1:512 FL2:16 DR:0.8 BS:32 LR:0.0005",
           "[160, 199]"
          ],
          [
           "FL1:512 FL2:16 DR:0.8 BS:32 LR:0.0005",
           "[160, 199]"
          ],
          [
           "FL1:512 FL2:16 DR:0.8 BS:32 LR:0.0005",
           "[160, 199]"
          ],
          [
           "FL1:512 FL2:16 DR:0.8 BS:32 LR:0.0005",
           "[160, 199]"
          ],
          [
           "FL1:512 FL2:16 DR:0.8 BS:32 LR:0.0005",
           "[160, 199]"
          ],
          [
           "FL1:512 FL2:16 DR:0.8 BS:32 LR:0.0005",
           "[160, 199]"
          ],
          [
           "FL1:512 FL2:16 DR:0.8 BS:32 LR:0.0005",
           "[160, 199]"
          ],
          [
           "FL1:512 FL2:16 DR:0.8 BS:32 LR:0.0005",
           "[160, 199]"
          ],
          [
           "FL1:512 FL2:16 DR:0.8 BS:32 LR:0.0005",
           "[160, 199]"
          ],
          [
           "FL1:512 FL2:16 DR:0.8 BS:32 LR:0.0005",
           "[160, 199]"
          ],
          [
           "FL1:512 FL2:16 DR:0.8 BS:32 LR:0.0005",
           "[160, 199]"
          ],
          [
           "FL1:512 FL2:16 DR:0.8 BS:32 LR:0.0005",
           "[160, 199]"
          ],
          [
           "FL1:512 FL2:16 DR:0.8 BS:32 LR:0.0005",
           "[160, 199]"
          ],
          [
           "FL1:512 FL2:16 DR:0.8 BS:32 LR:0.0005",
           "[160, 199]"
          ],
          [
           "FL1:512 FL2:16 DR:0.8 BS:32 LR:0.0005",
           "[160, 199]"
          ],
          [
           "FL1:512 FL2:16 DR:0.8 BS:32 LR:0.0005",
           "[160, 199]"
          ],
          [
           "FL1:512 FL2:16 DR:0.8 BS:32 LR:0.0005",
           "[160, 199]"
          ],
          [
           "FL1:512 FL2:16 DR:0.8 BS:32 LR:0.0005",
           "[160, 199]"
          ],
          [
           "FL1:512 FL2:16 DR:0.8 BS:32 LR:0.0005",
           "[160, 199]"
          ],
          [
           "FL1:512 FL2:16 DR:0.8 BS:32 LR:0.0005",
           "[160, 199]"
          ],
          [
           "FL1:512 FL2:16 DR:0.8 BS:32 LR:0.0005",
           "[160, 199]"
          ],
          [
           "FL1:512 FL2:16 DR:0.8 BS:32 LR:0.0005",
           "[160, 199]"
          ],
          [
           "FL1:512 FL2:16 DR:0.8 BS:32 LR:0.0005",
           "[160, 199]"
          ]
         ],
         "hovertemplate": "variable=val_loss<br>trial_id=802fd_00268<br>epoch=%{x}<br>value=%{y}<br>Hyperparameters=%{customdata[0]}<br>checkpoints=%{customdata[1]}<extra></extra>",
         "legendgroup": "val_loss, 802fd_00268",
         "line": {
          "color": "#636efa",
          "dash": "solid"
         },
         "marker": {
          "symbol": "circle"
         },
         "mode": "lines",
         "name": "val_loss, 802fd_00268",
         "showlegend": true,
         "type": "scattergl",
         "x": [
          0,
          1,
          2,
          3,
          4,
          5,
          6,
          7,
          8,
          9,
          10,
          11,
          12,
          13,
          14,
          15,
          16,
          17,
          18,
          19,
          20,
          21,
          22,
          23,
          24,
          25,
          26,
          27,
          28,
          29,
          30,
          31,
          32,
          33,
          34,
          35,
          36,
          37,
          38,
          39,
          40,
          41,
          42,
          43,
          44,
          45,
          46,
          47,
          48,
          49,
          50,
          51,
          52,
          53,
          54,
          55,
          56,
          57,
          58,
          59,
          60,
          61,
          62,
          63,
          64,
          65,
          66,
          67,
          68,
          69,
          70,
          71,
          72,
          73,
          74,
          75,
          76,
          77,
          78,
          79,
          80,
          81,
          82,
          83,
          84,
          85,
          86,
          87,
          88,
          89,
          90,
          91,
          92,
          93,
          94,
          95,
          96,
          97,
          98,
          99,
          100,
          101,
          102,
          103,
          104,
          105,
          106,
          107,
          108,
          109,
          110,
          111,
          112,
          113,
          114,
          115,
          116,
          117,
          118,
          119,
          120,
          121,
          122,
          123,
          124,
          125,
          126,
          127,
          128,
          129,
          130,
          131,
          132,
          133,
          134,
          135,
          136,
          137,
          138,
          139,
          140,
          141,
          142,
          143,
          144,
          145,
          146,
          147,
          148,
          149,
          150,
          151,
          152,
          153,
          154,
          155,
          156,
          157,
          158,
          159,
          160,
          161,
          162,
          163,
          164,
          165,
          166,
          167,
          168,
          169,
          170,
          171,
          172,
          173,
          174,
          175,
          176,
          177,
          178,
          179,
          180,
          181,
          182,
          183,
          184,
          185,
          186,
          187,
          188,
          189,
          190,
          191,
          192,
          193,
          194,
          195,
          196,
          197,
          198,
          199
         ],
         "xaxis": "x",
         "y": [
          0.6702514290809616,
          0.671661516030627,
          0.650551848941376,
          0.5766705727135664,
          0.5132405761583322,
          0.45927468960176987,
          0.420881089400523,
          0.3936392147218333,
          0.3746721002045694,
          0.36210370080890997,
          0.35638427745781087,
          0.3465836744274141,
          0.33678437940050704,
          0.3324496956121221,
          0.32842374254937196,
          0.3242340115022336,
          0.32524857105888666,
          0.33098144453153094,
          0.3289786949514347,
          0.3276839107115392,
          0.3383155465019617,
          0.33945823708460476,
          0.3516934381543637,
          0.35470806668990373,
          0.35347683635548344,
          0.35190927920868315,
          0.3519518868004626,
          0.3552481562478895,
          0.36016153498381653,
          0.36613824436326914,
          0.35729788388980743,
          0.35664280352442257,
          0.36579672891198695,
          0.36056019795138955,
          0.3685717611326057,
          0.35397746356416193,
          0.3608463253715854,
          0.36185653978845855,
          0.35066638704314007,
          0.3439438728238083,
          0.3453965046501772,
          0.3445384408696892,
          0.3417514897495104,
          0.33054881540335435,
          0.3467443436211817,
          0.3478584984823372,
          0.34514388110136285,
          0.34391265886290323,
          0.3319225892574479,
          0.3452961335679475,
          0.3486652698848361,
          0.3520065861764021,
          0.34202654281076167,
          0.33647207166629545,
          0.3388957927351355,
          0.3384094999714128,
          0.345302324591969,
          0.3501467281572642,
          0.35100512862156563,
          0.3583241645491825,
          0.38034356262926866,
          0.3884927870607671,
          0.39279434692702575,
          0.3793406427690834,
          0.38364391133450376,
          0.38555926154231207,
          0.39034052736345287,
          0.39432069027942557,
          0.4004333871240218,
          0.3844047061360404,
          0.4275017494464256,
          0.4061896082099494,
          0.40806462541793465,
          0.43502243807298946,
          0.40916479263294325,
          0.42080894532196006,
          0.41467979830100893,
          0.40920266695548835,
          0.40459429348660575,
          0.404008621143983,
          0.4020046453791755,
          0.399455548069072,
          0.42123157828462826,
          0.42453562914936116,
          0.4260085006528974,
          0.4355991237676054,
          0.4407300785724252,
          0.43070927166567335,
          0.42257770832131936,
          0.4283107812917926,
          0.4423689740046317,
          0.4313452871073909,
          0.47922486274968296,
          0.4705699795453453,
          0.4554442143419509,
          0.44380721290767927,
          0.47327814393480977,
          0.45943453506125476,
          0.4570123824509866,
          0.43443704466242744,
          0.4446535065453515,
          0.4241667459197344,
          0.43295122648527123,
          0.4128228125654973,
          0.4197024006104007,
          0.40029378059542986,
          0.40636178733929434,
          0.4151817751064849,
          0.43512879094381696,
          0.47919882192147684,
          0.5314148721028215,
          0.4915053087425782,
          0.4534585467942914,
          0.4755917186186275,
          0.45326088830136896,
          0.470808956121759,
          0.46010264959292596,
          0.48119680223436356,
          0.5127273475962942,
          0.49925218859235765,
          0.479199093838004,
          0.4856041055649294,
          0.48719683168528843,
          0.4703982066988826,
          0.4827740915536789,
          0.471399117040627,
          0.49376898244221407,
          0.5102463313950379,
          0.5027780101705435,
          0.4651232173713597,
          0.4674676034631024,
          0.4668769322356696,
          0.47060395827035756,
          0.4745751722000736,
          0.4802271891529481,
          0.4917600862777962,
          0.5000996068184055,
          0.5132696280919484,
          0.5397713349953591,
          0.5300475668043085,
          0.5301966873228663,
          0.5749033032139201,
          0.5716084797037998,
          0.5662713222274077,
          0.6050853644853743,
          0.6148789866133457,
          0.6057608553677073,
          0.6076970980504651,
          0.6155683984981296,
          0.5921649131924773,
          0.6203792554637353,
          0.6137889135215374,
          0.5895080836834956,
          0.5996353607854862,
          0.5660806186650595,
          0.5878522123001931,
          0.5252679106330147,
          0.548168925228069,
          0.5426303133582724,
          0.5525284002367412,
          0.5187713133059434,
          0.5623017302329322,
          0.5561937326308727,
          0.5986941214479748,
          0.58886742963246,
          0.5978339537902094,
          0.6088609844395448,
          0.5885799626475513,
          0.672142095033719,
          0.6701931600202399,
          0.673847174937808,
          0.6851615748771569,
          0.7321699554369523,
          0.6731128291716612,
          0.6440543463780095,
          0.5767196073104007,
          0.6091282138539048,
          0.5765396402486611,
          0.6057222913509226,
          0.6673290418787524,
          0.6581737589308754,
          0.6953072476035428,
          0.7281320047144124,
          0.7082963156543841,
          0.6909644913569191,
          0.6919746406803577,
          0.6345013583984661,
          0.6812116242307199,
          0.6593491856825187,
          0.616190839116561,
          0.6599528513383766,
          0.6867943619378323,
          0.6743341826523603,
          0.6645629500763441,
          0.6726748013110161,
          0.703116295311926,
          0.6896813893146486,
          0.6152039921169252,
          0.6173794372800157,
          0.6032788822335101
         ],
         "yaxis": "y"
        },
        {
         "customdata": [
          [
           "FL1:16 FL2:16 DR:0.8 BS:64 LR:0.0001",
           "[157, 199]"
          ],
          [
           "FL1:16 FL2:16 DR:0.8 BS:64 LR:0.0001",
           "[157, 199]"
          ],
          [
           "FL1:16 FL2:16 DR:0.8 BS:64 LR:0.0001",
           "[157, 199]"
          ],
          [
           "FL1:16 FL2:16 DR:0.8 BS:64 LR:0.0001",
           "[157, 199]"
          ],
          [
           "FL1:16 FL2:16 DR:0.8 BS:64 LR:0.0001",
           "[157, 199]"
          ],
          [
           "FL1:16 FL2:16 DR:0.8 BS:64 LR:0.0001",
           "[157, 199]"
          ],
          [
           "FL1:16 FL2:16 DR:0.8 BS:64 LR:0.0001",
           "[157, 199]"
          ],
          [
           "FL1:16 FL2:16 DR:0.8 BS:64 LR:0.0001",
           "[157, 199]"
          ],
          [
           "FL1:16 FL2:16 DR:0.8 BS:64 LR:0.0001",
           "[157, 199]"
          ],
          [
           "FL1:16 FL2:16 DR:0.8 BS:64 LR:0.0001",
           "[157, 199]"
          ],
          [
           "FL1:16 FL2:16 DR:0.8 BS:64 LR:0.0001",
           "[157, 199]"
          ],
          [
           "FL1:16 FL2:16 DR:0.8 BS:64 LR:0.0001",
           "[157, 199]"
          ],
          [
           "FL1:16 FL2:16 DR:0.8 BS:64 LR:0.0001",
           "[157, 199]"
          ],
          [
           "FL1:16 FL2:16 DR:0.8 BS:64 LR:0.0001",
           "[157, 199]"
          ],
          [
           "FL1:16 FL2:16 DR:0.8 BS:64 LR:0.0001",
           "[157, 199]"
          ],
          [
           "FL1:16 FL2:16 DR:0.8 BS:64 LR:0.0001",
           "[157, 199]"
          ],
          [
           "FL1:16 FL2:16 DR:0.8 BS:64 LR:0.0001",
           "[157, 199]"
          ],
          [
           "FL1:16 FL2:16 DR:0.8 BS:64 LR:0.0001",
           "[157, 199]"
          ],
          [
           "FL1:16 FL2:16 DR:0.8 BS:64 LR:0.0001",
           "[157, 199]"
          ],
          [
           "FL1:16 FL2:16 DR:0.8 BS:64 LR:0.0001",
           "[157, 199]"
          ],
          [
           "FL1:16 FL2:16 DR:0.8 BS:64 LR:0.0001",
           "[157, 199]"
          ],
          [
           "FL1:16 FL2:16 DR:0.8 BS:64 LR:0.0001",
           "[157, 199]"
          ],
          [
           "FL1:16 FL2:16 DR:0.8 BS:64 LR:0.0001",
           "[157, 199]"
          ],
          [
           "FL1:16 FL2:16 DR:0.8 BS:64 LR:0.0001",
           "[157, 199]"
          ],
          [
           "FL1:16 FL2:16 DR:0.8 BS:64 LR:0.0001",
           "[157, 199]"
          ],
          [
           "FL1:16 FL2:16 DR:0.8 BS:64 LR:0.0001",
           "[157, 199]"
          ],
          [
           "FL1:16 FL2:16 DR:0.8 BS:64 LR:0.0001",
           "[157, 199]"
          ],
          [
           "FL1:16 FL2:16 DR:0.8 BS:64 LR:0.0001",
           "[157, 199]"
          ],
          [
           "FL1:16 FL2:16 DR:0.8 BS:64 LR:0.0001",
           "[157, 199]"
          ],
          [
           "FL1:16 FL2:16 DR:0.8 BS:64 LR:0.0001",
           "[157, 199]"
          ],
          [
           "FL1:16 FL2:16 DR:0.8 BS:64 LR:0.0001",
           "[157, 199]"
          ],
          [
           "FL1:16 FL2:16 DR:0.8 BS:64 LR:0.0001",
           "[157, 199]"
          ],
          [
           "FL1:16 FL2:16 DR:0.8 BS:64 LR:0.0001",
           "[157, 199]"
          ],
          [
           "FL1:16 FL2:16 DR:0.8 BS:64 LR:0.0001",
           "[157, 199]"
          ],
          [
           "FL1:16 FL2:16 DR:0.8 BS:64 LR:0.0001",
           "[157, 199]"
          ],
          [
           "FL1:16 FL2:16 DR:0.8 BS:64 LR:0.0001",
           "[157, 199]"
          ],
          [
           "FL1:16 FL2:16 DR:0.8 BS:64 LR:0.0001",
           "[157, 199]"
          ],
          [
           "FL1:16 FL2:16 DR:0.8 BS:64 LR:0.0001",
           "[157, 199]"
          ],
          [
           "FL1:16 FL2:16 DR:0.8 BS:64 LR:0.0001",
           "[157, 199]"
          ],
          [
           "FL1:16 FL2:16 DR:0.8 BS:64 LR:0.0001",
           "[157, 199]"
          ],
          [
           "FL1:16 FL2:16 DR:0.8 BS:64 LR:0.0001",
           "[157, 199]"
          ],
          [
           "FL1:16 FL2:16 DR:0.8 BS:64 LR:0.0001",
           "[157, 199]"
          ],
          [
           "FL1:16 FL2:16 DR:0.8 BS:64 LR:0.0001",
           "[157, 199]"
          ],
          [
           "FL1:16 FL2:16 DR:0.8 BS:64 LR:0.0001",
           "[157, 199]"
          ],
          [
           "FL1:16 FL2:16 DR:0.8 BS:64 LR:0.0001",
           "[157, 199]"
          ],
          [
           "FL1:16 FL2:16 DR:0.8 BS:64 LR:0.0001",
           "[157, 199]"
          ],
          [
           "FL1:16 FL2:16 DR:0.8 BS:64 LR:0.0001",
           "[157, 199]"
          ],
          [
           "FL1:16 FL2:16 DR:0.8 BS:64 LR:0.0001",
           "[157, 199]"
          ],
          [
           "FL1:16 FL2:16 DR:0.8 BS:64 LR:0.0001",
           "[157, 199]"
          ],
          [
           "FL1:16 FL2:16 DR:0.8 BS:64 LR:0.0001",
           "[157, 199]"
          ],
          [
           "FL1:16 FL2:16 DR:0.8 BS:64 LR:0.0001",
           "[157, 199]"
          ],
          [
           "FL1:16 FL2:16 DR:0.8 BS:64 LR:0.0001",
           "[157, 199]"
          ],
          [
           "FL1:16 FL2:16 DR:0.8 BS:64 LR:0.0001",
           "[157, 199]"
          ],
          [
           "FL1:16 FL2:16 DR:0.8 BS:64 LR:0.0001",
           "[157, 199]"
          ],
          [
           "FL1:16 FL2:16 DR:0.8 BS:64 LR:0.0001",
           "[157, 199]"
          ],
          [
           "FL1:16 FL2:16 DR:0.8 BS:64 LR:0.0001",
           "[157, 199]"
          ],
          [
           "FL1:16 FL2:16 DR:0.8 BS:64 LR:0.0001",
           "[157, 199]"
          ],
          [
           "FL1:16 FL2:16 DR:0.8 BS:64 LR:0.0001",
           "[157, 199]"
          ],
          [
           "FL1:16 FL2:16 DR:0.8 BS:64 LR:0.0001",
           "[157, 199]"
          ],
          [
           "FL1:16 FL2:16 DR:0.8 BS:64 LR:0.0001",
           "[157, 199]"
          ],
          [
           "FL1:16 FL2:16 DR:0.8 BS:64 LR:0.0001",
           "[157, 199]"
          ],
          [
           "FL1:16 FL2:16 DR:0.8 BS:64 LR:0.0001",
           "[157, 199]"
          ],
          [
           "FL1:16 FL2:16 DR:0.8 BS:64 LR:0.0001",
           "[157, 199]"
          ],
          [
           "FL1:16 FL2:16 DR:0.8 BS:64 LR:0.0001",
           "[157, 199]"
          ],
          [
           "FL1:16 FL2:16 DR:0.8 BS:64 LR:0.0001",
           "[157, 199]"
          ],
          [
           "FL1:16 FL2:16 DR:0.8 BS:64 LR:0.0001",
           "[157, 199]"
          ],
          [
           "FL1:16 FL2:16 DR:0.8 BS:64 LR:0.0001",
           "[157, 199]"
          ],
          [
           "FL1:16 FL2:16 DR:0.8 BS:64 LR:0.0001",
           "[157, 199]"
          ],
          [
           "FL1:16 FL2:16 DR:0.8 BS:64 LR:0.0001",
           "[157, 199]"
          ],
          [
           "FL1:16 FL2:16 DR:0.8 BS:64 LR:0.0001",
           "[157, 199]"
          ],
          [
           "FL1:16 FL2:16 DR:0.8 BS:64 LR:0.0001",
           "[157, 199]"
          ],
          [
           "FL1:16 FL2:16 DR:0.8 BS:64 LR:0.0001",
           "[157, 199]"
          ],
          [
           "FL1:16 FL2:16 DR:0.8 BS:64 LR:0.0001",
           "[157, 199]"
          ],
          [
           "FL1:16 FL2:16 DR:0.8 BS:64 LR:0.0001",
           "[157, 199]"
          ],
          [
           "FL1:16 FL2:16 DR:0.8 BS:64 LR:0.0001",
           "[157, 199]"
          ],
          [
           "FL1:16 FL2:16 DR:0.8 BS:64 LR:0.0001",
           "[157, 199]"
          ],
          [
           "FL1:16 FL2:16 DR:0.8 BS:64 LR:0.0001",
           "[157, 199]"
          ],
          [
           "FL1:16 FL2:16 DR:0.8 BS:64 LR:0.0001",
           "[157, 199]"
          ],
          [
           "FL1:16 FL2:16 DR:0.8 BS:64 LR:0.0001",
           "[157, 199]"
          ],
          [
           "FL1:16 FL2:16 DR:0.8 BS:64 LR:0.0001",
           "[157, 199]"
          ],
          [
           "FL1:16 FL2:16 DR:0.8 BS:64 LR:0.0001",
           "[157, 199]"
          ],
          [
           "FL1:16 FL2:16 DR:0.8 BS:64 LR:0.0001",
           "[157, 199]"
          ],
          [
           "FL1:16 FL2:16 DR:0.8 BS:64 LR:0.0001",
           "[157, 199]"
          ],
          [
           "FL1:16 FL2:16 DR:0.8 BS:64 LR:0.0001",
           "[157, 199]"
          ],
          [
           "FL1:16 FL2:16 DR:0.8 BS:64 LR:0.0001",
           "[157, 199]"
          ],
          [
           "FL1:16 FL2:16 DR:0.8 BS:64 LR:0.0001",
           "[157, 199]"
          ],
          [
           "FL1:16 FL2:16 DR:0.8 BS:64 LR:0.0001",
           "[157, 199]"
          ],
          [
           "FL1:16 FL2:16 DR:0.8 BS:64 LR:0.0001",
           "[157, 199]"
          ],
          [
           "FL1:16 FL2:16 DR:0.8 BS:64 LR:0.0001",
           "[157, 199]"
          ],
          [
           "FL1:16 FL2:16 DR:0.8 BS:64 LR:0.0001",
           "[157, 199]"
          ],
          [
           "FL1:16 FL2:16 DR:0.8 BS:64 LR:0.0001",
           "[157, 199]"
          ],
          [
           "FL1:16 FL2:16 DR:0.8 BS:64 LR:0.0001",
           "[157, 199]"
          ],
          [
           "FL1:16 FL2:16 DR:0.8 BS:64 LR:0.0001",
           "[157, 199]"
          ],
          [
           "FL1:16 FL2:16 DR:0.8 BS:64 LR:0.0001",
           "[157, 199]"
          ],
          [
           "FL1:16 FL2:16 DR:0.8 BS:64 LR:0.0001",
           "[157, 199]"
          ],
          [
           "FL1:16 FL2:16 DR:0.8 BS:64 LR:0.0001",
           "[157, 199]"
          ],
          [
           "FL1:16 FL2:16 DR:0.8 BS:64 LR:0.0001",
           "[157, 199]"
          ],
          [
           "FL1:16 FL2:16 DR:0.8 BS:64 LR:0.0001",
           "[157, 199]"
          ],
          [
           "FL1:16 FL2:16 DR:0.8 BS:64 LR:0.0001",
           "[157, 199]"
          ],
          [
           "FL1:16 FL2:16 DR:0.8 BS:64 LR:0.0001",
           "[157, 199]"
          ],
          [
           "FL1:16 FL2:16 DR:0.8 BS:64 LR:0.0001",
           "[157, 199]"
          ],
          [
           "FL1:16 FL2:16 DR:0.8 BS:64 LR:0.0001",
           "[157, 199]"
          ],
          [
           "FL1:16 FL2:16 DR:0.8 BS:64 LR:0.0001",
           "[157, 199]"
          ],
          [
           "FL1:16 FL2:16 DR:0.8 BS:64 LR:0.0001",
           "[157, 199]"
          ],
          [
           "FL1:16 FL2:16 DR:0.8 BS:64 LR:0.0001",
           "[157, 199]"
          ],
          [
           "FL1:16 FL2:16 DR:0.8 BS:64 LR:0.0001",
           "[157, 199]"
          ],
          [
           "FL1:16 FL2:16 DR:0.8 BS:64 LR:0.0001",
           "[157, 199]"
          ],
          [
           "FL1:16 FL2:16 DR:0.8 BS:64 LR:0.0001",
           "[157, 199]"
          ],
          [
           "FL1:16 FL2:16 DR:0.8 BS:64 LR:0.0001",
           "[157, 199]"
          ],
          [
           "FL1:16 FL2:16 DR:0.8 BS:64 LR:0.0001",
           "[157, 199]"
          ],
          [
           "FL1:16 FL2:16 DR:0.8 BS:64 LR:0.0001",
           "[157, 199]"
          ],
          [
           "FL1:16 FL2:16 DR:0.8 BS:64 LR:0.0001",
           "[157, 199]"
          ],
          [
           "FL1:16 FL2:16 DR:0.8 BS:64 LR:0.0001",
           "[157, 199]"
          ],
          [
           "FL1:16 FL2:16 DR:0.8 BS:64 LR:0.0001",
           "[157, 199]"
          ],
          [
           "FL1:16 FL2:16 DR:0.8 BS:64 LR:0.0001",
           "[157, 199]"
          ],
          [
           "FL1:16 FL2:16 DR:0.8 BS:64 LR:0.0001",
           "[157, 199]"
          ],
          [
           "FL1:16 FL2:16 DR:0.8 BS:64 LR:0.0001",
           "[157, 199]"
          ],
          [
           "FL1:16 FL2:16 DR:0.8 BS:64 LR:0.0001",
           "[157, 199]"
          ],
          [
           "FL1:16 FL2:16 DR:0.8 BS:64 LR:0.0001",
           "[157, 199]"
          ],
          [
           "FL1:16 FL2:16 DR:0.8 BS:64 LR:0.0001",
           "[157, 199]"
          ],
          [
           "FL1:16 FL2:16 DR:0.8 BS:64 LR:0.0001",
           "[157, 199]"
          ],
          [
           "FL1:16 FL2:16 DR:0.8 BS:64 LR:0.0001",
           "[157, 199]"
          ],
          [
           "FL1:16 FL2:16 DR:0.8 BS:64 LR:0.0001",
           "[157, 199]"
          ],
          [
           "FL1:16 FL2:16 DR:0.8 BS:64 LR:0.0001",
           "[157, 199]"
          ],
          [
           "FL1:16 FL2:16 DR:0.8 BS:64 LR:0.0001",
           "[157, 199]"
          ],
          [
           "FL1:16 FL2:16 DR:0.8 BS:64 LR:0.0001",
           "[157, 199]"
          ],
          [
           "FL1:16 FL2:16 DR:0.8 BS:64 LR:0.0001",
           "[157, 199]"
          ],
          [
           "FL1:16 FL2:16 DR:0.8 BS:64 LR:0.0001",
           "[157, 199]"
          ],
          [
           "FL1:16 FL2:16 DR:0.8 BS:64 LR:0.0001",
           "[157, 199]"
          ],
          [
           "FL1:16 FL2:16 DR:0.8 BS:64 LR:0.0001",
           "[157, 199]"
          ],
          [
           "FL1:16 FL2:16 DR:0.8 BS:64 LR:0.0001",
           "[157, 199]"
          ],
          [
           "FL1:16 FL2:16 DR:0.8 BS:64 LR:0.0001",
           "[157, 199]"
          ],
          [
           "FL1:16 FL2:16 DR:0.8 BS:64 LR:0.0001",
           "[157, 199]"
          ],
          [
           "FL1:16 FL2:16 DR:0.8 BS:64 LR:0.0001",
           "[157, 199]"
          ],
          [
           "FL1:16 FL2:16 DR:0.8 BS:64 LR:0.0001",
           "[157, 199]"
          ],
          [
           "FL1:16 FL2:16 DR:0.8 BS:64 LR:0.0001",
           "[157, 199]"
          ],
          [
           "FL1:16 FL2:16 DR:0.8 BS:64 LR:0.0001",
           "[157, 199]"
          ],
          [
           "FL1:16 FL2:16 DR:0.8 BS:64 LR:0.0001",
           "[157, 199]"
          ],
          [
           "FL1:16 FL2:16 DR:0.8 BS:64 LR:0.0001",
           "[157, 199]"
          ],
          [
           "FL1:16 FL2:16 DR:0.8 BS:64 LR:0.0001",
           "[157, 199]"
          ],
          [
           "FL1:16 FL2:16 DR:0.8 BS:64 LR:0.0001",
           "[157, 199]"
          ],
          [
           "FL1:16 FL2:16 DR:0.8 BS:64 LR:0.0001",
           "[157, 199]"
          ],
          [
           "FL1:16 FL2:16 DR:0.8 BS:64 LR:0.0001",
           "[157, 199]"
          ],
          [
           "FL1:16 FL2:16 DR:0.8 BS:64 LR:0.0001",
           "[157, 199]"
          ],
          [
           "FL1:16 FL2:16 DR:0.8 BS:64 LR:0.0001",
           "[157, 199]"
          ],
          [
           "FL1:16 FL2:16 DR:0.8 BS:64 LR:0.0001",
           "[157, 199]"
          ],
          [
           "FL1:16 FL2:16 DR:0.8 BS:64 LR:0.0001",
           "[157, 199]"
          ],
          [
           "FL1:16 FL2:16 DR:0.8 BS:64 LR:0.0001",
           "[157, 199]"
          ],
          [
           "FL1:16 FL2:16 DR:0.8 BS:64 LR:0.0001",
           "[157, 199]"
          ],
          [
           "FL1:16 FL2:16 DR:0.8 BS:64 LR:0.0001",
           "[157, 199]"
          ],
          [
           "FL1:16 FL2:16 DR:0.8 BS:64 LR:0.0001",
           "[157, 199]"
          ],
          [
           "FL1:16 FL2:16 DR:0.8 BS:64 LR:0.0001",
           "[157, 199]"
          ],
          [
           "FL1:16 FL2:16 DR:0.8 BS:64 LR:0.0001",
           "[157, 199]"
          ],
          [
           "FL1:16 FL2:16 DR:0.8 BS:64 LR:0.0001",
           "[157, 199]"
          ],
          [
           "FL1:16 FL2:16 DR:0.8 BS:64 LR:0.0001",
           "[157, 199]"
          ],
          [
           "FL1:16 FL2:16 DR:0.8 BS:64 LR:0.0001",
           "[157, 199]"
          ],
          [
           "FL1:16 FL2:16 DR:0.8 BS:64 LR:0.0001",
           "[157, 199]"
          ],
          [
           "FL1:16 FL2:16 DR:0.8 BS:64 LR:0.0001",
           "[157, 199]"
          ],
          [
           "FL1:16 FL2:16 DR:0.8 BS:64 LR:0.0001",
           "[157, 199]"
          ],
          [
           "FL1:16 FL2:16 DR:0.8 BS:64 LR:0.0001",
           "[157, 199]"
          ],
          [
           "FL1:16 FL2:16 DR:0.8 BS:64 LR:0.0001",
           "[157, 199]"
          ],
          [
           "FL1:16 FL2:16 DR:0.8 BS:64 LR:0.0001",
           "[157, 199]"
          ],
          [
           "FL1:16 FL2:16 DR:0.8 BS:64 LR:0.0001",
           "[157, 199]"
          ],
          [
           "FL1:16 FL2:16 DR:0.8 BS:64 LR:0.0001",
           "[157, 199]"
          ],
          [
           "FL1:16 FL2:16 DR:0.8 BS:64 LR:0.0001",
           "[157, 199]"
          ],
          [
           "FL1:16 FL2:16 DR:0.8 BS:64 LR:0.0001",
           "[157, 199]"
          ],
          [
           "FL1:16 FL2:16 DR:0.8 BS:64 LR:0.0001",
           "[157, 199]"
          ],
          [
           "FL1:16 FL2:16 DR:0.8 BS:64 LR:0.0001",
           "[157, 199]"
          ],
          [
           "FL1:16 FL2:16 DR:0.8 BS:64 LR:0.0001",
           "[157, 199]"
          ],
          [
           "FL1:16 FL2:16 DR:0.8 BS:64 LR:0.0001",
           "[157, 199]"
          ],
          [
           "FL1:16 FL2:16 DR:0.8 BS:64 LR:0.0001",
           "[157, 199]"
          ],
          [
           "FL1:16 FL2:16 DR:0.8 BS:64 LR:0.0001",
           "[157, 199]"
          ],
          [
           "FL1:16 FL2:16 DR:0.8 BS:64 LR:0.0001",
           "[157, 199]"
          ],
          [
           "FL1:16 FL2:16 DR:0.8 BS:64 LR:0.0001",
           "[157, 199]"
          ],
          [
           "FL1:16 FL2:16 DR:0.8 BS:64 LR:0.0001",
           "[157, 199]"
          ],
          [
           "FL1:16 FL2:16 DR:0.8 BS:64 LR:0.0001",
           "[157, 199]"
          ],
          [
           "FL1:16 FL2:16 DR:0.8 BS:64 LR:0.0001",
           "[157, 199]"
          ],
          [
           "FL1:16 FL2:16 DR:0.8 BS:64 LR:0.0001",
           "[157, 199]"
          ],
          [
           "FL1:16 FL2:16 DR:0.8 BS:64 LR:0.0001",
           "[157, 199]"
          ],
          [
           "FL1:16 FL2:16 DR:0.8 BS:64 LR:0.0001",
           "[157, 199]"
          ],
          [
           "FL1:16 FL2:16 DR:0.8 BS:64 LR:0.0001",
           "[157, 199]"
          ],
          [
           "FL1:16 FL2:16 DR:0.8 BS:64 LR:0.0001",
           "[157, 199]"
          ],
          [
           "FL1:16 FL2:16 DR:0.8 BS:64 LR:0.0001",
           "[157, 199]"
          ],
          [
           "FL1:16 FL2:16 DR:0.8 BS:64 LR:0.0001",
           "[157, 199]"
          ],
          [
           "FL1:16 FL2:16 DR:0.8 BS:64 LR:0.0001",
           "[157, 199]"
          ],
          [
           "FL1:16 FL2:16 DR:0.8 BS:64 LR:0.0001",
           "[157, 199]"
          ],
          [
           "FL1:16 FL2:16 DR:0.8 BS:64 LR:0.0001",
           "[157, 199]"
          ],
          [
           "FL1:16 FL2:16 DR:0.8 BS:64 LR:0.0001",
           "[157, 199]"
          ],
          [
           "FL1:16 FL2:16 DR:0.8 BS:64 LR:0.0001",
           "[157, 199]"
          ],
          [
           "FL1:16 FL2:16 DR:0.8 BS:64 LR:0.0001",
           "[157, 199]"
          ],
          [
           "FL1:16 FL2:16 DR:0.8 BS:64 LR:0.0001",
           "[157, 199]"
          ],
          [
           "FL1:16 FL2:16 DR:0.8 BS:64 LR:0.0001",
           "[157, 199]"
          ],
          [
           "FL1:16 FL2:16 DR:0.8 BS:64 LR:0.0001",
           "[157, 199]"
          ],
          [
           "FL1:16 FL2:16 DR:0.8 BS:64 LR:0.0001",
           "[157, 199]"
          ],
          [
           "FL1:16 FL2:16 DR:0.8 BS:64 LR:0.0001",
           "[157, 199]"
          ],
          [
           "FL1:16 FL2:16 DR:0.8 BS:64 LR:0.0001",
           "[157, 199]"
          ],
          [
           "FL1:16 FL2:16 DR:0.8 BS:64 LR:0.0001",
           "[157, 199]"
          ],
          [
           "FL1:16 FL2:16 DR:0.8 BS:64 LR:0.0001",
           "[157, 199]"
          ],
          [
           "FL1:16 FL2:16 DR:0.8 BS:64 LR:0.0001",
           "[157, 199]"
          ],
          [
           "FL1:16 FL2:16 DR:0.8 BS:64 LR:0.0001",
           "[157, 199]"
          ]
         ],
         "hovertemplate": "variable=val_loss<br>trial_id=802fd_00036<br>epoch=%{x}<br>value=%{y}<br>Hyperparameters=%{customdata[0]}<br>checkpoints=%{customdata[1]}<extra></extra>",
         "legendgroup": "val_loss, 802fd_00036",
         "line": {
          "color": "#636efa",
          "dash": "dot"
         },
         "marker": {
          "symbol": "circle"
         },
         "mode": "lines",
         "name": "val_loss, 802fd_00036",
         "showlegend": true,
         "type": "scattergl",
         "x": [
          0,
          1,
          2,
          3,
          4,
          5,
          6,
          7,
          8,
          9,
          10,
          11,
          12,
          13,
          14,
          15,
          16,
          17,
          18,
          19,
          20,
          21,
          22,
          23,
          24,
          25,
          26,
          27,
          28,
          29,
          30,
          31,
          32,
          33,
          34,
          35,
          36,
          37,
          38,
          39,
          40,
          41,
          42,
          43,
          44,
          45,
          46,
          47,
          48,
          49,
          50,
          51,
          52,
          53,
          54,
          55,
          56,
          57,
          58,
          59,
          60,
          61,
          62,
          63,
          64,
          65,
          66,
          67,
          68,
          69,
          70,
          71,
          72,
          73,
          74,
          75,
          76,
          77,
          78,
          79,
          80,
          81,
          82,
          83,
          84,
          85,
          86,
          87,
          88,
          89,
          90,
          91,
          92,
          93,
          94,
          95,
          96,
          97,
          98,
          99,
          100,
          101,
          102,
          103,
          104,
          105,
          106,
          107,
          108,
          109,
          110,
          111,
          112,
          113,
          114,
          115,
          116,
          117,
          118,
          119,
          120,
          121,
          122,
          123,
          124,
          125,
          126,
          127,
          128,
          129,
          130,
          131,
          132,
          133,
          134,
          135,
          136,
          137,
          138,
          139,
          140,
          141,
          142,
          143,
          144,
          145,
          146,
          147,
          148,
          149,
          150,
          151,
          152,
          153,
          154,
          155,
          156,
          157,
          158,
          159,
          160,
          161,
          162,
          163,
          164,
          165,
          166,
          167,
          168,
          169,
          170,
          171,
          172,
          173,
          174,
          175,
          176,
          177,
          178,
          179,
          180,
          181,
          182,
          183,
          184,
          185,
          186,
          187,
          188,
          189,
          190,
          191,
          192,
          193,
          194,
          195,
          196,
          197,
          198,
          199
         ],
         "xaxis": "x",
         "y": [
          0.6640861034393295,
          0.6637314756711299,
          0.661631279521515,
          0.659087951536528,
          0.6561022570103735,
          0.6540998531957671,
          0.6519504993213668,
          0.6499105432996108,
          0.6469828909879878,
          0.6446216984752768,
          0.6421204000157734,
          0.6373141665884255,
          0.6351471913939302,
          0.6305190770550279,
          0.6262789069760961,
          0.6242007413936391,
          0.6197370952654356,
          0.6157128854783677,
          0.6147452820799272,
          0.6124270312959286,
          0.6092368796781904,
          0.602769900382637,
          0.5960695273485959,
          0.5906028235493209,
          0.5900934394557003,
          0.5858825681182215,
          0.5805742301922672,
          0.5748051311162851,
          0.5682196753281832,
          0.5644509883098112,
          0.5631732206458706,
          0.5617778407808699,
          0.55731454208669,
          0.5535345853380147,
          0.5523854415292053,
          0.54897516440514,
          0.5465548202141329,
          0.5420709560145396,
          0.542205294624265,
          0.5369959411722383,
          0.5334558644362252,
          0.5316287980124648,
          0.5330156555205766,
          0.5288426392893106,
          0.5247719164437779,
          0.520742030656782,
          0.5180889776789118,
          0.5147425010100306,
          0.5137044041882147,
          0.5113599995460888,
          0.5111945734876236,
          0.5080959907146178,
          0.5030914320529742,
          0.49983053896037904,
          0.49800280394294516,
          0.492958798422671,
          0.49001697660436555,
          0.48679111044241435,
          0.4841356915939733,
          0.48235464378918985,
          0.4780044971884993,
          0.47723359657537207,
          0.47525709399389626,
          0.47350004996728384,
          0.474416757198647,
          0.4733515743232261,
          0.47056351528011925,
          0.46897210628087654,
          0.4671565522769767,
          0.46253650917077477,
          0.4617918003497141,
          0.4630577378072739,
          0.46312278261438894,
          0.46067313188086434,
          0.45821984167741614,
          0.45586519477000975,
          0.45318670429939023,
          0.4523748746060916,
          0.4515924944177981,
          0.45021359415158296,
          0.45023424288501007,
          0.44942044788512586,
          0.45141947980664066,
          0.4496503420402058,
          0.4472851023229912,
          0.4454615026813705,
          0.4441596110729339,
          0.44270606769905796,
          0.44136945693881086,
          0.4401220764662863,
          0.4411864436961561,
          0.4399303004011403,
          0.43832603791454594,
          0.4365136073635618,
          0.43712837806056504,
          0.43665305648055613,
          0.43533569159644697,
          0.43633014680635734,
          0.4367503670963423,
          0.43522530781644986,
          0.43426763009639746,
          0.4336009256814056,
          0.432234461623703,
          0.4302957425635875,
          0.4290496356038124,
          0.42879618848349355,
          0.42978262997326283,
          0.43021909459866997,
          0.4301284423433262,
          0.42808646102497994,
          0.42836903624898776,
          0.429303640081925,
          0.42853822903794797,
          0.4308637453248938,
          0.42871150858738855,
          0.4259821109476267,
          0.4249694700044105,
          0.42309784260072275,
          0.42102861978396977,
          0.41966033364524485,
          0.4185610339720375,
          0.4188859512858464,
          0.4185069336131452,
          0.41777469606102996,
          0.4179715937435716,
          0.41784653902451696,
          0.4173007961140762,
          0.41810060911885066,
          0.4184053333170615,
          0.4190690478727146,
          0.4194627974460462,
          0.4197495363838093,
          0.42080336363359294,
          0.4207785795214696,
          0.419755384000335,
          0.4186605014219498,
          0.4184081519851818,
          0.41935555903181226,
          0.4195442515483475,
          0.41769919911165776,
          0.41661929831994643,
          0.41817489098239546,
          0.41682721065632816,
          0.4156650363548077,
          0.4165356595743671,
          0.41668595800326663,
          0.41598246779393,
          0.41355528292623295,
          0.4135236068405508,
          0.41352884463719414,
          0.4119935631238867,
          0.41235867139256227,
          0.4123078485101864,
          0.4118985367993772,
          0.4133739857660562,
          0.41394145878068705,
          0.41400676033173645,
          0.41583481802724787,
          0.4158624733433646,
          0.4145847674837051,
          0.41360942301686093,
          0.4138890456990092,
          0.41339739838147654,
          0.41370616143878536,
          0.41370227460024145,
          0.41280589185792366,
          0.4137930418560108,
          0.4154235717660312,
          0.4149521289273175,
          0.4139116901824248,
          0.4124222032672403,
          0.41245477944256353,
          0.41375505625964093,
          0.41415908733845247,
          0.4128101355489118,
          0.4155747517384429,
          0.41543653106936634,
          0.41660155519014375,
          0.415407122268714,
          0.4160222617086013,
          0.4150557754633311,
          0.4125104406275663,
          0.41365940430417975,
          0.4163535804129651,
          0.4154273947462106,
          0.41455487942593955,
          0.41599595570496395,
          0.4143486918603813,
          0.4151185155971461,
          0.41506657011400316,
          0.4135811528039675,
          0.411932610834485,
          0.4120889957513043,
          0.4157809155361926,
          0.416790583873925,
          0.41258632748996943,
          0.41589888671819086,
          0.4132085524650651,
          0.4106602624159537,
          0.4097802907295669
         ],
         "yaxis": "y"
        },
        {
         "customdata": [
          [
           "FL1:256 FL2:256 DR:0.3 BS:64 LR:0.005",
           "[156, 199]"
          ],
          [
           "FL1:256 FL2:256 DR:0.3 BS:64 LR:0.005",
           "[156, 199]"
          ],
          [
           "FL1:256 FL2:256 DR:0.3 BS:64 LR:0.005",
           "[156, 199]"
          ],
          [
           "FL1:256 FL2:256 DR:0.3 BS:64 LR:0.005",
           "[156, 199]"
          ],
          [
           "FL1:256 FL2:256 DR:0.3 BS:64 LR:0.005",
           "[156, 199]"
          ],
          [
           "FL1:256 FL2:256 DR:0.3 BS:64 LR:0.005",
           "[156, 199]"
          ],
          [
           "FL1:256 FL2:256 DR:0.3 BS:64 LR:0.005",
           "[156, 199]"
          ],
          [
           "FL1:256 FL2:256 DR:0.3 BS:64 LR:0.005",
           "[156, 199]"
          ],
          [
           "FL1:256 FL2:256 DR:0.3 BS:64 LR:0.005",
           "[156, 199]"
          ],
          [
           "FL1:256 FL2:256 DR:0.3 BS:64 LR:0.005",
           "[156, 199]"
          ],
          [
           "FL1:256 FL2:256 DR:0.3 BS:64 LR:0.005",
           "[156, 199]"
          ],
          [
           "FL1:256 FL2:256 DR:0.3 BS:64 LR:0.005",
           "[156, 199]"
          ],
          [
           "FL1:256 FL2:256 DR:0.3 BS:64 LR:0.005",
           "[156, 199]"
          ],
          [
           "FL1:256 FL2:256 DR:0.3 BS:64 LR:0.005",
           "[156, 199]"
          ],
          [
           "FL1:256 FL2:256 DR:0.3 BS:64 LR:0.005",
           "[156, 199]"
          ],
          [
           "FL1:256 FL2:256 DR:0.3 BS:64 LR:0.005",
           "[156, 199]"
          ],
          [
           "FL1:256 FL2:256 DR:0.3 BS:64 LR:0.005",
           "[156, 199]"
          ],
          [
           "FL1:256 FL2:256 DR:0.3 BS:64 LR:0.005",
           "[156, 199]"
          ],
          [
           "FL1:256 FL2:256 DR:0.3 BS:64 LR:0.005",
           "[156, 199]"
          ],
          [
           "FL1:256 FL2:256 DR:0.3 BS:64 LR:0.005",
           "[156, 199]"
          ],
          [
           "FL1:256 FL2:256 DR:0.3 BS:64 LR:0.005",
           "[156, 199]"
          ],
          [
           "FL1:256 FL2:256 DR:0.3 BS:64 LR:0.005",
           "[156, 199]"
          ],
          [
           "FL1:256 FL2:256 DR:0.3 BS:64 LR:0.005",
           "[156, 199]"
          ],
          [
           "FL1:256 FL2:256 DR:0.3 BS:64 LR:0.005",
           "[156, 199]"
          ],
          [
           "FL1:256 FL2:256 DR:0.3 BS:64 LR:0.005",
           "[156, 199]"
          ],
          [
           "FL1:256 FL2:256 DR:0.3 BS:64 LR:0.005",
           "[156, 199]"
          ],
          [
           "FL1:256 FL2:256 DR:0.3 BS:64 LR:0.005",
           "[156, 199]"
          ],
          [
           "FL1:256 FL2:256 DR:0.3 BS:64 LR:0.005",
           "[156, 199]"
          ],
          [
           "FL1:256 FL2:256 DR:0.3 BS:64 LR:0.005",
           "[156, 199]"
          ],
          [
           "FL1:256 FL2:256 DR:0.3 BS:64 LR:0.005",
           "[156, 199]"
          ],
          [
           "FL1:256 FL2:256 DR:0.3 BS:64 LR:0.005",
           "[156, 199]"
          ],
          [
           "FL1:256 FL2:256 DR:0.3 BS:64 LR:0.005",
           "[156, 199]"
          ],
          [
           "FL1:256 FL2:256 DR:0.3 BS:64 LR:0.005",
           "[156, 199]"
          ],
          [
           "FL1:256 FL2:256 DR:0.3 BS:64 LR:0.005",
           "[156, 199]"
          ],
          [
           "FL1:256 FL2:256 DR:0.3 BS:64 LR:0.005",
           "[156, 199]"
          ],
          [
           "FL1:256 FL2:256 DR:0.3 BS:64 LR:0.005",
           "[156, 199]"
          ],
          [
           "FL1:256 FL2:256 DR:0.3 BS:64 LR:0.005",
           "[156, 199]"
          ],
          [
           "FL1:256 FL2:256 DR:0.3 BS:64 LR:0.005",
           "[156, 199]"
          ],
          [
           "FL1:256 FL2:256 DR:0.3 BS:64 LR:0.005",
           "[156, 199]"
          ],
          [
           "FL1:256 FL2:256 DR:0.3 BS:64 LR:0.005",
           "[156, 199]"
          ],
          [
           "FL1:256 FL2:256 DR:0.3 BS:64 LR:0.005",
           "[156, 199]"
          ],
          [
           "FL1:256 FL2:256 DR:0.3 BS:64 LR:0.005",
           "[156, 199]"
          ],
          [
           "FL1:256 FL2:256 DR:0.3 BS:64 LR:0.005",
           "[156, 199]"
          ],
          [
           "FL1:256 FL2:256 DR:0.3 BS:64 LR:0.005",
           "[156, 199]"
          ],
          [
           "FL1:256 FL2:256 DR:0.3 BS:64 LR:0.005",
           "[156, 199]"
          ],
          [
           "FL1:256 FL2:256 DR:0.3 BS:64 LR:0.005",
           "[156, 199]"
          ],
          [
           "FL1:256 FL2:256 DR:0.3 BS:64 LR:0.005",
           "[156, 199]"
          ],
          [
           "FL1:256 FL2:256 DR:0.3 BS:64 LR:0.005",
           "[156, 199]"
          ],
          [
           "FL1:256 FL2:256 DR:0.3 BS:64 LR:0.005",
           "[156, 199]"
          ],
          [
           "FL1:256 FL2:256 DR:0.3 BS:64 LR:0.005",
           "[156, 199]"
          ],
          [
           "FL1:256 FL2:256 DR:0.3 BS:64 LR:0.005",
           "[156, 199]"
          ],
          [
           "FL1:256 FL2:256 DR:0.3 BS:64 LR:0.005",
           "[156, 199]"
          ],
          [
           "FL1:256 FL2:256 DR:0.3 BS:64 LR:0.005",
           "[156, 199]"
          ],
          [
           "FL1:256 FL2:256 DR:0.3 BS:64 LR:0.005",
           "[156, 199]"
          ],
          [
           "FL1:256 FL2:256 DR:0.3 BS:64 LR:0.005",
           "[156, 199]"
          ],
          [
           "FL1:256 FL2:256 DR:0.3 BS:64 LR:0.005",
           "[156, 199]"
          ],
          [
           "FL1:256 FL2:256 DR:0.3 BS:64 LR:0.005",
           "[156, 199]"
          ],
          [
           "FL1:256 FL2:256 DR:0.3 BS:64 LR:0.005",
           "[156, 199]"
          ],
          [
           "FL1:256 FL2:256 DR:0.3 BS:64 LR:0.005",
           "[156, 199]"
          ],
          [
           "FL1:256 FL2:256 DR:0.3 BS:64 LR:0.005",
           "[156, 199]"
          ],
          [
           "FL1:256 FL2:256 DR:0.3 BS:64 LR:0.005",
           "[156, 199]"
          ],
          [
           "FL1:256 FL2:256 DR:0.3 BS:64 LR:0.005",
           "[156, 199]"
          ],
          [
           "FL1:256 FL2:256 DR:0.3 BS:64 LR:0.005",
           "[156, 199]"
          ],
          [
           "FL1:256 FL2:256 DR:0.3 BS:64 LR:0.005",
           "[156, 199]"
          ],
          [
           "FL1:256 FL2:256 DR:0.3 BS:64 LR:0.005",
           "[156, 199]"
          ],
          [
           "FL1:256 FL2:256 DR:0.3 BS:64 LR:0.005",
           "[156, 199]"
          ],
          [
           "FL1:256 FL2:256 DR:0.3 BS:64 LR:0.005",
           "[156, 199]"
          ],
          [
           "FL1:256 FL2:256 DR:0.3 BS:64 LR:0.005",
           "[156, 199]"
          ],
          [
           "FL1:256 FL2:256 DR:0.3 BS:64 LR:0.005",
           "[156, 199]"
          ],
          [
           "FL1:256 FL2:256 DR:0.3 BS:64 LR:0.005",
           "[156, 199]"
          ],
          [
           "FL1:256 FL2:256 DR:0.3 BS:64 LR:0.005",
           "[156, 199]"
          ],
          [
           "FL1:256 FL2:256 DR:0.3 BS:64 LR:0.005",
           "[156, 199]"
          ],
          [
           "FL1:256 FL2:256 DR:0.3 BS:64 LR:0.005",
           "[156, 199]"
          ],
          [
           "FL1:256 FL2:256 DR:0.3 BS:64 LR:0.005",
           "[156, 199]"
          ],
          [
           "FL1:256 FL2:256 DR:0.3 BS:64 LR:0.005",
           "[156, 199]"
          ],
          [
           "FL1:256 FL2:256 DR:0.3 BS:64 LR:0.005",
           "[156, 199]"
          ],
          [
           "FL1:256 FL2:256 DR:0.3 BS:64 LR:0.005",
           "[156, 199]"
          ],
          [
           "FL1:256 FL2:256 DR:0.3 BS:64 LR:0.005",
           "[156, 199]"
          ],
          [
           "FL1:256 FL2:256 DR:0.3 BS:64 LR:0.005",
           "[156, 199]"
          ],
          [
           "FL1:256 FL2:256 DR:0.3 BS:64 LR:0.005",
           "[156, 199]"
          ],
          [
           "FL1:256 FL2:256 DR:0.3 BS:64 LR:0.005",
           "[156, 199]"
          ],
          [
           "FL1:256 FL2:256 DR:0.3 BS:64 LR:0.005",
           "[156, 199]"
          ],
          [
           "FL1:256 FL2:256 DR:0.3 BS:64 LR:0.005",
           "[156, 199]"
          ],
          [
           "FL1:256 FL2:256 DR:0.3 BS:64 LR:0.005",
           "[156, 199]"
          ],
          [
           "FL1:256 FL2:256 DR:0.3 BS:64 LR:0.005",
           "[156, 199]"
          ],
          [
           "FL1:256 FL2:256 DR:0.3 BS:64 LR:0.005",
           "[156, 199]"
          ],
          [
           "FL1:256 FL2:256 DR:0.3 BS:64 LR:0.005",
           "[156, 199]"
          ],
          [
           "FL1:256 FL2:256 DR:0.3 BS:64 LR:0.005",
           "[156, 199]"
          ],
          [
           "FL1:256 FL2:256 DR:0.3 BS:64 LR:0.005",
           "[156, 199]"
          ],
          [
           "FL1:256 FL2:256 DR:0.3 BS:64 LR:0.005",
           "[156, 199]"
          ],
          [
           "FL1:256 FL2:256 DR:0.3 BS:64 LR:0.005",
           "[156, 199]"
          ],
          [
           "FL1:256 FL2:256 DR:0.3 BS:64 LR:0.005",
           "[156, 199]"
          ],
          [
           "FL1:256 FL2:256 DR:0.3 BS:64 LR:0.005",
           "[156, 199]"
          ],
          [
           "FL1:256 FL2:256 DR:0.3 BS:64 LR:0.005",
           "[156, 199]"
          ],
          [
           "FL1:256 FL2:256 DR:0.3 BS:64 LR:0.005",
           "[156, 199]"
          ],
          [
           "FL1:256 FL2:256 DR:0.3 BS:64 LR:0.005",
           "[156, 199]"
          ],
          [
           "FL1:256 FL2:256 DR:0.3 BS:64 LR:0.005",
           "[156, 199]"
          ],
          [
           "FL1:256 FL2:256 DR:0.3 BS:64 LR:0.005",
           "[156, 199]"
          ],
          [
           "FL1:256 FL2:256 DR:0.3 BS:64 LR:0.005",
           "[156, 199]"
          ],
          [
           "FL1:256 FL2:256 DR:0.3 BS:64 LR:0.005",
           "[156, 199]"
          ],
          [
           "FL1:256 FL2:256 DR:0.3 BS:64 LR:0.005",
           "[156, 199]"
          ],
          [
           "FL1:256 FL2:256 DR:0.3 BS:64 LR:0.005",
           "[156, 199]"
          ],
          [
           "FL1:256 FL2:256 DR:0.3 BS:64 LR:0.005",
           "[156, 199]"
          ],
          [
           "FL1:256 FL2:256 DR:0.3 BS:64 LR:0.005",
           "[156, 199]"
          ],
          [
           "FL1:256 FL2:256 DR:0.3 BS:64 LR:0.005",
           "[156, 199]"
          ],
          [
           "FL1:256 FL2:256 DR:0.3 BS:64 LR:0.005",
           "[156, 199]"
          ],
          [
           "FL1:256 FL2:256 DR:0.3 BS:64 LR:0.005",
           "[156, 199]"
          ],
          [
           "FL1:256 FL2:256 DR:0.3 BS:64 LR:0.005",
           "[156, 199]"
          ],
          [
           "FL1:256 FL2:256 DR:0.3 BS:64 LR:0.005",
           "[156, 199]"
          ],
          [
           "FL1:256 FL2:256 DR:0.3 BS:64 LR:0.005",
           "[156, 199]"
          ],
          [
           "FL1:256 FL2:256 DR:0.3 BS:64 LR:0.005",
           "[156, 199]"
          ],
          [
           "FL1:256 FL2:256 DR:0.3 BS:64 LR:0.005",
           "[156, 199]"
          ],
          [
           "FL1:256 FL2:256 DR:0.3 BS:64 LR:0.005",
           "[156, 199]"
          ],
          [
           "FL1:256 FL2:256 DR:0.3 BS:64 LR:0.005",
           "[156, 199]"
          ],
          [
           "FL1:256 FL2:256 DR:0.3 BS:64 LR:0.005",
           "[156, 199]"
          ],
          [
           "FL1:256 FL2:256 DR:0.3 BS:64 LR:0.005",
           "[156, 199]"
          ],
          [
           "FL1:256 FL2:256 DR:0.3 BS:64 LR:0.005",
           "[156, 199]"
          ],
          [
           "FL1:256 FL2:256 DR:0.3 BS:64 LR:0.005",
           "[156, 199]"
          ],
          [
           "FL1:256 FL2:256 DR:0.3 BS:64 LR:0.005",
           "[156, 199]"
          ],
          [
           "FL1:256 FL2:256 DR:0.3 BS:64 LR:0.005",
           "[156, 199]"
          ],
          [
           "FL1:256 FL2:256 DR:0.3 BS:64 LR:0.005",
           "[156, 199]"
          ],
          [
           "FL1:256 FL2:256 DR:0.3 BS:64 LR:0.005",
           "[156, 199]"
          ],
          [
           "FL1:256 FL2:256 DR:0.3 BS:64 LR:0.005",
           "[156, 199]"
          ],
          [
           "FL1:256 FL2:256 DR:0.3 BS:64 LR:0.005",
           "[156, 199]"
          ],
          [
           "FL1:256 FL2:256 DR:0.3 BS:64 LR:0.005",
           "[156, 199]"
          ],
          [
           "FL1:256 FL2:256 DR:0.3 BS:64 LR:0.005",
           "[156, 199]"
          ],
          [
           "FL1:256 FL2:256 DR:0.3 BS:64 LR:0.005",
           "[156, 199]"
          ],
          [
           "FL1:256 FL2:256 DR:0.3 BS:64 LR:0.005",
           "[156, 199]"
          ],
          [
           "FL1:256 FL2:256 DR:0.3 BS:64 LR:0.005",
           "[156, 199]"
          ],
          [
           "FL1:256 FL2:256 DR:0.3 BS:64 LR:0.005",
           "[156, 199]"
          ],
          [
           "FL1:256 FL2:256 DR:0.3 BS:64 LR:0.005",
           "[156, 199]"
          ],
          [
           "FL1:256 FL2:256 DR:0.3 BS:64 LR:0.005",
           "[156, 199]"
          ],
          [
           "FL1:256 FL2:256 DR:0.3 BS:64 LR:0.005",
           "[156, 199]"
          ],
          [
           "FL1:256 FL2:256 DR:0.3 BS:64 LR:0.005",
           "[156, 199]"
          ],
          [
           "FL1:256 FL2:256 DR:0.3 BS:64 LR:0.005",
           "[156, 199]"
          ],
          [
           "FL1:256 FL2:256 DR:0.3 BS:64 LR:0.005",
           "[156, 199]"
          ],
          [
           "FL1:256 FL2:256 DR:0.3 BS:64 LR:0.005",
           "[156, 199]"
          ],
          [
           "FL1:256 FL2:256 DR:0.3 BS:64 LR:0.005",
           "[156, 199]"
          ],
          [
           "FL1:256 FL2:256 DR:0.3 BS:64 LR:0.005",
           "[156, 199]"
          ],
          [
           "FL1:256 FL2:256 DR:0.3 BS:64 LR:0.005",
           "[156, 199]"
          ],
          [
           "FL1:256 FL2:256 DR:0.3 BS:64 LR:0.005",
           "[156, 199]"
          ],
          [
           "FL1:256 FL2:256 DR:0.3 BS:64 LR:0.005",
           "[156, 199]"
          ],
          [
           "FL1:256 FL2:256 DR:0.3 BS:64 LR:0.005",
           "[156, 199]"
          ],
          [
           "FL1:256 FL2:256 DR:0.3 BS:64 LR:0.005",
           "[156, 199]"
          ],
          [
           "FL1:256 FL2:256 DR:0.3 BS:64 LR:0.005",
           "[156, 199]"
          ],
          [
           "FL1:256 FL2:256 DR:0.3 BS:64 LR:0.005",
           "[156, 199]"
          ],
          [
           "FL1:256 FL2:256 DR:0.3 BS:64 LR:0.005",
           "[156, 199]"
          ],
          [
           "FL1:256 FL2:256 DR:0.3 BS:64 LR:0.005",
           "[156, 199]"
          ],
          [
           "FL1:256 FL2:256 DR:0.3 BS:64 LR:0.005",
           "[156, 199]"
          ],
          [
           "FL1:256 FL2:256 DR:0.3 BS:64 LR:0.005",
           "[156, 199]"
          ],
          [
           "FL1:256 FL2:256 DR:0.3 BS:64 LR:0.005",
           "[156, 199]"
          ],
          [
           "FL1:256 FL2:256 DR:0.3 BS:64 LR:0.005",
           "[156, 199]"
          ],
          [
           "FL1:256 FL2:256 DR:0.3 BS:64 LR:0.005",
           "[156, 199]"
          ],
          [
           "FL1:256 FL2:256 DR:0.3 BS:64 LR:0.005",
           "[156, 199]"
          ],
          [
           "FL1:256 FL2:256 DR:0.3 BS:64 LR:0.005",
           "[156, 199]"
          ],
          [
           "FL1:256 FL2:256 DR:0.3 BS:64 LR:0.005",
           "[156, 199]"
          ],
          [
           "FL1:256 FL2:256 DR:0.3 BS:64 LR:0.005",
           "[156, 199]"
          ],
          [
           "FL1:256 FL2:256 DR:0.3 BS:64 LR:0.005",
           "[156, 199]"
          ],
          [
           "FL1:256 FL2:256 DR:0.3 BS:64 LR:0.005",
           "[156, 199]"
          ],
          [
           "FL1:256 FL2:256 DR:0.3 BS:64 LR:0.005",
           "[156, 199]"
          ],
          [
           "FL1:256 FL2:256 DR:0.3 BS:64 LR:0.005",
           "[156, 199]"
          ],
          [
           "FL1:256 FL2:256 DR:0.3 BS:64 LR:0.005",
           "[156, 199]"
          ],
          [
           "FL1:256 FL2:256 DR:0.3 BS:64 LR:0.005",
           "[156, 199]"
          ],
          [
           "FL1:256 FL2:256 DR:0.3 BS:64 LR:0.005",
           "[156, 199]"
          ],
          [
           "FL1:256 FL2:256 DR:0.3 BS:64 LR:0.005",
           "[156, 199]"
          ],
          [
           "FL1:256 FL2:256 DR:0.3 BS:64 LR:0.005",
           "[156, 199]"
          ],
          [
           "FL1:256 FL2:256 DR:0.3 BS:64 LR:0.005",
           "[156, 199]"
          ],
          [
           "FL1:256 FL2:256 DR:0.3 BS:64 LR:0.005",
           "[156, 199]"
          ],
          [
           "FL1:256 FL2:256 DR:0.3 BS:64 LR:0.005",
           "[156, 199]"
          ],
          [
           "FL1:256 FL2:256 DR:0.3 BS:64 LR:0.005",
           "[156, 199]"
          ],
          [
           "FL1:256 FL2:256 DR:0.3 BS:64 LR:0.005",
           "[156, 199]"
          ],
          [
           "FL1:256 FL2:256 DR:0.3 BS:64 LR:0.005",
           "[156, 199]"
          ],
          [
           "FL1:256 FL2:256 DR:0.3 BS:64 LR:0.005",
           "[156, 199]"
          ],
          [
           "FL1:256 FL2:256 DR:0.3 BS:64 LR:0.005",
           "[156, 199]"
          ],
          [
           "FL1:256 FL2:256 DR:0.3 BS:64 LR:0.005",
           "[156, 199]"
          ],
          [
           "FL1:256 FL2:256 DR:0.3 BS:64 LR:0.005",
           "[156, 199]"
          ],
          [
           "FL1:256 FL2:256 DR:0.3 BS:64 LR:0.005",
           "[156, 199]"
          ],
          [
           "FL1:256 FL2:256 DR:0.3 BS:64 LR:0.005",
           "[156, 199]"
          ],
          [
           "FL1:256 FL2:256 DR:0.3 BS:64 LR:0.005",
           "[156, 199]"
          ],
          [
           "FL1:256 FL2:256 DR:0.3 BS:64 LR:0.005",
           "[156, 199]"
          ],
          [
           "FL1:256 FL2:256 DR:0.3 BS:64 LR:0.005",
           "[156, 199]"
          ],
          [
           "FL1:256 FL2:256 DR:0.3 BS:64 LR:0.005",
           "[156, 199]"
          ],
          [
           "FL1:256 FL2:256 DR:0.3 BS:64 LR:0.005",
           "[156, 199]"
          ],
          [
           "FL1:256 FL2:256 DR:0.3 BS:64 LR:0.005",
           "[156, 199]"
          ],
          [
           "FL1:256 FL2:256 DR:0.3 BS:64 LR:0.005",
           "[156, 199]"
          ],
          [
           "FL1:256 FL2:256 DR:0.3 BS:64 LR:0.005",
           "[156, 199]"
          ],
          [
           "FL1:256 FL2:256 DR:0.3 BS:64 LR:0.005",
           "[156, 199]"
          ],
          [
           "FL1:256 FL2:256 DR:0.3 BS:64 LR:0.005",
           "[156, 199]"
          ],
          [
           "FL1:256 FL2:256 DR:0.3 BS:64 LR:0.005",
           "[156, 199]"
          ],
          [
           "FL1:256 FL2:256 DR:0.3 BS:64 LR:0.005",
           "[156, 199]"
          ],
          [
           "FL1:256 FL2:256 DR:0.3 BS:64 LR:0.005",
           "[156, 199]"
          ],
          [
           "FL1:256 FL2:256 DR:0.3 BS:64 LR:0.005",
           "[156, 199]"
          ],
          [
           "FL1:256 FL2:256 DR:0.3 BS:64 LR:0.005",
           "[156, 199]"
          ],
          [
           "FL1:256 FL2:256 DR:0.3 BS:64 LR:0.005",
           "[156, 199]"
          ],
          [
           "FL1:256 FL2:256 DR:0.3 BS:64 LR:0.005",
           "[156, 199]"
          ],
          [
           "FL1:256 FL2:256 DR:0.3 BS:64 LR:0.005",
           "[156, 199]"
          ],
          [
           "FL1:256 FL2:256 DR:0.3 BS:64 LR:0.005",
           "[156, 199]"
          ],
          [
           "FL1:256 FL2:256 DR:0.3 BS:64 LR:0.005",
           "[156, 199]"
          ],
          [
           "FL1:256 FL2:256 DR:0.3 BS:64 LR:0.005",
           "[156, 199]"
          ],
          [
           "FL1:256 FL2:256 DR:0.3 BS:64 LR:0.005",
           "[156, 199]"
          ]
         ],
         "hovertemplate": "variable=val_loss<br>trial_id=802fd_00156<br>epoch=%{x}<br>value=%{y}<br>Hyperparameters=%{customdata[0]}<br>checkpoints=%{customdata[1]}<extra></extra>",
         "legendgroup": "val_loss, 802fd_00156",
         "line": {
          "color": "#636efa",
          "dash": "dash"
         },
         "marker": {
          "symbol": "circle"
         },
         "mode": "lines",
         "name": "val_loss, 802fd_00156",
         "showlegend": true,
         "type": "scattergl",
         "x": [
          0,
          1,
          2,
          3,
          4,
          5,
          6,
          7,
          8,
          9,
          10,
          11,
          12,
          13,
          14,
          15,
          16,
          17,
          18,
          19,
          20,
          21,
          22,
          23,
          24,
          25,
          26,
          27,
          28,
          29,
          30,
          31,
          32,
          33,
          34,
          35,
          36,
          37,
          38,
          39,
          40,
          41,
          42,
          43,
          44,
          45,
          46,
          47,
          48,
          49,
          50,
          51,
          52,
          53,
          54,
          55,
          56,
          57,
          58,
          59,
          60,
          61,
          62,
          63,
          64,
          65,
          66,
          67,
          68,
          69,
          70,
          71,
          72,
          73,
          74,
          75,
          76,
          77,
          78,
          79,
          80,
          81,
          82,
          83,
          84,
          85,
          86,
          87,
          88,
          89,
          90,
          91,
          92,
          93,
          94,
          95,
          96,
          97,
          98,
          99,
          100,
          101,
          102,
          103,
          104,
          105,
          106,
          107,
          108,
          109,
          110,
          111,
          112,
          113,
          114,
          115,
          116,
          117,
          118,
          119,
          120,
          121,
          122,
          123,
          124,
          125,
          126,
          127,
          128,
          129,
          130,
          131,
          132,
          133,
          134,
          135,
          136,
          137,
          138,
          139,
          140,
          141,
          142,
          143,
          144,
          145,
          146,
          147,
          148,
          149,
          150,
          151,
          152,
          153,
          154,
          155,
          156,
          157,
          158,
          159,
          160,
          161,
          162,
          163,
          164,
          165,
          166,
          167,
          168,
          169,
          170,
          171,
          172,
          173,
          174,
          175,
          176,
          177,
          178,
          179,
          180,
          181,
          182,
          183,
          184,
          185,
          186,
          187,
          188,
          189,
          190,
          191,
          192,
          193,
          194,
          195,
          196,
          197,
          198,
          199
         ],
         "xaxis": "x",
         "y": [
          0.5332353711128222,
          0.4764007627964003,
          0.42624643445014765,
          0.39317194620768026,
          0.3871175216303909,
          0.376929622005531,
          0.35868144771198934,
          0.37534046663668663,
          0.38022276092785445,
          0.36588732950699154,
          0.352325459671098,
          0.35205378489499406,
          0.35408529213272855,
          0.3929081232759897,
          0.3793401103161131,
          0.37238708012252,
          0.35757189904947295,
          0.3526694470994942,
          0.3660171226894364,
          0.35740681795514245,
          0.3882127457740337,
          0.40008836348072785,
          0.37968377841324263,
          0.3830072884613309,
          0.3946016334728412,
          0.3866826728473769,
          0.38808305962156275,
          0.38861829309510443,
          0.400363953701967,
          0.4413230431028949,
          0.4238674946592075,
          0.42975996984149384,
          0.4417000449571689,
          0.44104811793391335,
          0.42617697679880123,
          0.4240354376626194,
          0.42796647069137395,
          0.421827919067813,
          0.421671087067572,
          0.4885307911510238,
          0.4850864253756041,
          0.4917964234826708,
          0.47028438547437246,
          0.47411318487051257,
          0.5329934680867386,
          0.5090016242138661,
          0.49413052971310756,
          0.5061802915410676,
          0.49406776174415884,
          0.5182449840473435,
          0.5543342049232641,
          0.5406271891667778,
          0.5139865628132766,
          0.5421544148689856,
          0.5671403496905384,
          0.5640298982093201,
          0.5551434331224657,
          0.5265290752441539,
          0.5557883789400812,
          0.560512530158661,
          0.5572505708209013,
          0.5423852083200426,
          0.5214724956031769,
          0.5124334274448362,
          0.5376210331067367,
          0.5176329790979561,
          0.5352276881158297,
          0.5031047873775116,
          0.4955201819923146,
          0.48096152645923085,
          0.4740303225158137,
          0.4963355704703903,
          0.5608433315859205,
          0.5420315351556373,
          0.5525378642128979,
          0.5509315966001521,
          0.5726319312010439,
          0.568902059326848,
          0.6250218046574315,
          0.6102962621628245,
          0.6119170075376151,
          0.6014726284953817,
          0.5784812850298383,
          0.6608566232881193,
          0.6110809172763576,
          0.5947312133560002,
          0.5872055899467336,
          0.6165456978060301,
          0.6666365602001526,
          0.6448012615829679,
          0.6634123342295453,
          0.6254323930912512,
          0.6219886880035714,
          0.5895113773422439,
          0.5950411046397008,
          0.5767692185012034,
          0.5899682546037773,
          0.6105875309558918,
          0.6030553338429788,
          0.5799080966248408,
          0.6584474999596189,
          0.6507686349345239,
          0.5991277279186894,
          0.6807075859260968,
          0.7159945846367136,
          0.6687263370069024,
          0.6869761427582721,
          0.6742251171232195,
          0.6982634831508601,
          0.6911155892107604,
          0.6672382760507332,
          0.700355159472256,
          0.7018567437799947,
          0.7453351295571955,
          0.682370979029696,
          0.7123816731497697,
          0.7341371260037042,
          0.7466564828786579,
          0.7203279173793595,
          0.6912448629023088,
          0.6490392436107949,
          0.6676694386217945,
          0.7017357503714777,
          0.7385534349641925,
          0.6778869233900776,
          0.6828242674386796,
          0.7162225534463107,
          0.6332545075114675,
          0.6832900705136247,
          0.6714492878779679,
          0.695898701182,
          0.7273412872890561,
          0.7669256282872556,
          0.736251688866256,
          0.7284205800085835,
          0.738321141785353,
          0.7520837494969148,
          0.7022173013448554,
          0.7151211636702094,
          0.7137759617593453,
          0.6423238708990514,
          0.6810754268975836,
          0.6690528015038543,
          0.7110159940018351,
          0.7122718060343842,
          0.7207226729611128,
          0.7300263428833448,
          0.7268372233805614,
          0.716590130070682,
          0.6736577707792875,
          0.7382027876552956,
          0.7740840760984015,
          0.8500968911990825,
          0.7517207727660924,
          0.8018904636853376,
          0.7899535106654572,
          0.764975753561363,
          0.8081566473746976,
          0.7813730293449199,
          0.7182182307995966,
          0.775903538595145,
          0.836183995492261,
          0.808536013289954,
          0.7483094270525135,
          0.7881687042115614,
          0.85421308259159,
          0.841562247143781,
          0.7610747853031383,
          0.795551918553683,
          0.8141959856664935,
          0.8154884345475679,
          0.8008947218221968,
          0.7868712640313651,
          0.7780844831803321,
          0.8289401308919883,
          0.8517984599686904,
          0.7549466391945695,
          0.7117269966698218,
          0.7160276196861599,
          0.7478942289924824,
          0.7250020116551835,
          0.7607237040986015,
          0.7373633543643268,
          0.8098573989333627,
          0.7765059872906668,
          0.7378107378510129,
          0.713212792716256,
          0.6884564589406577,
          0.6487084316508973,
          0.6617031088999232,
          0.6855878029618856,
          0.6719660424096168,
          0.6921365832555795,
          0.7463595453413641,
          0.7436318121693062,
          0.7624934131795498,
          0.8352307157314021,
          0.9125761639142144,
          0.8322153655068134,
          0.8499680537234429
         ],
         "yaxis": "y"
        },
        {
         "customdata": [
          [
           "FL1:32 FL2:256 DR:0.3 BS:32 LR:0.0005",
           "[30, 165]"
          ],
          [
           "FL1:32 FL2:256 DR:0.3 BS:32 LR:0.0005",
           "[30, 165]"
          ],
          [
           "FL1:32 FL2:256 DR:0.3 BS:32 LR:0.0005",
           "[30, 165]"
          ],
          [
           "FL1:32 FL2:256 DR:0.3 BS:32 LR:0.0005",
           "[30, 165]"
          ],
          [
           "FL1:32 FL2:256 DR:0.3 BS:32 LR:0.0005",
           "[30, 165]"
          ],
          [
           "FL1:32 FL2:256 DR:0.3 BS:32 LR:0.0005",
           "[30, 165]"
          ],
          [
           "FL1:32 FL2:256 DR:0.3 BS:32 LR:0.0005",
           "[30, 165]"
          ],
          [
           "FL1:32 FL2:256 DR:0.3 BS:32 LR:0.0005",
           "[30, 165]"
          ],
          [
           "FL1:32 FL2:256 DR:0.3 BS:32 LR:0.0005",
           "[30, 165]"
          ],
          [
           "FL1:32 FL2:256 DR:0.3 BS:32 LR:0.0005",
           "[30, 165]"
          ],
          [
           "FL1:32 FL2:256 DR:0.3 BS:32 LR:0.0005",
           "[30, 165]"
          ],
          [
           "FL1:32 FL2:256 DR:0.3 BS:32 LR:0.0005",
           "[30, 165]"
          ],
          [
           "FL1:32 FL2:256 DR:0.3 BS:32 LR:0.0005",
           "[30, 165]"
          ],
          [
           "FL1:32 FL2:256 DR:0.3 BS:32 LR:0.0005",
           "[30, 165]"
          ],
          [
           "FL1:32 FL2:256 DR:0.3 BS:32 LR:0.0005",
           "[30, 165]"
          ],
          [
           "FL1:32 FL2:256 DR:0.3 BS:32 LR:0.0005",
           "[30, 165]"
          ],
          [
           "FL1:32 FL2:256 DR:0.3 BS:32 LR:0.0005",
           "[30, 165]"
          ],
          [
           "FL1:32 FL2:256 DR:0.3 BS:32 LR:0.0005",
           "[30, 165]"
          ],
          [
           "FL1:32 FL2:256 DR:0.3 BS:32 LR:0.0005",
           "[30, 165]"
          ],
          [
           "FL1:32 FL2:256 DR:0.3 BS:32 LR:0.0005",
           "[30, 165]"
          ],
          [
           "FL1:32 FL2:256 DR:0.3 BS:32 LR:0.0005",
           "[30, 165]"
          ],
          [
           "FL1:32 FL2:256 DR:0.3 BS:32 LR:0.0005",
           "[30, 165]"
          ],
          [
           "FL1:32 FL2:256 DR:0.3 BS:32 LR:0.0005",
           "[30, 165]"
          ],
          [
           "FL1:32 FL2:256 DR:0.3 BS:32 LR:0.0005",
           "[30, 165]"
          ],
          [
           "FL1:32 FL2:256 DR:0.3 BS:32 LR:0.0005",
           "[30, 165]"
          ],
          [
           "FL1:32 FL2:256 DR:0.3 BS:32 LR:0.0005",
           "[30, 165]"
          ],
          [
           "FL1:32 FL2:256 DR:0.3 BS:32 LR:0.0005",
           "[30, 165]"
          ],
          [
           "FL1:32 FL2:256 DR:0.3 BS:32 LR:0.0005",
           "[30, 165]"
          ],
          [
           "FL1:32 FL2:256 DR:0.3 BS:32 LR:0.0005",
           "[30, 165]"
          ],
          [
           "FL1:32 FL2:256 DR:0.3 BS:32 LR:0.0005",
           "[30, 165]"
          ],
          [
           "FL1:32 FL2:256 DR:0.3 BS:32 LR:0.0005",
           "[30, 165]"
          ],
          [
           "FL1:32 FL2:256 DR:0.3 BS:32 LR:0.0005",
           "[30, 165]"
          ],
          [
           "FL1:32 FL2:256 DR:0.3 BS:32 LR:0.0005",
           "[30, 165]"
          ],
          [
           "FL1:32 FL2:256 DR:0.3 BS:32 LR:0.0005",
           "[30, 165]"
          ],
          [
           "FL1:32 FL2:256 DR:0.3 BS:32 LR:0.0005",
           "[30, 165]"
          ],
          [
           "FL1:32 FL2:256 DR:0.3 BS:32 LR:0.0005",
           "[30, 165]"
          ],
          [
           "FL1:32 FL2:256 DR:0.3 BS:32 LR:0.0005",
           "[30, 165]"
          ],
          [
           "FL1:32 FL2:256 DR:0.3 BS:32 LR:0.0005",
           "[30, 165]"
          ],
          [
           "FL1:32 FL2:256 DR:0.3 BS:32 LR:0.0005",
           "[30, 165]"
          ],
          [
           "FL1:32 FL2:256 DR:0.3 BS:32 LR:0.0005",
           "[30, 165]"
          ],
          [
           "FL1:32 FL2:256 DR:0.3 BS:32 LR:0.0005",
           "[30, 165]"
          ],
          [
           "FL1:32 FL2:256 DR:0.3 BS:32 LR:0.0005",
           "[30, 165]"
          ],
          [
           "FL1:32 FL2:256 DR:0.3 BS:32 LR:0.0005",
           "[30, 165]"
          ],
          [
           "FL1:32 FL2:256 DR:0.3 BS:32 LR:0.0005",
           "[30, 165]"
          ],
          [
           "FL1:32 FL2:256 DR:0.3 BS:32 LR:0.0005",
           "[30, 165]"
          ],
          [
           "FL1:32 FL2:256 DR:0.3 BS:32 LR:0.0005",
           "[30, 165]"
          ],
          [
           "FL1:32 FL2:256 DR:0.3 BS:32 LR:0.0005",
           "[30, 165]"
          ],
          [
           "FL1:32 FL2:256 DR:0.3 BS:32 LR:0.0005",
           "[30, 165]"
          ],
          [
           "FL1:32 FL2:256 DR:0.3 BS:32 LR:0.0005",
           "[30, 165]"
          ],
          [
           "FL1:32 FL2:256 DR:0.3 BS:32 LR:0.0005",
           "[30, 165]"
          ],
          [
           "FL1:32 FL2:256 DR:0.3 BS:32 LR:0.0005",
           "[30, 165]"
          ],
          [
           "FL1:32 FL2:256 DR:0.3 BS:32 LR:0.0005",
           "[30, 165]"
          ],
          [
           "FL1:32 FL2:256 DR:0.3 BS:32 LR:0.0005",
           "[30, 165]"
          ],
          [
           "FL1:32 FL2:256 DR:0.3 BS:32 LR:0.0005",
           "[30, 165]"
          ],
          [
           "FL1:32 FL2:256 DR:0.3 BS:32 LR:0.0005",
           "[30, 165]"
          ],
          [
           "FL1:32 FL2:256 DR:0.3 BS:32 LR:0.0005",
           "[30, 165]"
          ],
          [
           "FL1:32 FL2:256 DR:0.3 BS:32 LR:0.0005",
           "[30, 165]"
          ],
          [
           "FL1:32 FL2:256 DR:0.3 BS:32 LR:0.0005",
           "[30, 165]"
          ],
          [
           "FL1:32 FL2:256 DR:0.3 BS:32 LR:0.0005",
           "[30, 165]"
          ],
          [
           "FL1:32 FL2:256 DR:0.3 BS:32 LR:0.0005",
           "[30, 165]"
          ],
          [
           "FL1:32 FL2:256 DR:0.3 BS:32 LR:0.0005",
           "[30, 165]"
          ],
          [
           "FL1:32 FL2:256 DR:0.3 BS:32 LR:0.0005",
           "[30, 165]"
          ],
          [
           "FL1:32 FL2:256 DR:0.3 BS:32 LR:0.0005",
           "[30, 165]"
          ],
          [
           "FL1:32 FL2:256 DR:0.3 BS:32 LR:0.0005",
           "[30, 165]"
          ],
          [
           "FL1:32 FL2:256 DR:0.3 BS:32 LR:0.0005",
           "[30, 165]"
          ],
          [
           "FL1:32 FL2:256 DR:0.3 BS:32 LR:0.0005",
           "[30, 165]"
          ],
          [
           "FL1:32 FL2:256 DR:0.3 BS:32 LR:0.0005",
           "[30, 165]"
          ],
          [
           "FL1:32 FL2:256 DR:0.3 BS:32 LR:0.0005",
           "[30, 165]"
          ],
          [
           "FL1:32 FL2:256 DR:0.3 BS:32 LR:0.0005",
           "[30, 165]"
          ],
          [
           "FL1:32 FL2:256 DR:0.3 BS:32 LR:0.0005",
           "[30, 165]"
          ],
          [
           "FL1:32 FL2:256 DR:0.3 BS:32 LR:0.0005",
           "[30, 165]"
          ],
          [
           "FL1:32 FL2:256 DR:0.3 BS:32 LR:0.0005",
           "[30, 165]"
          ],
          [
           "FL1:32 FL2:256 DR:0.3 BS:32 LR:0.0005",
           "[30, 165]"
          ],
          [
           "FL1:32 FL2:256 DR:0.3 BS:32 LR:0.0005",
           "[30, 165]"
          ],
          [
           "FL1:32 FL2:256 DR:0.3 BS:32 LR:0.0005",
           "[30, 165]"
          ],
          [
           "FL1:32 FL2:256 DR:0.3 BS:32 LR:0.0005",
           "[30, 165]"
          ],
          [
           "FL1:32 FL2:256 DR:0.3 BS:32 LR:0.0005",
           "[30, 165]"
          ],
          [
           "FL1:32 FL2:256 DR:0.3 BS:32 LR:0.0005",
           "[30, 165]"
          ],
          [
           "FL1:32 FL2:256 DR:0.3 BS:32 LR:0.0005",
           "[30, 165]"
          ],
          [
           "FL1:32 FL2:256 DR:0.3 BS:32 LR:0.0005",
           "[30, 165]"
          ],
          [
           "FL1:32 FL2:256 DR:0.3 BS:32 LR:0.0005",
           "[30, 165]"
          ],
          [
           "FL1:32 FL2:256 DR:0.3 BS:32 LR:0.0005",
           "[30, 165]"
          ],
          [
           "FL1:32 FL2:256 DR:0.3 BS:32 LR:0.0005",
           "[30, 165]"
          ],
          [
           "FL1:32 FL2:256 DR:0.3 BS:32 LR:0.0005",
           "[30, 165]"
          ],
          [
           "FL1:32 FL2:256 DR:0.3 BS:32 LR:0.0005",
           "[30, 165]"
          ],
          [
           "FL1:32 FL2:256 DR:0.3 BS:32 LR:0.0005",
           "[30, 165]"
          ],
          [
           "FL1:32 FL2:256 DR:0.3 BS:32 LR:0.0005",
           "[30, 165]"
          ],
          [
           "FL1:32 FL2:256 DR:0.3 BS:32 LR:0.0005",
           "[30, 165]"
          ],
          [
           "FL1:32 FL2:256 DR:0.3 BS:32 LR:0.0005",
           "[30, 165]"
          ],
          [
           "FL1:32 FL2:256 DR:0.3 BS:32 LR:0.0005",
           "[30, 165]"
          ],
          [
           "FL1:32 FL2:256 DR:0.3 BS:32 LR:0.0005",
           "[30, 165]"
          ],
          [
           "FL1:32 FL2:256 DR:0.3 BS:32 LR:0.0005",
           "[30, 165]"
          ],
          [
           "FL1:32 FL2:256 DR:0.3 BS:32 LR:0.0005",
           "[30, 165]"
          ],
          [
           "FL1:32 FL2:256 DR:0.3 BS:32 LR:0.0005",
           "[30, 165]"
          ],
          [
           "FL1:32 FL2:256 DR:0.3 BS:32 LR:0.0005",
           "[30, 165]"
          ],
          [
           "FL1:32 FL2:256 DR:0.3 BS:32 LR:0.0005",
           "[30, 165]"
          ],
          [
           "FL1:32 FL2:256 DR:0.3 BS:32 LR:0.0005",
           "[30, 165]"
          ],
          [
           "FL1:32 FL2:256 DR:0.3 BS:32 LR:0.0005",
           "[30, 165]"
          ],
          [
           "FL1:32 FL2:256 DR:0.3 BS:32 LR:0.0005",
           "[30, 165]"
          ],
          [
           "FL1:32 FL2:256 DR:0.3 BS:32 LR:0.0005",
           "[30, 165]"
          ],
          [
           "FL1:32 FL2:256 DR:0.3 BS:32 LR:0.0005",
           "[30, 165]"
          ],
          [
           "FL1:32 FL2:256 DR:0.3 BS:32 LR:0.0005",
           "[30, 165]"
          ],
          [
           "FL1:32 FL2:256 DR:0.3 BS:32 LR:0.0005",
           "[30, 165]"
          ],
          [
           "FL1:32 FL2:256 DR:0.3 BS:32 LR:0.0005",
           "[30, 165]"
          ],
          [
           "FL1:32 FL2:256 DR:0.3 BS:32 LR:0.0005",
           "[30, 165]"
          ],
          [
           "FL1:32 FL2:256 DR:0.3 BS:32 LR:0.0005",
           "[30, 165]"
          ],
          [
           "FL1:32 FL2:256 DR:0.3 BS:32 LR:0.0005",
           "[30, 165]"
          ],
          [
           "FL1:32 FL2:256 DR:0.3 BS:32 LR:0.0005",
           "[30, 165]"
          ],
          [
           "FL1:32 FL2:256 DR:0.3 BS:32 LR:0.0005",
           "[30, 165]"
          ],
          [
           "FL1:32 FL2:256 DR:0.3 BS:32 LR:0.0005",
           "[30, 165]"
          ],
          [
           "FL1:32 FL2:256 DR:0.3 BS:32 LR:0.0005",
           "[30, 165]"
          ],
          [
           "FL1:32 FL2:256 DR:0.3 BS:32 LR:0.0005",
           "[30, 165]"
          ],
          [
           "FL1:32 FL2:256 DR:0.3 BS:32 LR:0.0005",
           "[30, 165]"
          ],
          [
           "FL1:32 FL2:256 DR:0.3 BS:32 LR:0.0005",
           "[30, 165]"
          ],
          [
           "FL1:32 FL2:256 DR:0.3 BS:32 LR:0.0005",
           "[30, 165]"
          ],
          [
           "FL1:32 FL2:256 DR:0.3 BS:32 LR:0.0005",
           "[30, 165]"
          ],
          [
           "FL1:32 FL2:256 DR:0.3 BS:32 LR:0.0005",
           "[30, 165]"
          ],
          [
           "FL1:32 FL2:256 DR:0.3 BS:32 LR:0.0005",
           "[30, 165]"
          ],
          [
           "FL1:32 FL2:256 DR:0.3 BS:32 LR:0.0005",
           "[30, 165]"
          ],
          [
           "FL1:32 FL2:256 DR:0.3 BS:32 LR:0.0005",
           "[30, 165]"
          ],
          [
           "FL1:32 FL2:256 DR:0.3 BS:32 LR:0.0005",
           "[30, 165]"
          ],
          [
           "FL1:32 FL2:256 DR:0.3 BS:32 LR:0.0005",
           "[30, 165]"
          ],
          [
           "FL1:32 FL2:256 DR:0.3 BS:32 LR:0.0005",
           "[30, 165]"
          ],
          [
           "FL1:32 FL2:256 DR:0.3 BS:32 LR:0.0005",
           "[30, 165]"
          ],
          [
           "FL1:32 FL2:256 DR:0.3 BS:32 LR:0.0005",
           "[30, 165]"
          ],
          [
           "FL1:32 FL2:256 DR:0.3 BS:32 LR:0.0005",
           "[30, 165]"
          ],
          [
           "FL1:32 FL2:256 DR:0.3 BS:32 LR:0.0005",
           "[30, 165]"
          ],
          [
           "FL1:32 FL2:256 DR:0.3 BS:32 LR:0.0005",
           "[30, 165]"
          ],
          [
           "FL1:32 FL2:256 DR:0.3 BS:32 LR:0.0005",
           "[30, 165]"
          ],
          [
           "FL1:32 FL2:256 DR:0.3 BS:32 LR:0.0005",
           "[30, 165]"
          ],
          [
           "FL1:32 FL2:256 DR:0.3 BS:32 LR:0.0005",
           "[30, 165]"
          ],
          [
           "FL1:32 FL2:256 DR:0.3 BS:32 LR:0.0005",
           "[30, 165]"
          ],
          [
           "FL1:32 FL2:256 DR:0.3 BS:32 LR:0.0005",
           "[30, 165]"
          ],
          [
           "FL1:32 FL2:256 DR:0.3 BS:32 LR:0.0005",
           "[30, 165]"
          ],
          [
           "FL1:32 FL2:256 DR:0.3 BS:32 LR:0.0005",
           "[30, 165]"
          ],
          [
           "FL1:32 FL2:256 DR:0.3 BS:32 LR:0.0005",
           "[30, 165]"
          ],
          [
           "FL1:32 FL2:256 DR:0.3 BS:32 LR:0.0005",
           "[30, 165]"
          ],
          [
           "FL1:32 FL2:256 DR:0.3 BS:32 LR:0.0005",
           "[30, 165]"
          ],
          [
           "FL1:32 FL2:256 DR:0.3 BS:32 LR:0.0005",
           "[30, 165]"
          ],
          [
           "FL1:32 FL2:256 DR:0.3 BS:32 LR:0.0005",
           "[30, 165]"
          ],
          [
           "FL1:32 FL2:256 DR:0.3 BS:32 LR:0.0005",
           "[30, 165]"
          ],
          [
           "FL1:32 FL2:256 DR:0.3 BS:32 LR:0.0005",
           "[30, 165]"
          ],
          [
           "FL1:32 FL2:256 DR:0.3 BS:32 LR:0.0005",
           "[30, 165]"
          ],
          [
           "FL1:32 FL2:256 DR:0.3 BS:32 LR:0.0005",
           "[30, 165]"
          ],
          [
           "FL1:32 FL2:256 DR:0.3 BS:32 LR:0.0005",
           "[30, 165]"
          ],
          [
           "FL1:32 FL2:256 DR:0.3 BS:32 LR:0.0005",
           "[30, 165]"
          ],
          [
           "FL1:32 FL2:256 DR:0.3 BS:32 LR:0.0005",
           "[30, 165]"
          ],
          [
           "FL1:32 FL2:256 DR:0.3 BS:32 LR:0.0005",
           "[30, 165]"
          ],
          [
           "FL1:32 FL2:256 DR:0.3 BS:32 LR:0.0005",
           "[30, 165]"
          ],
          [
           "FL1:32 FL2:256 DR:0.3 BS:32 LR:0.0005",
           "[30, 165]"
          ],
          [
           "FL1:32 FL2:256 DR:0.3 BS:32 LR:0.0005",
           "[30, 165]"
          ],
          [
           "FL1:32 FL2:256 DR:0.3 BS:32 LR:0.0005",
           "[30, 165]"
          ],
          [
           "FL1:32 FL2:256 DR:0.3 BS:32 LR:0.0005",
           "[30, 165]"
          ],
          [
           "FL1:32 FL2:256 DR:0.3 BS:32 LR:0.0005",
           "[30, 165]"
          ],
          [
           "FL1:32 FL2:256 DR:0.3 BS:32 LR:0.0005",
           "[30, 165]"
          ],
          [
           "FL1:32 FL2:256 DR:0.3 BS:32 LR:0.0005",
           "[30, 165]"
          ],
          [
           "FL1:32 FL2:256 DR:0.3 BS:32 LR:0.0005",
           "[30, 165]"
          ],
          [
           "FL1:32 FL2:256 DR:0.3 BS:32 LR:0.0005",
           "[30, 165]"
          ],
          [
           "FL1:32 FL2:256 DR:0.3 BS:32 LR:0.0005",
           "[30, 165]"
          ],
          [
           "FL1:32 FL2:256 DR:0.3 BS:32 LR:0.0005",
           "[30, 165]"
          ],
          [
           "FL1:32 FL2:256 DR:0.3 BS:32 LR:0.0005",
           "[30, 165]"
          ],
          [
           "FL1:32 FL2:256 DR:0.3 BS:32 LR:0.0005",
           "[30, 165]"
          ],
          [
           "FL1:32 FL2:256 DR:0.3 BS:32 LR:0.0005",
           "[30, 165]"
          ],
          [
           "FL1:32 FL2:256 DR:0.3 BS:32 LR:0.0005",
           "[30, 165]"
          ],
          [
           "FL1:32 FL2:256 DR:0.3 BS:32 LR:0.0005",
           "[30, 165]"
          ],
          [
           "FL1:32 FL2:256 DR:0.3 BS:32 LR:0.0005",
           "[30, 165]"
          ]
         ],
         "hovertemplate": "variable=val_loss<br>trial_id=802fd_00119<br>epoch=%{x}<br>value=%{y}<br>Hyperparameters=%{customdata[0]}<br>checkpoints=%{customdata[1]}<extra></extra>",
         "legendgroup": "val_loss, 802fd_00119",
         "line": {
          "color": "#636efa",
          "dash": "longdash"
         },
         "marker": {
          "symbol": "circle"
         },
         "mode": "lines",
         "name": "val_loss, 802fd_00119",
         "showlegend": true,
         "type": "scattergl",
         "x": [
          0,
          1,
          2,
          3,
          4,
          5,
          6,
          7,
          8,
          9,
          10,
          11,
          12,
          13,
          14,
          15,
          16,
          17,
          18,
          19,
          20,
          21,
          22,
          23,
          24,
          25,
          26,
          27,
          28,
          29,
          30,
          31,
          32,
          33,
          34,
          35,
          36,
          37,
          38,
          39,
          40,
          41,
          42,
          43,
          44,
          45,
          46,
          47,
          48,
          49,
          50,
          51,
          52,
          53,
          54,
          55,
          56,
          57,
          58,
          59,
          60,
          61,
          62,
          63,
          64,
          65,
          66,
          67,
          68,
          69,
          70,
          71,
          72,
          73,
          74,
          75,
          76,
          77,
          78,
          79,
          80,
          81,
          82,
          83,
          84,
          85,
          86,
          87,
          88,
          89,
          90,
          91,
          92,
          93,
          94,
          95,
          96,
          97,
          98,
          99,
          100,
          101,
          102,
          103,
          104,
          105,
          106,
          107,
          108,
          109,
          110,
          111,
          112,
          113,
          114,
          115,
          116,
          117,
          118,
          119,
          120,
          121,
          122,
          123,
          124,
          125,
          126,
          127,
          128,
          129,
          130,
          131,
          132,
          133,
          134,
          135,
          136,
          137,
          138,
          139,
          140,
          141,
          142,
          143,
          144,
          145,
          146,
          147,
          148,
          149,
          150,
          151,
          152,
          153,
          154,
          155,
          156,
          157,
          158,
          159,
          160,
          161,
          162,
          163,
          164,
          165
         ],
         "xaxis": "x",
         "y": [
          0.5240635275840749,
          0.47266026337941347,
          0.42337680194112837,
          0.3905037464918897,
          0.36852021828109666,
          0.35104470660166304,
          0.33216983550042756,
          0.3196331889977108,
          0.3102697949641308,
          0.30201938225384245,
          0.2976763114237494,
          0.29492227335133137,
          0.29084085159406337,
          0.28885650789012635,
          0.29407493376248434,
          0.29829231635407116,
          0.3048142740175155,
          0.3041864997178328,
          0.30910811265508353,
          0.31596135391261787,
          0.311958010285871,
          0.3207316864131397,
          0.33499809229363964,
          0.3330104392368918,
          0.32007324971088547,
          0.33771593555694596,
          0.3356040893984217,
          0.3429463326263671,
          0.3454068282795108,
          0.37330365045548436,
          0.35465365557989054,
          0.35440139909002827,
          0.4013305434876912,
          0.39516469699106094,
          0.4054619760113382,
          0.4379246891072994,
          0.4564449529205158,
          0.4510194288594445,
          0.4406794360546873,
          0.4602994456071715,
          0.4517372538102367,
          0.5297603600192519,
          0.49220808300498053,
          0.4700145056057161,
          0.47245008284569934,
          0.48435845331828464,
          0.45228156021224486,
          0.4570452145138508,
          0.46726568681658054,
          0.4956617099885184,
          0.4853259651425166,
          0.4557012835186503,
          0.4731162534185096,
          0.471931718854628,
          0.4555395497669914,
          0.4564272631400244,
          0.48052308090484147,
          0.4738668807874512,
          0.4740935271667359,
          0.5282278462043669,
          0.5080799032443929,
          0.5560565702911316,
          0.5346284285383811,
          0.5340780665607833,
          0.5130499137859589,
          0.5592232832260282,
          0.583723100619007,
          0.5690810300220961,
          0.6056623205416661,
          0.5829807549631096,
          0.654632192844515,
          0.5941535115204677,
          0.557341090835625,
          0.5500024305432986,
          0.5180266431073306,
          0.5358120952116079,
          0.5745215716671022,
          0.5669448377497366,
          0.5709309976503156,
          0.5786507991423134,
          0.6042062618646293,
          0.6159997170708743,
          0.6047871434385346,
          0.6282111024654408,
          0.6223865095639547,
          0.629250045873344,
          0.5874023611397337,
          0.6094207283556973,
          0.6386241394083032,
          0.6237619968123113,
          0.6175088784341585,
          0.6380293105207915,
          0.7100094579433739,
          0.6606027499023623,
          0.6455845246833914,
          0.6236596312868818,
          0.6520819800925389,
          0.6381140839942374,
          0.6323941079701357,
          0.5925194440898206,
          0.5735088864046263,
          0.5394724394929351,
          0.5693544206388741,
          0.5683525242651789,
          0.6112618670361086,
          0.6017815818718293,
          0.6557384166671963,
          0.7366694234181843,
          0.7302427108002625,
          0.7405244386800724,
          0.7352768961991587,
          0.7145316126880181,
          0.7103712044117922,
          0.670422281288972,
          0.6381319731234636,
          0.6183417419433003,
          0.648143230533559,
          0.6401070148785626,
          0.6307479203435908,
          0.6711886167985273,
          0.679104900390708,
          0.698703372498884,
          0.6931226015226922,
          0.7051602641832073,
          0.6674685902126115,
          0.6940168226247007,
          0.6873545503937505,
          0.6684314910784884,
          0.7274971011092596,
          0.720826169041151,
          0.7282862002235995,
          0.687021469711087,
          0.6743081249388191,
          0.7239098375103281,
          0.7412423971667146,
          0.7567883851378647,
          0.7280170799791461,
          0.703827015658195,
          0.6940337963236526,
          0.7053479517389094,
          0.7308556414239096,
          0.7259690150017518,
          0.7549405286308762,
          0.7226098106699927,
          0.7426909358235015,
          0.800682872595508,
          0.734079043111614,
          0.7231331931494406,
          0.749446045487636,
          0.7429440691269183,
          0.7295246769452575,
          0.7363671295817997,
          0.7560280914423388,
          0.7007620768624879,
          0.6625563990326935,
          0.65075086827094,
          0.6550036024717122,
          0.6550801364360656,
          0.6667256135263964,
          0.6836988580570554,
          0.678589857442241,
          0.6812122708049477,
          0.6738570892471102,
          0.6709912395250802,
          0.6691488210209201,
          0.7035531324709765
         ],
         "yaxis": "y"
        },
        {
         "customdata": [
          [
           "FL1:128 FL2:512 DR:0.5 BS:64 LR:0.001",
           "[199, 173]"
          ],
          [
           "FL1:128 FL2:512 DR:0.5 BS:64 LR:0.001",
           "[199, 173]"
          ],
          [
           "FL1:128 FL2:512 DR:0.5 BS:64 LR:0.001",
           "[199, 173]"
          ],
          [
           "FL1:128 FL2:512 DR:0.5 BS:64 LR:0.001",
           "[199, 173]"
          ],
          [
           "FL1:128 FL2:512 DR:0.5 BS:64 LR:0.001",
           "[199, 173]"
          ],
          [
           "FL1:128 FL2:512 DR:0.5 BS:64 LR:0.001",
           "[199, 173]"
          ],
          [
           "FL1:128 FL2:512 DR:0.5 BS:64 LR:0.001",
           "[199, 173]"
          ],
          [
           "FL1:128 FL2:512 DR:0.5 BS:64 LR:0.001",
           "[199, 173]"
          ],
          [
           "FL1:128 FL2:512 DR:0.5 BS:64 LR:0.001",
           "[199, 173]"
          ],
          [
           "FL1:128 FL2:512 DR:0.5 BS:64 LR:0.001",
           "[199, 173]"
          ],
          [
           "FL1:128 FL2:512 DR:0.5 BS:64 LR:0.001",
           "[199, 173]"
          ],
          [
           "FL1:128 FL2:512 DR:0.5 BS:64 LR:0.001",
           "[199, 173]"
          ],
          [
           "FL1:128 FL2:512 DR:0.5 BS:64 LR:0.001",
           "[199, 173]"
          ],
          [
           "FL1:128 FL2:512 DR:0.5 BS:64 LR:0.001",
           "[199, 173]"
          ],
          [
           "FL1:128 FL2:512 DR:0.5 BS:64 LR:0.001",
           "[199, 173]"
          ],
          [
           "FL1:128 FL2:512 DR:0.5 BS:64 LR:0.001",
           "[199, 173]"
          ],
          [
           "FL1:128 FL2:512 DR:0.5 BS:64 LR:0.001",
           "[199, 173]"
          ],
          [
           "FL1:128 FL2:512 DR:0.5 BS:64 LR:0.001",
           "[199, 173]"
          ],
          [
           "FL1:128 FL2:512 DR:0.5 BS:64 LR:0.001",
           "[199, 173]"
          ],
          [
           "FL1:128 FL2:512 DR:0.5 BS:64 LR:0.001",
           "[199, 173]"
          ],
          [
           "FL1:128 FL2:512 DR:0.5 BS:64 LR:0.001",
           "[199, 173]"
          ],
          [
           "FL1:128 FL2:512 DR:0.5 BS:64 LR:0.001",
           "[199, 173]"
          ],
          [
           "FL1:128 FL2:512 DR:0.5 BS:64 LR:0.001",
           "[199, 173]"
          ],
          [
           "FL1:128 FL2:512 DR:0.5 BS:64 LR:0.001",
           "[199, 173]"
          ],
          [
           "FL1:128 FL2:512 DR:0.5 BS:64 LR:0.001",
           "[199, 173]"
          ],
          [
           "FL1:128 FL2:512 DR:0.5 BS:64 LR:0.001",
           "[199, 173]"
          ],
          [
           "FL1:128 FL2:512 DR:0.5 BS:64 LR:0.001",
           "[199, 173]"
          ],
          [
           "FL1:128 FL2:512 DR:0.5 BS:64 LR:0.001",
           "[199, 173]"
          ],
          [
           "FL1:128 FL2:512 DR:0.5 BS:64 LR:0.001",
           "[199, 173]"
          ],
          [
           "FL1:128 FL2:512 DR:0.5 BS:64 LR:0.001",
           "[199, 173]"
          ],
          [
           "FL1:128 FL2:512 DR:0.5 BS:64 LR:0.001",
           "[199, 173]"
          ],
          [
           "FL1:128 FL2:512 DR:0.5 BS:64 LR:0.001",
           "[199, 173]"
          ],
          [
           "FL1:128 FL2:512 DR:0.5 BS:64 LR:0.001",
           "[199, 173]"
          ],
          [
           "FL1:128 FL2:512 DR:0.5 BS:64 LR:0.001",
           "[199, 173]"
          ],
          [
           "FL1:128 FL2:512 DR:0.5 BS:64 LR:0.001",
           "[199, 173]"
          ],
          [
           "FL1:128 FL2:512 DR:0.5 BS:64 LR:0.001",
           "[199, 173]"
          ],
          [
           "FL1:128 FL2:512 DR:0.5 BS:64 LR:0.001",
           "[199, 173]"
          ],
          [
           "FL1:128 FL2:512 DR:0.5 BS:64 LR:0.001",
           "[199, 173]"
          ],
          [
           "FL1:128 FL2:512 DR:0.5 BS:64 LR:0.001",
           "[199, 173]"
          ],
          [
           "FL1:128 FL2:512 DR:0.5 BS:64 LR:0.001",
           "[199, 173]"
          ],
          [
           "FL1:128 FL2:512 DR:0.5 BS:64 LR:0.001",
           "[199, 173]"
          ],
          [
           "FL1:128 FL2:512 DR:0.5 BS:64 LR:0.001",
           "[199, 173]"
          ],
          [
           "FL1:128 FL2:512 DR:0.5 BS:64 LR:0.001",
           "[199, 173]"
          ],
          [
           "FL1:128 FL2:512 DR:0.5 BS:64 LR:0.001",
           "[199, 173]"
          ],
          [
           "FL1:128 FL2:512 DR:0.5 BS:64 LR:0.001",
           "[199, 173]"
          ],
          [
           "FL1:128 FL2:512 DR:0.5 BS:64 LR:0.001",
           "[199, 173]"
          ],
          [
           "FL1:128 FL2:512 DR:0.5 BS:64 LR:0.001",
           "[199, 173]"
          ],
          [
           "FL1:128 FL2:512 DR:0.5 BS:64 LR:0.001",
           "[199, 173]"
          ],
          [
           "FL1:128 FL2:512 DR:0.5 BS:64 LR:0.001",
           "[199, 173]"
          ],
          [
           "FL1:128 FL2:512 DR:0.5 BS:64 LR:0.001",
           "[199, 173]"
          ],
          [
           "FL1:128 FL2:512 DR:0.5 BS:64 LR:0.001",
           "[199, 173]"
          ],
          [
           "FL1:128 FL2:512 DR:0.5 BS:64 LR:0.001",
           "[199, 173]"
          ],
          [
           "FL1:128 FL2:512 DR:0.5 BS:64 LR:0.001",
           "[199, 173]"
          ],
          [
           "FL1:128 FL2:512 DR:0.5 BS:64 LR:0.001",
           "[199, 173]"
          ],
          [
           "FL1:128 FL2:512 DR:0.5 BS:64 LR:0.001",
           "[199, 173]"
          ],
          [
           "FL1:128 FL2:512 DR:0.5 BS:64 LR:0.001",
           "[199, 173]"
          ],
          [
           "FL1:128 FL2:512 DR:0.5 BS:64 LR:0.001",
           "[199, 173]"
          ],
          [
           "FL1:128 FL2:512 DR:0.5 BS:64 LR:0.001",
           "[199, 173]"
          ],
          [
           "FL1:128 FL2:512 DR:0.5 BS:64 LR:0.001",
           "[199, 173]"
          ],
          [
           "FL1:128 FL2:512 DR:0.5 BS:64 LR:0.001",
           "[199, 173]"
          ],
          [
           "FL1:128 FL2:512 DR:0.5 BS:64 LR:0.001",
           "[199, 173]"
          ],
          [
           "FL1:128 FL2:512 DR:0.5 BS:64 LR:0.001",
           "[199, 173]"
          ],
          [
           "FL1:128 FL2:512 DR:0.5 BS:64 LR:0.001",
           "[199, 173]"
          ],
          [
           "FL1:128 FL2:512 DR:0.5 BS:64 LR:0.001",
           "[199, 173]"
          ],
          [
           "FL1:128 FL2:512 DR:0.5 BS:64 LR:0.001",
           "[199, 173]"
          ],
          [
           "FL1:128 FL2:512 DR:0.5 BS:64 LR:0.001",
           "[199, 173]"
          ],
          [
           "FL1:128 FL2:512 DR:0.5 BS:64 LR:0.001",
           "[199, 173]"
          ],
          [
           "FL1:128 FL2:512 DR:0.5 BS:64 LR:0.001",
           "[199, 173]"
          ],
          [
           "FL1:128 FL2:512 DR:0.5 BS:64 LR:0.001",
           "[199, 173]"
          ],
          [
           "FL1:128 FL2:512 DR:0.5 BS:64 LR:0.001",
           "[199, 173]"
          ],
          [
           "FL1:128 FL2:512 DR:0.5 BS:64 LR:0.001",
           "[199, 173]"
          ],
          [
           "FL1:128 FL2:512 DR:0.5 BS:64 LR:0.001",
           "[199, 173]"
          ],
          [
           "FL1:128 FL2:512 DR:0.5 BS:64 LR:0.001",
           "[199, 173]"
          ],
          [
           "FL1:128 FL2:512 DR:0.5 BS:64 LR:0.001",
           "[199, 173]"
          ],
          [
           "FL1:128 FL2:512 DR:0.5 BS:64 LR:0.001",
           "[199, 173]"
          ],
          [
           "FL1:128 FL2:512 DR:0.5 BS:64 LR:0.001",
           "[199, 173]"
          ],
          [
           "FL1:128 FL2:512 DR:0.5 BS:64 LR:0.001",
           "[199, 173]"
          ],
          [
           "FL1:128 FL2:512 DR:0.5 BS:64 LR:0.001",
           "[199, 173]"
          ],
          [
           "FL1:128 FL2:512 DR:0.5 BS:64 LR:0.001",
           "[199, 173]"
          ],
          [
           "FL1:128 FL2:512 DR:0.5 BS:64 LR:0.001",
           "[199, 173]"
          ],
          [
           "FL1:128 FL2:512 DR:0.5 BS:64 LR:0.001",
           "[199, 173]"
          ],
          [
           "FL1:128 FL2:512 DR:0.5 BS:64 LR:0.001",
           "[199, 173]"
          ],
          [
           "FL1:128 FL2:512 DR:0.5 BS:64 LR:0.001",
           "[199, 173]"
          ],
          [
           "FL1:128 FL2:512 DR:0.5 BS:64 LR:0.001",
           "[199, 173]"
          ],
          [
           "FL1:128 FL2:512 DR:0.5 BS:64 LR:0.001",
           "[199, 173]"
          ],
          [
           "FL1:128 FL2:512 DR:0.5 BS:64 LR:0.001",
           "[199, 173]"
          ],
          [
           "FL1:128 FL2:512 DR:0.5 BS:64 LR:0.001",
           "[199, 173]"
          ],
          [
           "FL1:128 FL2:512 DR:0.5 BS:64 LR:0.001",
           "[199, 173]"
          ],
          [
           "FL1:128 FL2:512 DR:0.5 BS:64 LR:0.001",
           "[199, 173]"
          ],
          [
           "FL1:128 FL2:512 DR:0.5 BS:64 LR:0.001",
           "[199, 173]"
          ],
          [
           "FL1:128 FL2:512 DR:0.5 BS:64 LR:0.001",
           "[199, 173]"
          ],
          [
           "FL1:128 FL2:512 DR:0.5 BS:64 LR:0.001",
           "[199, 173]"
          ],
          [
           "FL1:128 FL2:512 DR:0.5 BS:64 LR:0.001",
           "[199, 173]"
          ],
          [
           "FL1:128 FL2:512 DR:0.5 BS:64 LR:0.001",
           "[199, 173]"
          ],
          [
           "FL1:128 FL2:512 DR:0.5 BS:64 LR:0.001",
           "[199, 173]"
          ],
          [
           "FL1:128 FL2:512 DR:0.5 BS:64 LR:0.001",
           "[199, 173]"
          ],
          [
           "FL1:128 FL2:512 DR:0.5 BS:64 LR:0.001",
           "[199, 173]"
          ],
          [
           "FL1:128 FL2:512 DR:0.5 BS:64 LR:0.001",
           "[199, 173]"
          ],
          [
           "FL1:128 FL2:512 DR:0.5 BS:64 LR:0.001",
           "[199, 173]"
          ],
          [
           "FL1:128 FL2:512 DR:0.5 BS:64 LR:0.001",
           "[199, 173]"
          ],
          [
           "FL1:128 FL2:512 DR:0.5 BS:64 LR:0.001",
           "[199, 173]"
          ],
          [
           "FL1:128 FL2:512 DR:0.5 BS:64 LR:0.001",
           "[199, 173]"
          ],
          [
           "FL1:128 FL2:512 DR:0.5 BS:64 LR:0.001",
           "[199, 173]"
          ],
          [
           "FL1:128 FL2:512 DR:0.5 BS:64 LR:0.001",
           "[199, 173]"
          ],
          [
           "FL1:128 FL2:512 DR:0.5 BS:64 LR:0.001",
           "[199, 173]"
          ],
          [
           "FL1:128 FL2:512 DR:0.5 BS:64 LR:0.001",
           "[199, 173]"
          ],
          [
           "FL1:128 FL2:512 DR:0.5 BS:64 LR:0.001",
           "[199, 173]"
          ],
          [
           "FL1:128 FL2:512 DR:0.5 BS:64 LR:0.001",
           "[199, 173]"
          ],
          [
           "FL1:128 FL2:512 DR:0.5 BS:64 LR:0.001",
           "[199, 173]"
          ],
          [
           "FL1:128 FL2:512 DR:0.5 BS:64 LR:0.001",
           "[199, 173]"
          ],
          [
           "FL1:128 FL2:512 DR:0.5 BS:64 LR:0.001",
           "[199, 173]"
          ],
          [
           "FL1:128 FL2:512 DR:0.5 BS:64 LR:0.001",
           "[199, 173]"
          ],
          [
           "FL1:128 FL2:512 DR:0.5 BS:64 LR:0.001",
           "[199, 173]"
          ],
          [
           "FL1:128 FL2:512 DR:0.5 BS:64 LR:0.001",
           "[199, 173]"
          ],
          [
           "FL1:128 FL2:512 DR:0.5 BS:64 LR:0.001",
           "[199, 173]"
          ],
          [
           "FL1:128 FL2:512 DR:0.5 BS:64 LR:0.001",
           "[199, 173]"
          ],
          [
           "FL1:128 FL2:512 DR:0.5 BS:64 LR:0.001",
           "[199, 173]"
          ],
          [
           "FL1:128 FL2:512 DR:0.5 BS:64 LR:0.001",
           "[199, 173]"
          ],
          [
           "FL1:128 FL2:512 DR:0.5 BS:64 LR:0.001",
           "[199, 173]"
          ],
          [
           "FL1:128 FL2:512 DR:0.5 BS:64 LR:0.001",
           "[199, 173]"
          ],
          [
           "FL1:128 FL2:512 DR:0.5 BS:64 LR:0.001",
           "[199, 173]"
          ],
          [
           "FL1:128 FL2:512 DR:0.5 BS:64 LR:0.001",
           "[199, 173]"
          ],
          [
           "FL1:128 FL2:512 DR:0.5 BS:64 LR:0.001",
           "[199, 173]"
          ],
          [
           "FL1:128 FL2:512 DR:0.5 BS:64 LR:0.001",
           "[199, 173]"
          ],
          [
           "FL1:128 FL2:512 DR:0.5 BS:64 LR:0.001",
           "[199, 173]"
          ],
          [
           "FL1:128 FL2:512 DR:0.5 BS:64 LR:0.001",
           "[199, 173]"
          ],
          [
           "FL1:128 FL2:512 DR:0.5 BS:64 LR:0.001",
           "[199, 173]"
          ],
          [
           "FL1:128 FL2:512 DR:0.5 BS:64 LR:0.001",
           "[199, 173]"
          ],
          [
           "FL1:128 FL2:512 DR:0.5 BS:64 LR:0.001",
           "[199, 173]"
          ],
          [
           "FL1:128 FL2:512 DR:0.5 BS:64 LR:0.001",
           "[199, 173]"
          ],
          [
           "FL1:128 FL2:512 DR:0.5 BS:64 LR:0.001",
           "[199, 173]"
          ],
          [
           "FL1:128 FL2:512 DR:0.5 BS:64 LR:0.001",
           "[199, 173]"
          ],
          [
           "FL1:128 FL2:512 DR:0.5 BS:64 LR:0.001",
           "[199, 173]"
          ],
          [
           "FL1:128 FL2:512 DR:0.5 BS:64 LR:0.001",
           "[199, 173]"
          ],
          [
           "FL1:128 FL2:512 DR:0.5 BS:64 LR:0.001",
           "[199, 173]"
          ],
          [
           "FL1:128 FL2:512 DR:0.5 BS:64 LR:0.001",
           "[199, 173]"
          ],
          [
           "FL1:128 FL2:512 DR:0.5 BS:64 LR:0.001",
           "[199, 173]"
          ],
          [
           "FL1:128 FL2:512 DR:0.5 BS:64 LR:0.001",
           "[199, 173]"
          ],
          [
           "FL1:128 FL2:512 DR:0.5 BS:64 LR:0.001",
           "[199, 173]"
          ],
          [
           "FL1:128 FL2:512 DR:0.5 BS:64 LR:0.001",
           "[199, 173]"
          ],
          [
           "FL1:128 FL2:512 DR:0.5 BS:64 LR:0.001",
           "[199, 173]"
          ],
          [
           "FL1:128 FL2:512 DR:0.5 BS:64 LR:0.001",
           "[199, 173]"
          ],
          [
           "FL1:128 FL2:512 DR:0.5 BS:64 LR:0.001",
           "[199, 173]"
          ],
          [
           "FL1:128 FL2:512 DR:0.5 BS:64 LR:0.001",
           "[199, 173]"
          ],
          [
           "FL1:128 FL2:512 DR:0.5 BS:64 LR:0.001",
           "[199, 173]"
          ],
          [
           "FL1:128 FL2:512 DR:0.5 BS:64 LR:0.001",
           "[199, 173]"
          ],
          [
           "FL1:128 FL2:512 DR:0.5 BS:64 LR:0.001",
           "[199, 173]"
          ],
          [
           "FL1:128 FL2:512 DR:0.5 BS:64 LR:0.001",
           "[199, 173]"
          ],
          [
           "FL1:128 FL2:512 DR:0.5 BS:64 LR:0.001",
           "[199, 173]"
          ],
          [
           "FL1:128 FL2:512 DR:0.5 BS:64 LR:0.001",
           "[199, 173]"
          ],
          [
           "FL1:128 FL2:512 DR:0.5 BS:64 LR:0.001",
           "[199, 173]"
          ],
          [
           "FL1:128 FL2:512 DR:0.5 BS:64 LR:0.001",
           "[199, 173]"
          ],
          [
           "FL1:128 FL2:512 DR:0.5 BS:64 LR:0.001",
           "[199, 173]"
          ],
          [
           "FL1:128 FL2:512 DR:0.5 BS:64 LR:0.001",
           "[199, 173]"
          ],
          [
           "FL1:128 FL2:512 DR:0.5 BS:64 LR:0.001",
           "[199, 173]"
          ],
          [
           "FL1:128 FL2:512 DR:0.5 BS:64 LR:0.001",
           "[199, 173]"
          ],
          [
           "FL1:128 FL2:512 DR:0.5 BS:64 LR:0.001",
           "[199, 173]"
          ],
          [
           "FL1:128 FL2:512 DR:0.5 BS:64 LR:0.001",
           "[199, 173]"
          ],
          [
           "FL1:128 FL2:512 DR:0.5 BS:64 LR:0.001",
           "[199, 173]"
          ],
          [
           "FL1:128 FL2:512 DR:0.5 BS:64 LR:0.001",
           "[199, 173]"
          ],
          [
           "FL1:128 FL2:512 DR:0.5 BS:64 LR:0.001",
           "[199, 173]"
          ],
          [
           "FL1:128 FL2:512 DR:0.5 BS:64 LR:0.001",
           "[199, 173]"
          ],
          [
           "FL1:128 FL2:512 DR:0.5 BS:64 LR:0.001",
           "[199, 173]"
          ],
          [
           "FL1:128 FL2:512 DR:0.5 BS:64 LR:0.001",
           "[199, 173]"
          ],
          [
           "FL1:128 FL2:512 DR:0.5 BS:64 LR:0.001",
           "[199, 173]"
          ],
          [
           "FL1:128 FL2:512 DR:0.5 BS:64 LR:0.001",
           "[199, 173]"
          ],
          [
           "FL1:128 FL2:512 DR:0.5 BS:64 LR:0.001",
           "[199, 173]"
          ],
          [
           "FL1:128 FL2:512 DR:0.5 BS:64 LR:0.001",
           "[199, 173]"
          ],
          [
           "FL1:128 FL2:512 DR:0.5 BS:64 LR:0.001",
           "[199, 173]"
          ],
          [
           "FL1:128 FL2:512 DR:0.5 BS:64 LR:0.001",
           "[199, 173]"
          ],
          [
           "FL1:128 FL2:512 DR:0.5 BS:64 LR:0.001",
           "[199, 173]"
          ],
          [
           "FL1:128 FL2:512 DR:0.5 BS:64 LR:0.001",
           "[199, 173]"
          ],
          [
           "FL1:128 FL2:512 DR:0.5 BS:64 LR:0.001",
           "[199, 173]"
          ],
          [
           "FL1:128 FL2:512 DR:0.5 BS:64 LR:0.001",
           "[199, 173]"
          ],
          [
           "FL1:128 FL2:512 DR:0.5 BS:64 LR:0.001",
           "[199, 173]"
          ],
          [
           "FL1:128 FL2:512 DR:0.5 BS:64 LR:0.001",
           "[199, 173]"
          ],
          [
           "FL1:128 FL2:512 DR:0.5 BS:64 LR:0.001",
           "[199, 173]"
          ],
          [
           "FL1:128 FL2:512 DR:0.5 BS:64 LR:0.001",
           "[199, 173]"
          ],
          [
           "FL1:128 FL2:512 DR:0.5 BS:64 LR:0.001",
           "[199, 173]"
          ],
          [
           "FL1:128 FL2:512 DR:0.5 BS:64 LR:0.001",
           "[199, 173]"
          ],
          [
           "FL1:128 FL2:512 DR:0.5 BS:64 LR:0.001",
           "[199, 173]"
          ],
          [
           "FL1:128 FL2:512 DR:0.5 BS:64 LR:0.001",
           "[199, 173]"
          ],
          [
           "FL1:128 FL2:512 DR:0.5 BS:64 LR:0.001",
           "[199, 173]"
          ],
          [
           "FL1:128 FL2:512 DR:0.5 BS:64 LR:0.001",
           "[199, 173]"
          ],
          [
           "FL1:128 FL2:512 DR:0.5 BS:64 LR:0.001",
           "[199, 173]"
          ],
          [
           "FL1:128 FL2:512 DR:0.5 BS:64 LR:0.001",
           "[199, 173]"
          ],
          [
           "FL1:128 FL2:512 DR:0.5 BS:64 LR:0.001",
           "[199, 173]"
          ],
          [
           "FL1:128 FL2:512 DR:0.5 BS:64 LR:0.001",
           "[199, 173]"
          ],
          [
           "FL1:128 FL2:512 DR:0.5 BS:64 LR:0.001",
           "[199, 173]"
          ],
          [
           "FL1:128 FL2:512 DR:0.5 BS:64 LR:0.001",
           "[199, 173]"
          ],
          [
           "FL1:128 FL2:512 DR:0.5 BS:64 LR:0.001",
           "[199, 173]"
          ],
          [
           "FL1:128 FL2:512 DR:0.5 BS:64 LR:0.001",
           "[199, 173]"
          ],
          [
           "FL1:128 FL2:512 DR:0.5 BS:64 LR:0.001",
           "[199, 173]"
          ],
          [
           "FL1:128 FL2:512 DR:0.5 BS:64 LR:0.001",
           "[199, 173]"
          ],
          [
           "FL1:128 FL2:512 DR:0.5 BS:64 LR:0.001",
           "[199, 173]"
          ],
          [
           "FL1:128 FL2:512 DR:0.5 BS:64 LR:0.001",
           "[199, 173]"
          ],
          [
           "FL1:128 FL2:512 DR:0.5 BS:64 LR:0.001",
           "[199, 173]"
          ],
          [
           "FL1:128 FL2:512 DR:0.5 BS:64 LR:0.001",
           "[199, 173]"
          ],
          [
           "FL1:128 FL2:512 DR:0.5 BS:64 LR:0.001",
           "[199, 173]"
          ],
          [
           "FL1:128 FL2:512 DR:0.5 BS:64 LR:0.001",
           "[199, 173]"
          ]
         ],
         "hovertemplate": "variable=train_loss<br>trial_id=802fd_00008<br>epoch=%{x}<br>value=%{y}<br>Hyperparameters=%{customdata[0]}<br>checkpoints=%{customdata[1]}<extra></extra>",
         "legendgroup": "train_loss, 802fd_00008",
         "line": {
          "color": "#EF553B",
          "dash": "solid"
         },
         "marker": {
          "symbol": "circle"
         },
         "mode": "lines",
         "name": "train_loss, 802fd_00008",
         "showlegend": true,
         "type": "scattergl",
         "x": [
          0,
          1,
          2,
          3,
          4,
          5,
          6,
          7,
          8,
          9,
          10,
          11,
          12,
          13,
          14,
          15,
          16,
          17,
          18,
          19,
          20,
          21,
          22,
          23,
          24,
          25,
          26,
          27,
          28,
          29,
          30,
          31,
          32,
          33,
          34,
          35,
          36,
          37,
          38,
          39,
          40,
          41,
          42,
          43,
          44,
          45,
          46,
          47,
          48,
          49,
          50,
          51,
          52,
          53,
          54,
          55,
          56,
          57,
          58,
          59,
          60,
          61,
          62,
          63,
          64,
          65,
          66,
          67,
          68,
          69,
          70,
          71,
          72,
          73,
          74,
          75,
          76,
          77,
          78,
          79,
          80,
          81,
          82,
          83,
          84,
          85,
          86,
          87,
          88,
          89,
          90,
          91,
          92,
          93,
          94,
          95,
          96,
          97,
          98,
          99,
          100,
          101,
          102,
          103,
          104,
          105,
          106,
          107,
          108,
          109,
          110,
          111,
          112,
          113,
          114,
          115,
          116,
          117,
          118,
          119,
          120,
          121,
          122,
          123,
          124,
          125,
          126,
          127,
          128,
          129,
          130,
          131,
          132,
          133,
          134,
          135,
          136,
          137,
          138,
          139,
          140,
          141,
          142,
          143,
          144,
          145,
          146,
          147,
          148,
          149,
          150,
          151,
          152,
          153,
          154,
          155,
          156,
          157,
          158,
          159,
          160,
          161,
          162,
          163,
          164,
          165,
          166,
          167,
          168,
          169,
          170,
          171,
          172,
          173,
          174,
          175,
          176,
          177,
          178,
          179,
          180,
          181,
          182,
          183,
          184,
          185,
          186,
          187,
          188,
          189,
          190,
          191,
          192,
          193,
          194,
          195,
          196,
          197,
          198,
          199
         ],
         "xaxis": "x",
         "y": [
          0.2447392940521234,
          0.23674941559632526,
          0.2621867093774994,
          0.2602800152919895,
          0.23211463936316973,
          0.20911554262471163,
          0.22301704198408043,
          0.18251741518767597,
          0.2029203811631721,
          0.23596740029560928,
          0.22322913681339773,
          0.30715915345398176,
          0.24008688435453543,
          0.22550345530442595,
          0.19240455541565787,
          0.17766726655135362,
          0.15397058107700456,
          0.14899793054161112,
          0.12346417563158682,
          0.13851066501271955,
          0.1470397996990692,
          0.144049747989496,
          0.16787468837759206,
          0.13871433716390716,
          0.1352332292753732,
          0.1516737629147549,
          0.13466568467830126,
          0.11735955991887034,
          0.12601626660123752,
          0.13032971816390906,
          0.11681748759170456,
          0.1341196088752483,
          0.11504087439916744,
          0.10032872005795233,
          0.09609254876437956,
          0.09882433748684416,
          0.09513698542410834,
          0.1502212883650899,
          0.13257355750399408,
          0.1270931819134125,
          0.15720216989869282,
          0.15596060991521907,
          0.1450752577201273,
          0.12562164157733274,
          0.16152356227308426,
          0.15014739109456451,
          0.12802931267936946,
          0.13724919391287604,
          0.11500072219380549,
          0.1356975418886128,
          0.11273924642540217,
          0.09281228612685988,
          0.0982033097467472,
          0.09902627078835474,
          0.11123663722239771,
          0.16558978318348685,
          0.14370655257950307,
          0.12452268345124225,
          0.08962282616540253,
          0.06364489554047224,
          0.11829176683346132,
          0.08725059559192717,
          0.08304767910140377,
          0.07323507991762693,
          0.06665849082888309,
          0.06615668381731457,
          0.08656911449618271,
          0.1405671679111788,
          0.12748996867951196,
          0.12425740281221866,
          0.13104945069867735,
          0.0954703168492738,
          0.09629982222591636,
          0.10804858975592421,
          0.08877472569865086,
          0.09816459559945302,
          0.0817210214406121,
          0.06779022180834524,
          0.05543576454983219,
          0.06779994749934164,
          0.06005689706345842,
          0.07105485982987884,
          0.095044726380332,
          0.09398508436058846,
          0.08944096907360592,
          0.08752512514182732,
          0.07213164587543268,
          0.07342426044891828,
          0.09416808395352963,
          0.0905209669389127,
          0.08006794015022092,
          0.0847497806579003,
          0.08494159583450199,
          0.08143234504064462,
          0.11089695164097994,
          0.12488260314553044,
          0.12921921541749778,
          0.11102899415929658,
          0.10749334761592748,
          0.09596535013180955,
          0.08895525466112267,
          0.10203980989395195,
          0.09646298711259219,
          0.10295985622378859,
          0.08762684825839366,
          0.0781987581900871,
          0.06597959079690208,
          0.06077118600969452,
          0.09195484973036501,
          0.07863775893743324,
          0.08263903528250226,
          0.13421032607420869,
          0.15310396770546514,
          0.147889488405053,
          0.11210129722361038,
          0.11634189843736902,
          0.0890155510578076,
          0.06207677328162852,
          0.08861718809322124,
          0.07456555663357568,
          0.07444243181950759,
          0.07597160371943897,
          0.061948733000653136,
          0.07963897633466238,
          0.06997165686827961,
          0.05635187493888571,
          0.07360927324909629,
          0.07496520586423495,
          0.06564154406463041,
          0.05246978020552081,
          0.06225895229898061,
          0.05500467680508658,
          0.06599456444458651,
          0.06374257306308523,
          0.07106378343403964,
          0.05339024305642062,
          0.06611103127599013,
          0.047986397400996736,
          0.05320294317636317,
          0.06439635483445984,
          0.053114852867340065,
          0.11014869250311729,
          0.09562576437959575,
          0.10558999992058976,
          0.07475840803912148,
          0.05845394817942283,
          0.04499480434890519,
          0.04246598934886134,
          0.07186443412143141,
          0.06456903403890218,
          0.06161512706605636,
          0.07814118695873684,
          0.07125489327721225,
          0.06066925766343814,
          0.04489401969081784,
          0.039703566947027126,
          0.05987581635080689,
          0.04216861228893471,
          0.047355883242357094,
          0.04506081370623124,
          0.05330417820553768,
          0.06020235117104822,
          0.06037330525336763,
          0.05365614897488279,
          0.07214693431376537,
          0.06515549548347196,
          0.053127859758863104,
          0.04652626132139173,
          0.035372920455492854,
          0.02769398604214671,
          0.024473348065419166,
          0.06589328832374851,
          0.055755432443134155,
          0.04016782699115549,
          0.035177493355919666,
          0.03774044406894151,
          0.038089864734035646,
          0.036184891335316355,
          0.06933350316163389,
          0.05779446174023201,
          0.06536243530987115,
          0.05407627331136597,
          0.05311980616330379,
          0.11129688071727213,
          0.08366969209591181,
          0.06211161415066733,
          0.061832437831735546,
          0.05331984446682915,
          0.04969135985598543,
          0.06219886700859035,
          0.05329716883136399,
          0.047195123679330306,
          0.06289920843103858,
          0.08134969248678477,
          0.07127310658035127,
          0.048772706083166584,
          0.05722929189053357,
          0.09308287269173143,
          0.09016688261626855,
          0.08620018822748572
         ],
         "yaxis": "y"
        },
        {
         "customdata": [
          [
           "FL1:256 FL2:16 DR:0.5 BS:32 LR:0.0001",
           "[113, 199]"
          ],
          [
           "FL1:256 FL2:16 DR:0.5 BS:32 LR:0.0001",
           "[113, 199]"
          ],
          [
           "FL1:256 FL2:16 DR:0.5 BS:32 LR:0.0001",
           "[113, 199]"
          ],
          [
           "FL1:256 FL2:16 DR:0.5 BS:32 LR:0.0001",
           "[113, 199]"
          ],
          [
           "FL1:256 FL2:16 DR:0.5 BS:32 LR:0.0001",
           "[113, 199]"
          ],
          [
           "FL1:256 FL2:16 DR:0.5 BS:32 LR:0.0001",
           "[113, 199]"
          ],
          [
           "FL1:256 FL2:16 DR:0.5 BS:32 LR:0.0001",
           "[113, 199]"
          ],
          [
           "FL1:256 FL2:16 DR:0.5 BS:32 LR:0.0001",
           "[113, 199]"
          ],
          [
           "FL1:256 FL2:16 DR:0.5 BS:32 LR:0.0001",
           "[113, 199]"
          ],
          [
           "FL1:256 FL2:16 DR:0.5 BS:32 LR:0.0001",
           "[113, 199]"
          ],
          [
           "FL1:256 FL2:16 DR:0.5 BS:32 LR:0.0001",
           "[113, 199]"
          ],
          [
           "FL1:256 FL2:16 DR:0.5 BS:32 LR:0.0001",
           "[113, 199]"
          ],
          [
           "FL1:256 FL2:16 DR:0.5 BS:32 LR:0.0001",
           "[113, 199]"
          ],
          [
           "FL1:256 FL2:16 DR:0.5 BS:32 LR:0.0001",
           "[113, 199]"
          ],
          [
           "FL1:256 FL2:16 DR:0.5 BS:32 LR:0.0001",
           "[113, 199]"
          ],
          [
           "FL1:256 FL2:16 DR:0.5 BS:32 LR:0.0001",
           "[113, 199]"
          ],
          [
           "FL1:256 FL2:16 DR:0.5 BS:32 LR:0.0001",
           "[113, 199]"
          ],
          [
           "FL1:256 FL2:16 DR:0.5 BS:32 LR:0.0001",
           "[113, 199]"
          ],
          [
           "FL1:256 FL2:16 DR:0.5 BS:32 LR:0.0001",
           "[113, 199]"
          ],
          [
           "FL1:256 FL2:16 DR:0.5 BS:32 LR:0.0001",
           "[113, 199]"
          ],
          [
           "FL1:256 FL2:16 DR:0.5 BS:32 LR:0.0001",
           "[113, 199]"
          ],
          [
           "FL1:256 FL2:16 DR:0.5 BS:32 LR:0.0001",
           "[113, 199]"
          ],
          [
           "FL1:256 FL2:16 DR:0.5 BS:32 LR:0.0001",
           "[113, 199]"
          ],
          [
           "FL1:256 FL2:16 DR:0.5 BS:32 LR:0.0001",
           "[113, 199]"
          ],
          [
           "FL1:256 FL2:16 DR:0.5 BS:32 LR:0.0001",
           "[113, 199]"
          ],
          [
           "FL1:256 FL2:16 DR:0.5 BS:32 LR:0.0001",
           "[113, 199]"
          ],
          [
           "FL1:256 FL2:16 DR:0.5 BS:32 LR:0.0001",
           "[113, 199]"
          ],
          [
           "FL1:256 FL2:16 DR:0.5 BS:32 LR:0.0001",
           "[113, 199]"
          ],
          [
           "FL1:256 FL2:16 DR:0.5 BS:32 LR:0.0001",
           "[113, 199]"
          ],
          [
           "FL1:256 FL2:16 DR:0.5 BS:32 LR:0.0001",
           "[113, 199]"
          ],
          [
           "FL1:256 FL2:16 DR:0.5 BS:32 LR:0.0001",
           "[113, 199]"
          ],
          [
           "FL1:256 FL2:16 DR:0.5 BS:32 LR:0.0001",
           "[113, 199]"
          ],
          [
           "FL1:256 FL2:16 DR:0.5 BS:32 LR:0.0001",
           "[113, 199]"
          ],
          [
           "FL1:256 FL2:16 DR:0.5 BS:32 LR:0.0001",
           "[113, 199]"
          ],
          [
           "FL1:256 FL2:16 DR:0.5 BS:32 LR:0.0001",
           "[113, 199]"
          ],
          [
           "FL1:256 FL2:16 DR:0.5 BS:32 LR:0.0001",
           "[113, 199]"
          ],
          [
           "FL1:256 FL2:16 DR:0.5 BS:32 LR:0.0001",
           "[113, 199]"
          ],
          [
           "FL1:256 FL2:16 DR:0.5 BS:32 LR:0.0001",
           "[113, 199]"
          ],
          [
           "FL1:256 FL2:16 DR:0.5 BS:32 LR:0.0001",
           "[113, 199]"
          ],
          [
           "FL1:256 FL2:16 DR:0.5 BS:32 LR:0.0001",
           "[113, 199]"
          ],
          [
           "FL1:256 FL2:16 DR:0.5 BS:32 LR:0.0001",
           "[113, 199]"
          ],
          [
           "FL1:256 FL2:16 DR:0.5 BS:32 LR:0.0001",
           "[113, 199]"
          ],
          [
           "FL1:256 FL2:16 DR:0.5 BS:32 LR:0.0001",
           "[113, 199]"
          ],
          [
           "FL1:256 FL2:16 DR:0.5 BS:32 LR:0.0001",
           "[113, 199]"
          ],
          [
           "FL1:256 FL2:16 DR:0.5 BS:32 LR:0.0001",
           "[113, 199]"
          ],
          [
           "FL1:256 FL2:16 DR:0.5 BS:32 LR:0.0001",
           "[113, 199]"
          ],
          [
           "FL1:256 FL2:16 DR:0.5 BS:32 LR:0.0001",
           "[113, 199]"
          ],
          [
           "FL1:256 FL2:16 DR:0.5 BS:32 LR:0.0001",
           "[113, 199]"
          ],
          [
           "FL1:256 FL2:16 DR:0.5 BS:32 LR:0.0001",
           "[113, 199]"
          ],
          [
           "FL1:256 FL2:16 DR:0.5 BS:32 LR:0.0001",
           "[113, 199]"
          ],
          [
           "FL1:256 FL2:16 DR:0.5 BS:32 LR:0.0001",
           "[113, 199]"
          ],
          [
           "FL1:256 FL2:16 DR:0.5 BS:32 LR:0.0001",
           "[113, 199]"
          ],
          [
           "FL1:256 FL2:16 DR:0.5 BS:32 LR:0.0001",
           "[113, 199]"
          ],
          [
           "FL1:256 FL2:16 DR:0.5 BS:32 LR:0.0001",
           "[113, 199]"
          ],
          [
           "FL1:256 FL2:16 DR:0.5 BS:32 LR:0.0001",
           "[113, 199]"
          ],
          [
           "FL1:256 FL2:16 DR:0.5 BS:32 LR:0.0001",
           "[113, 199]"
          ],
          [
           "FL1:256 FL2:16 DR:0.5 BS:32 LR:0.0001",
           "[113, 199]"
          ],
          [
           "FL1:256 FL2:16 DR:0.5 BS:32 LR:0.0001",
           "[113, 199]"
          ],
          [
           "FL1:256 FL2:16 DR:0.5 BS:32 LR:0.0001",
           "[113, 199]"
          ],
          [
           "FL1:256 FL2:16 DR:0.5 BS:32 LR:0.0001",
           "[113, 199]"
          ],
          [
           "FL1:256 FL2:16 DR:0.5 BS:32 LR:0.0001",
           "[113, 199]"
          ],
          [
           "FL1:256 FL2:16 DR:0.5 BS:32 LR:0.0001",
           "[113, 199]"
          ],
          [
           "FL1:256 FL2:16 DR:0.5 BS:32 LR:0.0001",
           "[113, 199]"
          ],
          [
           "FL1:256 FL2:16 DR:0.5 BS:32 LR:0.0001",
           "[113, 199]"
          ],
          [
           "FL1:256 FL2:16 DR:0.5 BS:32 LR:0.0001",
           "[113, 199]"
          ],
          [
           "FL1:256 FL2:16 DR:0.5 BS:32 LR:0.0001",
           "[113, 199]"
          ],
          [
           "FL1:256 FL2:16 DR:0.5 BS:32 LR:0.0001",
           "[113, 199]"
          ],
          [
           "FL1:256 FL2:16 DR:0.5 BS:32 LR:0.0001",
           "[113, 199]"
          ],
          [
           "FL1:256 FL2:16 DR:0.5 BS:32 LR:0.0001",
           "[113, 199]"
          ],
          [
           "FL1:256 FL2:16 DR:0.5 BS:32 LR:0.0001",
           "[113, 199]"
          ],
          [
           "FL1:256 FL2:16 DR:0.5 BS:32 LR:0.0001",
           "[113, 199]"
          ],
          [
           "FL1:256 FL2:16 DR:0.5 BS:32 LR:0.0001",
           "[113, 199]"
          ],
          [
           "FL1:256 FL2:16 DR:0.5 BS:32 LR:0.0001",
           "[113, 199]"
          ],
          [
           "FL1:256 FL2:16 DR:0.5 BS:32 LR:0.0001",
           "[113, 199]"
          ],
          [
           "FL1:256 FL2:16 DR:0.5 BS:32 LR:0.0001",
           "[113, 199]"
          ],
          [
           "FL1:256 FL2:16 DR:0.5 BS:32 LR:0.0001",
           "[113, 199]"
          ],
          [
           "FL1:256 FL2:16 DR:0.5 BS:32 LR:0.0001",
           "[113, 199]"
          ],
          [
           "FL1:256 FL2:16 DR:0.5 BS:32 LR:0.0001",
           "[113, 199]"
          ],
          [
           "FL1:256 FL2:16 DR:0.5 BS:32 LR:0.0001",
           "[113, 199]"
          ],
          [
           "FL1:256 FL2:16 DR:0.5 BS:32 LR:0.0001",
           "[113, 199]"
          ],
          [
           "FL1:256 FL2:16 DR:0.5 BS:32 LR:0.0001",
           "[113, 199]"
          ],
          [
           "FL1:256 FL2:16 DR:0.5 BS:32 LR:0.0001",
           "[113, 199]"
          ],
          [
           "FL1:256 FL2:16 DR:0.5 BS:32 LR:0.0001",
           "[113, 199]"
          ],
          [
           "FL1:256 FL2:16 DR:0.5 BS:32 LR:0.0001",
           "[113, 199]"
          ],
          [
           "FL1:256 FL2:16 DR:0.5 BS:32 LR:0.0001",
           "[113, 199]"
          ],
          [
           "FL1:256 FL2:16 DR:0.5 BS:32 LR:0.0001",
           "[113, 199]"
          ],
          [
           "FL1:256 FL2:16 DR:0.5 BS:32 LR:0.0001",
           "[113, 199]"
          ],
          [
           "FL1:256 FL2:16 DR:0.5 BS:32 LR:0.0001",
           "[113, 199]"
          ],
          [
           "FL1:256 FL2:16 DR:0.5 BS:32 LR:0.0001",
           "[113, 199]"
          ],
          [
           "FL1:256 FL2:16 DR:0.5 BS:32 LR:0.0001",
           "[113, 199]"
          ],
          [
           "FL1:256 FL2:16 DR:0.5 BS:32 LR:0.0001",
           "[113, 199]"
          ],
          [
           "FL1:256 FL2:16 DR:0.5 BS:32 LR:0.0001",
           "[113, 199]"
          ],
          [
           "FL1:256 FL2:16 DR:0.5 BS:32 LR:0.0001",
           "[113, 199]"
          ],
          [
           "FL1:256 FL2:16 DR:0.5 BS:32 LR:0.0001",
           "[113, 199]"
          ],
          [
           "FL1:256 FL2:16 DR:0.5 BS:32 LR:0.0001",
           "[113, 199]"
          ],
          [
           "FL1:256 FL2:16 DR:0.5 BS:32 LR:0.0001",
           "[113, 199]"
          ],
          [
           "FL1:256 FL2:16 DR:0.5 BS:32 LR:0.0001",
           "[113, 199]"
          ],
          [
           "FL1:256 FL2:16 DR:0.5 BS:32 LR:0.0001",
           "[113, 199]"
          ],
          [
           "FL1:256 FL2:16 DR:0.5 BS:32 LR:0.0001",
           "[113, 199]"
          ],
          [
           "FL1:256 FL2:16 DR:0.5 BS:32 LR:0.0001",
           "[113, 199]"
          ],
          [
           "FL1:256 FL2:16 DR:0.5 BS:32 LR:0.0001",
           "[113, 199]"
          ],
          [
           "FL1:256 FL2:16 DR:0.5 BS:32 LR:0.0001",
           "[113, 199]"
          ],
          [
           "FL1:256 FL2:16 DR:0.5 BS:32 LR:0.0001",
           "[113, 199]"
          ],
          [
           "FL1:256 FL2:16 DR:0.5 BS:32 LR:0.0001",
           "[113, 199]"
          ],
          [
           "FL1:256 FL2:16 DR:0.5 BS:32 LR:0.0001",
           "[113, 199]"
          ],
          [
           "FL1:256 FL2:16 DR:0.5 BS:32 LR:0.0001",
           "[113, 199]"
          ],
          [
           "FL1:256 FL2:16 DR:0.5 BS:32 LR:0.0001",
           "[113, 199]"
          ],
          [
           "FL1:256 FL2:16 DR:0.5 BS:32 LR:0.0001",
           "[113, 199]"
          ],
          [
           "FL1:256 FL2:16 DR:0.5 BS:32 LR:0.0001",
           "[113, 199]"
          ],
          [
           "FL1:256 FL2:16 DR:0.5 BS:32 LR:0.0001",
           "[113, 199]"
          ],
          [
           "FL1:256 FL2:16 DR:0.5 BS:32 LR:0.0001",
           "[113, 199]"
          ],
          [
           "FL1:256 FL2:16 DR:0.5 BS:32 LR:0.0001",
           "[113, 199]"
          ],
          [
           "FL1:256 FL2:16 DR:0.5 BS:32 LR:0.0001",
           "[113, 199]"
          ],
          [
           "FL1:256 FL2:16 DR:0.5 BS:32 LR:0.0001",
           "[113, 199]"
          ],
          [
           "FL1:256 FL2:16 DR:0.5 BS:32 LR:0.0001",
           "[113, 199]"
          ],
          [
           "FL1:256 FL2:16 DR:0.5 BS:32 LR:0.0001",
           "[113, 199]"
          ],
          [
           "FL1:256 FL2:16 DR:0.5 BS:32 LR:0.0001",
           "[113, 199]"
          ],
          [
           "FL1:256 FL2:16 DR:0.5 BS:32 LR:0.0001",
           "[113, 199]"
          ],
          [
           "FL1:256 FL2:16 DR:0.5 BS:32 LR:0.0001",
           "[113, 199]"
          ],
          [
           "FL1:256 FL2:16 DR:0.5 BS:32 LR:0.0001",
           "[113, 199]"
          ],
          [
           "FL1:256 FL2:16 DR:0.5 BS:32 LR:0.0001",
           "[113, 199]"
          ],
          [
           "FL1:256 FL2:16 DR:0.5 BS:32 LR:0.0001",
           "[113, 199]"
          ],
          [
           "FL1:256 FL2:16 DR:0.5 BS:32 LR:0.0001",
           "[113, 199]"
          ],
          [
           "FL1:256 FL2:16 DR:0.5 BS:32 LR:0.0001",
           "[113, 199]"
          ],
          [
           "FL1:256 FL2:16 DR:0.5 BS:32 LR:0.0001",
           "[113, 199]"
          ],
          [
           "FL1:256 FL2:16 DR:0.5 BS:32 LR:0.0001",
           "[113, 199]"
          ],
          [
           "FL1:256 FL2:16 DR:0.5 BS:32 LR:0.0001",
           "[113, 199]"
          ],
          [
           "FL1:256 FL2:16 DR:0.5 BS:32 LR:0.0001",
           "[113, 199]"
          ],
          [
           "FL1:256 FL2:16 DR:0.5 BS:32 LR:0.0001",
           "[113, 199]"
          ],
          [
           "FL1:256 FL2:16 DR:0.5 BS:32 LR:0.0001",
           "[113, 199]"
          ],
          [
           "FL1:256 FL2:16 DR:0.5 BS:32 LR:0.0001",
           "[113, 199]"
          ],
          [
           "FL1:256 FL2:16 DR:0.5 BS:32 LR:0.0001",
           "[113, 199]"
          ],
          [
           "FL1:256 FL2:16 DR:0.5 BS:32 LR:0.0001",
           "[113, 199]"
          ],
          [
           "FL1:256 FL2:16 DR:0.5 BS:32 LR:0.0001",
           "[113, 199]"
          ],
          [
           "FL1:256 FL2:16 DR:0.5 BS:32 LR:0.0001",
           "[113, 199]"
          ],
          [
           "FL1:256 FL2:16 DR:0.5 BS:32 LR:0.0001",
           "[113, 199]"
          ],
          [
           "FL1:256 FL2:16 DR:0.5 BS:32 LR:0.0001",
           "[113, 199]"
          ],
          [
           "FL1:256 FL2:16 DR:0.5 BS:32 LR:0.0001",
           "[113, 199]"
          ],
          [
           "FL1:256 FL2:16 DR:0.5 BS:32 LR:0.0001",
           "[113, 199]"
          ],
          [
           "FL1:256 FL2:16 DR:0.5 BS:32 LR:0.0001",
           "[113, 199]"
          ],
          [
           "FL1:256 FL2:16 DR:0.5 BS:32 LR:0.0001",
           "[113, 199]"
          ],
          [
           "FL1:256 FL2:16 DR:0.5 BS:32 LR:0.0001",
           "[113, 199]"
          ],
          [
           "FL1:256 FL2:16 DR:0.5 BS:32 LR:0.0001",
           "[113, 199]"
          ],
          [
           "FL1:256 FL2:16 DR:0.5 BS:32 LR:0.0001",
           "[113, 199]"
          ],
          [
           "FL1:256 FL2:16 DR:0.5 BS:32 LR:0.0001",
           "[113, 199]"
          ],
          [
           "FL1:256 FL2:16 DR:0.5 BS:32 LR:0.0001",
           "[113, 199]"
          ],
          [
           "FL1:256 FL2:16 DR:0.5 BS:32 LR:0.0001",
           "[113, 199]"
          ],
          [
           "FL1:256 FL2:16 DR:0.5 BS:32 LR:0.0001",
           "[113, 199]"
          ],
          [
           "FL1:256 FL2:16 DR:0.5 BS:32 LR:0.0001",
           "[113, 199]"
          ],
          [
           "FL1:256 FL2:16 DR:0.5 BS:32 LR:0.0001",
           "[113, 199]"
          ],
          [
           "FL1:256 FL2:16 DR:0.5 BS:32 LR:0.0001",
           "[113, 199]"
          ],
          [
           "FL1:256 FL2:16 DR:0.5 BS:32 LR:0.0001",
           "[113, 199]"
          ],
          [
           "FL1:256 FL2:16 DR:0.5 BS:32 LR:0.0001",
           "[113, 199]"
          ],
          [
           "FL1:256 FL2:16 DR:0.5 BS:32 LR:0.0001",
           "[113, 199]"
          ],
          [
           "FL1:256 FL2:16 DR:0.5 BS:32 LR:0.0001",
           "[113, 199]"
          ],
          [
           "FL1:256 FL2:16 DR:0.5 BS:32 LR:0.0001",
           "[113, 199]"
          ],
          [
           "FL1:256 FL2:16 DR:0.5 BS:32 LR:0.0001",
           "[113, 199]"
          ],
          [
           "FL1:256 FL2:16 DR:0.5 BS:32 LR:0.0001",
           "[113, 199]"
          ],
          [
           "FL1:256 FL2:16 DR:0.5 BS:32 LR:0.0001",
           "[113, 199]"
          ],
          [
           "FL1:256 FL2:16 DR:0.5 BS:32 LR:0.0001",
           "[113, 199]"
          ],
          [
           "FL1:256 FL2:16 DR:0.5 BS:32 LR:0.0001",
           "[113, 199]"
          ],
          [
           "FL1:256 FL2:16 DR:0.5 BS:32 LR:0.0001",
           "[113, 199]"
          ],
          [
           "FL1:256 FL2:16 DR:0.5 BS:32 LR:0.0001",
           "[113, 199]"
          ],
          [
           "FL1:256 FL2:16 DR:0.5 BS:32 LR:0.0001",
           "[113, 199]"
          ],
          [
           "FL1:256 FL2:16 DR:0.5 BS:32 LR:0.0001",
           "[113, 199]"
          ],
          [
           "FL1:256 FL2:16 DR:0.5 BS:32 LR:0.0001",
           "[113, 199]"
          ],
          [
           "FL1:256 FL2:16 DR:0.5 BS:32 LR:0.0001",
           "[113, 199]"
          ],
          [
           "FL1:256 FL2:16 DR:0.5 BS:32 LR:0.0001",
           "[113, 199]"
          ],
          [
           "FL1:256 FL2:16 DR:0.5 BS:32 LR:0.0001",
           "[113, 199]"
          ],
          [
           "FL1:256 FL2:16 DR:0.5 BS:32 LR:0.0001",
           "[113, 199]"
          ],
          [
           "FL1:256 FL2:16 DR:0.5 BS:32 LR:0.0001",
           "[113, 199]"
          ],
          [
           "FL1:256 FL2:16 DR:0.5 BS:32 LR:0.0001",
           "[113, 199]"
          ],
          [
           "FL1:256 FL2:16 DR:0.5 BS:32 LR:0.0001",
           "[113, 199]"
          ],
          [
           "FL1:256 FL2:16 DR:0.5 BS:32 LR:0.0001",
           "[113, 199]"
          ],
          [
           "FL1:256 FL2:16 DR:0.5 BS:32 LR:0.0001",
           "[113, 199]"
          ],
          [
           "FL1:256 FL2:16 DR:0.5 BS:32 LR:0.0001",
           "[113, 199]"
          ],
          [
           "FL1:256 FL2:16 DR:0.5 BS:32 LR:0.0001",
           "[113, 199]"
          ],
          [
           "FL1:256 FL2:16 DR:0.5 BS:32 LR:0.0001",
           "[113, 199]"
          ],
          [
           "FL1:256 FL2:16 DR:0.5 BS:32 LR:0.0001",
           "[113, 199]"
          ],
          [
           "FL1:256 FL2:16 DR:0.5 BS:32 LR:0.0001",
           "[113, 199]"
          ],
          [
           "FL1:256 FL2:16 DR:0.5 BS:32 LR:0.0001",
           "[113, 199]"
          ],
          [
           "FL1:256 FL2:16 DR:0.5 BS:32 LR:0.0001",
           "[113, 199]"
          ],
          [
           "FL1:256 FL2:16 DR:0.5 BS:32 LR:0.0001",
           "[113, 199]"
          ],
          [
           "FL1:256 FL2:16 DR:0.5 BS:32 LR:0.0001",
           "[113, 199]"
          ],
          [
           "FL1:256 FL2:16 DR:0.5 BS:32 LR:0.0001",
           "[113, 199]"
          ],
          [
           "FL1:256 FL2:16 DR:0.5 BS:32 LR:0.0001",
           "[113, 199]"
          ],
          [
           "FL1:256 FL2:16 DR:0.5 BS:32 LR:0.0001",
           "[113, 199]"
          ],
          [
           "FL1:256 FL2:16 DR:0.5 BS:32 LR:0.0001",
           "[113, 199]"
          ],
          [
           "FL1:256 FL2:16 DR:0.5 BS:32 LR:0.0001",
           "[113, 199]"
          ],
          [
           "FL1:256 FL2:16 DR:0.5 BS:32 LR:0.0001",
           "[113, 199]"
          ],
          [
           "FL1:256 FL2:16 DR:0.5 BS:32 LR:0.0001",
           "[113, 199]"
          ],
          [
           "FL1:256 FL2:16 DR:0.5 BS:32 LR:0.0001",
           "[113, 199]"
          ],
          [
           "FL1:256 FL2:16 DR:0.5 BS:32 LR:0.0001",
           "[113, 199]"
          ],
          [
           "FL1:256 FL2:16 DR:0.5 BS:32 LR:0.0001",
           "[113, 199]"
          ],
          [
           "FL1:256 FL2:16 DR:0.5 BS:32 LR:0.0001",
           "[113, 199]"
          ],
          [
           "FL1:256 FL2:16 DR:0.5 BS:32 LR:0.0001",
           "[113, 199]"
          ],
          [
           "FL1:256 FL2:16 DR:0.5 BS:32 LR:0.0001",
           "[113, 199]"
          ],
          [
           "FL1:256 FL2:16 DR:0.5 BS:32 LR:0.0001",
           "[113, 199]"
          ],
          [
           "FL1:256 FL2:16 DR:0.5 BS:32 LR:0.0001",
           "[113, 199]"
          ],
          [
           "FL1:256 FL2:16 DR:0.5 BS:32 LR:0.0001",
           "[113, 199]"
          ]
         ],
         "hovertemplate": "variable=train_loss<br>trial_id=802fd_00106<br>epoch=%{x}<br>value=%{y}<br>Hyperparameters=%{customdata[0]}<br>checkpoints=%{customdata[1]}<extra></extra>",
         "legendgroup": "train_loss, 802fd_00106",
         "line": {
          "color": "#EF553B",
          "dash": "dot"
         },
         "marker": {
          "symbol": "circle"
         },
         "mode": "lines",
         "name": "train_loss, 802fd_00106",
         "showlegend": true,
         "type": "scattergl",
         "x": [
          0,
          1,
          2,
          3,
          4,
          5,
          6,
          7,
          8,
          9,
          10,
          11,
          12,
          13,
          14,
          15,
          16,
          17,
          18,
          19,
          20,
          21,
          22,
          23,
          24,
          25,
          26,
          27,
          28,
          29,
          30,
          31,
          32,
          33,
          34,
          35,
          36,
          37,
          38,
          39,
          40,
          41,
          42,
          43,
          44,
          45,
          46,
          47,
          48,
          49,
          50,
          51,
          52,
          53,
          54,
          55,
          56,
          57,
          58,
          59,
          60,
          61,
          62,
          63,
          64,
          65,
          66,
          67,
          68,
          69,
          70,
          71,
          72,
          73,
          74,
          75,
          76,
          77,
          78,
          79,
          80,
          81,
          82,
          83,
          84,
          85,
          86,
          87,
          88,
          89,
          90,
          91,
          92,
          93,
          94,
          95,
          96,
          97,
          98,
          99,
          100,
          101,
          102,
          103,
          104,
          105,
          106,
          107,
          108,
          109,
          110,
          111,
          112,
          113,
          114,
          115,
          116,
          117,
          118,
          119,
          120,
          121,
          122,
          123,
          124,
          125,
          126,
          127,
          128,
          129,
          130,
          131,
          132,
          133,
          134,
          135,
          136,
          137,
          138,
          139,
          140,
          141,
          142,
          143,
          144,
          145,
          146,
          147,
          148,
          149,
          150,
          151,
          152,
          153,
          154,
          155,
          156,
          157,
          158,
          159,
          160,
          161,
          162,
          163,
          164,
          165,
          166,
          167,
          168,
          169,
          170,
          171,
          172,
          173,
          174,
          175,
          176,
          177,
          178,
          179,
          180,
          181,
          182,
          183,
          184,
          185,
          186,
          187,
          188,
          189,
          190,
          191,
          192,
          193,
          194,
          195,
          196,
          197,
          198,
          199
         ],
         "xaxis": "x",
         "y": [
          0.5829174518585192,
          0.5248671869436881,
          0.555879977014327,
          0.5215812204060701,
          0.41908160532697974,
          0.33423227525542104,
          0.45914656226363215,
          0.3603862295847892,
          0.3052349882193242,
          0.4007342190787404,
          0.4191177110701927,
          0.38312853845159994,
          0.3505287069228006,
          0.39746252021171613,
          0.3467871170638527,
          0.32330154852062565,
          0.3265390858119725,
          0.30147154232303236,
          0.2285997443758111,
          0.21531522925447447,
          0.28181731141773114,
          0.229498998570225,
          0.2696227042196725,
          0.22263092188825406,
          0.208826748124693,
          0.23074771801096414,
          0.19757336106209072,
          0.1514517944806688,
          0.1208863792653793,
          0.15828166490368742,
          0.15136468136027553,
          0.12367773618112056,
          0.09039412316885286,
          0.06955128081776489,
          0.05695146268035159,
          0.09432205024974294,
          0.1168586973588777,
          0.14630378214790454,
          0.14036216953247113,
          0.12126737828949619,
          0.2919592062360664,
          0.2226664614165238,
          0.15216142803741237,
          0.11626854742773851,
          0.15907470024432335,
          0.18420065367755292,
          0.13008863656578454,
          0.13159906485913822,
          0.1411495282864476,
          0.21422564484118695,
          0.19058988655566653,
          0.12905616153418673,
          0.1098538949366386,
          0.09942294751776405,
          0.10578238778758779,
          0.11136398837598621,
          0.08671604594013721,
          0.09227915191267326,
          0.06542087494823264,
          0.08214243600430014,
          0.05744526135614792,
          0.03982994392433944,
          0.046322383383374494,
          0.06916593041649172,
          0.04884212450686896,
          0.049534711897398255,
          0.10965430978935582,
          0.08341365469165385,
          0.12367765216474842,
          0.13557795920931662,
          0.09761064078386199,
          0.07119374751862925,
          0.10967067897198579,
          0.08943694015263161,
          0.07061124422430085,
          0.06867959733326608,
          0.11919291572782258,
          0.08459508620293839,
          0.06912893315217158,
          0.12620630535855012,
          0.09513949262350203,
          0.34215674073993557,
          0.38601472160219635,
          0.279870340764519,
          0.19362376268704493,
          0.12963923916210154,
          0.10458599969737661,
          0.18023624648645725,
          0.19205110523432578,
          0.17229686182955928,
          0.19910869666086256,
          0.15474998648396196,
          0.12438986497078362,
          0.10658778032961158,
          0.12149494244855384,
          0.1836037493692612,
          0.13588447293948955,
          0.1432211311082824,
          0.11817331273825842,
          0.08714706721883263,
          0.1167428014873212,
          0.16004031189274365,
          0.12022826721596425,
          0.11257283571910637,
          0.09297794349360307,
          0.14874921406221223,
          0.12184375799306105,
          0.08627898553416374,
          0.26926530109117436,
          0.19420618162400188,
          0.1984910193141738,
          0.26262213608002827,
          0.24661306255642632,
          0.17178103862427377,
          0.1359534324091188,
          0.1133422196495208,
          0.10680870566683805,
          0.07211248479894661,
          0.055803819845860886,
          0.06408313618815299,
          0.10093585621460471,
          0.14372522282033567,
          0.12577882589518607,
          0.11016885311484038,
          0.08726028681516437,
          0.09836745729525713,
          0.07154108957601799,
          0.0806903963364043,
          0.055704788206476515,
          0.03800688297137354,
          0.03464422303328726,
          0.05414550703690966,
          0.03634927655785417,
          0.025680400594020106,
          0.036327028134759264,
          0.025871274185625032,
          0.05932105899681438,
          0.04132865374836514,
          0.05883439385595026,
          0.040315953935696675,
          0.03678559196194932,
          0.07016297964388046,
          0.05251813229179321,
          0.09631890254719966,
          0.08931434533664839,
          0.06089337127974796,
          0.04914718341543383,
          0.06881052154113229,
          0.04690034084330416,
          0.04652126600550543,
          0.1399337779827039,
          0.09768609206524954,
          0.06632662583053917,
          0.04742204255054925,
          0.03538121839738905,
          0.0236602582837873,
          0.020363945753589772,
          0.042621279915978603,
          0.1455195216078286,
          0.10261243057673006,
          0.07181606030248815,
          0.053823951992943604,
          0.03833551480608162,
          0.09198767790686356,
          0.08822910305189581,
          0.2086957879617964,
          0.16508618247211987,
          0.19493612813751512,
          0.13149228368567503,
          0.09237416866333664,
          0.06492778960059997,
          0.04399992400410052,
          0.029878972039883482,
          0.03345187749549082,
          0.033218394939000834,
          0.05114655194937858,
          0.03511294201416055,
          0.029650700219156154,
          0.06225248981030868,
          0.051243271652275144,
          0.062068030220543996,
          0.05785515779076382,
          0.0454924961266806,
          0.033777137143770175,
          0.023306174496343916,
          0.10412798220550365,
          0.13377005454325197,
          0.10402704301094678,
          0.07039358453384316,
          0.07333398104661865,
          0.05147842989624646,
          0.07442178279996621,
          0.08107722104152489,
          0.07318415070944642,
          0.06429025373772515,
          0.055249795512462445,
          0.03885301789838722,
          0.045996825090372735,
          0.033617394585625404,
          0.05731809547822718
         ],
         "yaxis": "y"
        },
        {
         "customdata": [
          [
           "FL1:16 FL2:16 DR:0.3 BS:32 LR:0.0005",
           "[199, 96]"
          ],
          [
           "FL1:16 FL2:16 DR:0.3 BS:32 LR:0.0005",
           "[199, 96]"
          ],
          [
           "FL1:16 FL2:16 DR:0.3 BS:32 LR:0.0005",
           "[199, 96]"
          ],
          [
           "FL1:16 FL2:16 DR:0.3 BS:32 LR:0.0005",
           "[199, 96]"
          ],
          [
           "FL1:16 FL2:16 DR:0.3 BS:32 LR:0.0005",
           "[199, 96]"
          ],
          [
           "FL1:16 FL2:16 DR:0.3 BS:32 LR:0.0005",
           "[199, 96]"
          ],
          [
           "FL1:16 FL2:16 DR:0.3 BS:32 LR:0.0005",
           "[199, 96]"
          ],
          [
           "FL1:16 FL2:16 DR:0.3 BS:32 LR:0.0005",
           "[199, 96]"
          ],
          [
           "FL1:16 FL2:16 DR:0.3 BS:32 LR:0.0005",
           "[199, 96]"
          ],
          [
           "FL1:16 FL2:16 DR:0.3 BS:32 LR:0.0005",
           "[199, 96]"
          ],
          [
           "FL1:16 FL2:16 DR:0.3 BS:32 LR:0.0005",
           "[199, 96]"
          ],
          [
           "FL1:16 FL2:16 DR:0.3 BS:32 LR:0.0005",
           "[199, 96]"
          ],
          [
           "FL1:16 FL2:16 DR:0.3 BS:32 LR:0.0005",
           "[199, 96]"
          ],
          [
           "FL1:16 FL2:16 DR:0.3 BS:32 LR:0.0005",
           "[199, 96]"
          ],
          [
           "FL1:16 FL2:16 DR:0.3 BS:32 LR:0.0005",
           "[199, 96]"
          ],
          [
           "FL1:16 FL2:16 DR:0.3 BS:32 LR:0.0005",
           "[199, 96]"
          ],
          [
           "FL1:16 FL2:16 DR:0.3 BS:32 LR:0.0005",
           "[199, 96]"
          ],
          [
           "FL1:16 FL2:16 DR:0.3 BS:32 LR:0.0005",
           "[199, 96]"
          ],
          [
           "FL1:16 FL2:16 DR:0.3 BS:32 LR:0.0005",
           "[199, 96]"
          ],
          [
           "FL1:16 FL2:16 DR:0.3 BS:32 LR:0.0005",
           "[199, 96]"
          ],
          [
           "FL1:16 FL2:16 DR:0.3 BS:32 LR:0.0005",
           "[199, 96]"
          ],
          [
           "FL1:16 FL2:16 DR:0.3 BS:32 LR:0.0005",
           "[199, 96]"
          ],
          [
           "FL1:16 FL2:16 DR:0.3 BS:32 LR:0.0005",
           "[199, 96]"
          ],
          [
           "FL1:16 FL2:16 DR:0.3 BS:32 LR:0.0005",
           "[199, 96]"
          ],
          [
           "FL1:16 FL2:16 DR:0.3 BS:32 LR:0.0005",
           "[199, 96]"
          ],
          [
           "FL1:16 FL2:16 DR:0.3 BS:32 LR:0.0005",
           "[199, 96]"
          ],
          [
           "FL1:16 FL2:16 DR:0.3 BS:32 LR:0.0005",
           "[199, 96]"
          ],
          [
           "FL1:16 FL2:16 DR:0.3 BS:32 LR:0.0005",
           "[199, 96]"
          ],
          [
           "FL1:16 FL2:16 DR:0.3 BS:32 LR:0.0005",
           "[199, 96]"
          ],
          [
           "FL1:16 FL2:16 DR:0.3 BS:32 LR:0.0005",
           "[199, 96]"
          ],
          [
           "FL1:16 FL2:16 DR:0.3 BS:32 LR:0.0005",
           "[199, 96]"
          ],
          [
           "FL1:16 FL2:16 DR:0.3 BS:32 LR:0.0005",
           "[199, 96]"
          ],
          [
           "FL1:16 FL2:16 DR:0.3 BS:32 LR:0.0005",
           "[199, 96]"
          ],
          [
           "FL1:16 FL2:16 DR:0.3 BS:32 LR:0.0005",
           "[199, 96]"
          ],
          [
           "FL1:16 FL2:16 DR:0.3 BS:32 LR:0.0005",
           "[199, 96]"
          ],
          [
           "FL1:16 FL2:16 DR:0.3 BS:32 LR:0.0005",
           "[199, 96]"
          ],
          [
           "FL1:16 FL2:16 DR:0.3 BS:32 LR:0.0005",
           "[199, 96]"
          ],
          [
           "FL1:16 FL2:16 DR:0.3 BS:32 LR:0.0005",
           "[199, 96]"
          ],
          [
           "FL1:16 FL2:16 DR:0.3 BS:32 LR:0.0005",
           "[199, 96]"
          ],
          [
           "FL1:16 FL2:16 DR:0.3 BS:32 LR:0.0005",
           "[199, 96]"
          ],
          [
           "FL1:16 FL2:16 DR:0.3 BS:32 LR:0.0005",
           "[199, 96]"
          ],
          [
           "FL1:16 FL2:16 DR:0.3 BS:32 LR:0.0005",
           "[199, 96]"
          ],
          [
           "FL1:16 FL2:16 DR:0.3 BS:32 LR:0.0005",
           "[199, 96]"
          ],
          [
           "FL1:16 FL2:16 DR:0.3 BS:32 LR:0.0005",
           "[199, 96]"
          ],
          [
           "FL1:16 FL2:16 DR:0.3 BS:32 LR:0.0005",
           "[199, 96]"
          ],
          [
           "FL1:16 FL2:16 DR:0.3 BS:32 LR:0.0005",
           "[199, 96]"
          ],
          [
           "FL1:16 FL2:16 DR:0.3 BS:32 LR:0.0005",
           "[199, 96]"
          ],
          [
           "FL1:16 FL2:16 DR:0.3 BS:32 LR:0.0005",
           "[199, 96]"
          ],
          [
           "FL1:16 FL2:16 DR:0.3 BS:32 LR:0.0005",
           "[199, 96]"
          ],
          [
           "FL1:16 FL2:16 DR:0.3 BS:32 LR:0.0005",
           "[199, 96]"
          ],
          [
           "FL1:16 FL2:16 DR:0.3 BS:32 LR:0.0005",
           "[199, 96]"
          ],
          [
           "FL1:16 FL2:16 DR:0.3 BS:32 LR:0.0005",
           "[199, 96]"
          ],
          [
           "FL1:16 FL2:16 DR:0.3 BS:32 LR:0.0005",
           "[199, 96]"
          ],
          [
           "FL1:16 FL2:16 DR:0.3 BS:32 LR:0.0005",
           "[199, 96]"
          ],
          [
           "FL1:16 FL2:16 DR:0.3 BS:32 LR:0.0005",
           "[199, 96]"
          ],
          [
           "FL1:16 FL2:16 DR:0.3 BS:32 LR:0.0005",
           "[199, 96]"
          ],
          [
           "FL1:16 FL2:16 DR:0.3 BS:32 LR:0.0005",
           "[199, 96]"
          ],
          [
           "FL1:16 FL2:16 DR:0.3 BS:32 LR:0.0005",
           "[199, 96]"
          ],
          [
           "FL1:16 FL2:16 DR:0.3 BS:32 LR:0.0005",
           "[199, 96]"
          ],
          [
           "FL1:16 FL2:16 DR:0.3 BS:32 LR:0.0005",
           "[199, 96]"
          ],
          [
           "FL1:16 FL2:16 DR:0.3 BS:32 LR:0.0005",
           "[199, 96]"
          ],
          [
           "FL1:16 FL2:16 DR:0.3 BS:32 LR:0.0005",
           "[199, 96]"
          ],
          [
           "FL1:16 FL2:16 DR:0.3 BS:32 LR:0.0005",
           "[199, 96]"
          ],
          [
           "FL1:16 FL2:16 DR:0.3 BS:32 LR:0.0005",
           "[199, 96]"
          ],
          [
           "FL1:16 FL2:16 DR:0.3 BS:32 LR:0.0005",
           "[199, 96]"
          ],
          [
           "FL1:16 FL2:16 DR:0.3 BS:32 LR:0.0005",
           "[199, 96]"
          ],
          [
           "FL1:16 FL2:16 DR:0.3 BS:32 LR:0.0005",
           "[199, 96]"
          ],
          [
           "FL1:16 FL2:16 DR:0.3 BS:32 LR:0.0005",
           "[199, 96]"
          ],
          [
           "FL1:16 FL2:16 DR:0.3 BS:32 LR:0.0005",
           "[199, 96]"
          ],
          [
           "FL1:16 FL2:16 DR:0.3 BS:32 LR:0.0005",
           "[199, 96]"
          ],
          [
           "FL1:16 FL2:16 DR:0.3 BS:32 LR:0.0005",
           "[199, 96]"
          ],
          [
           "FL1:16 FL2:16 DR:0.3 BS:32 LR:0.0005",
           "[199, 96]"
          ],
          [
           "FL1:16 FL2:16 DR:0.3 BS:32 LR:0.0005",
           "[199, 96]"
          ],
          [
           "FL1:16 FL2:16 DR:0.3 BS:32 LR:0.0005",
           "[199, 96]"
          ],
          [
           "FL1:16 FL2:16 DR:0.3 BS:32 LR:0.0005",
           "[199, 96]"
          ],
          [
           "FL1:16 FL2:16 DR:0.3 BS:32 LR:0.0005",
           "[199, 96]"
          ],
          [
           "FL1:16 FL2:16 DR:0.3 BS:32 LR:0.0005",
           "[199, 96]"
          ],
          [
           "FL1:16 FL2:16 DR:0.3 BS:32 LR:0.0005",
           "[199, 96]"
          ],
          [
           "FL1:16 FL2:16 DR:0.3 BS:32 LR:0.0005",
           "[199, 96]"
          ],
          [
           "FL1:16 FL2:16 DR:0.3 BS:32 LR:0.0005",
           "[199, 96]"
          ],
          [
           "FL1:16 FL2:16 DR:0.3 BS:32 LR:0.0005",
           "[199, 96]"
          ],
          [
           "FL1:16 FL2:16 DR:0.3 BS:32 LR:0.0005",
           "[199, 96]"
          ],
          [
           "FL1:16 FL2:16 DR:0.3 BS:32 LR:0.0005",
           "[199, 96]"
          ],
          [
           "FL1:16 FL2:16 DR:0.3 BS:32 LR:0.0005",
           "[199, 96]"
          ],
          [
           "FL1:16 FL2:16 DR:0.3 BS:32 LR:0.0005",
           "[199, 96]"
          ],
          [
           "FL1:16 FL2:16 DR:0.3 BS:32 LR:0.0005",
           "[199, 96]"
          ],
          [
           "FL1:16 FL2:16 DR:0.3 BS:32 LR:0.0005",
           "[199, 96]"
          ],
          [
           "FL1:16 FL2:16 DR:0.3 BS:32 LR:0.0005",
           "[199, 96]"
          ],
          [
           "FL1:16 FL2:16 DR:0.3 BS:32 LR:0.0005",
           "[199, 96]"
          ],
          [
           "FL1:16 FL2:16 DR:0.3 BS:32 LR:0.0005",
           "[199, 96]"
          ],
          [
           "FL1:16 FL2:16 DR:0.3 BS:32 LR:0.0005",
           "[199, 96]"
          ],
          [
           "FL1:16 FL2:16 DR:0.3 BS:32 LR:0.0005",
           "[199, 96]"
          ],
          [
           "FL1:16 FL2:16 DR:0.3 BS:32 LR:0.0005",
           "[199, 96]"
          ],
          [
           "FL1:16 FL2:16 DR:0.3 BS:32 LR:0.0005",
           "[199, 96]"
          ],
          [
           "FL1:16 FL2:16 DR:0.3 BS:32 LR:0.0005",
           "[199, 96]"
          ],
          [
           "FL1:16 FL2:16 DR:0.3 BS:32 LR:0.0005",
           "[199, 96]"
          ],
          [
           "FL1:16 FL2:16 DR:0.3 BS:32 LR:0.0005",
           "[199, 96]"
          ],
          [
           "FL1:16 FL2:16 DR:0.3 BS:32 LR:0.0005",
           "[199, 96]"
          ],
          [
           "FL1:16 FL2:16 DR:0.3 BS:32 LR:0.0005",
           "[199, 96]"
          ],
          [
           "FL1:16 FL2:16 DR:0.3 BS:32 LR:0.0005",
           "[199, 96]"
          ],
          [
           "FL1:16 FL2:16 DR:0.3 BS:32 LR:0.0005",
           "[199, 96]"
          ],
          [
           "FL1:16 FL2:16 DR:0.3 BS:32 LR:0.0005",
           "[199, 96]"
          ],
          [
           "FL1:16 FL2:16 DR:0.3 BS:32 LR:0.0005",
           "[199, 96]"
          ],
          [
           "FL1:16 FL2:16 DR:0.3 BS:32 LR:0.0005",
           "[199, 96]"
          ],
          [
           "FL1:16 FL2:16 DR:0.3 BS:32 LR:0.0005",
           "[199, 96]"
          ],
          [
           "FL1:16 FL2:16 DR:0.3 BS:32 LR:0.0005",
           "[199, 96]"
          ],
          [
           "FL1:16 FL2:16 DR:0.3 BS:32 LR:0.0005",
           "[199, 96]"
          ],
          [
           "FL1:16 FL2:16 DR:0.3 BS:32 LR:0.0005",
           "[199, 96]"
          ],
          [
           "FL1:16 FL2:16 DR:0.3 BS:32 LR:0.0005",
           "[199, 96]"
          ],
          [
           "FL1:16 FL2:16 DR:0.3 BS:32 LR:0.0005",
           "[199, 96]"
          ],
          [
           "FL1:16 FL2:16 DR:0.3 BS:32 LR:0.0005",
           "[199, 96]"
          ],
          [
           "FL1:16 FL2:16 DR:0.3 BS:32 LR:0.0005",
           "[199, 96]"
          ],
          [
           "FL1:16 FL2:16 DR:0.3 BS:32 LR:0.0005",
           "[199, 96]"
          ],
          [
           "FL1:16 FL2:16 DR:0.3 BS:32 LR:0.0005",
           "[199, 96]"
          ],
          [
           "FL1:16 FL2:16 DR:0.3 BS:32 LR:0.0005",
           "[199, 96]"
          ],
          [
           "FL1:16 FL2:16 DR:0.3 BS:32 LR:0.0005",
           "[199, 96]"
          ],
          [
           "FL1:16 FL2:16 DR:0.3 BS:32 LR:0.0005",
           "[199, 96]"
          ],
          [
           "FL1:16 FL2:16 DR:0.3 BS:32 LR:0.0005",
           "[199, 96]"
          ],
          [
           "FL1:16 FL2:16 DR:0.3 BS:32 LR:0.0005",
           "[199, 96]"
          ],
          [
           "FL1:16 FL2:16 DR:0.3 BS:32 LR:0.0005",
           "[199, 96]"
          ],
          [
           "FL1:16 FL2:16 DR:0.3 BS:32 LR:0.0005",
           "[199, 96]"
          ],
          [
           "FL1:16 FL2:16 DR:0.3 BS:32 LR:0.0005",
           "[199, 96]"
          ],
          [
           "FL1:16 FL2:16 DR:0.3 BS:32 LR:0.0005",
           "[199, 96]"
          ],
          [
           "FL1:16 FL2:16 DR:0.3 BS:32 LR:0.0005",
           "[199, 96]"
          ],
          [
           "FL1:16 FL2:16 DR:0.3 BS:32 LR:0.0005",
           "[199, 96]"
          ],
          [
           "FL1:16 FL2:16 DR:0.3 BS:32 LR:0.0005",
           "[199, 96]"
          ],
          [
           "FL1:16 FL2:16 DR:0.3 BS:32 LR:0.0005",
           "[199, 96]"
          ],
          [
           "FL1:16 FL2:16 DR:0.3 BS:32 LR:0.0005",
           "[199, 96]"
          ],
          [
           "FL1:16 FL2:16 DR:0.3 BS:32 LR:0.0005",
           "[199, 96]"
          ],
          [
           "FL1:16 FL2:16 DR:0.3 BS:32 LR:0.0005",
           "[199, 96]"
          ],
          [
           "FL1:16 FL2:16 DR:0.3 BS:32 LR:0.0005",
           "[199, 96]"
          ],
          [
           "FL1:16 FL2:16 DR:0.3 BS:32 LR:0.0005",
           "[199, 96]"
          ],
          [
           "FL1:16 FL2:16 DR:0.3 BS:32 LR:0.0005",
           "[199, 96]"
          ],
          [
           "FL1:16 FL2:16 DR:0.3 BS:32 LR:0.0005",
           "[199, 96]"
          ],
          [
           "FL1:16 FL2:16 DR:0.3 BS:32 LR:0.0005",
           "[199, 96]"
          ],
          [
           "FL1:16 FL2:16 DR:0.3 BS:32 LR:0.0005",
           "[199, 96]"
          ],
          [
           "FL1:16 FL2:16 DR:0.3 BS:32 LR:0.0005",
           "[199, 96]"
          ],
          [
           "FL1:16 FL2:16 DR:0.3 BS:32 LR:0.0005",
           "[199, 96]"
          ],
          [
           "FL1:16 FL2:16 DR:0.3 BS:32 LR:0.0005",
           "[199, 96]"
          ],
          [
           "FL1:16 FL2:16 DR:0.3 BS:32 LR:0.0005",
           "[199, 96]"
          ],
          [
           "FL1:16 FL2:16 DR:0.3 BS:32 LR:0.0005",
           "[199, 96]"
          ],
          [
           "FL1:16 FL2:16 DR:0.3 BS:32 LR:0.0005",
           "[199, 96]"
          ],
          [
           "FL1:16 FL2:16 DR:0.3 BS:32 LR:0.0005",
           "[199, 96]"
          ],
          [
           "FL1:16 FL2:16 DR:0.3 BS:32 LR:0.0005",
           "[199, 96]"
          ],
          [
           "FL1:16 FL2:16 DR:0.3 BS:32 LR:0.0005",
           "[199, 96]"
          ],
          [
           "FL1:16 FL2:16 DR:0.3 BS:32 LR:0.0005",
           "[199, 96]"
          ],
          [
           "FL1:16 FL2:16 DR:0.3 BS:32 LR:0.0005",
           "[199, 96]"
          ],
          [
           "FL1:16 FL2:16 DR:0.3 BS:32 LR:0.0005",
           "[199, 96]"
          ],
          [
           "FL1:16 FL2:16 DR:0.3 BS:32 LR:0.0005",
           "[199, 96]"
          ],
          [
           "FL1:16 FL2:16 DR:0.3 BS:32 LR:0.0005",
           "[199, 96]"
          ],
          [
           "FL1:16 FL2:16 DR:0.3 BS:32 LR:0.0005",
           "[199, 96]"
          ],
          [
           "FL1:16 FL2:16 DR:0.3 BS:32 LR:0.0005",
           "[199, 96]"
          ],
          [
           "FL1:16 FL2:16 DR:0.3 BS:32 LR:0.0005",
           "[199, 96]"
          ],
          [
           "FL1:16 FL2:16 DR:0.3 BS:32 LR:0.0005",
           "[199, 96]"
          ],
          [
           "FL1:16 FL2:16 DR:0.3 BS:32 LR:0.0005",
           "[199, 96]"
          ],
          [
           "FL1:16 FL2:16 DR:0.3 BS:32 LR:0.0005",
           "[199, 96]"
          ],
          [
           "FL1:16 FL2:16 DR:0.3 BS:32 LR:0.0005",
           "[199, 96]"
          ],
          [
           "FL1:16 FL2:16 DR:0.3 BS:32 LR:0.0005",
           "[199, 96]"
          ],
          [
           "FL1:16 FL2:16 DR:0.3 BS:32 LR:0.0005",
           "[199, 96]"
          ],
          [
           "FL1:16 FL2:16 DR:0.3 BS:32 LR:0.0005",
           "[199, 96]"
          ],
          [
           "FL1:16 FL2:16 DR:0.3 BS:32 LR:0.0005",
           "[199, 96]"
          ],
          [
           "FL1:16 FL2:16 DR:0.3 BS:32 LR:0.0005",
           "[199, 96]"
          ],
          [
           "FL1:16 FL2:16 DR:0.3 BS:32 LR:0.0005",
           "[199, 96]"
          ],
          [
           "FL1:16 FL2:16 DR:0.3 BS:32 LR:0.0005",
           "[199, 96]"
          ],
          [
           "FL1:16 FL2:16 DR:0.3 BS:32 LR:0.0005",
           "[199, 96]"
          ],
          [
           "FL1:16 FL2:16 DR:0.3 BS:32 LR:0.0005",
           "[199, 96]"
          ],
          [
           "FL1:16 FL2:16 DR:0.3 BS:32 LR:0.0005",
           "[199, 96]"
          ],
          [
           "FL1:16 FL2:16 DR:0.3 BS:32 LR:0.0005",
           "[199, 96]"
          ],
          [
           "FL1:16 FL2:16 DR:0.3 BS:32 LR:0.0005",
           "[199, 96]"
          ],
          [
           "FL1:16 FL2:16 DR:0.3 BS:32 LR:0.0005",
           "[199, 96]"
          ],
          [
           "FL1:16 FL2:16 DR:0.3 BS:32 LR:0.0005",
           "[199, 96]"
          ],
          [
           "FL1:16 FL2:16 DR:0.3 BS:32 LR:0.0005",
           "[199, 96]"
          ],
          [
           "FL1:16 FL2:16 DR:0.3 BS:32 LR:0.0005",
           "[199, 96]"
          ],
          [
           "FL1:16 FL2:16 DR:0.3 BS:32 LR:0.0005",
           "[199, 96]"
          ],
          [
           "FL1:16 FL2:16 DR:0.3 BS:32 LR:0.0005",
           "[199, 96]"
          ],
          [
           "FL1:16 FL2:16 DR:0.3 BS:32 LR:0.0005",
           "[199, 96]"
          ],
          [
           "FL1:16 FL2:16 DR:0.3 BS:32 LR:0.0005",
           "[199, 96]"
          ],
          [
           "FL1:16 FL2:16 DR:0.3 BS:32 LR:0.0005",
           "[199, 96]"
          ],
          [
           "FL1:16 FL2:16 DR:0.3 BS:32 LR:0.0005",
           "[199, 96]"
          ],
          [
           "FL1:16 FL2:16 DR:0.3 BS:32 LR:0.0005",
           "[199, 96]"
          ],
          [
           "FL1:16 FL2:16 DR:0.3 BS:32 LR:0.0005",
           "[199, 96]"
          ],
          [
           "FL1:16 FL2:16 DR:0.3 BS:32 LR:0.0005",
           "[199, 96]"
          ],
          [
           "FL1:16 FL2:16 DR:0.3 BS:32 LR:0.0005",
           "[199, 96]"
          ],
          [
           "FL1:16 FL2:16 DR:0.3 BS:32 LR:0.0005",
           "[199, 96]"
          ],
          [
           "FL1:16 FL2:16 DR:0.3 BS:32 LR:0.0005",
           "[199, 96]"
          ],
          [
           "FL1:16 FL2:16 DR:0.3 BS:32 LR:0.0005",
           "[199, 96]"
          ],
          [
           "FL1:16 FL2:16 DR:0.3 BS:32 LR:0.0005",
           "[199, 96]"
          ],
          [
           "FL1:16 FL2:16 DR:0.3 BS:32 LR:0.0005",
           "[199, 96]"
          ],
          [
           "FL1:16 FL2:16 DR:0.3 BS:32 LR:0.0005",
           "[199, 96]"
          ],
          [
           "FL1:16 FL2:16 DR:0.3 BS:32 LR:0.0005",
           "[199, 96]"
          ],
          [
           "FL1:16 FL2:16 DR:0.3 BS:32 LR:0.0005",
           "[199, 96]"
          ],
          [
           "FL1:16 FL2:16 DR:0.3 BS:32 LR:0.0005",
           "[199, 96]"
          ],
          [
           "FL1:16 FL2:16 DR:0.3 BS:32 LR:0.0005",
           "[199, 96]"
          ],
          [
           "FL1:16 FL2:16 DR:0.3 BS:32 LR:0.0005",
           "[199, 96]"
          ],
          [
           "FL1:16 FL2:16 DR:0.3 BS:32 LR:0.0005",
           "[199, 96]"
          ],
          [
           "FL1:16 FL2:16 DR:0.3 BS:32 LR:0.0005",
           "[199, 96]"
          ],
          [
           "FL1:16 FL2:16 DR:0.3 BS:32 LR:0.0005",
           "[199, 96]"
          ],
          [
           "FL1:16 FL2:16 DR:0.3 BS:32 LR:0.0005",
           "[199, 96]"
          ],
          [
           "FL1:16 FL2:16 DR:0.3 BS:32 LR:0.0005",
           "[199, 96]"
          ],
          [
           "FL1:16 FL2:16 DR:0.3 BS:32 LR:0.0005",
           "[199, 96]"
          ]
         ],
         "hovertemplate": "variable=train_loss<br>trial_id=802fd_00089<br>epoch=%{x}<br>value=%{y}<br>Hyperparameters=%{customdata[0]}<br>checkpoints=%{customdata[1]}<extra></extra>",
         "legendgroup": "train_loss, 802fd_00089",
         "line": {
          "color": "#EF553B",
          "dash": "dash"
         },
         "marker": {
          "symbol": "circle"
         },
         "mode": "lines",
         "name": "train_loss, 802fd_00089",
         "showlegend": true,
         "type": "scattergl",
         "x": [
          0,
          1,
          2,
          3,
          4,
          5,
          6,
          7,
          8,
          9,
          10,
          11,
          12,
          13,
          14,
          15,
          16,
          17,
          18,
          19,
          20,
          21,
          22,
          23,
          24,
          25,
          26,
          27,
          28,
          29,
          30,
          31,
          32,
          33,
          34,
          35,
          36,
          37,
          38,
          39,
          40,
          41,
          42,
          43,
          44,
          45,
          46,
          47,
          48,
          49,
          50,
          51,
          52,
          53,
          54,
          55,
          56,
          57,
          58,
          59,
          60,
          61,
          62,
          63,
          64,
          65,
          66,
          67,
          68,
          69,
          70,
          71,
          72,
          73,
          74,
          75,
          76,
          77,
          78,
          79,
          80,
          81,
          82,
          83,
          84,
          85,
          86,
          87,
          88,
          89,
          90,
          91,
          92,
          93,
          94,
          95,
          96,
          97,
          98,
          99,
          100,
          101,
          102,
          103,
          104,
          105,
          106,
          107,
          108,
          109,
          110,
          111,
          112,
          113,
          114,
          115,
          116,
          117,
          118,
          119,
          120,
          121,
          122,
          123,
          124,
          125,
          126,
          127,
          128,
          129,
          130,
          131,
          132,
          133,
          134,
          135,
          136,
          137,
          138,
          139,
          140,
          141,
          142,
          143,
          144,
          145,
          146,
          147,
          148,
          149,
          150,
          151,
          152,
          153,
          154,
          155,
          156,
          157,
          158,
          159,
          160,
          161,
          162,
          163,
          164,
          165,
          166,
          167,
          168,
          169,
          170,
          171,
          172,
          173,
          174,
          175,
          176,
          177,
          178,
          179,
          180,
          181,
          182,
          183,
          184,
          185,
          186,
          187,
          188,
          189,
          190,
          191,
          192,
          193,
          194,
          195,
          196,
          197,
          198,
          199
         ],
         "xaxis": "x",
         "y": [
          0.43907058238983043,
          0.42337060968080986,
          0.43299827641910754,
          0.3618757371549233,
          0.2703644497159071,
          0.19397039052267512,
          0.23457476057224488,
          0.18905213182246014,
          0.21207459572338547,
          0.2750871996308919,
          0.36033659645090743,
          0.3024167532269833,
          0.2438774780793106,
          0.28740264484373074,
          0.24141536659060114,
          0.23865344627736748,
          0.23234782784540559,
          0.2035071927266588,
          0.1775461635958662,
          0.19313336756305577,
          0.24218790628166037,
          0.2826528575529714,
          0.2628120002819467,
          0.19108889162032913,
          0.16636095136065662,
          0.14895165423326584,
          0.12955220099802056,
          0.13786330856558474,
          0.09705820921925562,
          0.11444284183361661,
          0.1249210696258709,
          0.13144144984341724,
          0.09811355055873296,
          0.07076740745209786,
          0.10177320065434159,
          0.07576344355003949,
          0.11134176581473383,
          0.12767857233266813,
          0.10746602412449492,
          0.18164668279480303,
          0.2667700701130179,
          0.2084706460881726,
          0.17511381195310038,
          0.1532229556727624,
          0.1823718795569875,
          0.15882079464807336,
          0.12773699421097304,
          0.16220613392465236,
          0.14954526356374473,
          0.1894684210851136,
          0.17178948723172732,
          0.1407354358361533,
          0.12849451078483573,
          0.17519734947886076,
          0.17195893426077857,
          0.2463177912721181,
          0.17542742222806762,
          0.1323175779995715,
          0.1262999335605165,
          0.09053786473494503,
          0.06682008754559174,
          0.0638920532421787,
          0.05386617021471383,
          0.0751998672002559,
          0.07104766776919383,
          0.07142173770904534,
          0.06745619756539642,
          0.0645360962884953,
          0.07392612207845363,
          0.057947651893996525,
          0.04163746004376363,
          0.06957253956181146,
          0.08997119064716688,
          0.10392043388941649,
          0.11260340377396154,
          0.10458903769457192,
          0.11647375927901135,
          0.07948397083604246,
          0.06792859598016668,
          0.10720951765123912,
          0.09001717408063602,
          0.07693650616250153,
          0.20813967316045723,
          0.1590954626016772,
          0.13885962727420545,
          0.09293976653172664,
          0.06735832085082323,
          0.16046690338101163,
          0.167283287599657,
          0.15497456885375813,
          0.23101973796551817,
          0.18996607439163898,
          0.14038727259598546,
          0.14000917855873585,
          0.13792685094127938,
          0.17886707466608812,
          0.1459857368255092,
          0.11444928331735604,
          0.11926547576031965,
          0.10023566179170779,
          0.19374618326753,
          0.24733521802643596,
          0.17386869908816052,
          0.1343358457680968,
          0.0911576138272999,
          0.19654619603257067,
          0.1601067005521765,
          0.143676110037612,
          0.3855857702946954,
          0.26833239216647486,
          0.19637503239209073,
          0.1924910032927629,
          0.19423514665362762,
          0.13789374856450506,
          0.09882469543681102,
          0.14017871067832227,
          0.11376984820372721,
          0.07676552124412928,
          0.08744507705232853,
          0.059460796747349054,
          0.13768432063112077,
          0.1434722130315129,
          0.1314410317153811,
          0.11987476618495756,
          0.10794818034706608,
          0.08598976462045031,
          0.07817719796603717,
          0.079145798546114,
          0.059248554888393076,
          0.06477575959962294,
          0.04571621586474565,
          0.09009753975333583,
          0.10975684764028759,
          0.08499005174995235,
          0.11283808772008093,
          0.07635431488369385,
          0.06715239418887073,
          0.22814197231228334,
          0.17351095718738213,
          0.12568969692685047,
          0.09412633654738684,
          0.17925237137254801,
          0.13762299107628867,
          0.17900851956418956,
          0.17496836577131847,
          0.11708502464809431,
          0.07808940747479894,
          0.09242922739254271,
          0.07627913927745038,
          0.079675253568167,
          0.25603403405220787,
          0.179160617123852,
          0.12615723896742514,
          0.10679533573468941,
          0.11758135916445234,
          0.08379320183001339,
          0.0800650451156984,
          0.05834607598755027,
          0.15705779074015308,
          0.12499967757782715,
          0.08540120382596303,
          0.06897485651565419,
          0.07330584044584164,
          0.19891397830730254,
          0.15186742189450764,
          0.17691286565809528,
          0.20699704131781382,
          0.14634757719138805,
          0.13100961749222215,
          0.10806289293346347,
          0.08305048679628324,
          0.05928901035135551,
          0.04021373778756664,
          0.02961690299329624,
          0.0471558716404268,
          0.06861636019467146,
          0.06134594588954456,
          0.051575706548023195,
          0.05631174968118647,
          0.0396010540831266,
          0.05243736011506288,
          0.06555967448632674,
          0.04641833216187524,
          0.03563339085785653,
          0.06143274536667972,
          0.061023738274565566,
          0.1187250639263725,
          0.12083866366174031,
          0.09710939547039528,
          0.15142792675639102,
          0.10620869154728055,
          0.1012106799747981,
          0.11737169084724003,
          0.11771329828617419,
          0.1124246217377809,
          0.08385114769590074,
          0.0837186204092512,
          0.10474614810260163,
          0.07400233057679083,
          0.09119976896406079
         ],
         "yaxis": "y"
        },
        {
         "customdata": [
          [
           "FL1:32 FL2:256 DR:0.3 BS:64 LR:0.005",
           "[199, 173]"
          ],
          [
           "FL1:32 FL2:256 DR:0.3 BS:64 LR:0.005",
           "[199, 173]"
          ],
          [
           "FL1:32 FL2:256 DR:0.3 BS:64 LR:0.005",
           "[199, 173]"
          ],
          [
           "FL1:32 FL2:256 DR:0.3 BS:64 LR:0.005",
           "[199, 173]"
          ],
          [
           "FL1:32 FL2:256 DR:0.3 BS:64 LR:0.005",
           "[199, 173]"
          ],
          [
           "FL1:32 FL2:256 DR:0.3 BS:64 LR:0.005",
           "[199, 173]"
          ],
          [
           "FL1:32 FL2:256 DR:0.3 BS:64 LR:0.005",
           "[199, 173]"
          ],
          [
           "FL1:32 FL2:256 DR:0.3 BS:64 LR:0.005",
           "[199, 173]"
          ],
          [
           "FL1:32 FL2:256 DR:0.3 BS:64 LR:0.005",
           "[199, 173]"
          ],
          [
           "FL1:32 FL2:256 DR:0.3 BS:64 LR:0.005",
           "[199, 173]"
          ],
          [
           "FL1:32 FL2:256 DR:0.3 BS:64 LR:0.005",
           "[199, 173]"
          ],
          [
           "FL1:32 FL2:256 DR:0.3 BS:64 LR:0.005",
           "[199, 173]"
          ],
          [
           "FL1:32 FL2:256 DR:0.3 BS:64 LR:0.005",
           "[199, 173]"
          ],
          [
           "FL1:32 FL2:256 DR:0.3 BS:64 LR:0.005",
           "[199, 173]"
          ],
          [
           "FL1:32 FL2:256 DR:0.3 BS:64 LR:0.005",
           "[199, 173]"
          ],
          [
           "FL1:32 FL2:256 DR:0.3 BS:64 LR:0.005",
           "[199, 173]"
          ],
          [
           "FL1:32 FL2:256 DR:0.3 BS:64 LR:0.005",
           "[199, 173]"
          ],
          [
           "FL1:32 FL2:256 DR:0.3 BS:64 LR:0.005",
           "[199, 173]"
          ],
          [
           "FL1:32 FL2:256 DR:0.3 BS:64 LR:0.005",
           "[199, 173]"
          ],
          [
           "FL1:32 FL2:256 DR:0.3 BS:64 LR:0.005",
           "[199, 173]"
          ],
          [
           "FL1:32 FL2:256 DR:0.3 BS:64 LR:0.005",
           "[199, 173]"
          ],
          [
           "FL1:32 FL2:256 DR:0.3 BS:64 LR:0.005",
           "[199, 173]"
          ],
          [
           "FL1:32 FL2:256 DR:0.3 BS:64 LR:0.005",
           "[199, 173]"
          ],
          [
           "FL1:32 FL2:256 DR:0.3 BS:64 LR:0.005",
           "[199, 173]"
          ],
          [
           "FL1:32 FL2:256 DR:0.3 BS:64 LR:0.005",
           "[199, 173]"
          ],
          [
           "FL1:32 FL2:256 DR:0.3 BS:64 LR:0.005",
           "[199, 173]"
          ],
          [
           "FL1:32 FL2:256 DR:0.3 BS:64 LR:0.005",
           "[199, 173]"
          ],
          [
           "FL1:32 FL2:256 DR:0.3 BS:64 LR:0.005",
           "[199, 173]"
          ],
          [
           "FL1:32 FL2:256 DR:0.3 BS:64 LR:0.005",
           "[199, 173]"
          ],
          [
           "FL1:32 FL2:256 DR:0.3 BS:64 LR:0.005",
           "[199, 173]"
          ],
          [
           "FL1:32 FL2:256 DR:0.3 BS:64 LR:0.005",
           "[199, 173]"
          ],
          [
           "FL1:32 FL2:256 DR:0.3 BS:64 LR:0.005",
           "[199, 173]"
          ],
          [
           "FL1:32 FL2:256 DR:0.3 BS:64 LR:0.005",
           "[199, 173]"
          ],
          [
           "FL1:32 FL2:256 DR:0.3 BS:64 LR:0.005",
           "[199, 173]"
          ],
          [
           "FL1:32 FL2:256 DR:0.3 BS:64 LR:0.005",
           "[199, 173]"
          ],
          [
           "FL1:32 FL2:256 DR:0.3 BS:64 LR:0.005",
           "[199, 173]"
          ],
          [
           "FL1:32 FL2:256 DR:0.3 BS:64 LR:0.005",
           "[199, 173]"
          ],
          [
           "FL1:32 FL2:256 DR:0.3 BS:64 LR:0.005",
           "[199, 173]"
          ],
          [
           "FL1:32 FL2:256 DR:0.3 BS:64 LR:0.005",
           "[199, 173]"
          ],
          [
           "FL1:32 FL2:256 DR:0.3 BS:64 LR:0.005",
           "[199, 173]"
          ],
          [
           "FL1:32 FL2:256 DR:0.3 BS:64 LR:0.005",
           "[199, 173]"
          ],
          [
           "FL1:32 FL2:256 DR:0.3 BS:64 LR:0.005",
           "[199, 173]"
          ],
          [
           "FL1:32 FL2:256 DR:0.3 BS:64 LR:0.005",
           "[199, 173]"
          ],
          [
           "FL1:32 FL2:256 DR:0.3 BS:64 LR:0.005",
           "[199, 173]"
          ],
          [
           "FL1:32 FL2:256 DR:0.3 BS:64 LR:0.005",
           "[199, 173]"
          ],
          [
           "FL1:32 FL2:256 DR:0.3 BS:64 LR:0.005",
           "[199, 173]"
          ],
          [
           "FL1:32 FL2:256 DR:0.3 BS:64 LR:0.005",
           "[199, 173]"
          ],
          [
           "FL1:32 FL2:256 DR:0.3 BS:64 LR:0.005",
           "[199, 173]"
          ],
          [
           "FL1:32 FL2:256 DR:0.3 BS:64 LR:0.005",
           "[199, 173]"
          ],
          [
           "FL1:32 FL2:256 DR:0.3 BS:64 LR:0.005",
           "[199, 173]"
          ],
          [
           "FL1:32 FL2:256 DR:0.3 BS:64 LR:0.005",
           "[199, 173]"
          ],
          [
           "FL1:32 FL2:256 DR:0.3 BS:64 LR:0.005",
           "[199, 173]"
          ],
          [
           "FL1:32 FL2:256 DR:0.3 BS:64 LR:0.005",
           "[199, 173]"
          ],
          [
           "FL1:32 FL2:256 DR:0.3 BS:64 LR:0.005",
           "[199, 173]"
          ],
          [
           "FL1:32 FL2:256 DR:0.3 BS:64 LR:0.005",
           "[199, 173]"
          ],
          [
           "FL1:32 FL2:256 DR:0.3 BS:64 LR:0.005",
           "[199, 173]"
          ],
          [
           "FL1:32 FL2:256 DR:0.3 BS:64 LR:0.005",
           "[199, 173]"
          ],
          [
           "FL1:32 FL2:256 DR:0.3 BS:64 LR:0.005",
           "[199, 173]"
          ],
          [
           "FL1:32 FL2:256 DR:0.3 BS:64 LR:0.005",
           "[199, 173]"
          ],
          [
           "FL1:32 FL2:256 DR:0.3 BS:64 LR:0.005",
           "[199, 173]"
          ],
          [
           "FL1:32 FL2:256 DR:0.3 BS:64 LR:0.005",
           "[199, 173]"
          ],
          [
           "FL1:32 FL2:256 DR:0.3 BS:64 LR:0.005",
           "[199, 173]"
          ],
          [
           "FL1:32 FL2:256 DR:0.3 BS:64 LR:0.005",
           "[199, 173]"
          ],
          [
           "FL1:32 FL2:256 DR:0.3 BS:64 LR:0.005",
           "[199, 173]"
          ],
          [
           "FL1:32 FL2:256 DR:0.3 BS:64 LR:0.005",
           "[199, 173]"
          ],
          [
           "FL1:32 FL2:256 DR:0.3 BS:64 LR:0.005",
           "[199, 173]"
          ],
          [
           "FL1:32 FL2:256 DR:0.3 BS:64 LR:0.005",
           "[199, 173]"
          ],
          [
           "FL1:32 FL2:256 DR:0.3 BS:64 LR:0.005",
           "[199, 173]"
          ],
          [
           "FL1:32 FL2:256 DR:0.3 BS:64 LR:0.005",
           "[199, 173]"
          ],
          [
           "FL1:32 FL2:256 DR:0.3 BS:64 LR:0.005",
           "[199, 173]"
          ],
          [
           "FL1:32 FL2:256 DR:0.3 BS:64 LR:0.005",
           "[199, 173]"
          ],
          [
           "FL1:32 FL2:256 DR:0.3 BS:64 LR:0.005",
           "[199, 173]"
          ],
          [
           "FL1:32 FL2:256 DR:0.3 BS:64 LR:0.005",
           "[199, 173]"
          ],
          [
           "FL1:32 FL2:256 DR:0.3 BS:64 LR:0.005",
           "[199, 173]"
          ],
          [
           "FL1:32 FL2:256 DR:0.3 BS:64 LR:0.005",
           "[199, 173]"
          ],
          [
           "FL1:32 FL2:256 DR:0.3 BS:64 LR:0.005",
           "[199, 173]"
          ],
          [
           "FL1:32 FL2:256 DR:0.3 BS:64 LR:0.005",
           "[199, 173]"
          ],
          [
           "FL1:32 FL2:256 DR:0.3 BS:64 LR:0.005",
           "[199, 173]"
          ],
          [
           "FL1:32 FL2:256 DR:0.3 BS:64 LR:0.005",
           "[199, 173]"
          ],
          [
           "FL1:32 FL2:256 DR:0.3 BS:64 LR:0.005",
           "[199, 173]"
          ],
          [
           "FL1:32 FL2:256 DR:0.3 BS:64 LR:0.005",
           "[199, 173]"
          ],
          [
           "FL1:32 FL2:256 DR:0.3 BS:64 LR:0.005",
           "[199, 173]"
          ],
          [
           "FL1:32 FL2:256 DR:0.3 BS:64 LR:0.005",
           "[199, 173]"
          ],
          [
           "FL1:32 FL2:256 DR:0.3 BS:64 LR:0.005",
           "[199, 173]"
          ],
          [
           "FL1:32 FL2:256 DR:0.3 BS:64 LR:0.005",
           "[199, 173]"
          ],
          [
           "FL1:32 FL2:256 DR:0.3 BS:64 LR:0.005",
           "[199, 173]"
          ],
          [
           "FL1:32 FL2:256 DR:0.3 BS:64 LR:0.005",
           "[199, 173]"
          ],
          [
           "FL1:32 FL2:256 DR:0.3 BS:64 LR:0.005",
           "[199, 173]"
          ],
          [
           "FL1:32 FL2:256 DR:0.3 BS:64 LR:0.005",
           "[199, 173]"
          ],
          [
           "FL1:32 FL2:256 DR:0.3 BS:64 LR:0.005",
           "[199, 173]"
          ],
          [
           "FL1:32 FL2:256 DR:0.3 BS:64 LR:0.005",
           "[199, 173]"
          ],
          [
           "FL1:32 FL2:256 DR:0.3 BS:64 LR:0.005",
           "[199, 173]"
          ],
          [
           "FL1:32 FL2:256 DR:0.3 BS:64 LR:0.005",
           "[199, 173]"
          ],
          [
           "FL1:32 FL2:256 DR:0.3 BS:64 LR:0.005",
           "[199, 173]"
          ],
          [
           "FL1:32 FL2:256 DR:0.3 BS:64 LR:0.005",
           "[199, 173]"
          ],
          [
           "FL1:32 FL2:256 DR:0.3 BS:64 LR:0.005",
           "[199, 173]"
          ],
          [
           "FL1:32 FL2:256 DR:0.3 BS:64 LR:0.005",
           "[199, 173]"
          ],
          [
           "FL1:32 FL2:256 DR:0.3 BS:64 LR:0.005",
           "[199, 173]"
          ],
          [
           "FL1:32 FL2:256 DR:0.3 BS:64 LR:0.005",
           "[199, 173]"
          ],
          [
           "FL1:32 FL2:256 DR:0.3 BS:64 LR:0.005",
           "[199, 173]"
          ],
          [
           "FL1:32 FL2:256 DR:0.3 BS:64 LR:0.005",
           "[199, 173]"
          ],
          [
           "FL1:32 FL2:256 DR:0.3 BS:64 LR:0.005",
           "[199, 173]"
          ],
          [
           "FL1:32 FL2:256 DR:0.3 BS:64 LR:0.005",
           "[199, 173]"
          ],
          [
           "FL1:32 FL2:256 DR:0.3 BS:64 LR:0.005",
           "[199, 173]"
          ],
          [
           "FL1:32 FL2:256 DR:0.3 BS:64 LR:0.005",
           "[199, 173]"
          ],
          [
           "FL1:32 FL2:256 DR:0.3 BS:64 LR:0.005",
           "[199, 173]"
          ],
          [
           "FL1:32 FL2:256 DR:0.3 BS:64 LR:0.005",
           "[199, 173]"
          ],
          [
           "FL1:32 FL2:256 DR:0.3 BS:64 LR:0.005",
           "[199, 173]"
          ],
          [
           "FL1:32 FL2:256 DR:0.3 BS:64 LR:0.005",
           "[199, 173]"
          ],
          [
           "FL1:32 FL2:256 DR:0.3 BS:64 LR:0.005",
           "[199, 173]"
          ],
          [
           "FL1:32 FL2:256 DR:0.3 BS:64 LR:0.005",
           "[199, 173]"
          ],
          [
           "FL1:32 FL2:256 DR:0.3 BS:64 LR:0.005",
           "[199, 173]"
          ],
          [
           "FL1:32 FL2:256 DR:0.3 BS:64 LR:0.005",
           "[199, 173]"
          ],
          [
           "FL1:32 FL2:256 DR:0.3 BS:64 LR:0.005",
           "[199, 173]"
          ],
          [
           "FL1:32 FL2:256 DR:0.3 BS:64 LR:0.005",
           "[199, 173]"
          ],
          [
           "FL1:32 FL2:256 DR:0.3 BS:64 LR:0.005",
           "[199, 173]"
          ],
          [
           "FL1:32 FL2:256 DR:0.3 BS:64 LR:0.005",
           "[199, 173]"
          ],
          [
           "FL1:32 FL2:256 DR:0.3 BS:64 LR:0.005",
           "[199, 173]"
          ],
          [
           "FL1:32 FL2:256 DR:0.3 BS:64 LR:0.005",
           "[199, 173]"
          ],
          [
           "FL1:32 FL2:256 DR:0.3 BS:64 LR:0.005",
           "[199, 173]"
          ],
          [
           "FL1:32 FL2:256 DR:0.3 BS:64 LR:0.005",
           "[199, 173]"
          ],
          [
           "FL1:32 FL2:256 DR:0.3 BS:64 LR:0.005",
           "[199, 173]"
          ],
          [
           "FL1:32 FL2:256 DR:0.3 BS:64 LR:0.005",
           "[199, 173]"
          ],
          [
           "FL1:32 FL2:256 DR:0.3 BS:64 LR:0.005",
           "[199, 173]"
          ],
          [
           "FL1:32 FL2:256 DR:0.3 BS:64 LR:0.005",
           "[199, 173]"
          ],
          [
           "FL1:32 FL2:256 DR:0.3 BS:64 LR:0.005",
           "[199, 173]"
          ],
          [
           "FL1:32 FL2:256 DR:0.3 BS:64 LR:0.005",
           "[199, 173]"
          ],
          [
           "FL1:32 FL2:256 DR:0.3 BS:64 LR:0.005",
           "[199, 173]"
          ],
          [
           "FL1:32 FL2:256 DR:0.3 BS:64 LR:0.005",
           "[199, 173]"
          ],
          [
           "FL1:32 FL2:256 DR:0.3 BS:64 LR:0.005",
           "[199, 173]"
          ],
          [
           "FL1:32 FL2:256 DR:0.3 BS:64 LR:0.005",
           "[199, 173]"
          ],
          [
           "FL1:32 FL2:256 DR:0.3 BS:64 LR:0.005",
           "[199, 173]"
          ],
          [
           "FL1:32 FL2:256 DR:0.3 BS:64 LR:0.005",
           "[199, 173]"
          ],
          [
           "FL1:32 FL2:256 DR:0.3 BS:64 LR:0.005",
           "[199, 173]"
          ],
          [
           "FL1:32 FL2:256 DR:0.3 BS:64 LR:0.005",
           "[199, 173]"
          ],
          [
           "FL1:32 FL2:256 DR:0.3 BS:64 LR:0.005",
           "[199, 173]"
          ],
          [
           "FL1:32 FL2:256 DR:0.3 BS:64 LR:0.005",
           "[199, 173]"
          ],
          [
           "FL1:32 FL2:256 DR:0.3 BS:64 LR:0.005",
           "[199, 173]"
          ],
          [
           "FL1:32 FL2:256 DR:0.3 BS:64 LR:0.005",
           "[199, 173]"
          ],
          [
           "FL1:32 FL2:256 DR:0.3 BS:64 LR:0.005",
           "[199, 173]"
          ],
          [
           "FL1:32 FL2:256 DR:0.3 BS:64 LR:0.005",
           "[199, 173]"
          ],
          [
           "FL1:32 FL2:256 DR:0.3 BS:64 LR:0.005",
           "[199, 173]"
          ],
          [
           "FL1:32 FL2:256 DR:0.3 BS:64 LR:0.005",
           "[199, 173]"
          ],
          [
           "FL1:32 FL2:256 DR:0.3 BS:64 LR:0.005",
           "[199, 173]"
          ],
          [
           "FL1:32 FL2:256 DR:0.3 BS:64 LR:0.005",
           "[199, 173]"
          ],
          [
           "FL1:32 FL2:256 DR:0.3 BS:64 LR:0.005",
           "[199, 173]"
          ],
          [
           "FL1:32 FL2:256 DR:0.3 BS:64 LR:0.005",
           "[199, 173]"
          ],
          [
           "FL1:32 FL2:256 DR:0.3 BS:64 LR:0.005",
           "[199, 173]"
          ],
          [
           "FL1:32 FL2:256 DR:0.3 BS:64 LR:0.005",
           "[199, 173]"
          ],
          [
           "FL1:32 FL2:256 DR:0.3 BS:64 LR:0.005",
           "[199, 173]"
          ],
          [
           "FL1:32 FL2:256 DR:0.3 BS:64 LR:0.005",
           "[199, 173]"
          ],
          [
           "FL1:32 FL2:256 DR:0.3 BS:64 LR:0.005",
           "[199, 173]"
          ],
          [
           "FL1:32 FL2:256 DR:0.3 BS:64 LR:0.005",
           "[199, 173]"
          ],
          [
           "FL1:32 FL2:256 DR:0.3 BS:64 LR:0.005",
           "[199, 173]"
          ],
          [
           "FL1:32 FL2:256 DR:0.3 BS:64 LR:0.005",
           "[199, 173]"
          ],
          [
           "FL1:32 FL2:256 DR:0.3 BS:64 LR:0.005",
           "[199, 173]"
          ],
          [
           "FL1:32 FL2:256 DR:0.3 BS:64 LR:0.005",
           "[199, 173]"
          ],
          [
           "FL1:32 FL2:256 DR:0.3 BS:64 LR:0.005",
           "[199, 173]"
          ],
          [
           "FL1:32 FL2:256 DR:0.3 BS:64 LR:0.005",
           "[199, 173]"
          ],
          [
           "FL1:32 FL2:256 DR:0.3 BS:64 LR:0.005",
           "[199, 173]"
          ],
          [
           "FL1:32 FL2:256 DR:0.3 BS:64 LR:0.005",
           "[199, 173]"
          ],
          [
           "FL1:32 FL2:256 DR:0.3 BS:64 LR:0.005",
           "[199, 173]"
          ],
          [
           "FL1:32 FL2:256 DR:0.3 BS:64 LR:0.005",
           "[199, 173]"
          ],
          [
           "FL1:32 FL2:256 DR:0.3 BS:64 LR:0.005",
           "[199, 173]"
          ],
          [
           "FL1:32 FL2:256 DR:0.3 BS:64 LR:0.005",
           "[199, 173]"
          ],
          [
           "FL1:32 FL2:256 DR:0.3 BS:64 LR:0.005",
           "[199, 173]"
          ],
          [
           "FL1:32 FL2:256 DR:0.3 BS:64 LR:0.005",
           "[199, 173]"
          ],
          [
           "FL1:32 FL2:256 DR:0.3 BS:64 LR:0.005",
           "[199, 173]"
          ],
          [
           "FL1:32 FL2:256 DR:0.3 BS:64 LR:0.005",
           "[199, 173]"
          ],
          [
           "FL1:32 FL2:256 DR:0.3 BS:64 LR:0.005",
           "[199, 173]"
          ],
          [
           "FL1:32 FL2:256 DR:0.3 BS:64 LR:0.005",
           "[199, 173]"
          ],
          [
           "FL1:32 FL2:256 DR:0.3 BS:64 LR:0.005",
           "[199, 173]"
          ],
          [
           "FL1:32 FL2:256 DR:0.3 BS:64 LR:0.005",
           "[199, 173]"
          ],
          [
           "FL1:32 FL2:256 DR:0.3 BS:64 LR:0.005",
           "[199, 173]"
          ],
          [
           "FL1:32 FL2:256 DR:0.3 BS:64 LR:0.005",
           "[199, 173]"
          ],
          [
           "FL1:32 FL2:256 DR:0.3 BS:64 LR:0.005",
           "[199, 173]"
          ],
          [
           "FL1:32 FL2:256 DR:0.3 BS:64 LR:0.005",
           "[199, 173]"
          ],
          [
           "FL1:32 FL2:256 DR:0.3 BS:64 LR:0.005",
           "[199, 173]"
          ],
          [
           "FL1:32 FL2:256 DR:0.3 BS:64 LR:0.005",
           "[199, 173]"
          ],
          [
           "FL1:32 FL2:256 DR:0.3 BS:64 LR:0.005",
           "[199, 173]"
          ],
          [
           "FL1:32 FL2:256 DR:0.3 BS:64 LR:0.005",
           "[199, 173]"
          ],
          [
           "FL1:32 FL2:256 DR:0.3 BS:64 LR:0.005",
           "[199, 173]"
          ],
          [
           "FL1:32 FL2:256 DR:0.3 BS:64 LR:0.005",
           "[199, 173]"
          ],
          [
           "FL1:32 FL2:256 DR:0.3 BS:64 LR:0.005",
           "[199, 173]"
          ],
          [
           "FL1:32 FL2:256 DR:0.3 BS:64 LR:0.005",
           "[199, 173]"
          ],
          [
           "FL1:32 FL2:256 DR:0.3 BS:64 LR:0.005",
           "[199, 173]"
          ],
          [
           "FL1:32 FL2:256 DR:0.3 BS:64 LR:0.005",
           "[199, 173]"
          ],
          [
           "FL1:32 FL2:256 DR:0.3 BS:64 LR:0.005",
           "[199, 173]"
          ],
          [
           "FL1:32 FL2:256 DR:0.3 BS:64 LR:0.005",
           "[199, 173]"
          ],
          [
           "FL1:32 FL2:256 DR:0.3 BS:64 LR:0.005",
           "[199, 173]"
          ],
          [
           "FL1:32 FL2:256 DR:0.3 BS:64 LR:0.005",
           "[199, 173]"
          ],
          [
           "FL1:32 FL2:256 DR:0.3 BS:64 LR:0.005",
           "[199, 173]"
          ],
          [
           "FL1:32 FL2:256 DR:0.3 BS:64 LR:0.005",
           "[199, 173]"
          ],
          [
           "FL1:32 FL2:256 DR:0.3 BS:64 LR:0.005",
           "[199, 173]"
          ],
          [
           "FL1:32 FL2:256 DR:0.3 BS:64 LR:0.005",
           "[199, 173]"
          ],
          [
           "FL1:32 FL2:256 DR:0.3 BS:64 LR:0.005",
           "[199, 173]"
          ],
          [
           "FL1:32 FL2:256 DR:0.3 BS:64 LR:0.005",
           "[199, 173]"
          ],
          [
           "FL1:32 FL2:256 DR:0.3 BS:64 LR:0.005",
           "[199, 173]"
          ],
          [
           "FL1:32 FL2:256 DR:0.3 BS:64 LR:0.005",
           "[199, 173]"
          ],
          [
           "FL1:32 FL2:256 DR:0.3 BS:64 LR:0.005",
           "[199, 173]"
          ]
         ],
         "hovertemplate": "variable=train_loss<br>trial_id=802fd_00006<br>epoch=%{x}<br>value=%{y}<br>Hyperparameters=%{customdata[0]}<br>checkpoints=%{customdata[1]}<extra></extra>",
         "legendgroup": "train_loss, 802fd_00006",
         "line": {
          "color": "#EF553B",
          "dash": "longdash"
         },
         "marker": {
          "symbol": "circle"
         },
         "mode": "lines",
         "name": "train_loss, 802fd_00006",
         "showlegend": true,
         "type": "scattergl",
         "x": [
          0,
          1,
          2,
          3,
          4,
          5,
          6,
          7,
          8,
          9,
          10,
          11,
          12,
          13,
          14,
          15,
          16,
          17,
          18,
          19,
          20,
          21,
          22,
          23,
          24,
          25,
          26,
          27,
          28,
          29,
          30,
          31,
          32,
          33,
          34,
          35,
          36,
          37,
          38,
          39,
          40,
          41,
          42,
          43,
          44,
          45,
          46,
          47,
          48,
          49,
          50,
          51,
          52,
          53,
          54,
          55,
          56,
          57,
          58,
          59,
          60,
          61,
          62,
          63,
          64,
          65,
          66,
          67,
          68,
          69,
          70,
          71,
          72,
          73,
          74,
          75,
          76,
          77,
          78,
          79,
          80,
          81,
          82,
          83,
          84,
          85,
          86,
          87,
          88,
          89,
          90,
          91,
          92,
          93,
          94,
          95,
          96,
          97,
          98,
          99,
          100,
          101,
          102,
          103,
          104,
          105,
          106,
          107,
          108,
          109,
          110,
          111,
          112,
          113,
          114,
          115,
          116,
          117,
          118,
          119,
          120,
          121,
          122,
          123,
          124,
          125,
          126,
          127,
          128,
          129,
          130,
          131,
          132,
          133,
          134,
          135,
          136,
          137,
          138,
          139,
          140,
          141,
          142,
          143,
          144,
          145,
          146,
          147,
          148,
          149,
          150,
          151,
          152,
          153,
          154,
          155,
          156,
          157,
          158,
          159,
          160,
          161,
          162,
          163,
          164,
          165,
          166,
          167,
          168,
          169,
          170,
          171,
          172,
          173,
          174,
          175,
          176,
          177,
          178,
          179,
          180,
          181,
          182,
          183,
          184,
          185,
          186,
          187,
          188,
          189,
          190,
          191,
          192,
          193,
          194,
          195,
          196,
          197,
          198,
          199
         ],
         "xaxis": "x",
         "y": [
          0.22936557233333527,
          0.2448443869749694,
          0.265716777907476,
          0.29952077181250775,
          0.29531981290122417,
          0.30757748246683303,
          0.29594272812534383,
          0.2672954677894972,
          0.2679912070006299,
          0.3208345320204995,
          0.3092357017186013,
          0.3263714378136207,
          0.2961440874508885,
          0.28858642070636864,
          0.2680469687723162,
          0.23176751109911578,
          0.2436344959534107,
          0.28057057911799255,
          0.22055483943651696,
          0.20877997799999526,
          0.24320141622945265,
          0.2230242715910046,
          0.21607521187166118,
          0.18906409052279055,
          0.18459953206954,
          0.18502404681959106,
          0.1859457651252103,
          0.167441920073466,
          0.1372350955218979,
          0.13393404445455495,
          0.16634636197756353,
          0.19742426656531314,
          0.1738593752705188,
          0.15776523123338007,
          0.1449014191505256,
          0.14339407415369734,
          0.15105384509549888,
          0.18027193791857202,
          0.16928560003433488,
          0.1903905203924826,
          0.2079135580848484,
          0.20051151706051967,
          0.19248492647059812,
          0.19723493608400547,
          0.1997160762718336,
          0.22229514520506105,
          0.20172835059391117,
          0.19446852748544075,
          0.19174533052544454,
          0.21745073108739696,
          0.21872634231293836,
          0.1732511059393128,
          0.1798211922877122,
          0.2138305498913314,
          0.17979267777703747,
          0.1957764512413241,
          0.18102588495370361,
          0.15939659370817458,
          0.14108160465185957,
          0.13959866483493028,
          0.1889885943431541,
          0.15675676241840797,
          0.15606124450978848,
          0.15028401050446538,
          0.12258556457677208,
          0.1355930763636606,
          0.16325678250223855,
          0.18182058348278451,
          0.18581716030187195,
          0.17743759889964744,
          0.16653283132158672,
          0.14128334203059753,
          0.14485650843180037,
          0.16132811430955427,
          0.17306290052906956,
          0.18169751420667574,
          0.19756436119510545,
          0.17942749308237604,
          0.15187570185587895,
          0.16560361604641557,
          0.1440687432603746,
          0.17303854920577344,
          0.17221863036759213,
          0.17326069517537918,
          0.14496176122695165,
          0.1476071439125134,
          0.13434857126328614,
          0.1505766659726911,
          0.1755786289605965,
          0.1797827266874223,
          0.15419795666948324,
          0.16462154391616782,
          0.1482637231761227,
          0.15978640352447854,
          0.16096738500568578,
          0.16295735387784407,
          0.17590740719624418,
          0.1738119151803387,
          0.14958851712362825,
          0.13610685320309016,
          0.14513615072840552,
          0.1230355496279006,
          0.1506877885971862,
          0.16069685232072345,
          0.15661745476344702,
          0.1614240206454821,
          0.13977025347780014,
          0.13635858825730468,
          0.15398842051219355,
          0.15846458047357762,
          0.17081716139930814,
          0.16540890090875013,
          0.165690600231039,
          0.13825630105518444,
          0.13336606129661596,
          0.14538824925591767,
          0.1440891548644845,
          0.12710283942695072,
          0.1834834731133481,
          0.16415584031156005,
          0.17843672098988445,
          0.14644536019877671,
          0.13794339707504402,
          0.14079586340990755,
          0.13531008560794625,
          0.10996560511879132,
          0.11607641318037748,
          0.12398218836118505,
          0.1440701665198118,
          0.13963967771763972,
          0.13647798340476436,
          0.14193686770701958,
          0.160295724387331,
          0.14242396223237963,
          0.1392896454711146,
          0.11601956312387414,
          0.12158664150058679,
          0.11447669455090768,
          0.13499910559044637,
          0.1324907552916892,
          0.14272508102781784,
          0.1709450389155224,
          0.1713062362676507,
          0.16664843670564491,
          0.14578730140816876,
          0.13741011106101447,
          0.11594729081211984,
          0.11337617010155293,
          0.13698635478999155,
          0.133087730938765,
          0.16562191581366573,
          0.1971316697573531,
          0.14509285281935444,
          0.1354992814583187,
          0.09967436990622705,
          0.09285478029969,
          0.12915108922006416,
          0.1318436253261677,
          0.1517704121398995,
          0.14307687627792792,
          0.13675062737544635,
          0.1376130457168169,
          0.13750045666730018,
          0.12415219541811665,
          0.12413210717455331,
          0.11629296042929588,
          0.11629362370180062,
          0.09352481839131613,
          0.10575476108041904,
          0.09962451585827582,
          0.12502889420388968,
          0.15525162773528858,
          0.16245541842248107,
          0.15049271862683045,
          0.14997565137662683,
          0.18663534116293393,
          0.17649312046862536,
          0.1564277988519725,
          0.1769109107948971,
          0.16546867045413302,
          0.18475665650533812,
          0.1577099073381367,
          0.1257268585066756,
          0.15258672484429361,
          0.1415021296916514,
          0.12136100905326382,
          0.13468896301049205,
          0.13739397924117353,
          0.12963416792268265,
          0.13594224298870994,
          0.13887107368890697,
          0.1130757219863218,
          0.1150461112308686,
          0.09866694442750232,
          0.11658300513904069,
          0.08966610244499815,
          0.09785945986103436,
          0.10197596682039485,
          0.09904778042056528,
          0.11850617851560852
         ],
         "yaxis": "y"
        },
        {
         "customdata": [
          [
           "FL1:16 FL2:512 DR:0.6 BS:32 LR:0.0001",
           "[46, 199]"
          ],
          [
           "FL1:16 FL2:512 DR:0.6 BS:32 LR:0.0001",
           "[46, 199]"
          ],
          [
           "FL1:16 FL2:512 DR:0.6 BS:32 LR:0.0001",
           "[46, 199]"
          ],
          [
           "FL1:16 FL2:512 DR:0.6 BS:32 LR:0.0001",
           "[46, 199]"
          ],
          [
           "FL1:16 FL2:512 DR:0.6 BS:32 LR:0.0001",
           "[46, 199]"
          ],
          [
           "FL1:16 FL2:512 DR:0.6 BS:32 LR:0.0001",
           "[46, 199]"
          ],
          [
           "FL1:16 FL2:512 DR:0.6 BS:32 LR:0.0001",
           "[46, 199]"
          ],
          [
           "FL1:16 FL2:512 DR:0.6 BS:32 LR:0.0001",
           "[46, 199]"
          ],
          [
           "FL1:16 FL2:512 DR:0.6 BS:32 LR:0.0001",
           "[46, 199]"
          ],
          [
           "FL1:16 FL2:512 DR:0.6 BS:32 LR:0.0001",
           "[46, 199]"
          ],
          [
           "FL1:16 FL2:512 DR:0.6 BS:32 LR:0.0001",
           "[46, 199]"
          ],
          [
           "FL1:16 FL2:512 DR:0.6 BS:32 LR:0.0001",
           "[46, 199]"
          ],
          [
           "FL1:16 FL2:512 DR:0.6 BS:32 LR:0.0001",
           "[46, 199]"
          ],
          [
           "FL1:16 FL2:512 DR:0.6 BS:32 LR:0.0001",
           "[46, 199]"
          ],
          [
           "FL1:16 FL2:512 DR:0.6 BS:32 LR:0.0001",
           "[46, 199]"
          ],
          [
           "FL1:16 FL2:512 DR:0.6 BS:32 LR:0.0001",
           "[46, 199]"
          ],
          [
           "FL1:16 FL2:512 DR:0.6 BS:32 LR:0.0001",
           "[46, 199]"
          ],
          [
           "FL1:16 FL2:512 DR:0.6 BS:32 LR:0.0001",
           "[46, 199]"
          ],
          [
           "FL1:16 FL2:512 DR:0.6 BS:32 LR:0.0001",
           "[46, 199]"
          ],
          [
           "FL1:16 FL2:512 DR:0.6 BS:32 LR:0.0001",
           "[46, 199]"
          ],
          [
           "FL1:16 FL2:512 DR:0.6 BS:32 LR:0.0001",
           "[46, 199]"
          ],
          [
           "FL1:16 FL2:512 DR:0.6 BS:32 LR:0.0001",
           "[46, 199]"
          ],
          [
           "FL1:16 FL2:512 DR:0.6 BS:32 LR:0.0001",
           "[46, 199]"
          ],
          [
           "FL1:16 FL2:512 DR:0.6 BS:32 LR:0.0001",
           "[46, 199]"
          ],
          [
           "FL1:16 FL2:512 DR:0.6 BS:32 LR:0.0001",
           "[46, 199]"
          ],
          [
           "FL1:16 FL2:512 DR:0.6 BS:32 LR:0.0001",
           "[46, 199]"
          ],
          [
           "FL1:16 FL2:512 DR:0.6 BS:32 LR:0.0001",
           "[46, 199]"
          ],
          [
           "FL1:16 FL2:512 DR:0.6 BS:32 LR:0.0001",
           "[46, 199]"
          ],
          [
           "FL1:16 FL2:512 DR:0.6 BS:32 LR:0.0001",
           "[46, 199]"
          ],
          [
           "FL1:16 FL2:512 DR:0.6 BS:32 LR:0.0001",
           "[46, 199]"
          ],
          [
           "FL1:16 FL2:512 DR:0.6 BS:32 LR:0.0001",
           "[46, 199]"
          ],
          [
           "FL1:16 FL2:512 DR:0.6 BS:32 LR:0.0001",
           "[46, 199]"
          ],
          [
           "FL1:16 FL2:512 DR:0.6 BS:32 LR:0.0001",
           "[46, 199]"
          ],
          [
           "FL1:16 FL2:512 DR:0.6 BS:32 LR:0.0001",
           "[46, 199]"
          ],
          [
           "FL1:16 FL2:512 DR:0.6 BS:32 LR:0.0001",
           "[46, 199]"
          ],
          [
           "FL1:16 FL2:512 DR:0.6 BS:32 LR:0.0001",
           "[46, 199]"
          ],
          [
           "FL1:16 FL2:512 DR:0.6 BS:32 LR:0.0001",
           "[46, 199]"
          ],
          [
           "FL1:16 FL2:512 DR:0.6 BS:32 LR:0.0001",
           "[46, 199]"
          ],
          [
           "FL1:16 FL2:512 DR:0.6 BS:32 LR:0.0001",
           "[46, 199]"
          ],
          [
           "FL1:16 FL2:512 DR:0.6 BS:32 LR:0.0001",
           "[46, 199]"
          ],
          [
           "FL1:16 FL2:512 DR:0.6 BS:32 LR:0.0001",
           "[46, 199]"
          ],
          [
           "FL1:16 FL2:512 DR:0.6 BS:32 LR:0.0001",
           "[46, 199]"
          ],
          [
           "FL1:16 FL2:512 DR:0.6 BS:32 LR:0.0001",
           "[46, 199]"
          ],
          [
           "FL1:16 FL2:512 DR:0.6 BS:32 LR:0.0001",
           "[46, 199]"
          ],
          [
           "FL1:16 FL2:512 DR:0.6 BS:32 LR:0.0001",
           "[46, 199]"
          ],
          [
           "FL1:16 FL2:512 DR:0.6 BS:32 LR:0.0001",
           "[46, 199]"
          ],
          [
           "FL1:16 FL2:512 DR:0.6 BS:32 LR:0.0001",
           "[46, 199]"
          ],
          [
           "FL1:16 FL2:512 DR:0.6 BS:32 LR:0.0001",
           "[46, 199]"
          ],
          [
           "FL1:16 FL2:512 DR:0.6 BS:32 LR:0.0001",
           "[46, 199]"
          ],
          [
           "FL1:16 FL2:512 DR:0.6 BS:32 LR:0.0001",
           "[46, 199]"
          ],
          [
           "FL1:16 FL2:512 DR:0.6 BS:32 LR:0.0001",
           "[46, 199]"
          ],
          [
           "FL1:16 FL2:512 DR:0.6 BS:32 LR:0.0001",
           "[46, 199]"
          ],
          [
           "FL1:16 FL2:512 DR:0.6 BS:32 LR:0.0001",
           "[46, 199]"
          ],
          [
           "FL1:16 FL2:512 DR:0.6 BS:32 LR:0.0001",
           "[46, 199]"
          ],
          [
           "FL1:16 FL2:512 DR:0.6 BS:32 LR:0.0001",
           "[46, 199]"
          ],
          [
           "FL1:16 FL2:512 DR:0.6 BS:32 LR:0.0001",
           "[46, 199]"
          ],
          [
           "FL1:16 FL2:512 DR:0.6 BS:32 LR:0.0001",
           "[46, 199]"
          ],
          [
           "FL1:16 FL2:512 DR:0.6 BS:32 LR:0.0001",
           "[46, 199]"
          ],
          [
           "FL1:16 FL2:512 DR:0.6 BS:32 LR:0.0001",
           "[46, 199]"
          ],
          [
           "FL1:16 FL2:512 DR:0.6 BS:32 LR:0.0001",
           "[46, 199]"
          ],
          [
           "FL1:16 FL2:512 DR:0.6 BS:32 LR:0.0001",
           "[46, 199]"
          ],
          [
           "FL1:16 FL2:512 DR:0.6 BS:32 LR:0.0001",
           "[46, 199]"
          ],
          [
           "FL1:16 FL2:512 DR:0.6 BS:32 LR:0.0001",
           "[46, 199]"
          ],
          [
           "FL1:16 FL2:512 DR:0.6 BS:32 LR:0.0001",
           "[46, 199]"
          ],
          [
           "FL1:16 FL2:512 DR:0.6 BS:32 LR:0.0001",
           "[46, 199]"
          ],
          [
           "FL1:16 FL2:512 DR:0.6 BS:32 LR:0.0001",
           "[46, 199]"
          ],
          [
           "FL1:16 FL2:512 DR:0.6 BS:32 LR:0.0001",
           "[46, 199]"
          ],
          [
           "FL1:16 FL2:512 DR:0.6 BS:32 LR:0.0001",
           "[46, 199]"
          ],
          [
           "FL1:16 FL2:512 DR:0.6 BS:32 LR:0.0001",
           "[46, 199]"
          ],
          [
           "FL1:16 FL2:512 DR:0.6 BS:32 LR:0.0001",
           "[46, 199]"
          ],
          [
           "FL1:16 FL2:512 DR:0.6 BS:32 LR:0.0001",
           "[46, 199]"
          ],
          [
           "FL1:16 FL2:512 DR:0.6 BS:32 LR:0.0001",
           "[46, 199]"
          ],
          [
           "FL1:16 FL2:512 DR:0.6 BS:32 LR:0.0001",
           "[46, 199]"
          ],
          [
           "FL1:16 FL2:512 DR:0.6 BS:32 LR:0.0001",
           "[46, 199]"
          ],
          [
           "FL1:16 FL2:512 DR:0.6 BS:32 LR:0.0001",
           "[46, 199]"
          ],
          [
           "FL1:16 FL2:512 DR:0.6 BS:32 LR:0.0001",
           "[46, 199]"
          ],
          [
           "FL1:16 FL2:512 DR:0.6 BS:32 LR:0.0001",
           "[46, 199]"
          ],
          [
           "FL1:16 FL2:512 DR:0.6 BS:32 LR:0.0001",
           "[46, 199]"
          ],
          [
           "FL1:16 FL2:512 DR:0.6 BS:32 LR:0.0001",
           "[46, 199]"
          ],
          [
           "FL1:16 FL2:512 DR:0.6 BS:32 LR:0.0001",
           "[46, 199]"
          ],
          [
           "FL1:16 FL2:512 DR:0.6 BS:32 LR:0.0001",
           "[46, 199]"
          ],
          [
           "FL1:16 FL2:512 DR:0.6 BS:32 LR:0.0001",
           "[46, 199]"
          ],
          [
           "FL1:16 FL2:512 DR:0.6 BS:32 LR:0.0001",
           "[46, 199]"
          ],
          [
           "FL1:16 FL2:512 DR:0.6 BS:32 LR:0.0001",
           "[46, 199]"
          ],
          [
           "FL1:16 FL2:512 DR:0.6 BS:32 LR:0.0001",
           "[46, 199]"
          ],
          [
           "FL1:16 FL2:512 DR:0.6 BS:32 LR:0.0001",
           "[46, 199]"
          ],
          [
           "FL1:16 FL2:512 DR:0.6 BS:32 LR:0.0001",
           "[46, 199]"
          ],
          [
           "FL1:16 FL2:512 DR:0.6 BS:32 LR:0.0001",
           "[46, 199]"
          ],
          [
           "FL1:16 FL2:512 DR:0.6 BS:32 LR:0.0001",
           "[46, 199]"
          ],
          [
           "FL1:16 FL2:512 DR:0.6 BS:32 LR:0.0001",
           "[46, 199]"
          ],
          [
           "FL1:16 FL2:512 DR:0.6 BS:32 LR:0.0001",
           "[46, 199]"
          ],
          [
           "FL1:16 FL2:512 DR:0.6 BS:32 LR:0.0001",
           "[46, 199]"
          ],
          [
           "FL1:16 FL2:512 DR:0.6 BS:32 LR:0.0001",
           "[46, 199]"
          ],
          [
           "FL1:16 FL2:512 DR:0.6 BS:32 LR:0.0001",
           "[46, 199]"
          ],
          [
           "FL1:16 FL2:512 DR:0.6 BS:32 LR:0.0001",
           "[46, 199]"
          ],
          [
           "FL1:16 FL2:512 DR:0.6 BS:32 LR:0.0001",
           "[46, 199]"
          ],
          [
           "FL1:16 FL2:512 DR:0.6 BS:32 LR:0.0001",
           "[46, 199]"
          ],
          [
           "FL1:16 FL2:512 DR:0.6 BS:32 LR:0.0001",
           "[46, 199]"
          ],
          [
           "FL1:16 FL2:512 DR:0.6 BS:32 LR:0.0001",
           "[46, 199]"
          ],
          [
           "FL1:16 FL2:512 DR:0.6 BS:32 LR:0.0001",
           "[46, 199]"
          ],
          [
           "FL1:16 FL2:512 DR:0.6 BS:32 LR:0.0001",
           "[46, 199]"
          ],
          [
           "FL1:16 FL2:512 DR:0.6 BS:32 LR:0.0001",
           "[46, 199]"
          ],
          [
           "FL1:16 FL2:512 DR:0.6 BS:32 LR:0.0001",
           "[46, 199]"
          ],
          [
           "FL1:16 FL2:512 DR:0.6 BS:32 LR:0.0001",
           "[46, 199]"
          ],
          [
           "FL1:16 FL2:512 DR:0.6 BS:32 LR:0.0001",
           "[46, 199]"
          ],
          [
           "FL1:16 FL2:512 DR:0.6 BS:32 LR:0.0001",
           "[46, 199]"
          ],
          [
           "FL1:16 FL2:512 DR:0.6 BS:32 LR:0.0001",
           "[46, 199]"
          ],
          [
           "FL1:16 FL2:512 DR:0.6 BS:32 LR:0.0001",
           "[46, 199]"
          ],
          [
           "FL1:16 FL2:512 DR:0.6 BS:32 LR:0.0001",
           "[46, 199]"
          ],
          [
           "FL1:16 FL2:512 DR:0.6 BS:32 LR:0.0001",
           "[46, 199]"
          ],
          [
           "FL1:16 FL2:512 DR:0.6 BS:32 LR:0.0001",
           "[46, 199]"
          ],
          [
           "FL1:16 FL2:512 DR:0.6 BS:32 LR:0.0001",
           "[46, 199]"
          ],
          [
           "FL1:16 FL2:512 DR:0.6 BS:32 LR:0.0001",
           "[46, 199]"
          ],
          [
           "FL1:16 FL2:512 DR:0.6 BS:32 LR:0.0001",
           "[46, 199]"
          ],
          [
           "FL1:16 FL2:512 DR:0.6 BS:32 LR:0.0001",
           "[46, 199]"
          ],
          [
           "FL1:16 FL2:512 DR:0.6 BS:32 LR:0.0001",
           "[46, 199]"
          ],
          [
           "FL1:16 FL2:512 DR:0.6 BS:32 LR:0.0001",
           "[46, 199]"
          ],
          [
           "FL1:16 FL2:512 DR:0.6 BS:32 LR:0.0001",
           "[46, 199]"
          ],
          [
           "FL1:16 FL2:512 DR:0.6 BS:32 LR:0.0001",
           "[46, 199]"
          ],
          [
           "FL1:16 FL2:512 DR:0.6 BS:32 LR:0.0001",
           "[46, 199]"
          ],
          [
           "FL1:16 FL2:512 DR:0.6 BS:32 LR:0.0001",
           "[46, 199]"
          ],
          [
           "FL1:16 FL2:512 DR:0.6 BS:32 LR:0.0001",
           "[46, 199]"
          ],
          [
           "FL1:16 FL2:512 DR:0.6 BS:32 LR:0.0001",
           "[46, 199]"
          ],
          [
           "FL1:16 FL2:512 DR:0.6 BS:32 LR:0.0001",
           "[46, 199]"
          ],
          [
           "FL1:16 FL2:512 DR:0.6 BS:32 LR:0.0001",
           "[46, 199]"
          ],
          [
           "FL1:16 FL2:512 DR:0.6 BS:32 LR:0.0001",
           "[46, 199]"
          ],
          [
           "FL1:16 FL2:512 DR:0.6 BS:32 LR:0.0001",
           "[46, 199]"
          ],
          [
           "FL1:16 FL2:512 DR:0.6 BS:32 LR:0.0001",
           "[46, 199]"
          ],
          [
           "FL1:16 FL2:512 DR:0.6 BS:32 LR:0.0001",
           "[46, 199]"
          ],
          [
           "FL1:16 FL2:512 DR:0.6 BS:32 LR:0.0001",
           "[46, 199]"
          ],
          [
           "FL1:16 FL2:512 DR:0.6 BS:32 LR:0.0001",
           "[46, 199]"
          ],
          [
           "FL1:16 FL2:512 DR:0.6 BS:32 LR:0.0001",
           "[46, 199]"
          ],
          [
           "FL1:16 FL2:512 DR:0.6 BS:32 LR:0.0001",
           "[46, 199]"
          ],
          [
           "FL1:16 FL2:512 DR:0.6 BS:32 LR:0.0001",
           "[46, 199]"
          ],
          [
           "FL1:16 FL2:512 DR:0.6 BS:32 LR:0.0001",
           "[46, 199]"
          ],
          [
           "FL1:16 FL2:512 DR:0.6 BS:32 LR:0.0001",
           "[46, 199]"
          ],
          [
           "FL1:16 FL2:512 DR:0.6 BS:32 LR:0.0001",
           "[46, 199]"
          ],
          [
           "FL1:16 FL2:512 DR:0.6 BS:32 LR:0.0001",
           "[46, 199]"
          ],
          [
           "FL1:16 FL2:512 DR:0.6 BS:32 LR:0.0001",
           "[46, 199]"
          ],
          [
           "FL1:16 FL2:512 DR:0.6 BS:32 LR:0.0001",
           "[46, 199]"
          ],
          [
           "FL1:16 FL2:512 DR:0.6 BS:32 LR:0.0001",
           "[46, 199]"
          ],
          [
           "FL1:16 FL2:512 DR:0.6 BS:32 LR:0.0001",
           "[46, 199]"
          ],
          [
           "FL1:16 FL2:512 DR:0.6 BS:32 LR:0.0001",
           "[46, 199]"
          ],
          [
           "FL1:16 FL2:512 DR:0.6 BS:32 LR:0.0001",
           "[46, 199]"
          ],
          [
           "FL1:16 FL2:512 DR:0.6 BS:32 LR:0.0001",
           "[46, 199]"
          ],
          [
           "FL1:16 FL2:512 DR:0.6 BS:32 LR:0.0001",
           "[46, 199]"
          ],
          [
           "FL1:16 FL2:512 DR:0.6 BS:32 LR:0.0001",
           "[46, 199]"
          ],
          [
           "FL1:16 FL2:512 DR:0.6 BS:32 LR:0.0001",
           "[46, 199]"
          ],
          [
           "FL1:16 FL2:512 DR:0.6 BS:32 LR:0.0001",
           "[46, 199]"
          ],
          [
           "FL1:16 FL2:512 DR:0.6 BS:32 LR:0.0001",
           "[46, 199]"
          ],
          [
           "FL1:16 FL2:512 DR:0.6 BS:32 LR:0.0001",
           "[46, 199]"
          ],
          [
           "FL1:16 FL2:512 DR:0.6 BS:32 LR:0.0001",
           "[46, 199]"
          ],
          [
           "FL1:16 FL2:512 DR:0.6 BS:32 LR:0.0001",
           "[46, 199]"
          ],
          [
           "FL1:16 FL2:512 DR:0.6 BS:32 LR:0.0001",
           "[46, 199]"
          ],
          [
           "FL1:16 FL2:512 DR:0.6 BS:32 LR:0.0001",
           "[46, 199]"
          ],
          [
           "FL1:16 FL2:512 DR:0.6 BS:32 LR:0.0001",
           "[46, 199]"
          ],
          [
           "FL1:16 FL2:512 DR:0.6 BS:32 LR:0.0001",
           "[46, 199]"
          ],
          [
           "FL1:16 FL2:512 DR:0.6 BS:32 LR:0.0001",
           "[46, 199]"
          ],
          [
           "FL1:16 FL2:512 DR:0.6 BS:32 LR:0.0001",
           "[46, 199]"
          ],
          [
           "FL1:16 FL2:512 DR:0.6 BS:32 LR:0.0001",
           "[46, 199]"
          ],
          [
           "FL1:16 FL2:512 DR:0.6 BS:32 LR:0.0001",
           "[46, 199]"
          ],
          [
           "FL1:16 FL2:512 DR:0.6 BS:32 LR:0.0001",
           "[46, 199]"
          ],
          [
           "FL1:16 FL2:512 DR:0.6 BS:32 LR:0.0001",
           "[46, 199]"
          ],
          [
           "FL1:16 FL2:512 DR:0.6 BS:32 LR:0.0001",
           "[46, 199]"
          ],
          [
           "FL1:16 FL2:512 DR:0.6 BS:32 LR:0.0001",
           "[46, 199]"
          ],
          [
           "FL1:16 FL2:512 DR:0.6 BS:32 LR:0.0001",
           "[46, 199]"
          ],
          [
           "FL1:16 FL2:512 DR:0.6 BS:32 LR:0.0001",
           "[46, 199]"
          ],
          [
           "FL1:16 FL2:512 DR:0.6 BS:32 LR:0.0001",
           "[46, 199]"
          ],
          [
           "FL1:16 FL2:512 DR:0.6 BS:32 LR:0.0001",
           "[46, 199]"
          ],
          [
           "FL1:16 FL2:512 DR:0.6 BS:32 LR:0.0001",
           "[46, 199]"
          ],
          [
           "FL1:16 FL2:512 DR:0.6 BS:32 LR:0.0001",
           "[46, 199]"
          ],
          [
           "FL1:16 FL2:512 DR:0.6 BS:32 LR:0.0001",
           "[46, 199]"
          ],
          [
           "FL1:16 FL2:512 DR:0.6 BS:32 LR:0.0001",
           "[46, 199]"
          ],
          [
           "FL1:16 FL2:512 DR:0.6 BS:32 LR:0.0001",
           "[46, 199]"
          ],
          [
           "FL1:16 FL2:512 DR:0.6 BS:32 LR:0.0001",
           "[46, 199]"
          ],
          [
           "FL1:16 FL2:512 DR:0.6 BS:32 LR:0.0001",
           "[46, 199]"
          ],
          [
           "FL1:16 FL2:512 DR:0.6 BS:32 LR:0.0001",
           "[46, 199]"
          ],
          [
           "FL1:16 FL2:512 DR:0.6 BS:32 LR:0.0001",
           "[46, 199]"
          ],
          [
           "FL1:16 FL2:512 DR:0.6 BS:32 LR:0.0001",
           "[46, 199]"
          ],
          [
           "FL1:16 FL2:512 DR:0.6 BS:32 LR:0.0001",
           "[46, 199]"
          ],
          [
           "FL1:16 FL2:512 DR:0.6 BS:32 LR:0.0001",
           "[46, 199]"
          ],
          [
           "FL1:16 FL2:512 DR:0.6 BS:32 LR:0.0001",
           "[46, 199]"
          ],
          [
           "FL1:16 FL2:512 DR:0.6 BS:32 LR:0.0001",
           "[46, 199]"
          ],
          [
           "FL1:16 FL2:512 DR:0.6 BS:32 LR:0.0001",
           "[46, 199]"
          ],
          [
           "FL1:16 FL2:512 DR:0.6 BS:32 LR:0.0001",
           "[46, 199]"
          ],
          [
           "FL1:16 FL2:512 DR:0.6 BS:32 LR:0.0001",
           "[46, 199]"
          ],
          [
           "FL1:16 FL2:512 DR:0.6 BS:32 LR:0.0001",
           "[46, 199]"
          ],
          [
           "FL1:16 FL2:512 DR:0.6 BS:32 LR:0.0001",
           "[46, 199]"
          ],
          [
           "FL1:16 FL2:512 DR:0.6 BS:32 LR:0.0001",
           "[46, 199]"
          ],
          [
           "FL1:16 FL2:512 DR:0.6 BS:32 LR:0.0001",
           "[46, 199]"
          ],
          [
           "FL1:16 FL2:512 DR:0.6 BS:32 LR:0.0001",
           "[46, 199]"
          ],
          [
           "FL1:16 FL2:512 DR:0.6 BS:32 LR:0.0001",
           "[46, 199]"
          ],
          [
           "FL1:16 FL2:512 DR:0.6 BS:32 LR:0.0001",
           "[46, 199]"
          ],
          [
           "FL1:16 FL2:512 DR:0.6 BS:32 LR:0.0001",
           "[46, 199]"
          ],
          [
           "FL1:16 FL2:512 DR:0.6 BS:32 LR:0.0001",
           "[46, 199]"
          ],
          [
           "FL1:16 FL2:512 DR:0.6 BS:32 LR:0.0001",
           "[46, 199]"
          ],
          [
           "FL1:16 FL2:512 DR:0.6 BS:32 LR:0.0001",
           "[46, 199]"
          ],
          [
           "FL1:16 FL2:512 DR:0.6 BS:32 LR:0.0001",
           "[46, 199]"
          ],
          [
           "FL1:16 FL2:512 DR:0.6 BS:32 LR:0.0001",
           "[46, 199]"
          ],
          [
           "FL1:16 FL2:512 DR:0.6 BS:32 LR:0.0001",
           "[46, 199]"
          ]
         ],
         "hovertemplate": "variable=train_loss<br>trial_id=802fd_00107<br>epoch=%{x}<br>value=%{y}<br>Hyperparameters=%{customdata[0]}<br>checkpoints=%{customdata[1]}<extra></extra>",
         "legendgroup": "train_loss, 802fd_00107",
         "line": {
          "color": "#EF553B",
          "dash": "dashdot"
         },
         "marker": {
          "symbol": "circle"
         },
         "mode": "lines",
         "name": "train_loss, 802fd_00107",
         "showlegend": true,
         "type": "scattergl",
         "x": [
          0,
          1,
          2,
          3,
          4,
          5,
          6,
          7,
          8,
          9,
          10,
          11,
          12,
          13,
          14,
          15,
          16,
          17,
          18,
          19,
          20,
          21,
          22,
          23,
          24,
          25,
          26,
          27,
          28,
          29,
          30,
          31,
          32,
          33,
          34,
          35,
          36,
          37,
          38,
          39,
          40,
          41,
          42,
          43,
          44,
          45,
          46,
          47,
          48,
          49,
          50,
          51,
          52,
          53,
          54,
          55,
          56,
          57,
          58,
          59,
          60,
          61,
          62,
          63,
          64,
          65,
          66,
          67,
          68,
          69,
          70,
          71,
          72,
          73,
          74,
          75,
          76,
          77,
          78,
          79,
          80,
          81,
          82,
          83,
          84,
          85,
          86,
          87,
          88,
          89,
          90,
          91,
          92,
          93,
          94,
          95,
          96,
          97,
          98,
          99,
          100,
          101,
          102,
          103,
          104,
          105,
          106,
          107,
          108,
          109,
          110,
          111,
          112,
          113,
          114,
          115,
          116,
          117,
          118,
          119,
          120,
          121,
          122,
          123,
          124,
          125,
          126,
          127,
          128,
          129,
          130,
          131,
          132,
          133,
          134,
          135,
          136,
          137,
          138,
          139,
          140,
          141,
          142,
          143,
          144,
          145,
          146,
          147,
          148,
          149,
          150,
          151,
          152,
          153,
          154,
          155,
          156,
          157,
          158,
          159,
          160,
          161,
          162,
          163,
          164,
          165,
          166,
          167,
          168,
          169,
          170,
          171,
          172,
          173,
          174,
          175,
          176,
          177,
          178,
          179,
          180,
          181,
          182,
          183,
          184,
          185,
          186,
          187,
          188,
          189,
          190,
          191,
          192,
          193,
          194,
          195,
          196,
          197,
          198,
          199
         ],
         "xaxis": "x",
         "y": [
          0.6285653114318833,
          0.6206553181012449,
          0.6221315794520877,
          0.5541907008047428,
          0.5018364525871484,
          0.4355929021727375,
          0.4717284324891906,
          0.4102757793749393,
          0.420546615924107,
          0.5100189611684379,
          0.555778037532904,
          0.4932099554437644,
          0.43010182006479875,
          0.39495100129525834,
          0.33296402824508414,
          0.30856138158233415,
          0.3291626651312995,
          0.31774305828585075,
          0.29060047552435775,
          0.2894625642925439,
          0.36425914228160644,
          0.4010773225638554,
          0.33647490534605445,
          0.28214619718274675,
          0.25622467473004346,
          0.2674752558261419,
          0.23767930832109577,
          0.18879822023445827,
          0.17831922655459512,
          0.284123497440789,
          0.25947408526100924,
          0.28115691839958623,
          0.25091589887476845,
          0.19189188066149324,
          0.19523549201107354,
          0.20104350727145046,
          0.1657771680510318,
          0.2376062614226514,
          0.30375742200375644,
          0.27406423312664674,
          0.4075720046774573,
          0.31508965524143784,
          0.27140894851490355,
          0.2017397641069656,
          0.19503526779856672,
          0.22548312208948057,
          0.19462678506571368,
          0.18957958568863242,
          0.16544249289388213,
          0.3960574443681666,
          0.3140136715798658,
          0.2651977219203496,
          0.2824237232750901,
          0.3128874722683585,
          0.24795132700364805,
          0.28402593615161636,
          0.23040365846625444,
          0.2524193404228911,
          0.18227691265354046,
          0.17992088239993928,
          0.14881831435101728,
          0.11990232411515366,
          0.0907224306198732,
          0.10038033632654426,
          0.0825569700580071,
          0.08877683406943923,
          0.17031770431912424,
          0.17207987761442145,
          0.17973745965920696,
          0.23765643175418297,
          0.21883123275952243,
          0.1752984567305556,
          0.19190760247052396,
          0.15588618760069645,
          0.19918483459128494,
          0.2294280427242216,
          0.20946627673472898,
          0.1491678345002461,
          0.10678259885461647,
          0.1628231893390511,
          0.13753699778915054,
          0.2569657234311132,
          0.4281460820277532,
          0.3523896504534611,
          0.3474398963380732,
          0.24899312482799926,
          0.20350552599645855,
          0.23979055551036915,
          0.21981187441179922,
          0.1799872436671107,
          0.1816269900102511,
          0.15517363917159313,
          0.13257781562756987,
          0.12313862987724579,
          0.11015335535584293,
          0.22941586915372628,
          0.17622761540094212,
          0.22853395417318792,
          0.1693409524857073,
          0.13252679457260944,
          0.14997013542383056,
          0.12350472482263455,
          0.12183218728979008,
          0.12927065976116078,
          0.10157595326604446,
          0.15704758796494472,
          0.1684531740572797,
          0.13440102982698177,
          0.44500434827922386,
          0.3461826174267037,
          0.24558221118701182,
          0.28544445049135253,
          0.3232170423624795,
          0.22639002564932775,
          0.20521708272156322,
          0.28212569450177777,
          0.2574915524644186,
          0.1729484053531889,
          0.18641196205083502,
          0.15400137513123577,
          0.22808338542277606,
          0.2531616677144824,
          0.2564723881946437,
          0.229951442471241,
          0.24174842317309256,
          0.23663414073921704,
          0.16982025150085459,
          0.1720670726141989,
          0.1292556986207206,
          0.10546101853214612,
          0.07845909111177193,
          0.07902333363874248,
          0.0606348945447702,
          0.1014985083705115,
          0.21537970100283038,
          0.18856456441640432,
          0.1846758942667611,
          0.1355956330639764,
          0.1193382754751471,
          0.13823030987239018,
          0.2005392617573739,
          0.2507214749250404,
          0.22775297227128252,
          0.24207329990217294,
          0.19565614969696715,
          0.1848958873826004,
          0.1386111176065429,
          0.17005930980389752,
          0.13527450058424081,
          0.1050699918208095,
          0.17328370403829949,
          0.16071832704268355,
          0.1575818891506884,
          0.11430801021930195,
          0.0859899368079279,
          0.06244083220374406,
          0.06090339835890001,
          0.10829194265211815,
          0.27351424348092723,
          0.2688250955723164,
          0.2033627234751936,
          0.1605802859104311,
          0.12107478025798227,
          0.12250168583952176,
          0.16481121852770578,
          0.17958205093791121,
          0.2455033404949632,
          0.1732407731445846,
          0.1213583565922059,
          0.09278642955233497,
          0.06781218704455318,
          0.0521730143618134,
          0.04619260604458025,
          0.03823925931604015,
          0.07773004723490112,
          0.16531117924650982,
          0.16429649736219254,
          0.12477373254453862,
          0.1138118152628719,
          0.13789955906141946,
          0.14457543944033707,
          0.12419015420617457,
          0.09388121136785733,
          0.10642613416751981,
          0.08338998346421947,
          0.07117591484648526,
          0.22875029632954028,
          0.16701028894721276,
          0.1751485592877781,
          0.238637167662773,
          0.18677976210938108,
          0.13654739934554497,
          0.10251744938129045,
          0.07450462635016343,
          0.08464344180726914,
          0.11687729482587073,
          0.10515933963812628,
          0.09280780526106368,
          0.07817828164898546,
          0.13432589343126017
         ],
         "yaxis": "y"
        },
        {
         "customdata": [
          [
           "FL1:512 FL2:16 DR:0.5 BS:32 LR:0.0005",
           "[78, 199]"
          ],
          [
           "FL1:512 FL2:16 DR:0.5 BS:32 LR:0.0005",
           "[78, 199]"
          ],
          [
           "FL1:512 FL2:16 DR:0.5 BS:32 LR:0.0005",
           "[78, 199]"
          ],
          [
           "FL1:512 FL2:16 DR:0.5 BS:32 LR:0.0005",
           "[78, 199]"
          ],
          [
           "FL1:512 FL2:16 DR:0.5 BS:32 LR:0.0005",
           "[78, 199]"
          ],
          [
           "FL1:512 FL2:16 DR:0.5 BS:32 LR:0.0005",
           "[78, 199]"
          ],
          [
           "FL1:512 FL2:16 DR:0.5 BS:32 LR:0.0005",
           "[78, 199]"
          ],
          [
           "FL1:512 FL2:16 DR:0.5 BS:32 LR:0.0005",
           "[78, 199]"
          ],
          [
           "FL1:512 FL2:16 DR:0.5 BS:32 LR:0.0005",
           "[78, 199]"
          ],
          [
           "FL1:512 FL2:16 DR:0.5 BS:32 LR:0.0005",
           "[78, 199]"
          ],
          [
           "FL1:512 FL2:16 DR:0.5 BS:32 LR:0.0005",
           "[78, 199]"
          ],
          [
           "FL1:512 FL2:16 DR:0.5 BS:32 LR:0.0005",
           "[78, 199]"
          ],
          [
           "FL1:512 FL2:16 DR:0.5 BS:32 LR:0.0005",
           "[78, 199]"
          ],
          [
           "FL1:512 FL2:16 DR:0.5 BS:32 LR:0.0005",
           "[78, 199]"
          ],
          [
           "FL1:512 FL2:16 DR:0.5 BS:32 LR:0.0005",
           "[78, 199]"
          ],
          [
           "FL1:512 FL2:16 DR:0.5 BS:32 LR:0.0005",
           "[78, 199]"
          ],
          [
           "FL1:512 FL2:16 DR:0.5 BS:32 LR:0.0005",
           "[78, 199]"
          ],
          [
           "FL1:512 FL2:16 DR:0.5 BS:32 LR:0.0005",
           "[78, 199]"
          ],
          [
           "FL1:512 FL2:16 DR:0.5 BS:32 LR:0.0005",
           "[78, 199]"
          ],
          [
           "FL1:512 FL2:16 DR:0.5 BS:32 LR:0.0005",
           "[78, 199]"
          ],
          [
           "FL1:512 FL2:16 DR:0.5 BS:32 LR:0.0005",
           "[78, 199]"
          ],
          [
           "FL1:512 FL2:16 DR:0.5 BS:32 LR:0.0005",
           "[78, 199]"
          ],
          [
           "FL1:512 FL2:16 DR:0.5 BS:32 LR:0.0005",
           "[78, 199]"
          ],
          [
           "FL1:512 FL2:16 DR:0.5 BS:32 LR:0.0005",
           "[78, 199]"
          ],
          [
           "FL1:512 FL2:16 DR:0.5 BS:32 LR:0.0005",
           "[78, 199]"
          ],
          [
           "FL1:512 FL2:16 DR:0.5 BS:32 LR:0.0005",
           "[78, 199]"
          ],
          [
           "FL1:512 FL2:16 DR:0.5 BS:32 LR:0.0005",
           "[78, 199]"
          ],
          [
           "FL1:512 FL2:16 DR:0.5 BS:32 LR:0.0005",
           "[78, 199]"
          ],
          [
           "FL1:512 FL2:16 DR:0.5 BS:32 LR:0.0005",
           "[78, 199]"
          ],
          [
           "FL1:512 FL2:16 DR:0.5 BS:32 LR:0.0005",
           "[78, 199]"
          ],
          [
           "FL1:512 FL2:16 DR:0.5 BS:32 LR:0.0005",
           "[78, 199]"
          ],
          [
           "FL1:512 FL2:16 DR:0.5 BS:32 LR:0.0005",
           "[78, 199]"
          ],
          [
           "FL1:512 FL2:16 DR:0.5 BS:32 LR:0.0005",
           "[78, 199]"
          ],
          [
           "FL1:512 FL2:16 DR:0.5 BS:32 LR:0.0005",
           "[78, 199]"
          ],
          [
           "FL1:512 FL2:16 DR:0.5 BS:32 LR:0.0005",
           "[78, 199]"
          ],
          [
           "FL1:512 FL2:16 DR:0.5 BS:32 LR:0.0005",
           "[78, 199]"
          ],
          [
           "FL1:512 FL2:16 DR:0.5 BS:32 LR:0.0005",
           "[78, 199]"
          ],
          [
           "FL1:512 FL2:16 DR:0.5 BS:32 LR:0.0005",
           "[78, 199]"
          ],
          [
           "FL1:512 FL2:16 DR:0.5 BS:32 LR:0.0005",
           "[78, 199]"
          ],
          [
           "FL1:512 FL2:16 DR:0.5 BS:32 LR:0.0005",
           "[78, 199]"
          ],
          [
           "FL1:512 FL2:16 DR:0.5 BS:32 LR:0.0005",
           "[78, 199]"
          ],
          [
           "FL1:512 FL2:16 DR:0.5 BS:32 LR:0.0005",
           "[78, 199]"
          ],
          [
           "FL1:512 FL2:16 DR:0.5 BS:32 LR:0.0005",
           "[78, 199]"
          ],
          [
           "FL1:512 FL2:16 DR:0.5 BS:32 LR:0.0005",
           "[78, 199]"
          ],
          [
           "FL1:512 FL2:16 DR:0.5 BS:32 LR:0.0005",
           "[78, 199]"
          ],
          [
           "FL1:512 FL2:16 DR:0.5 BS:32 LR:0.0005",
           "[78, 199]"
          ],
          [
           "FL1:512 FL2:16 DR:0.5 BS:32 LR:0.0005",
           "[78, 199]"
          ],
          [
           "FL1:512 FL2:16 DR:0.5 BS:32 LR:0.0005",
           "[78, 199]"
          ],
          [
           "FL1:512 FL2:16 DR:0.5 BS:32 LR:0.0005",
           "[78, 199]"
          ],
          [
           "FL1:512 FL2:16 DR:0.5 BS:32 LR:0.0005",
           "[78, 199]"
          ],
          [
           "FL1:512 FL2:16 DR:0.5 BS:32 LR:0.0005",
           "[78, 199]"
          ],
          [
           "FL1:512 FL2:16 DR:0.5 BS:32 LR:0.0005",
           "[78, 199]"
          ],
          [
           "FL1:512 FL2:16 DR:0.5 BS:32 LR:0.0005",
           "[78, 199]"
          ],
          [
           "FL1:512 FL2:16 DR:0.5 BS:32 LR:0.0005",
           "[78, 199]"
          ],
          [
           "FL1:512 FL2:16 DR:0.5 BS:32 LR:0.0005",
           "[78, 199]"
          ],
          [
           "FL1:512 FL2:16 DR:0.5 BS:32 LR:0.0005",
           "[78, 199]"
          ],
          [
           "FL1:512 FL2:16 DR:0.5 BS:32 LR:0.0005",
           "[78, 199]"
          ],
          [
           "FL1:512 FL2:16 DR:0.5 BS:32 LR:0.0005",
           "[78, 199]"
          ],
          [
           "FL1:512 FL2:16 DR:0.5 BS:32 LR:0.0005",
           "[78, 199]"
          ],
          [
           "FL1:512 FL2:16 DR:0.5 BS:32 LR:0.0005",
           "[78, 199]"
          ],
          [
           "FL1:512 FL2:16 DR:0.5 BS:32 LR:0.0005",
           "[78, 199]"
          ],
          [
           "FL1:512 FL2:16 DR:0.5 BS:32 LR:0.0005",
           "[78, 199]"
          ],
          [
           "FL1:512 FL2:16 DR:0.5 BS:32 LR:0.0005",
           "[78, 199]"
          ],
          [
           "FL1:512 FL2:16 DR:0.5 BS:32 LR:0.0005",
           "[78, 199]"
          ],
          [
           "FL1:512 FL2:16 DR:0.5 BS:32 LR:0.0005",
           "[78, 199]"
          ],
          [
           "FL1:512 FL2:16 DR:0.5 BS:32 LR:0.0005",
           "[78, 199]"
          ],
          [
           "FL1:512 FL2:16 DR:0.5 BS:32 LR:0.0005",
           "[78, 199]"
          ],
          [
           "FL1:512 FL2:16 DR:0.5 BS:32 LR:0.0005",
           "[78, 199]"
          ],
          [
           "FL1:512 FL2:16 DR:0.5 BS:32 LR:0.0005",
           "[78, 199]"
          ],
          [
           "FL1:512 FL2:16 DR:0.5 BS:32 LR:0.0005",
           "[78, 199]"
          ],
          [
           "FL1:512 FL2:16 DR:0.5 BS:32 LR:0.0005",
           "[78, 199]"
          ],
          [
           "FL1:512 FL2:16 DR:0.5 BS:32 LR:0.0005",
           "[78, 199]"
          ],
          [
           "FL1:512 FL2:16 DR:0.5 BS:32 LR:0.0005",
           "[78, 199]"
          ],
          [
           "FL1:512 FL2:16 DR:0.5 BS:32 LR:0.0005",
           "[78, 199]"
          ],
          [
           "FL1:512 FL2:16 DR:0.5 BS:32 LR:0.0005",
           "[78, 199]"
          ],
          [
           "FL1:512 FL2:16 DR:0.5 BS:32 LR:0.0005",
           "[78, 199]"
          ],
          [
           "FL1:512 FL2:16 DR:0.5 BS:32 LR:0.0005",
           "[78, 199]"
          ],
          [
           "FL1:512 FL2:16 DR:0.5 BS:32 LR:0.0005",
           "[78, 199]"
          ],
          [
           "FL1:512 FL2:16 DR:0.5 BS:32 LR:0.0005",
           "[78, 199]"
          ],
          [
           "FL1:512 FL2:16 DR:0.5 BS:32 LR:0.0005",
           "[78, 199]"
          ],
          [
           "FL1:512 FL2:16 DR:0.5 BS:32 LR:0.0005",
           "[78, 199]"
          ],
          [
           "FL1:512 FL2:16 DR:0.5 BS:32 LR:0.0005",
           "[78, 199]"
          ],
          [
           "FL1:512 FL2:16 DR:0.5 BS:32 LR:0.0005",
           "[78, 199]"
          ],
          [
           "FL1:512 FL2:16 DR:0.5 BS:32 LR:0.0005",
           "[78, 199]"
          ],
          [
           "FL1:512 FL2:16 DR:0.5 BS:32 LR:0.0005",
           "[78, 199]"
          ],
          [
           "FL1:512 FL2:16 DR:0.5 BS:32 LR:0.0005",
           "[78, 199]"
          ],
          [
           "FL1:512 FL2:16 DR:0.5 BS:32 LR:0.0005",
           "[78, 199]"
          ],
          [
           "FL1:512 FL2:16 DR:0.5 BS:32 LR:0.0005",
           "[78, 199]"
          ],
          [
           "FL1:512 FL2:16 DR:0.5 BS:32 LR:0.0005",
           "[78, 199]"
          ],
          [
           "FL1:512 FL2:16 DR:0.5 BS:32 LR:0.0005",
           "[78, 199]"
          ],
          [
           "FL1:512 FL2:16 DR:0.5 BS:32 LR:0.0005",
           "[78, 199]"
          ],
          [
           "FL1:512 FL2:16 DR:0.5 BS:32 LR:0.0005",
           "[78, 199]"
          ],
          [
           "FL1:512 FL2:16 DR:0.5 BS:32 LR:0.0005",
           "[78, 199]"
          ],
          [
           "FL1:512 FL2:16 DR:0.5 BS:32 LR:0.0005",
           "[78, 199]"
          ],
          [
           "FL1:512 FL2:16 DR:0.5 BS:32 LR:0.0005",
           "[78, 199]"
          ],
          [
           "FL1:512 FL2:16 DR:0.5 BS:32 LR:0.0005",
           "[78, 199]"
          ],
          [
           "FL1:512 FL2:16 DR:0.5 BS:32 LR:0.0005",
           "[78, 199]"
          ],
          [
           "FL1:512 FL2:16 DR:0.5 BS:32 LR:0.0005",
           "[78, 199]"
          ],
          [
           "FL1:512 FL2:16 DR:0.5 BS:32 LR:0.0005",
           "[78, 199]"
          ],
          [
           "FL1:512 FL2:16 DR:0.5 BS:32 LR:0.0005",
           "[78, 199]"
          ],
          [
           "FL1:512 FL2:16 DR:0.5 BS:32 LR:0.0005",
           "[78, 199]"
          ],
          [
           "FL1:512 FL2:16 DR:0.5 BS:32 LR:0.0005",
           "[78, 199]"
          ],
          [
           "FL1:512 FL2:16 DR:0.5 BS:32 LR:0.0005",
           "[78, 199]"
          ],
          [
           "FL1:512 FL2:16 DR:0.5 BS:32 LR:0.0005",
           "[78, 199]"
          ],
          [
           "FL1:512 FL2:16 DR:0.5 BS:32 LR:0.0005",
           "[78, 199]"
          ],
          [
           "FL1:512 FL2:16 DR:0.5 BS:32 LR:0.0005",
           "[78, 199]"
          ],
          [
           "FL1:512 FL2:16 DR:0.5 BS:32 LR:0.0005",
           "[78, 199]"
          ],
          [
           "FL1:512 FL2:16 DR:0.5 BS:32 LR:0.0005",
           "[78, 199]"
          ],
          [
           "FL1:512 FL2:16 DR:0.5 BS:32 LR:0.0005",
           "[78, 199]"
          ],
          [
           "FL1:512 FL2:16 DR:0.5 BS:32 LR:0.0005",
           "[78, 199]"
          ],
          [
           "FL1:512 FL2:16 DR:0.5 BS:32 LR:0.0005",
           "[78, 199]"
          ],
          [
           "FL1:512 FL2:16 DR:0.5 BS:32 LR:0.0005",
           "[78, 199]"
          ],
          [
           "FL1:512 FL2:16 DR:0.5 BS:32 LR:0.0005",
           "[78, 199]"
          ],
          [
           "FL1:512 FL2:16 DR:0.5 BS:32 LR:0.0005",
           "[78, 199]"
          ],
          [
           "FL1:512 FL2:16 DR:0.5 BS:32 LR:0.0005",
           "[78, 199]"
          ],
          [
           "FL1:512 FL2:16 DR:0.5 BS:32 LR:0.0005",
           "[78, 199]"
          ],
          [
           "FL1:512 FL2:16 DR:0.5 BS:32 LR:0.0005",
           "[78, 199]"
          ],
          [
           "FL1:512 FL2:16 DR:0.5 BS:32 LR:0.0005",
           "[78, 199]"
          ],
          [
           "FL1:512 FL2:16 DR:0.5 BS:32 LR:0.0005",
           "[78, 199]"
          ],
          [
           "FL1:512 FL2:16 DR:0.5 BS:32 LR:0.0005",
           "[78, 199]"
          ],
          [
           "FL1:512 FL2:16 DR:0.5 BS:32 LR:0.0005",
           "[78, 199]"
          ],
          [
           "FL1:512 FL2:16 DR:0.5 BS:32 LR:0.0005",
           "[78, 199]"
          ],
          [
           "FL1:512 FL2:16 DR:0.5 BS:32 LR:0.0005",
           "[78, 199]"
          ],
          [
           "FL1:512 FL2:16 DR:0.5 BS:32 LR:0.0005",
           "[78, 199]"
          ],
          [
           "FL1:512 FL2:16 DR:0.5 BS:32 LR:0.0005",
           "[78, 199]"
          ],
          [
           "FL1:512 FL2:16 DR:0.5 BS:32 LR:0.0005",
           "[78, 199]"
          ],
          [
           "FL1:512 FL2:16 DR:0.5 BS:32 LR:0.0005",
           "[78, 199]"
          ],
          [
           "FL1:512 FL2:16 DR:0.5 BS:32 LR:0.0005",
           "[78, 199]"
          ],
          [
           "FL1:512 FL2:16 DR:0.5 BS:32 LR:0.0005",
           "[78, 199]"
          ],
          [
           "FL1:512 FL2:16 DR:0.5 BS:32 LR:0.0005",
           "[78, 199]"
          ],
          [
           "FL1:512 FL2:16 DR:0.5 BS:32 LR:0.0005",
           "[78, 199]"
          ],
          [
           "FL1:512 FL2:16 DR:0.5 BS:32 LR:0.0005",
           "[78, 199]"
          ],
          [
           "FL1:512 FL2:16 DR:0.5 BS:32 LR:0.0005",
           "[78, 199]"
          ],
          [
           "FL1:512 FL2:16 DR:0.5 BS:32 LR:0.0005",
           "[78, 199]"
          ],
          [
           "FL1:512 FL2:16 DR:0.5 BS:32 LR:0.0005",
           "[78, 199]"
          ],
          [
           "FL1:512 FL2:16 DR:0.5 BS:32 LR:0.0005",
           "[78, 199]"
          ],
          [
           "FL1:512 FL2:16 DR:0.5 BS:32 LR:0.0005",
           "[78, 199]"
          ],
          [
           "FL1:512 FL2:16 DR:0.5 BS:32 LR:0.0005",
           "[78, 199]"
          ],
          [
           "FL1:512 FL2:16 DR:0.5 BS:32 LR:0.0005",
           "[78, 199]"
          ],
          [
           "FL1:512 FL2:16 DR:0.5 BS:32 LR:0.0005",
           "[78, 199]"
          ],
          [
           "FL1:512 FL2:16 DR:0.5 BS:32 LR:0.0005",
           "[78, 199]"
          ],
          [
           "FL1:512 FL2:16 DR:0.5 BS:32 LR:0.0005",
           "[78, 199]"
          ],
          [
           "FL1:512 FL2:16 DR:0.5 BS:32 LR:0.0005",
           "[78, 199]"
          ],
          [
           "FL1:512 FL2:16 DR:0.5 BS:32 LR:0.0005",
           "[78, 199]"
          ],
          [
           "FL1:512 FL2:16 DR:0.5 BS:32 LR:0.0005",
           "[78, 199]"
          ],
          [
           "FL1:512 FL2:16 DR:0.5 BS:32 LR:0.0005",
           "[78, 199]"
          ],
          [
           "FL1:512 FL2:16 DR:0.5 BS:32 LR:0.0005",
           "[78, 199]"
          ],
          [
           "FL1:512 FL2:16 DR:0.5 BS:32 LR:0.0005",
           "[78, 199]"
          ],
          [
           "FL1:512 FL2:16 DR:0.5 BS:32 LR:0.0005",
           "[78, 199]"
          ],
          [
           "FL1:512 FL2:16 DR:0.5 BS:32 LR:0.0005",
           "[78, 199]"
          ],
          [
           "FL1:512 FL2:16 DR:0.5 BS:32 LR:0.0005",
           "[78, 199]"
          ],
          [
           "FL1:512 FL2:16 DR:0.5 BS:32 LR:0.0005",
           "[78, 199]"
          ],
          [
           "FL1:512 FL2:16 DR:0.5 BS:32 LR:0.0005",
           "[78, 199]"
          ],
          [
           "FL1:512 FL2:16 DR:0.5 BS:32 LR:0.0005",
           "[78, 199]"
          ],
          [
           "FL1:512 FL2:16 DR:0.5 BS:32 LR:0.0005",
           "[78, 199]"
          ],
          [
           "FL1:512 FL2:16 DR:0.5 BS:32 LR:0.0005",
           "[78, 199]"
          ],
          [
           "FL1:512 FL2:16 DR:0.5 BS:32 LR:0.0005",
           "[78, 199]"
          ],
          [
           "FL1:512 FL2:16 DR:0.5 BS:32 LR:0.0005",
           "[78, 199]"
          ],
          [
           "FL1:512 FL2:16 DR:0.5 BS:32 LR:0.0005",
           "[78, 199]"
          ],
          [
           "FL1:512 FL2:16 DR:0.5 BS:32 LR:0.0005",
           "[78, 199]"
          ],
          [
           "FL1:512 FL2:16 DR:0.5 BS:32 LR:0.0005",
           "[78, 199]"
          ],
          [
           "FL1:512 FL2:16 DR:0.5 BS:32 LR:0.0005",
           "[78, 199]"
          ],
          [
           "FL1:512 FL2:16 DR:0.5 BS:32 LR:0.0005",
           "[78, 199]"
          ],
          [
           "FL1:512 FL2:16 DR:0.5 BS:32 LR:0.0005",
           "[78, 199]"
          ],
          [
           "FL1:512 FL2:16 DR:0.5 BS:32 LR:0.0005",
           "[78, 199]"
          ],
          [
           "FL1:512 FL2:16 DR:0.5 BS:32 LR:0.0005",
           "[78, 199]"
          ],
          [
           "FL1:512 FL2:16 DR:0.5 BS:32 LR:0.0005",
           "[78, 199]"
          ],
          [
           "FL1:512 FL2:16 DR:0.5 BS:32 LR:0.0005",
           "[78, 199]"
          ],
          [
           "FL1:512 FL2:16 DR:0.5 BS:32 LR:0.0005",
           "[78, 199]"
          ],
          [
           "FL1:512 FL2:16 DR:0.5 BS:32 LR:0.0005",
           "[78, 199]"
          ],
          [
           "FL1:512 FL2:16 DR:0.5 BS:32 LR:0.0005",
           "[78, 199]"
          ],
          [
           "FL1:512 FL2:16 DR:0.5 BS:32 LR:0.0005",
           "[78, 199]"
          ],
          [
           "FL1:512 FL2:16 DR:0.5 BS:32 LR:0.0005",
           "[78, 199]"
          ],
          [
           "FL1:512 FL2:16 DR:0.5 BS:32 LR:0.0005",
           "[78, 199]"
          ],
          [
           "FL1:512 FL2:16 DR:0.5 BS:32 LR:0.0005",
           "[78, 199]"
          ],
          [
           "FL1:512 FL2:16 DR:0.5 BS:32 LR:0.0005",
           "[78, 199]"
          ],
          [
           "FL1:512 FL2:16 DR:0.5 BS:32 LR:0.0005",
           "[78, 199]"
          ],
          [
           "FL1:512 FL2:16 DR:0.5 BS:32 LR:0.0005",
           "[78, 199]"
          ],
          [
           "FL1:512 FL2:16 DR:0.5 BS:32 LR:0.0005",
           "[78, 199]"
          ],
          [
           "FL1:512 FL2:16 DR:0.5 BS:32 LR:0.0005",
           "[78, 199]"
          ],
          [
           "FL1:512 FL2:16 DR:0.5 BS:32 LR:0.0005",
           "[78, 199]"
          ],
          [
           "FL1:512 FL2:16 DR:0.5 BS:32 LR:0.0005",
           "[78, 199]"
          ],
          [
           "FL1:512 FL2:16 DR:0.5 BS:32 LR:0.0005",
           "[78, 199]"
          ],
          [
           "FL1:512 FL2:16 DR:0.5 BS:32 LR:0.0005",
           "[78, 199]"
          ],
          [
           "FL1:512 FL2:16 DR:0.5 BS:32 LR:0.0005",
           "[78, 199]"
          ],
          [
           "FL1:512 FL2:16 DR:0.5 BS:32 LR:0.0005",
           "[78, 199]"
          ],
          [
           "FL1:512 FL2:16 DR:0.5 BS:32 LR:0.0005",
           "[78, 199]"
          ],
          [
           "FL1:512 FL2:16 DR:0.5 BS:32 LR:0.0005",
           "[78, 199]"
          ],
          [
           "FL1:512 FL2:16 DR:0.5 BS:32 LR:0.0005",
           "[78, 199]"
          ],
          [
           "FL1:512 FL2:16 DR:0.5 BS:32 LR:0.0005",
           "[78, 199]"
          ],
          [
           "FL1:512 FL2:16 DR:0.5 BS:32 LR:0.0005",
           "[78, 199]"
          ],
          [
           "FL1:512 FL2:16 DR:0.5 BS:32 LR:0.0005",
           "[78, 199]"
          ],
          [
           "FL1:512 FL2:16 DR:0.5 BS:32 LR:0.0005",
           "[78, 199]"
          ],
          [
           "FL1:512 FL2:16 DR:0.5 BS:32 LR:0.0005",
           "[78, 199]"
          ],
          [
           "FL1:512 FL2:16 DR:0.5 BS:32 LR:0.0005",
           "[78, 199]"
          ],
          [
           "FL1:512 FL2:16 DR:0.5 BS:32 LR:0.0005",
           "[78, 199]"
          ],
          [
           "FL1:512 FL2:16 DR:0.5 BS:32 LR:0.0005",
           "[78, 199]"
          ],
          [
           "FL1:512 FL2:16 DR:0.5 BS:32 LR:0.0005",
           "[78, 199]"
          ],
          [
           "FL1:512 FL2:16 DR:0.5 BS:32 LR:0.0005",
           "[78, 199]"
          ],
          [
           "FL1:512 FL2:16 DR:0.5 BS:32 LR:0.0005",
           "[78, 199]"
          ]
         ],
         "hovertemplate": "variable=train_loss<br>trial_id=802fd_00003<br>epoch=%{x}<br>value=%{y}<br>Hyperparameters=%{customdata[0]}<br>checkpoints=%{customdata[1]}<extra></extra>",
         "legendgroup": "train_loss, 802fd_00003",
         "line": {
          "color": "#EF553B",
          "dash": "longdashdot"
         },
         "marker": {
          "symbol": "circle"
         },
         "mode": "lines",
         "name": "train_loss, 802fd_00003",
         "showlegend": true,
         "type": "scattergl",
         "x": [
          0,
          1,
          2,
          3,
          4,
          5,
          6,
          7,
          8,
          9,
          10,
          11,
          12,
          13,
          14,
          15,
          16,
          17,
          18,
          19,
          20,
          21,
          22,
          23,
          24,
          25,
          26,
          27,
          28,
          29,
          30,
          31,
          32,
          33,
          34,
          35,
          36,
          37,
          38,
          39,
          40,
          41,
          42,
          43,
          44,
          45,
          46,
          47,
          48,
          49,
          50,
          51,
          52,
          53,
          54,
          55,
          56,
          57,
          58,
          59,
          60,
          61,
          62,
          63,
          64,
          65,
          66,
          67,
          68,
          69,
          70,
          71,
          72,
          73,
          74,
          75,
          76,
          77,
          78,
          79,
          80,
          81,
          82,
          83,
          84,
          85,
          86,
          87,
          88,
          89,
          90,
          91,
          92,
          93,
          94,
          95,
          96,
          97,
          98,
          99,
          100,
          101,
          102,
          103,
          104,
          105,
          106,
          107,
          108,
          109,
          110,
          111,
          112,
          113,
          114,
          115,
          116,
          117,
          118,
          119,
          120,
          121,
          122,
          123,
          124,
          125,
          126,
          127,
          128,
          129,
          130,
          131,
          132,
          133,
          134,
          135,
          136,
          137,
          138,
          139,
          140,
          141,
          142,
          143,
          144,
          145,
          146,
          147,
          148,
          149,
          150,
          151,
          152,
          153,
          154,
          155,
          156,
          157,
          158,
          159,
          160,
          161,
          162,
          163,
          164,
          165,
          166,
          167,
          168,
          169,
          170,
          171,
          172,
          173,
          174,
          175,
          176,
          177,
          178,
          179,
          180,
          181,
          182,
          183,
          184,
          185,
          186,
          187,
          188,
          189,
          190,
          191,
          192,
          193,
          194,
          195,
          196,
          197,
          198,
          199
         ],
         "xaxis": "x",
         "y": [
          0.36430928111076266,
          0.3037228931983302,
          0.4050743414296023,
          0.4131889332223797,
          0.29467706805393845,
          0.22634278271546449,
          0.30157862129443436,
          0.2322167797064352,
          0.188951346157363,
          0.31214453967304295,
          0.3171772803988135,
          0.43675085876557895,
          0.3324866665679457,
          0.3957613755118995,
          0.3025962072181798,
          0.24428194976966197,
          0.2221120808993482,
          0.1994864884002141,
          0.1484576810885224,
          0.1402044602227707,
          0.19445522679173205,
          0.1526448241755911,
          0.14530234779818482,
          0.10286154595284741,
          0.13116627929786184,
          0.13858992356842945,
          0.1406902654223054,
          0.11365448200056336,
          0.07762117656510324,
          0.13980179013438457,
          0.1396416705954564,
          0.1600871521306359,
          0.155634690527937,
          0.10914141528627681,
          0.09026320547078309,
          0.07023886956416399,
          0.09736972297325912,
          0.17493039863040089,
          0.15153476924849882,
          0.12424007277457784,
          0.2913304383275816,
          0.21777776395068613,
          0.15968755104333848,
          0.11733914311190896,
          0.13140071528130368,
          0.1260897887877196,
          0.09189770047906827,
          0.10608275516194597,
          0.08159793107617222,
          0.1291381414659039,
          0.09618248018471497,
          0.08872335882880997,
          0.07567866838242407,
          0.09493429426528181,
          0.08098627147858106,
          0.10175494530323285,
          0.09909046228410869,
          0.08529117685676978,
          0.057263079640638426,
          0.04122632560704916,
          0.04843561975541873,
          0.05966204820992635,
          0.052325872374389376,
          0.07878642631425678,
          0.058734274840051684,
          0.08673013212660564,
          0.08558002503302085,
          0.061025122911310084,
          0.08481102858025194,
          0.14347559991173126,
          0.09599044242173219,
          0.11462922439753831,
          0.11096924325346802,
          0.12365854137817886,
          0.0839718179917492,
          0.06233792007904296,
          0.12343274554240012,
          0.08433397368219028,
          0.08075546642559439,
          0.10803007198981185,
          0.10165535816624234,
          0.14080453024357154,
          0.283748289651668,
          0.20683063944644112,
          0.15501688300216437,
          0.11047435968216415,
          0.08475949892796508,
          0.2141024439162496,
          0.17887184809489248,
          0.15280800836512223,
          0.1206651476669891,
          0.0939360545011747,
          0.06994722938752088,
          0.09779085322364077,
          0.10145650624661884,
          0.48419120788195913,
          0.34664376000311087,
          0.25269429580864705,
          0.17125360208002985,
          0.12038850291568871,
          0.1513057069910815,
          0.10981162004558576,
          0.08334789561985811,
          0.06579291166702157,
          0.04968337713406641,
          0.07666789491127668,
          0.099063469298354,
          0.10790537186971687,
          0.40995020593875653,
          0.28939468902464704,
          0.21076530916568953,
          0.23021727272588158,
          0.17955927447291292,
          0.12449527431817235,
          0.09057773769260362,
          0.11566595812877584,
          0.10148274206612203,
          0.0700993263601011,
          0.04831341455197967,
          0.03261728165032391,
          0.0792618614268426,
          0.10084075211366803,
          0.08384599977983881,
          0.06507207188675032,
          0.045241780057014506,
          0.0356158691392749,
          0.02848395226706457,
          0.031411373902091554,
          0.02102389924995151,
          0.014107781359606206,
          0.015051303983763297,
          0.020282469437211955,
          0.013693510366905604,
          0.012288878236167181,
          0.02074518957002453,
          0.014370783659408418,
          0.026981298786130023,
          0.0249534205673313,
          0.04578107552913642,
          0.03109506489295305,
          0.04249758751166208,
          0.059755673712970844,
          0.04615487536223859,
          0.09825791670502593,
          0.09144818702420487,
          0.06738352908247634,
          0.046454854417949394,
          0.04789873468154621,
          0.03798439275737567,
          0.033147900776836284,
          0.09928121134756149,
          0.072471370896486,
          0.052386051959155334,
          0.03516810333917053,
          0.025300818449520448,
          0.016867285149746426,
          0.012597744522378345,
          0.014082894462933421,
          0.08502684582510883,
          0.0567941808123726,
          0.04337647079059399,
          0.03984202001577552,
          0.030329762177903986,
          0.04938863848794778,
          0.035139979810097303,
          0.042996471137191364,
          0.158741636415577,
          0.10710603719242318,
          0.07990876568878949,
          0.061645134553480474,
          0.04160257644093254,
          0.030004360595585353,
          0.02452026237662724,
          0.017029963045218525,
          0.014470423312749395,
          0.031340752245165034,
          0.039147518873994154,
          0.02630482243969224,
          0.025435350230827405,
          0.0177158495106594,
          0.03329822704648267,
          0.029469336100454335,
          0.021366167314705045,
          0.017141116760907408,
          0.030832984780429198,
          0.02113564118743083,
          0.07686431576808339,
          0.09464810205830465,
          0.06311917663457009,
          0.09289870401781106,
          0.08249283203192077,
          0.07711643473113572,
          0.05192887180086635,
          0.06745982016481705,
          0.08579796450242534,
          0.05844820571772843,
          0.04245471365556176,
          0.0494270831830305,
          0.03375463658133326,
          0.043034392751317256
         ],
         "yaxis": "y"
        },
        {
         "customdata": [
          [
           "FL1:512 FL2:16 DR:0.8 BS:32 LR:0.0005",
           "[160, 199]"
          ],
          [
           "FL1:512 FL2:16 DR:0.8 BS:32 LR:0.0005",
           "[160, 199]"
          ],
          [
           "FL1:512 FL2:16 DR:0.8 BS:32 LR:0.0005",
           "[160, 199]"
          ],
          [
           "FL1:512 FL2:16 DR:0.8 BS:32 LR:0.0005",
           "[160, 199]"
          ],
          [
           "FL1:512 FL2:16 DR:0.8 BS:32 LR:0.0005",
           "[160, 199]"
          ],
          [
           "FL1:512 FL2:16 DR:0.8 BS:32 LR:0.0005",
           "[160, 199]"
          ],
          [
           "FL1:512 FL2:16 DR:0.8 BS:32 LR:0.0005",
           "[160, 199]"
          ],
          [
           "FL1:512 FL2:16 DR:0.8 BS:32 LR:0.0005",
           "[160, 199]"
          ],
          [
           "FL1:512 FL2:16 DR:0.8 BS:32 LR:0.0005",
           "[160, 199]"
          ],
          [
           "FL1:512 FL2:16 DR:0.8 BS:32 LR:0.0005",
           "[160, 199]"
          ],
          [
           "FL1:512 FL2:16 DR:0.8 BS:32 LR:0.0005",
           "[160, 199]"
          ],
          [
           "FL1:512 FL2:16 DR:0.8 BS:32 LR:0.0005",
           "[160, 199]"
          ],
          [
           "FL1:512 FL2:16 DR:0.8 BS:32 LR:0.0005",
           "[160, 199]"
          ],
          [
           "FL1:512 FL2:16 DR:0.8 BS:32 LR:0.0005",
           "[160, 199]"
          ],
          [
           "FL1:512 FL2:16 DR:0.8 BS:32 LR:0.0005",
           "[160, 199]"
          ],
          [
           "FL1:512 FL2:16 DR:0.8 BS:32 LR:0.0005",
           "[160, 199]"
          ],
          [
           "FL1:512 FL2:16 DR:0.8 BS:32 LR:0.0005",
           "[160, 199]"
          ],
          [
           "FL1:512 FL2:16 DR:0.8 BS:32 LR:0.0005",
           "[160, 199]"
          ],
          [
           "FL1:512 FL2:16 DR:0.8 BS:32 LR:0.0005",
           "[160, 199]"
          ],
          [
           "FL1:512 FL2:16 DR:0.8 BS:32 LR:0.0005",
           "[160, 199]"
          ],
          [
           "FL1:512 FL2:16 DR:0.8 BS:32 LR:0.0005",
           "[160, 199]"
          ],
          [
           "FL1:512 FL2:16 DR:0.8 BS:32 LR:0.0005",
           "[160, 199]"
          ],
          [
           "FL1:512 FL2:16 DR:0.8 BS:32 LR:0.0005",
           "[160, 199]"
          ],
          [
           "FL1:512 FL2:16 DR:0.8 BS:32 LR:0.0005",
           "[160, 199]"
          ],
          [
           "FL1:512 FL2:16 DR:0.8 BS:32 LR:0.0005",
           "[160, 199]"
          ],
          [
           "FL1:512 FL2:16 DR:0.8 BS:32 LR:0.0005",
           "[160, 199]"
          ],
          [
           "FL1:512 FL2:16 DR:0.8 BS:32 LR:0.0005",
           "[160, 199]"
          ],
          [
           "FL1:512 FL2:16 DR:0.8 BS:32 LR:0.0005",
           "[160, 199]"
          ],
          [
           "FL1:512 FL2:16 DR:0.8 BS:32 LR:0.0005",
           "[160, 199]"
          ],
          [
           "FL1:512 FL2:16 DR:0.8 BS:32 LR:0.0005",
           "[160, 199]"
          ],
          [
           "FL1:512 FL2:16 DR:0.8 BS:32 LR:0.0005",
           "[160, 199]"
          ],
          [
           "FL1:512 FL2:16 DR:0.8 BS:32 LR:0.0005",
           "[160, 199]"
          ],
          [
           "FL1:512 FL2:16 DR:0.8 BS:32 LR:0.0005",
           "[160, 199]"
          ],
          [
           "FL1:512 FL2:16 DR:0.8 BS:32 LR:0.0005",
           "[160, 199]"
          ],
          [
           "FL1:512 FL2:16 DR:0.8 BS:32 LR:0.0005",
           "[160, 199]"
          ],
          [
           "FL1:512 FL2:16 DR:0.8 BS:32 LR:0.0005",
           "[160, 199]"
          ],
          [
           "FL1:512 FL2:16 DR:0.8 BS:32 LR:0.0005",
           "[160, 199]"
          ],
          [
           "FL1:512 FL2:16 DR:0.8 BS:32 LR:0.0005",
           "[160, 199]"
          ],
          [
           "FL1:512 FL2:16 DR:0.8 BS:32 LR:0.0005",
           "[160, 199]"
          ],
          [
           "FL1:512 FL2:16 DR:0.8 BS:32 LR:0.0005",
           "[160, 199]"
          ],
          [
           "FL1:512 FL2:16 DR:0.8 BS:32 LR:0.0005",
           "[160, 199]"
          ],
          [
           "FL1:512 FL2:16 DR:0.8 BS:32 LR:0.0005",
           "[160, 199]"
          ],
          [
           "FL1:512 FL2:16 DR:0.8 BS:32 LR:0.0005",
           "[160, 199]"
          ],
          [
           "FL1:512 FL2:16 DR:0.8 BS:32 LR:0.0005",
           "[160, 199]"
          ],
          [
           "FL1:512 FL2:16 DR:0.8 BS:32 LR:0.0005",
           "[160, 199]"
          ],
          [
           "FL1:512 FL2:16 DR:0.8 BS:32 LR:0.0005",
           "[160, 199]"
          ],
          [
           "FL1:512 FL2:16 DR:0.8 BS:32 LR:0.0005",
           "[160, 199]"
          ],
          [
           "FL1:512 FL2:16 DR:0.8 BS:32 LR:0.0005",
           "[160, 199]"
          ],
          [
           "FL1:512 FL2:16 DR:0.8 BS:32 LR:0.0005",
           "[160, 199]"
          ],
          [
           "FL1:512 FL2:16 DR:0.8 BS:32 LR:0.0005",
           "[160, 199]"
          ],
          [
           "FL1:512 FL2:16 DR:0.8 BS:32 LR:0.0005",
           "[160, 199]"
          ],
          [
           "FL1:512 FL2:16 DR:0.8 BS:32 LR:0.0005",
           "[160, 199]"
          ],
          [
           "FL1:512 FL2:16 DR:0.8 BS:32 LR:0.0005",
           "[160, 199]"
          ],
          [
           "FL1:512 FL2:16 DR:0.8 BS:32 LR:0.0005",
           "[160, 199]"
          ],
          [
           "FL1:512 FL2:16 DR:0.8 BS:32 LR:0.0005",
           "[160, 199]"
          ],
          [
           "FL1:512 FL2:16 DR:0.8 BS:32 LR:0.0005",
           "[160, 199]"
          ],
          [
           "FL1:512 FL2:16 DR:0.8 BS:32 LR:0.0005",
           "[160, 199]"
          ],
          [
           "FL1:512 FL2:16 DR:0.8 BS:32 LR:0.0005",
           "[160, 199]"
          ],
          [
           "FL1:512 FL2:16 DR:0.8 BS:32 LR:0.0005",
           "[160, 199]"
          ],
          [
           "FL1:512 FL2:16 DR:0.8 BS:32 LR:0.0005",
           "[160, 199]"
          ],
          [
           "FL1:512 FL2:16 DR:0.8 BS:32 LR:0.0005",
           "[160, 199]"
          ],
          [
           "FL1:512 FL2:16 DR:0.8 BS:32 LR:0.0005",
           "[160, 199]"
          ],
          [
           "FL1:512 FL2:16 DR:0.8 BS:32 LR:0.0005",
           "[160, 199]"
          ],
          [
           "FL1:512 FL2:16 DR:0.8 BS:32 LR:0.0005",
           "[160, 199]"
          ],
          [
           "FL1:512 FL2:16 DR:0.8 BS:32 LR:0.0005",
           "[160, 199]"
          ],
          [
           "FL1:512 FL2:16 DR:0.8 BS:32 LR:0.0005",
           "[160, 199]"
          ],
          [
           "FL1:512 FL2:16 DR:0.8 BS:32 LR:0.0005",
           "[160, 199]"
          ],
          [
           "FL1:512 FL2:16 DR:0.8 BS:32 LR:0.0005",
           "[160, 199]"
          ],
          [
           "FL1:512 FL2:16 DR:0.8 BS:32 LR:0.0005",
           "[160, 199]"
          ],
          [
           "FL1:512 FL2:16 DR:0.8 BS:32 LR:0.0005",
           "[160, 199]"
          ],
          [
           "FL1:512 FL2:16 DR:0.8 BS:32 LR:0.0005",
           "[160, 199]"
          ],
          [
           "FL1:512 FL2:16 DR:0.8 BS:32 LR:0.0005",
           "[160, 199]"
          ],
          [
           "FL1:512 FL2:16 DR:0.8 BS:32 LR:0.0005",
           "[160, 199]"
          ],
          [
           "FL1:512 FL2:16 DR:0.8 BS:32 LR:0.0005",
           "[160, 199]"
          ],
          [
           "FL1:512 FL2:16 DR:0.8 BS:32 LR:0.0005",
           "[160, 199]"
          ],
          [
           "FL1:512 FL2:16 DR:0.8 BS:32 LR:0.0005",
           "[160, 199]"
          ],
          [
           "FL1:512 FL2:16 DR:0.8 BS:32 LR:0.0005",
           "[160, 199]"
          ],
          [
           "FL1:512 FL2:16 DR:0.8 BS:32 LR:0.0005",
           "[160, 199]"
          ],
          [
           "FL1:512 FL2:16 DR:0.8 BS:32 LR:0.0005",
           "[160, 199]"
          ],
          [
           "FL1:512 FL2:16 DR:0.8 BS:32 LR:0.0005",
           "[160, 199]"
          ],
          [
           "FL1:512 FL2:16 DR:0.8 BS:32 LR:0.0005",
           "[160, 199]"
          ],
          [
           "FL1:512 FL2:16 DR:0.8 BS:32 LR:0.0005",
           "[160, 199]"
          ],
          [
           "FL1:512 FL2:16 DR:0.8 BS:32 LR:0.0005",
           "[160, 199]"
          ],
          [
           "FL1:512 FL2:16 DR:0.8 BS:32 LR:0.0005",
           "[160, 199]"
          ],
          [
           "FL1:512 FL2:16 DR:0.8 BS:32 LR:0.0005",
           "[160, 199]"
          ],
          [
           "FL1:512 FL2:16 DR:0.8 BS:32 LR:0.0005",
           "[160, 199]"
          ],
          [
           "FL1:512 FL2:16 DR:0.8 BS:32 LR:0.0005",
           "[160, 199]"
          ],
          [
           "FL1:512 FL2:16 DR:0.8 BS:32 LR:0.0005",
           "[160, 199]"
          ],
          [
           "FL1:512 FL2:16 DR:0.8 BS:32 LR:0.0005",
           "[160, 199]"
          ],
          [
           "FL1:512 FL2:16 DR:0.8 BS:32 LR:0.0005",
           "[160, 199]"
          ],
          [
           "FL1:512 FL2:16 DR:0.8 BS:32 LR:0.0005",
           "[160, 199]"
          ],
          [
           "FL1:512 FL2:16 DR:0.8 BS:32 LR:0.0005",
           "[160, 199]"
          ],
          [
           "FL1:512 FL2:16 DR:0.8 BS:32 LR:0.0005",
           "[160, 199]"
          ],
          [
           "FL1:512 FL2:16 DR:0.8 BS:32 LR:0.0005",
           "[160, 199]"
          ],
          [
           "FL1:512 FL2:16 DR:0.8 BS:32 LR:0.0005",
           "[160, 199]"
          ],
          [
           "FL1:512 FL2:16 DR:0.8 BS:32 LR:0.0005",
           "[160, 199]"
          ],
          [
           "FL1:512 FL2:16 DR:0.8 BS:32 LR:0.0005",
           "[160, 199]"
          ],
          [
           "FL1:512 FL2:16 DR:0.8 BS:32 LR:0.0005",
           "[160, 199]"
          ],
          [
           "FL1:512 FL2:16 DR:0.8 BS:32 LR:0.0005",
           "[160, 199]"
          ],
          [
           "FL1:512 FL2:16 DR:0.8 BS:32 LR:0.0005",
           "[160, 199]"
          ],
          [
           "FL1:512 FL2:16 DR:0.8 BS:32 LR:0.0005",
           "[160, 199]"
          ],
          [
           "FL1:512 FL2:16 DR:0.8 BS:32 LR:0.0005",
           "[160, 199]"
          ],
          [
           "FL1:512 FL2:16 DR:0.8 BS:32 LR:0.0005",
           "[160, 199]"
          ],
          [
           "FL1:512 FL2:16 DR:0.8 BS:32 LR:0.0005",
           "[160, 199]"
          ],
          [
           "FL1:512 FL2:16 DR:0.8 BS:32 LR:0.0005",
           "[160, 199]"
          ],
          [
           "FL1:512 FL2:16 DR:0.8 BS:32 LR:0.0005",
           "[160, 199]"
          ],
          [
           "FL1:512 FL2:16 DR:0.8 BS:32 LR:0.0005",
           "[160, 199]"
          ],
          [
           "FL1:512 FL2:16 DR:0.8 BS:32 LR:0.0005",
           "[160, 199]"
          ],
          [
           "FL1:512 FL2:16 DR:0.8 BS:32 LR:0.0005",
           "[160, 199]"
          ],
          [
           "FL1:512 FL2:16 DR:0.8 BS:32 LR:0.0005",
           "[160, 199]"
          ],
          [
           "FL1:512 FL2:16 DR:0.8 BS:32 LR:0.0005",
           "[160, 199]"
          ],
          [
           "FL1:512 FL2:16 DR:0.8 BS:32 LR:0.0005",
           "[160, 199]"
          ],
          [
           "FL1:512 FL2:16 DR:0.8 BS:32 LR:0.0005",
           "[160, 199]"
          ],
          [
           "FL1:512 FL2:16 DR:0.8 BS:32 LR:0.0005",
           "[160, 199]"
          ],
          [
           "FL1:512 FL2:16 DR:0.8 BS:32 LR:0.0005",
           "[160, 199]"
          ],
          [
           "FL1:512 FL2:16 DR:0.8 BS:32 LR:0.0005",
           "[160, 199]"
          ],
          [
           "FL1:512 FL2:16 DR:0.8 BS:32 LR:0.0005",
           "[160, 199]"
          ],
          [
           "FL1:512 FL2:16 DR:0.8 BS:32 LR:0.0005",
           "[160, 199]"
          ],
          [
           "FL1:512 FL2:16 DR:0.8 BS:32 LR:0.0005",
           "[160, 199]"
          ],
          [
           "FL1:512 FL2:16 DR:0.8 BS:32 LR:0.0005",
           "[160, 199]"
          ],
          [
           "FL1:512 FL2:16 DR:0.8 BS:32 LR:0.0005",
           "[160, 199]"
          ],
          [
           "FL1:512 FL2:16 DR:0.8 BS:32 LR:0.0005",
           "[160, 199]"
          ],
          [
           "FL1:512 FL2:16 DR:0.8 BS:32 LR:0.0005",
           "[160, 199]"
          ],
          [
           "FL1:512 FL2:16 DR:0.8 BS:32 LR:0.0005",
           "[160, 199]"
          ],
          [
           "FL1:512 FL2:16 DR:0.8 BS:32 LR:0.0005",
           "[160, 199]"
          ],
          [
           "FL1:512 FL2:16 DR:0.8 BS:32 LR:0.0005",
           "[160, 199]"
          ],
          [
           "FL1:512 FL2:16 DR:0.8 BS:32 LR:0.0005",
           "[160, 199]"
          ],
          [
           "FL1:512 FL2:16 DR:0.8 BS:32 LR:0.0005",
           "[160, 199]"
          ],
          [
           "FL1:512 FL2:16 DR:0.8 BS:32 LR:0.0005",
           "[160, 199]"
          ],
          [
           "FL1:512 FL2:16 DR:0.8 BS:32 LR:0.0005",
           "[160, 199]"
          ],
          [
           "FL1:512 FL2:16 DR:0.8 BS:32 LR:0.0005",
           "[160, 199]"
          ],
          [
           "FL1:512 FL2:16 DR:0.8 BS:32 LR:0.0005",
           "[160, 199]"
          ],
          [
           "FL1:512 FL2:16 DR:0.8 BS:32 LR:0.0005",
           "[160, 199]"
          ],
          [
           "FL1:512 FL2:16 DR:0.8 BS:32 LR:0.0005",
           "[160, 199]"
          ],
          [
           "FL1:512 FL2:16 DR:0.8 BS:32 LR:0.0005",
           "[160, 199]"
          ],
          [
           "FL1:512 FL2:16 DR:0.8 BS:32 LR:0.0005",
           "[160, 199]"
          ],
          [
           "FL1:512 FL2:16 DR:0.8 BS:32 LR:0.0005",
           "[160, 199]"
          ],
          [
           "FL1:512 FL2:16 DR:0.8 BS:32 LR:0.0005",
           "[160, 199]"
          ],
          [
           "FL1:512 FL2:16 DR:0.8 BS:32 LR:0.0005",
           "[160, 199]"
          ],
          [
           "FL1:512 FL2:16 DR:0.8 BS:32 LR:0.0005",
           "[160, 199]"
          ],
          [
           "FL1:512 FL2:16 DR:0.8 BS:32 LR:0.0005",
           "[160, 199]"
          ],
          [
           "FL1:512 FL2:16 DR:0.8 BS:32 LR:0.0005",
           "[160, 199]"
          ],
          [
           "FL1:512 FL2:16 DR:0.8 BS:32 LR:0.0005",
           "[160, 199]"
          ],
          [
           "FL1:512 FL2:16 DR:0.8 BS:32 LR:0.0005",
           "[160, 199]"
          ],
          [
           "FL1:512 FL2:16 DR:0.8 BS:32 LR:0.0005",
           "[160, 199]"
          ],
          [
           "FL1:512 FL2:16 DR:0.8 BS:32 LR:0.0005",
           "[160, 199]"
          ],
          [
           "FL1:512 FL2:16 DR:0.8 BS:32 LR:0.0005",
           "[160, 199]"
          ],
          [
           "FL1:512 FL2:16 DR:0.8 BS:32 LR:0.0005",
           "[160, 199]"
          ],
          [
           "FL1:512 FL2:16 DR:0.8 BS:32 LR:0.0005",
           "[160, 199]"
          ],
          [
           "FL1:512 FL2:16 DR:0.8 BS:32 LR:0.0005",
           "[160, 199]"
          ],
          [
           "FL1:512 FL2:16 DR:0.8 BS:32 LR:0.0005",
           "[160, 199]"
          ],
          [
           "FL1:512 FL2:16 DR:0.8 BS:32 LR:0.0005",
           "[160, 199]"
          ],
          [
           "FL1:512 FL2:16 DR:0.8 BS:32 LR:0.0005",
           "[160, 199]"
          ],
          [
           "FL1:512 FL2:16 DR:0.8 BS:32 LR:0.0005",
           "[160, 199]"
          ],
          [
           "FL1:512 FL2:16 DR:0.8 BS:32 LR:0.0005",
           "[160, 199]"
          ],
          [
           "FL1:512 FL2:16 DR:0.8 BS:32 LR:0.0005",
           "[160, 199]"
          ],
          [
           "FL1:512 FL2:16 DR:0.8 BS:32 LR:0.0005",
           "[160, 199]"
          ],
          [
           "FL1:512 FL2:16 DR:0.8 BS:32 LR:0.0005",
           "[160, 199]"
          ],
          [
           "FL1:512 FL2:16 DR:0.8 BS:32 LR:0.0005",
           "[160, 199]"
          ],
          [
           "FL1:512 FL2:16 DR:0.8 BS:32 LR:0.0005",
           "[160, 199]"
          ],
          [
           "FL1:512 FL2:16 DR:0.8 BS:32 LR:0.0005",
           "[160, 199]"
          ],
          [
           "FL1:512 FL2:16 DR:0.8 BS:32 LR:0.0005",
           "[160, 199]"
          ],
          [
           "FL1:512 FL2:16 DR:0.8 BS:32 LR:0.0005",
           "[160, 199]"
          ],
          [
           "FL1:512 FL2:16 DR:0.8 BS:32 LR:0.0005",
           "[160, 199]"
          ],
          [
           "FL1:512 FL2:16 DR:0.8 BS:32 LR:0.0005",
           "[160, 199]"
          ],
          [
           "FL1:512 FL2:16 DR:0.8 BS:32 LR:0.0005",
           "[160, 199]"
          ],
          [
           "FL1:512 FL2:16 DR:0.8 BS:32 LR:0.0005",
           "[160, 199]"
          ],
          [
           "FL1:512 FL2:16 DR:0.8 BS:32 LR:0.0005",
           "[160, 199]"
          ],
          [
           "FL1:512 FL2:16 DR:0.8 BS:32 LR:0.0005",
           "[160, 199]"
          ],
          [
           "FL1:512 FL2:16 DR:0.8 BS:32 LR:0.0005",
           "[160, 199]"
          ],
          [
           "FL1:512 FL2:16 DR:0.8 BS:32 LR:0.0005",
           "[160, 199]"
          ],
          [
           "FL1:512 FL2:16 DR:0.8 BS:32 LR:0.0005",
           "[160, 199]"
          ],
          [
           "FL1:512 FL2:16 DR:0.8 BS:32 LR:0.0005",
           "[160, 199]"
          ],
          [
           "FL1:512 FL2:16 DR:0.8 BS:32 LR:0.0005",
           "[160, 199]"
          ],
          [
           "FL1:512 FL2:16 DR:0.8 BS:32 LR:0.0005",
           "[160, 199]"
          ],
          [
           "FL1:512 FL2:16 DR:0.8 BS:32 LR:0.0005",
           "[160, 199]"
          ],
          [
           "FL1:512 FL2:16 DR:0.8 BS:32 LR:0.0005",
           "[160, 199]"
          ],
          [
           "FL1:512 FL2:16 DR:0.8 BS:32 LR:0.0005",
           "[160, 199]"
          ],
          [
           "FL1:512 FL2:16 DR:0.8 BS:32 LR:0.0005",
           "[160, 199]"
          ],
          [
           "FL1:512 FL2:16 DR:0.8 BS:32 LR:0.0005",
           "[160, 199]"
          ],
          [
           "FL1:512 FL2:16 DR:0.8 BS:32 LR:0.0005",
           "[160, 199]"
          ],
          [
           "FL1:512 FL2:16 DR:0.8 BS:32 LR:0.0005",
           "[160, 199]"
          ],
          [
           "FL1:512 FL2:16 DR:0.8 BS:32 LR:0.0005",
           "[160, 199]"
          ],
          [
           "FL1:512 FL2:16 DR:0.8 BS:32 LR:0.0005",
           "[160, 199]"
          ],
          [
           "FL1:512 FL2:16 DR:0.8 BS:32 LR:0.0005",
           "[160, 199]"
          ],
          [
           "FL1:512 FL2:16 DR:0.8 BS:32 LR:0.0005",
           "[160, 199]"
          ],
          [
           "FL1:512 FL2:16 DR:0.8 BS:32 LR:0.0005",
           "[160, 199]"
          ],
          [
           "FL1:512 FL2:16 DR:0.8 BS:32 LR:0.0005",
           "[160, 199]"
          ],
          [
           "FL1:512 FL2:16 DR:0.8 BS:32 LR:0.0005",
           "[160, 199]"
          ],
          [
           "FL1:512 FL2:16 DR:0.8 BS:32 LR:0.0005",
           "[160, 199]"
          ],
          [
           "FL1:512 FL2:16 DR:0.8 BS:32 LR:0.0005",
           "[160, 199]"
          ],
          [
           "FL1:512 FL2:16 DR:0.8 BS:32 LR:0.0005",
           "[160, 199]"
          ],
          [
           "FL1:512 FL2:16 DR:0.8 BS:32 LR:0.0005",
           "[160, 199]"
          ],
          [
           "FL1:512 FL2:16 DR:0.8 BS:32 LR:0.0005",
           "[160, 199]"
          ],
          [
           "FL1:512 FL2:16 DR:0.8 BS:32 LR:0.0005",
           "[160, 199]"
          ],
          [
           "FL1:512 FL2:16 DR:0.8 BS:32 LR:0.0005",
           "[160, 199]"
          ],
          [
           "FL1:512 FL2:16 DR:0.8 BS:32 LR:0.0005",
           "[160, 199]"
          ],
          [
           "FL1:512 FL2:16 DR:0.8 BS:32 LR:0.0005",
           "[160, 199]"
          ],
          [
           "FL1:512 FL2:16 DR:0.8 BS:32 LR:0.0005",
           "[160, 199]"
          ],
          [
           "FL1:512 FL2:16 DR:0.8 BS:32 LR:0.0005",
           "[160, 199]"
          ]
         ],
         "hovertemplate": "variable=train_loss<br>trial_id=802fd_00268<br>epoch=%{x}<br>value=%{y}<br>Hyperparameters=%{customdata[0]}<br>checkpoints=%{customdata[1]}<extra></extra>",
         "legendgroup": "train_loss, 802fd_00268",
         "line": {
          "color": "#EF553B",
          "dash": "solid"
         },
         "marker": {
          "symbol": "circle"
         },
         "mode": "lines",
         "name": "train_loss, 802fd_00268",
         "showlegend": true,
         "type": "scattergl",
         "x": [
          0,
          1,
          2,
          3,
          4,
          5,
          6,
          7,
          8,
          9,
          10,
          11,
          12,
          13,
          14,
          15,
          16,
          17,
          18,
          19,
          20,
          21,
          22,
          23,
          24,
          25,
          26,
          27,
          28,
          29,
          30,
          31,
          32,
          33,
          34,
          35,
          36,
          37,
          38,
          39,
          40,
          41,
          42,
          43,
          44,
          45,
          46,
          47,
          48,
          49,
          50,
          51,
          52,
          53,
          54,
          55,
          56,
          57,
          58,
          59,
          60,
          61,
          62,
          63,
          64,
          65,
          66,
          67,
          68,
          69,
          70,
          71,
          72,
          73,
          74,
          75,
          76,
          77,
          78,
          79,
          80,
          81,
          82,
          83,
          84,
          85,
          86,
          87,
          88,
          89,
          90,
          91,
          92,
          93,
          94,
          95,
          96,
          97,
          98,
          99,
          100,
          101,
          102,
          103,
          104,
          105,
          106,
          107,
          108,
          109,
          110,
          111,
          112,
          113,
          114,
          115,
          116,
          117,
          118,
          119,
          120,
          121,
          122,
          123,
          124,
          125,
          126,
          127,
          128,
          129,
          130,
          131,
          132,
          133,
          134,
          135,
          136,
          137,
          138,
          139,
          140,
          141,
          142,
          143,
          144,
          145,
          146,
          147,
          148,
          149,
          150,
          151,
          152,
          153,
          154,
          155,
          156,
          157,
          158,
          159,
          160,
          161,
          162,
          163,
          164,
          165,
          166,
          167,
          168,
          169,
          170,
          171,
          172,
          173,
          174,
          175,
          176,
          177,
          178,
          179,
          180,
          181,
          182,
          183,
          184,
          185,
          186,
          187,
          188,
          189,
          190,
          191,
          192,
          193,
          194,
          195,
          196,
          197,
          198,
          199
         ],
         "xaxis": "x",
         "y": [
          0.6847617030143721,
          0.688381095727282,
          0.6634485257996421,
          0.6603681334742755,
          0.5591178959534459,
          0.4858336830090073,
          0.482006177898948,
          0.42504839141945283,
          0.45012057516164294,
          0.49991137248401174,
          0.42597305087330756,
          0.42830630678655474,
          0.39217287989935384,
          0.4614277329211824,
          0.46390199635859175,
          0.46848876260675104,
          0.3945849255254336,
          0.3877645244552331,
          0.34543086822520547,
          0.32381667849547835,
          0.4506247385152638,
          0.42821168196257253,
          0.36353877214627944,
          0.3330194653937379,
          0.3832990627731973,
          0.4089249538876002,
          0.38162847475855705,
          0.3031847766150972,
          0.2915282541586247,
          0.3138703302590896,
          0.3011360397636122,
          0.32437525727346295,
          0.3012541038327393,
          0.23896973017407616,
          0.2817243548469611,
          0.3051078062744178,
          0.30123479442405876,
          0.3608724360771179,
          0.38061412408002115,
          0.37036213764911075,
          0.4234002463643087,
          0.33992546847292626,
          0.2761717293052461,
          0.2981353603064069,
          0.3031898771563528,
          0.3151651941961279,
          0.30377949431381096,
          0.30562449266408126,
          0.23284341656429378,
          0.39271250541516506,
          0.37102972583974897,
          0.26437061812815055,
          0.2628000861163728,
          0.2741665069100448,
          0.3128752989131327,
          0.30136039737582904,
          0.2682149799911223,
          0.23610136027124434,
          0.24307932532487195,
          0.3040911990845052,
          0.2433756905094679,
          0.2306880366335901,
          0.19195765333245782,
          0.27431643060095057,
          0.22224455360735063,
          0.20819392822957394,
          0.3219163021960269,
          0.2755528821891151,
          0.354459950284533,
          0.32447613872181796,
          0.27076015437372103,
          0.2613549418894946,
          0.28941302747517733,
          0.2603912552263329,
          0.20438215468101936,
          0.23344702743009155,
          0.29684058641404093,
          0.25822709543844136,
          0.23756264675550995,
          0.31510830275809215,
          0.23425597931011133,
          0.2852607534002164,
          0.43912916485937914,
          0.4123829047181365,
          0.313887844668372,
          0.24606570531033353,
          0.22479973189766417,
          0.22589558993932354,
          0.21889212651488962,
          0.16860662846722707,
          0.20664886930888493,
          0.18971279627287088,
          0.1795406663828667,
          0.204997769621582,
          0.22218088747896764,
          0.21496015251900052,
          0.21342242897368285,
          0.2751662906065031,
          0.27935787214533714,
          0.21720396925142205,
          0.3978198332861431,
          0.4668270656317702,
          0.3473049606780361,
          0.2821889308359985,
          0.2476456272778748,
          0.2439775985597127,
          0.19396176418453787,
          0.21801421695808723,
          0.3235060417245492,
          0.29253389892251336,
          0.27499725558539867,
          0.32376067266318853,
          0.3636156911681327,
          0.29896687931684834,
          0.3121229275522501,
          0.27300402617837743,
          0.2521012282794428,
          0.18328459603426925,
          0.21731517740645648,
          0.15679982861584177,
          0.2390312092880779,
          0.2351160984821032,
          0.1802056956017619,
          0.16732121028665703,
          0.15659796044670182,
          0.19286565214688606,
          0.20031494220293194,
          0.22833690259321876,
          0.3475481285880946,
          0.27792466277751243,
          0.26870496468327326,
          0.2501188609108779,
          0.24372594178421267,
          0.19775350720155857,
          0.22815962851357802,
          0.2288971690357543,
          0.2208555041432917,
          0.19720483314199808,
          0.21406052338549475,
          0.1739688272441026,
          0.1982274737732005,
          0.23036454695969033,
          0.18626874488929362,
          0.26765402027195884,
          0.2134952445376327,
          0.1876969221266379,
          0.1593204435727508,
          0.16185319900655115,
          0.22170746644432837,
          0.29464078161514684,
          0.4366236343211374,
          0.34416293198707604,
          0.2794586211101403,
          0.20137955966301682,
          0.22878341358706566,
          0.20988713689516084,
          0.1829073362076948,
          0.1767679457879506,
          0.22064046098235124,
          0.21509863127233453,
          0.18496100646894387,
          0.24558949498760094,
          0.24380151946297815,
          0.26871693146858894,
          0.2634540896457711,
          0.22250276975116953,
          0.1976963938758226,
          0.14616051599286994,
          0.14312544157043397,
          0.0992991670920471,
          0.12781427601668655,
          0.10862831142010551,
          0.14869251924397003,
          0.18237281393767302,
          0.14250351108948975,
          0.17732519651678205,
          0.20265259838916794,
          0.24245755537892594,
          0.235699426230756,
          0.2099890981097797,
          0.2484849972181696,
          0.21789769713436058,
          0.18764982047580642,
          0.1697102813118227,
          0.1966800311004797,
          0.1844331121309382,
          0.16719521720301955,
          0.141840357012827,
          0.12548474449401326,
          0.1478193268410706,
          0.16882668536453352,
          0.15691111055711146,
          0.1652873792098573,
          0.12214137740245197,
          0.11132597759240667,
          0.08918002014275249,
          0.13970113141613383,
          0.20066652922681344,
          0.15187417660389577,
          0.2293348259014162
         ],
         "yaxis": "y"
        },
        {
         "customdata": [
          [
           "FL1:16 FL2:16 DR:0.8 BS:64 LR:0.0001",
           "[157, 199]"
          ],
          [
           "FL1:16 FL2:16 DR:0.8 BS:64 LR:0.0001",
           "[157, 199]"
          ],
          [
           "FL1:16 FL2:16 DR:0.8 BS:64 LR:0.0001",
           "[157, 199]"
          ],
          [
           "FL1:16 FL2:16 DR:0.8 BS:64 LR:0.0001",
           "[157, 199]"
          ],
          [
           "FL1:16 FL2:16 DR:0.8 BS:64 LR:0.0001",
           "[157, 199]"
          ],
          [
           "FL1:16 FL2:16 DR:0.8 BS:64 LR:0.0001",
           "[157, 199]"
          ],
          [
           "FL1:16 FL2:16 DR:0.8 BS:64 LR:0.0001",
           "[157, 199]"
          ],
          [
           "FL1:16 FL2:16 DR:0.8 BS:64 LR:0.0001",
           "[157, 199]"
          ],
          [
           "FL1:16 FL2:16 DR:0.8 BS:64 LR:0.0001",
           "[157, 199]"
          ],
          [
           "FL1:16 FL2:16 DR:0.8 BS:64 LR:0.0001",
           "[157, 199]"
          ],
          [
           "FL1:16 FL2:16 DR:0.8 BS:64 LR:0.0001",
           "[157, 199]"
          ],
          [
           "FL1:16 FL2:16 DR:0.8 BS:64 LR:0.0001",
           "[157, 199]"
          ],
          [
           "FL1:16 FL2:16 DR:0.8 BS:64 LR:0.0001",
           "[157, 199]"
          ],
          [
           "FL1:16 FL2:16 DR:0.8 BS:64 LR:0.0001",
           "[157, 199]"
          ],
          [
           "FL1:16 FL2:16 DR:0.8 BS:64 LR:0.0001",
           "[157, 199]"
          ],
          [
           "FL1:16 FL2:16 DR:0.8 BS:64 LR:0.0001",
           "[157, 199]"
          ],
          [
           "FL1:16 FL2:16 DR:0.8 BS:64 LR:0.0001",
           "[157, 199]"
          ],
          [
           "FL1:16 FL2:16 DR:0.8 BS:64 LR:0.0001",
           "[157, 199]"
          ],
          [
           "FL1:16 FL2:16 DR:0.8 BS:64 LR:0.0001",
           "[157, 199]"
          ],
          [
           "FL1:16 FL2:16 DR:0.8 BS:64 LR:0.0001",
           "[157, 199]"
          ],
          [
           "FL1:16 FL2:16 DR:0.8 BS:64 LR:0.0001",
           "[157, 199]"
          ],
          [
           "FL1:16 FL2:16 DR:0.8 BS:64 LR:0.0001",
           "[157, 199]"
          ],
          [
           "FL1:16 FL2:16 DR:0.8 BS:64 LR:0.0001",
           "[157, 199]"
          ],
          [
           "FL1:16 FL2:16 DR:0.8 BS:64 LR:0.0001",
           "[157, 199]"
          ],
          [
           "FL1:16 FL2:16 DR:0.8 BS:64 LR:0.0001",
           "[157, 199]"
          ],
          [
           "FL1:16 FL2:16 DR:0.8 BS:64 LR:0.0001",
           "[157, 199]"
          ],
          [
           "FL1:16 FL2:16 DR:0.8 BS:64 LR:0.0001",
           "[157, 199]"
          ],
          [
           "FL1:16 FL2:16 DR:0.8 BS:64 LR:0.0001",
           "[157, 199]"
          ],
          [
           "FL1:16 FL2:16 DR:0.8 BS:64 LR:0.0001",
           "[157, 199]"
          ],
          [
           "FL1:16 FL2:16 DR:0.8 BS:64 LR:0.0001",
           "[157, 199]"
          ],
          [
           "FL1:16 FL2:16 DR:0.8 BS:64 LR:0.0001",
           "[157, 199]"
          ],
          [
           "FL1:16 FL2:16 DR:0.8 BS:64 LR:0.0001",
           "[157, 199]"
          ],
          [
           "FL1:16 FL2:16 DR:0.8 BS:64 LR:0.0001",
           "[157, 199]"
          ],
          [
           "FL1:16 FL2:16 DR:0.8 BS:64 LR:0.0001",
           "[157, 199]"
          ],
          [
           "FL1:16 FL2:16 DR:0.8 BS:64 LR:0.0001",
           "[157, 199]"
          ],
          [
           "FL1:16 FL2:16 DR:0.8 BS:64 LR:0.0001",
           "[157, 199]"
          ],
          [
           "FL1:16 FL2:16 DR:0.8 BS:64 LR:0.0001",
           "[157, 199]"
          ],
          [
           "FL1:16 FL2:16 DR:0.8 BS:64 LR:0.0001",
           "[157, 199]"
          ],
          [
           "FL1:16 FL2:16 DR:0.8 BS:64 LR:0.0001",
           "[157, 199]"
          ],
          [
           "FL1:16 FL2:16 DR:0.8 BS:64 LR:0.0001",
           "[157, 199]"
          ],
          [
           "FL1:16 FL2:16 DR:0.8 BS:64 LR:0.0001",
           "[157, 199]"
          ],
          [
           "FL1:16 FL2:16 DR:0.8 BS:64 LR:0.0001",
           "[157, 199]"
          ],
          [
           "FL1:16 FL2:16 DR:0.8 BS:64 LR:0.0001",
           "[157, 199]"
          ],
          [
           "FL1:16 FL2:16 DR:0.8 BS:64 LR:0.0001",
           "[157, 199]"
          ],
          [
           "FL1:16 FL2:16 DR:0.8 BS:64 LR:0.0001",
           "[157, 199]"
          ],
          [
           "FL1:16 FL2:16 DR:0.8 BS:64 LR:0.0001",
           "[157, 199]"
          ],
          [
           "FL1:16 FL2:16 DR:0.8 BS:64 LR:0.0001",
           "[157, 199]"
          ],
          [
           "FL1:16 FL2:16 DR:0.8 BS:64 LR:0.0001",
           "[157, 199]"
          ],
          [
           "FL1:16 FL2:16 DR:0.8 BS:64 LR:0.0001",
           "[157, 199]"
          ],
          [
           "FL1:16 FL2:16 DR:0.8 BS:64 LR:0.0001",
           "[157, 199]"
          ],
          [
           "FL1:16 FL2:16 DR:0.8 BS:64 LR:0.0001",
           "[157, 199]"
          ],
          [
           "FL1:16 FL2:16 DR:0.8 BS:64 LR:0.0001",
           "[157, 199]"
          ],
          [
           "FL1:16 FL2:16 DR:0.8 BS:64 LR:0.0001",
           "[157, 199]"
          ],
          [
           "FL1:16 FL2:16 DR:0.8 BS:64 LR:0.0001",
           "[157, 199]"
          ],
          [
           "FL1:16 FL2:16 DR:0.8 BS:64 LR:0.0001",
           "[157, 199]"
          ],
          [
           "FL1:16 FL2:16 DR:0.8 BS:64 LR:0.0001",
           "[157, 199]"
          ],
          [
           "FL1:16 FL2:16 DR:0.8 BS:64 LR:0.0001",
           "[157, 199]"
          ],
          [
           "FL1:16 FL2:16 DR:0.8 BS:64 LR:0.0001",
           "[157, 199]"
          ],
          [
           "FL1:16 FL2:16 DR:0.8 BS:64 LR:0.0001",
           "[157, 199]"
          ],
          [
           "FL1:16 FL2:16 DR:0.8 BS:64 LR:0.0001",
           "[157, 199]"
          ],
          [
           "FL1:16 FL2:16 DR:0.8 BS:64 LR:0.0001",
           "[157, 199]"
          ],
          [
           "FL1:16 FL2:16 DR:0.8 BS:64 LR:0.0001",
           "[157, 199]"
          ],
          [
           "FL1:16 FL2:16 DR:0.8 BS:64 LR:0.0001",
           "[157, 199]"
          ],
          [
           "FL1:16 FL2:16 DR:0.8 BS:64 LR:0.0001",
           "[157, 199]"
          ],
          [
           "FL1:16 FL2:16 DR:0.8 BS:64 LR:0.0001",
           "[157, 199]"
          ],
          [
           "FL1:16 FL2:16 DR:0.8 BS:64 LR:0.0001",
           "[157, 199]"
          ],
          [
           "FL1:16 FL2:16 DR:0.8 BS:64 LR:0.0001",
           "[157, 199]"
          ],
          [
           "FL1:16 FL2:16 DR:0.8 BS:64 LR:0.0001",
           "[157, 199]"
          ],
          [
           "FL1:16 FL2:16 DR:0.8 BS:64 LR:0.0001",
           "[157, 199]"
          ],
          [
           "FL1:16 FL2:16 DR:0.8 BS:64 LR:0.0001",
           "[157, 199]"
          ],
          [
           "FL1:16 FL2:16 DR:0.8 BS:64 LR:0.0001",
           "[157, 199]"
          ],
          [
           "FL1:16 FL2:16 DR:0.8 BS:64 LR:0.0001",
           "[157, 199]"
          ],
          [
           "FL1:16 FL2:16 DR:0.8 BS:64 LR:0.0001",
           "[157, 199]"
          ],
          [
           "FL1:16 FL2:16 DR:0.8 BS:64 LR:0.0001",
           "[157, 199]"
          ],
          [
           "FL1:16 FL2:16 DR:0.8 BS:64 LR:0.0001",
           "[157, 199]"
          ],
          [
           "FL1:16 FL2:16 DR:0.8 BS:64 LR:0.0001",
           "[157, 199]"
          ],
          [
           "FL1:16 FL2:16 DR:0.8 BS:64 LR:0.0001",
           "[157, 199]"
          ],
          [
           "FL1:16 FL2:16 DR:0.8 BS:64 LR:0.0001",
           "[157, 199]"
          ],
          [
           "FL1:16 FL2:16 DR:0.8 BS:64 LR:0.0001",
           "[157, 199]"
          ],
          [
           "FL1:16 FL2:16 DR:0.8 BS:64 LR:0.0001",
           "[157, 199]"
          ],
          [
           "FL1:16 FL2:16 DR:0.8 BS:64 LR:0.0001",
           "[157, 199]"
          ],
          [
           "FL1:16 FL2:16 DR:0.8 BS:64 LR:0.0001",
           "[157, 199]"
          ],
          [
           "FL1:16 FL2:16 DR:0.8 BS:64 LR:0.0001",
           "[157, 199]"
          ],
          [
           "FL1:16 FL2:16 DR:0.8 BS:64 LR:0.0001",
           "[157, 199]"
          ],
          [
           "FL1:16 FL2:16 DR:0.8 BS:64 LR:0.0001",
           "[157, 199]"
          ],
          [
           "FL1:16 FL2:16 DR:0.8 BS:64 LR:0.0001",
           "[157, 199]"
          ],
          [
           "FL1:16 FL2:16 DR:0.8 BS:64 LR:0.0001",
           "[157, 199]"
          ],
          [
           "FL1:16 FL2:16 DR:0.8 BS:64 LR:0.0001",
           "[157, 199]"
          ],
          [
           "FL1:16 FL2:16 DR:0.8 BS:64 LR:0.0001",
           "[157, 199]"
          ],
          [
           "FL1:16 FL2:16 DR:0.8 BS:64 LR:0.0001",
           "[157, 199]"
          ],
          [
           "FL1:16 FL2:16 DR:0.8 BS:64 LR:0.0001",
           "[157, 199]"
          ],
          [
           "FL1:16 FL2:16 DR:0.8 BS:64 LR:0.0001",
           "[157, 199]"
          ],
          [
           "FL1:16 FL2:16 DR:0.8 BS:64 LR:0.0001",
           "[157, 199]"
          ],
          [
           "FL1:16 FL2:16 DR:0.8 BS:64 LR:0.0001",
           "[157, 199]"
          ],
          [
           "FL1:16 FL2:16 DR:0.8 BS:64 LR:0.0001",
           "[157, 199]"
          ],
          [
           "FL1:16 FL2:16 DR:0.8 BS:64 LR:0.0001",
           "[157, 199]"
          ],
          [
           "FL1:16 FL2:16 DR:0.8 BS:64 LR:0.0001",
           "[157, 199]"
          ],
          [
           "FL1:16 FL2:16 DR:0.8 BS:64 LR:0.0001",
           "[157, 199]"
          ],
          [
           "FL1:16 FL2:16 DR:0.8 BS:64 LR:0.0001",
           "[157, 199]"
          ],
          [
           "FL1:16 FL2:16 DR:0.8 BS:64 LR:0.0001",
           "[157, 199]"
          ],
          [
           "FL1:16 FL2:16 DR:0.8 BS:64 LR:0.0001",
           "[157, 199]"
          ],
          [
           "FL1:16 FL2:16 DR:0.8 BS:64 LR:0.0001",
           "[157, 199]"
          ],
          [
           "FL1:16 FL2:16 DR:0.8 BS:64 LR:0.0001",
           "[157, 199]"
          ],
          [
           "FL1:16 FL2:16 DR:0.8 BS:64 LR:0.0001",
           "[157, 199]"
          ],
          [
           "FL1:16 FL2:16 DR:0.8 BS:64 LR:0.0001",
           "[157, 199]"
          ],
          [
           "FL1:16 FL2:16 DR:0.8 BS:64 LR:0.0001",
           "[157, 199]"
          ],
          [
           "FL1:16 FL2:16 DR:0.8 BS:64 LR:0.0001",
           "[157, 199]"
          ],
          [
           "FL1:16 FL2:16 DR:0.8 BS:64 LR:0.0001",
           "[157, 199]"
          ],
          [
           "FL1:16 FL2:16 DR:0.8 BS:64 LR:0.0001",
           "[157, 199]"
          ],
          [
           "FL1:16 FL2:16 DR:0.8 BS:64 LR:0.0001",
           "[157, 199]"
          ],
          [
           "FL1:16 FL2:16 DR:0.8 BS:64 LR:0.0001",
           "[157, 199]"
          ],
          [
           "FL1:16 FL2:16 DR:0.8 BS:64 LR:0.0001",
           "[157, 199]"
          ],
          [
           "FL1:16 FL2:16 DR:0.8 BS:64 LR:0.0001",
           "[157, 199]"
          ],
          [
           "FL1:16 FL2:16 DR:0.8 BS:64 LR:0.0001",
           "[157, 199]"
          ],
          [
           "FL1:16 FL2:16 DR:0.8 BS:64 LR:0.0001",
           "[157, 199]"
          ],
          [
           "FL1:16 FL2:16 DR:0.8 BS:64 LR:0.0001",
           "[157, 199]"
          ],
          [
           "FL1:16 FL2:16 DR:0.8 BS:64 LR:0.0001",
           "[157, 199]"
          ],
          [
           "FL1:16 FL2:16 DR:0.8 BS:64 LR:0.0001",
           "[157, 199]"
          ],
          [
           "FL1:16 FL2:16 DR:0.8 BS:64 LR:0.0001",
           "[157, 199]"
          ],
          [
           "FL1:16 FL2:16 DR:0.8 BS:64 LR:0.0001",
           "[157, 199]"
          ],
          [
           "FL1:16 FL2:16 DR:0.8 BS:64 LR:0.0001",
           "[157, 199]"
          ],
          [
           "FL1:16 FL2:16 DR:0.8 BS:64 LR:0.0001",
           "[157, 199]"
          ],
          [
           "FL1:16 FL2:16 DR:0.8 BS:64 LR:0.0001",
           "[157, 199]"
          ],
          [
           "FL1:16 FL2:16 DR:0.8 BS:64 LR:0.0001",
           "[157, 199]"
          ],
          [
           "FL1:16 FL2:16 DR:0.8 BS:64 LR:0.0001",
           "[157, 199]"
          ],
          [
           "FL1:16 FL2:16 DR:0.8 BS:64 LR:0.0001",
           "[157, 199]"
          ],
          [
           "FL1:16 FL2:16 DR:0.8 BS:64 LR:0.0001",
           "[157, 199]"
          ],
          [
           "FL1:16 FL2:16 DR:0.8 BS:64 LR:0.0001",
           "[157, 199]"
          ],
          [
           "FL1:16 FL2:16 DR:0.8 BS:64 LR:0.0001",
           "[157, 199]"
          ],
          [
           "FL1:16 FL2:16 DR:0.8 BS:64 LR:0.0001",
           "[157, 199]"
          ],
          [
           "FL1:16 FL2:16 DR:0.8 BS:64 LR:0.0001",
           "[157, 199]"
          ],
          [
           "FL1:16 FL2:16 DR:0.8 BS:64 LR:0.0001",
           "[157, 199]"
          ],
          [
           "FL1:16 FL2:16 DR:0.8 BS:64 LR:0.0001",
           "[157, 199]"
          ],
          [
           "FL1:16 FL2:16 DR:0.8 BS:64 LR:0.0001",
           "[157, 199]"
          ],
          [
           "FL1:16 FL2:16 DR:0.8 BS:64 LR:0.0001",
           "[157, 199]"
          ],
          [
           "FL1:16 FL2:16 DR:0.8 BS:64 LR:0.0001",
           "[157, 199]"
          ],
          [
           "FL1:16 FL2:16 DR:0.8 BS:64 LR:0.0001",
           "[157, 199]"
          ],
          [
           "FL1:16 FL2:16 DR:0.8 BS:64 LR:0.0001",
           "[157, 199]"
          ],
          [
           "FL1:16 FL2:16 DR:0.8 BS:64 LR:0.0001",
           "[157, 199]"
          ],
          [
           "FL1:16 FL2:16 DR:0.8 BS:64 LR:0.0001",
           "[157, 199]"
          ],
          [
           "FL1:16 FL2:16 DR:0.8 BS:64 LR:0.0001",
           "[157, 199]"
          ],
          [
           "FL1:16 FL2:16 DR:0.8 BS:64 LR:0.0001",
           "[157, 199]"
          ],
          [
           "FL1:16 FL2:16 DR:0.8 BS:64 LR:0.0001",
           "[157, 199]"
          ],
          [
           "FL1:16 FL2:16 DR:0.8 BS:64 LR:0.0001",
           "[157, 199]"
          ],
          [
           "FL1:16 FL2:16 DR:0.8 BS:64 LR:0.0001",
           "[157, 199]"
          ],
          [
           "FL1:16 FL2:16 DR:0.8 BS:64 LR:0.0001",
           "[157, 199]"
          ],
          [
           "FL1:16 FL2:16 DR:0.8 BS:64 LR:0.0001",
           "[157, 199]"
          ],
          [
           "FL1:16 FL2:16 DR:0.8 BS:64 LR:0.0001",
           "[157, 199]"
          ],
          [
           "FL1:16 FL2:16 DR:0.8 BS:64 LR:0.0001",
           "[157, 199]"
          ],
          [
           "FL1:16 FL2:16 DR:0.8 BS:64 LR:0.0001",
           "[157, 199]"
          ],
          [
           "FL1:16 FL2:16 DR:0.8 BS:64 LR:0.0001",
           "[157, 199]"
          ],
          [
           "FL1:16 FL2:16 DR:0.8 BS:64 LR:0.0001",
           "[157, 199]"
          ],
          [
           "FL1:16 FL2:16 DR:0.8 BS:64 LR:0.0001",
           "[157, 199]"
          ],
          [
           "FL1:16 FL2:16 DR:0.8 BS:64 LR:0.0001",
           "[157, 199]"
          ],
          [
           "FL1:16 FL2:16 DR:0.8 BS:64 LR:0.0001",
           "[157, 199]"
          ],
          [
           "FL1:16 FL2:16 DR:0.8 BS:64 LR:0.0001",
           "[157, 199]"
          ],
          [
           "FL1:16 FL2:16 DR:0.8 BS:64 LR:0.0001",
           "[157, 199]"
          ],
          [
           "FL1:16 FL2:16 DR:0.8 BS:64 LR:0.0001",
           "[157, 199]"
          ],
          [
           "FL1:16 FL2:16 DR:0.8 BS:64 LR:0.0001",
           "[157, 199]"
          ],
          [
           "FL1:16 FL2:16 DR:0.8 BS:64 LR:0.0001",
           "[157, 199]"
          ],
          [
           "FL1:16 FL2:16 DR:0.8 BS:64 LR:0.0001",
           "[157, 199]"
          ],
          [
           "FL1:16 FL2:16 DR:0.8 BS:64 LR:0.0001",
           "[157, 199]"
          ],
          [
           "FL1:16 FL2:16 DR:0.8 BS:64 LR:0.0001",
           "[157, 199]"
          ],
          [
           "FL1:16 FL2:16 DR:0.8 BS:64 LR:0.0001",
           "[157, 199]"
          ],
          [
           "FL1:16 FL2:16 DR:0.8 BS:64 LR:0.0001",
           "[157, 199]"
          ],
          [
           "FL1:16 FL2:16 DR:0.8 BS:64 LR:0.0001",
           "[157, 199]"
          ],
          [
           "FL1:16 FL2:16 DR:0.8 BS:64 LR:0.0001",
           "[157, 199]"
          ],
          [
           "FL1:16 FL2:16 DR:0.8 BS:64 LR:0.0001",
           "[157, 199]"
          ],
          [
           "FL1:16 FL2:16 DR:0.8 BS:64 LR:0.0001",
           "[157, 199]"
          ],
          [
           "FL1:16 FL2:16 DR:0.8 BS:64 LR:0.0001",
           "[157, 199]"
          ],
          [
           "FL1:16 FL2:16 DR:0.8 BS:64 LR:0.0001",
           "[157, 199]"
          ],
          [
           "FL1:16 FL2:16 DR:0.8 BS:64 LR:0.0001",
           "[157, 199]"
          ],
          [
           "FL1:16 FL2:16 DR:0.8 BS:64 LR:0.0001",
           "[157, 199]"
          ],
          [
           "FL1:16 FL2:16 DR:0.8 BS:64 LR:0.0001",
           "[157, 199]"
          ],
          [
           "FL1:16 FL2:16 DR:0.8 BS:64 LR:0.0001",
           "[157, 199]"
          ],
          [
           "FL1:16 FL2:16 DR:0.8 BS:64 LR:0.0001",
           "[157, 199]"
          ],
          [
           "FL1:16 FL2:16 DR:0.8 BS:64 LR:0.0001",
           "[157, 199]"
          ],
          [
           "FL1:16 FL2:16 DR:0.8 BS:64 LR:0.0001",
           "[157, 199]"
          ],
          [
           "FL1:16 FL2:16 DR:0.8 BS:64 LR:0.0001",
           "[157, 199]"
          ],
          [
           "FL1:16 FL2:16 DR:0.8 BS:64 LR:0.0001",
           "[157, 199]"
          ],
          [
           "FL1:16 FL2:16 DR:0.8 BS:64 LR:0.0001",
           "[157, 199]"
          ],
          [
           "FL1:16 FL2:16 DR:0.8 BS:64 LR:0.0001",
           "[157, 199]"
          ],
          [
           "FL1:16 FL2:16 DR:0.8 BS:64 LR:0.0001",
           "[157, 199]"
          ],
          [
           "FL1:16 FL2:16 DR:0.8 BS:64 LR:0.0001",
           "[157, 199]"
          ],
          [
           "FL1:16 FL2:16 DR:0.8 BS:64 LR:0.0001",
           "[157, 199]"
          ],
          [
           "FL1:16 FL2:16 DR:0.8 BS:64 LR:0.0001",
           "[157, 199]"
          ],
          [
           "FL1:16 FL2:16 DR:0.8 BS:64 LR:0.0001",
           "[157, 199]"
          ],
          [
           "FL1:16 FL2:16 DR:0.8 BS:64 LR:0.0001",
           "[157, 199]"
          ],
          [
           "FL1:16 FL2:16 DR:0.8 BS:64 LR:0.0001",
           "[157, 199]"
          ],
          [
           "FL1:16 FL2:16 DR:0.8 BS:64 LR:0.0001",
           "[157, 199]"
          ],
          [
           "FL1:16 FL2:16 DR:0.8 BS:64 LR:0.0001",
           "[157, 199]"
          ],
          [
           "FL1:16 FL2:16 DR:0.8 BS:64 LR:0.0001",
           "[157, 199]"
          ],
          [
           "FL1:16 FL2:16 DR:0.8 BS:64 LR:0.0001",
           "[157, 199]"
          ],
          [
           "FL1:16 FL2:16 DR:0.8 BS:64 LR:0.0001",
           "[157, 199]"
          ],
          [
           "FL1:16 FL2:16 DR:0.8 BS:64 LR:0.0001",
           "[157, 199]"
          ],
          [
           "FL1:16 FL2:16 DR:0.8 BS:64 LR:0.0001",
           "[157, 199]"
          ],
          [
           "FL1:16 FL2:16 DR:0.8 BS:64 LR:0.0001",
           "[157, 199]"
          ],
          [
           "FL1:16 FL2:16 DR:0.8 BS:64 LR:0.0001",
           "[157, 199]"
          ],
          [
           "FL1:16 FL2:16 DR:0.8 BS:64 LR:0.0001",
           "[157, 199]"
          ],
          [
           "FL1:16 FL2:16 DR:0.8 BS:64 LR:0.0001",
           "[157, 199]"
          ]
         ],
         "hovertemplate": "variable=train_loss<br>trial_id=802fd_00036<br>epoch=%{x}<br>value=%{y}<br>Hyperparameters=%{customdata[0]}<br>checkpoints=%{customdata[1]}<extra></extra>",
         "legendgroup": "train_loss, 802fd_00036",
         "line": {
          "color": "#EF553B",
          "dash": "dot"
         },
         "marker": {
          "symbol": "circle"
         },
         "mode": "lines",
         "name": "train_loss, 802fd_00036",
         "showlegend": true,
         "type": "scattergl",
         "x": [
          0,
          1,
          2,
          3,
          4,
          5,
          6,
          7,
          8,
          9,
          10,
          11,
          12,
          13,
          14,
          15,
          16,
          17,
          18,
          19,
          20,
          21,
          22,
          23,
          24,
          25,
          26,
          27,
          28,
          29,
          30,
          31,
          32,
          33,
          34,
          35,
          36,
          37,
          38,
          39,
          40,
          41,
          42,
          43,
          44,
          45,
          46,
          47,
          48,
          49,
          50,
          51,
          52,
          53,
          54,
          55,
          56,
          57,
          58,
          59,
          60,
          61,
          62,
          63,
          64,
          65,
          66,
          67,
          68,
          69,
          70,
          71,
          72,
          73,
          74,
          75,
          76,
          77,
          78,
          79,
          80,
          81,
          82,
          83,
          84,
          85,
          86,
          87,
          88,
          89,
          90,
          91,
          92,
          93,
          94,
          95,
          96,
          97,
          98,
          99,
          100,
          101,
          102,
          103,
          104,
          105,
          106,
          107,
          108,
          109,
          110,
          111,
          112,
          113,
          114,
          115,
          116,
          117,
          118,
          119,
          120,
          121,
          122,
          123,
          124,
          125,
          126,
          127,
          128,
          129,
          130,
          131,
          132,
          133,
          134,
          135,
          136,
          137,
          138,
          139,
          140,
          141,
          142,
          143,
          144,
          145,
          146,
          147,
          148,
          149,
          150,
          151,
          152,
          153,
          154,
          155,
          156,
          157,
          158,
          159,
          160,
          161,
          162,
          163,
          164,
          165,
          166,
          167,
          168,
          169,
          170,
          171,
          172,
          173,
          174,
          175,
          176,
          177,
          178,
          179,
          180,
          181,
          182,
          183,
          184,
          185,
          186,
          187,
          188,
          189,
          190,
          191,
          192,
          193,
          194,
          195,
          196,
          197,
          198,
          199
         ],
         "xaxis": "x",
         "y": [
          0.7146906852722151,
          0.6984640955924961,
          0.6915214260419176,
          0.6970969173643284,
          0.6978499911449529,
          0.6915717934384714,
          0.6854102952490082,
          0.6858090588258243,
          0.6776510562371223,
          0.6868117508537892,
          0.6906545597478612,
          0.6859108698477241,
          0.6831161507043486,
          0.6919105535131838,
          0.691854707756448,
          0.6882246880788311,
          0.6707121033839836,
          0.6614507966155762,
          0.6608355596936366,
          0.6679180036171674,
          0.6587387369860792,
          0.6448423893444777,
          0.6405502777094987,
          0.6322317865686499,
          0.6077401536833487,
          0.6342230173038917,
          0.6306475819539663,
          0.6345495860703532,
          0.6184574750349073,
          0.6059157906164809,
          0.6059687970870113,
          0.6171652236775129,
          0.61618692737126,
          0.6200591992093684,
          0.5937305735716252,
          0.5995426010535166,
          0.6043666290869966,
          0.6011548034105455,
          0.6338857804241267,
          0.6287152233721459,
          0.5954049271346216,
          0.5622841842969963,
          0.5882349099053732,
          0.5836844302107077,
          0.5789544884952679,
          0.5841420494578119,
          0.5617863670363571,
          0.5637832174946551,
          0.5321562217506877,
          0.5350418241045934,
          0.5444663068468067,
          0.5418852104620587,
          0.55027722212185,
          0.5300483729608149,
          0.5431017098272689,
          0.5564593949215165,
          0.5425234422615192,
          0.5381931056930622,
          0.5494041833847085,
          0.5297299586116806,
          0.5181976432521819,
          0.4709026830010722,
          0.5008432081416639,
          0.521279302641774,
          0.5138019703527446,
          0.5282560641699455,
          0.5408763524647158,
          0.5764335550702662,
          0.5801357930128462,
          0.606081446357877,
          0.5480582352136966,
          0.5423482415182973,
          0.5401279964118246,
          0.5508632287759929,
          0.5396709988765803,
          0.535665409449264,
          0.5314919860386337,
          0.546686405024493,
          0.5019168417199207,
          0.4941573547352509,
          0.5114085745168484,
          0.5246477770376694,
          0.5185912282975829,
          0.5284887771945725,
          0.5035816180137472,
          0.48087285276437214,
          0.490647245222888,
          0.5025199378692837,
          0.5286080059186425,
          0.5794505156924846,
          0.5519926433994045,
          0.5580919706313907,
          0.5544413343726978,
          0.546114704056539,
          0.5454366545173565,
          0.5630800353350254,
          0.5434857955814728,
          0.5623010033528876,
          0.5505301710076367,
          0.5573073662722916,
          0.5312060142493773,
          0.5086348669354459,
          0.5334091992261886,
          0.5127013962191252,
          0.4854032026874948,
          0.514016742649867,
          0.5145463315269629,
          0.5234576243573599,
          0.4952374549981063,
          0.4970970850703509,
          0.4985103873092184,
          0.5124447920374228,
          0.5210438753798361,
          0.5255116678366885,
          0.4874213938640098,
          0.5272904438923808,
          0.5326745181051222,
          0.5087229886828073,
          0.5111511335888299,
          0.5076723089561711,
          0.5112461640269115,
          0.47698909334543943,
          0.450868846921149,
          0.466526201664091,
          0.4702235998701249,
          0.4514064353036337,
          0.46438074186957123,
          0.477044165634553,
          0.46965698434474656,
          0.48632896631004013,
          0.47862499415239645,
          0.4616939091640102,
          0.45637584487314825,
          0.4622020871090599,
          0.5024019579521608,
          0.49904737541621086,
          0.5155105237798224,
          0.4889212412725763,
          0.50179939555399,
          0.5107205847056189,
          0.5271147515476716,
          0.524420362452729,
          0.5141074536509393,
          0.4962173421029953,
          0.4752431126995016,
          0.44102631426937816,
          0.45240081295097717,
          0.44908669223205705,
          0.47077089302947966,
          0.47914838627451434,
          0.4831084796817673,
          0.48789027591755363,
          0.5022996681280281,
          0.4802550188268111,
          0.4677497520423512,
          0.46186450616363445,
          0.487085286086424,
          0.4863566281435371,
          0.47436957372807553,
          0.4638053298896084,
          0.463298557261991,
          0.4912419107624991,
          0.45781629860858714,
          0.46005406697896084,
          0.45968430055715503,
          0.5216365576686968,
          0.5340461016298989,
          0.5002104858955837,
          0.4743465728495572,
          0.46953331079311095,
          0.4623148749022136,
          0.44982597296426263,
          0.45910544239805406,
          0.49694842791110977,
          0.49477310442626826,
          0.4965179659505697,
          0.4799943730288078,
          0.4884148746764205,
          0.5123516658965429,
          0.5215715196413239,
          0.4856655217993542,
          0.4894052192759691,
          0.5004594157266722,
          0.5006112542502144,
          0.4834885356659388,
          0.46445955222412477,
          0.45625783923973223,
          0.4851997224735511,
          0.4724987565310317,
          0.48294256917844214,
          0.44373263115492045,
          0.4531968017075221,
          0.44961530497694974,
          0.46575088653978225,
          0.4862126996385808,
          0.4572580549629358,
          0.435520665083449,
          0.44053726476703703,
          0.42493820576054836,
          0.44418173292069174
         ],
         "yaxis": "y"
        },
        {
         "customdata": [
          [
           "FL1:256 FL2:256 DR:0.3 BS:64 LR:0.005",
           "[156, 199]"
          ],
          [
           "FL1:256 FL2:256 DR:0.3 BS:64 LR:0.005",
           "[156, 199]"
          ],
          [
           "FL1:256 FL2:256 DR:0.3 BS:64 LR:0.005",
           "[156, 199]"
          ],
          [
           "FL1:256 FL2:256 DR:0.3 BS:64 LR:0.005",
           "[156, 199]"
          ],
          [
           "FL1:256 FL2:256 DR:0.3 BS:64 LR:0.005",
           "[156, 199]"
          ],
          [
           "FL1:256 FL2:256 DR:0.3 BS:64 LR:0.005",
           "[156, 199]"
          ],
          [
           "FL1:256 FL2:256 DR:0.3 BS:64 LR:0.005",
           "[156, 199]"
          ],
          [
           "FL1:256 FL2:256 DR:0.3 BS:64 LR:0.005",
           "[156, 199]"
          ],
          [
           "FL1:256 FL2:256 DR:0.3 BS:64 LR:0.005",
           "[156, 199]"
          ],
          [
           "FL1:256 FL2:256 DR:0.3 BS:64 LR:0.005",
           "[156, 199]"
          ],
          [
           "FL1:256 FL2:256 DR:0.3 BS:64 LR:0.005",
           "[156, 199]"
          ],
          [
           "FL1:256 FL2:256 DR:0.3 BS:64 LR:0.005",
           "[156, 199]"
          ],
          [
           "FL1:256 FL2:256 DR:0.3 BS:64 LR:0.005",
           "[156, 199]"
          ],
          [
           "FL1:256 FL2:256 DR:0.3 BS:64 LR:0.005",
           "[156, 199]"
          ],
          [
           "FL1:256 FL2:256 DR:0.3 BS:64 LR:0.005",
           "[156, 199]"
          ],
          [
           "FL1:256 FL2:256 DR:0.3 BS:64 LR:0.005",
           "[156, 199]"
          ],
          [
           "FL1:256 FL2:256 DR:0.3 BS:64 LR:0.005",
           "[156, 199]"
          ],
          [
           "FL1:256 FL2:256 DR:0.3 BS:64 LR:0.005",
           "[156, 199]"
          ],
          [
           "FL1:256 FL2:256 DR:0.3 BS:64 LR:0.005",
           "[156, 199]"
          ],
          [
           "FL1:256 FL2:256 DR:0.3 BS:64 LR:0.005",
           "[156, 199]"
          ],
          [
           "FL1:256 FL2:256 DR:0.3 BS:64 LR:0.005",
           "[156, 199]"
          ],
          [
           "FL1:256 FL2:256 DR:0.3 BS:64 LR:0.005",
           "[156, 199]"
          ],
          [
           "FL1:256 FL2:256 DR:0.3 BS:64 LR:0.005",
           "[156, 199]"
          ],
          [
           "FL1:256 FL2:256 DR:0.3 BS:64 LR:0.005",
           "[156, 199]"
          ],
          [
           "FL1:256 FL2:256 DR:0.3 BS:64 LR:0.005",
           "[156, 199]"
          ],
          [
           "FL1:256 FL2:256 DR:0.3 BS:64 LR:0.005",
           "[156, 199]"
          ],
          [
           "FL1:256 FL2:256 DR:0.3 BS:64 LR:0.005",
           "[156, 199]"
          ],
          [
           "FL1:256 FL2:256 DR:0.3 BS:64 LR:0.005",
           "[156, 199]"
          ],
          [
           "FL1:256 FL2:256 DR:0.3 BS:64 LR:0.005",
           "[156, 199]"
          ],
          [
           "FL1:256 FL2:256 DR:0.3 BS:64 LR:0.005",
           "[156, 199]"
          ],
          [
           "FL1:256 FL2:256 DR:0.3 BS:64 LR:0.005",
           "[156, 199]"
          ],
          [
           "FL1:256 FL2:256 DR:0.3 BS:64 LR:0.005",
           "[156, 199]"
          ],
          [
           "FL1:256 FL2:256 DR:0.3 BS:64 LR:0.005",
           "[156, 199]"
          ],
          [
           "FL1:256 FL2:256 DR:0.3 BS:64 LR:0.005",
           "[156, 199]"
          ],
          [
           "FL1:256 FL2:256 DR:0.3 BS:64 LR:0.005",
           "[156, 199]"
          ],
          [
           "FL1:256 FL2:256 DR:0.3 BS:64 LR:0.005",
           "[156, 199]"
          ],
          [
           "FL1:256 FL2:256 DR:0.3 BS:64 LR:0.005",
           "[156, 199]"
          ],
          [
           "FL1:256 FL2:256 DR:0.3 BS:64 LR:0.005",
           "[156, 199]"
          ],
          [
           "FL1:256 FL2:256 DR:0.3 BS:64 LR:0.005",
           "[156, 199]"
          ],
          [
           "FL1:256 FL2:256 DR:0.3 BS:64 LR:0.005",
           "[156, 199]"
          ],
          [
           "FL1:256 FL2:256 DR:0.3 BS:64 LR:0.005",
           "[156, 199]"
          ],
          [
           "FL1:256 FL2:256 DR:0.3 BS:64 LR:0.005",
           "[156, 199]"
          ],
          [
           "FL1:256 FL2:256 DR:0.3 BS:64 LR:0.005",
           "[156, 199]"
          ],
          [
           "FL1:256 FL2:256 DR:0.3 BS:64 LR:0.005",
           "[156, 199]"
          ],
          [
           "FL1:256 FL2:256 DR:0.3 BS:64 LR:0.005",
           "[156, 199]"
          ],
          [
           "FL1:256 FL2:256 DR:0.3 BS:64 LR:0.005",
           "[156, 199]"
          ],
          [
           "FL1:256 FL2:256 DR:0.3 BS:64 LR:0.005",
           "[156, 199]"
          ],
          [
           "FL1:256 FL2:256 DR:0.3 BS:64 LR:0.005",
           "[156, 199]"
          ],
          [
           "FL1:256 FL2:256 DR:0.3 BS:64 LR:0.005",
           "[156, 199]"
          ],
          [
           "FL1:256 FL2:256 DR:0.3 BS:64 LR:0.005",
           "[156, 199]"
          ],
          [
           "FL1:256 FL2:256 DR:0.3 BS:64 LR:0.005",
           "[156, 199]"
          ],
          [
           "FL1:256 FL2:256 DR:0.3 BS:64 LR:0.005",
           "[156, 199]"
          ],
          [
           "FL1:256 FL2:256 DR:0.3 BS:64 LR:0.005",
           "[156, 199]"
          ],
          [
           "FL1:256 FL2:256 DR:0.3 BS:64 LR:0.005",
           "[156, 199]"
          ],
          [
           "FL1:256 FL2:256 DR:0.3 BS:64 LR:0.005",
           "[156, 199]"
          ],
          [
           "FL1:256 FL2:256 DR:0.3 BS:64 LR:0.005",
           "[156, 199]"
          ],
          [
           "FL1:256 FL2:256 DR:0.3 BS:64 LR:0.005",
           "[156, 199]"
          ],
          [
           "FL1:256 FL2:256 DR:0.3 BS:64 LR:0.005",
           "[156, 199]"
          ],
          [
           "FL1:256 FL2:256 DR:0.3 BS:64 LR:0.005",
           "[156, 199]"
          ],
          [
           "FL1:256 FL2:256 DR:0.3 BS:64 LR:0.005",
           "[156, 199]"
          ],
          [
           "FL1:256 FL2:256 DR:0.3 BS:64 LR:0.005",
           "[156, 199]"
          ],
          [
           "FL1:256 FL2:256 DR:0.3 BS:64 LR:0.005",
           "[156, 199]"
          ],
          [
           "FL1:256 FL2:256 DR:0.3 BS:64 LR:0.005",
           "[156, 199]"
          ],
          [
           "FL1:256 FL2:256 DR:0.3 BS:64 LR:0.005",
           "[156, 199]"
          ],
          [
           "FL1:256 FL2:256 DR:0.3 BS:64 LR:0.005",
           "[156, 199]"
          ],
          [
           "FL1:256 FL2:256 DR:0.3 BS:64 LR:0.005",
           "[156, 199]"
          ],
          [
           "FL1:256 FL2:256 DR:0.3 BS:64 LR:0.005",
           "[156, 199]"
          ],
          [
           "FL1:256 FL2:256 DR:0.3 BS:64 LR:0.005",
           "[156, 199]"
          ],
          [
           "FL1:256 FL2:256 DR:0.3 BS:64 LR:0.005",
           "[156, 199]"
          ],
          [
           "FL1:256 FL2:256 DR:0.3 BS:64 LR:0.005",
           "[156, 199]"
          ],
          [
           "FL1:256 FL2:256 DR:0.3 BS:64 LR:0.005",
           "[156, 199]"
          ],
          [
           "FL1:256 FL2:256 DR:0.3 BS:64 LR:0.005",
           "[156, 199]"
          ],
          [
           "FL1:256 FL2:256 DR:0.3 BS:64 LR:0.005",
           "[156, 199]"
          ],
          [
           "FL1:256 FL2:256 DR:0.3 BS:64 LR:0.005",
           "[156, 199]"
          ],
          [
           "FL1:256 FL2:256 DR:0.3 BS:64 LR:0.005",
           "[156, 199]"
          ],
          [
           "FL1:256 FL2:256 DR:0.3 BS:64 LR:0.005",
           "[156, 199]"
          ],
          [
           "FL1:256 FL2:256 DR:0.3 BS:64 LR:0.005",
           "[156, 199]"
          ],
          [
           "FL1:256 FL2:256 DR:0.3 BS:64 LR:0.005",
           "[156, 199]"
          ],
          [
           "FL1:256 FL2:256 DR:0.3 BS:64 LR:0.005",
           "[156, 199]"
          ],
          [
           "FL1:256 FL2:256 DR:0.3 BS:64 LR:0.005",
           "[156, 199]"
          ],
          [
           "FL1:256 FL2:256 DR:0.3 BS:64 LR:0.005",
           "[156, 199]"
          ],
          [
           "FL1:256 FL2:256 DR:0.3 BS:64 LR:0.005",
           "[156, 199]"
          ],
          [
           "FL1:256 FL2:256 DR:0.3 BS:64 LR:0.005",
           "[156, 199]"
          ],
          [
           "FL1:256 FL2:256 DR:0.3 BS:64 LR:0.005",
           "[156, 199]"
          ],
          [
           "FL1:256 FL2:256 DR:0.3 BS:64 LR:0.005",
           "[156, 199]"
          ],
          [
           "FL1:256 FL2:256 DR:0.3 BS:64 LR:0.005",
           "[156, 199]"
          ],
          [
           "FL1:256 FL2:256 DR:0.3 BS:64 LR:0.005",
           "[156, 199]"
          ],
          [
           "FL1:256 FL2:256 DR:0.3 BS:64 LR:0.005",
           "[156, 199]"
          ],
          [
           "FL1:256 FL2:256 DR:0.3 BS:64 LR:0.005",
           "[156, 199]"
          ],
          [
           "FL1:256 FL2:256 DR:0.3 BS:64 LR:0.005",
           "[156, 199]"
          ],
          [
           "FL1:256 FL2:256 DR:0.3 BS:64 LR:0.005",
           "[156, 199]"
          ],
          [
           "FL1:256 FL2:256 DR:0.3 BS:64 LR:0.005",
           "[156, 199]"
          ],
          [
           "FL1:256 FL2:256 DR:0.3 BS:64 LR:0.005",
           "[156, 199]"
          ],
          [
           "FL1:256 FL2:256 DR:0.3 BS:64 LR:0.005",
           "[156, 199]"
          ],
          [
           "FL1:256 FL2:256 DR:0.3 BS:64 LR:0.005",
           "[156, 199]"
          ],
          [
           "FL1:256 FL2:256 DR:0.3 BS:64 LR:0.005",
           "[156, 199]"
          ],
          [
           "FL1:256 FL2:256 DR:0.3 BS:64 LR:0.005",
           "[156, 199]"
          ],
          [
           "FL1:256 FL2:256 DR:0.3 BS:64 LR:0.005",
           "[156, 199]"
          ],
          [
           "FL1:256 FL2:256 DR:0.3 BS:64 LR:0.005",
           "[156, 199]"
          ],
          [
           "FL1:256 FL2:256 DR:0.3 BS:64 LR:0.005",
           "[156, 199]"
          ],
          [
           "FL1:256 FL2:256 DR:0.3 BS:64 LR:0.005",
           "[156, 199]"
          ],
          [
           "FL1:256 FL2:256 DR:0.3 BS:64 LR:0.005",
           "[156, 199]"
          ],
          [
           "FL1:256 FL2:256 DR:0.3 BS:64 LR:0.005",
           "[156, 199]"
          ],
          [
           "FL1:256 FL2:256 DR:0.3 BS:64 LR:0.005",
           "[156, 199]"
          ],
          [
           "FL1:256 FL2:256 DR:0.3 BS:64 LR:0.005",
           "[156, 199]"
          ],
          [
           "FL1:256 FL2:256 DR:0.3 BS:64 LR:0.005",
           "[156, 199]"
          ],
          [
           "FL1:256 FL2:256 DR:0.3 BS:64 LR:0.005",
           "[156, 199]"
          ],
          [
           "FL1:256 FL2:256 DR:0.3 BS:64 LR:0.005",
           "[156, 199]"
          ],
          [
           "FL1:256 FL2:256 DR:0.3 BS:64 LR:0.005",
           "[156, 199]"
          ],
          [
           "FL1:256 FL2:256 DR:0.3 BS:64 LR:0.005",
           "[156, 199]"
          ],
          [
           "FL1:256 FL2:256 DR:0.3 BS:64 LR:0.005",
           "[156, 199]"
          ],
          [
           "FL1:256 FL2:256 DR:0.3 BS:64 LR:0.005",
           "[156, 199]"
          ],
          [
           "FL1:256 FL2:256 DR:0.3 BS:64 LR:0.005",
           "[156, 199]"
          ],
          [
           "FL1:256 FL2:256 DR:0.3 BS:64 LR:0.005",
           "[156, 199]"
          ],
          [
           "FL1:256 FL2:256 DR:0.3 BS:64 LR:0.005",
           "[156, 199]"
          ],
          [
           "FL1:256 FL2:256 DR:0.3 BS:64 LR:0.005",
           "[156, 199]"
          ],
          [
           "FL1:256 FL2:256 DR:0.3 BS:64 LR:0.005",
           "[156, 199]"
          ],
          [
           "FL1:256 FL2:256 DR:0.3 BS:64 LR:0.005",
           "[156, 199]"
          ],
          [
           "FL1:256 FL2:256 DR:0.3 BS:64 LR:0.005",
           "[156, 199]"
          ],
          [
           "FL1:256 FL2:256 DR:0.3 BS:64 LR:0.005",
           "[156, 199]"
          ],
          [
           "FL1:256 FL2:256 DR:0.3 BS:64 LR:0.005",
           "[156, 199]"
          ],
          [
           "FL1:256 FL2:256 DR:0.3 BS:64 LR:0.005",
           "[156, 199]"
          ],
          [
           "FL1:256 FL2:256 DR:0.3 BS:64 LR:0.005",
           "[156, 199]"
          ],
          [
           "FL1:256 FL2:256 DR:0.3 BS:64 LR:0.005",
           "[156, 199]"
          ],
          [
           "FL1:256 FL2:256 DR:0.3 BS:64 LR:0.005",
           "[156, 199]"
          ],
          [
           "FL1:256 FL2:256 DR:0.3 BS:64 LR:0.005",
           "[156, 199]"
          ],
          [
           "FL1:256 FL2:256 DR:0.3 BS:64 LR:0.005",
           "[156, 199]"
          ],
          [
           "FL1:256 FL2:256 DR:0.3 BS:64 LR:0.005",
           "[156, 199]"
          ],
          [
           "FL1:256 FL2:256 DR:0.3 BS:64 LR:0.005",
           "[156, 199]"
          ],
          [
           "FL1:256 FL2:256 DR:0.3 BS:64 LR:0.005",
           "[156, 199]"
          ],
          [
           "FL1:256 FL2:256 DR:0.3 BS:64 LR:0.005",
           "[156, 199]"
          ],
          [
           "FL1:256 FL2:256 DR:0.3 BS:64 LR:0.005",
           "[156, 199]"
          ],
          [
           "FL1:256 FL2:256 DR:0.3 BS:64 LR:0.005",
           "[156, 199]"
          ],
          [
           "FL1:256 FL2:256 DR:0.3 BS:64 LR:0.005",
           "[156, 199]"
          ],
          [
           "FL1:256 FL2:256 DR:0.3 BS:64 LR:0.005",
           "[156, 199]"
          ],
          [
           "FL1:256 FL2:256 DR:0.3 BS:64 LR:0.005",
           "[156, 199]"
          ],
          [
           "FL1:256 FL2:256 DR:0.3 BS:64 LR:0.005",
           "[156, 199]"
          ],
          [
           "FL1:256 FL2:256 DR:0.3 BS:64 LR:0.005",
           "[156, 199]"
          ],
          [
           "FL1:256 FL2:256 DR:0.3 BS:64 LR:0.005",
           "[156, 199]"
          ],
          [
           "FL1:256 FL2:256 DR:0.3 BS:64 LR:0.005",
           "[156, 199]"
          ],
          [
           "FL1:256 FL2:256 DR:0.3 BS:64 LR:0.005",
           "[156, 199]"
          ],
          [
           "FL1:256 FL2:256 DR:0.3 BS:64 LR:0.005",
           "[156, 199]"
          ],
          [
           "FL1:256 FL2:256 DR:0.3 BS:64 LR:0.005",
           "[156, 199]"
          ],
          [
           "FL1:256 FL2:256 DR:0.3 BS:64 LR:0.005",
           "[156, 199]"
          ],
          [
           "FL1:256 FL2:256 DR:0.3 BS:64 LR:0.005",
           "[156, 199]"
          ],
          [
           "FL1:256 FL2:256 DR:0.3 BS:64 LR:0.005",
           "[156, 199]"
          ],
          [
           "FL1:256 FL2:256 DR:0.3 BS:64 LR:0.005",
           "[156, 199]"
          ],
          [
           "FL1:256 FL2:256 DR:0.3 BS:64 LR:0.005",
           "[156, 199]"
          ],
          [
           "FL1:256 FL2:256 DR:0.3 BS:64 LR:0.005",
           "[156, 199]"
          ],
          [
           "FL1:256 FL2:256 DR:0.3 BS:64 LR:0.005",
           "[156, 199]"
          ],
          [
           "FL1:256 FL2:256 DR:0.3 BS:64 LR:0.005",
           "[156, 199]"
          ],
          [
           "FL1:256 FL2:256 DR:0.3 BS:64 LR:0.005",
           "[156, 199]"
          ],
          [
           "FL1:256 FL2:256 DR:0.3 BS:64 LR:0.005",
           "[156, 199]"
          ],
          [
           "FL1:256 FL2:256 DR:0.3 BS:64 LR:0.005",
           "[156, 199]"
          ],
          [
           "FL1:256 FL2:256 DR:0.3 BS:64 LR:0.005",
           "[156, 199]"
          ],
          [
           "FL1:256 FL2:256 DR:0.3 BS:64 LR:0.005",
           "[156, 199]"
          ],
          [
           "FL1:256 FL2:256 DR:0.3 BS:64 LR:0.005",
           "[156, 199]"
          ],
          [
           "FL1:256 FL2:256 DR:0.3 BS:64 LR:0.005",
           "[156, 199]"
          ],
          [
           "FL1:256 FL2:256 DR:0.3 BS:64 LR:0.005",
           "[156, 199]"
          ],
          [
           "FL1:256 FL2:256 DR:0.3 BS:64 LR:0.005",
           "[156, 199]"
          ],
          [
           "FL1:256 FL2:256 DR:0.3 BS:64 LR:0.005",
           "[156, 199]"
          ],
          [
           "FL1:256 FL2:256 DR:0.3 BS:64 LR:0.005",
           "[156, 199]"
          ],
          [
           "FL1:256 FL2:256 DR:0.3 BS:64 LR:0.005",
           "[156, 199]"
          ],
          [
           "FL1:256 FL2:256 DR:0.3 BS:64 LR:0.005",
           "[156, 199]"
          ],
          [
           "FL1:256 FL2:256 DR:0.3 BS:64 LR:0.005",
           "[156, 199]"
          ],
          [
           "FL1:256 FL2:256 DR:0.3 BS:64 LR:0.005",
           "[156, 199]"
          ],
          [
           "FL1:256 FL2:256 DR:0.3 BS:64 LR:0.005",
           "[156, 199]"
          ],
          [
           "FL1:256 FL2:256 DR:0.3 BS:64 LR:0.005",
           "[156, 199]"
          ],
          [
           "FL1:256 FL2:256 DR:0.3 BS:64 LR:0.005",
           "[156, 199]"
          ],
          [
           "FL1:256 FL2:256 DR:0.3 BS:64 LR:0.005",
           "[156, 199]"
          ],
          [
           "FL1:256 FL2:256 DR:0.3 BS:64 LR:0.005",
           "[156, 199]"
          ],
          [
           "FL1:256 FL2:256 DR:0.3 BS:64 LR:0.005",
           "[156, 199]"
          ],
          [
           "FL1:256 FL2:256 DR:0.3 BS:64 LR:0.005",
           "[156, 199]"
          ],
          [
           "FL1:256 FL2:256 DR:0.3 BS:64 LR:0.005",
           "[156, 199]"
          ],
          [
           "FL1:256 FL2:256 DR:0.3 BS:64 LR:0.005",
           "[156, 199]"
          ],
          [
           "FL1:256 FL2:256 DR:0.3 BS:64 LR:0.005",
           "[156, 199]"
          ],
          [
           "FL1:256 FL2:256 DR:0.3 BS:64 LR:0.005",
           "[156, 199]"
          ],
          [
           "FL1:256 FL2:256 DR:0.3 BS:64 LR:0.005",
           "[156, 199]"
          ],
          [
           "FL1:256 FL2:256 DR:0.3 BS:64 LR:0.005",
           "[156, 199]"
          ],
          [
           "FL1:256 FL2:256 DR:0.3 BS:64 LR:0.005",
           "[156, 199]"
          ],
          [
           "FL1:256 FL2:256 DR:0.3 BS:64 LR:0.005",
           "[156, 199]"
          ],
          [
           "FL1:256 FL2:256 DR:0.3 BS:64 LR:0.005",
           "[156, 199]"
          ],
          [
           "FL1:256 FL2:256 DR:0.3 BS:64 LR:0.005",
           "[156, 199]"
          ],
          [
           "FL1:256 FL2:256 DR:0.3 BS:64 LR:0.005",
           "[156, 199]"
          ],
          [
           "FL1:256 FL2:256 DR:0.3 BS:64 LR:0.005",
           "[156, 199]"
          ],
          [
           "FL1:256 FL2:256 DR:0.3 BS:64 LR:0.005",
           "[156, 199]"
          ],
          [
           "FL1:256 FL2:256 DR:0.3 BS:64 LR:0.005",
           "[156, 199]"
          ],
          [
           "FL1:256 FL2:256 DR:0.3 BS:64 LR:0.005",
           "[156, 199]"
          ],
          [
           "FL1:256 FL2:256 DR:0.3 BS:64 LR:0.005",
           "[156, 199]"
          ],
          [
           "FL1:256 FL2:256 DR:0.3 BS:64 LR:0.005",
           "[156, 199]"
          ],
          [
           "FL1:256 FL2:256 DR:0.3 BS:64 LR:0.005",
           "[156, 199]"
          ],
          [
           "FL1:256 FL2:256 DR:0.3 BS:64 LR:0.005",
           "[156, 199]"
          ],
          [
           "FL1:256 FL2:256 DR:0.3 BS:64 LR:0.005",
           "[156, 199]"
          ],
          [
           "FL1:256 FL2:256 DR:0.3 BS:64 LR:0.005",
           "[156, 199]"
          ],
          [
           "FL1:256 FL2:256 DR:0.3 BS:64 LR:0.005",
           "[156, 199]"
          ],
          [
           "FL1:256 FL2:256 DR:0.3 BS:64 LR:0.005",
           "[156, 199]"
          ],
          [
           "FL1:256 FL2:256 DR:0.3 BS:64 LR:0.005",
           "[156, 199]"
          ],
          [
           "FL1:256 FL2:256 DR:0.3 BS:64 LR:0.005",
           "[156, 199]"
          ],
          [
           "FL1:256 FL2:256 DR:0.3 BS:64 LR:0.005",
           "[156, 199]"
          ],
          [
           "FL1:256 FL2:256 DR:0.3 BS:64 LR:0.005",
           "[156, 199]"
          ]
         ],
         "hovertemplate": "variable=train_loss<br>trial_id=802fd_00156<br>epoch=%{x}<br>value=%{y}<br>Hyperparameters=%{customdata[0]}<br>checkpoints=%{customdata[1]}<extra></extra>",
         "legendgroup": "train_loss, 802fd_00156",
         "line": {
          "color": "#EF553B",
          "dash": "dash"
         },
         "marker": {
          "symbol": "circle"
         },
         "mode": "lines",
         "name": "train_loss, 802fd_00156",
         "showlegend": true,
         "type": "scattergl",
         "x": [
          0,
          1,
          2,
          3,
          4,
          5,
          6,
          7,
          8,
          9,
          10,
          11,
          12,
          13,
          14,
          15,
          16,
          17,
          18,
          19,
          20,
          21,
          22,
          23,
          24,
          25,
          26,
          27,
          28,
          29,
          30,
          31,
          32,
          33,
          34,
          35,
          36,
          37,
          38,
          39,
          40,
          41,
          42,
          43,
          44,
          45,
          46,
          47,
          48,
          49,
          50,
          51,
          52,
          53,
          54,
          55,
          56,
          57,
          58,
          59,
          60,
          61,
          62,
          63,
          64,
          65,
          66,
          67,
          68,
          69,
          70,
          71,
          72,
          73,
          74,
          75,
          76,
          77,
          78,
          79,
          80,
          81,
          82,
          83,
          84,
          85,
          86,
          87,
          88,
          89,
          90,
          91,
          92,
          93,
          94,
          95,
          96,
          97,
          98,
          99,
          100,
          101,
          102,
          103,
          104,
          105,
          106,
          107,
          108,
          109,
          110,
          111,
          112,
          113,
          114,
          115,
          116,
          117,
          118,
          119,
          120,
          121,
          122,
          123,
          124,
          125,
          126,
          127,
          128,
          129,
          130,
          131,
          132,
          133,
          134,
          135,
          136,
          137,
          138,
          139,
          140,
          141,
          142,
          143,
          144,
          145,
          146,
          147,
          148,
          149,
          150,
          151,
          152,
          153,
          154,
          155,
          156,
          157,
          158,
          159,
          160,
          161,
          162,
          163,
          164,
          165,
          166,
          167,
          168,
          169,
          170,
          171,
          172,
          173,
          174,
          175,
          176,
          177,
          178,
          179,
          180,
          181,
          182,
          183,
          184,
          185,
          186,
          187,
          188,
          189,
          190,
          191,
          192,
          193,
          194,
          195,
          196,
          197,
          198,
          199
         ],
         "xaxis": "x",
         "y": [
          0.14619471132755243,
          0.1664277464151375,
          0.1917337179183949,
          0.18603004018465563,
          0.15193613784180648,
          0.17054694007944066,
          0.18036076334523438,
          0.16785738804212694,
          0.20470683401340495,
          0.2286158311732223,
          0.2046295724555919,
          0.25836990424295636,
          0.23693547413283128,
          0.19931087653195523,
          0.230461562741833,
          0.2099171595898181,
          0.20270653679151684,
          0.23923354754301732,
          0.1866753062238481,
          0.18193004764650794,
          0.19054243291440576,
          0.17231904185495722,
          0.16946335280393157,
          0.14256797826591175,
          0.13221081658405062,
          0.18025353262293267,
          0.17685694303425067,
          0.15032871849875898,
          0.12428125267254791,
          0.10801630649319922,
          0.16199001294607282,
          0.15684345611091655,
          0.13049058532155997,
          0.110654929713656,
          0.08953365687611985,
          0.08783966305575938,
          0.12096280358050997,
          0.16384075417660765,
          0.14624271928961446,
          0.1371827151357818,
          0.1435131050467281,
          0.1284799396872378,
          0.11637027113834045,
          0.12480303346580249,
          0.1270219713414108,
          0.13191446363690096,
          0.11680015226047945,
          0.11784037732310867,
          0.09792170033340822,
          0.11967787713133697,
          0.13717278719162504,
          0.1188904337102541,
          0.13259044733407516,
          0.1310051609858034,
          0.14582046898101114,
          0.1408645065750963,
          0.12286917382652779,
          0.10598590896643001,
          0.08173528761411233,
          0.08676231702661835,
          0.1532721572484984,
          0.13833101943906218,
          0.15672787597295973,
          0.1963920465477124,
          0.14787371846489197,
          0.1290770000381738,
          0.16886444231956937,
          0.16555160675505584,
          0.14896066996163623,
          0.1679752552688547,
          0.1405224905530893,
          0.11198452196984035,
          0.09283736526945247,
          0.12489485859856966,
          0.11598642746598142,
          0.1591951090759074,
          0.1962926280939596,
          0.14570444606701632,
          0.11036831990189082,
          0.13992017080589567,
          0.11149752972989885,
          0.12093617080628577,
          0.1284136974743979,
          0.10553729394621149,
          0.1054686844981144,
          0.07876202691836023,
          0.09037272038885501,
          0.10893150271858434,
          0.1118820175653406,
          0.11715414226887647,
          0.09902779410837757,
          0.11891801920571994,
          0.1175840266349516,
          0.11838840893921569,
          0.12995435431279911,
          0.11752167184934442,
          0.13048459980080765,
          0.12026040268070304,
          0.09065529215419817,
          0.07149056019441627,
          0.11173574905962595,
          0.1221052873887671,
          0.11792572960310832,
          0.10105317086016886,
          0.07937647899015574,
          0.10065938863505108,
          0.08040454956126987,
          0.07797701886781554,
          0.09185663267300163,
          0.08950578440775872,
          0.08809552851352671,
          0.11161349556865639,
          0.11059364820203718,
          0.0957450404410992,
          0.10093410956498183,
          0.10349894743916827,
          0.08123708553948286,
          0.05877828405773162,
          0.08820084105912489,
          0.07367651658577139,
          0.09731693895209075,
          0.08018969839843262,
          0.06600263157508196,
          0.07763155178243177,
          0.09044174105600657,
          0.0867579256539617,
          0.0879217369718731,
          0.08592405308374942,
          0.08636286698506375,
          0.0681081006442579,
          0.07383946094347829,
          0.062254704210054745,
          0.0883327670712546,
          0.079738417288944,
          0.07899217159965605,
          0.05990243728901915,
          0.07631388075448362,
          0.05574945175265128,
          0.06371770924074666,
          0.06765453600713402,
          0.06274773236002373,
          0.10332893865562663,
          0.08331034150227686,
          0.06859088567564728,
          0.06562951871202931,
          0.06309349532555553,
          0.05565507508404387,
          0.06429945791487762,
          0.08023010518633542,
          0.0943752350176915,
          0.11026496501535434,
          0.11763212125678996,
          0.08783715431842624,
          0.07103343077800937,
          0.06804226682121385,
          0.053674364888236376,
          0.06616087658773867,
          0.05490466722893047,
          0.08154365764092916,
          0.07498767580278376,
          0.06777321534479748,
          0.04980496960547293,
          0.04740607919074898,
          0.04278503851279808,
          0.06049332847982749,
          0.05687864799161808,
          0.0600591148195004,
          0.05982560881358606,
          0.05500421445159253,
          0.04353211978632958,
          0.04499574483804393,
          0.051787995506475136,
          0.045605833801395115,
          0.04174879266008156,
          0.06762772598653614,
          0.06638222799559139,
          0.06165220251255353,
          0.05362573041235807,
          0.05883574335916425,
          0.046575811002940455,
          0.06970472401664658,
          0.06243729312410611,
          0.05558318458789351,
          0.08572661752696638,
          0.08081467615363186,
          0.06747706717449538,
          0.08194318984083382,
          0.07829338444028974,
          0.07419784206651751,
          0.09574206563170125,
          0.09232667596694721,
          0.07652282681105449,
          0.09379114684818762,
          0.09406278598546015,
          0.08198986661592461,
          0.05714107269402567,
          0.057132144532973245,
          0.06267551151406392,
          0.06625302760131888,
          0.0743733388074749
         ],
         "yaxis": "y"
        },
        {
         "customdata": [
          [
           "FL1:32 FL2:256 DR:0.3 BS:32 LR:0.0005",
           "[30, 165]"
          ],
          [
           "FL1:32 FL2:256 DR:0.3 BS:32 LR:0.0005",
           "[30, 165]"
          ],
          [
           "FL1:32 FL2:256 DR:0.3 BS:32 LR:0.0005",
           "[30, 165]"
          ],
          [
           "FL1:32 FL2:256 DR:0.3 BS:32 LR:0.0005",
           "[30, 165]"
          ],
          [
           "FL1:32 FL2:256 DR:0.3 BS:32 LR:0.0005",
           "[30, 165]"
          ],
          [
           "FL1:32 FL2:256 DR:0.3 BS:32 LR:0.0005",
           "[30, 165]"
          ],
          [
           "FL1:32 FL2:256 DR:0.3 BS:32 LR:0.0005",
           "[30, 165]"
          ],
          [
           "FL1:32 FL2:256 DR:0.3 BS:32 LR:0.0005",
           "[30, 165]"
          ],
          [
           "FL1:32 FL2:256 DR:0.3 BS:32 LR:0.0005",
           "[30, 165]"
          ],
          [
           "FL1:32 FL2:256 DR:0.3 BS:32 LR:0.0005",
           "[30, 165]"
          ],
          [
           "FL1:32 FL2:256 DR:0.3 BS:32 LR:0.0005",
           "[30, 165]"
          ],
          [
           "FL1:32 FL2:256 DR:0.3 BS:32 LR:0.0005",
           "[30, 165]"
          ],
          [
           "FL1:32 FL2:256 DR:0.3 BS:32 LR:0.0005",
           "[30, 165]"
          ],
          [
           "FL1:32 FL2:256 DR:0.3 BS:32 LR:0.0005",
           "[30, 165]"
          ],
          [
           "FL1:32 FL2:256 DR:0.3 BS:32 LR:0.0005",
           "[30, 165]"
          ],
          [
           "FL1:32 FL2:256 DR:0.3 BS:32 LR:0.0005",
           "[30, 165]"
          ],
          [
           "FL1:32 FL2:256 DR:0.3 BS:32 LR:0.0005",
           "[30, 165]"
          ],
          [
           "FL1:32 FL2:256 DR:0.3 BS:32 LR:0.0005",
           "[30, 165]"
          ],
          [
           "FL1:32 FL2:256 DR:0.3 BS:32 LR:0.0005",
           "[30, 165]"
          ],
          [
           "FL1:32 FL2:256 DR:0.3 BS:32 LR:0.0005",
           "[30, 165]"
          ],
          [
           "FL1:32 FL2:256 DR:0.3 BS:32 LR:0.0005",
           "[30, 165]"
          ],
          [
           "FL1:32 FL2:256 DR:0.3 BS:32 LR:0.0005",
           "[30, 165]"
          ],
          [
           "FL1:32 FL2:256 DR:0.3 BS:32 LR:0.0005",
           "[30, 165]"
          ],
          [
           "FL1:32 FL2:256 DR:0.3 BS:32 LR:0.0005",
           "[30, 165]"
          ],
          [
           "FL1:32 FL2:256 DR:0.3 BS:32 LR:0.0005",
           "[30, 165]"
          ],
          [
           "FL1:32 FL2:256 DR:0.3 BS:32 LR:0.0005",
           "[30, 165]"
          ],
          [
           "FL1:32 FL2:256 DR:0.3 BS:32 LR:0.0005",
           "[30, 165]"
          ],
          [
           "FL1:32 FL2:256 DR:0.3 BS:32 LR:0.0005",
           "[30, 165]"
          ],
          [
           "FL1:32 FL2:256 DR:0.3 BS:32 LR:0.0005",
           "[30, 165]"
          ],
          [
           "FL1:32 FL2:256 DR:0.3 BS:32 LR:0.0005",
           "[30, 165]"
          ],
          [
           "FL1:32 FL2:256 DR:0.3 BS:32 LR:0.0005",
           "[30, 165]"
          ],
          [
           "FL1:32 FL2:256 DR:0.3 BS:32 LR:0.0005",
           "[30, 165]"
          ],
          [
           "FL1:32 FL2:256 DR:0.3 BS:32 LR:0.0005",
           "[30, 165]"
          ],
          [
           "FL1:32 FL2:256 DR:0.3 BS:32 LR:0.0005",
           "[30, 165]"
          ],
          [
           "FL1:32 FL2:256 DR:0.3 BS:32 LR:0.0005",
           "[30, 165]"
          ],
          [
           "FL1:32 FL2:256 DR:0.3 BS:32 LR:0.0005",
           "[30, 165]"
          ],
          [
           "FL1:32 FL2:256 DR:0.3 BS:32 LR:0.0005",
           "[30, 165]"
          ],
          [
           "FL1:32 FL2:256 DR:0.3 BS:32 LR:0.0005",
           "[30, 165]"
          ],
          [
           "FL1:32 FL2:256 DR:0.3 BS:32 LR:0.0005",
           "[30, 165]"
          ],
          [
           "FL1:32 FL2:256 DR:0.3 BS:32 LR:0.0005",
           "[30, 165]"
          ],
          [
           "FL1:32 FL2:256 DR:0.3 BS:32 LR:0.0005",
           "[30, 165]"
          ],
          [
           "FL1:32 FL2:256 DR:0.3 BS:32 LR:0.0005",
           "[30, 165]"
          ],
          [
           "FL1:32 FL2:256 DR:0.3 BS:32 LR:0.0005",
           "[30, 165]"
          ],
          [
           "FL1:32 FL2:256 DR:0.3 BS:32 LR:0.0005",
           "[30, 165]"
          ],
          [
           "FL1:32 FL2:256 DR:0.3 BS:32 LR:0.0005",
           "[30, 165]"
          ],
          [
           "FL1:32 FL2:256 DR:0.3 BS:32 LR:0.0005",
           "[30, 165]"
          ],
          [
           "FL1:32 FL2:256 DR:0.3 BS:32 LR:0.0005",
           "[30, 165]"
          ],
          [
           "FL1:32 FL2:256 DR:0.3 BS:32 LR:0.0005",
           "[30, 165]"
          ],
          [
           "FL1:32 FL2:256 DR:0.3 BS:32 LR:0.0005",
           "[30, 165]"
          ],
          [
           "FL1:32 FL2:256 DR:0.3 BS:32 LR:0.0005",
           "[30, 165]"
          ],
          [
           "FL1:32 FL2:256 DR:0.3 BS:32 LR:0.0005",
           "[30, 165]"
          ],
          [
           "FL1:32 FL2:256 DR:0.3 BS:32 LR:0.0005",
           "[30, 165]"
          ],
          [
           "FL1:32 FL2:256 DR:0.3 BS:32 LR:0.0005",
           "[30, 165]"
          ],
          [
           "FL1:32 FL2:256 DR:0.3 BS:32 LR:0.0005",
           "[30, 165]"
          ],
          [
           "FL1:32 FL2:256 DR:0.3 BS:32 LR:0.0005",
           "[30, 165]"
          ],
          [
           "FL1:32 FL2:256 DR:0.3 BS:32 LR:0.0005",
           "[30, 165]"
          ],
          [
           "FL1:32 FL2:256 DR:0.3 BS:32 LR:0.0005",
           "[30, 165]"
          ],
          [
           "FL1:32 FL2:256 DR:0.3 BS:32 LR:0.0005",
           "[30, 165]"
          ],
          [
           "FL1:32 FL2:256 DR:0.3 BS:32 LR:0.0005",
           "[30, 165]"
          ],
          [
           "FL1:32 FL2:256 DR:0.3 BS:32 LR:0.0005",
           "[30, 165]"
          ],
          [
           "FL1:32 FL2:256 DR:0.3 BS:32 LR:0.0005",
           "[30, 165]"
          ],
          [
           "FL1:32 FL2:256 DR:0.3 BS:32 LR:0.0005",
           "[30, 165]"
          ],
          [
           "FL1:32 FL2:256 DR:0.3 BS:32 LR:0.0005",
           "[30, 165]"
          ],
          [
           "FL1:32 FL2:256 DR:0.3 BS:32 LR:0.0005",
           "[30, 165]"
          ],
          [
           "FL1:32 FL2:256 DR:0.3 BS:32 LR:0.0005",
           "[30, 165]"
          ],
          [
           "FL1:32 FL2:256 DR:0.3 BS:32 LR:0.0005",
           "[30, 165]"
          ],
          [
           "FL1:32 FL2:256 DR:0.3 BS:32 LR:0.0005",
           "[30, 165]"
          ],
          [
           "FL1:32 FL2:256 DR:0.3 BS:32 LR:0.0005",
           "[30, 165]"
          ],
          [
           "FL1:32 FL2:256 DR:0.3 BS:32 LR:0.0005",
           "[30, 165]"
          ],
          [
           "FL1:32 FL2:256 DR:0.3 BS:32 LR:0.0005",
           "[30, 165]"
          ],
          [
           "FL1:32 FL2:256 DR:0.3 BS:32 LR:0.0005",
           "[30, 165]"
          ],
          [
           "FL1:32 FL2:256 DR:0.3 BS:32 LR:0.0005",
           "[30, 165]"
          ],
          [
           "FL1:32 FL2:256 DR:0.3 BS:32 LR:0.0005",
           "[30, 165]"
          ],
          [
           "FL1:32 FL2:256 DR:0.3 BS:32 LR:0.0005",
           "[30, 165]"
          ],
          [
           "FL1:32 FL2:256 DR:0.3 BS:32 LR:0.0005",
           "[30, 165]"
          ],
          [
           "FL1:32 FL2:256 DR:0.3 BS:32 LR:0.0005",
           "[30, 165]"
          ],
          [
           "FL1:32 FL2:256 DR:0.3 BS:32 LR:0.0005",
           "[30, 165]"
          ],
          [
           "FL1:32 FL2:256 DR:0.3 BS:32 LR:0.0005",
           "[30, 165]"
          ],
          [
           "FL1:32 FL2:256 DR:0.3 BS:32 LR:0.0005",
           "[30, 165]"
          ],
          [
           "FL1:32 FL2:256 DR:0.3 BS:32 LR:0.0005",
           "[30, 165]"
          ],
          [
           "FL1:32 FL2:256 DR:0.3 BS:32 LR:0.0005",
           "[30, 165]"
          ],
          [
           "FL1:32 FL2:256 DR:0.3 BS:32 LR:0.0005",
           "[30, 165]"
          ],
          [
           "FL1:32 FL2:256 DR:0.3 BS:32 LR:0.0005",
           "[30, 165]"
          ],
          [
           "FL1:32 FL2:256 DR:0.3 BS:32 LR:0.0005",
           "[30, 165]"
          ],
          [
           "FL1:32 FL2:256 DR:0.3 BS:32 LR:0.0005",
           "[30, 165]"
          ],
          [
           "FL1:32 FL2:256 DR:0.3 BS:32 LR:0.0005",
           "[30, 165]"
          ],
          [
           "FL1:32 FL2:256 DR:0.3 BS:32 LR:0.0005",
           "[30, 165]"
          ],
          [
           "FL1:32 FL2:256 DR:0.3 BS:32 LR:0.0005",
           "[30, 165]"
          ],
          [
           "FL1:32 FL2:256 DR:0.3 BS:32 LR:0.0005",
           "[30, 165]"
          ],
          [
           "FL1:32 FL2:256 DR:0.3 BS:32 LR:0.0005",
           "[30, 165]"
          ],
          [
           "FL1:32 FL2:256 DR:0.3 BS:32 LR:0.0005",
           "[30, 165]"
          ],
          [
           "FL1:32 FL2:256 DR:0.3 BS:32 LR:0.0005",
           "[30, 165]"
          ],
          [
           "FL1:32 FL2:256 DR:0.3 BS:32 LR:0.0005",
           "[30, 165]"
          ],
          [
           "FL1:32 FL2:256 DR:0.3 BS:32 LR:0.0005",
           "[30, 165]"
          ],
          [
           "FL1:32 FL2:256 DR:0.3 BS:32 LR:0.0005",
           "[30, 165]"
          ],
          [
           "FL1:32 FL2:256 DR:0.3 BS:32 LR:0.0005",
           "[30, 165]"
          ],
          [
           "FL1:32 FL2:256 DR:0.3 BS:32 LR:0.0005",
           "[30, 165]"
          ],
          [
           "FL1:32 FL2:256 DR:0.3 BS:32 LR:0.0005",
           "[30, 165]"
          ],
          [
           "FL1:32 FL2:256 DR:0.3 BS:32 LR:0.0005",
           "[30, 165]"
          ],
          [
           "FL1:32 FL2:256 DR:0.3 BS:32 LR:0.0005",
           "[30, 165]"
          ],
          [
           "FL1:32 FL2:256 DR:0.3 BS:32 LR:0.0005",
           "[30, 165]"
          ],
          [
           "FL1:32 FL2:256 DR:0.3 BS:32 LR:0.0005",
           "[30, 165]"
          ],
          [
           "FL1:32 FL2:256 DR:0.3 BS:32 LR:0.0005",
           "[30, 165]"
          ],
          [
           "FL1:32 FL2:256 DR:0.3 BS:32 LR:0.0005",
           "[30, 165]"
          ],
          [
           "FL1:32 FL2:256 DR:0.3 BS:32 LR:0.0005",
           "[30, 165]"
          ],
          [
           "FL1:32 FL2:256 DR:0.3 BS:32 LR:0.0005",
           "[30, 165]"
          ],
          [
           "FL1:32 FL2:256 DR:0.3 BS:32 LR:0.0005",
           "[30, 165]"
          ],
          [
           "FL1:32 FL2:256 DR:0.3 BS:32 LR:0.0005",
           "[30, 165]"
          ],
          [
           "FL1:32 FL2:256 DR:0.3 BS:32 LR:0.0005",
           "[30, 165]"
          ],
          [
           "FL1:32 FL2:256 DR:0.3 BS:32 LR:0.0005",
           "[30, 165]"
          ],
          [
           "FL1:32 FL2:256 DR:0.3 BS:32 LR:0.0005",
           "[30, 165]"
          ],
          [
           "FL1:32 FL2:256 DR:0.3 BS:32 LR:0.0005",
           "[30, 165]"
          ],
          [
           "FL1:32 FL2:256 DR:0.3 BS:32 LR:0.0005",
           "[30, 165]"
          ],
          [
           "FL1:32 FL2:256 DR:0.3 BS:32 LR:0.0005",
           "[30, 165]"
          ],
          [
           "FL1:32 FL2:256 DR:0.3 BS:32 LR:0.0005",
           "[30, 165]"
          ],
          [
           "FL1:32 FL2:256 DR:0.3 BS:32 LR:0.0005",
           "[30, 165]"
          ],
          [
           "FL1:32 FL2:256 DR:0.3 BS:32 LR:0.0005",
           "[30, 165]"
          ],
          [
           "FL1:32 FL2:256 DR:0.3 BS:32 LR:0.0005",
           "[30, 165]"
          ],
          [
           "FL1:32 FL2:256 DR:0.3 BS:32 LR:0.0005",
           "[30, 165]"
          ],
          [
           "FL1:32 FL2:256 DR:0.3 BS:32 LR:0.0005",
           "[30, 165]"
          ],
          [
           "FL1:32 FL2:256 DR:0.3 BS:32 LR:0.0005",
           "[30, 165]"
          ],
          [
           "FL1:32 FL2:256 DR:0.3 BS:32 LR:0.0005",
           "[30, 165]"
          ],
          [
           "FL1:32 FL2:256 DR:0.3 BS:32 LR:0.0005",
           "[30, 165]"
          ],
          [
           "FL1:32 FL2:256 DR:0.3 BS:32 LR:0.0005",
           "[30, 165]"
          ],
          [
           "FL1:32 FL2:256 DR:0.3 BS:32 LR:0.0005",
           "[30, 165]"
          ],
          [
           "FL1:32 FL2:256 DR:0.3 BS:32 LR:0.0005",
           "[30, 165]"
          ],
          [
           "FL1:32 FL2:256 DR:0.3 BS:32 LR:0.0005",
           "[30, 165]"
          ],
          [
           "FL1:32 FL2:256 DR:0.3 BS:32 LR:0.0005",
           "[30, 165]"
          ],
          [
           "FL1:32 FL2:256 DR:0.3 BS:32 LR:0.0005",
           "[30, 165]"
          ],
          [
           "FL1:32 FL2:256 DR:0.3 BS:32 LR:0.0005",
           "[30, 165]"
          ],
          [
           "FL1:32 FL2:256 DR:0.3 BS:32 LR:0.0005",
           "[30, 165]"
          ],
          [
           "FL1:32 FL2:256 DR:0.3 BS:32 LR:0.0005",
           "[30, 165]"
          ],
          [
           "FL1:32 FL2:256 DR:0.3 BS:32 LR:0.0005",
           "[30, 165]"
          ],
          [
           "FL1:32 FL2:256 DR:0.3 BS:32 LR:0.0005",
           "[30, 165]"
          ],
          [
           "FL1:32 FL2:256 DR:0.3 BS:32 LR:0.0005",
           "[30, 165]"
          ],
          [
           "FL1:32 FL2:256 DR:0.3 BS:32 LR:0.0005",
           "[30, 165]"
          ],
          [
           "FL1:32 FL2:256 DR:0.3 BS:32 LR:0.0005",
           "[30, 165]"
          ],
          [
           "FL1:32 FL2:256 DR:0.3 BS:32 LR:0.0005",
           "[30, 165]"
          ],
          [
           "FL1:32 FL2:256 DR:0.3 BS:32 LR:0.0005",
           "[30, 165]"
          ],
          [
           "FL1:32 FL2:256 DR:0.3 BS:32 LR:0.0005",
           "[30, 165]"
          ],
          [
           "FL1:32 FL2:256 DR:0.3 BS:32 LR:0.0005",
           "[30, 165]"
          ],
          [
           "FL1:32 FL2:256 DR:0.3 BS:32 LR:0.0005",
           "[30, 165]"
          ],
          [
           "FL1:32 FL2:256 DR:0.3 BS:32 LR:0.0005",
           "[30, 165]"
          ],
          [
           "FL1:32 FL2:256 DR:0.3 BS:32 LR:0.0005",
           "[30, 165]"
          ],
          [
           "FL1:32 FL2:256 DR:0.3 BS:32 LR:0.0005",
           "[30, 165]"
          ],
          [
           "FL1:32 FL2:256 DR:0.3 BS:32 LR:0.0005",
           "[30, 165]"
          ],
          [
           "FL1:32 FL2:256 DR:0.3 BS:32 LR:0.0005",
           "[30, 165]"
          ],
          [
           "FL1:32 FL2:256 DR:0.3 BS:32 LR:0.0005",
           "[30, 165]"
          ],
          [
           "FL1:32 FL2:256 DR:0.3 BS:32 LR:0.0005",
           "[30, 165]"
          ],
          [
           "FL1:32 FL2:256 DR:0.3 BS:32 LR:0.0005",
           "[30, 165]"
          ],
          [
           "FL1:32 FL2:256 DR:0.3 BS:32 LR:0.0005",
           "[30, 165]"
          ],
          [
           "FL1:32 FL2:256 DR:0.3 BS:32 LR:0.0005",
           "[30, 165]"
          ],
          [
           "FL1:32 FL2:256 DR:0.3 BS:32 LR:0.0005",
           "[30, 165]"
          ],
          [
           "FL1:32 FL2:256 DR:0.3 BS:32 LR:0.0005",
           "[30, 165]"
          ],
          [
           "FL1:32 FL2:256 DR:0.3 BS:32 LR:0.0005",
           "[30, 165]"
          ],
          [
           "FL1:32 FL2:256 DR:0.3 BS:32 LR:0.0005",
           "[30, 165]"
          ],
          [
           "FL1:32 FL2:256 DR:0.3 BS:32 LR:0.0005",
           "[30, 165]"
          ],
          [
           "FL1:32 FL2:256 DR:0.3 BS:32 LR:0.0005",
           "[30, 165]"
          ],
          [
           "FL1:32 FL2:256 DR:0.3 BS:32 LR:0.0005",
           "[30, 165]"
          ],
          [
           "FL1:32 FL2:256 DR:0.3 BS:32 LR:0.0005",
           "[30, 165]"
          ],
          [
           "FL1:32 FL2:256 DR:0.3 BS:32 LR:0.0005",
           "[30, 165]"
          ],
          [
           "FL1:32 FL2:256 DR:0.3 BS:32 LR:0.0005",
           "[30, 165]"
          ],
          [
           "FL1:32 FL2:256 DR:0.3 BS:32 LR:0.0005",
           "[30, 165]"
          ],
          [
           "FL1:32 FL2:256 DR:0.3 BS:32 LR:0.0005",
           "[30, 165]"
          ],
          [
           "FL1:32 FL2:256 DR:0.3 BS:32 LR:0.0005",
           "[30, 165]"
          ],
          [
           "FL1:32 FL2:256 DR:0.3 BS:32 LR:0.0005",
           "[30, 165]"
          ]
         ],
         "hovertemplate": "variable=train_loss<br>trial_id=802fd_00119<br>epoch=%{x}<br>value=%{y}<br>Hyperparameters=%{customdata[0]}<br>checkpoints=%{customdata[1]}<extra></extra>",
         "legendgroup": "train_loss, 802fd_00119",
         "line": {
          "color": "#EF553B",
          "dash": "longdash"
         },
         "marker": {
          "symbol": "circle"
         },
         "mode": "lines",
         "name": "train_loss, 802fd_00119",
         "showlegend": true,
         "type": "scattergl",
         "x": [
          0,
          1,
          2,
          3,
          4,
          5,
          6,
          7,
          8,
          9,
          10,
          11,
          12,
          13,
          14,
          15,
          16,
          17,
          18,
          19,
          20,
          21,
          22,
          23,
          24,
          25,
          26,
          27,
          28,
          29,
          30,
          31,
          32,
          33,
          34,
          35,
          36,
          37,
          38,
          39,
          40,
          41,
          42,
          43,
          44,
          45,
          46,
          47,
          48,
          49,
          50,
          51,
          52,
          53,
          54,
          55,
          56,
          57,
          58,
          59,
          60,
          61,
          62,
          63,
          64,
          65,
          66,
          67,
          68,
          69,
          70,
          71,
          72,
          73,
          74,
          75,
          76,
          77,
          78,
          79,
          80,
          81,
          82,
          83,
          84,
          85,
          86,
          87,
          88,
          89,
          90,
          91,
          92,
          93,
          94,
          95,
          96,
          97,
          98,
          99,
          100,
          101,
          102,
          103,
          104,
          105,
          106,
          107,
          108,
          109,
          110,
          111,
          112,
          113,
          114,
          115,
          116,
          117,
          118,
          119,
          120,
          121,
          122,
          123,
          124,
          125,
          126,
          127,
          128,
          129,
          130,
          131,
          132,
          133,
          134,
          135,
          136,
          137,
          138,
          139,
          140,
          141,
          142,
          143,
          144,
          145,
          146,
          147,
          148,
          149,
          150,
          151,
          152,
          153,
          154,
          155,
          156,
          157,
          158,
          159,
          160,
          161,
          162,
          163,
          164,
          165
         ],
         "xaxis": "x",
         "y": [
          0.09490236639976482,
          0.1164199958244955,
          0.27948110964563,
          0.2950100181279342,
          0.21787722344383656,
          0.16947039173831566,
          0.19831432373517052,
          0.1793907630522599,
          0.1758243870787849,
          0.2102727083400237,
          0.2670155623247449,
          0.3089844987584625,
          0.2185019014307839,
          0.26248545832296033,
          0.22302245025409445,
          0.19540868484028937,
          0.1759563421742699,
          0.19921184318175408,
          0.16125562033329052,
          0.15010492994569144,
          0.16736631422693424,
          0.13353602061308006,
          0.13702516899927814,
          0.10396570271203484,
          0.10825930986768355,
          0.09065348086401046,
          0.08689141639500322,
          0.07140063738445077,
          0.0528711599732083,
          0.10448622191115454,
          0.09112116601178524,
          0.09465293772425548,
          0.07024675235090183,
          0.047771548851910726,
          0.03439469340540201,
          0.02926935058896557,
          0.0443371248050848,
          0.03831661260322188,
          0.04508124633759547,
          0.038117491125267605,
          0.1273909660969846,
          0.08935338370383926,
          0.06199127028927964,
          0.07773782538404547,
          0.08538337450577452,
          0.17047553526927053,
          0.12107465676181191,
          0.10356258029217623,
          0.0709961180023028,
          0.12508438356264864,
          0.09019674060274781,
          0.07264359840108031,
          0.09250081942050345,
          0.09935301453251741,
          0.08552418714019379,
          0.08819113466642095,
          0.10271307192578417,
          0.12418400818993286,
          0.08316908902674258,
          0.05645079373816213,
          0.03903154593250525,
          0.028189787996999855,
          0.034085002033705375,
          0.047366266607439936,
          0.03862382130271615,
          0.041806376436991206,
          0.0687697746420187,
          0.051134415132422,
          0.04672323674799246,
          0.048949593956875974,
          0.03303513853612998,
          0.02840397687497042,
          0.03983516366443555,
          0.12472298324877308,
          0.0860186079692462,
          0.057564371587608826,
          0.08481674973287459,
          0.058447478689208784,
          0.051846084728807224,
          0.10487270205217557,
          0.07338894337993829,
          0.06402294333167842,
          0.13794314858243123,
          0.18097059923360864,
          0.12848824778662862,
          0.08728645806571998,
          0.06219806968792381,
          0.1684799671148193,
          0.1759906927727942,
          0.1341866599177839,
          0.14192309787905988,
          0.12131563945635657,
          0.08093391275260423,
          0.10138345205686837,
          0.12413957512313989,
          0.13767687344507917,
          0.10578665585290414,
          0.11005747368581416,
          0.07868756201133012,
          0.06428312532613588,
          0.126736447364157,
          0.1097084856033758,
          0.07433081259332998,
          0.05547848051622772,
          0.037345817731533684,
          0.09977150860542291,
          0.09107728403882327,
          0.08341970362316319,
          0.1366999352511477,
          0.13436453405596863,
          0.09847344512626888,
          0.174657196169994,
          0.12543508993480051,
          0.08691559841247692,
          0.06512419455589379,
          0.09484741305868807,
          0.06892944207993466,
          0.04595609049556544,
          0.07682984100817208,
          0.051533895484478925,
          0.12812596741773738,
          0.12406533332969094,
          0.08994697612063977,
          0.09572732585361837,
          0.06769287429048773,
          0.07076532537271003,
          0.05046769109967294,
          0.04923045926692041,
          0.036642386658502585,
          0.024494980801735896,
          0.022130081656637796,
          0.03832557936712289,
          0.025615804360255165,
          0.01969517084273663,
          0.028026182617167293,
          0.01902869367389273,
          0.04613511031725908,
          0.03139943066984102,
          0.0623859477291481,
          0.04439115884817149,
          0.03362578611268931,
          0.024737134522493195,
          0.020272751613653675,
          0.07867578000770431,
          0.08147808383535274,
          0.056068523851159055,
          0.04098089509266799,
          0.0620977487700393,
          0.041408793652330134,
          0.03481032241501688,
          0.08055822742725892,
          0.06350057948129355,
          0.04298949329325378,
          0.038223821012634766,
          0.04221446023282644,
          0.029156060209231126,
          0.02034251494004925,
          0.01702844295431901,
          0.07969297431263435,
          0.05452674773113996,
          0.03860443787998337,
          0.02654166250722358,
          0.020720226139139774,
          0.0275586653552529,
          0.02514972637441926,
          0.01869092327255123
         ],
         "yaxis": "y"
        }
       ],
       "layout": {
        "height": 800,
        "legend": {
         "title": {
          "text": "variable, trial_id"
         },
         "tracegroupgap": 0
        },
        "margin": {
         "t": 60
        },
        "template": {
         "data": {
          "bar": [
           {
            "error_x": {
             "color": "#2a3f5f"
            },
            "error_y": {
             "color": "#2a3f5f"
            },
            "marker": {
             "line": {
              "color": "#E5ECF6",
              "width": 0.5
             },
             "pattern": {
              "fillmode": "overlay",
              "size": 10,
              "solidity": 0.2
             }
            },
            "type": "bar"
           }
          ],
          "barpolar": [
           {
            "marker": {
             "line": {
              "color": "#E5ECF6",
              "width": 0.5
             },
             "pattern": {
              "fillmode": "overlay",
              "size": 10,
              "solidity": 0.2
             }
            },
            "type": "barpolar"
           }
          ],
          "carpet": [
           {
            "aaxis": {
             "endlinecolor": "#2a3f5f",
             "gridcolor": "white",
             "linecolor": "white",
             "minorgridcolor": "white",
             "startlinecolor": "#2a3f5f"
            },
            "baxis": {
             "endlinecolor": "#2a3f5f",
             "gridcolor": "white",
             "linecolor": "white",
             "minorgridcolor": "white",
             "startlinecolor": "#2a3f5f"
            },
            "type": "carpet"
           }
          ],
          "choropleth": [
           {
            "colorbar": {
             "outlinewidth": 0,
             "ticks": ""
            },
            "type": "choropleth"
           }
          ],
          "contour": [
           {
            "colorbar": {
             "outlinewidth": 0,
             "ticks": ""
            },
            "colorscale": [
             [
              0,
              "#0d0887"
             ],
             [
              0.1111111111111111,
              "#46039f"
             ],
             [
              0.2222222222222222,
              "#7201a8"
             ],
             [
              0.3333333333333333,
              "#9c179e"
             ],
             [
              0.4444444444444444,
              "#bd3786"
             ],
             [
              0.5555555555555556,
              "#d8576b"
             ],
             [
              0.6666666666666666,
              "#ed7953"
             ],
             [
              0.7777777777777778,
              "#fb9f3a"
             ],
             [
              0.8888888888888888,
              "#fdca26"
             ],
             [
              1,
              "#f0f921"
             ]
            ],
            "type": "contour"
           }
          ],
          "contourcarpet": [
           {
            "colorbar": {
             "outlinewidth": 0,
             "ticks": ""
            },
            "type": "contourcarpet"
           }
          ],
          "heatmap": [
           {
            "colorbar": {
             "outlinewidth": 0,
             "ticks": ""
            },
            "colorscale": [
             [
              0,
              "#0d0887"
             ],
             [
              0.1111111111111111,
              "#46039f"
             ],
             [
              0.2222222222222222,
              "#7201a8"
             ],
             [
              0.3333333333333333,
              "#9c179e"
             ],
             [
              0.4444444444444444,
              "#bd3786"
             ],
             [
              0.5555555555555556,
              "#d8576b"
             ],
             [
              0.6666666666666666,
              "#ed7953"
             ],
             [
              0.7777777777777778,
              "#fb9f3a"
             ],
             [
              0.8888888888888888,
              "#fdca26"
             ],
             [
              1,
              "#f0f921"
             ]
            ],
            "type": "heatmap"
           }
          ],
          "heatmapgl": [
           {
            "colorbar": {
             "outlinewidth": 0,
             "ticks": ""
            },
            "colorscale": [
             [
              0,
              "#0d0887"
             ],
             [
              0.1111111111111111,
              "#46039f"
             ],
             [
              0.2222222222222222,
              "#7201a8"
             ],
             [
              0.3333333333333333,
              "#9c179e"
             ],
             [
              0.4444444444444444,
              "#bd3786"
             ],
             [
              0.5555555555555556,
              "#d8576b"
             ],
             [
              0.6666666666666666,
              "#ed7953"
             ],
             [
              0.7777777777777778,
              "#fb9f3a"
             ],
             [
              0.8888888888888888,
              "#fdca26"
             ],
             [
              1,
              "#f0f921"
             ]
            ],
            "type": "heatmapgl"
           }
          ],
          "histogram": [
           {
            "marker": {
             "pattern": {
              "fillmode": "overlay",
              "size": 10,
              "solidity": 0.2
             }
            },
            "type": "histogram"
           }
          ],
          "histogram2d": [
           {
            "colorbar": {
             "outlinewidth": 0,
             "ticks": ""
            },
            "colorscale": [
             [
              0,
              "#0d0887"
             ],
             [
              0.1111111111111111,
              "#46039f"
             ],
             [
              0.2222222222222222,
              "#7201a8"
             ],
             [
              0.3333333333333333,
              "#9c179e"
             ],
             [
              0.4444444444444444,
              "#bd3786"
             ],
             [
              0.5555555555555556,
              "#d8576b"
             ],
             [
              0.6666666666666666,
              "#ed7953"
             ],
             [
              0.7777777777777778,
              "#fb9f3a"
             ],
             [
              0.8888888888888888,
              "#fdca26"
             ],
             [
              1,
              "#f0f921"
             ]
            ],
            "type": "histogram2d"
           }
          ],
          "histogram2dcontour": [
           {
            "colorbar": {
             "outlinewidth": 0,
             "ticks": ""
            },
            "colorscale": [
             [
              0,
              "#0d0887"
             ],
             [
              0.1111111111111111,
              "#46039f"
             ],
             [
              0.2222222222222222,
              "#7201a8"
             ],
             [
              0.3333333333333333,
              "#9c179e"
             ],
             [
              0.4444444444444444,
              "#bd3786"
             ],
             [
              0.5555555555555556,
              "#d8576b"
             ],
             [
              0.6666666666666666,
              "#ed7953"
             ],
             [
              0.7777777777777778,
              "#fb9f3a"
             ],
             [
              0.8888888888888888,
              "#fdca26"
             ],
             [
              1,
              "#f0f921"
             ]
            ],
            "type": "histogram2dcontour"
           }
          ],
          "mesh3d": [
           {
            "colorbar": {
             "outlinewidth": 0,
             "ticks": ""
            },
            "type": "mesh3d"
           }
          ],
          "parcoords": [
           {
            "line": {
             "colorbar": {
              "outlinewidth": 0,
              "ticks": ""
             }
            },
            "type": "parcoords"
           }
          ],
          "pie": [
           {
            "automargin": true,
            "type": "pie"
           }
          ],
          "scatter": [
           {
            "fillpattern": {
             "fillmode": "overlay",
             "size": 10,
             "solidity": 0.2
            },
            "type": "scatter"
           }
          ],
          "scatter3d": [
           {
            "line": {
             "colorbar": {
              "outlinewidth": 0,
              "ticks": ""
             }
            },
            "marker": {
             "colorbar": {
              "outlinewidth": 0,
              "ticks": ""
             }
            },
            "type": "scatter3d"
           }
          ],
          "scattercarpet": [
           {
            "marker": {
             "colorbar": {
              "outlinewidth": 0,
              "ticks": ""
             }
            },
            "type": "scattercarpet"
           }
          ],
          "scattergeo": [
           {
            "marker": {
             "colorbar": {
              "outlinewidth": 0,
              "ticks": ""
             }
            },
            "type": "scattergeo"
           }
          ],
          "scattergl": [
           {
            "marker": {
             "colorbar": {
              "outlinewidth": 0,
              "ticks": ""
             }
            },
            "type": "scattergl"
           }
          ],
          "scattermapbox": [
           {
            "marker": {
             "colorbar": {
              "outlinewidth": 0,
              "ticks": ""
             }
            },
            "type": "scattermapbox"
           }
          ],
          "scatterpolar": [
           {
            "marker": {
             "colorbar": {
              "outlinewidth": 0,
              "ticks": ""
             }
            },
            "type": "scatterpolar"
           }
          ],
          "scatterpolargl": [
           {
            "marker": {
             "colorbar": {
              "outlinewidth": 0,
              "ticks": ""
             }
            },
            "type": "scatterpolargl"
           }
          ],
          "scatterternary": [
           {
            "marker": {
             "colorbar": {
              "outlinewidth": 0,
              "ticks": ""
             }
            },
            "type": "scatterternary"
           }
          ],
          "surface": [
           {
            "colorbar": {
             "outlinewidth": 0,
             "ticks": ""
            },
            "colorscale": [
             [
              0,
              "#0d0887"
             ],
             [
              0.1111111111111111,
              "#46039f"
             ],
             [
              0.2222222222222222,
              "#7201a8"
             ],
             [
              0.3333333333333333,
              "#9c179e"
             ],
             [
              0.4444444444444444,
              "#bd3786"
             ],
             [
              0.5555555555555556,
              "#d8576b"
             ],
             [
              0.6666666666666666,
              "#ed7953"
             ],
             [
              0.7777777777777778,
              "#fb9f3a"
             ],
             [
              0.8888888888888888,
              "#fdca26"
             ],
             [
              1,
              "#f0f921"
             ]
            ],
            "type": "surface"
           }
          ],
          "table": [
           {
            "cells": {
             "fill": {
              "color": "#EBF0F8"
             },
             "line": {
              "color": "white"
             }
            },
            "header": {
             "fill": {
              "color": "#C8D4E3"
             },
             "line": {
              "color": "white"
             }
            },
            "type": "table"
           }
          ]
         },
         "layout": {
          "annotationdefaults": {
           "arrowcolor": "#2a3f5f",
           "arrowhead": 0,
           "arrowwidth": 1
          },
          "autotypenumbers": "strict",
          "coloraxis": {
           "colorbar": {
            "outlinewidth": 0,
            "ticks": ""
           }
          },
          "colorscale": {
           "diverging": [
            [
             0,
             "#8e0152"
            ],
            [
             0.1,
             "#c51b7d"
            ],
            [
             0.2,
             "#de77ae"
            ],
            [
             0.3,
             "#f1b6da"
            ],
            [
             0.4,
             "#fde0ef"
            ],
            [
             0.5,
             "#f7f7f7"
            ],
            [
             0.6,
             "#e6f5d0"
            ],
            [
             0.7,
             "#b8e186"
            ],
            [
             0.8,
             "#7fbc41"
            ],
            [
             0.9,
             "#4d9221"
            ],
            [
             1,
             "#276419"
            ]
           ],
           "sequential": [
            [
             0,
             "#0d0887"
            ],
            [
             0.1111111111111111,
             "#46039f"
            ],
            [
             0.2222222222222222,
             "#7201a8"
            ],
            [
             0.3333333333333333,
             "#9c179e"
            ],
            [
             0.4444444444444444,
             "#bd3786"
            ],
            [
             0.5555555555555556,
             "#d8576b"
            ],
            [
             0.6666666666666666,
             "#ed7953"
            ],
            [
             0.7777777777777778,
             "#fb9f3a"
            ],
            [
             0.8888888888888888,
             "#fdca26"
            ],
            [
             1,
             "#f0f921"
            ]
           ],
           "sequentialminus": [
            [
             0,
             "#0d0887"
            ],
            [
             0.1111111111111111,
             "#46039f"
            ],
            [
             0.2222222222222222,
             "#7201a8"
            ],
            [
             0.3333333333333333,
             "#9c179e"
            ],
            [
             0.4444444444444444,
             "#bd3786"
            ],
            [
             0.5555555555555556,
             "#d8576b"
            ],
            [
             0.6666666666666666,
             "#ed7953"
            ],
            [
             0.7777777777777778,
             "#fb9f3a"
            ],
            [
             0.8888888888888888,
             "#fdca26"
            ],
            [
             1,
             "#f0f921"
            ]
           ]
          },
          "colorway": [
           "#636efa",
           "#EF553B",
           "#00cc96",
           "#ab63fa",
           "#FFA15A",
           "#19d3f3",
           "#FF6692",
           "#B6E880",
           "#FF97FF",
           "#FECB52"
          ],
          "font": {
           "color": "#2a3f5f"
          },
          "geo": {
           "bgcolor": "white",
           "lakecolor": "white",
           "landcolor": "#E5ECF6",
           "showlakes": true,
           "showland": true,
           "subunitcolor": "white"
          },
          "hoverlabel": {
           "align": "left"
          },
          "hovermode": "closest",
          "mapbox": {
           "style": "light"
          },
          "paper_bgcolor": "white",
          "plot_bgcolor": "#E5ECF6",
          "polar": {
           "angularaxis": {
            "gridcolor": "white",
            "linecolor": "white",
            "ticks": ""
           },
           "bgcolor": "#E5ECF6",
           "radialaxis": {
            "gridcolor": "white",
            "linecolor": "white",
            "ticks": ""
           }
          },
          "scene": {
           "xaxis": {
            "backgroundcolor": "#E5ECF6",
            "gridcolor": "white",
            "gridwidth": 2,
            "linecolor": "white",
            "showbackground": true,
            "ticks": "",
            "zerolinecolor": "white"
           },
           "yaxis": {
            "backgroundcolor": "#E5ECF6",
            "gridcolor": "white",
            "gridwidth": 2,
            "linecolor": "white",
            "showbackground": true,
            "ticks": "",
            "zerolinecolor": "white"
           },
           "zaxis": {
            "backgroundcolor": "#E5ECF6",
            "gridcolor": "white",
            "gridwidth": 2,
            "linecolor": "white",
            "showbackground": true,
            "ticks": "",
            "zerolinecolor": "white"
           }
          },
          "shapedefaults": {
           "line": {
            "color": "#2a3f5f"
           }
          },
          "ternary": {
           "aaxis": {
            "gridcolor": "white",
            "linecolor": "white",
            "ticks": ""
           },
           "baxis": {
            "gridcolor": "white",
            "linecolor": "white",
            "ticks": ""
           },
           "bgcolor": "#E5ECF6",
           "caxis": {
            "gridcolor": "white",
            "linecolor": "white",
            "ticks": ""
           }
          },
          "title": {
           "x": 0.05
          },
          "xaxis": {
           "automargin": true,
           "gridcolor": "white",
           "linecolor": "white",
           "ticks": "",
           "title": {
            "standoff": 15
           },
           "zerolinecolor": "white",
           "zerolinewidth": 2
          },
          "yaxis": {
           "automargin": true,
           "gridcolor": "white",
           "linecolor": "white",
           "ticks": "",
           "title": {
            "standoff": 15
           },
           "zerolinecolor": "white",
           "zerolinewidth": 2
          }
         }
        },
        "width": 850,
        "xaxis": {
         "anchor": "y",
         "domain": [
          0,
          1
         ],
         "title": {
          "text": "epoch"
         }
        },
        "yaxis": {
         "anchor": "x",
         "domain": [
          0,
          1
         ],
         "title": {
          "text": "value"
         }
        }
       }
      },
      "text/html": [
       "<div>                            <div id=\"7a522bbd-fba5-4d8b-96ad-4f76cc61862a\" class=\"plotly-graph-div\" style=\"height:800px; width:850px;\"></div>            <script type=\"text/javascript\">                require([\"plotly\"], function(Plotly) {                    window.PLOTLYENV=window.PLOTLYENV || {};                                    if (document.getElementById(\"7a522bbd-fba5-4d8b-96ad-4f76cc61862a\")) {                    Plotly.newPlot(                        \"7a522bbd-fba5-4d8b-96ad-4f76cc61862a\",                        [{\"customdata\":[[\"FL1:128 FL2:512 DR:0.5 BS:64 LR:0.001\",\"[199, 173]\"],[\"FL1:128 FL2:512 DR:0.5 BS:64 LR:0.001\",\"[199, 173]\"],[\"FL1:128 FL2:512 DR:0.5 BS:64 LR:0.001\",\"[199, 173]\"],[\"FL1:128 FL2:512 DR:0.5 BS:64 LR:0.001\",\"[199, 173]\"],[\"FL1:128 FL2:512 DR:0.5 BS:64 LR:0.001\",\"[199, 173]\"],[\"FL1:128 FL2:512 DR:0.5 BS:64 LR:0.001\",\"[199, 173]\"],[\"FL1:128 FL2:512 DR:0.5 BS:64 LR:0.001\",\"[199, 173]\"],[\"FL1:128 FL2:512 DR:0.5 BS:64 LR:0.001\",\"[199, 173]\"],[\"FL1:128 FL2:512 DR:0.5 BS:64 LR:0.001\",\"[199, 173]\"],[\"FL1:128 FL2:512 DR:0.5 BS:64 LR:0.001\",\"[199, 173]\"],[\"FL1:128 FL2:512 DR:0.5 BS:64 LR:0.001\",\"[199, 173]\"],[\"FL1:128 FL2:512 DR:0.5 BS:64 LR:0.001\",\"[199, 173]\"],[\"FL1:128 FL2:512 DR:0.5 BS:64 LR:0.001\",\"[199, 173]\"],[\"FL1:128 FL2:512 DR:0.5 BS:64 LR:0.001\",\"[199, 173]\"],[\"FL1:128 FL2:512 DR:0.5 BS:64 LR:0.001\",\"[199, 173]\"],[\"FL1:128 FL2:512 DR:0.5 BS:64 LR:0.001\",\"[199, 173]\"],[\"FL1:128 FL2:512 DR:0.5 BS:64 LR:0.001\",\"[199, 173]\"],[\"FL1:128 FL2:512 DR:0.5 BS:64 LR:0.001\",\"[199, 173]\"],[\"FL1:128 FL2:512 DR:0.5 BS:64 LR:0.001\",\"[199, 173]\"],[\"FL1:128 FL2:512 DR:0.5 BS:64 LR:0.001\",\"[199, 173]\"],[\"FL1:128 FL2:512 DR:0.5 BS:64 LR:0.001\",\"[199, 173]\"],[\"FL1:128 FL2:512 DR:0.5 BS:64 LR:0.001\",\"[199, 173]\"],[\"FL1:128 FL2:512 DR:0.5 BS:64 LR:0.001\",\"[199, 173]\"],[\"FL1:128 FL2:512 DR:0.5 BS:64 LR:0.001\",\"[199, 173]\"],[\"FL1:128 FL2:512 DR:0.5 BS:64 LR:0.001\",\"[199, 173]\"],[\"FL1:128 FL2:512 DR:0.5 BS:64 LR:0.001\",\"[199, 173]\"],[\"FL1:128 FL2:512 DR:0.5 BS:64 LR:0.001\",\"[199, 173]\"],[\"FL1:128 FL2:512 DR:0.5 BS:64 LR:0.001\",\"[199, 173]\"],[\"FL1:128 FL2:512 DR:0.5 BS:64 LR:0.001\",\"[199, 173]\"],[\"FL1:128 FL2:512 DR:0.5 BS:64 LR:0.001\",\"[199, 173]\"],[\"FL1:128 FL2:512 DR:0.5 BS:64 LR:0.001\",\"[199, 173]\"],[\"FL1:128 FL2:512 DR:0.5 BS:64 LR:0.001\",\"[199, 173]\"],[\"FL1:128 FL2:512 DR:0.5 BS:64 LR:0.001\",\"[199, 173]\"],[\"FL1:128 FL2:512 DR:0.5 BS:64 LR:0.001\",\"[199, 173]\"],[\"FL1:128 FL2:512 DR:0.5 BS:64 LR:0.001\",\"[199, 173]\"],[\"FL1:128 FL2:512 DR:0.5 BS:64 LR:0.001\",\"[199, 173]\"],[\"FL1:128 FL2:512 DR:0.5 BS:64 LR:0.001\",\"[199, 173]\"],[\"FL1:128 FL2:512 DR:0.5 BS:64 LR:0.001\",\"[199, 173]\"],[\"FL1:128 FL2:512 DR:0.5 BS:64 LR:0.001\",\"[199, 173]\"],[\"FL1:128 FL2:512 DR:0.5 BS:64 LR:0.001\",\"[199, 173]\"],[\"FL1:128 FL2:512 DR:0.5 BS:64 LR:0.001\",\"[199, 173]\"],[\"FL1:128 FL2:512 DR:0.5 BS:64 LR:0.001\",\"[199, 173]\"],[\"FL1:128 FL2:512 DR:0.5 BS:64 LR:0.001\",\"[199, 173]\"],[\"FL1:128 FL2:512 DR:0.5 BS:64 LR:0.001\",\"[199, 173]\"],[\"FL1:128 FL2:512 DR:0.5 BS:64 LR:0.001\",\"[199, 173]\"],[\"FL1:128 FL2:512 DR:0.5 BS:64 LR:0.001\",\"[199, 173]\"],[\"FL1:128 FL2:512 DR:0.5 BS:64 LR:0.001\",\"[199, 173]\"],[\"FL1:128 FL2:512 DR:0.5 BS:64 LR:0.001\",\"[199, 173]\"],[\"FL1:128 FL2:512 DR:0.5 BS:64 LR:0.001\",\"[199, 173]\"],[\"FL1:128 FL2:512 DR:0.5 BS:64 LR:0.001\",\"[199, 173]\"],[\"FL1:128 FL2:512 DR:0.5 BS:64 LR:0.001\",\"[199, 173]\"],[\"FL1:128 FL2:512 DR:0.5 BS:64 LR:0.001\",\"[199, 173]\"],[\"FL1:128 FL2:512 DR:0.5 BS:64 LR:0.001\",\"[199, 173]\"],[\"FL1:128 FL2:512 DR:0.5 BS:64 LR:0.001\",\"[199, 173]\"],[\"FL1:128 FL2:512 DR:0.5 BS:64 LR:0.001\",\"[199, 173]\"],[\"FL1:128 FL2:512 DR:0.5 BS:64 LR:0.001\",\"[199, 173]\"],[\"FL1:128 FL2:512 DR:0.5 BS:64 LR:0.001\",\"[199, 173]\"],[\"FL1:128 FL2:512 DR:0.5 BS:64 LR:0.001\",\"[199, 173]\"],[\"FL1:128 FL2:512 DR:0.5 BS:64 LR:0.001\",\"[199, 173]\"],[\"FL1:128 FL2:512 DR:0.5 BS:64 LR:0.001\",\"[199, 173]\"],[\"FL1:128 FL2:512 DR:0.5 BS:64 LR:0.001\",\"[199, 173]\"],[\"FL1:128 FL2:512 DR:0.5 BS:64 LR:0.001\",\"[199, 173]\"],[\"FL1:128 FL2:512 DR:0.5 BS:64 LR:0.001\",\"[199, 173]\"],[\"FL1:128 FL2:512 DR:0.5 BS:64 LR:0.001\",\"[199, 173]\"],[\"FL1:128 FL2:512 DR:0.5 BS:64 LR:0.001\",\"[199, 173]\"],[\"FL1:128 FL2:512 DR:0.5 BS:64 LR:0.001\",\"[199, 173]\"],[\"FL1:128 FL2:512 DR:0.5 BS:64 LR:0.001\",\"[199, 173]\"],[\"FL1:128 FL2:512 DR:0.5 BS:64 LR:0.001\",\"[199, 173]\"],[\"FL1:128 FL2:512 DR:0.5 BS:64 LR:0.001\",\"[199, 173]\"],[\"FL1:128 FL2:512 DR:0.5 BS:64 LR:0.001\",\"[199, 173]\"],[\"FL1:128 FL2:512 DR:0.5 BS:64 LR:0.001\",\"[199, 173]\"],[\"FL1:128 FL2:512 DR:0.5 BS:64 LR:0.001\",\"[199, 173]\"],[\"FL1:128 FL2:512 DR:0.5 BS:64 LR:0.001\",\"[199, 173]\"],[\"FL1:128 FL2:512 DR:0.5 BS:64 LR:0.001\",\"[199, 173]\"],[\"FL1:128 FL2:512 DR:0.5 BS:64 LR:0.001\",\"[199, 173]\"],[\"FL1:128 FL2:512 DR:0.5 BS:64 LR:0.001\",\"[199, 173]\"],[\"FL1:128 FL2:512 DR:0.5 BS:64 LR:0.001\",\"[199, 173]\"],[\"FL1:128 FL2:512 DR:0.5 BS:64 LR:0.001\",\"[199, 173]\"],[\"FL1:128 FL2:512 DR:0.5 BS:64 LR:0.001\",\"[199, 173]\"],[\"FL1:128 FL2:512 DR:0.5 BS:64 LR:0.001\",\"[199, 173]\"],[\"FL1:128 FL2:512 DR:0.5 BS:64 LR:0.001\",\"[199, 173]\"],[\"FL1:128 FL2:512 DR:0.5 BS:64 LR:0.001\",\"[199, 173]\"],[\"FL1:128 FL2:512 DR:0.5 BS:64 LR:0.001\",\"[199, 173]\"],[\"FL1:128 FL2:512 DR:0.5 BS:64 LR:0.001\",\"[199, 173]\"],[\"FL1:128 FL2:512 DR:0.5 BS:64 LR:0.001\",\"[199, 173]\"],[\"FL1:128 FL2:512 DR:0.5 BS:64 LR:0.001\",\"[199, 173]\"],[\"FL1:128 FL2:512 DR:0.5 BS:64 LR:0.001\",\"[199, 173]\"],[\"FL1:128 FL2:512 DR:0.5 BS:64 LR:0.001\",\"[199, 173]\"],[\"FL1:128 FL2:512 DR:0.5 BS:64 LR:0.001\",\"[199, 173]\"],[\"FL1:128 FL2:512 DR:0.5 BS:64 LR:0.001\",\"[199, 173]\"],[\"FL1:128 FL2:512 DR:0.5 BS:64 LR:0.001\",\"[199, 173]\"],[\"FL1:128 FL2:512 DR:0.5 BS:64 LR:0.001\",\"[199, 173]\"],[\"FL1:128 FL2:512 DR:0.5 BS:64 LR:0.001\",\"[199, 173]\"],[\"FL1:128 FL2:512 DR:0.5 BS:64 LR:0.001\",\"[199, 173]\"],[\"FL1:128 FL2:512 DR:0.5 BS:64 LR:0.001\",\"[199, 173]\"],[\"FL1:128 FL2:512 DR:0.5 BS:64 LR:0.001\",\"[199, 173]\"],[\"FL1:128 FL2:512 DR:0.5 BS:64 LR:0.001\",\"[199, 173]\"],[\"FL1:128 FL2:512 DR:0.5 BS:64 LR:0.001\",\"[199, 173]\"],[\"FL1:128 FL2:512 DR:0.5 BS:64 LR:0.001\",\"[199, 173]\"],[\"FL1:128 FL2:512 DR:0.5 BS:64 LR:0.001\",\"[199, 173]\"],[\"FL1:128 FL2:512 DR:0.5 BS:64 LR:0.001\",\"[199, 173]\"],[\"FL1:128 FL2:512 DR:0.5 BS:64 LR:0.001\",\"[199, 173]\"],[\"FL1:128 FL2:512 DR:0.5 BS:64 LR:0.001\",\"[199, 173]\"],[\"FL1:128 FL2:512 DR:0.5 BS:64 LR:0.001\",\"[199, 173]\"],[\"FL1:128 FL2:512 DR:0.5 BS:64 LR:0.001\",\"[199, 173]\"],[\"FL1:128 FL2:512 DR:0.5 BS:64 LR:0.001\",\"[199, 173]\"],[\"FL1:128 FL2:512 DR:0.5 BS:64 LR:0.001\",\"[199, 173]\"],[\"FL1:128 FL2:512 DR:0.5 BS:64 LR:0.001\",\"[199, 173]\"],[\"FL1:128 FL2:512 DR:0.5 BS:64 LR:0.001\",\"[199, 173]\"],[\"FL1:128 FL2:512 DR:0.5 BS:64 LR:0.001\",\"[199, 173]\"],[\"FL1:128 FL2:512 DR:0.5 BS:64 LR:0.001\",\"[199, 173]\"],[\"FL1:128 FL2:512 DR:0.5 BS:64 LR:0.001\",\"[199, 173]\"],[\"FL1:128 FL2:512 DR:0.5 BS:64 LR:0.001\",\"[199, 173]\"],[\"FL1:128 FL2:512 DR:0.5 BS:64 LR:0.001\",\"[199, 173]\"],[\"FL1:128 FL2:512 DR:0.5 BS:64 LR:0.001\",\"[199, 173]\"],[\"FL1:128 FL2:512 DR:0.5 BS:64 LR:0.001\",\"[199, 173]\"],[\"FL1:128 FL2:512 DR:0.5 BS:64 LR:0.001\",\"[199, 173]\"],[\"FL1:128 FL2:512 DR:0.5 BS:64 LR:0.001\",\"[199, 173]\"],[\"FL1:128 FL2:512 DR:0.5 BS:64 LR:0.001\",\"[199, 173]\"],[\"FL1:128 FL2:512 DR:0.5 BS:64 LR:0.001\",\"[199, 173]\"],[\"FL1:128 FL2:512 DR:0.5 BS:64 LR:0.001\",\"[199, 173]\"],[\"FL1:128 FL2:512 DR:0.5 BS:64 LR:0.001\",\"[199, 173]\"],[\"FL1:128 FL2:512 DR:0.5 BS:64 LR:0.001\",\"[199, 173]\"],[\"FL1:128 FL2:512 DR:0.5 BS:64 LR:0.001\",\"[199, 173]\"],[\"FL1:128 FL2:512 DR:0.5 BS:64 LR:0.001\",\"[199, 173]\"],[\"FL1:128 FL2:512 DR:0.5 BS:64 LR:0.001\",\"[199, 173]\"],[\"FL1:128 FL2:512 DR:0.5 BS:64 LR:0.001\",\"[199, 173]\"],[\"FL1:128 FL2:512 DR:0.5 BS:64 LR:0.001\",\"[199, 173]\"],[\"FL1:128 FL2:512 DR:0.5 BS:64 LR:0.001\",\"[199, 173]\"],[\"FL1:128 FL2:512 DR:0.5 BS:64 LR:0.001\",\"[199, 173]\"],[\"FL1:128 FL2:512 DR:0.5 BS:64 LR:0.001\",\"[199, 173]\"],[\"FL1:128 FL2:512 DR:0.5 BS:64 LR:0.001\",\"[199, 173]\"],[\"FL1:128 FL2:512 DR:0.5 BS:64 LR:0.001\",\"[199, 173]\"],[\"FL1:128 FL2:512 DR:0.5 BS:64 LR:0.001\",\"[199, 173]\"],[\"FL1:128 FL2:512 DR:0.5 BS:64 LR:0.001\",\"[199, 173]\"],[\"FL1:128 FL2:512 DR:0.5 BS:64 LR:0.001\",\"[199, 173]\"],[\"FL1:128 FL2:512 DR:0.5 BS:64 LR:0.001\",\"[199, 173]\"],[\"FL1:128 FL2:512 DR:0.5 BS:64 LR:0.001\",\"[199, 173]\"],[\"FL1:128 FL2:512 DR:0.5 BS:64 LR:0.001\",\"[199, 173]\"],[\"FL1:128 FL2:512 DR:0.5 BS:64 LR:0.001\",\"[199, 173]\"],[\"FL1:128 FL2:512 DR:0.5 BS:64 LR:0.001\",\"[199, 173]\"],[\"FL1:128 FL2:512 DR:0.5 BS:64 LR:0.001\",\"[199, 173]\"],[\"FL1:128 FL2:512 DR:0.5 BS:64 LR:0.001\",\"[199, 173]\"],[\"FL1:128 FL2:512 DR:0.5 BS:64 LR:0.001\",\"[199, 173]\"],[\"FL1:128 FL2:512 DR:0.5 BS:64 LR:0.001\",\"[199, 173]\"],[\"FL1:128 FL2:512 DR:0.5 BS:64 LR:0.001\",\"[199, 173]\"],[\"FL1:128 FL2:512 DR:0.5 BS:64 LR:0.001\",\"[199, 173]\"],[\"FL1:128 FL2:512 DR:0.5 BS:64 LR:0.001\",\"[199, 173]\"],[\"FL1:128 FL2:512 DR:0.5 BS:64 LR:0.001\",\"[199, 173]\"],[\"FL1:128 FL2:512 DR:0.5 BS:64 LR:0.001\",\"[199, 173]\"],[\"FL1:128 FL2:512 DR:0.5 BS:64 LR:0.001\",\"[199, 173]\"],[\"FL1:128 FL2:512 DR:0.5 BS:64 LR:0.001\",\"[199, 173]\"],[\"FL1:128 FL2:512 DR:0.5 BS:64 LR:0.001\",\"[199, 173]\"],[\"FL1:128 FL2:512 DR:0.5 BS:64 LR:0.001\",\"[199, 173]\"],[\"FL1:128 FL2:512 DR:0.5 BS:64 LR:0.001\",\"[199, 173]\"],[\"FL1:128 FL2:512 DR:0.5 BS:64 LR:0.001\",\"[199, 173]\"],[\"FL1:128 FL2:512 DR:0.5 BS:64 LR:0.001\",\"[199, 173]\"],[\"FL1:128 FL2:512 DR:0.5 BS:64 LR:0.001\",\"[199, 173]\"],[\"FL1:128 FL2:512 DR:0.5 BS:64 LR:0.001\",\"[199, 173]\"],[\"FL1:128 FL2:512 DR:0.5 BS:64 LR:0.001\",\"[199, 173]\"],[\"FL1:128 FL2:512 DR:0.5 BS:64 LR:0.001\",\"[199, 173]\"],[\"FL1:128 FL2:512 DR:0.5 BS:64 LR:0.001\",\"[199, 173]\"],[\"FL1:128 FL2:512 DR:0.5 BS:64 LR:0.001\",\"[199, 173]\"],[\"FL1:128 FL2:512 DR:0.5 BS:64 LR:0.001\",\"[199, 173]\"],[\"FL1:128 FL2:512 DR:0.5 BS:64 LR:0.001\",\"[199, 173]\"],[\"FL1:128 FL2:512 DR:0.5 BS:64 LR:0.001\",\"[199, 173]\"],[\"FL1:128 FL2:512 DR:0.5 BS:64 LR:0.001\",\"[199, 173]\"],[\"FL1:128 FL2:512 DR:0.5 BS:64 LR:0.001\",\"[199, 173]\"],[\"FL1:128 FL2:512 DR:0.5 BS:64 LR:0.001\",\"[199, 173]\"],[\"FL1:128 FL2:512 DR:0.5 BS:64 LR:0.001\",\"[199, 173]\"],[\"FL1:128 FL2:512 DR:0.5 BS:64 LR:0.001\",\"[199, 173]\"],[\"FL1:128 FL2:512 DR:0.5 BS:64 LR:0.001\",\"[199, 173]\"],[\"FL1:128 FL2:512 DR:0.5 BS:64 LR:0.001\",\"[199, 173]\"],[\"FL1:128 FL2:512 DR:0.5 BS:64 LR:0.001\",\"[199, 173]\"],[\"FL1:128 FL2:512 DR:0.5 BS:64 LR:0.001\",\"[199, 173]\"],[\"FL1:128 FL2:512 DR:0.5 BS:64 LR:0.001\",\"[199, 173]\"],[\"FL1:128 FL2:512 DR:0.5 BS:64 LR:0.001\",\"[199, 173]\"],[\"FL1:128 FL2:512 DR:0.5 BS:64 LR:0.001\",\"[199, 173]\"],[\"FL1:128 FL2:512 DR:0.5 BS:64 LR:0.001\",\"[199, 173]\"],[\"FL1:128 FL2:512 DR:0.5 BS:64 LR:0.001\",\"[199, 173]\"],[\"FL1:128 FL2:512 DR:0.5 BS:64 LR:0.001\",\"[199, 173]\"],[\"FL1:128 FL2:512 DR:0.5 BS:64 LR:0.001\",\"[199, 173]\"],[\"FL1:128 FL2:512 DR:0.5 BS:64 LR:0.001\",\"[199, 173]\"],[\"FL1:128 FL2:512 DR:0.5 BS:64 LR:0.001\",\"[199, 173]\"],[\"FL1:128 FL2:512 DR:0.5 BS:64 LR:0.001\",\"[199, 173]\"],[\"FL1:128 FL2:512 DR:0.5 BS:64 LR:0.001\",\"[199, 173]\"],[\"FL1:128 FL2:512 DR:0.5 BS:64 LR:0.001\",\"[199, 173]\"],[\"FL1:128 FL2:512 DR:0.5 BS:64 LR:0.001\",\"[199, 173]\"],[\"FL1:128 FL2:512 DR:0.5 BS:64 LR:0.001\",\"[199, 173]\"],[\"FL1:128 FL2:512 DR:0.5 BS:64 LR:0.001\",\"[199, 173]\"],[\"FL1:128 FL2:512 DR:0.5 BS:64 LR:0.001\",\"[199, 173]\"],[\"FL1:128 FL2:512 DR:0.5 BS:64 LR:0.001\",\"[199, 173]\"],[\"FL1:128 FL2:512 DR:0.5 BS:64 LR:0.001\",\"[199, 173]\"],[\"FL1:128 FL2:512 DR:0.5 BS:64 LR:0.001\",\"[199, 173]\"],[\"FL1:128 FL2:512 DR:0.5 BS:64 LR:0.001\",\"[199, 173]\"],[\"FL1:128 FL2:512 DR:0.5 BS:64 LR:0.001\",\"[199, 173]\"],[\"FL1:128 FL2:512 DR:0.5 BS:64 LR:0.001\",\"[199, 173]\"],[\"FL1:128 FL2:512 DR:0.5 BS:64 LR:0.001\",\"[199, 173]\"],[\"FL1:128 FL2:512 DR:0.5 BS:64 LR:0.001\",\"[199, 173]\"],[\"FL1:128 FL2:512 DR:0.5 BS:64 LR:0.001\",\"[199, 173]\"]],\"hovertemplate\":\"variable=val_loss\\u003cbr\\u003etrial_id=802fd_00008\\u003cbr\\u003eepoch=%{x}\\u003cbr\\u003evalue=%{y}\\u003cbr\\u003eHyperparameters=%{customdata[0]}\\u003cbr\\u003echeckpoints=%{customdata[1]}\\u003cextra\\u003e\\u003c\\u002fextra\\u003e\",\"legendgroup\":\"val_loss, 802fd_00008\",\"line\":{\"color\":\"#636efa\",\"dash\":\"solid\"},\"marker\":{\"symbol\":\"circle\"},\"mode\":\"lines\",\"name\":\"val_loss, 802fd_00008\",\"showlegend\":true,\"x\":[0,1,2,3,4,5,6,7,8,9,10,11,12,13,14,15,16,17,18,19,20,21,22,23,24,25,26,27,28,29,30,31,32,33,34,35,36,37,38,39,40,41,42,43,44,45,46,47,48,49,50,51,52,53,54,55,56,57,58,59,60,61,62,63,64,65,66,67,68,69,70,71,72,73,74,75,76,77,78,79,80,81,82,83,84,85,86,87,88,89,90,91,92,93,94,95,96,97,98,99,100,101,102,103,104,105,106,107,108,109,110,111,112,113,114,115,116,117,118,119,120,121,122,123,124,125,126,127,128,129,130,131,132,133,134,135,136,137,138,139,140,141,142,143,144,145,146,147,148,149,150,151,152,153,154,155,156,157,158,159,160,161,162,163,164,165,166,167,168,169,170,171,172,173,174,175,176,177,178,179,180,181,182,183,184,185,186,187,188,189,190,191,192,193,194,195,196,197,198,199],\"xaxis\":\"x\",\"y\":[0.5908713340759264,0.5224485894044222,0.46032047602865234,0.42221772891503573,0.39077591049818117,0.37398674519954656,0.3532654208083843,0.3425132640295481,0.33616627309674973,0.3252721200648603,0.32297404079064035,0.3481060264403566,0.325960506856106,0.3240553172824523,0.3248678169248985,0.31629060848543883,0.3219223661157139,0.3262776264172551,0.3235632266350419,0.33655818871311466,0.33012258722816573,0.3430647533101144,0.33966225259584126,0.3415871552168119,0.34704304678829345,0.34710503249427815,0.36084120888882876,0.3619673611016662,0.35418972778926816,0.3725547718247465,0.36884796137549347,0.35431356903538275,0.36102455971390035,0.3700488118181619,0.3623173076477303,0.36942315025903383,0.38505124001885416,0.4113497664477083,0.37854556772083986,0.3778535030482266,0.3754830394981994,0.3477405630746605,0.3625448063478939,0.3735110670636799,0.3691365560101596,0.37731272910748015,0.3783585292413099,0.3873245922932525,0.3930911460326436,0.42003746091036703,0.4058056060387596,0.40454364047539826,0.4085447505188813,0.40041032533333143,0.3897525674799105,0.4114780430461966,0.3993086122450557,0.4018092885929553,0.40280799967171044,0.4189635839867666,0.3964589355262162,0.42613809094641103,0.42058745215875143,0.437594663371921,0.4244811112816327,0.42931311495669533,0.46212535545274713,0.4420657121144729,0.4470171407198231,0.4570139696422752,0.4872238073232119,0.5084727229994089,0.49682826613860215,0.4981113130216911,0.5105130509777266,0.502383181535097,0.4985164066704712,0.47345830735581357,0.45419520296664434,0.4757513414357186,0.4926131772024142,0.5046093932140329,0.49744707487347667,0.5018703748274033,0.4692584845415863,0.4701506576930216,0.4651338413023098,0.47229181426519323,0.48856388660109024,0.4763996543608496,0.47822002186526,0.4579628945334024,0.49739133920558587,0.49928815898821177,0.5094551956489697,0.5364834411829706,0.4976064691205807,0.4967077559404883,0.4792452776546807,0.4711398796316991,0.4809328725653882,0.47124751148740307,0.4899604038272941,0.5200742096288087,0.5187655628113657,0.5279440840342767,0.5012932592139715,0.5411575750182769,0.5444316874391955,0.5348257429366047,0.5598178709192219,0.5647043919989215,0.5195138577904126,0.5052527370907071,0.5050604265833685,0.5137142288621777,0.4948761594253445,0.49831552187321226,0.4963321346688102,0.5143467160494998,0.5146131695927418,0.5019563457450085,0.5186042998287939,0.5354841890635651,0.5368845226170316,0.5741417448919132,0.555541935311496,0.5535872994176134,0.5495259641482808,0.6209478298077551,0.6270974622335397,0.6226502091464957,0.6012765785573284,0.5828547888675226,0.5703804568236983,0.5796240618352025,0.5996658835493132,0.6133931698853826,0.6176043631272204,0.613596809018762,0.6223188122836145,0.6241435462055849,0.6311370964724636,0.6315741695217817,0.6580506468648714,0.6848266260382185,0.6568623275595658,0.616450812487982,0.5972746584608689,0.6215625586638523,0.6299348991797799,0.6233552046409191,0.599464035550152,0.6115206721884625,0.5703031482605537,0.5822923820752818,0.6354180800609386,0.6460767539138643,0.6256247064666632,0.6224128141136078,0.6308013289591394,0.6407790044559837,0.6538166112114175,0.6518875563415661,0.6834966675621104,0.6743036598749829,0.6985977352187267,0.7340081970244778,0.7090215908388369,0.6710275760557951,0.6699998810070539,0.6842194884470939,0.6828112860157634,0.6689652177780551,0.6998679620086917,0.6794848231514128,0.704761252670805,0.6651509906645074,0.6648552156683757,0.6742715065477244,0.6497233393985649,0.6739522340031859,0.6926862280986289,0.6868125784014036,0.637848952585747,0.6144488117259662,0.6830952539153822,0.7139558245147533,0.7074609431561657,0.7081701578654716,0.7293701053962338,0.7506628156572712,0.7569771489083837,0.7408662491758695,0.7529620762480632,0.7278809107550854,0.7872643177515164,0.7834839824044616,0.6921427450712451,0.6927985682842404],\"yaxis\":\"y\",\"type\":\"scattergl\"},{\"customdata\":[[\"FL1:256 FL2:16 DR:0.5 BS:32 LR:0.0001\",\"[113, 199]\"],[\"FL1:256 FL2:16 DR:0.5 BS:32 LR:0.0001\",\"[113, 199]\"],[\"FL1:256 FL2:16 DR:0.5 BS:32 LR:0.0001\",\"[113, 199]\"],[\"FL1:256 FL2:16 DR:0.5 BS:32 LR:0.0001\",\"[113, 199]\"],[\"FL1:256 FL2:16 DR:0.5 BS:32 LR:0.0001\",\"[113, 199]\"],[\"FL1:256 FL2:16 DR:0.5 BS:32 LR:0.0001\",\"[113, 199]\"],[\"FL1:256 FL2:16 DR:0.5 BS:32 LR:0.0001\",\"[113, 199]\"],[\"FL1:256 FL2:16 DR:0.5 BS:32 LR:0.0001\",\"[113, 199]\"],[\"FL1:256 FL2:16 DR:0.5 BS:32 LR:0.0001\",\"[113, 199]\"],[\"FL1:256 FL2:16 DR:0.5 BS:32 LR:0.0001\",\"[113, 199]\"],[\"FL1:256 FL2:16 DR:0.5 BS:32 LR:0.0001\",\"[113, 199]\"],[\"FL1:256 FL2:16 DR:0.5 BS:32 LR:0.0001\",\"[113, 199]\"],[\"FL1:256 FL2:16 DR:0.5 BS:32 LR:0.0001\",\"[113, 199]\"],[\"FL1:256 FL2:16 DR:0.5 BS:32 LR:0.0001\",\"[113, 199]\"],[\"FL1:256 FL2:16 DR:0.5 BS:32 LR:0.0001\",\"[113, 199]\"],[\"FL1:256 FL2:16 DR:0.5 BS:32 LR:0.0001\",\"[113, 199]\"],[\"FL1:256 FL2:16 DR:0.5 BS:32 LR:0.0001\",\"[113, 199]\"],[\"FL1:256 FL2:16 DR:0.5 BS:32 LR:0.0001\",\"[113, 199]\"],[\"FL1:256 FL2:16 DR:0.5 BS:32 LR:0.0001\",\"[113, 199]\"],[\"FL1:256 FL2:16 DR:0.5 BS:32 LR:0.0001\",\"[113, 199]\"],[\"FL1:256 FL2:16 DR:0.5 BS:32 LR:0.0001\",\"[113, 199]\"],[\"FL1:256 FL2:16 DR:0.5 BS:32 LR:0.0001\",\"[113, 199]\"],[\"FL1:256 FL2:16 DR:0.5 BS:32 LR:0.0001\",\"[113, 199]\"],[\"FL1:256 FL2:16 DR:0.5 BS:32 LR:0.0001\",\"[113, 199]\"],[\"FL1:256 FL2:16 DR:0.5 BS:32 LR:0.0001\",\"[113, 199]\"],[\"FL1:256 FL2:16 DR:0.5 BS:32 LR:0.0001\",\"[113, 199]\"],[\"FL1:256 FL2:16 DR:0.5 BS:32 LR:0.0001\",\"[113, 199]\"],[\"FL1:256 FL2:16 DR:0.5 BS:32 LR:0.0001\",\"[113, 199]\"],[\"FL1:256 FL2:16 DR:0.5 BS:32 LR:0.0001\",\"[113, 199]\"],[\"FL1:256 FL2:16 DR:0.5 BS:32 LR:0.0001\",\"[113, 199]\"],[\"FL1:256 FL2:16 DR:0.5 BS:32 LR:0.0001\",\"[113, 199]\"],[\"FL1:256 FL2:16 DR:0.5 BS:32 LR:0.0001\",\"[113, 199]\"],[\"FL1:256 FL2:16 DR:0.5 BS:32 LR:0.0001\",\"[113, 199]\"],[\"FL1:256 FL2:16 DR:0.5 BS:32 LR:0.0001\",\"[113, 199]\"],[\"FL1:256 FL2:16 DR:0.5 BS:32 LR:0.0001\",\"[113, 199]\"],[\"FL1:256 FL2:16 DR:0.5 BS:32 LR:0.0001\",\"[113, 199]\"],[\"FL1:256 FL2:16 DR:0.5 BS:32 LR:0.0001\",\"[113, 199]\"],[\"FL1:256 FL2:16 DR:0.5 BS:32 LR:0.0001\",\"[113, 199]\"],[\"FL1:256 FL2:16 DR:0.5 BS:32 LR:0.0001\",\"[113, 199]\"],[\"FL1:256 FL2:16 DR:0.5 BS:32 LR:0.0001\",\"[113, 199]\"],[\"FL1:256 FL2:16 DR:0.5 BS:32 LR:0.0001\",\"[113, 199]\"],[\"FL1:256 FL2:16 DR:0.5 BS:32 LR:0.0001\",\"[113, 199]\"],[\"FL1:256 FL2:16 DR:0.5 BS:32 LR:0.0001\",\"[113, 199]\"],[\"FL1:256 FL2:16 DR:0.5 BS:32 LR:0.0001\",\"[113, 199]\"],[\"FL1:256 FL2:16 DR:0.5 BS:32 LR:0.0001\",\"[113, 199]\"],[\"FL1:256 FL2:16 DR:0.5 BS:32 LR:0.0001\",\"[113, 199]\"],[\"FL1:256 FL2:16 DR:0.5 BS:32 LR:0.0001\",\"[113, 199]\"],[\"FL1:256 FL2:16 DR:0.5 BS:32 LR:0.0001\",\"[113, 199]\"],[\"FL1:256 FL2:16 DR:0.5 BS:32 LR:0.0001\",\"[113, 199]\"],[\"FL1:256 FL2:16 DR:0.5 BS:32 LR:0.0001\",\"[113, 199]\"],[\"FL1:256 FL2:16 DR:0.5 BS:32 LR:0.0001\",\"[113, 199]\"],[\"FL1:256 FL2:16 DR:0.5 BS:32 LR:0.0001\",\"[113, 199]\"],[\"FL1:256 FL2:16 DR:0.5 BS:32 LR:0.0001\",\"[113, 199]\"],[\"FL1:256 FL2:16 DR:0.5 BS:32 LR:0.0001\",\"[113, 199]\"],[\"FL1:256 FL2:16 DR:0.5 BS:32 LR:0.0001\",\"[113, 199]\"],[\"FL1:256 FL2:16 DR:0.5 BS:32 LR:0.0001\",\"[113, 199]\"],[\"FL1:256 FL2:16 DR:0.5 BS:32 LR:0.0001\",\"[113, 199]\"],[\"FL1:256 FL2:16 DR:0.5 BS:32 LR:0.0001\",\"[113, 199]\"],[\"FL1:256 FL2:16 DR:0.5 BS:32 LR:0.0001\",\"[113, 199]\"],[\"FL1:256 FL2:16 DR:0.5 BS:32 LR:0.0001\",\"[113, 199]\"],[\"FL1:256 FL2:16 DR:0.5 BS:32 LR:0.0001\",\"[113, 199]\"],[\"FL1:256 FL2:16 DR:0.5 BS:32 LR:0.0001\",\"[113, 199]\"],[\"FL1:256 FL2:16 DR:0.5 BS:32 LR:0.0001\",\"[113, 199]\"],[\"FL1:256 FL2:16 DR:0.5 BS:32 LR:0.0001\",\"[113, 199]\"],[\"FL1:256 FL2:16 DR:0.5 BS:32 LR:0.0001\",\"[113, 199]\"],[\"FL1:256 FL2:16 DR:0.5 BS:32 LR:0.0001\",\"[113, 199]\"],[\"FL1:256 FL2:16 DR:0.5 BS:32 LR:0.0001\",\"[113, 199]\"],[\"FL1:256 FL2:16 DR:0.5 BS:32 LR:0.0001\",\"[113, 199]\"],[\"FL1:256 FL2:16 DR:0.5 BS:32 LR:0.0001\",\"[113, 199]\"],[\"FL1:256 FL2:16 DR:0.5 BS:32 LR:0.0001\",\"[113, 199]\"],[\"FL1:256 FL2:16 DR:0.5 BS:32 LR:0.0001\",\"[113, 199]\"],[\"FL1:256 FL2:16 DR:0.5 BS:32 LR:0.0001\",\"[113, 199]\"],[\"FL1:256 FL2:16 DR:0.5 BS:32 LR:0.0001\",\"[113, 199]\"],[\"FL1:256 FL2:16 DR:0.5 BS:32 LR:0.0001\",\"[113, 199]\"],[\"FL1:256 FL2:16 DR:0.5 BS:32 LR:0.0001\",\"[113, 199]\"],[\"FL1:256 FL2:16 DR:0.5 BS:32 LR:0.0001\",\"[113, 199]\"],[\"FL1:256 FL2:16 DR:0.5 BS:32 LR:0.0001\",\"[113, 199]\"],[\"FL1:256 FL2:16 DR:0.5 BS:32 LR:0.0001\",\"[113, 199]\"],[\"FL1:256 FL2:16 DR:0.5 BS:32 LR:0.0001\",\"[113, 199]\"],[\"FL1:256 FL2:16 DR:0.5 BS:32 LR:0.0001\",\"[113, 199]\"],[\"FL1:256 FL2:16 DR:0.5 BS:32 LR:0.0001\",\"[113, 199]\"],[\"FL1:256 FL2:16 DR:0.5 BS:32 LR:0.0001\",\"[113, 199]\"],[\"FL1:256 FL2:16 DR:0.5 BS:32 LR:0.0001\",\"[113, 199]\"],[\"FL1:256 FL2:16 DR:0.5 BS:32 LR:0.0001\",\"[113, 199]\"],[\"FL1:256 FL2:16 DR:0.5 BS:32 LR:0.0001\",\"[113, 199]\"],[\"FL1:256 FL2:16 DR:0.5 BS:32 LR:0.0001\",\"[113, 199]\"],[\"FL1:256 FL2:16 DR:0.5 BS:32 LR:0.0001\",\"[113, 199]\"],[\"FL1:256 FL2:16 DR:0.5 BS:32 LR:0.0001\",\"[113, 199]\"],[\"FL1:256 FL2:16 DR:0.5 BS:32 LR:0.0001\",\"[113, 199]\"],[\"FL1:256 FL2:16 DR:0.5 BS:32 LR:0.0001\",\"[113, 199]\"],[\"FL1:256 FL2:16 DR:0.5 BS:32 LR:0.0001\",\"[113, 199]\"],[\"FL1:256 FL2:16 DR:0.5 BS:32 LR:0.0001\",\"[113, 199]\"],[\"FL1:256 FL2:16 DR:0.5 BS:32 LR:0.0001\",\"[113, 199]\"],[\"FL1:256 FL2:16 DR:0.5 BS:32 LR:0.0001\",\"[113, 199]\"],[\"FL1:256 FL2:16 DR:0.5 BS:32 LR:0.0001\",\"[113, 199]\"],[\"FL1:256 FL2:16 DR:0.5 BS:32 LR:0.0001\",\"[113, 199]\"],[\"FL1:256 FL2:16 DR:0.5 BS:32 LR:0.0001\",\"[113, 199]\"],[\"FL1:256 FL2:16 DR:0.5 BS:32 LR:0.0001\",\"[113, 199]\"],[\"FL1:256 FL2:16 DR:0.5 BS:32 LR:0.0001\",\"[113, 199]\"],[\"FL1:256 FL2:16 DR:0.5 BS:32 LR:0.0001\",\"[113, 199]\"],[\"FL1:256 FL2:16 DR:0.5 BS:32 LR:0.0001\",\"[113, 199]\"],[\"FL1:256 FL2:16 DR:0.5 BS:32 LR:0.0001\",\"[113, 199]\"],[\"FL1:256 FL2:16 DR:0.5 BS:32 LR:0.0001\",\"[113, 199]\"],[\"FL1:256 FL2:16 DR:0.5 BS:32 LR:0.0001\",\"[113, 199]\"],[\"FL1:256 FL2:16 DR:0.5 BS:32 LR:0.0001\",\"[113, 199]\"],[\"FL1:256 FL2:16 DR:0.5 BS:32 LR:0.0001\",\"[113, 199]\"],[\"FL1:256 FL2:16 DR:0.5 BS:32 LR:0.0001\",\"[113, 199]\"],[\"FL1:256 FL2:16 DR:0.5 BS:32 LR:0.0001\",\"[113, 199]\"],[\"FL1:256 FL2:16 DR:0.5 BS:32 LR:0.0001\",\"[113, 199]\"],[\"FL1:256 FL2:16 DR:0.5 BS:32 LR:0.0001\",\"[113, 199]\"],[\"FL1:256 FL2:16 DR:0.5 BS:32 LR:0.0001\",\"[113, 199]\"],[\"FL1:256 FL2:16 DR:0.5 BS:32 LR:0.0001\",\"[113, 199]\"],[\"FL1:256 FL2:16 DR:0.5 BS:32 LR:0.0001\",\"[113, 199]\"],[\"FL1:256 FL2:16 DR:0.5 BS:32 LR:0.0001\",\"[113, 199]\"],[\"FL1:256 FL2:16 DR:0.5 BS:32 LR:0.0001\",\"[113, 199]\"],[\"FL1:256 FL2:16 DR:0.5 BS:32 LR:0.0001\",\"[113, 199]\"],[\"FL1:256 FL2:16 DR:0.5 BS:32 LR:0.0001\",\"[113, 199]\"],[\"FL1:256 FL2:16 DR:0.5 BS:32 LR:0.0001\",\"[113, 199]\"],[\"FL1:256 FL2:16 DR:0.5 BS:32 LR:0.0001\",\"[113, 199]\"],[\"FL1:256 FL2:16 DR:0.5 BS:32 LR:0.0001\",\"[113, 199]\"],[\"FL1:256 FL2:16 DR:0.5 BS:32 LR:0.0001\",\"[113, 199]\"],[\"FL1:256 FL2:16 DR:0.5 BS:32 LR:0.0001\",\"[113, 199]\"],[\"FL1:256 FL2:16 DR:0.5 BS:32 LR:0.0001\",\"[113, 199]\"],[\"FL1:256 FL2:16 DR:0.5 BS:32 LR:0.0001\",\"[113, 199]\"],[\"FL1:256 FL2:16 DR:0.5 BS:32 LR:0.0001\",\"[113, 199]\"],[\"FL1:256 FL2:16 DR:0.5 BS:32 LR:0.0001\",\"[113, 199]\"],[\"FL1:256 FL2:16 DR:0.5 BS:32 LR:0.0001\",\"[113, 199]\"],[\"FL1:256 FL2:16 DR:0.5 BS:32 LR:0.0001\",\"[113, 199]\"],[\"FL1:256 FL2:16 DR:0.5 BS:32 LR:0.0001\",\"[113, 199]\"],[\"FL1:256 FL2:16 DR:0.5 BS:32 LR:0.0001\",\"[113, 199]\"],[\"FL1:256 FL2:16 DR:0.5 BS:32 LR:0.0001\",\"[113, 199]\"],[\"FL1:256 FL2:16 DR:0.5 BS:32 LR:0.0001\",\"[113, 199]\"],[\"FL1:256 FL2:16 DR:0.5 BS:32 LR:0.0001\",\"[113, 199]\"],[\"FL1:256 FL2:16 DR:0.5 BS:32 LR:0.0001\",\"[113, 199]\"],[\"FL1:256 FL2:16 DR:0.5 BS:32 LR:0.0001\",\"[113, 199]\"],[\"FL1:256 FL2:16 DR:0.5 BS:32 LR:0.0001\",\"[113, 199]\"],[\"FL1:256 FL2:16 DR:0.5 BS:32 LR:0.0001\",\"[113, 199]\"],[\"FL1:256 FL2:16 DR:0.5 BS:32 LR:0.0001\",\"[113, 199]\"],[\"FL1:256 FL2:16 DR:0.5 BS:32 LR:0.0001\",\"[113, 199]\"],[\"FL1:256 FL2:16 DR:0.5 BS:32 LR:0.0001\",\"[113, 199]\"],[\"FL1:256 FL2:16 DR:0.5 BS:32 LR:0.0001\",\"[113, 199]\"],[\"FL1:256 FL2:16 DR:0.5 BS:32 LR:0.0001\",\"[113, 199]\"],[\"FL1:256 FL2:16 DR:0.5 BS:32 LR:0.0001\",\"[113, 199]\"],[\"FL1:256 FL2:16 DR:0.5 BS:32 LR:0.0001\",\"[113, 199]\"],[\"FL1:256 FL2:16 DR:0.5 BS:32 LR:0.0001\",\"[113, 199]\"],[\"FL1:256 FL2:16 DR:0.5 BS:32 LR:0.0001\",\"[113, 199]\"],[\"FL1:256 FL2:16 DR:0.5 BS:32 LR:0.0001\",\"[113, 199]\"],[\"FL1:256 FL2:16 DR:0.5 BS:32 LR:0.0001\",\"[113, 199]\"],[\"FL1:256 FL2:16 DR:0.5 BS:32 LR:0.0001\",\"[113, 199]\"],[\"FL1:256 FL2:16 DR:0.5 BS:32 LR:0.0001\",\"[113, 199]\"],[\"FL1:256 FL2:16 DR:0.5 BS:32 LR:0.0001\",\"[113, 199]\"],[\"FL1:256 FL2:16 DR:0.5 BS:32 LR:0.0001\",\"[113, 199]\"],[\"FL1:256 FL2:16 DR:0.5 BS:32 LR:0.0001\",\"[113, 199]\"],[\"FL1:256 FL2:16 DR:0.5 BS:32 LR:0.0001\",\"[113, 199]\"],[\"FL1:256 FL2:16 DR:0.5 BS:32 LR:0.0001\",\"[113, 199]\"],[\"FL1:256 FL2:16 DR:0.5 BS:32 LR:0.0001\",\"[113, 199]\"],[\"FL1:256 FL2:16 DR:0.5 BS:32 LR:0.0001\",\"[113, 199]\"],[\"FL1:256 FL2:16 DR:0.5 BS:32 LR:0.0001\",\"[113, 199]\"],[\"FL1:256 FL2:16 DR:0.5 BS:32 LR:0.0001\",\"[113, 199]\"],[\"FL1:256 FL2:16 DR:0.5 BS:32 LR:0.0001\",\"[113, 199]\"],[\"FL1:256 FL2:16 DR:0.5 BS:32 LR:0.0001\",\"[113, 199]\"],[\"FL1:256 FL2:16 DR:0.5 BS:32 LR:0.0001\",\"[113, 199]\"],[\"FL1:256 FL2:16 DR:0.5 BS:32 LR:0.0001\",\"[113, 199]\"],[\"FL1:256 FL2:16 DR:0.5 BS:32 LR:0.0001\",\"[113, 199]\"],[\"FL1:256 FL2:16 DR:0.5 BS:32 LR:0.0001\",\"[113, 199]\"],[\"FL1:256 FL2:16 DR:0.5 BS:32 LR:0.0001\",\"[113, 199]\"],[\"FL1:256 FL2:16 DR:0.5 BS:32 LR:0.0001\",\"[113, 199]\"],[\"FL1:256 FL2:16 DR:0.5 BS:32 LR:0.0001\",\"[113, 199]\"],[\"FL1:256 FL2:16 DR:0.5 BS:32 LR:0.0001\",\"[113, 199]\"],[\"FL1:256 FL2:16 DR:0.5 BS:32 LR:0.0001\",\"[113, 199]\"],[\"FL1:256 FL2:16 DR:0.5 BS:32 LR:0.0001\",\"[113, 199]\"],[\"FL1:256 FL2:16 DR:0.5 BS:32 LR:0.0001\",\"[113, 199]\"],[\"FL1:256 FL2:16 DR:0.5 BS:32 LR:0.0001\",\"[113, 199]\"],[\"FL1:256 FL2:16 DR:0.5 BS:32 LR:0.0001\",\"[113, 199]\"],[\"FL1:256 FL2:16 DR:0.5 BS:32 LR:0.0001\",\"[113, 199]\"],[\"FL1:256 FL2:16 DR:0.5 BS:32 LR:0.0001\",\"[113, 199]\"],[\"FL1:256 FL2:16 DR:0.5 BS:32 LR:0.0001\",\"[113, 199]\"],[\"FL1:256 FL2:16 DR:0.5 BS:32 LR:0.0001\",\"[113, 199]\"],[\"FL1:256 FL2:16 DR:0.5 BS:32 LR:0.0001\",\"[113, 199]\"],[\"FL1:256 FL2:16 DR:0.5 BS:32 LR:0.0001\",\"[113, 199]\"],[\"FL1:256 FL2:16 DR:0.5 BS:32 LR:0.0001\",\"[113, 199]\"],[\"FL1:256 FL2:16 DR:0.5 BS:32 LR:0.0001\",\"[113, 199]\"],[\"FL1:256 FL2:16 DR:0.5 BS:32 LR:0.0001\",\"[113, 199]\"],[\"FL1:256 FL2:16 DR:0.5 BS:32 LR:0.0001\",\"[113, 199]\"],[\"FL1:256 FL2:16 DR:0.5 BS:32 LR:0.0001\",\"[113, 199]\"],[\"FL1:256 FL2:16 DR:0.5 BS:32 LR:0.0001\",\"[113, 199]\"],[\"FL1:256 FL2:16 DR:0.5 BS:32 LR:0.0001\",\"[113, 199]\"],[\"FL1:256 FL2:16 DR:0.5 BS:32 LR:0.0001\",\"[113, 199]\"],[\"FL1:256 FL2:16 DR:0.5 BS:32 LR:0.0001\",\"[113, 199]\"],[\"FL1:256 FL2:16 DR:0.5 BS:32 LR:0.0001\",\"[113, 199]\"],[\"FL1:256 FL2:16 DR:0.5 BS:32 LR:0.0001\",\"[113, 199]\"],[\"FL1:256 FL2:16 DR:0.5 BS:32 LR:0.0001\",\"[113, 199]\"],[\"FL1:256 FL2:16 DR:0.5 BS:32 LR:0.0001\",\"[113, 199]\"],[\"FL1:256 FL2:16 DR:0.5 BS:32 LR:0.0001\",\"[113, 199]\"],[\"FL1:256 FL2:16 DR:0.5 BS:32 LR:0.0001\",\"[113, 199]\"],[\"FL1:256 FL2:16 DR:0.5 BS:32 LR:0.0001\",\"[113, 199]\"],[\"FL1:256 FL2:16 DR:0.5 BS:32 LR:0.0001\",\"[113, 199]\"],[\"FL1:256 FL2:16 DR:0.5 BS:32 LR:0.0001\",\"[113, 199]\"],[\"FL1:256 FL2:16 DR:0.5 BS:32 LR:0.0001\",\"[113, 199]\"],[\"FL1:256 FL2:16 DR:0.5 BS:32 LR:0.0001\",\"[113, 199]\"]],\"hovertemplate\":\"variable=val_loss\\u003cbr\\u003etrial_id=802fd_00106\\u003cbr\\u003eepoch=%{x}\\u003cbr\\u003evalue=%{y}\\u003cbr\\u003eHyperparameters=%{customdata[0]}\\u003cbr\\u003echeckpoints=%{customdata[1]}\\u003cextra\\u003e\\u003c\\u002fextra\\u003e\",\"legendgroup\":\"val_loss, 802fd_00106\",\"line\":{\"color\":\"#636efa\",\"dash\":\"dot\"},\"marker\":{\"symbol\":\"circle\"},\"mode\":\"lines\",\"name\":\"val_loss, 802fd_00106\",\"showlegend\":true,\"x\":[0,1,2,3,4,5,6,7,8,9,10,11,12,13,14,15,16,17,18,19,20,21,22,23,24,25,26,27,28,29,30,31,32,33,34,35,36,37,38,39,40,41,42,43,44,45,46,47,48,49,50,51,52,53,54,55,56,57,58,59,60,61,62,63,64,65,66,67,68,69,70,71,72,73,74,75,76,77,78,79,80,81,82,83,84,85,86,87,88,89,90,91,92,93,94,95,96,97,98,99,100,101,102,103,104,105,106,107,108,109,110,111,112,113,114,115,116,117,118,119,120,121,122,123,124,125,126,127,128,129,130,131,132,133,134,135,136,137,138,139,140,141,142,143,144,145,146,147,148,149,150,151,152,153,154,155,156,157,158,159,160,161,162,163,164,165,166,167,168,169,170,171,172,173,174,175,176,177,178,179,180,181,182,183,184,185,186,187,188,189,190,191,192,193,194,195,196,197,198,199],\"xaxis\":\"x\",\"y\":[0.6263297200202926,0.5494269231955191,0.48429970608816997,0.43843344957739994,0.40093900502463686,0.3734533604035139,0.3534318285550905,0.3399914057629785,0.33391708146052024,0.33205582705150943,0.32255068757143807,0.3169792217546508,0.31057409925817087,0.3065299390657646,0.3030883172421914,0.3001475697934131,0.2988201820969243,0.29471331795849065,0.29224230819806496,0.2940647931487357,0.29138351689384945,0.2884948731171188,0.28721026782903986,0.28290402693691397,0.2914847817893984,0.2925931173480982,0.2872823349580119,0.28805765654940996,0.2890242645892798,0.2921990659338427,0.29190398630183156,0.2850174398997169,0.27980381858207987,0.28231957960034815,0.2779422628078547,0.2827053319873861,0.2889076339842505,0.29022472220272594,0.2867353599443083,0.2954409348417675,0.2972920389605459,0.3017298679638495,0.3028571573289619,0.3214189189932329,0.3261879138325035,0.34040019261667237,0.33262936504568646,0.3579907995587312,0.3368549732450454,0.33488839454676017,0.328094449885853,0.335455793306673,0.33388169816165714,0.3381254521411619,0.3374301491447256,0.3530811169589859,0.35395248392193107,0.3676390857098397,0.3846045375266261,0.38244740766939683,0.3699769781871441,0.3781001737941495,0.3868546499960408,0.3835909077957452,0.3920260078003118,0.379323453127682,0.37937755413806334,0.38029591923260525,0.38730667157506743,0.39726025610192384,0.4280106772914435,0.4183109535068201,0.40819485871592587,0.42645156640873527,0.41854702604522986,0.422763669972357,0.43941638501798785,0.4320568086856969,0.4442302645679547,0.4533865591841417,0.4471182519169292,0.47729241808067574,0.46481361958590256,0.446478982589026,0.44350654206102297,0.4440824708768066,0.4361004545574931,0.4449586281700618,0.4463887220967922,0.4661375487081936,0.46259825787495995,0.4699524698095272,0.510511620669678,0.5130866857562552,0.512481178985309,0.4943668518770203,0.507278996991346,0.5200033706342033,0.5092167504572096,0.49555573516045714,0.5129961414665283,0.5022843012233763,0.4796571320308694,0.46806528409411063,0.4638924051661584,0.4722388618084639,0.4781752184293556,0.4722466041817845,0.49074623122311717,0.49734821011289554,0.5222930649231831,0.5032170341618155,0.48214756953764487,0.47741305502287784,0.4839050648744375,0.4971747913715211,0.48847595312575176,0.48189494317359066,0.5162580430877615,0.5579544385520872,0.5591761721669459,0.5456300943095688,0.5256604730420104,0.5166145383869789,0.5311936020556531,0.5394218484364233,0.544633323603356,0.5762408539013609,0.5779761780868985,0.5786991986679366,0.584035553736641,0.5655462001450539,0.5374346875275283,0.5540812547422176,0.5408219652319423,0.5544897289371787,0.5688885033989137,0.6346762896156416,0.6093673587226923,0.6070982535934472,0.5966696156565351,0.5947370935482437,0.6017862034508011,0.6082618880714575,0.6153364809649241,0.6258880120050264,0.6159653214303211,0.6021063624281044,0.6171020268372915,0.5991871356283427,0.6091717679841504,0.6185849043755507,0.6179494084933568,0.6044848046050567,0.5877876136929512,0.6112290524264637,0.6122813756479449,0.6276890195219784,0.6326600615719322,0.6019362214233706,0.5793013177332752,0.5947283838866453,0.5998866978405766,0.6244926136810799,0.6303282765599885,0.6443242290319849,0.6642293439111329,0.6296441625092557,0.6378686474782962,0.629515949025599,0.6331288239259492,0.6514733447564274,0.6324898013759063,0.6264528638315455,0.6319869562117413,0.6632739374457551,0.6716074393470239,0.6565494568002972,0.658263248261659,0.6707364400604342,0.6874113334800765,0.6841733424919143,0.7355838000150033,0.710351856507956,0.6850209050430833,0.6981701925763788,0.6575209747002709,0.6593957113058145,0.640370320401639,0.6240207626568266,0.6420115281573245,0.6883051626835452,0.7377728576762251,0.7821257151035957,0.7568903589823821,0.7328144526865055,0.8060297314581564,0.7815965178448138,0.7700220586749017,0.7356784702600424],\"yaxis\":\"y\",\"type\":\"scattergl\"},{\"customdata\":[[\"FL1:16 FL2:16 DR:0.3 BS:32 LR:0.0005\",\"[199, 96]\"],[\"FL1:16 FL2:16 DR:0.3 BS:32 LR:0.0005\",\"[199, 96]\"],[\"FL1:16 FL2:16 DR:0.3 BS:32 LR:0.0005\",\"[199, 96]\"],[\"FL1:16 FL2:16 DR:0.3 BS:32 LR:0.0005\",\"[199, 96]\"],[\"FL1:16 FL2:16 DR:0.3 BS:32 LR:0.0005\",\"[199, 96]\"],[\"FL1:16 FL2:16 DR:0.3 BS:32 LR:0.0005\",\"[199, 96]\"],[\"FL1:16 FL2:16 DR:0.3 BS:32 LR:0.0005\",\"[199, 96]\"],[\"FL1:16 FL2:16 DR:0.3 BS:32 LR:0.0005\",\"[199, 96]\"],[\"FL1:16 FL2:16 DR:0.3 BS:32 LR:0.0005\",\"[199, 96]\"],[\"FL1:16 FL2:16 DR:0.3 BS:32 LR:0.0005\",\"[199, 96]\"],[\"FL1:16 FL2:16 DR:0.3 BS:32 LR:0.0005\",\"[199, 96]\"],[\"FL1:16 FL2:16 DR:0.3 BS:32 LR:0.0005\",\"[199, 96]\"],[\"FL1:16 FL2:16 DR:0.3 BS:32 LR:0.0005\",\"[199, 96]\"],[\"FL1:16 FL2:16 DR:0.3 BS:32 LR:0.0005\",\"[199, 96]\"],[\"FL1:16 FL2:16 DR:0.3 BS:32 LR:0.0005\",\"[199, 96]\"],[\"FL1:16 FL2:16 DR:0.3 BS:32 LR:0.0005\",\"[199, 96]\"],[\"FL1:16 FL2:16 DR:0.3 BS:32 LR:0.0005\",\"[199, 96]\"],[\"FL1:16 FL2:16 DR:0.3 BS:32 LR:0.0005\",\"[199, 96]\"],[\"FL1:16 FL2:16 DR:0.3 BS:32 LR:0.0005\",\"[199, 96]\"],[\"FL1:16 FL2:16 DR:0.3 BS:32 LR:0.0005\",\"[199, 96]\"],[\"FL1:16 FL2:16 DR:0.3 BS:32 LR:0.0005\",\"[199, 96]\"],[\"FL1:16 FL2:16 DR:0.3 BS:32 LR:0.0005\",\"[199, 96]\"],[\"FL1:16 FL2:16 DR:0.3 BS:32 LR:0.0005\",\"[199, 96]\"],[\"FL1:16 FL2:16 DR:0.3 BS:32 LR:0.0005\",\"[199, 96]\"],[\"FL1:16 FL2:16 DR:0.3 BS:32 LR:0.0005\",\"[199, 96]\"],[\"FL1:16 FL2:16 DR:0.3 BS:32 LR:0.0005\",\"[199, 96]\"],[\"FL1:16 FL2:16 DR:0.3 BS:32 LR:0.0005\",\"[199, 96]\"],[\"FL1:16 FL2:16 DR:0.3 BS:32 LR:0.0005\",\"[199, 96]\"],[\"FL1:16 FL2:16 DR:0.3 BS:32 LR:0.0005\",\"[199, 96]\"],[\"FL1:16 FL2:16 DR:0.3 BS:32 LR:0.0005\",\"[199, 96]\"],[\"FL1:16 FL2:16 DR:0.3 BS:32 LR:0.0005\",\"[199, 96]\"],[\"FL1:16 FL2:16 DR:0.3 BS:32 LR:0.0005\",\"[199, 96]\"],[\"FL1:16 FL2:16 DR:0.3 BS:32 LR:0.0005\",\"[199, 96]\"],[\"FL1:16 FL2:16 DR:0.3 BS:32 LR:0.0005\",\"[199, 96]\"],[\"FL1:16 FL2:16 DR:0.3 BS:32 LR:0.0005\",\"[199, 96]\"],[\"FL1:16 FL2:16 DR:0.3 BS:32 LR:0.0005\",\"[199, 96]\"],[\"FL1:16 FL2:16 DR:0.3 BS:32 LR:0.0005\",\"[199, 96]\"],[\"FL1:16 FL2:16 DR:0.3 BS:32 LR:0.0005\",\"[199, 96]\"],[\"FL1:16 FL2:16 DR:0.3 BS:32 LR:0.0005\",\"[199, 96]\"],[\"FL1:16 FL2:16 DR:0.3 BS:32 LR:0.0005\",\"[199, 96]\"],[\"FL1:16 FL2:16 DR:0.3 BS:32 LR:0.0005\",\"[199, 96]\"],[\"FL1:16 FL2:16 DR:0.3 BS:32 LR:0.0005\",\"[199, 96]\"],[\"FL1:16 FL2:16 DR:0.3 BS:32 LR:0.0005\",\"[199, 96]\"],[\"FL1:16 FL2:16 DR:0.3 BS:32 LR:0.0005\",\"[199, 96]\"],[\"FL1:16 FL2:16 DR:0.3 BS:32 LR:0.0005\",\"[199, 96]\"],[\"FL1:16 FL2:16 DR:0.3 BS:32 LR:0.0005\",\"[199, 96]\"],[\"FL1:16 FL2:16 DR:0.3 BS:32 LR:0.0005\",\"[199, 96]\"],[\"FL1:16 FL2:16 DR:0.3 BS:32 LR:0.0005\",\"[199, 96]\"],[\"FL1:16 FL2:16 DR:0.3 BS:32 LR:0.0005\",\"[199, 96]\"],[\"FL1:16 FL2:16 DR:0.3 BS:32 LR:0.0005\",\"[199, 96]\"],[\"FL1:16 FL2:16 DR:0.3 BS:32 LR:0.0005\",\"[199, 96]\"],[\"FL1:16 FL2:16 DR:0.3 BS:32 LR:0.0005\",\"[199, 96]\"],[\"FL1:16 FL2:16 DR:0.3 BS:32 LR:0.0005\",\"[199, 96]\"],[\"FL1:16 FL2:16 DR:0.3 BS:32 LR:0.0005\",\"[199, 96]\"],[\"FL1:16 FL2:16 DR:0.3 BS:32 LR:0.0005\",\"[199, 96]\"],[\"FL1:16 FL2:16 DR:0.3 BS:32 LR:0.0005\",\"[199, 96]\"],[\"FL1:16 FL2:16 DR:0.3 BS:32 LR:0.0005\",\"[199, 96]\"],[\"FL1:16 FL2:16 DR:0.3 BS:32 LR:0.0005\",\"[199, 96]\"],[\"FL1:16 FL2:16 DR:0.3 BS:32 LR:0.0005\",\"[199, 96]\"],[\"FL1:16 FL2:16 DR:0.3 BS:32 LR:0.0005\",\"[199, 96]\"],[\"FL1:16 FL2:16 DR:0.3 BS:32 LR:0.0005\",\"[199, 96]\"],[\"FL1:16 FL2:16 DR:0.3 BS:32 LR:0.0005\",\"[199, 96]\"],[\"FL1:16 FL2:16 DR:0.3 BS:32 LR:0.0005\",\"[199, 96]\"],[\"FL1:16 FL2:16 DR:0.3 BS:32 LR:0.0005\",\"[199, 96]\"],[\"FL1:16 FL2:16 DR:0.3 BS:32 LR:0.0005\",\"[199, 96]\"],[\"FL1:16 FL2:16 DR:0.3 BS:32 LR:0.0005\",\"[199, 96]\"],[\"FL1:16 FL2:16 DR:0.3 BS:32 LR:0.0005\",\"[199, 96]\"],[\"FL1:16 FL2:16 DR:0.3 BS:32 LR:0.0005\",\"[199, 96]\"],[\"FL1:16 FL2:16 DR:0.3 BS:32 LR:0.0005\",\"[199, 96]\"],[\"FL1:16 FL2:16 DR:0.3 BS:32 LR:0.0005\",\"[199, 96]\"],[\"FL1:16 FL2:16 DR:0.3 BS:32 LR:0.0005\",\"[199, 96]\"],[\"FL1:16 FL2:16 DR:0.3 BS:32 LR:0.0005\",\"[199, 96]\"],[\"FL1:16 FL2:16 DR:0.3 BS:32 LR:0.0005\",\"[199, 96]\"],[\"FL1:16 FL2:16 DR:0.3 BS:32 LR:0.0005\",\"[199, 96]\"],[\"FL1:16 FL2:16 DR:0.3 BS:32 LR:0.0005\",\"[199, 96]\"],[\"FL1:16 FL2:16 DR:0.3 BS:32 LR:0.0005\",\"[199, 96]\"],[\"FL1:16 FL2:16 DR:0.3 BS:32 LR:0.0005\",\"[199, 96]\"],[\"FL1:16 FL2:16 DR:0.3 BS:32 LR:0.0005\",\"[199, 96]\"],[\"FL1:16 FL2:16 DR:0.3 BS:32 LR:0.0005\",\"[199, 96]\"],[\"FL1:16 FL2:16 DR:0.3 BS:32 LR:0.0005\",\"[199, 96]\"],[\"FL1:16 FL2:16 DR:0.3 BS:32 LR:0.0005\",\"[199, 96]\"],[\"FL1:16 FL2:16 DR:0.3 BS:32 LR:0.0005\",\"[199, 96]\"],[\"FL1:16 FL2:16 DR:0.3 BS:32 LR:0.0005\",\"[199, 96]\"],[\"FL1:16 FL2:16 DR:0.3 BS:32 LR:0.0005\",\"[199, 96]\"],[\"FL1:16 FL2:16 DR:0.3 BS:32 LR:0.0005\",\"[199, 96]\"],[\"FL1:16 FL2:16 DR:0.3 BS:32 LR:0.0005\",\"[199, 96]\"],[\"FL1:16 FL2:16 DR:0.3 BS:32 LR:0.0005\",\"[199, 96]\"],[\"FL1:16 FL2:16 DR:0.3 BS:32 LR:0.0005\",\"[199, 96]\"],[\"FL1:16 FL2:16 DR:0.3 BS:32 LR:0.0005\",\"[199, 96]\"],[\"FL1:16 FL2:16 DR:0.3 BS:32 LR:0.0005\",\"[199, 96]\"],[\"FL1:16 FL2:16 DR:0.3 BS:32 LR:0.0005\",\"[199, 96]\"],[\"FL1:16 FL2:16 DR:0.3 BS:32 LR:0.0005\",\"[199, 96]\"],[\"FL1:16 FL2:16 DR:0.3 BS:32 LR:0.0005\",\"[199, 96]\"],[\"FL1:16 FL2:16 DR:0.3 BS:32 LR:0.0005\",\"[199, 96]\"],[\"FL1:16 FL2:16 DR:0.3 BS:32 LR:0.0005\",\"[199, 96]\"],[\"FL1:16 FL2:16 DR:0.3 BS:32 LR:0.0005\",\"[199, 96]\"],[\"FL1:16 FL2:16 DR:0.3 BS:32 LR:0.0005\",\"[199, 96]\"],[\"FL1:16 FL2:16 DR:0.3 BS:32 LR:0.0005\",\"[199, 96]\"],[\"FL1:16 FL2:16 DR:0.3 BS:32 LR:0.0005\",\"[199, 96]\"],[\"FL1:16 FL2:16 DR:0.3 BS:32 LR:0.0005\",\"[199, 96]\"],[\"FL1:16 FL2:16 DR:0.3 BS:32 LR:0.0005\",\"[199, 96]\"],[\"FL1:16 FL2:16 DR:0.3 BS:32 LR:0.0005\",\"[199, 96]\"],[\"FL1:16 FL2:16 DR:0.3 BS:32 LR:0.0005\",\"[199, 96]\"],[\"FL1:16 FL2:16 DR:0.3 BS:32 LR:0.0005\",\"[199, 96]\"],[\"FL1:16 FL2:16 DR:0.3 BS:32 LR:0.0005\",\"[199, 96]\"],[\"FL1:16 FL2:16 DR:0.3 BS:32 LR:0.0005\",\"[199, 96]\"],[\"FL1:16 FL2:16 DR:0.3 BS:32 LR:0.0005\",\"[199, 96]\"],[\"FL1:16 FL2:16 DR:0.3 BS:32 LR:0.0005\",\"[199, 96]\"],[\"FL1:16 FL2:16 DR:0.3 BS:32 LR:0.0005\",\"[199, 96]\"],[\"FL1:16 FL2:16 DR:0.3 BS:32 LR:0.0005\",\"[199, 96]\"],[\"FL1:16 FL2:16 DR:0.3 BS:32 LR:0.0005\",\"[199, 96]\"],[\"FL1:16 FL2:16 DR:0.3 BS:32 LR:0.0005\",\"[199, 96]\"],[\"FL1:16 FL2:16 DR:0.3 BS:32 LR:0.0005\",\"[199, 96]\"],[\"FL1:16 FL2:16 DR:0.3 BS:32 LR:0.0005\",\"[199, 96]\"],[\"FL1:16 FL2:16 DR:0.3 BS:32 LR:0.0005\",\"[199, 96]\"],[\"FL1:16 FL2:16 DR:0.3 BS:32 LR:0.0005\",\"[199, 96]\"],[\"FL1:16 FL2:16 DR:0.3 BS:32 LR:0.0005\",\"[199, 96]\"],[\"FL1:16 FL2:16 DR:0.3 BS:32 LR:0.0005\",\"[199, 96]\"],[\"FL1:16 FL2:16 DR:0.3 BS:32 LR:0.0005\",\"[199, 96]\"],[\"FL1:16 FL2:16 DR:0.3 BS:32 LR:0.0005\",\"[199, 96]\"],[\"FL1:16 FL2:16 DR:0.3 BS:32 LR:0.0005\",\"[199, 96]\"],[\"FL1:16 FL2:16 DR:0.3 BS:32 LR:0.0005\",\"[199, 96]\"],[\"FL1:16 FL2:16 DR:0.3 BS:32 LR:0.0005\",\"[199, 96]\"],[\"FL1:16 FL2:16 DR:0.3 BS:32 LR:0.0005\",\"[199, 96]\"],[\"FL1:16 FL2:16 DR:0.3 BS:32 LR:0.0005\",\"[199, 96]\"],[\"FL1:16 FL2:16 DR:0.3 BS:32 LR:0.0005\",\"[199, 96]\"],[\"FL1:16 FL2:16 DR:0.3 BS:32 LR:0.0005\",\"[199, 96]\"],[\"FL1:16 FL2:16 DR:0.3 BS:32 LR:0.0005\",\"[199, 96]\"],[\"FL1:16 FL2:16 DR:0.3 BS:32 LR:0.0005\",\"[199, 96]\"],[\"FL1:16 FL2:16 DR:0.3 BS:32 LR:0.0005\",\"[199, 96]\"],[\"FL1:16 FL2:16 DR:0.3 BS:32 LR:0.0005\",\"[199, 96]\"],[\"FL1:16 FL2:16 DR:0.3 BS:32 LR:0.0005\",\"[199, 96]\"],[\"FL1:16 FL2:16 DR:0.3 BS:32 LR:0.0005\",\"[199, 96]\"],[\"FL1:16 FL2:16 DR:0.3 BS:32 LR:0.0005\",\"[199, 96]\"],[\"FL1:16 FL2:16 DR:0.3 BS:32 LR:0.0005\",\"[199, 96]\"],[\"FL1:16 FL2:16 DR:0.3 BS:32 LR:0.0005\",\"[199, 96]\"],[\"FL1:16 FL2:16 DR:0.3 BS:32 LR:0.0005\",\"[199, 96]\"],[\"FL1:16 FL2:16 DR:0.3 BS:32 LR:0.0005\",\"[199, 96]\"],[\"FL1:16 FL2:16 DR:0.3 BS:32 LR:0.0005\",\"[199, 96]\"],[\"FL1:16 FL2:16 DR:0.3 BS:32 LR:0.0005\",\"[199, 96]\"],[\"FL1:16 FL2:16 DR:0.3 BS:32 LR:0.0005\",\"[199, 96]\"],[\"FL1:16 FL2:16 DR:0.3 BS:32 LR:0.0005\",\"[199, 96]\"],[\"FL1:16 FL2:16 DR:0.3 BS:32 LR:0.0005\",\"[199, 96]\"],[\"FL1:16 FL2:16 DR:0.3 BS:32 LR:0.0005\",\"[199, 96]\"],[\"FL1:16 FL2:16 DR:0.3 BS:32 LR:0.0005\",\"[199, 96]\"],[\"FL1:16 FL2:16 DR:0.3 BS:32 LR:0.0005\",\"[199, 96]\"],[\"FL1:16 FL2:16 DR:0.3 BS:32 LR:0.0005\",\"[199, 96]\"],[\"FL1:16 FL2:16 DR:0.3 BS:32 LR:0.0005\",\"[199, 96]\"],[\"FL1:16 FL2:16 DR:0.3 BS:32 LR:0.0005\",\"[199, 96]\"],[\"FL1:16 FL2:16 DR:0.3 BS:32 LR:0.0005\",\"[199, 96]\"],[\"FL1:16 FL2:16 DR:0.3 BS:32 LR:0.0005\",\"[199, 96]\"],[\"FL1:16 FL2:16 DR:0.3 BS:32 LR:0.0005\",\"[199, 96]\"],[\"FL1:16 FL2:16 DR:0.3 BS:32 LR:0.0005\",\"[199, 96]\"],[\"FL1:16 FL2:16 DR:0.3 BS:32 LR:0.0005\",\"[199, 96]\"],[\"FL1:16 FL2:16 DR:0.3 BS:32 LR:0.0005\",\"[199, 96]\"],[\"FL1:16 FL2:16 DR:0.3 BS:32 LR:0.0005\",\"[199, 96]\"],[\"FL1:16 FL2:16 DR:0.3 BS:32 LR:0.0005\",\"[199, 96]\"],[\"FL1:16 FL2:16 DR:0.3 BS:32 LR:0.0005\",\"[199, 96]\"],[\"FL1:16 FL2:16 DR:0.3 BS:32 LR:0.0005\",\"[199, 96]\"],[\"FL1:16 FL2:16 DR:0.3 BS:32 LR:0.0005\",\"[199, 96]\"],[\"FL1:16 FL2:16 DR:0.3 BS:32 LR:0.0005\",\"[199, 96]\"],[\"FL1:16 FL2:16 DR:0.3 BS:32 LR:0.0005\",\"[199, 96]\"],[\"FL1:16 FL2:16 DR:0.3 BS:32 LR:0.0005\",\"[199, 96]\"],[\"FL1:16 FL2:16 DR:0.3 BS:32 LR:0.0005\",\"[199, 96]\"],[\"FL1:16 FL2:16 DR:0.3 BS:32 LR:0.0005\",\"[199, 96]\"],[\"FL1:16 FL2:16 DR:0.3 BS:32 LR:0.0005\",\"[199, 96]\"],[\"FL1:16 FL2:16 DR:0.3 BS:32 LR:0.0005\",\"[199, 96]\"],[\"FL1:16 FL2:16 DR:0.3 BS:32 LR:0.0005\",\"[199, 96]\"],[\"FL1:16 FL2:16 DR:0.3 BS:32 LR:0.0005\",\"[199, 96]\"],[\"FL1:16 FL2:16 DR:0.3 BS:32 LR:0.0005\",\"[199, 96]\"],[\"FL1:16 FL2:16 DR:0.3 BS:32 LR:0.0005\",\"[199, 96]\"],[\"FL1:16 FL2:16 DR:0.3 BS:32 LR:0.0005\",\"[199, 96]\"],[\"FL1:16 FL2:16 DR:0.3 BS:32 LR:0.0005\",\"[199, 96]\"],[\"FL1:16 FL2:16 DR:0.3 BS:32 LR:0.0005\",\"[199, 96]\"],[\"FL1:16 FL2:16 DR:0.3 BS:32 LR:0.0005\",\"[199, 96]\"],[\"FL1:16 FL2:16 DR:0.3 BS:32 LR:0.0005\",\"[199, 96]\"],[\"FL1:16 FL2:16 DR:0.3 BS:32 LR:0.0005\",\"[199, 96]\"],[\"FL1:16 FL2:16 DR:0.3 BS:32 LR:0.0005\",\"[199, 96]\"],[\"FL1:16 FL2:16 DR:0.3 BS:32 LR:0.0005\",\"[199, 96]\"],[\"FL1:16 FL2:16 DR:0.3 BS:32 LR:0.0005\",\"[199, 96]\"],[\"FL1:16 FL2:16 DR:0.3 BS:32 LR:0.0005\",\"[199, 96]\"],[\"FL1:16 FL2:16 DR:0.3 BS:32 LR:0.0005\",\"[199, 96]\"],[\"FL1:16 FL2:16 DR:0.3 BS:32 LR:0.0005\",\"[199, 96]\"],[\"FL1:16 FL2:16 DR:0.3 BS:32 LR:0.0005\",\"[199, 96]\"],[\"FL1:16 FL2:16 DR:0.3 BS:32 LR:0.0005\",\"[199, 96]\"],[\"FL1:16 FL2:16 DR:0.3 BS:32 LR:0.0005\",\"[199, 96]\"],[\"FL1:16 FL2:16 DR:0.3 BS:32 LR:0.0005\",\"[199, 96]\"],[\"FL1:16 FL2:16 DR:0.3 BS:32 LR:0.0005\",\"[199, 96]\"],[\"FL1:16 FL2:16 DR:0.3 BS:32 LR:0.0005\",\"[199, 96]\"],[\"FL1:16 FL2:16 DR:0.3 BS:32 LR:0.0005\",\"[199, 96]\"],[\"FL1:16 FL2:16 DR:0.3 BS:32 LR:0.0005\",\"[199, 96]\"],[\"FL1:16 FL2:16 DR:0.3 BS:32 LR:0.0005\",\"[199, 96]\"],[\"FL1:16 FL2:16 DR:0.3 BS:32 LR:0.0005\",\"[199, 96]\"],[\"FL1:16 FL2:16 DR:0.3 BS:32 LR:0.0005\",\"[199, 96]\"],[\"FL1:16 FL2:16 DR:0.3 BS:32 LR:0.0005\",\"[199, 96]\"],[\"FL1:16 FL2:16 DR:0.3 BS:32 LR:0.0005\",\"[199, 96]\"],[\"FL1:16 FL2:16 DR:0.3 BS:32 LR:0.0005\",\"[199, 96]\"],[\"FL1:16 FL2:16 DR:0.3 BS:32 LR:0.0005\",\"[199, 96]\"],[\"FL1:16 FL2:16 DR:0.3 BS:32 LR:0.0005\",\"[199, 96]\"],[\"FL1:16 FL2:16 DR:0.3 BS:32 LR:0.0005\",\"[199, 96]\"]],\"hovertemplate\":\"variable=val_loss\\u003cbr\\u003etrial_id=802fd_00089\\u003cbr\\u003eepoch=%{x}\\u003cbr\\u003evalue=%{y}\\u003cbr\\u003eHyperparameters=%{customdata[0]}\\u003cbr\\u003echeckpoints=%{customdata[1]}\\u003cextra\\u003e\\u003c\\u002fextra\\u003e\",\"legendgroup\":\"val_loss, 802fd_00089\",\"line\":{\"color\":\"#636efa\",\"dash\":\"dash\"},\"marker\":{\"symbol\":\"circle\"},\"mode\":\"lines\",\"name\":\"val_loss, 802fd_00089\",\"showlegend\":true,\"x\":[0,1,2,3,4,5,6,7,8,9,10,11,12,13,14,15,16,17,18,19,20,21,22,23,24,25,26,27,28,29,30,31,32,33,34,35,36,37,38,39,40,41,42,43,44,45,46,47,48,49,50,51,52,53,54,55,56,57,58,59,60,61,62,63,64,65,66,67,68,69,70,71,72,73,74,75,76,77,78,79,80,81,82,83,84,85,86,87,88,89,90,91,92,93,94,95,96,97,98,99,100,101,102,103,104,105,106,107,108,109,110,111,112,113,114,115,116,117,118,119,120,121,122,123,124,125,126,127,128,129,130,131,132,133,134,135,136,137,138,139,140,141,142,143,144,145,146,147,148,149,150,151,152,153,154,155,156,157,158,159,160,161,162,163,164,165,166,167,168,169,170,171,172,173,174,175,176,177,178,179,180,181,182,183,184,185,186,187,188,189,190,191,192,193,194,195,196,197,198,199],\"xaxis\":\"x\",\"y\":[0.5523379445075975,0.4843552807966851,0.43635158406363395,0.403421065321673,0.38662300911950254,0.3673935029732325,0.3467354339908975,0.33874566439465725,0.32813342136592294,0.3332354242434138,0.3333555039319741,0.3383060512644274,0.35734978104314596,0.34604338662280826,0.34370544126599406,0.33550084346512465,0.32805110490308464,0.32330656035731997,0.32820209850199117,0.3437087435810232,0.3420282237588334,0.3478054061769747,0.3555145432710177,0.3625038279533064,0.3778319665749643,0.3823611543549273,0.3830142985432121,0.3910111036995224,0.3909073470101858,0.38262403991925,0.4032379950888098,0.37972786796140195,0.39721718279552043,0.4244889209537468,0.41885106032879793,0.42599716627459716,0.4175432413409872,0.41345112122368205,0.4158983137691766,0.4265178380068628,0.4108931082921872,0.42102885964430925,0.43866396429086646,0.4161856305728012,0.4348149387127582,0.4729841807210713,0.45373438853186066,0.48026662441201673,0.5030419188877442,0.5007704568002277,0.4729296116096203,0.5082183777002761,0.46954415233322355,0.4946610397192383,0.48118487438178914,0.4771370320890791,0.4723052699946317,0.4885583731587022,0.4903138619697937,0.5249469904129258,0.5533180454058467,0.5485610113331344,0.5615338912135128,0.5376935555223455,0.5631131101769744,0.536599498266811,0.5763167018856158,0.5564780351298074,0.5550029553822016,0.6024926886195149,0.5953927825049683,0.5775801267992197,0.5455483017213291,0.5311073937579743,0.5259007598668161,0.583779678457962,0.6316888039072248,0.6115173899306108,0.5896823342093647,0.634266590770668,0.6167282499847041,0.6316553578096762,0.5935211330862918,0.6284699539483953,0.6288447049022612,0.6299398320754949,0.6069328836494395,0.6218650574083915,0.6148095683651348,0.6547847361297842,0.6632144034525692,0.6332058032764939,0.6464405868062657,0.6513091864592009,0.6332839689258835,0.628505445957454,0.6844542473159029,0.6956529915069055,0.7128560542884458,0.6513955394309741,0.6807070639320184,0.6751966851676798,0.6974836639381297,0.6645456189458122,0.7293500459554805,0.7151357833784812,0.7064062757122496,0.7227449882578817,0.6935347827641134,0.7151147069115067,0.7018810670626563,0.7021585412192594,0.6627564037752304,0.6802978253968641,0.6723482036993279,0.6597028589517111,0.7008878334542252,0.6765256752027483,0.67431042124519,0.7094958260965941,0.7236734320927044,0.7345495217514273,0.7465327377764521,0.726616362442448,0.7001835569473585,0.7181757002891734,0.7412720858932607,0.7934086084287059,0.756956462060125,0.7217647062372557,0.7771523744948281,0.7745969594245187,0.7657992244246935,0.7637842893920546,0.7164029479240168,0.740869899605033,0.7656512591668727,0.7655024749324544,0.7429180491159888,0.747632904065351,0.7972465443695234,0.8165274453219187,0.8608925867118026,0.7846864215557815,0.8089360231839956,0.824672158207053,0.8237878055344365,0.7944680234439052,0.7825578901931214,0.7631225290407433,0.8348153433872367,0.7426450584777916,0.7529042187299129,0.7407421749807577,0.6969332683071269,0.713380018074297,0.7373160582111811,0.7423678544711078,0.7533119458325026,0.7251949203257623,0.7356487043860777,0.7712173745475341,0.7408878396247562,0.7536093718670944,0.7128386780197832,0.6866285393354224,0.7585228807208866,0.7736533566632471,0.7781761476939633,0.7906993951761514,0.7642999507562164,0.7781418109983747,0.7921749250789825,0.8024993073079529,0.7841402776462182,0.76946881661298,0.7676967001589262,0.7334318304480514,0.7860912378908109,0.8152084546805011,0.8528337609450389,0.8834978031900417,0.8346791855353027,0.7472844714494473,0.768605907398588,0.736778133205655,0.7859172179249126,0.745262858201873,0.7647491275799332,0.8268799503334378,0.7883337351804304,0.7815179767294261,0.875228838263849,0.8553336170904482,0.8498717683946169,0.838260004149215,0.8165081999211403,0.7644333615242687,0.7942381351748583,0.7560575504805944],\"yaxis\":\"y\",\"type\":\"scattergl\"},{\"customdata\":[[\"FL1:32 FL2:256 DR:0.3 BS:64 LR:0.005\",\"[199, 173]\"],[\"FL1:32 FL2:256 DR:0.3 BS:64 LR:0.005\",\"[199, 173]\"],[\"FL1:32 FL2:256 DR:0.3 BS:64 LR:0.005\",\"[199, 173]\"],[\"FL1:32 FL2:256 DR:0.3 BS:64 LR:0.005\",\"[199, 173]\"],[\"FL1:32 FL2:256 DR:0.3 BS:64 LR:0.005\",\"[199, 173]\"],[\"FL1:32 FL2:256 DR:0.3 BS:64 LR:0.005\",\"[199, 173]\"],[\"FL1:32 FL2:256 DR:0.3 BS:64 LR:0.005\",\"[199, 173]\"],[\"FL1:32 FL2:256 DR:0.3 BS:64 LR:0.005\",\"[199, 173]\"],[\"FL1:32 FL2:256 DR:0.3 BS:64 LR:0.005\",\"[199, 173]\"],[\"FL1:32 FL2:256 DR:0.3 BS:64 LR:0.005\",\"[199, 173]\"],[\"FL1:32 FL2:256 DR:0.3 BS:64 LR:0.005\",\"[199, 173]\"],[\"FL1:32 FL2:256 DR:0.3 BS:64 LR:0.005\",\"[199, 173]\"],[\"FL1:32 FL2:256 DR:0.3 BS:64 LR:0.005\",\"[199, 173]\"],[\"FL1:32 FL2:256 DR:0.3 BS:64 LR:0.005\",\"[199, 173]\"],[\"FL1:32 FL2:256 DR:0.3 BS:64 LR:0.005\",\"[199, 173]\"],[\"FL1:32 FL2:256 DR:0.3 BS:64 LR:0.005\",\"[199, 173]\"],[\"FL1:32 FL2:256 DR:0.3 BS:64 LR:0.005\",\"[199, 173]\"],[\"FL1:32 FL2:256 DR:0.3 BS:64 LR:0.005\",\"[199, 173]\"],[\"FL1:32 FL2:256 DR:0.3 BS:64 LR:0.005\",\"[199, 173]\"],[\"FL1:32 FL2:256 DR:0.3 BS:64 LR:0.005\",\"[199, 173]\"],[\"FL1:32 FL2:256 DR:0.3 BS:64 LR:0.005\",\"[199, 173]\"],[\"FL1:32 FL2:256 DR:0.3 BS:64 LR:0.005\",\"[199, 173]\"],[\"FL1:32 FL2:256 DR:0.3 BS:64 LR:0.005\",\"[199, 173]\"],[\"FL1:32 FL2:256 DR:0.3 BS:64 LR:0.005\",\"[199, 173]\"],[\"FL1:32 FL2:256 DR:0.3 BS:64 LR:0.005\",\"[199, 173]\"],[\"FL1:32 FL2:256 DR:0.3 BS:64 LR:0.005\",\"[199, 173]\"],[\"FL1:32 FL2:256 DR:0.3 BS:64 LR:0.005\",\"[199, 173]\"],[\"FL1:32 FL2:256 DR:0.3 BS:64 LR:0.005\",\"[199, 173]\"],[\"FL1:32 FL2:256 DR:0.3 BS:64 LR:0.005\",\"[199, 173]\"],[\"FL1:32 FL2:256 DR:0.3 BS:64 LR:0.005\",\"[199, 173]\"],[\"FL1:32 FL2:256 DR:0.3 BS:64 LR:0.005\",\"[199, 173]\"],[\"FL1:32 FL2:256 DR:0.3 BS:64 LR:0.005\",\"[199, 173]\"],[\"FL1:32 FL2:256 DR:0.3 BS:64 LR:0.005\",\"[199, 173]\"],[\"FL1:32 FL2:256 DR:0.3 BS:64 LR:0.005\",\"[199, 173]\"],[\"FL1:32 FL2:256 DR:0.3 BS:64 LR:0.005\",\"[199, 173]\"],[\"FL1:32 FL2:256 DR:0.3 BS:64 LR:0.005\",\"[199, 173]\"],[\"FL1:32 FL2:256 DR:0.3 BS:64 LR:0.005\",\"[199, 173]\"],[\"FL1:32 FL2:256 DR:0.3 BS:64 LR:0.005\",\"[199, 173]\"],[\"FL1:32 FL2:256 DR:0.3 BS:64 LR:0.005\",\"[199, 173]\"],[\"FL1:32 FL2:256 DR:0.3 BS:64 LR:0.005\",\"[199, 173]\"],[\"FL1:32 FL2:256 DR:0.3 BS:64 LR:0.005\",\"[199, 173]\"],[\"FL1:32 FL2:256 DR:0.3 BS:64 LR:0.005\",\"[199, 173]\"],[\"FL1:32 FL2:256 DR:0.3 BS:64 LR:0.005\",\"[199, 173]\"],[\"FL1:32 FL2:256 DR:0.3 BS:64 LR:0.005\",\"[199, 173]\"],[\"FL1:32 FL2:256 DR:0.3 BS:64 LR:0.005\",\"[199, 173]\"],[\"FL1:32 FL2:256 DR:0.3 BS:64 LR:0.005\",\"[199, 173]\"],[\"FL1:32 FL2:256 DR:0.3 BS:64 LR:0.005\",\"[199, 173]\"],[\"FL1:32 FL2:256 DR:0.3 BS:64 LR:0.005\",\"[199, 173]\"],[\"FL1:32 FL2:256 DR:0.3 BS:64 LR:0.005\",\"[199, 173]\"],[\"FL1:32 FL2:256 DR:0.3 BS:64 LR:0.005\",\"[199, 173]\"],[\"FL1:32 FL2:256 DR:0.3 BS:64 LR:0.005\",\"[199, 173]\"],[\"FL1:32 FL2:256 DR:0.3 BS:64 LR:0.005\",\"[199, 173]\"],[\"FL1:32 FL2:256 DR:0.3 BS:64 LR:0.005\",\"[199, 173]\"],[\"FL1:32 FL2:256 DR:0.3 BS:64 LR:0.005\",\"[199, 173]\"],[\"FL1:32 FL2:256 DR:0.3 BS:64 LR:0.005\",\"[199, 173]\"],[\"FL1:32 FL2:256 DR:0.3 BS:64 LR:0.005\",\"[199, 173]\"],[\"FL1:32 FL2:256 DR:0.3 BS:64 LR:0.005\",\"[199, 173]\"],[\"FL1:32 FL2:256 DR:0.3 BS:64 LR:0.005\",\"[199, 173]\"],[\"FL1:32 FL2:256 DR:0.3 BS:64 LR:0.005\",\"[199, 173]\"],[\"FL1:32 FL2:256 DR:0.3 BS:64 LR:0.005\",\"[199, 173]\"],[\"FL1:32 FL2:256 DR:0.3 BS:64 LR:0.005\",\"[199, 173]\"],[\"FL1:32 FL2:256 DR:0.3 BS:64 LR:0.005\",\"[199, 173]\"],[\"FL1:32 FL2:256 DR:0.3 BS:64 LR:0.005\",\"[199, 173]\"],[\"FL1:32 FL2:256 DR:0.3 BS:64 LR:0.005\",\"[199, 173]\"],[\"FL1:32 FL2:256 DR:0.3 BS:64 LR:0.005\",\"[199, 173]\"],[\"FL1:32 FL2:256 DR:0.3 BS:64 LR:0.005\",\"[199, 173]\"],[\"FL1:32 FL2:256 DR:0.3 BS:64 LR:0.005\",\"[199, 173]\"],[\"FL1:32 FL2:256 DR:0.3 BS:64 LR:0.005\",\"[199, 173]\"],[\"FL1:32 FL2:256 DR:0.3 BS:64 LR:0.005\",\"[199, 173]\"],[\"FL1:32 FL2:256 DR:0.3 BS:64 LR:0.005\",\"[199, 173]\"],[\"FL1:32 FL2:256 DR:0.3 BS:64 LR:0.005\",\"[199, 173]\"],[\"FL1:32 FL2:256 DR:0.3 BS:64 LR:0.005\",\"[199, 173]\"],[\"FL1:32 FL2:256 DR:0.3 BS:64 LR:0.005\",\"[199, 173]\"],[\"FL1:32 FL2:256 DR:0.3 BS:64 LR:0.005\",\"[199, 173]\"],[\"FL1:32 FL2:256 DR:0.3 BS:64 LR:0.005\",\"[199, 173]\"],[\"FL1:32 FL2:256 DR:0.3 BS:64 LR:0.005\",\"[199, 173]\"],[\"FL1:32 FL2:256 DR:0.3 BS:64 LR:0.005\",\"[199, 173]\"],[\"FL1:32 FL2:256 DR:0.3 BS:64 LR:0.005\",\"[199, 173]\"],[\"FL1:32 FL2:256 DR:0.3 BS:64 LR:0.005\",\"[199, 173]\"],[\"FL1:32 FL2:256 DR:0.3 BS:64 LR:0.005\",\"[199, 173]\"],[\"FL1:32 FL2:256 DR:0.3 BS:64 LR:0.005\",\"[199, 173]\"],[\"FL1:32 FL2:256 DR:0.3 BS:64 LR:0.005\",\"[199, 173]\"],[\"FL1:32 FL2:256 DR:0.3 BS:64 LR:0.005\",\"[199, 173]\"],[\"FL1:32 FL2:256 DR:0.3 BS:64 LR:0.005\",\"[199, 173]\"],[\"FL1:32 FL2:256 DR:0.3 BS:64 LR:0.005\",\"[199, 173]\"],[\"FL1:32 FL2:256 DR:0.3 BS:64 LR:0.005\",\"[199, 173]\"],[\"FL1:32 FL2:256 DR:0.3 BS:64 LR:0.005\",\"[199, 173]\"],[\"FL1:32 FL2:256 DR:0.3 BS:64 LR:0.005\",\"[199, 173]\"],[\"FL1:32 FL2:256 DR:0.3 BS:64 LR:0.005\",\"[199, 173]\"],[\"FL1:32 FL2:256 DR:0.3 BS:64 LR:0.005\",\"[199, 173]\"],[\"FL1:32 FL2:256 DR:0.3 BS:64 LR:0.005\",\"[199, 173]\"],[\"FL1:32 FL2:256 DR:0.3 BS:64 LR:0.005\",\"[199, 173]\"],[\"FL1:32 FL2:256 DR:0.3 BS:64 LR:0.005\",\"[199, 173]\"],[\"FL1:32 FL2:256 DR:0.3 BS:64 LR:0.005\",\"[199, 173]\"],[\"FL1:32 FL2:256 DR:0.3 BS:64 LR:0.005\",\"[199, 173]\"],[\"FL1:32 FL2:256 DR:0.3 BS:64 LR:0.005\",\"[199, 173]\"],[\"FL1:32 FL2:256 DR:0.3 BS:64 LR:0.005\",\"[199, 173]\"],[\"FL1:32 FL2:256 DR:0.3 BS:64 LR:0.005\",\"[199, 173]\"],[\"FL1:32 FL2:256 DR:0.3 BS:64 LR:0.005\",\"[199, 173]\"],[\"FL1:32 FL2:256 DR:0.3 BS:64 LR:0.005\",\"[199, 173]\"],[\"FL1:32 FL2:256 DR:0.3 BS:64 LR:0.005\",\"[199, 173]\"],[\"FL1:32 FL2:256 DR:0.3 BS:64 LR:0.005\",\"[199, 173]\"],[\"FL1:32 FL2:256 DR:0.3 BS:64 LR:0.005\",\"[199, 173]\"],[\"FL1:32 FL2:256 DR:0.3 BS:64 LR:0.005\",\"[199, 173]\"],[\"FL1:32 FL2:256 DR:0.3 BS:64 LR:0.005\",\"[199, 173]\"],[\"FL1:32 FL2:256 DR:0.3 BS:64 LR:0.005\",\"[199, 173]\"],[\"FL1:32 FL2:256 DR:0.3 BS:64 LR:0.005\",\"[199, 173]\"],[\"FL1:32 FL2:256 DR:0.3 BS:64 LR:0.005\",\"[199, 173]\"],[\"FL1:32 FL2:256 DR:0.3 BS:64 LR:0.005\",\"[199, 173]\"],[\"FL1:32 FL2:256 DR:0.3 BS:64 LR:0.005\",\"[199, 173]\"],[\"FL1:32 FL2:256 DR:0.3 BS:64 LR:0.005\",\"[199, 173]\"],[\"FL1:32 FL2:256 DR:0.3 BS:64 LR:0.005\",\"[199, 173]\"],[\"FL1:32 FL2:256 DR:0.3 BS:64 LR:0.005\",\"[199, 173]\"],[\"FL1:32 FL2:256 DR:0.3 BS:64 LR:0.005\",\"[199, 173]\"],[\"FL1:32 FL2:256 DR:0.3 BS:64 LR:0.005\",\"[199, 173]\"],[\"FL1:32 FL2:256 DR:0.3 BS:64 LR:0.005\",\"[199, 173]\"],[\"FL1:32 FL2:256 DR:0.3 BS:64 LR:0.005\",\"[199, 173]\"],[\"FL1:32 FL2:256 DR:0.3 BS:64 LR:0.005\",\"[199, 173]\"],[\"FL1:32 FL2:256 DR:0.3 BS:64 LR:0.005\",\"[199, 173]\"],[\"FL1:32 FL2:256 DR:0.3 BS:64 LR:0.005\",\"[199, 173]\"],[\"FL1:32 FL2:256 DR:0.3 BS:64 LR:0.005\",\"[199, 173]\"],[\"FL1:32 FL2:256 DR:0.3 BS:64 LR:0.005\",\"[199, 173]\"],[\"FL1:32 FL2:256 DR:0.3 BS:64 LR:0.005\",\"[199, 173]\"],[\"FL1:32 FL2:256 DR:0.3 BS:64 LR:0.005\",\"[199, 173]\"],[\"FL1:32 FL2:256 DR:0.3 BS:64 LR:0.005\",\"[199, 173]\"],[\"FL1:32 FL2:256 DR:0.3 BS:64 LR:0.005\",\"[199, 173]\"],[\"FL1:32 FL2:256 DR:0.3 BS:64 LR:0.005\",\"[199, 173]\"],[\"FL1:32 FL2:256 DR:0.3 BS:64 LR:0.005\",\"[199, 173]\"],[\"FL1:32 FL2:256 DR:0.3 BS:64 LR:0.005\",\"[199, 173]\"],[\"FL1:32 FL2:256 DR:0.3 BS:64 LR:0.005\",\"[199, 173]\"],[\"FL1:32 FL2:256 DR:0.3 BS:64 LR:0.005\",\"[199, 173]\"],[\"FL1:32 FL2:256 DR:0.3 BS:64 LR:0.005\",\"[199, 173]\"],[\"FL1:32 FL2:256 DR:0.3 BS:64 LR:0.005\",\"[199, 173]\"],[\"FL1:32 FL2:256 DR:0.3 BS:64 LR:0.005\",\"[199, 173]\"],[\"FL1:32 FL2:256 DR:0.3 BS:64 LR:0.005\",\"[199, 173]\"],[\"FL1:32 FL2:256 DR:0.3 BS:64 LR:0.005\",\"[199, 173]\"],[\"FL1:32 FL2:256 DR:0.3 BS:64 LR:0.005\",\"[199, 173]\"],[\"FL1:32 FL2:256 DR:0.3 BS:64 LR:0.005\",\"[199, 173]\"],[\"FL1:32 FL2:256 DR:0.3 BS:64 LR:0.005\",\"[199, 173]\"],[\"FL1:32 FL2:256 DR:0.3 BS:64 LR:0.005\",\"[199, 173]\"],[\"FL1:32 FL2:256 DR:0.3 BS:64 LR:0.005\",\"[199, 173]\"],[\"FL1:32 FL2:256 DR:0.3 BS:64 LR:0.005\",\"[199, 173]\"],[\"FL1:32 FL2:256 DR:0.3 BS:64 LR:0.005\",\"[199, 173]\"],[\"FL1:32 FL2:256 DR:0.3 BS:64 LR:0.005\",\"[199, 173]\"],[\"FL1:32 FL2:256 DR:0.3 BS:64 LR:0.005\",\"[199, 173]\"],[\"FL1:32 FL2:256 DR:0.3 BS:64 LR:0.005\",\"[199, 173]\"],[\"FL1:32 FL2:256 DR:0.3 BS:64 LR:0.005\",\"[199, 173]\"],[\"FL1:32 FL2:256 DR:0.3 BS:64 LR:0.005\",\"[199, 173]\"],[\"FL1:32 FL2:256 DR:0.3 BS:64 LR:0.005\",\"[199, 173]\"],[\"FL1:32 FL2:256 DR:0.3 BS:64 LR:0.005\",\"[199, 173]\"],[\"FL1:32 FL2:256 DR:0.3 BS:64 LR:0.005\",\"[199, 173]\"],[\"FL1:32 FL2:256 DR:0.3 BS:64 LR:0.005\",\"[199, 173]\"],[\"FL1:32 FL2:256 DR:0.3 BS:64 LR:0.005\",\"[199, 173]\"],[\"FL1:32 FL2:256 DR:0.3 BS:64 LR:0.005\",\"[199, 173]\"],[\"FL1:32 FL2:256 DR:0.3 BS:64 LR:0.005\",\"[199, 173]\"],[\"FL1:32 FL2:256 DR:0.3 BS:64 LR:0.005\",\"[199, 173]\"],[\"FL1:32 FL2:256 DR:0.3 BS:64 LR:0.005\",\"[199, 173]\"],[\"FL1:32 FL2:256 DR:0.3 BS:64 LR:0.005\",\"[199, 173]\"],[\"FL1:32 FL2:256 DR:0.3 BS:64 LR:0.005\",\"[199, 173]\"],[\"FL1:32 FL2:256 DR:0.3 BS:64 LR:0.005\",\"[199, 173]\"],[\"FL1:32 FL2:256 DR:0.3 BS:64 LR:0.005\",\"[199, 173]\"],[\"FL1:32 FL2:256 DR:0.3 BS:64 LR:0.005\",\"[199, 173]\"],[\"FL1:32 FL2:256 DR:0.3 BS:64 LR:0.005\",\"[199, 173]\"],[\"FL1:32 FL2:256 DR:0.3 BS:64 LR:0.005\",\"[199, 173]\"],[\"FL1:32 FL2:256 DR:0.3 BS:64 LR:0.005\",\"[199, 173]\"],[\"FL1:32 FL2:256 DR:0.3 BS:64 LR:0.005\",\"[199, 173]\"],[\"FL1:32 FL2:256 DR:0.3 BS:64 LR:0.005\",\"[199, 173]\"],[\"FL1:32 FL2:256 DR:0.3 BS:64 LR:0.005\",\"[199, 173]\"],[\"FL1:32 FL2:256 DR:0.3 BS:64 LR:0.005\",\"[199, 173]\"],[\"FL1:32 FL2:256 DR:0.3 BS:64 LR:0.005\",\"[199, 173]\"],[\"FL1:32 FL2:256 DR:0.3 BS:64 LR:0.005\",\"[199, 173]\"],[\"FL1:32 FL2:256 DR:0.3 BS:64 LR:0.005\",\"[199, 173]\"],[\"FL1:32 FL2:256 DR:0.3 BS:64 LR:0.005\",\"[199, 173]\"],[\"FL1:32 FL2:256 DR:0.3 BS:64 LR:0.005\",\"[199, 173]\"],[\"FL1:32 FL2:256 DR:0.3 BS:64 LR:0.005\",\"[199, 173]\"],[\"FL1:32 FL2:256 DR:0.3 BS:64 LR:0.005\",\"[199, 173]\"],[\"FL1:32 FL2:256 DR:0.3 BS:64 LR:0.005\",\"[199, 173]\"],[\"FL1:32 FL2:256 DR:0.3 BS:64 LR:0.005\",\"[199, 173]\"],[\"FL1:32 FL2:256 DR:0.3 BS:64 LR:0.005\",\"[199, 173]\"],[\"FL1:32 FL2:256 DR:0.3 BS:64 LR:0.005\",\"[199, 173]\"],[\"FL1:32 FL2:256 DR:0.3 BS:64 LR:0.005\",\"[199, 173]\"],[\"FL1:32 FL2:256 DR:0.3 BS:64 LR:0.005\",\"[199, 173]\"],[\"FL1:32 FL2:256 DR:0.3 BS:64 LR:0.005\",\"[199, 173]\"],[\"FL1:32 FL2:256 DR:0.3 BS:64 LR:0.005\",\"[199, 173]\"],[\"FL1:32 FL2:256 DR:0.3 BS:64 LR:0.005\",\"[199, 173]\"],[\"FL1:32 FL2:256 DR:0.3 BS:64 LR:0.005\",\"[199, 173]\"],[\"FL1:32 FL2:256 DR:0.3 BS:64 LR:0.005\",\"[199, 173]\"],[\"FL1:32 FL2:256 DR:0.3 BS:64 LR:0.005\",\"[199, 173]\"],[\"FL1:32 FL2:256 DR:0.3 BS:64 LR:0.005\",\"[199, 173]\"],[\"FL1:32 FL2:256 DR:0.3 BS:64 LR:0.005\",\"[199, 173]\"],[\"FL1:32 FL2:256 DR:0.3 BS:64 LR:0.005\",\"[199, 173]\"],[\"FL1:32 FL2:256 DR:0.3 BS:64 LR:0.005\",\"[199, 173]\"],[\"FL1:32 FL2:256 DR:0.3 BS:64 LR:0.005\",\"[199, 173]\"],[\"FL1:32 FL2:256 DR:0.3 BS:64 LR:0.005\",\"[199, 173]\"],[\"FL1:32 FL2:256 DR:0.3 BS:64 LR:0.005\",\"[199, 173]\"],[\"FL1:32 FL2:256 DR:0.3 BS:64 LR:0.005\",\"[199, 173]\"],[\"FL1:32 FL2:256 DR:0.3 BS:64 LR:0.005\",\"[199, 173]\"],[\"FL1:32 FL2:256 DR:0.3 BS:64 LR:0.005\",\"[199, 173]\"],[\"FL1:32 FL2:256 DR:0.3 BS:64 LR:0.005\",\"[199, 173]\"],[\"FL1:32 FL2:256 DR:0.3 BS:64 LR:0.005\",\"[199, 173]\"]],\"hovertemplate\":\"variable=val_loss\\u003cbr\\u003etrial_id=802fd_00006\\u003cbr\\u003eepoch=%{x}\\u003cbr\\u003evalue=%{y}\\u003cbr\\u003eHyperparameters=%{customdata[0]}\\u003cbr\\u003echeckpoints=%{customdata[1]}\\u003cextra\\u003e\\u003c\\u002fextra\\u003e\",\"legendgroup\":\"val_loss, 802fd_00006\",\"line\":{\"color\":\"#636efa\",\"dash\":\"longdash\"},\"marker\":{\"symbol\":\"circle\"},\"mode\":\"lines\",\"name\":\"val_loss, 802fd_00006\",\"showlegend\":true,\"x\":[0,1,2,3,4,5,6,7,8,9,10,11,12,13,14,15,16,17,18,19,20,21,22,23,24,25,26,27,28,29,30,31,32,33,34,35,36,37,38,39,40,41,42,43,44,45,46,47,48,49,50,51,52,53,54,55,56,57,58,59,60,61,62,63,64,65,66,67,68,69,70,71,72,73,74,75,76,77,78,79,80,81,82,83,84,85,86,87,88,89,90,91,92,93,94,95,96,97,98,99,100,101,102,103,104,105,106,107,108,109,110,111,112,113,114,115,116,117,118,119,120,121,122,123,124,125,126,127,128,129,130,131,132,133,134,135,136,137,138,139,140,141,142,143,144,145,146,147,148,149,150,151,152,153,154,155,156,157,158,159,160,161,162,163,164,165,166,167,168,169,170,171,172,173,174,175,176,177,178,179,180,181,182,183,184,185,186,187,188,189,190,191,192,193,194,195,196,197,198,199],\"xaxis\":\"x\",\"y\":[0.7567968964576703,0.673369487126666,0.5783663425180623,0.4939895393671788,0.4336277824125149,0.40547942992590835,0.37119439162507895,0.3684105966998148,0.3508116665491129,0.33894860168355395,0.3307710847593518,0.33828136068828624,0.3311948262469478,0.32437218777447907,0.32075168723603,0.3126253521094044,0.31187049783927256,0.31295102660961904,0.32540265603269364,0.3287876207524214,0.32217234100856135,0.32933015443191016,0.3246261630939442,0.316163023610048,0.3108541106509708,0.31300240989046174,0.2993109539847691,0.31909971539849086,0.3255649745773866,0.33885421953675354,0.35182989373523044,0.34588288754037966,0.34156836728130335,0.33776013162317836,0.3443330102932641,0.355241985703321,0.3793498188818893,0.3639424085991508,0.3585181097439205,0.3767275220984393,0.3805568620121585,0.37874807613135003,0.42421113581816644,0.41115407567130297,0.4242831065979707,0.43703790801942943,0.4075966033550135,0.43101812423679664,0.4262203443143983,0.41868288438149326,0.4207317207960809,0.4257274153966712,0.4184890510730606,0.46623663916141733,0.42420983522435574,0.40486578285230806,0.39948868512798325,0.38671933452082247,0.3956790986312258,0.4275141042240997,0.42572020370221964,0.4180730904370989,0.4165728307585207,0.41521815901466685,0.4048338528836326,0.40599784230951075,0.40975243830524183,0.40172022239262634,0.4351127720931807,0.4563507223831032,0.4654751376778813,0.47774821231569936,0.4570040782942105,0.4579039170115334,0.44035580448105127,0.4416688362213904,0.4275405294003036,0.43723267557236417,0.4670439179871657,0.4582424141389902,0.44421884268010714,0.4278168469633323,0.41436514854203643,0.430102441706729,0.42306221789682613,0.4269002263186015,0.40258683989032273,0.3909001200039124,0.3882315952671185,0.3980410926270882,0.4146338756037012,0.3990065988667967,0.40422653733148484,0.4106831920044565,0.44638908385547826,0.43472294330141736,0.4509493001271726,0.4275805875969879,0.4144176294613505,0.3985405796242166,0.4198080455907445,0.4443867806360618,0.47068395242197486,0.4982670282330975,0.44993783268709003,0.44440998457126396,0.44181646123364515,0.41547637989014263,0.4467032141810635,0.4273236219966388,0.4199330690757409,0.4357463441461959,0.42370507267916363,0.4061363249871733,0.42978571255032116,0.4385418785878269,0.4628401924019542,0.4736602159901108,0.4649422170429514,0.44778315237555716,0.4451397227670991,0.47281822677627044,0.46108548916826436,0.46890676404005693,0.4663351402346706,0.4590503424846067,0.44508313142213024,0.4853181574275267,0.515437207853142,0.5147712179259073,0.5325785244991773,0.519567566811401,0.5253928420936773,0.5104688583477134,0.5089166481404686,0.5610866559286356,0.5802178987356966,0.6024521396221666,0.5507708261848776,0.5401257521868592,0.5252187117577148,0.5234874198596037,0.546774308533161,0.5457775464658519,0.5718581591052849,0.6157809240290201,0.5984139669384331,0.5557196986970473,0.5458061464824379,0.5435563172365613,0.5369260208782466,0.5037269623396725,0.49773395268903264,0.4997109387237887,0.4746800703418947,0.4946499495117318,0.4539721825658241,0.4517868405540084,0.4631860518428536,0.46115389227687226,0.5029175662982377,0.46345809658288295,0.44993719829399836,0.4707475329324886,0.4925361689518071,0.49049531198807284,0.5351163067901632,0.5825823690152483,0.5948546029234126,0.5603712762133399,0.515141454983824,0.575444060993904,0.5469420773669829,0.5819729912866967,0.5569011799885033,0.5752662772862897,0.5605668263255733,0.5879348606943524,0.49270295706586215,0.4574703846189448,0.46116480057855797,0.4683409818372473,0.5138538405869618,0.49702631934312963,0.4837424424213027,0.472275950307438,0.4763051621084661,0.47415147569214194,0.485059866285554,0.48966347772295576,0.48744391135649634,0.4913960710649793,0.5058803767287126,0.49376466276403097,0.5155351321045268,0.5330366002283949,0.5415627033685604,0.5294201354963873,0.5628824419964201,0.5353946710420205],\"yaxis\":\"y\",\"type\":\"scattergl\"},{\"customdata\":[[\"FL1:16 FL2:512 DR:0.6 BS:32 LR:0.0001\",\"[46, 199]\"],[\"FL1:16 FL2:512 DR:0.6 BS:32 LR:0.0001\",\"[46, 199]\"],[\"FL1:16 FL2:512 DR:0.6 BS:32 LR:0.0001\",\"[46, 199]\"],[\"FL1:16 FL2:512 DR:0.6 BS:32 LR:0.0001\",\"[46, 199]\"],[\"FL1:16 FL2:512 DR:0.6 BS:32 LR:0.0001\",\"[46, 199]\"],[\"FL1:16 FL2:512 DR:0.6 BS:32 LR:0.0001\",\"[46, 199]\"],[\"FL1:16 FL2:512 DR:0.6 BS:32 LR:0.0001\",\"[46, 199]\"],[\"FL1:16 FL2:512 DR:0.6 BS:32 LR:0.0001\",\"[46, 199]\"],[\"FL1:16 FL2:512 DR:0.6 BS:32 LR:0.0001\",\"[46, 199]\"],[\"FL1:16 FL2:512 DR:0.6 BS:32 LR:0.0001\",\"[46, 199]\"],[\"FL1:16 FL2:512 DR:0.6 BS:32 LR:0.0001\",\"[46, 199]\"],[\"FL1:16 FL2:512 DR:0.6 BS:32 LR:0.0001\",\"[46, 199]\"],[\"FL1:16 FL2:512 DR:0.6 BS:32 LR:0.0001\",\"[46, 199]\"],[\"FL1:16 FL2:512 DR:0.6 BS:32 LR:0.0001\",\"[46, 199]\"],[\"FL1:16 FL2:512 DR:0.6 BS:32 LR:0.0001\",\"[46, 199]\"],[\"FL1:16 FL2:512 DR:0.6 BS:32 LR:0.0001\",\"[46, 199]\"],[\"FL1:16 FL2:512 DR:0.6 BS:32 LR:0.0001\",\"[46, 199]\"],[\"FL1:16 FL2:512 DR:0.6 BS:32 LR:0.0001\",\"[46, 199]\"],[\"FL1:16 FL2:512 DR:0.6 BS:32 LR:0.0001\",\"[46, 199]\"],[\"FL1:16 FL2:512 DR:0.6 BS:32 LR:0.0001\",\"[46, 199]\"],[\"FL1:16 FL2:512 DR:0.6 BS:32 LR:0.0001\",\"[46, 199]\"],[\"FL1:16 FL2:512 DR:0.6 BS:32 LR:0.0001\",\"[46, 199]\"],[\"FL1:16 FL2:512 DR:0.6 BS:32 LR:0.0001\",\"[46, 199]\"],[\"FL1:16 FL2:512 DR:0.6 BS:32 LR:0.0001\",\"[46, 199]\"],[\"FL1:16 FL2:512 DR:0.6 BS:32 LR:0.0001\",\"[46, 199]\"],[\"FL1:16 FL2:512 DR:0.6 BS:32 LR:0.0001\",\"[46, 199]\"],[\"FL1:16 FL2:512 DR:0.6 BS:32 LR:0.0001\",\"[46, 199]\"],[\"FL1:16 FL2:512 DR:0.6 BS:32 LR:0.0001\",\"[46, 199]\"],[\"FL1:16 FL2:512 DR:0.6 BS:32 LR:0.0001\",\"[46, 199]\"],[\"FL1:16 FL2:512 DR:0.6 BS:32 LR:0.0001\",\"[46, 199]\"],[\"FL1:16 FL2:512 DR:0.6 BS:32 LR:0.0001\",\"[46, 199]\"],[\"FL1:16 FL2:512 DR:0.6 BS:32 LR:0.0001\",\"[46, 199]\"],[\"FL1:16 FL2:512 DR:0.6 BS:32 LR:0.0001\",\"[46, 199]\"],[\"FL1:16 FL2:512 DR:0.6 BS:32 LR:0.0001\",\"[46, 199]\"],[\"FL1:16 FL2:512 DR:0.6 BS:32 LR:0.0001\",\"[46, 199]\"],[\"FL1:16 FL2:512 DR:0.6 BS:32 LR:0.0001\",\"[46, 199]\"],[\"FL1:16 FL2:512 DR:0.6 BS:32 LR:0.0001\",\"[46, 199]\"],[\"FL1:16 FL2:512 DR:0.6 BS:32 LR:0.0001\",\"[46, 199]\"],[\"FL1:16 FL2:512 DR:0.6 BS:32 LR:0.0001\",\"[46, 199]\"],[\"FL1:16 FL2:512 DR:0.6 BS:32 LR:0.0001\",\"[46, 199]\"],[\"FL1:16 FL2:512 DR:0.6 BS:32 LR:0.0001\",\"[46, 199]\"],[\"FL1:16 FL2:512 DR:0.6 BS:32 LR:0.0001\",\"[46, 199]\"],[\"FL1:16 FL2:512 DR:0.6 BS:32 LR:0.0001\",\"[46, 199]\"],[\"FL1:16 FL2:512 DR:0.6 BS:32 LR:0.0001\",\"[46, 199]\"],[\"FL1:16 FL2:512 DR:0.6 BS:32 LR:0.0001\",\"[46, 199]\"],[\"FL1:16 FL2:512 DR:0.6 BS:32 LR:0.0001\",\"[46, 199]\"],[\"FL1:16 FL2:512 DR:0.6 BS:32 LR:0.0001\",\"[46, 199]\"],[\"FL1:16 FL2:512 DR:0.6 BS:32 LR:0.0001\",\"[46, 199]\"],[\"FL1:16 FL2:512 DR:0.6 BS:32 LR:0.0001\",\"[46, 199]\"],[\"FL1:16 FL2:512 DR:0.6 BS:32 LR:0.0001\",\"[46, 199]\"],[\"FL1:16 FL2:512 DR:0.6 BS:32 LR:0.0001\",\"[46, 199]\"],[\"FL1:16 FL2:512 DR:0.6 BS:32 LR:0.0001\",\"[46, 199]\"],[\"FL1:16 FL2:512 DR:0.6 BS:32 LR:0.0001\",\"[46, 199]\"],[\"FL1:16 FL2:512 DR:0.6 BS:32 LR:0.0001\",\"[46, 199]\"],[\"FL1:16 FL2:512 DR:0.6 BS:32 LR:0.0001\",\"[46, 199]\"],[\"FL1:16 FL2:512 DR:0.6 BS:32 LR:0.0001\",\"[46, 199]\"],[\"FL1:16 FL2:512 DR:0.6 BS:32 LR:0.0001\",\"[46, 199]\"],[\"FL1:16 FL2:512 DR:0.6 BS:32 LR:0.0001\",\"[46, 199]\"],[\"FL1:16 FL2:512 DR:0.6 BS:32 LR:0.0001\",\"[46, 199]\"],[\"FL1:16 FL2:512 DR:0.6 BS:32 LR:0.0001\",\"[46, 199]\"],[\"FL1:16 FL2:512 DR:0.6 BS:32 LR:0.0001\",\"[46, 199]\"],[\"FL1:16 FL2:512 DR:0.6 BS:32 LR:0.0001\",\"[46, 199]\"],[\"FL1:16 FL2:512 DR:0.6 BS:32 LR:0.0001\",\"[46, 199]\"],[\"FL1:16 FL2:512 DR:0.6 BS:32 LR:0.0001\",\"[46, 199]\"],[\"FL1:16 FL2:512 DR:0.6 BS:32 LR:0.0001\",\"[46, 199]\"],[\"FL1:16 FL2:512 DR:0.6 BS:32 LR:0.0001\",\"[46, 199]\"],[\"FL1:16 FL2:512 DR:0.6 BS:32 LR:0.0001\",\"[46, 199]\"],[\"FL1:16 FL2:512 DR:0.6 BS:32 LR:0.0001\",\"[46, 199]\"],[\"FL1:16 FL2:512 DR:0.6 BS:32 LR:0.0001\",\"[46, 199]\"],[\"FL1:16 FL2:512 DR:0.6 BS:32 LR:0.0001\",\"[46, 199]\"],[\"FL1:16 FL2:512 DR:0.6 BS:32 LR:0.0001\",\"[46, 199]\"],[\"FL1:16 FL2:512 DR:0.6 BS:32 LR:0.0001\",\"[46, 199]\"],[\"FL1:16 FL2:512 DR:0.6 BS:32 LR:0.0001\",\"[46, 199]\"],[\"FL1:16 FL2:512 DR:0.6 BS:32 LR:0.0001\",\"[46, 199]\"],[\"FL1:16 FL2:512 DR:0.6 BS:32 LR:0.0001\",\"[46, 199]\"],[\"FL1:16 FL2:512 DR:0.6 BS:32 LR:0.0001\",\"[46, 199]\"],[\"FL1:16 FL2:512 DR:0.6 BS:32 LR:0.0001\",\"[46, 199]\"],[\"FL1:16 FL2:512 DR:0.6 BS:32 LR:0.0001\",\"[46, 199]\"],[\"FL1:16 FL2:512 DR:0.6 BS:32 LR:0.0001\",\"[46, 199]\"],[\"FL1:16 FL2:512 DR:0.6 BS:32 LR:0.0001\",\"[46, 199]\"],[\"FL1:16 FL2:512 DR:0.6 BS:32 LR:0.0001\",\"[46, 199]\"],[\"FL1:16 FL2:512 DR:0.6 BS:32 LR:0.0001\",\"[46, 199]\"],[\"FL1:16 FL2:512 DR:0.6 BS:32 LR:0.0001\",\"[46, 199]\"],[\"FL1:16 FL2:512 DR:0.6 BS:32 LR:0.0001\",\"[46, 199]\"],[\"FL1:16 FL2:512 DR:0.6 BS:32 LR:0.0001\",\"[46, 199]\"],[\"FL1:16 FL2:512 DR:0.6 BS:32 LR:0.0001\",\"[46, 199]\"],[\"FL1:16 FL2:512 DR:0.6 BS:32 LR:0.0001\",\"[46, 199]\"],[\"FL1:16 FL2:512 DR:0.6 BS:32 LR:0.0001\",\"[46, 199]\"],[\"FL1:16 FL2:512 DR:0.6 BS:32 LR:0.0001\",\"[46, 199]\"],[\"FL1:16 FL2:512 DR:0.6 BS:32 LR:0.0001\",\"[46, 199]\"],[\"FL1:16 FL2:512 DR:0.6 BS:32 LR:0.0001\",\"[46, 199]\"],[\"FL1:16 FL2:512 DR:0.6 BS:32 LR:0.0001\",\"[46, 199]\"],[\"FL1:16 FL2:512 DR:0.6 BS:32 LR:0.0001\",\"[46, 199]\"],[\"FL1:16 FL2:512 DR:0.6 BS:32 LR:0.0001\",\"[46, 199]\"],[\"FL1:16 FL2:512 DR:0.6 BS:32 LR:0.0001\",\"[46, 199]\"],[\"FL1:16 FL2:512 DR:0.6 BS:32 LR:0.0001\",\"[46, 199]\"],[\"FL1:16 FL2:512 DR:0.6 BS:32 LR:0.0001\",\"[46, 199]\"],[\"FL1:16 FL2:512 DR:0.6 BS:32 LR:0.0001\",\"[46, 199]\"],[\"FL1:16 FL2:512 DR:0.6 BS:32 LR:0.0001\",\"[46, 199]\"],[\"FL1:16 FL2:512 DR:0.6 BS:32 LR:0.0001\",\"[46, 199]\"],[\"FL1:16 FL2:512 DR:0.6 BS:32 LR:0.0001\",\"[46, 199]\"],[\"FL1:16 FL2:512 DR:0.6 BS:32 LR:0.0001\",\"[46, 199]\"],[\"FL1:16 FL2:512 DR:0.6 BS:32 LR:0.0001\",\"[46, 199]\"],[\"FL1:16 FL2:512 DR:0.6 BS:32 LR:0.0001\",\"[46, 199]\"],[\"FL1:16 FL2:512 DR:0.6 BS:32 LR:0.0001\",\"[46, 199]\"],[\"FL1:16 FL2:512 DR:0.6 BS:32 LR:0.0001\",\"[46, 199]\"],[\"FL1:16 FL2:512 DR:0.6 BS:32 LR:0.0001\",\"[46, 199]\"],[\"FL1:16 FL2:512 DR:0.6 BS:32 LR:0.0001\",\"[46, 199]\"],[\"FL1:16 FL2:512 DR:0.6 BS:32 LR:0.0001\",\"[46, 199]\"],[\"FL1:16 FL2:512 DR:0.6 BS:32 LR:0.0001\",\"[46, 199]\"],[\"FL1:16 FL2:512 DR:0.6 BS:32 LR:0.0001\",\"[46, 199]\"],[\"FL1:16 FL2:512 DR:0.6 BS:32 LR:0.0001\",\"[46, 199]\"],[\"FL1:16 FL2:512 DR:0.6 BS:32 LR:0.0001\",\"[46, 199]\"],[\"FL1:16 FL2:512 DR:0.6 BS:32 LR:0.0001\",\"[46, 199]\"],[\"FL1:16 FL2:512 DR:0.6 BS:32 LR:0.0001\",\"[46, 199]\"],[\"FL1:16 FL2:512 DR:0.6 BS:32 LR:0.0001\",\"[46, 199]\"],[\"FL1:16 FL2:512 DR:0.6 BS:32 LR:0.0001\",\"[46, 199]\"],[\"FL1:16 FL2:512 DR:0.6 BS:32 LR:0.0001\",\"[46, 199]\"],[\"FL1:16 FL2:512 DR:0.6 BS:32 LR:0.0001\",\"[46, 199]\"],[\"FL1:16 FL2:512 DR:0.6 BS:32 LR:0.0001\",\"[46, 199]\"],[\"FL1:16 FL2:512 DR:0.6 BS:32 LR:0.0001\",\"[46, 199]\"],[\"FL1:16 FL2:512 DR:0.6 BS:32 LR:0.0001\",\"[46, 199]\"],[\"FL1:16 FL2:512 DR:0.6 BS:32 LR:0.0001\",\"[46, 199]\"],[\"FL1:16 FL2:512 DR:0.6 BS:32 LR:0.0001\",\"[46, 199]\"],[\"FL1:16 FL2:512 DR:0.6 BS:32 LR:0.0001\",\"[46, 199]\"],[\"FL1:16 FL2:512 DR:0.6 BS:32 LR:0.0001\",\"[46, 199]\"],[\"FL1:16 FL2:512 DR:0.6 BS:32 LR:0.0001\",\"[46, 199]\"],[\"FL1:16 FL2:512 DR:0.6 BS:32 LR:0.0001\",\"[46, 199]\"],[\"FL1:16 FL2:512 DR:0.6 BS:32 LR:0.0001\",\"[46, 199]\"],[\"FL1:16 FL2:512 DR:0.6 BS:32 LR:0.0001\",\"[46, 199]\"],[\"FL1:16 FL2:512 DR:0.6 BS:32 LR:0.0001\",\"[46, 199]\"],[\"FL1:16 FL2:512 DR:0.6 BS:32 LR:0.0001\",\"[46, 199]\"],[\"FL1:16 FL2:512 DR:0.6 BS:32 LR:0.0001\",\"[46, 199]\"],[\"FL1:16 FL2:512 DR:0.6 BS:32 LR:0.0001\",\"[46, 199]\"],[\"FL1:16 FL2:512 DR:0.6 BS:32 LR:0.0001\",\"[46, 199]\"],[\"FL1:16 FL2:512 DR:0.6 BS:32 LR:0.0001\",\"[46, 199]\"],[\"FL1:16 FL2:512 DR:0.6 BS:32 LR:0.0001\",\"[46, 199]\"],[\"FL1:16 FL2:512 DR:0.6 BS:32 LR:0.0001\",\"[46, 199]\"],[\"FL1:16 FL2:512 DR:0.6 BS:32 LR:0.0001\",\"[46, 199]\"],[\"FL1:16 FL2:512 DR:0.6 BS:32 LR:0.0001\",\"[46, 199]\"],[\"FL1:16 FL2:512 DR:0.6 BS:32 LR:0.0001\",\"[46, 199]\"],[\"FL1:16 FL2:512 DR:0.6 BS:32 LR:0.0001\",\"[46, 199]\"],[\"FL1:16 FL2:512 DR:0.6 BS:32 LR:0.0001\",\"[46, 199]\"],[\"FL1:16 FL2:512 DR:0.6 BS:32 LR:0.0001\",\"[46, 199]\"],[\"FL1:16 FL2:512 DR:0.6 BS:32 LR:0.0001\",\"[46, 199]\"],[\"FL1:16 FL2:512 DR:0.6 BS:32 LR:0.0001\",\"[46, 199]\"],[\"FL1:16 FL2:512 DR:0.6 BS:32 LR:0.0001\",\"[46, 199]\"],[\"FL1:16 FL2:512 DR:0.6 BS:32 LR:0.0001\",\"[46, 199]\"],[\"FL1:16 FL2:512 DR:0.6 BS:32 LR:0.0001\",\"[46, 199]\"],[\"FL1:16 FL2:512 DR:0.6 BS:32 LR:0.0001\",\"[46, 199]\"],[\"FL1:16 FL2:512 DR:0.6 BS:32 LR:0.0001\",\"[46, 199]\"],[\"FL1:16 FL2:512 DR:0.6 BS:32 LR:0.0001\",\"[46, 199]\"],[\"FL1:16 FL2:512 DR:0.6 BS:32 LR:0.0001\",\"[46, 199]\"],[\"FL1:16 FL2:512 DR:0.6 BS:32 LR:0.0001\",\"[46, 199]\"],[\"FL1:16 FL2:512 DR:0.6 BS:32 LR:0.0001\",\"[46, 199]\"],[\"FL1:16 FL2:512 DR:0.6 BS:32 LR:0.0001\",\"[46, 199]\"],[\"FL1:16 FL2:512 DR:0.6 BS:32 LR:0.0001\",\"[46, 199]\"],[\"FL1:16 FL2:512 DR:0.6 BS:32 LR:0.0001\",\"[46, 199]\"],[\"FL1:16 FL2:512 DR:0.6 BS:32 LR:0.0001\",\"[46, 199]\"],[\"FL1:16 FL2:512 DR:0.6 BS:32 LR:0.0001\",\"[46, 199]\"],[\"FL1:16 FL2:512 DR:0.6 BS:32 LR:0.0001\",\"[46, 199]\"],[\"FL1:16 FL2:512 DR:0.6 BS:32 LR:0.0001\",\"[46, 199]\"],[\"FL1:16 FL2:512 DR:0.6 BS:32 LR:0.0001\",\"[46, 199]\"],[\"FL1:16 FL2:512 DR:0.6 BS:32 LR:0.0001\",\"[46, 199]\"],[\"FL1:16 FL2:512 DR:0.6 BS:32 LR:0.0001\",\"[46, 199]\"],[\"FL1:16 FL2:512 DR:0.6 BS:32 LR:0.0001\",\"[46, 199]\"],[\"FL1:16 FL2:512 DR:0.6 BS:32 LR:0.0001\",\"[46, 199]\"],[\"FL1:16 FL2:512 DR:0.6 BS:32 LR:0.0001\",\"[46, 199]\"],[\"FL1:16 FL2:512 DR:0.6 BS:32 LR:0.0001\",\"[46, 199]\"],[\"FL1:16 FL2:512 DR:0.6 BS:32 LR:0.0001\",\"[46, 199]\"],[\"FL1:16 FL2:512 DR:0.6 BS:32 LR:0.0001\",\"[46, 199]\"],[\"FL1:16 FL2:512 DR:0.6 BS:32 LR:0.0001\",\"[46, 199]\"],[\"FL1:16 FL2:512 DR:0.6 BS:32 LR:0.0001\",\"[46, 199]\"],[\"FL1:16 FL2:512 DR:0.6 BS:32 LR:0.0001\",\"[46, 199]\"],[\"FL1:16 FL2:512 DR:0.6 BS:32 LR:0.0001\",\"[46, 199]\"],[\"FL1:16 FL2:512 DR:0.6 BS:32 LR:0.0001\",\"[46, 199]\"],[\"FL1:16 FL2:512 DR:0.6 BS:32 LR:0.0001\",\"[46, 199]\"],[\"FL1:16 FL2:512 DR:0.6 BS:32 LR:0.0001\",\"[46, 199]\"],[\"FL1:16 FL2:512 DR:0.6 BS:32 LR:0.0001\",\"[46, 199]\"],[\"FL1:16 FL2:512 DR:0.6 BS:32 LR:0.0001\",\"[46, 199]\"],[\"FL1:16 FL2:512 DR:0.6 BS:32 LR:0.0001\",\"[46, 199]\"],[\"FL1:16 FL2:512 DR:0.6 BS:32 LR:0.0001\",\"[46, 199]\"],[\"FL1:16 FL2:512 DR:0.6 BS:32 LR:0.0001\",\"[46, 199]\"],[\"FL1:16 FL2:512 DR:0.6 BS:32 LR:0.0001\",\"[46, 199]\"],[\"FL1:16 FL2:512 DR:0.6 BS:32 LR:0.0001\",\"[46, 199]\"],[\"FL1:16 FL2:512 DR:0.6 BS:32 LR:0.0001\",\"[46, 199]\"],[\"FL1:16 FL2:512 DR:0.6 BS:32 LR:0.0001\",\"[46, 199]\"],[\"FL1:16 FL2:512 DR:0.6 BS:32 LR:0.0001\",\"[46, 199]\"],[\"FL1:16 FL2:512 DR:0.6 BS:32 LR:0.0001\",\"[46, 199]\"],[\"FL1:16 FL2:512 DR:0.6 BS:32 LR:0.0001\",\"[46, 199]\"],[\"FL1:16 FL2:512 DR:0.6 BS:32 LR:0.0001\",\"[46, 199]\"],[\"FL1:16 FL2:512 DR:0.6 BS:32 LR:0.0001\",\"[46, 199]\"],[\"FL1:16 FL2:512 DR:0.6 BS:32 LR:0.0001\",\"[46, 199]\"],[\"FL1:16 FL2:512 DR:0.6 BS:32 LR:0.0001\",\"[46, 199]\"],[\"FL1:16 FL2:512 DR:0.6 BS:32 LR:0.0001\",\"[46, 199]\"],[\"FL1:16 FL2:512 DR:0.6 BS:32 LR:0.0001\",\"[46, 199]\"],[\"FL1:16 FL2:512 DR:0.6 BS:32 LR:0.0001\",\"[46, 199]\"],[\"FL1:16 FL2:512 DR:0.6 BS:32 LR:0.0001\",\"[46, 199]\"],[\"FL1:16 FL2:512 DR:0.6 BS:32 LR:0.0001\",\"[46, 199]\"],[\"FL1:16 FL2:512 DR:0.6 BS:32 LR:0.0001\",\"[46, 199]\"]],\"hovertemplate\":\"variable=val_loss\\u003cbr\\u003etrial_id=802fd_00107\\u003cbr\\u003eepoch=%{x}\\u003cbr\\u003evalue=%{y}\\u003cbr\\u003eHyperparameters=%{customdata[0]}\\u003cbr\\u003echeckpoints=%{customdata[1]}\\u003cextra\\u003e\\u003c\\u002fextra\\u003e\",\"legendgroup\":\"val_loss, 802fd_00107\",\"line\":{\"color\":\"#636efa\",\"dash\":\"dashdot\"},\"marker\":{\"symbol\":\"circle\"},\"mode\":\"lines\",\"name\":\"val_loss, 802fd_00107\",\"showlegend\":true,\"x\":[0,1,2,3,4,5,6,7,8,9,10,11,12,13,14,15,16,17,18,19,20,21,22,23,24,25,26,27,28,29,30,31,32,33,34,35,36,37,38,39,40,41,42,43,44,45,46,47,48,49,50,51,52,53,54,55,56,57,58,59,60,61,62,63,64,65,66,67,68,69,70,71,72,73,74,75,76,77,78,79,80,81,82,83,84,85,86,87,88,89,90,91,92,93,94,95,96,97,98,99,100,101,102,103,104,105,106,107,108,109,110,111,112,113,114,115,116,117,118,119,120,121,122,123,124,125,126,127,128,129,130,131,132,133,134,135,136,137,138,139,140,141,142,143,144,145,146,147,148,149,150,151,152,153,154,155,156,157,158,159,160,161,162,163,164,165,166,167,168,169,170,171,172,173,174,175,176,177,178,179,180,181,182,183,184,185,186,187,188,189,190,191,192,193,194,195,196,197,198,199],\"xaxis\":\"x\",\"y\":[0.6589809656143173,0.6256928046544369,0.572044157319596,0.5180097674881943,0.4726916753951387,0.4340692595444563,0.40533863410700893,0.3784322566810543,0.35786155707460526,0.34459427559920003,0.3326174852884328,0.325350906295015,0.31686333539911943,0.308802619396506,0.30548797039115244,0.3008146152756195,0.30353182659292016,0.3000290500173548,0.2974288037783284,0.29305068793338995,0.28961627445248994,0.2868744052888826,0.2848422174613917,0.2828170223342865,0.2787937332065556,0.27509841050516526,0.2736486873746638,0.27343753521447145,0.2727066413879703,0.2708646248658697,0.2728140083207151,0.2711971320876446,0.27048117373843705,0.2675920953648595,0.26518827215150326,0.26719997018784436,0.2703277216368917,0.2656496893044309,0.2639746454474652,0.2624015468436688,0.26318062067549763,0.2611374008690069,0.26455868602029087,0.2649673012907737,0.2689062713262388,0.26870850117186307,0.2667290296235316,0.2749417838837454,0.27448189042579724,0.27243807767875655,0.26703730129564845,0.26931366260425876,0.26930066900502664,0.2676559385793138,0.2708538570097233,0.2729376122746955,0.2728963504495939,0.2727863100013939,0.27199751515135484,0.27066731703907393,0.26636924513598315,0.26833861515535207,0.26760679116257824,0.267069148556449,0.2713246163633512,0.27600852429251116,0.27675647059665875,0.274755203191351,0.2718627707586753,0.2719140222619678,0.28339930514168044,0.28475205527193803,0.2818423703408729,0.2868770788177173,0.28501631684199374,0.2833202704263747,0.28517153358943004,0.2851281927458884,0.2905447394604439,0.29399395392702315,0.2932323442986686,0.2957089197033689,0.2947068480249269,0.29487847073846474,0.28674749721403464,0.290678330191741,0.2929318500417925,0.2904010681879816,0.2883236288078817,0.2881735085810676,0.28367440696328505,0.2822422007439503,0.2956143663802383,0.2989877890532962,0.30182722084957625,0.3028536529887925,0.30557139327454563,0.3016116129711462,0.30219272490045634,0.29969699658089943,0.3059336144204534,0.2988160384016293,0.3022875774116679,0.29190183601189684,0.2987841627426208,0.30971385779826177,0.31104235015212306,0.3132743316352281,0.32439988371133144,0.3202018805106429,0.31526035519175644,0.31068363091503787,0.30537470712367093,0.30272510339222547,0.304909147748696,0.31149985918028217,0.313419944899764,0.3117513900713691,0.3203832868547278,0.3143918258488858,0.3152860530575562,0.3205198929283643,0.31809944812282015,0.31326540909756545,0.3154111974937996,0.31914282000748767,0.31972967688698467,0.3205167492526026,0.33433396553312666,0.33160805328233245,0.3279719029767188,0.3166764063903267,0.31471043714341607,0.3189667952620782,0.3215407956019896,0.32286541186278694,0.3239112994571893,0.3163222903344603,0.3208016908389701,0.32262887598556683,0.3179969823458612,0.3136904362902912,0.31176523195808875,0.31136037460370614,0.31623911891648265,0.3127720457598168,0.3155254888723021,0.31182063739761473,0.31067887691169754,0.3063068340057111,0.3029861317630586,0.3006547104356002,0.3037768510339856,0.30018735311814077,0.29407287890638134,0.2955558283787642,0.300571261754411,0.3034877869227041,0.30029677965498625,0.30100171511872975,0.2921046432223867,0.28643061494608335,0.2865544774517715,0.29794782853029095,0.3081596126549893,0.3196601920918254,0.3114106789956899,0.31244034473964905,0.3185828884765122,0.3142578078855808,0.3138793854945053,0.31496500962529833,0.3210156460176185,0.3238624168482266,0.32682247844317425,0.31053068496769515,0.3051902403962993,0.30762547589225053,0.3139378748793229,0.323207389808947,0.3356562034933122,0.330674842109173,0.3492564957074907,0.3360230095341852,0.3373011593788887,0.33050860595504533,0.32906723109748615,0.3292839036243924,0.33084503517268476,0.33308424026249683,0.3351140417687013,0.33401627991145866,0.33754052820169855,0.34272250932033727,0.34308475521919296,0.33072072444834344,0.32998639463370316,0.32814674654924314,0.32409177607512024,0.3258165411566061],\"yaxis\":\"y\",\"type\":\"scattergl\"},{\"customdata\":[[\"FL1:512 FL2:16 DR:0.5 BS:32 LR:0.0005\",\"[78, 199]\"],[\"FL1:512 FL2:16 DR:0.5 BS:32 LR:0.0005\",\"[78, 199]\"],[\"FL1:512 FL2:16 DR:0.5 BS:32 LR:0.0005\",\"[78, 199]\"],[\"FL1:512 FL2:16 DR:0.5 BS:32 LR:0.0005\",\"[78, 199]\"],[\"FL1:512 FL2:16 DR:0.5 BS:32 LR:0.0005\",\"[78, 199]\"],[\"FL1:512 FL2:16 DR:0.5 BS:32 LR:0.0005\",\"[78, 199]\"],[\"FL1:512 FL2:16 DR:0.5 BS:32 LR:0.0005\",\"[78, 199]\"],[\"FL1:512 FL2:16 DR:0.5 BS:32 LR:0.0005\",\"[78, 199]\"],[\"FL1:512 FL2:16 DR:0.5 BS:32 LR:0.0005\",\"[78, 199]\"],[\"FL1:512 FL2:16 DR:0.5 BS:32 LR:0.0005\",\"[78, 199]\"],[\"FL1:512 FL2:16 DR:0.5 BS:32 LR:0.0005\",\"[78, 199]\"],[\"FL1:512 FL2:16 DR:0.5 BS:32 LR:0.0005\",\"[78, 199]\"],[\"FL1:512 FL2:16 DR:0.5 BS:32 LR:0.0005\",\"[78, 199]\"],[\"FL1:512 FL2:16 DR:0.5 BS:32 LR:0.0005\",\"[78, 199]\"],[\"FL1:512 FL2:16 DR:0.5 BS:32 LR:0.0005\",\"[78, 199]\"],[\"FL1:512 FL2:16 DR:0.5 BS:32 LR:0.0005\",\"[78, 199]\"],[\"FL1:512 FL2:16 DR:0.5 BS:32 LR:0.0005\",\"[78, 199]\"],[\"FL1:512 FL2:16 DR:0.5 BS:32 LR:0.0005\",\"[78, 199]\"],[\"FL1:512 FL2:16 DR:0.5 BS:32 LR:0.0005\",\"[78, 199]\"],[\"FL1:512 FL2:16 DR:0.5 BS:32 LR:0.0005\",\"[78, 199]\"],[\"FL1:512 FL2:16 DR:0.5 BS:32 LR:0.0005\",\"[78, 199]\"],[\"FL1:512 FL2:16 DR:0.5 BS:32 LR:0.0005\",\"[78, 199]\"],[\"FL1:512 FL2:16 DR:0.5 BS:32 LR:0.0005\",\"[78, 199]\"],[\"FL1:512 FL2:16 DR:0.5 BS:32 LR:0.0005\",\"[78, 199]\"],[\"FL1:512 FL2:16 DR:0.5 BS:32 LR:0.0005\",\"[78, 199]\"],[\"FL1:512 FL2:16 DR:0.5 BS:32 LR:0.0005\",\"[78, 199]\"],[\"FL1:512 FL2:16 DR:0.5 BS:32 LR:0.0005\",\"[78, 199]\"],[\"FL1:512 FL2:16 DR:0.5 BS:32 LR:0.0005\",\"[78, 199]\"],[\"FL1:512 FL2:16 DR:0.5 BS:32 LR:0.0005\",\"[78, 199]\"],[\"FL1:512 FL2:16 DR:0.5 BS:32 LR:0.0005\",\"[78, 199]\"],[\"FL1:512 FL2:16 DR:0.5 BS:32 LR:0.0005\",\"[78, 199]\"],[\"FL1:512 FL2:16 DR:0.5 BS:32 LR:0.0005\",\"[78, 199]\"],[\"FL1:512 FL2:16 DR:0.5 BS:32 LR:0.0005\",\"[78, 199]\"],[\"FL1:512 FL2:16 DR:0.5 BS:32 LR:0.0005\",\"[78, 199]\"],[\"FL1:512 FL2:16 DR:0.5 BS:32 LR:0.0005\",\"[78, 199]\"],[\"FL1:512 FL2:16 DR:0.5 BS:32 LR:0.0005\",\"[78, 199]\"],[\"FL1:512 FL2:16 DR:0.5 BS:32 LR:0.0005\",\"[78, 199]\"],[\"FL1:512 FL2:16 DR:0.5 BS:32 LR:0.0005\",\"[78, 199]\"],[\"FL1:512 FL2:16 DR:0.5 BS:32 LR:0.0005\",\"[78, 199]\"],[\"FL1:512 FL2:16 DR:0.5 BS:32 LR:0.0005\",\"[78, 199]\"],[\"FL1:512 FL2:16 DR:0.5 BS:32 LR:0.0005\",\"[78, 199]\"],[\"FL1:512 FL2:16 DR:0.5 BS:32 LR:0.0005\",\"[78, 199]\"],[\"FL1:512 FL2:16 DR:0.5 BS:32 LR:0.0005\",\"[78, 199]\"],[\"FL1:512 FL2:16 DR:0.5 BS:32 LR:0.0005\",\"[78, 199]\"],[\"FL1:512 FL2:16 DR:0.5 BS:32 LR:0.0005\",\"[78, 199]\"],[\"FL1:512 FL2:16 DR:0.5 BS:32 LR:0.0005\",\"[78, 199]\"],[\"FL1:512 FL2:16 DR:0.5 BS:32 LR:0.0005\",\"[78, 199]\"],[\"FL1:512 FL2:16 DR:0.5 BS:32 LR:0.0005\",\"[78, 199]\"],[\"FL1:512 FL2:16 DR:0.5 BS:32 LR:0.0005\",\"[78, 199]\"],[\"FL1:512 FL2:16 DR:0.5 BS:32 LR:0.0005\",\"[78, 199]\"],[\"FL1:512 FL2:16 DR:0.5 BS:32 LR:0.0005\",\"[78, 199]\"],[\"FL1:512 FL2:16 DR:0.5 BS:32 LR:0.0005\",\"[78, 199]\"],[\"FL1:512 FL2:16 DR:0.5 BS:32 LR:0.0005\",\"[78, 199]\"],[\"FL1:512 FL2:16 DR:0.5 BS:32 LR:0.0005\",\"[78, 199]\"],[\"FL1:512 FL2:16 DR:0.5 BS:32 LR:0.0005\",\"[78, 199]\"],[\"FL1:512 FL2:16 DR:0.5 BS:32 LR:0.0005\",\"[78, 199]\"],[\"FL1:512 FL2:16 DR:0.5 BS:32 LR:0.0005\",\"[78, 199]\"],[\"FL1:512 FL2:16 DR:0.5 BS:32 LR:0.0005\",\"[78, 199]\"],[\"FL1:512 FL2:16 DR:0.5 BS:32 LR:0.0005\",\"[78, 199]\"],[\"FL1:512 FL2:16 DR:0.5 BS:32 LR:0.0005\",\"[78, 199]\"],[\"FL1:512 FL2:16 DR:0.5 BS:32 LR:0.0005\",\"[78, 199]\"],[\"FL1:512 FL2:16 DR:0.5 BS:32 LR:0.0005\",\"[78, 199]\"],[\"FL1:512 FL2:16 DR:0.5 BS:32 LR:0.0005\",\"[78, 199]\"],[\"FL1:512 FL2:16 DR:0.5 BS:32 LR:0.0005\",\"[78, 199]\"],[\"FL1:512 FL2:16 DR:0.5 BS:32 LR:0.0005\",\"[78, 199]\"],[\"FL1:512 FL2:16 DR:0.5 BS:32 LR:0.0005\",\"[78, 199]\"],[\"FL1:512 FL2:16 DR:0.5 BS:32 LR:0.0005\",\"[78, 199]\"],[\"FL1:512 FL2:16 DR:0.5 BS:32 LR:0.0005\",\"[78, 199]\"],[\"FL1:512 FL2:16 DR:0.5 BS:32 LR:0.0005\",\"[78, 199]\"],[\"FL1:512 FL2:16 DR:0.5 BS:32 LR:0.0005\",\"[78, 199]\"],[\"FL1:512 FL2:16 DR:0.5 BS:32 LR:0.0005\",\"[78, 199]\"],[\"FL1:512 FL2:16 DR:0.5 BS:32 LR:0.0005\",\"[78, 199]\"],[\"FL1:512 FL2:16 DR:0.5 BS:32 LR:0.0005\",\"[78, 199]\"],[\"FL1:512 FL2:16 DR:0.5 BS:32 LR:0.0005\",\"[78, 199]\"],[\"FL1:512 FL2:16 DR:0.5 BS:32 LR:0.0005\",\"[78, 199]\"],[\"FL1:512 FL2:16 DR:0.5 BS:32 LR:0.0005\",\"[78, 199]\"],[\"FL1:512 FL2:16 DR:0.5 BS:32 LR:0.0005\",\"[78, 199]\"],[\"FL1:512 FL2:16 DR:0.5 BS:32 LR:0.0005\",\"[78, 199]\"],[\"FL1:512 FL2:16 DR:0.5 BS:32 LR:0.0005\",\"[78, 199]\"],[\"FL1:512 FL2:16 DR:0.5 BS:32 LR:0.0005\",\"[78, 199]\"],[\"FL1:512 FL2:16 DR:0.5 BS:32 LR:0.0005\",\"[78, 199]\"],[\"FL1:512 FL2:16 DR:0.5 BS:32 LR:0.0005\",\"[78, 199]\"],[\"FL1:512 FL2:16 DR:0.5 BS:32 LR:0.0005\",\"[78, 199]\"],[\"FL1:512 FL2:16 DR:0.5 BS:32 LR:0.0005\",\"[78, 199]\"],[\"FL1:512 FL2:16 DR:0.5 BS:32 LR:0.0005\",\"[78, 199]\"],[\"FL1:512 FL2:16 DR:0.5 BS:32 LR:0.0005\",\"[78, 199]\"],[\"FL1:512 FL2:16 DR:0.5 BS:32 LR:0.0005\",\"[78, 199]\"],[\"FL1:512 FL2:16 DR:0.5 BS:32 LR:0.0005\",\"[78, 199]\"],[\"FL1:512 FL2:16 DR:0.5 BS:32 LR:0.0005\",\"[78, 199]\"],[\"FL1:512 FL2:16 DR:0.5 BS:32 LR:0.0005\",\"[78, 199]\"],[\"FL1:512 FL2:16 DR:0.5 BS:32 LR:0.0005\",\"[78, 199]\"],[\"FL1:512 FL2:16 DR:0.5 BS:32 LR:0.0005\",\"[78, 199]\"],[\"FL1:512 FL2:16 DR:0.5 BS:32 LR:0.0005\",\"[78, 199]\"],[\"FL1:512 FL2:16 DR:0.5 BS:32 LR:0.0005\",\"[78, 199]\"],[\"FL1:512 FL2:16 DR:0.5 BS:32 LR:0.0005\",\"[78, 199]\"],[\"FL1:512 FL2:16 DR:0.5 BS:32 LR:0.0005\",\"[78, 199]\"],[\"FL1:512 FL2:16 DR:0.5 BS:32 LR:0.0005\",\"[78, 199]\"],[\"FL1:512 FL2:16 DR:0.5 BS:32 LR:0.0005\",\"[78, 199]\"],[\"FL1:512 FL2:16 DR:0.5 BS:32 LR:0.0005\",\"[78, 199]\"],[\"FL1:512 FL2:16 DR:0.5 BS:32 LR:0.0005\",\"[78, 199]\"],[\"FL1:512 FL2:16 DR:0.5 BS:32 LR:0.0005\",\"[78, 199]\"],[\"FL1:512 FL2:16 DR:0.5 BS:32 LR:0.0005\",\"[78, 199]\"],[\"FL1:512 FL2:16 DR:0.5 BS:32 LR:0.0005\",\"[78, 199]\"],[\"FL1:512 FL2:16 DR:0.5 BS:32 LR:0.0005\",\"[78, 199]\"],[\"FL1:512 FL2:16 DR:0.5 BS:32 LR:0.0005\",\"[78, 199]\"],[\"FL1:512 FL2:16 DR:0.5 BS:32 LR:0.0005\",\"[78, 199]\"],[\"FL1:512 FL2:16 DR:0.5 BS:32 LR:0.0005\",\"[78, 199]\"],[\"FL1:512 FL2:16 DR:0.5 BS:32 LR:0.0005\",\"[78, 199]\"],[\"FL1:512 FL2:16 DR:0.5 BS:32 LR:0.0005\",\"[78, 199]\"],[\"FL1:512 FL2:16 DR:0.5 BS:32 LR:0.0005\",\"[78, 199]\"],[\"FL1:512 FL2:16 DR:0.5 BS:32 LR:0.0005\",\"[78, 199]\"],[\"FL1:512 FL2:16 DR:0.5 BS:32 LR:0.0005\",\"[78, 199]\"],[\"FL1:512 FL2:16 DR:0.5 BS:32 LR:0.0005\",\"[78, 199]\"],[\"FL1:512 FL2:16 DR:0.5 BS:32 LR:0.0005\",\"[78, 199]\"],[\"FL1:512 FL2:16 DR:0.5 BS:32 LR:0.0005\",\"[78, 199]\"],[\"FL1:512 FL2:16 DR:0.5 BS:32 LR:0.0005\",\"[78, 199]\"],[\"FL1:512 FL2:16 DR:0.5 BS:32 LR:0.0005\",\"[78, 199]\"],[\"FL1:512 FL2:16 DR:0.5 BS:32 LR:0.0005\",\"[78, 199]\"],[\"FL1:512 FL2:16 DR:0.5 BS:32 LR:0.0005\",\"[78, 199]\"],[\"FL1:512 FL2:16 DR:0.5 BS:32 LR:0.0005\",\"[78, 199]\"],[\"FL1:512 FL2:16 DR:0.5 BS:32 LR:0.0005\",\"[78, 199]\"],[\"FL1:512 FL2:16 DR:0.5 BS:32 LR:0.0005\",\"[78, 199]\"],[\"FL1:512 FL2:16 DR:0.5 BS:32 LR:0.0005\",\"[78, 199]\"],[\"FL1:512 FL2:16 DR:0.5 BS:32 LR:0.0005\",\"[78, 199]\"],[\"FL1:512 FL2:16 DR:0.5 BS:32 LR:0.0005\",\"[78, 199]\"],[\"FL1:512 FL2:16 DR:0.5 BS:32 LR:0.0005\",\"[78, 199]\"],[\"FL1:512 FL2:16 DR:0.5 BS:32 LR:0.0005\",\"[78, 199]\"],[\"FL1:512 FL2:16 DR:0.5 BS:32 LR:0.0005\",\"[78, 199]\"],[\"FL1:512 FL2:16 DR:0.5 BS:32 LR:0.0005\",\"[78, 199]\"],[\"FL1:512 FL2:16 DR:0.5 BS:32 LR:0.0005\",\"[78, 199]\"],[\"FL1:512 FL2:16 DR:0.5 BS:32 LR:0.0005\",\"[78, 199]\"],[\"FL1:512 FL2:16 DR:0.5 BS:32 LR:0.0005\",\"[78, 199]\"],[\"FL1:512 FL2:16 DR:0.5 BS:32 LR:0.0005\",\"[78, 199]\"],[\"FL1:512 FL2:16 DR:0.5 BS:32 LR:0.0005\",\"[78, 199]\"],[\"FL1:512 FL2:16 DR:0.5 BS:32 LR:0.0005\",\"[78, 199]\"],[\"FL1:512 FL2:16 DR:0.5 BS:32 LR:0.0005\",\"[78, 199]\"],[\"FL1:512 FL2:16 DR:0.5 BS:32 LR:0.0005\",\"[78, 199]\"],[\"FL1:512 FL2:16 DR:0.5 BS:32 LR:0.0005\",\"[78, 199]\"],[\"FL1:512 FL2:16 DR:0.5 BS:32 LR:0.0005\",\"[78, 199]\"],[\"FL1:512 FL2:16 DR:0.5 BS:32 LR:0.0005\",\"[78, 199]\"],[\"FL1:512 FL2:16 DR:0.5 BS:32 LR:0.0005\",\"[78, 199]\"],[\"FL1:512 FL2:16 DR:0.5 BS:32 LR:0.0005\",\"[78, 199]\"],[\"FL1:512 FL2:16 DR:0.5 BS:32 LR:0.0005\",\"[78, 199]\"],[\"FL1:512 FL2:16 DR:0.5 BS:32 LR:0.0005\",\"[78, 199]\"],[\"FL1:512 FL2:16 DR:0.5 BS:32 LR:0.0005\",\"[78, 199]\"],[\"FL1:512 FL2:16 DR:0.5 BS:32 LR:0.0005\",\"[78, 199]\"],[\"FL1:512 FL2:16 DR:0.5 BS:32 LR:0.0005\",\"[78, 199]\"],[\"FL1:512 FL2:16 DR:0.5 BS:32 LR:0.0005\",\"[78, 199]\"],[\"FL1:512 FL2:16 DR:0.5 BS:32 LR:0.0005\",\"[78, 199]\"],[\"FL1:512 FL2:16 DR:0.5 BS:32 LR:0.0005\",\"[78, 199]\"],[\"FL1:512 FL2:16 DR:0.5 BS:32 LR:0.0005\",\"[78, 199]\"],[\"FL1:512 FL2:16 DR:0.5 BS:32 LR:0.0005\",\"[78, 199]\"],[\"FL1:512 FL2:16 DR:0.5 BS:32 LR:0.0005\",\"[78, 199]\"],[\"FL1:512 FL2:16 DR:0.5 BS:32 LR:0.0005\",\"[78, 199]\"],[\"FL1:512 FL2:16 DR:0.5 BS:32 LR:0.0005\",\"[78, 199]\"],[\"FL1:512 FL2:16 DR:0.5 BS:32 LR:0.0005\",\"[78, 199]\"],[\"FL1:512 FL2:16 DR:0.5 BS:32 LR:0.0005\",\"[78, 199]\"],[\"FL1:512 FL2:16 DR:0.5 BS:32 LR:0.0005\",\"[78, 199]\"],[\"FL1:512 FL2:16 DR:0.5 BS:32 LR:0.0005\",\"[78, 199]\"],[\"FL1:512 FL2:16 DR:0.5 BS:32 LR:0.0005\",\"[78, 199]\"],[\"FL1:512 FL2:16 DR:0.5 BS:32 LR:0.0005\",\"[78, 199]\"],[\"FL1:512 FL2:16 DR:0.5 BS:32 LR:0.0005\",\"[78, 199]\"],[\"FL1:512 FL2:16 DR:0.5 BS:32 LR:0.0005\",\"[78, 199]\"],[\"FL1:512 FL2:16 DR:0.5 BS:32 LR:0.0005\",\"[78, 199]\"],[\"FL1:512 FL2:16 DR:0.5 BS:32 LR:0.0005\",\"[78, 199]\"],[\"FL1:512 FL2:16 DR:0.5 BS:32 LR:0.0005\",\"[78, 199]\"],[\"FL1:512 FL2:16 DR:0.5 BS:32 LR:0.0005\",\"[78, 199]\"],[\"FL1:512 FL2:16 DR:0.5 BS:32 LR:0.0005\",\"[78, 199]\"],[\"FL1:512 FL2:16 DR:0.5 BS:32 LR:0.0005\",\"[78, 199]\"],[\"FL1:512 FL2:16 DR:0.5 BS:32 LR:0.0005\",\"[78, 199]\"],[\"FL1:512 FL2:16 DR:0.5 BS:32 LR:0.0005\",\"[78, 199]\"],[\"FL1:512 FL2:16 DR:0.5 BS:32 LR:0.0005\",\"[78, 199]\"],[\"FL1:512 FL2:16 DR:0.5 BS:32 LR:0.0005\",\"[78, 199]\"],[\"FL1:512 FL2:16 DR:0.5 BS:32 LR:0.0005\",\"[78, 199]\"],[\"FL1:512 FL2:16 DR:0.5 BS:32 LR:0.0005\",\"[78, 199]\"],[\"FL1:512 FL2:16 DR:0.5 BS:32 LR:0.0005\",\"[78, 199]\"],[\"FL1:512 FL2:16 DR:0.5 BS:32 LR:0.0005\",\"[78, 199]\"],[\"FL1:512 FL2:16 DR:0.5 BS:32 LR:0.0005\",\"[78, 199]\"],[\"FL1:512 FL2:16 DR:0.5 BS:32 LR:0.0005\",\"[78, 199]\"],[\"FL1:512 FL2:16 DR:0.5 BS:32 LR:0.0005\",\"[78, 199]\"],[\"FL1:512 FL2:16 DR:0.5 BS:32 LR:0.0005\",\"[78, 199]\"],[\"FL1:512 FL2:16 DR:0.5 BS:32 LR:0.0005\",\"[78, 199]\"],[\"FL1:512 FL2:16 DR:0.5 BS:32 LR:0.0005\",\"[78, 199]\"],[\"FL1:512 FL2:16 DR:0.5 BS:32 LR:0.0005\",\"[78, 199]\"],[\"FL1:512 FL2:16 DR:0.5 BS:32 LR:0.0005\",\"[78, 199]\"],[\"FL1:512 FL2:16 DR:0.5 BS:32 LR:0.0005\",\"[78, 199]\"],[\"FL1:512 FL2:16 DR:0.5 BS:32 LR:0.0005\",\"[78, 199]\"],[\"FL1:512 FL2:16 DR:0.5 BS:32 LR:0.0005\",\"[78, 199]\"],[\"FL1:512 FL2:16 DR:0.5 BS:32 LR:0.0005\",\"[78, 199]\"],[\"FL1:512 FL2:16 DR:0.5 BS:32 LR:0.0005\",\"[78, 199]\"],[\"FL1:512 FL2:16 DR:0.5 BS:32 LR:0.0005\",\"[78, 199]\"],[\"FL1:512 FL2:16 DR:0.5 BS:32 LR:0.0005\",\"[78, 199]\"],[\"FL1:512 FL2:16 DR:0.5 BS:32 LR:0.0005\",\"[78, 199]\"],[\"FL1:512 FL2:16 DR:0.5 BS:32 LR:0.0005\",\"[78, 199]\"],[\"FL1:512 FL2:16 DR:0.5 BS:32 LR:0.0005\",\"[78, 199]\"],[\"FL1:512 FL2:16 DR:0.5 BS:32 LR:0.0005\",\"[78, 199]\"],[\"FL1:512 FL2:16 DR:0.5 BS:32 LR:0.0005\",\"[78, 199]\"],[\"FL1:512 FL2:16 DR:0.5 BS:32 LR:0.0005\",\"[78, 199]\"],[\"FL1:512 FL2:16 DR:0.5 BS:32 LR:0.0005\",\"[78, 199]\"],[\"FL1:512 FL2:16 DR:0.5 BS:32 LR:0.0005\",\"[78, 199]\"]],\"hovertemplate\":\"variable=val_loss\\u003cbr\\u003etrial_id=802fd_00003\\u003cbr\\u003eepoch=%{x}\\u003cbr\\u003evalue=%{y}\\u003cbr\\u003eHyperparameters=%{customdata[0]}\\u003cbr\\u003echeckpoints=%{customdata[1]}\\u003cextra\\u003e\\u003c\\u002fextra\\u003e\",\"legendgroup\":\"val_loss, 802fd_00003\",\"line\":{\"color\":\"#636efa\",\"dash\":\"longdashdot\"},\"marker\":{\"symbol\":\"circle\"},\"mode\":\"lines\",\"name\":\"val_loss, 802fd_00003\",\"showlegend\":true,\"x\":[0,1,2,3,4,5,6,7,8,9,10,11,12,13,14,15,16,17,18,19,20,21,22,23,24,25,26,27,28,29,30,31,32,33,34,35,36,37,38,39,40,41,42,43,44,45,46,47,48,49,50,51,52,53,54,55,56,57,58,59,60,61,62,63,64,65,66,67,68,69,70,71,72,73,74,75,76,77,78,79,80,81,82,83,84,85,86,87,88,89,90,91,92,93,94,95,96,97,98,99,100,101,102,103,104,105,106,107,108,109,110,111,112,113,114,115,116,117,118,119,120,121,122,123,124,125,126,127,128,129,130,131,132,133,134,135,136,137,138,139,140,141,142,143,144,145,146,147,148,149,150,151,152,153,154,155,156,157,158,159,160,161,162,163,164,165,166,167,168,169,170,171,172,173,174,175,176,177,178,179,180,181,182,183,184,185,186,187,188,189,190,191,192,193,194,195,196,197,198,199],\"xaxis\":\"x\",\"y\":[0.5915685296058641,0.5064651171366357,0.4479455318715818,0.4094362634199616,0.3795539788257908,0.3561121359038234,0.34291864332675065,0.3308606107838884,0.34130982291750916,0.33188279954627287,0.32479501424918583,0.328893189024196,0.34094225657732263,0.3238017810235479,0.3218900728788672,0.32080449783581405,0.3308778744523908,0.3379119562827993,0.3341263484771673,0.35764982977281745,0.34560142741448757,0.35051464230383067,0.35835023184991216,0.37510431780004627,0.35472162215964,0.3734117060837206,0.3676449398158023,0.352059267624088,0.345334614425147,0.36670336796789893,0.36856825599371995,0.36856379078030227,0.39577457617520945,0.4164202035188641,0.398518719323473,0.4132107748243513,0.3962897528312795,0.42105701692251196,0.4215990611404027,0.4590894784192128,0.45484481623834155,0.4709950378938887,0.4459887637962474,0.4545161654068071,0.45841971566365963,0.48814181837828036,0.47023756208281337,0.4790765404850936,0.4906543533107095,0.4815766937269393,0.49058473949522474,0.5160408672020865,0.5200493969073571,0.5140445455942325,0.5037388056539003,0.5324180424228299,0.5556868910799402,0.6033970117575561,0.5810131033265998,0.564005864991373,0.548357753842158,0.5960038495653738,0.6074827043608723,0.5879825372428285,0.562722366315164,0.584494538613184,0.5753944764587758,0.549262768695981,0.5252676849035616,0.5236250522711658,0.543658618329549,0.5397888251136292,0.5289456134366016,0.512583725010488,0.5434393832121501,0.5808063115698885,0.5810006834416105,0.6412488803167135,0.6196116000346985,0.5927967488721098,0.5743242343237046,0.5686839514288653,0.62043935016217,0.5813984271911912,0.5578918256380899,0.6015982692783884,0.58515489534178,0.5652424721958798,0.5970875242711794,0.6126175866763903,0.5872596930292643,0.6104796416777619,0.6262786512386948,0.632163294475087,0.661384647634828,0.716298782525593,0.6966127512839978,0.6418559589642634,0.6553077127309855,0.647035024283475,0.6844612305152044,0.6882026953688992,0.7196233976676533,0.6998361619839698,0.7610794684972763,0.7327476793982172,0.7726321256463762,0.7599273745420912,0.8157084666492747,0.7632928545476452,0.7727125124932281,0.7444676052729903,0.7149686741299492,0.6786362878128583,0.6964321965406118,0.7010680393662554,0.7615535031614351,0.7281505313752508,0.7844445405561649,0.7780469853453434,0.6997206938778413,0.6779297081970527,0.664980318039214,0.6971406114694495,0.7193584688899909,0.6884249414601573,0.6776711321935804,0.6487583304157343,0.7192468301925696,0.6611879439137789,0.6917618295207543,0.7233487023681332,0.6919908095578291,0.6870841098613152,0.7139252035344033,0.7521769145147242,0.7633688674381184,0.7746260911895685,0.7369524936327556,0.7207683590020865,0.7184437888838255,0.738742058672996,0.7983797028319628,0.8167205740780671,0.7645837856511949,0.7677233545767367,0.7623094736726466,0.7280755320649253,0.7229030913419777,0.7383169853890753,0.8458861327306945,0.870670988568762,0.9100906348288692,0.883774406119228,0.8766204757187349,0.9101872869791949,0.853941965663588,0.8292057239771903,0.8959114765962615,0.9174843176100401,0.8902979720892983,0.9343886129897463,0.960244678976906,0.9507775462486806,0.9446116591041902,0.9286060866081441,0.9581227260406607,0.9146302711682692,0.9092959610433805,0.9390897252699663,1.0026000008676375,0.9798756947579579,1.0187747949005868,1.0073485092084717,0.9667086413013326,0.9176692042421871,0.884784259641935,0.9273686662281659,0.9306922723826484,1.008281520338633,1.0687073809118894,1.0719479946435684,1.0672424255570543,1.0243944604370818,0.9764877014142801,1.0187958116519775,1.01077538299483,0.9448053410842794,0.9002177431315017,0.9442612935523056,1.004339563145891,1.0037237718997076,1.01766238711262,1.0394764218196861,1.0052333853950473,1.0220585122578896,1.082653976471789,1.055115525584462,1.0312193662994698,0.9960915069496342],\"yaxis\":\"y\",\"type\":\"scattergl\"},{\"customdata\":[[\"FL1:512 FL2:16 DR:0.8 BS:32 LR:0.0005\",\"[160, 199]\"],[\"FL1:512 FL2:16 DR:0.8 BS:32 LR:0.0005\",\"[160, 199]\"],[\"FL1:512 FL2:16 DR:0.8 BS:32 LR:0.0005\",\"[160, 199]\"],[\"FL1:512 FL2:16 DR:0.8 BS:32 LR:0.0005\",\"[160, 199]\"],[\"FL1:512 FL2:16 DR:0.8 BS:32 LR:0.0005\",\"[160, 199]\"],[\"FL1:512 FL2:16 DR:0.8 BS:32 LR:0.0005\",\"[160, 199]\"],[\"FL1:512 FL2:16 DR:0.8 BS:32 LR:0.0005\",\"[160, 199]\"],[\"FL1:512 FL2:16 DR:0.8 BS:32 LR:0.0005\",\"[160, 199]\"],[\"FL1:512 FL2:16 DR:0.8 BS:32 LR:0.0005\",\"[160, 199]\"],[\"FL1:512 FL2:16 DR:0.8 BS:32 LR:0.0005\",\"[160, 199]\"],[\"FL1:512 FL2:16 DR:0.8 BS:32 LR:0.0005\",\"[160, 199]\"],[\"FL1:512 FL2:16 DR:0.8 BS:32 LR:0.0005\",\"[160, 199]\"],[\"FL1:512 FL2:16 DR:0.8 BS:32 LR:0.0005\",\"[160, 199]\"],[\"FL1:512 FL2:16 DR:0.8 BS:32 LR:0.0005\",\"[160, 199]\"],[\"FL1:512 FL2:16 DR:0.8 BS:32 LR:0.0005\",\"[160, 199]\"],[\"FL1:512 FL2:16 DR:0.8 BS:32 LR:0.0005\",\"[160, 199]\"],[\"FL1:512 FL2:16 DR:0.8 BS:32 LR:0.0005\",\"[160, 199]\"],[\"FL1:512 FL2:16 DR:0.8 BS:32 LR:0.0005\",\"[160, 199]\"],[\"FL1:512 FL2:16 DR:0.8 BS:32 LR:0.0005\",\"[160, 199]\"],[\"FL1:512 FL2:16 DR:0.8 BS:32 LR:0.0005\",\"[160, 199]\"],[\"FL1:512 FL2:16 DR:0.8 BS:32 LR:0.0005\",\"[160, 199]\"],[\"FL1:512 FL2:16 DR:0.8 BS:32 LR:0.0005\",\"[160, 199]\"],[\"FL1:512 FL2:16 DR:0.8 BS:32 LR:0.0005\",\"[160, 199]\"],[\"FL1:512 FL2:16 DR:0.8 BS:32 LR:0.0005\",\"[160, 199]\"],[\"FL1:512 FL2:16 DR:0.8 BS:32 LR:0.0005\",\"[160, 199]\"],[\"FL1:512 FL2:16 DR:0.8 BS:32 LR:0.0005\",\"[160, 199]\"],[\"FL1:512 FL2:16 DR:0.8 BS:32 LR:0.0005\",\"[160, 199]\"],[\"FL1:512 FL2:16 DR:0.8 BS:32 LR:0.0005\",\"[160, 199]\"],[\"FL1:512 FL2:16 DR:0.8 BS:32 LR:0.0005\",\"[160, 199]\"],[\"FL1:512 FL2:16 DR:0.8 BS:32 LR:0.0005\",\"[160, 199]\"],[\"FL1:512 FL2:16 DR:0.8 BS:32 LR:0.0005\",\"[160, 199]\"],[\"FL1:512 FL2:16 DR:0.8 BS:32 LR:0.0005\",\"[160, 199]\"],[\"FL1:512 FL2:16 DR:0.8 BS:32 LR:0.0005\",\"[160, 199]\"],[\"FL1:512 FL2:16 DR:0.8 BS:32 LR:0.0005\",\"[160, 199]\"],[\"FL1:512 FL2:16 DR:0.8 BS:32 LR:0.0005\",\"[160, 199]\"],[\"FL1:512 FL2:16 DR:0.8 BS:32 LR:0.0005\",\"[160, 199]\"],[\"FL1:512 FL2:16 DR:0.8 BS:32 LR:0.0005\",\"[160, 199]\"],[\"FL1:512 FL2:16 DR:0.8 BS:32 LR:0.0005\",\"[160, 199]\"],[\"FL1:512 FL2:16 DR:0.8 BS:32 LR:0.0005\",\"[160, 199]\"],[\"FL1:512 FL2:16 DR:0.8 BS:32 LR:0.0005\",\"[160, 199]\"],[\"FL1:512 FL2:16 DR:0.8 BS:32 LR:0.0005\",\"[160, 199]\"],[\"FL1:512 FL2:16 DR:0.8 BS:32 LR:0.0005\",\"[160, 199]\"],[\"FL1:512 FL2:16 DR:0.8 BS:32 LR:0.0005\",\"[160, 199]\"],[\"FL1:512 FL2:16 DR:0.8 BS:32 LR:0.0005\",\"[160, 199]\"],[\"FL1:512 FL2:16 DR:0.8 BS:32 LR:0.0005\",\"[160, 199]\"],[\"FL1:512 FL2:16 DR:0.8 BS:32 LR:0.0005\",\"[160, 199]\"],[\"FL1:512 FL2:16 DR:0.8 BS:32 LR:0.0005\",\"[160, 199]\"],[\"FL1:512 FL2:16 DR:0.8 BS:32 LR:0.0005\",\"[160, 199]\"],[\"FL1:512 FL2:16 DR:0.8 BS:32 LR:0.0005\",\"[160, 199]\"],[\"FL1:512 FL2:16 DR:0.8 BS:32 LR:0.0005\",\"[160, 199]\"],[\"FL1:512 FL2:16 DR:0.8 BS:32 LR:0.0005\",\"[160, 199]\"],[\"FL1:512 FL2:16 DR:0.8 BS:32 LR:0.0005\",\"[160, 199]\"],[\"FL1:512 FL2:16 DR:0.8 BS:32 LR:0.0005\",\"[160, 199]\"],[\"FL1:512 FL2:16 DR:0.8 BS:32 LR:0.0005\",\"[160, 199]\"],[\"FL1:512 FL2:16 DR:0.8 BS:32 LR:0.0005\",\"[160, 199]\"],[\"FL1:512 FL2:16 DR:0.8 BS:32 LR:0.0005\",\"[160, 199]\"],[\"FL1:512 FL2:16 DR:0.8 BS:32 LR:0.0005\",\"[160, 199]\"],[\"FL1:512 FL2:16 DR:0.8 BS:32 LR:0.0005\",\"[160, 199]\"],[\"FL1:512 FL2:16 DR:0.8 BS:32 LR:0.0005\",\"[160, 199]\"],[\"FL1:512 FL2:16 DR:0.8 BS:32 LR:0.0005\",\"[160, 199]\"],[\"FL1:512 FL2:16 DR:0.8 BS:32 LR:0.0005\",\"[160, 199]\"],[\"FL1:512 FL2:16 DR:0.8 BS:32 LR:0.0005\",\"[160, 199]\"],[\"FL1:512 FL2:16 DR:0.8 BS:32 LR:0.0005\",\"[160, 199]\"],[\"FL1:512 FL2:16 DR:0.8 BS:32 LR:0.0005\",\"[160, 199]\"],[\"FL1:512 FL2:16 DR:0.8 BS:32 LR:0.0005\",\"[160, 199]\"],[\"FL1:512 FL2:16 DR:0.8 BS:32 LR:0.0005\",\"[160, 199]\"],[\"FL1:512 FL2:16 DR:0.8 BS:32 LR:0.0005\",\"[160, 199]\"],[\"FL1:512 FL2:16 DR:0.8 BS:32 LR:0.0005\",\"[160, 199]\"],[\"FL1:512 FL2:16 DR:0.8 BS:32 LR:0.0005\",\"[160, 199]\"],[\"FL1:512 FL2:16 DR:0.8 BS:32 LR:0.0005\",\"[160, 199]\"],[\"FL1:512 FL2:16 DR:0.8 BS:32 LR:0.0005\",\"[160, 199]\"],[\"FL1:512 FL2:16 DR:0.8 BS:32 LR:0.0005\",\"[160, 199]\"],[\"FL1:512 FL2:16 DR:0.8 BS:32 LR:0.0005\",\"[160, 199]\"],[\"FL1:512 FL2:16 DR:0.8 BS:32 LR:0.0005\",\"[160, 199]\"],[\"FL1:512 FL2:16 DR:0.8 BS:32 LR:0.0005\",\"[160, 199]\"],[\"FL1:512 FL2:16 DR:0.8 BS:32 LR:0.0005\",\"[160, 199]\"],[\"FL1:512 FL2:16 DR:0.8 BS:32 LR:0.0005\",\"[160, 199]\"],[\"FL1:512 FL2:16 DR:0.8 BS:32 LR:0.0005\",\"[160, 199]\"],[\"FL1:512 FL2:16 DR:0.8 BS:32 LR:0.0005\",\"[160, 199]\"],[\"FL1:512 FL2:16 DR:0.8 BS:32 LR:0.0005\",\"[160, 199]\"],[\"FL1:512 FL2:16 DR:0.8 BS:32 LR:0.0005\",\"[160, 199]\"],[\"FL1:512 FL2:16 DR:0.8 BS:32 LR:0.0005\",\"[160, 199]\"],[\"FL1:512 FL2:16 DR:0.8 BS:32 LR:0.0005\",\"[160, 199]\"],[\"FL1:512 FL2:16 DR:0.8 BS:32 LR:0.0005\",\"[160, 199]\"],[\"FL1:512 FL2:16 DR:0.8 BS:32 LR:0.0005\",\"[160, 199]\"],[\"FL1:512 FL2:16 DR:0.8 BS:32 LR:0.0005\",\"[160, 199]\"],[\"FL1:512 FL2:16 DR:0.8 BS:32 LR:0.0005\",\"[160, 199]\"],[\"FL1:512 FL2:16 DR:0.8 BS:32 LR:0.0005\",\"[160, 199]\"],[\"FL1:512 FL2:16 DR:0.8 BS:32 LR:0.0005\",\"[160, 199]\"],[\"FL1:512 FL2:16 DR:0.8 BS:32 LR:0.0005\",\"[160, 199]\"],[\"FL1:512 FL2:16 DR:0.8 BS:32 LR:0.0005\",\"[160, 199]\"],[\"FL1:512 FL2:16 DR:0.8 BS:32 LR:0.0005\",\"[160, 199]\"],[\"FL1:512 FL2:16 DR:0.8 BS:32 LR:0.0005\",\"[160, 199]\"],[\"FL1:512 FL2:16 DR:0.8 BS:32 LR:0.0005\",\"[160, 199]\"],[\"FL1:512 FL2:16 DR:0.8 BS:32 LR:0.0005\",\"[160, 199]\"],[\"FL1:512 FL2:16 DR:0.8 BS:32 LR:0.0005\",\"[160, 199]\"],[\"FL1:512 FL2:16 DR:0.8 BS:32 LR:0.0005\",\"[160, 199]\"],[\"FL1:512 FL2:16 DR:0.8 BS:32 LR:0.0005\",\"[160, 199]\"],[\"FL1:512 FL2:16 DR:0.8 BS:32 LR:0.0005\",\"[160, 199]\"],[\"FL1:512 FL2:16 DR:0.8 BS:32 LR:0.0005\",\"[160, 199]\"],[\"FL1:512 FL2:16 DR:0.8 BS:32 LR:0.0005\",\"[160, 199]\"],[\"FL1:512 FL2:16 DR:0.8 BS:32 LR:0.0005\",\"[160, 199]\"],[\"FL1:512 FL2:16 DR:0.8 BS:32 LR:0.0005\",\"[160, 199]\"],[\"FL1:512 FL2:16 DR:0.8 BS:32 LR:0.0005\",\"[160, 199]\"],[\"FL1:512 FL2:16 DR:0.8 BS:32 LR:0.0005\",\"[160, 199]\"],[\"FL1:512 FL2:16 DR:0.8 BS:32 LR:0.0005\",\"[160, 199]\"],[\"FL1:512 FL2:16 DR:0.8 BS:32 LR:0.0005\",\"[160, 199]\"],[\"FL1:512 FL2:16 DR:0.8 BS:32 LR:0.0005\",\"[160, 199]\"],[\"FL1:512 FL2:16 DR:0.8 BS:32 LR:0.0005\",\"[160, 199]\"],[\"FL1:512 FL2:16 DR:0.8 BS:32 LR:0.0005\",\"[160, 199]\"],[\"FL1:512 FL2:16 DR:0.8 BS:32 LR:0.0005\",\"[160, 199]\"],[\"FL1:512 FL2:16 DR:0.8 BS:32 LR:0.0005\",\"[160, 199]\"],[\"FL1:512 FL2:16 DR:0.8 BS:32 LR:0.0005\",\"[160, 199]\"],[\"FL1:512 FL2:16 DR:0.8 BS:32 LR:0.0005\",\"[160, 199]\"],[\"FL1:512 FL2:16 DR:0.8 BS:32 LR:0.0005\",\"[160, 199]\"],[\"FL1:512 FL2:16 DR:0.8 BS:32 LR:0.0005\",\"[160, 199]\"],[\"FL1:512 FL2:16 DR:0.8 BS:32 LR:0.0005\",\"[160, 199]\"],[\"FL1:512 FL2:16 DR:0.8 BS:32 LR:0.0005\",\"[160, 199]\"],[\"FL1:512 FL2:16 DR:0.8 BS:32 LR:0.0005\",\"[160, 199]\"],[\"FL1:512 FL2:16 DR:0.8 BS:32 LR:0.0005\",\"[160, 199]\"],[\"FL1:512 FL2:16 DR:0.8 BS:32 LR:0.0005\",\"[160, 199]\"],[\"FL1:512 FL2:16 DR:0.8 BS:32 LR:0.0005\",\"[160, 199]\"],[\"FL1:512 FL2:16 DR:0.8 BS:32 LR:0.0005\",\"[160, 199]\"],[\"FL1:512 FL2:16 DR:0.8 BS:32 LR:0.0005\",\"[160, 199]\"],[\"FL1:512 FL2:16 DR:0.8 BS:32 LR:0.0005\",\"[160, 199]\"],[\"FL1:512 FL2:16 DR:0.8 BS:32 LR:0.0005\",\"[160, 199]\"],[\"FL1:512 FL2:16 DR:0.8 BS:32 LR:0.0005\",\"[160, 199]\"],[\"FL1:512 FL2:16 DR:0.8 BS:32 LR:0.0005\",\"[160, 199]\"],[\"FL1:512 FL2:16 DR:0.8 BS:32 LR:0.0005\",\"[160, 199]\"],[\"FL1:512 FL2:16 DR:0.8 BS:32 LR:0.0005\",\"[160, 199]\"],[\"FL1:512 FL2:16 DR:0.8 BS:32 LR:0.0005\",\"[160, 199]\"],[\"FL1:512 FL2:16 DR:0.8 BS:32 LR:0.0005\",\"[160, 199]\"],[\"FL1:512 FL2:16 DR:0.8 BS:32 LR:0.0005\",\"[160, 199]\"],[\"FL1:512 FL2:16 DR:0.8 BS:32 LR:0.0005\",\"[160, 199]\"],[\"FL1:512 FL2:16 DR:0.8 BS:32 LR:0.0005\",\"[160, 199]\"],[\"FL1:512 FL2:16 DR:0.8 BS:32 LR:0.0005\",\"[160, 199]\"],[\"FL1:512 FL2:16 DR:0.8 BS:32 LR:0.0005\",\"[160, 199]\"],[\"FL1:512 FL2:16 DR:0.8 BS:32 LR:0.0005\",\"[160, 199]\"],[\"FL1:512 FL2:16 DR:0.8 BS:32 LR:0.0005\",\"[160, 199]\"],[\"FL1:512 FL2:16 DR:0.8 BS:32 LR:0.0005\",\"[160, 199]\"],[\"FL1:512 FL2:16 DR:0.8 BS:32 LR:0.0005\",\"[160, 199]\"],[\"FL1:512 FL2:16 DR:0.8 BS:32 LR:0.0005\",\"[160, 199]\"],[\"FL1:512 FL2:16 DR:0.8 BS:32 LR:0.0005\",\"[160, 199]\"],[\"FL1:512 FL2:16 DR:0.8 BS:32 LR:0.0005\",\"[160, 199]\"],[\"FL1:512 FL2:16 DR:0.8 BS:32 LR:0.0005\",\"[160, 199]\"],[\"FL1:512 FL2:16 DR:0.8 BS:32 LR:0.0005\",\"[160, 199]\"],[\"FL1:512 FL2:16 DR:0.8 BS:32 LR:0.0005\",\"[160, 199]\"],[\"FL1:512 FL2:16 DR:0.8 BS:32 LR:0.0005\",\"[160, 199]\"],[\"FL1:512 FL2:16 DR:0.8 BS:32 LR:0.0005\",\"[160, 199]\"],[\"FL1:512 FL2:16 DR:0.8 BS:32 LR:0.0005\",\"[160, 199]\"],[\"FL1:512 FL2:16 DR:0.8 BS:32 LR:0.0005\",\"[160, 199]\"],[\"FL1:512 FL2:16 DR:0.8 BS:32 LR:0.0005\",\"[160, 199]\"],[\"FL1:512 FL2:16 DR:0.8 BS:32 LR:0.0005\",\"[160, 199]\"],[\"FL1:512 FL2:16 DR:0.8 BS:32 LR:0.0005\",\"[160, 199]\"],[\"FL1:512 FL2:16 DR:0.8 BS:32 LR:0.0005\",\"[160, 199]\"],[\"FL1:512 FL2:16 DR:0.8 BS:32 LR:0.0005\",\"[160, 199]\"],[\"FL1:512 FL2:16 DR:0.8 BS:32 LR:0.0005\",\"[160, 199]\"],[\"FL1:512 FL2:16 DR:0.8 BS:32 LR:0.0005\",\"[160, 199]\"],[\"FL1:512 FL2:16 DR:0.8 BS:32 LR:0.0005\",\"[160, 199]\"],[\"FL1:512 FL2:16 DR:0.8 BS:32 LR:0.0005\",\"[160, 199]\"],[\"FL1:512 FL2:16 DR:0.8 BS:32 LR:0.0005\",\"[160, 199]\"],[\"FL1:512 FL2:16 DR:0.8 BS:32 LR:0.0005\",\"[160, 199]\"],[\"FL1:512 FL2:16 DR:0.8 BS:32 LR:0.0005\",\"[160, 199]\"],[\"FL1:512 FL2:16 DR:0.8 BS:32 LR:0.0005\",\"[160, 199]\"],[\"FL1:512 FL2:16 DR:0.8 BS:32 LR:0.0005\",\"[160, 199]\"],[\"FL1:512 FL2:16 DR:0.8 BS:32 LR:0.0005\",\"[160, 199]\"],[\"FL1:512 FL2:16 DR:0.8 BS:32 LR:0.0005\",\"[160, 199]\"],[\"FL1:512 FL2:16 DR:0.8 BS:32 LR:0.0005\",\"[160, 199]\"],[\"FL1:512 FL2:16 DR:0.8 BS:32 LR:0.0005\",\"[160, 199]\"],[\"FL1:512 FL2:16 DR:0.8 BS:32 LR:0.0005\",\"[160, 199]\"],[\"FL1:512 FL2:16 DR:0.8 BS:32 LR:0.0005\",\"[160, 199]\"],[\"FL1:512 FL2:16 DR:0.8 BS:32 LR:0.0005\",\"[160, 199]\"],[\"FL1:512 FL2:16 DR:0.8 BS:32 LR:0.0005\",\"[160, 199]\"],[\"FL1:512 FL2:16 DR:0.8 BS:32 LR:0.0005\",\"[160, 199]\"],[\"FL1:512 FL2:16 DR:0.8 BS:32 LR:0.0005\",\"[160, 199]\"],[\"FL1:512 FL2:16 DR:0.8 BS:32 LR:0.0005\",\"[160, 199]\"],[\"FL1:512 FL2:16 DR:0.8 BS:32 LR:0.0005\",\"[160, 199]\"],[\"FL1:512 FL2:16 DR:0.8 BS:32 LR:0.0005\",\"[160, 199]\"],[\"FL1:512 FL2:16 DR:0.8 BS:32 LR:0.0005\",\"[160, 199]\"],[\"FL1:512 FL2:16 DR:0.8 BS:32 LR:0.0005\",\"[160, 199]\"],[\"FL1:512 FL2:16 DR:0.8 BS:32 LR:0.0005\",\"[160, 199]\"],[\"FL1:512 FL2:16 DR:0.8 BS:32 LR:0.0005\",\"[160, 199]\"],[\"FL1:512 FL2:16 DR:0.8 BS:32 LR:0.0005\",\"[160, 199]\"],[\"FL1:512 FL2:16 DR:0.8 BS:32 LR:0.0005\",\"[160, 199]\"],[\"FL1:512 FL2:16 DR:0.8 BS:32 LR:0.0005\",\"[160, 199]\"],[\"FL1:512 FL2:16 DR:0.8 BS:32 LR:0.0005\",\"[160, 199]\"],[\"FL1:512 FL2:16 DR:0.8 BS:32 LR:0.0005\",\"[160, 199]\"],[\"FL1:512 FL2:16 DR:0.8 BS:32 LR:0.0005\",\"[160, 199]\"],[\"FL1:512 FL2:16 DR:0.8 BS:32 LR:0.0005\",\"[160, 199]\"],[\"FL1:512 FL2:16 DR:0.8 BS:32 LR:0.0005\",\"[160, 199]\"],[\"FL1:512 FL2:16 DR:0.8 BS:32 LR:0.0005\",\"[160, 199]\"],[\"FL1:512 FL2:16 DR:0.8 BS:32 LR:0.0005\",\"[160, 199]\"],[\"FL1:512 FL2:16 DR:0.8 BS:32 LR:0.0005\",\"[160, 199]\"],[\"FL1:512 FL2:16 DR:0.8 BS:32 LR:0.0005\",\"[160, 199]\"],[\"FL1:512 FL2:16 DR:0.8 BS:32 LR:0.0005\",\"[160, 199]\"],[\"FL1:512 FL2:16 DR:0.8 BS:32 LR:0.0005\",\"[160, 199]\"],[\"FL1:512 FL2:16 DR:0.8 BS:32 LR:0.0005\",\"[160, 199]\"],[\"FL1:512 FL2:16 DR:0.8 BS:32 LR:0.0005\",\"[160, 199]\"],[\"FL1:512 FL2:16 DR:0.8 BS:32 LR:0.0005\",\"[160, 199]\"],[\"FL1:512 FL2:16 DR:0.8 BS:32 LR:0.0005\",\"[160, 199]\"]],\"hovertemplate\":\"variable=val_loss\\u003cbr\\u003etrial_id=802fd_00268\\u003cbr\\u003eepoch=%{x}\\u003cbr\\u003evalue=%{y}\\u003cbr\\u003eHyperparameters=%{customdata[0]}\\u003cbr\\u003echeckpoints=%{customdata[1]}\\u003cextra\\u003e\\u003c\\u002fextra\\u003e\",\"legendgroup\":\"val_loss, 802fd_00268\",\"line\":{\"color\":\"#636efa\",\"dash\":\"solid\"},\"marker\":{\"symbol\":\"circle\"},\"mode\":\"lines\",\"name\":\"val_loss, 802fd_00268\",\"showlegend\":true,\"x\":[0,1,2,3,4,5,6,7,8,9,10,11,12,13,14,15,16,17,18,19,20,21,22,23,24,25,26,27,28,29,30,31,32,33,34,35,36,37,38,39,40,41,42,43,44,45,46,47,48,49,50,51,52,53,54,55,56,57,58,59,60,61,62,63,64,65,66,67,68,69,70,71,72,73,74,75,76,77,78,79,80,81,82,83,84,85,86,87,88,89,90,91,92,93,94,95,96,97,98,99,100,101,102,103,104,105,106,107,108,109,110,111,112,113,114,115,116,117,118,119,120,121,122,123,124,125,126,127,128,129,130,131,132,133,134,135,136,137,138,139,140,141,142,143,144,145,146,147,148,149,150,151,152,153,154,155,156,157,158,159,160,161,162,163,164,165,166,167,168,169,170,171,172,173,174,175,176,177,178,179,180,181,182,183,184,185,186,187,188,189,190,191,192,193,194,195,196,197,198,199],\"xaxis\":\"x\",\"y\":[0.6702514290809616,0.671661516030627,0.650551848941376,0.5766705727135664,0.5132405761583322,0.45927468960176987,0.420881089400523,0.3936392147218333,0.3746721002045694,0.36210370080890997,0.35638427745781087,0.3465836744274141,0.33678437940050704,0.3324496956121221,0.32842374254937196,0.3242340115022336,0.32524857105888666,0.33098144453153094,0.3289786949514347,0.3276839107115392,0.3383155465019617,0.33945823708460476,0.3516934381543637,0.35470806668990373,0.35347683635548344,0.35190927920868315,0.3519518868004626,0.3552481562478895,0.36016153498381653,0.36613824436326914,0.35729788388980743,0.35664280352442257,0.36579672891198695,0.36056019795138955,0.3685717611326057,0.35397746356416193,0.3608463253715854,0.36185653978845855,0.35066638704314007,0.3439438728238083,0.3453965046501772,0.3445384408696892,0.3417514897495104,0.33054881540335435,0.3467443436211817,0.3478584984823372,0.34514388110136285,0.34391265886290323,0.3319225892574479,0.3452961335679475,0.3486652698848361,0.3520065861764021,0.34202654281076167,0.33647207166629545,0.3388957927351355,0.3384094999714128,0.345302324591969,0.3501467281572642,0.35100512862156563,0.3583241645491825,0.38034356262926866,0.3884927870607671,0.39279434692702575,0.3793406427690834,0.38364391133450376,0.38555926154231207,0.39034052736345287,0.39432069027942557,0.4004333871240218,0.3844047061360404,0.4275017494464256,0.4061896082099494,0.40806462541793465,0.43502243807298946,0.40916479263294325,0.42080894532196006,0.41467979830100893,0.40920266695548835,0.40459429348660575,0.404008621143983,0.4020046453791755,0.399455548069072,0.42123157828462826,0.42453562914936116,0.4260085006528974,0.4355991237676054,0.4407300785724252,0.43070927166567335,0.42257770832131936,0.4283107812917926,0.4423689740046317,0.4313452871073909,0.47922486274968296,0.4705699795453453,0.4554442143419509,0.44380721290767927,0.47327814393480977,0.45943453506125476,0.4570123824509866,0.43443704466242744,0.4446535065453515,0.4241667459197344,0.43295122648527123,0.4128228125654973,0.4197024006104007,0.40029378059542986,0.40636178733929434,0.4151817751064849,0.43512879094381696,0.47919882192147684,0.5314148721028215,0.4915053087425782,0.4534585467942914,0.4755917186186275,0.45326088830136896,0.470808956121759,0.46010264959292596,0.48119680223436356,0.5127273475962942,0.49925218859235765,0.479199093838004,0.4856041055649294,0.48719683168528843,0.4703982066988826,0.4827740915536789,0.471399117040627,0.49376898244221407,0.5102463313950379,0.5027780101705435,0.4651232173713597,0.4674676034631024,0.4668769322356696,0.47060395827035756,0.4745751722000736,0.4802271891529481,0.4917600862777962,0.5000996068184055,0.5132696280919484,0.5397713349953591,0.5300475668043085,0.5301966873228663,0.5749033032139201,0.5716084797037998,0.5662713222274077,0.6050853644853743,0.6148789866133457,0.6057608553677073,0.6076970980504651,0.6155683984981296,0.5921649131924773,0.6203792554637353,0.6137889135215374,0.5895080836834956,0.5996353607854862,0.5660806186650595,0.5878522123001931,0.5252679106330147,0.548168925228069,0.5426303133582724,0.5525284002367412,0.5187713133059434,0.5623017302329322,0.5561937326308727,0.5986941214479748,0.58886742963246,0.5978339537902094,0.6088609844395448,0.5885799626475513,0.672142095033719,0.6701931600202399,0.673847174937808,0.6851615748771569,0.7321699554369523,0.6731128291716612,0.6440543463780095,0.5767196073104007,0.6091282138539048,0.5765396402486611,0.6057222913509226,0.6673290418787524,0.6581737589308754,0.6953072476035428,0.7281320047144124,0.7082963156543841,0.6909644913569191,0.6919746406803577,0.6345013583984661,0.6812116242307199,0.6593491856825187,0.616190839116561,0.6599528513383766,0.6867943619378323,0.6743341826523603,0.6645629500763441,0.6726748013110161,0.703116295311926,0.6896813893146486,0.6152039921169252,0.6173794372800157,0.6032788822335101],\"yaxis\":\"y\",\"type\":\"scattergl\"},{\"customdata\":[[\"FL1:16 FL2:16 DR:0.8 BS:64 LR:0.0001\",\"[157, 199]\"],[\"FL1:16 FL2:16 DR:0.8 BS:64 LR:0.0001\",\"[157, 199]\"],[\"FL1:16 FL2:16 DR:0.8 BS:64 LR:0.0001\",\"[157, 199]\"],[\"FL1:16 FL2:16 DR:0.8 BS:64 LR:0.0001\",\"[157, 199]\"],[\"FL1:16 FL2:16 DR:0.8 BS:64 LR:0.0001\",\"[157, 199]\"],[\"FL1:16 FL2:16 DR:0.8 BS:64 LR:0.0001\",\"[157, 199]\"],[\"FL1:16 FL2:16 DR:0.8 BS:64 LR:0.0001\",\"[157, 199]\"],[\"FL1:16 FL2:16 DR:0.8 BS:64 LR:0.0001\",\"[157, 199]\"],[\"FL1:16 FL2:16 DR:0.8 BS:64 LR:0.0001\",\"[157, 199]\"],[\"FL1:16 FL2:16 DR:0.8 BS:64 LR:0.0001\",\"[157, 199]\"],[\"FL1:16 FL2:16 DR:0.8 BS:64 LR:0.0001\",\"[157, 199]\"],[\"FL1:16 FL2:16 DR:0.8 BS:64 LR:0.0001\",\"[157, 199]\"],[\"FL1:16 FL2:16 DR:0.8 BS:64 LR:0.0001\",\"[157, 199]\"],[\"FL1:16 FL2:16 DR:0.8 BS:64 LR:0.0001\",\"[157, 199]\"],[\"FL1:16 FL2:16 DR:0.8 BS:64 LR:0.0001\",\"[157, 199]\"],[\"FL1:16 FL2:16 DR:0.8 BS:64 LR:0.0001\",\"[157, 199]\"],[\"FL1:16 FL2:16 DR:0.8 BS:64 LR:0.0001\",\"[157, 199]\"],[\"FL1:16 FL2:16 DR:0.8 BS:64 LR:0.0001\",\"[157, 199]\"],[\"FL1:16 FL2:16 DR:0.8 BS:64 LR:0.0001\",\"[157, 199]\"],[\"FL1:16 FL2:16 DR:0.8 BS:64 LR:0.0001\",\"[157, 199]\"],[\"FL1:16 FL2:16 DR:0.8 BS:64 LR:0.0001\",\"[157, 199]\"],[\"FL1:16 FL2:16 DR:0.8 BS:64 LR:0.0001\",\"[157, 199]\"],[\"FL1:16 FL2:16 DR:0.8 BS:64 LR:0.0001\",\"[157, 199]\"],[\"FL1:16 FL2:16 DR:0.8 BS:64 LR:0.0001\",\"[157, 199]\"],[\"FL1:16 FL2:16 DR:0.8 BS:64 LR:0.0001\",\"[157, 199]\"],[\"FL1:16 FL2:16 DR:0.8 BS:64 LR:0.0001\",\"[157, 199]\"],[\"FL1:16 FL2:16 DR:0.8 BS:64 LR:0.0001\",\"[157, 199]\"],[\"FL1:16 FL2:16 DR:0.8 BS:64 LR:0.0001\",\"[157, 199]\"],[\"FL1:16 FL2:16 DR:0.8 BS:64 LR:0.0001\",\"[157, 199]\"],[\"FL1:16 FL2:16 DR:0.8 BS:64 LR:0.0001\",\"[157, 199]\"],[\"FL1:16 FL2:16 DR:0.8 BS:64 LR:0.0001\",\"[157, 199]\"],[\"FL1:16 FL2:16 DR:0.8 BS:64 LR:0.0001\",\"[157, 199]\"],[\"FL1:16 FL2:16 DR:0.8 BS:64 LR:0.0001\",\"[157, 199]\"],[\"FL1:16 FL2:16 DR:0.8 BS:64 LR:0.0001\",\"[157, 199]\"],[\"FL1:16 FL2:16 DR:0.8 BS:64 LR:0.0001\",\"[157, 199]\"],[\"FL1:16 FL2:16 DR:0.8 BS:64 LR:0.0001\",\"[157, 199]\"],[\"FL1:16 FL2:16 DR:0.8 BS:64 LR:0.0001\",\"[157, 199]\"],[\"FL1:16 FL2:16 DR:0.8 BS:64 LR:0.0001\",\"[157, 199]\"],[\"FL1:16 FL2:16 DR:0.8 BS:64 LR:0.0001\",\"[157, 199]\"],[\"FL1:16 FL2:16 DR:0.8 BS:64 LR:0.0001\",\"[157, 199]\"],[\"FL1:16 FL2:16 DR:0.8 BS:64 LR:0.0001\",\"[157, 199]\"],[\"FL1:16 FL2:16 DR:0.8 BS:64 LR:0.0001\",\"[157, 199]\"],[\"FL1:16 FL2:16 DR:0.8 BS:64 LR:0.0001\",\"[157, 199]\"],[\"FL1:16 FL2:16 DR:0.8 BS:64 LR:0.0001\",\"[157, 199]\"],[\"FL1:16 FL2:16 DR:0.8 BS:64 LR:0.0001\",\"[157, 199]\"],[\"FL1:16 FL2:16 DR:0.8 BS:64 LR:0.0001\",\"[157, 199]\"],[\"FL1:16 FL2:16 DR:0.8 BS:64 LR:0.0001\",\"[157, 199]\"],[\"FL1:16 FL2:16 DR:0.8 BS:64 LR:0.0001\",\"[157, 199]\"],[\"FL1:16 FL2:16 DR:0.8 BS:64 LR:0.0001\",\"[157, 199]\"],[\"FL1:16 FL2:16 DR:0.8 BS:64 LR:0.0001\",\"[157, 199]\"],[\"FL1:16 FL2:16 DR:0.8 BS:64 LR:0.0001\",\"[157, 199]\"],[\"FL1:16 FL2:16 DR:0.8 BS:64 LR:0.0001\",\"[157, 199]\"],[\"FL1:16 FL2:16 DR:0.8 BS:64 LR:0.0001\",\"[157, 199]\"],[\"FL1:16 FL2:16 DR:0.8 BS:64 LR:0.0001\",\"[157, 199]\"],[\"FL1:16 FL2:16 DR:0.8 BS:64 LR:0.0001\",\"[157, 199]\"],[\"FL1:16 FL2:16 DR:0.8 BS:64 LR:0.0001\",\"[157, 199]\"],[\"FL1:16 FL2:16 DR:0.8 BS:64 LR:0.0001\",\"[157, 199]\"],[\"FL1:16 FL2:16 DR:0.8 BS:64 LR:0.0001\",\"[157, 199]\"],[\"FL1:16 FL2:16 DR:0.8 BS:64 LR:0.0001\",\"[157, 199]\"],[\"FL1:16 FL2:16 DR:0.8 BS:64 LR:0.0001\",\"[157, 199]\"],[\"FL1:16 FL2:16 DR:0.8 BS:64 LR:0.0001\",\"[157, 199]\"],[\"FL1:16 FL2:16 DR:0.8 BS:64 LR:0.0001\",\"[157, 199]\"],[\"FL1:16 FL2:16 DR:0.8 BS:64 LR:0.0001\",\"[157, 199]\"],[\"FL1:16 FL2:16 DR:0.8 BS:64 LR:0.0001\",\"[157, 199]\"],[\"FL1:16 FL2:16 DR:0.8 BS:64 LR:0.0001\",\"[157, 199]\"],[\"FL1:16 FL2:16 DR:0.8 BS:64 LR:0.0001\",\"[157, 199]\"],[\"FL1:16 FL2:16 DR:0.8 BS:64 LR:0.0001\",\"[157, 199]\"],[\"FL1:16 FL2:16 DR:0.8 BS:64 LR:0.0001\",\"[157, 199]\"],[\"FL1:16 FL2:16 DR:0.8 BS:64 LR:0.0001\",\"[157, 199]\"],[\"FL1:16 FL2:16 DR:0.8 BS:64 LR:0.0001\",\"[157, 199]\"],[\"FL1:16 FL2:16 DR:0.8 BS:64 LR:0.0001\",\"[157, 199]\"],[\"FL1:16 FL2:16 DR:0.8 BS:64 LR:0.0001\",\"[157, 199]\"],[\"FL1:16 FL2:16 DR:0.8 BS:64 LR:0.0001\",\"[157, 199]\"],[\"FL1:16 FL2:16 DR:0.8 BS:64 LR:0.0001\",\"[157, 199]\"],[\"FL1:16 FL2:16 DR:0.8 BS:64 LR:0.0001\",\"[157, 199]\"],[\"FL1:16 FL2:16 DR:0.8 BS:64 LR:0.0001\",\"[157, 199]\"],[\"FL1:16 FL2:16 DR:0.8 BS:64 LR:0.0001\",\"[157, 199]\"],[\"FL1:16 FL2:16 DR:0.8 BS:64 LR:0.0001\",\"[157, 199]\"],[\"FL1:16 FL2:16 DR:0.8 BS:64 LR:0.0001\",\"[157, 199]\"],[\"FL1:16 FL2:16 DR:0.8 BS:64 LR:0.0001\",\"[157, 199]\"],[\"FL1:16 FL2:16 DR:0.8 BS:64 LR:0.0001\",\"[157, 199]\"],[\"FL1:16 FL2:16 DR:0.8 BS:64 LR:0.0001\",\"[157, 199]\"],[\"FL1:16 FL2:16 DR:0.8 BS:64 LR:0.0001\",\"[157, 199]\"],[\"FL1:16 FL2:16 DR:0.8 BS:64 LR:0.0001\",\"[157, 199]\"],[\"FL1:16 FL2:16 DR:0.8 BS:64 LR:0.0001\",\"[157, 199]\"],[\"FL1:16 FL2:16 DR:0.8 BS:64 LR:0.0001\",\"[157, 199]\"],[\"FL1:16 FL2:16 DR:0.8 BS:64 LR:0.0001\",\"[157, 199]\"],[\"FL1:16 FL2:16 DR:0.8 BS:64 LR:0.0001\",\"[157, 199]\"],[\"FL1:16 FL2:16 DR:0.8 BS:64 LR:0.0001\",\"[157, 199]\"],[\"FL1:16 FL2:16 DR:0.8 BS:64 LR:0.0001\",\"[157, 199]\"],[\"FL1:16 FL2:16 DR:0.8 BS:64 LR:0.0001\",\"[157, 199]\"],[\"FL1:16 FL2:16 DR:0.8 BS:64 LR:0.0001\",\"[157, 199]\"],[\"FL1:16 FL2:16 DR:0.8 BS:64 LR:0.0001\",\"[157, 199]\"],[\"FL1:16 FL2:16 DR:0.8 BS:64 LR:0.0001\",\"[157, 199]\"],[\"FL1:16 FL2:16 DR:0.8 BS:64 LR:0.0001\",\"[157, 199]\"],[\"FL1:16 FL2:16 DR:0.8 BS:64 LR:0.0001\",\"[157, 199]\"],[\"FL1:16 FL2:16 DR:0.8 BS:64 LR:0.0001\",\"[157, 199]\"],[\"FL1:16 FL2:16 DR:0.8 BS:64 LR:0.0001\",\"[157, 199]\"],[\"FL1:16 FL2:16 DR:0.8 BS:64 LR:0.0001\",\"[157, 199]\"],[\"FL1:16 FL2:16 DR:0.8 BS:64 LR:0.0001\",\"[157, 199]\"],[\"FL1:16 FL2:16 DR:0.8 BS:64 LR:0.0001\",\"[157, 199]\"],[\"FL1:16 FL2:16 DR:0.8 BS:64 LR:0.0001\",\"[157, 199]\"],[\"FL1:16 FL2:16 DR:0.8 BS:64 LR:0.0001\",\"[157, 199]\"],[\"FL1:16 FL2:16 DR:0.8 BS:64 LR:0.0001\",\"[157, 199]\"],[\"FL1:16 FL2:16 DR:0.8 BS:64 LR:0.0001\",\"[157, 199]\"],[\"FL1:16 FL2:16 DR:0.8 BS:64 LR:0.0001\",\"[157, 199]\"],[\"FL1:16 FL2:16 DR:0.8 BS:64 LR:0.0001\",\"[157, 199]\"],[\"FL1:16 FL2:16 DR:0.8 BS:64 LR:0.0001\",\"[157, 199]\"],[\"FL1:16 FL2:16 DR:0.8 BS:64 LR:0.0001\",\"[157, 199]\"],[\"FL1:16 FL2:16 DR:0.8 BS:64 LR:0.0001\",\"[157, 199]\"],[\"FL1:16 FL2:16 DR:0.8 BS:64 LR:0.0001\",\"[157, 199]\"],[\"FL1:16 FL2:16 DR:0.8 BS:64 LR:0.0001\",\"[157, 199]\"],[\"FL1:16 FL2:16 DR:0.8 BS:64 LR:0.0001\",\"[157, 199]\"],[\"FL1:16 FL2:16 DR:0.8 BS:64 LR:0.0001\",\"[157, 199]\"],[\"FL1:16 FL2:16 DR:0.8 BS:64 LR:0.0001\",\"[157, 199]\"],[\"FL1:16 FL2:16 DR:0.8 BS:64 LR:0.0001\",\"[157, 199]\"],[\"FL1:16 FL2:16 DR:0.8 BS:64 LR:0.0001\",\"[157, 199]\"],[\"FL1:16 FL2:16 DR:0.8 BS:64 LR:0.0001\",\"[157, 199]\"],[\"FL1:16 FL2:16 DR:0.8 BS:64 LR:0.0001\",\"[157, 199]\"],[\"FL1:16 FL2:16 DR:0.8 BS:64 LR:0.0001\",\"[157, 199]\"],[\"FL1:16 FL2:16 DR:0.8 BS:64 LR:0.0001\",\"[157, 199]\"],[\"FL1:16 FL2:16 DR:0.8 BS:64 LR:0.0001\",\"[157, 199]\"],[\"FL1:16 FL2:16 DR:0.8 BS:64 LR:0.0001\",\"[157, 199]\"],[\"FL1:16 FL2:16 DR:0.8 BS:64 LR:0.0001\",\"[157, 199]\"],[\"FL1:16 FL2:16 DR:0.8 BS:64 LR:0.0001\",\"[157, 199]\"],[\"FL1:16 FL2:16 DR:0.8 BS:64 LR:0.0001\",\"[157, 199]\"],[\"FL1:16 FL2:16 DR:0.8 BS:64 LR:0.0001\",\"[157, 199]\"],[\"FL1:16 FL2:16 DR:0.8 BS:64 LR:0.0001\",\"[157, 199]\"],[\"FL1:16 FL2:16 DR:0.8 BS:64 LR:0.0001\",\"[157, 199]\"],[\"FL1:16 FL2:16 DR:0.8 BS:64 LR:0.0001\",\"[157, 199]\"],[\"FL1:16 FL2:16 DR:0.8 BS:64 LR:0.0001\",\"[157, 199]\"],[\"FL1:16 FL2:16 DR:0.8 BS:64 LR:0.0001\",\"[157, 199]\"],[\"FL1:16 FL2:16 DR:0.8 BS:64 LR:0.0001\",\"[157, 199]\"],[\"FL1:16 FL2:16 DR:0.8 BS:64 LR:0.0001\",\"[157, 199]\"],[\"FL1:16 FL2:16 DR:0.8 BS:64 LR:0.0001\",\"[157, 199]\"],[\"FL1:16 FL2:16 DR:0.8 BS:64 LR:0.0001\",\"[157, 199]\"],[\"FL1:16 FL2:16 DR:0.8 BS:64 LR:0.0001\",\"[157, 199]\"],[\"FL1:16 FL2:16 DR:0.8 BS:64 LR:0.0001\",\"[157, 199]\"],[\"FL1:16 FL2:16 DR:0.8 BS:64 LR:0.0001\",\"[157, 199]\"],[\"FL1:16 FL2:16 DR:0.8 BS:64 LR:0.0001\",\"[157, 199]\"],[\"FL1:16 FL2:16 DR:0.8 BS:64 LR:0.0001\",\"[157, 199]\"],[\"FL1:16 FL2:16 DR:0.8 BS:64 LR:0.0001\",\"[157, 199]\"],[\"FL1:16 FL2:16 DR:0.8 BS:64 LR:0.0001\",\"[157, 199]\"],[\"FL1:16 FL2:16 DR:0.8 BS:64 LR:0.0001\",\"[157, 199]\"],[\"FL1:16 FL2:16 DR:0.8 BS:64 LR:0.0001\",\"[157, 199]\"],[\"FL1:16 FL2:16 DR:0.8 BS:64 LR:0.0001\",\"[157, 199]\"],[\"FL1:16 FL2:16 DR:0.8 BS:64 LR:0.0001\",\"[157, 199]\"],[\"FL1:16 FL2:16 DR:0.8 BS:64 LR:0.0001\",\"[157, 199]\"],[\"FL1:16 FL2:16 DR:0.8 BS:64 LR:0.0001\",\"[157, 199]\"],[\"FL1:16 FL2:16 DR:0.8 BS:64 LR:0.0001\",\"[157, 199]\"],[\"FL1:16 FL2:16 DR:0.8 BS:64 LR:0.0001\",\"[157, 199]\"],[\"FL1:16 FL2:16 DR:0.8 BS:64 LR:0.0001\",\"[157, 199]\"],[\"FL1:16 FL2:16 DR:0.8 BS:64 LR:0.0001\",\"[157, 199]\"],[\"FL1:16 FL2:16 DR:0.8 BS:64 LR:0.0001\",\"[157, 199]\"],[\"FL1:16 FL2:16 DR:0.8 BS:64 LR:0.0001\",\"[157, 199]\"],[\"FL1:16 FL2:16 DR:0.8 BS:64 LR:0.0001\",\"[157, 199]\"],[\"FL1:16 FL2:16 DR:0.8 BS:64 LR:0.0001\",\"[157, 199]\"],[\"FL1:16 FL2:16 DR:0.8 BS:64 LR:0.0001\",\"[157, 199]\"],[\"FL1:16 FL2:16 DR:0.8 BS:64 LR:0.0001\",\"[157, 199]\"],[\"FL1:16 FL2:16 DR:0.8 BS:64 LR:0.0001\",\"[157, 199]\"],[\"FL1:16 FL2:16 DR:0.8 BS:64 LR:0.0001\",\"[157, 199]\"],[\"FL1:16 FL2:16 DR:0.8 BS:64 LR:0.0001\",\"[157, 199]\"],[\"FL1:16 FL2:16 DR:0.8 BS:64 LR:0.0001\",\"[157, 199]\"],[\"FL1:16 FL2:16 DR:0.8 BS:64 LR:0.0001\",\"[157, 199]\"],[\"FL1:16 FL2:16 DR:0.8 BS:64 LR:0.0001\",\"[157, 199]\"],[\"FL1:16 FL2:16 DR:0.8 BS:64 LR:0.0001\",\"[157, 199]\"],[\"FL1:16 FL2:16 DR:0.8 BS:64 LR:0.0001\",\"[157, 199]\"],[\"FL1:16 FL2:16 DR:0.8 BS:64 LR:0.0001\",\"[157, 199]\"],[\"FL1:16 FL2:16 DR:0.8 BS:64 LR:0.0001\",\"[157, 199]\"],[\"FL1:16 FL2:16 DR:0.8 BS:64 LR:0.0001\",\"[157, 199]\"],[\"FL1:16 FL2:16 DR:0.8 BS:64 LR:0.0001\",\"[157, 199]\"],[\"FL1:16 FL2:16 DR:0.8 BS:64 LR:0.0001\",\"[157, 199]\"],[\"FL1:16 FL2:16 DR:0.8 BS:64 LR:0.0001\",\"[157, 199]\"],[\"FL1:16 FL2:16 DR:0.8 BS:64 LR:0.0001\",\"[157, 199]\"],[\"FL1:16 FL2:16 DR:0.8 BS:64 LR:0.0001\",\"[157, 199]\"],[\"FL1:16 FL2:16 DR:0.8 BS:64 LR:0.0001\",\"[157, 199]\"],[\"FL1:16 FL2:16 DR:0.8 BS:64 LR:0.0001\",\"[157, 199]\"],[\"FL1:16 FL2:16 DR:0.8 BS:64 LR:0.0001\",\"[157, 199]\"],[\"FL1:16 FL2:16 DR:0.8 BS:64 LR:0.0001\",\"[157, 199]\"],[\"FL1:16 FL2:16 DR:0.8 BS:64 LR:0.0001\",\"[157, 199]\"],[\"FL1:16 FL2:16 DR:0.8 BS:64 LR:0.0001\",\"[157, 199]\"],[\"FL1:16 FL2:16 DR:0.8 BS:64 LR:0.0001\",\"[157, 199]\"],[\"FL1:16 FL2:16 DR:0.8 BS:64 LR:0.0001\",\"[157, 199]\"],[\"FL1:16 FL2:16 DR:0.8 BS:64 LR:0.0001\",\"[157, 199]\"],[\"FL1:16 FL2:16 DR:0.8 BS:64 LR:0.0001\",\"[157, 199]\"],[\"FL1:16 FL2:16 DR:0.8 BS:64 LR:0.0001\",\"[157, 199]\"],[\"FL1:16 FL2:16 DR:0.8 BS:64 LR:0.0001\",\"[157, 199]\"],[\"FL1:16 FL2:16 DR:0.8 BS:64 LR:0.0001\",\"[157, 199]\"],[\"FL1:16 FL2:16 DR:0.8 BS:64 LR:0.0001\",\"[157, 199]\"],[\"FL1:16 FL2:16 DR:0.8 BS:64 LR:0.0001\",\"[157, 199]\"],[\"FL1:16 FL2:16 DR:0.8 BS:64 LR:0.0001\",\"[157, 199]\"],[\"FL1:16 FL2:16 DR:0.8 BS:64 LR:0.0001\",\"[157, 199]\"],[\"FL1:16 FL2:16 DR:0.8 BS:64 LR:0.0001\",\"[157, 199]\"],[\"FL1:16 FL2:16 DR:0.8 BS:64 LR:0.0001\",\"[157, 199]\"],[\"FL1:16 FL2:16 DR:0.8 BS:64 LR:0.0001\",\"[157, 199]\"],[\"FL1:16 FL2:16 DR:0.8 BS:64 LR:0.0001\",\"[157, 199]\"],[\"FL1:16 FL2:16 DR:0.8 BS:64 LR:0.0001\",\"[157, 199]\"],[\"FL1:16 FL2:16 DR:0.8 BS:64 LR:0.0001\",\"[157, 199]\"],[\"FL1:16 FL2:16 DR:0.8 BS:64 LR:0.0001\",\"[157, 199]\"],[\"FL1:16 FL2:16 DR:0.8 BS:64 LR:0.0001\",\"[157, 199]\"]],\"hovertemplate\":\"variable=val_loss\\u003cbr\\u003etrial_id=802fd_00036\\u003cbr\\u003eepoch=%{x}\\u003cbr\\u003evalue=%{y}\\u003cbr\\u003eHyperparameters=%{customdata[0]}\\u003cbr\\u003echeckpoints=%{customdata[1]}\\u003cextra\\u003e\\u003c\\u002fextra\\u003e\",\"legendgroup\":\"val_loss, 802fd_00036\",\"line\":{\"color\":\"#636efa\",\"dash\":\"dot\"},\"marker\":{\"symbol\":\"circle\"},\"mode\":\"lines\",\"name\":\"val_loss, 802fd_00036\",\"showlegend\":true,\"x\":[0,1,2,3,4,5,6,7,8,9,10,11,12,13,14,15,16,17,18,19,20,21,22,23,24,25,26,27,28,29,30,31,32,33,34,35,36,37,38,39,40,41,42,43,44,45,46,47,48,49,50,51,52,53,54,55,56,57,58,59,60,61,62,63,64,65,66,67,68,69,70,71,72,73,74,75,76,77,78,79,80,81,82,83,84,85,86,87,88,89,90,91,92,93,94,95,96,97,98,99,100,101,102,103,104,105,106,107,108,109,110,111,112,113,114,115,116,117,118,119,120,121,122,123,124,125,126,127,128,129,130,131,132,133,134,135,136,137,138,139,140,141,142,143,144,145,146,147,148,149,150,151,152,153,154,155,156,157,158,159,160,161,162,163,164,165,166,167,168,169,170,171,172,173,174,175,176,177,178,179,180,181,182,183,184,185,186,187,188,189,190,191,192,193,194,195,196,197,198,199],\"xaxis\":\"x\",\"y\":[0.6640861034393295,0.6637314756711299,0.661631279521515,0.659087951536528,0.6561022570103735,0.6540998531957671,0.6519504993213668,0.6499105432996108,0.6469828909879878,0.6446216984752768,0.6421204000157734,0.6373141665884255,0.6351471913939302,0.6305190770550279,0.6262789069760961,0.6242007413936391,0.6197370952654356,0.6157128854783677,0.6147452820799272,0.6124270312959286,0.6092368796781904,0.602769900382637,0.5960695273485959,0.5906028235493209,0.5900934394557003,0.5858825681182215,0.5805742301922672,0.5748051311162851,0.5682196753281832,0.5644509883098112,0.5631732206458706,0.5617778407808699,0.55731454208669,0.5535345853380147,0.5523854415292053,0.54897516440514,0.5465548202141329,0.5420709560145396,0.542205294624265,0.5369959411722383,0.5334558644362252,0.5316287980124648,0.5330156555205766,0.5288426392893106,0.5247719164437779,0.520742030656782,0.5180889776789118,0.5147425010100306,0.5137044041882147,0.5113599995460888,0.5111945734876236,0.5080959907146178,0.5030914320529742,0.49983053896037904,0.49800280394294516,0.492958798422671,0.49001697660436555,0.48679111044241435,0.4841356915939733,0.48235464378918985,0.4780044971884993,0.47723359657537207,0.47525709399389626,0.47350004996728384,0.474416757198647,0.4733515743232261,0.47056351528011925,0.46897210628087654,0.4671565522769767,0.46253650917077477,0.4617918003497141,0.4630577378072739,0.46312278261438894,0.46067313188086434,0.45821984167741614,0.45586519477000975,0.45318670429939023,0.4523748746060916,0.4515924944177981,0.45021359415158296,0.45023424288501007,0.44942044788512586,0.45141947980664066,0.4496503420402058,0.4472851023229912,0.4454615026813705,0.4441596110729339,0.44270606769905796,0.44136945693881086,0.4401220764662863,0.4411864436961561,0.4399303004011403,0.43832603791454594,0.4365136073635618,0.43712837806056504,0.43665305648055613,0.43533569159644697,0.43633014680635734,0.4367503670963423,0.43522530781644986,0.43426763009639746,0.4336009256814056,0.432234461623703,0.4302957425635875,0.4290496356038124,0.42879618848349355,0.42978262997326283,0.43021909459866997,0.4301284423433262,0.42808646102497994,0.42836903624898776,0.429303640081925,0.42853822903794797,0.4308637453248938,0.42871150858738855,0.4259821109476267,0.4249694700044105,0.42309784260072275,0.42102861978396977,0.41966033364524485,0.4185610339720375,0.4188859512858464,0.4185069336131452,0.41777469606102996,0.4179715937435716,0.41784653902451696,0.4173007961140762,0.41810060911885066,0.4184053333170615,0.4190690478727146,0.4194627974460462,0.4197495363838093,0.42080336363359294,0.4207785795214696,0.419755384000335,0.4186605014219498,0.4184081519851818,0.41935555903181226,0.4195442515483475,0.41769919911165776,0.41661929831994643,0.41817489098239546,0.41682721065632816,0.4156650363548077,0.4165356595743671,0.41668595800326663,0.41598246779393,0.41355528292623295,0.4135236068405508,0.41352884463719414,0.4119935631238867,0.41235867139256227,0.4123078485101864,0.4118985367993772,0.4133739857660562,0.41394145878068705,0.41400676033173645,0.41583481802724787,0.4158624733433646,0.4145847674837051,0.41360942301686093,0.4138890456990092,0.41339739838147654,0.41370616143878536,0.41370227460024145,0.41280589185792366,0.4137930418560108,0.4154235717660312,0.4149521289273175,0.4139116901824248,0.4124222032672403,0.41245477944256353,0.41375505625964093,0.41415908733845247,0.4128101355489118,0.4155747517384429,0.41543653106936634,0.41660155519014375,0.415407122268714,0.4160222617086013,0.4150557754633311,0.4125104406275663,0.41365940430417975,0.4163535804129651,0.4154273947462106,0.41455487942593955,0.41599595570496395,0.4143486918603813,0.4151185155971461,0.41506657011400316,0.4135811528039675,0.411932610834485,0.4120889957513043,0.4157809155361926,0.416790583873925,0.41258632748996943,0.41589888671819086,0.4132085524650651,0.4106602624159537,0.4097802907295669],\"yaxis\":\"y\",\"type\":\"scattergl\"},{\"customdata\":[[\"FL1:256 FL2:256 DR:0.3 BS:64 LR:0.005\",\"[156, 199]\"],[\"FL1:256 FL2:256 DR:0.3 BS:64 LR:0.005\",\"[156, 199]\"],[\"FL1:256 FL2:256 DR:0.3 BS:64 LR:0.005\",\"[156, 199]\"],[\"FL1:256 FL2:256 DR:0.3 BS:64 LR:0.005\",\"[156, 199]\"],[\"FL1:256 FL2:256 DR:0.3 BS:64 LR:0.005\",\"[156, 199]\"],[\"FL1:256 FL2:256 DR:0.3 BS:64 LR:0.005\",\"[156, 199]\"],[\"FL1:256 FL2:256 DR:0.3 BS:64 LR:0.005\",\"[156, 199]\"],[\"FL1:256 FL2:256 DR:0.3 BS:64 LR:0.005\",\"[156, 199]\"],[\"FL1:256 FL2:256 DR:0.3 BS:64 LR:0.005\",\"[156, 199]\"],[\"FL1:256 FL2:256 DR:0.3 BS:64 LR:0.005\",\"[156, 199]\"],[\"FL1:256 FL2:256 DR:0.3 BS:64 LR:0.005\",\"[156, 199]\"],[\"FL1:256 FL2:256 DR:0.3 BS:64 LR:0.005\",\"[156, 199]\"],[\"FL1:256 FL2:256 DR:0.3 BS:64 LR:0.005\",\"[156, 199]\"],[\"FL1:256 FL2:256 DR:0.3 BS:64 LR:0.005\",\"[156, 199]\"],[\"FL1:256 FL2:256 DR:0.3 BS:64 LR:0.005\",\"[156, 199]\"],[\"FL1:256 FL2:256 DR:0.3 BS:64 LR:0.005\",\"[156, 199]\"],[\"FL1:256 FL2:256 DR:0.3 BS:64 LR:0.005\",\"[156, 199]\"],[\"FL1:256 FL2:256 DR:0.3 BS:64 LR:0.005\",\"[156, 199]\"],[\"FL1:256 FL2:256 DR:0.3 BS:64 LR:0.005\",\"[156, 199]\"],[\"FL1:256 FL2:256 DR:0.3 BS:64 LR:0.005\",\"[156, 199]\"],[\"FL1:256 FL2:256 DR:0.3 BS:64 LR:0.005\",\"[156, 199]\"],[\"FL1:256 FL2:256 DR:0.3 BS:64 LR:0.005\",\"[156, 199]\"],[\"FL1:256 FL2:256 DR:0.3 BS:64 LR:0.005\",\"[156, 199]\"],[\"FL1:256 FL2:256 DR:0.3 BS:64 LR:0.005\",\"[156, 199]\"],[\"FL1:256 FL2:256 DR:0.3 BS:64 LR:0.005\",\"[156, 199]\"],[\"FL1:256 FL2:256 DR:0.3 BS:64 LR:0.005\",\"[156, 199]\"],[\"FL1:256 FL2:256 DR:0.3 BS:64 LR:0.005\",\"[156, 199]\"],[\"FL1:256 FL2:256 DR:0.3 BS:64 LR:0.005\",\"[156, 199]\"],[\"FL1:256 FL2:256 DR:0.3 BS:64 LR:0.005\",\"[156, 199]\"],[\"FL1:256 FL2:256 DR:0.3 BS:64 LR:0.005\",\"[156, 199]\"],[\"FL1:256 FL2:256 DR:0.3 BS:64 LR:0.005\",\"[156, 199]\"],[\"FL1:256 FL2:256 DR:0.3 BS:64 LR:0.005\",\"[156, 199]\"],[\"FL1:256 FL2:256 DR:0.3 BS:64 LR:0.005\",\"[156, 199]\"],[\"FL1:256 FL2:256 DR:0.3 BS:64 LR:0.005\",\"[156, 199]\"],[\"FL1:256 FL2:256 DR:0.3 BS:64 LR:0.005\",\"[156, 199]\"],[\"FL1:256 FL2:256 DR:0.3 BS:64 LR:0.005\",\"[156, 199]\"],[\"FL1:256 FL2:256 DR:0.3 BS:64 LR:0.005\",\"[156, 199]\"],[\"FL1:256 FL2:256 DR:0.3 BS:64 LR:0.005\",\"[156, 199]\"],[\"FL1:256 FL2:256 DR:0.3 BS:64 LR:0.005\",\"[156, 199]\"],[\"FL1:256 FL2:256 DR:0.3 BS:64 LR:0.005\",\"[156, 199]\"],[\"FL1:256 FL2:256 DR:0.3 BS:64 LR:0.005\",\"[156, 199]\"],[\"FL1:256 FL2:256 DR:0.3 BS:64 LR:0.005\",\"[156, 199]\"],[\"FL1:256 FL2:256 DR:0.3 BS:64 LR:0.005\",\"[156, 199]\"],[\"FL1:256 FL2:256 DR:0.3 BS:64 LR:0.005\",\"[156, 199]\"],[\"FL1:256 FL2:256 DR:0.3 BS:64 LR:0.005\",\"[156, 199]\"],[\"FL1:256 FL2:256 DR:0.3 BS:64 LR:0.005\",\"[156, 199]\"],[\"FL1:256 FL2:256 DR:0.3 BS:64 LR:0.005\",\"[156, 199]\"],[\"FL1:256 FL2:256 DR:0.3 BS:64 LR:0.005\",\"[156, 199]\"],[\"FL1:256 FL2:256 DR:0.3 BS:64 LR:0.005\",\"[156, 199]\"],[\"FL1:256 FL2:256 DR:0.3 BS:64 LR:0.005\",\"[156, 199]\"],[\"FL1:256 FL2:256 DR:0.3 BS:64 LR:0.005\",\"[156, 199]\"],[\"FL1:256 FL2:256 DR:0.3 BS:64 LR:0.005\",\"[156, 199]\"],[\"FL1:256 FL2:256 DR:0.3 BS:64 LR:0.005\",\"[156, 199]\"],[\"FL1:256 FL2:256 DR:0.3 BS:64 LR:0.005\",\"[156, 199]\"],[\"FL1:256 FL2:256 DR:0.3 BS:64 LR:0.005\",\"[156, 199]\"],[\"FL1:256 FL2:256 DR:0.3 BS:64 LR:0.005\",\"[156, 199]\"],[\"FL1:256 FL2:256 DR:0.3 BS:64 LR:0.005\",\"[156, 199]\"],[\"FL1:256 FL2:256 DR:0.3 BS:64 LR:0.005\",\"[156, 199]\"],[\"FL1:256 FL2:256 DR:0.3 BS:64 LR:0.005\",\"[156, 199]\"],[\"FL1:256 FL2:256 DR:0.3 BS:64 LR:0.005\",\"[156, 199]\"],[\"FL1:256 FL2:256 DR:0.3 BS:64 LR:0.005\",\"[156, 199]\"],[\"FL1:256 FL2:256 DR:0.3 BS:64 LR:0.005\",\"[156, 199]\"],[\"FL1:256 FL2:256 DR:0.3 BS:64 LR:0.005\",\"[156, 199]\"],[\"FL1:256 FL2:256 DR:0.3 BS:64 LR:0.005\",\"[156, 199]\"],[\"FL1:256 FL2:256 DR:0.3 BS:64 LR:0.005\",\"[156, 199]\"],[\"FL1:256 FL2:256 DR:0.3 BS:64 LR:0.005\",\"[156, 199]\"],[\"FL1:256 FL2:256 DR:0.3 BS:64 LR:0.005\",\"[156, 199]\"],[\"FL1:256 FL2:256 DR:0.3 BS:64 LR:0.005\",\"[156, 199]\"],[\"FL1:256 FL2:256 DR:0.3 BS:64 LR:0.005\",\"[156, 199]\"],[\"FL1:256 FL2:256 DR:0.3 BS:64 LR:0.005\",\"[156, 199]\"],[\"FL1:256 FL2:256 DR:0.3 BS:64 LR:0.005\",\"[156, 199]\"],[\"FL1:256 FL2:256 DR:0.3 BS:64 LR:0.005\",\"[156, 199]\"],[\"FL1:256 FL2:256 DR:0.3 BS:64 LR:0.005\",\"[156, 199]\"],[\"FL1:256 FL2:256 DR:0.3 BS:64 LR:0.005\",\"[156, 199]\"],[\"FL1:256 FL2:256 DR:0.3 BS:64 LR:0.005\",\"[156, 199]\"],[\"FL1:256 FL2:256 DR:0.3 BS:64 LR:0.005\",\"[156, 199]\"],[\"FL1:256 FL2:256 DR:0.3 BS:64 LR:0.005\",\"[156, 199]\"],[\"FL1:256 FL2:256 DR:0.3 BS:64 LR:0.005\",\"[156, 199]\"],[\"FL1:256 FL2:256 DR:0.3 BS:64 LR:0.005\",\"[156, 199]\"],[\"FL1:256 FL2:256 DR:0.3 BS:64 LR:0.005\",\"[156, 199]\"],[\"FL1:256 FL2:256 DR:0.3 BS:64 LR:0.005\",\"[156, 199]\"],[\"FL1:256 FL2:256 DR:0.3 BS:64 LR:0.005\",\"[156, 199]\"],[\"FL1:256 FL2:256 DR:0.3 BS:64 LR:0.005\",\"[156, 199]\"],[\"FL1:256 FL2:256 DR:0.3 BS:64 LR:0.005\",\"[156, 199]\"],[\"FL1:256 FL2:256 DR:0.3 BS:64 LR:0.005\",\"[156, 199]\"],[\"FL1:256 FL2:256 DR:0.3 BS:64 LR:0.005\",\"[156, 199]\"],[\"FL1:256 FL2:256 DR:0.3 BS:64 LR:0.005\",\"[156, 199]\"],[\"FL1:256 FL2:256 DR:0.3 BS:64 LR:0.005\",\"[156, 199]\"],[\"FL1:256 FL2:256 DR:0.3 BS:64 LR:0.005\",\"[156, 199]\"],[\"FL1:256 FL2:256 DR:0.3 BS:64 LR:0.005\",\"[156, 199]\"],[\"FL1:256 FL2:256 DR:0.3 BS:64 LR:0.005\",\"[156, 199]\"],[\"FL1:256 FL2:256 DR:0.3 BS:64 LR:0.005\",\"[156, 199]\"],[\"FL1:256 FL2:256 DR:0.3 BS:64 LR:0.005\",\"[156, 199]\"],[\"FL1:256 FL2:256 DR:0.3 BS:64 LR:0.005\",\"[156, 199]\"],[\"FL1:256 FL2:256 DR:0.3 BS:64 LR:0.005\",\"[156, 199]\"],[\"FL1:256 FL2:256 DR:0.3 BS:64 LR:0.005\",\"[156, 199]\"],[\"FL1:256 FL2:256 DR:0.3 BS:64 LR:0.005\",\"[156, 199]\"],[\"FL1:256 FL2:256 DR:0.3 BS:64 LR:0.005\",\"[156, 199]\"],[\"FL1:256 FL2:256 DR:0.3 BS:64 LR:0.005\",\"[156, 199]\"],[\"FL1:256 FL2:256 DR:0.3 BS:64 LR:0.005\",\"[156, 199]\"],[\"FL1:256 FL2:256 DR:0.3 BS:64 LR:0.005\",\"[156, 199]\"],[\"FL1:256 FL2:256 DR:0.3 BS:64 LR:0.005\",\"[156, 199]\"],[\"FL1:256 FL2:256 DR:0.3 BS:64 LR:0.005\",\"[156, 199]\"],[\"FL1:256 FL2:256 DR:0.3 BS:64 LR:0.005\",\"[156, 199]\"],[\"FL1:256 FL2:256 DR:0.3 BS:64 LR:0.005\",\"[156, 199]\"],[\"FL1:256 FL2:256 DR:0.3 BS:64 LR:0.005\",\"[156, 199]\"],[\"FL1:256 FL2:256 DR:0.3 BS:64 LR:0.005\",\"[156, 199]\"],[\"FL1:256 FL2:256 DR:0.3 BS:64 LR:0.005\",\"[156, 199]\"],[\"FL1:256 FL2:256 DR:0.3 BS:64 LR:0.005\",\"[156, 199]\"],[\"FL1:256 FL2:256 DR:0.3 BS:64 LR:0.005\",\"[156, 199]\"],[\"FL1:256 FL2:256 DR:0.3 BS:64 LR:0.005\",\"[156, 199]\"],[\"FL1:256 FL2:256 DR:0.3 BS:64 LR:0.005\",\"[156, 199]\"],[\"FL1:256 FL2:256 DR:0.3 BS:64 LR:0.005\",\"[156, 199]\"],[\"FL1:256 FL2:256 DR:0.3 BS:64 LR:0.005\",\"[156, 199]\"],[\"FL1:256 FL2:256 DR:0.3 BS:64 LR:0.005\",\"[156, 199]\"],[\"FL1:256 FL2:256 DR:0.3 BS:64 LR:0.005\",\"[156, 199]\"],[\"FL1:256 FL2:256 DR:0.3 BS:64 LR:0.005\",\"[156, 199]\"],[\"FL1:256 FL2:256 DR:0.3 BS:64 LR:0.005\",\"[156, 199]\"],[\"FL1:256 FL2:256 DR:0.3 BS:64 LR:0.005\",\"[156, 199]\"],[\"FL1:256 FL2:256 DR:0.3 BS:64 LR:0.005\",\"[156, 199]\"],[\"FL1:256 FL2:256 DR:0.3 BS:64 LR:0.005\",\"[156, 199]\"],[\"FL1:256 FL2:256 DR:0.3 BS:64 LR:0.005\",\"[156, 199]\"],[\"FL1:256 FL2:256 DR:0.3 BS:64 LR:0.005\",\"[156, 199]\"],[\"FL1:256 FL2:256 DR:0.3 BS:64 LR:0.005\",\"[156, 199]\"],[\"FL1:256 FL2:256 DR:0.3 BS:64 LR:0.005\",\"[156, 199]\"],[\"FL1:256 FL2:256 DR:0.3 BS:64 LR:0.005\",\"[156, 199]\"],[\"FL1:256 FL2:256 DR:0.3 BS:64 LR:0.005\",\"[156, 199]\"],[\"FL1:256 FL2:256 DR:0.3 BS:64 LR:0.005\",\"[156, 199]\"],[\"FL1:256 FL2:256 DR:0.3 BS:64 LR:0.005\",\"[156, 199]\"],[\"FL1:256 FL2:256 DR:0.3 BS:64 LR:0.005\",\"[156, 199]\"],[\"FL1:256 FL2:256 DR:0.3 BS:64 LR:0.005\",\"[156, 199]\"],[\"FL1:256 FL2:256 DR:0.3 BS:64 LR:0.005\",\"[156, 199]\"],[\"FL1:256 FL2:256 DR:0.3 BS:64 LR:0.005\",\"[156, 199]\"],[\"FL1:256 FL2:256 DR:0.3 BS:64 LR:0.005\",\"[156, 199]\"],[\"FL1:256 FL2:256 DR:0.3 BS:64 LR:0.005\",\"[156, 199]\"],[\"FL1:256 FL2:256 DR:0.3 BS:64 LR:0.005\",\"[156, 199]\"],[\"FL1:256 FL2:256 DR:0.3 BS:64 LR:0.005\",\"[156, 199]\"],[\"FL1:256 FL2:256 DR:0.3 BS:64 LR:0.005\",\"[156, 199]\"],[\"FL1:256 FL2:256 DR:0.3 BS:64 LR:0.005\",\"[156, 199]\"],[\"FL1:256 FL2:256 DR:0.3 BS:64 LR:0.005\",\"[156, 199]\"],[\"FL1:256 FL2:256 DR:0.3 BS:64 LR:0.005\",\"[156, 199]\"],[\"FL1:256 FL2:256 DR:0.3 BS:64 LR:0.005\",\"[156, 199]\"],[\"FL1:256 FL2:256 DR:0.3 BS:64 LR:0.005\",\"[156, 199]\"],[\"FL1:256 FL2:256 DR:0.3 BS:64 LR:0.005\",\"[156, 199]\"],[\"FL1:256 FL2:256 DR:0.3 BS:64 LR:0.005\",\"[156, 199]\"],[\"FL1:256 FL2:256 DR:0.3 BS:64 LR:0.005\",\"[156, 199]\"],[\"FL1:256 FL2:256 DR:0.3 BS:64 LR:0.005\",\"[156, 199]\"],[\"FL1:256 FL2:256 DR:0.3 BS:64 LR:0.005\",\"[156, 199]\"],[\"FL1:256 FL2:256 DR:0.3 BS:64 LR:0.005\",\"[156, 199]\"],[\"FL1:256 FL2:256 DR:0.3 BS:64 LR:0.005\",\"[156, 199]\"],[\"FL1:256 FL2:256 DR:0.3 BS:64 LR:0.005\",\"[156, 199]\"],[\"FL1:256 FL2:256 DR:0.3 BS:64 LR:0.005\",\"[156, 199]\"],[\"FL1:256 FL2:256 DR:0.3 BS:64 LR:0.005\",\"[156, 199]\"],[\"FL1:256 FL2:256 DR:0.3 BS:64 LR:0.005\",\"[156, 199]\"],[\"FL1:256 FL2:256 DR:0.3 BS:64 LR:0.005\",\"[156, 199]\"],[\"FL1:256 FL2:256 DR:0.3 BS:64 LR:0.005\",\"[156, 199]\"],[\"FL1:256 FL2:256 DR:0.3 BS:64 LR:0.005\",\"[156, 199]\"],[\"FL1:256 FL2:256 DR:0.3 BS:64 LR:0.005\",\"[156, 199]\"],[\"FL1:256 FL2:256 DR:0.3 BS:64 LR:0.005\",\"[156, 199]\"],[\"FL1:256 FL2:256 DR:0.3 BS:64 LR:0.005\",\"[156, 199]\"],[\"FL1:256 FL2:256 DR:0.3 BS:64 LR:0.005\",\"[156, 199]\"],[\"FL1:256 FL2:256 DR:0.3 BS:64 LR:0.005\",\"[156, 199]\"],[\"FL1:256 FL2:256 DR:0.3 BS:64 LR:0.005\",\"[156, 199]\"],[\"FL1:256 FL2:256 DR:0.3 BS:64 LR:0.005\",\"[156, 199]\"],[\"FL1:256 FL2:256 DR:0.3 BS:64 LR:0.005\",\"[156, 199]\"],[\"FL1:256 FL2:256 DR:0.3 BS:64 LR:0.005\",\"[156, 199]\"],[\"FL1:256 FL2:256 DR:0.3 BS:64 LR:0.005\",\"[156, 199]\"],[\"FL1:256 FL2:256 DR:0.3 BS:64 LR:0.005\",\"[156, 199]\"],[\"FL1:256 FL2:256 DR:0.3 BS:64 LR:0.005\",\"[156, 199]\"],[\"FL1:256 FL2:256 DR:0.3 BS:64 LR:0.005\",\"[156, 199]\"],[\"FL1:256 FL2:256 DR:0.3 BS:64 LR:0.005\",\"[156, 199]\"],[\"FL1:256 FL2:256 DR:0.3 BS:64 LR:0.005\",\"[156, 199]\"],[\"FL1:256 FL2:256 DR:0.3 BS:64 LR:0.005\",\"[156, 199]\"],[\"FL1:256 FL2:256 DR:0.3 BS:64 LR:0.005\",\"[156, 199]\"],[\"FL1:256 FL2:256 DR:0.3 BS:64 LR:0.005\",\"[156, 199]\"],[\"FL1:256 FL2:256 DR:0.3 BS:64 LR:0.005\",\"[156, 199]\"],[\"FL1:256 FL2:256 DR:0.3 BS:64 LR:0.005\",\"[156, 199]\"],[\"FL1:256 FL2:256 DR:0.3 BS:64 LR:0.005\",\"[156, 199]\"],[\"FL1:256 FL2:256 DR:0.3 BS:64 LR:0.005\",\"[156, 199]\"],[\"FL1:256 FL2:256 DR:0.3 BS:64 LR:0.005\",\"[156, 199]\"],[\"FL1:256 FL2:256 DR:0.3 BS:64 LR:0.005\",\"[156, 199]\"],[\"FL1:256 FL2:256 DR:0.3 BS:64 LR:0.005\",\"[156, 199]\"],[\"FL1:256 FL2:256 DR:0.3 BS:64 LR:0.005\",\"[156, 199]\"],[\"FL1:256 FL2:256 DR:0.3 BS:64 LR:0.005\",\"[156, 199]\"],[\"FL1:256 FL2:256 DR:0.3 BS:64 LR:0.005\",\"[156, 199]\"],[\"FL1:256 FL2:256 DR:0.3 BS:64 LR:0.005\",\"[156, 199]\"],[\"FL1:256 FL2:256 DR:0.3 BS:64 LR:0.005\",\"[156, 199]\"],[\"FL1:256 FL2:256 DR:0.3 BS:64 LR:0.005\",\"[156, 199]\"],[\"FL1:256 FL2:256 DR:0.3 BS:64 LR:0.005\",\"[156, 199]\"],[\"FL1:256 FL2:256 DR:0.3 BS:64 LR:0.005\",\"[156, 199]\"],[\"FL1:256 FL2:256 DR:0.3 BS:64 LR:0.005\",\"[156, 199]\"],[\"FL1:256 FL2:256 DR:0.3 BS:64 LR:0.005\",\"[156, 199]\"],[\"FL1:256 FL2:256 DR:0.3 BS:64 LR:0.005\",\"[156, 199]\"],[\"FL1:256 FL2:256 DR:0.3 BS:64 LR:0.005\",\"[156, 199]\"],[\"FL1:256 FL2:256 DR:0.3 BS:64 LR:0.005\",\"[156, 199]\"],[\"FL1:256 FL2:256 DR:0.3 BS:64 LR:0.005\",\"[156, 199]\"],[\"FL1:256 FL2:256 DR:0.3 BS:64 LR:0.005\",\"[156, 199]\"],[\"FL1:256 FL2:256 DR:0.3 BS:64 LR:0.005\",\"[156, 199]\"],[\"FL1:256 FL2:256 DR:0.3 BS:64 LR:0.005\",\"[156, 199]\"],[\"FL1:256 FL2:256 DR:0.3 BS:64 LR:0.005\",\"[156, 199]\"]],\"hovertemplate\":\"variable=val_loss\\u003cbr\\u003etrial_id=802fd_00156\\u003cbr\\u003eepoch=%{x}\\u003cbr\\u003evalue=%{y}\\u003cbr\\u003eHyperparameters=%{customdata[0]}\\u003cbr\\u003echeckpoints=%{customdata[1]}\\u003cextra\\u003e\\u003c\\u002fextra\\u003e\",\"legendgroup\":\"val_loss, 802fd_00156\",\"line\":{\"color\":\"#636efa\",\"dash\":\"dash\"},\"marker\":{\"symbol\":\"circle\"},\"mode\":\"lines\",\"name\":\"val_loss, 802fd_00156\",\"showlegend\":true,\"x\":[0,1,2,3,4,5,6,7,8,9,10,11,12,13,14,15,16,17,18,19,20,21,22,23,24,25,26,27,28,29,30,31,32,33,34,35,36,37,38,39,40,41,42,43,44,45,46,47,48,49,50,51,52,53,54,55,56,57,58,59,60,61,62,63,64,65,66,67,68,69,70,71,72,73,74,75,76,77,78,79,80,81,82,83,84,85,86,87,88,89,90,91,92,93,94,95,96,97,98,99,100,101,102,103,104,105,106,107,108,109,110,111,112,113,114,115,116,117,118,119,120,121,122,123,124,125,126,127,128,129,130,131,132,133,134,135,136,137,138,139,140,141,142,143,144,145,146,147,148,149,150,151,152,153,154,155,156,157,158,159,160,161,162,163,164,165,166,167,168,169,170,171,172,173,174,175,176,177,178,179,180,181,182,183,184,185,186,187,188,189,190,191,192,193,194,195,196,197,198,199],\"xaxis\":\"x\",\"y\":[0.5332353711128222,0.4764007627964003,0.42624643445014765,0.39317194620768026,0.3871175216303909,0.376929622005531,0.35868144771198934,0.37534046663668663,0.38022276092785445,0.36588732950699154,0.352325459671098,0.35205378489499406,0.35408529213272855,0.3929081232759897,0.3793401103161131,0.37238708012252,0.35757189904947295,0.3526694470994942,0.3660171226894364,0.35740681795514245,0.3882127457740337,0.40008836348072785,0.37968377841324263,0.3830072884613309,0.3946016334728412,0.3866826728473769,0.38808305962156275,0.38861829309510443,0.400363953701967,0.4413230431028949,0.4238674946592075,0.42975996984149384,0.4417000449571689,0.44104811793391335,0.42617697679880123,0.4240354376626194,0.42796647069137395,0.421827919067813,0.421671087067572,0.4885307911510238,0.4850864253756041,0.4917964234826708,0.47028438547437246,0.47411318487051257,0.5329934680867386,0.5090016242138661,0.49413052971310756,0.5061802915410676,0.49406776174415884,0.5182449840473435,0.5543342049232641,0.5406271891667778,0.5139865628132766,0.5421544148689856,0.5671403496905384,0.5640298982093201,0.5551434331224657,0.5265290752441539,0.5557883789400812,0.560512530158661,0.5572505708209013,0.5423852083200426,0.5214724956031769,0.5124334274448362,0.5376210331067367,0.5176329790979561,0.5352276881158297,0.5031047873775116,0.4955201819923146,0.48096152645923085,0.4740303225158137,0.4963355704703903,0.5608433315859205,0.5420315351556373,0.5525378642128979,0.5509315966001521,0.5726319312010439,0.568902059326848,0.6250218046574315,0.6102962621628245,0.6119170075376151,0.6014726284953817,0.5784812850298383,0.6608566232881193,0.6110809172763576,0.5947312133560002,0.5872055899467336,0.6165456978060301,0.6666365602001526,0.6448012615829679,0.6634123342295453,0.6254323930912512,0.6219886880035714,0.5895113773422439,0.5950411046397008,0.5767692185012034,0.5899682546037773,0.6105875309558918,0.6030553338429788,0.5799080966248408,0.6584474999596189,0.6507686349345239,0.5991277279186894,0.6807075859260968,0.7159945846367136,0.6687263370069024,0.6869761427582721,0.6742251171232195,0.6982634831508601,0.6911155892107604,0.6672382760507332,0.700355159472256,0.7018567437799947,0.7453351295571955,0.682370979029696,0.7123816731497697,0.7341371260037042,0.7466564828786579,0.7203279173793595,0.6912448629023088,0.6490392436107949,0.6676694386217945,0.7017357503714777,0.7385534349641925,0.6778869233900776,0.6828242674386796,0.7162225534463107,0.6332545075114675,0.6832900705136247,0.6714492878779679,0.695898701182,0.7273412872890561,0.7669256282872556,0.736251688866256,0.7284205800085835,0.738321141785353,0.7520837494969148,0.7022173013448554,0.7151211636702094,0.7137759617593453,0.6423238708990514,0.6810754268975836,0.6690528015038543,0.7110159940018351,0.7122718060343842,0.7207226729611128,0.7300263428833448,0.7268372233805614,0.716590130070682,0.6736577707792875,0.7382027876552956,0.7740840760984015,0.8500968911990825,0.7517207727660924,0.8018904636853376,0.7899535106654572,0.764975753561363,0.8081566473746976,0.7813730293449199,0.7182182307995966,0.775903538595145,0.836183995492261,0.808536013289954,0.7483094270525135,0.7881687042115614,0.85421308259159,0.841562247143781,0.7610747853031383,0.795551918553683,0.8141959856664935,0.8154884345475679,0.8008947218221968,0.7868712640313651,0.7780844831803321,0.8289401308919883,0.8517984599686904,0.7549466391945695,0.7117269966698218,0.7160276196861599,0.7478942289924824,0.7250020116551835,0.7607237040986015,0.7373633543643268,0.8098573989333627,0.7765059872906668,0.7378107378510129,0.713212792716256,0.6884564589406577,0.6487084316508973,0.6617031088999232,0.6855878029618856,0.6719660424096168,0.6921365832555795,0.7463595453413641,0.7436318121693062,0.7624934131795498,0.8352307157314021,0.9125761639142144,0.8322153655068134,0.8499680537234429],\"yaxis\":\"y\",\"type\":\"scattergl\"},{\"customdata\":[[\"FL1:32 FL2:256 DR:0.3 BS:32 LR:0.0005\",\"[30, 165]\"],[\"FL1:32 FL2:256 DR:0.3 BS:32 LR:0.0005\",\"[30, 165]\"],[\"FL1:32 FL2:256 DR:0.3 BS:32 LR:0.0005\",\"[30, 165]\"],[\"FL1:32 FL2:256 DR:0.3 BS:32 LR:0.0005\",\"[30, 165]\"],[\"FL1:32 FL2:256 DR:0.3 BS:32 LR:0.0005\",\"[30, 165]\"],[\"FL1:32 FL2:256 DR:0.3 BS:32 LR:0.0005\",\"[30, 165]\"],[\"FL1:32 FL2:256 DR:0.3 BS:32 LR:0.0005\",\"[30, 165]\"],[\"FL1:32 FL2:256 DR:0.3 BS:32 LR:0.0005\",\"[30, 165]\"],[\"FL1:32 FL2:256 DR:0.3 BS:32 LR:0.0005\",\"[30, 165]\"],[\"FL1:32 FL2:256 DR:0.3 BS:32 LR:0.0005\",\"[30, 165]\"],[\"FL1:32 FL2:256 DR:0.3 BS:32 LR:0.0005\",\"[30, 165]\"],[\"FL1:32 FL2:256 DR:0.3 BS:32 LR:0.0005\",\"[30, 165]\"],[\"FL1:32 FL2:256 DR:0.3 BS:32 LR:0.0005\",\"[30, 165]\"],[\"FL1:32 FL2:256 DR:0.3 BS:32 LR:0.0005\",\"[30, 165]\"],[\"FL1:32 FL2:256 DR:0.3 BS:32 LR:0.0005\",\"[30, 165]\"],[\"FL1:32 FL2:256 DR:0.3 BS:32 LR:0.0005\",\"[30, 165]\"],[\"FL1:32 FL2:256 DR:0.3 BS:32 LR:0.0005\",\"[30, 165]\"],[\"FL1:32 FL2:256 DR:0.3 BS:32 LR:0.0005\",\"[30, 165]\"],[\"FL1:32 FL2:256 DR:0.3 BS:32 LR:0.0005\",\"[30, 165]\"],[\"FL1:32 FL2:256 DR:0.3 BS:32 LR:0.0005\",\"[30, 165]\"],[\"FL1:32 FL2:256 DR:0.3 BS:32 LR:0.0005\",\"[30, 165]\"],[\"FL1:32 FL2:256 DR:0.3 BS:32 LR:0.0005\",\"[30, 165]\"],[\"FL1:32 FL2:256 DR:0.3 BS:32 LR:0.0005\",\"[30, 165]\"],[\"FL1:32 FL2:256 DR:0.3 BS:32 LR:0.0005\",\"[30, 165]\"],[\"FL1:32 FL2:256 DR:0.3 BS:32 LR:0.0005\",\"[30, 165]\"],[\"FL1:32 FL2:256 DR:0.3 BS:32 LR:0.0005\",\"[30, 165]\"],[\"FL1:32 FL2:256 DR:0.3 BS:32 LR:0.0005\",\"[30, 165]\"],[\"FL1:32 FL2:256 DR:0.3 BS:32 LR:0.0005\",\"[30, 165]\"],[\"FL1:32 FL2:256 DR:0.3 BS:32 LR:0.0005\",\"[30, 165]\"],[\"FL1:32 FL2:256 DR:0.3 BS:32 LR:0.0005\",\"[30, 165]\"],[\"FL1:32 FL2:256 DR:0.3 BS:32 LR:0.0005\",\"[30, 165]\"],[\"FL1:32 FL2:256 DR:0.3 BS:32 LR:0.0005\",\"[30, 165]\"],[\"FL1:32 FL2:256 DR:0.3 BS:32 LR:0.0005\",\"[30, 165]\"],[\"FL1:32 FL2:256 DR:0.3 BS:32 LR:0.0005\",\"[30, 165]\"],[\"FL1:32 FL2:256 DR:0.3 BS:32 LR:0.0005\",\"[30, 165]\"],[\"FL1:32 FL2:256 DR:0.3 BS:32 LR:0.0005\",\"[30, 165]\"],[\"FL1:32 FL2:256 DR:0.3 BS:32 LR:0.0005\",\"[30, 165]\"],[\"FL1:32 FL2:256 DR:0.3 BS:32 LR:0.0005\",\"[30, 165]\"],[\"FL1:32 FL2:256 DR:0.3 BS:32 LR:0.0005\",\"[30, 165]\"],[\"FL1:32 FL2:256 DR:0.3 BS:32 LR:0.0005\",\"[30, 165]\"],[\"FL1:32 FL2:256 DR:0.3 BS:32 LR:0.0005\",\"[30, 165]\"],[\"FL1:32 FL2:256 DR:0.3 BS:32 LR:0.0005\",\"[30, 165]\"],[\"FL1:32 FL2:256 DR:0.3 BS:32 LR:0.0005\",\"[30, 165]\"],[\"FL1:32 FL2:256 DR:0.3 BS:32 LR:0.0005\",\"[30, 165]\"],[\"FL1:32 FL2:256 DR:0.3 BS:32 LR:0.0005\",\"[30, 165]\"],[\"FL1:32 FL2:256 DR:0.3 BS:32 LR:0.0005\",\"[30, 165]\"],[\"FL1:32 FL2:256 DR:0.3 BS:32 LR:0.0005\",\"[30, 165]\"],[\"FL1:32 FL2:256 DR:0.3 BS:32 LR:0.0005\",\"[30, 165]\"],[\"FL1:32 FL2:256 DR:0.3 BS:32 LR:0.0005\",\"[30, 165]\"],[\"FL1:32 FL2:256 DR:0.3 BS:32 LR:0.0005\",\"[30, 165]\"],[\"FL1:32 FL2:256 DR:0.3 BS:32 LR:0.0005\",\"[30, 165]\"],[\"FL1:32 FL2:256 DR:0.3 BS:32 LR:0.0005\",\"[30, 165]\"],[\"FL1:32 FL2:256 DR:0.3 BS:32 LR:0.0005\",\"[30, 165]\"],[\"FL1:32 FL2:256 DR:0.3 BS:32 LR:0.0005\",\"[30, 165]\"],[\"FL1:32 FL2:256 DR:0.3 BS:32 LR:0.0005\",\"[30, 165]\"],[\"FL1:32 FL2:256 DR:0.3 BS:32 LR:0.0005\",\"[30, 165]\"],[\"FL1:32 FL2:256 DR:0.3 BS:32 LR:0.0005\",\"[30, 165]\"],[\"FL1:32 FL2:256 DR:0.3 BS:32 LR:0.0005\",\"[30, 165]\"],[\"FL1:32 FL2:256 DR:0.3 BS:32 LR:0.0005\",\"[30, 165]\"],[\"FL1:32 FL2:256 DR:0.3 BS:32 LR:0.0005\",\"[30, 165]\"],[\"FL1:32 FL2:256 DR:0.3 BS:32 LR:0.0005\",\"[30, 165]\"],[\"FL1:32 FL2:256 DR:0.3 BS:32 LR:0.0005\",\"[30, 165]\"],[\"FL1:32 FL2:256 DR:0.3 BS:32 LR:0.0005\",\"[30, 165]\"],[\"FL1:32 FL2:256 DR:0.3 BS:32 LR:0.0005\",\"[30, 165]\"],[\"FL1:32 FL2:256 DR:0.3 BS:32 LR:0.0005\",\"[30, 165]\"],[\"FL1:32 FL2:256 DR:0.3 BS:32 LR:0.0005\",\"[30, 165]\"],[\"FL1:32 FL2:256 DR:0.3 BS:32 LR:0.0005\",\"[30, 165]\"],[\"FL1:32 FL2:256 DR:0.3 BS:32 LR:0.0005\",\"[30, 165]\"],[\"FL1:32 FL2:256 DR:0.3 BS:32 LR:0.0005\",\"[30, 165]\"],[\"FL1:32 FL2:256 DR:0.3 BS:32 LR:0.0005\",\"[30, 165]\"],[\"FL1:32 FL2:256 DR:0.3 BS:32 LR:0.0005\",\"[30, 165]\"],[\"FL1:32 FL2:256 DR:0.3 BS:32 LR:0.0005\",\"[30, 165]\"],[\"FL1:32 FL2:256 DR:0.3 BS:32 LR:0.0005\",\"[30, 165]\"],[\"FL1:32 FL2:256 DR:0.3 BS:32 LR:0.0005\",\"[30, 165]\"],[\"FL1:32 FL2:256 DR:0.3 BS:32 LR:0.0005\",\"[30, 165]\"],[\"FL1:32 FL2:256 DR:0.3 BS:32 LR:0.0005\",\"[30, 165]\"],[\"FL1:32 FL2:256 DR:0.3 BS:32 LR:0.0005\",\"[30, 165]\"],[\"FL1:32 FL2:256 DR:0.3 BS:32 LR:0.0005\",\"[30, 165]\"],[\"FL1:32 FL2:256 DR:0.3 BS:32 LR:0.0005\",\"[30, 165]\"],[\"FL1:32 FL2:256 DR:0.3 BS:32 LR:0.0005\",\"[30, 165]\"],[\"FL1:32 FL2:256 DR:0.3 BS:32 LR:0.0005\",\"[30, 165]\"],[\"FL1:32 FL2:256 DR:0.3 BS:32 LR:0.0005\",\"[30, 165]\"],[\"FL1:32 FL2:256 DR:0.3 BS:32 LR:0.0005\",\"[30, 165]\"],[\"FL1:32 FL2:256 DR:0.3 BS:32 LR:0.0005\",\"[30, 165]\"],[\"FL1:32 FL2:256 DR:0.3 BS:32 LR:0.0005\",\"[30, 165]\"],[\"FL1:32 FL2:256 DR:0.3 BS:32 LR:0.0005\",\"[30, 165]\"],[\"FL1:32 FL2:256 DR:0.3 BS:32 LR:0.0005\",\"[30, 165]\"],[\"FL1:32 FL2:256 DR:0.3 BS:32 LR:0.0005\",\"[30, 165]\"],[\"FL1:32 FL2:256 DR:0.3 BS:32 LR:0.0005\",\"[30, 165]\"],[\"FL1:32 FL2:256 DR:0.3 BS:32 LR:0.0005\",\"[30, 165]\"],[\"FL1:32 FL2:256 DR:0.3 BS:32 LR:0.0005\",\"[30, 165]\"],[\"FL1:32 FL2:256 DR:0.3 BS:32 LR:0.0005\",\"[30, 165]\"],[\"FL1:32 FL2:256 DR:0.3 BS:32 LR:0.0005\",\"[30, 165]\"],[\"FL1:32 FL2:256 DR:0.3 BS:32 LR:0.0005\",\"[30, 165]\"],[\"FL1:32 FL2:256 DR:0.3 BS:32 LR:0.0005\",\"[30, 165]\"],[\"FL1:32 FL2:256 DR:0.3 BS:32 LR:0.0005\",\"[30, 165]\"],[\"FL1:32 FL2:256 DR:0.3 BS:32 LR:0.0005\",\"[30, 165]\"],[\"FL1:32 FL2:256 DR:0.3 BS:32 LR:0.0005\",\"[30, 165]\"],[\"FL1:32 FL2:256 DR:0.3 BS:32 LR:0.0005\",\"[30, 165]\"],[\"FL1:32 FL2:256 DR:0.3 BS:32 LR:0.0005\",\"[30, 165]\"],[\"FL1:32 FL2:256 DR:0.3 BS:32 LR:0.0005\",\"[30, 165]\"],[\"FL1:32 FL2:256 DR:0.3 BS:32 LR:0.0005\",\"[30, 165]\"],[\"FL1:32 FL2:256 DR:0.3 BS:32 LR:0.0005\",\"[30, 165]\"],[\"FL1:32 FL2:256 DR:0.3 BS:32 LR:0.0005\",\"[30, 165]\"],[\"FL1:32 FL2:256 DR:0.3 BS:32 LR:0.0005\",\"[30, 165]\"],[\"FL1:32 FL2:256 DR:0.3 BS:32 LR:0.0005\",\"[30, 165]\"],[\"FL1:32 FL2:256 DR:0.3 BS:32 LR:0.0005\",\"[30, 165]\"],[\"FL1:32 FL2:256 DR:0.3 BS:32 LR:0.0005\",\"[30, 165]\"],[\"FL1:32 FL2:256 DR:0.3 BS:32 LR:0.0005\",\"[30, 165]\"],[\"FL1:32 FL2:256 DR:0.3 BS:32 LR:0.0005\",\"[30, 165]\"],[\"FL1:32 FL2:256 DR:0.3 BS:32 LR:0.0005\",\"[30, 165]\"],[\"FL1:32 FL2:256 DR:0.3 BS:32 LR:0.0005\",\"[30, 165]\"],[\"FL1:32 FL2:256 DR:0.3 BS:32 LR:0.0005\",\"[30, 165]\"],[\"FL1:32 FL2:256 DR:0.3 BS:32 LR:0.0005\",\"[30, 165]\"],[\"FL1:32 FL2:256 DR:0.3 BS:32 LR:0.0005\",\"[30, 165]\"],[\"FL1:32 FL2:256 DR:0.3 BS:32 LR:0.0005\",\"[30, 165]\"],[\"FL1:32 FL2:256 DR:0.3 BS:32 LR:0.0005\",\"[30, 165]\"],[\"FL1:32 FL2:256 DR:0.3 BS:32 LR:0.0005\",\"[30, 165]\"],[\"FL1:32 FL2:256 DR:0.3 BS:32 LR:0.0005\",\"[30, 165]\"],[\"FL1:32 FL2:256 DR:0.3 BS:32 LR:0.0005\",\"[30, 165]\"],[\"FL1:32 FL2:256 DR:0.3 BS:32 LR:0.0005\",\"[30, 165]\"],[\"FL1:32 FL2:256 DR:0.3 BS:32 LR:0.0005\",\"[30, 165]\"],[\"FL1:32 FL2:256 DR:0.3 BS:32 LR:0.0005\",\"[30, 165]\"],[\"FL1:32 FL2:256 DR:0.3 BS:32 LR:0.0005\",\"[30, 165]\"],[\"FL1:32 FL2:256 DR:0.3 BS:32 LR:0.0005\",\"[30, 165]\"],[\"FL1:32 FL2:256 DR:0.3 BS:32 LR:0.0005\",\"[30, 165]\"],[\"FL1:32 FL2:256 DR:0.3 BS:32 LR:0.0005\",\"[30, 165]\"],[\"FL1:32 FL2:256 DR:0.3 BS:32 LR:0.0005\",\"[30, 165]\"],[\"FL1:32 FL2:256 DR:0.3 BS:32 LR:0.0005\",\"[30, 165]\"],[\"FL1:32 FL2:256 DR:0.3 BS:32 LR:0.0005\",\"[30, 165]\"],[\"FL1:32 FL2:256 DR:0.3 BS:32 LR:0.0005\",\"[30, 165]\"],[\"FL1:32 FL2:256 DR:0.3 BS:32 LR:0.0005\",\"[30, 165]\"],[\"FL1:32 FL2:256 DR:0.3 BS:32 LR:0.0005\",\"[30, 165]\"],[\"FL1:32 FL2:256 DR:0.3 BS:32 LR:0.0005\",\"[30, 165]\"],[\"FL1:32 FL2:256 DR:0.3 BS:32 LR:0.0005\",\"[30, 165]\"],[\"FL1:32 FL2:256 DR:0.3 BS:32 LR:0.0005\",\"[30, 165]\"],[\"FL1:32 FL2:256 DR:0.3 BS:32 LR:0.0005\",\"[30, 165]\"],[\"FL1:32 FL2:256 DR:0.3 BS:32 LR:0.0005\",\"[30, 165]\"],[\"FL1:32 FL2:256 DR:0.3 BS:32 LR:0.0005\",\"[30, 165]\"],[\"FL1:32 FL2:256 DR:0.3 BS:32 LR:0.0005\",\"[30, 165]\"],[\"FL1:32 FL2:256 DR:0.3 BS:32 LR:0.0005\",\"[30, 165]\"],[\"FL1:32 FL2:256 DR:0.3 BS:32 LR:0.0005\",\"[30, 165]\"],[\"FL1:32 FL2:256 DR:0.3 BS:32 LR:0.0005\",\"[30, 165]\"],[\"FL1:32 FL2:256 DR:0.3 BS:32 LR:0.0005\",\"[30, 165]\"],[\"FL1:32 FL2:256 DR:0.3 BS:32 LR:0.0005\",\"[30, 165]\"],[\"FL1:32 FL2:256 DR:0.3 BS:32 LR:0.0005\",\"[30, 165]\"],[\"FL1:32 FL2:256 DR:0.3 BS:32 LR:0.0005\",\"[30, 165]\"],[\"FL1:32 FL2:256 DR:0.3 BS:32 LR:0.0005\",\"[30, 165]\"],[\"FL1:32 FL2:256 DR:0.3 BS:32 LR:0.0005\",\"[30, 165]\"],[\"FL1:32 FL2:256 DR:0.3 BS:32 LR:0.0005\",\"[30, 165]\"],[\"FL1:32 FL2:256 DR:0.3 BS:32 LR:0.0005\",\"[30, 165]\"],[\"FL1:32 FL2:256 DR:0.3 BS:32 LR:0.0005\",\"[30, 165]\"],[\"FL1:32 FL2:256 DR:0.3 BS:32 LR:0.0005\",\"[30, 165]\"],[\"FL1:32 FL2:256 DR:0.3 BS:32 LR:0.0005\",\"[30, 165]\"],[\"FL1:32 FL2:256 DR:0.3 BS:32 LR:0.0005\",\"[30, 165]\"],[\"FL1:32 FL2:256 DR:0.3 BS:32 LR:0.0005\",\"[30, 165]\"],[\"FL1:32 FL2:256 DR:0.3 BS:32 LR:0.0005\",\"[30, 165]\"],[\"FL1:32 FL2:256 DR:0.3 BS:32 LR:0.0005\",\"[30, 165]\"],[\"FL1:32 FL2:256 DR:0.3 BS:32 LR:0.0005\",\"[30, 165]\"],[\"FL1:32 FL2:256 DR:0.3 BS:32 LR:0.0005\",\"[30, 165]\"],[\"FL1:32 FL2:256 DR:0.3 BS:32 LR:0.0005\",\"[30, 165]\"],[\"FL1:32 FL2:256 DR:0.3 BS:32 LR:0.0005\",\"[30, 165]\"],[\"FL1:32 FL2:256 DR:0.3 BS:32 LR:0.0005\",\"[30, 165]\"],[\"FL1:32 FL2:256 DR:0.3 BS:32 LR:0.0005\",\"[30, 165]\"],[\"FL1:32 FL2:256 DR:0.3 BS:32 LR:0.0005\",\"[30, 165]\"],[\"FL1:32 FL2:256 DR:0.3 BS:32 LR:0.0005\",\"[30, 165]\"]],\"hovertemplate\":\"variable=val_loss\\u003cbr\\u003etrial_id=802fd_00119\\u003cbr\\u003eepoch=%{x}\\u003cbr\\u003evalue=%{y}\\u003cbr\\u003eHyperparameters=%{customdata[0]}\\u003cbr\\u003echeckpoints=%{customdata[1]}\\u003cextra\\u003e\\u003c\\u002fextra\\u003e\",\"legendgroup\":\"val_loss, 802fd_00119\",\"line\":{\"color\":\"#636efa\",\"dash\":\"longdash\"},\"marker\":{\"symbol\":\"circle\"},\"mode\":\"lines\",\"name\":\"val_loss, 802fd_00119\",\"showlegend\":true,\"x\":[0,1,2,3,4,5,6,7,8,9,10,11,12,13,14,15,16,17,18,19,20,21,22,23,24,25,26,27,28,29,30,31,32,33,34,35,36,37,38,39,40,41,42,43,44,45,46,47,48,49,50,51,52,53,54,55,56,57,58,59,60,61,62,63,64,65,66,67,68,69,70,71,72,73,74,75,76,77,78,79,80,81,82,83,84,85,86,87,88,89,90,91,92,93,94,95,96,97,98,99,100,101,102,103,104,105,106,107,108,109,110,111,112,113,114,115,116,117,118,119,120,121,122,123,124,125,126,127,128,129,130,131,132,133,134,135,136,137,138,139,140,141,142,143,144,145,146,147,148,149,150,151,152,153,154,155,156,157,158,159,160,161,162,163,164,165],\"xaxis\":\"x\",\"y\":[0.5240635275840749,0.47266026337941347,0.42337680194112837,0.3905037464918897,0.36852021828109666,0.35104470660166304,0.33216983550042756,0.3196331889977108,0.3102697949641308,0.30201938225384245,0.2976763114237494,0.29492227335133137,0.29084085159406337,0.28885650789012635,0.29407493376248434,0.29829231635407116,0.3048142740175155,0.3041864997178328,0.30910811265508353,0.31596135391261787,0.311958010285871,0.3207316864131397,0.33499809229363964,0.3330104392368918,0.32007324971088547,0.33771593555694596,0.3356040893984217,0.3429463326263671,0.3454068282795108,0.37330365045548436,0.35465365557989054,0.35440139909002827,0.4013305434876912,0.39516469699106094,0.4054619760113382,0.4379246891072994,0.4564449529205158,0.4510194288594445,0.4406794360546873,0.4602994456071715,0.4517372538102367,0.5297603600192519,0.49220808300498053,0.4700145056057161,0.47245008284569934,0.48435845331828464,0.45228156021224486,0.4570452145138508,0.46726568681658054,0.4956617099885184,0.4853259651425166,0.4557012835186503,0.4731162534185096,0.471931718854628,0.4555395497669914,0.4564272631400244,0.48052308090484147,0.4738668807874512,0.4740935271667359,0.5282278462043669,0.5080799032443929,0.5560565702911316,0.5346284285383811,0.5340780665607833,0.5130499137859589,0.5592232832260282,0.583723100619007,0.5690810300220961,0.6056623205416661,0.5829807549631096,0.654632192844515,0.5941535115204677,0.557341090835625,0.5500024305432986,0.5180266431073306,0.5358120952116079,0.5745215716671022,0.5669448377497366,0.5709309976503156,0.5786507991423134,0.6042062618646293,0.6159997170708743,0.6047871434385346,0.6282111024654408,0.6223865095639547,0.629250045873344,0.5874023611397337,0.6094207283556973,0.6386241394083032,0.6237619968123113,0.6175088784341585,0.6380293105207915,0.7100094579433739,0.6606027499023623,0.6455845246833914,0.6236596312868818,0.6520819800925389,0.6381140839942374,0.6323941079701357,0.5925194440898206,0.5735088864046263,0.5394724394929351,0.5693544206388741,0.5683525242651789,0.6112618670361086,0.6017815818718293,0.6557384166671963,0.7366694234181843,0.7302427108002625,0.7405244386800724,0.7352768961991587,0.7145316126880181,0.7103712044117922,0.670422281288972,0.6381319731234636,0.6183417419433003,0.648143230533559,0.6401070148785626,0.6307479203435908,0.6711886167985273,0.679104900390708,0.698703372498884,0.6931226015226922,0.7051602641832073,0.6674685902126115,0.6940168226247007,0.6873545503937505,0.6684314910784884,0.7274971011092596,0.720826169041151,0.7282862002235995,0.687021469711087,0.6743081249388191,0.7239098375103281,0.7412423971667146,0.7567883851378647,0.7280170799791461,0.703827015658195,0.6940337963236526,0.7053479517389094,0.7308556414239096,0.7259690150017518,0.7549405286308762,0.7226098106699927,0.7426909358235015,0.800682872595508,0.734079043111614,0.7231331931494406,0.749446045487636,0.7429440691269183,0.7295246769452575,0.7363671295817997,0.7560280914423388,0.7007620768624879,0.6625563990326935,0.65075086827094,0.6550036024717122,0.6550801364360656,0.6667256135263964,0.6836988580570554,0.678589857442241,0.6812122708049477,0.6738570892471102,0.6709912395250802,0.6691488210209201,0.7035531324709765],\"yaxis\":\"y\",\"type\":\"scattergl\"},{\"customdata\":[[\"FL1:128 FL2:512 DR:0.5 BS:64 LR:0.001\",\"[199, 173]\"],[\"FL1:128 FL2:512 DR:0.5 BS:64 LR:0.001\",\"[199, 173]\"],[\"FL1:128 FL2:512 DR:0.5 BS:64 LR:0.001\",\"[199, 173]\"],[\"FL1:128 FL2:512 DR:0.5 BS:64 LR:0.001\",\"[199, 173]\"],[\"FL1:128 FL2:512 DR:0.5 BS:64 LR:0.001\",\"[199, 173]\"],[\"FL1:128 FL2:512 DR:0.5 BS:64 LR:0.001\",\"[199, 173]\"],[\"FL1:128 FL2:512 DR:0.5 BS:64 LR:0.001\",\"[199, 173]\"],[\"FL1:128 FL2:512 DR:0.5 BS:64 LR:0.001\",\"[199, 173]\"],[\"FL1:128 FL2:512 DR:0.5 BS:64 LR:0.001\",\"[199, 173]\"],[\"FL1:128 FL2:512 DR:0.5 BS:64 LR:0.001\",\"[199, 173]\"],[\"FL1:128 FL2:512 DR:0.5 BS:64 LR:0.001\",\"[199, 173]\"],[\"FL1:128 FL2:512 DR:0.5 BS:64 LR:0.001\",\"[199, 173]\"],[\"FL1:128 FL2:512 DR:0.5 BS:64 LR:0.001\",\"[199, 173]\"],[\"FL1:128 FL2:512 DR:0.5 BS:64 LR:0.001\",\"[199, 173]\"],[\"FL1:128 FL2:512 DR:0.5 BS:64 LR:0.001\",\"[199, 173]\"],[\"FL1:128 FL2:512 DR:0.5 BS:64 LR:0.001\",\"[199, 173]\"],[\"FL1:128 FL2:512 DR:0.5 BS:64 LR:0.001\",\"[199, 173]\"],[\"FL1:128 FL2:512 DR:0.5 BS:64 LR:0.001\",\"[199, 173]\"],[\"FL1:128 FL2:512 DR:0.5 BS:64 LR:0.001\",\"[199, 173]\"],[\"FL1:128 FL2:512 DR:0.5 BS:64 LR:0.001\",\"[199, 173]\"],[\"FL1:128 FL2:512 DR:0.5 BS:64 LR:0.001\",\"[199, 173]\"],[\"FL1:128 FL2:512 DR:0.5 BS:64 LR:0.001\",\"[199, 173]\"],[\"FL1:128 FL2:512 DR:0.5 BS:64 LR:0.001\",\"[199, 173]\"],[\"FL1:128 FL2:512 DR:0.5 BS:64 LR:0.001\",\"[199, 173]\"],[\"FL1:128 FL2:512 DR:0.5 BS:64 LR:0.001\",\"[199, 173]\"],[\"FL1:128 FL2:512 DR:0.5 BS:64 LR:0.001\",\"[199, 173]\"],[\"FL1:128 FL2:512 DR:0.5 BS:64 LR:0.001\",\"[199, 173]\"],[\"FL1:128 FL2:512 DR:0.5 BS:64 LR:0.001\",\"[199, 173]\"],[\"FL1:128 FL2:512 DR:0.5 BS:64 LR:0.001\",\"[199, 173]\"],[\"FL1:128 FL2:512 DR:0.5 BS:64 LR:0.001\",\"[199, 173]\"],[\"FL1:128 FL2:512 DR:0.5 BS:64 LR:0.001\",\"[199, 173]\"],[\"FL1:128 FL2:512 DR:0.5 BS:64 LR:0.001\",\"[199, 173]\"],[\"FL1:128 FL2:512 DR:0.5 BS:64 LR:0.001\",\"[199, 173]\"],[\"FL1:128 FL2:512 DR:0.5 BS:64 LR:0.001\",\"[199, 173]\"],[\"FL1:128 FL2:512 DR:0.5 BS:64 LR:0.001\",\"[199, 173]\"],[\"FL1:128 FL2:512 DR:0.5 BS:64 LR:0.001\",\"[199, 173]\"],[\"FL1:128 FL2:512 DR:0.5 BS:64 LR:0.001\",\"[199, 173]\"],[\"FL1:128 FL2:512 DR:0.5 BS:64 LR:0.001\",\"[199, 173]\"],[\"FL1:128 FL2:512 DR:0.5 BS:64 LR:0.001\",\"[199, 173]\"],[\"FL1:128 FL2:512 DR:0.5 BS:64 LR:0.001\",\"[199, 173]\"],[\"FL1:128 FL2:512 DR:0.5 BS:64 LR:0.001\",\"[199, 173]\"],[\"FL1:128 FL2:512 DR:0.5 BS:64 LR:0.001\",\"[199, 173]\"],[\"FL1:128 FL2:512 DR:0.5 BS:64 LR:0.001\",\"[199, 173]\"],[\"FL1:128 FL2:512 DR:0.5 BS:64 LR:0.001\",\"[199, 173]\"],[\"FL1:128 FL2:512 DR:0.5 BS:64 LR:0.001\",\"[199, 173]\"],[\"FL1:128 FL2:512 DR:0.5 BS:64 LR:0.001\",\"[199, 173]\"],[\"FL1:128 FL2:512 DR:0.5 BS:64 LR:0.001\",\"[199, 173]\"],[\"FL1:128 FL2:512 DR:0.5 BS:64 LR:0.001\",\"[199, 173]\"],[\"FL1:128 FL2:512 DR:0.5 BS:64 LR:0.001\",\"[199, 173]\"],[\"FL1:128 FL2:512 DR:0.5 BS:64 LR:0.001\",\"[199, 173]\"],[\"FL1:128 FL2:512 DR:0.5 BS:64 LR:0.001\",\"[199, 173]\"],[\"FL1:128 FL2:512 DR:0.5 BS:64 LR:0.001\",\"[199, 173]\"],[\"FL1:128 FL2:512 DR:0.5 BS:64 LR:0.001\",\"[199, 173]\"],[\"FL1:128 FL2:512 DR:0.5 BS:64 LR:0.001\",\"[199, 173]\"],[\"FL1:128 FL2:512 DR:0.5 BS:64 LR:0.001\",\"[199, 173]\"],[\"FL1:128 FL2:512 DR:0.5 BS:64 LR:0.001\",\"[199, 173]\"],[\"FL1:128 FL2:512 DR:0.5 BS:64 LR:0.001\",\"[199, 173]\"],[\"FL1:128 FL2:512 DR:0.5 BS:64 LR:0.001\",\"[199, 173]\"],[\"FL1:128 FL2:512 DR:0.5 BS:64 LR:0.001\",\"[199, 173]\"],[\"FL1:128 FL2:512 DR:0.5 BS:64 LR:0.001\",\"[199, 173]\"],[\"FL1:128 FL2:512 DR:0.5 BS:64 LR:0.001\",\"[199, 173]\"],[\"FL1:128 FL2:512 DR:0.5 BS:64 LR:0.001\",\"[199, 173]\"],[\"FL1:128 FL2:512 DR:0.5 BS:64 LR:0.001\",\"[199, 173]\"],[\"FL1:128 FL2:512 DR:0.5 BS:64 LR:0.001\",\"[199, 173]\"],[\"FL1:128 FL2:512 DR:0.5 BS:64 LR:0.001\",\"[199, 173]\"],[\"FL1:128 FL2:512 DR:0.5 BS:64 LR:0.001\",\"[199, 173]\"],[\"FL1:128 FL2:512 DR:0.5 BS:64 LR:0.001\",\"[199, 173]\"],[\"FL1:128 FL2:512 DR:0.5 BS:64 LR:0.001\",\"[199, 173]\"],[\"FL1:128 FL2:512 DR:0.5 BS:64 LR:0.001\",\"[199, 173]\"],[\"FL1:128 FL2:512 DR:0.5 BS:64 LR:0.001\",\"[199, 173]\"],[\"FL1:128 FL2:512 DR:0.5 BS:64 LR:0.001\",\"[199, 173]\"],[\"FL1:128 FL2:512 DR:0.5 BS:64 LR:0.001\",\"[199, 173]\"],[\"FL1:128 FL2:512 DR:0.5 BS:64 LR:0.001\",\"[199, 173]\"],[\"FL1:128 FL2:512 DR:0.5 BS:64 LR:0.001\",\"[199, 173]\"],[\"FL1:128 FL2:512 DR:0.5 BS:64 LR:0.001\",\"[199, 173]\"],[\"FL1:128 FL2:512 DR:0.5 BS:64 LR:0.001\",\"[199, 173]\"],[\"FL1:128 FL2:512 DR:0.5 BS:64 LR:0.001\",\"[199, 173]\"],[\"FL1:128 FL2:512 DR:0.5 BS:64 LR:0.001\",\"[199, 173]\"],[\"FL1:128 FL2:512 DR:0.5 BS:64 LR:0.001\",\"[199, 173]\"],[\"FL1:128 FL2:512 DR:0.5 BS:64 LR:0.001\",\"[199, 173]\"],[\"FL1:128 FL2:512 DR:0.5 BS:64 LR:0.001\",\"[199, 173]\"],[\"FL1:128 FL2:512 DR:0.5 BS:64 LR:0.001\",\"[199, 173]\"],[\"FL1:128 FL2:512 DR:0.5 BS:64 LR:0.001\",\"[199, 173]\"],[\"FL1:128 FL2:512 DR:0.5 BS:64 LR:0.001\",\"[199, 173]\"],[\"FL1:128 FL2:512 DR:0.5 BS:64 LR:0.001\",\"[199, 173]\"],[\"FL1:128 FL2:512 DR:0.5 BS:64 LR:0.001\",\"[199, 173]\"],[\"FL1:128 FL2:512 DR:0.5 BS:64 LR:0.001\",\"[199, 173]\"],[\"FL1:128 FL2:512 DR:0.5 BS:64 LR:0.001\",\"[199, 173]\"],[\"FL1:128 FL2:512 DR:0.5 BS:64 LR:0.001\",\"[199, 173]\"],[\"FL1:128 FL2:512 DR:0.5 BS:64 LR:0.001\",\"[199, 173]\"],[\"FL1:128 FL2:512 DR:0.5 BS:64 LR:0.001\",\"[199, 173]\"],[\"FL1:128 FL2:512 DR:0.5 BS:64 LR:0.001\",\"[199, 173]\"],[\"FL1:128 FL2:512 DR:0.5 BS:64 LR:0.001\",\"[199, 173]\"],[\"FL1:128 FL2:512 DR:0.5 BS:64 LR:0.001\",\"[199, 173]\"],[\"FL1:128 FL2:512 DR:0.5 BS:64 LR:0.001\",\"[199, 173]\"],[\"FL1:128 FL2:512 DR:0.5 BS:64 LR:0.001\",\"[199, 173]\"],[\"FL1:128 FL2:512 DR:0.5 BS:64 LR:0.001\",\"[199, 173]\"],[\"FL1:128 FL2:512 DR:0.5 BS:64 LR:0.001\",\"[199, 173]\"],[\"FL1:128 FL2:512 DR:0.5 BS:64 LR:0.001\",\"[199, 173]\"],[\"FL1:128 FL2:512 DR:0.5 BS:64 LR:0.001\",\"[199, 173]\"],[\"FL1:128 FL2:512 DR:0.5 BS:64 LR:0.001\",\"[199, 173]\"],[\"FL1:128 FL2:512 DR:0.5 BS:64 LR:0.001\",\"[199, 173]\"],[\"FL1:128 FL2:512 DR:0.5 BS:64 LR:0.001\",\"[199, 173]\"],[\"FL1:128 FL2:512 DR:0.5 BS:64 LR:0.001\",\"[199, 173]\"],[\"FL1:128 FL2:512 DR:0.5 BS:64 LR:0.001\",\"[199, 173]\"],[\"FL1:128 FL2:512 DR:0.5 BS:64 LR:0.001\",\"[199, 173]\"],[\"FL1:128 FL2:512 DR:0.5 BS:64 LR:0.001\",\"[199, 173]\"],[\"FL1:128 FL2:512 DR:0.5 BS:64 LR:0.001\",\"[199, 173]\"],[\"FL1:128 FL2:512 DR:0.5 BS:64 LR:0.001\",\"[199, 173]\"],[\"FL1:128 FL2:512 DR:0.5 BS:64 LR:0.001\",\"[199, 173]\"],[\"FL1:128 FL2:512 DR:0.5 BS:64 LR:0.001\",\"[199, 173]\"],[\"FL1:128 FL2:512 DR:0.5 BS:64 LR:0.001\",\"[199, 173]\"],[\"FL1:128 FL2:512 DR:0.5 BS:64 LR:0.001\",\"[199, 173]\"],[\"FL1:128 FL2:512 DR:0.5 BS:64 LR:0.001\",\"[199, 173]\"],[\"FL1:128 FL2:512 DR:0.5 BS:64 LR:0.001\",\"[199, 173]\"],[\"FL1:128 FL2:512 DR:0.5 BS:64 LR:0.001\",\"[199, 173]\"],[\"FL1:128 FL2:512 DR:0.5 BS:64 LR:0.001\",\"[199, 173]\"],[\"FL1:128 FL2:512 DR:0.5 BS:64 LR:0.001\",\"[199, 173]\"],[\"FL1:128 FL2:512 DR:0.5 BS:64 LR:0.001\",\"[199, 173]\"],[\"FL1:128 FL2:512 DR:0.5 BS:64 LR:0.001\",\"[199, 173]\"],[\"FL1:128 FL2:512 DR:0.5 BS:64 LR:0.001\",\"[199, 173]\"],[\"FL1:128 FL2:512 DR:0.5 BS:64 LR:0.001\",\"[199, 173]\"],[\"FL1:128 FL2:512 DR:0.5 BS:64 LR:0.001\",\"[199, 173]\"],[\"FL1:128 FL2:512 DR:0.5 BS:64 LR:0.001\",\"[199, 173]\"],[\"FL1:128 FL2:512 DR:0.5 BS:64 LR:0.001\",\"[199, 173]\"],[\"FL1:128 FL2:512 DR:0.5 BS:64 LR:0.001\",\"[199, 173]\"],[\"FL1:128 FL2:512 DR:0.5 BS:64 LR:0.001\",\"[199, 173]\"],[\"FL1:128 FL2:512 DR:0.5 BS:64 LR:0.001\",\"[199, 173]\"],[\"FL1:128 FL2:512 DR:0.5 BS:64 LR:0.001\",\"[199, 173]\"],[\"FL1:128 FL2:512 DR:0.5 BS:64 LR:0.001\",\"[199, 173]\"],[\"FL1:128 FL2:512 DR:0.5 BS:64 LR:0.001\",\"[199, 173]\"],[\"FL1:128 FL2:512 DR:0.5 BS:64 LR:0.001\",\"[199, 173]\"],[\"FL1:128 FL2:512 DR:0.5 BS:64 LR:0.001\",\"[199, 173]\"],[\"FL1:128 FL2:512 DR:0.5 BS:64 LR:0.001\",\"[199, 173]\"],[\"FL1:128 FL2:512 DR:0.5 BS:64 LR:0.001\",\"[199, 173]\"],[\"FL1:128 FL2:512 DR:0.5 BS:64 LR:0.001\",\"[199, 173]\"],[\"FL1:128 FL2:512 DR:0.5 BS:64 LR:0.001\",\"[199, 173]\"],[\"FL1:128 FL2:512 DR:0.5 BS:64 LR:0.001\",\"[199, 173]\"],[\"FL1:128 FL2:512 DR:0.5 BS:64 LR:0.001\",\"[199, 173]\"],[\"FL1:128 FL2:512 DR:0.5 BS:64 LR:0.001\",\"[199, 173]\"],[\"FL1:128 FL2:512 DR:0.5 BS:64 LR:0.001\",\"[199, 173]\"],[\"FL1:128 FL2:512 DR:0.5 BS:64 LR:0.001\",\"[199, 173]\"],[\"FL1:128 FL2:512 DR:0.5 BS:64 LR:0.001\",\"[199, 173]\"],[\"FL1:128 FL2:512 DR:0.5 BS:64 LR:0.001\",\"[199, 173]\"],[\"FL1:128 FL2:512 DR:0.5 BS:64 LR:0.001\",\"[199, 173]\"],[\"FL1:128 FL2:512 DR:0.5 BS:64 LR:0.001\",\"[199, 173]\"],[\"FL1:128 FL2:512 DR:0.5 BS:64 LR:0.001\",\"[199, 173]\"],[\"FL1:128 FL2:512 DR:0.5 BS:64 LR:0.001\",\"[199, 173]\"],[\"FL1:128 FL2:512 DR:0.5 BS:64 LR:0.001\",\"[199, 173]\"],[\"FL1:128 FL2:512 DR:0.5 BS:64 LR:0.001\",\"[199, 173]\"],[\"FL1:128 FL2:512 DR:0.5 BS:64 LR:0.001\",\"[199, 173]\"],[\"FL1:128 FL2:512 DR:0.5 BS:64 LR:0.001\",\"[199, 173]\"],[\"FL1:128 FL2:512 DR:0.5 BS:64 LR:0.001\",\"[199, 173]\"],[\"FL1:128 FL2:512 DR:0.5 BS:64 LR:0.001\",\"[199, 173]\"],[\"FL1:128 FL2:512 DR:0.5 BS:64 LR:0.001\",\"[199, 173]\"],[\"FL1:128 FL2:512 DR:0.5 BS:64 LR:0.001\",\"[199, 173]\"],[\"FL1:128 FL2:512 DR:0.5 BS:64 LR:0.001\",\"[199, 173]\"],[\"FL1:128 FL2:512 DR:0.5 BS:64 LR:0.001\",\"[199, 173]\"],[\"FL1:128 FL2:512 DR:0.5 BS:64 LR:0.001\",\"[199, 173]\"],[\"FL1:128 FL2:512 DR:0.5 BS:64 LR:0.001\",\"[199, 173]\"],[\"FL1:128 FL2:512 DR:0.5 BS:64 LR:0.001\",\"[199, 173]\"],[\"FL1:128 FL2:512 DR:0.5 BS:64 LR:0.001\",\"[199, 173]\"],[\"FL1:128 FL2:512 DR:0.5 BS:64 LR:0.001\",\"[199, 173]\"],[\"FL1:128 FL2:512 DR:0.5 BS:64 LR:0.001\",\"[199, 173]\"],[\"FL1:128 FL2:512 DR:0.5 BS:64 LR:0.001\",\"[199, 173]\"],[\"FL1:128 FL2:512 DR:0.5 BS:64 LR:0.001\",\"[199, 173]\"],[\"FL1:128 FL2:512 DR:0.5 BS:64 LR:0.001\",\"[199, 173]\"],[\"FL1:128 FL2:512 DR:0.5 BS:64 LR:0.001\",\"[199, 173]\"],[\"FL1:128 FL2:512 DR:0.5 BS:64 LR:0.001\",\"[199, 173]\"],[\"FL1:128 FL2:512 DR:0.5 BS:64 LR:0.001\",\"[199, 173]\"],[\"FL1:128 FL2:512 DR:0.5 BS:64 LR:0.001\",\"[199, 173]\"],[\"FL1:128 FL2:512 DR:0.5 BS:64 LR:0.001\",\"[199, 173]\"],[\"FL1:128 FL2:512 DR:0.5 BS:64 LR:0.001\",\"[199, 173]\"],[\"FL1:128 FL2:512 DR:0.5 BS:64 LR:0.001\",\"[199, 173]\"],[\"FL1:128 FL2:512 DR:0.5 BS:64 LR:0.001\",\"[199, 173]\"],[\"FL1:128 FL2:512 DR:0.5 BS:64 LR:0.001\",\"[199, 173]\"],[\"FL1:128 FL2:512 DR:0.5 BS:64 LR:0.001\",\"[199, 173]\"],[\"FL1:128 FL2:512 DR:0.5 BS:64 LR:0.001\",\"[199, 173]\"],[\"FL1:128 FL2:512 DR:0.5 BS:64 LR:0.001\",\"[199, 173]\"],[\"FL1:128 FL2:512 DR:0.5 BS:64 LR:0.001\",\"[199, 173]\"],[\"FL1:128 FL2:512 DR:0.5 BS:64 LR:0.001\",\"[199, 173]\"],[\"FL1:128 FL2:512 DR:0.5 BS:64 LR:0.001\",\"[199, 173]\"],[\"FL1:128 FL2:512 DR:0.5 BS:64 LR:0.001\",\"[199, 173]\"],[\"FL1:128 FL2:512 DR:0.5 BS:64 LR:0.001\",\"[199, 173]\"],[\"FL1:128 FL2:512 DR:0.5 BS:64 LR:0.001\",\"[199, 173]\"],[\"FL1:128 FL2:512 DR:0.5 BS:64 LR:0.001\",\"[199, 173]\"],[\"FL1:128 FL2:512 DR:0.5 BS:64 LR:0.001\",\"[199, 173]\"],[\"FL1:128 FL2:512 DR:0.5 BS:64 LR:0.001\",\"[199, 173]\"],[\"FL1:128 FL2:512 DR:0.5 BS:64 LR:0.001\",\"[199, 173]\"],[\"FL1:128 FL2:512 DR:0.5 BS:64 LR:0.001\",\"[199, 173]\"],[\"FL1:128 FL2:512 DR:0.5 BS:64 LR:0.001\",\"[199, 173]\"],[\"FL1:128 FL2:512 DR:0.5 BS:64 LR:0.001\",\"[199, 173]\"],[\"FL1:128 FL2:512 DR:0.5 BS:64 LR:0.001\",\"[199, 173]\"],[\"FL1:128 FL2:512 DR:0.5 BS:64 LR:0.001\",\"[199, 173]\"],[\"FL1:128 FL2:512 DR:0.5 BS:64 LR:0.001\",\"[199, 173]\"],[\"FL1:128 FL2:512 DR:0.5 BS:64 LR:0.001\",\"[199, 173]\"],[\"FL1:128 FL2:512 DR:0.5 BS:64 LR:0.001\",\"[199, 173]\"],[\"FL1:128 FL2:512 DR:0.5 BS:64 LR:0.001\",\"[199, 173]\"],[\"FL1:128 FL2:512 DR:0.5 BS:64 LR:0.001\",\"[199, 173]\"],[\"FL1:128 FL2:512 DR:0.5 BS:64 LR:0.001\",\"[199, 173]\"]],\"hovertemplate\":\"variable=train_loss\\u003cbr\\u003etrial_id=802fd_00008\\u003cbr\\u003eepoch=%{x}\\u003cbr\\u003evalue=%{y}\\u003cbr\\u003eHyperparameters=%{customdata[0]}\\u003cbr\\u003echeckpoints=%{customdata[1]}\\u003cextra\\u003e\\u003c\\u002fextra\\u003e\",\"legendgroup\":\"train_loss, 802fd_00008\",\"line\":{\"color\":\"#EF553B\",\"dash\":\"solid\"},\"marker\":{\"symbol\":\"circle\"},\"mode\":\"lines\",\"name\":\"train_loss, 802fd_00008\",\"showlegend\":true,\"x\":[0,1,2,3,4,5,6,7,8,9,10,11,12,13,14,15,16,17,18,19,20,21,22,23,24,25,26,27,28,29,30,31,32,33,34,35,36,37,38,39,40,41,42,43,44,45,46,47,48,49,50,51,52,53,54,55,56,57,58,59,60,61,62,63,64,65,66,67,68,69,70,71,72,73,74,75,76,77,78,79,80,81,82,83,84,85,86,87,88,89,90,91,92,93,94,95,96,97,98,99,100,101,102,103,104,105,106,107,108,109,110,111,112,113,114,115,116,117,118,119,120,121,122,123,124,125,126,127,128,129,130,131,132,133,134,135,136,137,138,139,140,141,142,143,144,145,146,147,148,149,150,151,152,153,154,155,156,157,158,159,160,161,162,163,164,165,166,167,168,169,170,171,172,173,174,175,176,177,178,179,180,181,182,183,184,185,186,187,188,189,190,191,192,193,194,195,196,197,198,199],\"xaxis\":\"x\",\"y\":[0.2447392940521234,0.23674941559632526,0.2621867093774994,0.2602800152919895,0.23211463936316973,0.20911554262471163,0.22301704198408043,0.18251741518767597,0.2029203811631721,0.23596740029560928,0.22322913681339773,0.30715915345398176,0.24008688435453543,0.22550345530442595,0.19240455541565787,0.17766726655135362,0.15397058107700456,0.14899793054161112,0.12346417563158682,0.13851066501271955,0.1470397996990692,0.144049747989496,0.16787468837759206,0.13871433716390716,0.1352332292753732,0.1516737629147549,0.13466568467830126,0.11735955991887034,0.12601626660123752,0.13032971816390906,0.11681748759170456,0.1341196088752483,0.11504087439916744,0.10032872005795233,0.09609254876437956,0.09882433748684416,0.09513698542410834,0.1502212883650899,0.13257355750399408,0.1270931819134125,0.15720216989869282,0.15596060991521907,0.1450752577201273,0.12562164157733274,0.16152356227308426,0.15014739109456451,0.12802931267936946,0.13724919391287604,0.11500072219380549,0.1356975418886128,0.11273924642540217,0.09281228612685988,0.0982033097467472,0.09902627078835474,0.11123663722239771,0.16558978318348685,0.14370655257950307,0.12452268345124225,0.08962282616540253,0.06364489554047224,0.11829176683346132,0.08725059559192717,0.08304767910140377,0.07323507991762693,0.06665849082888309,0.06615668381731457,0.08656911449618271,0.1405671679111788,0.12748996867951196,0.12425740281221866,0.13104945069867735,0.0954703168492738,0.09629982222591636,0.10804858975592421,0.08877472569865086,0.09816459559945302,0.0817210214406121,0.06779022180834524,0.05543576454983219,0.06779994749934164,0.06005689706345842,0.07105485982987884,0.095044726380332,0.09398508436058846,0.08944096907360592,0.08752512514182732,0.07213164587543268,0.07342426044891828,0.09416808395352963,0.0905209669389127,0.08006794015022092,0.0847497806579003,0.08494159583450199,0.08143234504064462,0.11089695164097994,0.12488260314553044,0.12921921541749778,0.11102899415929658,0.10749334761592748,0.09596535013180955,0.08895525466112267,0.10203980989395195,0.09646298711259219,0.10295985622378859,0.08762684825839366,0.0781987581900871,0.06597959079690208,0.06077118600969452,0.09195484973036501,0.07863775893743324,0.08263903528250226,0.13421032607420869,0.15310396770546514,0.147889488405053,0.11210129722361038,0.11634189843736902,0.0890155510578076,0.06207677328162852,0.08861718809322124,0.07456555663357568,0.07444243181950759,0.07597160371943897,0.061948733000653136,0.07963897633466238,0.06997165686827961,0.05635187493888571,0.07360927324909629,0.07496520586423495,0.06564154406463041,0.05246978020552081,0.06225895229898061,0.05500467680508658,0.06599456444458651,0.06374257306308523,0.07106378343403964,0.05339024305642062,0.06611103127599013,0.047986397400996736,0.05320294317636317,0.06439635483445984,0.053114852867340065,0.11014869250311729,0.09562576437959575,0.10558999992058976,0.07475840803912148,0.05845394817942283,0.04499480434890519,0.04246598934886134,0.07186443412143141,0.06456903403890218,0.06161512706605636,0.07814118695873684,0.07125489327721225,0.06066925766343814,0.04489401969081784,0.039703566947027126,0.05987581635080689,0.04216861228893471,0.047355883242357094,0.04506081370623124,0.05330417820553768,0.06020235117104822,0.06037330525336763,0.05365614897488279,0.07214693431376537,0.06515549548347196,0.053127859758863104,0.04652626132139173,0.035372920455492854,0.02769398604214671,0.024473348065419166,0.06589328832374851,0.055755432443134155,0.04016782699115549,0.035177493355919666,0.03774044406894151,0.038089864734035646,0.036184891335316355,0.06933350316163389,0.05779446174023201,0.06536243530987115,0.05407627331136597,0.05311980616330379,0.11129688071727213,0.08366969209591181,0.06211161415066733,0.061832437831735546,0.05331984446682915,0.04969135985598543,0.06219886700859035,0.05329716883136399,0.047195123679330306,0.06289920843103858,0.08134969248678477,0.07127310658035127,0.048772706083166584,0.05722929189053357,0.09308287269173143,0.09016688261626855,0.08620018822748572],\"yaxis\":\"y\",\"type\":\"scattergl\"},{\"customdata\":[[\"FL1:256 FL2:16 DR:0.5 BS:32 LR:0.0001\",\"[113, 199]\"],[\"FL1:256 FL2:16 DR:0.5 BS:32 LR:0.0001\",\"[113, 199]\"],[\"FL1:256 FL2:16 DR:0.5 BS:32 LR:0.0001\",\"[113, 199]\"],[\"FL1:256 FL2:16 DR:0.5 BS:32 LR:0.0001\",\"[113, 199]\"],[\"FL1:256 FL2:16 DR:0.5 BS:32 LR:0.0001\",\"[113, 199]\"],[\"FL1:256 FL2:16 DR:0.5 BS:32 LR:0.0001\",\"[113, 199]\"],[\"FL1:256 FL2:16 DR:0.5 BS:32 LR:0.0001\",\"[113, 199]\"],[\"FL1:256 FL2:16 DR:0.5 BS:32 LR:0.0001\",\"[113, 199]\"],[\"FL1:256 FL2:16 DR:0.5 BS:32 LR:0.0001\",\"[113, 199]\"],[\"FL1:256 FL2:16 DR:0.5 BS:32 LR:0.0001\",\"[113, 199]\"],[\"FL1:256 FL2:16 DR:0.5 BS:32 LR:0.0001\",\"[113, 199]\"],[\"FL1:256 FL2:16 DR:0.5 BS:32 LR:0.0001\",\"[113, 199]\"],[\"FL1:256 FL2:16 DR:0.5 BS:32 LR:0.0001\",\"[113, 199]\"],[\"FL1:256 FL2:16 DR:0.5 BS:32 LR:0.0001\",\"[113, 199]\"],[\"FL1:256 FL2:16 DR:0.5 BS:32 LR:0.0001\",\"[113, 199]\"],[\"FL1:256 FL2:16 DR:0.5 BS:32 LR:0.0001\",\"[113, 199]\"],[\"FL1:256 FL2:16 DR:0.5 BS:32 LR:0.0001\",\"[113, 199]\"],[\"FL1:256 FL2:16 DR:0.5 BS:32 LR:0.0001\",\"[113, 199]\"],[\"FL1:256 FL2:16 DR:0.5 BS:32 LR:0.0001\",\"[113, 199]\"],[\"FL1:256 FL2:16 DR:0.5 BS:32 LR:0.0001\",\"[113, 199]\"],[\"FL1:256 FL2:16 DR:0.5 BS:32 LR:0.0001\",\"[113, 199]\"],[\"FL1:256 FL2:16 DR:0.5 BS:32 LR:0.0001\",\"[113, 199]\"],[\"FL1:256 FL2:16 DR:0.5 BS:32 LR:0.0001\",\"[113, 199]\"],[\"FL1:256 FL2:16 DR:0.5 BS:32 LR:0.0001\",\"[113, 199]\"],[\"FL1:256 FL2:16 DR:0.5 BS:32 LR:0.0001\",\"[113, 199]\"],[\"FL1:256 FL2:16 DR:0.5 BS:32 LR:0.0001\",\"[113, 199]\"],[\"FL1:256 FL2:16 DR:0.5 BS:32 LR:0.0001\",\"[113, 199]\"],[\"FL1:256 FL2:16 DR:0.5 BS:32 LR:0.0001\",\"[113, 199]\"],[\"FL1:256 FL2:16 DR:0.5 BS:32 LR:0.0001\",\"[113, 199]\"],[\"FL1:256 FL2:16 DR:0.5 BS:32 LR:0.0001\",\"[113, 199]\"],[\"FL1:256 FL2:16 DR:0.5 BS:32 LR:0.0001\",\"[113, 199]\"],[\"FL1:256 FL2:16 DR:0.5 BS:32 LR:0.0001\",\"[113, 199]\"],[\"FL1:256 FL2:16 DR:0.5 BS:32 LR:0.0001\",\"[113, 199]\"],[\"FL1:256 FL2:16 DR:0.5 BS:32 LR:0.0001\",\"[113, 199]\"],[\"FL1:256 FL2:16 DR:0.5 BS:32 LR:0.0001\",\"[113, 199]\"],[\"FL1:256 FL2:16 DR:0.5 BS:32 LR:0.0001\",\"[113, 199]\"],[\"FL1:256 FL2:16 DR:0.5 BS:32 LR:0.0001\",\"[113, 199]\"],[\"FL1:256 FL2:16 DR:0.5 BS:32 LR:0.0001\",\"[113, 199]\"],[\"FL1:256 FL2:16 DR:0.5 BS:32 LR:0.0001\",\"[113, 199]\"],[\"FL1:256 FL2:16 DR:0.5 BS:32 LR:0.0001\",\"[113, 199]\"],[\"FL1:256 FL2:16 DR:0.5 BS:32 LR:0.0001\",\"[113, 199]\"],[\"FL1:256 FL2:16 DR:0.5 BS:32 LR:0.0001\",\"[113, 199]\"],[\"FL1:256 FL2:16 DR:0.5 BS:32 LR:0.0001\",\"[113, 199]\"],[\"FL1:256 FL2:16 DR:0.5 BS:32 LR:0.0001\",\"[113, 199]\"],[\"FL1:256 FL2:16 DR:0.5 BS:32 LR:0.0001\",\"[113, 199]\"],[\"FL1:256 FL2:16 DR:0.5 BS:32 LR:0.0001\",\"[113, 199]\"],[\"FL1:256 FL2:16 DR:0.5 BS:32 LR:0.0001\",\"[113, 199]\"],[\"FL1:256 FL2:16 DR:0.5 BS:32 LR:0.0001\",\"[113, 199]\"],[\"FL1:256 FL2:16 DR:0.5 BS:32 LR:0.0001\",\"[113, 199]\"],[\"FL1:256 FL2:16 DR:0.5 BS:32 LR:0.0001\",\"[113, 199]\"],[\"FL1:256 FL2:16 DR:0.5 BS:32 LR:0.0001\",\"[113, 199]\"],[\"FL1:256 FL2:16 DR:0.5 BS:32 LR:0.0001\",\"[113, 199]\"],[\"FL1:256 FL2:16 DR:0.5 BS:32 LR:0.0001\",\"[113, 199]\"],[\"FL1:256 FL2:16 DR:0.5 BS:32 LR:0.0001\",\"[113, 199]\"],[\"FL1:256 FL2:16 DR:0.5 BS:32 LR:0.0001\",\"[113, 199]\"],[\"FL1:256 FL2:16 DR:0.5 BS:32 LR:0.0001\",\"[113, 199]\"],[\"FL1:256 FL2:16 DR:0.5 BS:32 LR:0.0001\",\"[113, 199]\"],[\"FL1:256 FL2:16 DR:0.5 BS:32 LR:0.0001\",\"[113, 199]\"],[\"FL1:256 FL2:16 DR:0.5 BS:32 LR:0.0001\",\"[113, 199]\"],[\"FL1:256 FL2:16 DR:0.5 BS:32 LR:0.0001\",\"[113, 199]\"],[\"FL1:256 FL2:16 DR:0.5 BS:32 LR:0.0001\",\"[113, 199]\"],[\"FL1:256 FL2:16 DR:0.5 BS:32 LR:0.0001\",\"[113, 199]\"],[\"FL1:256 FL2:16 DR:0.5 BS:32 LR:0.0001\",\"[113, 199]\"],[\"FL1:256 FL2:16 DR:0.5 BS:32 LR:0.0001\",\"[113, 199]\"],[\"FL1:256 FL2:16 DR:0.5 BS:32 LR:0.0001\",\"[113, 199]\"],[\"FL1:256 FL2:16 DR:0.5 BS:32 LR:0.0001\",\"[113, 199]\"],[\"FL1:256 FL2:16 DR:0.5 BS:32 LR:0.0001\",\"[113, 199]\"],[\"FL1:256 FL2:16 DR:0.5 BS:32 LR:0.0001\",\"[113, 199]\"],[\"FL1:256 FL2:16 DR:0.5 BS:32 LR:0.0001\",\"[113, 199]\"],[\"FL1:256 FL2:16 DR:0.5 BS:32 LR:0.0001\",\"[113, 199]\"],[\"FL1:256 FL2:16 DR:0.5 BS:32 LR:0.0001\",\"[113, 199]\"],[\"FL1:256 FL2:16 DR:0.5 BS:32 LR:0.0001\",\"[113, 199]\"],[\"FL1:256 FL2:16 DR:0.5 BS:32 LR:0.0001\",\"[113, 199]\"],[\"FL1:256 FL2:16 DR:0.5 BS:32 LR:0.0001\",\"[113, 199]\"],[\"FL1:256 FL2:16 DR:0.5 BS:32 LR:0.0001\",\"[113, 199]\"],[\"FL1:256 FL2:16 DR:0.5 BS:32 LR:0.0001\",\"[113, 199]\"],[\"FL1:256 FL2:16 DR:0.5 BS:32 LR:0.0001\",\"[113, 199]\"],[\"FL1:256 FL2:16 DR:0.5 BS:32 LR:0.0001\",\"[113, 199]\"],[\"FL1:256 FL2:16 DR:0.5 BS:32 LR:0.0001\",\"[113, 199]\"],[\"FL1:256 FL2:16 DR:0.5 BS:32 LR:0.0001\",\"[113, 199]\"],[\"FL1:256 FL2:16 DR:0.5 BS:32 LR:0.0001\",\"[113, 199]\"],[\"FL1:256 FL2:16 DR:0.5 BS:32 LR:0.0001\",\"[113, 199]\"],[\"FL1:256 FL2:16 DR:0.5 BS:32 LR:0.0001\",\"[113, 199]\"],[\"FL1:256 FL2:16 DR:0.5 BS:32 LR:0.0001\",\"[113, 199]\"],[\"FL1:256 FL2:16 DR:0.5 BS:32 LR:0.0001\",\"[113, 199]\"],[\"FL1:256 FL2:16 DR:0.5 BS:32 LR:0.0001\",\"[113, 199]\"],[\"FL1:256 FL2:16 DR:0.5 BS:32 LR:0.0001\",\"[113, 199]\"],[\"FL1:256 FL2:16 DR:0.5 BS:32 LR:0.0001\",\"[113, 199]\"],[\"FL1:256 FL2:16 DR:0.5 BS:32 LR:0.0001\",\"[113, 199]\"],[\"FL1:256 FL2:16 DR:0.5 BS:32 LR:0.0001\",\"[113, 199]\"],[\"FL1:256 FL2:16 DR:0.5 BS:32 LR:0.0001\",\"[113, 199]\"],[\"FL1:256 FL2:16 DR:0.5 BS:32 LR:0.0001\",\"[113, 199]\"],[\"FL1:256 FL2:16 DR:0.5 BS:32 LR:0.0001\",\"[113, 199]\"],[\"FL1:256 FL2:16 DR:0.5 BS:32 LR:0.0001\",\"[113, 199]\"],[\"FL1:256 FL2:16 DR:0.5 BS:32 LR:0.0001\",\"[113, 199]\"],[\"FL1:256 FL2:16 DR:0.5 BS:32 LR:0.0001\",\"[113, 199]\"],[\"FL1:256 FL2:16 DR:0.5 BS:32 LR:0.0001\",\"[113, 199]\"],[\"FL1:256 FL2:16 DR:0.5 BS:32 LR:0.0001\",\"[113, 199]\"],[\"FL1:256 FL2:16 DR:0.5 BS:32 LR:0.0001\",\"[113, 199]\"],[\"FL1:256 FL2:16 DR:0.5 BS:32 LR:0.0001\",\"[113, 199]\"],[\"FL1:256 FL2:16 DR:0.5 BS:32 LR:0.0001\",\"[113, 199]\"],[\"FL1:256 FL2:16 DR:0.5 BS:32 LR:0.0001\",\"[113, 199]\"],[\"FL1:256 FL2:16 DR:0.5 BS:32 LR:0.0001\",\"[113, 199]\"],[\"FL1:256 FL2:16 DR:0.5 BS:32 LR:0.0001\",\"[113, 199]\"],[\"FL1:256 FL2:16 DR:0.5 BS:32 LR:0.0001\",\"[113, 199]\"],[\"FL1:256 FL2:16 DR:0.5 BS:32 LR:0.0001\",\"[113, 199]\"],[\"FL1:256 FL2:16 DR:0.5 BS:32 LR:0.0001\",\"[113, 199]\"],[\"FL1:256 FL2:16 DR:0.5 BS:32 LR:0.0001\",\"[113, 199]\"],[\"FL1:256 FL2:16 DR:0.5 BS:32 LR:0.0001\",\"[113, 199]\"],[\"FL1:256 FL2:16 DR:0.5 BS:32 LR:0.0001\",\"[113, 199]\"],[\"FL1:256 FL2:16 DR:0.5 BS:32 LR:0.0001\",\"[113, 199]\"],[\"FL1:256 FL2:16 DR:0.5 BS:32 LR:0.0001\",\"[113, 199]\"],[\"FL1:256 FL2:16 DR:0.5 BS:32 LR:0.0001\",\"[113, 199]\"],[\"FL1:256 FL2:16 DR:0.5 BS:32 LR:0.0001\",\"[113, 199]\"],[\"FL1:256 FL2:16 DR:0.5 BS:32 LR:0.0001\",\"[113, 199]\"],[\"FL1:256 FL2:16 DR:0.5 BS:32 LR:0.0001\",\"[113, 199]\"],[\"FL1:256 FL2:16 DR:0.5 BS:32 LR:0.0001\",\"[113, 199]\"],[\"FL1:256 FL2:16 DR:0.5 BS:32 LR:0.0001\",\"[113, 199]\"],[\"FL1:256 FL2:16 DR:0.5 BS:32 LR:0.0001\",\"[113, 199]\"],[\"FL1:256 FL2:16 DR:0.5 BS:32 LR:0.0001\",\"[113, 199]\"],[\"FL1:256 FL2:16 DR:0.5 BS:32 LR:0.0001\",\"[113, 199]\"],[\"FL1:256 FL2:16 DR:0.5 BS:32 LR:0.0001\",\"[113, 199]\"],[\"FL1:256 FL2:16 DR:0.5 BS:32 LR:0.0001\",\"[113, 199]\"],[\"FL1:256 FL2:16 DR:0.5 BS:32 LR:0.0001\",\"[113, 199]\"],[\"FL1:256 FL2:16 DR:0.5 BS:32 LR:0.0001\",\"[113, 199]\"],[\"FL1:256 FL2:16 DR:0.5 BS:32 LR:0.0001\",\"[113, 199]\"],[\"FL1:256 FL2:16 DR:0.5 BS:32 LR:0.0001\",\"[113, 199]\"],[\"FL1:256 FL2:16 DR:0.5 BS:32 LR:0.0001\",\"[113, 199]\"],[\"FL1:256 FL2:16 DR:0.5 BS:32 LR:0.0001\",\"[113, 199]\"],[\"FL1:256 FL2:16 DR:0.5 BS:32 LR:0.0001\",\"[113, 199]\"],[\"FL1:256 FL2:16 DR:0.5 BS:32 LR:0.0001\",\"[113, 199]\"],[\"FL1:256 FL2:16 DR:0.5 BS:32 LR:0.0001\",\"[113, 199]\"],[\"FL1:256 FL2:16 DR:0.5 BS:32 LR:0.0001\",\"[113, 199]\"],[\"FL1:256 FL2:16 DR:0.5 BS:32 LR:0.0001\",\"[113, 199]\"],[\"FL1:256 FL2:16 DR:0.5 BS:32 LR:0.0001\",\"[113, 199]\"],[\"FL1:256 FL2:16 DR:0.5 BS:32 LR:0.0001\",\"[113, 199]\"],[\"FL1:256 FL2:16 DR:0.5 BS:32 LR:0.0001\",\"[113, 199]\"],[\"FL1:256 FL2:16 DR:0.5 BS:32 LR:0.0001\",\"[113, 199]\"],[\"FL1:256 FL2:16 DR:0.5 BS:32 LR:0.0001\",\"[113, 199]\"],[\"FL1:256 FL2:16 DR:0.5 BS:32 LR:0.0001\",\"[113, 199]\"],[\"FL1:256 FL2:16 DR:0.5 BS:32 LR:0.0001\",\"[113, 199]\"],[\"FL1:256 FL2:16 DR:0.5 BS:32 LR:0.0001\",\"[113, 199]\"],[\"FL1:256 FL2:16 DR:0.5 BS:32 LR:0.0001\",\"[113, 199]\"],[\"FL1:256 FL2:16 DR:0.5 BS:32 LR:0.0001\",\"[113, 199]\"],[\"FL1:256 FL2:16 DR:0.5 BS:32 LR:0.0001\",\"[113, 199]\"],[\"FL1:256 FL2:16 DR:0.5 BS:32 LR:0.0001\",\"[113, 199]\"],[\"FL1:256 FL2:16 DR:0.5 BS:32 LR:0.0001\",\"[113, 199]\"],[\"FL1:256 FL2:16 DR:0.5 BS:32 LR:0.0001\",\"[113, 199]\"],[\"FL1:256 FL2:16 DR:0.5 BS:32 LR:0.0001\",\"[113, 199]\"],[\"FL1:256 FL2:16 DR:0.5 BS:32 LR:0.0001\",\"[113, 199]\"],[\"FL1:256 FL2:16 DR:0.5 BS:32 LR:0.0001\",\"[113, 199]\"],[\"FL1:256 FL2:16 DR:0.5 BS:32 LR:0.0001\",\"[113, 199]\"],[\"FL1:256 FL2:16 DR:0.5 BS:32 LR:0.0001\",\"[113, 199]\"],[\"FL1:256 FL2:16 DR:0.5 BS:32 LR:0.0001\",\"[113, 199]\"],[\"FL1:256 FL2:16 DR:0.5 BS:32 LR:0.0001\",\"[113, 199]\"],[\"FL1:256 FL2:16 DR:0.5 BS:32 LR:0.0001\",\"[113, 199]\"],[\"FL1:256 FL2:16 DR:0.5 BS:32 LR:0.0001\",\"[113, 199]\"],[\"FL1:256 FL2:16 DR:0.5 BS:32 LR:0.0001\",\"[113, 199]\"],[\"FL1:256 FL2:16 DR:0.5 BS:32 LR:0.0001\",\"[113, 199]\"],[\"FL1:256 FL2:16 DR:0.5 BS:32 LR:0.0001\",\"[113, 199]\"],[\"FL1:256 FL2:16 DR:0.5 BS:32 LR:0.0001\",\"[113, 199]\"],[\"FL1:256 FL2:16 DR:0.5 BS:32 LR:0.0001\",\"[113, 199]\"],[\"FL1:256 FL2:16 DR:0.5 BS:32 LR:0.0001\",\"[113, 199]\"],[\"FL1:256 FL2:16 DR:0.5 BS:32 LR:0.0001\",\"[113, 199]\"],[\"FL1:256 FL2:16 DR:0.5 BS:32 LR:0.0001\",\"[113, 199]\"],[\"FL1:256 FL2:16 DR:0.5 BS:32 LR:0.0001\",\"[113, 199]\"],[\"FL1:256 FL2:16 DR:0.5 BS:32 LR:0.0001\",\"[113, 199]\"],[\"FL1:256 FL2:16 DR:0.5 BS:32 LR:0.0001\",\"[113, 199]\"],[\"FL1:256 FL2:16 DR:0.5 BS:32 LR:0.0001\",\"[113, 199]\"],[\"FL1:256 FL2:16 DR:0.5 BS:32 LR:0.0001\",\"[113, 199]\"],[\"FL1:256 FL2:16 DR:0.5 BS:32 LR:0.0001\",\"[113, 199]\"],[\"FL1:256 FL2:16 DR:0.5 BS:32 LR:0.0001\",\"[113, 199]\"],[\"FL1:256 FL2:16 DR:0.5 BS:32 LR:0.0001\",\"[113, 199]\"],[\"FL1:256 FL2:16 DR:0.5 BS:32 LR:0.0001\",\"[113, 199]\"],[\"FL1:256 FL2:16 DR:0.5 BS:32 LR:0.0001\",\"[113, 199]\"],[\"FL1:256 FL2:16 DR:0.5 BS:32 LR:0.0001\",\"[113, 199]\"],[\"FL1:256 FL2:16 DR:0.5 BS:32 LR:0.0001\",\"[113, 199]\"],[\"FL1:256 FL2:16 DR:0.5 BS:32 LR:0.0001\",\"[113, 199]\"],[\"FL1:256 FL2:16 DR:0.5 BS:32 LR:0.0001\",\"[113, 199]\"],[\"FL1:256 FL2:16 DR:0.5 BS:32 LR:0.0001\",\"[113, 199]\"],[\"FL1:256 FL2:16 DR:0.5 BS:32 LR:0.0001\",\"[113, 199]\"],[\"FL1:256 FL2:16 DR:0.5 BS:32 LR:0.0001\",\"[113, 199]\"],[\"FL1:256 FL2:16 DR:0.5 BS:32 LR:0.0001\",\"[113, 199]\"],[\"FL1:256 FL2:16 DR:0.5 BS:32 LR:0.0001\",\"[113, 199]\"],[\"FL1:256 FL2:16 DR:0.5 BS:32 LR:0.0001\",\"[113, 199]\"],[\"FL1:256 FL2:16 DR:0.5 BS:32 LR:0.0001\",\"[113, 199]\"],[\"FL1:256 FL2:16 DR:0.5 BS:32 LR:0.0001\",\"[113, 199]\"],[\"FL1:256 FL2:16 DR:0.5 BS:32 LR:0.0001\",\"[113, 199]\"],[\"FL1:256 FL2:16 DR:0.5 BS:32 LR:0.0001\",\"[113, 199]\"],[\"FL1:256 FL2:16 DR:0.5 BS:32 LR:0.0001\",\"[113, 199]\"],[\"FL1:256 FL2:16 DR:0.5 BS:32 LR:0.0001\",\"[113, 199]\"],[\"FL1:256 FL2:16 DR:0.5 BS:32 LR:0.0001\",\"[113, 199]\"],[\"FL1:256 FL2:16 DR:0.5 BS:32 LR:0.0001\",\"[113, 199]\"],[\"FL1:256 FL2:16 DR:0.5 BS:32 LR:0.0001\",\"[113, 199]\"],[\"FL1:256 FL2:16 DR:0.5 BS:32 LR:0.0001\",\"[113, 199]\"],[\"FL1:256 FL2:16 DR:0.5 BS:32 LR:0.0001\",\"[113, 199]\"],[\"FL1:256 FL2:16 DR:0.5 BS:32 LR:0.0001\",\"[113, 199]\"],[\"FL1:256 FL2:16 DR:0.5 BS:32 LR:0.0001\",\"[113, 199]\"],[\"FL1:256 FL2:16 DR:0.5 BS:32 LR:0.0001\",\"[113, 199]\"],[\"FL1:256 FL2:16 DR:0.5 BS:32 LR:0.0001\",\"[113, 199]\"]],\"hovertemplate\":\"variable=train_loss\\u003cbr\\u003etrial_id=802fd_00106\\u003cbr\\u003eepoch=%{x}\\u003cbr\\u003evalue=%{y}\\u003cbr\\u003eHyperparameters=%{customdata[0]}\\u003cbr\\u003echeckpoints=%{customdata[1]}\\u003cextra\\u003e\\u003c\\u002fextra\\u003e\",\"legendgroup\":\"train_loss, 802fd_00106\",\"line\":{\"color\":\"#EF553B\",\"dash\":\"dot\"},\"marker\":{\"symbol\":\"circle\"},\"mode\":\"lines\",\"name\":\"train_loss, 802fd_00106\",\"showlegend\":true,\"x\":[0,1,2,3,4,5,6,7,8,9,10,11,12,13,14,15,16,17,18,19,20,21,22,23,24,25,26,27,28,29,30,31,32,33,34,35,36,37,38,39,40,41,42,43,44,45,46,47,48,49,50,51,52,53,54,55,56,57,58,59,60,61,62,63,64,65,66,67,68,69,70,71,72,73,74,75,76,77,78,79,80,81,82,83,84,85,86,87,88,89,90,91,92,93,94,95,96,97,98,99,100,101,102,103,104,105,106,107,108,109,110,111,112,113,114,115,116,117,118,119,120,121,122,123,124,125,126,127,128,129,130,131,132,133,134,135,136,137,138,139,140,141,142,143,144,145,146,147,148,149,150,151,152,153,154,155,156,157,158,159,160,161,162,163,164,165,166,167,168,169,170,171,172,173,174,175,176,177,178,179,180,181,182,183,184,185,186,187,188,189,190,191,192,193,194,195,196,197,198,199],\"xaxis\":\"x\",\"y\":[0.5829174518585192,0.5248671869436881,0.555879977014327,0.5215812204060701,0.41908160532697974,0.33423227525542104,0.45914656226363215,0.3603862295847892,0.3052349882193242,0.4007342190787404,0.4191177110701927,0.38312853845159994,0.3505287069228006,0.39746252021171613,0.3467871170638527,0.32330154852062565,0.3265390858119725,0.30147154232303236,0.2285997443758111,0.21531522925447447,0.28181731141773114,0.229498998570225,0.2696227042196725,0.22263092188825406,0.208826748124693,0.23074771801096414,0.19757336106209072,0.1514517944806688,0.1208863792653793,0.15828166490368742,0.15136468136027553,0.12367773618112056,0.09039412316885286,0.06955128081776489,0.05695146268035159,0.09432205024974294,0.1168586973588777,0.14630378214790454,0.14036216953247113,0.12126737828949619,0.2919592062360664,0.2226664614165238,0.15216142803741237,0.11626854742773851,0.15907470024432335,0.18420065367755292,0.13008863656578454,0.13159906485913822,0.1411495282864476,0.21422564484118695,0.19058988655566653,0.12905616153418673,0.1098538949366386,0.09942294751776405,0.10578238778758779,0.11136398837598621,0.08671604594013721,0.09227915191267326,0.06542087494823264,0.08214243600430014,0.05744526135614792,0.03982994392433944,0.046322383383374494,0.06916593041649172,0.04884212450686896,0.049534711897398255,0.10965430978935582,0.08341365469165385,0.12367765216474842,0.13557795920931662,0.09761064078386199,0.07119374751862925,0.10967067897198579,0.08943694015263161,0.07061124422430085,0.06867959733326608,0.11919291572782258,0.08459508620293839,0.06912893315217158,0.12620630535855012,0.09513949262350203,0.34215674073993557,0.38601472160219635,0.279870340764519,0.19362376268704493,0.12963923916210154,0.10458599969737661,0.18023624648645725,0.19205110523432578,0.17229686182955928,0.19910869666086256,0.15474998648396196,0.12438986497078362,0.10658778032961158,0.12149494244855384,0.1836037493692612,0.13588447293948955,0.1432211311082824,0.11817331273825842,0.08714706721883263,0.1167428014873212,0.16004031189274365,0.12022826721596425,0.11257283571910637,0.09297794349360307,0.14874921406221223,0.12184375799306105,0.08627898553416374,0.26926530109117436,0.19420618162400188,0.1984910193141738,0.26262213608002827,0.24661306255642632,0.17178103862427377,0.1359534324091188,0.1133422196495208,0.10680870566683805,0.07211248479894661,0.055803819845860886,0.06408313618815299,0.10093585621460471,0.14372522282033567,0.12577882589518607,0.11016885311484038,0.08726028681516437,0.09836745729525713,0.07154108957601799,0.0806903963364043,0.055704788206476515,0.03800688297137354,0.03464422303328726,0.05414550703690966,0.03634927655785417,0.025680400594020106,0.036327028134759264,0.025871274185625032,0.05932105899681438,0.04132865374836514,0.05883439385595026,0.040315953935696675,0.03678559196194932,0.07016297964388046,0.05251813229179321,0.09631890254719966,0.08931434533664839,0.06089337127974796,0.04914718341543383,0.06881052154113229,0.04690034084330416,0.04652126600550543,0.1399337779827039,0.09768609206524954,0.06632662583053917,0.04742204255054925,0.03538121839738905,0.0236602582837873,0.020363945753589772,0.042621279915978603,0.1455195216078286,0.10261243057673006,0.07181606030248815,0.053823951992943604,0.03833551480608162,0.09198767790686356,0.08822910305189581,0.2086957879617964,0.16508618247211987,0.19493612813751512,0.13149228368567503,0.09237416866333664,0.06492778960059997,0.04399992400410052,0.029878972039883482,0.03345187749549082,0.033218394939000834,0.05114655194937858,0.03511294201416055,0.029650700219156154,0.06225248981030868,0.051243271652275144,0.062068030220543996,0.05785515779076382,0.0454924961266806,0.033777137143770175,0.023306174496343916,0.10412798220550365,0.13377005454325197,0.10402704301094678,0.07039358453384316,0.07333398104661865,0.05147842989624646,0.07442178279996621,0.08107722104152489,0.07318415070944642,0.06429025373772515,0.055249795512462445,0.03885301789838722,0.045996825090372735,0.033617394585625404,0.05731809547822718],\"yaxis\":\"y\",\"type\":\"scattergl\"},{\"customdata\":[[\"FL1:16 FL2:16 DR:0.3 BS:32 LR:0.0005\",\"[199, 96]\"],[\"FL1:16 FL2:16 DR:0.3 BS:32 LR:0.0005\",\"[199, 96]\"],[\"FL1:16 FL2:16 DR:0.3 BS:32 LR:0.0005\",\"[199, 96]\"],[\"FL1:16 FL2:16 DR:0.3 BS:32 LR:0.0005\",\"[199, 96]\"],[\"FL1:16 FL2:16 DR:0.3 BS:32 LR:0.0005\",\"[199, 96]\"],[\"FL1:16 FL2:16 DR:0.3 BS:32 LR:0.0005\",\"[199, 96]\"],[\"FL1:16 FL2:16 DR:0.3 BS:32 LR:0.0005\",\"[199, 96]\"],[\"FL1:16 FL2:16 DR:0.3 BS:32 LR:0.0005\",\"[199, 96]\"],[\"FL1:16 FL2:16 DR:0.3 BS:32 LR:0.0005\",\"[199, 96]\"],[\"FL1:16 FL2:16 DR:0.3 BS:32 LR:0.0005\",\"[199, 96]\"],[\"FL1:16 FL2:16 DR:0.3 BS:32 LR:0.0005\",\"[199, 96]\"],[\"FL1:16 FL2:16 DR:0.3 BS:32 LR:0.0005\",\"[199, 96]\"],[\"FL1:16 FL2:16 DR:0.3 BS:32 LR:0.0005\",\"[199, 96]\"],[\"FL1:16 FL2:16 DR:0.3 BS:32 LR:0.0005\",\"[199, 96]\"],[\"FL1:16 FL2:16 DR:0.3 BS:32 LR:0.0005\",\"[199, 96]\"],[\"FL1:16 FL2:16 DR:0.3 BS:32 LR:0.0005\",\"[199, 96]\"],[\"FL1:16 FL2:16 DR:0.3 BS:32 LR:0.0005\",\"[199, 96]\"],[\"FL1:16 FL2:16 DR:0.3 BS:32 LR:0.0005\",\"[199, 96]\"],[\"FL1:16 FL2:16 DR:0.3 BS:32 LR:0.0005\",\"[199, 96]\"],[\"FL1:16 FL2:16 DR:0.3 BS:32 LR:0.0005\",\"[199, 96]\"],[\"FL1:16 FL2:16 DR:0.3 BS:32 LR:0.0005\",\"[199, 96]\"],[\"FL1:16 FL2:16 DR:0.3 BS:32 LR:0.0005\",\"[199, 96]\"],[\"FL1:16 FL2:16 DR:0.3 BS:32 LR:0.0005\",\"[199, 96]\"],[\"FL1:16 FL2:16 DR:0.3 BS:32 LR:0.0005\",\"[199, 96]\"],[\"FL1:16 FL2:16 DR:0.3 BS:32 LR:0.0005\",\"[199, 96]\"],[\"FL1:16 FL2:16 DR:0.3 BS:32 LR:0.0005\",\"[199, 96]\"],[\"FL1:16 FL2:16 DR:0.3 BS:32 LR:0.0005\",\"[199, 96]\"],[\"FL1:16 FL2:16 DR:0.3 BS:32 LR:0.0005\",\"[199, 96]\"],[\"FL1:16 FL2:16 DR:0.3 BS:32 LR:0.0005\",\"[199, 96]\"],[\"FL1:16 FL2:16 DR:0.3 BS:32 LR:0.0005\",\"[199, 96]\"],[\"FL1:16 FL2:16 DR:0.3 BS:32 LR:0.0005\",\"[199, 96]\"],[\"FL1:16 FL2:16 DR:0.3 BS:32 LR:0.0005\",\"[199, 96]\"],[\"FL1:16 FL2:16 DR:0.3 BS:32 LR:0.0005\",\"[199, 96]\"],[\"FL1:16 FL2:16 DR:0.3 BS:32 LR:0.0005\",\"[199, 96]\"],[\"FL1:16 FL2:16 DR:0.3 BS:32 LR:0.0005\",\"[199, 96]\"],[\"FL1:16 FL2:16 DR:0.3 BS:32 LR:0.0005\",\"[199, 96]\"],[\"FL1:16 FL2:16 DR:0.3 BS:32 LR:0.0005\",\"[199, 96]\"],[\"FL1:16 FL2:16 DR:0.3 BS:32 LR:0.0005\",\"[199, 96]\"],[\"FL1:16 FL2:16 DR:0.3 BS:32 LR:0.0005\",\"[199, 96]\"],[\"FL1:16 FL2:16 DR:0.3 BS:32 LR:0.0005\",\"[199, 96]\"],[\"FL1:16 FL2:16 DR:0.3 BS:32 LR:0.0005\",\"[199, 96]\"],[\"FL1:16 FL2:16 DR:0.3 BS:32 LR:0.0005\",\"[199, 96]\"],[\"FL1:16 FL2:16 DR:0.3 BS:32 LR:0.0005\",\"[199, 96]\"],[\"FL1:16 FL2:16 DR:0.3 BS:32 LR:0.0005\",\"[199, 96]\"],[\"FL1:16 FL2:16 DR:0.3 BS:32 LR:0.0005\",\"[199, 96]\"],[\"FL1:16 FL2:16 DR:0.3 BS:32 LR:0.0005\",\"[199, 96]\"],[\"FL1:16 FL2:16 DR:0.3 BS:32 LR:0.0005\",\"[199, 96]\"],[\"FL1:16 FL2:16 DR:0.3 BS:32 LR:0.0005\",\"[199, 96]\"],[\"FL1:16 FL2:16 DR:0.3 BS:32 LR:0.0005\",\"[199, 96]\"],[\"FL1:16 FL2:16 DR:0.3 BS:32 LR:0.0005\",\"[199, 96]\"],[\"FL1:16 FL2:16 DR:0.3 BS:32 LR:0.0005\",\"[199, 96]\"],[\"FL1:16 FL2:16 DR:0.3 BS:32 LR:0.0005\",\"[199, 96]\"],[\"FL1:16 FL2:16 DR:0.3 BS:32 LR:0.0005\",\"[199, 96]\"],[\"FL1:16 FL2:16 DR:0.3 BS:32 LR:0.0005\",\"[199, 96]\"],[\"FL1:16 FL2:16 DR:0.3 BS:32 LR:0.0005\",\"[199, 96]\"],[\"FL1:16 FL2:16 DR:0.3 BS:32 LR:0.0005\",\"[199, 96]\"],[\"FL1:16 FL2:16 DR:0.3 BS:32 LR:0.0005\",\"[199, 96]\"],[\"FL1:16 FL2:16 DR:0.3 BS:32 LR:0.0005\",\"[199, 96]\"],[\"FL1:16 FL2:16 DR:0.3 BS:32 LR:0.0005\",\"[199, 96]\"],[\"FL1:16 FL2:16 DR:0.3 BS:32 LR:0.0005\",\"[199, 96]\"],[\"FL1:16 FL2:16 DR:0.3 BS:32 LR:0.0005\",\"[199, 96]\"],[\"FL1:16 FL2:16 DR:0.3 BS:32 LR:0.0005\",\"[199, 96]\"],[\"FL1:16 FL2:16 DR:0.3 BS:32 LR:0.0005\",\"[199, 96]\"],[\"FL1:16 FL2:16 DR:0.3 BS:32 LR:0.0005\",\"[199, 96]\"],[\"FL1:16 FL2:16 DR:0.3 BS:32 LR:0.0005\",\"[199, 96]\"],[\"FL1:16 FL2:16 DR:0.3 BS:32 LR:0.0005\",\"[199, 96]\"],[\"FL1:16 FL2:16 DR:0.3 BS:32 LR:0.0005\",\"[199, 96]\"],[\"FL1:16 FL2:16 DR:0.3 BS:32 LR:0.0005\",\"[199, 96]\"],[\"FL1:16 FL2:16 DR:0.3 BS:32 LR:0.0005\",\"[199, 96]\"],[\"FL1:16 FL2:16 DR:0.3 BS:32 LR:0.0005\",\"[199, 96]\"],[\"FL1:16 FL2:16 DR:0.3 BS:32 LR:0.0005\",\"[199, 96]\"],[\"FL1:16 FL2:16 DR:0.3 BS:32 LR:0.0005\",\"[199, 96]\"],[\"FL1:16 FL2:16 DR:0.3 BS:32 LR:0.0005\",\"[199, 96]\"],[\"FL1:16 FL2:16 DR:0.3 BS:32 LR:0.0005\",\"[199, 96]\"],[\"FL1:16 FL2:16 DR:0.3 BS:32 LR:0.0005\",\"[199, 96]\"],[\"FL1:16 FL2:16 DR:0.3 BS:32 LR:0.0005\",\"[199, 96]\"],[\"FL1:16 FL2:16 DR:0.3 BS:32 LR:0.0005\",\"[199, 96]\"],[\"FL1:16 FL2:16 DR:0.3 BS:32 LR:0.0005\",\"[199, 96]\"],[\"FL1:16 FL2:16 DR:0.3 BS:32 LR:0.0005\",\"[199, 96]\"],[\"FL1:16 FL2:16 DR:0.3 BS:32 LR:0.0005\",\"[199, 96]\"],[\"FL1:16 FL2:16 DR:0.3 BS:32 LR:0.0005\",\"[199, 96]\"],[\"FL1:16 FL2:16 DR:0.3 BS:32 LR:0.0005\",\"[199, 96]\"],[\"FL1:16 FL2:16 DR:0.3 BS:32 LR:0.0005\",\"[199, 96]\"],[\"FL1:16 FL2:16 DR:0.3 BS:32 LR:0.0005\",\"[199, 96]\"],[\"FL1:16 FL2:16 DR:0.3 BS:32 LR:0.0005\",\"[199, 96]\"],[\"FL1:16 FL2:16 DR:0.3 BS:32 LR:0.0005\",\"[199, 96]\"],[\"FL1:16 FL2:16 DR:0.3 BS:32 LR:0.0005\",\"[199, 96]\"],[\"FL1:16 FL2:16 DR:0.3 BS:32 LR:0.0005\",\"[199, 96]\"],[\"FL1:16 FL2:16 DR:0.3 BS:32 LR:0.0005\",\"[199, 96]\"],[\"FL1:16 FL2:16 DR:0.3 BS:32 LR:0.0005\",\"[199, 96]\"],[\"FL1:16 FL2:16 DR:0.3 BS:32 LR:0.0005\",\"[199, 96]\"],[\"FL1:16 FL2:16 DR:0.3 BS:32 LR:0.0005\",\"[199, 96]\"],[\"FL1:16 FL2:16 DR:0.3 BS:32 LR:0.0005\",\"[199, 96]\"],[\"FL1:16 FL2:16 DR:0.3 BS:32 LR:0.0005\",\"[199, 96]\"],[\"FL1:16 FL2:16 DR:0.3 BS:32 LR:0.0005\",\"[199, 96]\"],[\"FL1:16 FL2:16 DR:0.3 BS:32 LR:0.0005\",\"[199, 96]\"],[\"FL1:16 FL2:16 DR:0.3 BS:32 LR:0.0005\",\"[199, 96]\"],[\"FL1:16 FL2:16 DR:0.3 BS:32 LR:0.0005\",\"[199, 96]\"],[\"FL1:16 FL2:16 DR:0.3 BS:32 LR:0.0005\",\"[199, 96]\"],[\"FL1:16 FL2:16 DR:0.3 BS:32 LR:0.0005\",\"[199, 96]\"],[\"FL1:16 FL2:16 DR:0.3 BS:32 LR:0.0005\",\"[199, 96]\"],[\"FL1:16 FL2:16 DR:0.3 BS:32 LR:0.0005\",\"[199, 96]\"],[\"FL1:16 FL2:16 DR:0.3 BS:32 LR:0.0005\",\"[199, 96]\"],[\"FL1:16 FL2:16 DR:0.3 BS:32 LR:0.0005\",\"[199, 96]\"],[\"FL1:16 FL2:16 DR:0.3 BS:32 LR:0.0005\",\"[199, 96]\"],[\"FL1:16 FL2:16 DR:0.3 BS:32 LR:0.0005\",\"[199, 96]\"],[\"FL1:16 FL2:16 DR:0.3 BS:32 LR:0.0005\",\"[199, 96]\"],[\"FL1:16 FL2:16 DR:0.3 BS:32 LR:0.0005\",\"[199, 96]\"],[\"FL1:16 FL2:16 DR:0.3 BS:32 LR:0.0005\",\"[199, 96]\"],[\"FL1:16 FL2:16 DR:0.3 BS:32 LR:0.0005\",\"[199, 96]\"],[\"FL1:16 FL2:16 DR:0.3 BS:32 LR:0.0005\",\"[199, 96]\"],[\"FL1:16 FL2:16 DR:0.3 BS:32 LR:0.0005\",\"[199, 96]\"],[\"FL1:16 FL2:16 DR:0.3 BS:32 LR:0.0005\",\"[199, 96]\"],[\"FL1:16 FL2:16 DR:0.3 BS:32 LR:0.0005\",\"[199, 96]\"],[\"FL1:16 FL2:16 DR:0.3 BS:32 LR:0.0005\",\"[199, 96]\"],[\"FL1:16 FL2:16 DR:0.3 BS:32 LR:0.0005\",\"[199, 96]\"],[\"FL1:16 FL2:16 DR:0.3 BS:32 LR:0.0005\",\"[199, 96]\"],[\"FL1:16 FL2:16 DR:0.3 BS:32 LR:0.0005\",\"[199, 96]\"],[\"FL1:16 FL2:16 DR:0.3 BS:32 LR:0.0005\",\"[199, 96]\"],[\"FL1:16 FL2:16 DR:0.3 BS:32 LR:0.0005\",\"[199, 96]\"],[\"FL1:16 FL2:16 DR:0.3 BS:32 LR:0.0005\",\"[199, 96]\"],[\"FL1:16 FL2:16 DR:0.3 BS:32 LR:0.0005\",\"[199, 96]\"],[\"FL1:16 FL2:16 DR:0.3 BS:32 LR:0.0005\",\"[199, 96]\"],[\"FL1:16 FL2:16 DR:0.3 BS:32 LR:0.0005\",\"[199, 96]\"],[\"FL1:16 FL2:16 DR:0.3 BS:32 LR:0.0005\",\"[199, 96]\"],[\"FL1:16 FL2:16 DR:0.3 BS:32 LR:0.0005\",\"[199, 96]\"],[\"FL1:16 FL2:16 DR:0.3 BS:32 LR:0.0005\",\"[199, 96]\"],[\"FL1:16 FL2:16 DR:0.3 BS:32 LR:0.0005\",\"[199, 96]\"],[\"FL1:16 FL2:16 DR:0.3 BS:32 LR:0.0005\",\"[199, 96]\"],[\"FL1:16 FL2:16 DR:0.3 BS:32 LR:0.0005\",\"[199, 96]\"],[\"FL1:16 FL2:16 DR:0.3 BS:32 LR:0.0005\",\"[199, 96]\"],[\"FL1:16 FL2:16 DR:0.3 BS:32 LR:0.0005\",\"[199, 96]\"],[\"FL1:16 FL2:16 DR:0.3 BS:32 LR:0.0005\",\"[199, 96]\"],[\"FL1:16 FL2:16 DR:0.3 BS:32 LR:0.0005\",\"[199, 96]\"],[\"FL1:16 FL2:16 DR:0.3 BS:32 LR:0.0005\",\"[199, 96]\"],[\"FL1:16 FL2:16 DR:0.3 BS:32 LR:0.0005\",\"[199, 96]\"],[\"FL1:16 FL2:16 DR:0.3 BS:32 LR:0.0005\",\"[199, 96]\"],[\"FL1:16 FL2:16 DR:0.3 BS:32 LR:0.0005\",\"[199, 96]\"],[\"FL1:16 FL2:16 DR:0.3 BS:32 LR:0.0005\",\"[199, 96]\"],[\"FL1:16 FL2:16 DR:0.3 BS:32 LR:0.0005\",\"[199, 96]\"],[\"FL1:16 FL2:16 DR:0.3 BS:32 LR:0.0005\",\"[199, 96]\"],[\"FL1:16 FL2:16 DR:0.3 BS:32 LR:0.0005\",\"[199, 96]\"],[\"FL1:16 FL2:16 DR:0.3 BS:32 LR:0.0005\",\"[199, 96]\"],[\"FL1:16 FL2:16 DR:0.3 BS:32 LR:0.0005\",\"[199, 96]\"],[\"FL1:16 FL2:16 DR:0.3 BS:32 LR:0.0005\",\"[199, 96]\"],[\"FL1:16 FL2:16 DR:0.3 BS:32 LR:0.0005\",\"[199, 96]\"],[\"FL1:16 FL2:16 DR:0.3 BS:32 LR:0.0005\",\"[199, 96]\"],[\"FL1:16 FL2:16 DR:0.3 BS:32 LR:0.0005\",\"[199, 96]\"],[\"FL1:16 FL2:16 DR:0.3 BS:32 LR:0.0005\",\"[199, 96]\"],[\"FL1:16 FL2:16 DR:0.3 BS:32 LR:0.0005\",\"[199, 96]\"],[\"FL1:16 FL2:16 DR:0.3 BS:32 LR:0.0005\",\"[199, 96]\"],[\"FL1:16 FL2:16 DR:0.3 BS:32 LR:0.0005\",\"[199, 96]\"],[\"FL1:16 FL2:16 DR:0.3 BS:32 LR:0.0005\",\"[199, 96]\"],[\"FL1:16 FL2:16 DR:0.3 BS:32 LR:0.0005\",\"[199, 96]\"],[\"FL1:16 FL2:16 DR:0.3 BS:32 LR:0.0005\",\"[199, 96]\"],[\"FL1:16 FL2:16 DR:0.3 BS:32 LR:0.0005\",\"[199, 96]\"],[\"FL1:16 FL2:16 DR:0.3 BS:32 LR:0.0005\",\"[199, 96]\"],[\"FL1:16 FL2:16 DR:0.3 BS:32 LR:0.0005\",\"[199, 96]\"],[\"FL1:16 FL2:16 DR:0.3 BS:32 LR:0.0005\",\"[199, 96]\"],[\"FL1:16 FL2:16 DR:0.3 BS:32 LR:0.0005\",\"[199, 96]\"],[\"FL1:16 FL2:16 DR:0.3 BS:32 LR:0.0005\",\"[199, 96]\"],[\"FL1:16 FL2:16 DR:0.3 BS:32 LR:0.0005\",\"[199, 96]\"],[\"FL1:16 FL2:16 DR:0.3 BS:32 LR:0.0005\",\"[199, 96]\"],[\"FL1:16 FL2:16 DR:0.3 BS:32 LR:0.0005\",\"[199, 96]\"],[\"FL1:16 FL2:16 DR:0.3 BS:32 LR:0.0005\",\"[199, 96]\"],[\"FL1:16 FL2:16 DR:0.3 BS:32 LR:0.0005\",\"[199, 96]\"],[\"FL1:16 FL2:16 DR:0.3 BS:32 LR:0.0005\",\"[199, 96]\"],[\"FL1:16 FL2:16 DR:0.3 BS:32 LR:0.0005\",\"[199, 96]\"],[\"FL1:16 FL2:16 DR:0.3 BS:32 LR:0.0005\",\"[199, 96]\"],[\"FL1:16 FL2:16 DR:0.3 BS:32 LR:0.0005\",\"[199, 96]\"],[\"FL1:16 FL2:16 DR:0.3 BS:32 LR:0.0005\",\"[199, 96]\"],[\"FL1:16 FL2:16 DR:0.3 BS:32 LR:0.0005\",\"[199, 96]\"],[\"FL1:16 FL2:16 DR:0.3 BS:32 LR:0.0005\",\"[199, 96]\"],[\"FL1:16 FL2:16 DR:0.3 BS:32 LR:0.0005\",\"[199, 96]\"],[\"FL1:16 FL2:16 DR:0.3 BS:32 LR:0.0005\",\"[199, 96]\"],[\"FL1:16 FL2:16 DR:0.3 BS:32 LR:0.0005\",\"[199, 96]\"],[\"FL1:16 FL2:16 DR:0.3 BS:32 LR:0.0005\",\"[199, 96]\"],[\"FL1:16 FL2:16 DR:0.3 BS:32 LR:0.0005\",\"[199, 96]\"],[\"FL1:16 FL2:16 DR:0.3 BS:32 LR:0.0005\",\"[199, 96]\"],[\"FL1:16 FL2:16 DR:0.3 BS:32 LR:0.0005\",\"[199, 96]\"],[\"FL1:16 FL2:16 DR:0.3 BS:32 LR:0.0005\",\"[199, 96]\"],[\"FL1:16 FL2:16 DR:0.3 BS:32 LR:0.0005\",\"[199, 96]\"],[\"FL1:16 FL2:16 DR:0.3 BS:32 LR:0.0005\",\"[199, 96]\"],[\"FL1:16 FL2:16 DR:0.3 BS:32 LR:0.0005\",\"[199, 96]\"],[\"FL1:16 FL2:16 DR:0.3 BS:32 LR:0.0005\",\"[199, 96]\"],[\"FL1:16 FL2:16 DR:0.3 BS:32 LR:0.0005\",\"[199, 96]\"],[\"FL1:16 FL2:16 DR:0.3 BS:32 LR:0.0005\",\"[199, 96]\"],[\"FL1:16 FL2:16 DR:0.3 BS:32 LR:0.0005\",\"[199, 96]\"],[\"FL1:16 FL2:16 DR:0.3 BS:32 LR:0.0005\",\"[199, 96]\"],[\"FL1:16 FL2:16 DR:0.3 BS:32 LR:0.0005\",\"[199, 96]\"],[\"FL1:16 FL2:16 DR:0.3 BS:32 LR:0.0005\",\"[199, 96]\"],[\"FL1:16 FL2:16 DR:0.3 BS:32 LR:0.0005\",\"[199, 96]\"],[\"FL1:16 FL2:16 DR:0.3 BS:32 LR:0.0005\",\"[199, 96]\"],[\"FL1:16 FL2:16 DR:0.3 BS:32 LR:0.0005\",\"[199, 96]\"],[\"FL1:16 FL2:16 DR:0.3 BS:32 LR:0.0005\",\"[199, 96]\"],[\"FL1:16 FL2:16 DR:0.3 BS:32 LR:0.0005\",\"[199, 96]\"],[\"FL1:16 FL2:16 DR:0.3 BS:32 LR:0.0005\",\"[199, 96]\"],[\"FL1:16 FL2:16 DR:0.3 BS:32 LR:0.0005\",\"[199, 96]\"],[\"FL1:16 FL2:16 DR:0.3 BS:32 LR:0.0005\",\"[199, 96]\"],[\"FL1:16 FL2:16 DR:0.3 BS:32 LR:0.0005\",\"[199, 96]\"]],\"hovertemplate\":\"variable=train_loss\\u003cbr\\u003etrial_id=802fd_00089\\u003cbr\\u003eepoch=%{x}\\u003cbr\\u003evalue=%{y}\\u003cbr\\u003eHyperparameters=%{customdata[0]}\\u003cbr\\u003echeckpoints=%{customdata[1]}\\u003cextra\\u003e\\u003c\\u002fextra\\u003e\",\"legendgroup\":\"train_loss, 802fd_00089\",\"line\":{\"color\":\"#EF553B\",\"dash\":\"dash\"},\"marker\":{\"symbol\":\"circle\"},\"mode\":\"lines\",\"name\":\"train_loss, 802fd_00089\",\"showlegend\":true,\"x\":[0,1,2,3,4,5,6,7,8,9,10,11,12,13,14,15,16,17,18,19,20,21,22,23,24,25,26,27,28,29,30,31,32,33,34,35,36,37,38,39,40,41,42,43,44,45,46,47,48,49,50,51,52,53,54,55,56,57,58,59,60,61,62,63,64,65,66,67,68,69,70,71,72,73,74,75,76,77,78,79,80,81,82,83,84,85,86,87,88,89,90,91,92,93,94,95,96,97,98,99,100,101,102,103,104,105,106,107,108,109,110,111,112,113,114,115,116,117,118,119,120,121,122,123,124,125,126,127,128,129,130,131,132,133,134,135,136,137,138,139,140,141,142,143,144,145,146,147,148,149,150,151,152,153,154,155,156,157,158,159,160,161,162,163,164,165,166,167,168,169,170,171,172,173,174,175,176,177,178,179,180,181,182,183,184,185,186,187,188,189,190,191,192,193,194,195,196,197,198,199],\"xaxis\":\"x\",\"y\":[0.43907058238983043,0.42337060968080986,0.43299827641910754,0.3618757371549233,0.2703644497159071,0.19397039052267512,0.23457476057224488,0.18905213182246014,0.21207459572338547,0.2750871996308919,0.36033659645090743,0.3024167532269833,0.2438774780793106,0.28740264484373074,0.24141536659060114,0.23865344627736748,0.23234782784540559,0.2035071927266588,0.1775461635958662,0.19313336756305577,0.24218790628166037,0.2826528575529714,0.2628120002819467,0.19108889162032913,0.16636095136065662,0.14895165423326584,0.12955220099802056,0.13786330856558474,0.09705820921925562,0.11444284183361661,0.1249210696258709,0.13144144984341724,0.09811355055873296,0.07076740745209786,0.10177320065434159,0.07576344355003949,0.11134176581473383,0.12767857233266813,0.10746602412449492,0.18164668279480303,0.2667700701130179,0.2084706460881726,0.17511381195310038,0.1532229556727624,0.1823718795569875,0.15882079464807336,0.12773699421097304,0.16220613392465236,0.14954526356374473,0.1894684210851136,0.17178948723172732,0.1407354358361533,0.12849451078483573,0.17519734947886076,0.17195893426077857,0.2463177912721181,0.17542742222806762,0.1323175779995715,0.1262999335605165,0.09053786473494503,0.06682008754559174,0.0638920532421787,0.05386617021471383,0.0751998672002559,0.07104766776919383,0.07142173770904534,0.06745619756539642,0.0645360962884953,0.07392612207845363,0.057947651893996525,0.04163746004376363,0.06957253956181146,0.08997119064716688,0.10392043388941649,0.11260340377396154,0.10458903769457192,0.11647375927901135,0.07948397083604246,0.06792859598016668,0.10720951765123912,0.09001717408063602,0.07693650616250153,0.20813967316045723,0.1590954626016772,0.13885962727420545,0.09293976653172664,0.06735832085082323,0.16046690338101163,0.167283287599657,0.15497456885375813,0.23101973796551817,0.18996607439163898,0.14038727259598546,0.14000917855873585,0.13792685094127938,0.17886707466608812,0.1459857368255092,0.11444928331735604,0.11926547576031965,0.10023566179170779,0.19374618326753,0.24733521802643596,0.17386869908816052,0.1343358457680968,0.0911576138272999,0.19654619603257067,0.1601067005521765,0.143676110037612,0.3855857702946954,0.26833239216647486,0.19637503239209073,0.1924910032927629,0.19423514665362762,0.13789374856450506,0.09882469543681102,0.14017871067832227,0.11376984820372721,0.07676552124412928,0.08744507705232853,0.059460796747349054,0.13768432063112077,0.1434722130315129,0.1314410317153811,0.11987476618495756,0.10794818034706608,0.08598976462045031,0.07817719796603717,0.079145798546114,0.059248554888393076,0.06477575959962294,0.04571621586474565,0.09009753975333583,0.10975684764028759,0.08499005174995235,0.11283808772008093,0.07635431488369385,0.06715239418887073,0.22814197231228334,0.17351095718738213,0.12568969692685047,0.09412633654738684,0.17925237137254801,0.13762299107628867,0.17900851956418956,0.17496836577131847,0.11708502464809431,0.07808940747479894,0.09242922739254271,0.07627913927745038,0.079675253568167,0.25603403405220787,0.179160617123852,0.12615723896742514,0.10679533573468941,0.11758135916445234,0.08379320183001339,0.0800650451156984,0.05834607598755027,0.15705779074015308,0.12499967757782715,0.08540120382596303,0.06897485651565419,0.07330584044584164,0.19891397830730254,0.15186742189450764,0.17691286565809528,0.20699704131781382,0.14634757719138805,0.13100961749222215,0.10806289293346347,0.08305048679628324,0.05928901035135551,0.04021373778756664,0.02961690299329624,0.0471558716404268,0.06861636019467146,0.06134594588954456,0.051575706548023195,0.05631174968118647,0.0396010540831266,0.05243736011506288,0.06555967448632674,0.04641833216187524,0.03563339085785653,0.06143274536667972,0.061023738274565566,0.1187250639263725,0.12083866366174031,0.09710939547039528,0.15142792675639102,0.10620869154728055,0.1012106799747981,0.11737169084724003,0.11771329828617419,0.1124246217377809,0.08385114769590074,0.0837186204092512,0.10474614810260163,0.07400233057679083,0.09119976896406079],\"yaxis\":\"y\",\"type\":\"scattergl\"},{\"customdata\":[[\"FL1:32 FL2:256 DR:0.3 BS:64 LR:0.005\",\"[199, 173]\"],[\"FL1:32 FL2:256 DR:0.3 BS:64 LR:0.005\",\"[199, 173]\"],[\"FL1:32 FL2:256 DR:0.3 BS:64 LR:0.005\",\"[199, 173]\"],[\"FL1:32 FL2:256 DR:0.3 BS:64 LR:0.005\",\"[199, 173]\"],[\"FL1:32 FL2:256 DR:0.3 BS:64 LR:0.005\",\"[199, 173]\"],[\"FL1:32 FL2:256 DR:0.3 BS:64 LR:0.005\",\"[199, 173]\"],[\"FL1:32 FL2:256 DR:0.3 BS:64 LR:0.005\",\"[199, 173]\"],[\"FL1:32 FL2:256 DR:0.3 BS:64 LR:0.005\",\"[199, 173]\"],[\"FL1:32 FL2:256 DR:0.3 BS:64 LR:0.005\",\"[199, 173]\"],[\"FL1:32 FL2:256 DR:0.3 BS:64 LR:0.005\",\"[199, 173]\"],[\"FL1:32 FL2:256 DR:0.3 BS:64 LR:0.005\",\"[199, 173]\"],[\"FL1:32 FL2:256 DR:0.3 BS:64 LR:0.005\",\"[199, 173]\"],[\"FL1:32 FL2:256 DR:0.3 BS:64 LR:0.005\",\"[199, 173]\"],[\"FL1:32 FL2:256 DR:0.3 BS:64 LR:0.005\",\"[199, 173]\"],[\"FL1:32 FL2:256 DR:0.3 BS:64 LR:0.005\",\"[199, 173]\"],[\"FL1:32 FL2:256 DR:0.3 BS:64 LR:0.005\",\"[199, 173]\"],[\"FL1:32 FL2:256 DR:0.3 BS:64 LR:0.005\",\"[199, 173]\"],[\"FL1:32 FL2:256 DR:0.3 BS:64 LR:0.005\",\"[199, 173]\"],[\"FL1:32 FL2:256 DR:0.3 BS:64 LR:0.005\",\"[199, 173]\"],[\"FL1:32 FL2:256 DR:0.3 BS:64 LR:0.005\",\"[199, 173]\"],[\"FL1:32 FL2:256 DR:0.3 BS:64 LR:0.005\",\"[199, 173]\"],[\"FL1:32 FL2:256 DR:0.3 BS:64 LR:0.005\",\"[199, 173]\"],[\"FL1:32 FL2:256 DR:0.3 BS:64 LR:0.005\",\"[199, 173]\"],[\"FL1:32 FL2:256 DR:0.3 BS:64 LR:0.005\",\"[199, 173]\"],[\"FL1:32 FL2:256 DR:0.3 BS:64 LR:0.005\",\"[199, 173]\"],[\"FL1:32 FL2:256 DR:0.3 BS:64 LR:0.005\",\"[199, 173]\"],[\"FL1:32 FL2:256 DR:0.3 BS:64 LR:0.005\",\"[199, 173]\"],[\"FL1:32 FL2:256 DR:0.3 BS:64 LR:0.005\",\"[199, 173]\"],[\"FL1:32 FL2:256 DR:0.3 BS:64 LR:0.005\",\"[199, 173]\"],[\"FL1:32 FL2:256 DR:0.3 BS:64 LR:0.005\",\"[199, 173]\"],[\"FL1:32 FL2:256 DR:0.3 BS:64 LR:0.005\",\"[199, 173]\"],[\"FL1:32 FL2:256 DR:0.3 BS:64 LR:0.005\",\"[199, 173]\"],[\"FL1:32 FL2:256 DR:0.3 BS:64 LR:0.005\",\"[199, 173]\"],[\"FL1:32 FL2:256 DR:0.3 BS:64 LR:0.005\",\"[199, 173]\"],[\"FL1:32 FL2:256 DR:0.3 BS:64 LR:0.005\",\"[199, 173]\"],[\"FL1:32 FL2:256 DR:0.3 BS:64 LR:0.005\",\"[199, 173]\"],[\"FL1:32 FL2:256 DR:0.3 BS:64 LR:0.005\",\"[199, 173]\"],[\"FL1:32 FL2:256 DR:0.3 BS:64 LR:0.005\",\"[199, 173]\"],[\"FL1:32 FL2:256 DR:0.3 BS:64 LR:0.005\",\"[199, 173]\"],[\"FL1:32 FL2:256 DR:0.3 BS:64 LR:0.005\",\"[199, 173]\"],[\"FL1:32 FL2:256 DR:0.3 BS:64 LR:0.005\",\"[199, 173]\"],[\"FL1:32 FL2:256 DR:0.3 BS:64 LR:0.005\",\"[199, 173]\"],[\"FL1:32 FL2:256 DR:0.3 BS:64 LR:0.005\",\"[199, 173]\"],[\"FL1:32 FL2:256 DR:0.3 BS:64 LR:0.005\",\"[199, 173]\"],[\"FL1:32 FL2:256 DR:0.3 BS:64 LR:0.005\",\"[199, 173]\"],[\"FL1:32 FL2:256 DR:0.3 BS:64 LR:0.005\",\"[199, 173]\"],[\"FL1:32 FL2:256 DR:0.3 BS:64 LR:0.005\",\"[199, 173]\"],[\"FL1:32 FL2:256 DR:0.3 BS:64 LR:0.005\",\"[199, 173]\"],[\"FL1:32 FL2:256 DR:0.3 BS:64 LR:0.005\",\"[199, 173]\"],[\"FL1:32 FL2:256 DR:0.3 BS:64 LR:0.005\",\"[199, 173]\"],[\"FL1:32 FL2:256 DR:0.3 BS:64 LR:0.005\",\"[199, 173]\"],[\"FL1:32 FL2:256 DR:0.3 BS:64 LR:0.005\",\"[199, 173]\"],[\"FL1:32 FL2:256 DR:0.3 BS:64 LR:0.005\",\"[199, 173]\"],[\"FL1:32 FL2:256 DR:0.3 BS:64 LR:0.005\",\"[199, 173]\"],[\"FL1:32 FL2:256 DR:0.3 BS:64 LR:0.005\",\"[199, 173]\"],[\"FL1:32 FL2:256 DR:0.3 BS:64 LR:0.005\",\"[199, 173]\"],[\"FL1:32 FL2:256 DR:0.3 BS:64 LR:0.005\",\"[199, 173]\"],[\"FL1:32 FL2:256 DR:0.3 BS:64 LR:0.005\",\"[199, 173]\"],[\"FL1:32 FL2:256 DR:0.3 BS:64 LR:0.005\",\"[199, 173]\"],[\"FL1:32 FL2:256 DR:0.3 BS:64 LR:0.005\",\"[199, 173]\"],[\"FL1:32 FL2:256 DR:0.3 BS:64 LR:0.005\",\"[199, 173]\"],[\"FL1:32 FL2:256 DR:0.3 BS:64 LR:0.005\",\"[199, 173]\"],[\"FL1:32 FL2:256 DR:0.3 BS:64 LR:0.005\",\"[199, 173]\"],[\"FL1:32 FL2:256 DR:0.3 BS:64 LR:0.005\",\"[199, 173]\"],[\"FL1:32 FL2:256 DR:0.3 BS:64 LR:0.005\",\"[199, 173]\"],[\"FL1:32 FL2:256 DR:0.3 BS:64 LR:0.005\",\"[199, 173]\"],[\"FL1:32 FL2:256 DR:0.3 BS:64 LR:0.005\",\"[199, 173]\"],[\"FL1:32 FL2:256 DR:0.3 BS:64 LR:0.005\",\"[199, 173]\"],[\"FL1:32 FL2:256 DR:0.3 BS:64 LR:0.005\",\"[199, 173]\"],[\"FL1:32 FL2:256 DR:0.3 BS:64 LR:0.005\",\"[199, 173]\"],[\"FL1:32 FL2:256 DR:0.3 BS:64 LR:0.005\",\"[199, 173]\"],[\"FL1:32 FL2:256 DR:0.3 BS:64 LR:0.005\",\"[199, 173]\"],[\"FL1:32 FL2:256 DR:0.3 BS:64 LR:0.005\",\"[199, 173]\"],[\"FL1:32 FL2:256 DR:0.3 BS:64 LR:0.005\",\"[199, 173]\"],[\"FL1:32 FL2:256 DR:0.3 BS:64 LR:0.005\",\"[199, 173]\"],[\"FL1:32 FL2:256 DR:0.3 BS:64 LR:0.005\",\"[199, 173]\"],[\"FL1:32 FL2:256 DR:0.3 BS:64 LR:0.005\",\"[199, 173]\"],[\"FL1:32 FL2:256 DR:0.3 BS:64 LR:0.005\",\"[199, 173]\"],[\"FL1:32 FL2:256 DR:0.3 BS:64 LR:0.005\",\"[199, 173]\"],[\"FL1:32 FL2:256 DR:0.3 BS:64 LR:0.005\",\"[199, 173]\"],[\"FL1:32 FL2:256 DR:0.3 BS:64 LR:0.005\",\"[199, 173]\"],[\"FL1:32 FL2:256 DR:0.3 BS:64 LR:0.005\",\"[199, 173]\"],[\"FL1:32 FL2:256 DR:0.3 BS:64 LR:0.005\",\"[199, 173]\"],[\"FL1:32 FL2:256 DR:0.3 BS:64 LR:0.005\",\"[199, 173]\"],[\"FL1:32 FL2:256 DR:0.3 BS:64 LR:0.005\",\"[199, 173]\"],[\"FL1:32 FL2:256 DR:0.3 BS:64 LR:0.005\",\"[199, 173]\"],[\"FL1:32 FL2:256 DR:0.3 BS:64 LR:0.005\",\"[199, 173]\"],[\"FL1:32 FL2:256 DR:0.3 BS:64 LR:0.005\",\"[199, 173]\"],[\"FL1:32 FL2:256 DR:0.3 BS:64 LR:0.005\",\"[199, 173]\"],[\"FL1:32 FL2:256 DR:0.3 BS:64 LR:0.005\",\"[199, 173]\"],[\"FL1:32 FL2:256 DR:0.3 BS:64 LR:0.005\",\"[199, 173]\"],[\"FL1:32 FL2:256 DR:0.3 BS:64 LR:0.005\",\"[199, 173]\"],[\"FL1:32 FL2:256 DR:0.3 BS:64 LR:0.005\",\"[199, 173]\"],[\"FL1:32 FL2:256 DR:0.3 BS:64 LR:0.005\",\"[199, 173]\"],[\"FL1:32 FL2:256 DR:0.3 BS:64 LR:0.005\",\"[199, 173]\"],[\"FL1:32 FL2:256 DR:0.3 BS:64 LR:0.005\",\"[199, 173]\"],[\"FL1:32 FL2:256 DR:0.3 BS:64 LR:0.005\",\"[199, 173]\"],[\"FL1:32 FL2:256 DR:0.3 BS:64 LR:0.005\",\"[199, 173]\"],[\"FL1:32 FL2:256 DR:0.3 BS:64 LR:0.005\",\"[199, 173]\"],[\"FL1:32 FL2:256 DR:0.3 BS:64 LR:0.005\",\"[199, 173]\"],[\"FL1:32 FL2:256 DR:0.3 BS:64 LR:0.005\",\"[199, 173]\"],[\"FL1:32 FL2:256 DR:0.3 BS:64 LR:0.005\",\"[199, 173]\"],[\"FL1:32 FL2:256 DR:0.3 BS:64 LR:0.005\",\"[199, 173]\"],[\"FL1:32 FL2:256 DR:0.3 BS:64 LR:0.005\",\"[199, 173]\"],[\"FL1:32 FL2:256 DR:0.3 BS:64 LR:0.005\",\"[199, 173]\"],[\"FL1:32 FL2:256 DR:0.3 BS:64 LR:0.005\",\"[199, 173]\"],[\"FL1:32 FL2:256 DR:0.3 BS:64 LR:0.005\",\"[199, 173]\"],[\"FL1:32 FL2:256 DR:0.3 BS:64 LR:0.005\",\"[199, 173]\"],[\"FL1:32 FL2:256 DR:0.3 BS:64 LR:0.005\",\"[199, 173]\"],[\"FL1:32 FL2:256 DR:0.3 BS:64 LR:0.005\",\"[199, 173]\"],[\"FL1:32 FL2:256 DR:0.3 BS:64 LR:0.005\",\"[199, 173]\"],[\"FL1:32 FL2:256 DR:0.3 BS:64 LR:0.005\",\"[199, 173]\"],[\"FL1:32 FL2:256 DR:0.3 BS:64 LR:0.005\",\"[199, 173]\"],[\"FL1:32 FL2:256 DR:0.3 BS:64 LR:0.005\",\"[199, 173]\"],[\"FL1:32 FL2:256 DR:0.3 BS:64 LR:0.005\",\"[199, 173]\"],[\"FL1:32 FL2:256 DR:0.3 BS:64 LR:0.005\",\"[199, 173]\"],[\"FL1:32 FL2:256 DR:0.3 BS:64 LR:0.005\",\"[199, 173]\"],[\"FL1:32 FL2:256 DR:0.3 BS:64 LR:0.005\",\"[199, 173]\"],[\"FL1:32 FL2:256 DR:0.3 BS:64 LR:0.005\",\"[199, 173]\"],[\"FL1:32 FL2:256 DR:0.3 BS:64 LR:0.005\",\"[199, 173]\"],[\"FL1:32 FL2:256 DR:0.3 BS:64 LR:0.005\",\"[199, 173]\"],[\"FL1:32 FL2:256 DR:0.3 BS:64 LR:0.005\",\"[199, 173]\"],[\"FL1:32 FL2:256 DR:0.3 BS:64 LR:0.005\",\"[199, 173]\"],[\"FL1:32 FL2:256 DR:0.3 BS:64 LR:0.005\",\"[199, 173]\"],[\"FL1:32 FL2:256 DR:0.3 BS:64 LR:0.005\",\"[199, 173]\"],[\"FL1:32 FL2:256 DR:0.3 BS:64 LR:0.005\",\"[199, 173]\"],[\"FL1:32 FL2:256 DR:0.3 BS:64 LR:0.005\",\"[199, 173]\"],[\"FL1:32 FL2:256 DR:0.3 BS:64 LR:0.005\",\"[199, 173]\"],[\"FL1:32 FL2:256 DR:0.3 BS:64 LR:0.005\",\"[199, 173]\"],[\"FL1:32 FL2:256 DR:0.3 BS:64 LR:0.005\",\"[199, 173]\"],[\"FL1:32 FL2:256 DR:0.3 BS:64 LR:0.005\",\"[199, 173]\"],[\"FL1:32 FL2:256 DR:0.3 BS:64 LR:0.005\",\"[199, 173]\"],[\"FL1:32 FL2:256 DR:0.3 BS:64 LR:0.005\",\"[199, 173]\"],[\"FL1:32 FL2:256 DR:0.3 BS:64 LR:0.005\",\"[199, 173]\"],[\"FL1:32 FL2:256 DR:0.3 BS:64 LR:0.005\",\"[199, 173]\"],[\"FL1:32 FL2:256 DR:0.3 BS:64 LR:0.005\",\"[199, 173]\"],[\"FL1:32 FL2:256 DR:0.3 BS:64 LR:0.005\",\"[199, 173]\"],[\"FL1:32 FL2:256 DR:0.3 BS:64 LR:0.005\",\"[199, 173]\"],[\"FL1:32 FL2:256 DR:0.3 BS:64 LR:0.005\",\"[199, 173]\"],[\"FL1:32 FL2:256 DR:0.3 BS:64 LR:0.005\",\"[199, 173]\"],[\"FL1:32 FL2:256 DR:0.3 BS:64 LR:0.005\",\"[199, 173]\"],[\"FL1:32 FL2:256 DR:0.3 BS:64 LR:0.005\",\"[199, 173]\"],[\"FL1:32 FL2:256 DR:0.3 BS:64 LR:0.005\",\"[199, 173]\"],[\"FL1:32 FL2:256 DR:0.3 BS:64 LR:0.005\",\"[199, 173]\"],[\"FL1:32 FL2:256 DR:0.3 BS:64 LR:0.005\",\"[199, 173]\"],[\"FL1:32 FL2:256 DR:0.3 BS:64 LR:0.005\",\"[199, 173]\"],[\"FL1:32 FL2:256 DR:0.3 BS:64 LR:0.005\",\"[199, 173]\"],[\"FL1:32 FL2:256 DR:0.3 BS:64 LR:0.005\",\"[199, 173]\"],[\"FL1:32 FL2:256 DR:0.3 BS:64 LR:0.005\",\"[199, 173]\"],[\"FL1:32 FL2:256 DR:0.3 BS:64 LR:0.005\",\"[199, 173]\"],[\"FL1:32 FL2:256 DR:0.3 BS:64 LR:0.005\",\"[199, 173]\"],[\"FL1:32 FL2:256 DR:0.3 BS:64 LR:0.005\",\"[199, 173]\"],[\"FL1:32 FL2:256 DR:0.3 BS:64 LR:0.005\",\"[199, 173]\"],[\"FL1:32 FL2:256 DR:0.3 BS:64 LR:0.005\",\"[199, 173]\"],[\"FL1:32 FL2:256 DR:0.3 BS:64 LR:0.005\",\"[199, 173]\"],[\"FL1:32 FL2:256 DR:0.3 BS:64 LR:0.005\",\"[199, 173]\"],[\"FL1:32 FL2:256 DR:0.3 BS:64 LR:0.005\",\"[199, 173]\"],[\"FL1:32 FL2:256 DR:0.3 BS:64 LR:0.005\",\"[199, 173]\"],[\"FL1:32 FL2:256 DR:0.3 BS:64 LR:0.005\",\"[199, 173]\"],[\"FL1:32 FL2:256 DR:0.3 BS:64 LR:0.005\",\"[199, 173]\"],[\"FL1:32 FL2:256 DR:0.3 BS:64 LR:0.005\",\"[199, 173]\"],[\"FL1:32 FL2:256 DR:0.3 BS:64 LR:0.005\",\"[199, 173]\"],[\"FL1:32 FL2:256 DR:0.3 BS:64 LR:0.005\",\"[199, 173]\"],[\"FL1:32 FL2:256 DR:0.3 BS:64 LR:0.005\",\"[199, 173]\"],[\"FL1:32 FL2:256 DR:0.3 BS:64 LR:0.005\",\"[199, 173]\"],[\"FL1:32 FL2:256 DR:0.3 BS:64 LR:0.005\",\"[199, 173]\"],[\"FL1:32 FL2:256 DR:0.3 BS:64 LR:0.005\",\"[199, 173]\"],[\"FL1:32 FL2:256 DR:0.3 BS:64 LR:0.005\",\"[199, 173]\"],[\"FL1:32 FL2:256 DR:0.3 BS:64 LR:0.005\",\"[199, 173]\"],[\"FL1:32 FL2:256 DR:0.3 BS:64 LR:0.005\",\"[199, 173]\"],[\"FL1:32 FL2:256 DR:0.3 BS:64 LR:0.005\",\"[199, 173]\"],[\"FL1:32 FL2:256 DR:0.3 BS:64 LR:0.005\",\"[199, 173]\"],[\"FL1:32 FL2:256 DR:0.3 BS:64 LR:0.005\",\"[199, 173]\"],[\"FL1:32 FL2:256 DR:0.3 BS:64 LR:0.005\",\"[199, 173]\"],[\"FL1:32 FL2:256 DR:0.3 BS:64 LR:0.005\",\"[199, 173]\"],[\"FL1:32 FL2:256 DR:0.3 BS:64 LR:0.005\",\"[199, 173]\"],[\"FL1:32 FL2:256 DR:0.3 BS:64 LR:0.005\",\"[199, 173]\"],[\"FL1:32 FL2:256 DR:0.3 BS:64 LR:0.005\",\"[199, 173]\"],[\"FL1:32 FL2:256 DR:0.3 BS:64 LR:0.005\",\"[199, 173]\"],[\"FL1:32 FL2:256 DR:0.3 BS:64 LR:0.005\",\"[199, 173]\"],[\"FL1:32 FL2:256 DR:0.3 BS:64 LR:0.005\",\"[199, 173]\"],[\"FL1:32 FL2:256 DR:0.3 BS:64 LR:0.005\",\"[199, 173]\"],[\"FL1:32 FL2:256 DR:0.3 BS:64 LR:0.005\",\"[199, 173]\"],[\"FL1:32 FL2:256 DR:0.3 BS:64 LR:0.005\",\"[199, 173]\"],[\"FL1:32 FL2:256 DR:0.3 BS:64 LR:0.005\",\"[199, 173]\"],[\"FL1:32 FL2:256 DR:0.3 BS:64 LR:0.005\",\"[199, 173]\"],[\"FL1:32 FL2:256 DR:0.3 BS:64 LR:0.005\",\"[199, 173]\"],[\"FL1:32 FL2:256 DR:0.3 BS:64 LR:0.005\",\"[199, 173]\"],[\"FL1:32 FL2:256 DR:0.3 BS:64 LR:0.005\",\"[199, 173]\"],[\"FL1:32 FL2:256 DR:0.3 BS:64 LR:0.005\",\"[199, 173]\"],[\"FL1:32 FL2:256 DR:0.3 BS:64 LR:0.005\",\"[199, 173]\"],[\"FL1:32 FL2:256 DR:0.3 BS:64 LR:0.005\",\"[199, 173]\"],[\"FL1:32 FL2:256 DR:0.3 BS:64 LR:0.005\",\"[199, 173]\"],[\"FL1:32 FL2:256 DR:0.3 BS:64 LR:0.005\",\"[199, 173]\"],[\"FL1:32 FL2:256 DR:0.3 BS:64 LR:0.005\",\"[199, 173]\"],[\"FL1:32 FL2:256 DR:0.3 BS:64 LR:0.005\",\"[199, 173]\"],[\"FL1:32 FL2:256 DR:0.3 BS:64 LR:0.005\",\"[199, 173]\"],[\"FL1:32 FL2:256 DR:0.3 BS:64 LR:0.005\",\"[199, 173]\"],[\"FL1:32 FL2:256 DR:0.3 BS:64 LR:0.005\",\"[199, 173]\"],[\"FL1:32 FL2:256 DR:0.3 BS:64 LR:0.005\",\"[199, 173]\"]],\"hovertemplate\":\"variable=train_loss\\u003cbr\\u003etrial_id=802fd_00006\\u003cbr\\u003eepoch=%{x}\\u003cbr\\u003evalue=%{y}\\u003cbr\\u003eHyperparameters=%{customdata[0]}\\u003cbr\\u003echeckpoints=%{customdata[1]}\\u003cextra\\u003e\\u003c\\u002fextra\\u003e\",\"legendgroup\":\"train_loss, 802fd_00006\",\"line\":{\"color\":\"#EF553B\",\"dash\":\"longdash\"},\"marker\":{\"symbol\":\"circle\"},\"mode\":\"lines\",\"name\":\"train_loss, 802fd_00006\",\"showlegend\":true,\"x\":[0,1,2,3,4,5,6,7,8,9,10,11,12,13,14,15,16,17,18,19,20,21,22,23,24,25,26,27,28,29,30,31,32,33,34,35,36,37,38,39,40,41,42,43,44,45,46,47,48,49,50,51,52,53,54,55,56,57,58,59,60,61,62,63,64,65,66,67,68,69,70,71,72,73,74,75,76,77,78,79,80,81,82,83,84,85,86,87,88,89,90,91,92,93,94,95,96,97,98,99,100,101,102,103,104,105,106,107,108,109,110,111,112,113,114,115,116,117,118,119,120,121,122,123,124,125,126,127,128,129,130,131,132,133,134,135,136,137,138,139,140,141,142,143,144,145,146,147,148,149,150,151,152,153,154,155,156,157,158,159,160,161,162,163,164,165,166,167,168,169,170,171,172,173,174,175,176,177,178,179,180,181,182,183,184,185,186,187,188,189,190,191,192,193,194,195,196,197,198,199],\"xaxis\":\"x\",\"y\":[0.22936557233333527,0.2448443869749694,0.265716777907476,0.29952077181250775,0.29531981290122417,0.30757748246683303,0.29594272812534383,0.2672954677894972,0.2679912070006299,0.3208345320204995,0.3092357017186013,0.3263714378136207,0.2961440874508885,0.28858642070636864,0.2680469687723162,0.23176751109911578,0.2436344959534107,0.28057057911799255,0.22055483943651696,0.20877997799999526,0.24320141622945265,0.2230242715910046,0.21607521187166118,0.18906409052279055,0.18459953206954,0.18502404681959106,0.1859457651252103,0.167441920073466,0.1372350955218979,0.13393404445455495,0.16634636197756353,0.19742426656531314,0.1738593752705188,0.15776523123338007,0.1449014191505256,0.14339407415369734,0.15105384509549888,0.18027193791857202,0.16928560003433488,0.1903905203924826,0.2079135580848484,0.20051151706051967,0.19248492647059812,0.19723493608400547,0.1997160762718336,0.22229514520506105,0.20172835059391117,0.19446852748544075,0.19174533052544454,0.21745073108739696,0.21872634231293836,0.1732511059393128,0.1798211922877122,0.2138305498913314,0.17979267777703747,0.1957764512413241,0.18102588495370361,0.15939659370817458,0.14108160465185957,0.13959866483493028,0.1889885943431541,0.15675676241840797,0.15606124450978848,0.15028401050446538,0.12258556457677208,0.1355930763636606,0.16325678250223855,0.18182058348278451,0.18581716030187195,0.17743759889964744,0.16653283132158672,0.14128334203059753,0.14485650843180037,0.16132811430955427,0.17306290052906956,0.18169751420667574,0.19756436119510545,0.17942749308237604,0.15187570185587895,0.16560361604641557,0.1440687432603746,0.17303854920577344,0.17221863036759213,0.17326069517537918,0.14496176122695165,0.1476071439125134,0.13434857126328614,0.1505766659726911,0.1755786289605965,0.1797827266874223,0.15419795666948324,0.16462154391616782,0.1482637231761227,0.15978640352447854,0.16096738500568578,0.16295735387784407,0.17590740719624418,0.1738119151803387,0.14958851712362825,0.13610685320309016,0.14513615072840552,0.1230355496279006,0.1506877885971862,0.16069685232072345,0.15661745476344702,0.1614240206454821,0.13977025347780014,0.13635858825730468,0.15398842051219355,0.15846458047357762,0.17081716139930814,0.16540890090875013,0.165690600231039,0.13825630105518444,0.13336606129661596,0.14538824925591767,0.1440891548644845,0.12710283942695072,0.1834834731133481,0.16415584031156005,0.17843672098988445,0.14644536019877671,0.13794339707504402,0.14079586340990755,0.13531008560794625,0.10996560511879132,0.11607641318037748,0.12398218836118505,0.1440701665198118,0.13963967771763972,0.13647798340476436,0.14193686770701958,0.160295724387331,0.14242396223237963,0.1392896454711146,0.11601956312387414,0.12158664150058679,0.11447669455090768,0.13499910559044637,0.1324907552916892,0.14272508102781784,0.1709450389155224,0.1713062362676507,0.16664843670564491,0.14578730140816876,0.13741011106101447,0.11594729081211984,0.11337617010155293,0.13698635478999155,0.133087730938765,0.16562191581366573,0.1971316697573531,0.14509285281935444,0.1354992814583187,0.09967436990622705,0.09285478029969,0.12915108922006416,0.1318436253261677,0.1517704121398995,0.14307687627792792,0.13675062737544635,0.1376130457168169,0.13750045666730018,0.12415219541811665,0.12413210717455331,0.11629296042929588,0.11629362370180062,0.09352481839131613,0.10575476108041904,0.09962451585827582,0.12502889420388968,0.15525162773528858,0.16245541842248107,0.15049271862683045,0.14997565137662683,0.18663534116293393,0.17649312046862536,0.1564277988519725,0.1769109107948971,0.16546867045413302,0.18475665650533812,0.1577099073381367,0.1257268585066756,0.15258672484429361,0.1415021296916514,0.12136100905326382,0.13468896301049205,0.13739397924117353,0.12963416792268265,0.13594224298870994,0.13887107368890697,0.1130757219863218,0.1150461112308686,0.09866694442750232,0.11658300513904069,0.08966610244499815,0.09785945986103436,0.10197596682039485,0.09904778042056528,0.11850617851560852],\"yaxis\":\"y\",\"type\":\"scattergl\"},{\"customdata\":[[\"FL1:16 FL2:512 DR:0.6 BS:32 LR:0.0001\",\"[46, 199]\"],[\"FL1:16 FL2:512 DR:0.6 BS:32 LR:0.0001\",\"[46, 199]\"],[\"FL1:16 FL2:512 DR:0.6 BS:32 LR:0.0001\",\"[46, 199]\"],[\"FL1:16 FL2:512 DR:0.6 BS:32 LR:0.0001\",\"[46, 199]\"],[\"FL1:16 FL2:512 DR:0.6 BS:32 LR:0.0001\",\"[46, 199]\"],[\"FL1:16 FL2:512 DR:0.6 BS:32 LR:0.0001\",\"[46, 199]\"],[\"FL1:16 FL2:512 DR:0.6 BS:32 LR:0.0001\",\"[46, 199]\"],[\"FL1:16 FL2:512 DR:0.6 BS:32 LR:0.0001\",\"[46, 199]\"],[\"FL1:16 FL2:512 DR:0.6 BS:32 LR:0.0001\",\"[46, 199]\"],[\"FL1:16 FL2:512 DR:0.6 BS:32 LR:0.0001\",\"[46, 199]\"],[\"FL1:16 FL2:512 DR:0.6 BS:32 LR:0.0001\",\"[46, 199]\"],[\"FL1:16 FL2:512 DR:0.6 BS:32 LR:0.0001\",\"[46, 199]\"],[\"FL1:16 FL2:512 DR:0.6 BS:32 LR:0.0001\",\"[46, 199]\"],[\"FL1:16 FL2:512 DR:0.6 BS:32 LR:0.0001\",\"[46, 199]\"],[\"FL1:16 FL2:512 DR:0.6 BS:32 LR:0.0001\",\"[46, 199]\"],[\"FL1:16 FL2:512 DR:0.6 BS:32 LR:0.0001\",\"[46, 199]\"],[\"FL1:16 FL2:512 DR:0.6 BS:32 LR:0.0001\",\"[46, 199]\"],[\"FL1:16 FL2:512 DR:0.6 BS:32 LR:0.0001\",\"[46, 199]\"],[\"FL1:16 FL2:512 DR:0.6 BS:32 LR:0.0001\",\"[46, 199]\"],[\"FL1:16 FL2:512 DR:0.6 BS:32 LR:0.0001\",\"[46, 199]\"],[\"FL1:16 FL2:512 DR:0.6 BS:32 LR:0.0001\",\"[46, 199]\"],[\"FL1:16 FL2:512 DR:0.6 BS:32 LR:0.0001\",\"[46, 199]\"],[\"FL1:16 FL2:512 DR:0.6 BS:32 LR:0.0001\",\"[46, 199]\"],[\"FL1:16 FL2:512 DR:0.6 BS:32 LR:0.0001\",\"[46, 199]\"],[\"FL1:16 FL2:512 DR:0.6 BS:32 LR:0.0001\",\"[46, 199]\"],[\"FL1:16 FL2:512 DR:0.6 BS:32 LR:0.0001\",\"[46, 199]\"],[\"FL1:16 FL2:512 DR:0.6 BS:32 LR:0.0001\",\"[46, 199]\"],[\"FL1:16 FL2:512 DR:0.6 BS:32 LR:0.0001\",\"[46, 199]\"],[\"FL1:16 FL2:512 DR:0.6 BS:32 LR:0.0001\",\"[46, 199]\"],[\"FL1:16 FL2:512 DR:0.6 BS:32 LR:0.0001\",\"[46, 199]\"],[\"FL1:16 FL2:512 DR:0.6 BS:32 LR:0.0001\",\"[46, 199]\"],[\"FL1:16 FL2:512 DR:0.6 BS:32 LR:0.0001\",\"[46, 199]\"],[\"FL1:16 FL2:512 DR:0.6 BS:32 LR:0.0001\",\"[46, 199]\"],[\"FL1:16 FL2:512 DR:0.6 BS:32 LR:0.0001\",\"[46, 199]\"],[\"FL1:16 FL2:512 DR:0.6 BS:32 LR:0.0001\",\"[46, 199]\"],[\"FL1:16 FL2:512 DR:0.6 BS:32 LR:0.0001\",\"[46, 199]\"],[\"FL1:16 FL2:512 DR:0.6 BS:32 LR:0.0001\",\"[46, 199]\"],[\"FL1:16 FL2:512 DR:0.6 BS:32 LR:0.0001\",\"[46, 199]\"],[\"FL1:16 FL2:512 DR:0.6 BS:32 LR:0.0001\",\"[46, 199]\"],[\"FL1:16 FL2:512 DR:0.6 BS:32 LR:0.0001\",\"[46, 199]\"],[\"FL1:16 FL2:512 DR:0.6 BS:32 LR:0.0001\",\"[46, 199]\"],[\"FL1:16 FL2:512 DR:0.6 BS:32 LR:0.0001\",\"[46, 199]\"],[\"FL1:16 FL2:512 DR:0.6 BS:32 LR:0.0001\",\"[46, 199]\"],[\"FL1:16 FL2:512 DR:0.6 BS:32 LR:0.0001\",\"[46, 199]\"],[\"FL1:16 FL2:512 DR:0.6 BS:32 LR:0.0001\",\"[46, 199]\"],[\"FL1:16 FL2:512 DR:0.6 BS:32 LR:0.0001\",\"[46, 199]\"],[\"FL1:16 FL2:512 DR:0.6 BS:32 LR:0.0001\",\"[46, 199]\"],[\"FL1:16 FL2:512 DR:0.6 BS:32 LR:0.0001\",\"[46, 199]\"],[\"FL1:16 FL2:512 DR:0.6 BS:32 LR:0.0001\",\"[46, 199]\"],[\"FL1:16 FL2:512 DR:0.6 BS:32 LR:0.0001\",\"[46, 199]\"],[\"FL1:16 FL2:512 DR:0.6 BS:32 LR:0.0001\",\"[46, 199]\"],[\"FL1:16 FL2:512 DR:0.6 BS:32 LR:0.0001\",\"[46, 199]\"],[\"FL1:16 FL2:512 DR:0.6 BS:32 LR:0.0001\",\"[46, 199]\"],[\"FL1:16 FL2:512 DR:0.6 BS:32 LR:0.0001\",\"[46, 199]\"],[\"FL1:16 FL2:512 DR:0.6 BS:32 LR:0.0001\",\"[46, 199]\"],[\"FL1:16 FL2:512 DR:0.6 BS:32 LR:0.0001\",\"[46, 199]\"],[\"FL1:16 FL2:512 DR:0.6 BS:32 LR:0.0001\",\"[46, 199]\"],[\"FL1:16 FL2:512 DR:0.6 BS:32 LR:0.0001\",\"[46, 199]\"],[\"FL1:16 FL2:512 DR:0.6 BS:32 LR:0.0001\",\"[46, 199]\"],[\"FL1:16 FL2:512 DR:0.6 BS:32 LR:0.0001\",\"[46, 199]\"],[\"FL1:16 FL2:512 DR:0.6 BS:32 LR:0.0001\",\"[46, 199]\"],[\"FL1:16 FL2:512 DR:0.6 BS:32 LR:0.0001\",\"[46, 199]\"],[\"FL1:16 FL2:512 DR:0.6 BS:32 LR:0.0001\",\"[46, 199]\"],[\"FL1:16 FL2:512 DR:0.6 BS:32 LR:0.0001\",\"[46, 199]\"],[\"FL1:16 FL2:512 DR:0.6 BS:32 LR:0.0001\",\"[46, 199]\"],[\"FL1:16 FL2:512 DR:0.6 BS:32 LR:0.0001\",\"[46, 199]\"],[\"FL1:16 FL2:512 DR:0.6 BS:32 LR:0.0001\",\"[46, 199]\"],[\"FL1:16 FL2:512 DR:0.6 BS:32 LR:0.0001\",\"[46, 199]\"],[\"FL1:16 FL2:512 DR:0.6 BS:32 LR:0.0001\",\"[46, 199]\"],[\"FL1:16 FL2:512 DR:0.6 BS:32 LR:0.0001\",\"[46, 199]\"],[\"FL1:16 FL2:512 DR:0.6 BS:32 LR:0.0001\",\"[46, 199]\"],[\"FL1:16 FL2:512 DR:0.6 BS:32 LR:0.0001\",\"[46, 199]\"],[\"FL1:16 FL2:512 DR:0.6 BS:32 LR:0.0001\",\"[46, 199]\"],[\"FL1:16 FL2:512 DR:0.6 BS:32 LR:0.0001\",\"[46, 199]\"],[\"FL1:16 FL2:512 DR:0.6 BS:32 LR:0.0001\",\"[46, 199]\"],[\"FL1:16 FL2:512 DR:0.6 BS:32 LR:0.0001\",\"[46, 199]\"],[\"FL1:16 FL2:512 DR:0.6 BS:32 LR:0.0001\",\"[46, 199]\"],[\"FL1:16 FL2:512 DR:0.6 BS:32 LR:0.0001\",\"[46, 199]\"],[\"FL1:16 FL2:512 DR:0.6 BS:32 LR:0.0001\",\"[46, 199]\"],[\"FL1:16 FL2:512 DR:0.6 BS:32 LR:0.0001\",\"[46, 199]\"],[\"FL1:16 FL2:512 DR:0.6 BS:32 LR:0.0001\",\"[46, 199]\"],[\"FL1:16 FL2:512 DR:0.6 BS:32 LR:0.0001\",\"[46, 199]\"],[\"FL1:16 FL2:512 DR:0.6 BS:32 LR:0.0001\",\"[46, 199]\"],[\"FL1:16 FL2:512 DR:0.6 BS:32 LR:0.0001\",\"[46, 199]\"],[\"FL1:16 FL2:512 DR:0.6 BS:32 LR:0.0001\",\"[46, 199]\"],[\"FL1:16 FL2:512 DR:0.6 BS:32 LR:0.0001\",\"[46, 199]\"],[\"FL1:16 FL2:512 DR:0.6 BS:32 LR:0.0001\",\"[46, 199]\"],[\"FL1:16 FL2:512 DR:0.6 BS:32 LR:0.0001\",\"[46, 199]\"],[\"FL1:16 FL2:512 DR:0.6 BS:32 LR:0.0001\",\"[46, 199]\"],[\"FL1:16 FL2:512 DR:0.6 BS:32 LR:0.0001\",\"[46, 199]\"],[\"FL1:16 FL2:512 DR:0.6 BS:32 LR:0.0001\",\"[46, 199]\"],[\"FL1:16 FL2:512 DR:0.6 BS:32 LR:0.0001\",\"[46, 199]\"],[\"FL1:16 FL2:512 DR:0.6 BS:32 LR:0.0001\",\"[46, 199]\"],[\"FL1:16 FL2:512 DR:0.6 BS:32 LR:0.0001\",\"[46, 199]\"],[\"FL1:16 FL2:512 DR:0.6 BS:32 LR:0.0001\",\"[46, 199]\"],[\"FL1:16 FL2:512 DR:0.6 BS:32 LR:0.0001\",\"[46, 199]\"],[\"FL1:16 FL2:512 DR:0.6 BS:32 LR:0.0001\",\"[46, 199]\"],[\"FL1:16 FL2:512 DR:0.6 BS:32 LR:0.0001\",\"[46, 199]\"],[\"FL1:16 FL2:512 DR:0.6 BS:32 LR:0.0001\",\"[46, 199]\"],[\"FL1:16 FL2:512 DR:0.6 BS:32 LR:0.0001\",\"[46, 199]\"],[\"FL1:16 FL2:512 DR:0.6 BS:32 LR:0.0001\",\"[46, 199]\"],[\"FL1:16 FL2:512 DR:0.6 BS:32 LR:0.0001\",\"[46, 199]\"],[\"FL1:16 FL2:512 DR:0.6 BS:32 LR:0.0001\",\"[46, 199]\"],[\"FL1:16 FL2:512 DR:0.6 BS:32 LR:0.0001\",\"[46, 199]\"],[\"FL1:16 FL2:512 DR:0.6 BS:32 LR:0.0001\",\"[46, 199]\"],[\"FL1:16 FL2:512 DR:0.6 BS:32 LR:0.0001\",\"[46, 199]\"],[\"FL1:16 FL2:512 DR:0.6 BS:32 LR:0.0001\",\"[46, 199]\"],[\"FL1:16 FL2:512 DR:0.6 BS:32 LR:0.0001\",\"[46, 199]\"],[\"FL1:16 FL2:512 DR:0.6 BS:32 LR:0.0001\",\"[46, 199]\"],[\"FL1:16 FL2:512 DR:0.6 BS:32 LR:0.0001\",\"[46, 199]\"],[\"FL1:16 FL2:512 DR:0.6 BS:32 LR:0.0001\",\"[46, 199]\"],[\"FL1:16 FL2:512 DR:0.6 BS:32 LR:0.0001\",\"[46, 199]\"],[\"FL1:16 FL2:512 DR:0.6 BS:32 LR:0.0001\",\"[46, 199]\"],[\"FL1:16 FL2:512 DR:0.6 BS:32 LR:0.0001\",\"[46, 199]\"],[\"FL1:16 FL2:512 DR:0.6 BS:32 LR:0.0001\",\"[46, 199]\"],[\"FL1:16 FL2:512 DR:0.6 BS:32 LR:0.0001\",\"[46, 199]\"],[\"FL1:16 FL2:512 DR:0.6 BS:32 LR:0.0001\",\"[46, 199]\"],[\"FL1:16 FL2:512 DR:0.6 BS:32 LR:0.0001\",\"[46, 199]\"],[\"FL1:16 FL2:512 DR:0.6 BS:32 LR:0.0001\",\"[46, 199]\"],[\"FL1:16 FL2:512 DR:0.6 BS:32 LR:0.0001\",\"[46, 199]\"],[\"FL1:16 FL2:512 DR:0.6 BS:32 LR:0.0001\",\"[46, 199]\"],[\"FL1:16 FL2:512 DR:0.6 BS:32 LR:0.0001\",\"[46, 199]\"],[\"FL1:16 FL2:512 DR:0.6 BS:32 LR:0.0001\",\"[46, 199]\"],[\"FL1:16 FL2:512 DR:0.6 BS:32 LR:0.0001\",\"[46, 199]\"],[\"FL1:16 FL2:512 DR:0.6 BS:32 LR:0.0001\",\"[46, 199]\"],[\"FL1:16 FL2:512 DR:0.6 BS:32 LR:0.0001\",\"[46, 199]\"],[\"FL1:16 FL2:512 DR:0.6 BS:32 LR:0.0001\",\"[46, 199]\"],[\"FL1:16 FL2:512 DR:0.6 BS:32 LR:0.0001\",\"[46, 199]\"],[\"FL1:16 FL2:512 DR:0.6 BS:32 LR:0.0001\",\"[46, 199]\"],[\"FL1:16 FL2:512 DR:0.6 BS:32 LR:0.0001\",\"[46, 199]\"],[\"FL1:16 FL2:512 DR:0.6 BS:32 LR:0.0001\",\"[46, 199]\"],[\"FL1:16 FL2:512 DR:0.6 BS:32 LR:0.0001\",\"[46, 199]\"],[\"FL1:16 FL2:512 DR:0.6 BS:32 LR:0.0001\",\"[46, 199]\"],[\"FL1:16 FL2:512 DR:0.6 BS:32 LR:0.0001\",\"[46, 199]\"],[\"FL1:16 FL2:512 DR:0.6 BS:32 LR:0.0001\",\"[46, 199]\"],[\"FL1:16 FL2:512 DR:0.6 BS:32 LR:0.0001\",\"[46, 199]\"],[\"FL1:16 FL2:512 DR:0.6 BS:32 LR:0.0001\",\"[46, 199]\"],[\"FL1:16 FL2:512 DR:0.6 BS:32 LR:0.0001\",\"[46, 199]\"],[\"FL1:16 FL2:512 DR:0.6 BS:32 LR:0.0001\",\"[46, 199]\"],[\"FL1:16 FL2:512 DR:0.6 BS:32 LR:0.0001\",\"[46, 199]\"],[\"FL1:16 FL2:512 DR:0.6 BS:32 LR:0.0001\",\"[46, 199]\"],[\"FL1:16 FL2:512 DR:0.6 BS:32 LR:0.0001\",\"[46, 199]\"],[\"FL1:16 FL2:512 DR:0.6 BS:32 LR:0.0001\",\"[46, 199]\"],[\"FL1:16 FL2:512 DR:0.6 BS:32 LR:0.0001\",\"[46, 199]\"],[\"FL1:16 FL2:512 DR:0.6 BS:32 LR:0.0001\",\"[46, 199]\"],[\"FL1:16 FL2:512 DR:0.6 BS:32 LR:0.0001\",\"[46, 199]\"],[\"FL1:16 FL2:512 DR:0.6 BS:32 LR:0.0001\",\"[46, 199]\"],[\"FL1:16 FL2:512 DR:0.6 BS:32 LR:0.0001\",\"[46, 199]\"],[\"FL1:16 FL2:512 DR:0.6 BS:32 LR:0.0001\",\"[46, 199]\"],[\"FL1:16 FL2:512 DR:0.6 BS:32 LR:0.0001\",\"[46, 199]\"],[\"FL1:16 FL2:512 DR:0.6 BS:32 LR:0.0001\",\"[46, 199]\"],[\"FL1:16 FL2:512 DR:0.6 BS:32 LR:0.0001\",\"[46, 199]\"],[\"FL1:16 FL2:512 DR:0.6 BS:32 LR:0.0001\",\"[46, 199]\"],[\"FL1:16 FL2:512 DR:0.6 BS:32 LR:0.0001\",\"[46, 199]\"],[\"FL1:16 FL2:512 DR:0.6 BS:32 LR:0.0001\",\"[46, 199]\"],[\"FL1:16 FL2:512 DR:0.6 BS:32 LR:0.0001\",\"[46, 199]\"],[\"FL1:16 FL2:512 DR:0.6 BS:32 LR:0.0001\",\"[46, 199]\"],[\"FL1:16 FL2:512 DR:0.6 BS:32 LR:0.0001\",\"[46, 199]\"],[\"FL1:16 FL2:512 DR:0.6 BS:32 LR:0.0001\",\"[46, 199]\"],[\"FL1:16 FL2:512 DR:0.6 BS:32 LR:0.0001\",\"[46, 199]\"],[\"FL1:16 FL2:512 DR:0.6 BS:32 LR:0.0001\",\"[46, 199]\"],[\"FL1:16 FL2:512 DR:0.6 BS:32 LR:0.0001\",\"[46, 199]\"],[\"FL1:16 FL2:512 DR:0.6 BS:32 LR:0.0001\",\"[46, 199]\"],[\"FL1:16 FL2:512 DR:0.6 BS:32 LR:0.0001\",\"[46, 199]\"],[\"FL1:16 FL2:512 DR:0.6 BS:32 LR:0.0001\",\"[46, 199]\"],[\"FL1:16 FL2:512 DR:0.6 BS:32 LR:0.0001\",\"[46, 199]\"],[\"FL1:16 FL2:512 DR:0.6 BS:32 LR:0.0001\",\"[46, 199]\"],[\"FL1:16 FL2:512 DR:0.6 BS:32 LR:0.0001\",\"[46, 199]\"],[\"FL1:16 FL2:512 DR:0.6 BS:32 LR:0.0001\",\"[46, 199]\"],[\"FL1:16 FL2:512 DR:0.6 BS:32 LR:0.0001\",\"[46, 199]\"],[\"FL1:16 FL2:512 DR:0.6 BS:32 LR:0.0001\",\"[46, 199]\"],[\"FL1:16 FL2:512 DR:0.6 BS:32 LR:0.0001\",\"[46, 199]\"],[\"FL1:16 FL2:512 DR:0.6 BS:32 LR:0.0001\",\"[46, 199]\"],[\"FL1:16 FL2:512 DR:0.6 BS:32 LR:0.0001\",\"[46, 199]\"],[\"FL1:16 FL2:512 DR:0.6 BS:32 LR:0.0001\",\"[46, 199]\"],[\"FL1:16 FL2:512 DR:0.6 BS:32 LR:0.0001\",\"[46, 199]\"],[\"FL1:16 FL2:512 DR:0.6 BS:32 LR:0.0001\",\"[46, 199]\"],[\"FL1:16 FL2:512 DR:0.6 BS:32 LR:0.0001\",\"[46, 199]\"],[\"FL1:16 FL2:512 DR:0.6 BS:32 LR:0.0001\",\"[46, 199]\"],[\"FL1:16 FL2:512 DR:0.6 BS:32 LR:0.0001\",\"[46, 199]\"],[\"FL1:16 FL2:512 DR:0.6 BS:32 LR:0.0001\",\"[46, 199]\"],[\"FL1:16 FL2:512 DR:0.6 BS:32 LR:0.0001\",\"[46, 199]\"],[\"FL1:16 FL2:512 DR:0.6 BS:32 LR:0.0001\",\"[46, 199]\"],[\"FL1:16 FL2:512 DR:0.6 BS:32 LR:0.0001\",\"[46, 199]\"],[\"FL1:16 FL2:512 DR:0.6 BS:32 LR:0.0001\",\"[46, 199]\"],[\"FL1:16 FL2:512 DR:0.6 BS:32 LR:0.0001\",\"[46, 199]\"],[\"FL1:16 FL2:512 DR:0.6 BS:32 LR:0.0001\",\"[46, 199]\"],[\"FL1:16 FL2:512 DR:0.6 BS:32 LR:0.0001\",\"[46, 199]\"],[\"FL1:16 FL2:512 DR:0.6 BS:32 LR:0.0001\",\"[46, 199]\"],[\"FL1:16 FL2:512 DR:0.6 BS:32 LR:0.0001\",\"[46, 199]\"],[\"FL1:16 FL2:512 DR:0.6 BS:32 LR:0.0001\",\"[46, 199]\"],[\"FL1:16 FL2:512 DR:0.6 BS:32 LR:0.0001\",\"[46, 199]\"],[\"FL1:16 FL2:512 DR:0.6 BS:32 LR:0.0001\",\"[46, 199]\"],[\"FL1:16 FL2:512 DR:0.6 BS:32 LR:0.0001\",\"[46, 199]\"],[\"FL1:16 FL2:512 DR:0.6 BS:32 LR:0.0001\",\"[46, 199]\"],[\"FL1:16 FL2:512 DR:0.6 BS:32 LR:0.0001\",\"[46, 199]\"],[\"FL1:16 FL2:512 DR:0.6 BS:32 LR:0.0001\",\"[46, 199]\"],[\"FL1:16 FL2:512 DR:0.6 BS:32 LR:0.0001\",\"[46, 199]\"],[\"FL1:16 FL2:512 DR:0.6 BS:32 LR:0.0001\",\"[46, 199]\"],[\"FL1:16 FL2:512 DR:0.6 BS:32 LR:0.0001\",\"[46, 199]\"]],\"hovertemplate\":\"variable=train_loss\\u003cbr\\u003etrial_id=802fd_00107\\u003cbr\\u003eepoch=%{x}\\u003cbr\\u003evalue=%{y}\\u003cbr\\u003eHyperparameters=%{customdata[0]}\\u003cbr\\u003echeckpoints=%{customdata[1]}\\u003cextra\\u003e\\u003c\\u002fextra\\u003e\",\"legendgroup\":\"train_loss, 802fd_00107\",\"line\":{\"color\":\"#EF553B\",\"dash\":\"dashdot\"},\"marker\":{\"symbol\":\"circle\"},\"mode\":\"lines\",\"name\":\"train_loss, 802fd_00107\",\"showlegend\":true,\"x\":[0,1,2,3,4,5,6,7,8,9,10,11,12,13,14,15,16,17,18,19,20,21,22,23,24,25,26,27,28,29,30,31,32,33,34,35,36,37,38,39,40,41,42,43,44,45,46,47,48,49,50,51,52,53,54,55,56,57,58,59,60,61,62,63,64,65,66,67,68,69,70,71,72,73,74,75,76,77,78,79,80,81,82,83,84,85,86,87,88,89,90,91,92,93,94,95,96,97,98,99,100,101,102,103,104,105,106,107,108,109,110,111,112,113,114,115,116,117,118,119,120,121,122,123,124,125,126,127,128,129,130,131,132,133,134,135,136,137,138,139,140,141,142,143,144,145,146,147,148,149,150,151,152,153,154,155,156,157,158,159,160,161,162,163,164,165,166,167,168,169,170,171,172,173,174,175,176,177,178,179,180,181,182,183,184,185,186,187,188,189,190,191,192,193,194,195,196,197,198,199],\"xaxis\":\"x\",\"y\":[0.6285653114318833,0.6206553181012449,0.6221315794520877,0.5541907008047428,0.5018364525871484,0.4355929021727375,0.4717284324891906,0.4102757793749393,0.420546615924107,0.5100189611684379,0.555778037532904,0.4932099554437644,0.43010182006479875,0.39495100129525834,0.33296402824508414,0.30856138158233415,0.3291626651312995,0.31774305828585075,0.29060047552435775,0.2894625642925439,0.36425914228160644,0.4010773225638554,0.33647490534605445,0.28214619718274675,0.25622467473004346,0.2674752558261419,0.23767930832109577,0.18879822023445827,0.17831922655459512,0.284123497440789,0.25947408526100924,0.28115691839958623,0.25091589887476845,0.19189188066149324,0.19523549201107354,0.20104350727145046,0.1657771680510318,0.2376062614226514,0.30375742200375644,0.27406423312664674,0.4075720046774573,0.31508965524143784,0.27140894851490355,0.2017397641069656,0.19503526779856672,0.22548312208948057,0.19462678506571368,0.18957958568863242,0.16544249289388213,0.3960574443681666,0.3140136715798658,0.2651977219203496,0.2824237232750901,0.3128874722683585,0.24795132700364805,0.28402593615161636,0.23040365846625444,0.2524193404228911,0.18227691265354046,0.17992088239993928,0.14881831435101728,0.11990232411515366,0.0907224306198732,0.10038033632654426,0.0825569700580071,0.08877683406943923,0.17031770431912424,0.17207987761442145,0.17973745965920696,0.23765643175418297,0.21883123275952243,0.1752984567305556,0.19190760247052396,0.15588618760069645,0.19918483459128494,0.2294280427242216,0.20946627673472898,0.1491678345002461,0.10678259885461647,0.1628231893390511,0.13753699778915054,0.2569657234311132,0.4281460820277532,0.3523896504534611,0.3474398963380732,0.24899312482799926,0.20350552599645855,0.23979055551036915,0.21981187441179922,0.1799872436671107,0.1816269900102511,0.15517363917159313,0.13257781562756987,0.12313862987724579,0.11015335535584293,0.22941586915372628,0.17622761540094212,0.22853395417318792,0.1693409524857073,0.13252679457260944,0.14997013542383056,0.12350472482263455,0.12183218728979008,0.12927065976116078,0.10157595326604446,0.15704758796494472,0.1684531740572797,0.13440102982698177,0.44500434827922386,0.3461826174267037,0.24558221118701182,0.28544445049135253,0.3232170423624795,0.22639002564932775,0.20521708272156322,0.28212569450177777,0.2574915524644186,0.1729484053531889,0.18641196205083502,0.15400137513123577,0.22808338542277606,0.2531616677144824,0.2564723881946437,0.229951442471241,0.24174842317309256,0.23663414073921704,0.16982025150085459,0.1720670726141989,0.1292556986207206,0.10546101853214612,0.07845909111177193,0.07902333363874248,0.0606348945447702,0.1014985083705115,0.21537970100283038,0.18856456441640432,0.1846758942667611,0.1355956330639764,0.1193382754751471,0.13823030987239018,0.2005392617573739,0.2507214749250404,0.22775297227128252,0.24207329990217294,0.19565614969696715,0.1848958873826004,0.1386111176065429,0.17005930980389752,0.13527450058424081,0.1050699918208095,0.17328370403829949,0.16071832704268355,0.1575818891506884,0.11430801021930195,0.0859899368079279,0.06244083220374406,0.06090339835890001,0.10829194265211815,0.27351424348092723,0.2688250955723164,0.2033627234751936,0.1605802859104311,0.12107478025798227,0.12250168583952176,0.16481121852770578,0.17958205093791121,0.2455033404949632,0.1732407731445846,0.1213583565922059,0.09278642955233497,0.06781218704455318,0.0521730143618134,0.04619260604458025,0.03823925931604015,0.07773004723490112,0.16531117924650982,0.16429649736219254,0.12477373254453862,0.1138118152628719,0.13789955906141946,0.14457543944033707,0.12419015420617457,0.09388121136785733,0.10642613416751981,0.08338998346421947,0.07117591484648526,0.22875029632954028,0.16701028894721276,0.1751485592877781,0.238637167662773,0.18677976210938108,0.13654739934554497,0.10251744938129045,0.07450462635016343,0.08464344180726914,0.11687729482587073,0.10515933963812628,0.09280780526106368,0.07817828164898546,0.13432589343126017],\"yaxis\":\"y\",\"type\":\"scattergl\"},{\"customdata\":[[\"FL1:512 FL2:16 DR:0.5 BS:32 LR:0.0005\",\"[78, 199]\"],[\"FL1:512 FL2:16 DR:0.5 BS:32 LR:0.0005\",\"[78, 199]\"],[\"FL1:512 FL2:16 DR:0.5 BS:32 LR:0.0005\",\"[78, 199]\"],[\"FL1:512 FL2:16 DR:0.5 BS:32 LR:0.0005\",\"[78, 199]\"],[\"FL1:512 FL2:16 DR:0.5 BS:32 LR:0.0005\",\"[78, 199]\"],[\"FL1:512 FL2:16 DR:0.5 BS:32 LR:0.0005\",\"[78, 199]\"],[\"FL1:512 FL2:16 DR:0.5 BS:32 LR:0.0005\",\"[78, 199]\"],[\"FL1:512 FL2:16 DR:0.5 BS:32 LR:0.0005\",\"[78, 199]\"],[\"FL1:512 FL2:16 DR:0.5 BS:32 LR:0.0005\",\"[78, 199]\"],[\"FL1:512 FL2:16 DR:0.5 BS:32 LR:0.0005\",\"[78, 199]\"],[\"FL1:512 FL2:16 DR:0.5 BS:32 LR:0.0005\",\"[78, 199]\"],[\"FL1:512 FL2:16 DR:0.5 BS:32 LR:0.0005\",\"[78, 199]\"],[\"FL1:512 FL2:16 DR:0.5 BS:32 LR:0.0005\",\"[78, 199]\"],[\"FL1:512 FL2:16 DR:0.5 BS:32 LR:0.0005\",\"[78, 199]\"],[\"FL1:512 FL2:16 DR:0.5 BS:32 LR:0.0005\",\"[78, 199]\"],[\"FL1:512 FL2:16 DR:0.5 BS:32 LR:0.0005\",\"[78, 199]\"],[\"FL1:512 FL2:16 DR:0.5 BS:32 LR:0.0005\",\"[78, 199]\"],[\"FL1:512 FL2:16 DR:0.5 BS:32 LR:0.0005\",\"[78, 199]\"],[\"FL1:512 FL2:16 DR:0.5 BS:32 LR:0.0005\",\"[78, 199]\"],[\"FL1:512 FL2:16 DR:0.5 BS:32 LR:0.0005\",\"[78, 199]\"],[\"FL1:512 FL2:16 DR:0.5 BS:32 LR:0.0005\",\"[78, 199]\"],[\"FL1:512 FL2:16 DR:0.5 BS:32 LR:0.0005\",\"[78, 199]\"],[\"FL1:512 FL2:16 DR:0.5 BS:32 LR:0.0005\",\"[78, 199]\"],[\"FL1:512 FL2:16 DR:0.5 BS:32 LR:0.0005\",\"[78, 199]\"],[\"FL1:512 FL2:16 DR:0.5 BS:32 LR:0.0005\",\"[78, 199]\"],[\"FL1:512 FL2:16 DR:0.5 BS:32 LR:0.0005\",\"[78, 199]\"],[\"FL1:512 FL2:16 DR:0.5 BS:32 LR:0.0005\",\"[78, 199]\"],[\"FL1:512 FL2:16 DR:0.5 BS:32 LR:0.0005\",\"[78, 199]\"],[\"FL1:512 FL2:16 DR:0.5 BS:32 LR:0.0005\",\"[78, 199]\"],[\"FL1:512 FL2:16 DR:0.5 BS:32 LR:0.0005\",\"[78, 199]\"],[\"FL1:512 FL2:16 DR:0.5 BS:32 LR:0.0005\",\"[78, 199]\"],[\"FL1:512 FL2:16 DR:0.5 BS:32 LR:0.0005\",\"[78, 199]\"],[\"FL1:512 FL2:16 DR:0.5 BS:32 LR:0.0005\",\"[78, 199]\"],[\"FL1:512 FL2:16 DR:0.5 BS:32 LR:0.0005\",\"[78, 199]\"],[\"FL1:512 FL2:16 DR:0.5 BS:32 LR:0.0005\",\"[78, 199]\"],[\"FL1:512 FL2:16 DR:0.5 BS:32 LR:0.0005\",\"[78, 199]\"],[\"FL1:512 FL2:16 DR:0.5 BS:32 LR:0.0005\",\"[78, 199]\"],[\"FL1:512 FL2:16 DR:0.5 BS:32 LR:0.0005\",\"[78, 199]\"],[\"FL1:512 FL2:16 DR:0.5 BS:32 LR:0.0005\",\"[78, 199]\"],[\"FL1:512 FL2:16 DR:0.5 BS:32 LR:0.0005\",\"[78, 199]\"],[\"FL1:512 FL2:16 DR:0.5 BS:32 LR:0.0005\",\"[78, 199]\"],[\"FL1:512 FL2:16 DR:0.5 BS:32 LR:0.0005\",\"[78, 199]\"],[\"FL1:512 FL2:16 DR:0.5 BS:32 LR:0.0005\",\"[78, 199]\"],[\"FL1:512 FL2:16 DR:0.5 BS:32 LR:0.0005\",\"[78, 199]\"],[\"FL1:512 FL2:16 DR:0.5 BS:32 LR:0.0005\",\"[78, 199]\"],[\"FL1:512 FL2:16 DR:0.5 BS:32 LR:0.0005\",\"[78, 199]\"],[\"FL1:512 FL2:16 DR:0.5 BS:32 LR:0.0005\",\"[78, 199]\"],[\"FL1:512 FL2:16 DR:0.5 BS:32 LR:0.0005\",\"[78, 199]\"],[\"FL1:512 FL2:16 DR:0.5 BS:32 LR:0.0005\",\"[78, 199]\"],[\"FL1:512 FL2:16 DR:0.5 BS:32 LR:0.0005\",\"[78, 199]\"],[\"FL1:512 FL2:16 DR:0.5 BS:32 LR:0.0005\",\"[78, 199]\"],[\"FL1:512 FL2:16 DR:0.5 BS:32 LR:0.0005\",\"[78, 199]\"],[\"FL1:512 FL2:16 DR:0.5 BS:32 LR:0.0005\",\"[78, 199]\"],[\"FL1:512 FL2:16 DR:0.5 BS:32 LR:0.0005\",\"[78, 199]\"],[\"FL1:512 FL2:16 DR:0.5 BS:32 LR:0.0005\",\"[78, 199]\"],[\"FL1:512 FL2:16 DR:0.5 BS:32 LR:0.0005\",\"[78, 199]\"],[\"FL1:512 FL2:16 DR:0.5 BS:32 LR:0.0005\",\"[78, 199]\"],[\"FL1:512 FL2:16 DR:0.5 BS:32 LR:0.0005\",\"[78, 199]\"],[\"FL1:512 FL2:16 DR:0.5 BS:32 LR:0.0005\",\"[78, 199]\"],[\"FL1:512 FL2:16 DR:0.5 BS:32 LR:0.0005\",\"[78, 199]\"],[\"FL1:512 FL2:16 DR:0.5 BS:32 LR:0.0005\",\"[78, 199]\"],[\"FL1:512 FL2:16 DR:0.5 BS:32 LR:0.0005\",\"[78, 199]\"],[\"FL1:512 FL2:16 DR:0.5 BS:32 LR:0.0005\",\"[78, 199]\"],[\"FL1:512 FL2:16 DR:0.5 BS:32 LR:0.0005\",\"[78, 199]\"],[\"FL1:512 FL2:16 DR:0.5 BS:32 LR:0.0005\",\"[78, 199]\"],[\"FL1:512 FL2:16 DR:0.5 BS:32 LR:0.0005\",\"[78, 199]\"],[\"FL1:512 FL2:16 DR:0.5 BS:32 LR:0.0005\",\"[78, 199]\"],[\"FL1:512 FL2:16 DR:0.5 BS:32 LR:0.0005\",\"[78, 199]\"],[\"FL1:512 FL2:16 DR:0.5 BS:32 LR:0.0005\",\"[78, 199]\"],[\"FL1:512 FL2:16 DR:0.5 BS:32 LR:0.0005\",\"[78, 199]\"],[\"FL1:512 FL2:16 DR:0.5 BS:32 LR:0.0005\",\"[78, 199]\"],[\"FL1:512 FL2:16 DR:0.5 BS:32 LR:0.0005\",\"[78, 199]\"],[\"FL1:512 FL2:16 DR:0.5 BS:32 LR:0.0005\",\"[78, 199]\"],[\"FL1:512 FL2:16 DR:0.5 BS:32 LR:0.0005\",\"[78, 199]\"],[\"FL1:512 FL2:16 DR:0.5 BS:32 LR:0.0005\",\"[78, 199]\"],[\"FL1:512 FL2:16 DR:0.5 BS:32 LR:0.0005\",\"[78, 199]\"],[\"FL1:512 FL2:16 DR:0.5 BS:32 LR:0.0005\",\"[78, 199]\"],[\"FL1:512 FL2:16 DR:0.5 BS:32 LR:0.0005\",\"[78, 199]\"],[\"FL1:512 FL2:16 DR:0.5 BS:32 LR:0.0005\",\"[78, 199]\"],[\"FL1:512 FL2:16 DR:0.5 BS:32 LR:0.0005\",\"[78, 199]\"],[\"FL1:512 FL2:16 DR:0.5 BS:32 LR:0.0005\",\"[78, 199]\"],[\"FL1:512 FL2:16 DR:0.5 BS:32 LR:0.0005\",\"[78, 199]\"],[\"FL1:512 FL2:16 DR:0.5 BS:32 LR:0.0005\",\"[78, 199]\"],[\"FL1:512 FL2:16 DR:0.5 BS:32 LR:0.0005\",\"[78, 199]\"],[\"FL1:512 FL2:16 DR:0.5 BS:32 LR:0.0005\",\"[78, 199]\"],[\"FL1:512 FL2:16 DR:0.5 BS:32 LR:0.0005\",\"[78, 199]\"],[\"FL1:512 FL2:16 DR:0.5 BS:32 LR:0.0005\",\"[78, 199]\"],[\"FL1:512 FL2:16 DR:0.5 BS:32 LR:0.0005\",\"[78, 199]\"],[\"FL1:512 FL2:16 DR:0.5 BS:32 LR:0.0005\",\"[78, 199]\"],[\"FL1:512 FL2:16 DR:0.5 BS:32 LR:0.0005\",\"[78, 199]\"],[\"FL1:512 FL2:16 DR:0.5 BS:32 LR:0.0005\",\"[78, 199]\"],[\"FL1:512 FL2:16 DR:0.5 BS:32 LR:0.0005\",\"[78, 199]\"],[\"FL1:512 FL2:16 DR:0.5 BS:32 LR:0.0005\",\"[78, 199]\"],[\"FL1:512 FL2:16 DR:0.5 BS:32 LR:0.0005\",\"[78, 199]\"],[\"FL1:512 FL2:16 DR:0.5 BS:32 LR:0.0005\",\"[78, 199]\"],[\"FL1:512 FL2:16 DR:0.5 BS:32 LR:0.0005\",\"[78, 199]\"],[\"FL1:512 FL2:16 DR:0.5 BS:32 LR:0.0005\",\"[78, 199]\"],[\"FL1:512 FL2:16 DR:0.5 BS:32 LR:0.0005\",\"[78, 199]\"],[\"FL1:512 FL2:16 DR:0.5 BS:32 LR:0.0005\",\"[78, 199]\"],[\"FL1:512 FL2:16 DR:0.5 BS:32 LR:0.0005\",\"[78, 199]\"],[\"FL1:512 FL2:16 DR:0.5 BS:32 LR:0.0005\",\"[78, 199]\"],[\"FL1:512 FL2:16 DR:0.5 BS:32 LR:0.0005\",\"[78, 199]\"],[\"FL1:512 FL2:16 DR:0.5 BS:32 LR:0.0005\",\"[78, 199]\"],[\"FL1:512 FL2:16 DR:0.5 BS:32 LR:0.0005\",\"[78, 199]\"],[\"FL1:512 FL2:16 DR:0.5 BS:32 LR:0.0005\",\"[78, 199]\"],[\"FL1:512 FL2:16 DR:0.5 BS:32 LR:0.0005\",\"[78, 199]\"],[\"FL1:512 FL2:16 DR:0.5 BS:32 LR:0.0005\",\"[78, 199]\"],[\"FL1:512 FL2:16 DR:0.5 BS:32 LR:0.0005\",\"[78, 199]\"],[\"FL1:512 FL2:16 DR:0.5 BS:32 LR:0.0005\",\"[78, 199]\"],[\"FL1:512 FL2:16 DR:0.5 BS:32 LR:0.0005\",\"[78, 199]\"],[\"FL1:512 FL2:16 DR:0.5 BS:32 LR:0.0005\",\"[78, 199]\"],[\"FL1:512 FL2:16 DR:0.5 BS:32 LR:0.0005\",\"[78, 199]\"],[\"FL1:512 FL2:16 DR:0.5 BS:32 LR:0.0005\",\"[78, 199]\"],[\"FL1:512 FL2:16 DR:0.5 BS:32 LR:0.0005\",\"[78, 199]\"],[\"FL1:512 FL2:16 DR:0.5 BS:32 LR:0.0005\",\"[78, 199]\"],[\"FL1:512 FL2:16 DR:0.5 BS:32 LR:0.0005\",\"[78, 199]\"],[\"FL1:512 FL2:16 DR:0.5 BS:32 LR:0.0005\",\"[78, 199]\"],[\"FL1:512 FL2:16 DR:0.5 BS:32 LR:0.0005\",\"[78, 199]\"],[\"FL1:512 FL2:16 DR:0.5 BS:32 LR:0.0005\",\"[78, 199]\"],[\"FL1:512 FL2:16 DR:0.5 BS:32 LR:0.0005\",\"[78, 199]\"],[\"FL1:512 FL2:16 DR:0.5 BS:32 LR:0.0005\",\"[78, 199]\"],[\"FL1:512 FL2:16 DR:0.5 BS:32 LR:0.0005\",\"[78, 199]\"],[\"FL1:512 FL2:16 DR:0.5 BS:32 LR:0.0005\",\"[78, 199]\"],[\"FL1:512 FL2:16 DR:0.5 BS:32 LR:0.0005\",\"[78, 199]\"],[\"FL1:512 FL2:16 DR:0.5 BS:32 LR:0.0005\",\"[78, 199]\"],[\"FL1:512 FL2:16 DR:0.5 BS:32 LR:0.0005\",\"[78, 199]\"],[\"FL1:512 FL2:16 DR:0.5 BS:32 LR:0.0005\",\"[78, 199]\"],[\"FL1:512 FL2:16 DR:0.5 BS:32 LR:0.0005\",\"[78, 199]\"],[\"FL1:512 FL2:16 DR:0.5 BS:32 LR:0.0005\",\"[78, 199]\"],[\"FL1:512 FL2:16 DR:0.5 BS:32 LR:0.0005\",\"[78, 199]\"],[\"FL1:512 FL2:16 DR:0.5 BS:32 LR:0.0005\",\"[78, 199]\"],[\"FL1:512 FL2:16 DR:0.5 BS:32 LR:0.0005\",\"[78, 199]\"],[\"FL1:512 FL2:16 DR:0.5 BS:32 LR:0.0005\",\"[78, 199]\"],[\"FL1:512 FL2:16 DR:0.5 BS:32 LR:0.0005\",\"[78, 199]\"],[\"FL1:512 FL2:16 DR:0.5 BS:32 LR:0.0005\",\"[78, 199]\"],[\"FL1:512 FL2:16 DR:0.5 BS:32 LR:0.0005\",\"[78, 199]\"],[\"FL1:512 FL2:16 DR:0.5 BS:32 LR:0.0005\",\"[78, 199]\"],[\"FL1:512 FL2:16 DR:0.5 BS:32 LR:0.0005\",\"[78, 199]\"],[\"FL1:512 FL2:16 DR:0.5 BS:32 LR:0.0005\",\"[78, 199]\"],[\"FL1:512 FL2:16 DR:0.5 BS:32 LR:0.0005\",\"[78, 199]\"],[\"FL1:512 FL2:16 DR:0.5 BS:32 LR:0.0005\",\"[78, 199]\"],[\"FL1:512 FL2:16 DR:0.5 BS:32 LR:0.0005\",\"[78, 199]\"],[\"FL1:512 FL2:16 DR:0.5 BS:32 LR:0.0005\",\"[78, 199]\"],[\"FL1:512 FL2:16 DR:0.5 BS:32 LR:0.0005\",\"[78, 199]\"],[\"FL1:512 FL2:16 DR:0.5 BS:32 LR:0.0005\",\"[78, 199]\"],[\"FL1:512 FL2:16 DR:0.5 BS:32 LR:0.0005\",\"[78, 199]\"],[\"FL1:512 FL2:16 DR:0.5 BS:32 LR:0.0005\",\"[78, 199]\"],[\"FL1:512 FL2:16 DR:0.5 BS:32 LR:0.0005\",\"[78, 199]\"],[\"FL1:512 FL2:16 DR:0.5 BS:32 LR:0.0005\",\"[78, 199]\"],[\"FL1:512 FL2:16 DR:0.5 BS:32 LR:0.0005\",\"[78, 199]\"],[\"FL1:512 FL2:16 DR:0.5 BS:32 LR:0.0005\",\"[78, 199]\"],[\"FL1:512 FL2:16 DR:0.5 BS:32 LR:0.0005\",\"[78, 199]\"],[\"FL1:512 FL2:16 DR:0.5 BS:32 LR:0.0005\",\"[78, 199]\"],[\"FL1:512 FL2:16 DR:0.5 BS:32 LR:0.0005\",\"[78, 199]\"],[\"FL1:512 FL2:16 DR:0.5 BS:32 LR:0.0005\",\"[78, 199]\"],[\"FL1:512 FL2:16 DR:0.5 BS:32 LR:0.0005\",\"[78, 199]\"],[\"FL1:512 FL2:16 DR:0.5 BS:32 LR:0.0005\",\"[78, 199]\"],[\"FL1:512 FL2:16 DR:0.5 BS:32 LR:0.0005\",\"[78, 199]\"],[\"FL1:512 FL2:16 DR:0.5 BS:32 LR:0.0005\",\"[78, 199]\"],[\"FL1:512 FL2:16 DR:0.5 BS:32 LR:0.0005\",\"[78, 199]\"],[\"FL1:512 FL2:16 DR:0.5 BS:32 LR:0.0005\",\"[78, 199]\"],[\"FL1:512 FL2:16 DR:0.5 BS:32 LR:0.0005\",\"[78, 199]\"],[\"FL1:512 FL2:16 DR:0.5 BS:32 LR:0.0005\",\"[78, 199]\"],[\"FL1:512 FL2:16 DR:0.5 BS:32 LR:0.0005\",\"[78, 199]\"],[\"FL1:512 FL2:16 DR:0.5 BS:32 LR:0.0005\",\"[78, 199]\"],[\"FL1:512 FL2:16 DR:0.5 BS:32 LR:0.0005\",\"[78, 199]\"],[\"FL1:512 FL2:16 DR:0.5 BS:32 LR:0.0005\",\"[78, 199]\"],[\"FL1:512 FL2:16 DR:0.5 BS:32 LR:0.0005\",\"[78, 199]\"],[\"FL1:512 FL2:16 DR:0.5 BS:32 LR:0.0005\",\"[78, 199]\"],[\"FL1:512 FL2:16 DR:0.5 BS:32 LR:0.0005\",\"[78, 199]\"],[\"FL1:512 FL2:16 DR:0.5 BS:32 LR:0.0005\",\"[78, 199]\"],[\"FL1:512 FL2:16 DR:0.5 BS:32 LR:0.0005\",\"[78, 199]\"],[\"FL1:512 FL2:16 DR:0.5 BS:32 LR:0.0005\",\"[78, 199]\"],[\"FL1:512 FL2:16 DR:0.5 BS:32 LR:0.0005\",\"[78, 199]\"],[\"FL1:512 FL2:16 DR:0.5 BS:32 LR:0.0005\",\"[78, 199]\"],[\"FL1:512 FL2:16 DR:0.5 BS:32 LR:0.0005\",\"[78, 199]\"],[\"FL1:512 FL2:16 DR:0.5 BS:32 LR:0.0005\",\"[78, 199]\"],[\"FL1:512 FL2:16 DR:0.5 BS:32 LR:0.0005\",\"[78, 199]\"],[\"FL1:512 FL2:16 DR:0.5 BS:32 LR:0.0005\",\"[78, 199]\"],[\"FL1:512 FL2:16 DR:0.5 BS:32 LR:0.0005\",\"[78, 199]\"],[\"FL1:512 FL2:16 DR:0.5 BS:32 LR:0.0005\",\"[78, 199]\"],[\"FL1:512 FL2:16 DR:0.5 BS:32 LR:0.0005\",\"[78, 199]\"],[\"FL1:512 FL2:16 DR:0.5 BS:32 LR:0.0005\",\"[78, 199]\"],[\"FL1:512 FL2:16 DR:0.5 BS:32 LR:0.0005\",\"[78, 199]\"],[\"FL1:512 FL2:16 DR:0.5 BS:32 LR:0.0005\",\"[78, 199]\"],[\"FL1:512 FL2:16 DR:0.5 BS:32 LR:0.0005\",\"[78, 199]\"],[\"FL1:512 FL2:16 DR:0.5 BS:32 LR:0.0005\",\"[78, 199]\"],[\"FL1:512 FL2:16 DR:0.5 BS:32 LR:0.0005\",\"[78, 199]\"],[\"FL1:512 FL2:16 DR:0.5 BS:32 LR:0.0005\",\"[78, 199]\"],[\"FL1:512 FL2:16 DR:0.5 BS:32 LR:0.0005\",\"[78, 199]\"],[\"FL1:512 FL2:16 DR:0.5 BS:32 LR:0.0005\",\"[78, 199]\"],[\"FL1:512 FL2:16 DR:0.5 BS:32 LR:0.0005\",\"[78, 199]\"],[\"FL1:512 FL2:16 DR:0.5 BS:32 LR:0.0005\",\"[78, 199]\"],[\"FL1:512 FL2:16 DR:0.5 BS:32 LR:0.0005\",\"[78, 199]\"],[\"FL1:512 FL2:16 DR:0.5 BS:32 LR:0.0005\",\"[78, 199]\"],[\"FL1:512 FL2:16 DR:0.5 BS:32 LR:0.0005\",\"[78, 199]\"],[\"FL1:512 FL2:16 DR:0.5 BS:32 LR:0.0005\",\"[78, 199]\"],[\"FL1:512 FL2:16 DR:0.5 BS:32 LR:0.0005\",\"[78, 199]\"],[\"FL1:512 FL2:16 DR:0.5 BS:32 LR:0.0005\",\"[78, 199]\"],[\"FL1:512 FL2:16 DR:0.5 BS:32 LR:0.0005\",\"[78, 199]\"]],\"hovertemplate\":\"variable=train_loss\\u003cbr\\u003etrial_id=802fd_00003\\u003cbr\\u003eepoch=%{x}\\u003cbr\\u003evalue=%{y}\\u003cbr\\u003eHyperparameters=%{customdata[0]}\\u003cbr\\u003echeckpoints=%{customdata[1]}\\u003cextra\\u003e\\u003c\\u002fextra\\u003e\",\"legendgroup\":\"train_loss, 802fd_00003\",\"line\":{\"color\":\"#EF553B\",\"dash\":\"longdashdot\"},\"marker\":{\"symbol\":\"circle\"},\"mode\":\"lines\",\"name\":\"train_loss, 802fd_00003\",\"showlegend\":true,\"x\":[0,1,2,3,4,5,6,7,8,9,10,11,12,13,14,15,16,17,18,19,20,21,22,23,24,25,26,27,28,29,30,31,32,33,34,35,36,37,38,39,40,41,42,43,44,45,46,47,48,49,50,51,52,53,54,55,56,57,58,59,60,61,62,63,64,65,66,67,68,69,70,71,72,73,74,75,76,77,78,79,80,81,82,83,84,85,86,87,88,89,90,91,92,93,94,95,96,97,98,99,100,101,102,103,104,105,106,107,108,109,110,111,112,113,114,115,116,117,118,119,120,121,122,123,124,125,126,127,128,129,130,131,132,133,134,135,136,137,138,139,140,141,142,143,144,145,146,147,148,149,150,151,152,153,154,155,156,157,158,159,160,161,162,163,164,165,166,167,168,169,170,171,172,173,174,175,176,177,178,179,180,181,182,183,184,185,186,187,188,189,190,191,192,193,194,195,196,197,198,199],\"xaxis\":\"x\",\"y\":[0.36430928111076266,0.3037228931983302,0.4050743414296023,0.4131889332223797,0.29467706805393845,0.22634278271546449,0.30157862129443436,0.2322167797064352,0.188951346157363,0.31214453967304295,0.3171772803988135,0.43675085876557895,0.3324866665679457,0.3957613755118995,0.3025962072181798,0.24428194976966197,0.2221120808993482,0.1994864884002141,0.1484576810885224,0.1402044602227707,0.19445522679173205,0.1526448241755911,0.14530234779818482,0.10286154595284741,0.13116627929786184,0.13858992356842945,0.1406902654223054,0.11365448200056336,0.07762117656510324,0.13980179013438457,0.1396416705954564,0.1600871521306359,0.155634690527937,0.10914141528627681,0.09026320547078309,0.07023886956416399,0.09736972297325912,0.17493039863040089,0.15153476924849882,0.12424007277457784,0.2913304383275816,0.21777776395068613,0.15968755104333848,0.11733914311190896,0.13140071528130368,0.1260897887877196,0.09189770047906827,0.10608275516194597,0.08159793107617222,0.1291381414659039,0.09618248018471497,0.08872335882880997,0.07567866838242407,0.09493429426528181,0.08098627147858106,0.10175494530323285,0.09909046228410869,0.08529117685676978,0.057263079640638426,0.04122632560704916,0.04843561975541873,0.05966204820992635,0.052325872374389376,0.07878642631425678,0.058734274840051684,0.08673013212660564,0.08558002503302085,0.061025122911310084,0.08481102858025194,0.14347559991173126,0.09599044242173219,0.11462922439753831,0.11096924325346802,0.12365854137817886,0.0839718179917492,0.06233792007904296,0.12343274554240012,0.08433397368219028,0.08075546642559439,0.10803007198981185,0.10165535816624234,0.14080453024357154,0.283748289651668,0.20683063944644112,0.15501688300216437,0.11047435968216415,0.08475949892796508,0.2141024439162496,0.17887184809489248,0.15280800836512223,0.1206651476669891,0.0939360545011747,0.06994722938752088,0.09779085322364077,0.10145650624661884,0.48419120788195913,0.34664376000311087,0.25269429580864705,0.17125360208002985,0.12038850291568871,0.1513057069910815,0.10981162004558576,0.08334789561985811,0.06579291166702157,0.04968337713406641,0.07666789491127668,0.099063469298354,0.10790537186971687,0.40995020593875653,0.28939468902464704,0.21076530916568953,0.23021727272588158,0.17955927447291292,0.12449527431817235,0.09057773769260362,0.11566595812877584,0.10148274206612203,0.0700993263601011,0.04831341455197967,0.03261728165032391,0.0792618614268426,0.10084075211366803,0.08384599977983881,0.06507207188675032,0.045241780057014506,0.0356158691392749,0.02848395226706457,0.031411373902091554,0.02102389924995151,0.014107781359606206,0.015051303983763297,0.020282469437211955,0.013693510366905604,0.012288878236167181,0.02074518957002453,0.014370783659408418,0.026981298786130023,0.0249534205673313,0.04578107552913642,0.03109506489295305,0.04249758751166208,0.059755673712970844,0.04615487536223859,0.09825791670502593,0.09144818702420487,0.06738352908247634,0.046454854417949394,0.04789873468154621,0.03798439275737567,0.033147900776836284,0.09928121134756149,0.072471370896486,0.052386051959155334,0.03516810333917053,0.025300818449520448,0.016867285149746426,0.012597744522378345,0.014082894462933421,0.08502684582510883,0.0567941808123726,0.04337647079059399,0.03984202001577552,0.030329762177903986,0.04938863848794778,0.035139979810097303,0.042996471137191364,0.158741636415577,0.10710603719242318,0.07990876568878949,0.061645134553480474,0.04160257644093254,0.030004360595585353,0.02452026237662724,0.017029963045218525,0.014470423312749395,0.031340752245165034,0.039147518873994154,0.02630482243969224,0.025435350230827405,0.0177158495106594,0.03329822704648267,0.029469336100454335,0.021366167314705045,0.017141116760907408,0.030832984780429198,0.02113564118743083,0.07686431576808339,0.09464810205830465,0.06311917663457009,0.09289870401781106,0.08249283203192077,0.07711643473113572,0.05192887180086635,0.06745982016481705,0.08579796450242534,0.05844820571772843,0.04245471365556176,0.0494270831830305,0.03375463658133326,0.043034392751317256],\"yaxis\":\"y\",\"type\":\"scattergl\"},{\"customdata\":[[\"FL1:512 FL2:16 DR:0.8 BS:32 LR:0.0005\",\"[160, 199]\"],[\"FL1:512 FL2:16 DR:0.8 BS:32 LR:0.0005\",\"[160, 199]\"],[\"FL1:512 FL2:16 DR:0.8 BS:32 LR:0.0005\",\"[160, 199]\"],[\"FL1:512 FL2:16 DR:0.8 BS:32 LR:0.0005\",\"[160, 199]\"],[\"FL1:512 FL2:16 DR:0.8 BS:32 LR:0.0005\",\"[160, 199]\"],[\"FL1:512 FL2:16 DR:0.8 BS:32 LR:0.0005\",\"[160, 199]\"],[\"FL1:512 FL2:16 DR:0.8 BS:32 LR:0.0005\",\"[160, 199]\"],[\"FL1:512 FL2:16 DR:0.8 BS:32 LR:0.0005\",\"[160, 199]\"],[\"FL1:512 FL2:16 DR:0.8 BS:32 LR:0.0005\",\"[160, 199]\"],[\"FL1:512 FL2:16 DR:0.8 BS:32 LR:0.0005\",\"[160, 199]\"],[\"FL1:512 FL2:16 DR:0.8 BS:32 LR:0.0005\",\"[160, 199]\"],[\"FL1:512 FL2:16 DR:0.8 BS:32 LR:0.0005\",\"[160, 199]\"],[\"FL1:512 FL2:16 DR:0.8 BS:32 LR:0.0005\",\"[160, 199]\"],[\"FL1:512 FL2:16 DR:0.8 BS:32 LR:0.0005\",\"[160, 199]\"],[\"FL1:512 FL2:16 DR:0.8 BS:32 LR:0.0005\",\"[160, 199]\"],[\"FL1:512 FL2:16 DR:0.8 BS:32 LR:0.0005\",\"[160, 199]\"],[\"FL1:512 FL2:16 DR:0.8 BS:32 LR:0.0005\",\"[160, 199]\"],[\"FL1:512 FL2:16 DR:0.8 BS:32 LR:0.0005\",\"[160, 199]\"],[\"FL1:512 FL2:16 DR:0.8 BS:32 LR:0.0005\",\"[160, 199]\"],[\"FL1:512 FL2:16 DR:0.8 BS:32 LR:0.0005\",\"[160, 199]\"],[\"FL1:512 FL2:16 DR:0.8 BS:32 LR:0.0005\",\"[160, 199]\"],[\"FL1:512 FL2:16 DR:0.8 BS:32 LR:0.0005\",\"[160, 199]\"],[\"FL1:512 FL2:16 DR:0.8 BS:32 LR:0.0005\",\"[160, 199]\"],[\"FL1:512 FL2:16 DR:0.8 BS:32 LR:0.0005\",\"[160, 199]\"],[\"FL1:512 FL2:16 DR:0.8 BS:32 LR:0.0005\",\"[160, 199]\"],[\"FL1:512 FL2:16 DR:0.8 BS:32 LR:0.0005\",\"[160, 199]\"],[\"FL1:512 FL2:16 DR:0.8 BS:32 LR:0.0005\",\"[160, 199]\"],[\"FL1:512 FL2:16 DR:0.8 BS:32 LR:0.0005\",\"[160, 199]\"],[\"FL1:512 FL2:16 DR:0.8 BS:32 LR:0.0005\",\"[160, 199]\"],[\"FL1:512 FL2:16 DR:0.8 BS:32 LR:0.0005\",\"[160, 199]\"],[\"FL1:512 FL2:16 DR:0.8 BS:32 LR:0.0005\",\"[160, 199]\"],[\"FL1:512 FL2:16 DR:0.8 BS:32 LR:0.0005\",\"[160, 199]\"],[\"FL1:512 FL2:16 DR:0.8 BS:32 LR:0.0005\",\"[160, 199]\"],[\"FL1:512 FL2:16 DR:0.8 BS:32 LR:0.0005\",\"[160, 199]\"],[\"FL1:512 FL2:16 DR:0.8 BS:32 LR:0.0005\",\"[160, 199]\"],[\"FL1:512 FL2:16 DR:0.8 BS:32 LR:0.0005\",\"[160, 199]\"],[\"FL1:512 FL2:16 DR:0.8 BS:32 LR:0.0005\",\"[160, 199]\"],[\"FL1:512 FL2:16 DR:0.8 BS:32 LR:0.0005\",\"[160, 199]\"],[\"FL1:512 FL2:16 DR:0.8 BS:32 LR:0.0005\",\"[160, 199]\"],[\"FL1:512 FL2:16 DR:0.8 BS:32 LR:0.0005\",\"[160, 199]\"],[\"FL1:512 FL2:16 DR:0.8 BS:32 LR:0.0005\",\"[160, 199]\"],[\"FL1:512 FL2:16 DR:0.8 BS:32 LR:0.0005\",\"[160, 199]\"],[\"FL1:512 FL2:16 DR:0.8 BS:32 LR:0.0005\",\"[160, 199]\"],[\"FL1:512 FL2:16 DR:0.8 BS:32 LR:0.0005\",\"[160, 199]\"],[\"FL1:512 FL2:16 DR:0.8 BS:32 LR:0.0005\",\"[160, 199]\"],[\"FL1:512 FL2:16 DR:0.8 BS:32 LR:0.0005\",\"[160, 199]\"],[\"FL1:512 FL2:16 DR:0.8 BS:32 LR:0.0005\",\"[160, 199]\"],[\"FL1:512 FL2:16 DR:0.8 BS:32 LR:0.0005\",\"[160, 199]\"],[\"FL1:512 FL2:16 DR:0.8 BS:32 LR:0.0005\",\"[160, 199]\"],[\"FL1:512 FL2:16 DR:0.8 BS:32 LR:0.0005\",\"[160, 199]\"],[\"FL1:512 FL2:16 DR:0.8 BS:32 LR:0.0005\",\"[160, 199]\"],[\"FL1:512 FL2:16 DR:0.8 BS:32 LR:0.0005\",\"[160, 199]\"],[\"FL1:512 FL2:16 DR:0.8 BS:32 LR:0.0005\",\"[160, 199]\"],[\"FL1:512 FL2:16 DR:0.8 BS:32 LR:0.0005\",\"[160, 199]\"],[\"FL1:512 FL2:16 DR:0.8 BS:32 LR:0.0005\",\"[160, 199]\"],[\"FL1:512 FL2:16 DR:0.8 BS:32 LR:0.0005\",\"[160, 199]\"],[\"FL1:512 FL2:16 DR:0.8 BS:32 LR:0.0005\",\"[160, 199]\"],[\"FL1:512 FL2:16 DR:0.8 BS:32 LR:0.0005\",\"[160, 199]\"],[\"FL1:512 FL2:16 DR:0.8 BS:32 LR:0.0005\",\"[160, 199]\"],[\"FL1:512 FL2:16 DR:0.8 BS:32 LR:0.0005\",\"[160, 199]\"],[\"FL1:512 FL2:16 DR:0.8 BS:32 LR:0.0005\",\"[160, 199]\"],[\"FL1:512 FL2:16 DR:0.8 BS:32 LR:0.0005\",\"[160, 199]\"],[\"FL1:512 FL2:16 DR:0.8 BS:32 LR:0.0005\",\"[160, 199]\"],[\"FL1:512 FL2:16 DR:0.8 BS:32 LR:0.0005\",\"[160, 199]\"],[\"FL1:512 FL2:16 DR:0.8 BS:32 LR:0.0005\",\"[160, 199]\"],[\"FL1:512 FL2:16 DR:0.8 BS:32 LR:0.0005\",\"[160, 199]\"],[\"FL1:512 FL2:16 DR:0.8 BS:32 LR:0.0005\",\"[160, 199]\"],[\"FL1:512 FL2:16 DR:0.8 BS:32 LR:0.0005\",\"[160, 199]\"],[\"FL1:512 FL2:16 DR:0.8 BS:32 LR:0.0005\",\"[160, 199]\"],[\"FL1:512 FL2:16 DR:0.8 BS:32 LR:0.0005\",\"[160, 199]\"],[\"FL1:512 FL2:16 DR:0.8 BS:32 LR:0.0005\",\"[160, 199]\"],[\"FL1:512 FL2:16 DR:0.8 BS:32 LR:0.0005\",\"[160, 199]\"],[\"FL1:512 FL2:16 DR:0.8 BS:32 LR:0.0005\",\"[160, 199]\"],[\"FL1:512 FL2:16 DR:0.8 BS:32 LR:0.0005\",\"[160, 199]\"],[\"FL1:512 FL2:16 DR:0.8 BS:32 LR:0.0005\",\"[160, 199]\"],[\"FL1:512 FL2:16 DR:0.8 BS:32 LR:0.0005\",\"[160, 199]\"],[\"FL1:512 FL2:16 DR:0.8 BS:32 LR:0.0005\",\"[160, 199]\"],[\"FL1:512 FL2:16 DR:0.8 BS:32 LR:0.0005\",\"[160, 199]\"],[\"FL1:512 FL2:16 DR:0.8 BS:32 LR:0.0005\",\"[160, 199]\"],[\"FL1:512 FL2:16 DR:0.8 BS:32 LR:0.0005\",\"[160, 199]\"],[\"FL1:512 FL2:16 DR:0.8 BS:32 LR:0.0005\",\"[160, 199]\"],[\"FL1:512 FL2:16 DR:0.8 BS:32 LR:0.0005\",\"[160, 199]\"],[\"FL1:512 FL2:16 DR:0.8 BS:32 LR:0.0005\",\"[160, 199]\"],[\"FL1:512 FL2:16 DR:0.8 BS:32 LR:0.0005\",\"[160, 199]\"],[\"FL1:512 FL2:16 DR:0.8 BS:32 LR:0.0005\",\"[160, 199]\"],[\"FL1:512 FL2:16 DR:0.8 BS:32 LR:0.0005\",\"[160, 199]\"],[\"FL1:512 FL2:16 DR:0.8 BS:32 LR:0.0005\",\"[160, 199]\"],[\"FL1:512 FL2:16 DR:0.8 BS:32 LR:0.0005\",\"[160, 199]\"],[\"FL1:512 FL2:16 DR:0.8 BS:32 LR:0.0005\",\"[160, 199]\"],[\"FL1:512 FL2:16 DR:0.8 BS:32 LR:0.0005\",\"[160, 199]\"],[\"FL1:512 FL2:16 DR:0.8 BS:32 LR:0.0005\",\"[160, 199]\"],[\"FL1:512 FL2:16 DR:0.8 BS:32 LR:0.0005\",\"[160, 199]\"],[\"FL1:512 FL2:16 DR:0.8 BS:32 LR:0.0005\",\"[160, 199]\"],[\"FL1:512 FL2:16 DR:0.8 BS:32 LR:0.0005\",\"[160, 199]\"],[\"FL1:512 FL2:16 DR:0.8 BS:32 LR:0.0005\",\"[160, 199]\"],[\"FL1:512 FL2:16 DR:0.8 BS:32 LR:0.0005\",\"[160, 199]\"],[\"FL1:512 FL2:16 DR:0.8 BS:32 LR:0.0005\",\"[160, 199]\"],[\"FL1:512 FL2:16 DR:0.8 BS:32 LR:0.0005\",\"[160, 199]\"],[\"FL1:512 FL2:16 DR:0.8 BS:32 LR:0.0005\",\"[160, 199]\"],[\"FL1:512 FL2:16 DR:0.8 BS:32 LR:0.0005\",\"[160, 199]\"],[\"FL1:512 FL2:16 DR:0.8 BS:32 LR:0.0005\",\"[160, 199]\"],[\"FL1:512 FL2:16 DR:0.8 BS:32 LR:0.0005\",\"[160, 199]\"],[\"FL1:512 FL2:16 DR:0.8 BS:32 LR:0.0005\",\"[160, 199]\"],[\"FL1:512 FL2:16 DR:0.8 BS:32 LR:0.0005\",\"[160, 199]\"],[\"FL1:512 FL2:16 DR:0.8 BS:32 LR:0.0005\",\"[160, 199]\"],[\"FL1:512 FL2:16 DR:0.8 BS:32 LR:0.0005\",\"[160, 199]\"],[\"FL1:512 FL2:16 DR:0.8 BS:32 LR:0.0005\",\"[160, 199]\"],[\"FL1:512 FL2:16 DR:0.8 BS:32 LR:0.0005\",\"[160, 199]\"],[\"FL1:512 FL2:16 DR:0.8 BS:32 LR:0.0005\",\"[160, 199]\"],[\"FL1:512 FL2:16 DR:0.8 BS:32 LR:0.0005\",\"[160, 199]\"],[\"FL1:512 FL2:16 DR:0.8 BS:32 LR:0.0005\",\"[160, 199]\"],[\"FL1:512 FL2:16 DR:0.8 BS:32 LR:0.0005\",\"[160, 199]\"],[\"FL1:512 FL2:16 DR:0.8 BS:32 LR:0.0005\",\"[160, 199]\"],[\"FL1:512 FL2:16 DR:0.8 BS:32 LR:0.0005\",\"[160, 199]\"],[\"FL1:512 FL2:16 DR:0.8 BS:32 LR:0.0005\",\"[160, 199]\"],[\"FL1:512 FL2:16 DR:0.8 BS:32 LR:0.0005\",\"[160, 199]\"],[\"FL1:512 FL2:16 DR:0.8 BS:32 LR:0.0005\",\"[160, 199]\"],[\"FL1:512 FL2:16 DR:0.8 BS:32 LR:0.0005\",\"[160, 199]\"],[\"FL1:512 FL2:16 DR:0.8 BS:32 LR:0.0005\",\"[160, 199]\"],[\"FL1:512 FL2:16 DR:0.8 BS:32 LR:0.0005\",\"[160, 199]\"],[\"FL1:512 FL2:16 DR:0.8 BS:32 LR:0.0005\",\"[160, 199]\"],[\"FL1:512 FL2:16 DR:0.8 BS:32 LR:0.0005\",\"[160, 199]\"],[\"FL1:512 FL2:16 DR:0.8 BS:32 LR:0.0005\",\"[160, 199]\"],[\"FL1:512 FL2:16 DR:0.8 BS:32 LR:0.0005\",\"[160, 199]\"],[\"FL1:512 FL2:16 DR:0.8 BS:32 LR:0.0005\",\"[160, 199]\"],[\"FL1:512 FL2:16 DR:0.8 BS:32 LR:0.0005\",\"[160, 199]\"],[\"FL1:512 FL2:16 DR:0.8 BS:32 LR:0.0005\",\"[160, 199]\"],[\"FL1:512 FL2:16 DR:0.8 BS:32 LR:0.0005\",\"[160, 199]\"],[\"FL1:512 FL2:16 DR:0.8 BS:32 LR:0.0005\",\"[160, 199]\"],[\"FL1:512 FL2:16 DR:0.8 BS:32 LR:0.0005\",\"[160, 199]\"],[\"FL1:512 FL2:16 DR:0.8 BS:32 LR:0.0005\",\"[160, 199]\"],[\"FL1:512 FL2:16 DR:0.8 BS:32 LR:0.0005\",\"[160, 199]\"],[\"FL1:512 FL2:16 DR:0.8 BS:32 LR:0.0005\",\"[160, 199]\"],[\"FL1:512 FL2:16 DR:0.8 BS:32 LR:0.0005\",\"[160, 199]\"],[\"FL1:512 FL2:16 DR:0.8 BS:32 LR:0.0005\",\"[160, 199]\"],[\"FL1:512 FL2:16 DR:0.8 BS:32 LR:0.0005\",\"[160, 199]\"],[\"FL1:512 FL2:16 DR:0.8 BS:32 LR:0.0005\",\"[160, 199]\"],[\"FL1:512 FL2:16 DR:0.8 BS:32 LR:0.0005\",\"[160, 199]\"],[\"FL1:512 FL2:16 DR:0.8 BS:32 LR:0.0005\",\"[160, 199]\"],[\"FL1:512 FL2:16 DR:0.8 BS:32 LR:0.0005\",\"[160, 199]\"],[\"FL1:512 FL2:16 DR:0.8 BS:32 LR:0.0005\",\"[160, 199]\"],[\"FL1:512 FL2:16 DR:0.8 BS:32 LR:0.0005\",\"[160, 199]\"],[\"FL1:512 FL2:16 DR:0.8 BS:32 LR:0.0005\",\"[160, 199]\"],[\"FL1:512 FL2:16 DR:0.8 BS:32 LR:0.0005\",\"[160, 199]\"],[\"FL1:512 FL2:16 DR:0.8 BS:32 LR:0.0005\",\"[160, 199]\"],[\"FL1:512 FL2:16 DR:0.8 BS:32 LR:0.0005\",\"[160, 199]\"],[\"FL1:512 FL2:16 DR:0.8 BS:32 LR:0.0005\",\"[160, 199]\"],[\"FL1:512 FL2:16 DR:0.8 BS:32 LR:0.0005\",\"[160, 199]\"],[\"FL1:512 FL2:16 DR:0.8 BS:32 LR:0.0005\",\"[160, 199]\"],[\"FL1:512 FL2:16 DR:0.8 BS:32 LR:0.0005\",\"[160, 199]\"],[\"FL1:512 FL2:16 DR:0.8 BS:32 LR:0.0005\",\"[160, 199]\"],[\"FL1:512 FL2:16 DR:0.8 BS:32 LR:0.0005\",\"[160, 199]\"],[\"FL1:512 FL2:16 DR:0.8 BS:32 LR:0.0005\",\"[160, 199]\"],[\"FL1:512 FL2:16 DR:0.8 BS:32 LR:0.0005\",\"[160, 199]\"],[\"FL1:512 FL2:16 DR:0.8 BS:32 LR:0.0005\",\"[160, 199]\"],[\"FL1:512 FL2:16 DR:0.8 BS:32 LR:0.0005\",\"[160, 199]\"],[\"FL1:512 FL2:16 DR:0.8 BS:32 LR:0.0005\",\"[160, 199]\"],[\"FL1:512 FL2:16 DR:0.8 BS:32 LR:0.0005\",\"[160, 199]\"],[\"FL1:512 FL2:16 DR:0.8 BS:32 LR:0.0005\",\"[160, 199]\"],[\"FL1:512 FL2:16 DR:0.8 BS:32 LR:0.0005\",\"[160, 199]\"],[\"FL1:512 FL2:16 DR:0.8 BS:32 LR:0.0005\",\"[160, 199]\"],[\"FL1:512 FL2:16 DR:0.8 BS:32 LR:0.0005\",\"[160, 199]\"],[\"FL1:512 FL2:16 DR:0.8 BS:32 LR:0.0005\",\"[160, 199]\"],[\"FL1:512 FL2:16 DR:0.8 BS:32 LR:0.0005\",\"[160, 199]\"],[\"FL1:512 FL2:16 DR:0.8 BS:32 LR:0.0005\",\"[160, 199]\"],[\"FL1:512 FL2:16 DR:0.8 BS:32 LR:0.0005\",\"[160, 199]\"],[\"FL1:512 FL2:16 DR:0.8 BS:32 LR:0.0005\",\"[160, 199]\"],[\"FL1:512 FL2:16 DR:0.8 BS:32 LR:0.0005\",\"[160, 199]\"],[\"FL1:512 FL2:16 DR:0.8 BS:32 LR:0.0005\",\"[160, 199]\"],[\"FL1:512 FL2:16 DR:0.8 BS:32 LR:0.0005\",\"[160, 199]\"],[\"FL1:512 FL2:16 DR:0.8 BS:32 LR:0.0005\",\"[160, 199]\"],[\"FL1:512 FL2:16 DR:0.8 BS:32 LR:0.0005\",\"[160, 199]\"],[\"FL1:512 FL2:16 DR:0.8 BS:32 LR:0.0005\",\"[160, 199]\"],[\"FL1:512 FL2:16 DR:0.8 BS:32 LR:0.0005\",\"[160, 199]\"],[\"FL1:512 FL2:16 DR:0.8 BS:32 LR:0.0005\",\"[160, 199]\"],[\"FL1:512 FL2:16 DR:0.8 BS:32 LR:0.0005\",\"[160, 199]\"],[\"FL1:512 FL2:16 DR:0.8 BS:32 LR:0.0005\",\"[160, 199]\"],[\"FL1:512 FL2:16 DR:0.8 BS:32 LR:0.0005\",\"[160, 199]\"],[\"FL1:512 FL2:16 DR:0.8 BS:32 LR:0.0005\",\"[160, 199]\"],[\"FL1:512 FL2:16 DR:0.8 BS:32 LR:0.0005\",\"[160, 199]\"],[\"FL1:512 FL2:16 DR:0.8 BS:32 LR:0.0005\",\"[160, 199]\"],[\"FL1:512 FL2:16 DR:0.8 BS:32 LR:0.0005\",\"[160, 199]\"],[\"FL1:512 FL2:16 DR:0.8 BS:32 LR:0.0005\",\"[160, 199]\"],[\"FL1:512 FL2:16 DR:0.8 BS:32 LR:0.0005\",\"[160, 199]\"],[\"FL1:512 FL2:16 DR:0.8 BS:32 LR:0.0005\",\"[160, 199]\"],[\"FL1:512 FL2:16 DR:0.8 BS:32 LR:0.0005\",\"[160, 199]\"],[\"FL1:512 FL2:16 DR:0.8 BS:32 LR:0.0005\",\"[160, 199]\"],[\"FL1:512 FL2:16 DR:0.8 BS:32 LR:0.0005\",\"[160, 199]\"],[\"FL1:512 FL2:16 DR:0.8 BS:32 LR:0.0005\",\"[160, 199]\"],[\"FL1:512 FL2:16 DR:0.8 BS:32 LR:0.0005\",\"[160, 199]\"],[\"FL1:512 FL2:16 DR:0.8 BS:32 LR:0.0005\",\"[160, 199]\"],[\"FL1:512 FL2:16 DR:0.8 BS:32 LR:0.0005\",\"[160, 199]\"],[\"FL1:512 FL2:16 DR:0.8 BS:32 LR:0.0005\",\"[160, 199]\"],[\"FL1:512 FL2:16 DR:0.8 BS:32 LR:0.0005\",\"[160, 199]\"],[\"FL1:512 FL2:16 DR:0.8 BS:32 LR:0.0005\",\"[160, 199]\"],[\"FL1:512 FL2:16 DR:0.8 BS:32 LR:0.0005\",\"[160, 199]\"],[\"FL1:512 FL2:16 DR:0.8 BS:32 LR:0.0005\",\"[160, 199]\"],[\"FL1:512 FL2:16 DR:0.8 BS:32 LR:0.0005\",\"[160, 199]\"],[\"FL1:512 FL2:16 DR:0.8 BS:32 LR:0.0005\",\"[160, 199]\"],[\"FL1:512 FL2:16 DR:0.8 BS:32 LR:0.0005\",\"[160, 199]\"]],\"hovertemplate\":\"variable=train_loss\\u003cbr\\u003etrial_id=802fd_00268\\u003cbr\\u003eepoch=%{x}\\u003cbr\\u003evalue=%{y}\\u003cbr\\u003eHyperparameters=%{customdata[0]}\\u003cbr\\u003echeckpoints=%{customdata[1]}\\u003cextra\\u003e\\u003c\\u002fextra\\u003e\",\"legendgroup\":\"train_loss, 802fd_00268\",\"line\":{\"color\":\"#EF553B\",\"dash\":\"solid\"},\"marker\":{\"symbol\":\"circle\"},\"mode\":\"lines\",\"name\":\"train_loss, 802fd_00268\",\"showlegend\":true,\"x\":[0,1,2,3,4,5,6,7,8,9,10,11,12,13,14,15,16,17,18,19,20,21,22,23,24,25,26,27,28,29,30,31,32,33,34,35,36,37,38,39,40,41,42,43,44,45,46,47,48,49,50,51,52,53,54,55,56,57,58,59,60,61,62,63,64,65,66,67,68,69,70,71,72,73,74,75,76,77,78,79,80,81,82,83,84,85,86,87,88,89,90,91,92,93,94,95,96,97,98,99,100,101,102,103,104,105,106,107,108,109,110,111,112,113,114,115,116,117,118,119,120,121,122,123,124,125,126,127,128,129,130,131,132,133,134,135,136,137,138,139,140,141,142,143,144,145,146,147,148,149,150,151,152,153,154,155,156,157,158,159,160,161,162,163,164,165,166,167,168,169,170,171,172,173,174,175,176,177,178,179,180,181,182,183,184,185,186,187,188,189,190,191,192,193,194,195,196,197,198,199],\"xaxis\":\"x\",\"y\":[0.6847617030143721,0.688381095727282,0.6634485257996421,0.6603681334742755,0.5591178959534459,0.4858336830090073,0.482006177898948,0.42504839141945283,0.45012057516164294,0.49991137248401174,0.42597305087330756,0.42830630678655474,0.39217287989935384,0.4614277329211824,0.46390199635859175,0.46848876260675104,0.3945849255254336,0.3877645244552331,0.34543086822520547,0.32381667849547835,0.4506247385152638,0.42821168196257253,0.36353877214627944,0.3330194653937379,0.3832990627731973,0.4089249538876002,0.38162847475855705,0.3031847766150972,0.2915282541586247,0.3138703302590896,0.3011360397636122,0.32437525727346295,0.3012541038327393,0.23896973017407616,0.2817243548469611,0.3051078062744178,0.30123479442405876,0.3608724360771179,0.38061412408002115,0.37036213764911075,0.4234002463643087,0.33992546847292626,0.2761717293052461,0.2981353603064069,0.3031898771563528,0.3151651941961279,0.30377949431381096,0.30562449266408126,0.23284341656429378,0.39271250541516506,0.37102972583974897,0.26437061812815055,0.2628000861163728,0.2741665069100448,0.3128752989131327,0.30136039737582904,0.2682149799911223,0.23610136027124434,0.24307932532487195,0.3040911990845052,0.2433756905094679,0.2306880366335901,0.19195765333245782,0.27431643060095057,0.22224455360735063,0.20819392822957394,0.3219163021960269,0.2755528821891151,0.354459950284533,0.32447613872181796,0.27076015437372103,0.2613549418894946,0.28941302747517733,0.2603912552263329,0.20438215468101936,0.23344702743009155,0.29684058641404093,0.25822709543844136,0.23756264675550995,0.31510830275809215,0.23425597931011133,0.2852607534002164,0.43912916485937914,0.4123829047181365,0.313887844668372,0.24606570531033353,0.22479973189766417,0.22589558993932354,0.21889212651488962,0.16860662846722707,0.20664886930888493,0.18971279627287088,0.1795406663828667,0.204997769621582,0.22218088747896764,0.21496015251900052,0.21342242897368285,0.2751662906065031,0.27935787214533714,0.21720396925142205,0.3978198332861431,0.4668270656317702,0.3473049606780361,0.2821889308359985,0.2476456272778748,0.2439775985597127,0.19396176418453787,0.21801421695808723,0.3235060417245492,0.29253389892251336,0.27499725558539867,0.32376067266318853,0.3636156911681327,0.29896687931684834,0.3121229275522501,0.27300402617837743,0.2521012282794428,0.18328459603426925,0.21731517740645648,0.15679982861584177,0.2390312092880779,0.2351160984821032,0.1802056956017619,0.16732121028665703,0.15659796044670182,0.19286565214688606,0.20031494220293194,0.22833690259321876,0.3475481285880946,0.27792466277751243,0.26870496468327326,0.2501188609108779,0.24372594178421267,0.19775350720155857,0.22815962851357802,0.2288971690357543,0.2208555041432917,0.19720483314199808,0.21406052338549475,0.1739688272441026,0.1982274737732005,0.23036454695969033,0.18626874488929362,0.26765402027195884,0.2134952445376327,0.1876969221266379,0.1593204435727508,0.16185319900655115,0.22170746644432837,0.29464078161514684,0.4366236343211374,0.34416293198707604,0.2794586211101403,0.20137955966301682,0.22878341358706566,0.20988713689516084,0.1829073362076948,0.1767679457879506,0.22064046098235124,0.21509863127233453,0.18496100646894387,0.24558949498760094,0.24380151946297815,0.26871693146858894,0.2634540896457711,0.22250276975116953,0.1976963938758226,0.14616051599286994,0.14312544157043397,0.0992991670920471,0.12781427601668655,0.10862831142010551,0.14869251924397003,0.18237281393767302,0.14250351108948975,0.17732519651678205,0.20265259838916794,0.24245755537892594,0.235699426230756,0.2099890981097797,0.2484849972181696,0.21789769713436058,0.18764982047580642,0.1697102813118227,0.1966800311004797,0.1844331121309382,0.16719521720301955,0.141840357012827,0.12548474449401326,0.1478193268410706,0.16882668536453352,0.15691111055711146,0.1652873792098573,0.12214137740245197,0.11132597759240667,0.08918002014275249,0.13970113141613383,0.20066652922681344,0.15187417660389577,0.2293348259014162],\"yaxis\":\"y\",\"type\":\"scattergl\"},{\"customdata\":[[\"FL1:16 FL2:16 DR:0.8 BS:64 LR:0.0001\",\"[157, 199]\"],[\"FL1:16 FL2:16 DR:0.8 BS:64 LR:0.0001\",\"[157, 199]\"],[\"FL1:16 FL2:16 DR:0.8 BS:64 LR:0.0001\",\"[157, 199]\"],[\"FL1:16 FL2:16 DR:0.8 BS:64 LR:0.0001\",\"[157, 199]\"],[\"FL1:16 FL2:16 DR:0.8 BS:64 LR:0.0001\",\"[157, 199]\"],[\"FL1:16 FL2:16 DR:0.8 BS:64 LR:0.0001\",\"[157, 199]\"],[\"FL1:16 FL2:16 DR:0.8 BS:64 LR:0.0001\",\"[157, 199]\"],[\"FL1:16 FL2:16 DR:0.8 BS:64 LR:0.0001\",\"[157, 199]\"],[\"FL1:16 FL2:16 DR:0.8 BS:64 LR:0.0001\",\"[157, 199]\"],[\"FL1:16 FL2:16 DR:0.8 BS:64 LR:0.0001\",\"[157, 199]\"],[\"FL1:16 FL2:16 DR:0.8 BS:64 LR:0.0001\",\"[157, 199]\"],[\"FL1:16 FL2:16 DR:0.8 BS:64 LR:0.0001\",\"[157, 199]\"],[\"FL1:16 FL2:16 DR:0.8 BS:64 LR:0.0001\",\"[157, 199]\"],[\"FL1:16 FL2:16 DR:0.8 BS:64 LR:0.0001\",\"[157, 199]\"],[\"FL1:16 FL2:16 DR:0.8 BS:64 LR:0.0001\",\"[157, 199]\"],[\"FL1:16 FL2:16 DR:0.8 BS:64 LR:0.0001\",\"[157, 199]\"],[\"FL1:16 FL2:16 DR:0.8 BS:64 LR:0.0001\",\"[157, 199]\"],[\"FL1:16 FL2:16 DR:0.8 BS:64 LR:0.0001\",\"[157, 199]\"],[\"FL1:16 FL2:16 DR:0.8 BS:64 LR:0.0001\",\"[157, 199]\"],[\"FL1:16 FL2:16 DR:0.8 BS:64 LR:0.0001\",\"[157, 199]\"],[\"FL1:16 FL2:16 DR:0.8 BS:64 LR:0.0001\",\"[157, 199]\"],[\"FL1:16 FL2:16 DR:0.8 BS:64 LR:0.0001\",\"[157, 199]\"],[\"FL1:16 FL2:16 DR:0.8 BS:64 LR:0.0001\",\"[157, 199]\"],[\"FL1:16 FL2:16 DR:0.8 BS:64 LR:0.0001\",\"[157, 199]\"],[\"FL1:16 FL2:16 DR:0.8 BS:64 LR:0.0001\",\"[157, 199]\"],[\"FL1:16 FL2:16 DR:0.8 BS:64 LR:0.0001\",\"[157, 199]\"],[\"FL1:16 FL2:16 DR:0.8 BS:64 LR:0.0001\",\"[157, 199]\"],[\"FL1:16 FL2:16 DR:0.8 BS:64 LR:0.0001\",\"[157, 199]\"],[\"FL1:16 FL2:16 DR:0.8 BS:64 LR:0.0001\",\"[157, 199]\"],[\"FL1:16 FL2:16 DR:0.8 BS:64 LR:0.0001\",\"[157, 199]\"],[\"FL1:16 FL2:16 DR:0.8 BS:64 LR:0.0001\",\"[157, 199]\"],[\"FL1:16 FL2:16 DR:0.8 BS:64 LR:0.0001\",\"[157, 199]\"],[\"FL1:16 FL2:16 DR:0.8 BS:64 LR:0.0001\",\"[157, 199]\"],[\"FL1:16 FL2:16 DR:0.8 BS:64 LR:0.0001\",\"[157, 199]\"],[\"FL1:16 FL2:16 DR:0.8 BS:64 LR:0.0001\",\"[157, 199]\"],[\"FL1:16 FL2:16 DR:0.8 BS:64 LR:0.0001\",\"[157, 199]\"],[\"FL1:16 FL2:16 DR:0.8 BS:64 LR:0.0001\",\"[157, 199]\"],[\"FL1:16 FL2:16 DR:0.8 BS:64 LR:0.0001\",\"[157, 199]\"],[\"FL1:16 FL2:16 DR:0.8 BS:64 LR:0.0001\",\"[157, 199]\"],[\"FL1:16 FL2:16 DR:0.8 BS:64 LR:0.0001\",\"[157, 199]\"],[\"FL1:16 FL2:16 DR:0.8 BS:64 LR:0.0001\",\"[157, 199]\"],[\"FL1:16 FL2:16 DR:0.8 BS:64 LR:0.0001\",\"[157, 199]\"],[\"FL1:16 FL2:16 DR:0.8 BS:64 LR:0.0001\",\"[157, 199]\"],[\"FL1:16 FL2:16 DR:0.8 BS:64 LR:0.0001\",\"[157, 199]\"],[\"FL1:16 FL2:16 DR:0.8 BS:64 LR:0.0001\",\"[157, 199]\"],[\"FL1:16 FL2:16 DR:0.8 BS:64 LR:0.0001\",\"[157, 199]\"],[\"FL1:16 FL2:16 DR:0.8 BS:64 LR:0.0001\",\"[157, 199]\"],[\"FL1:16 FL2:16 DR:0.8 BS:64 LR:0.0001\",\"[157, 199]\"],[\"FL1:16 FL2:16 DR:0.8 BS:64 LR:0.0001\",\"[157, 199]\"],[\"FL1:16 FL2:16 DR:0.8 BS:64 LR:0.0001\",\"[157, 199]\"],[\"FL1:16 FL2:16 DR:0.8 BS:64 LR:0.0001\",\"[157, 199]\"],[\"FL1:16 FL2:16 DR:0.8 BS:64 LR:0.0001\",\"[157, 199]\"],[\"FL1:16 FL2:16 DR:0.8 BS:64 LR:0.0001\",\"[157, 199]\"],[\"FL1:16 FL2:16 DR:0.8 BS:64 LR:0.0001\",\"[157, 199]\"],[\"FL1:16 FL2:16 DR:0.8 BS:64 LR:0.0001\",\"[157, 199]\"],[\"FL1:16 FL2:16 DR:0.8 BS:64 LR:0.0001\",\"[157, 199]\"],[\"FL1:16 FL2:16 DR:0.8 BS:64 LR:0.0001\",\"[157, 199]\"],[\"FL1:16 FL2:16 DR:0.8 BS:64 LR:0.0001\",\"[157, 199]\"],[\"FL1:16 FL2:16 DR:0.8 BS:64 LR:0.0001\",\"[157, 199]\"],[\"FL1:16 FL2:16 DR:0.8 BS:64 LR:0.0001\",\"[157, 199]\"],[\"FL1:16 FL2:16 DR:0.8 BS:64 LR:0.0001\",\"[157, 199]\"],[\"FL1:16 FL2:16 DR:0.8 BS:64 LR:0.0001\",\"[157, 199]\"],[\"FL1:16 FL2:16 DR:0.8 BS:64 LR:0.0001\",\"[157, 199]\"],[\"FL1:16 FL2:16 DR:0.8 BS:64 LR:0.0001\",\"[157, 199]\"],[\"FL1:16 FL2:16 DR:0.8 BS:64 LR:0.0001\",\"[157, 199]\"],[\"FL1:16 FL2:16 DR:0.8 BS:64 LR:0.0001\",\"[157, 199]\"],[\"FL1:16 FL2:16 DR:0.8 BS:64 LR:0.0001\",\"[157, 199]\"],[\"FL1:16 FL2:16 DR:0.8 BS:64 LR:0.0001\",\"[157, 199]\"],[\"FL1:16 FL2:16 DR:0.8 BS:64 LR:0.0001\",\"[157, 199]\"],[\"FL1:16 FL2:16 DR:0.8 BS:64 LR:0.0001\",\"[157, 199]\"],[\"FL1:16 FL2:16 DR:0.8 BS:64 LR:0.0001\",\"[157, 199]\"],[\"FL1:16 FL2:16 DR:0.8 BS:64 LR:0.0001\",\"[157, 199]\"],[\"FL1:16 FL2:16 DR:0.8 BS:64 LR:0.0001\",\"[157, 199]\"],[\"FL1:16 FL2:16 DR:0.8 BS:64 LR:0.0001\",\"[157, 199]\"],[\"FL1:16 FL2:16 DR:0.8 BS:64 LR:0.0001\",\"[157, 199]\"],[\"FL1:16 FL2:16 DR:0.8 BS:64 LR:0.0001\",\"[157, 199]\"],[\"FL1:16 FL2:16 DR:0.8 BS:64 LR:0.0001\",\"[157, 199]\"],[\"FL1:16 FL2:16 DR:0.8 BS:64 LR:0.0001\",\"[157, 199]\"],[\"FL1:16 FL2:16 DR:0.8 BS:64 LR:0.0001\",\"[157, 199]\"],[\"FL1:16 FL2:16 DR:0.8 BS:64 LR:0.0001\",\"[157, 199]\"],[\"FL1:16 FL2:16 DR:0.8 BS:64 LR:0.0001\",\"[157, 199]\"],[\"FL1:16 FL2:16 DR:0.8 BS:64 LR:0.0001\",\"[157, 199]\"],[\"FL1:16 FL2:16 DR:0.8 BS:64 LR:0.0001\",\"[157, 199]\"],[\"FL1:16 FL2:16 DR:0.8 BS:64 LR:0.0001\",\"[157, 199]\"],[\"FL1:16 FL2:16 DR:0.8 BS:64 LR:0.0001\",\"[157, 199]\"],[\"FL1:16 FL2:16 DR:0.8 BS:64 LR:0.0001\",\"[157, 199]\"],[\"FL1:16 FL2:16 DR:0.8 BS:64 LR:0.0001\",\"[157, 199]\"],[\"FL1:16 FL2:16 DR:0.8 BS:64 LR:0.0001\",\"[157, 199]\"],[\"FL1:16 FL2:16 DR:0.8 BS:64 LR:0.0001\",\"[157, 199]\"],[\"FL1:16 FL2:16 DR:0.8 BS:64 LR:0.0001\",\"[157, 199]\"],[\"FL1:16 FL2:16 DR:0.8 BS:64 LR:0.0001\",\"[157, 199]\"],[\"FL1:16 FL2:16 DR:0.8 BS:64 LR:0.0001\",\"[157, 199]\"],[\"FL1:16 FL2:16 DR:0.8 BS:64 LR:0.0001\",\"[157, 199]\"],[\"FL1:16 FL2:16 DR:0.8 BS:64 LR:0.0001\",\"[157, 199]\"],[\"FL1:16 FL2:16 DR:0.8 BS:64 LR:0.0001\",\"[157, 199]\"],[\"FL1:16 FL2:16 DR:0.8 BS:64 LR:0.0001\",\"[157, 199]\"],[\"FL1:16 FL2:16 DR:0.8 BS:64 LR:0.0001\",\"[157, 199]\"],[\"FL1:16 FL2:16 DR:0.8 BS:64 LR:0.0001\",\"[157, 199]\"],[\"FL1:16 FL2:16 DR:0.8 BS:64 LR:0.0001\",\"[157, 199]\"],[\"FL1:16 FL2:16 DR:0.8 BS:64 LR:0.0001\",\"[157, 199]\"],[\"FL1:16 FL2:16 DR:0.8 BS:64 LR:0.0001\",\"[157, 199]\"],[\"FL1:16 FL2:16 DR:0.8 BS:64 LR:0.0001\",\"[157, 199]\"],[\"FL1:16 FL2:16 DR:0.8 BS:64 LR:0.0001\",\"[157, 199]\"],[\"FL1:16 FL2:16 DR:0.8 BS:64 LR:0.0001\",\"[157, 199]\"],[\"FL1:16 FL2:16 DR:0.8 BS:64 LR:0.0001\",\"[157, 199]\"],[\"FL1:16 FL2:16 DR:0.8 BS:64 LR:0.0001\",\"[157, 199]\"],[\"FL1:16 FL2:16 DR:0.8 BS:64 LR:0.0001\",\"[157, 199]\"],[\"FL1:16 FL2:16 DR:0.8 BS:64 LR:0.0001\",\"[157, 199]\"],[\"FL1:16 FL2:16 DR:0.8 BS:64 LR:0.0001\",\"[157, 199]\"],[\"FL1:16 FL2:16 DR:0.8 BS:64 LR:0.0001\",\"[157, 199]\"],[\"FL1:16 FL2:16 DR:0.8 BS:64 LR:0.0001\",\"[157, 199]\"],[\"FL1:16 FL2:16 DR:0.8 BS:64 LR:0.0001\",\"[157, 199]\"],[\"FL1:16 FL2:16 DR:0.8 BS:64 LR:0.0001\",\"[157, 199]\"],[\"FL1:16 FL2:16 DR:0.8 BS:64 LR:0.0001\",\"[157, 199]\"],[\"FL1:16 FL2:16 DR:0.8 BS:64 LR:0.0001\",\"[157, 199]\"],[\"FL1:16 FL2:16 DR:0.8 BS:64 LR:0.0001\",\"[157, 199]\"],[\"FL1:16 FL2:16 DR:0.8 BS:64 LR:0.0001\",\"[157, 199]\"],[\"FL1:16 FL2:16 DR:0.8 BS:64 LR:0.0001\",\"[157, 199]\"],[\"FL1:16 FL2:16 DR:0.8 BS:64 LR:0.0001\",\"[157, 199]\"],[\"FL1:16 FL2:16 DR:0.8 BS:64 LR:0.0001\",\"[157, 199]\"],[\"FL1:16 FL2:16 DR:0.8 BS:64 LR:0.0001\",\"[157, 199]\"],[\"FL1:16 FL2:16 DR:0.8 BS:64 LR:0.0001\",\"[157, 199]\"],[\"FL1:16 FL2:16 DR:0.8 BS:64 LR:0.0001\",\"[157, 199]\"],[\"FL1:16 FL2:16 DR:0.8 BS:64 LR:0.0001\",\"[157, 199]\"],[\"FL1:16 FL2:16 DR:0.8 BS:64 LR:0.0001\",\"[157, 199]\"],[\"FL1:16 FL2:16 DR:0.8 BS:64 LR:0.0001\",\"[157, 199]\"],[\"FL1:16 FL2:16 DR:0.8 BS:64 LR:0.0001\",\"[157, 199]\"],[\"FL1:16 FL2:16 DR:0.8 BS:64 LR:0.0001\",\"[157, 199]\"],[\"FL1:16 FL2:16 DR:0.8 BS:64 LR:0.0001\",\"[157, 199]\"],[\"FL1:16 FL2:16 DR:0.8 BS:64 LR:0.0001\",\"[157, 199]\"],[\"FL1:16 FL2:16 DR:0.8 BS:64 LR:0.0001\",\"[157, 199]\"],[\"FL1:16 FL2:16 DR:0.8 BS:64 LR:0.0001\",\"[157, 199]\"],[\"FL1:16 FL2:16 DR:0.8 BS:64 LR:0.0001\",\"[157, 199]\"],[\"FL1:16 FL2:16 DR:0.8 BS:64 LR:0.0001\",\"[157, 199]\"],[\"FL1:16 FL2:16 DR:0.8 BS:64 LR:0.0001\",\"[157, 199]\"],[\"FL1:16 FL2:16 DR:0.8 BS:64 LR:0.0001\",\"[157, 199]\"],[\"FL1:16 FL2:16 DR:0.8 BS:64 LR:0.0001\",\"[157, 199]\"],[\"FL1:16 FL2:16 DR:0.8 BS:64 LR:0.0001\",\"[157, 199]\"],[\"FL1:16 FL2:16 DR:0.8 BS:64 LR:0.0001\",\"[157, 199]\"],[\"FL1:16 FL2:16 DR:0.8 BS:64 LR:0.0001\",\"[157, 199]\"],[\"FL1:16 FL2:16 DR:0.8 BS:64 LR:0.0001\",\"[157, 199]\"],[\"FL1:16 FL2:16 DR:0.8 BS:64 LR:0.0001\",\"[157, 199]\"],[\"FL1:16 FL2:16 DR:0.8 BS:64 LR:0.0001\",\"[157, 199]\"],[\"FL1:16 FL2:16 DR:0.8 BS:64 LR:0.0001\",\"[157, 199]\"],[\"FL1:16 FL2:16 DR:0.8 BS:64 LR:0.0001\",\"[157, 199]\"],[\"FL1:16 FL2:16 DR:0.8 BS:64 LR:0.0001\",\"[157, 199]\"],[\"FL1:16 FL2:16 DR:0.8 BS:64 LR:0.0001\",\"[157, 199]\"],[\"FL1:16 FL2:16 DR:0.8 BS:64 LR:0.0001\",\"[157, 199]\"],[\"FL1:16 FL2:16 DR:0.8 BS:64 LR:0.0001\",\"[157, 199]\"],[\"FL1:16 FL2:16 DR:0.8 BS:64 LR:0.0001\",\"[157, 199]\"],[\"FL1:16 FL2:16 DR:0.8 BS:64 LR:0.0001\",\"[157, 199]\"],[\"FL1:16 FL2:16 DR:0.8 BS:64 LR:0.0001\",\"[157, 199]\"],[\"FL1:16 FL2:16 DR:0.8 BS:64 LR:0.0001\",\"[157, 199]\"],[\"FL1:16 FL2:16 DR:0.8 BS:64 LR:0.0001\",\"[157, 199]\"],[\"FL1:16 FL2:16 DR:0.8 BS:64 LR:0.0001\",\"[157, 199]\"],[\"FL1:16 FL2:16 DR:0.8 BS:64 LR:0.0001\",\"[157, 199]\"],[\"FL1:16 FL2:16 DR:0.8 BS:64 LR:0.0001\",\"[157, 199]\"],[\"FL1:16 FL2:16 DR:0.8 BS:64 LR:0.0001\",\"[157, 199]\"],[\"FL1:16 FL2:16 DR:0.8 BS:64 LR:0.0001\",\"[157, 199]\"],[\"FL1:16 FL2:16 DR:0.8 BS:64 LR:0.0001\",\"[157, 199]\"],[\"FL1:16 FL2:16 DR:0.8 BS:64 LR:0.0001\",\"[157, 199]\"],[\"FL1:16 FL2:16 DR:0.8 BS:64 LR:0.0001\",\"[157, 199]\"],[\"FL1:16 FL2:16 DR:0.8 BS:64 LR:0.0001\",\"[157, 199]\"],[\"FL1:16 FL2:16 DR:0.8 BS:64 LR:0.0001\",\"[157, 199]\"],[\"FL1:16 FL2:16 DR:0.8 BS:64 LR:0.0001\",\"[157, 199]\"],[\"FL1:16 FL2:16 DR:0.8 BS:64 LR:0.0001\",\"[157, 199]\"],[\"FL1:16 FL2:16 DR:0.8 BS:64 LR:0.0001\",\"[157, 199]\"],[\"FL1:16 FL2:16 DR:0.8 BS:64 LR:0.0001\",\"[157, 199]\"],[\"FL1:16 FL2:16 DR:0.8 BS:64 LR:0.0001\",\"[157, 199]\"],[\"FL1:16 FL2:16 DR:0.8 BS:64 LR:0.0001\",\"[157, 199]\"],[\"FL1:16 FL2:16 DR:0.8 BS:64 LR:0.0001\",\"[157, 199]\"],[\"FL1:16 FL2:16 DR:0.8 BS:64 LR:0.0001\",\"[157, 199]\"],[\"FL1:16 FL2:16 DR:0.8 BS:64 LR:0.0001\",\"[157, 199]\"],[\"FL1:16 FL2:16 DR:0.8 BS:64 LR:0.0001\",\"[157, 199]\"],[\"FL1:16 FL2:16 DR:0.8 BS:64 LR:0.0001\",\"[157, 199]\"],[\"FL1:16 FL2:16 DR:0.8 BS:64 LR:0.0001\",\"[157, 199]\"],[\"FL1:16 FL2:16 DR:0.8 BS:64 LR:0.0001\",\"[157, 199]\"],[\"FL1:16 FL2:16 DR:0.8 BS:64 LR:0.0001\",\"[157, 199]\"],[\"FL1:16 FL2:16 DR:0.8 BS:64 LR:0.0001\",\"[157, 199]\"],[\"FL1:16 FL2:16 DR:0.8 BS:64 LR:0.0001\",\"[157, 199]\"],[\"FL1:16 FL2:16 DR:0.8 BS:64 LR:0.0001\",\"[157, 199]\"],[\"FL1:16 FL2:16 DR:0.8 BS:64 LR:0.0001\",\"[157, 199]\"],[\"FL1:16 FL2:16 DR:0.8 BS:64 LR:0.0001\",\"[157, 199]\"],[\"FL1:16 FL2:16 DR:0.8 BS:64 LR:0.0001\",\"[157, 199]\"],[\"FL1:16 FL2:16 DR:0.8 BS:64 LR:0.0001\",\"[157, 199]\"],[\"FL1:16 FL2:16 DR:0.8 BS:64 LR:0.0001\",\"[157, 199]\"],[\"FL1:16 FL2:16 DR:0.8 BS:64 LR:0.0001\",\"[157, 199]\"],[\"FL1:16 FL2:16 DR:0.8 BS:64 LR:0.0001\",\"[157, 199]\"],[\"FL1:16 FL2:16 DR:0.8 BS:64 LR:0.0001\",\"[157, 199]\"],[\"FL1:16 FL2:16 DR:0.8 BS:64 LR:0.0001\",\"[157, 199]\"],[\"FL1:16 FL2:16 DR:0.8 BS:64 LR:0.0001\",\"[157, 199]\"],[\"FL1:16 FL2:16 DR:0.8 BS:64 LR:0.0001\",\"[157, 199]\"],[\"FL1:16 FL2:16 DR:0.8 BS:64 LR:0.0001\",\"[157, 199]\"],[\"FL1:16 FL2:16 DR:0.8 BS:64 LR:0.0001\",\"[157, 199]\"],[\"FL1:16 FL2:16 DR:0.8 BS:64 LR:0.0001\",\"[157, 199]\"],[\"FL1:16 FL2:16 DR:0.8 BS:64 LR:0.0001\",\"[157, 199]\"],[\"FL1:16 FL2:16 DR:0.8 BS:64 LR:0.0001\",\"[157, 199]\"],[\"FL1:16 FL2:16 DR:0.8 BS:64 LR:0.0001\",\"[157, 199]\"],[\"FL1:16 FL2:16 DR:0.8 BS:64 LR:0.0001\",\"[157, 199]\"],[\"FL1:16 FL2:16 DR:0.8 BS:64 LR:0.0001\",\"[157, 199]\"]],\"hovertemplate\":\"variable=train_loss\\u003cbr\\u003etrial_id=802fd_00036\\u003cbr\\u003eepoch=%{x}\\u003cbr\\u003evalue=%{y}\\u003cbr\\u003eHyperparameters=%{customdata[0]}\\u003cbr\\u003echeckpoints=%{customdata[1]}\\u003cextra\\u003e\\u003c\\u002fextra\\u003e\",\"legendgroup\":\"train_loss, 802fd_00036\",\"line\":{\"color\":\"#EF553B\",\"dash\":\"dot\"},\"marker\":{\"symbol\":\"circle\"},\"mode\":\"lines\",\"name\":\"train_loss, 802fd_00036\",\"showlegend\":true,\"x\":[0,1,2,3,4,5,6,7,8,9,10,11,12,13,14,15,16,17,18,19,20,21,22,23,24,25,26,27,28,29,30,31,32,33,34,35,36,37,38,39,40,41,42,43,44,45,46,47,48,49,50,51,52,53,54,55,56,57,58,59,60,61,62,63,64,65,66,67,68,69,70,71,72,73,74,75,76,77,78,79,80,81,82,83,84,85,86,87,88,89,90,91,92,93,94,95,96,97,98,99,100,101,102,103,104,105,106,107,108,109,110,111,112,113,114,115,116,117,118,119,120,121,122,123,124,125,126,127,128,129,130,131,132,133,134,135,136,137,138,139,140,141,142,143,144,145,146,147,148,149,150,151,152,153,154,155,156,157,158,159,160,161,162,163,164,165,166,167,168,169,170,171,172,173,174,175,176,177,178,179,180,181,182,183,184,185,186,187,188,189,190,191,192,193,194,195,196,197,198,199],\"xaxis\":\"x\",\"y\":[0.7146906852722151,0.6984640955924961,0.6915214260419176,0.6970969173643284,0.6978499911449529,0.6915717934384714,0.6854102952490082,0.6858090588258243,0.6776510562371223,0.6868117508537892,0.6906545597478612,0.6859108698477241,0.6831161507043486,0.6919105535131838,0.691854707756448,0.6882246880788311,0.6707121033839836,0.6614507966155762,0.6608355596936366,0.6679180036171674,0.6587387369860792,0.6448423893444777,0.6405502777094987,0.6322317865686499,0.6077401536833487,0.6342230173038917,0.6306475819539663,0.6345495860703532,0.6184574750349073,0.6059157906164809,0.6059687970870113,0.6171652236775129,0.61618692737126,0.6200591992093684,0.5937305735716252,0.5995426010535166,0.6043666290869966,0.6011548034105455,0.6338857804241267,0.6287152233721459,0.5954049271346216,0.5622841842969963,0.5882349099053732,0.5836844302107077,0.5789544884952679,0.5841420494578119,0.5617863670363571,0.5637832174946551,0.5321562217506877,0.5350418241045934,0.5444663068468067,0.5418852104620587,0.55027722212185,0.5300483729608149,0.5431017098272689,0.5564593949215165,0.5425234422615192,0.5381931056930622,0.5494041833847085,0.5297299586116806,0.5181976432521819,0.4709026830010722,0.5008432081416639,0.521279302641774,0.5138019703527446,0.5282560641699455,0.5408763524647158,0.5764335550702662,0.5801357930128462,0.606081446357877,0.5480582352136966,0.5423482415182973,0.5401279964118246,0.5508632287759929,0.5396709988765803,0.535665409449264,0.5314919860386337,0.546686405024493,0.5019168417199207,0.4941573547352509,0.5114085745168484,0.5246477770376694,0.5185912282975829,0.5284887771945725,0.5035816180137472,0.48087285276437214,0.490647245222888,0.5025199378692837,0.5286080059186425,0.5794505156924846,0.5519926433994045,0.5580919706313907,0.5544413343726978,0.546114704056539,0.5454366545173565,0.5630800353350254,0.5434857955814728,0.5623010033528876,0.5505301710076367,0.5573073662722916,0.5312060142493773,0.5086348669354459,0.5334091992261886,0.5127013962191252,0.4854032026874948,0.514016742649867,0.5145463315269629,0.5234576243573599,0.4952374549981063,0.4970970850703509,0.4985103873092184,0.5124447920374228,0.5210438753798361,0.5255116678366885,0.4874213938640098,0.5272904438923808,0.5326745181051222,0.5087229886828073,0.5111511335888299,0.5076723089561711,0.5112461640269115,0.47698909334543943,0.450868846921149,0.466526201664091,0.4702235998701249,0.4514064353036337,0.46438074186957123,0.477044165634553,0.46965698434474656,0.48632896631004013,0.47862499415239645,0.4616939091640102,0.45637584487314825,0.4622020871090599,0.5024019579521608,0.49904737541621086,0.5155105237798224,0.4889212412725763,0.50179939555399,0.5107205847056189,0.5271147515476716,0.524420362452729,0.5141074536509393,0.4962173421029953,0.4752431126995016,0.44102631426937816,0.45240081295097717,0.44908669223205705,0.47077089302947966,0.47914838627451434,0.4831084796817673,0.48789027591755363,0.5022996681280281,0.4802550188268111,0.4677497520423512,0.46186450616363445,0.487085286086424,0.4863566281435371,0.47436957372807553,0.4638053298896084,0.463298557261991,0.4912419107624991,0.45781629860858714,0.46005406697896084,0.45968430055715503,0.5216365576686968,0.5340461016298989,0.5002104858955837,0.4743465728495572,0.46953331079311095,0.4623148749022136,0.44982597296426263,0.45910544239805406,0.49694842791110977,0.49477310442626826,0.4965179659505697,0.4799943730288078,0.4884148746764205,0.5123516658965429,0.5215715196413239,0.4856655217993542,0.4894052192759691,0.5004594157266722,0.5006112542502144,0.4834885356659388,0.46445955222412477,0.45625783923973223,0.4851997224735511,0.4724987565310317,0.48294256917844214,0.44373263115492045,0.4531968017075221,0.44961530497694974,0.46575088653978225,0.4862126996385808,0.4572580549629358,0.435520665083449,0.44053726476703703,0.42493820576054836,0.44418173292069174],\"yaxis\":\"y\",\"type\":\"scattergl\"},{\"customdata\":[[\"FL1:256 FL2:256 DR:0.3 BS:64 LR:0.005\",\"[156, 199]\"],[\"FL1:256 FL2:256 DR:0.3 BS:64 LR:0.005\",\"[156, 199]\"],[\"FL1:256 FL2:256 DR:0.3 BS:64 LR:0.005\",\"[156, 199]\"],[\"FL1:256 FL2:256 DR:0.3 BS:64 LR:0.005\",\"[156, 199]\"],[\"FL1:256 FL2:256 DR:0.3 BS:64 LR:0.005\",\"[156, 199]\"],[\"FL1:256 FL2:256 DR:0.3 BS:64 LR:0.005\",\"[156, 199]\"],[\"FL1:256 FL2:256 DR:0.3 BS:64 LR:0.005\",\"[156, 199]\"],[\"FL1:256 FL2:256 DR:0.3 BS:64 LR:0.005\",\"[156, 199]\"],[\"FL1:256 FL2:256 DR:0.3 BS:64 LR:0.005\",\"[156, 199]\"],[\"FL1:256 FL2:256 DR:0.3 BS:64 LR:0.005\",\"[156, 199]\"],[\"FL1:256 FL2:256 DR:0.3 BS:64 LR:0.005\",\"[156, 199]\"],[\"FL1:256 FL2:256 DR:0.3 BS:64 LR:0.005\",\"[156, 199]\"],[\"FL1:256 FL2:256 DR:0.3 BS:64 LR:0.005\",\"[156, 199]\"],[\"FL1:256 FL2:256 DR:0.3 BS:64 LR:0.005\",\"[156, 199]\"],[\"FL1:256 FL2:256 DR:0.3 BS:64 LR:0.005\",\"[156, 199]\"],[\"FL1:256 FL2:256 DR:0.3 BS:64 LR:0.005\",\"[156, 199]\"],[\"FL1:256 FL2:256 DR:0.3 BS:64 LR:0.005\",\"[156, 199]\"],[\"FL1:256 FL2:256 DR:0.3 BS:64 LR:0.005\",\"[156, 199]\"],[\"FL1:256 FL2:256 DR:0.3 BS:64 LR:0.005\",\"[156, 199]\"],[\"FL1:256 FL2:256 DR:0.3 BS:64 LR:0.005\",\"[156, 199]\"],[\"FL1:256 FL2:256 DR:0.3 BS:64 LR:0.005\",\"[156, 199]\"],[\"FL1:256 FL2:256 DR:0.3 BS:64 LR:0.005\",\"[156, 199]\"],[\"FL1:256 FL2:256 DR:0.3 BS:64 LR:0.005\",\"[156, 199]\"],[\"FL1:256 FL2:256 DR:0.3 BS:64 LR:0.005\",\"[156, 199]\"],[\"FL1:256 FL2:256 DR:0.3 BS:64 LR:0.005\",\"[156, 199]\"],[\"FL1:256 FL2:256 DR:0.3 BS:64 LR:0.005\",\"[156, 199]\"],[\"FL1:256 FL2:256 DR:0.3 BS:64 LR:0.005\",\"[156, 199]\"],[\"FL1:256 FL2:256 DR:0.3 BS:64 LR:0.005\",\"[156, 199]\"],[\"FL1:256 FL2:256 DR:0.3 BS:64 LR:0.005\",\"[156, 199]\"],[\"FL1:256 FL2:256 DR:0.3 BS:64 LR:0.005\",\"[156, 199]\"],[\"FL1:256 FL2:256 DR:0.3 BS:64 LR:0.005\",\"[156, 199]\"],[\"FL1:256 FL2:256 DR:0.3 BS:64 LR:0.005\",\"[156, 199]\"],[\"FL1:256 FL2:256 DR:0.3 BS:64 LR:0.005\",\"[156, 199]\"],[\"FL1:256 FL2:256 DR:0.3 BS:64 LR:0.005\",\"[156, 199]\"],[\"FL1:256 FL2:256 DR:0.3 BS:64 LR:0.005\",\"[156, 199]\"],[\"FL1:256 FL2:256 DR:0.3 BS:64 LR:0.005\",\"[156, 199]\"],[\"FL1:256 FL2:256 DR:0.3 BS:64 LR:0.005\",\"[156, 199]\"],[\"FL1:256 FL2:256 DR:0.3 BS:64 LR:0.005\",\"[156, 199]\"],[\"FL1:256 FL2:256 DR:0.3 BS:64 LR:0.005\",\"[156, 199]\"],[\"FL1:256 FL2:256 DR:0.3 BS:64 LR:0.005\",\"[156, 199]\"],[\"FL1:256 FL2:256 DR:0.3 BS:64 LR:0.005\",\"[156, 199]\"],[\"FL1:256 FL2:256 DR:0.3 BS:64 LR:0.005\",\"[156, 199]\"],[\"FL1:256 FL2:256 DR:0.3 BS:64 LR:0.005\",\"[156, 199]\"],[\"FL1:256 FL2:256 DR:0.3 BS:64 LR:0.005\",\"[156, 199]\"],[\"FL1:256 FL2:256 DR:0.3 BS:64 LR:0.005\",\"[156, 199]\"],[\"FL1:256 FL2:256 DR:0.3 BS:64 LR:0.005\",\"[156, 199]\"],[\"FL1:256 FL2:256 DR:0.3 BS:64 LR:0.005\",\"[156, 199]\"],[\"FL1:256 FL2:256 DR:0.3 BS:64 LR:0.005\",\"[156, 199]\"],[\"FL1:256 FL2:256 DR:0.3 BS:64 LR:0.005\",\"[156, 199]\"],[\"FL1:256 FL2:256 DR:0.3 BS:64 LR:0.005\",\"[156, 199]\"],[\"FL1:256 FL2:256 DR:0.3 BS:64 LR:0.005\",\"[156, 199]\"],[\"FL1:256 FL2:256 DR:0.3 BS:64 LR:0.005\",\"[156, 199]\"],[\"FL1:256 FL2:256 DR:0.3 BS:64 LR:0.005\",\"[156, 199]\"],[\"FL1:256 FL2:256 DR:0.3 BS:64 LR:0.005\",\"[156, 199]\"],[\"FL1:256 FL2:256 DR:0.3 BS:64 LR:0.005\",\"[156, 199]\"],[\"FL1:256 FL2:256 DR:0.3 BS:64 LR:0.005\",\"[156, 199]\"],[\"FL1:256 FL2:256 DR:0.3 BS:64 LR:0.005\",\"[156, 199]\"],[\"FL1:256 FL2:256 DR:0.3 BS:64 LR:0.005\",\"[156, 199]\"],[\"FL1:256 FL2:256 DR:0.3 BS:64 LR:0.005\",\"[156, 199]\"],[\"FL1:256 FL2:256 DR:0.3 BS:64 LR:0.005\",\"[156, 199]\"],[\"FL1:256 FL2:256 DR:0.3 BS:64 LR:0.005\",\"[156, 199]\"],[\"FL1:256 FL2:256 DR:0.3 BS:64 LR:0.005\",\"[156, 199]\"],[\"FL1:256 FL2:256 DR:0.3 BS:64 LR:0.005\",\"[156, 199]\"],[\"FL1:256 FL2:256 DR:0.3 BS:64 LR:0.005\",\"[156, 199]\"],[\"FL1:256 FL2:256 DR:0.3 BS:64 LR:0.005\",\"[156, 199]\"],[\"FL1:256 FL2:256 DR:0.3 BS:64 LR:0.005\",\"[156, 199]\"],[\"FL1:256 FL2:256 DR:0.3 BS:64 LR:0.005\",\"[156, 199]\"],[\"FL1:256 FL2:256 DR:0.3 BS:64 LR:0.005\",\"[156, 199]\"],[\"FL1:256 FL2:256 DR:0.3 BS:64 LR:0.005\",\"[156, 199]\"],[\"FL1:256 FL2:256 DR:0.3 BS:64 LR:0.005\",\"[156, 199]\"],[\"FL1:256 FL2:256 DR:0.3 BS:64 LR:0.005\",\"[156, 199]\"],[\"FL1:256 FL2:256 DR:0.3 BS:64 LR:0.005\",\"[156, 199]\"],[\"FL1:256 FL2:256 DR:0.3 BS:64 LR:0.005\",\"[156, 199]\"],[\"FL1:256 FL2:256 DR:0.3 BS:64 LR:0.005\",\"[156, 199]\"],[\"FL1:256 FL2:256 DR:0.3 BS:64 LR:0.005\",\"[156, 199]\"],[\"FL1:256 FL2:256 DR:0.3 BS:64 LR:0.005\",\"[156, 199]\"],[\"FL1:256 FL2:256 DR:0.3 BS:64 LR:0.005\",\"[156, 199]\"],[\"FL1:256 FL2:256 DR:0.3 BS:64 LR:0.005\",\"[156, 199]\"],[\"FL1:256 FL2:256 DR:0.3 BS:64 LR:0.005\",\"[156, 199]\"],[\"FL1:256 FL2:256 DR:0.3 BS:64 LR:0.005\",\"[156, 199]\"],[\"FL1:256 FL2:256 DR:0.3 BS:64 LR:0.005\",\"[156, 199]\"],[\"FL1:256 FL2:256 DR:0.3 BS:64 LR:0.005\",\"[156, 199]\"],[\"FL1:256 FL2:256 DR:0.3 BS:64 LR:0.005\",\"[156, 199]\"],[\"FL1:256 FL2:256 DR:0.3 BS:64 LR:0.005\",\"[156, 199]\"],[\"FL1:256 FL2:256 DR:0.3 BS:64 LR:0.005\",\"[156, 199]\"],[\"FL1:256 FL2:256 DR:0.3 BS:64 LR:0.005\",\"[156, 199]\"],[\"FL1:256 FL2:256 DR:0.3 BS:64 LR:0.005\",\"[156, 199]\"],[\"FL1:256 FL2:256 DR:0.3 BS:64 LR:0.005\",\"[156, 199]\"],[\"FL1:256 FL2:256 DR:0.3 BS:64 LR:0.005\",\"[156, 199]\"],[\"FL1:256 FL2:256 DR:0.3 BS:64 LR:0.005\",\"[156, 199]\"],[\"FL1:256 FL2:256 DR:0.3 BS:64 LR:0.005\",\"[156, 199]\"],[\"FL1:256 FL2:256 DR:0.3 BS:64 LR:0.005\",\"[156, 199]\"],[\"FL1:256 FL2:256 DR:0.3 BS:64 LR:0.005\",\"[156, 199]\"],[\"FL1:256 FL2:256 DR:0.3 BS:64 LR:0.005\",\"[156, 199]\"],[\"FL1:256 FL2:256 DR:0.3 BS:64 LR:0.005\",\"[156, 199]\"],[\"FL1:256 FL2:256 DR:0.3 BS:64 LR:0.005\",\"[156, 199]\"],[\"FL1:256 FL2:256 DR:0.3 BS:64 LR:0.005\",\"[156, 199]\"],[\"FL1:256 FL2:256 DR:0.3 BS:64 LR:0.005\",\"[156, 199]\"],[\"FL1:256 FL2:256 DR:0.3 BS:64 LR:0.005\",\"[156, 199]\"],[\"FL1:256 FL2:256 DR:0.3 BS:64 LR:0.005\",\"[156, 199]\"],[\"FL1:256 FL2:256 DR:0.3 BS:64 LR:0.005\",\"[156, 199]\"],[\"FL1:256 FL2:256 DR:0.3 BS:64 LR:0.005\",\"[156, 199]\"],[\"FL1:256 FL2:256 DR:0.3 BS:64 LR:0.005\",\"[156, 199]\"],[\"FL1:256 FL2:256 DR:0.3 BS:64 LR:0.005\",\"[156, 199]\"],[\"FL1:256 FL2:256 DR:0.3 BS:64 LR:0.005\",\"[156, 199]\"],[\"FL1:256 FL2:256 DR:0.3 BS:64 LR:0.005\",\"[156, 199]\"],[\"FL1:256 FL2:256 DR:0.3 BS:64 LR:0.005\",\"[156, 199]\"],[\"FL1:256 FL2:256 DR:0.3 BS:64 LR:0.005\",\"[156, 199]\"],[\"FL1:256 FL2:256 DR:0.3 BS:64 LR:0.005\",\"[156, 199]\"],[\"FL1:256 FL2:256 DR:0.3 BS:64 LR:0.005\",\"[156, 199]\"],[\"FL1:256 FL2:256 DR:0.3 BS:64 LR:0.005\",\"[156, 199]\"],[\"FL1:256 FL2:256 DR:0.3 BS:64 LR:0.005\",\"[156, 199]\"],[\"FL1:256 FL2:256 DR:0.3 BS:64 LR:0.005\",\"[156, 199]\"],[\"FL1:256 FL2:256 DR:0.3 BS:64 LR:0.005\",\"[156, 199]\"],[\"FL1:256 FL2:256 DR:0.3 BS:64 LR:0.005\",\"[156, 199]\"],[\"FL1:256 FL2:256 DR:0.3 BS:64 LR:0.005\",\"[156, 199]\"],[\"FL1:256 FL2:256 DR:0.3 BS:64 LR:0.005\",\"[156, 199]\"],[\"FL1:256 FL2:256 DR:0.3 BS:64 LR:0.005\",\"[156, 199]\"],[\"FL1:256 FL2:256 DR:0.3 BS:64 LR:0.005\",\"[156, 199]\"],[\"FL1:256 FL2:256 DR:0.3 BS:64 LR:0.005\",\"[156, 199]\"],[\"FL1:256 FL2:256 DR:0.3 BS:64 LR:0.005\",\"[156, 199]\"],[\"FL1:256 FL2:256 DR:0.3 BS:64 LR:0.005\",\"[156, 199]\"],[\"FL1:256 FL2:256 DR:0.3 BS:64 LR:0.005\",\"[156, 199]\"],[\"FL1:256 FL2:256 DR:0.3 BS:64 LR:0.005\",\"[156, 199]\"],[\"FL1:256 FL2:256 DR:0.3 BS:64 LR:0.005\",\"[156, 199]\"],[\"FL1:256 FL2:256 DR:0.3 BS:64 LR:0.005\",\"[156, 199]\"],[\"FL1:256 FL2:256 DR:0.3 BS:64 LR:0.005\",\"[156, 199]\"],[\"FL1:256 FL2:256 DR:0.3 BS:64 LR:0.005\",\"[156, 199]\"],[\"FL1:256 FL2:256 DR:0.3 BS:64 LR:0.005\",\"[156, 199]\"],[\"FL1:256 FL2:256 DR:0.3 BS:64 LR:0.005\",\"[156, 199]\"],[\"FL1:256 FL2:256 DR:0.3 BS:64 LR:0.005\",\"[156, 199]\"],[\"FL1:256 FL2:256 DR:0.3 BS:64 LR:0.005\",\"[156, 199]\"],[\"FL1:256 FL2:256 DR:0.3 BS:64 LR:0.005\",\"[156, 199]\"],[\"FL1:256 FL2:256 DR:0.3 BS:64 LR:0.005\",\"[156, 199]\"],[\"FL1:256 FL2:256 DR:0.3 BS:64 LR:0.005\",\"[156, 199]\"],[\"FL1:256 FL2:256 DR:0.3 BS:64 LR:0.005\",\"[156, 199]\"],[\"FL1:256 FL2:256 DR:0.3 BS:64 LR:0.005\",\"[156, 199]\"],[\"FL1:256 FL2:256 DR:0.3 BS:64 LR:0.005\",\"[156, 199]\"],[\"FL1:256 FL2:256 DR:0.3 BS:64 LR:0.005\",\"[156, 199]\"],[\"FL1:256 FL2:256 DR:0.3 BS:64 LR:0.005\",\"[156, 199]\"],[\"FL1:256 FL2:256 DR:0.3 BS:64 LR:0.005\",\"[156, 199]\"],[\"FL1:256 FL2:256 DR:0.3 BS:64 LR:0.005\",\"[156, 199]\"],[\"FL1:256 FL2:256 DR:0.3 BS:64 LR:0.005\",\"[156, 199]\"],[\"FL1:256 FL2:256 DR:0.3 BS:64 LR:0.005\",\"[156, 199]\"],[\"FL1:256 FL2:256 DR:0.3 BS:64 LR:0.005\",\"[156, 199]\"],[\"FL1:256 FL2:256 DR:0.3 BS:64 LR:0.005\",\"[156, 199]\"],[\"FL1:256 FL2:256 DR:0.3 BS:64 LR:0.005\",\"[156, 199]\"],[\"FL1:256 FL2:256 DR:0.3 BS:64 LR:0.005\",\"[156, 199]\"],[\"FL1:256 FL2:256 DR:0.3 BS:64 LR:0.005\",\"[156, 199]\"],[\"FL1:256 FL2:256 DR:0.3 BS:64 LR:0.005\",\"[156, 199]\"],[\"FL1:256 FL2:256 DR:0.3 BS:64 LR:0.005\",\"[156, 199]\"],[\"FL1:256 FL2:256 DR:0.3 BS:64 LR:0.005\",\"[156, 199]\"],[\"FL1:256 FL2:256 DR:0.3 BS:64 LR:0.005\",\"[156, 199]\"],[\"FL1:256 FL2:256 DR:0.3 BS:64 LR:0.005\",\"[156, 199]\"],[\"FL1:256 FL2:256 DR:0.3 BS:64 LR:0.005\",\"[156, 199]\"],[\"FL1:256 FL2:256 DR:0.3 BS:64 LR:0.005\",\"[156, 199]\"],[\"FL1:256 FL2:256 DR:0.3 BS:64 LR:0.005\",\"[156, 199]\"],[\"FL1:256 FL2:256 DR:0.3 BS:64 LR:0.005\",\"[156, 199]\"],[\"FL1:256 FL2:256 DR:0.3 BS:64 LR:0.005\",\"[156, 199]\"],[\"FL1:256 FL2:256 DR:0.3 BS:64 LR:0.005\",\"[156, 199]\"],[\"FL1:256 FL2:256 DR:0.3 BS:64 LR:0.005\",\"[156, 199]\"],[\"FL1:256 FL2:256 DR:0.3 BS:64 LR:0.005\",\"[156, 199]\"],[\"FL1:256 FL2:256 DR:0.3 BS:64 LR:0.005\",\"[156, 199]\"],[\"FL1:256 FL2:256 DR:0.3 BS:64 LR:0.005\",\"[156, 199]\"],[\"FL1:256 FL2:256 DR:0.3 BS:64 LR:0.005\",\"[156, 199]\"],[\"FL1:256 FL2:256 DR:0.3 BS:64 LR:0.005\",\"[156, 199]\"],[\"FL1:256 FL2:256 DR:0.3 BS:64 LR:0.005\",\"[156, 199]\"],[\"FL1:256 FL2:256 DR:0.3 BS:64 LR:0.005\",\"[156, 199]\"],[\"FL1:256 FL2:256 DR:0.3 BS:64 LR:0.005\",\"[156, 199]\"],[\"FL1:256 FL2:256 DR:0.3 BS:64 LR:0.005\",\"[156, 199]\"],[\"FL1:256 FL2:256 DR:0.3 BS:64 LR:0.005\",\"[156, 199]\"],[\"FL1:256 FL2:256 DR:0.3 BS:64 LR:0.005\",\"[156, 199]\"],[\"FL1:256 FL2:256 DR:0.3 BS:64 LR:0.005\",\"[156, 199]\"],[\"FL1:256 FL2:256 DR:0.3 BS:64 LR:0.005\",\"[156, 199]\"],[\"FL1:256 FL2:256 DR:0.3 BS:64 LR:0.005\",\"[156, 199]\"],[\"FL1:256 FL2:256 DR:0.3 BS:64 LR:0.005\",\"[156, 199]\"],[\"FL1:256 FL2:256 DR:0.3 BS:64 LR:0.005\",\"[156, 199]\"],[\"FL1:256 FL2:256 DR:0.3 BS:64 LR:0.005\",\"[156, 199]\"],[\"FL1:256 FL2:256 DR:0.3 BS:64 LR:0.005\",\"[156, 199]\"],[\"FL1:256 FL2:256 DR:0.3 BS:64 LR:0.005\",\"[156, 199]\"],[\"FL1:256 FL2:256 DR:0.3 BS:64 LR:0.005\",\"[156, 199]\"],[\"FL1:256 FL2:256 DR:0.3 BS:64 LR:0.005\",\"[156, 199]\"],[\"FL1:256 FL2:256 DR:0.3 BS:64 LR:0.005\",\"[156, 199]\"],[\"FL1:256 FL2:256 DR:0.3 BS:64 LR:0.005\",\"[156, 199]\"],[\"FL1:256 FL2:256 DR:0.3 BS:64 LR:0.005\",\"[156, 199]\"],[\"FL1:256 FL2:256 DR:0.3 BS:64 LR:0.005\",\"[156, 199]\"],[\"FL1:256 FL2:256 DR:0.3 BS:64 LR:0.005\",\"[156, 199]\"],[\"FL1:256 FL2:256 DR:0.3 BS:64 LR:0.005\",\"[156, 199]\"],[\"FL1:256 FL2:256 DR:0.3 BS:64 LR:0.005\",\"[156, 199]\"],[\"FL1:256 FL2:256 DR:0.3 BS:64 LR:0.005\",\"[156, 199]\"],[\"FL1:256 FL2:256 DR:0.3 BS:64 LR:0.005\",\"[156, 199]\"],[\"FL1:256 FL2:256 DR:0.3 BS:64 LR:0.005\",\"[156, 199]\"],[\"FL1:256 FL2:256 DR:0.3 BS:64 LR:0.005\",\"[156, 199]\"],[\"FL1:256 FL2:256 DR:0.3 BS:64 LR:0.005\",\"[156, 199]\"],[\"FL1:256 FL2:256 DR:0.3 BS:64 LR:0.005\",\"[156, 199]\"],[\"FL1:256 FL2:256 DR:0.3 BS:64 LR:0.005\",\"[156, 199]\"],[\"FL1:256 FL2:256 DR:0.3 BS:64 LR:0.005\",\"[156, 199]\"],[\"FL1:256 FL2:256 DR:0.3 BS:64 LR:0.005\",\"[156, 199]\"],[\"FL1:256 FL2:256 DR:0.3 BS:64 LR:0.005\",\"[156, 199]\"],[\"FL1:256 FL2:256 DR:0.3 BS:64 LR:0.005\",\"[156, 199]\"]],\"hovertemplate\":\"variable=train_loss\\u003cbr\\u003etrial_id=802fd_00156\\u003cbr\\u003eepoch=%{x}\\u003cbr\\u003evalue=%{y}\\u003cbr\\u003eHyperparameters=%{customdata[0]}\\u003cbr\\u003echeckpoints=%{customdata[1]}\\u003cextra\\u003e\\u003c\\u002fextra\\u003e\",\"legendgroup\":\"train_loss, 802fd_00156\",\"line\":{\"color\":\"#EF553B\",\"dash\":\"dash\"},\"marker\":{\"symbol\":\"circle\"},\"mode\":\"lines\",\"name\":\"train_loss, 802fd_00156\",\"showlegend\":true,\"x\":[0,1,2,3,4,5,6,7,8,9,10,11,12,13,14,15,16,17,18,19,20,21,22,23,24,25,26,27,28,29,30,31,32,33,34,35,36,37,38,39,40,41,42,43,44,45,46,47,48,49,50,51,52,53,54,55,56,57,58,59,60,61,62,63,64,65,66,67,68,69,70,71,72,73,74,75,76,77,78,79,80,81,82,83,84,85,86,87,88,89,90,91,92,93,94,95,96,97,98,99,100,101,102,103,104,105,106,107,108,109,110,111,112,113,114,115,116,117,118,119,120,121,122,123,124,125,126,127,128,129,130,131,132,133,134,135,136,137,138,139,140,141,142,143,144,145,146,147,148,149,150,151,152,153,154,155,156,157,158,159,160,161,162,163,164,165,166,167,168,169,170,171,172,173,174,175,176,177,178,179,180,181,182,183,184,185,186,187,188,189,190,191,192,193,194,195,196,197,198,199],\"xaxis\":\"x\",\"y\":[0.14619471132755243,0.1664277464151375,0.1917337179183949,0.18603004018465563,0.15193613784180648,0.17054694007944066,0.18036076334523438,0.16785738804212694,0.20470683401340495,0.2286158311732223,0.2046295724555919,0.25836990424295636,0.23693547413283128,0.19931087653195523,0.230461562741833,0.2099171595898181,0.20270653679151684,0.23923354754301732,0.1866753062238481,0.18193004764650794,0.19054243291440576,0.17231904185495722,0.16946335280393157,0.14256797826591175,0.13221081658405062,0.18025353262293267,0.17685694303425067,0.15032871849875898,0.12428125267254791,0.10801630649319922,0.16199001294607282,0.15684345611091655,0.13049058532155997,0.110654929713656,0.08953365687611985,0.08783966305575938,0.12096280358050997,0.16384075417660765,0.14624271928961446,0.1371827151357818,0.1435131050467281,0.1284799396872378,0.11637027113834045,0.12480303346580249,0.1270219713414108,0.13191446363690096,0.11680015226047945,0.11784037732310867,0.09792170033340822,0.11967787713133697,0.13717278719162504,0.1188904337102541,0.13259044733407516,0.1310051609858034,0.14582046898101114,0.1408645065750963,0.12286917382652779,0.10598590896643001,0.08173528761411233,0.08676231702661835,0.1532721572484984,0.13833101943906218,0.15672787597295973,0.1963920465477124,0.14787371846489197,0.1290770000381738,0.16886444231956937,0.16555160675505584,0.14896066996163623,0.1679752552688547,0.1405224905530893,0.11198452196984035,0.09283736526945247,0.12489485859856966,0.11598642746598142,0.1591951090759074,0.1962926280939596,0.14570444606701632,0.11036831990189082,0.13992017080589567,0.11149752972989885,0.12093617080628577,0.1284136974743979,0.10553729394621149,0.1054686844981144,0.07876202691836023,0.09037272038885501,0.10893150271858434,0.1118820175653406,0.11715414226887647,0.09902779410837757,0.11891801920571994,0.1175840266349516,0.11838840893921569,0.12995435431279911,0.11752167184934442,0.13048459980080765,0.12026040268070304,0.09065529215419817,0.07149056019441627,0.11173574905962595,0.1221052873887671,0.11792572960310832,0.10105317086016886,0.07937647899015574,0.10065938863505108,0.08040454956126987,0.07797701886781554,0.09185663267300163,0.08950578440775872,0.08809552851352671,0.11161349556865639,0.11059364820203718,0.0957450404410992,0.10093410956498183,0.10349894743916827,0.08123708553948286,0.05877828405773162,0.08820084105912489,0.07367651658577139,0.09731693895209075,0.08018969839843262,0.06600263157508196,0.07763155178243177,0.09044174105600657,0.0867579256539617,0.0879217369718731,0.08592405308374942,0.08636286698506375,0.0681081006442579,0.07383946094347829,0.062254704210054745,0.0883327670712546,0.079738417288944,0.07899217159965605,0.05990243728901915,0.07631388075448362,0.05574945175265128,0.06371770924074666,0.06765453600713402,0.06274773236002373,0.10332893865562663,0.08331034150227686,0.06859088567564728,0.06562951871202931,0.06309349532555553,0.05565507508404387,0.06429945791487762,0.08023010518633542,0.0943752350176915,0.11026496501535434,0.11763212125678996,0.08783715431842624,0.07103343077800937,0.06804226682121385,0.053674364888236376,0.06616087658773867,0.05490466722893047,0.08154365764092916,0.07498767580278376,0.06777321534479748,0.04980496960547293,0.04740607919074898,0.04278503851279808,0.06049332847982749,0.05687864799161808,0.0600591148195004,0.05982560881358606,0.05500421445159253,0.04353211978632958,0.04499574483804393,0.051787995506475136,0.045605833801395115,0.04174879266008156,0.06762772598653614,0.06638222799559139,0.06165220251255353,0.05362573041235807,0.05883574335916425,0.046575811002940455,0.06970472401664658,0.06243729312410611,0.05558318458789351,0.08572661752696638,0.08081467615363186,0.06747706717449538,0.08194318984083382,0.07829338444028974,0.07419784206651751,0.09574206563170125,0.09232667596694721,0.07652282681105449,0.09379114684818762,0.09406278598546015,0.08198986661592461,0.05714107269402567,0.057132144532973245,0.06267551151406392,0.06625302760131888,0.0743733388074749],\"yaxis\":\"y\",\"type\":\"scattergl\"},{\"customdata\":[[\"FL1:32 FL2:256 DR:0.3 BS:32 LR:0.0005\",\"[30, 165]\"],[\"FL1:32 FL2:256 DR:0.3 BS:32 LR:0.0005\",\"[30, 165]\"],[\"FL1:32 FL2:256 DR:0.3 BS:32 LR:0.0005\",\"[30, 165]\"],[\"FL1:32 FL2:256 DR:0.3 BS:32 LR:0.0005\",\"[30, 165]\"],[\"FL1:32 FL2:256 DR:0.3 BS:32 LR:0.0005\",\"[30, 165]\"],[\"FL1:32 FL2:256 DR:0.3 BS:32 LR:0.0005\",\"[30, 165]\"],[\"FL1:32 FL2:256 DR:0.3 BS:32 LR:0.0005\",\"[30, 165]\"],[\"FL1:32 FL2:256 DR:0.3 BS:32 LR:0.0005\",\"[30, 165]\"],[\"FL1:32 FL2:256 DR:0.3 BS:32 LR:0.0005\",\"[30, 165]\"],[\"FL1:32 FL2:256 DR:0.3 BS:32 LR:0.0005\",\"[30, 165]\"],[\"FL1:32 FL2:256 DR:0.3 BS:32 LR:0.0005\",\"[30, 165]\"],[\"FL1:32 FL2:256 DR:0.3 BS:32 LR:0.0005\",\"[30, 165]\"],[\"FL1:32 FL2:256 DR:0.3 BS:32 LR:0.0005\",\"[30, 165]\"],[\"FL1:32 FL2:256 DR:0.3 BS:32 LR:0.0005\",\"[30, 165]\"],[\"FL1:32 FL2:256 DR:0.3 BS:32 LR:0.0005\",\"[30, 165]\"],[\"FL1:32 FL2:256 DR:0.3 BS:32 LR:0.0005\",\"[30, 165]\"],[\"FL1:32 FL2:256 DR:0.3 BS:32 LR:0.0005\",\"[30, 165]\"],[\"FL1:32 FL2:256 DR:0.3 BS:32 LR:0.0005\",\"[30, 165]\"],[\"FL1:32 FL2:256 DR:0.3 BS:32 LR:0.0005\",\"[30, 165]\"],[\"FL1:32 FL2:256 DR:0.3 BS:32 LR:0.0005\",\"[30, 165]\"],[\"FL1:32 FL2:256 DR:0.3 BS:32 LR:0.0005\",\"[30, 165]\"],[\"FL1:32 FL2:256 DR:0.3 BS:32 LR:0.0005\",\"[30, 165]\"],[\"FL1:32 FL2:256 DR:0.3 BS:32 LR:0.0005\",\"[30, 165]\"],[\"FL1:32 FL2:256 DR:0.3 BS:32 LR:0.0005\",\"[30, 165]\"],[\"FL1:32 FL2:256 DR:0.3 BS:32 LR:0.0005\",\"[30, 165]\"],[\"FL1:32 FL2:256 DR:0.3 BS:32 LR:0.0005\",\"[30, 165]\"],[\"FL1:32 FL2:256 DR:0.3 BS:32 LR:0.0005\",\"[30, 165]\"],[\"FL1:32 FL2:256 DR:0.3 BS:32 LR:0.0005\",\"[30, 165]\"],[\"FL1:32 FL2:256 DR:0.3 BS:32 LR:0.0005\",\"[30, 165]\"],[\"FL1:32 FL2:256 DR:0.3 BS:32 LR:0.0005\",\"[30, 165]\"],[\"FL1:32 FL2:256 DR:0.3 BS:32 LR:0.0005\",\"[30, 165]\"],[\"FL1:32 FL2:256 DR:0.3 BS:32 LR:0.0005\",\"[30, 165]\"],[\"FL1:32 FL2:256 DR:0.3 BS:32 LR:0.0005\",\"[30, 165]\"],[\"FL1:32 FL2:256 DR:0.3 BS:32 LR:0.0005\",\"[30, 165]\"],[\"FL1:32 FL2:256 DR:0.3 BS:32 LR:0.0005\",\"[30, 165]\"],[\"FL1:32 FL2:256 DR:0.3 BS:32 LR:0.0005\",\"[30, 165]\"],[\"FL1:32 FL2:256 DR:0.3 BS:32 LR:0.0005\",\"[30, 165]\"],[\"FL1:32 FL2:256 DR:0.3 BS:32 LR:0.0005\",\"[30, 165]\"],[\"FL1:32 FL2:256 DR:0.3 BS:32 LR:0.0005\",\"[30, 165]\"],[\"FL1:32 FL2:256 DR:0.3 BS:32 LR:0.0005\",\"[30, 165]\"],[\"FL1:32 FL2:256 DR:0.3 BS:32 LR:0.0005\",\"[30, 165]\"],[\"FL1:32 FL2:256 DR:0.3 BS:32 LR:0.0005\",\"[30, 165]\"],[\"FL1:32 FL2:256 DR:0.3 BS:32 LR:0.0005\",\"[30, 165]\"],[\"FL1:32 FL2:256 DR:0.3 BS:32 LR:0.0005\",\"[30, 165]\"],[\"FL1:32 FL2:256 DR:0.3 BS:32 LR:0.0005\",\"[30, 165]\"],[\"FL1:32 FL2:256 DR:0.3 BS:32 LR:0.0005\",\"[30, 165]\"],[\"FL1:32 FL2:256 DR:0.3 BS:32 LR:0.0005\",\"[30, 165]\"],[\"FL1:32 FL2:256 DR:0.3 BS:32 LR:0.0005\",\"[30, 165]\"],[\"FL1:32 FL2:256 DR:0.3 BS:32 LR:0.0005\",\"[30, 165]\"],[\"FL1:32 FL2:256 DR:0.3 BS:32 LR:0.0005\",\"[30, 165]\"],[\"FL1:32 FL2:256 DR:0.3 BS:32 LR:0.0005\",\"[30, 165]\"],[\"FL1:32 FL2:256 DR:0.3 BS:32 LR:0.0005\",\"[30, 165]\"],[\"FL1:32 FL2:256 DR:0.3 BS:32 LR:0.0005\",\"[30, 165]\"],[\"FL1:32 FL2:256 DR:0.3 BS:32 LR:0.0005\",\"[30, 165]\"],[\"FL1:32 FL2:256 DR:0.3 BS:32 LR:0.0005\",\"[30, 165]\"],[\"FL1:32 FL2:256 DR:0.3 BS:32 LR:0.0005\",\"[30, 165]\"],[\"FL1:32 FL2:256 DR:0.3 BS:32 LR:0.0005\",\"[30, 165]\"],[\"FL1:32 FL2:256 DR:0.3 BS:32 LR:0.0005\",\"[30, 165]\"],[\"FL1:32 FL2:256 DR:0.3 BS:32 LR:0.0005\",\"[30, 165]\"],[\"FL1:32 FL2:256 DR:0.3 BS:32 LR:0.0005\",\"[30, 165]\"],[\"FL1:32 FL2:256 DR:0.3 BS:32 LR:0.0005\",\"[30, 165]\"],[\"FL1:32 FL2:256 DR:0.3 BS:32 LR:0.0005\",\"[30, 165]\"],[\"FL1:32 FL2:256 DR:0.3 BS:32 LR:0.0005\",\"[30, 165]\"],[\"FL1:32 FL2:256 DR:0.3 BS:32 LR:0.0005\",\"[30, 165]\"],[\"FL1:32 FL2:256 DR:0.3 BS:32 LR:0.0005\",\"[30, 165]\"],[\"FL1:32 FL2:256 DR:0.3 BS:32 LR:0.0005\",\"[30, 165]\"],[\"FL1:32 FL2:256 DR:0.3 BS:32 LR:0.0005\",\"[30, 165]\"],[\"FL1:32 FL2:256 DR:0.3 BS:32 LR:0.0005\",\"[30, 165]\"],[\"FL1:32 FL2:256 DR:0.3 BS:32 LR:0.0005\",\"[30, 165]\"],[\"FL1:32 FL2:256 DR:0.3 BS:32 LR:0.0005\",\"[30, 165]\"],[\"FL1:32 FL2:256 DR:0.3 BS:32 LR:0.0005\",\"[30, 165]\"],[\"FL1:32 FL2:256 DR:0.3 BS:32 LR:0.0005\",\"[30, 165]\"],[\"FL1:32 FL2:256 DR:0.3 BS:32 LR:0.0005\",\"[30, 165]\"],[\"FL1:32 FL2:256 DR:0.3 BS:32 LR:0.0005\",\"[30, 165]\"],[\"FL1:32 FL2:256 DR:0.3 BS:32 LR:0.0005\",\"[30, 165]\"],[\"FL1:32 FL2:256 DR:0.3 BS:32 LR:0.0005\",\"[30, 165]\"],[\"FL1:32 FL2:256 DR:0.3 BS:32 LR:0.0005\",\"[30, 165]\"],[\"FL1:32 FL2:256 DR:0.3 BS:32 LR:0.0005\",\"[30, 165]\"],[\"FL1:32 FL2:256 DR:0.3 BS:32 LR:0.0005\",\"[30, 165]\"],[\"FL1:32 FL2:256 DR:0.3 BS:32 LR:0.0005\",\"[30, 165]\"],[\"FL1:32 FL2:256 DR:0.3 BS:32 LR:0.0005\",\"[30, 165]\"],[\"FL1:32 FL2:256 DR:0.3 BS:32 LR:0.0005\",\"[30, 165]\"],[\"FL1:32 FL2:256 DR:0.3 BS:32 LR:0.0005\",\"[30, 165]\"],[\"FL1:32 FL2:256 DR:0.3 BS:32 LR:0.0005\",\"[30, 165]\"],[\"FL1:32 FL2:256 DR:0.3 BS:32 LR:0.0005\",\"[30, 165]\"],[\"FL1:32 FL2:256 DR:0.3 BS:32 LR:0.0005\",\"[30, 165]\"],[\"FL1:32 FL2:256 DR:0.3 BS:32 LR:0.0005\",\"[30, 165]\"],[\"FL1:32 FL2:256 DR:0.3 BS:32 LR:0.0005\",\"[30, 165]\"],[\"FL1:32 FL2:256 DR:0.3 BS:32 LR:0.0005\",\"[30, 165]\"],[\"FL1:32 FL2:256 DR:0.3 BS:32 LR:0.0005\",\"[30, 165]\"],[\"FL1:32 FL2:256 DR:0.3 BS:32 LR:0.0005\",\"[30, 165]\"],[\"FL1:32 FL2:256 DR:0.3 BS:32 LR:0.0005\",\"[30, 165]\"],[\"FL1:32 FL2:256 DR:0.3 BS:32 LR:0.0005\",\"[30, 165]\"],[\"FL1:32 FL2:256 DR:0.3 BS:32 LR:0.0005\",\"[30, 165]\"],[\"FL1:32 FL2:256 DR:0.3 BS:32 LR:0.0005\",\"[30, 165]\"],[\"FL1:32 FL2:256 DR:0.3 BS:32 LR:0.0005\",\"[30, 165]\"],[\"FL1:32 FL2:256 DR:0.3 BS:32 LR:0.0005\",\"[30, 165]\"],[\"FL1:32 FL2:256 DR:0.3 BS:32 LR:0.0005\",\"[30, 165]\"],[\"FL1:32 FL2:256 DR:0.3 BS:32 LR:0.0005\",\"[30, 165]\"],[\"FL1:32 FL2:256 DR:0.3 BS:32 LR:0.0005\",\"[30, 165]\"],[\"FL1:32 FL2:256 DR:0.3 BS:32 LR:0.0005\",\"[30, 165]\"],[\"FL1:32 FL2:256 DR:0.3 BS:32 LR:0.0005\",\"[30, 165]\"],[\"FL1:32 FL2:256 DR:0.3 BS:32 LR:0.0005\",\"[30, 165]\"],[\"FL1:32 FL2:256 DR:0.3 BS:32 LR:0.0005\",\"[30, 165]\"],[\"FL1:32 FL2:256 DR:0.3 BS:32 LR:0.0005\",\"[30, 165]\"],[\"FL1:32 FL2:256 DR:0.3 BS:32 LR:0.0005\",\"[30, 165]\"],[\"FL1:32 FL2:256 DR:0.3 BS:32 LR:0.0005\",\"[30, 165]\"],[\"FL1:32 FL2:256 DR:0.3 BS:32 LR:0.0005\",\"[30, 165]\"],[\"FL1:32 FL2:256 DR:0.3 BS:32 LR:0.0005\",\"[30, 165]\"],[\"FL1:32 FL2:256 DR:0.3 BS:32 LR:0.0005\",\"[30, 165]\"],[\"FL1:32 FL2:256 DR:0.3 BS:32 LR:0.0005\",\"[30, 165]\"],[\"FL1:32 FL2:256 DR:0.3 BS:32 LR:0.0005\",\"[30, 165]\"],[\"FL1:32 FL2:256 DR:0.3 BS:32 LR:0.0005\",\"[30, 165]\"],[\"FL1:32 FL2:256 DR:0.3 BS:32 LR:0.0005\",\"[30, 165]\"],[\"FL1:32 FL2:256 DR:0.3 BS:32 LR:0.0005\",\"[30, 165]\"],[\"FL1:32 FL2:256 DR:0.3 BS:32 LR:0.0005\",\"[30, 165]\"],[\"FL1:32 FL2:256 DR:0.3 BS:32 LR:0.0005\",\"[30, 165]\"],[\"FL1:32 FL2:256 DR:0.3 BS:32 LR:0.0005\",\"[30, 165]\"],[\"FL1:32 FL2:256 DR:0.3 BS:32 LR:0.0005\",\"[30, 165]\"],[\"FL1:32 FL2:256 DR:0.3 BS:32 LR:0.0005\",\"[30, 165]\"],[\"FL1:32 FL2:256 DR:0.3 BS:32 LR:0.0005\",\"[30, 165]\"],[\"FL1:32 FL2:256 DR:0.3 BS:32 LR:0.0005\",\"[30, 165]\"],[\"FL1:32 FL2:256 DR:0.3 BS:32 LR:0.0005\",\"[30, 165]\"],[\"FL1:32 FL2:256 DR:0.3 BS:32 LR:0.0005\",\"[30, 165]\"],[\"FL1:32 FL2:256 DR:0.3 BS:32 LR:0.0005\",\"[30, 165]\"],[\"FL1:32 FL2:256 DR:0.3 BS:32 LR:0.0005\",\"[30, 165]\"],[\"FL1:32 FL2:256 DR:0.3 BS:32 LR:0.0005\",\"[30, 165]\"],[\"FL1:32 FL2:256 DR:0.3 BS:32 LR:0.0005\",\"[30, 165]\"],[\"FL1:32 FL2:256 DR:0.3 BS:32 LR:0.0005\",\"[30, 165]\"],[\"FL1:32 FL2:256 DR:0.3 BS:32 LR:0.0005\",\"[30, 165]\"],[\"FL1:32 FL2:256 DR:0.3 BS:32 LR:0.0005\",\"[30, 165]\"],[\"FL1:32 FL2:256 DR:0.3 BS:32 LR:0.0005\",\"[30, 165]\"],[\"FL1:32 FL2:256 DR:0.3 BS:32 LR:0.0005\",\"[30, 165]\"],[\"FL1:32 FL2:256 DR:0.3 BS:32 LR:0.0005\",\"[30, 165]\"],[\"FL1:32 FL2:256 DR:0.3 BS:32 LR:0.0005\",\"[30, 165]\"],[\"FL1:32 FL2:256 DR:0.3 BS:32 LR:0.0005\",\"[30, 165]\"],[\"FL1:32 FL2:256 DR:0.3 BS:32 LR:0.0005\",\"[30, 165]\"],[\"FL1:32 FL2:256 DR:0.3 BS:32 LR:0.0005\",\"[30, 165]\"],[\"FL1:32 FL2:256 DR:0.3 BS:32 LR:0.0005\",\"[30, 165]\"],[\"FL1:32 FL2:256 DR:0.3 BS:32 LR:0.0005\",\"[30, 165]\"],[\"FL1:32 FL2:256 DR:0.3 BS:32 LR:0.0005\",\"[30, 165]\"],[\"FL1:32 FL2:256 DR:0.3 BS:32 LR:0.0005\",\"[30, 165]\"],[\"FL1:32 FL2:256 DR:0.3 BS:32 LR:0.0005\",\"[30, 165]\"],[\"FL1:32 FL2:256 DR:0.3 BS:32 LR:0.0005\",\"[30, 165]\"],[\"FL1:32 FL2:256 DR:0.3 BS:32 LR:0.0005\",\"[30, 165]\"],[\"FL1:32 FL2:256 DR:0.3 BS:32 LR:0.0005\",\"[30, 165]\"],[\"FL1:32 FL2:256 DR:0.3 BS:32 LR:0.0005\",\"[30, 165]\"],[\"FL1:32 FL2:256 DR:0.3 BS:32 LR:0.0005\",\"[30, 165]\"],[\"FL1:32 FL2:256 DR:0.3 BS:32 LR:0.0005\",\"[30, 165]\"],[\"FL1:32 FL2:256 DR:0.3 BS:32 LR:0.0005\",\"[30, 165]\"],[\"FL1:32 FL2:256 DR:0.3 BS:32 LR:0.0005\",\"[30, 165]\"],[\"FL1:32 FL2:256 DR:0.3 BS:32 LR:0.0005\",\"[30, 165]\"],[\"FL1:32 FL2:256 DR:0.3 BS:32 LR:0.0005\",\"[30, 165]\"],[\"FL1:32 FL2:256 DR:0.3 BS:32 LR:0.0005\",\"[30, 165]\"],[\"FL1:32 FL2:256 DR:0.3 BS:32 LR:0.0005\",\"[30, 165]\"],[\"FL1:32 FL2:256 DR:0.3 BS:32 LR:0.0005\",\"[30, 165]\"],[\"FL1:32 FL2:256 DR:0.3 BS:32 LR:0.0005\",\"[30, 165]\"],[\"FL1:32 FL2:256 DR:0.3 BS:32 LR:0.0005\",\"[30, 165]\"],[\"FL1:32 FL2:256 DR:0.3 BS:32 LR:0.0005\",\"[30, 165]\"],[\"FL1:32 FL2:256 DR:0.3 BS:32 LR:0.0005\",\"[30, 165]\"],[\"FL1:32 FL2:256 DR:0.3 BS:32 LR:0.0005\",\"[30, 165]\"],[\"FL1:32 FL2:256 DR:0.3 BS:32 LR:0.0005\",\"[30, 165]\"],[\"FL1:32 FL2:256 DR:0.3 BS:32 LR:0.0005\",\"[30, 165]\"],[\"FL1:32 FL2:256 DR:0.3 BS:32 LR:0.0005\",\"[30, 165]\"],[\"FL1:32 FL2:256 DR:0.3 BS:32 LR:0.0005\",\"[30, 165]\"],[\"FL1:32 FL2:256 DR:0.3 BS:32 LR:0.0005\",\"[30, 165]\"]],\"hovertemplate\":\"variable=train_loss\\u003cbr\\u003etrial_id=802fd_00119\\u003cbr\\u003eepoch=%{x}\\u003cbr\\u003evalue=%{y}\\u003cbr\\u003eHyperparameters=%{customdata[0]}\\u003cbr\\u003echeckpoints=%{customdata[1]}\\u003cextra\\u003e\\u003c\\u002fextra\\u003e\",\"legendgroup\":\"train_loss, 802fd_00119\",\"line\":{\"color\":\"#EF553B\",\"dash\":\"longdash\"},\"marker\":{\"symbol\":\"circle\"},\"mode\":\"lines\",\"name\":\"train_loss, 802fd_00119\",\"showlegend\":true,\"x\":[0,1,2,3,4,5,6,7,8,9,10,11,12,13,14,15,16,17,18,19,20,21,22,23,24,25,26,27,28,29,30,31,32,33,34,35,36,37,38,39,40,41,42,43,44,45,46,47,48,49,50,51,52,53,54,55,56,57,58,59,60,61,62,63,64,65,66,67,68,69,70,71,72,73,74,75,76,77,78,79,80,81,82,83,84,85,86,87,88,89,90,91,92,93,94,95,96,97,98,99,100,101,102,103,104,105,106,107,108,109,110,111,112,113,114,115,116,117,118,119,120,121,122,123,124,125,126,127,128,129,130,131,132,133,134,135,136,137,138,139,140,141,142,143,144,145,146,147,148,149,150,151,152,153,154,155,156,157,158,159,160,161,162,163,164,165],\"xaxis\":\"x\",\"y\":[0.09490236639976482,0.1164199958244955,0.27948110964563,0.2950100181279342,0.21787722344383656,0.16947039173831566,0.19831432373517052,0.1793907630522599,0.1758243870787849,0.2102727083400237,0.2670155623247449,0.3089844987584625,0.2185019014307839,0.26248545832296033,0.22302245025409445,0.19540868484028937,0.1759563421742699,0.19921184318175408,0.16125562033329052,0.15010492994569144,0.16736631422693424,0.13353602061308006,0.13702516899927814,0.10396570271203484,0.10825930986768355,0.09065348086401046,0.08689141639500322,0.07140063738445077,0.0528711599732083,0.10448622191115454,0.09112116601178524,0.09465293772425548,0.07024675235090183,0.047771548851910726,0.03439469340540201,0.02926935058896557,0.0443371248050848,0.03831661260322188,0.04508124633759547,0.038117491125267605,0.1273909660969846,0.08935338370383926,0.06199127028927964,0.07773782538404547,0.08538337450577452,0.17047553526927053,0.12107465676181191,0.10356258029217623,0.0709961180023028,0.12508438356264864,0.09019674060274781,0.07264359840108031,0.09250081942050345,0.09935301453251741,0.08552418714019379,0.08819113466642095,0.10271307192578417,0.12418400818993286,0.08316908902674258,0.05645079373816213,0.03903154593250525,0.028189787996999855,0.034085002033705375,0.047366266607439936,0.03862382130271615,0.041806376436991206,0.0687697746420187,0.051134415132422,0.04672323674799246,0.048949593956875974,0.03303513853612998,0.02840397687497042,0.03983516366443555,0.12472298324877308,0.0860186079692462,0.057564371587608826,0.08481674973287459,0.058447478689208784,0.051846084728807224,0.10487270205217557,0.07338894337993829,0.06402294333167842,0.13794314858243123,0.18097059923360864,0.12848824778662862,0.08728645806571998,0.06219806968792381,0.1684799671148193,0.1759906927727942,0.1341866599177839,0.14192309787905988,0.12131563945635657,0.08093391275260423,0.10138345205686837,0.12413957512313989,0.13767687344507917,0.10578665585290414,0.11005747368581416,0.07868756201133012,0.06428312532613588,0.126736447364157,0.1097084856033758,0.07433081259332998,0.05547848051622772,0.037345817731533684,0.09977150860542291,0.09107728403882327,0.08341970362316319,0.1366999352511477,0.13436453405596863,0.09847344512626888,0.174657196169994,0.12543508993480051,0.08691559841247692,0.06512419455589379,0.09484741305868807,0.06892944207993466,0.04595609049556544,0.07682984100817208,0.051533895484478925,0.12812596741773738,0.12406533332969094,0.08994697612063977,0.09572732585361837,0.06769287429048773,0.07076532537271003,0.05046769109967294,0.04923045926692041,0.036642386658502585,0.024494980801735896,0.022130081656637796,0.03832557936712289,0.025615804360255165,0.01969517084273663,0.028026182617167293,0.01902869367389273,0.04613511031725908,0.03139943066984102,0.0623859477291481,0.04439115884817149,0.03362578611268931,0.024737134522493195,0.020272751613653675,0.07867578000770431,0.08147808383535274,0.056068523851159055,0.04098089509266799,0.0620977487700393,0.041408793652330134,0.03481032241501688,0.08055822742725892,0.06350057948129355,0.04298949329325378,0.038223821012634766,0.04221446023282644,0.029156060209231126,0.02034251494004925,0.01702844295431901,0.07969297431263435,0.05452674773113996,0.03860443787998337,0.02654166250722358,0.020720226139139774,0.0275586653552529,0.02514972637441926,0.01869092327255123],\"yaxis\":\"y\",\"type\":\"scattergl\"}],                        {\"template\":{\"data\":{\"histogram2dcontour\":[{\"type\":\"histogram2dcontour\",\"colorbar\":{\"outlinewidth\":0,\"ticks\":\"\"},\"colorscale\":[[0.0,\"#0d0887\"],[0.1111111111111111,\"#46039f\"],[0.2222222222222222,\"#7201a8\"],[0.3333333333333333,\"#9c179e\"],[0.4444444444444444,\"#bd3786\"],[0.5555555555555556,\"#d8576b\"],[0.6666666666666666,\"#ed7953\"],[0.7777777777777778,\"#fb9f3a\"],[0.8888888888888888,\"#fdca26\"],[1.0,\"#f0f921\"]]}],\"choropleth\":[{\"type\":\"choropleth\",\"colorbar\":{\"outlinewidth\":0,\"ticks\":\"\"}}],\"histogram2d\":[{\"type\":\"histogram2d\",\"colorbar\":{\"outlinewidth\":0,\"ticks\":\"\"},\"colorscale\":[[0.0,\"#0d0887\"],[0.1111111111111111,\"#46039f\"],[0.2222222222222222,\"#7201a8\"],[0.3333333333333333,\"#9c179e\"],[0.4444444444444444,\"#bd3786\"],[0.5555555555555556,\"#d8576b\"],[0.6666666666666666,\"#ed7953\"],[0.7777777777777778,\"#fb9f3a\"],[0.8888888888888888,\"#fdca26\"],[1.0,\"#f0f921\"]]}],\"heatmap\":[{\"type\":\"heatmap\",\"colorbar\":{\"outlinewidth\":0,\"ticks\":\"\"},\"colorscale\":[[0.0,\"#0d0887\"],[0.1111111111111111,\"#46039f\"],[0.2222222222222222,\"#7201a8\"],[0.3333333333333333,\"#9c179e\"],[0.4444444444444444,\"#bd3786\"],[0.5555555555555556,\"#d8576b\"],[0.6666666666666666,\"#ed7953\"],[0.7777777777777778,\"#fb9f3a\"],[0.8888888888888888,\"#fdca26\"],[1.0,\"#f0f921\"]]}],\"heatmapgl\":[{\"type\":\"heatmapgl\",\"colorbar\":{\"outlinewidth\":0,\"ticks\":\"\"},\"colorscale\":[[0.0,\"#0d0887\"],[0.1111111111111111,\"#46039f\"],[0.2222222222222222,\"#7201a8\"],[0.3333333333333333,\"#9c179e\"],[0.4444444444444444,\"#bd3786\"],[0.5555555555555556,\"#d8576b\"],[0.6666666666666666,\"#ed7953\"],[0.7777777777777778,\"#fb9f3a\"],[0.8888888888888888,\"#fdca26\"],[1.0,\"#f0f921\"]]}],\"contourcarpet\":[{\"type\":\"contourcarpet\",\"colorbar\":{\"outlinewidth\":0,\"ticks\":\"\"}}],\"contour\":[{\"type\":\"contour\",\"colorbar\":{\"outlinewidth\":0,\"ticks\":\"\"},\"colorscale\":[[0.0,\"#0d0887\"],[0.1111111111111111,\"#46039f\"],[0.2222222222222222,\"#7201a8\"],[0.3333333333333333,\"#9c179e\"],[0.4444444444444444,\"#bd3786\"],[0.5555555555555556,\"#d8576b\"],[0.6666666666666666,\"#ed7953\"],[0.7777777777777778,\"#fb9f3a\"],[0.8888888888888888,\"#fdca26\"],[1.0,\"#f0f921\"]]}],\"surface\":[{\"type\":\"surface\",\"colorbar\":{\"outlinewidth\":0,\"ticks\":\"\"},\"colorscale\":[[0.0,\"#0d0887\"],[0.1111111111111111,\"#46039f\"],[0.2222222222222222,\"#7201a8\"],[0.3333333333333333,\"#9c179e\"],[0.4444444444444444,\"#bd3786\"],[0.5555555555555556,\"#d8576b\"],[0.6666666666666666,\"#ed7953\"],[0.7777777777777778,\"#fb9f3a\"],[0.8888888888888888,\"#fdca26\"],[1.0,\"#f0f921\"]]}],\"mesh3d\":[{\"type\":\"mesh3d\",\"colorbar\":{\"outlinewidth\":0,\"ticks\":\"\"}}],\"scatter\":[{\"fillpattern\":{\"fillmode\":\"overlay\",\"size\":10,\"solidity\":0.2},\"type\":\"scatter\"}],\"parcoords\":[{\"type\":\"parcoords\",\"line\":{\"colorbar\":{\"outlinewidth\":0,\"ticks\":\"\"}}}],\"scatterpolargl\":[{\"type\":\"scatterpolargl\",\"marker\":{\"colorbar\":{\"outlinewidth\":0,\"ticks\":\"\"}}}],\"bar\":[{\"error_x\":{\"color\":\"#2a3f5f\"},\"error_y\":{\"color\":\"#2a3f5f\"},\"marker\":{\"line\":{\"color\":\"#E5ECF6\",\"width\":0.5},\"pattern\":{\"fillmode\":\"overlay\",\"size\":10,\"solidity\":0.2}},\"type\":\"bar\"}],\"scattergeo\":[{\"type\":\"scattergeo\",\"marker\":{\"colorbar\":{\"outlinewidth\":0,\"ticks\":\"\"}}}],\"scatterpolar\":[{\"type\":\"scatterpolar\",\"marker\":{\"colorbar\":{\"outlinewidth\":0,\"ticks\":\"\"}}}],\"histogram\":[{\"marker\":{\"pattern\":{\"fillmode\":\"overlay\",\"size\":10,\"solidity\":0.2}},\"type\":\"histogram\"}],\"scattergl\":[{\"type\":\"scattergl\",\"marker\":{\"colorbar\":{\"outlinewidth\":0,\"ticks\":\"\"}}}],\"scatter3d\":[{\"type\":\"scatter3d\",\"line\":{\"colorbar\":{\"outlinewidth\":0,\"ticks\":\"\"}},\"marker\":{\"colorbar\":{\"outlinewidth\":0,\"ticks\":\"\"}}}],\"scattermapbox\":[{\"type\":\"scattermapbox\",\"marker\":{\"colorbar\":{\"outlinewidth\":0,\"ticks\":\"\"}}}],\"scatterternary\":[{\"type\":\"scatterternary\",\"marker\":{\"colorbar\":{\"outlinewidth\":0,\"ticks\":\"\"}}}],\"scattercarpet\":[{\"type\":\"scattercarpet\",\"marker\":{\"colorbar\":{\"outlinewidth\":0,\"ticks\":\"\"}}}],\"carpet\":[{\"aaxis\":{\"endlinecolor\":\"#2a3f5f\",\"gridcolor\":\"white\",\"linecolor\":\"white\",\"minorgridcolor\":\"white\",\"startlinecolor\":\"#2a3f5f\"},\"baxis\":{\"endlinecolor\":\"#2a3f5f\",\"gridcolor\":\"white\",\"linecolor\":\"white\",\"minorgridcolor\":\"white\",\"startlinecolor\":\"#2a3f5f\"},\"type\":\"carpet\"}],\"table\":[{\"cells\":{\"fill\":{\"color\":\"#EBF0F8\"},\"line\":{\"color\":\"white\"}},\"header\":{\"fill\":{\"color\":\"#C8D4E3\"},\"line\":{\"color\":\"white\"}},\"type\":\"table\"}],\"barpolar\":[{\"marker\":{\"line\":{\"color\":\"#E5ECF6\",\"width\":0.5},\"pattern\":{\"fillmode\":\"overlay\",\"size\":10,\"solidity\":0.2}},\"type\":\"barpolar\"}],\"pie\":[{\"automargin\":true,\"type\":\"pie\"}]},\"layout\":{\"autotypenumbers\":\"strict\",\"colorway\":[\"#636efa\",\"#EF553B\",\"#00cc96\",\"#ab63fa\",\"#FFA15A\",\"#19d3f3\",\"#FF6692\",\"#B6E880\",\"#FF97FF\",\"#FECB52\"],\"font\":{\"color\":\"#2a3f5f\"},\"hovermode\":\"closest\",\"hoverlabel\":{\"align\":\"left\"},\"paper_bgcolor\":\"white\",\"plot_bgcolor\":\"#E5ECF6\",\"polar\":{\"bgcolor\":\"#E5ECF6\",\"angularaxis\":{\"gridcolor\":\"white\",\"linecolor\":\"white\",\"ticks\":\"\"},\"radialaxis\":{\"gridcolor\":\"white\",\"linecolor\":\"white\",\"ticks\":\"\"}},\"ternary\":{\"bgcolor\":\"#E5ECF6\",\"aaxis\":{\"gridcolor\":\"white\",\"linecolor\":\"white\",\"ticks\":\"\"},\"baxis\":{\"gridcolor\":\"white\",\"linecolor\":\"white\",\"ticks\":\"\"},\"caxis\":{\"gridcolor\":\"white\",\"linecolor\":\"white\",\"ticks\":\"\"}},\"coloraxis\":{\"colorbar\":{\"outlinewidth\":0,\"ticks\":\"\"}},\"colorscale\":{\"sequential\":[[0.0,\"#0d0887\"],[0.1111111111111111,\"#46039f\"],[0.2222222222222222,\"#7201a8\"],[0.3333333333333333,\"#9c179e\"],[0.4444444444444444,\"#bd3786\"],[0.5555555555555556,\"#d8576b\"],[0.6666666666666666,\"#ed7953\"],[0.7777777777777778,\"#fb9f3a\"],[0.8888888888888888,\"#fdca26\"],[1.0,\"#f0f921\"]],\"sequentialminus\":[[0.0,\"#0d0887\"],[0.1111111111111111,\"#46039f\"],[0.2222222222222222,\"#7201a8\"],[0.3333333333333333,\"#9c179e\"],[0.4444444444444444,\"#bd3786\"],[0.5555555555555556,\"#d8576b\"],[0.6666666666666666,\"#ed7953\"],[0.7777777777777778,\"#fb9f3a\"],[0.8888888888888888,\"#fdca26\"],[1.0,\"#f0f921\"]],\"diverging\":[[0,\"#8e0152\"],[0.1,\"#c51b7d\"],[0.2,\"#de77ae\"],[0.3,\"#f1b6da\"],[0.4,\"#fde0ef\"],[0.5,\"#f7f7f7\"],[0.6,\"#e6f5d0\"],[0.7,\"#b8e186\"],[0.8,\"#7fbc41\"],[0.9,\"#4d9221\"],[1,\"#276419\"]]},\"xaxis\":{\"gridcolor\":\"white\",\"linecolor\":\"white\",\"ticks\":\"\",\"title\":{\"standoff\":15},\"zerolinecolor\":\"white\",\"automargin\":true,\"zerolinewidth\":2},\"yaxis\":{\"gridcolor\":\"white\",\"linecolor\":\"white\",\"ticks\":\"\",\"title\":{\"standoff\":15},\"zerolinecolor\":\"white\",\"automargin\":true,\"zerolinewidth\":2},\"scene\":{\"xaxis\":{\"backgroundcolor\":\"#E5ECF6\",\"gridcolor\":\"white\",\"linecolor\":\"white\",\"showbackground\":true,\"ticks\":\"\",\"zerolinecolor\":\"white\",\"gridwidth\":2},\"yaxis\":{\"backgroundcolor\":\"#E5ECF6\",\"gridcolor\":\"white\",\"linecolor\":\"white\",\"showbackground\":true,\"ticks\":\"\",\"zerolinecolor\":\"white\",\"gridwidth\":2},\"zaxis\":{\"backgroundcolor\":\"#E5ECF6\",\"gridcolor\":\"white\",\"linecolor\":\"white\",\"showbackground\":true,\"ticks\":\"\",\"zerolinecolor\":\"white\",\"gridwidth\":2}},\"shapedefaults\":{\"line\":{\"color\":\"#2a3f5f\"}},\"annotationdefaults\":{\"arrowcolor\":\"#2a3f5f\",\"arrowhead\":0,\"arrowwidth\":1},\"geo\":{\"bgcolor\":\"white\",\"landcolor\":\"#E5ECF6\",\"subunitcolor\":\"white\",\"showland\":true,\"showlakes\":true,\"lakecolor\":\"white\"},\"title\":{\"x\":0.05},\"mapbox\":{\"style\":\"light\"}}},\"xaxis\":{\"anchor\":\"y\",\"domain\":[0.0,1.0],\"title\":{\"text\":\"epoch\"}},\"yaxis\":{\"anchor\":\"x\",\"domain\":[0.0,1.0],\"title\":{\"text\":\"value\"}},\"legend\":{\"title\":{\"text\":\"variable, trial_id\"},\"tracegroupgap\":0},\"margin\":{\"t\":60},\"height\":800,\"width\":850},                        {\"responsive\": true}                    ).then(function(){\n",
       "                            \n",
       "var gd = document.getElementById('7a522bbd-fba5-4d8b-96ad-4f76cc61862a');\n",
       "var x = new MutationObserver(function (mutations, observer) {{\n",
       "        var display = window.getComputedStyle(gd).display;\n",
       "        if (!display || display === 'none') {{\n",
       "            console.log([gd, 'removed!']);\n",
       "            Plotly.purge(gd);\n",
       "            observer.disconnect();\n",
       "        }}\n",
       "}});\n",
       "\n",
       "// Listen for the removal of the full notebook cells\n",
       "var notebookContainer = gd.closest('#notebook-container');\n",
       "if (notebookContainer) {{\n",
       "    x.observe(notebookContainer, {childList: true});\n",
       "}}\n",
       "\n",
       "// Listen for the clearing of the current output cell\n",
       "var outputEl = gd.closest('.output');\n",
       "if (outputEl) {{\n",
       "    x.observe(outputEl, {childList: true});\n",
       "}}\n",
       "\n",
       "                        })                };                });            </script>        </div>"
      ]
     },
     "metadata": {},
     "output_type": "display_data"
    }
   ],
   "source": [
    "fig"
   ]
  },
  {
   "cell_type": "code",
   "execution_count": 7,
   "metadata": {},
   "outputs": [],
   "source": [
    "fig.write_html(\"/home/sjinich/disco/TrypanoDEEPscreen/src/analysis/chembl2581_training_cruve.html\")"
   ]
  }
 ],
 "metadata": {
  "kernelspec": {
   "display_name": "Python 3",
   "language": "python",
   "name": "python3"
  },
  "language_info": {
   "codemirror_mode": {
    "name": "ipython",
    "version": 3
   },
   "file_extension": ".py",
   "mimetype": "text/x-python",
   "name": "python",
   "nbconvert_exporter": "python",
   "pygments_lexer": "ipython3",
   "version": "3.8.8"
  }
 },
 "nbformat": 4,
 "nbformat_minor": 2
}
