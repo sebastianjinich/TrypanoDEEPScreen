{
 "cells": [
  {
   "cell_type": "code",
   "execution_count": 1,
   "metadata": {},
   "outputs": [],
   "source": [
    "import pandas as pd\n",
    "\n",
    "luz = pd.read_csv(\"comparacion_luz.csv\")\n",
    "sebi = pd.read_csv(\"/home/sjinich/disco/TrypanoDEEPscreen/.exploracion/test_chembl4567_poster_512-256-0.0001-0.5-64.csv\")\n",
    "sebi_features = pd.read_csv(\"/home/sjinich/disco/TrypanoDEEPscreen/.exploracion/test_chembl4657_trial_512-16-0.0005-0.5-32.csv\")"
   ]
  },
  {
   "cell_type": "code",
   "execution_count": 2,
   "metadata": {},
   "outputs": [
    {
     "data": {
      "text/html": [
       "<div>\n",
       "<style scoped>\n",
       "    .dataframe tbody tr th:only-of-type {\n",
       "        vertical-align: middle;\n",
       "    }\n",
       "\n",
       "    .dataframe tbody tr th {\n",
       "        vertical-align: top;\n",
       "    }\n",
       "\n",
       "    .dataframe thead th {\n",
       "        text-align: right;\n",
       "    }\n",
       "</style>\n",
       "<table border=\"1\" class=\"dataframe\">\n",
       "  <thead>\n",
       "    <tr style=\"text-align: right;\">\n",
       "      <th></th>\n",
       "      <th>comp_id</th>\n",
       "      <th>bioactivity</th>\n",
       "      <th>predicciones</th>\n",
       "    </tr>\n",
       "  </thead>\n",
       "  <tbody>\n",
       "    <tr>\n",
       "      <th>0</th>\n",
       "      <td>CHEMBL1082996</td>\n",
       "      <td>0</td>\n",
       "      <td>0</td>\n",
       "    </tr>\n",
       "    <tr>\n",
       "      <th>1</th>\n",
       "      <td>CHEMBL1084601</td>\n",
       "      <td>0</td>\n",
       "      <td>1</td>\n",
       "    </tr>\n",
       "    <tr>\n",
       "      <th>2</th>\n",
       "      <td>CHEMBL1084972</td>\n",
       "      <td>0</td>\n",
       "      <td>0</td>\n",
       "    </tr>\n",
       "    <tr>\n",
       "      <th>3</th>\n",
       "      <td>CHEMBL1085074</td>\n",
       "      <td>0</td>\n",
       "      <td>0</td>\n",
       "    </tr>\n",
       "    <tr>\n",
       "      <th>4</th>\n",
       "      <td>CHEMBL1085075</td>\n",
       "      <td>0</td>\n",
       "      <td>0</td>\n",
       "    </tr>\n",
       "    <tr>\n",
       "      <th>...</th>\n",
       "      <td>...</td>\n",
       "      <td>...</td>\n",
       "      <td>...</td>\n",
       "    </tr>\n",
       "    <tr>\n",
       "      <th>324</th>\n",
       "      <td>CHEMBL390194</td>\n",
       "      <td>0</td>\n",
       "      <td>0</td>\n",
       "    </tr>\n",
       "    <tr>\n",
       "      <th>325</th>\n",
       "      <td>CHEMBL390239</td>\n",
       "      <td>0</td>\n",
       "      <td>0</td>\n",
       "    </tr>\n",
       "    <tr>\n",
       "      <th>326</th>\n",
       "      <td>CHEMBL390241</td>\n",
       "      <td>0</td>\n",
       "      <td>0</td>\n",
       "    </tr>\n",
       "    <tr>\n",
       "      <th>327</th>\n",
       "      <td>CHEMBL390513</td>\n",
       "      <td>1</td>\n",
       "      <td>1</td>\n",
       "    </tr>\n",
       "    <tr>\n",
       "      <th>328</th>\n",
       "      <td>CHEMBL391466</td>\n",
       "      <td>1</td>\n",
       "      <td>1</td>\n",
       "    </tr>\n",
       "  </tbody>\n",
       "</table>\n",
       "<p>329 rows × 3 columns</p>\n",
       "</div>"
      ],
      "text/plain": [
       "           comp_id  bioactivity  predicciones\n",
       "0    CHEMBL1082996            0             0\n",
       "1    CHEMBL1084601            0             1\n",
       "2    CHEMBL1084972            0             0\n",
       "3    CHEMBL1085074            0             0\n",
       "4    CHEMBL1085075            0             0\n",
       "..             ...          ...           ...\n",
       "324   CHEMBL390194            0             0\n",
       "325   CHEMBL390239            0             0\n",
       "326   CHEMBL390241            0             0\n",
       "327   CHEMBL390513            1             1\n",
       "328   CHEMBL391466            1             1\n",
       "\n",
       "[329 rows x 3 columns]"
      ]
     },
     "execution_count": 2,
     "metadata": {},
     "output_type": "execute_result"
    }
   ],
   "source": [
    "luz"
   ]
  },
  {
   "cell_type": "code",
   "execution_count": 3,
   "metadata": {},
   "outputs": [
    {
     "data": {
      "text/html": [
       "<div>\n",
       "<style scoped>\n",
       "    .dataframe tbody tr th:only-of-type {\n",
       "        vertical-align: middle;\n",
       "    }\n",
       "\n",
       "    .dataframe tbody tr th {\n",
       "        vertical-align: top;\n",
       "    }\n",
       "\n",
       "    .dataframe thead th {\n",
       "        text-align: right;\n",
       "    }\n",
       "</style>\n",
       "<table border=\"1\" class=\"dataframe\">\n",
       "  <thead>\n",
       "    <tr style=\"text-align: right;\">\n",
       "      <th></th>\n",
       "      <th>comp_id</th>\n",
       "      <th>label</th>\n",
       "      <th>prediction</th>\n",
       "      <th>0_inactive_probability</th>\n",
       "      <th>1_active_probability</th>\n",
       "    </tr>\n",
       "  </thead>\n",
       "  <tbody>\n",
       "    <tr>\n",
       "      <th>0</th>\n",
       "      <td>CHEMBL1082996</td>\n",
       "      <td>0</td>\n",
       "      <td>0</td>\n",
       "      <td>0.671113</td>\n",
       "      <td>0.328888</td>\n",
       "    </tr>\n",
       "    <tr>\n",
       "      <th>1</th>\n",
       "      <td>CHEMBL1084601</td>\n",
       "      <td>0</td>\n",
       "      <td>0</td>\n",
       "      <td>0.998429</td>\n",
       "      <td>0.001571</td>\n",
       "    </tr>\n",
       "    <tr>\n",
       "      <th>2</th>\n",
       "      <td>CHEMBL1084972</td>\n",
       "      <td>0</td>\n",
       "      <td>1</td>\n",
       "      <td>0.001894</td>\n",
       "      <td>0.998106</td>\n",
       "    </tr>\n",
       "    <tr>\n",
       "      <th>3</th>\n",
       "      <td>CHEMBL1085074</td>\n",
       "      <td>0</td>\n",
       "      <td>0</td>\n",
       "      <td>0.992569</td>\n",
       "      <td>0.007431</td>\n",
       "    </tr>\n",
       "    <tr>\n",
       "      <th>4</th>\n",
       "      <td>CHEMBL1085075</td>\n",
       "      <td>0</td>\n",
       "      <td>0</td>\n",
       "      <td>0.994325</td>\n",
       "      <td>0.005675</td>\n",
       "    </tr>\n",
       "    <tr>\n",
       "      <th>...</th>\n",
       "      <td>...</td>\n",
       "      <td>...</td>\n",
       "      <td>...</td>\n",
       "      <td>...</td>\n",
       "      <td>...</td>\n",
       "    </tr>\n",
       "    <tr>\n",
       "      <th>324</th>\n",
       "      <td>CHEMBL390194</td>\n",
       "      <td>0</td>\n",
       "      <td>0</td>\n",
       "      <td>0.998868</td>\n",
       "      <td>0.001132</td>\n",
       "    </tr>\n",
       "    <tr>\n",
       "      <th>325</th>\n",
       "      <td>CHEMBL390239</td>\n",
       "      <td>0</td>\n",
       "      <td>0</td>\n",
       "      <td>0.999893</td>\n",
       "      <td>0.000107</td>\n",
       "    </tr>\n",
       "    <tr>\n",
       "      <th>326</th>\n",
       "      <td>CHEMBL390241</td>\n",
       "      <td>0</td>\n",
       "      <td>0</td>\n",
       "      <td>0.989610</td>\n",
       "      <td>0.010390</td>\n",
       "    </tr>\n",
       "    <tr>\n",
       "      <th>327</th>\n",
       "      <td>CHEMBL390513</td>\n",
       "      <td>1</td>\n",
       "      <td>1</td>\n",
       "      <td>0.065806</td>\n",
       "      <td>0.934194</td>\n",
       "    </tr>\n",
       "    <tr>\n",
       "      <th>328</th>\n",
       "      <td>CHEMBL391466</td>\n",
       "      <td>1</td>\n",
       "      <td>1</td>\n",
       "      <td>0.051873</td>\n",
       "      <td>0.948127</td>\n",
       "    </tr>\n",
       "  </tbody>\n",
       "</table>\n",
       "<p>329 rows × 5 columns</p>\n",
       "</div>"
      ],
      "text/plain": [
       "           comp_id  label  prediction  0_inactive_probability  \\\n",
       "0    CHEMBL1082996      0           0                0.671113   \n",
       "1    CHEMBL1084601      0           0                0.998429   \n",
       "2    CHEMBL1084972      0           1                0.001894   \n",
       "3    CHEMBL1085074      0           0                0.992569   \n",
       "4    CHEMBL1085075      0           0                0.994325   \n",
       "..             ...    ...         ...                     ...   \n",
       "324   CHEMBL390194      0           0                0.998868   \n",
       "325   CHEMBL390239      0           0                0.999893   \n",
       "326   CHEMBL390241      0           0                0.989610   \n",
       "327   CHEMBL390513      1           1                0.065806   \n",
       "328   CHEMBL391466      1           1                0.051873   \n",
       "\n",
       "     1_active_probability  \n",
       "0                0.328888  \n",
       "1                0.001571  \n",
       "2                0.998106  \n",
       "3                0.007431  \n",
       "4                0.005675  \n",
       "..                    ...  \n",
       "324              0.001132  \n",
       "325              0.000107  \n",
       "326              0.010390  \n",
       "327              0.934194  \n",
       "328              0.948127  \n",
       "\n",
       "[329 rows x 5 columns]"
      ]
     },
     "execution_count": 3,
     "metadata": {},
     "output_type": "execute_result"
    }
   ],
   "source": [
    "sebi"
   ]
  },
  {
   "cell_type": "code",
   "execution_count": 4,
   "metadata": {},
   "outputs": [],
   "source": [
    "sebi[\"predicciones_sebi\"] = sebi[\"prediction\"]\n",
    "sebi[\"prob_sebi\"] = sebi[\"1_active_probability\"]\n",
    "\n",
    "sebi_features[\"predicciones_sebi_features\"] = sebi_features[\"prediction\"]\n",
    "sebi_features[\"prob_sebi_features\"] = sebi_features[\"1_active_probability\"]\n"
   ]
  },
  {
   "cell_type": "code",
   "execution_count": 5,
   "metadata": {},
   "outputs": [
    {
     "data": {
      "text/html": [
       "<div>\n",
       "<style scoped>\n",
       "    .dataframe tbody tr th:only-of-type {\n",
       "        vertical-align: middle;\n",
       "    }\n",
       "\n",
       "    .dataframe tbody tr th {\n",
       "        vertical-align: top;\n",
       "    }\n",
       "\n",
       "    .dataframe thead th {\n",
       "        text-align: right;\n",
       "    }\n",
       "</style>\n",
       "<table border=\"1\" class=\"dataframe\">\n",
       "  <thead>\n",
       "    <tr style=\"text-align: right;\">\n",
       "      <th></th>\n",
       "      <th>comp_id</th>\n",
       "      <th>bioactivity</th>\n",
       "      <th>predicciones_luz</th>\n",
       "      <th>predicciones_sebi</th>\n",
       "      <th>prob_sebi</th>\n",
       "      <th>predicciones_sebi_features</th>\n",
       "      <th>prob_sebi_features</th>\n",
       "    </tr>\n",
       "  </thead>\n",
       "  <tbody>\n",
       "    <tr>\n",
       "      <th>0</th>\n",
       "      <td>CHEMBL1082996</td>\n",
       "      <td>0</td>\n",
       "      <td>0</td>\n",
       "      <td>0</td>\n",
       "      <td>0.328888</td>\n",
       "      <td>0</td>\n",
       "      <td>0.000054</td>\n",
       "    </tr>\n",
       "    <tr>\n",
       "      <th>1</th>\n",
       "      <td>CHEMBL1084601</td>\n",
       "      <td>0</td>\n",
       "      <td>1</td>\n",
       "      <td>0</td>\n",
       "      <td>0.001571</td>\n",
       "      <td>0</td>\n",
       "      <td>0.010116</td>\n",
       "    </tr>\n",
       "    <tr>\n",
       "      <th>2</th>\n",
       "      <td>CHEMBL1084972</td>\n",
       "      <td>0</td>\n",
       "      <td>0</td>\n",
       "      <td>1</td>\n",
       "      <td>0.998106</td>\n",
       "      <td>0</td>\n",
       "      <td>0.021484</td>\n",
       "    </tr>\n",
       "    <tr>\n",
       "      <th>3</th>\n",
       "      <td>CHEMBL1085074</td>\n",
       "      <td>0</td>\n",
       "      <td>0</td>\n",
       "      <td>0</td>\n",
       "      <td>0.007431</td>\n",
       "      <td>0</td>\n",
       "      <td>0.004204</td>\n",
       "    </tr>\n",
       "    <tr>\n",
       "      <th>4</th>\n",
       "      <td>CHEMBL1085075</td>\n",
       "      <td>0</td>\n",
       "      <td>0</td>\n",
       "      <td>0</td>\n",
       "      <td>0.005675</td>\n",
       "      <td>0</td>\n",
       "      <td>0.030064</td>\n",
       "    </tr>\n",
       "    <tr>\n",
       "      <th>...</th>\n",
       "      <td>...</td>\n",
       "      <td>...</td>\n",
       "      <td>...</td>\n",
       "      <td>...</td>\n",
       "      <td>...</td>\n",
       "      <td>...</td>\n",
       "      <td>...</td>\n",
       "    </tr>\n",
       "    <tr>\n",
       "      <th>324</th>\n",
       "      <td>CHEMBL390194</td>\n",
       "      <td>0</td>\n",
       "      <td>0</td>\n",
       "      <td>0</td>\n",
       "      <td>0.001132</td>\n",
       "      <td>0</td>\n",
       "      <td>0.010201</td>\n",
       "    </tr>\n",
       "    <tr>\n",
       "      <th>325</th>\n",
       "      <td>CHEMBL390239</td>\n",
       "      <td>0</td>\n",
       "      <td>0</td>\n",
       "      <td>0</td>\n",
       "      <td>0.000107</td>\n",
       "      <td>0</td>\n",
       "      <td>0.001808</td>\n",
       "    </tr>\n",
       "    <tr>\n",
       "      <th>326</th>\n",
       "      <td>CHEMBL390241</td>\n",
       "      <td>0</td>\n",
       "      <td>0</td>\n",
       "      <td>0</td>\n",
       "      <td>0.010390</td>\n",
       "      <td>0</td>\n",
       "      <td>0.000425</td>\n",
       "    </tr>\n",
       "    <tr>\n",
       "      <th>327</th>\n",
       "      <td>CHEMBL390513</td>\n",
       "      <td>1</td>\n",
       "      <td>1</td>\n",
       "      <td>1</td>\n",
       "      <td>0.934194</td>\n",
       "      <td>1</td>\n",
       "      <td>0.993105</td>\n",
       "    </tr>\n",
       "    <tr>\n",
       "      <th>328</th>\n",
       "      <td>CHEMBL391466</td>\n",
       "      <td>1</td>\n",
       "      <td>1</td>\n",
       "      <td>1</td>\n",
       "      <td>0.948127</td>\n",
       "      <td>1</td>\n",
       "      <td>0.999509</td>\n",
       "    </tr>\n",
       "  </tbody>\n",
       "</table>\n",
       "<p>329 rows × 7 columns</p>\n",
       "</div>"
      ],
      "text/plain": [
       "           comp_id  bioactivity  predicciones_luz  predicciones_sebi  \\\n",
       "0    CHEMBL1082996            0                 0                  0   \n",
       "1    CHEMBL1084601            0                 1                  0   \n",
       "2    CHEMBL1084972            0                 0                  1   \n",
       "3    CHEMBL1085074            0                 0                  0   \n",
       "4    CHEMBL1085075            0                 0                  0   \n",
       "..             ...          ...               ...                ...   \n",
       "324   CHEMBL390194            0                 0                  0   \n",
       "325   CHEMBL390239            0                 0                  0   \n",
       "326   CHEMBL390241            0                 0                  0   \n",
       "327   CHEMBL390513            1                 1                  1   \n",
       "328   CHEMBL391466            1                 1                  1   \n",
       "\n",
       "     prob_sebi  predicciones_sebi_features  prob_sebi_features  \n",
       "0     0.328888                           0            0.000054  \n",
       "1     0.001571                           0            0.010116  \n",
       "2     0.998106                           0            0.021484  \n",
       "3     0.007431                           0            0.004204  \n",
       "4     0.005675                           0            0.030064  \n",
       "..         ...                         ...                 ...  \n",
       "324   0.001132                           0            0.010201  \n",
       "325   0.000107                           0            0.001808  \n",
       "326   0.010390                           0            0.000425  \n",
       "327   0.934194                           1            0.993105  \n",
       "328   0.948127                           1            0.999509  \n",
       "\n",
       "[329 rows x 7 columns]"
      ]
     },
     "execution_count": 5,
     "metadata": {},
     "output_type": "execute_result"
    }
   ],
   "source": [
    "comparacion = pd.merge(luz,sebi[[\"comp_id\",\"predicciones_sebi\",\"prob_sebi\"]],on=\"comp_id\")\n",
    "comparacion = pd.merge(comparacion,sebi_features[[\"comp_id\",\"predicciones_sebi_features\",\"prob_sebi_features\"]],on=\"comp_id\")\n",
    "comparacion = comparacion.rename(columns={\"predicciones\":\"predicciones_luz\"})\n",
    "comparacion"
   ]
  },
  {
   "cell_type": "code",
   "execution_count": 6,
   "metadata": {},
   "outputs": [],
   "source": [
    "from sklearn import metrics"
   ]
  },
  {
   "cell_type": "code",
   "execution_count": 7,
   "metadata": {},
   "outputs": [
    {
     "name": "stdout",
     "output_type": "stream",
     "text": [
      "mattews\n",
      "luz 0.5248833146751668\n",
      "sebi 0.5020909722542249\n",
      "sebi_features 0.6113420651915114\n",
      "\n",
      "precision\n",
      "luz 0.7130434782608696\n",
      "sebi 0.6274509803921569\n",
      "sebi_features 0.7672413793103449\n",
      "\n",
      "recall\n",
      "luz 0.6776859504132231\n",
      "sebi 0.7933884297520661\n",
      "sebi_features 0.7355371900826446\n",
      "\n"
     ]
    }
   ],
   "source": [
    "print(\"mattews\")\n",
    "print(\"luz\", metrics.matthews_corrcoef(comparacion[\"bioactivity\"],comparacion[\"predicciones_luz\"]))\n",
    "print(\"sebi\",metrics.matthews_corrcoef(comparacion[\"bioactivity\"],comparacion[\"predicciones_sebi\"]))\n",
    "print(\"sebi_features\", metrics.matthews_corrcoef(comparacion[\"bioactivity\"],comparacion[\"predicciones_sebi_features\"]))\n",
    "print(\"\")\n",
    "\n",
    "print(\"precision\")\n",
    "print(\"luz\", metrics.precision_score(comparacion[\"bioactivity\"],comparacion[\"predicciones_luz\"]))\n",
    "print(\"sebi\",metrics.precision_score(comparacion[\"bioactivity\"],comparacion[\"predicciones_sebi\"]))\n",
    "print(\"sebi_features\", metrics.precision_score(comparacion[\"bioactivity\"],comparacion[\"predicciones_sebi_features\"]))\n",
    "print(\"\")\n",
    "\n",
    "print(\"recall\")\n",
    "print(\"luz\", metrics.recall_score(comparacion[\"bioactivity\"],comparacion[\"predicciones_luz\"]))\n",
    "print(\"sebi\",metrics.recall_score(comparacion[\"bioactivity\"],comparacion[\"predicciones_sebi\"]))\n",
    "print(\"sebi_features\", metrics.recall_score(comparacion[\"bioactivity\"],comparacion[\"predicciones_sebi_features\"]))\n",
    "print(\"\")"
   ]
  },
  {
   "cell_type": "code",
   "execution_count": 8,
   "metadata": {},
   "outputs": [
    {
     "data": {
      "text/html": [
       "<div>\n",
       "<style scoped>\n",
       "    .dataframe tbody tr th:only-of-type {\n",
       "        vertical-align: middle;\n",
       "    }\n",
       "\n",
       "    .dataframe tbody tr th {\n",
       "        vertical-align: top;\n",
       "    }\n",
       "\n",
       "    .dataframe thead th {\n",
       "        text-align: right;\n",
       "    }\n",
       "</style>\n",
       "<table border=\"1\" class=\"dataframe\">\n",
       "  <thead>\n",
       "    <tr style=\"text-align: right;\">\n",
       "      <th></th>\n",
       "      <th>comp_id</th>\n",
       "      <th>bioactivity</th>\n",
       "      <th>predicciones_luz</th>\n",
       "      <th>predicciones_sebi</th>\n",
       "      <th>prob_sebi</th>\n",
       "      <th>predicciones_sebi_features</th>\n",
       "      <th>prob_sebi_features</th>\n",
       "    </tr>\n",
       "  </thead>\n",
       "  <tbody>\n",
       "    <tr>\n",
       "      <th>175</th>\n",
       "      <td>CHEMBL241253</td>\n",
       "      <td>1</td>\n",
       "      <td>1</td>\n",
       "      <td>0</td>\n",
       "      <td>0.423618</td>\n",
       "      <td>1</td>\n",
       "      <td>0.999943</td>\n",
       "    </tr>\n",
       "    <tr>\n",
       "      <th>174</th>\n",
       "      <td>CHEMBL237786</td>\n",
       "      <td>1</td>\n",
       "      <td>1</td>\n",
       "      <td>0</td>\n",
       "      <td>0.021267</td>\n",
       "      <td>1</td>\n",
       "      <td>0.924503</td>\n",
       "    </tr>\n",
       "    <tr>\n",
       "      <th>164</th>\n",
       "      <td>CHEMBL232570</td>\n",
       "      <td>1</td>\n",
       "      <td>1</td>\n",
       "      <td>0</td>\n",
       "      <td>0.003951</td>\n",
       "      <td>1</td>\n",
       "      <td>0.908287</td>\n",
       "    </tr>\n",
       "    <tr>\n",
       "      <th>165</th>\n",
       "      <td>CHEMBL232586</td>\n",
       "      <td>1</td>\n",
       "      <td>1</td>\n",
       "      <td>0</td>\n",
       "      <td>0.015086</td>\n",
       "      <td>1</td>\n",
       "      <td>0.893557</td>\n",
       "    </tr>\n",
       "    <tr>\n",
       "      <th>163</th>\n",
       "      <td>CHEMBL232153</td>\n",
       "      <td>1</td>\n",
       "      <td>1</td>\n",
       "      <td>0</td>\n",
       "      <td>0.111689</td>\n",
       "      <td>0</td>\n",
       "      <td>0.057790</td>\n",
       "    </tr>\n",
       "    <tr>\n",
       "      <th>82</th>\n",
       "      <td>CHEMBL1814755</td>\n",
       "      <td>1</td>\n",
       "      <td>1</td>\n",
       "      <td>0</td>\n",
       "      <td>0.088723</td>\n",
       "      <td>0</td>\n",
       "      <td>0.024154</td>\n",
       "    </tr>\n",
       "    <tr>\n",
       "      <th>111</th>\n",
       "      <td>CHEMBL196114</td>\n",
       "      <td>1</td>\n",
       "      <td>1</td>\n",
       "      <td>0</td>\n",
       "      <td>0.176189</td>\n",
       "      <td>0</td>\n",
       "      <td>0.007703</td>\n",
       "    </tr>\n",
       "  </tbody>\n",
       "</table>\n",
       "</div>"
      ],
      "text/plain": [
       "           comp_id  bioactivity  predicciones_luz  predicciones_sebi  \\\n",
       "175   CHEMBL241253            1                 1                  0   \n",
       "174   CHEMBL237786            1                 1                  0   \n",
       "164   CHEMBL232570            1                 1                  0   \n",
       "165   CHEMBL232586            1                 1                  0   \n",
       "163   CHEMBL232153            1                 1                  0   \n",
       "82   CHEMBL1814755            1                 1                  0   \n",
       "111   CHEMBL196114            1                 1                  0   \n",
       "\n",
       "     prob_sebi  predicciones_sebi_features  prob_sebi_features  \n",
       "175   0.423618                           1            0.999943  \n",
       "174   0.021267                           1            0.924503  \n",
       "164   0.003951                           1            0.908287  \n",
       "165   0.015086                           1            0.893557  \n",
       "163   0.111689                           0            0.057790  \n",
       "82    0.088723                           0            0.024154  \n",
       "111   0.176189                           0            0.007703  "
      ]
     },
     "execution_count": 8,
     "metadata": {},
     "output_type": "execute_result"
    }
   ],
   "source": [
    "comparacion[(comparacion[\"bioactivity\"]==comparacion[\"predicciones_luz\"])&(comparacion[\"bioactivity\"]==1)&(comparacion[\"bioactivity\"]!=comparacion[\"predicciones_sebi\"])].sort_values(\"prob_sebi_features\",ascending=False).head(80)"
   ]
  },
  {
   "cell_type": "code",
   "execution_count": 9,
   "metadata": {},
   "outputs": [
    {
     "data": {
      "text/html": [
       "<div>\n",
       "<style scoped>\n",
       "    .dataframe tbody tr th:only-of-type {\n",
       "        vertical-align: middle;\n",
       "    }\n",
       "\n",
       "    .dataframe tbody tr th {\n",
       "        vertical-align: top;\n",
       "    }\n",
       "\n",
       "    .dataframe thead th {\n",
       "        text-align: right;\n",
       "    }\n",
       "</style>\n",
       "<table border=\"1\" class=\"dataframe\">\n",
       "  <thead>\n",
       "    <tr style=\"text-align: right;\">\n",
       "      <th></th>\n",
       "      <th>comp_id</th>\n",
       "      <th>bioactivity</th>\n",
       "      <th>predicciones_luz</th>\n",
       "      <th>predicciones_sebi</th>\n",
       "      <th>prob_sebi</th>\n",
       "      <th>predicciones_sebi_features</th>\n",
       "      <th>prob_sebi_features</th>\n",
       "    </tr>\n",
       "  </thead>\n",
       "  <tbody>\n",
       "    <tr>\n",
       "      <th>236</th>\n",
       "      <td>CHEMBL3216684</td>\n",
       "      <td>0</td>\n",
       "      <td>1</td>\n",
       "      <td>1</td>\n",
       "      <td>0.999381</td>\n",
       "      <td>1</td>\n",
       "      <td>9.999868e-01</td>\n",
       "    </tr>\n",
       "    <tr>\n",
       "      <th>11</th>\n",
       "      <td>CHEMBL1202080</td>\n",
       "      <td>0</td>\n",
       "      <td>1</td>\n",
       "      <td>1</td>\n",
       "      <td>0.994169</td>\n",
       "      <td>1</td>\n",
       "      <td>9.986367e-01</td>\n",
       "    </tr>\n",
       "    <tr>\n",
       "      <th>118</th>\n",
       "      <td>CHEMBL2058971</td>\n",
       "      <td>1</td>\n",
       "      <td>0</td>\n",
       "      <td>0</td>\n",
       "      <td>0.296278</td>\n",
       "      <td>1</td>\n",
       "      <td>9.955145e-01</td>\n",
       "    </tr>\n",
       "    <tr>\n",
       "      <th>97</th>\n",
       "      <td>CHEMBL1909987</td>\n",
       "      <td>0</td>\n",
       "      <td>1</td>\n",
       "      <td>1</td>\n",
       "      <td>0.998338</td>\n",
       "      <td>1</td>\n",
       "      <td>9.949359e-01</td>\n",
       "    </tr>\n",
       "    <tr>\n",
       "      <th>113</th>\n",
       "      <td>CHEMBL197082</td>\n",
       "      <td>0</td>\n",
       "      <td>1</td>\n",
       "      <td>1</td>\n",
       "      <td>0.998527</td>\n",
       "      <td>1</td>\n",
       "      <td>9.928825e-01</td>\n",
       "    </tr>\n",
       "    <tr>\n",
       "      <th>226</th>\n",
       "      <td>CHEMBL3127983</td>\n",
       "      <td>0</td>\n",
       "      <td>1</td>\n",
       "      <td>1</td>\n",
       "      <td>0.999955</td>\n",
       "      <td>1</td>\n",
       "      <td>9.864890e-01</td>\n",
       "    </tr>\n",
       "    <tr>\n",
       "      <th>305</th>\n",
       "      <td>CHEMBL3800436</td>\n",
       "      <td>0</td>\n",
       "      <td>1</td>\n",
       "      <td>1</td>\n",
       "      <td>0.998398</td>\n",
       "      <td>1</td>\n",
       "      <td>9.827319e-01</td>\n",
       "    </tr>\n",
       "    <tr>\n",
       "      <th>50</th>\n",
       "      <td>CHEMBL1682974</td>\n",
       "      <td>1</td>\n",
       "      <td>0</td>\n",
       "      <td>0</td>\n",
       "      <td>0.440274</td>\n",
       "      <td>1</td>\n",
       "      <td>9.821358e-01</td>\n",
       "    </tr>\n",
       "    <tr>\n",
       "      <th>106</th>\n",
       "      <td>CHEMBL192983</td>\n",
       "      <td>0</td>\n",
       "      <td>1</td>\n",
       "      <td>1</td>\n",
       "      <td>0.937765</td>\n",
       "      <td>1</td>\n",
       "      <td>9.439976e-01</td>\n",
       "    </tr>\n",
       "    <tr>\n",
       "      <th>237</th>\n",
       "      <td>CHEMBL3216725</td>\n",
       "      <td>0</td>\n",
       "      <td>1</td>\n",
       "      <td>1</td>\n",
       "      <td>0.996055</td>\n",
       "      <td>1</td>\n",
       "      <td>9.164022e-01</td>\n",
       "    </tr>\n",
       "    <tr>\n",
       "      <th>302</th>\n",
       "      <td>CHEMBL3799074</td>\n",
       "      <td>1</td>\n",
       "      <td>0</td>\n",
       "      <td>0</td>\n",
       "      <td>0.330461</td>\n",
       "      <td>1</td>\n",
       "      <td>8.088874e-01</td>\n",
       "    </tr>\n",
       "    <tr>\n",
       "      <th>233</th>\n",
       "      <td>CHEMBL3216060</td>\n",
       "      <td>1</td>\n",
       "      <td>0</td>\n",
       "      <td>0</td>\n",
       "      <td>0.259793</td>\n",
       "      <td>0</td>\n",
       "      <td>4.586195e-01</td>\n",
       "    </tr>\n",
       "    <tr>\n",
       "      <th>107</th>\n",
       "      <td>CHEMBL193802</td>\n",
       "      <td>0</td>\n",
       "      <td>1</td>\n",
       "      <td>1</td>\n",
       "      <td>0.998366</td>\n",
       "      <td>0</td>\n",
       "      <td>2.941590e-01</td>\n",
       "    </tr>\n",
       "    <tr>\n",
       "      <th>225</th>\n",
       "      <td>CHEMBL3127980</td>\n",
       "      <td>0</td>\n",
       "      <td>1</td>\n",
       "      <td>1</td>\n",
       "      <td>0.999958</td>\n",
       "      <td>0</td>\n",
       "      <td>2.325595e-01</td>\n",
       "    </tr>\n",
       "    <tr>\n",
       "      <th>168</th>\n",
       "      <td>CHEMBL233564</td>\n",
       "      <td>1</td>\n",
       "      <td>0</td>\n",
       "      <td>0</td>\n",
       "      <td>0.007080</td>\n",
       "      <td>0</td>\n",
       "      <td>1.834324e-01</td>\n",
       "    </tr>\n",
       "    <tr>\n",
       "      <th>166</th>\n",
       "      <td>CHEMBL233474</td>\n",
       "      <td>1</td>\n",
       "      <td>0</td>\n",
       "      <td>0</td>\n",
       "      <td>0.035838</td>\n",
       "      <td>0</td>\n",
       "      <td>4.466603e-02</td>\n",
       "    </tr>\n",
       "    <tr>\n",
       "      <th>124</th>\n",
       "      <td>CHEMBL210941</td>\n",
       "      <td>0</td>\n",
       "      <td>1</td>\n",
       "      <td>1</td>\n",
       "      <td>0.968566</td>\n",
       "      <td>0</td>\n",
       "      <td>3.308293e-02</td>\n",
       "    </tr>\n",
       "    <tr>\n",
       "      <th>216</th>\n",
       "      <td>CHEMBL261246</td>\n",
       "      <td>1</td>\n",
       "      <td>0</td>\n",
       "      <td>0</td>\n",
       "      <td>0.021269</td>\n",
       "      <td>0</td>\n",
       "      <td>1.471508e-02</td>\n",
       "    </tr>\n",
       "    <tr>\n",
       "      <th>312</th>\n",
       "      <td>CHEMBL3806041</td>\n",
       "      <td>1</td>\n",
       "      <td>0</td>\n",
       "      <td>0</td>\n",
       "      <td>0.001058</td>\n",
       "      <td>0</td>\n",
       "      <td>1.134293e-02</td>\n",
       "    </tr>\n",
       "    <tr>\n",
       "      <th>110</th>\n",
       "      <td>CHEMBL195984</td>\n",
       "      <td>1</td>\n",
       "      <td>0</td>\n",
       "      <td>0</td>\n",
       "      <td>0.000887</td>\n",
       "      <td>0</td>\n",
       "      <td>4.245168e-03</td>\n",
       "    </tr>\n",
       "    <tr>\n",
       "      <th>257</th>\n",
       "      <td>CHEMBL3357780</td>\n",
       "      <td>1</td>\n",
       "      <td>0</td>\n",
       "      <td>0</td>\n",
       "      <td>0.002323</td>\n",
       "      <td>0</td>\n",
       "      <td>2.152224e-03</td>\n",
       "    </tr>\n",
       "    <tr>\n",
       "      <th>85</th>\n",
       "      <td>CHEMBL1814760</td>\n",
       "      <td>1</td>\n",
       "      <td>0</td>\n",
       "      <td>0</td>\n",
       "      <td>0.041776</td>\n",
       "      <td>0</td>\n",
       "      <td>1.777801e-03</td>\n",
       "    </tr>\n",
       "    <tr>\n",
       "      <th>311</th>\n",
       "      <td>CHEMBL3806023</td>\n",
       "      <td>1</td>\n",
       "      <td>0</td>\n",
       "      <td>0</td>\n",
       "      <td>0.025719</td>\n",
       "      <td>0</td>\n",
       "      <td>1.323881e-03</td>\n",
       "    </tr>\n",
       "    <tr>\n",
       "      <th>310</th>\n",
       "      <td>CHEMBL3805629</td>\n",
       "      <td>1</td>\n",
       "      <td>0</td>\n",
       "      <td>0</td>\n",
       "      <td>0.000368</td>\n",
       "      <td>0</td>\n",
       "      <td>1.233033e-03</td>\n",
       "    </tr>\n",
       "    <tr>\n",
       "      <th>123</th>\n",
       "      <td>CHEMBL210920</td>\n",
       "      <td>0</td>\n",
       "      <td>1</td>\n",
       "      <td>1</td>\n",
       "      <td>0.767729</td>\n",
       "      <td>0</td>\n",
       "      <td>1.010892e-03</td>\n",
       "    </tr>\n",
       "    <tr>\n",
       "      <th>52</th>\n",
       "      <td>CHEMBL1682985</td>\n",
       "      <td>0</td>\n",
       "      <td>1</td>\n",
       "      <td>1</td>\n",
       "      <td>0.996842</td>\n",
       "      <td>0</td>\n",
       "      <td>9.018695e-04</td>\n",
       "    </tr>\n",
       "    <tr>\n",
       "      <th>140</th>\n",
       "      <td>CHEMBL2206471</td>\n",
       "      <td>0</td>\n",
       "      <td>1</td>\n",
       "      <td>1</td>\n",
       "      <td>0.998234</td>\n",
       "      <td>0</td>\n",
       "      <td>7.970197e-04</td>\n",
       "    </tr>\n",
       "    <tr>\n",
       "      <th>319</th>\n",
       "      <td>CHEMBL389537</td>\n",
       "      <td>1</td>\n",
       "      <td>0</td>\n",
       "      <td>0</td>\n",
       "      <td>0.005811</td>\n",
       "      <td>0</td>\n",
       "      <td>6.484180e-04</td>\n",
       "    </tr>\n",
       "    <tr>\n",
       "      <th>51</th>\n",
       "      <td>CHEMBL1682984</td>\n",
       "      <td>0</td>\n",
       "      <td>1</td>\n",
       "      <td>1</td>\n",
       "      <td>0.931920</td>\n",
       "      <td>0</td>\n",
       "      <td>3.833744e-04</td>\n",
       "    </tr>\n",
       "    <tr>\n",
       "      <th>261</th>\n",
       "      <td>CHEMBL361863</td>\n",
       "      <td>1</td>\n",
       "      <td>0</td>\n",
       "      <td>0</td>\n",
       "      <td>0.395073</td>\n",
       "      <td>0</td>\n",
       "      <td>3.653060e-04</td>\n",
       "    </tr>\n",
       "    <tr>\n",
       "      <th>320</th>\n",
       "      <td>CHEMBL389538</td>\n",
       "      <td>1</td>\n",
       "      <td>0</td>\n",
       "      <td>0</td>\n",
       "      <td>0.001564</td>\n",
       "      <td>0</td>\n",
       "      <td>9.034463e-05</td>\n",
       "    </tr>\n",
       "    <tr>\n",
       "      <th>49</th>\n",
       "      <td>CHEMBL1650430</td>\n",
       "      <td>0</td>\n",
       "      <td>1</td>\n",
       "      <td>1</td>\n",
       "      <td>0.904386</td>\n",
       "      <td>0</td>\n",
       "      <td>4.470601e-05</td>\n",
       "    </tr>\n",
       "    <tr>\n",
       "      <th>183</th>\n",
       "      <td>CHEMBL2425069</td>\n",
       "      <td>1</td>\n",
       "      <td>0</td>\n",
       "      <td>0</td>\n",
       "      <td>0.000815</td>\n",
       "      <td>0</td>\n",
       "      <td>1.930813e-05</td>\n",
       "    </tr>\n",
       "    <tr>\n",
       "      <th>65</th>\n",
       "      <td>CHEMBL1683133</td>\n",
       "      <td>1</td>\n",
       "      <td>0</td>\n",
       "      <td>0</td>\n",
       "      <td>0.000226</td>\n",
       "      <td>0</td>\n",
       "      <td>5.746983e-07</td>\n",
       "    </tr>\n",
       "  </tbody>\n",
       "</table>\n",
       "</div>"
      ],
      "text/plain": [
       "           comp_id  bioactivity  predicciones_luz  predicciones_sebi  \\\n",
       "236  CHEMBL3216684            0                 1                  1   \n",
       "11   CHEMBL1202080            0                 1                  1   \n",
       "118  CHEMBL2058971            1                 0                  0   \n",
       "97   CHEMBL1909987            0                 1                  1   \n",
       "113   CHEMBL197082            0                 1                  1   \n",
       "226  CHEMBL3127983            0                 1                  1   \n",
       "305  CHEMBL3800436            0                 1                  1   \n",
       "50   CHEMBL1682974            1                 0                  0   \n",
       "106   CHEMBL192983            0                 1                  1   \n",
       "237  CHEMBL3216725            0                 1                  1   \n",
       "302  CHEMBL3799074            1                 0                  0   \n",
       "233  CHEMBL3216060            1                 0                  0   \n",
       "107   CHEMBL193802            0                 1                  1   \n",
       "225  CHEMBL3127980            0                 1                  1   \n",
       "168   CHEMBL233564            1                 0                  0   \n",
       "166   CHEMBL233474            1                 0                  0   \n",
       "124   CHEMBL210941            0                 1                  1   \n",
       "216   CHEMBL261246            1                 0                  0   \n",
       "312  CHEMBL3806041            1                 0                  0   \n",
       "110   CHEMBL195984            1                 0                  0   \n",
       "257  CHEMBL3357780            1                 0                  0   \n",
       "85   CHEMBL1814760            1                 0                  0   \n",
       "311  CHEMBL3806023            1                 0                  0   \n",
       "310  CHEMBL3805629            1                 0                  0   \n",
       "123   CHEMBL210920            0                 1                  1   \n",
       "52   CHEMBL1682985            0                 1                  1   \n",
       "140  CHEMBL2206471            0                 1                  1   \n",
       "319   CHEMBL389537            1                 0                  0   \n",
       "51   CHEMBL1682984            0                 1                  1   \n",
       "261   CHEMBL361863            1                 0                  0   \n",
       "320   CHEMBL389538            1                 0                  0   \n",
       "49   CHEMBL1650430            0                 1                  1   \n",
       "183  CHEMBL2425069            1                 0                  0   \n",
       "65   CHEMBL1683133            1                 0                  0   \n",
       "\n",
       "     prob_sebi  predicciones_sebi_features  prob_sebi_features  \n",
       "236   0.999381                           1        9.999868e-01  \n",
       "11    0.994169                           1        9.986367e-01  \n",
       "118   0.296278                           1        9.955145e-01  \n",
       "97    0.998338                           1        9.949359e-01  \n",
       "113   0.998527                           1        9.928825e-01  \n",
       "226   0.999955                           1        9.864890e-01  \n",
       "305   0.998398                           1        9.827319e-01  \n",
       "50    0.440274                           1        9.821358e-01  \n",
       "106   0.937765                           1        9.439976e-01  \n",
       "237   0.996055                           1        9.164022e-01  \n",
       "302   0.330461                           1        8.088874e-01  \n",
       "233   0.259793                           0        4.586195e-01  \n",
       "107   0.998366                           0        2.941590e-01  \n",
       "225   0.999958                           0        2.325595e-01  \n",
       "168   0.007080                           0        1.834324e-01  \n",
       "166   0.035838                           0        4.466603e-02  \n",
       "124   0.968566                           0        3.308293e-02  \n",
       "216   0.021269                           0        1.471508e-02  \n",
       "312   0.001058                           0        1.134293e-02  \n",
       "110   0.000887                           0        4.245168e-03  \n",
       "257   0.002323                           0        2.152224e-03  \n",
       "85    0.041776                           0        1.777801e-03  \n",
       "311   0.025719                           0        1.323881e-03  \n",
       "310   0.000368                           0        1.233033e-03  \n",
       "123   0.767729                           0        1.010892e-03  \n",
       "52    0.996842                           0        9.018695e-04  \n",
       "140   0.998234                           0        7.970197e-04  \n",
       "319   0.005811                           0        6.484180e-04  \n",
       "51    0.931920                           0        3.833744e-04  \n",
       "261   0.395073                           0        3.653060e-04  \n",
       "320   0.001564                           0        9.034463e-05  \n",
       "49    0.904386                           0        4.470601e-05  \n",
       "183   0.000815                           0        1.930813e-05  \n",
       "65    0.000226                           0        5.746983e-07  "
      ]
     },
     "execution_count": 9,
     "metadata": {},
     "output_type": "execute_result"
    }
   ],
   "source": [
    "comparacion[(comparacion[\"bioactivity\"]!=comparacion[\"predicciones_luz\"])&(comparacion[\"bioactivity\"]!=comparacion[\"predicciones_sebi\"])].sort_values(\"prob_sebi_features\",ascending=False).head(80)"
   ]
  },
  {
   "cell_type": "code",
   "execution_count": 10,
   "metadata": {},
   "outputs": [
    {
     "data": {
      "text/html": [
       "<div>\n",
       "<style scoped>\n",
       "    .dataframe tbody tr th:only-of-type {\n",
       "        vertical-align: middle;\n",
       "    }\n",
       "\n",
       "    .dataframe tbody tr th {\n",
       "        vertical-align: top;\n",
       "    }\n",
       "\n",
       "    .dataframe thead th {\n",
       "        text-align: right;\n",
       "    }\n",
       "</style>\n",
       "<table border=\"1\" class=\"dataframe\">\n",
       "  <thead>\n",
       "    <tr style=\"text-align: right;\">\n",
       "      <th></th>\n",
       "      <th>comp_id</th>\n",
       "      <th>bioactivity</th>\n",
       "      <th>predicciones_luz</th>\n",
       "      <th>predicciones_sebi</th>\n",
       "      <th>prob_sebi</th>\n",
       "      <th>predicciones_sebi_features</th>\n",
       "      <th>prob_sebi_features</th>\n",
       "    </tr>\n",
       "  </thead>\n",
       "  <tbody>\n",
       "    <tr>\n",
       "      <th>175</th>\n",
       "      <td>CHEMBL241253</td>\n",
       "      <td>1</td>\n",
       "      <td>1</td>\n",
       "      <td>0</td>\n",
       "      <td>0.423618</td>\n",
       "      <td>1</td>\n",
       "      <td>9.999433e-01</td>\n",
       "    </tr>\n",
       "    <tr>\n",
       "      <th>174</th>\n",
       "      <td>CHEMBL237786</td>\n",
       "      <td>1</td>\n",
       "      <td>1</td>\n",
       "      <td>0</td>\n",
       "      <td>0.021267</td>\n",
       "      <td>1</td>\n",
       "      <td>9.245026e-01</td>\n",
       "    </tr>\n",
       "    <tr>\n",
       "      <th>164</th>\n",
       "      <td>CHEMBL232570</td>\n",
       "      <td>1</td>\n",
       "      <td>1</td>\n",
       "      <td>0</td>\n",
       "      <td>0.003951</td>\n",
       "      <td>1</td>\n",
       "      <td>9.082870e-01</td>\n",
       "    </tr>\n",
       "    <tr>\n",
       "      <th>165</th>\n",
       "      <td>CHEMBL232586</td>\n",
       "      <td>1</td>\n",
       "      <td>1</td>\n",
       "      <td>0</td>\n",
       "      <td>0.015086</td>\n",
       "      <td>1</td>\n",
       "      <td>8.935568e-01</td>\n",
       "    </tr>\n",
       "    <tr>\n",
       "      <th>272</th>\n",
       "      <td>CHEMBL365967</td>\n",
       "      <td>0</td>\n",
       "      <td>0</td>\n",
       "      <td>1</td>\n",
       "      <td>0.999925</td>\n",
       "      <td>0</td>\n",
       "      <td>4.673846e-01</td>\n",
       "    </tr>\n",
       "    <tr>\n",
       "      <th>316</th>\n",
       "      <td>CHEMBL383488</td>\n",
       "      <td>0</td>\n",
       "      <td>0</td>\n",
       "      <td>1</td>\n",
       "      <td>0.999902</td>\n",
       "      <td>0</td>\n",
       "      <td>2.971538e-01</td>\n",
       "    </tr>\n",
       "    <tr>\n",
       "      <th>208</th>\n",
       "      <td>CHEMBL249825</td>\n",
       "      <td>0</td>\n",
       "      <td>0</td>\n",
       "      <td>1</td>\n",
       "      <td>0.950962</td>\n",
       "      <td>0</td>\n",
       "      <td>1.700854e-01</td>\n",
       "    </tr>\n",
       "    <tr>\n",
       "      <th>173</th>\n",
       "      <td>CHEMBL237658</td>\n",
       "      <td>0</td>\n",
       "      <td>0</td>\n",
       "      <td>1</td>\n",
       "      <td>0.863181</td>\n",
       "      <td>0</td>\n",
       "      <td>1.635683e-01</td>\n",
       "    </tr>\n",
       "    <tr>\n",
       "      <th>71</th>\n",
       "      <td>CHEMBL180000</td>\n",
       "      <td>0</td>\n",
       "      <td>0</td>\n",
       "      <td>1</td>\n",
       "      <td>0.558719</td>\n",
       "      <td>0</td>\n",
       "      <td>6.389155e-02</td>\n",
       "    </tr>\n",
       "    <tr>\n",
       "      <th>70</th>\n",
       "      <td>CHEMBL179996</td>\n",
       "      <td>0</td>\n",
       "      <td>0</td>\n",
       "      <td>1</td>\n",
       "      <td>0.955851</td>\n",
       "      <td>0</td>\n",
       "      <td>4.786388e-02</td>\n",
       "    </tr>\n",
       "    <tr>\n",
       "      <th>130</th>\n",
       "      <td>CHEMBL217060</td>\n",
       "      <td>0</td>\n",
       "      <td>0</td>\n",
       "      <td>1</td>\n",
       "      <td>0.675136</td>\n",
       "      <td>0</td>\n",
       "      <td>3.548348e-02</td>\n",
       "    </tr>\n",
       "    <tr>\n",
       "      <th>290</th>\n",
       "      <td>CHEMBL3736190</td>\n",
       "      <td>0</td>\n",
       "      <td>0</td>\n",
       "      <td>1</td>\n",
       "      <td>0.897095</td>\n",
       "      <td>0</td>\n",
       "      <td>2.486394e-02</td>\n",
       "    </tr>\n",
       "    <tr>\n",
       "      <th>141</th>\n",
       "      <td>CHEMBL222323</td>\n",
       "      <td>0</td>\n",
       "      <td>0</td>\n",
       "      <td>1</td>\n",
       "      <td>0.904812</td>\n",
       "      <td>0</td>\n",
       "      <td>2.384381e-02</td>\n",
       "    </tr>\n",
       "    <tr>\n",
       "      <th>2</th>\n",
       "      <td>CHEMBL1084972</td>\n",
       "      <td>0</td>\n",
       "      <td>0</td>\n",
       "      <td>1</td>\n",
       "      <td>0.998106</td>\n",
       "      <td>0</td>\n",
       "      <td>2.148352e-02</td>\n",
       "    </tr>\n",
       "    <tr>\n",
       "      <th>170</th>\n",
       "      <td>CHEMBL236602</td>\n",
       "      <td>0</td>\n",
       "      <td>0</td>\n",
       "      <td>1</td>\n",
       "      <td>0.523834</td>\n",
       "      <td>0</td>\n",
       "      <td>1.826869e-02</td>\n",
       "    </tr>\n",
       "    <tr>\n",
       "      <th>220</th>\n",
       "      <td>CHEMBL3112960</td>\n",
       "      <td>0</td>\n",
       "      <td>0</td>\n",
       "      <td>1</td>\n",
       "      <td>0.902783</td>\n",
       "      <td>0</td>\n",
       "      <td>1.815887e-02</td>\n",
       "    </tr>\n",
       "    <tr>\n",
       "      <th>199</th>\n",
       "      <td>CHEMBL248788</td>\n",
       "      <td>0</td>\n",
       "      <td>0</td>\n",
       "      <td>1</td>\n",
       "      <td>0.513665</td>\n",
       "      <td>0</td>\n",
       "      <td>1.269385e-02</td>\n",
       "    </tr>\n",
       "    <tr>\n",
       "      <th>267</th>\n",
       "      <td>CHEMBL3644787</td>\n",
       "      <td>0</td>\n",
       "      <td>0</td>\n",
       "      <td>1</td>\n",
       "      <td>0.521436</td>\n",
       "      <td>0</td>\n",
       "      <td>9.459821e-03</td>\n",
       "    </tr>\n",
       "    <tr>\n",
       "      <th>307</th>\n",
       "      <td>CHEMBL380240</td>\n",
       "      <td>0</td>\n",
       "      <td>0</td>\n",
       "      <td>1</td>\n",
       "      <td>0.939653</td>\n",
       "      <td>0</td>\n",
       "      <td>6.322100e-03</td>\n",
       "    </tr>\n",
       "    <tr>\n",
       "      <th>69</th>\n",
       "      <td>CHEMBL1688423</td>\n",
       "      <td>0</td>\n",
       "      <td>0</td>\n",
       "      <td>1</td>\n",
       "      <td>0.979601</td>\n",
       "      <td>0</td>\n",
       "      <td>5.876442e-03</td>\n",
       "    </tr>\n",
       "    <tr>\n",
       "      <th>221</th>\n",
       "      <td>CHEMBL3112967</td>\n",
       "      <td>0</td>\n",
       "      <td>0</td>\n",
       "      <td>1</td>\n",
       "      <td>0.985745</td>\n",
       "      <td>0</td>\n",
       "      <td>5.385086e-03</td>\n",
       "    </tr>\n",
       "    <tr>\n",
       "      <th>286</th>\n",
       "      <td>CHEMBL3735852</td>\n",
       "      <td>0</td>\n",
       "      <td>0</td>\n",
       "      <td>1</td>\n",
       "      <td>0.797750</td>\n",
       "      <td>0</td>\n",
       "      <td>4.139296e-03</td>\n",
       "    </tr>\n",
       "    <tr>\n",
       "      <th>35</th>\n",
       "      <td>CHEMBL1242993</td>\n",
       "      <td>0</td>\n",
       "      <td>0</td>\n",
       "      <td>1</td>\n",
       "      <td>0.728270</td>\n",
       "      <td>0</td>\n",
       "      <td>2.874437e-03</td>\n",
       "    </tr>\n",
       "    <tr>\n",
       "      <th>303</th>\n",
       "      <td>CHEMBL3800132</td>\n",
       "      <td>0</td>\n",
       "      <td>0</td>\n",
       "      <td>1</td>\n",
       "      <td>0.662249</td>\n",
       "      <td>0</td>\n",
       "      <td>2.071032e-03</td>\n",
       "    </tr>\n",
       "    <tr>\n",
       "      <th>321</th>\n",
       "      <td>CHEMBL389803</td>\n",
       "      <td>0</td>\n",
       "      <td>0</td>\n",
       "      <td>1</td>\n",
       "      <td>0.866600</td>\n",
       "      <td>0</td>\n",
       "      <td>1.943233e-03</td>\n",
       "    </tr>\n",
       "    <tr>\n",
       "      <th>146</th>\n",
       "      <td>CHEMBL228312</td>\n",
       "      <td>0</td>\n",
       "      <td>0</td>\n",
       "      <td>1</td>\n",
       "      <td>0.802951</td>\n",
       "      <td>0</td>\n",
       "      <td>1.513631e-03</td>\n",
       "    </tr>\n",
       "    <tr>\n",
       "      <th>223</th>\n",
       "      <td>CHEMBL3112971</td>\n",
       "      <td>0</td>\n",
       "      <td>0</td>\n",
       "      <td>1</td>\n",
       "      <td>0.999136</td>\n",
       "      <td>0</td>\n",
       "      <td>1.474943e-03</td>\n",
       "    </tr>\n",
       "    <tr>\n",
       "      <th>268</th>\n",
       "      <td>CHEMBL3644788</td>\n",
       "      <td>0</td>\n",
       "      <td>0</td>\n",
       "      <td>1</td>\n",
       "      <td>0.753177</td>\n",
       "      <td>0</td>\n",
       "      <td>4.489277e-04</td>\n",
       "    </tr>\n",
       "    <tr>\n",
       "      <th>281</th>\n",
       "      <td>CHEMBL3734999</td>\n",
       "      <td>0</td>\n",
       "      <td>0</td>\n",
       "      <td>1</td>\n",
       "      <td>0.715783</td>\n",
       "      <td>0</td>\n",
       "      <td>2.879721e-04</td>\n",
       "    </tr>\n",
       "    <tr>\n",
       "      <th>219</th>\n",
       "      <td>CHEMBL3112958</td>\n",
       "      <td>0</td>\n",
       "      <td>0</td>\n",
       "      <td>1</td>\n",
       "      <td>0.767861</td>\n",
       "      <td>0</td>\n",
       "      <td>1.968170e-04</td>\n",
       "    </tr>\n",
       "    <tr>\n",
       "      <th>266</th>\n",
       "      <td>CHEMBL3644786</td>\n",
       "      <td>0</td>\n",
       "      <td>0</td>\n",
       "      <td>1</td>\n",
       "      <td>0.999825</td>\n",
       "      <td>0</td>\n",
       "      <td>1.892235e-04</td>\n",
       "    </tr>\n",
       "    <tr>\n",
       "      <th>188</th>\n",
       "      <td>CHEMBL2425887</td>\n",
       "      <td>0</td>\n",
       "      <td>0</td>\n",
       "      <td>1</td>\n",
       "      <td>0.818749</td>\n",
       "      <td>0</td>\n",
       "      <td>6.996137e-05</td>\n",
       "    </tr>\n",
       "    <tr>\n",
       "      <th>184</th>\n",
       "      <td>CHEMBL2425882</td>\n",
       "      <td>0</td>\n",
       "      <td>0</td>\n",
       "      <td>1</td>\n",
       "      <td>0.510755</td>\n",
       "      <td>0</td>\n",
       "      <td>1.579063e-05</td>\n",
       "    </tr>\n",
       "    <tr>\n",
       "      <th>269</th>\n",
       "      <td>CHEMBL3644792</td>\n",
       "      <td>0</td>\n",
       "      <td>0</td>\n",
       "      <td>1</td>\n",
       "      <td>0.817221</td>\n",
       "      <td>0</td>\n",
       "      <td>1.118078e-05</td>\n",
       "    </tr>\n",
       "    <tr>\n",
       "      <th>185</th>\n",
       "      <td>CHEMBL2425883</td>\n",
       "      <td>0</td>\n",
       "      <td>0</td>\n",
       "      <td>1</td>\n",
       "      <td>0.976158</td>\n",
       "      <td>0</td>\n",
       "      <td>1.241370e-06</td>\n",
       "    </tr>\n",
       "    <tr>\n",
       "      <th>186</th>\n",
       "      <td>CHEMBL2425884</td>\n",
       "      <td>0</td>\n",
       "      <td>0</td>\n",
       "      <td>1</td>\n",
       "      <td>0.777077</td>\n",
       "      <td>0</td>\n",
       "      <td>9.591093e-07</td>\n",
       "    </tr>\n",
       "  </tbody>\n",
       "</table>\n",
       "</div>"
      ],
      "text/plain": [
       "           comp_id  bioactivity  predicciones_luz  predicciones_sebi  \\\n",
       "175   CHEMBL241253            1                 1                  0   \n",
       "174   CHEMBL237786            1                 1                  0   \n",
       "164   CHEMBL232570            1                 1                  0   \n",
       "165   CHEMBL232586            1                 1                  0   \n",
       "272   CHEMBL365967            0                 0                  1   \n",
       "316   CHEMBL383488            0                 0                  1   \n",
       "208   CHEMBL249825            0                 0                  1   \n",
       "173   CHEMBL237658            0                 0                  1   \n",
       "71    CHEMBL180000            0                 0                  1   \n",
       "70    CHEMBL179996            0                 0                  1   \n",
       "130   CHEMBL217060            0                 0                  1   \n",
       "290  CHEMBL3736190            0                 0                  1   \n",
       "141   CHEMBL222323            0                 0                  1   \n",
       "2    CHEMBL1084972            0                 0                  1   \n",
       "170   CHEMBL236602            0                 0                  1   \n",
       "220  CHEMBL3112960            0                 0                  1   \n",
       "199   CHEMBL248788            0                 0                  1   \n",
       "267  CHEMBL3644787            0                 0                  1   \n",
       "307   CHEMBL380240            0                 0                  1   \n",
       "69   CHEMBL1688423            0                 0                  1   \n",
       "221  CHEMBL3112967            0                 0                  1   \n",
       "286  CHEMBL3735852            0                 0                  1   \n",
       "35   CHEMBL1242993            0                 0                  1   \n",
       "303  CHEMBL3800132            0                 0                  1   \n",
       "321   CHEMBL389803            0                 0                  1   \n",
       "146   CHEMBL228312            0                 0                  1   \n",
       "223  CHEMBL3112971            0                 0                  1   \n",
       "268  CHEMBL3644788            0                 0                  1   \n",
       "281  CHEMBL3734999            0                 0                  1   \n",
       "219  CHEMBL3112958            0                 0                  1   \n",
       "266  CHEMBL3644786            0                 0                  1   \n",
       "188  CHEMBL2425887            0                 0                  1   \n",
       "184  CHEMBL2425882            0                 0                  1   \n",
       "269  CHEMBL3644792            0                 0                  1   \n",
       "185  CHEMBL2425883            0                 0                  1   \n",
       "186  CHEMBL2425884            0                 0                  1   \n",
       "\n",
       "     prob_sebi  predicciones_sebi_features  prob_sebi_features  \n",
       "175   0.423618                           1        9.999433e-01  \n",
       "174   0.021267                           1        9.245026e-01  \n",
       "164   0.003951                           1        9.082870e-01  \n",
       "165   0.015086                           1        8.935568e-01  \n",
       "272   0.999925                           0        4.673846e-01  \n",
       "316   0.999902                           0        2.971538e-01  \n",
       "208   0.950962                           0        1.700854e-01  \n",
       "173   0.863181                           0        1.635683e-01  \n",
       "71    0.558719                           0        6.389155e-02  \n",
       "70    0.955851                           0        4.786388e-02  \n",
       "130   0.675136                           0        3.548348e-02  \n",
       "290   0.897095                           0        2.486394e-02  \n",
       "141   0.904812                           0        2.384381e-02  \n",
       "2     0.998106                           0        2.148352e-02  \n",
       "170   0.523834                           0        1.826869e-02  \n",
       "220   0.902783                           0        1.815887e-02  \n",
       "199   0.513665                           0        1.269385e-02  \n",
       "267   0.521436                           0        9.459821e-03  \n",
       "307   0.939653                           0        6.322100e-03  \n",
       "69    0.979601                           0        5.876442e-03  \n",
       "221   0.985745                           0        5.385086e-03  \n",
       "286   0.797750                           0        4.139296e-03  \n",
       "35    0.728270                           0        2.874437e-03  \n",
       "303   0.662249                           0        2.071032e-03  \n",
       "321   0.866600                           0        1.943233e-03  \n",
       "146   0.802951                           0        1.513631e-03  \n",
       "223   0.999136                           0        1.474943e-03  \n",
       "268   0.753177                           0        4.489277e-04  \n",
       "281   0.715783                           0        2.879721e-04  \n",
       "219   0.767861                           0        1.968170e-04  \n",
       "266   0.999825                           0        1.892235e-04  \n",
       "188   0.818749                           0        6.996137e-05  \n",
       "184   0.510755                           0        1.579063e-05  \n",
       "269   0.817221                           0        1.118078e-05  \n",
       "185   0.976158                           0        1.241370e-06  \n",
       "186   0.777077                           0        9.591093e-07  "
      ]
     },
     "execution_count": 10,
     "metadata": {},
     "output_type": "execute_result"
    }
   ],
   "source": [
    "comparacion[(comparacion[\"bioactivity\"]==comparacion[\"predicciones_luz\"])&(comparacion[\"bioactivity\"]!=comparacion[\"predicciones_sebi\"])&(comparacion[\"bioactivity\"]==comparacion[\"predicciones_sebi_features\"])].sort_values(\"prob_sebi_features\",ascending=False).head(80)"
   ]
  },
  {
   "cell_type": "code",
   "execution_count": 11,
   "metadata": {},
   "outputs": [
    {
     "data": {
      "text/html": [
       "<div>\n",
       "<style scoped>\n",
       "    .dataframe tbody tr th:only-of-type {\n",
       "        vertical-align: middle;\n",
       "    }\n",
       "\n",
       "    .dataframe tbody tr th {\n",
       "        vertical-align: top;\n",
       "    }\n",
       "\n",
       "    .dataframe thead th {\n",
       "        text-align: right;\n",
       "    }\n",
       "</style>\n",
       "<table border=\"1\" class=\"dataframe\">\n",
       "  <thead>\n",
       "    <tr style=\"text-align: right;\">\n",
       "      <th></th>\n",
       "      <th>comp_id</th>\n",
       "      <th>bioactivity</th>\n",
       "      <th>predicciones_luz</th>\n",
       "      <th>predicciones_sebi</th>\n",
       "      <th>prob_sebi</th>\n",
       "      <th>predicciones_sebi_features</th>\n",
       "      <th>prob_sebi_features</th>\n",
       "    </tr>\n",
       "  </thead>\n",
       "  <tbody>\n",
       "    <tr>\n",
       "      <th>236</th>\n",
       "      <td>CHEMBL3216684</td>\n",
       "      <td>0</td>\n",
       "      <td>1</td>\n",
       "      <td>1</td>\n",
       "      <td>0.999381</td>\n",
       "      <td>1</td>\n",
       "      <td>0.999987</td>\n",
       "    </tr>\n",
       "    <tr>\n",
       "      <th>21</th>\n",
       "      <td>CHEMBL1215090</td>\n",
       "      <td>1</td>\n",
       "      <td>1</td>\n",
       "      <td>1</td>\n",
       "      <td>0.999991</td>\n",
       "      <td>1</td>\n",
       "      <td>0.999975</td>\n",
       "    </tr>\n",
       "    <tr>\n",
       "      <th>162</th>\n",
       "      <td>CHEMBL232111</td>\n",
       "      <td>1</td>\n",
       "      <td>1</td>\n",
       "      <td>1</td>\n",
       "      <td>0.999903</td>\n",
       "      <td>1</td>\n",
       "      <td>0.999961</td>\n",
       "    </tr>\n",
       "    <tr>\n",
       "      <th>175</th>\n",
       "      <td>CHEMBL241253</td>\n",
       "      <td>1</td>\n",
       "      <td>1</td>\n",
       "      <td>0</td>\n",
       "      <td>0.423618</td>\n",
       "      <td>1</td>\n",
       "      <td>0.999943</td>\n",
       "    </tr>\n",
       "    <tr>\n",
       "      <th>317</th>\n",
       "      <td>CHEMBL383841</td>\n",
       "      <td>1</td>\n",
       "      <td>1</td>\n",
       "      <td>1</td>\n",
       "      <td>0.980001</td>\n",
       "      <td>1</td>\n",
       "      <td>0.999937</td>\n",
       "    </tr>\n",
       "    <tr>\n",
       "      <th>314</th>\n",
       "      <td>CHEMBL382700</td>\n",
       "      <td>1</td>\n",
       "      <td>1</td>\n",
       "      <td>1</td>\n",
       "      <td>0.999917</td>\n",
       "      <td>1</td>\n",
       "      <td>0.999865</td>\n",
       "    </tr>\n",
       "    <tr>\n",
       "      <th>190</th>\n",
       "      <td>CHEMBL2441832</td>\n",
       "      <td>1</td>\n",
       "      <td>1</td>\n",
       "      <td>1</td>\n",
       "      <td>0.998864</td>\n",
       "      <td>1</td>\n",
       "      <td>0.999857</td>\n",
       "    </tr>\n",
       "    <tr>\n",
       "      <th>29</th>\n",
       "      <td>CHEMBL1215302</td>\n",
       "      <td>1</td>\n",
       "      <td>1</td>\n",
       "      <td>1</td>\n",
       "      <td>0.999995</td>\n",
       "      <td>1</td>\n",
       "      <td>0.999842</td>\n",
       "    </tr>\n",
       "    <tr>\n",
       "      <th>263</th>\n",
       "      <td>CHEMBL363375</td>\n",
       "      <td>0</td>\n",
       "      <td>0</td>\n",
       "      <td>1</td>\n",
       "      <td>0.999922</td>\n",
       "      <td>1</td>\n",
       "      <td>0.999768</td>\n",
       "    </tr>\n",
       "    <tr>\n",
       "      <th>298</th>\n",
       "      <td>CHEMBL3797355</td>\n",
       "      <td>1</td>\n",
       "      <td>1</td>\n",
       "      <td>1</td>\n",
       "      <td>0.996098</td>\n",
       "      <td>1</td>\n",
       "      <td>0.999593</td>\n",
       "    </tr>\n",
       "    <tr>\n",
       "      <th>271</th>\n",
       "      <td>CHEMBL364922</td>\n",
       "      <td>1</td>\n",
       "      <td>0</td>\n",
       "      <td>1</td>\n",
       "      <td>0.999904</td>\n",
       "      <td>1</td>\n",
       "      <td>0.999574</td>\n",
       "    </tr>\n",
       "    <tr>\n",
       "      <th>328</th>\n",
       "      <td>CHEMBL391466</td>\n",
       "      <td>1</td>\n",
       "      <td>1</td>\n",
       "      <td>1</td>\n",
       "      <td>0.948127</td>\n",
       "      <td>1</td>\n",
       "      <td>0.999509</td>\n",
       "    </tr>\n",
       "    <tr>\n",
       "      <th>31</th>\n",
       "      <td>CHEMBL1215374</td>\n",
       "      <td>1</td>\n",
       "      <td>1</td>\n",
       "      <td>1</td>\n",
       "      <td>0.999815</td>\n",
       "      <td>1</td>\n",
       "      <td>0.999497</td>\n",
       "    </tr>\n",
       "    <tr>\n",
       "      <th>192</th>\n",
       "      <td>CHEMBL2441834</td>\n",
       "      <td>1</td>\n",
       "      <td>1</td>\n",
       "      <td>1</td>\n",
       "      <td>0.999615</td>\n",
       "      <td>1</td>\n",
       "      <td>0.999491</td>\n",
       "    </tr>\n",
       "    <tr>\n",
       "      <th>232</th>\n",
       "      <td>CHEMBL3215830</td>\n",
       "      <td>1</td>\n",
       "      <td>1</td>\n",
       "      <td>1</td>\n",
       "      <td>0.999615</td>\n",
       "      <td>1</td>\n",
       "      <td>0.999404</td>\n",
       "    </tr>\n",
       "    <tr>\n",
       "      <th>90</th>\n",
       "      <td>CHEMBL190029</td>\n",
       "      <td>1</td>\n",
       "      <td>0</td>\n",
       "      <td>1</td>\n",
       "      <td>0.999786</td>\n",
       "      <td>1</td>\n",
       "      <td>0.999363</td>\n",
       "    </tr>\n",
       "    <tr>\n",
       "      <th>81</th>\n",
       "      <td>CHEMBL1814754</td>\n",
       "      <td>1</td>\n",
       "      <td>1</td>\n",
       "      <td>1</td>\n",
       "      <td>0.999038</td>\n",
       "      <td>1</td>\n",
       "      <td>0.999240</td>\n",
       "    </tr>\n",
       "    <tr>\n",
       "      <th>127</th>\n",
       "      <td>CHEMBL2147771</td>\n",
       "      <td>1</td>\n",
       "      <td>1</td>\n",
       "      <td>1</td>\n",
       "      <td>0.724261</td>\n",
       "      <td>1</td>\n",
       "      <td>0.999193</td>\n",
       "    </tr>\n",
       "    <tr>\n",
       "      <th>99</th>\n",
       "      <td>CHEMBL1910123</td>\n",
       "      <td>1</td>\n",
       "      <td>1</td>\n",
       "      <td>1</td>\n",
       "      <td>0.999984</td>\n",
       "      <td>1</td>\n",
       "      <td>0.998812</td>\n",
       "    </tr>\n",
       "    <tr>\n",
       "      <th>78</th>\n",
       "      <td>CHEMBL1814751</td>\n",
       "      <td>1</td>\n",
       "      <td>1</td>\n",
       "      <td>1</td>\n",
       "      <td>0.982474</td>\n",
       "      <td>1</td>\n",
       "      <td>0.998696</td>\n",
       "    </tr>\n",
       "    <tr>\n",
       "      <th>102</th>\n",
       "      <td>CHEMBL1910126</td>\n",
       "      <td>1</td>\n",
       "      <td>1</td>\n",
       "      <td>1</td>\n",
       "      <td>0.991192</td>\n",
       "      <td>1</td>\n",
       "      <td>0.998640</td>\n",
       "    </tr>\n",
       "    <tr>\n",
       "      <th>11</th>\n",
       "      <td>CHEMBL1202080</td>\n",
       "      <td>0</td>\n",
       "      <td>1</td>\n",
       "      <td>1</td>\n",
       "      <td>0.994169</td>\n",
       "      <td>1</td>\n",
       "      <td>0.998637</td>\n",
       "    </tr>\n",
       "    <tr>\n",
       "      <th>32</th>\n",
       "      <td>CHEMBL1215375</td>\n",
       "      <td>1</td>\n",
       "      <td>1</td>\n",
       "      <td>1</td>\n",
       "      <td>0.999742</td>\n",
       "      <td>1</td>\n",
       "      <td>0.998510</td>\n",
       "    </tr>\n",
       "    <tr>\n",
       "      <th>193</th>\n",
       "      <td>CHEMBL2441835</td>\n",
       "      <td>1</td>\n",
       "      <td>1</td>\n",
       "      <td>1</td>\n",
       "      <td>0.999242</td>\n",
       "      <td>1</td>\n",
       "      <td>0.998427</td>\n",
       "    </tr>\n",
       "    <tr>\n",
       "      <th>80</th>\n",
       "      <td>CHEMBL1814753</td>\n",
       "      <td>1</td>\n",
       "      <td>1</td>\n",
       "      <td>1</td>\n",
       "      <td>0.999752</td>\n",
       "      <td>1</td>\n",
       "      <td>0.998380</td>\n",
       "    </tr>\n",
       "    <tr>\n",
       "      <th>177</th>\n",
       "      <td>CHEMBL2418638</td>\n",
       "      <td>1</td>\n",
       "      <td>1</td>\n",
       "      <td>1</td>\n",
       "      <td>0.999965</td>\n",
       "      <td>1</td>\n",
       "      <td>0.998372</td>\n",
       "    </tr>\n",
       "    <tr>\n",
       "      <th>279</th>\n",
       "      <td>CHEMBL372746</td>\n",
       "      <td>1</td>\n",
       "      <td>0</td>\n",
       "      <td>1</td>\n",
       "      <td>0.995756</td>\n",
       "      <td>1</td>\n",
       "      <td>0.998115</td>\n",
       "    </tr>\n",
       "    <tr>\n",
       "      <th>33</th>\n",
       "      <td>CHEMBL1215448</td>\n",
       "      <td>1</td>\n",
       "      <td>1</td>\n",
       "      <td>1</td>\n",
       "      <td>0.999961</td>\n",
       "      <td>1</td>\n",
       "      <td>0.997939</td>\n",
       "    </tr>\n",
       "    <tr>\n",
       "      <th>235</th>\n",
       "      <td>CHEMBL3216276</td>\n",
       "      <td>1</td>\n",
       "      <td>1</td>\n",
       "      <td>1</td>\n",
       "      <td>0.999930</td>\n",
       "      <td>1</td>\n",
       "      <td>0.997885</td>\n",
       "    </tr>\n",
       "    <tr>\n",
       "      <th>67</th>\n",
       "      <td>CHEMBL1683506</td>\n",
       "      <td>0</td>\n",
       "      <td>0</td>\n",
       "      <td>1</td>\n",
       "      <td>0.999378</td>\n",
       "      <td>1</td>\n",
       "      <td>0.997875</td>\n",
       "    </tr>\n",
       "    <tr>\n",
       "      <th>292</th>\n",
       "      <td>CHEMBL377296</td>\n",
       "      <td>1</td>\n",
       "      <td>1</td>\n",
       "      <td>1</td>\n",
       "      <td>0.999988</td>\n",
       "      <td>1</td>\n",
       "      <td>0.997835</td>\n",
       "    </tr>\n",
       "    <tr>\n",
       "      <th>98</th>\n",
       "      <td>CHEMBL1910119</td>\n",
       "      <td>1</td>\n",
       "      <td>1</td>\n",
       "      <td>1</td>\n",
       "      <td>0.999914</td>\n",
       "      <td>1</td>\n",
       "      <td>0.997692</td>\n",
       "    </tr>\n",
       "    <tr>\n",
       "      <th>229</th>\n",
       "      <td>CHEMBL3127991</td>\n",
       "      <td>1</td>\n",
       "      <td>1</td>\n",
       "      <td>1</td>\n",
       "      <td>0.939678</td>\n",
       "      <td>1</td>\n",
       "      <td>0.997498</td>\n",
       "    </tr>\n",
       "    <tr>\n",
       "      <th>195</th>\n",
       "      <td>CHEMBL2441954</td>\n",
       "      <td>1</td>\n",
       "      <td>1</td>\n",
       "      <td>1</td>\n",
       "      <td>0.999692</td>\n",
       "      <td>1</td>\n",
       "      <td>0.997429</td>\n",
       "    </tr>\n",
       "    <tr>\n",
       "      <th>20</th>\n",
       "      <td>CHEMBL1215087</td>\n",
       "      <td>1</td>\n",
       "      <td>1</td>\n",
       "      <td>1</td>\n",
       "      <td>0.999999</td>\n",
       "      <td>1</td>\n",
       "      <td>0.997366</td>\n",
       "    </tr>\n",
       "    <tr>\n",
       "      <th>176</th>\n",
       "      <td>CHEMBL2418637</td>\n",
       "      <td>1</td>\n",
       "      <td>1</td>\n",
       "      <td>1</td>\n",
       "      <td>0.999978</td>\n",
       "      <td>1</td>\n",
       "      <td>0.997247</td>\n",
       "    </tr>\n",
       "    <tr>\n",
       "      <th>234</th>\n",
       "      <td>CHEMBL3216066</td>\n",
       "      <td>1</td>\n",
       "      <td>1</td>\n",
       "      <td>1</td>\n",
       "      <td>0.998729</td>\n",
       "      <td>1</td>\n",
       "      <td>0.997002</td>\n",
       "    </tr>\n",
       "    <tr>\n",
       "      <th>191</th>\n",
       "      <td>CHEMBL2441833</td>\n",
       "      <td>1</td>\n",
       "      <td>1</td>\n",
       "      <td>1</td>\n",
       "      <td>0.841893</td>\n",
       "      <td>1</td>\n",
       "      <td>0.996389</td>\n",
       "    </tr>\n",
       "    <tr>\n",
       "      <th>74</th>\n",
       "      <td>CHEMBL1814634</td>\n",
       "      <td>1</td>\n",
       "      <td>1</td>\n",
       "      <td>1</td>\n",
       "      <td>0.999891</td>\n",
       "      <td>1</td>\n",
       "      <td>0.995801</td>\n",
       "    </tr>\n",
       "    <tr>\n",
       "      <th>76</th>\n",
       "      <td>CHEMBL1814743</td>\n",
       "      <td>1</td>\n",
       "      <td>1</td>\n",
       "      <td>1</td>\n",
       "      <td>0.968186</td>\n",
       "      <td>1</td>\n",
       "      <td>0.995601</td>\n",
       "    </tr>\n",
       "    <tr>\n",
       "      <th>118</th>\n",
       "      <td>CHEMBL2058971</td>\n",
       "      <td>1</td>\n",
       "      <td>0</td>\n",
       "      <td>0</td>\n",
       "      <td>0.296278</td>\n",
       "      <td>1</td>\n",
       "      <td>0.995514</td>\n",
       "    </tr>\n",
       "    <tr>\n",
       "      <th>300</th>\n",
       "      <td>CHEMBL3798277</td>\n",
       "      <td>1</td>\n",
       "      <td>1</td>\n",
       "      <td>1</td>\n",
       "      <td>0.999232</td>\n",
       "      <td>1</td>\n",
       "      <td>0.995491</td>\n",
       "    </tr>\n",
       "    <tr>\n",
       "      <th>97</th>\n",
       "      <td>CHEMBL1909987</td>\n",
       "      <td>0</td>\n",
       "      <td>1</td>\n",
       "      <td>1</td>\n",
       "      <td>0.998338</td>\n",
       "      <td>1</td>\n",
       "      <td>0.994936</td>\n",
       "    </tr>\n",
       "    <tr>\n",
       "      <th>26</th>\n",
       "      <td>CHEMBL1215167</td>\n",
       "      <td>1</td>\n",
       "      <td>1</td>\n",
       "      <td>1</td>\n",
       "      <td>0.980158</td>\n",
       "      <td>1</td>\n",
       "      <td>0.994886</td>\n",
       "    </tr>\n",
       "    <tr>\n",
       "      <th>143</th>\n",
       "      <td>CHEMBL223497</td>\n",
       "      <td>1</td>\n",
       "      <td>1</td>\n",
       "      <td>1</td>\n",
       "      <td>0.999935</td>\n",
       "      <td>1</td>\n",
       "      <td>0.994351</td>\n",
       "    </tr>\n",
       "    <tr>\n",
       "      <th>306</th>\n",
       "      <td>CHEMBL380090</td>\n",
       "      <td>1</td>\n",
       "      <td>1</td>\n",
       "      <td>1</td>\n",
       "      <td>0.892738</td>\n",
       "      <td>1</td>\n",
       "      <td>0.993646</td>\n",
       "    </tr>\n",
       "    <tr>\n",
       "      <th>28</th>\n",
       "      <td>CHEMBL1215299</td>\n",
       "      <td>1</td>\n",
       "      <td>1</td>\n",
       "      <td>1</td>\n",
       "      <td>0.996297</td>\n",
       "      <td>1</td>\n",
       "      <td>0.993497</td>\n",
       "    </tr>\n",
       "    <tr>\n",
       "      <th>100</th>\n",
       "      <td>CHEMBL1910124</td>\n",
       "      <td>1</td>\n",
       "      <td>1</td>\n",
       "      <td>1</td>\n",
       "      <td>0.999905</td>\n",
       "      <td>1</td>\n",
       "      <td>0.993230</td>\n",
       "    </tr>\n",
       "    <tr>\n",
       "      <th>189</th>\n",
       "      <td>CHEMBL2441831</td>\n",
       "      <td>1</td>\n",
       "      <td>1</td>\n",
       "      <td>1</td>\n",
       "      <td>0.998347</td>\n",
       "      <td>1</td>\n",
       "      <td>0.993108</td>\n",
       "    </tr>\n",
       "    <tr>\n",
       "      <th>327</th>\n",
       "      <td>CHEMBL390513</td>\n",
       "      <td>1</td>\n",
       "      <td>1</td>\n",
       "      <td>1</td>\n",
       "      <td>0.934194</td>\n",
       "      <td>1</td>\n",
       "      <td>0.993105</td>\n",
       "    </tr>\n",
       "    <tr>\n",
       "      <th>113</th>\n",
       "      <td>CHEMBL197082</td>\n",
       "      <td>0</td>\n",
       "      <td>1</td>\n",
       "      <td>1</td>\n",
       "      <td>0.998527</td>\n",
       "      <td>1</td>\n",
       "      <td>0.992883</td>\n",
       "    </tr>\n",
       "    <tr>\n",
       "      <th>19</th>\n",
       "      <td>CHEMBL1215016</td>\n",
       "      <td>1</td>\n",
       "      <td>0</td>\n",
       "      <td>1</td>\n",
       "      <td>0.999826</td>\n",
       "      <td>1</td>\n",
       "      <td>0.992858</td>\n",
       "    </tr>\n",
       "    <tr>\n",
       "      <th>79</th>\n",
       "      <td>CHEMBL1814752</td>\n",
       "      <td>1</td>\n",
       "      <td>1</td>\n",
       "      <td>1</td>\n",
       "      <td>0.991551</td>\n",
       "      <td>1</td>\n",
       "      <td>0.992857</td>\n",
       "    </tr>\n",
       "    <tr>\n",
       "      <th>297</th>\n",
       "      <td>CHEMBL3797299</td>\n",
       "      <td>1</td>\n",
       "      <td>1</td>\n",
       "      <td>1</td>\n",
       "      <td>0.973730</td>\n",
       "      <td>1</td>\n",
       "      <td>0.992476</td>\n",
       "    </tr>\n",
       "    <tr>\n",
       "      <th>39</th>\n",
       "      <td>CHEMBL1243060</td>\n",
       "      <td>0</td>\n",
       "      <td>1</td>\n",
       "      <td>0</td>\n",
       "      <td>0.020306</td>\n",
       "      <td>1</td>\n",
       "      <td>0.990786</td>\n",
       "    </tr>\n",
       "    <tr>\n",
       "      <th>282</th>\n",
       "      <td>CHEMBL3735129</td>\n",
       "      <td>0</td>\n",
       "      <td>0</td>\n",
       "      <td>0</td>\n",
       "      <td>0.007109</td>\n",
       "      <td>1</td>\n",
       "      <td>0.990444</td>\n",
       "    </tr>\n",
       "    <tr>\n",
       "      <th>231</th>\n",
       "      <td>CHEMBL3142227</td>\n",
       "      <td>0</td>\n",
       "      <td>1</td>\n",
       "      <td>0</td>\n",
       "      <td>0.221302</td>\n",
       "      <td>1</td>\n",
       "      <td>0.989806</td>\n",
       "    </tr>\n",
       "    <tr>\n",
       "      <th>22</th>\n",
       "      <td>CHEMBL1215163</td>\n",
       "      <td>1</td>\n",
       "      <td>1</td>\n",
       "      <td>1</td>\n",
       "      <td>0.999996</td>\n",
       "      <td>1</td>\n",
       "      <td>0.987238</td>\n",
       "    </tr>\n",
       "    <tr>\n",
       "      <th>178</th>\n",
       "      <td>CHEMBL2418639</td>\n",
       "      <td>1</td>\n",
       "      <td>1</td>\n",
       "      <td>1</td>\n",
       "      <td>0.999996</td>\n",
       "      <td>1</td>\n",
       "      <td>0.987027</td>\n",
       "    </tr>\n",
       "    <tr>\n",
       "      <th>122</th>\n",
       "      <td>CHEMBL210353</td>\n",
       "      <td>0</td>\n",
       "      <td>0</td>\n",
       "      <td>1</td>\n",
       "      <td>0.859910</td>\n",
       "      <td>1</td>\n",
       "      <td>0.986955</td>\n",
       "    </tr>\n",
       "  </tbody>\n",
       "</table>\n",
       "</div>"
      ],
      "text/plain": [
       "           comp_id  bioactivity  predicciones_luz  predicciones_sebi  \\\n",
       "236  CHEMBL3216684            0                 1                  1   \n",
       "21   CHEMBL1215090            1                 1                  1   \n",
       "162   CHEMBL232111            1                 1                  1   \n",
       "175   CHEMBL241253            1                 1                  0   \n",
       "317   CHEMBL383841            1                 1                  1   \n",
       "314   CHEMBL382700            1                 1                  1   \n",
       "190  CHEMBL2441832            1                 1                  1   \n",
       "29   CHEMBL1215302            1                 1                  1   \n",
       "263   CHEMBL363375            0                 0                  1   \n",
       "298  CHEMBL3797355            1                 1                  1   \n",
       "271   CHEMBL364922            1                 0                  1   \n",
       "328   CHEMBL391466            1                 1                  1   \n",
       "31   CHEMBL1215374            1                 1                  1   \n",
       "192  CHEMBL2441834            1                 1                  1   \n",
       "232  CHEMBL3215830            1                 1                  1   \n",
       "90    CHEMBL190029            1                 0                  1   \n",
       "81   CHEMBL1814754            1                 1                  1   \n",
       "127  CHEMBL2147771            1                 1                  1   \n",
       "99   CHEMBL1910123            1                 1                  1   \n",
       "78   CHEMBL1814751            1                 1                  1   \n",
       "102  CHEMBL1910126            1                 1                  1   \n",
       "11   CHEMBL1202080            0                 1                  1   \n",
       "32   CHEMBL1215375            1                 1                  1   \n",
       "193  CHEMBL2441835            1                 1                  1   \n",
       "80   CHEMBL1814753            1                 1                  1   \n",
       "177  CHEMBL2418638            1                 1                  1   \n",
       "279   CHEMBL372746            1                 0                  1   \n",
       "33   CHEMBL1215448            1                 1                  1   \n",
       "235  CHEMBL3216276            1                 1                  1   \n",
       "67   CHEMBL1683506            0                 0                  1   \n",
       "292   CHEMBL377296            1                 1                  1   \n",
       "98   CHEMBL1910119            1                 1                  1   \n",
       "229  CHEMBL3127991            1                 1                  1   \n",
       "195  CHEMBL2441954            1                 1                  1   \n",
       "20   CHEMBL1215087            1                 1                  1   \n",
       "176  CHEMBL2418637            1                 1                  1   \n",
       "234  CHEMBL3216066            1                 1                  1   \n",
       "191  CHEMBL2441833            1                 1                  1   \n",
       "74   CHEMBL1814634            1                 1                  1   \n",
       "76   CHEMBL1814743            1                 1                  1   \n",
       "118  CHEMBL2058971            1                 0                  0   \n",
       "300  CHEMBL3798277            1                 1                  1   \n",
       "97   CHEMBL1909987            0                 1                  1   \n",
       "26   CHEMBL1215167            1                 1                  1   \n",
       "143   CHEMBL223497            1                 1                  1   \n",
       "306   CHEMBL380090            1                 1                  1   \n",
       "28   CHEMBL1215299            1                 1                  1   \n",
       "100  CHEMBL1910124            1                 1                  1   \n",
       "189  CHEMBL2441831            1                 1                  1   \n",
       "327   CHEMBL390513            1                 1                  1   \n",
       "113   CHEMBL197082            0                 1                  1   \n",
       "19   CHEMBL1215016            1                 0                  1   \n",
       "79   CHEMBL1814752            1                 1                  1   \n",
       "297  CHEMBL3797299            1                 1                  1   \n",
       "39   CHEMBL1243060            0                 1                  0   \n",
       "282  CHEMBL3735129            0                 0                  0   \n",
       "231  CHEMBL3142227            0                 1                  0   \n",
       "22   CHEMBL1215163            1                 1                  1   \n",
       "178  CHEMBL2418639            1                 1                  1   \n",
       "122   CHEMBL210353            0                 0                  1   \n",
       "\n",
       "     prob_sebi  predicciones_sebi_features  prob_sebi_features  \n",
       "236   0.999381                           1            0.999987  \n",
       "21    0.999991                           1            0.999975  \n",
       "162   0.999903                           1            0.999961  \n",
       "175   0.423618                           1            0.999943  \n",
       "317   0.980001                           1            0.999937  \n",
       "314   0.999917                           1            0.999865  \n",
       "190   0.998864                           1            0.999857  \n",
       "29    0.999995                           1            0.999842  \n",
       "263   0.999922                           1            0.999768  \n",
       "298   0.996098                           1            0.999593  \n",
       "271   0.999904                           1            0.999574  \n",
       "328   0.948127                           1            0.999509  \n",
       "31    0.999815                           1            0.999497  \n",
       "192   0.999615                           1            0.999491  \n",
       "232   0.999615                           1            0.999404  \n",
       "90    0.999786                           1            0.999363  \n",
       "81    0.999038                           1            0.999240  \n",
       "127   0.724261                           1            0.999193  \n",
       "99    0.999984                           1            0.998812  \n",
       "78    0.982474                           1            0.998696  \n",
       "102   0.991192                           1            0.998640  \n",
       "11    0.994169                           1            0.998637  \n",
       "32    0.999742                           1            0.998510  \n",
       "193   0.999242                           1            0.998427  \n",
       "80    0.999752                           1            0.998380  \n",
       "177   0.999965                           1            0.998372  \n",
       "279   0.995756                           1            0.998115  \n",
       "33    0.999961                           1            0.997939  \n",
       "235   0.999930                           1            0.997885  \n",
       "67    0.999378                           1            0.997875  \n",
       "292   0.999988                           1            0.997835  \n",
       "98    0.999914                           1            0.997692  \n",
       "229   0.939678                           1            0.997498  \n",
       "195   0.999692                           1            0.997429  \n",
       "20    0.999999                           1            0.997366  \n",
       "176   0.999978                           1            0.997247  \n",
       "234   0.998729                           1            0.997002  \n",
       "191   0.841893                           1            0.996389  \n",
       "74    0.999891                           1            0.995801  \n",
       "76    0.968186                           1            0.995601  \n",
       "118   0.296278                           1            0.995514  \n",
       "300   0.999232                           1            0.995491  \n",
       "97    0.998338                           1            0.994936  \n",
       "26    0.980158                           1            0.994886  \n",
       "143   0.999935                           1            0.994351  \n",
       "306   0.892738                           1            0.993646  \n",
       "28    0.996297                           1            0.993497  \n",
       "100   0.999905                           1            0.993230  \n",
       "189   0.998347                           1            0.993108  \n",
       "327   0.934194                           1            0.993105  \n",
       "113   0.998527                           1            0.992883  \n",
       "19    0.999826                           1            0.992858  \n",
       "79    0.991551                           1            0.992857  \n",
       "297   0.973730                           1            0.992476  \n",
       "39    0.020306                           1            0.990786  \n",
       "282   0.007109                           1            0.990444  \n",
       "231   0.221302                           1            0.989806  \n",
       "22    0.999996                           1            0.987238  \n",
       "178   0.999996                           1            0.987027  \n",
       "122   0.859910                           1            0.986955  "
      ]
     },
     "execution_count": 11,
     "metadata": {},
     "output_type": "execute_result"
    }
   ],
   "source": [
    "comparacion.sort_values(\"prob_sebi_features\",ascending=False).head(60)"
   ]
  },
  {
   "cell_type": "code",
   "execution_count": 12,
   "metadata": {},
   "outputs": [
    {
     "data": {
      "text/html": [
       "<div>\n",
       "<style scoped>\n",
       "    .dataframe tbody tr th:only-of-type {\n",
       "        vertical-align: middle;\n",
       "    }\n",
       "\n",
       "    .dataframe tbody tr th {\n",
       "        vertical-align: top;\n",
       "    }\n",
       "\n",
       "    .dataframe thead th {\n",
       "        text-align: right;\n",
       "    }\n",
       "</style>\n",
       "<table border=\"1\" class=\"dataframe\">\n",
       "  <thead>\n",
       "    <tr style=\"text-align: right;\">\n",
       "      <th></th>\n",
       "      <th>comp_id</th>\n",
       "      <th>bioactivity</th>\n",
       "      <th>predicciones_luz</th>\n",
       "      <th>predicciones_sebi</th>\n",
       "      <th>prob_sebi</th>\n",
       "      <th>predicciones_sebi_features</th>\n",
       "      <th>prob_sebi_features</th>\n",
       "    </tr>\n",
       "  </thead>\n",
       "  <tbody>\n",
       "    <tr>\n",
       "      <th>156</th>\n",
       "      <td>CHEMBL231293</td>\n",
       "      <td>0</td>\n",
       "      <td>0</td>\n",
       "      <td>0</td>\n",
       "      <td>0.305006</td>\n",
       "      <td>0</td>\n",
       "      <td>2.508266e-04</td>\n",
       "    </tr>\n",
       "    <tr>\n",
       "      <th>182</th>\n",
       "      <td>CHEMBL2425068</td>\n",
       "      <td>0</td>\n",
       "      <td>0</td>\n",
       "      <td>0</td>\n",
       "      <td>0.000122</td>\n",
       "      <td>0</td>\n",
       "      <td>2.435554e-04</td>\n",
       "    </tr>\n",
       "    <tr>\n",
       "      <th>121</th>\n",
       "      <td>CHEMBL207348</td>\n",
       "      <td>0</td>\n",
       "      <td>0</td>\n",
       "      <td>0</td>\n",
       "      <td>0.001288</td>\n",
       "      <td>0</td>\n",
       "      <td>2.362676e-04</td>\n",
       "    </tr>\n",
       "    <tr>\n",
       "      <th>47</th>\n",
       "      <td>CHEMBL1650420</td>\n",
       "      <td>0</td>\n",
       "      <td>0</td>\n",
       "      <td>0</td>\n",
       "      <td>0.028631</td>\n",
       "      <td>0</td>\n",
       "      <td>2.342448e-04</td>\n",
       "    </tr>\n",
       "    <tr>\n",
       "      <th>238</th>\n",
       "      <td>CHEMBL3329624</td>\n",
       "      <td>0</td>\n",
       "      <td>0</td>\n",
       "      <td>0</td>\n",
       "      <td>0.003126</td>\n",
       "      <td>0</td>\n",
       "      <td>2.334688e-04</td>\n",
       "    </tr>\n",
       "    <tr>\n",
       "      <th>258</th>\n",
       "      <td>CHEMBL359581</td>\n",
       "      <td>0</td>\n",
       "      <td>0</td>\n",
       "      <td>0</td>\n",
       "      <td>0.030322</td>\n",
       "      <td>0</td>\n",
       "      <td>2.327729e-04</td>\n",
       "    </tr>\n",
       "    <tr>\n",
       "      <th>62</th>\n",
       "      <td>CHEMBL1683108</td>\n",
       "      <td>0</td>\n",
       "      <td>0</td>\n",
       "      <td>0</td>\n",
       "      <td>0.002254</td>\n",
       "      <td>0</td>\n",
       "      <td>2.177137e-04</td>\n",
       "    </tr>\n",
       "    <tr>\n",
       "      <th>48</th>\n",
       "      <td>CHEMBL1650429</td>\n",
       "      <td>0</td>\n",
       "      <td>0</td>\n",
       "      <td>0</td>\n",
       "      <td>0.039919</td>\n",
       "      <td>0</td>\n",
       "      <td>2.111369e-04</td>\n",
       "    </tr>\n",
       "    <tr>\n",
       "      <th>109</th>\n",
       "      <td>CHEMBL195667</td>\n",
       "      <td>0</td>\n",
       "      <td>0</td>\n",
       "      <td>0</td>\n",
       "      <td>0.015579</td>\n",
       "      <td>0</td>\n",
       "      <td>2.110689e-04</td>\n",
       "    </tr>\n",
       "    <tr>\n",
       "      <th>154</th>\n",
       "      <td>CHEMBL231195</td>\n",
       "      <td>0</td>\n",
       "      <td>0</td>\n",
       "      <td>0</td>\n",
       "      <td>0.010356</td>\n",
       "      <td>0</td>\n",
       "      <td>1.995626e-04</td>\n",
       "    </tr>\n",
       "    <tr>\n",
       "      <th>219</th>\n",
       "      <td>CHEMBL3112958</td>\n",
       "      <td>0</td>\n",
       "      <td>0</td>\n",
       "      <td>1</td>\n",
       "      <td>0.767861</td>\n",
       "      <td>0</td>\n",
       "      <td>1.968170e-04</td>\n",
       "    </tr>\n",
       "    <tr>\n",
       "      <th>105</th>\n",
       "      <td>CHEMBL192449</td>\n",
       "      <td>0</td>\n",
       "      <td>0</td>\n",
       "      <td>0</td>\n",
       "      <td>0.000544</td>\n",
       "      <td>0</td>\n",
       "      <td>1.953473e-04</td>\n",
       "    </tr>\n",
       "    <tr>\n",
       "      <th>266</th>\n",
       "      <td>CHEMBL3644786</td>\n",
       "      <td>0</td>\n",
       "      <td>0</td>\n",
       "      <td>1</td>\n",
       "      <td>0.999825</td>\n",
       "      <td>0</td>\n",
       "      <td>1.892235e-04</td>\n",
       "    </tr>\n",
       "    <tr>\n",
       "      <th>296</th>\n",
       "      <td>CHEMBL379702</td>\n",
       "      <td>0</td>\n",
       "      <td>0</td>\n",
       "      <td>0</td>\n",
       "      <td>0.000324</td>\n",
       "      <td>0</td>\n",
       "      <td>1.468447e-04</td>\n",
       "    </tr>\n",
       "    <tr>\n",
       "      <th>245</th>\n",
       "      <td>CHEMBL3329639</td>\n",
       "      <td>0</td>\n",
       "      <td>0</td>\n",
       "      <td>0</td>\n",
       "      <td>0.108062</td>\n",
       "      <td>0</td>\n",
       "      <td>1.354340e-04</td>\n",
       "    </tr>\n",
       "    <tr>\n",
       "      <th>57</th>\n",
       "      <td>CHEMBL1683093</td>\n",
       "      <td>0</td>\n",
       "      <td>0</td>\n",
       "      <td>0</td>\n",
       "      <td>0.000287</td>\n",
       "      <td>0</td>\n",
       "      <td>1.331420e-04</td>\n",
       "    </tr>\n",
       "    <tr>\n",
       "      <th>83</th>\n",
       "      <td>CHEMBL1814756</td>\n",
       "      <td>1</td>\n",
       "      <td>0</td>\n",
       "      <td>1</td>\n",
       "      <td>0.985357</td>\n",
       "      <td>0</td>\n",
       "      <td>1.176056e-04</td>\n",
       "    </tr>\n",
       "    <tr>\n",
       "      <th>242</th>\n",
       "      <td>CHEMBL3329631</td>\n",
       "      <td>0</td>\n",
       "      <td>0</td>\n",
       "      <td>0</td>\n",
       "      <td>0.001906</td>\n",
       "      <td>0</td>\n",
       "      <td>1.173591e-04</td>\n",
       "    </tr>\n",
       "    <tr>\n",
       "      <th>148</th>\n",
       "      <td>CHEMBL230984</td>\n",
       "      <td>0</td>\n",
       "      <td>0</td>\n",
       "      <td>0</td>\n",
       "      <td>0.001831</td>\n",
       "      <td>0</td>\n",
       "      <td>1.120845e-04</td>\n",
       "    </tr>\n",
       "    <tr>\n",
       "      <th>68</th>\n",
       "      <td>CHEMBL1683567</td>\n",
       "      <td>0</td>\n",
       "      <td>0</td>\n",
       "      <td>0</td>\n",
       "      <td>0.079965</td>\n",
       "      <td>0</td>\n",
       "      <td>1.009619e-04</td>\n",
       "    </tr>\n",
       "    <tr>\n",
       "      <th>149</th>\n",
       "      <td>CHEMBL230985</td>\n",
       "      <td>0</td>\n",
       "      <td>0</td>\n",
       "      <td>0</td>\n",
       "      <td>0.000394</td>\n",
       "      <td>0</td>\n",
       "      <td>9.631424e-05</td>\n",
       "    </tr>\n",
       "    <tr>\n",
       "      <th>215</th>\n",
       "      <td>CHEMBL257852</td>\n",
       "      <td>0</td>\n",
       "      <td>0</td>\n",
       "      <td>0</td>\n",
       "      <td>0.116180</td>\n",
       "      <td>0</td>\n",
       "      <td>9.209456e-05</td>\n",
       "    </tr>\n",
       "    <tr>\n",
       "      <th>320</th>\n",
       "      <td>CHEMBL389538</td>\n",
       "      <td>1</td>\n",
       "      <td>0</td>\n",
       "      <td>0</td>\n",
       "      <td>0.001564</td>\n",
       "      <td>0</td>\n",
       "      <td>9.034463e-05</td>\n",
       "    </tr>\n",
       "    <tr>\n",
       "      <th>188</th>\n",
       "      <td>CHEMBL2425887</td>\n",
       "      <td>0</td>\n",
       "      <td>0</td>\n",
       "      <td>1</td>\n",
       "      <td>0.818749</td>\n",
       "      <td>0</td>\n",
       "      <td>6.996137e-05</td>\n",
       "    </tr>\n",
       "    <tr>\n",
       "      <th>46</th>\n",
       "      <td>CHEMBL1650412</td>\n",
       "      <td>0</td>\n",
       "      <td>0</td>\n",
       "      <td>0</td>\n",
       "      <td>0.006625</td>\n",
       "      <td>0</td>\n",
       "      <td>6.553227e-05</td>\n",
       "    </tr>\n",
       "    <tr>\n",
       "      <th>126</th>\n",
       "      <td>CHEMBL2147070</td>\n",
       "      <td>0</td>\n",
       "      <td>1</td>\n",
       "      <td>0</td>\n",
       "      <td>0.011167</td>\n",
       "      <td>0</td>\n",
       "      <td>6.089609e-05</td>\n",
       "    </tr>\n",
       "    <tr>\n",
       "      <th>0</th>\n",
       "      <td>CHEMBL1082996</td>\n",
       "      <td>0</td>\n",
       "      <td>0</td>\n",
       "      <td>0</td>\n",
       "      <td>0.328888</td>\n",
       "      <td>0</td>\n",
       "      <td>5.439337e-05</td>\n",
       "    </tr>\n",
       "    <tr>\n",
       "      <th>180</th>\n",
       "      <td>CHEMBL2425066</td>\n",
       "      <td>0</td>\n",
       "      <td>0</td>\n",
       "      <td>0</td>\n",
       "      <td>0.113384</td>\n",
       "      <td>0</td>\n",
       "      <td>4.680147e-05</td>\n",
       "    </tr>\n",
       "    <tr>\n",
       "      <th>49</th>\n",
       "      <td>CHEMBL1650430</td>\n",
       "      <td>0</td>\n",
       "      <td>1</td>\n",
       "      <td>1</td>\n",
       "      <td>0.904386</td>\n",
       "      <td>0</td>\n",
       "      <td>4.470601e-05</td>\n",
       "    </tr>\n",
       "    <tr>\n",
       "      <th>108</th>\n",
       "      <td>CHEMBL195378</td>\n",
       "      <td>0</td>\n",
       "      <td>0</td>\n",
       "      <td>0</td>\n",
       "      <td>0.008358</td>\n",
       "      <td>0</td>\n",
       "      <td>3.824990e-05</td>\n",
       "    </tr>\n",
       "    <tr>\n",
       "      <th>60</th>\n",
       "      <td>CHEMBL1683106</td>\n",
       "      <td>0</td>\n",
       "      <td>1</td>\n",
       "      <td>0</td>\n",
       "      <td>0.000358</td>\n",
       "      <td>0</td>\n",
       "      <td>3.307411e-05</td>\n",
       "    </tr>\n",
       "    <tr>\n",
       "      <th>59</th>\n",
       "      <td>CHEMBL1683105</td>\n",
       "      <td>0</td>\n",
       "      <td>0</td>\n",
       "      <td>0</td>\n",
       "      <td>0.000304</td>\n",
       "      <td>0</td>\n",
       "      <td>3.152709e-05</td>\n",
       "    </tr>\n",
       "    <tr>\n",
       "      <th>262</th>\n",
       "      <td>CHEMBL362930</td>\n",
       "      <td>0</td>\n",
       "      <td>0</td>\n",
       "      <td>0</td>\n",
       "      <td>0.000257</td>\n",
       "      <td>0</td>\n",
       "      <td>2.425287e-05</td>\n",
       "    </tr>\n",
       "    <tr>\n",
       "      <th>160</th>\n",
       "      <td>CHEMBL231396</td>\n",
       "      <td>0</td>\n",
       "      <td>0</td>\n",
       "      <td>0</td>\n",
       "      <td>0.079961</td>\n",
       "      <td>0</td>\n",
       "      <td>1.987536e-05</td>\n",
       "    </tr>\n",
       "    <tr>\n",
       "      <th>183</th>\n",
       "      <td>CHEMBL2425069</td>\n",
       "      <td>1</td>\n",
       "      <td>0</td>\n",
       "      <td>0</td>\n",
       "      <td>0.000815</td>\n",
       "      <td>0</td>\n",
       "      <td>1.930813e-05</td>\n",
       "    </tr>\n",
       "    <tr>\n",
       "      <th>214</th>\n",
       "      <td>CHEMBL256266</td>\n",
       "      <td>0</td>\n",
       "      <td>0</td>\n",
       "      <td>0</td>\n",
       "      <td>0.000553</td>\n",
       "      <td>0</td>\n",
       "      <td>1.908999e-05</td>\n",
       "    </tr>\n",
       "    <tr>\n",
       "      <th>56</th>\n",
       "      <td>CHEMBL1683090</td>\n",
       "      <td>0</td>\n",
       "      <td>0</td>\n",
       "      <td>0</td>\n",
       "      <td>0.000437</td>\n",
       "      <td>0</td>\n",
       "      <td>1.640483e-05</td>\n",
       "    </tr>\n",
       "    <tr>\n",
       "      <th>184</th>\n",
       "      <td>CHEMBL2425882</td>\n",
       "      <td>0</td>\n",
       "      <td>0</td>\n",
       "      <td>1</td>\n",
       "      <td>0.510755</td>\n",
       "      <td>0</td>\n",
       "      <td>1.579063e-05</td>\n",
       "    </tr>\n",
       "    <tr>\n",
       "      <th>117</th>\n",
       "      <td>CHEMBL202634</td>\n",
       "      <td>0</td>\n",
       "      <td>0</td>\n",
       "      <td>0</td>\n",
       "      <td>0.290726</td>\n",
       "      <td>0</td>\n",
       "      <td>1.418871e-05</td>\n",
       "    </tr>\n",
       "    <tr>\n",
       "      <th>274</th>\n",
       "      <td>CHEMBL370033</td>\n",
       "      <td>0</td>\n",
       "      <td>0</td>\n",
       "      <td>0</td>\n",
       "      <td>0.416029</td>\n",
       "      <td>0</td>\n",
       "      <td>1.231885e-05</td>\n",
       "    </tr>\n",
       "    <tr>\n",
       "      <th>275</th>\n",
       "      <td>CHEMBL370072</td>\n",
       "      <td>0</td>\n",
       "      <td>0</td>\n",
       "      <td>0</td>\n",
       "      <td>0.064482</td>\n",
       "      <td>0</td>\n",
       "      <td>1.187716e-05</td>\n",
       "    </tr>\n",
       "    <tr>\n",
       "      <th>269</th>\n",
       "      <td>CHEMBL3644792</td>\n",
       "      <td>0</td>\n",
       "      <td>0</td>\n",
       "      <td>1</td>\n",
       "      <td>0.817221</td>\n",
       "      <td>0</td>\n",
       "      <td>1.118078e-05</td>\n",
       "    </tr>\n",
       "    <tr>\n",
       "      <th>157</th>\n",
       "      <td>CHEMBL231294</td>\n",
       "      <td>0</td>\n",
       "      <td>0</td>\n",
       "      <td>0</td>\n",
       "      <td>0.000099</td>\n",
       "      <td>0</td>\n",
       "      <td>7.598915e-06</td>\n",
       "    </tr>\n",
       "    <tr>\n",
       "      <th>260</th>\n",
       "      <td>CHEMBL361758</td>\n",
       "      <td>0</td>\n",
       "      <td>0</td>\n",
       "      <td>0</td>\n",
       "      <td>0.004458</td>\n",
       "      <td>0</td>\n",
       "      <td>6.779400e-06</td>\n",
       "    </tr>\n",
       "    <tr>\n",
       "      <th>172</th>\n",
       "      <td>CHEMBL237500</td>\n",
       "      <td>0</td>\n",
       "      <td>0</td>\n",
       "      <td>0</td>\n",
       "      <td>0.004359</td>\n",
       "      <td>0</td>\n",
       "      <td>6.050263e-06</td>\n",
       "    </tr>\n",
       "    <tr>\n",
       "      <th>54</th>\n",
       "      <td>CHEMBL1683087</td>\n",
       "      <td>0</td>\n",
       "      <td>0</td>\n",
       "      <td>0</td>\n",
       "      <td>0.000308</td>\n",
       "      <td>0</td>\n",
       "      <td>3.410833e-06</td>\n",
       "    </tr>\n",
       "    <tr>\n",
       "      <th>161</th>\n",
       "      <td>CHEMBL231397</td>\n",
       "      <td>0</td>\n",
       "      <td>0</td>\n",
       "      <td>0</td>\n",
       "      <td>0.007354</td>\n",
       "      <td>0</td>\n",
       "      <td>2.606742e-06</td>\n",
       "    </tr>\n",
       "    <tr>\n",
       "      <th>151</th>\n",
       "      <td>CHEMBL231091</td>\n",
       "      <td>0</td>\n",
       "      <td>0</td>\n",
       "      <td>0</td>\n",
       "      <td>0.011093</td>\n",
       "      <td>0</td>\n",
       "      <td>2.551603e-06</td>\n",
       "    </tr>\n",
       "    <tr>\n",
       "      <th>179</th>\n",
       "      <td>CHEMBL2425063</td>\n",
       "      <td>0</td>\n",
       "      <td>0</td>\n",
       "      <td>0</td>\n",
       "      <td>0.000012</td>\n",
       "      <td>0</td>\n",
       "      <td>1.487450e-06</td>\n",
       "    </tr>\n",
       "    <tr>\n",
       "      <th>181</th>\n",
       "      <td>CHEMBL2425067</td>\n",
       "      <td>0</td>\n",
       "      <td>0</td>\n",
       "      <td>0</td>\n",
       "      <td>0.011295</td>\n",
       "      <td>0</td>\n",
       "      <td>1.380582e-06</td>\n",
       "    </tr>\n",
       "    <tr>\n",
       "      <th>185</th>\n",
       "      <td>CHEMBL2425883</td>\n",
       "      <td>0</td>\n",
       "      <td>0</td>\n",
       "      <td>1</td>\n",
       "      <td>0.976158</td>\n",
       "      <td>0</td>\n",
       "      <td>1.241370e-06</td>\n",
       "    </tr>\n",
       "    <tr>\n",
       "      <th>273</th>\n",
       "      <td>CHEMBL3687980</td>\n",
       "      <td>0</td>\n",
       "      <td>0</td>\n",
       "      <td>0</td>\n",
       "      <td>0.003250</td>\n",
       "      <td>0</td>\n",
       "      <td>1.136622e-06</td>\n",
       "    </tr>\n",
       "    <tr>\n",
       "      <th>186</th>\n",
       "      <td>CHEMBL2425884</td>\n",
       "      <td>0</td>\n",
       "      <td>0</td>\n",
       "      <td>1</td>\n",
       "      <td>0.777077</td>\n",
       "      <td>0</td>\n",
       "      <td>9.591093e-07</td>\n",
       "    </tr>\n",
       "    <tr>\n",
       "      <th>53</th>\n",
       "      <td>CHEMBL1683086</td>\n",
       "      <td>0</td>\n",
       "      <td>0</td>\n",
       "      <td>0</td>\n",
       "      <td>0.000104</td>\n",
       "      <td>0</td>\n",
       "      <td>6.246726e-07</td>\n",
       "    </tr>\n",
       "    <tr>\n",
       "      <th>65</th>\n",
       "      <td>CHEMBL1683133</td>\n",
       "      <td>1</td>\n",
       "      <td>0</td>\n",
       "      <td>0</td>\n",
       "      <td>0.000226</td>\n",
       "      <td>0</td>\n",
       "      <td>5.746983e-07</td>\n",
       "    </tr>\n",
       "    <tr>\n",
       "      <th>63</th>\n",
       "      <td>CHEMBL1683109</td>\n",
       "      <td>0</td>\n",
       "      <td>0</td>\n",
       "      <td>0</td>\n",
       "      <td>0.001289</td>\n",
       "      <td>0</td>\n",
       "      <td>4.367045e-07</td>\n",
       "    </tr>\n",
       "    <tr>\n",
       "      <th>64</th>\n",
       "      <td>CHEMBL1683131</td>\n",
       "      <td>0</td>\n",
       "      <td>0</td>\n",
       "      <td>0</td>\n",
       "      <td>0.000094</td>\n",
       "      <td>0</td>\n",
       "      <td>2.350790e-07</td>\n",
       "    </tr>\n",
       "    <tr>\n",
       "      <th>187</th>\n",
       "      <td>CHEMBL2425885</td>\n",
       "      <td>0</td>\n",
       "      <td>0</td>\n",
       "      <td>0</td>\n",
       "      <td>0.027602</td>\n",
       "      <td>0</td>\n",
       "      <td>7.972362e-08</td>\n",
       "    </tr>\n",
       "    <tr>\n",
       "      <th>241</th>\n",
       "      <td>CHEMBL3329630</td>\n",
       "      <td>0</td>\n",
       "      <td>0</td>\n",
       "      <td>0</td>\n",
       "      <td>0.005810</td>\n",
       "      <td>0</td>\n",
       "      <td>5.590673e-08</td>\n",
       "    </tr>\n",
       "    <tr>\n",
       "      <th>66</th>\n",
       "      <td>CHEMBL1683139</td>\n",
       "      <td>0</td>\n",
       "      <td>0</td>\n",
       "      <td>0</td>\n",
       "      <td>0.000166</td>\n",
       "      <td>0</td>\n",
       "      <td>1.176148e-08</td>\n",
       "    </tr>\n",
       "  </tbody>\n",
       "</table>\n",
       "</div>"
      ],
      "text/plain": [
       "           comp_id  bioactivity  predicciones_luz  predicciones_sebi  \\\n",
       "156   CHEMBL231293            0                 0                  0   \n",
       "182  CHEMBL2425068            0                 0                  0   \n",
       "121   CHEMBL207348            0                 0                  0   \n",
       "47   CHEMBL1650420            0                 0                  0   \n",
       "238  CHEMBL3329624            0                 0                  0   \n",
       "258   CHEMBL359581            0                 0                  0   \n",
       "62   CHEMBL1683108            0                 0                  0   \n",
       "48   CHEMBL1650429            0                 0                  0   \n",
       "109   CHEMBL195667            0                 0                  0   \n",
       "154   CHEMBL231195            0                 0                  0   \n",
       "219  CHEMBL3112958            0                 0                  1   \n",
       "105   CHEMBL192449            0                 0                  0   \n",
       "266  CHEMBL3644786            0                 0                  1   \n",
       "296   CHEMBL379702            0                 0                  0   \n",
       "245  CHEMBL3329639            0                 0                  0   \n",
       "57   CHEMBL1683093            0                 0                  0   \n",
       "83   CHEMBL1814756            1                 0                  1   \n",
       "242  CHEMBL3329631            0                 0                  0   \n",
       "148   CHEMBL230984            0                 0                  0   \n",
       "68   CHEMBL1683567            0                 0                  0   \n",
       "149   CHEMBL230985            0                 0                  0   \n",
       "215   CHEMBL257852            0                 0                  0   \n",
       "320   CHEMBL389538            1                 0                  0   \n",
       "188  CHEMBL2425887            0                 0                  1   \n",
       "46   CHEMBL1650412            0                 0                  0   \n",
       "126  CHEMBL2147070            0                 1                  0   \n",
       "0    CHEMBL1082996            0                 0                  0   \n",
       "180  CHEMBL2425066            0                 0                  0   \n",
       "49   CHEMBL1650430            0                 1                  1   \n",
       "108   CHEMBL195378            0                 0                  0   \n",
       "60   CHEMBL1683106            0                 1                  0   \n",
       "59   CHEMBL1683105            0                 0                  0   \n",
       "262   CHEMBL362930            0                 0                  0   \n",
       "160   CHEMBL231396            0                 0                  0   \n",
       "183  CHEMBL2425069            1                 0                  0   \n",
       "214   CHEMBL256266            0                 0                  0   \n",
       "56   CHEMBL1683090            0                 0                  0   \n",
       "184  CHEMBL2425882            0                 0                  1   \n",
       "117   CHEMBL202634            0                 0                  0   \n",
       "274   CHEMBL370033            0                 0                  0   \n",
       "275   CHEMBL370072            0                 0                  0   \n",
       "269  CHEMBL3644792            0                 0                  1   \n",
       "157   CHEMBL231294            0                 0                  0   \n",
       "260   CHEMBL361758            0                 0                  0   \n",
       "172   CHEMBL237500            0                 0                  0   \n",
       "54   CHEMBL1683087            0                 0                  0   \n",
       "161   CHEMBL231397            0                 0                  0   \n",
       "151   CHEMBL231091            0                 0                  0   \n",
       "179  CHEMBL2425063            0                 0                  0   \n",
       "181  CHEMBL2425067            0                 0                  0   \n",
       "185  CHEMBL2425883            0                 0                  1   \n",
       "273  CHEMBL3687980            0                 0                  0   \n",
       "186  CHEMBL2425884            0                 0                  1   \n",
       "53   CHEMBL1683086            0                 0                  0   \n",
       "65   CHEMBL1683133            1                 0                  0   \n",
       "63   CHEMBL1683109            0                 0                  0   \n",
       "64   CHEMBL1683131            0                 0                  0   \n",
       "187  CHEMBL2425885            0                 0                  0   \n",
       "241  CHEMBL3329630            0                 0                  0   \n",
       "66   CHEMBL1683139            0                 0                  0   \n",
       "\n",
       "     prob_sebi  predicciones_sebi_features  prob_sebi_features  \n",
       "156   0.305006                           0        2.508266e-04  \n",
       "182   0.000122                           0        2.435554e-04  \n",
       "121   0.001288                           0        2.362676e-04  \n",
       "47    0.028631                           0        2.342448e-04  \n",
       "238   0.003126                           0        2.334688e-04  \n",
       "258   0.030322                           0        2.327729e-04  \n",
       "62    0.002254                           0        2.177137e-04  \n",
       "48    0.039919                           0        2.111369e-04  \n",
       "109   0.015579                           0        2.110689e-04  \n",
       "154   0.010356                           0        1.995626e-04  \n",
       "219   0.767861                           0        1.968170e-04  \n",
       "105   0.000544                           0        1.953473e-04  \n",
       "266   0.999825                           0        1.892235e-04  \n",
       "296   0.000324                           0        1.468447e-04  \n",
       "245   0.108062                           0        1.354340e-04  \n",
       "57    0.000287                           0        1.331420e-04  \n",
       "83    0.985357                           0        1.176056e-04  \n",
       "242   0.001906                           0        1.173591e-04  \n",
       "148   0.001831                           0        1.120845e-04  \n",
       "68    0.079965                           0        1.009619e-04  \n",
       "149   0.000394                           0        9.631424e-05  \n",
       "215   0.116180                           0        9.209456e-05  \n",
       "320   0.001564                           0        9.034463e-05  \n",
       "188   0.818749                           0        6.996137e-05  \n",
       "46    0.006625                           0        6.553227e-05  \n",
       "126   0.011167                           0        6.089609e-05  \n",
       "0     0.328888                           0        5.439337e-05  \n",
       "180   0.113384                           0        4.680147e-05  \n",
       "49    0.904386                           0        4.470601e-05  \n",
       "108   0.008358                           0        3.824990e-05  \n",
       "60    0.000358                           0        3.307411e-05  \n",
       "59    0.000304                           0        3.152709e-05  \n",
       "262   0.000257                           0        2.425287e-05  \n",
       "160   0.079961                           0        1.987536e-05  \n",
       "183   0.000815                           0        1.930813e-05  \n",
       "214   0.000553                           0        1.908999e-05  \n",
       "56    0.000437                           0        1.640483e-05  \n",
       "184   0.510755                           0        1.579063e-05  \n",
       "117   0.290726                           0        1.418871e-05  \n",
       "274   0.416029                           0        1.231885e-05  \n",
       "275   0.064482                           0        1.187716e-05  \n",
       "269   0.817221                           0        1.118078e-05  \n",
       "157   0.000099                           0        7.598915e-06  \n",
       "260   0.004458                           0        6.779400e-06  \n",
       "172   0.004359                           0        6.050263e-06  \n",
       "54    0.000308                           0        3.410833e-06  \n",
       "161   0.007354                           0        2.606742e-06  \n",
       "151   0.011093                           0        2.551603e-06  \n",
       "179   0.000012                           0        1.487450e-06  \n",
       "181   0.011295                           0        1.380582e-06  \n",
       "185   0.976158                           0        1.241370e-06  \n",
       "273   0.003250                           0        1.136622e-06  \n",
       "186   0.777077                           0        9.591093e-07  \n",
       "53    0.000104                           0        6.246726e-07  \n",
       "65    0.000226                           0        5.746983e-07  \n",
       "63    0.001289                           0        4.367045e-07  \n",
       "64    0.000094                           0        2.350790e-07  \n",
       "187   0.027602                           0        7.972362e-08  \n",
       "241   0.005810                           0        5.590673e-08  \n",
       "66    0.000166                           0        1.176148e-08  "
      ]
     },
     "execution_count": 12,
     "metadata": {},
     "output_type": "execute_result"
    }
   ],
   "source": [
    "comparacion.sort_values(\"prob_sebi_features\",ascending=False).tail(60)"
   ]
  },
  {
   "cell_type": "code",
   "execution_count": 21,
   "metadata": {},
   "outputs": [
    {
     "data": {
      "application/vnd.plotly.v1+json": {
       "config": {
        "plotlyServerURL": "https://plot.ly"
       },
       "data": [
        {
         "alignmentgroup": "True",
         "bingroup": "x",
         "hovertemplate": "bioactivity=0<br>prob_sebi_features=%{x}<br>count=%{y}<extra></extra>",
         "legendgroup": "0",
         "marker": {
          "color": "#636efa",
          "pattern": {
           "shape": ""
          }
         },
         "name": "0",
         "nbinsx": 50,
         "offsetgroup": "0",
         "orientation": "v",
         "showlegend": true,
         "type": "histogram",
         "x": [
          0.00005439337,
          0.010116297,
          0.021483522,
          0.004203701,
          0.030063886,
          0.1134673,
          0.0107675595,
          0.42448652,
          0.0053767106,
          0.0005302878,
          0.030676119,
          0.99863666,
          0.02495893,
          0.95784956,
          0.00803516,
          0.97047734,
          0.012706055,
          0.0028744366,
          0.10397769,
          0.04557661,
          0.97367156,
          0.9907862,
          0.31073412,
          0.05077537,
          0.0019609905,
          0.011507263,
          0.9641725,
          0.00006553227,
          0.0002342448,
          0.00021113694,
          0.00004470601,
          0.0003833744,
          0.0009018695,
          6.246726e-7,
          0.000003410833,
          0.296997,
          0.000016404825,
          0.00013314195,
          0.0030632333,
          0.000031527095,
          0.000033074113,
          0.00037039857,
          0.00021771374,
          4.3670448e-7,
          2.3507904e-7,
          1.1761478e-8,
          0.99787533,
          0.00010096189,
          0.0058764424,
          0.04786388,
          0.06389155,
          0.0005320974,
          0.0002799952,
          0.1988952,
          0.6105613,
          0.0016729278,
          0.00707674,
          0.0013790572,
          0.99493587,
          0.0006278289,
          0.0747338,
          0.00019534734,
          0.94399756,
          0.294159,
          0.0000382499,
          0.00021106892,
          0.00429132,
          0.9928825,
          0.007315247,
          0.036408294,
          0.000014188711,
          0.0011594931,
          0.00023626757,
          0.9869551,
          0.0010108924,
          0.03308293,
          0.0010038643,
          0.000060896087,
          0.0020125771,
          0.03548348,
          0.008840438,
          0.0025618211,
          0.018142719,
          0.005072728,
          0.006187657,
          0.0043754685,
          0.00079701975,
          0.023843806,
          0.00031108322,
          0.0015442498,
          0.0015136313,
          0.010336578,
          0.00011208448,
          0.000096314245,
          0.00026703867,
          0.0000025516035,
          0.00086230243,
          0.0018384414,
          0.00019956258,
          0.000496548,
          0.0002508266,
          0.0000075989146,
          0.00043700644,
          0.00046687125,
          0.000019875362,
          0.0000026067423,
          0.029032536,
          0.0019359493,
          0.018268691,
          0.0000060502625,
          0.16356826,
          0.0000014874504,
          0.000046801466,
          0.0000013805821,
          0.00024355542,
          0.00001579063,
          0.0000012413701,
          9.591093e-7,
          7.972362e-8,
          0.000069961374,
          0.012693847,
          0.115004964,
          0.72910434,
          0.13395129,
          0.4475192,
          0.7669231,
          0.041023966,
          0.8951616,
          0.8134042,
          0.17008543,
          0.88199496,
          0.0045457277,
          0.005966496,
          0.000019089992,
          0.00009209456,
          0.00019681705,
          0.018158866,
          0.0053850855,
          0.0014749427,
          0.966446,
          0.23255949,
          0.986489,
          0.9898056,
          0.99998677,
          0.91640216,
          0.00023346885,
          0.29352078,
          0.0031402898,
          5.5906725e-8,
          0.0001173591,
          0.00025866012,
          0.0004969901,
          0.00013543396,
          0.024708427,
          0.106202856,
          0.0033160879,
          0.051833514,
          0.0007748784,
          0.009288395,
          0.02946198,
          0.00079138525,
          0.00023277293,
          0.0000067794003,
          0.000024252873,
          0.9997681,
          0.00027573403,
          0.00026765477,
          0.0001892235,
          0.009459821,
          0.00044892775,
          0.0000111807785,
          0.12194193,
          0.46738464,
          0.0000011366221,
          0.000012318846,
          0.00001187716,
          0.012348585,
          0.015389397,
          0.0002879721,
          0.99044424,
          0.002015412,
          0.0010279053,
          0.01118152,
          0.004139296,
          0.7752977,
          0.00047430396,
          0.002198964,
          0.02486394,
          0.0016099159,
          0.33274606,
          0.0034213085,
          0.00048643205,
          0.00014684474,
          0.97033286,
          0.0020710318,
          0.9827319,
          0.0063221003,
          0.002504218,
          0.00051291066,
          0.0012608299,
          0.00045728128,
          0.29715383,
          0.0019432331,
          0.001821509,
          0.00094480766,
          0.010201459,
          0.0018078276,
          0.00042491115
         ],
         "xaxis": "x",
         "yaxis": "y"
        },
        {
         "alignmentgroup": "True",
         "bingroup": "x",
         "hovertemplate": "bioactivity=1<br>prob_sebi_features=%{x}<br>count=%{y}<extra></extra>",
         "legendgroup": "1",
         "marker": {
          "color": "#EF553B",
          "pattern": {
           "shape": ""
          }
         },
         "name": "1",
         "nbinsx": 50,
         "offsetgroup": "1",
         "orientation": "v",
         "showlegend": true,
         "type": "histogram",
         "x": [
          0.83875644,
          0.90704817,
          0.9714536,
          0.9928578,
          0.99736637,
          0.9999752,
          0.9872378,
          0.8567759,
          0.8739641,
          0.9868307,
          0.99488586,
          0.94277126,
          0.99349666,
          0.9998423,
          0.9827574,
          0.9994972,
          0.99851006,
          0.9979394,
          0.9483526,
          0.98213583,
          5.746983e-7,
          0.56620747,
          0.9958014,
          0.98107535,
          0.99560094,
          0.34300202,
          0.99869615,
          0.99285734,
          0.9983804,
          0.9992404,
          0.024154397,
          0.00011760556,
          0.70535564,
          0.0017778007,
          0.00067394157,
          0.9993625,
          0.9821415,
          0.9304376,
          0.9447632,
          0.99769235,
          0.99881196,
          0.99323046,
          0.96995354,
          0.9986399,
          0.0042451676,
          0.0077034137,
          0.96038944,
          0.99551445,
          0.9842747,
          0.9991929,
          0.7286883,
          0.08820053,
          0.05621193,
          0.9798462,
          0.9943507,
          0.7321084,
          0.999961,
          0.057790484,
          0.908287,
          0.89355683,
          0.044666033,
          0.1834324,
          0.0644678,
          0.92450255,
          0.99994326,
          0.99724704,
          0.998372,
          0.9870271,
          0.000019308127,
          0.99310803,
          0.9998574,
          0.99638855,
          0.9994906,
          0.9984273,
          0.7717419,
          0.9974285,
          0.8973167,
          0.08958889,
          0.0011589488,
          0.2527548,
          0.980231,
          0.014715085,
          0.1887028,
          0.98226523,
          0.0029359634,
          0.9622694,
          0.0026601232,
          0.99749786,
          0.96266234,
          0.99940443,
          0.45861953,
          0.99700207,
          0.9978854,
          0.98396575,
          0.9806528,
          0.94008315,
          0.0021522238,
          0.10496323,
          0.00036530604,
          0.99957436,
          0.981931,
          0.885292,
          0.9981148,
          0.99783546,
          0.9924759,
          0.99959344,
          0.99549085,
          0.9596913,
          0.8088874,
          0.0023769508,
          0.9936458,
          0.0012330333,
          0.0013238809,
          0.011342929,
          0.9998648,
          0.99993706,
          0.94929034,
          0.00064841803,
          0.000090344634,
          0.9931049,
          0.9995092
         ],
         "xaxis": "x",
         "yaxis": "y"
        }
       ],
       "layout": {
        "barmode": "relative",
        "legend": {
         "title": {
          "text": "bioactivity"
         },
         "tracegroupgap": 0
        },
        "margin": {
         "t": 60
        },
        "template": {
         "data": {
          "bar": [
           {
            "error_x": {
             "color": "#2a3f5f"
            },
            "error_y": {
             "color": "#2a3f5f"
            },
            "marker": {
             "line": {
              "color": "#E5ECF6",
              "width": 0.5
             },
             "pattern": {
              "fillmode": "overlay",
              "size": 10,
              "solidity": 0.2
             }
            },
            "type": "bar"
           }
          ],
          "barpolar": [
           {
            "marker": {
             "line": {
              "color": "#E5ECF6",
              "width": 0.5
             },
             "pattern": {
              "fillmode": "overlay",
              "size": 10,
              "solidity": 0.2
             }
            },
            "type": "barpolar"
           }
          ],
          "carpet": [
           {
            "aaxis": {
             "endlinecolor": "#2a3f5f",
             "gridcolor": "white",
             "linecolor": "white",
             "minorgridcolor": "white",
             "startlinecolor": "#2a3f5f"
            },
            "baxis": {
             "endlinecolor": "#2a3f5f",
             "gridcolor": "white",
             "linecolor": "white",
             "minorgridcolor": "white",
             "startlinecolor": "#2a3f5f"
            },
            "type": "carpet"
           }
          ],
          "choropleth": [
           {
            "colorbar": {
             "outlinewidth": 0,
             "ticks": ""
            },
            "type": "choropleth"
           }
          ],
          "contour": [
           {
            "colorbar": {
             "outlinewidth": 0,
             "ticks": ""
            },
            "colorscale": [
             [
              0,
              "#0d0887"
             ],
             [
              0.1111111111111111,
              "#46039f"
             ],
             [
              0.2222222222222222,
              "#7201a8"
             ],
             [
              0.3333333333333333,
              "#9c179e"
             ],
             [
              0.4444444444444444,
              "#bd3786"
             ],
             [
              0.5555555555555556,
              "#d8576b"
             ],
             [
              0.6666666666666666,
              "#ed7953"
             ],
             [
              0.7777777777777778,
              "#fb9f3a"
             ],
             [
              0.8888888888888888,
              "#fdca26"
             ],
             [
              1,
              "#f0f921"
             ]
            ],
            "type": "contour"
           }
          ],
          "contourcarpet": [
           {
            "colorbar": {
             "outlinewidth": 0,
             "ticks": ""
            },
            "type": "contourcarpet"
           }
          ],
          "heatmap": [
           {
            "colorbar": {
             "outlinewidth": 0,
             "ticks": ""
            },
            "colorscale": [
             [
              0,
              "#0d0887"
             ],
             [
              0.1111111111111111,
              "#46039f"
             ],
             [
              0.2222222222222222,
              "#7201a8"
             ],
             [
              0.3333333333333333,
              "#9c179e"
             ],
             [
              0.4444444444444444,
              "#bd3786"
             ],
             [
              0.5555555555555556,
              "#d8576b"
             ],
             [
              0.6666666666666666,
              "#ed7953"
             ],
             [
              0.7777777777777778,
              "#fb9f3a"
             ],
             [
              0.8888888888888888,
              "#fdca26"
             ],
             [
              1,
              "#f0f921"
             ]
            ],
            "type": "heatmap"
           }
          ],
          "heatmapgl": [
           {
            "colorbar": {
             "outlinewidth": 0,
             "ticks": ""
            },
            "colorscale": [
             [
              0,
              "#0d0887"
             ],
             [
              0.1111111111111111,
              "#46039f"
             ],
             [
              0.2222222222222222,
              "#7201a8"
             ],
             [
              0.3333333333333333,
              "#9c179e"
             ],
             [
              0.4444444444444444,
              "#bd3786"
             ],
             [
              0.5555555555555556,
              "#d8576b"
             ],
             [
              0.6666666666666666,
              "#ed7953"
             ],
             [
              0.7777777777777778,
              "#fb9f3a"
             ],
             [
              0.8888888888888888,
              "#fdca26"
             ],
             [
              1,
              "#f0f921"
             ]
            ],
            "type": "heatmapgl"
           }
          ],
          "histogram": [
           {
            "marker": {
             "pattern": {
              "fillmode": "overlay",
              "size": 10,
              "solidity": 0.2
             }
            },
            "type": "histogram"
           }
          ],
          "histogram2d": [
           {
            "colorbar": {
             "outlinewidth": 0,
             "ticks": ""
            },
            "colorscale": [
             [
              0,
              "#0d0887"
             ],
             [
              0.1111111111111111,
              "#46039f"
             ],
             [
              0.2222222222222222,
              "#7201a8"
             ],
             [
              0.3333333333333333,
              "#9c179e"
             ],
             [
              0.4444444444444444,
              "#bd3786"
             ],
             [
              0.5555555555555556,
              "#d8576b"
             ],
             [
              0.6666666666666666,
              "#ed7953"
             ],
             [
              0.7777777777777778,
              "#fb9f3a"
             ],
             [
              0.8888888888888888,
              "#fdca26"
             ],
             [
              1,
              "#f0f921"
             ]
            ],
            "type": "histogram2d"
           }
          ],
          "histogram2dcontour": [
           {
            "colorbar": {
             "outlinewidth": 0,
             "ticks": ""
            },
            "colorscale": [
             [
              0,
              "#0d0887"
             ],
             [
              0.1111111111111111,
              "#46039f"
             ],
             [
              0.2222222222222222,
              "#7201a8"
             ],
             [
              0.3333333333333333,
              "#9c179e"
             ],
             [
              0.4444444444444444,
              "#bd3786"
             ],
             [
              0.5555555555555556,
              "#d8576b"
             ],
             [
              0.6666666666666666,
              "#ed7953"
             ],
             [
              0.7777777777777778,
              "#fb9f3a"
             ],
             [
              0.8888888888888888,
              "#fdca26"
             ],
             [
              1,
              "#f0f921"
             ]
            ],
            "type": "histogram2dcontour"
           }
          ],
          "mesh3d": [
           {
            "colorbar": {
             "outlinewidth": 0,
             "ticks": ""
            },
            "type": "mesh3d"
           }
          ],
          "parcoords": [
           {
            "line": {
             "colorbar": {
              "outlinewidth": 0,
              "ticks": ""
             }
            },
            "type": "parcoords"
           }
          ],
          "pie": [
           {
            "automargin": true,
            "type": "pie"
           }
          ],
          "scatter": [
           {
            "fillpattern": {
             "fillmode": "overlay",
             "size": 10,
             "solidity": 0.2
            },
            "type": "scatter"
           }
          ],
          "scatter3d": [
           {
            "line": {
             "colorbar": {
              "outlinewidth": 0,
              "ticks": ""
             }
            },
            "marker": {
             "colorbar": {
              "outlinewidth": 0,
              "ticks": ""
             }
            },
            "type": "scatter3d"
           }
          ],
          "scattercarpet": [
           {
            "marker": {
             "colorbar": {
              "outlinewidth": 0,
              "ticks": ""
             }
            },
            "type": "scattercarpet"
           }
          ],
          "scattergeo": [
           {
            "marker": {
             "colorbar": {
              "outlinewidth": 0,
              "ticks": ""
             }
            },
            "type": "scattergeo"
           }
          ],
          "scattergl": [
           {
            "marker": {
             "colorbar": {
              "outlinewidth": 0,
              "ticks": ""
             }
            },
            "type": "scattergl"
           }
          ],
          "scattermapbox": [
           {
            "marker": {
             "colorbar": {
              "outlinewidth": 0,
              "ticks": ""
             }
            },
            "type": "scattermapbox"
           }
          ],
          "scatterpolar": [
           {
            "marker": {
             "colorbar": {
              "outlinewidth": 0,
              "ticks": ""
             }
            },
            "type": "scatterpolar"
           }
          ],
          "scatterpolargl": [
           {
            "marker": {
             "colorbar": {
              "outlinewidth": 0,
              "ticks": ""
             }
            },
            "type": "scatterpolargl"
           }
          ],
          "scatterternary": [
           {
            "marker": {
             "colorbar": {
              "outlinewidth": 0,
              "ticks": ""
             }
            },
            "type": "scatterternary"
           }
          ],
          "surface": [
           {
            "colorbar": {
             "outlinewidth": 0,
             "ticks": ""
            },
            "colorscale": [
             [
              0,
              "#0d0887"
             ],
             [
              0.1111111111111111,
              "#46039f"
             ],
             [
              0.2222222222222222,
              "#7201a8"
             ],
             [
              0.3333333333333333,
              "#9c179e"
             ],
             [
              0.4444444444444444,
              "#bd3786"
             ],
             [
              0.5555555555555556,
              "#d8576b"
             ],
             [
              0.6666666666666666,
              "#ed7953"
             ],
             [
              0.7777777777777778,
              "#fb9f3a"
             ],
             [
              0.8888888888888888,
              "#fdca26"
             ],
             [
              1,
              "#f0f921"
             ]
            ],
            "type": "surface"
           }
          ],
          "table": [
           {
            "cells": {
             "fill": {
              "color": "#EBF0F8"
             },
             "line": {
              "color": "white"
             }
            },
            "header": {
             "fill": {
              "color": "#C8D4E3"
             },
             "line": {
              "color": "white"
             }
            },
            "type": "table"
           }
          ]
         },
         "layout": {
          "annotationdefaults": {
           "arrowcolor": "#2a3f5f",
           "arrowhead": 0,
           "arrowwidth": 1
          },
          "autotypenumbers": "strict",
          "coloraxis": {
           "colorbar": {
            "outlinewidth": 0,
            "ticks": ""
           }
          },
          "colorscale": {
           "diverging": [
            [
             0,
             "#8e0152"
            ],
            [
             0.1,
             "#c51b7d"
            ],
            [
             0.2,
             "#de77ae"
            ],
            [
             0.3,
             "#f1b6da"
            ],
            [
             0.4,
             "#fde0ef"
            ],
            [
             0.5,
             "#f7f7f7"
            ],
            [
             0.6,
             "#e6f5d0"
            ],
            [
             0.7,
             "#b8e186"
            ],
            [
             0.8,
             "#7fbc41"
            ],
            [
             0.9,
             "#4d9221"
            ],
            [
             1,
             "#276419"
            ]
           ],
           "sequential": [
            [
             0,
             "#0d0887"
            ],
            [
             0.1111111111111111,
             "#46039f"
            ],
            [
             0.2222222222222222,
             "#7201a8"
            ],
            [
             0.3333333333333333,
             "#9c179e"
            ],
            [
             0.4444444444444444,
             "#bd3786"
            ],
            [
             0.5555555555555556,
             "#d8576b"
            ],
            [
             0.6666666666666666,
             "#ed7953"
            ],
            [
             0.7777777777777778,
             "#fb9f3a"
            ],
            [
             0.8888888888888888,
             "#fdca26"
            ],
            [
             1,
             "#f0f921"
            ]
           ],
           "sequentialminus": [
            [
             0,
             "#0d0887"
            ],
            [
             0.1111111111111111,
             "#46039f"
            ],
            [
             0.2222222222222222,
             "#7201a8"
            ],
            [
             0.3333333333333333,
             "#9c179e"
            ],
            [
             0.4444444444444444,
             "#bd3786"
            ],
            [
             0.5555555555555556,
             "#d8576b"
            ],
            [
             0.6666666666666666,
             "#ed7953"
            ],
            [
             0.7777777777777778,
             "#fb9f3a"
            ],
            [
             0.8888888888888888,
             "#fdca26"
            ],
            [
             1,
             "#f0f921"
            ]
           ]
          },
          "colorway": [
           "#636efa",
           "#EF553B",
           "#00cc96",
           "#ab63fa",
           "#FFA15A",
           "#19d3f3",
           "#FF6692",
           "#B6E880",
           "#FF97FF",
           "#FECB52"
          ],
          "font": {
           "color": "#2a3f5f"
          },
          "geo": {
           "bgcolor": "white",
           "lakecolor": "white",
           "landcolor": "#E5ECF6",
           "showlakes": true,
           "showland": true,
           "subunitcolor": "white"
          },
          "hoverlabel": {
           "align": "left"
          },
          "hovermode": "closest",
          "mapbox": {
           "style": "light"
          },
          "paper_bgcolor": "white",
          "plot_bgcolor": "#E5ECF6",
          "polar": {
           "angularaxis": {
            "gridcolor": "white",
            "linecolor": "white",
            "ticks": ""
           },
           "bgcolor": "#E5ECF6",
           "radialaxis": {
            "gridcolor": "white",
            "linecolor": "white",
            "ticks": ""
           }
          },
          "scene": {
           "xaxis": {
            "backgroundcolor": "#E5ECF6",
            "gridcolor": "white",
            "gridwidth": 2,
            "linecolor": "white",
            "showbackground": true,
            "ticks": "",
            "zerolinecolor": "white"
           },
           "yaxis": {
            "backgroundcolor": "#E5ECF6",
            "gridcolor": "white",
            "gridwidth": 2,
            "linecolor": "white",
            "showbackground": true,
            "ticks": "",
            "zerolinecolor": "white"
           },
           "zaxis": {
            "backgroundcolor": "#E5ECF6",
            "gridcolor": "white",
            "gridwidth": 2,
            "linecolor": "white",
            "showbackground": true,
            "ticks": "",
            "zerolinecolor": "white"
           }
          },
          "shapedefaults": {
           "line": {
            "color": "#2a3f5f"
           }
          },
          "ternary": {
           "aaxis": {
            "gridcolor": "white",
            "linecolor": "white",
            "ticks": ""
           },
           "baxis": {
            "gridcolor": "white",
            "linecolor": "white",
            "ticks": ""
           },
           "bgcolor": "#E5ECF6",
           "caxis": {
            "gridcolor": "white",
            "linecolor": "white",
            "ticks": ""
           }
          },
          "title": {
           "x": 0.05
          },
          "xaxis": {
           "automargin": true,
           "gridcolor": "white",
           "linecolor": "white",
           "ticks": "",
           "title": {
            "standoff": 15
           },
           "zerolinecolor": "white",
           "zerolinewidth": 2
          },
          "yaxis": {
           "automargin": true,
           "gridcolor": "white",
           "linecolor": "white",
           "ticks": "",
           "title": {
            "standoff": 15
           },
           "zerolinecolor": "white",
           "zerolinewidth": 2
          }
         }
        },
        "width": 700,
        "xaxis": {
         "anchor": "y",
         "domain": [
          0,
          1
         ],
         "title": {
          "text": "prob_sebi_features"
         }
        },
        "yaxis": {
         "anchor": "x",
         "domain": [
          0,
          1
         ],
         "title": {
          "text": "count"
         }
        }
       }
      },
      "text/html": [
       "<div>                            <div id=\"1f256c20-9e4d-4f59-ac23-edec89df7ca7\" class=\"plotly-graph-div\" style=\"height:525px; width:700px;\"></div>            <script type=\"text/javascript\">                require([\"plotly\"], function(Plotly) {                    window.PLOTLYENV=window.PLOTLYENV || {};                                    if (document.getElementById(\"1f256c20-9e4d-4f59-ac23-edec89df7ca7\")) {                    Plotly.newPlot(                        \"1f256c20-9e4d-4f59-ac23-edec89df7ca7\",                        [{\"alignmentgroup\":\"True\",\"bingroup\":\"x\",\"hovertemplate\":\"bioactivity=0\\u003cbr\\u003eprob_sebi_features=%{x}\\u003cbr\\u003ecount=%{y}\\u003cextra\\u003e\\u003c\\u002fextra\\u003e\",\"legendgroup\":\"0\",\"marker\":{\"color\":\"#636efa\",\"pattern\":{\"shape\":\"\"}},\"name\":\"0\",\"nbinsx\":50,\"offsetgroup\":\"0\",\"orientation\":\"v\",\"showlegend\":true,\"x\":[5.439337e-05,0.010116297,0.021483522,0.004203701,0.030063886,0.1134673,0.0107675595,0.42448652,0.0053767106,0.0005302878,0.030676119,0.99863666,0.02495893,0.95784956,0.00803516,0.97047734,0.012706055,0.0028744366,0.10397769,0.04557661,0.97367156,0.9907862,0.31073412,0.05077537,0.0019609905,0.011507263,0.9641725,6.553227e-05,0.0002342448,0.00021113694,4.470601e-05,0.0003833744,0.0009018695,6.246726e-07,3.410833e-06,0.296997,1.6404825e-05,0.00013314195,0.0030632333,3.1527095e-05,3.3074113e-05,0.00037039857,0.00021771374,4.3670448e-07,2.3507904e-07,1.1761478e-08,0.99787533,0.00010096189,0.0058764424,0.04786388,0.06389155,0.0005320974,0.0002799952,0.1988952,0.6105613,0.0016729278,0.00707674,0.0013790572,0.99493587,0.0006278289,0.0747338,0.00019534734,0.94399756,0.294159,3.82499e-05,0.00021106892,0.00429132,0.9928825,0.007315247,0.036408294,1.4188711e-05,0.0011594931,0.00023626757,0.9869551,0.0010108924,0.03308293,0.0010038643,6.0896087e-05,0.0020125771,0.03548348,0.008840438,0.0025618211,0.018142719,0.005072728,0.006187657,0.0043754685,0.00079701975,0.023843806,0.00031108322,0.0015442498,0.0015136313,0.010336578,0.00011208448,9.6314245e-05,0.00026703867,2.5516035e-06,0.00086230243,0.0018384414,0.00019956258,0.000496548,0.0002508266,7.5989146e-06,0.00043700644,0.00046687125,1.9875362e-05,2.6067423e-06,0.029032536,0.0019359493,0.018268691,6.0502625e-06,0.16356826,1.4874504e-06,4.6801466e-05,1.3805821e-06,0.00024355542,1.579063e-05,1.2413701e-06,9.591093e-07,7.972362e-08,6.9961374e-05,0.012693847,0.115004964,0.72910434,0.13395129,0.4475192,0.7669231,0.041023966,0.8951616,0.8134042,0.17008543,0.88199496,0.0045457277,0.005966496,1.9089992e-05,9.209456e-05,0.00019681705,0.018158866,0.0053850855,0.0014749427,0.966446,0.23255949,0.986489,0.9898056,0.99998677,0.91640216,0.00023346885,0.29352078,0.0031402898,5.5906725e-08,0.0001173591,0.00025866012,0.0004969901,0.00013543396,0.024708427,0.106202856,0.0033160879,0.051833514,0.0007748784,0.009288395,0.02946198,0.00079138525,0.00023277293,6.7794003e-06,2.4252873e-05,0.9997681,0.00027573403,0.00026765477,0.0001892235,0.009459821,0.00044892775,1.11807785e-05,0.12194193,0.46738464,1.1366221e-06,1.2318846e-05,1.187716e-05,0.012348585,0.015389397,0.0002879721,0.99044424,0.002015412,0.0010279053,0.01118152,0.004139296,0.7752977,0.00047430396,0.002198964,0.02486394,0.0016099159,0.33274606,0.0034213085,0.00048643205,0.00014684474,0.97033286,0.0020710318,0.9827319,0.0063221003,0.002504218,0.00051291066,0.0012608299,0.00045728128,0.29715383,0.0019432331,0.001821509,0.00094480766,0.010201459,0.0018078276,0.00042491115],\"xaxis\":\"x\",\"yaxis\":\"y\",\"type\":\"histogram\"},{\"alignmentgroup\":\"True\",\"bingroup\":\"x\",\"hovertemplate\":\"bioactivity=1\\u003cbr\\u003eprob_sebi_features=%{x}\\u003cbr\\u003ecount=%{y}\\u003cextra\\u003e\\u003c\\u002fextra\\u003e\",\"legendgroup\":\"1\",\"marker\":{\"color\":\"#EF553B\",\"pattern\":{\"shape\":\"\"}},\"name\":\"1\",\"nbinsx\":50,\"offsetgroup\":\"1\",\"orientation\":\"v\",\"showlegend\":true,\"x\":[0.83875644,0.90704817,0.9714536,0.9928578,0.99736637,0.9999752,0.9872378,0.8567759,0.8739641,0.9868307,0.99488586,0.94277126,0.99349666,0.9998423,0.9827574,0.9994972,0.99851006,0.9979394,0.9483526,0.98213583,5.746983e-07,0.56620747,0.9958014,0.98107535,0.99560094,0.34300202,0.99869615,0.99285734,0.9983804,0.9992404,0.024154397,0.00011760556,0.70535564,0.0017778007,0.00067394157,0.9993625,0.9821415,0.9304376,0.9447632,0.99769235,0.99881196,0.99323046,0.96995354,0.9986399,0.0042451676,0.0077034137,0.96038944,0.99551445,0.9842747,0.9991929,0.7286883,0.08820053,0.05621193,0.9798462,0.9943507,0.7321084,0.999961,0.057790484,0.908287,0.89355683,0.044666033,0.1834324,0.0644678,0.92450255,0.99994326,0.99724704,0.998372,0.9870271,1.9308127e-05,0.99310803,0.9998574,0.99638855,0.9994906,0.9984273,0.7717419,0.9974285,0.8973167,0.08958889,0.0011589488,0.2527548,0.980231,0.014715085,0.1887028,0.98226523,0.0029359634,0.9622694,0.0026601232,0.99749786,0.96266234,0.99940443,0.45861953,0.99700207,0.9978854,0.98396575,0.9806528,0.94008315,0.0021522238,0.10496323,0.00036530604,0.99957436,0.981931,0.885292,0.9981148,0.99783546,0.9924759,0.99959344,0.99549085,0.9596913,0.8088874,0.0023769508,0.9936458,0.0012330333,0.0013238809,0.011342929,0.9998648,0.99993706,0.94929034,0.00064841803,9.0344634e-05,0.9931049,0.9995092],\"xaxis\":\"x\",\"yaxis\":\"y\",\"type\":\"histogram\"}],                        {\"template\":{\"data\":{\"histogram2dcontour\":[{\"type\":\"histogram2dcontour\",\"colorbar\":{\"outlinewidth\":0,\"ticks\":\"\"},\"colorscale\":[[0.0,\"#0d0887\"],[0.1111111111111111,\"#46039f\"],[0.2222222222222222,\"#7201a8\"],[0.3333333333333333,\"#9c179e\"],[0.4444444444444444,\"#bd3786\"],[0.5555555555555556,\"#d8576b\"],[0.6666666666666666,\"#ed7953\"],[0.7777777777777778,\"#fb9f3a\"],[0.8888888888888888,\"#fdca26\"],[1.0,\"#f0f921\"]]}],\"choropleth\":[{\"type\":\"choropleth\",\"colorbar\":{\"outlinewidth\":0,\"ticks\":\"\"}}],\"histogram2d\":[{\"type\":\"histogram2d\",\"colorbar\":{\"outlinewidth\":0,\"ticks\":\"\"},\"colorscale\":[[0.0,\"#0d0887\"],[0.1111111111111111,\"#46039f\"],[0.2222222222222222,\"#7201a8\"],[0.3333333333333333,\"#9c179e\"],[0.4444444444444444,\"#bd3786\"],[0.5555555555555556,\"#d8576b\"],[0.6666666666666666,\"#ed7953\"],[0.7777777777777778,\"#fb9f3a\"],[0.8888888888888888,\"#fdca26\"],[1.0,\"#f0f921\"]]}],\"heatmap\":[{\"type\":\"heatmap\",\"colorbar\":{\"outlinewidth\":0,\"ticks\":\"\"},\"colorscale\":[[0.0,\"#0d0887\"],[0.1111111111111111,\"#46039f\"],[0.2222222222222222,\"#7201a8\"],[0.3333333333333333,\"#9c179e\"],[0.4444444444444444,\"#bd3786\"],[0.5555555555555556,\"#d8576b\"],[0.6666666666666666,\"#ed7953\"],[0.7777777777777778,\"#fb9f3a\"],[0.8888888888888888,\"#fdca26\"],[1.0,\"#f0f921\"]]}],\"heatmapgl\":[{\"type\":\"heatmapgl\",\"colorbar\":{\"outlinewidth\":0,\"ticks\":\"\"},\"colorscale\":[[0.0,\"#0d0887\"],[0.1111111111111111,\"#46039f\"],[0.2222222222222222,\"#7201a8\"],[0.3333333333333333,\"#9c179e\"],[0.4444444444444444,\"#bd3786\"],[0.5555555555555556,\"#d8576b\"],[0.6666666666666666,\"#ed7953\"],[0.7777777777777778,\"#fb9f3a\"],[0.8888888888888888,\"#fdca26\"],[1.0,\"#f0f921\"]]}],\"contourcarpet\":[{\"type\":\"contourcarpet\",\"colorbar\":{\"outlinewidth\":0,\"ticks\":\"\"}}],\"contour\":[{\"type\":\"contour\",\"colorbar\":{\"outlinewidth\":0,\"ticks\":\"\"},\"colorscale\":[[0.0,\"#0d0887\"],[0.1111111111111111,\"#46039f\"],[0.2222222222222222,\"#7201a8\"],[0.3333333333333333,\"#9c179e\"],[0.4444444444444444,\"#bd3786\"],[0.5555555555555556,\"#d8576b\"],[0.6666666666666666,\"#ed7953\"],[0.7777777777777778,\"#fb9f3a\"],[0.8888888888888888,\"#fdca26\"],[1.0,\"#f0f921\"]]}],\"surface\":[{\"type\":\"surface\",\"colorbar\":{\"outlinewidth\":0,\"ticks\":\"\"},\"colorscale\":[[0.0,\"#0d0887\"],[0.1111111111111111,\"#46039f\"],[0.2222222222222222,\"#7201a8\"],[0.3333333333333333,\"#9c179e\"],[0.4444444444444444,\"#bd3786\"],[0.5555555555555556,\"#d8576b\"],[0.6666666666666666,\"#ed7953\"],[0.7777777777777778,\"#fb9f3a\"],[0.8888888888888888,\"#fdca26\"],[1.0,\"#f0f921\"]]}],\"mesh3d\":[{\"type\":\"mesh3d\",\"colorbar\":{\"outlinewidth\":0,\"ticks\":\"\"}}],\"scatter\":[{\"fillpattern\":{\"fillmode\":\"overlay\",\"size\":10,\"solidity\":0.2},\"type\":\"scatter\"}],\"parcoords\":[{\"type\":\"parcoords\",\"line\":{\"colorbar\":{\"outlinewidth\":0,\"ticks\":\"\"}}}],\"scatterpolargl\":[{\"type\":\"scatterpolargl\",\"marker\":{\"colorbar\":{\"outlinewidth\":0,\"ticks\":\"\"}}}],\"bar\":[{\"error_x\":{\"color\":\"#2a3f5f\"},\"error_y\":{\"color\":\"#2a3f5f\"},\"marker\":{\"line\":{\"color\":\"#E5ECF6\",\"width\":0.5},\"pattern\":{\"fillmode\":\"overlay\",\"size\":10,\"solidity\":0.2}},\"type\":\"bar\"}],\"scattergeo\":[{\"type\":\"scattergeo\",\"marker\":{\"colorbar\":{\"outlinewidth\":0,\"ticks\":\"\"}}}],\"scatterpolar\":[{\"type\":\"scatterpolar\",\"marker\":{\"colorbar\":{\"outlinewidth\":0,\"ticks\":\"\"}}}],\"histogram\":[{\"marker\":{\"pattern\":{\"fillmode\":\"overlay\",\"size\":10,\"solidity\":0.2}},\"type\":\"histogram\"}],\"scattergl\":[{\"type\":\"scattergl\",\"marker\":{\"colorbar\":{\"outlinewidth\":0,\"ticks\":\"\"}}}],\"scatter3d\":[{\"type\":\"scatter3d\",\"line\":{\"colorbar\":{\"outlinewidth\":0,\"ticks\":\"\"}},\"marker\":{\"colorbar\":{\"outlinewidth\":0,\"ticks\":\"\"}}}],\"scattermapbox\":[{\"type\":\"scattermapbox\",\"marker\":{\"colorbar\":{\"outlinewidth\":0,\"ticks\":\"\"}}}],\"scatterternary\":[{\"type\":\"scatterternary\",\"marker\":{\"colorbar\":{\"outlinewidth\":0,\"ticks\":\"\"}}}],\"scattercarpet\":[{\"type\":\"scattercarpet\",\"marker\":{\"colorbar\":{\"outlinewidth\":0,\"ticks\":\"\"}}}],\"carpet\":[{\"aaxis\":{\"endlinecolor\":\"#2a3f5f\",\"gridcolor\":\"white\",\"linecolor\":\"white\",\"minorgridcolor\":\"white\",\"startlinecolor\":\"#2a3f5f\"},\"baxis\":{\"endlinecolor\":\"#2a3f5f\",\"gridcolor\":\"white\",\"linecolor\":\"white\",\"minorgridcolor\":\"white\",\"startlinecolor\":\"#2a3f5f\"},\"type\":\"carpet\"}],\"table\":[{\"cells\":{\"fill\":{\"color\":\"#EBF0F8\"},\"line\":{\"color\":\"white\"}},\"header\":{\"fill\":{\"color\":\"#C8D4E3\"},\"line\":{\"color\":\"white\"}},\"type\":\"table\"}],\"barpolar\":[{\"marker\":{\"line\":{\"color\":\"#E5ECF6\",\"width\":0.5},\"pattern\":{\"fillmode\":\"overlay\",\"size\":10,\"solidity\":0.2}},\"type\":\"barpolar\"}],\"pie\":[{\"automargin\":true,\"type\":\"pie\"}]},\"layout\":{\"autotypenumbers\":\"strict\",\"colorway\":[\"#636efa\",\"#EF553B\",\"#00cc96\",\"#ab63fa\",\"#FFA15A\",\"#19d3f3\",\"#FF6692\",\"#B6E880\",\"#FF97FF\",\"#FECB52\"],\"font\":{\"color\":\"#2a3f5f\"},\"hovermode\":\"closest\",\"hoverlabel\":{\"align\":\"left\"},\"paper_bgcolor\":\"white\",\"plot_bgcolor\":\"#E5ECF6\",\"polar\":{\"bgcolor\":\"#E5ECF6\",\"angularaxis\":{\"gridcolor\":\"white\",\"linecolor\":\"white\",\"ticks\":\"\"},\"radialaxis\":{\"gridcolor\":\"white\",\"linecolor\":\"white\",\"ticks\":\"\"}},\"ternary\":{\"bgcolor\":\"#E5ECF6\",\"aaxis\":{\"gridcolor\":\"white\",\"linecolor\":\"white\",\"ticks\":\"\"},\"baxis\":{\"gridcolor\":\"white\",\"linecolor\":\"white\",\"ticks\":\"\"},\"caxis\":{\"gridcolor\":\"white\",\"linecolor\":\"white\",\"ticks\":\"\"}},\"coloraxis\":{\"colorbar\":{\"outlinewidth\":0,\"ticks\":\"\"}},\"colorscale\":{\"sequential\":[[0.0,\"#0d0887\"],[0.1111111111111111,\"#46039f\"],[0.2222222222222222,\"#7201a8\"],[0.3333333333333333,\"#9c179e\"],[0.4444444444444444,\"#bd3786\"],[0.5555555555555556,\"#d8576b\"],[0.6666666666666666,\"#ed7953\"],[0.7777777777777778,\"#fb9f3a\"],[0.8888888888888888,\"#fdca26\"],[1.0,\"#f0f921\"]],\"sequentialminus\":[[0.0,\"#0d0887\"],[0.1111111111111111,\"#46039f\"],[0.2222222222222222,\"#7201a8\"],[0.3333333333333333,\"#9c179e\"],[0.4444444444444444,\"#bd3786\"],[0.5555555555555556,\"#d8576b\"],[0.6666666666666666,\"#ed7953\"],[0.7777777777777778,\"#fb9f3a\"],[0.8888888888888888,\"#fdca26\"],[1.0,\"#f0f921\"]],\"diverging\":[[0,\"#8e0152\"],[0.1,\"#c51b7d\"],[0.2,\"#de77ae\"],[0.3,\"#f1b6da\"],[0.4,\"#fde0ef\"],[0.5,\"#f7f7f7\"],[0.6,\"#e6f5d0\"],[0.7,\"#b8e186\"],[0.8,\"#7fbc41\"],[0.9,\"#4d9221\"],[1,\"#276419\"]]},\"xaxis\":{\"gridcolor\":\"white\",\"linecolor\":\"white\",\"ticks\":\"\",\"title\":{\"standoff\":15},\"zerolinecolor\":\"white\",\"automargin\":true,\"zerolinewidth\":2},\"yaxis\":{\"gridcolor\":\"white\",\"linecolor\":\"white\",\"ticks\":\"\",\"title\":{\"standoff\":15},\"zerolinecolor\":\"white\",\"automargin\":true,\"zerolinewidth\":2},\"scene\":{\"xaxis\":{\"backgroundcolor\":\"#E5ECF6\",\"gridcolor\":\"white\",\"linecolor\":\"white\",\"showbackground\":true,\"ticks\":\"\",\"zerolinecolor\":\"white\",\"gridwidth\":2},\"yaxis\":{\"backgroundcolor\":\"#E5ECF6\",\"gridcolor\":\"white\",\"linecolor\":\"white\",\"showbackground\":true,\"ticks\":\"\",\"zerolinecolor\":\"white\",\"gridwidth\":2},\"zaxis\":{\"backgroundcolor\":\"#E5ECF6\",\"gridcolor\":\"white\",\"linecolor\":\"white\",\"showbackground\":true,\"ticks\":\"\",\"zerolinecolor\":\"white\",\"gridwidth\":2}},\"shapedefaults\":{\"line\":{\"color\":\"#2a3f5f\"}},\"annotationdefaults\":{\"arrowcolor\":\"#2a3f5f\",\"arrowhead\":0,\"arrowwidth\":1},\"geo\":{\"bgcolor\":\"white\",\"landcolor\":\"#E5ECF6\",\"subunitcolor\":\"white\",\"showland\":true,\"showlakes\":true,\"lakecolor\":\"white\"},\"title\":{\"x\":0.05},\"mapbox\":{\"style\":\"light\"}}},\"xaxis\":{\"anchor\":\"y\",\"domain\":[0.0,1.0],\"title\":{\"text\":\"prob_sebi_features\"}},\"yaxis\":{\"anchor\":\"x\",\"domain\":[0.0,1.0],\"title\":{\"text\":\"count\"}},\"legend\":{\"title\":{\"text\":\"bioactivity\"},\"tracegroupgap\":0},\"margin\":{\"t\":60},\"barmode\":\"relative\",\"width\":700},                        {\"responsive\": true}                    ).then(function(){\n",
       "                            \n",
       "var gd = document.getElementById('1f256c20-9e4d-4f59-ac23-edec89df7ca7');\n",
       "var x = new MutationObserver(function (mutations, observer) {{\n",
       "        var display = window.getComputedStyle(gd).display;\n",
       "        if (!display || display === 'none') {{\n",
       "            console.log([gd, 'removed!']);\n",
       "            Plotly.purge(gd);\n",
       "            observer.disconnect();\n",
       "        }}\n",
       "}});\n",
       "\n",
       "// Listen for the removal of the full notebook cells\n",
       "var notebookContainer = gd.closest('#notebook-container');\n",
       "if (notebookContainer) {{\n",
       "    x.observe(notebookContainer, {childList: true});\n",
       "}}\n",
       "\n",
       "// Listen for the clearing of the current output cell\n",
       "var outputEl = gd.closest('.output');\n",
       "if (outputEl) {{\n",
       "    x.observe(outputEl, {childList: true});\n",
       "}}\n",
       "\n",
       "                        })                };                });            </script>        </div>"
      ]
     },
     "metadata": {},
     "output_type": "display_data"
    }
   ],
   "source": [
    "import plotly.express as px\n",
    "\n",
    "px.histogram(comparacion,\"prob_sebi_features\",color=\"bioactivity\",nbins=50,width=700)"
   ]
  },
  {
   "cell_type": "code",
   "execution_count": 22,
   "metadata": {},
   "outputs": [
    {
     "data": {
      "application/vnd.plotly.v1+json": {
       "config": {
        "plotlyServerURL": "https://plot.ly"
       },
       "data": [
        {
         "alignmentgroup": "True",
         "bingroup": "x",
         "hovertemplate": "bioactivity=0<br>prob_sebi=%{x}<br>count=%{y}<extra></extra>",
         "legendgroup": "0",
         "marker": {
          "color": "#636efa",
          "pattern": {
           "shape": ""
          }
         },
         "name": "0",
         "nbinsx": 50,
         "offsetgroup": "0",
         "orientation": "v",
         "showlegend": true,
         "type": "histogram",
         "x": [
          0.32888755,
          0.0015710024,
          0.9981059,
          0.00743075,
          0.0056747193,
          0.008042613,
          0.31657404,
          0.012551111,
          0.00027767572,
          0.011895289,
          0.1837613,
          0.9941691,
          0.070264995,
          0.9936627,
          0.0021468848,
          0.074132115,
          0.002063093,
          0.72826976,
          0.27056497,
          0.002814056,
          0.0022120955,
          0.020305729,
          0.07452837,
          0.018701272,
          0.4186649,
          0.3547855,
          0.02242626,
          0.0066248593,
          0.028630685,
          0.039919432,
          0.9043861,
          0.9319197,
          0.99684215,
          0.00010408392,
          0.000307864,
          0.004571186,
          0.0004374503,
          0.0002866411,
          0.008538806,
          0.00030366165,
          0.0003579415,
          0.3798875,
          0.0022536179,
          0.0012888813,
          0.00009418451,
          0.00016555013,
          0.99937755,
          0.079964615,
          0.97960097,
          0.9558515,
          0.55871904,
          0.1470223,
          0.21443993,
          0.39563987,
          0.034564316,
          0.04952738,
          0.0008383081,
          0.0010799051,
          0.99833834,
          0.000288552,
          0.008243322,
          0.00054399285,
          0.937765,
          0.99836606,
          0.008358077,
          0.015579222,
          0.026181543,
          0.9985267,
          0.015022041,
          0.0287427,
          0.29072565,
          0.047681756,
          0.0012879991,
          0.85991,
          0.7677295,
          0.968566,
          0.022825237,
          0.011167448,
          0.01798807,
          0.6751362,
          0.019913029,
          0.0035979813,
          0.00423214,
          0.0050365245,
          0.0072699976,
          0.0055886135,
          0.9982343,
          0.9048121,
          0.00006496941,
          0.027028332,
          0.80295116,
          0.0005660602,
          0.0018313812,
          0.0003939487,
          0.00056994834,
          0.011092557,
          0.0013397472,
          0.0005971813,
          0.01035555,
          0.0008872636,
          0.30500585,
          0.000098605386,
          0.018062705,
          0.17147692,
          0.079960525,
          0.0073541347,
          0.0018797653,
          0.00032564063,
          0.5238341,
          0.0043586576,
          0.8631811,
          0.000011750819,
          0.11338365,
          0.011295261,
          0.00012163615,
          0.51075464,
          0.97615767,
          0.77707726,
          0.02760241,
          0.81874895,
          0.51366454,
          0.31236348,
          0.4259812,
          0.0019658979,
          0.021504235,
          0.99555403,
          0.01257948,
          0.9994491,
          0.41092548,
          0.9509624,
          0.24771519,
          0.026135636,
          0.073154315,
          0.0005525597,
          0.11617969,
          0.7678611,
          0.90278286,
          0.9857449,
          0.9991365,
          0.99945766,
          0.99995756,
          0.9999552,
          0.22130248,
          0.99938095,
          0.9960551,
          0.0031257637,
          0.00022718911,
          0.0008269035,
          0.0058104102,
          0.0019055216,
          0.0003370135,
          0.00074222585,
          0.1080618,
          0.007789932,
          0.06405322,
          0.0035953408,
          0.074311204,
          0.004069131,
          0.008256661,
          0.0008900002,
          0.0016821009,
          0.030322233,
          0.004457956,
          0.00025721776,
          0.9999217,
          0.024773996,
          0.35765606,
          0.9998253,
          0.52143586,
          0.75317705,
          0.8172207,
          0.0004982048,
          0.9999254,
          0.0032495416,
          0.41602904,
          0.064481795,
          0.0023189932,
          0.004931076,
          0.71578276,
          0.007109066,
          0.0020013493,
          0.43491757,
          0.14212683,
          0.79775023,
          0.8584332,
          0.006979334,
          0.01887652,
          0.8970952,
          0.00034692898,
          0.043350447,
          0.004759494,
          0.0004441049,
          0.00032391262,
          0.990914,
          0.662249,
          0.9983979,
          0.93965274,
          0.00045596805,
          0.0016421715,
          0.000054412725,
          0.19793117,
          0.9999019,
          0.8665996,
          0.018256718,
          0.000681099,
          0.0011323818,
          0.000106597276,
          0.010389829
         ],
         "xaxis": "x",
         "yaxis": "y"
        },
        {
         "alignmentgroup": "True",
         "bingroup": "x",
         "hovertemplate": "bioactivity=1<br>prob_sebi=%{x}<br>count=%{y}<extra></extra>",
         "legendgroup": "1",
         "marker": {
          "color": "#EF553B",
          "pattern": {
           "shape": ""
          }
         },
         "name": "1",
         "nbinsx": 50,
         "offsetgroup": "1",
         "orientation": "v",
         "showlegend": true,
         "type": "histogram",
         "x": [
          0.999326,
          0.99991834,
          0.9997937,
          0.99982625,
          0.9999994,
          0.9999908,
          0.9999958,
          0.9998658,
          0.9999076,
          0.9991234,
          0.9801578,
          0.9999988,
          0.99629706,
          0.99999464,
          0.9999404,
          0.9998153,
          0.9997416,
          0.99996054,
          0.9362406,
          0.44027358,
          0.00022608209,
          0.999915,
          0.9998909,
          0.99512464,
          0.9681861,
          0.9929281,
          0.98247415,
          0.99155056,
          0.9997521,
          0.999038,
          0.08872282,
          0.98535687,
          0.9991805,
          0.041776348,
          0.99657047,
          0.99978596,
          0.9999987,
          0.99901986,
          0.9921713,
          0.9999136,
          0.99998426,
          0.9999051,
          0.99954945,
          0.9911917,
          0.0008867033,
          0.17618896,
          0.99963427,
          0.29627764,
          0.99899703,
          0.7242611,
          0.5357537,
          0.9883008,
          0.8700382,
          0.8452909,
          0.99993455,
          0.88048357,
          0.99990344,
          0.1116889,
          0.003951241,
          0.015086134,
          0.035838008,
          0.007080296,
          0.53506225,
          0.021266693,
          0.423618,
          0.9999784,
          0.9999654,
          0.9999964,
          0.00081538165,
          0.9983469,
          0.9988636,
          0.8418928,
          0.99961495,
          0.99924207,
          0.9668832,
          0.99969196,
          0.9998957,
          0.9896807,
          0.6812908,
          0.8412196,
          0.99461323,
          0.021269454,
          0.9727672,
          0.9999403,
          0.9998242,
          0.993507,
          0.9960091,
          0.9396777,
          0.9987727,
          0.99961495,
          0.25979304,
          0.9987294,
          0.99993026,
          0.99615073,
          0.99869186,
          0.99989474,
          0.0023225017,
          0.9959986,
          0.3950732,
          0.9999044,
          0.9999573,
          0.998696,
          0.99575555,
          0.99998844,
          0.9737299,
          0.9960978,
          0.9992322,
          0.9600705,
          0.33046144,
          0.73928165,
          0.892738,
          0.00036786983,
          0.025719034,
          0.0010581153,
          0.99991703,
          0.98000056,
          0.99951947,
          0.0058106193,
          0.0015639673,
          0.9341938,
          0.9481273
         ],
         "xaxis": "x",
         "yaxis": "y"
        }
       ],
       "layout": {
        "barmode": "relative",
        "legend": {
         "title": {
          "text": "bioactivity"
         },
         "tracegroupgap": 0
        },
        "margin": {
         "t": 60
        },
        "template": {
         "data": {
          "bar": [
           {
            "error_x": {
             "color": "#2a3f5f"
            },
            "error_y": {
             "color": "#2a3f5f"
            },
            "marker": {
             "line": {
              "color": "#E5ECF6",
              "width": 0.5
             },
             "pattern": {
              "fillmode": "overlay",
              "size": 10,
              "solidity": 0.2
             }
            },
            "type": "bar"
           }
          ],
          "barpolar": [
           {
            "marker": {
             "line": {
              "color": "#E5ECF6",
              "width": 0.5
             },
             "pattern": {
              "fillmode": "overlay",
              "size": 10,
              "solidity": 0.2
             }
            },
            "type": "barpolar"
           }
          ],
          "carpet": [
           {
            "aaxis": {
             "endlinecolor": "#2a3f5f",
             "gridcolor": "white",
             "linecolor": "white",
             "minorgridcolor": "white",
             "startlinecolor": "#2a3f5f"
            },
            "baxis": {
             "endlinecolor": "#2a3f5f",
             "gridcolor": "white",
             "linecolor": "white",
             "minorgridcolor": "white",
             "startlinecolor": "#2a3f5f"
            },
            "type": "carpet"
           }
          ],
          "choropleth": [
           {
            "colorbar": {
             "outlinewidth": 0,
             "ticks": ""
            },
            "type": "choropleth"
           }
          ],
          "contour": [
           {
            "colorbar": {
             "outlinewidth": 0,
             "ticks": ""
            },
            "colorscale": [
             [
              0,
              "#0d0887"
             ],
             [
              0.1111111111111111,
              "#46039f"
             ],
             [
              0.2222222222222222,
              "#7201a8"
             ],
             [
              0.3333333333333333,
              "#9c179e"
             ],
             [
              0.4444444444444444,
              "#bd3786"
             ],
             [
              0.5555555555555556,
              "#d8576b"
             ],
             [
              0.6666666666666666,
              "#ed7953"
             ],
             [
              0.7777777777777778,
              "#fb9f3a"
             ],
             [
              0.8888888888888888,
              "#fdca26"
             ],
             [
              1,
              "#f0f921"
             ]
            ],
            "type": "contour"
           }
          ],
          "contourcarpet": [
           {
            "colorbar": {
             "outlinewidth": 0,
             "ticks": ""
            },
            "type": "contourcarpet"
           }
          ],
          "heatmap": [
           {
            "colorbar": {
             "outlinewidth": 0,
             "ticks": ""
            },
            "colorscale": [
             [
              0,
              "#0d0887"
             ],
             [
              0.1111111111111111,
              "#46039f"
             ],
             [
              0.2222222222222222,
              "#7201a8"
             ],
             [
              0.3333333333333333,
              "#9c179e"
             ],
             [
              0.4444444444444444,
              "#bd3786"
             ],
             [
              0.5555555555555556,
              "#d8576b"
             ],
             [
              0.6666666666666666,
              "#ed7953"
             ],
             [
              0.7777777777777778,
              "#fb9f3a"
             ],
             [
              0.8888888888888888,
              "#fdca26"
             ],
             [
              1,
              "#f0f921"
             ]
            ],
            "type": "heatmap"
           }
          ],
          "heatmapgl": [
           {
            "colorbar": {
             "outlinewidth": 0,
             "ticks": ""
            },
            "colorscale": [
             [
              0,
              "#0d0887"
             ],
             [
              0.1111111111111111,
              "#46039f"
             ],
             [
              0.2222222222222222,
              "#7201a8"
             ],
             [
              0.3333333333333333,
              "#9c179e"
             ],
             [
              0.4444444444444444,
              "#bd3786"
             ],
             [
              0.5555555555555556,
              "#d8576b"
             ],
             [
              0.6666666666666666,
              "#ed7953"
             ],
             [
              0.7777777777777778,
              "#fb9f3a"
             ],
             [
              0.8888888888888888,
              "#fdca26"
             ],
             [
              1,
              "#f0f921"
             ]
            ],
            "type": "heatmapgl"
           }
          ],
          "histogram": [
           {
            "marker": {
             "pattern": {
              "fillmode": "overlay",
              "size": 10,
              "solidity": 0.2
             }
            },
            "type": "histogram"
           }
          ],
          "histogram2d": [
           {
            "colorbar": {
             "outlinewidth": 0,
             "ticks": ""
            },
            "colorscale": [
             [
              0,
              "#0d0887"
             ],
             [
              0.1111111111111111,
              "#46039f"
             ],
             [
              0.2222222222222222,
              "#7201a8"
             ],
             [
              0.3333333333333333,
              "#9c179e"
             ],
             [
              0.4444444444444444,
              "#bd3786"
             ],
             [
              0.5555555555555556,
              "#d8576b"
             ],
             [
              0.6666666666666666,
              "#ed7953"
             ],
             [
              0.7777777777777778,
              "#fb9f3a"
             ],
             [
              0.8888888888888888,
              "#fdca26"
             ],
             [
              1,
              "#f0f921"
             ]
            ],
            "type": "histogram2d"
           }
          ],
          "histogram2dcontour": [
           {
            "colorbar": {
             "outlinewidth": 0,
             "ticks": ""
            },
            "colorscale": [
             [
              0,
              "#0d0887"
             ],
             [
              0.1111111111111111,
              "#46039f"
             ],
             [
              0.2222222222222222,
              "#7201a8"
             ],
             [
              0.3333333333333333,
              "#9c179e"
             ],
             [
              0.4444444444444444,
              "#bd3786"
             ],
             [
              0.5555555555555556,
              "#d8576b"
             ],
             [
              0.6666666666666666,
              "#ed7953"
             ],
             [
              0.7777777777777778,
              "#fb9f3a"
             ],
             [
              0.8888888888888888,
              "#fdca26"
             ],
             [
              1,
              "#f0f921"
             ]
            ],
            "type": "histogram2dcontour"
           }
          ],
          "mesh3d": [
           {
            "colorbar": {
             "outlinewidth": 0,
             "ticks": ""
            },
            "type": "mesh3d"
           }
          ],
          "parcoords": [
           {
            "line": {
             "colorbar": {
              "outlinewidth": 0,
              "ticks": ""
             }
            },
            "type": "parcoords"
           }
          ],
          "pie": [
           {
            "automargin": true,
            "type": "pie"
           }
          ],
          "scatter": [
           {
            "fillpattern": {
             "fillmode": "overlay",
             "size": 10,
             "solidity": 0.2
            },
            "type": "scatter"
           }
          ],
          "scatter3d": [
           {
            "line": {
             "colorbar": {
              "outlinewidth": 0,
              "ticks": ""
             }
            },
            "marker": {
             "colorbar": {
              "outlinewidth": 0,
              "ticks": ""
             }
            },
            "type": "scatter3d"
           }
          ],
          "scattercarpet": [
           {
            "marker": {
             "colorbar": {
              "outlinewidth": 0,
              "ticks": ""
             }
            },
            "type": "scattercarpet"
           }
          ],
          "scattergeo": [
           {
            "marker": {
             "colorbar": {
              "outlinewidth": 0,
              "ticks": ""
             }
            },
            "type": "scattergeo"
           }
          ],
          "scattergl": [
           {
            "marker": {
             "colorbar": {
              "outlinewidth": 0,
              "ticks": ""
             }
            },
            "type": "scattergl"
           }
          ],
          "scattermapbox": [
           {
            "marker": {
             "colorbar": {
              "outlinewidth": 0,
              "ticks": ""
             }
            },
            "type": "scattermapbox"
           }
          ],
          "scatterpolar": [
           {
            "marker": {
             "colorbar": {
              "outlinewidth": 0,
              "ticks": ""
             }
            },
            "type": "scatterpolar"
           }
          ],
          "scatterpolargl": [
           {
            "marker": {
             "colorbar": {
              "outlinewidth": 0,
              "ticks": ""
             }
            },
            "type": "scatterpolargl"
           }
          ],
          "scatterternary": [
           {
            "marker": {
             "colorbar": {
              "outlinewidth": 0,
              "ticks": ""
             }
            },
            "type": "scatterternary"
           }
          ],
          "surface": [
           {
            "colorbar": {
             "outlinewidth": 0,
             "ticks": ""
            },
            "colorscale": [
             [
              0,
              "#0d0887"
             ],
             [
              0.1111111111111111,
              "#46039f"
             ],
             [
              0.2222222222222222,
              "#7201a8"
             ],
             [
              0.3333333333333333,
              "#9c179e"
             ],
             [
              0.4444444444444444,
              "#bd3786"
             ],
             [
              0.5555555555555556,
              "#d8576b"
             ],
             [
              0.6666666666666666,
              "#ed7953"
             ],
             [
              0.7777777777777778,
              "#fb9f3a"
             ],
             [
              0.8888888888888888,
              "#fdca26"
             ],
             [
              1,
              "#f0f921"
             ]
            ],
            "type": "surface"
           }
          ],
          "table": [
           {
            "cells": {
             "fill": {
              "color": "#EBF0F8"
             },
             "line": {
              "color": "white"
             }
            },
            "header": {
             "fill": {
              "color": "#C8D4E3"
             },
             "line": {
              "color": "white"
             }
            },
            "type": "table"
           }
          ]
         },
         "layout": {
          "annotationdefaults": {
           "arrowcolor": "#2a3f5f",
           "arrowhead": 0,
           "arrowwidth": 1
          },
          "autotypenumbers": "strict",
          "coloraxis": {
           "colorbar": {
            "outlinewidth": 0,
            "ticks": ""
           }
          },
          "colorscale": {
           "diverging": [
            [
             0,
             "#8e0152"
            ],
            [
             0.1,
             "#c51b7d"
            ],
            [
             0.2,
             "#de77ae"
            ],
            [
             0.3,
             "#f1b6da"
            ],
            [
             0.4,
             "#fde0ef"
            ],
            [
             0.5,
             "#f7f7f7"
            ],
            [
             0.6,
             "#e6f5d0"
            ],
            [
             0.7,
             "#b8e186"
            ],
            [
             0.8,
             "#7fbc41"
            ],
            [
             0.9,
             "#4d9221"
            ],
            [
             1,
             "#276419"
            ]
           ],
           "sequential": [
            [
             0,
             "#0d0887"
            ],
            [
             0.1111111111111111,
             "#46039f"
            ],
            [
             0.2222222222222222,
             "#7201a8"
            ],
            [
             0.3333333333333333,
             "#9c179e"
            ],
            [
             0.4444444444444444,
             "#bd3786"
            ],
            [
             0.5555555555555556,
             "#d8576b"
            ],
            [
             0.6666666666666666,
             "#ed7953"
            ],
            [
             0.7777777777777778,
             "#fb9f3a"
            ],
            [
             0.8888888888888888,
             "#fdca26"
            ],
            [
             1,
             "#f0f921"
            ]
           ],
           "sequentialminus": [
            [
             0,
             "#0d0887"
            ],
            [
             0.1111111111111111,
             "#46039f"
            ],
            [
             0.2222222222222222,
             "#7201a8"
            ],
            [
             0.3333333333333333,
             "#9c179e"
            ],
            [
             0.4444444444444444,
             "#bd3786"
            ],
            [
             0.5555555555555556,
             "#d8576b"
            ],
            [
             0.6666666666666666,
             "#ed7953"
            ],
            [
             0.7777777777777778,
             "#fb9f3a"
            ],
            [
             0.8888888888888888,
             "#fdca26"
            ],
            [
             1,
             "#f0f921"
            ]
           ]
          },
          "colorway": [
           "#636efa",
           "#EF553B",
           "#00cc96",
           "#ab63fa",
           "#FFA15A",
           "#19d3f3",
           "#FF6692",
           "#B6E880",
           "#FF97FF",
           "#FECB52"
          ],
          "font": {
           "color": "#2a3f5f"
          },
          "geo": {
           "bgcolor": "white",
           "lakecolor": "white",
           "landcolor": "#E5ECF6",
           "showlakes": true,
           "showland": true,
           "subunitcolor": "white"
          },
          "hoverlabel": {
           "align": "left"
          },
          "hovermode": "closest",
          "mapbox": {
           "style": "light"
          },
          "paper_bgcolor": "white",
          "plot_bgcolor": "#E5ECF6",
          "polar": {
           "angularaxis": {
            "gridcolor": "white",
            "linecolor": "white",
            "ticks": ""
           },
           "bgcolor": "#E5ECF6",
           "radialaxis": {
            "gridcolor": "white",
            "linecolor": "white",
            "ticks": ""
           }
          },
          "scene": {
           "xaxis": {
            "backgroundcolor": "#E5ECF6",
            "gridcolor": "white",
            "gridwidth": 2,
            "linecolor": "white",
            "showbackground": true,
            "ticks": "",
            "zerolinecolor": "white"
           },
           "yaxis": {
            "backgroundcolor": "#E5ECF6",
            "gridcolor": "white",
            "gridwidth": 2,
            "linecolor": "white",
            "showbackground": true,
            "ticks": "",
            "zerolinecolor": "white"
           },
           "zaxis": {
            "backgroundcolor": "#E5ECF6",
            "gridcolor": "white",
            "gridwidth": 2,
            "linecolor": "white",
            "showbackground": true,
            "ticks": "",
            "zerolinecolor": "white"
           }
          },
          "shapedefaults": {
           "line": {
            "color": "#2a3f5f"
           }
          },
          "ternary": {
           "aaxis": {
            "gridcolor": "white",
            "linecolor": "white",
            "ticks": ""
           },
           "baxis": {
            "gridcolor": "white",
            "linecolor": "white",
            "ticks": ""
           },
           "bgcolor": "#E5ECF6",
           "caxis": {
            "gridcolor": "white",
            "linecolor": "white",
            "ticks": ""
           }
          },
          "title": {
           "x": 0.05
          },
          "xaxis": {
           "automargin": true,
           "gridcolor": "white",
           "linecolor": "white",
           "ticks": "",
           "title": {
            "standoff": 15
           },
           "zerolinecolor": "white",
           "zerolinewidth": 2
          },
          "yaxis": {
           "automargin": true,
           "gridcolor": "white",
           "linecolor": "white",
           "ticks": "",
           "title": {
            "standoff": 15
           },
           "zerolinecolor": "white",
           "zerolinewidth": 2
          }
         }
        },
        "width": 700,
        "xaxis": {
         "anchor": "y",
         "domain": [
          0,
          1
         ],
         "title": {
          "text": "prob_sebi"
         }
        },
        "yaxis": {
         "anchor": "x",
         "domain": [
          0,
          1
         ],
         "title": {
          "text": "count"
         }
        }
       }
      },
      "text/html": [
       "<div>                            <div id=\"7f7a4913-4914-4772-900f-1ac9149cd9c6\" class=\"plotly-graph-div\" style=\"height:525px; width:700px;\"></div>            <script type=\"text/javascript\">                require([\"plotly\"], function(Plotly) {                    window.PLOTLYENV=window.PLOTLYENV || {};                                    if (document.getElementById(\"7f7a4913-4914-4772-900f-1ac9149cd9c6\")) {                    Plotly.newPlot(                        \"7f7a4913-4914-4772-900f-1ac9149cd9c6\",                        [{\"alignmentgroup\":\"True\",\"bingroup\":\"x\",\"hovertemplate\":\"bioactivity=0\\u003cbr\\u003eprob_sebi=%{x}\\u003cbr\\u003ecount=%{y}\\u003cextra\\u003e\\u003c\\u002fextra\\u003e\",\"legendgroup\":\"0\",\"marker\":{\"color\":\"#636efa\",\"pattern\":{\"shape\":\"\"}},\"name\":\"0\",\"nbinsx\":50,\"offsetgroup\":\"0\",\"orientation\":\"v\",\"showlegend\":true,\"x\":[0.32888755,0.0015710024,0.9981059,0.00743075,0.0056747193,0.008042613,0.31657404,0.012551111,0.00027767572,0.011895289,0.1837613,0.9941691,0.070264995,0.9936627,0.0021468848,0.074132115,0.002063093,0.72826976,0.27056497,0.002814056,0.0022120955,0.020305729,0.07452837,0.018701272,0.4186649,0.3547855,0.02242626,0.0066248593,0.028630685,0.039919432,0.9043861,0.9319197,0.99684215,0.00010408392,0.000307864,0.004571186,0.0004374503,0.0002866411,0.008538806,0.00030366165,0.0003579415,0.3798875,0.0022536179,0.0012888813,9.418451e-05,0.00016555013,0.99937755,0.079964615,0.97960097,0.9558515,0.55871904,0.1470223,0.21443993,0.39563987,0.034564316,0.04952738,0.0008383081,0.0010799051,0.99833834,0.000288552,0.008243322,0.00054399285,0.937765,0.99836606,0.008358077,0.015579222,0.026181543,0.9985267,0.015022041,0.0287427,0.29072565,0.047681756,0.0012879991,0.85991,0.7677295,0.968566,0.022825237,0.011167448,0.01798807,0.6751362,0.019913029,0.0035979813,0.00423214,0.0050365245,0.0072699976,0.0055886135,0.9982343,0.9048121,6.496941e-05,0.027028332,0.80295116,0.0005660602,0.0018313812,0.0003939487,0.00056994834,0.011092557,0.0013397472,0.0005971813,0.01035555,0.0008872636,0.30500585,9.8605386e-05,0.018062705,0.17147692,0.079960525,0.0073541347,0.0018797653,0.00032564063,0.5238341,0.0043586576,0.8631811,1.1750819e-05,0.11338365,0.011295261,0.00012163615,0.51075464,0.97615767,0.77707726,0.02760241,0.81874895,0.51366454,0.31236348,0.4259812,0.0019658979,0.021504235,0.99555403,0.01257948,0.9994491,0.41092548,0.9509624,0.24771519,0.026135636,0.073154315,0.0005525597,0.11617969,0.7678611,0.90278286,0.9857449,0.9991365,0.99945766,0.99995756,0.9999552,0.22130248,0.99938095,0.9960551,0.0031257637,0.00022718911,0.0008269035,0.0058104102,0.0019055216,0.0003370135,0.00074222585,0.1080618,0.007789932,0.06405322,0.0035953408,0.074311204,0.004069131,0.008256661,0.0008900002,0.0016821009,0.030322233,0.004457956,0.00025721776,0.9999217,0.024773996,0.35765606,0.9998253,0.52143586,0.75317705,0.8172207,0.0004982048,0.9999254,0.0032495416,0.41602904,0.064481795,0.0023189932,0.004931076,0.71578276,0.007109066,0.0020013493,0.43491757,0.14212683,0.79775023,0.8584332,0.006979334,0.01887652,0.8970952,0.00034692898,0.043350447,0.004759494,0.0004441049,0.00032391262,0.990914,0.662249,0.9983979,0.93965274,0.00045596805,0.0016421715,5.4412725e-05,0.19793117,0.9999019,0.8665996,0.018256718,0.000681099,0.0011323818,0.000106597276,0.010389829],\"xaxis\":\"x\",\"yaxis\":\"y\",\"type\":\"histogram\"},{\"alignmentgroup\":\"True\",\"bingroup\":\"x\",\"hovertemplate\":\"bioactivity=1\\u003cbr\\u003eprob_sebi=%{x}\\u003cbr\\u003ecount=%{y}\\u003cextra\\u003e\\u003c\\u002fextra\\u003e\",\"legendgroup\":\"1\",\"marker\":{\"color\":\"#EF553B\",\"pattern\":{\"shape\":\"\"}},\"name\":\"1\",\"nbinsx\":50,\"offsetgroup\":\"1\",\"orientation\":\"v\",\"showlegend\":true,\"x\":[0.999326,0.99991834,0.9997937,0.99982625,0.9999994,0.9999908,0.9999958,0.9998658,0.9999076,0.9991234,0.9801578,0.9999988,0.99629706,0.99999464,0.9999404,0.9998153,0.9997416,0.99996054,0.9362406,0.44027358,0.00022608209,0.999915,0.9998909,0.99512464,0.9681861,0.9929281,0.98247415,0.99155056,0.9997521,0.999038,0.08872282,0.98535687,0.9991805,0.041776348,0.99657047,0.99978596,0.9999987,0.99901986,0.9921713,0.9999136,0.99998426,0.9999051,0.99954945,0.9911917,0.0008867033,0.17618896,0.99963427,0.29627764,0.99899703,0.7242611,0.5357537,0.9883008,0.8700382,0.8452909,0.99993455,0.88048357,0.99990344,0.1116889,0.003951241,0.015086134,0.035838008,0.007080296,0.53506225,0.021266693,0.423618,0.9999784,0.9999654,0.9999964,0.00081538165,0.9983469,0.9988636,0.8418928,0.99961495,0.99924207,0.9668832,0.99969196,0.9998957,0.9896807,0.6812908,0.8412196,0.99461323,0.021269454,0.9727672,0.9999403,0.9998242,0.993507,0.9960091,0.9396777,0.9987727,0.99961495,0.25979304,0.9987294,0.99993026,0.99615073,0.99869186,0.99989474,0.0023225017,0.9959986,0.3950732,0.9999044,0.9999573,0.998696,0.99575555,0.99998844,0.9737299,0.9960978,0.9992322,0.9600705,0.33046144,0.73928165,0.892738,0.00036786983,0.025719034,0.0010581153,0.99991703,0.98000056,0.99951947,0.0058106193,0.0015639673,0.9341938,0.9481273],\"xaxis\":\"x\",\"yaxis\":\"y\",\"type\":\"histogram\"}],                        {\"template\":{\"data\":{\"histogram2dcontour\":[{\"type\":\"histogram2dcontour\",\"colorbar\":{\"outlinewidth\":0,\"ticks\":\"\"},\"colorscale\":[[0.0,\"#0d0887\"],[0.1111111111111111,\"#46039f\"],[0.2222222222222222,\"#7201a8\"],[0.3333333333333333,\"#9c179e\"],[0.4444444444444444,\"#bd3786\"],[0.5555555555555556,\"#d8576b\"],[0.6666666666666666,\"#ed7953\"],[0.7777777777777778,\"#fb9f3a\"],[0.8888888888888888,\"#fdca26\"],[1.0,\"#f0f921\"]]}],\"choropleth\":[{\"type\":\"choropleth\",\"colorbar\":{\"outlinewidth\":0,\"ticks\":\"\"}}],\"histogram2d\":[{\"type\":\"histogram2d\",\"colorbar\":{\"outlinewidth\":0,\"ticks\":\"\"},\"colorscale\":[[0.0,\"#0d0887\"],[0.1111111111111111,\"#46039f\"],[0.2222222222222222,\"#7201a8\"],[0.3333333333333333,\"#9c179e\"],[0.4444444444444444,\"#bd3786\"],[0.5555555555555556,\"#d8576b\"],[0.6666666666666666,\"#ed7953\"],[0.7777777777777778,\"#fb9f3a\"],[0.8888888888888888,\"#fdca26\"],[1.0,\"#f0f921\"]]}],\"heatmap\":[{\"type\":\"heatmap\",\"colorbar\":{\"outlinewidth\":0,\"ticks\":\"\"},\"colorscale\":[[0.0,\"#0d0887\"],[0.1111111111111111,\"#46039f\"],[0.2222222222222222,\"#7201a8\"],[0.3333333333333333,\"#9c179e\"],[0.4444444444444444,\"#bd3786\"],[0.5555555555555556,\"#d8576b\"],[0.6666666666666666,\"#ed7953\"],[0.7777777777777778,\"#fb9f3a\"],[0.8888888888888888,\"#fdca26\"],[1.0,\"#f0f921\"]]}],\"heatmapgl\":[{\"type\":\"heatmapgl\",\"colorbar\":{\"outlinewidth\":0,\"ticks\":\"\"},\"colorscale\":[[0.0,\"#0d0887\"],[0.1111111111111111,\"#46039f\"],[0.2222222222222222,\"#7201a8\"],[0.3333333333333333,\"#9c179e\"],[0.4444444444444444,\"#bd3786\"],[0.5555555555555556,\"#d8576b\"],[0.6666666666666666,\"#ed7953\"],[0.7777777777777778,\"#fb9f3a\"],[0.8888888888888888,\"#fdca26\"],[1.0,\"#f0f921\"]]}],\"contourcarpet\":[{\"type\":\"contourcarpet\",\"colorbar\":{\"outlinewidth\":0,\"ticks\":\"\"}}],\"contour\":[{\"type\":\"contour\",\"colorbar\":{\"outlinewidth\":0,\"ticks\":\"\"},\"colorscale\":[[0.0,\"#0d0887\"],[0.1111111111111111,\"#46039f\"],[0.2222222222222222,\"#7201a8\"],[0.3333333333333333,\"#9c179e\"],[0.4444444444444444,\"#bd3786\"],[0.5555555555555556,\"#d8576b\"],[0.6666666666666666,\"#ed7953\"],[0.7777777777777778,\"#fb9f3a\"],[0.8888888888888888,\"#fdca26\"],[1.0,\"#f0f921\"]]}],\"surface\":[{\"type\":\"surface\",\"colorbar\":{\"outlinewidth\":0,\"ticks\":\"\"},\"colorscale\":[[0.0,\"#0d0887\"],[0.1111111111111111,\"#46039f\"],[0.2222222222222222,\"#7201a8\"],[0.3333333333333333,\"#9c179e\"],[0.4444444444444444,\"#bd3786\"],[0.5555555555555556,\"#d8576b\"],[0.6666666666666666,\"#ed7953\"],[0.7777777777777778,\"#fb9f3a\"],[0.8888888888888888,\"#fdca26\"],[1.0,\"#f0f921\"]]}],\"mesh3d\":[{\"type\":\"mesh3d\",\"colorbar\":{\"outlinewidth\":0,\"ticks\":\"\"}}],\"scatter\":[{\"fillpattern\":{\"fillmode\":\"overlay\",\"size\":10,\"solidity\":0.2},\"type\":\"scatter\"}],\"parcoords\":[{\"type\":\"parcoords\",\"line\":{\"colorbar\":{\"outlinewidth\":0,\"ticks\":\"\"}}}],\"scatterpolargl\":[{\"type\":\"scatterpolargl\",\"marker\":{\"colorbar\":{\"outlinewidth\":0,\"ticks\":\"\"}}}],\"bar\":[{\"error_x\":{\"color\":\"#2a3f5f\"},\"error_y\":{\"color\":\"#2a3f5f\"},\"marker\":{\"line\":{\"color\":\"#E5ECF6\",\"width\":0.5},\"pattern\":{\"fillmode\":\"overlay\",\"size\":10,\"solidity\":0.2}},\"type\":\"bar\"}],\"scattergeo\":[{\"type\":\"scattergeo\",\"marker\":{\"colorbar\":{\"outlinewidth\":0,\"ticks\":\"\"}}}],\"scatterpolar\":[{\"type\":\"scatterpolar\",\"marker\":{\"colorbar\":{\"outlinewidth\":0,\"ticks\":\"\"}}}],\"histogram\":[{\"marker\":{\"pattern\":{\"fillmode\":\"overlay\",\"size\":10,\"solidity\":0.2}},\"type\":\"histogram\"}],\"scattergl\":[{\"type\":\"scattergl\",\"marker\":{\"colorbar\":{\"outlinewidth\":0,\"ticks\":\"\"}}}],\"scatter3d\":[{\"type\":\"scatter3d\",\"line\":{\"colorbar\":{\"outlinewidth\":0,\"ticks\":\"\"}},\"marker\":{\"colorbar\":{\"outlinewidth\":0,\"ticks\":\"\"}}}],\"scattermapbox\":[{\"type\":\"scattermapbox\",\"marker\":{\"colorbar\":{\"outlinewidth\":0,\"ticks\":\"\"}}}],\"scatterternary\":[{\"type\":\"scatterternary\",\"marker\":{\"colorbar\":{\"outlinewidth\":0,\"ticks\":\"\"}}}],\"scattercarpet\":[{\"type\":\"scattercarpet\",\"marker\":{\"colorbar\":{\"outlinewidth\":0,\"ticks\":\"\"}}}],\"carpet\":[{\"aaxis\":{\"endlinecolor\":\"#2a3f5f\",\"gridcolor\":\"white\",\"linecolor\":\"white\",\"minorgridcolor\":\"white\",\"startlinecolor\":\"#2a3f5f\"},\"baxis\":{\"endlinecolor\":\"#2a3f5f\",\"gridcolor\":\"white\",\"linecolor\":\"white\",\"minorgridcolor\":\"white\",\"startlinecolor\":\"#2a3f5f\"},\"type\":\"carpet\"}],\"table\":[{\"cells\":{\"fill\":{\"color\":\"#EBF0F8\"},\"line\":{\"color\":\"white\"}},\"header\":{\"fill\":{\"color\":\"#C8D4E3\"},\"line\":{\"color\":\"white\"}},\"type\":\"table\"}],\"barpolar\":[{\"marker\":{\"line\":{\"color\":\"#E5ECF6\",\"width\":0.5},\"pattern\":{\"fillmode\":\"overlay\",\"size\":10,\"solidity\":0.2}},\"type\":\"barpolar\"}],\"pie\":[{\"automargin\":true,\"type\":\"pie\"}]},\"layout\":{\"autotypenumbers\":\"strict\",\"colorway\":[\"#636efa\",\"#EF553B\",\"#00cc96\",\"#ab63fa\",\"#FFA15A\",\"#19d3f3\",\"#FF6692\",\"#B6E880\",\"#FF97FF\",\"#FECB52\"],\"font\":{\"color\":\"#2a3f5f\"},\"hovermode\":\"closest\",\"hoverlabel\":{\"align\":\"left\"},\"paper_bgcolor\":\"white\",\"plot_bgcolor\":\"#E5ECF6\",\"polar\":{\"bgcolor\":\"#E5ECF6\",\"angularaxis\":{\"gridcolor\":\"white\",\"linecolor\":\"white\",\"ticks\":\"\"},\"radialaxis\":{\"gridcolor\":\"white\",\"linecolor\":\"white\",\"ticks\":\"\"}},\"ternary\":{\"bgcolor\":\"#E5ECF6\",\"aaxis\":{\"gridcolor\":\"white\",\"linecolor\":\"white\",\"ticks\":\"\"},\"baxis\":{\"gridcolor\":\"white\",\"linecolor\":\"white\",\"ticks\":\"\"},\"caxis\":{\"gridcolor\":\"white\",\"linecolor\":\"white\",\"ticks\":\"\"}},\"coloraxis\":{\"colorbar\":{\"outlinewidth\":0,\"ticks\":\"\"}},\"colorscale\":{\"sequential\":[[0.0,\"#0d0887\"],[0.1111111111111111,\"#46039f\"],[0.2222222222222222,\"#7201a8\"],[0.3333333333333333,\"#9c179e\"],[0.4444444444444444,\"#bd3786\"],[0.5555555555555556,\"#d8576b\"],[0.6666666666666666,\"#ed7953\"],[0.7777777777777778,\"#fb9f3a\"],[0.8888888888888888,\"#fdca26\"],[1.0,\"#f0f921\"]],\"sequentialminus\":[[0.0,\"#0d0887\"],[0.1111111111111111,\"#46039f\"],[0.2222222222222222,\"#7201a8\"],[0.3333333333333333,\"#9c179e\"],[0.4444444444444444,\"#bd3786\"],[0.5555555555555556,\"#d8576b\"],[0.6666666666666666,\"#ed7953\"],[0.7777777777777778,\"#fb9f3a\"],[0.8888888888888888,\"#fdca26\"],[1.0,\"#f0f921\"]],\"diverging\":[[0,\"#8e0152\"],[0.1,\"#c51b7d\"],[0.2,\"#de77ae\"],[0.3,\"#f1b6da\"],[0.4,\"#fde0ef\"],[0.5,\"#f7f7f7\"],[0.6,\"#e6f5d0\"],[0.7,\"#b8e186\"],[0.8,\"#7fbc41\"],[0.9,\"#4d9221\"],[1,\"#276419\"]]},\"xaxis\":{\"gridcolor\":\"white\",\"linecolor\":\"white\",\"ticks\":\"\",\"title\":{\"standoff\":15},\"zerolinecolor\":\"white\",\"automargin\":true,\"zerolinewidth\":2},\"yaxis\":{\"gridcolor\":\"white\",\"linecolor\":\"white\",\"ticks\":\"\",\"title\":{\"standoff\":15},\"zerolinecolor\":\"white\",\"automargin\":true,\"zerolinewidth\":2},\"scene\":{\"xaxis\":{\"backgroundcolor\":\"#E5ECF6\",\"gridcolor\":\"white\",\"linecolor\":\"white\",\"showbackground\":true,\"ticks\":\"\",\"zerolinecolor\":\"white\",\"gridwidth\":2},\"yaxis\":{\"backgroundcolor\":\"#E5ECF6\",\"gridcolor\":\"white\",\"linecolor\":\"white\",\"showbackground\":true,\"ticks\":\"\",\"zerolinecolor\":\"white\",\"gridwidth\":2},\"zaxis\":{\"backgroundcolor\":\"#E5ECF6\",\"gridcolor\":\"white\",\"linecolor\":\"white\",\"showbackground\":true,\"ticks\":\"\",\"zerolinecolor\":\"white\",\"gridwidth\":2}},\"shapedefaults\":{\"line\":{\"color\":\"#2a3f5f\"}},\"annotationdefaults\":{\"arrowcolor\":\"#2a3f5f\",\"arrowhead\":0,\"arrowwidth\":1},\"geo\":{\"bgcolor\":\"white\",\"landcolor\":\"#E5ECF6\",\"subunitcolor\":\"white\",\"showland\":true,\"showlakes\":true,\"lakecolor\":\"white\"},\"title\":{\"x\":0.05},\"mapbox\":{\"style\":\"light\"}}},\"xaxis\":{\"anchor\":\"y\",\"domain\":[0.0,1.0],\"title\":{\"text\":\"prob_sebi\"}},\"yaxis\":{\"anchor\":\"x\",\"domain\":[0.0,1.0],\"title\":{\"text\":\"count\"}},\"legend\":{\"title\":{\"text\":\"bioactivity\"},\"tracegroupgap\":0},\"margin\":{\"t\":60},\"barmode\":\"relative\",\"width\":700},                        {\"responsive\": true}                    ).then(function(){\n",
       "                            \n",
       "var gd = document.getElementById('7f7a4913-4914-4772-900f-1ac9149cd9c6');\n",
       "var x = new MutationObserver(function (mutations, observer) {{\n",
       "        var display = window.getComputedStyle(gd).display;\n",
       "        if (!display || display === 'none') {{\n",
       "            console.log([gd, 'removed!']);\n",
       "            Plotly.purge(gd);\n",
       "            observer.disconnect();\n",
       "        }}\n",
       "}});\n",
       "\n",
       "// Listen for the removal of the full notebook cells\n",
       "var notebookContainer = gd.closest('#notebook-container');\n",
       "if (notebookContainer) {{\n",
       "    x.observe(notebookContainer, {childList: true});\n",
       "}}\n",
       "\n",
       "// Listen for the clearing of the current output cell\n",
       "var outputEl = gd.closest('.output');\n",
       "if (outputEl) {{\n",
       "    x.observe(outputEl, {childList: true});\n",
       "}}\n",
       "\n",
       "                        })                };                });            </script>        </div>"
      ]
     },
     "metadata": {},
     "output_type": "display_data"
    }
   ],
   "source": [
    "px.histogram(comparacion,\"prob_sebi\",color=\"bioactivity\",nbins=50,width=700)"
   ]
  },
  {
   "cell_type": "code",
   "execution_count": 32,
   "metadata": {},
   "outputs": [],
   "source": [
    "def auroc_plot(y_true,y_score):\n",
    "    fpr, tpr, thresholds = metrics.roc_curve(y_true, y_score)\n",
    "    fig = px.area(\n",
    "        x=fpr, y=tpr,\n",
    "        title=f'ROC Curve (AUC={metrics.auc(fpr, tpr):.4f} \\t AUC15={metrics.roc_auc_score(y_true,y_score,max_fpr=0.15):.4f})',\n",
    "        labels=dict(x='False Positive Rate', y='True Positive Rate'),\n",
    "        width=700, height=500\n",
    "    )\n",
    "    fig.add_shape(\n",
    "        type='line', line=dict(dash='dash'),\n",
    "        x0=0, x1=1, y0=0, y1=1\n",
    "    )\n",
    "\n",
    "    fig.update_yaxes(scaleanchor=\"x\", scaleratio=1)\n",
    "    fig.update_xaxes(constrain='domain')\n",
    "    fig.show()"
   ]
  },
  {
   "cell_type": "code",
   "execution_count": 33,
   "metadata": {},
   "outputs": [
    {
     "data": {
      "application/vnd.plotly.v1+json": {
       "config": {
        "plotlyServerURL": "https://plot.ly"
       },
       "data": [
        {
         "fillpattern": {
          "shape": ""
         },
         "hovertemplate": "False Positive Rate=%{x}<br>True Positive Rate=%{y}<extra></extra>",
         "legendgroup": "",
         "line": {
          "color": "#636efa"
         },
         "marker": {
          "symbol": "circle"
         },
         "mode": "lines",
         "name": "",
         "orientation": "v",
         "showlegend": false,
         "stackgroup": "1",
         "type": "scatter",
         "x": [
          0,
          0.004807692307692308,
          0.004807692307692308,
          0.009615384615384616,
          0.009615384615384616,
          0.014423076923076924,
          0.014423076923076924,
          0.019230769230769232,
          0.019230769230769232,
          0.02403846153846154,
          0.02403846153846154,
          0.028846153846153848,
          0.028846153846153848,
          0.04326923076923077,
          0.04326923076923077,
          0.04807692307692308,
          0.04807692307692308,
          0.052884615384615384,
          0.052884615384615384,
          0.057692307692307696,
          0.057692307692307696,
          0.0625,
          0.0625,
          0.07211538461538461,
          0.07211538461538461,
          0.08173076923076923,
          0.08173076923076923,
          0.08653846153846154,
          0.08653846153846154,
          0.09134615384615384,
          0.09134615384615384,
          0.09615384615384616,
          0.09615384615384616,
          0.10096153846153846,
          0.10096153846153846,
          0.10576923076923077,
          0.10576923076923077,
          0.11057692307692307,
          0.11057692307692307,
          0.11538461538461539,
          0.11538461538461539,
          0.1201923076923077,
          0.1201923076923077,
          0.125,
          0.125,
          0.12980769230769232,
          0.12980769230769232,
          0.1346153846153846,
          0.1346153846153846,
          0.14423076923076922,
          0.14423076923076922,
          0.17307692307692307,
          0.17307692307692307,
          0.18269230769230768,
          0.18269230769230768,
          0.21634615384615385,
          0.21634615384615385,
          0.22115384615384615,
          0.22115384615384615,
          0.22596153846153846,
          0.22596153846153846,
          0.23076923076923078,
          0.23076923076923078,
          0.25,
          0.25,
          0.30288461538461536,
          0.30288461538461536,
          0.3317307692307692,
          0.3317307692307692,
          0.35096153846153844,
          0.35096153846153844,
          0.3942307692307692,
          0.3942307692307692,
          0.4519230769230769,
          0.4519230769230769,
          0.4807692307692308,
          0.4807692307692308,
          0.4855769230769231,
          0.4855769230769231,
          0.4951923076923077,
          0.4951923076923077,
          0.5,
          0.5,
          0.5432692307692307,
          0.5432692307692307,
          0.5721153846153846,
          0.5721153846153846,
          0.5769230769230769,
          0.5769230769230769,
          0.5817307692307693,
          0.5817307692307693,
          0.625,
          0.625,
          0.6971153846153846,
          0.6971153846153846,
          0.8076923076923077,
          0.8076923076923077,
          0.8317307692307693,
          0.8317307692307693,
          0.8846153846153846,
          0.8846153846153846,
          0.9759615384615384,
          0.9759615384615384,
          1
         ],
         "xaxis": "x",
         "y": [
          0,
          0,
          0.05785123966942149,
          0.05785123966942149,
          0.15702479338842976,
          0.15702479338842976,
          0.21487603305785125,
          0.21487603305785125,
          0.3140495867768595,
          0.3140495867768595,
          0.371900826446281,
          0.371900826446281,
          0.39669421487603307,
          0.39669421487603307,
          0.4132231404958678,
          0.4132231404958678,
          0.4214876033057851,
          0.4214876033057851,
          0.4462809917355372,
          0.4462809917355372,
          0.512396694214876,
          0.512396694214876,
          0.5206611570247934,
          0.5206611570247934,
          0.5289256198347108,
          0.5289256198347108,
          0.5619834710743802,
          0.5619834710743802,
          0.5867768595041323,
          0.5867768595041323,
          0.6198347107438017,
          0.6198347107438017,
          0.6446280991735537,
          0.6446280991735537,
          0.6611570247933884,
          0.6611570247933884,
          0.6859504132231405,
          0.6859504132231405,
          0.6942148760330579,
          0.6942148760330579,
          0.7024793388429752,
          0.7024793388429752,
          0.7107438016528925,
          0.7107438016528925,
          0.7272727272727273,
          0.7272727272727273,
          0.7355371900826446,
          0.7355371900826446,
          0.743801652892562,
          0.743801652892562,
          0.7520661157024794,
          0.7520661157024794,
          0.7603305785123967,
          0.7603305785123967,
          0.7768595041322314,
          0.7768595041322314,
          0.7851239669421488,
          0.7851239669421488,
          0.8016528925619835,
          0.8016528925619835,
          0.8099173553719008,
          0.8099173553719008,
          0.8264462809917356,
          0.8264462809917356,
          0.8347107438016529,
          0.8347107438016529,
          0.8429752066115702,
          0.8429752066115702,
          0.8512396694214877,
          0.8512396694214877,
          0.859504132231405,
          0.859504132231405,
          0.8677685950413223,
          0.8677685950413223,
          0.8760330578512396,
          0.8760330578512396,
          0.8842975206611571,
          0.8842975206611571,
          0.8925619834710744,
          0.8925619834710744,
          0.9008264462809917,
          0.9008264462809917,
          0.9090909090909091,
          0.9090909090909091,
          0.9173553719008265,
          0.9173553719008265,
          0.9256198347107438,
          0.9256198347107438,
          0.9338842975206612,
          0.9338842975206612,
          0.9421487603305785,
          0.9421487603305785,
          0.9586776859504132,
          0.9586776859504132,
          0.9669421487603306,
          0.9669421487603306,
          0.9752066115702479,
          0.9752066115702479,
          0.9834710743801653,
          0.9834710743801653,
          0.9917355371900827,
          0.9917355371900827,
          1,
          1
         ],
         "yaxis": "y"
        }
       ],
       "layout": {
        "height": 500,
        "legend": {
         "tracegroupgap": 0
        },
        "shapes": [
         {
          "line": {
           "dash": "dash"
          },
          "type": "line",
          "x0": 0,
          "x1": 1,
          "y0": 0,
          "y1": 1
         }
        ],
        "template": {
         "data": {
          "bar": [
           {
            "error_x": {
             "color": "#2a3f5f"
            },
            "error_y": {
             "color": "#2a3f5f"
            },
            "marker": {
             "line": {
              "color": "#E5ECF6",
              "width": 0.5
             },
             "pattern": {
              "fillmode": "overlay",
              "size": 10,
              "solidity": 0.2
             }
            },
            "type": "bar"
           }
          ],
          "barpolar": [
           {
            "marker": {
             "line": {
              "color": "#E5ECF6",
              "width": 0.5
             },
             "pattern": {
              "fillmode": "overlay",
              "size": 10,
              "solidity": 0.2
             }
            },
            "type": "barpolar"
           }
          ],
          "carpet": [
           {
            "aaxis": {
             "endlinecolor": "#2a3f5f",
             "gridcolor": "white",
             "linecolor": "white",
             "minorgridcolor": "white",
             "startlinecolor": "#2a3f5f"
            },
            "baxis": {
             "endlinecolor": "#2a3f5f",
             "gridcolor": "white",
             "linecolor": "white",
             "minorgridcolor": "white",
             "startlinecolor": "#2a3f5f"
            },
            "type": "carpet"
           }
          ],
          "choropleth": [
           {
            "colorbar": {
             "outlinewidth": 0,
             "ticks": ""
            },
            "type": "choropleth"
           }
          ],
          "contour": [
           {
            "colorbar": {
             "outlinewidth": 0,
             "ticks": ""
            },
            "colorscale": [
             [
              0,
              "#0d0887"
             ],
             [
              0.1111111111111111,
              "#46039f"
             ],
             [
              0.2222222222222222,
              "#7201a8"
             ],
             [
              0.3333333333333333,
              "#9c179e"
             ],
             [
              0.4444444444444444,
              "#bd3786"
             ],
             [
              0.5555555555555556,
              "#d8576b"
             ],
             [
              0.6666666666666666,
              "#ed7953"
             ],
             [
              0.7777777777777778,
              "#fb9f3a"
             ],
             [
              0.8888888888888888,
              "#fdca26"
             ],
             [
              1,
              "#f0f921"
             ]
            ],
            "type": "contour"
           }
          ],
          "contourcarpet": [
           {
            "colorbar": {
             "outlinewidth": 0,
             "ticks": ""
            },
            "type": "contourcarpet"
           }
          ],
          "heatmap": [
           {
            "colorbar": {
             "outlinewidth": 0,
             "ticks": ""
            },
            "colorscale": [
             [
              0,
              "#0d0887"
             ],
             [
              0.1111111111111111,
              "#46039f"
             ],
             [
              0.2222222222222222,
              "#7201a8"
             ],
             [
              0.3333333333333333,
              "#9c179e"
             ],
             [
              0.4444444444444444,
              "#bd3786"
             ],
             [
              0.5555555555555556,
              "#d8576b"
             ],
             [
              0.6666666666666666,
              "#ed7953"
             ],
             [
              0.7777777777777778,
              "#fb9f3a"
             ],
             [
              0.8888888888888888,
              "#fdca26"
             ],
             [
              1,
              "#f0f921"
             ]
            ],
            "type": "heatmap"
           }
          ],
          "heatmapgl": [
           {
            "colorbar": {
             "outlinewidth": 0,
             "ticks": ""
            },
            "colorscale": [
             [
              0,
              "#0d0887"
             ],
             [
              0.1111111111111111,
              "#46039f"
             ],
             [
              0.2222222222222222,
              "#7201a8"
             ],
             [
              0.3333333333333333,
              "#9c179e"
             ],
             [
              0.4444444444444444,
              "#bd3786"
             ],
             [
              0.5555555555555556,
              "#d8576b"
             ],
             [
              0.6666666666666666,
              "#ed7953"
             ],
             [
              0.7777777777777778,
              "#fb9f3a"
             ],
             [
              0.8888888888888888,
              "#fdca26"
             ],
             [
              1,
              "#f0f921"
             ]
            ],
            "type": "heatmapgl"
           }
          ],
          "histogram": [
           {
            "marker": {
             "pattern": {
              "fillmode": "overlay",
              "size": 10,
              "solidity": 0.2
             }
            },
            "type": "histogram"
           }
          ],
          "histogram2d": [
           {
            "colorbar": {
             "outlinewidth": 0,
             "ticks": ""
            },
            "colorscale": [
             [
              0,
              "#0d0887"
             ],
             [
              0.1111111111111111,
              "#46039f"
             ],
             [
              0.2222222222222222,
              "#7201a8"
             ],
             [
              0.3333333333333333,
              "#9c179e"
             ],
             [
              0.4444444444444444,
              "#bd3786"
             ],
             [
              0.5555555555555556,
              "#d8576b"
             ],
             [
              0.6666666666666666,
              "#ed7953"
             ],
             [
              0.7777777777777778,
              "#fb9f3a"
             ],
             [
              0.8888888888888888,
              "#fdca26"
             ],
             [
              1,
              "#f0f921"
             ]
            ],
            "type": "histogram2d"
           }
          ],
          "histogram2dcontour": [
           {
            "colorbar": {
             "outlinewidth": 0,
             "ticks": ""
            },
            "colorscale": [
             [
              0,
              "#0d0887"
             ],
             [
              0.1111111111111111,
              "#46039f"
             ],
             [
              0.2222222222222222,
              "#7201a8"
             ],
             [
              0.3333333333333333,
              "#9c179e"
             ],
             [
              0.4444444444444444,
              "#bd3786"
             ],
             [
              0.5555555555555556,
              "#d8576b"
             ],
             [
              0.6666666666666666,
              "#ed7953"
             ],
             [
              0.7777777777777778,
              "#fb9f3a"
             ],
             [
              0.8888888888888888,
              "#fdca26"
             ],
             [
              1,
              "#f0f921"
             ]
            ],
            "type": "histogram2dcontour"
           }
          ],
          "mesh3d": [
           {
            "colorbar": {
             "outlinewidth": 0,
             "ticks": ""
            },
            "type": "mesh3d"
           }
          ],
          "parcoords": [
           {
            "line": {
             "colorbar": {
              "outlinewidth": 0,
              "ticks": ""
             }
            },
            "type": "parcoords"
           }
          ],
          "pie": [
           {
            "automargin": true,
            "type": "pie"
           }
          ],
          "scatter": [
           {
            "fillpattern": {
             "fillmode": "overlay",
             "size": 10,
             "solidity": 0.2
            },
            "type": "scatter"
           }
          ],
          "scatter3d": [
           {
            "line": {
             "colorbar": {
              "outlinewidth": 0,
              "ticks": ""
             }
            },
            "marker": {
             "colorbar": {
              "outlinewidth": 0,
              "ticks": ""
             }
            },
            "type": "scatter3d"
           }
          ],
          "scattercarpet": [
           {
            "marker": {
             "colorbar": {
              "outlinewidth": 0,
              "ticks": ""
             }
            },
            "type": "scattercarpet"
           }
          ],
          "scattergeo": [
           {
            "marker": {
             "colorbar": {
              "outlinewidth": 0,
              "ticks": ""
             }
            },
            "type": "scattergeo"
           }
          ],
          "scattergl": [
           {
            "marker": {
             "colorbar": {
              "outlinewidth": 0,
              "ticks": ""
             }
            },
            "type": "scattergl"
           }
          ],
          "scattermapbox": [
           {
            "marker": {
             "colorbar": {
              "outlinewidth": 0,
              "ticks": ""
             }
            },
            "type": "scattermapbox"
           }
          ],
          "scatterpolar": [
           {
            "marker": {
             "colorbar": {
              "outlinewidth": 0,
              "ticks": ""
             }
            },
            "type": "scatterpolar"
           }
          ],
          "scatterpolargl": [
           {
            "marker": {
             "colorbar": {
              "outlinewidth": 0,
              "ticks": ""
             }
            },
            "type": "scatterpolargl"
           }
          ],
          "scatterternary": [
           {
            "marker": {
             "colorbar": {
              "outlinewidth": 0,
              "ticks": ""
             }
            },
            "type": "scatterternary"
           }
          ],
          "surface": [
           {
            "colorbar": {
             "outlinewidth": 0,
             "ticks": ""
            },
            "colorscale": [
             [
              0,
              "#0d0887"
             ],
             [
              0.1111111111111111,
              "#46039f"
             ],
             [
              0.2222222222222222,
              "#7201a8"
             ],
             [
              0.3333333333333333,
              "#9c179e"
             ],
             [
              0.4444444444444444,
              "#bd3786"
             ],
             [
              0.5555555555555556,
              "#d8576b"
             ],
             [
              0.6666666666666666,
              "#ed7953"
             ],
             [
              0.7777777777777778,
              "#fb9f3a"
             ],
             [
              0.8888888888888888,
              "#fdca26"
             ],
             [
              1,
              "#f0f921"
             ]
            ],
            "type": "surface"
           }
          ],
          "table": [
           {
            "cells": {
             "fill": {
              "color": "#EBF0F8"
             },
             "line": {
              "color": "white"
             }
            },
            "header": {
             "fill": {
              "color": "#C8D4E3"
             },
             "line": {
              "color": "white"
             }
            },
            "type": "table"
           }
          ]
         },
         "layout": {
          "annotationdefaults": {
           "arrowcolor": "#2a3f5f",
           "arrowhead": 0,
           "arrowwidth": 1
          },
          "autotypenumbers": "strict",
          "coloraxis": {
           "colorbar": {
            "outlinewidth": 0,
            "ticks": ""
           }
          },
          "colorscale": {
           "diverging": [
            [
             0,
             "#8e0152"
            ],
            [
             0.1,
             "#c51b7d"
            ],
            [
             0.2,
             "#de77ae"
            ],
            [
             0.3,
             "#f1b6da"
            ],
            [
             0.4,
             "#fde0ef"
            ],
            [
             0.5,
             "#f7f7f7"
            ],
            [
             0.6,
             "#e6f5d0"
            ],
            [
             0.7,
             "#b8e186"
            ],
            [
             0.8,
             "#7fbc41"
            ],
            [
             0.9,
             "#4d9221"
            ],
            [
             1,
             "#276419"
            ]
           ],
           "sequential": [
            [
             0,
             "#0d0887"
            ],
            [
             0.1111111111111111,
             "#46039f"
            ],
            [
             0.2222222222222222,
             "#7201a8"
            ],
            [
             0.3333333333333333,
             "#9c179e"
            ],
            [
             0.4444444444444444,
             "#bd3786"
            ],
            [
             0.5555555555555556,
             "#d8576b"
            ],
            [
             0.6666666666666666,
             "#ed7953"
            ],
            [
             0.7777777777777778,
             "#fb9f3a"
            ],
            [
             0.8888888888888888,
             "#fdca26"
            ],
            [
             1,
             "#f0f921"
            ]
           ],
           "sequentialminus": [
            [
             0,
             "#0d0887"
            ],
            [
             0.1111111111111111,
             "#46039f"
            ],
            [
             0.2222222222222222,
             "#7201a8"
            ],
            [
             0.3333333333333333,
             "#9c179e"
            ],
            [
             0.4444444444444444,
             "#bd3786"
            ],
            [
             0.5555555555555556,
             "#d8576b"
            ],
            [
             0.6666666666666666,
             "#ed7953"
            ],
            [
             0.7777777777777778,
             "#fb9f3a"
            ],
            [
             0.8888888888888888,
             "#fdca26"
            ],
            [
             1,
             "#f0f921"
            ]
           ]
          },
          "colorway": [
           "#636efa",
           "#EF553B",
           "#00cc96",
           "#ab63fa",
           "#FFA15A",
           "#19d3f3",
           "#FF6692",
           "#B6E880",
           "#FF97FF",
           "#FECB52"
          ],
          "font": {
           "color": "#2a3f5f"
          },
          "geo": {
           "bgcolor": "white",
           "lakecolor": "white",
           "landcolor": "#E5ECF6",
           "showlakes": true,
           "showland": true,
           "subunitcolor": "white"
          },
          "hoverlabel": {
           "align": "left"
          },
          "hovermode": "closest",
          "mapbox": {
           "style": "light"
          },
          "paper_bgcolor": "white",
          "plot_bgcolor": "#E5ECF6",
          "polar": {
           "angularaxis": {
            "gridcolor": "white",
            "linecolor": "white",
            "ticks": ""
           },
           "bgcolor": "#E5ECF6",
           "radialaxis": {
            "gridcolor": "white",
            "linecolor": "white",
            "ticks": ""
           }
          },
          "scene": {
           "xaxis": {
            "backgroundcolor": "#E5ECF6",
            "gridcolor": "white",
            "gridwidth": 2,
            "linecolor": "white",
            "showbackground": true,
            "ticks": "",
            "zerolinecolor": "white"
           },
           "yaxis": {
            "backgroundcolor": "#E5ECF6",
            "gridcolor": "white",
            "gridwidth": 2,
            "linecolor": "white",
            "showbackground": true,
            "ticks": "",
            "zerolinecolor": "white"
           },
           "zaxis": {
            "backgroundcolor": "#E5ECF6",
            "gridcolor": "white",
            "gridwidth": 2,
            "linecolor": "white",
            "showbackground": true,
            "ticks": "",
            "zerolinecolor": "white"
           }
          },
          "shapedefaults": {
           "line": {
            "color": "#2a3f5f"
           }
          },
          "ternary": {
           "aaxis": {
            "gridcolor": "white",
            "linecolor": "white",
            "ticks": ""
           },
           "baxis": {
            "gridcolor": "white",
            "linecolor": "white",
            "ticks": ""
           },
           "bgcolor": "#E5ECF6",
           "caxis": {
            "gridcolor": "white",
            "linecolor": "white",
            "ticks": ""
           }
          },
          "title": {
           "x": 0.05
          },
          "xaxis": {
           "automargin": true,
           "gridcolor": "white",
           "linecolor": "white",
           "ticks": "",
           "title": {
            "standoff": 15
           },
           "zerolinecolor": "white",
           "zerolinewidth": 2
          },
          "yaxis": {
           "automargin": true,
           "gridcolor": "white",
           "linecolor": "white",
           "ticks": "",
           "title": {
            "standoff": 15
           },
           "zerolinecolor": "white",
           "zerolinewidth": 2
          }
         }
        },
        "title": {
         "text": "ROC Curve (AUC=0.8509 \t AUC15=0.7353)"
        },
        "width": 700,
        "xaxis": {
         "anchor": "y",
         "constrain": "domain",
         "domain": [
          0,
          1
         ],
         "title": {
          "text": "False Positive Rate"
         }
        },
        "yaxis": {
         "anchor": "x",
         "domain": [
          0,
          1
         ],
         "scaleanchor": "x",
         "scaleratio": 1,
         "title": {
          "text": "True Positive Rate"
         }
        }
       }
      },
      "text/html": [
       "<div>                            <div id=\"c5111061-9853-47a8-8e2e-91a7919dcbc7\" class=\"plotly-graph-div\" style=\"height:500px; width:700px;\"></div>            <script type=\"text/javascript\">                require([\"plotly\"], function(Plotly) {                    window.PLOTLYENV=window.PLOTLYENV || {};                                    if (document.getElementById(\"c5111061-9853-47a8-8e2e-91a7919dcbc7\")) {                    Plotly.newPlot(                        \"c5111061-9853-47a8-8e2e-91a7919dcbc7\",                        [{\"fillpattern\":{\"shape\":\"\"},\"hovertemplate\":\"False Positive Rate=%{x}\\u003cbr\\u003eTrue Positive Rate=%{y}\\u003cextra\\u003e\\u003c\\u002fextra\\u003e\",\"legendgroup\":\"\",\"line\":{\"color\":\"#636efa\"},\"marker\":{\"symbol\":\"circle\"},\"mode\":\"lines\",\"name\":\"\",\"orientation\":\"v\",\"showlegend\":false,\"stackgroup\":\"1\",\"x\":[0.0,0.004807692307692308,0.004807692307692308,0.009615384615384616,0.009615384615384616,0.014423076923076924,0.014423076923076924,0.019230769230769232,0.019230769230769232,0.02403846153846154,0.02403846153846154,0.028846153846153848,0.028846153846153848,0.04326923076923077,0.04326923076923077,0.04807692307692308,0.04807692307692308,0.052884615384615384,0.052884615384615384,0.057692307692307696,0.057692307692307696,0.0625,0.0625,0.07211538461538461,0.07211538461538461,0.08173076923076923,0.08173076923076923,0.08653846153846154,0.08653846153846154,0.09134615384615384,0.09134615384615384,0.09615384615384616,0.09615384615384616,0.10096153846153846,0.10096153846153846,0.10576923076923077,0.10576923076923077,0.11057692307692307,0.11057692307692307,0.11538461538461539,0.11538461538461539,0.1201923076923077,0.1201923076923077,0.125,0.125,0.12980769230769232,0.12980769230769232,0.1346153846153846,0.1346153846153846,0.14423076923076922,0.14423076923076922,0.17307692307692307,0.17307692307692307,0.18269230769230768,0.18269230769230768,0.21634615384615385,0.21634615384615385,0.22115384615384615,0.22115384615384615,0.22596153846153846,0.22596153846153846,0.23076923076923078,0.23076923076923078,0.25,0.25,0.30288461538461536,0.30288461538461536,0.3317307692307692,0.3317307692307692,0.35096153846153844,0.35096153846153844,0.3942307692307692,0.3942307692307692,0.4519230769230769,0.4519230769230769,0.4807692307692308,0.4807692307692308,0.4855769230769231,0.4855769230769231,0.4951923076923077,0.4951923076923077,0.5,0.5,0.5432692307692307,0.5432692307692307,0.5721153846153846,0.5721153846153846,0.5769230769230769,0.5769230769230769,0.5817307692307693,0.5817307692307693,0.625,0.625,0.6971153846153846,0.6971153846153846,0.8076923076923077,0.8076923076923077,0.8317307692307693,0.8317307692307693,0.8846153846153846,0.8846153846153846,0.9759615384615384,0.9759615384615384,1.0],\"xaxis\":\"x\",\"y\":[0.0,0.0,0.05785123966942149,0.05785123966942149,0.15702479338842976,0.15702479338842976,0.21487603305785125,0.21487603305785125,0.3140495867768595,0.3140495867768595,0.371900826446281,0.371900826446281,0.39669421487603307,0.39669421487603307,0.4132231404958678,0.4132231404958678,0.4214876033057851,0.4214876033057851,0.4462809917355372,0.4462809917355372,0.512396694214876,0.512396694214876,0.5206611570247934,0.5206611570247934,0.5289256198347108,0.5289256198347108,0.5619834710743802,0.5619834710743802,0.5867768595041323,0.5867768595041323,0.6198347107438017,0.6198347107438017,0.6446280991735537,0.6446280991735537,0.6611570247933884,0.6611570247933884,0.6859504132231405,0.6859504132231405,0.6942148760330579,0.6942148760330579,0.7024793388429752,0.7024793388429752,0.7107438016528925,0.7107438016528925,0.7272727272727273,0.7272727272727273,0.7355371900826446,0.7355371900826446,0.743801652892562,0.743801652892562,0.7520661157024794,0.7520661157024794,0.7603305785123967,0.7603305785123967,0.7768595041322314,0.7768595041322314,0.7851239669421488,0.7851239669421488,0.8016528925619835,0.8016528925619835,0.8099173553719008,0.8099173553719008,0.8264462809917356,0.8264462809917356,0.8347107438016529,0.8347107438016529,0.8429752066115702,0.8429752066115702,0.8512396694214877,0.8512396694214877,0.859504132231405,0.859504132231405,0.8677685950413223,0.8677685950413223,0.8760330578512396,0.8760330578512396,0.8842975206611571,0.8842975206611571,0.8925619834710744,0.8925619834710744,0.9008264462809917,0.9008264462809917,0.9090909090909091,0.9090909090909091,0.9173553719008265,0.9173553719008265,0.9256198347107438,0.9256198347107438,0.9338842975206612,0.9338842975206612,0.9421487603305785,0.9421487603305785,0.9586776859504132,0.9586776859504132,0.9669421487603306,0.9669421487603306,0.9752066115702479,0.9752066115702479,0.9834710743801653,0.9834710743801653,0.9917355371900827,0.9917355371900827,1.0,1.0],\"yaxis\":\"y\",\"type\":\"scatter\"}],                        {\"template\":{\"data\":{\"histogram2dcontour\":[{\"type\":\"histogram2dcontour\",\"colorbar\":{\"outlinewidth\":0,\"ticks\":\"\"},\"colorscale\":[[0.0,\"#0d0887\"],[0.1111111111111111,\"#46039f\"],[0.2222222222222222,\"#7201a8\"],[0.3333333333333333,\"#9c179e\"],[0.4444444444444444,\"#bd3786\"],[0.5555555555555556,\"#d8576b\"],[0.6666666666666666,\"#ed7953\"],[0.7777777777777778,\"#fb9f3a\"],[0.8888888888888888,\"#fdca26\"],[1.0,\"#f0f921\"]]}],\"choropleth\":[{\"type\":\"choropleth\",\"colorbar\":{\"outlinewidth\":0,\"ticks\":\"\"}}],\"histogram2d\":[{\"type\":\"histogram2d\",\"colorbar\":{\"outlinewidth\":0,\"ticks\":\"\"},\"colorscale\":[[0.0,\"#0d0887\"],[0.1111111111111111,\"#46039f\"],[0.2222222222222222,\"#7201a8\"],[0.3333333333333333,\"#9c179e\"],[0.4444444444444444,\"#bd3786\"],[0.5555555555555556,\"#d8576b\"],[0.6666666666666666,\"#ed7953\"],[0.7777777777777778,\"#fb9f3a\"],[0.8888888888888888,\"#fdca26\"],[1.0,\"#f0f921\"]]}],\"heatmap\":[{\"type\":\"heatmap\",\"colorbar\":{\"outlinewidth\":0,\"ticks\":\"\"},\"colorscale\":[[0.0,\"#0d0887\"],[0.1111111111111111,\"#46039f\"],[0.2222222222222222,\"#7201a8\"],[0.3333333333333333,\"#9c179e\"],[0.4444444444444444,\"#bd3786\"],[0.5555555555555556,\"#d8576b\"],[0.6666666666666666,\"#ed7953\"],[0.7777777777777778,\"#fb9f3a\"],[0.8888888888888888,\"#fdca26\"],[1.0,\"#f0f921\"]]}],\"heatmapgl\":[{\"type\":\"heatmapgl\",\"colorbar\":{\"outlinewidth\":0,\"ticks\":\"\"},\"colorscale\":[[0.0,\"#0d0887\"],[0.1111111111111111,\"#46039f\"],[0.2222222222222222,\"#7201a8\"],[0.3333333333333333,\"#9c179e\"],[0.4444444444444444,\"#bd3786\"],[0.5555555555555556,\"#d8576b\"],[0.6666666666666666,\"#ed7953\"],[0.7777777777777778,\"#fb9f3a\"],[0.8888888888888888,\"#fdca26\"],[1.0,\"#f0f921\"]]}],\"contourcarpet\":[{\"type\":\"contourcarpet\",\"colorbar\":{\"outlinewidth\":0,\"ticks\":\"\"}}],\"contour\":[{\"type\":\"contour\",\"colorbar\":{\"outlinewidth\":0,\"ticks\":\"\"},\"colorscale\":[[0.0,\"#0d0887\"],[0.1111111111111111,\"#46039f\"],[0.2222222222222222,\"#7201a8\"],[0.3333333333333333,\"#9c179e\"],[0.4444444444444444,\"#bd3786\"],[0.5555555555555556,\"#d8576b\"],[0.6666666666666666,\"#ed7953\"],[0.7777777777777778,\"#fb9f3a\"],[0.8888888888888888,\"#fdca26\"],[1.0,\"#f0f921\"]]}],\"surface\":[{\"type\":\"surface\",\"colorbar\":{\"outlinewidth\":0,\"ticks\":\"\"},\"colorscale\":[[0.0,\"#0d0887\"],[0.1111111111111111,\"#46039f\"],[0.2222222222222222,\"#7201a8\"],[0.3333333333333333,\"#9c179e\"],[0.4444444444444444,\"#bd3786\"],[0.5555555555555556,\"#d8576b\"],[0.6666666666666666,\"#ed7953\"],[0.7777777777777778,\"#fb9f3a\"],[0.8888888888888888,\"#fdca26\"],[1.0,\"#f0f921\"]]}],\"mesh3d\":[{\"type\":\"mesh3d\",\"colorbar\":{\"outlinewidth\":0,\"ticks\":\"\"}}],\"scatter\":[{\"fillpattern\":{\"fillmode\":\"overlay\",\"size\":10,\"solidity\":0.2},\"type\":\"scatter\"}],\"parcoords\":[{\"type\":\"parcoords\",\"line\":{\"colorbar\":{\"outlinewidth\":0,\"ticks\":\"\"}}}],\"scatterpolargl\":[{\"type\":\"scatterpolargl\",\"marker\":{\"colorbar\":{\"outlinewidth\":0,\"ticks\":\"\"}}}],\"bar\":[{\"error_x\":{\"color\":\"#2a3f5f\"},\"error_y\":{\"color\":\"#2a3f5f\"},\"marker\":{\"line\":{\"color\":\"#E5ECF6\",\"width\":0.5},\"pattern\":{\"fillmode\":\"overlay\",\"size\":10,\"solidity\":0.2}},\"type\":\"bar\"}],\"scattergeo\":[{\"type\":\"scattergeo\",\"marker\":{\"colorbar\":{\"outlinewidth\":0,\"ticks\":\"\"}}}],\"scatterpolar\":[{\"type\":\"scatterpolar\",\"marker\":{\"colorbar\":{\"outlinewidth\":0,\"ticks\":\"\"}}}],\"histogram\":[{\"marker\":{\"pattern\":{\"fillmode\":\"overlay\",\"size\":10,\"solidity\":0.2}},\"type\":\"histogram\"}],\"scattergl\":[{\"type\":\"scattergl\",\"marker\":{\"colorbar\":{\"outlinewidth\":0,\"ticks\":\"\"}}}],\"scatter3d\":[{\"type\":\"scatter3d\",\"line\":{\"colorbar\":{\"outlinewidth\":0,\"ticks\":\"\"}},\"marker\":{\"colorbar\":{\"outlinewidth\":0,\"ticks\":\"\"}}}],\"scattermapbox\":[{\"type\":\"scattermapbox\",\"marker\":{\"colorbar\":{\"outlinewidth\":0,\"ticks\":\"\"}}}],\"scatterternary\":[{\"type\":\"scatterternary\",\"marker\":{\"colorbar\":{\"outlinewidth\":0,\"ticks\":\"\"}}}],\"scattercarpet\":[{\"type\":\"scattercarpet\",\"marker\":{\"colorbar\":{\"outlinewidth\":0,\"ticks\":\"\"}}}],\"carpet\":[{\"aaxis\":{\"endlinecolor\":\"#2a3f5f\",\"gridcolor\":\"white\",\"linecolor\":\"white\",\"minorgridcolor\":\"white\",\"startlinecolor\":\"#2a3f5f\"},\"baxis\":{\"endlinecolor\":\"#2a3f5f\",\"gridcolor\":\"white\",\"linecolor\":\"white\",\"minorgridcolor\":\"white\",\"startlinecolor\":\"#2a3f5f\"},\"type\":\"carpet\"}],\"table\":[{\"cells\":{\"fill\":{\"color\":\"#EBF0F8\"},\"line\":{\"color\":\"white\"}},\"header\":{\"fill\":{\"color\":\"#C8D4E3\"},\"line\":{\"color\":\"white\"}},\"type\":\"table\"}],\"barpolar\":[{\"marker\":{\"line\":{\"color\":\"#E5ECF6\",\"width\":0.5},\"pattern\":{\"fillmode\":\"overlay\",\"size\":10,\"solidity\":0.2}},\"type\":\"barpolar\"}],\"pie\":[{\"automargin\":true,\"type\":\"pie\"}]},\"layout\":{\"autotypenumbers\":\"strict\",\"colorway\":[\"#636efa\",\"#EF553B\",\"#00cc96\",\"#ab63fa\",\"#FFA15A\",\"#19d3f3\",\"#FF6692\",\"#B6E880\",\"#FF97FF\",\"#FECB52\"],\"font\":{\"color\":\"#2a3f5f\"},\"hovermode\":\"closest\",\"hoverlabel\":{\"align\":\"left\"},\"paper_bgcolor\":\"white\",\"plot_bgcolor\":\"#E5ECF6\",\"polar\":{\"bgcolor\":\"#E5ECF6\",\"angularaxis\":{\"gridcolor\":\"white\",\"linecolor\":\"white\",\"ticks\":\"\"},\"radialaxis\":{\"gridcolor\":\"white\",\"linecolor\":\"white\",\"ticks\":\"\"}},\"ternary\":{\"bgcolor\":\"#E5ECF6\",\"aaxis\":{\"gridcolor\":\"white\",\"linecolor\":\"white\",\"ticks\":\"\"},\"baxis\":{\"gridcolor\":\"white\",\"linecolor\":\"white\",\"ticks\":\"\"},\"caxis\":{\"gridcolor\":\"white\",\"linecolor\":\"white\",\"ticks\":\"\"}},\"coloraxis\":{\"colorbar\":{\"outlinewidth\":0,\"ticks\":\"\"}},\"colorscale\":{\"sequential\":[[0.0,\"#0d0887\"],[0.1111111111111111,\"#46039f\"],[0.2222222222222222,\"#7201a8\"],[0.3333333333333333,\"#9c179e\"],[0.4444444444444444,\"#bd3786\"],[0.5555555555555556,\"#d8576b\"],[0.6666666666666666,\"#ed7953\"],[0.7777777777777778,\"#fb9f3a\"],[0.8888888888888888,\"#fdca26\"],[1.0,\"#f0f921\"]],\"sequentialminus\":[[0.0,\"#0d0887\"],[0.1111111111111111,\"#46039f\"],[0.2222222222222222,\"#7201a8\"],[0.3333333333333333,\"#9c179e\"],[0.4444444444444444,\"#bd3786\"],[0.5555555555555556,\"#d8576b\"],[0.6666666666666666,\"#ed7953\"],[0.7777777777777778,\"#fb9f3a\"],[0.8888888888888888,\"#fdca26\"],[1.0,\"#f0f921\"]],\"diverging\":[[0,\"#8e0152\"],[0.1,\"#c51b7d\"],[0.2,\"#de77ae\"],[0.3,\"#f1b6da\"],[0.4,\"#fde0ef\"],[0.5,\"#f7f7f7\"],[0.6,\"#e6f5d0\"],[0.7,\"#b8e186\"],[0.8,\"#7fbc41\"],[0.9,\"#4d9221\"],[1,\"#276419\"]]},\"xaxis\":{\"gridcolor\":\"white\",\"linecolor\":\"white\",\"ticks\":\"\",\"title\":{\"standoff\":15},\"zerolinecolor\":\"white\",\"automargin\":true,\"zerolinewidth\":2},\"yaxis\":{\"gridcolor\":\"white\",\"linecolor\":\"white\",\"ticks\":\"\",\"title\":{\"standoff\":15},\"zerolinecolor\":\"white\",\"automargin\":true,\"zerolinewidth\":2},\"scene\":{\"xaxis\":{\"backgroundcolor\":\"#E5ECF6\",\"gridcolor\":\"white\",\"linecolor\":\"white\",\"showbackground\":true,\"ticks\":\"\",\"zerolinecolor\":\"white\",\"gridwidth\":2},\"yaxis\":{\"backgroundcolor\":\"#E5ECF6\",\"gridcolor\":\"white\",\"linecolor\":\"white\",\"showbackground\":true,\"ticks\":\"\",\"zerolinecolor\":\"white\",\"gridwidth\":2},\"zaxis\":{\"backgroundcolor\":\"#E5ECF6\",\"gridcolor\":\"white\",\"linecolor\":\"white\",\"showbackground\":true,\"ticks\":\"\",\"zerolinecolor\":\"white\",\"gridwidth\":2}},\"shapedefaults\":{\"line\":{\"color\":\"#2a3f5f\"}},\"annotationdefaults\":{\"arrowcolor\":\"#2a3f5f\",\"arrowhead\":0,\"arrowwidth\":1},\"geo\":{\"bgcolor\":\"white\",\"landcolor\":\"#E5ECF6\",\"subunitcolor\":\"white\",\"showland\":true,\"showlakes\":true,\"lakecolor\":\"white\"},\"title\":{\"x\":0.05},\"mapbox\":{\"style\":\"light\"}}},\"xaxis\":{\"anchor\":\"y\",\"domain\":[0.0,1.0],\"title\":{\"text\":\"False Positive Rate\"},\"constrain\":\"domain\"},\"yaxis\":{\"anchor\":\"x\",\"domain\":[0.0,1.0],\"title\":{\"text\":\"True Positive Rate\"},\"scaleanchor\":\"x\",\"scaleratio\":1},\"legend\":{\"tracegroupgap\":0},\"title\":{\"text\":\"ROC Curve (AUC=0.8509 \\t AUC15=0.7353)\"},\"height\":500,\"width\":700,\"shapes\":[{\"line\":{\"dash\":\"dash\"},\"type\":\"line\",\"x0\":0,\"x1\":1,\"y0\":0,\"y1\":1}]},                        {\"responsive\": true}                    ).then(function(){\n",
       "                            \n",
       "var gd = document.getElementById('c5111061-9853-47a8-8e2e-91a7919dcbc7');\n",
       "var x = new MutationObserver(function (mutations, observer) {{\n",
       "        var display = window.getComputedStyle(gd).display;\n",
       "        if (!display || display === 'none') {{\n",
       "            console.log([gd, 'removed!']);\n",
       "            Plotly.purge(gd);\n",
       "            observer.disconnect();\n",
       "        }}\n",
       "}});\n",
       "\n",
       "// Listen for the removal of the full notebook cells\n",
       "var notebookContainer = gd.closest('#notebook-container');\n",
       "if (notebookContainer) {{\n",
       "    x.observe(notebookContainer, {childList: true});\n",
       "}}\n",
       "\n",
       "// Listen for the clearing of the current output cell\n",
       "var outputEl = gd.closest('.output');\n",
       "if (outputEl) {{\n",
       "    x.observe(outputEl, {childList: true});\n",
       "}}\n",
       "\n",
       "                        })                };                });            </script>        </div>"
      ]
     },
     "metadata": {},
     "output_type": "display_data"
    }
   ],
   "source": [
    "auroc_plot(comparacion[\"bioactivity\"],comparacion[\"prob_sebi_features\"])"
   ]
  },
  {
   "cell_type": "code",
   "execution_count": 34,
   "metadata": {},
   "outputs": [
    {
     "data": {
      "application/vnd.plotly.v1+json": {
       "config": {
        "plotlyServerURL": "https://plot.ly"
       },
       "data": [
        {
         "fillpattern": {
          "shape": ""
         },
         "hovertemplate": "False Positive Rate=%{x}<br>True Positive Rate=%{y}<extra></extra>",
         "legendgroup": "",
         "line": {
          "color": "#636efa"
         },
         "marker": {
          "symbol": "circle"
         },
         "mode": "lines",
         "name": "",
         "orientation": "v",
         "showlegend": false,
         "stackgroup": "1",
         "type": "scatter",
         "x": [
          0,
          0,
          0,
          0.004807692307692308,
          0.004807692307692308,
          0.009615384615384616,
          0.009615384615384616,
          0.019230769230769232,
          0.019230769230769232,
          0.02403846153846154,
          0.02403846153846154,
          0.028846153846153848,
          0.028846153846153848,
          0.028846153846153848,
          0.028846153846153848,
          0.04807692307692308,
          0.04807692307692308,
          0.052884615384615384,
          0.052884615384615384,
          0.0673076923076923,
          0.0673076923076923,
          0.08653846153846154,
          0.08653846153846154,
          0.09134615384615384,
          0.09134615384615384,
          0.09615384615384616,
          0.09615384615384616,
          0.10576923076923077,
          0.10576923076923077,
          0.11057692307692307,
          0.11057692307692307,
          0.11538461538461539,
          0.11538461538461539,
          0.125,
          0.125,
          0.12980769230769232,
          0.12980769230769232,
          0.13942307692307693,
          0.13942307692307693,
          0.14903846153846154,
          0.14903846153846154,
          0.17307692307692307,
          0.17307692307692307,
          0.19230769230769232,
          0.19230769230769232,
          0.23076923076923078,
          0.23076923076923078,
          0.23557692307692307,
          0.23557692307692307,
          0.2403846153846154,
          0.2403846153846154,
          0.2548076923076923,
          0.2548076923076923,
          0.27403846153846156,
          0.27403846153846156,
          0.28365384615384615,
          0.28365384615384615,
          0.30288461538461536,
          0.30288461538461536,
          0.3173076923076923,
          0.3173076923076923,
          0.33653846153846156,
          0.33653846153846156,
          0.34615384615384615,
          0.34615384615384615,
          0.3701923076923077,
          0.3701923076923077,
          0.3942307692307692,
          0.3942307692307692,
          0.39903846153846156,
          0.39903846153846156,
          0.4567307692307692,
          0.4567307692307692,
          0.46153846153846156,
          0.46153846153846156,
          0.5,
          0.5,
          0.5192307692307693,
          0.5192307692307693,
          0.5576923076923077,
          0.5576923076923077,
          0.6490384615384616,
          0.6490384615384616,
          0.6586538461538461,
          0.6586538461538461,
          0.7115384615384616,
          0.7115384615384616,
          0.7355769230769231,
          0.7355769230769231,
          0.7980769230769231,
          0.7980769230769231,
          0.8221153846153846,
          0.8221153846153846,
          0.8317307692307693,
          0.8317307692307693,
          0.8413461538461539,
          0.8413461538461539,
          0.8990384615384616,
          0.8990384615384616,
          0.9567307692307693,
          0.9567307692307693,
          1
         ],
         "xaxis": "x",
         "y": [
          0,
          0.008264462809917356,
          0.09917355371900827,
          0.09917355371900827,
          0.10743801652892562,
          0.10743801652892562,
          0.14049586776859505,
          0.14049586776859505,
          0.2066115702479339,
          0.2066115702479339,
          0.24793388429752067,
          0.24793388429752067,
          0.3140495867768595,
          0.3305785123966942,
          0.34710743801652894,
          0.34710743801652894,
          0.38016528925619836,
          0.38016528925619836,
          0.45454545454545453,
          0.45454545454545453,
          0.4628099173553719,
          0.4628099173553719,
          0.49586776859504134,
          0.49586776859504134,
          0.5206611570247934,
          0.5206611570247934,
          0.5371900826446281,
          0.5371900826446281,
          0.5785123966942148,
          0.5785123966942148,
          0.5950413223140496,
          0.5950413223140496,
          0.628099173553719,
          0.628099173553719,
          0.6446280991735537,
          0.6446280991735537,
          0.6694214876033058,
          0.6694214876033058,
          0.6859504132231405,
          0.6859504132231405,
          0.7024793388429752,
          0.7024793388429752,
          0.7272727272727273,
          0.7272727272727273,
          0.7520661157024794,
          0.7520661157024794,
          0.7603305785123967,
          0.7603305785123967,
          0.768595041322314,
          0.768595041322314,
          0.7768595041322314,
          0.7768595041322314,
          0.7933884297520661,
          0.7933884297520661,
          0.8016528925619835,
          0.8016528925619835,
          0.8099173553719008,
          0.8099173553719008,
          0.8181818181818182,
          0.8181818181818182,
          0.8264462809917356,
          0.8264462809917356,
          0.8347107438016529,
          0.8347107438016529,
          0.8429752066115702,
          0.8429752066115702,
          0.8512396694214877,
          0.8512396694214877,
          0.859504132231405,
          0.859504132231405,
          0.8677685950413223,
          0.8677685950413223,
          0.8760330578512396,
          0.8760330578512396,
          0.8842975206611571,
          0.8842975206611571,
          0.8925619834710744,
          0.8925619834710744,
          0.9090909090909091,
          0.9090909090909091,
          0.9173553719008265,
          0.9173553719008265,
          0.9256198347107438,
          0.9256198347107438,
          0.9338842975206612,
          0.9338842975206612,
          0.9421487603305785,
          0.9421487603305785,
          0.9504132231404959,
          0.9504132231404959,
          0.9586776859504132,
          0.9586776859504132,
          0.9669421487603306,
          0.9669421487603306,
          0.9752066115702479,
          0.9752066115702479,
          0.9834710743801653,
          0.9834710743801653,
          0.9917355371900827,
          0.9917355371900827,
          1,
          1
         ],
         "yaxis": "y"
        }
       ],
       "layout": {
        "height": 500,
        "legend": {
         "tracegroupgap": 0
        },
        "shapes": [
         {
          "line": {
           "dash": "dash"
          },
          "type": "line",
          "x0": 0,
          "x1": 1,
          "y0": 0,
          "y1": 1
         }
        ],
        "template": {
         "data": {
          "bar": [
           {
            "error_x": {
             "color": "#2a3f5f"
            },
            "error_y": {
             "color": "#2a3f5f"
            },
            "marker": {
             "line": {
              "color": "#E5ECF6",
              "width": 0.5
             },
             "pattern": {
              "fillmode": "overlay",
              "size": 10,
              "solidity": 0.2
             }
            },
            "type": "bar"
           }
          ],
          "barpolar": [
           {
            "marker": {
             "line": {
              "color": "#E5ECF6",
              "width": 0.5
             },
             "pattern": {
              "fillmode": "overlay",
              "size": 10,
              "solidity": 0.2
             }
            },
            "type": "barpolar"
           }
          ],
          "carpet": [
           {
            "aaxis": {
             "endlinecolor": "#2a3f5f",
             "gridcolor": "white",
             "linecolor": "white",
             "minorgridcolor": "white",
             "startlinecolor": "#2a3f5f"
            },
            "baxis": {
             "endlinecolor": "#2a3f5f",
             "gridcolor": "white",
             "linecolor": "white",
             "minorgridcolor": "white",
             "startlinecolor": "#2a3f5f"
            },
            "type": "carpet"
           }
          ],
          "choropleth": [
           {
            "colorbar": {
             "outlinewidth": 0,
             "ticks": ""
            },
            "type": "choropleth"
           }
          ],
          "contour": [
           {
            "colorbar": {
             "outlinewidth": 0,
             "ticks": ""
            },
            "colorscale": [
             [
              0,
              "#0d0887"
             ],
             [
              0.1111111111111111,
              "#46039f"
             ],
             [
              0.2222222222222222,
              "#7201a8"
             ],
             [
              0.3333333333333333,
              "#9c179e"
             ],
             [
              0.4444444444444444,
              "#bd3786"
             ],
             [
              0.5555555555555556,
              "#d8576b"
             ],
             [
              0.6666666666666666,
              "#ed7953"
             ],
             [
              0.7777777777777778,
              "#fb9f3a"
             ],
             [
              0.8888888888888888,
              "#fdca26"
             ],
             [
              1,
              "#f0f921"
             ]
            ],
            "type": "contour"
           }
          ],
          "contourcarpet": [
           {
            "colorbar": {
             "outlinewidth": 0,
             "ticks": ""
            },
            "type": "contourcarpet"
           }
          ],
          "heatmap": [
           {
            "colorbar": {
             "outlinewidth": 0,
             "ticks": ""
            },
            "colorscale": [
             [
              0,
              "#0d0887"
             ],
             [
              0.1111111111111111,
              "#46039f"
             ],
             [
              0.2222222222222222,
              "#7201a8"
             ],
             [
              0.3333333333333333,
              "#9c179e"
             ],
             [
              0.4444444444444444,
              "#bd3786"
             ],
             [
              0.5555555555555556,
              "#d8576b"
             ],
             [
              0.6666666666666666,
              "#ed7953"
             ],
             [
              0.7777777777777778,
              "#fb9f3a"
             ],
             [
              0.8888888888888888,
              "#fdca26"
             ],
             [
              1,
              "#f0f921"
             ]
            ],
            "type": "heatmap"
           }
          ],
          "heatmapgl": [
           {
            "colorbar": {
             "outlinewidth": 0,
             "ticks": ""
            },
            "colorscale": [
             [
              0,
              "#0d0887"
             ],
             [
              0.1111111111111111,
              "#46039f"
             ],
             [
              0.2222222222222222,
              "#7201a8"
             ],
             [
              0.3333333333333333,
              "#9c179e"
             ],
             [
              0.4444444444444444,
              "#bd3786"
             ],
             [
              0.5555555555555556,
              "#d8576b"
             ],
             [
              0.6666666666666666,
              "#ed7953"
             ],
             [
              0.7777777777777778,
              "#fb9f3a"
             ],
             [
              0.8888888888888888,
              "#fdca26"
             ],
             [
              1,
              "#f0f921"
             ]
            ],
            "type": "heatmapgl"
           }
          ],
          "histogram": [
           {
            "marker": {
             "pattern": {
              "fillmode": "overlay",
              "size": 10,
              "solidity": 0.2
             }
            },
            "type": "histogram"
           }
          ],
          "histogram2d": [
           {
            "colorbar": {
             "outlinewidth": 0,
             "ticks": ""
            },
            "colorscale": [
             [
              0,
              "#0d0887"
             ],
             [
              0.1111111111111111,
              "#46039f"
             ],
             [
              0.2222222222222222,
              "#7201a8"
             ],
             [
              0.3333333333333333,
              "#9c179e"
             ],
             [
              0.4444444444444444,
              "#bd3786"
             ],
             [
              0.5555555555555556,
              "#d8576b"
             ],
             [
              0.6666666666666666,
              "#ed7953"
             ],
             [
              0.7777777777777778,
              "#fb9f3a"
             ],
             [
              0.8888888888888888,
              "#fdca26"
             ],
             [
              1,
              "#f0f921"
             ]
            ],
            "type": "histogram2d"
           }
          ],
          "histogram2dcontour": [
           {
            "colorbar": {
             "outlinewidth": 0,
             "ticks": ""
            },
            "colorscale": [
             [
              0,
              "#0d0887"
             ],
             [
              0.1111111111111111,
              "#46039f"
             ],
             [
              0.2222222222222222,
              "#7201a8"
             ],
             [
              0.3333333333333333,
              "#9c179e"
             ],
             [
              0.4444444444444444,
              "#bd3786"
             ],
             [
              0.5555555555555556,
              "#d8576b"
             ],
             [
              0.6666666666666666,
              "#ed7953"
             ],
             [
              0.7777777777777778,
              "#fb9f3a"
             ],
             [
              0.8888888888888888,
              "#fdca26"
             ],
             [
              1,
              "#f0f921"
             ]
            ],
            "type": "histogram2dcontour"
           }
          ],
          "mesh3d": [
           {
            "colorbar": {
             "outlinewidth": 0,
             "ticks": ""
            },
            "type": "mesh3d"
           }
          ],
          "parcoords": [
           {
            "line": {
             "colorbar": {
              "outlinewidth": 0,
              "ticks": ""
             }
            },
            "type": "parcoords"
           }
          ],
          "pie": [
           {
            "automargin": true,
            "type": "pie"
           }
          ],
          "scatter": [
           {
            "fillpattern": {
             "fillmode": "overlay",
             "size": 10,
             "solidity": 0.2
            },
            "type": "scatter"
           }
          ],
          "scatter3d": [
           {
            "line": {
             "colorbar": {
              "outlinewidth": 0,
              "ticks": ""
             }
            },
            "marker": {
             "colorbar": {
              "outlinewidth": 0,
              "ticks": ""
             }
            },
            "type": "scatter3d"
           }
          ],
          "scattercarpet": [
           {
            "marker": {
             "colorbar": {
              "outlinewidth": 0,
              "ticks": ""
             }
            },
            "type": "scattercarpet"
           }
          ],
          "scattergeo": [
           {
            "marker": {
             "colorbar": {
              "outlinewidth": 0,
              "ticks": ""
             }
            },
            "type": "scattergeo"
           }
          ],
          "scattergl": [
           {
            "marker": {
             "colorbar": {
              "outlinewidth": 0,
              "ticks": ""
             }
            },
            "type": "scattergl"
           }
          ],
          "scattermapbox": [
           {
            "marker": {
             "colorbar": {
              "outlinewidth": 0,
              "ticks": ""
             }
            },
            "type": "scattermapbox"
           }
          ],
          "scatterpolar": [
           {
            "marker": {
             "colorbar": {
              "outlinewidth": 0,
              "ticks": ""
             }
            },
            "type": "scatterpolar"
           }
          ],
          "scatterpolargl": [
           {
            "marker": {
             "colorbar": {
              "outlinewidth": 0,
              "ticks": ""
             }
            },
            "type": "scatterpolargl"
           }
          ],
          "scatterternary": [
           {
            "marker": {
             "colorbar": {
              "outlinewidth": 0,
              "ticks": ""
             }
            },
            "type": "scatterternary"
           }
          ],
          "surface": [
           {
            "colorbar": {
             "outlinewidth": 0,
             "ticks": ""
            },
            "colorscale": [
             [
              0,
              "#0d0887"
             ],
             [
              0.1111111111111111,
              "#46039f"
             ],
             [
              0.2222222222222222,
              "#7201a8"
             ],
             [
              0.3333333333333333,
              "#9c179e"
             ],
             [
              0.4444444444444444,
              "#bd3786"
             ],
             [
              0.5555555555555556,
              "#d8576b"
             ],
             [
              0.6666666666666666,
              "#ed7953"
             ],
             [
              0.7777777777777778,
              "#fb9f3a"
             ],
             [
              0.8888888888888888,
              "#fdca26"
             ],
             [
              1,
              "#f0f921"
             ]
            ],
            "type": "surface"
           }
          ],
          "table": [
           {
            "cells": {
             "fill": {
              "color": "#EBF0F8"
             },
             "line": {
              "color": "white"
             }
            },
            "header": {
             "fill": {
              "color": "#C8D4E3"
             },
             "line": {
              "color": "white"
             }
            },
            "type": "table"
           }
          ]
         },
         "layout": {
          "annotationdefaults": {
           "arrowcolor": "#2a3f5f",
           "arrowhead": 0,
           "arrowwidth": 1
          },
          "autotypenumbers": "strict",
          "coloraxis": {
           "colorbar": {
            "outlinewidth": 0,
            "ticks": ""
           }
          },
          "colorscale": {
           "diverging": [
            [
             0,
             "#8e0152"
            ],
            [
             0.1,
             "#c51b7d"
            ],
            [
             0.2,
             "#de77ae"
            ],
            [
             0.3,
             "#f1b6da"
            ],
            [
             0.4,
             "#fde0ef"
            ],
            [
             0.5,
             "#f7f7f7"
            ],
            [
             0.6,
             "#e6f5d0"
            ],
            [
             0.7,
             "#b8e186"
            ],
            [
             0.8,
             "#7fbc41"
            ],
            [
             0.9,
             "#4d9221"
            ],
            [
             1,
             "#276419"
            ]
           ],
           "sequential": [
            [
             0,
             "#0d0887"
            ],
            [
             0.1111111111111111,
             "#46039f"
            ],
            [
             0.2222222222222222,
             "#7201a8"
            ],
            [
             0.3333333333333333,
             "#9c179e"
            ],
            [
             0.4444444444444444,
             "#bd3786"
            ],
            [
             0.5555555555555556,
             "#d8576b"
            ],
            [
             0.6666666666666666,
             "#ed7953"
            ],
            [
             0.7777777777777778,
             "#fb9f3a"
            ],
            [
             0.8888888888888888,
             "#fdca26"
            ],
            [
             1,
             "#f0f921"
            ]
           ],
           "sequentialminus": [
            [
             0,
             "#0d0887"
            ],
            [
             0.1111111111111111,
             "#46039f"
            ],
            [
             0.2222222222222222,
             "#7201a8"
            ],
            [
             0.3333333333333333,
             "#9c179e"
            ],
            [
             0.4444444444444444,
             "#bd3786"
            ],
            [
             0.5555555555555556,
             "#d8576b"
            ],
            [
             0.6666666666666666,
             "#ed7953"
            ],
            [
             0.7777777777777778,
             "#fb9f3a"
            ],
            [
             0.8888888888888888,
             "#fdca26"
            ],
            [
             1,
             "#f0f921"
            ]
           ]
          },
          "colorway": [
           "#636efa",
           "#EF553B",
           "#00cc96",
           "#ab63fa",
           "#FFA15A",
           "#19d3f3",
           "#FF6692",
           "#B6E880",
           "#FF97FF",
           "#FECB52"
          ],
          "font": {
           "color": "#2a3f5f"
          },
          "geo": {
           "bgcolor": "white",
           "lakecolor": "white",
           "landcolor": "#E5ECF6",
           "showlakes": true,
           "showland": true,
           "subunitcolor": "white"
          },
          "hoverlabel": {
           "align": "left"
          },
          "hovermode": "closest",
          "mapbox": {
           "style": "light"
          },
          "paper_bgcolor": "white",
          "plot_bgcolor": "#E5ECF6",
          "polar": {
           "angularaxis": {
            "gridcolor": "white",
            "linecolor": "white",
            "ticks": ""
           },
           "bgcolor": "#E5ECF6",
           "radialaxis": {
            "gridcolor": "white",
            "linecolor": "white",
            "ticks": ""
           }
          },
          "scene": {
           "xaxis": {
            "backgroundcolor": "#E5ECF6",
            "gridcolor": "white",
            "gridwidth": 2,
            "linecolor": "white",
            "showbackground": true,
            "ticks": "",
            "zerolinecolor": "white"
           },
           "yaxis": {
            "backgroundcolor": "#E5ECF6",
            "gridcolor": "white",
            "gridwidth": 2,
            "linecolor": "white",
            "showbackground": true,
            "ticks": "",
            "zerolinecolor": "white"
           },
           "zaxis": {
            "backgroundcolor": "#E5ECF6",
            "gridcolor": "white",
            "gridwidth": 2,
            "linecolor": "white",
            "showbackground": true,
            "ticks": "",
            "zerolinecolor": "white"
           }
          },
          "shapedefaults": {
           "line": {
            "color": "#2a3f5f"
           }
          },
          "ternary": {
           "aaxis": {
            "gridcolor": "white",
            "linecolor": "white",
            "ticks": ""
           },
           "baxis": {
            "gridcolor": "white",
            "linecolor": "white",
            "ticks": ""
           },
           "bgcolor": "#E5ECF6",
           "caxis": {
            "gridcolor": "white",
            "linecolor": "white",
            "ticks": ""
           }
          },
          "title": {
           "x": 0.05
          },
          "xaxis": {
           "automargin": true,
           "gridcolor": "white",
           "linecolor": "white",
           "ticks": "",
           "title": {
            "standoff": 15
           },
           "zerolinecolor": "white",
           "zerolinewidth": 2
          },
          "yaxis": {
           "automargin": true,
           "gridcolor": "white",
           "linecolor": "white",
           "ticks": "",
           "title": {
            "standoff": 15
           },
           "zerolinecolor": "white",
           "zerolinewidth": 2
          }
         }
        },
        "title": {
         "text": "ROC Curve (AUC=0.8273 \t AUC15=0.7010)"
        },
        "width": 700,
        "xaxis": {
         "anchor": "y",
         "constrain": "domain",
         "domain": [
          0,
          1
         ],
         "title": {
          "text": "False Positive Rate"
         }
        },
        "yaxis": {
         "anchor": "x",
         "domain": [
          0,
          1
         ],
         "scaleanchor": "x",
         "scaleratio": 1,
         "title": {
          "text": "True Positive Rate"
         }
        }
       }
      },
      "text/html": [
       "<div>                            <div id=\"7dddbb3f-41d3-4c32-91d0-321649af87fb\" class=\"plotly-graph-div\" style=\"height:500px; width:700px;\"></div>            <script type=\"text/javascript\">                require([\"plotly\"], function(Plotly) {                    window.PLOTLYENV=window.PLOTLYENV || {};                                    if (document.getElementById(\"7dddbb3f-41d3-4c32-91d0-321649af87fb\")) {                    Plotly.newPlot(                        \"7dddbb3f-41d3-4c32-91d0-321649af87fb\",                        [{\"fillpattern\":{\"shape\":\"\"},\"hovertemplate\":\"False Positive Rate=%{x}\\u003cbr\\u003eTrue Positive Rate=%{y}\\u003cextra\\u003e\\u003c\\u002fextra\\u003e\",\"legendgroup\":\"\",\"line\":{\"color\":\"#636efa\"},\"marker\":{\"symbol\":\"circle\"},\"mode\":\"lines\",\"name\":\"\",\"orientation\":\"v\",\"showlegend\":false,\"stackgroup\":\"1\",\"x\":[0.0,0.0,0.0,0.004807692307692308,0.004807692307692308,0.009615384615384616,0.009615384615384616,0.019230769230769232,0.019230769230769232,0.02403846153846154,0.02403846153846154,0.028846153846153848,0.028846153846153848,0.028846153846153848,0.028846153846153848,0.04807692307692308,0.04807692307692308,0.052884615384615384,0.052884615384615384,0.0673076923076923,0.0673076923076923,0.08653846153846154,0.08653846153846154,0.09134615384615384,0.09134615384615384,0.09615384615384616,0.09615384615384616,0.10576923076923077,0.10576923076923077,0.11057692307692307,0.11057692307692307,0.11538461538461539,0.11538461538461539,0.125,0.125,0.12980769230769232,0.12980769230769232,0.13942307692307693,0.13942307692307693,0.14903846153846154,0.14903846153846154,0.17307692307692307,0.17307692307692307,0.19230769230769232,0.19230769230769232,0.23076923076923078,0.23076923076923078,0.23557692307692307,0.23557692307692307,0.2403846153846154,0.2403846153846154,0.2548076923076923,0.2548076923076923,0.27403846153846156,0.27403846153846156,0.28365384615384615,0.28365384615384615,0.30288461538461536,0.30288461538461536,0.3173076923076923,0.3173076923076923,0.33653846153846156,0.33653846153846156,0.34615384615384615,0.34615384615384615,0.3701923076923077,0.3701923076923077,0.3942307692307692,0.3942307692307692,0.39903846153846156,0.39903846153846156,0.4567307692307692,0.4567307692307692,0.46153846153846156,0.46153846153846156,0.5,0.5,0.5192307692307693,0.5192307692307693,0.5576923076923077,0.5576923076923077,0.6490384615384616,0.6490384615384616,0.6586538461538461,0.6586538461538461,0.7115384615384616,0.7115384615384616,0.7355769230769231,0.7355769230769231,0.7980769230769231,0.7980769230769231,0.8221153846153846,0.8221153846153846,0.8317307692307693,0.8317307692307693,0.8413461538461539,0.8413461538461539,0.8990384615384616,0.8990384615384616,0.9567307692307693,0.9567307692307693,1.0],\"xaxis\":\"x\",\"y\":[0.0,0.008264462809917356,0.09917355371900827,0.09917355371900827,0.10743801652892562,0.10743801652892562,0.14049586776859505,0.14049586776859505,0.2066115702479339,0.2066115702479339,0.24793388429752067,0.24793388429752067,0.3140495867768595,0.3305785123966942,0.34710743801652894,0.34710743801652894,0.38016528925619836,0.38016528925619836,0.45454545454545453,0.45454545454545453,0.4628099173553719,0.4628099173553719,0.49586776859504134,0.49586776859504134,0.5206611570247934,0.5206611570247934,0.5371900826446281,0.5371900826446281,0.5785123966942148,0.5785123966942148,0.5950413223140496,0.5950413223140496,0.628099173553719,0.628099173553719,0.6446280991735537,0.6446280991735537,0.6694214876033058,0.6694214876033058,0.6859504132231405,0.6859504132231405,0.7024793388429752,0.7024793388429752,0.7272727272727273,0.7272727272727273,0.7520661157024794,0.7520661157024794,0.7603305785123967,0.7603305785123967,0.768595041322314,0.768595041322314,0.7768595041322314,0.7768595041322314,0.7933884297520661,0.7933884297520661,0.8016528925619835,0.8016528925619835,0.8099173553719008,0.8099173553719008,0.8181818181818182,0.8181818181818182,0.8264462809917356,0.8264462809917356,0.8347107438016529,0.8347107438016529,0.8429752066115702,0.8429752066115702,0.8512396694214877,0.8512396694214877,0.859504132231405,0.859504132231405,0.8677685950413223,0.8677685950413223,0.8760330578512396,0.8760330578512396,0.8842975206611571,0.8842975206611571,0.8925619834710744,0.8925619834710744,0.9090909090909091,0.9090909090909091,0.9173553719008265,0.9173553719008265,0.9256198347107438,0.9256198347107438,0.9338842975206612,0.9338842975206612,0.9421487603305785,0.9421487603305785,0.9504132231404959,0.9504132231404959,0.9586776859504132,0.9586776859504132,0.9669421487603306,0.9669421487603306,0.9752066115702479,0.9752066115702479,0.9834710743801653,0.9834710743801653,0.9917355371900827,0.9917355371900827,1.0,1.0],\"yaxis\":\"y\",\"type\":\"scatter\"}],                        {\"template\":{\"data\":{\"histogram2dcontour\":[{\"type\":\"histogram2dcontour\",\"colorbar\":{\"outlinewidth\":0,\"ticks\":\"\"},\"colorscale\":[[0.0,\"#0d0887\"],[0.1111111111111111,\"#46039f\"],[0.2222222222222222,\"#7201a8\"],[0.3333333333333333,\"#9c179e\"],[0.4444444444444444,\"#bd3786\"],[0.5555555555555556,\"#d8576b\"],[0.6666666666666666,\"#ed7953\"],[0.7777777777777778,\"#fb9f3a\"],[0.8888888888888888,\"#fdca26\"],[1.0,\"#f0f921\"]]}],\"choropleth\":[{\"type\":\"choropleth\",\"colorbar\":{\"outlinewidth\":0,\"ticks\":\"\"}}],\"histogram2d\":[{\"type\":\"histogram2d\",\"colorbar\":{\"outlinewidth\":0,\"ticks\":\"\"},\"colorscale\":[[0.0,\"#0d0887\"],[0.1111111111111111,\"#46039f\"],[0.2222222222222222,\"#7201a8\"],[0.3333333333333333,\"#9c179e\"],[0.4444444444444444,\"#bd3786\"],[0.5555555555555556,\"#d8576b\"],[0.6666666666666666,\"#ed7953\"],[0.7777777777777778,\"#fb9f3a\"],[0.8888888888888888,\"#fdca26\"],[1.0,\"#f0f921\"]]}],\"heatmap\":[{\"type\":\"heatmap\",\"colorbar\":{\"outlinewidth\":0,\"ticks\":\"\"},\"colorscale\":[[0.0,\"#0d0887\"],[0.1111111111111111,\"#46039f\"],[0.2222222222222222,\"#7201a8\"],[0.3333333333333333,\"#9c179e\"],[0.4444444444444444,\"#bd3786\"],[0.5555555555555556,\"#d8576b\"],[0.6666666666666666,\"#ed7953\"],[0.7777777777777778,\"#fb9f3a\"],[0.8888888888888888,\"#fdca26\"],[1.0,\"#f0f921\"]]}],\"heatmapgl\":[{\"type\":\"heatmapgl\",\"colorbar\":{\"outlinewidth\":0,\"ticks\":\"\"},\"colorscale\":[[0.0,\"#0d0887\"],[0.1111111111111111,\"#46039f\"],[0.2222222222222222,\"#7201a8\"],[0.3333333333333333,\"#9c179e\"],[0.4444444444444444,\"#bd3786\"],[0.5555555555555556,\"#d8576b\"],[0.6666666666666666,\"#ed7953\"],[0.7777777777777778,\"#fb9f3a\"],[0.8888888888888888,\"#fdca26\"],[1.0,\"#f0f921\"]]}],\"contourcarpet\":[{\"type\":\"contourcarpet\",\"colorbar\":{\"outlinewidth\":0,\"ticks\":\"\"}}],\"contour\":[{\"type\":\"contour\",\"colorbar\":{\"outlinewidth\":0,\"ticks\":\"\"},\"colorscale\":[[0.0,\"#0d0887\"],[0.1111111111111111,\"#46039f\"],[0.2222222222222222,\"#7201a8\"],[0.3333333333333333,\"#9c179e\"],[0.4444444444444444,\"#bd3786\"],[0.5555555555555556,\"#d8576b\"],[0.6666666666666666,\"#ed7953\"],[0.7777777777777778,\"#fb9f3a\"],[0.8888888888888888,\"#fdca26\"],[1.0,\"#f0f921\"]]}],\"surface\":[{\"type\":\"surface\",\"colorbar\":{\"outlinewidth\":0,\"ticks\":\"\"},\"colorscale\":[[0.0,\"#0d0887\"],[0.1111111111111111,\"#46039f\"],[0.2222222222222222,\"#7201a8\"],[0.3333333333333333,\"#9c179e\"],[0.4444444444444444,\"#bd3786\"],[0.5555555555555556,\"#d8576b\"],[0.6666666666666666,\"#ed7953\"],[0.7777777777777778,\"#fb9f3a\"],[0.8888888888888888,\"#fdca26\"],[1.0,\"#f0f921\"]]}],\"mesh3d\":[{\"type\":\"mesh3d\",\"colorbar\":{\"outlinewidth\":0,\"ticks\":\"\"}}],\"scatter\":[{\"fillpattern\":{\"fillmode\":\"overlay\",\"size\":10,\"solidity\":0.2},\"type\":\"scatter\"}],\"parcoords\":[{\"type\":\"parcoords\",\"line\":{\"colorbar\":{\"outlinewidth\":0,\"ticks\":\"\"}}}],\"scatterpolargl\":[{\"type\":\"scatterpolargl\",\"marker\":{\"colorbar\":{\"outlinewidth\":0,\"ticks\":\"\"}}}],\"bar\":[{\"error_x\":{\"color\":\"#2a3f5f\"},\"error_y\":{\"color\":\"#2a3f5f\"},\"marker\":{\"line\":{\"color\":\"#E5ECF6\",\"width\":0.5},\"pattern\":{\"fillmode\":\"overlay\",\"size\":10,\"solidity\":0.2}},\"type\":\"bar\"}],\"scattergeo\":[{\"type\":\"scattergeo\",\"marker\":{\"colorbar\":{\"outlinewidth\":0,\"ticks\":\"\"}}}],\"scatterpolar\":[{\"type\":\"scatterpolar\",\"marker\":{\"colorbar\":{\"outlinewidth\":0,\"ticks\":\"\"}}}],\"histogram\":[{\"marker\":{\"pattern\":{\"fillmode\":\"overlay\",\"size\":10,\"solidity\":0.2}},\"type\":\"histogram\"}],\"scattergl\":[{\"type\":\"scattergl\",\"marker\":{\"colorbar\":{\"outlinewidth\":0,\"ticks\":\"\"}}}],\"scatter3d\":[{\"type\":\"scatter3d\",\"line\":{\"colorbar\":{\"outlinewidth\":0,\"ticks\":\"\"}},\"marker\":{\"colorbar\":{\"outlinewidth\":0,\"ticks\":\"\"}}}],\"scattermapbox\":[{\"type\":\"scattermapbox\",\"marker\":{\"colorbar\":{\"outlinewidth\":0,\"ticks\":\"\"}}}],\"scatterternary\":[{\"type\":\"scatterternary\",\"marker\":{\"colorbar\":{\"outlinewidth\":0,\"ticks\":\"\"}}}],\"scattercarpet\":[{\"type\":\"scattercarpet\",\"marker\":{\"colorbar\":{\"outlinewidth\":0,\"ticks\":\"\"}}}],\"carpet\":[{\"aaxis\":{\"endlinecolor\":\"#2a3f5f\",\"gridcolor\":\"white\",\"linecolor\":\"white\",\"minorgridcolor\":\"white\",\"startlinecolor\":\"#2a3f5f\"},\"baxis\":{\"endlinecolor\":\"#2a3f5f\",\"gridcolor\":\"white\",\"linecolor\":\"white\",\"minorgridcolor\":\"white\",\"startlinecolor\":\"#2a3f5f\"},\"type\":\"carpet\"}],\"table\":[{\"cells\":{\"fill\":{\"color\":\"#EBF0F8\"},\"line\":{\"color\":\"white\"}},\"header\":{\"fill\":{\"color\":\"#C8D4E3\"},\"line\":{\"color\":\"white\"}},\"type\":\"table\"}],\"barpolar\":[{\"marker\":{\"line\":{\"color\":\"#E5ECF6\",\"width\":0.5},\"pattern\":{\"fillmode\":\"overlay\",\"size\":10,\"solidity\":0.2}},\"type\":\"barpolar\"}],\"pie\":[{\"automargin\":true,\"type\":\"pie\"}]},\"layout\":{\"autotypenumbers\":\"strict\",\"colorway\":[\"#636efa\",\"#EF553B\",\"#00cc96\",\"#ab63fa\",\"#FFA15A\",\"#19d3f3\",\"#FF6692\",\"#B6E880\",\"#FF97FF\",\"#FECB52\"],\"font\":{\"color\":\"#2a3f5f\"},\"hovermode\":\"closest\",\"hoverlabel\":{\"align\":\"left\"},\"paper_bgcolor\":\"white\",\"plot_bgcolor\":\"#E5ECF6\",\"polar\":{\"bgcolor\":\"#E5ECF6\",\"angularaxis\":{\"gridcolor\":\"white\",\"linecolor\":\"white\",\"ticks\":\"\"},\"radialaxis\":{\"gridcolor\":\"white\",\"linecolor\":\"white\",\"ticks\":\"\"}},\"ternary\":{\"bgcolor\":\"#E5ECF6\",\"aaxis\":{\"gridcolor\":\"white\",\"linecolor\":\"white\",\"ticks\":\"\"},\"baxis\":{\"gridcolor\":\"white\",\"linecolor\":\"white\",\"ticks\":\"\"},\"caxis\":{\"gridcolor\":\"white\",\"linecolor\":\"white\",\"ticks\":\"\"}},\"coloraxis\":{\"colorbar\":{\"outlinewidth\":0,\"ticks\":\"\"}},\"colorscale\":{\"sequential\":[[0.0,\"#0d0887\"],[0.1111111111111111,\"#46039f\"],[0.2222222222222222,\"#7201a8\"],[0.3333333333333333,\"#9c179e\"],[0.4444444444444444,\"#bd3786\"],[0.5555555555555556,\"#d8576b\"],[0.6666666666666666,\"#ed7953\"],[0.7777777777777778,\"#fb9f3a\"],[0.8888888888888888,\"#fdca26\"],[1.0,\"#f0f921\"]],\"sequentialminus\":[[0.0,\"#0d0887\"],[0.1111111111111111,\"#46039f\"],[0.2222222222222222,\"#7201a8\"],[0.3333333333333333,\"#9c179e\"],[0.4444444444444444,\"#bd3786\"],[0.5555555555555556,\"#d8576b\"],[0.6666666666666666,\"#ed7953\"],[0.7777777777777778,\"#fb9f3a\"],[0.8888888888888888,\"#fdca26\"],[1.0,\"#f0f921\"]],\"diverging\":[[0,\"#8e0152\"],[0.1,\"#c51b7d\"],[0.2,\"#de77ae\"],[0.3,\"#f1b6da\"],[0.4,\"#fde0ef\"],[0.5,\"#f7f7f7\"],[0.6,\"#e6f5d0\"],[0.7,\"#b8e186\"],[0.8,\"#7fbc41\"],[0.9,\"#4d9221\"],[1,\"#276419\"]]},\"xaxis\":{\"gridcolor\":\"white\",\"linecolor\":\"white\",\"ticks\":\"\",\"title\":{\"standoff\":15},\"zerolinecolor\":\"white\",\"automargin\":true,\"zerolinewidth\":2},\"yaxis\":{\"gridcolor\":\"white\",\"linecolor\":\"white\",\"ticks\":\"\",\"title\":{\"standoff\":15},\"zerolinecolor\":\"white\",\"automargin\":true,\"zerolinewidth\":2},\"scene\":{\"xaxis\":{\"backgroundcolor\":\"#E5ECF6\",\"gridcolor\":\"white\",\"linecolor\":\"white\",\"showbackground\":true,\"ticks\":\"\",\"zerolinecolor\":\"white\",\"gridwidth\":2},\"yaxis\":{\"backgroundcolor\":\"#E5ECF6\",\"gridcolor\":\"white\",\"linecolor\":\"white\",\"showbackground\":true,\"ticks\":\"\",\"zerolinecolor\":\"white\",\"gridwidth\":2},\"zaxis\":{\"backgroundcolor\":\"#E5ECF6\",\"gridcolor\":\"white\",\"linecolor\":\"white\",\"showbackground\":true,\"ticks\":\"\",\"zerolinecolor\":\"white\",\"gridwidth\":2}},\"shapedefaults\":{\"line\":{\"color\":\"#2a3f5f\"}},\"annotationdefaults\":{\"arrowcolor\":\"#2a3f5f\",\"arrowhead\":0,\"arrowwidth\":1},\"geo\":{\"bgcolor\":\"white\",\"landcolor\":\"#E5ECF6\",\"subunitcolor\":\"white\",\"showland\":true,\"showlakes\":true,\"lakecolor\":\"white\"},\"title\":{\"x\":0.05},\"mapbox\":{\"style\":\"light\"}}},\"xaxis\":{\"anchor\":\"y\",\"domain\":[0.0,1.0],\"title\":{\"text\":\"False Positive Rate\"},\"constrain\":\"domain\"},\"yaxis\":{\"anchor\":\"x\",\"domain\":[0.0,1.0],\"title\":{\"text\":\"True Positive Rate\"},\"scaleanchor\":\"x\",\"scaleratio\":1},\"legend\":{\"tracegroupgap\":0},\"title\":{\"text\":\"ROC Curve (AUC=0.8273 \\t AUC15=0.7010)\"},\"height\":500,\"width\":700,\"shapes\":[{\"line\":{\"dash\":\"dash\"},\"type\":\"line\",\"x0\":0,\"x1\":1,\"y0\":0,\"y1\":1}]},                        {\"responsive\": true}                    ).then(function(){\n",
       "                            \n",
       "var gd = document.getElementById('7dddbb3f-41d3-4c32-91d0-321649af87fb');\n",
       "var x = new MutationObserver(function (mutations, observer) {{\n",
       "        var display = window.getComputedStyle(gd).display;\n",
       "        if (!display || display === 'none') {{\n",
       "            console.log([gd, 'removed!']);\n",
       "            Plotly.purge(gd);\n",
       "            observer.disconnect();\n",
       "        }}\n",
       "}});\n",
       "\n",
       "// Listen for the removal of the full notebook cells\n",
       "var notebookContainer = gd.closest('#notebook-container');\n",
       "if (notebookContainer) {{\n",
       "    x.observe(notebookContainer, {childList: true});\n",
       "}}\n",
       "\n",
       "// Listen for the clearing of the current output cell\n",
       "var outputEl = gd.closest('.output');\n",
       "if (outputEl) {{\n",
       "    x.observe(outputEl, {childList: true});\n",
       "}}\n",
       "\n",
       "                        })                };                });            </script>        </div>"
      ]
     },
     "metadata": {},
     "output_type": "display_data"
    }
   ],
   "source": [
    "auroc_plot(comparacion[\"bioactivity\"],comparacion[\"prob_sebi\"])"
   ]
  },
  {
   "cell_type": "code",
   "execution_count": null,
   "metadata": {},
   "outputs": [],
   "source": []
  }
 ],
 "metadata": {
  "kernelspec": {
   "display_name": "Python 3",
   "language": "python",
   "name": "python3"
  },
  "language_info": {
   "codemirror_mode": {
    "name": "ipython",
    "version": 3
   },
   "file_extension": ".py",
   "mimetype": "text/x-python",
   "name": "python",
   "nbconvert_exporter": "python",
   "pygments_lexer": "ipython3",
   "version": "3.11.5"
  }
 },
 "nbformat": 4,
 "nbformat_minor": 2
}
