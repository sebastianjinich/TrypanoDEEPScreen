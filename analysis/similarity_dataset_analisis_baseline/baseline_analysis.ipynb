{
 "cells": [
  {
   "cell_type": "code",
   "execution_count": 66,
   "metadata": {},
   "outputs": [],
   "source": [
    "import pandas as pd\n",
    "import plotly.express as px"
   ]
  },
  {
   "cell_type": "code",
   "execution_count": 67,
   "metadata": {},
   "outputs": [
    {
     "data": {
      "text/html": [
       "<div>\n",
       "<style scoped>\n",
       "    .dataframe tbody tr th:only-of-type {\n",
       "        vertical-align: middle;\n",
       "    }\n",
       "\n",
       "    .dataframe tbody tr th {\n",
       "        vertical-align: top;\n",
       "    }\n",
       "\n",
       "    .dataframe thead th {\n",
       "        text-align: right;\n",
       "    }\n",
       "</style>\n",
       "<table border=\"1\" class=\"dataframe\">\n",
       "  <thead>\n",
       "    <tr style=\"text-align: right;\">\n",
       "      <th></th>\n",
       "      <th>max_RDKIT_BraunBlanquet</th>\n",
       "      <th>mean_RDKIT_BraunBlanquet</th>\n",
       "      <th>cuartile_RDKIT_BraunBlanquet</th>\n",
       "      <th>decile_RDKIT_BraunBlanquet</th>\n",
       "      <th>auroc_RDKIT_BraunBlanquet</th>\n",
       "      <th>aupr_RDKIT_BraunBlanquet</th>\n",
       "      <th>max_RDKIT_Tanimoto</th>\n",
       "      <th>mean_RDKIT_Tanimoto</th>\n",
       "      <th>cuartile_RDKIT_Tanimoto</th>\n",
       "      <th>decile_RDKIT_Tanimoto</th>\n",
       "      <th>...</th>\n",
       "      <th>decile_RAD2D_Tanimoto</th>\n",
       "      <th>auroc_RAD2D_Tanimoto</th>\n",
       "      <th>aupr_RAD2D_Tanimoto</th>\n",
       "      <th>max_RAD2D_Cosine</th>\n",
       "      <th>mean_RAD2D_Cosine</th>\n",
       "      <th>cuartile_RAD2D_Cosine</th>\n",
       "      <th>decile_RAD2D_Cosine</th>\n",
       "      <th>auroc_RAD2D_Cosine</th>\n",
       "      <th>aupr_RAD2D_Cosine</th>\n",
       "      <th>AUROC</th>\n",
       "    </tr>\n",
       "  </thead>\n",
       "  <tbody>\n",
       "    <tr>\n",
       "      <th>CHEMBL262</th>\n",
       "      <td>0.848272</td>\n",
       "      <td>0.714617</td>\n",
       "      <td>0.736166</td>\n",
       "      <td>0.751517</td>\n",
       "      <td>0.638891</td>\n",
       "      <td>0.700297</td>\n",
       "      <td>0.845640</td>\n",
       "      <td>0.703292</td>\n",
       "      <td>0.685525</td>\n",
       "      <td>0.711818</td>\n",
       "      <td>...</td>\n",
       "      <td>0.805430</td>\n",
       "      <td>0.590174</td>\n",
       "      <td>0.692125</td>\n",
       "      <td>0.865087</td>\n",
       "      <td>0.689168</td>\n",
       "      <td>0.782456</td>\n",
       "      <td>0.798142</td>\n",
       "      <td>0.599407</td>\n",
       "      <td>0.711955</td>\n",
       "      <td>AUROC</td>\n",
       "    </tr>\n",
       "    <tr>\n",
       "      <th>CHEMBL262</th>\n",
       "      <td>0.809021</td>\n",
       "      <td>0.681636</td>\n",
       "      <td>0.707906</td>\n",
       "      <td>0.728973</td>\n",
       "      <td>0.565030</td>\n",
       "      <td>0.641453</td>\n",
       "      <td>0.812571</td>\n",
       "      <td>0.652425</td>\n",
       "      <td>0.680064</td>\n",
       "      <td>0.708324</td>\n",
       "      <td>...</td>\n",
       "      <td>0.781965</td>\n",
       "      <td>0.566640</td>\n",
       "      <td>0.650555</td>\n",
       "      <td>0.828551</td>\n",
       "      <td>0.661137</td>\n",
       "      <td>0.752881</td>\n",
       "      <td>0.774437</td>\n",
       "      <td>0.572381</td>\n",
       "      <td>0.670955</td>\n",
       "      <td>AUROC30</td>\n",
       "    </tr>\n",
       "    <tr>\n",
       "      <th>CHEMBL262</th>\n",
       "      <td>0.782244</td>\n",
       "      <td>0.647839</td>\n",
       "      <td>0.683270</td>\n",
       "      <td>0.704489</td>\n",
       "      <td>0.528228</td>\n",
       "      <td>0.585945</td>\n",
       "      <td>0.784452</td>\n",
       "      <td>0.620385</td>\n",
       "      <td>0.667419</td>\n",
       "      <td>0.703446</td>\n",
       "      <td>...</td>\n",
       "      <td>0.749198</td>\n",
       "      <td>0.550505</td>\n",
       "      <td>0.602810</td>\n",
       "      <td>0.796794</td>\n",
       "      <td>0.644342</td>\n",
       "      <td>0.714795</td>\n",
       "      <td>0.740631</td>\n",
       "      <td>0.559101</td>\n",
       "      <td>0.624525</td>\n",
       "      <td>AUROC15</td>\n",
       "    </tr>\n",
       "    <tr>\n",
       "      <th>CHEMBL2581</th>\n",
       "      <td>0.907633</td>\n",
       "      <td>0.832017</td>\n",
       "      <td>0.858579</td>\n",
       "      <td>0.877702</td>\n",
       "      <td>0.807290</td>\n",
       "      <td>0.831459</td>\n",
       "      <td>0.908670</td>\n",
       "      <td>0.854929</td>\n",
       "      <td>0.875688</td>\n",
       "      <td>0.883744</td>\n",
       "      <td>...</td>\n",
       "      <td>0.883345</td>\n",
       "      <td>0.816782</td>\n",
       "      <td>0.833613</td>\n",
       "      <td>0.927953</td>\n",
       "      <td>0.851001</td>\n",
       "      <td>0.867452</td>\n",
       "      <td>0.883864</td>\n",
       "      <td>0.828687</td>\n",
       "      <td>0.847372</td>\n",
       "      <td>AUROC</td>\n",
       "    </tr>\n",
       "    <tr>\n",
       "      <th>CHEMBL2581</th>\n",
       "      <td>0.830349</td>\n",
       "      <td>0.715865</td>\n",
       "      <td>0.756411</td>\n",
       "      <td>0.782608</td>\n",
       "      <td>0.657207</td>\n",
       "      <td>0.698727</td>\n",
       "      <td>0.831722</td>\n",
       "      <td>0.746104</td>\n",
       "      <td>0.780571</td>\n",
       "      <td>0.795136</td>\n",
       "      <td>...</td>\n",
       "      <td>0.787390</td>\n",
       "      <td>0.676557</td>\n",
       "      <td>0.702621</td>\n",
       "      <td>0.867725</td>\n",
       "      <td>0.737690</td>\n",
       "      <td>0.766206</td>\n",
       "      <td>0.787007</td>\n",
       "      <td>0.699314</td>\n",
       "      <td>0.729198</td>\n",
       "      <td>AUROC30</td>\n",
       "    </tr>\n",
       "    <tr>\n",
       "      <th>CHEMBL2581</th>\n",
       "      <td>0.764330</td>\n",
       "      <td>0.657109</td>\n",
       "      <td>0.682867</td>\n",
       "      <td>0.709110</td>\n",
       "      <td>0.567202</td>\n",
       "      <td>0.628986</td>\n",
       "      <td>0.771735</td>\n",
       "      <td>0.670097</td>\n",
       "      <td>0.700404</td>\n",
       "      <td>0.711007</td>\n",
       "      <td>...</td>\n",
       "      <td>0.709519</td>\n",
       "      <td>0.575333</td>\n",
       "      <td>0.603577</td>\n",
       "      <td>0.813945</td>\n",
       "      <td>0.647731</td>\n",
       "      <td>0.673647</td>\n",
       "      <td>0.704378</td>\n",
       "      <td>0.601349</td>\n",
       "      <td>0.635594</td>\n",
       "      <td>AUROC15</td>\n",
       "    </tr>\n",
       "    <tr>\n",
       "      <th>CHEMBL2850</th>\n",
       "      <td>0.728494</td>\n",
       "      <td>0.590563</td>\n",
       "      <td>0.644646</td>\n",
       "      <td>0.679129</td>\n",
       "      <td>0.581307</td>\n",
       "      <td>0.605445</td>\n",
       "      <td>0.757350</td>\n",
       "      <td>0.592015</td>\n",
       "      <td>0.658802</td>\n",
       "      <td>0.640472</td>\n",
       "      <td>...</td>\n",
       "      <td>0.623956</td>\n",
       "      <td>0.539383</td>\n",
       "      <td>0.618512</td>\n",
       "      <td>0.657895</td>\n",
       "      <td>0.567877</td>\n",
       "      <td>0.677132</td>\n",
       "      <td>0.638657</td>\n",
       "      <td>0.535390</td>\n",
       "      <td>0.616697</td>\n",
       "      <td>AUROC</td>\n",
       "    </tr>\n",
       "    <tr>\n",
       "      <th>CHEMBL2850</th>\n",
       "      <td>0.657663</td>\n",
       "      <td>0.605174</td>\n",
       "      <td>0.638803</td>\n",
       "      <td>0.645386</td>\n",
       "      <td>0.592363</td>\n",
       "      <td>0.610156</td>\n",
       "      <td>0.682218</td>\n",
       "      <td>0.615138</td>\n",
       "      <td>0.645030</td>\n",
       "      <td>0.619942</td>\n",
       "      <td>...</td>\n",
       "      <td>0.596634</td>\n",
       "      <td>0.585246</td>\n",
       "      <td>0.607665</td>\n",
       "      <td>0.629728</td>\n",
       "      <td>0.586847</td>\n",
       "      <td>0.632219</td>\n",
       "      <td>0.607487</td>\n",
       "      <td>0.582043</td>\n",
       "      <td>0.601971</td>\n",
       "      <td>AUROC30</td>\n",
       "    </tr>\n",
       "    <tr>\n",
       "      <th>CHEMBL2850</th>\n",
       "      <td>0.652229</td>\n",
       "      <td>0.583722</td>\n",
       "      <td>0.613152</td>\n",
       "      <td>0.623943</td>\n",
       "      <td>0.561976</td>\n",
       "      <td>0.583558</td>\n",
       "      <td>0.651739</td>\n",
       "      <td>0.594022</td>\n",
       "      <td>0.622472</td>\n",
       "      <td>0.608411</td>\n",
       "      <td>...</td>\n",
       "      <td>0.595494</td>\n",
       "      <td>0.590752</td>\n",
       "      <td>0.591406</td>\n",
       "      <td>0.622145</td>\n",
       "      <td>0.597783</td>\n",
       "      <td>0.614951</td>\n",
       "      <td>0.592224</td>\n",
       "      <td>0.582904</td>\n",
       "      <td>0.588136</td>\n",
       "      <td>AUROC15</td>\n",
       "    </tr>\n",
       "    <tr>\n",
       "      <th>CHEMBL4072</th>\n",
       "      <td>0.888360</td>\n",
       "      <td>0.797403</td>\n",
       "      <td>0.762963</td>\n",
       "      <td>0.797258</td>\n",
       "      <td>0.741318</td>\n",
       "      <td>0.771380</td>\n",
       "      <td>0.897018</td>\n",
       "      <td>0.811304</td>\n",
       "      <td>0.758971</td>\n",
       "      <td>0.821886</td>\n",
       "      <td>...</td>\n",
       "      <td>0.821789</td>\n",
       "      <td>0.685570</td>\n",
       "      <td>0.735113</td>\n",
       "      <td>0.913516</td>\n",
       "      <td>0.778980</td>\n",
       "      <td>0.768735</td>\n",
       "      <td>0.803656</td>\n",
       "      <td>0.686676</td>\n",
       "      <td>0.732227</td>\n",
       "      <td>AUROC</td>\n",
       "    </tr>\n",
       "    <tr>\n",
       "      <th>CHEMBL4072</th>\n",
       "      <td>0.816965</td>\n",
       "      <td>0.713805</td>\n",
       "      <td>0.672608</td>\n",
       "      <td>0.688170</td>\n",
       "      <td>0.650699</td>\n",
       "      <td>0.707655</td>\n",
       "      <td>0.839949</td>\n",
       "      <td>0.723066</td>\n",
       "      <td>0.648483</td>\n",
       "      <td>0.717955</td>\n",
       "      <td>...</td>\n",
       "      <td>0.697158</td>\n",
       "      <td>0.600175</td>\n",
       "      <td>0.639212</td>\n",
       "      <td>0.859925</td>\n",
       "      <td>0.681229</td>\n",
       "      <td>0.644824</td>\n",
       "      <td>0.675504</td>\n",
       "      <td>0.600562</td>\n",
       "      <td>0.644937</td>\n",
       "      <td>AUROC30</td>\n",
       "    </tr>\n",
       "    <tr>\n",
       "      <th>CHEMBL4072</th>\n",
       "      <td>0.768990</td>\n",
       "      <td>0.657259</td>\n",
       "      <td>0.606568</td>\n",
       "      <td>0.619689</td>\n",
       "      <td>0.623095</td>\n",
       "      <td>0.637577</td>\n",
       "      <td>0.791783</td>\n",
       "      <td>0.656592</td>\n",
       "      <td>0.594720</td>\n",
       "      <td>0.642560</td>\n",
       "      <td>...</td>\n",
       "      <td>0.612565</td>\n",
       "      <td>0.563148</td>\n",
       "      <td>0.602347</td>\n",
       "      <td>0.812600</td>\n",
       "      <td>0.633174</td>\n",
       "      <td>0.604566</td>\n",
       "      <td>0.600778</td>\n",
       "      <td>0.565947</td>\n",
       "      <td>0.612348</td>\n",
       "      <td>AUROC15</td>\n",
       "    </tr>\n",
       "    <tr>\n",
       "      <th>CHEMBL4657</th>\n",
       "      <td>0.904776</td>\n",
       "      <td>0.740962</td>\n",
       "      <td>0.864616</td>\n",
       "      <td>0.887910</td>\n",
       "      <td>0.644986</td>\n",
       "      <td>0.759330</td>\n",
       "      <td>0.902688</td>\n",
       "      <td>0.793145</td>\n",
       "      <td>0.874301</td>\n",
       "      <td>0.896218</td>\n",
       "      <td>...</td>\n",
       "      <td>0.881105</td>\n",
       "      <td>0.640645</td>\n",
       "      <td>0.756325</td>\n",
       "      <td>0.905235</td>\n",
       "      <td>0.778325</td>\n",
       "      <td>0.842615</td>\n",
       "      <td>0.876179</td>\n",
       "      <td>0.636470</td>\n",
       "      <td>0.756408</td>\n",
       "      <td>AUROC</td>\n",
       "    </tr>\n",
       "    <tr>\n",
       "      <th>CHEMBL4657</th>\n",
       "      <td>0.848844</td>\n",
       "      <td>0.605993</td>\n",
       "      <td>0.801343</td>\n",
       "      <td>0.829289</td>\n",
       "      <td>0.542563</td>\n",
       "      <td>0.654166</td>\n",
       "      <td>0.847354</td>\n",
       "      <td>0.686008</td>\n",
       "      <td>0.815905</td>\n",
       "      <td>0.840749</td>\n",
       "      <td>...</td>\n",
       "      <td>0.830181</td>\n",
       "      <td>0.541507</td>\n",
       "      <td>0.671126</td>\n",
       "      <td>0.855614</td>\n",
       "      <td>0.671143</td>\n",
       "      <td>0.779586</td>\n",
       "      <td>0.823575</td>\n",
       "      <td>0.546958</td>\n",
       "      <td>0.672043</td>\n",
       "      <td>AUROC30</td>\n",
       "    </tr>\n",
       "    <tr>\n",
       "      <th>CHEMBL4657</th>\n",
       "      <td>0.807770</td>\n",
       "      <td>0.554100</td>\n",
       "      <td>0.770235</td>\n",
       "      <td>0.788010</td>\n",
       "      <td>0.503470</td>\n",
       "      <td>0.588671</td>\n",
       "      <td>0.798676</td>\n",
       "      <td>0.602602</td>\n",
       "      <td>0.777043</td>\n",
       "      <td>0.796336</td>\n",
       "      <td>...</td>\n",
       "      <td>0.788762</td>\n",
       "      <td>0.505433</td>\n",
       "      <td>0.557485</td>\n",
       "      <td>0.814103</td>\n",
       "      <td>0.553175</td>\n",
       "      <td>0.717296</td>\n",
       "      <td>0.778081</td>\n",
       "      <td>0.506787</td>\n",
       "      <td>0.554973</td>\n",
       "      <td>AUROC15</td>\n",
       "    </tr>\n",
       "    <tr>\n",
       "      <th>CHEMBL5567</th>\n",
       "      <td>0.719409</td>\n",
       "      <td>0.712237</td>\n",
       "      <td>0.771102</td>\n",
       "      <td>0.829085</td>\n",
       "      <td>0.720512</td>\n",
       "      <td>0.765420</td>\n",
       "      <td>0.699603</td>\n",
       "      <td>0.600353</td>\n",
       "      <td>0.658612</td>\n",
       "      <td>0.786826</td>\n",
       "      <td>...</td>\n",
       "      <td>0.793501</td>\n",
       "      <td>0.769061</td>\n",
       "      <td>0.794494</td>\n",
       "      <td>0.729229</td>\n",
       "      <td>0.782578</td>\n",
       "      <td>0.801666</td>\n",
       "      <td>0.818493</td>\n",
       "      <td>0.800342</td>\n",
       "      <td>0.825223</td>\n",
       "      <td>AUROC</td>\n",
       "    </tr>\n",
       "    <tr>\n",
       "      <th>CHEMBL5567</th>\n",
       "      <td>0.681727</td>\n",
       "      <td>0.598345</td>\n",
       "      <td>0.660654</td>\n",
       "      <td>0.752517</td>\n",
       "      <td>0.607410</td>\n",
       "      <td>0.664678</td>\n",
       "      <td>0.655484</td>\n",
       "      <td>0.609314</td>\n",
       "      <td>0.596853</td>\n",
       "      <td>0.689451</td>\n",
       "      <td>...</td>\n",
       "      <td>0.723331</td>\n",
       "      <td>0.678092</td>\n",
       "      <td>0.698234</td>\n",
       "      <td>0.686768</td>\n",
       "      <td>0.713898</td>\n",
       "      <td>0.721470</td>\n",
       "      <td>0.737415</td>\n",
       "      <td>0.718182</td>\n",
       "      <td>0.730427</td>\n",
       "      <td>AUROC30</td>\n",
       "    </tr>\n",
       "    <tr>\n",
       "      <th>CHEMBL5567</th>\n",
       "      <td>0.662503</td>\n",
       "      <td>0.558645</td>\n",
       "      <td>0.591031</td>\n",
       "      <td>0.703974</td>\n",
       "      <td>0.570474</td>\n",
       "      <td>0.605763</td>\n",
       "      <td>0.613357</td>\n",
       "      <td>0.573834</td>\n",
       "      <td>0.561746</td>\n",
       "      <td>0.632363</td>\n",
       "      <td>...</td>\n",
       "      <td>0.679342</td>\n",
       "      <td>0.615703</td>\n",
       "      <td>0.639103</td>\n",
       "      <td>0.639043</td>\n",
       "      <td>0.658069</td>\n",
       "      <td>0.675246</td>\n",
       "      <td>0.685584</td>\n",
       "      <td>0.639918</td>\n",
       "      <td>0.669540</td>\n",
       "      <td>AUROC15</td>\n",
       "    </tr>\n",
       "  </tbody>\n",
       "</table>\n",
       "<p>18 rows × 73 columns</p>\n",
       "</div>"
      ],
      "text/plain": [
       "            max_RDKIT_BraunBlanquet  mean_RDKIT_BraunBlanquet  \\\n",
       "CHEMBL262                  0.848272                  0.714617   \n",
       "CHEMBL262                  0.809021                  0.681636   \n",
       "CHEMBL262                  0.782244                  0.647839   \n",
       "CHEMBL2581                 0.907633                  0.832017   \n",
       "CHEMBL2581                 0.830349                  0.715865   \n",
       "CHEMBL2581                 0.764330                  0.657109   \n",
       "CHEMBL2850                 0.728494                  0.590563   \n",
       "CHEMBL2850                 0.657663                  0.605174   \n",
       "CHEMBL2850                 0.652229                  0.583722   \n",
       "CHEMBL4072                 0.888360                  0.797403   \n",
       "CHEMBL4072                 0.816965                  0.713805   \n",
       "CHEMBL4072                 0.768990                  0.657259   \n",
       "CHEMBL4657                 0.904776                  0.740962   \n",
       "CHEMBL4657                 0.848844                  0.605993   \n",
       "CHEMBL4657                 0.807770                  0.554100   \n",
       "CHEMBL5567                 0.719409                  0.712237   \n",
       "CHEMBL5567                 0.681727                  0.598345   \n",
       "CHEMBL5567                 0.662503                  0.558645   \n",
       "\n",
       "            cuartile_RDKIT_BraunBlanquet  decile_RDKIT_BraunBlanquet  \\\n",
       "CHEMBL262                       0.736166                    0.751517   \n",
       "CHEMBL262                       0.707906                    0.728973   \n",
       "CHEMBL262                       0.683270                    0.704489   \n",
       "CHEMBL2581                      0.858579                    0.877702   \n",
       "CHEMBL2581                      0.756411                    0.782608   \n",
       "CHEMBL2581                      0.682867                    0.709110   \n",
       "CHEMBL2850                      0.644646                    0.679129   \n",
       "CHEMBL2850                      0.638803                    0.645386   \n",
       "CHEMBL2850                      0.613152                    0.623943   \n",
       "CHEMBL4072                      0.762963                    0.797258   \n",
       "CHEMBL4072                      0.672608                    0.688170   \n",
       "CHEMBL4072                      0.606568                    0.619689   \n",
       "CHEMBL4657                      0.864616                    0.887910   \n",
       "CHEMBL4657                      0.801343                    0.829289   \n",
       "CHEMBL4657                      0.770235                    0.788010   \n",
       "CHEMBL5567                      0.771102                    0.829085   \n",
       "CHEMBL5567                      0.660654                    0.752517   \n",
       "CHEMBL5567                      0.591031                    0.703974   \n",
       "\n",
       "            auroc_RDKIT_BraunBlanquet  aupr_RDKIT_BraunBlanquet  \\\n",
       "CHEMBL262                    0.638891                  0.700297   \n",
       "CHEMBL262                    0.565030                  0.641453   \n",
       "CHEMBL262                    0.528228                  0.585945   \n",
       "CHEMBL2581                   0.807290                  0.831459   \n",
       "CHEMBL2581                   0.657207                  0.698727   \n",
       "CHEMBL2581                   0.567202                  0.628986   \n",
       "CHEMBL2850                   0.581307                  0.605445   \n",
       "CHEMBL2850                   0.592363                  0.610156   \n",
       "CHEMBL2850                   0.561976                  0.583558   \n",
       "CHEMBL4072                   0.741318                  0.771380   \n",
       "CHEMBL4072                   0.650699                  0.707655   \n",
       "CHEMBL4072                   0.623095                  0.637577   \n",
       "CHEMBL4657                   0.644986                  0.759330   \n",
       "CHEMBL4657                   0.542563                  0.654166   \n",
       "CHEMBL4657                   0.503470                  0.588671   \n",
       "CHEMBL5567                   0.720512                  0.765420   \n",
       "CHEMBL5567                   0.607410                  0.664678   \n",
       "CHEMBL5567                   0.570474                  0.605763   \n",
       "\n",
       "            max_RDKIT_Tanimoto  mean_RDKIT_Tanimoto  cuartile_RDKIT_Tanimoto  \\\n",
       "CHEMBL262             0.845640             0.703292                 0.685525   \n",
       "CHEMBL262             0.812571             0.652425                 0.680064   \n",
       "CHEMBL262             0.784452             0.620385                 0.667419   \n",
       "CHEMBL2581            0.908670             0.854929                 0.875688   \n",
       "CHEMBL2581            0.831722             0.746104                 0.780571   \n",
       "CHEMBL2581            0.771735             0.670097                 0.700404   \n",
       "CHEMBL2850            0.757350             0.592015                 0.658802   \n",
       "CHEMBL2850            0.682218             0.615138                 0.645030   \n",
       "CHEMBL2850            0.651739             0.594022                 0.622472   \n",
       "CHEMBL4072            0.897018             0.811304                 0.758971   \n",
       "CHEMBL4072            0.839949             0.723066                 0.648483   \n",
       "CHEMBL4072            0.791783             0.656592                 0.594720   \n",
       "CHEMBL4657            0.902688             0.793145                 0.874301   \n",
       "CHEMBL4657            0.847354             0.686008                 0.815905   \n",
       "CHEMBL4657            0.798676             0.602602                 0.777043   \n",
       "CHEMBL5567            0.699603             0.600353                 0.658612   \n",
       "CHEMBL5567            0.655484             0.609314                 0.596853   \n",
       "CHEMBL5567            0.613357             0.573834                 0.561746   \n",
       "\n",
       "            decile_RDKIT_Tanimoto  ...  decile_RAD2D_Tanimoto  \\\n",
       "CHEMBL262                0.711818  ...               0.805430   \n",
       "CHEMBL262                0.708324  ...               0.781965   \n",
       "CHEMBL262                0.703446  ...               0.749198   \n",
       "CHEMBL2581               0.883744  ...               0.883345   \n",
       "CHEMBL2581               0.795136  ...               0.787390   \n",
       "CHEMBL2581               0.711007  ...               0.709519   \n",
       "CHEMBL2850               0.640472  ...               0.623956   \n",
       "CHEMBL2850               0.619942  ...               0.596634   \n",
       "CHEMBL2850               0.608411  ...               0.595494   \n",
       "CHEMBL4072               0.821886  ...               0.821789   \n",
       "CHEMBL4072               0.717955  ...               0.697158   \n",
       "CHEMBL4072               0.642560  ...               0.612565   \n",
       "CHEMBL4657               0.896218  ...               0.881105   \n",
       "CHEMBL4657               0.840749  ...               0.830181   \n",
       "CHEMBL4657               0.796336  ...               0.788762   \n",
       "CHEMBL5567               0.786826  ...               0.793501   \n",
       "CHEMBL5567               0.689451  ...               0.723331   \n",
       "CHEMBL5567               0.632363  ...               0.679342   \n",
       "\n",
       "            auroc_RAD2D_Tanimoto  aupr_RAD2D_Tanimoto  max_RAD2D_Cosine  \\\n",
       "CHEMBL262               0.590174             0.692125          0.865087   \n",
       "CHEMBL262               0.566640             0.650555          0.828551   \n",
       "CHEMBL262               0.550505             0.602810          0.796794   \n",
       "CHEMBL2581              0.816782             0.833613          0.927953   \n",
       "CHEMBL2581              0.676557             0.702621          0.867725   \n",
       "CHEMBL2581              0.575333             0.603577          0.813945   \n",
       "CHEMBL2850              0.539383             0.618512          0.657895   \n",
       "CHEMBL2850              0.585246             0.607665          0.629728   \n",
       "CHEMBL2850              0.590752             0.591406          0.622145   \n",
       "CHEMBL4072              0.685570             0.735113          0.913516   \n",
       "CHEMBL4072              0.600175             0.639212          0.859925   \n",
       "CHEMBL4072              0.563148             0.602347          0.812600   \n",
       "CHEMBL4657              0.640645             0.756325          0.905235   \n",
       "CHEMBL4657              0.541507             0.671126          0.855614   \n",
       "CHEMBL4657              0.505433             0.557485          0.814103   \n",
       "CHEMBL5567              0.769061             0.794494          0.729229   \n",
       "CHEMBL5567              0.678092             0.698234          0.686768   \n",
       "CHEMBL5567              0.615703             0.639103          0.639043   \n",
       "\n",
       "            mean_RAD2D_Cosine  cuartile_RAD2D_Cosine  decile_RAD2D_Cosine  \\\n",
       "CHEMBL262            0.689168               0.782456             0.798142   \n",
       "CHEMBL262            0.661137               0.752881             0.774437   \n",
       "CHEMBL262            0.644342               0.714795             0.740631   \n",
       "CHEMBL2581           0.851001               0.867452             0.883864   \n",
       "CHEMBL2581           0.737690               0.766206             0.787007   \n",
       "CHEMBL2581           0.647731               0.673647             0.704378   \n",
       "CHEMBL2850           0.567877               0.677132             0.638657   \n",
       "CHEMBL2850           0.586847               0.632219             0.607487   \n",
       "CHEMBL2850           0.597783               0.614951             0.592224   \n",
       "CHEMBL4072           0.778980               0.768735             0.803656   \n",
       "CHEMBL4072           0.681229               0.644824             0.675504   \n",
       "CHEMBL4072           0.633174               0.604566             0.600778   \n",
       "CHEMBL4657           0.778325               0.842615             0.876179   \n",
       "CHEMBL4657           0.671143               0.779586             0.823575   \n",
       "CHEMBL4657           0.553175               0.717296             0.778081   \n",
       "CHEMBL5567           0.782578               0.801666             0.818493   \n",
       "CHEMBL5567           0.713898               0.721470             0.737415   \n",
       "CHEMBL5567           0.658069               0.675246             0.685584   \n",
       "\n",
       "            auroc_RAD2D_Cosine  aupr_RAD2D_Cosine    AUROC  \n",
       "CHEMBL262             0.599407           0.711955    AUROC  \n",
       "CHEMBL262             0.572381           0.670955  AUROC30  \n",
       "CHEMBL262             0.559101           0.624525  AUROC15  \n",
       "CHEMBL2581            0.828687           0.847372    AUROC  \n",
       "CHEMBL2581            0.699314           0.729198  AUROC30  \n",
       "CHEMBL2581            0.601349           0.635594  AUROC15  \n",
       "CHEMBL2850            0.535390           0.616697    AUROC  \n",
       "CHEMBL2850            0.582043           0.601971  AUROC30  \n",
       "CHEMBL2850            0.582904           0.588136  AUROC15  \n",
       "CHEMBL4072            0.686676           0.732227    AUROC  \n",
       "CHEMBL4072            0.600562           0.644937  AUROC30  \n",
       "CHEMBL4072            0.565947           0.612348  AUROC15  \n",
       "CHEMBL4657            0.636470           0.756408    AUROC  \n",
       "CHEMBL4657            0.546958           0.672043  AUROC30  \n",
       "CHEMBL4657            0.506787           0.554973  AUROC15  \n",
       "CHEMBL5567            0.800342           0.825223    AUROC  \n",
       "CHEMBL5567            0.718182           0.730427  AUROC30  \n",
       "CHEMBL5567            0.639918           0.669540  AUROC15  \n",
       "\n",
       "[18 rows x 73 columns]"
      ]
     },
     "execution_count": 67,
     "metadata": {},
     "output_type": "execute_result"
    }
   ],
   "source": [
    "grid = pd.read_csv(\"/home/sjinich/disco/TrypanoDEEPscreen/analysis/similarity_dataset_analisis_baseline/baseline_gridsearch_all_targets.csv\",index_col=0)\n",
    "grid"
   ]
  },
  {
   "cell_type": "code",
   "execution_count": 68,
   "metadata": {},
   "outputs": [
    {
     "data": {
      "text/html": [
       "<div>\n",
       "<style scoped>\n",
       "    .dataframe tbody tr th:only-of-type {\n",
       "        vertical-align: middle;\n",
       "    }\n",
       "\n",
       "    .dataframe tbody tr th {\n",
       "        vertical-align: top;\n",
       "    }\n",
       "\n",
       "    .dataframe thead th {\n",
       "        text-align: right;\n",
       "    }\n",
       "</style>\n",
       "<table border=\"1\" class=\"dataframe\">\n",
       "  <thead>\n",
       "    <tr style=\"text-align: right;\">\n",
       "      <th></th>\n",
       "      <th>max_RDKIT_BraunBlanquet</th>\n",
       "      <th>mean_RDKIT_BraunBlanquet</th>\n",
       "      <th>cuartile_RDKIT_BraunBlanquet</th>\n",
       "      <th>decile_RDKIT_BraunBlanquet</th>\n",
       "      <th>auroc_RDKIT_BraunBlanquet</th>\n",
       "      <th>aupr_RDKIT_BraunBlanquet</th>\n",
       "      <th>max_RDKIT_Tanimoto</th>\n",
       "      <th>mean_RDKIT_Tanimoto</th>\n",
       "      <th>cuartile_RDKIT_Tanimoto</th>\n",
       "      <th>decile_RDKIT_Tanimoto</th>\n",
       "      <th>...</th>\n",
       "      <th>decile_RAD2D_Tanimoto</th>\n",
       "      <th>auroc_RAD2D_Tanimoto</th>\n",
       "      <th>aupr_RAD2D_Tanimoto</th>\n",
       "      <th>max_RAD2D_Cosine</th>\n",
       "      <th>mean_RAD2D_Cosine</th>\n",
       "      <th>cuartile_RAD2D_Cosine</th>\n",
       "      <th>decile_RAD2D_Cosine</th>\n",
       "      <th>auroc_RAD2D_Cosine</th>\n",
       "      <th>aupr_RAD2D_Cosine</th>\n",
       "      <th>AUROC</th>\n",
       "    </tr>\n",
       "  </thead>\n",
       "  <tbody>\n",
       "    <tr>\n",
       "      <th>CHEMBL262</th>\n",
       "      <td>0.848272</td>\n",
       "      <td>0.714617</td>\n",
       "      <td>0.736166</td>\n",
       "      <td>0.751517</td>\n",
       "      <td>0.638891</td>\n",
       "      <td>0.700297</td>\n",
       "      <td>0.845640</td>\n",
       "      <td>0.703292</td>\n",
       "      <td>0.685525</td>\n",
       "      <td>0.711818</td>\n",
       "      <td>...</td>\n",
       "      <td>0.805430</td>\n",
       "      <td>0.590174</td>\n",
       "      <td>0.692125</td>\n",
       "      <td>0.865087</td>\n",
       "      <td>0.689168</td>\n",
       "      <td>0.782456</td>\n",
       "      <td>0.798142</td>\n",
       "      <td>0.599407</td>\n",
       "      <td>0.711955</td>\n",
       "      <td>AUROC</td>\n",
       "    </tr>\n",
       "    <tr>\n",
       "      <th>CHEMBL2581</th>\n",
       "      <td>0.907633</td>\n",
       "      <td>0.832017</td>\n",
       "      <td>0.858579</td>\n",
       "      <td>0.877702</td>\n",
       "      <td>0.807290</td>\n",
       "      <td>0.831459</td>\n",
       "      <td>0.908670</td>\n",
       "      <td>0.854929</td>\n",
       "      <td>0.875688</td>\n",
       "      <td>0.883744</td>\n",
       "      <td>...</td>\n",
       "      <td>0.883345</td>\n",
       "      <td>0.816782</td>\n",
       "      <td>0.833613</td>\n",
       "      <td>0.927953</td>\n",
       "      <td>0.851001</td>\n",
       "      <td>0.867452</td>\n",
       "      <td>0.883864</td>\n",
       "      <td>0.828687</td>\n",
       "      <td>0.847372</td>\n",
       "      <td>AUROC</td>\n",
       "    </tr>\n",
       "    <tr>\n",
       "      <th>CHEMBL2850</th>\n",
       "      <td>0.728494</td>\n",
       "      <td>0.590563</td>\n",
       "      <td>0.644646</td>\n",
       "      <td>0.679129</td>\n",
       "      <td>0.581307</td>\n",
       "      <td>0.605445</td>\n",
       "      <td>0.757350</td>\n",
       "      <td>0.592015</td>\n",
       "      <td>0.658802</td>\n",
       "      <td>0.640472</td>\n",
       "      <td>...</td>\n",
       "      <td>0.623956</td>\n",
       "      <td>0.539383</td>\n",
       "      <td>0.618512</td>\n",
       "      <td>0.657895</td>\n",
       "      <td>0.567877</td>\n",
       "      <td>0.677132</td>\n",
       "      <td>0.638657</td>\n",
       "      <td>0.535390</td>\n",
       "      <td>0.616697</td>\n",
       "      <td>AUROC</td>\n",
       "    </tr>\n",
       "    <tr>\n",
       "      <th>CHEMBL4072</th>\n",
       "      <td>0.888360</td>\n",
       "      <td>0.797403</td>\n",
       "      <td>0.762963</td>\n",
       "      <td>0.797258</td>\n",
       "      <td>0.741318</td>\n",
       "      <td>0.771380</td>\n",
       "      <td>0.897018</td>\n",
       "      <td>0.811304</td>\n",
       "      <td>0.758971</td>\n",
       "      <td>0.821886</td>\n",
       "      <td>...</td>\n",
       "      <td>0.821789</td>\n",
       "      <td>0.685570</td>\n",
       "      <td>0.735113</td>\n",
       "      <td>0.913516</td>\n",
       "      <td>0.778980</td>\n",
       "      <td>0.768735</td>\n",
       "      <td>0.803656</td>\n",
       "      <td>0.686676</td>\n",
       "      <td>0.732227</td>\n",
       "      <td>AUROC</td>\n",
       "    </tr>\n",
       "    <tr>\n",
       "      <th>CHEMBL4657</th>\n",
       "      <td>0.904776</td>\n",
       "      <td>0.740962</td>\n",
       "      <td>0.864616</td>\n",
       "      <td>0.887910</td>\n",
       "      <td>0.644986</td>\n",
       "      <td>0.759330</td>\n",
       "      <td>0.902688</td>\n",
       "      <td>0.793145</td>\n",
       "      <td>0.874301</td>\n",
       "      <td>0.896218</td>\n",
       "      <td>...</td>\n",
       "      <td>0.881105</td>\n",
       "      <td>0.640645</td>\n",
       "      <td>0.756325</td>\n",
       "      <td>0.905235</td>\n",
       "      <td>0.778325</td>\n",
       "      <td>0.842615</td>\n",
       "      <td>0.876179</td>\n",
       "      <td>0.636470</td>\n",
       "      <td>0.756408</td>\n",
       "      <td>AUROC</td>\n",
       "    </tr>\n",
       "    <tr>\n",
       "      <th>CHEMBL5567</th>\n",
       "      <td>0.719409</td>\n",
       "      <td>0.712237</td>\n",
       "      <td>0.771102</td>\n",
       "      <td>0.829085</td>\n",
       "      <td>0.720512</td>\n",
       "      <td>0.765420</td>\n",
       "      <td>0.699603</td>\n",
       "      <td>0.600353</td>\n",
       "      <td>0.658612</td>\n",
       "      <td>0.786826</td>\n",
       "      <td>...</td>\n",
       "      <td>0.793501</td>\n",
       "      <td>0.769061</td>\n",
       "      <td>0.794494</td>\n",
       "      <td>0.729229</td>\n",
       "      <td>0.782578</td>\n",
       "      <td>0.801666</td>\n",
       "      <td>0.818493</td>\n",
       "      <td>0.800342</td>\n",
       "      <td>0.825223</td>\n",
       "      <td>AUROC</td>\n",
       "    </tr>\n",
       "  </tbody>\n",
       "</table>\n",
       "<p>6 rows × 73 columns</p>\n",
       "</div>"
      ],
      "text/plain": [
       "            max_RDKIT_BraunBlanquet  mean_RDKIT_BraunBlanquet  \\\n",
       "CHEMBL262                  0.848272                  0.714617   \n",
       "CHEMBL2581                 0.907633                  0.832017   \n",
       "CHEMBL2850                 0.728494                  0.590563   \n",
       "CHEMBL4072                 0.888360                  0.797403   \n",
       "CHEMBL4657                 0.904776                  0.740962   \n",
       "CHEMBL5567                 0.719409                  0.712237   \n",
       "\n",
       "            cuartile_RDKIT_BraunBlanquet  decile_RDKIT_BraunBlanquet  \\\n",
       "CHEMBL262                       0.736166                    0.751517   \n",
       "CHEMBL2581                      0.858579                    0.877702   \n",
       "CHEMBL2850                      0.644646                    0.679129   \n",
       "CHEMBL4072                      0.762963                    0.797258   \n",
       "CHEMBL4657                      0.864616                    0.887910   \n",
       "CHEMBL5567                      0.771102                    0.829085   \n",
       "\n",
       "            auroc_RDKIT_BraunBlanquet  aupr_RDKIT_BraunBlanquet  \\\n",
       "CHEMBL262                    0.638891                  0.700297   \n",
       "CHEMBL2581                   0.807290                  0.831459   \n",
       "CHEMBL2850                   0.581307                  0.605445   \n",
       "CHEMBL4072                   0.741318                  0.771380   \n",
       "CHEMBL4657                   0.644986                  0.759330   \n",
       "CHEMBL5567                   0.720512                  0.765420   \n",
       "\n",
       "            max_RDKIT_Tanimoto  mean_RDKIT_Tanimoto  cuartile_RDKIT_Tanimoto  \\\n",
       "CHEMBL262             0.845640             0.703292                 0.685525   \n",
       "CHEMBL2581            0.908670             0.854929                 0.875688   \n",
       "CHEMBL2850            0.757350             0.592015                 0.658802   \n",
       "CHEMBL4072            0.897018             0.811304                 0.758971   \n",
       "CHEMBL4657            0.902688             0.793145                 0.874301   \n",
       "CHEMBL5567            0.699603             0.600353                 0.658612   \n",
       "\n",
       "            decile_RDKIT_Tanimoto  ...  decile_RAD2D_Tanimoto  \\\n",
       "CHEMBL262                0.711818  ...               0.805430   \n",
       "CHEMBL2581               0.883744  ...               0.883345   \n",
       "CHEMBL2850               0.640472  ...               0.623956   \n",
       "CHEMBL4072               0.821886  ...               0.821789   \n",
       "CHEMBL4657               0.896218  ...               0.881105   \n",
       "CHEMBL5567               0.786826  ...               0.793501   \n",
       "\n",
       "            auroc_RAD2D_Tanimoto  aupr_RAD2D_Tanimoto  max_RAD2D_Cosine  \\\n",
       "CHEMBL262               0.590174             0.692125          0.865087   \n",
       "CHEMBL2581              0.816782             0.833613          0.927953   \n",
       "CHEMBL2850              0.539383             0.618512          0.657895   \n",
       "CHEMBL4072              0.685570             0.735113          0.913516   \n",
       "CHEMBL4657              0.640645             0.756325          0.905235   \n",
       "CHEMBL5567              0.769061             0.794494          0.729229   \n",
       "\n",
       "            mean_RAD2D_Cosine  cuartile_RAD2D_Cosine  decile_RAD2D_Cosine  \\\n",
       "CHEMBL262            0.689168               0.782456             0.798142   \n",
       "CHEMBL2581           0.851001               0.867452             0.883864   \n",
       "CHEMBL2850           0.567877               0.677132             0.638657   \n",
       "CHEMBL4072           0.778980               0.768735             0.803656   \n",
       "CHEMBL4657           0.778325               0.842615             0.876179   \n",
       "CHEMBL5567           0.782578               0.801666             0.818493   \n",
       "\n",
       "            auroc_RAD2D_Cosine  aupr_RAD2D_Cosine  AUROC  \n",
       "CHEMBL262             0.599407           0.711955  AUROC  \n",
       "CHEMBL2581            0.828687           0.847372  AUROC  \n",
       "CHEMBL2850            0.535390           0.616697  AUROC  \n",
       "CHEMBL4072            0.686676           0.732227  AUROC  \n",
       "CHEMBL4657            0.636470           0.756408  AUROC  \n",
       "CHEMBL5567            0.800342           0.825223  AUROC  \n",
       "\n",
       "[6 rows x 73 columns]"
      ]
     },
     "execution_count": 68,
     "metadata": {},
     "output_type": "execute_result"
    }
   ],
   "source": [
    "grid_auroc = grid[grid.AUROC == \"AUROC\"]\n",
    "grid_auroc"
   ]
  },
  {
   "cell_type": "code",
   "execution_count": 69,
   "metadata": {},
   "outputs": [],
   "source": [
    "grid_auroc = grid_auroc.drop(columns=[\"AUROC\"])"
   ]
  },
  {
   "cell_type": "code",
   "execution_count": 70,
   "metadata": {},
   "outputs": [
    {
     "data": {
      "application/vnd.plotly.v1+json": {
       "config": {
        "plotlyServerURL": "https://plot.ly"
       },
       "data": [
        {
         "alignmentgroup": "True",
         "hovertemplate": "variable=CHEMBL262<br>index=%{x}<br>value=%{y}<extra></extra>",
         "legendgroup": "CHEMBL262",
         "marker": {
          "color": "#636efa",
          "pattern": {
           "shape": ""
          }
         },
         "name": "CHEMBL262",
         "offsetgroup": "CHEMBL262",
         "orientation": "v",
         "showlegend": true,
         "textposition": "auto",
         "type": "bar",
         "x": [
          "max_RAD2D_Tanimoto",
          "max_ASP_Tanimoto",
          "max_LSTAR_Tanimoto",
          "max_ASP_BraunBlanquet",
          "max_LSTAR_BraunBlanquet",
          "max_RAD2D_BraunBlanquet",
          "max_RAD2D_Cosine",
          "max_ASP_Cosine",
          "max_LSTAR_Cosine",
          "max_RDKIT_BraunBlanquet",
          "max_RDKIT_Tanimoto",
          "max_RDKIT_Cosine",
          "decile_RAD2D_Tanimoto",
          "decile_LSTAR_Tanimoto",
          "decile_ASP_Tanimoto",
          "decile_RAD2D_BraunBlanquet",
          "decile_ASP_BraunBlanquet",
          "decile_LSTAR_BraunBlanquet",
          "decile_LSTAR_Cosine",
          "decile_RAD2D_Cosine",
          "decile_ASP_Cosine",
          "cuartile_RAD2D_Tanimoto",
          "cuartile_LSTAR_Tanimoto",
          "cuartile_ASP_Tanimoto",
          "cuartile_LSTAR_Cosine",
          "cuartile_RAD2D_Cosine",
          "cuartile_ASP_Cosine",
          "cuartile_LSTAR_BraunBlanquet",
          "cuartile_ASP_BraunBlanquet",
          "cuartile_RAD2D_BraunBlanquet",
          "decile_RDKIT_BraunBlanquet",
          "cuartile_RDKIT_BraunBlanquet",
          "mean_RDKIT_BraunBlanquet",
          "aupr_LSTAR_Cosine",
          "aupr_ASP_Cosine",
          "aupr_RAD2D_Cosine",
          "decile_RDKIT_Tanimoto",
          "mean_RDKIT_Tanimoto",
          "aupr_RDKIT_BraunBlanquet",
          "mean_LSTAR_BraunBlanquet",
          "mean_RAD2D_BraunBlanquet",
          "mean_ASP_BraunBlanquet",
          "mean_RAD2D_Tanimoto",
          "mean_LSTAR_Tanimoto",
          "mean_ASP_Tanimoto",
          "aupr_ASP_Tanimoto",
          "aupr_RAD2D_Tanimoto",
          "aupr_LSTAR_Tanimoto",
          "mean_RAD2D_Cosine",
          "mean_ASP_Cosine",
          "mean_LSTAR_Cosine",
          "decile_RDKIT_Cosine",
          "mean_RDKIT_Cosine",
          "cuartile_RDKIT_Tanimoto",
          "aupr_RDKIT_Cosine",
          "cuartile_RDKIT_Cosine",
          "aupr_RDKIT_Tanimoto",
          "aupr_RAD2D_BraunBlanquet",
          "aupr_ASP_BraunBlanquet",
          "aupr_LSTAR_BraunBlanquet",
          "auroc_RDKIT_Cosine",
          "auroc_RDKIT_BraunBlanquet",
          "auroc_RDKIT_Tanimoto",
          "auroc_ASP_Cosine",
          "auroc_LSTAR_Cosine",
          "auroc_RAD2D_Cosine",
          "auroc_RAD2D_BraunBlanquet",
          "auroc_ASP_BraunBlanquet",
          "auroc_LSTAR_BraunBlanquet",
          "auroc_ASP_Tanimoto",
          "auroc_RAD2D_Tanimoto",
          "auroc_LSTAR_Tanimoto"
         ],
         "xaxis": "x",
         "y": [
          0.8693401693283831,
          0.8693401693283831,
          0.8693401693283831,
          0.8659270827194687,
          0.8659270827194687,
          0.8659270827194687,
          0.8650873160861964,
          0.8650873160861964,
          0.8650873160861964,
          0.8482723397568113,
          0.8456400887893609,
          0.8314033433516019,
          0.805429508711965,
          0.805429508711965,
          0.805429508711965,
          0.8033767458306322,
          0.8033767458306322,
          0.8033767458306322,
          0.7981417093916356,
          0.7981417093916356,
          0.7981417093916356,
          0.791895024259925,
          0.791895024259925,
          0.791895024259925,
          0.7824562437385821,
          0.7824562437385821,
          0.7824562437385821,
          0.7803936590252813,
          0.7803936590252813,
          0.7803936590252813,
          0.7515174730390712,
          0.736165949672933,
          0.7146168503349244,
          0.7119551338715697,
          0.7119551338715697,
          0.7119551338715697,
          0.7118176282240164,
          0.7032922780757067,
          0.7002966193254367,
          0.695866973107824,
          0.695866973107824,
          0.695866973107824,
          0.6943544109847368,
          0.6943544109847368,
          0.6943544109847368,
          0.6921248551279784,
          0.6921248551279784,
          0.6921248551279784,
          0.6891684837055808,
          0.6891684837055808,
          0.6891684837055808,
          0.6871157208242482,
          0.6862317559471192,
          0.6855245840454162,
          0.6782957157168955,
          0.6632781346376726,
          0.6617753943465534,
          0.6591529652110713,
          0.6591529652110713,
          0.6591529652110713,
          0.6427505058243463,
          0.6388905258608837,
          0.6326438407291729,
          0.5994067613491268,
          0.5994067613491268,
          0.5994067613491268,
          0.5960084074881646,
          0.5960084074881646,
          0.5960084074881646,
          0.5901742392991141,
          0.5901742392991141,
          0.5901742392991141
         ],
         "yaxis": "y"
        }
       ],
       "layout": {
        "barmode": "relative",
        "legend": {
         "title": {
          "text": "variable"
         },
         "tracegroupgap": 0
        },
        "margin": {
         "t": 60
        },
        "template": {
         "data": {
          "bar": [
           {
            "error_x": {
             "color": "#2a3f5f"
            },
            "error_y": {
             "color": "#2a3f5f"
            },
            "marker": {
             "line": {
              "color": "#E5ECF6",
              "width": 0.5
             },
             "pattern": {
              "fillmode": "overlay",
              "size": 10,
              "solidity": 0.2
             }
            },
            "type": "bar"
           }
          ],
          "barpolar": [
           {
            "marker": {
             "line": {
              "color": "#E5ECF6",
              "width": 0.5
             },
             "pattern": {
              "fillmode": "overlay",
              "size": 10,
              "solidity": 0.2
             }
            },
            "type": "barpolar"
           }
          ],
          "carpet": [
           {
            "aaxis": {
             "endlinecolor": "#2a3f5f",
             "gridcolor": "white",
             "linecolor": "white",
             "minorgridcolor": "white",
             "startlinecolor": "#2a3f5f"
            },
            "baxis": {
             "endlinecolor": "#2a3f5f",
             "gridcolor": "white",
             "linecolor": "white",
             "minorgridcolor": "white",
             "startlinecolor": "#2a3f5f"
            },
            "type": "carpet"
           }
          ],
          "choropleth": [
           {
            "colorbar": {
             "outlinewidth": 0,
             "ticks": ""
            },
            "type": "choropleth"
           }
          ],
          "contour": [
           {
            "colorbar": {
             "outlinewidth": 0,
             "ticks": ""
            },
            "colorscale": [
             [
              0,
              "#0d0887"
             ],
             [
              0.1111111111111111,
              "#46039f"
             ],
             [
              0.2222222222222222,
              "#7201a8"
             ],
             [
              0.3333333333333333,
              "#9c179e"
             ],
             [
              0.4444444444444444,
              "#bd3786"
             ],
             [
              0.5555555555555556,
              "#d8576b"
             ],
             [
              0.6666666666666666,
              "#ed7953"
             ],
             [
              0.7777777777777778,
              "#fb9f3a"
             ],
             [
              0.8888888888888888,
              "#fdca26"
             ],
             [
              1,
              "#f0f921"
             ]
            ],
            "type": "contour"
           }
          ],
          "contourcarpet": [
           {
            "colorbar": {
             "outlinewidth": 0,
             "ticks": ""
            },
            "type": "contourcarpet"
           }
          ],
          "heatmap": [
           {
            "colorbar": {
             "outlinewidth": 0,
             "ticks": ""
            },
            "colorscale": [
             [
              0,
              "#0d0887"
             ],
             [
              0.1111111111111111,
              "#46039f"
             ],
             [
              0.2222222222222222,
              "#7201a8"
             ],
             [
              0.3333333333333333,
              "#9c179e"
             ],
             [
              0.4444444444444444,
              "#bd3786"
             ],
             [
              0.5555555555555556,
              "#d8576b"
             ],
             [
              0.6666666666666666,
              "#ed7953"
             ],
             [
              0.7777777777777778,
              "#fb9f3a"
             ],
             [
              0.8888888888888888,
              "#fdca26"
             ],
             [
              1,
              "#f0f921"
             ]
            ],
            "type": "heatmap"
           }
          ],
          "heatmapgl": [
           {
            "colorbar": {
             "outlinewidth": 0,
             "ticks": ""
            },
            "colorscale": [
             [
              0,
              "#0d0887"
             ],
             [
              0.1111111111111111,
              "#46039f"
             ],
             [
              0.2222222222222222,
              "#7201a8"
             ],
             [
              0.3333333333333333,
              "#9c179e"
             ],
             [
              0.4444444444444444,
              "#bd3786"
             ],
             [
              0.5555555555555556,
              "#d8576b"
             ],
             [
              0.6666666666666666,
              "#ed7953"
             ],
             [
              0.7777777777777778,
              "#fb9f3a"
             ],
             [
              0.8888888888888888,
              "#fdca26"
             ],
             [
              1,
              "#f0f921"
             ]
            ],
            "type": "heatmapgl"
           }
          ],
          "histogram": [
           {
            "marker": {
             "pattern": {
              "fillmode": "overlay",
              "size": 10,
              "solidity": 0.2
             }
            },
            "type": "histogram"
           }
          ],
          "histogram2d": [
           {
            "colorbar": {
             "outlinewidth": 0,
             "ticks": ""
            },
            "colorscale": [
             [
              0,
              "#0d0887"
             ],
             [
              0.1111111111111111,
              "#46039f"
             ],
             [
              0.2222222222222222,
              "#7201a8"
             ],
             [
              0.3333333333333333,
              "#9c179e"
             ],
             [
              0.4444444444444444,
              "#bd3786"
             ],
             [
              0.5555555555555556,
              "#d8576b"
             ],
             [
              0.6666666666666666,
              "#ed7953"
             ],
             [
              0.7777777777777778,
              "#fb9f3a"
             ],
             [
              0.8888888888888888,
              "#fdca26"
             ],
             [
              1,
              "#f0f921"
             ]
            ],
            "type": "histogram2d"
           }
          ],
          "histogram2dcontour": [
           {
            "colorbar": {
             "outlinewidth": 0,
             "ticks": ""
            },
            "colorscale": [
             [
              0,
              "#0d0887"
             ],
             [
              0.1111111111111111,
              "#46039f"
             ],
             [
              0.2222222222222222,
              "#7201a8"
             ],
             [
              0.3333333333333333,
              "#9c179e"
             ],
             [
              0.4444444444444444,
              "#bd3786"
             ],
             [
              0.5555555555555556,
              "#d8576b"
             ],
             [
              0.6666666666666666,
              "#ed7953"
             ],
             [
              0.7777777777777778,
              "#fb9f3a"
             ],
             [
              0.8888888888888888,
              "#fdca26"
             ],
             [
              1,
              "#f0f921"
             ]
            ],
            "type": "histogram2dcontour"
           }
          ],
          "mesh3d": [
           {
            "colorbar": {
             "outlinewidth": 0,
             "ticks": ""
            },
            "type": "mesh3d"
           }
          ],
          "parcoords": [
           {
            "line": {
             "colorbar": {
              "outlinewidth": 0,
              "ticks": ""
             }
            },
            "type": "parcoords"
           }
          ],
          "pie": [
           {
            "automargin": true,
            "type": "pie"
           }
          ],
          "scatter": [
           {
            "fillpattern": {
             "fillmode": "overlay",
             "size": 10,
             "solidity": 0.2
            },
            "type": "scatter"
           }
          ],
          "scatter3d": [
           {
            "line": {
             "colorbar": {
              "outlinewidth": 0,
              "ticks": ""
             }
            },
            "marker": {
             "colorbar": {
              "outlinewidth": 0,
              "ticks": ""
             }
            },
            "type": "scatter3d"
           }
          ],
          "scattercarpet": [
           {
            "marker": {
             "colorbar": {
              "outlinewidth": 0,
              "ticks": ""
             }
            },
            "type": "scattercarpet"
           }
          ],
          "scattergeo": [
           {
            "marker": {
             "colorbar": {
              "outlinewidth": 0,
              "ticks": ""
             }
            },
            "type": "scattergeo"
           }
          ],
          "scattergl": [
           {
            "marker": {
             "colorbar": {
              "outlinewidth": 0,
              "ticks": ""
             }
            },
            "type": "scattergl"
           }
          ],
          "scattermapbox": [
           {
            "marker": {
             "colorbar": {
              "outlinewidth": 0,
              "ticks": ""
             }
            },
            "type": "scattermapbox"
           }
          ],
          "scatterpolar": [
           {
            "marker": {
             "colorbar": {
              "outlinewidth": 0,
              "ticks": ""
             }
            },
            "type": "scatterpolar"
           }
          ],
          "scatterpolargl": [
           {
            "marker": {
             "colorbar": {
              "outlinewidth": 0,
              "ticks": ""
             }
            },
            "type": "scatterpolargl"
           }
          ],
          "scatterternary": [
           {
            "marker": {
             "colorbar": {
              "outlinewidth": 0,
              "ticks": ""
             }
            },
            "type": "scatterternary"
           }
          ],
          "surface": [
           {
            "colorbar": {
             "outlinewidth": 0,
             "ticks": ""
            },
            "colorscale": [
             [
              0,
              "#0d0887"
             ],
             [
              0.1111111111111111,
              "#46039f"
             ],
             [
              0.2222222222222222,
              "#7201a8"
             ],
             [
              0.3333333333333333,
              "#9c179e"
             ],
             [
              0.4444444444444444,
              "#bd3786"
             ],
             [
              0.5555555555555556,
              "#d8576b"
             ],
             [
              0.6666666666666666,
              "#ed7953"
             ],
             [
              0.7777777777777778,
              "#fb9f3a"
             ],
             [
              0.8888888888888888,
              "#fdca26"
             ],
             [
              1,
              "#f0f921"
             ]
            ],
            "type": "surface"
           }
          ],
          "table": [
           {
            "cells": {
             "fill": {
              "color": "#EBF0F8"
             },
             "line": {
              "color": "white"
             }
            },
            "header": {
             "fill": {
              "color": "#C8D4E3"
             },
             "line": {
              "color": "white"
             }
            },
            "type": "table"
           }
          ]
         },
         "layout": {
          "annotationdefaults": {
           "arrowcolor": "#2a3f5f",
           "arrowhead": 0,
           "arrowwidth": 1
          },
          "autotypenumbers": "strict",
          "coloraxis": {
           "colorbar": {
            "outlinewidth": 0,
            "ticks": ""
           }
          },
          "colorscale": {
           "diverging": [
            [
             0,
             "#8e0152"
            ],
            [
             0.1,
             "#c51b7d"
            ],
            [
             0.2,
             "#de77ae"
            ],
            [
             0.3,
             "#f1b6da"
            ],
            [
             0.4,
             "#fde0ef"
            ],
            [
             0.5,
             "#f7f7f7"
            ],
            [
             0.6,
             "#e6f5d0"
            ],
            [
             0.7,
             "#b8e186"
            ],
            [
             0.8,
             "#7fbc41"
            ],
            [
             0.9,
             "#4d9221"
            ],
            [
             1,
             "#276419"
            ]
           ],
           "sequential": [
            [
             0,
             "#0d0887"
            ],
            [
             0.1111111111111111,
             "#46039f"
            ],
            [
             0.2222222222222222,
             "#7201a8"
            ],
            [
             0.3333333333333333,
             "#9c179e"
            ],
            [
             0.4444444444444444,
             "#bd3786"
            ],
            [
             0.5555555555555556,
             "#d8576b"
            ],
            [
             0.6666666666666666,
             "#ed7953"
            ],
            [
             0.7777777777777778,
             "#fb9f3a"
            ],
            [
             0.8888888888888888,
             "#fdca26"
            ],
            [
             1,
             "#f0f921"
            ]
           ],
           "sequentialminus": [
            [
             0,
             "#0d0887"
            ],
            [
             0.1111111111111111,
             "#46039f"
            ],
            [
             0.2222222222222222,
             "#7201a8"
            ],
            [
             0.3333333333333333,
             "#9c179e"
            ],
            [
             0.4444444444444444,
             "#bd3786"
            ],
            [
             0.5555555555555556,
             "#d8576b"
            ],
            [
             0.6666666666666666,
             "#ed7953"
            ],
            [
             0.7777777777777778,
             "#fb9f3a"
            ],
            [
             0.8888888888888888,
             "#fdca26"
            ],
            [
             1,
             "#f0f921"
            ]
           ]
          },
          "colorway": [
           "#636efa",
           "#EF553B",
           "#00cc96",
           "#ab63fa",
           "#FFA15A",
           "#19d3f3",
           "#FF6692",
           "#B6E880",
           "#FF97FF",
           "#FECB52"
          ],
          "font": {
           "color": "#2a3f5f"
          },
          "geo": {
           "bgcolor": "white",
           "lakecolor": "white",
           "landcolor": "#E5ECF6",
           "showlakes": true,
           "showland": true,
           "subunitcolor": "white"
          },
          "hoverlabel": {
           "align": "left"
          },
          "hovermode": "closest",
          "mapbox": {
           "style": "light"
          },
          "paper_bgcolor": "white",
          "plot_bgcolor": "#E5ECF6",
          "polar": {
           "angularaxis": {
            "gridcolor": "white",
            "linecolor": "white",
            "ticks": ""
           },
           "bgcolor": "#E5ECF6",
           "radialaxis": {
            "gridcolor": "white",
            "linecolor": "white",
            "ticks": ""
           }
          },
          "scene": {
           "xaxis": {
            "backgroundcolor": "#E5ECF6",
            "gridcolor": "white",
            "gridwidth": 2,
            "linecolor": "white",
            "showbackground": true,
            "ticks": "",
            "zerolinecolor": "white"
           },
           "yaxis": {
            "backgroundcolor": "#E5ECF6",
            "gridcolor": "white",
            "gridwidth": 2,
            "linecolor": "white",
            "showbackground": true,
            "ticks": "",
            "zerolinecolor": "white"
           },
           "zaxis": {
            "backgroundcolor": "#E5ECF6",
            "gridcolor": "white",
            "gridwidth": 2,
            "linecolor": "white",
            "showbackground": true,
            "ticks": "",
            "zerolinecolor": "white"
           }
          },
          "shapedefaults": {
           "line": {
            "color": "#2a3f5f"
           }
          },
          "ternary": {
           "aaxis": {
            "gridcolor": "white",
            "linecolor": "white",
            "ticks": ""
           },
           "baxis": {
            "gridcolor": "white",
            "linecolor": "white",
            "ticks": ""
           },
           "bgcolor": "#E5ECF6",
           "caxis": {
            "gridcolor": "white",
            "linecolor": "white",
            "ticks": ""
           }
          },
          "title": {
           "x": 0.05
          },
          "xaxis": {
           "automargin": true,
           "gridcolor": "white",
           "linecolor": "white",
           "ticks": "",
           "title": {
            "standoff": 15
           },
           "zerolinecolor": "white",
           "zerolinewidth": 2
          },
          "yaxis": {
           "automargin": true,
           "gridcolor": "white",
           "linecolor": "white",
           "ticks": "",
           "title": {
            "standoff": 15
           },
           "zerolinecolor": "white",
           "zerolinewidth": 2
          }
         }
        },
        "xaxis": {
         "anchor": "y",
         "domain": [
          0,
          1
         ],
         "title": {
          "text": "index"
         }
        },
        "yaxis": {
         "anchor": "x",
         "domain": [
          0,
          1
         ],
         "title": {
          "text": "value"
         }
        }
       }
      },
      "text/html": [
       "<div>                            <div id=\"d9805232-629e-47f2-bd3c-24b7bedce915\" class=\"plotly-graph-div\" style=\"height:525px; width:100%;\"></div>            <script type=\"text/javascript\">                require([\"plotly\"], function(Plotly) {                    window.PLOTLYENV=window.PLOTLYENV || {};                                    if (document.getElementById(\"d9805232-629e-47f2-bd3c-24b7bedce915\")) {                    Plotly.newPlot(                        \"d9805232-629e-47f2-bd3c-24b7bedce915\",                        [{\"alignmentgroup\":\"True\",\"hovertemplate\":\"variable=CHEMBL262\\u003cbr\\u003eindex=%{x}\\u003cbr\\u003evalue=%{y}\\u003cextra\\u003e\\u003c\\u002fextra\\u003e\",\"legendgroup\":\"CHEMBL262\",\"marker\":{\"color\":\"#636efa\",\"pattern\":{\"shape\":\"\"}},\"name\":\"CHEMBL262\",\"offsetgroup\":\"CHEMBL262\",\"orientation\":\"v\",\"showlegend\":true,\"textposition\":\"auto\",\"x\":[\"max_RAD2D_Tanimoto\",\"max_ASP_Tanimoto\",\"max_LSTAR_Tanimoto\",\"max_ASP_BraunBlanquet\",\"max_LSTAR_BraunBlanquet\",\"max_RAD2D_BraunBlanquet\",\"max_RAD2D_Cosine\",\"max_ASP_Cosine\",\"max_LSTAR_Cosine\",\"max_RDKIT_BraunBlanquet\",\"max_RDKIT_Tanimoto\",\"max_RDKIT_Cosine\",\"decile_RAD2D_Tanimoto\",\"decile_LSTAR_Tanimoto\",\"decile_ASP_Tanimoto\",\"decile_RAD2D_BraunBlanquet\",\"decile_ASP_BraunBlanquet\",\"decile_LSTAR_BraunBlanquet\",\"decile_LSTAR_Cosine\",\"decile_RAD2D_Cosine\",\"decile_ASP_Cosine\",\"cuartile_RAD2D_Tanimoto\",\"cuartile_LSTAR_Tanimoto\",\"cuartile_ASP_Tanimoto\",\"cuartile_LSTAR_Cosine\",\"cuartile_RAD2D_Cosine\",\"cuartile_ASP_Cosine\",\"cuartile_LSTAR_BraunBlanquet\",\"cuartile_ASP_BraunBlanquet\",\"cuartile_RAD2D_BraunBlanquet\",\"decile_RDKIT_BraunBlanquet\",\"cuartile_RDKIT_BraunBlanquet\",\"mean_RDKIT_BraunBlanquet\",\"aupr_LSTAR_Cosine\",\"aupr_ASP_Cosine\",\"aupr_RAD2D_Cosine\",\"decile_RDKIT_Tanimoto\",\"mean_RDKIT_Tanimoto\",\"aupr_RDKIT_BraunBlanquet\",\"mean_LSTAR_BraunBlanquet\",\"mean_RAD2D_BraunBlanquet\",\"mean_ASP_BraunBlanquet\",\"mean_RAD2D_Tanimoto\",\"mean_LSTAR_Tanimoto\",\"mean_ASP_Tanimoto\",\"aupr_ASP_Tanimoto\",\"aupr_RAD2D_Tanimoto\",\"aupr_LSTAR_Tanimoto\",\"mean_RAD2D_Cosine\",\"mean_ASP_Cosine\",\"mean_LSTAR_Cosine\",\"decile_RDKIT_Cosine\",\"mean_RDKIT_Cosine\",\"cuartile_RDKIT_Tanimoto\",\"aupr_RDKIT_Cosine\",\"cuartile_RDKIT_Cosine\",\"aupr_RDKIT_Tanimoto\",\"aupr_RAD2D_BraunBlanquet\",\"aupr_ASP_BraunBlanquet\",\"aupr_LSTAR_BraunBlanquet\",\"auroc_RDKIT_Cosine\",\"auroc_RDKIT_BraunBlanquet\",\"auroc_RDKIT_Tanimoto\",\"auroc_ASP_Cosine\",\"auroc_LSTAR_Cosine\",\"auroc_RAD2D_Cosine\",\"auroc_RAD2D_BraunBlanquet\",\"auroc_ASP_BraunBlanquet\",\"auroc_LSTAR_BraunBlanquet\",\"auroc_ASP_Tanimoto\",\"auroc_RAD2D_Tanimoto\",\"auroc_LSTAR_Tanimoto\"],\"xaxis\":\"x\",\"y\":[0.8693401693283831,0.8693401693283831,0.8693401693283831,0.8659270827194687,0.8659270827194687,0.8659270827194687,0.8650873160861964,0.8650873160861964,0.8650873160861964,0.8482723397568113,0.8456400887893609,0.8314033433516019,0.805429508711965,0.805429508711965,0.805429508711965,0.8033767458306322,0.8033767458306322,0.8033767458306322,0.7981417093916356,0.7981417093916356,0.7981417093916356,0.791895024259925,0.791895024259925,0.791895024259925,0.7824562437385821,0.7824562437385821,0.7824562437385821,0.7803936590252813,0.7803936590252813,0.7803936590252813,0.7515174730390712,0.736165949672933,0.7146168503349244,0.7119551338715697,0.7119551338715697,0.7119551338715697,0.7118176282240164,0.7032922780757067,0.7002966193254367,0.695866973107824,0.695866973107824,0.695866973107824,0.6943544109847368,0.6943544109847368,0.6943544109847368,0.6921248551279784,0.6921248551279784,0.6921248551279784,0.6891684837055808,0.6891684837055808,0.6891684837055808,0.6871157208242482,0.6862317559471192,0.6855245840454162,0.6782957157168955,0.6632781346376726,0.6617753943465534,0.6591529652110713,0.6591529652110713,0.6591529652110713,0.6427505058243463,0.6388905258608837,0.6326438407291729,0.5994067613491268,0.5994067613491268,0.5994067613491268,0.5960084074881646,0.5960084074881646,0.5960084074881646,0.5901742392991141,0.5901742392991141,0.5901742392991141],\"yaxis\":\"y\",\"type\":\"bar\"}],                        {\"template\":{\"data\":{\"histogram2dcontour\":[{\"type\":\"histogram2dcontour\",\"colorbar\":{\"outlinewidth\":0,\"ticks\":\"\"},\"colorscale\":[[0.0,\"#0d0887\"],[0.1111111111111111,\"#46039f\"],[0.2222222222222222,\"#7201a8\"],[0.3333333333333333,\"#9c179e\"],[0.4444444444444444,\"#bd3786\"],[0.5555555555555556,\"#d8576b\"],[0.6666666666666666,\"#ed7953\"],[0.7777777777777778,\"#fb9f3a\"],[0.8888888888888888,\"#fdca26\"],[1.0,\"#f0f921\"]]}],\"choropleth\":[{\"type\":\"choropleth\",\"colorbar\":{\"outlinewidth\":0,\"ticks\":\"\"}}],\"histogram2d\":[{\"type\":\"histogram2d\",\"colorbar\":{\"outlinewidth\":0,\"ticks\":\"\"},\"colorscale\":[[0.0,\"#0d0887\"],[0.1111111111111111,\"#46039f\"],[0.2222222222222222,\"#7201a8\"],[0.3333333333333333,\"#9c179e\"],[0.4444444444444444,\"#bd3786\"],[0.5555555555555556,\"#d8576b\"],[0.6666666666666666,\"#ed7953\"],[0.7777777777777778,\"#fb9f3a\"],[0.8888888888888888,\"#fdca26\"],[1.0,\"#f0f921\"]]}],\"heatmap\":[{\"type\":\"heatmap\",\"colorbar\":{\"outlinewidth\":0,\"ticks\":\"\"},\"colorscale\":[[0.0,\"#0d0887\"],[0.1111111111111111,\"#46039f\"],[0.2222222222222222,\"#7201a8\"],[0.3333333333333333,\"#9c179e\"],[0.4444444444444444,\"#bd3786\"],[0.5555555555555556,\"#d8576b\"],[0.6666666666666666,\"#ed7953\"],[0.7777777777777778,\"#fb9f3a\"],[0.8888888888888888,\"#fdca26\"],[1.0,\"#f0f921\"]]}],\"heatmapgl\":[{\"type\":\"heatmapgl\",\"colorbar\":{\"outlinewidth\":0,\"ticks\":\"\"},\"colorscale\":[[0.0,\"#0d0887\"],[0.1111111111111111,\"#46039f\"],[0.2222222222222222,\"#7201a8\"],[0.3333333333333333,\"#9c179e\"],[0.4444444444444444,\"#bd3786\"],[0.5555555555555556,\"#d8576b\"],[0.6666666666666666,\"#ed7953\"],[0.7777777777777778,\"#fb9f3a\"],[0.8888888888888888,\"#fdca26\"],[1.0,\"#f0f921\"]]}],\"contourcarpet\":[{\"type\":\"contourcarpet\",\"colorbar\":{\"outlinewidth\":0,\"ticks\":\"\"}}],\"contour\":[{\"type\":\"contour\",\"colorbar\":{\"outlinewidth\":0,\"ticks\":\"\"},\"colorscale\":[[0.0,\"#0d0887\"],[0.1111111111111111,\"#46039f\"],[0.2222222222222222,\"#7201a8\"],[0.3333333333333333,\"#9c179e\"],[0.4444444444444444,\"#bd3786\"],[0.5555555555555556,\"#d8576b\"],[0.6666666666666666,\"#ed7953\"],[0.7777777777777778,\"#fb9f3a\"],[0.8888888888888888,\"#fdca26\"],[1.0,\"#f0f921\"]]}],\"surface\":[{\"type\":\"surface\",\"colorbar\":{\"outlinewidth\":0,\"ticks\":\"\"},\"colorscale\":[[0.0,\"#0d0887\"],[0.1111111111111111,\"#46039f\"],[0.2222222222222222,\"#7201a8\"],[0.3333333333333333,\"#9c179e\"],[0.4444444444444444,\"#bd3786\"],[0.5555555555555556,\"#d8576b\"],[0.6666666666666666,\"#ed7953\"],[0.7777777777777778,\"#fb9f3a\"],[0.8888888888888888,\"#fdca26\"],[1.0,\"#f0f921\"]]}],\"mesh3d\":[{\"type\":\"mesh3d\",\"colorbar\":{\"outlinewidth\":0,\"ticks\":\"\"}}],\"scatter\":[{\"fillpattern\":{\"fillmode\":\"overlay\",\"size\":10,\"solidity\":0.2},\"type\":\"scatter\"}],\"parcoords\":[{\"type\":\"parcoords\",\"line\":{\"colorbar\":{\"outlinewidth\":0,\"ticks\":\"\"}}}],\"scatterpolargl\":[{\"type\":\"scatterpolargl\",\"marker\":{\"colorbar\":{\"outlinewidth\":0,\"ticks\":\"\"}}}],\"bar\":[{\"error_x\":{\"color\":\"#2a3f5f\"},\"error_y\":{\"color\":\"#2a3f5f\"},\"marker\":{\"line\":{\"color\":\"#E5ECF6\",\"width\":0.5},\"pattern\":{\"fillmode\":\"overlay\",\"size\":10,\"solidity\":0.2}},\"type\":\"bar\"}],\"scattergeo\":[{\"type\":\"scattergeo\",\"marker\":{\"colorbar\":{\"outlinewidth\":0,\"ticks\":\"\"}}}],\"scatterpolar\":[{\"type\":\"scatterpolar\",\"marker\":{\"colorbar\":{\"outlinewidth\":0,\"ticks\":\"\"}}}],\"histogram\":[{\"marker\":{\"pattern\":{\"fillmode\":\"overlay\",\"size\":10,\"solidity\":0.2}},\"type\":\"histogram\"}],\"scattergl\":[{\"type\":\"scattergl\",\"marker\":{\"colorbar\":{\"outlinewidth\":0,\"ticks\":\"\"}}}],\"scatter3d\":[{\"type\":\"scatter3d\",\"line\":{\"colorbar\":{\"outlinewidth\":0,\"ticks\":\"\"}},\"marker\":{\"colorbar\":{\"outlinewidth\":0,\"ticks\":\"\"}}}],\"scattermapbox\":[{\"type\":\"scattermapbox\",\"marker\":{\"colorbar\":{\"outlinewidth\":0,\"ticks\":\"\"}}}],\"scatterternary\":[{\"type\":\"scatterternary\",\"marker\":{\"colorbar\":{\"outlinewidth\":0,\"ticks\":\"\"}}}],\"scattercarpet\":[{\"type\":\"scattercarpet\",\"marker\":{\"colorbar\":{\"outlinewidth\":0,\"ticks\":\"\"}}}],\"carpet\":[{\"aaxis\":{\"endlinecolor\":\"#2a3f5f\",\"gridcolor\":\"white\",\"linecolor\":\"white\",\"minorgridcolor\":\"white\",\"startlinecolor\":\"#2a3f5f\"},\"baxis\":{\"endlinecolor\":\"#2a3f5f\",\"gridcolor\":\"white\",\"linecolor\":\"white\",\"minorgridcolor\":\"white\",\"startlinecolor\":\"#2a3f5f\"},\"type\":\"carpet\"}],\"table\":[{\"cells\":{\"fill\":{\"color\":\"#EBF0F8\"},\"line\":{\"color\":\"white\"}},\"header\":{\"fill\":{\"color\":\"#C8D4E3\"},\"line\":{\"color\":\"white\"}},\"type\":\"table\"}],\"barpolar\":[{\"marker\":{\"line\":{\"color\":\"#E5ECF6\",\"width\":0.5},\"pattern\":{\"fillmode\":\"overlay\",\"size\":10,\"solidity\":0.2}},\"type\":\"barpolar\"}],\"pie\":[{\"automargin\":true,\"type\":\"pie\"}]},\"layout\":{\"autotypenumbers\":\"strict\",\"colorway\":[\"#636efa\",\"#EF553B\",\"#00cc96\",\"#ab63fa\",\"#FFA15A\",\"#19d3f3\",\"#FF6692\",\"#B6E880\",\"#FF97FF\",\"#FECB52\"],\"font\":{\"color\":\"#2a3f5f\"},\"hovermode\":\"closest\",\"hoverlabel\":{\"align\":\"left\"},\"paper_bgcolor\":\"white\",\"plot_bgcolor\":\"#E5ECF6\",\"polar\":{\"bgcolor\":\"#E5ECF6\",\"angularaxis\":{\"gridcolor\":\"white\",\"linecolor\":\"white\",\"ticks\":\"\"},\"radialaxis\":{\"gridcolor\":\"white\",\"linecolor\":\"white\",\"ticks\":\"\"}},\"ternary\":{\"bgcolor\":\"#E5ECF6\",\"aaxis\":{\"gridcolor\":\"white\",\"linecolor\":\"white\",\"ticks\":\"\"},\"baxis\":{\"gridcolor\":\"white\",\"linecolor\":\"white\",\"ticks\":\"\"},\"caxis\":{\"gridcolor\":\"white\",\"linecolor\":\"white\",\"ticks\":\"\"}},\"coloraxis\":{\"colorbar\":{\"outlinewidth\":0,\"ticks\":\"\"}},\"colorscale\":{\"sequential\":[[0.0,\"#0d0887\"],[0.1111111111111111,\"#46039f\"],[0.2222222222222222,\"#7201a8\"],[0.3333333333333333,\"#9c179e\"],[0.4444444444444444,\"#bd3786\"],[0.5555555555555556,\"#d8576b\"],[0.6666666666666666,\"#ed7953\"],[0.7777777777777778,\"#fb9f3a\"],[0.8888888888888888,\"#fdca26\"],[1.0,\"#f0f921\"]],\"sequentialminus\":[[0.0,\"#0d0887\"],[0.1111111111111111,\"#46039f\"],[0.2222222222222222,\"#7201a8\"],[0.3333333333333333,\"#9c179e\"],[0.4444444444444444,\"#bd3786\"],[0.5555555555555556,\"#d8576b\"],[0.6666666666666666,\"#ed7953\"],[0.7777777777777778,\"#fb9f3a\"],[0.8888888888888888,\"#fdca26\"],[1.0,\"#f0f921\"]],\"diverging\":[[0,\"#8e0152\"],[0.1,\"#c51b7d\"],[0.2,\"#de77ae\"],[0.3,\"#f1b6da\"],[0.4,\"#fde0ef\"],[0.5,\"#f7f7f7\"],[0.6,\"#e6f5d0\"],[0.7,\"#b8e186\"],[0.8,\"#7fbc41\"],[0.9,\"#4d9221\"],[1,\"#276419\"]]},\"xaxis\":{\"gridcolor\":\"white\",\"linecolor\":\"white\",\"ticks\":\"\",\"title\":{\"standoff\":15},\"zerolinecolor\":\"white\",\"automargin\":true,\"zerolinewidth\":2},\"yaxis\":{\"gridcolor\":\"white\",\"linecolor\":\"white\",\"ticks\":\"\",\"title\":{\"standoff\":15},\"zerolinecolor\":\"white\",\"automargin\":true,\"zerolinewidth\":2},\"scene\":{\"xaxis\":{\"backgroundcolor\":\"#E5ECF6\",\"gridcolor\":\"white\",\"linecolor\":\"white\",\"showbackground\":true,\"ticks\":\"\",\"zerolinecolor\":\"white\",\"gridwidth\":2},\"yaxis\":{\"backgroundcolor\":\"#E5ECF6\",\"gridcolor\":\"white\",\"linecolor\":\"white\",\"showbackground\":true,\"ticks\":\"\",\"zerolinecolor\":\"white\",\"gridwidth\":2},\"zaxis\":{\"backgroundcolor\":\"#E5ECF6\",\"gridcolor\":\"white\",\"linecolor\":\"white\",\"showbackground\":true,\"ticks\":\"\",\"zerolinecolor\":\"white\",\"gridwidth\":2}},\"shapedefaults\":{\"line\":{\"color\":\"#2a3f5f\"}},\"annotationdefaults\":{\"arrowcolor\":\"#2a3f5f\",\"arrowhead\":0,\"arrowwidth\":1},\"geo\":{\"bgcolor\":\"white\",\"landcolor\":\"#E5ECF6\",\"subunitcolor\":\"white\",\"showland\":true,\"showlakes\":true,\"lakecolor\":\"white\"},\"title\":{\"x\":0.05},\"mapbox\":{\"style\":\"light\"}}},\"xaxis\":{\"anchor\":\"y\",\"domain\":[0.0,1.0],\"title\":{\"text\":\"index\"}},\"yaxis\":{\"anchor\":\"x\",\"domain\":[0.0,1.0],\"title\":{\"text\":\"value\"}},\"legend\":{\"title\":{\"text\":\"variable\"},\"tracegroupgap\":0},\"margin\":{\"t\":60},\"barmode\":\"relative\"},                        {\"responsive\": true}                    ).then(function(){\n",
       "                            \n",
       "var gd = document.getElementById('d9805232-629e-47f2-bd3c-24b7bedce915');\n",
       "var x = new MutationObserver(function (mutations, observer) {{\n",
       "        var display = window.getComputedStyle(gd).display;\n",
       "        if (!display || display === 'none') {{\n",
       "            console.log([gd, 'removed!']);\n",
       "            Plotly.purge(gd);\n",
       "            observer.disconnect();\n",
       "        }}\n",
       "}});\n",
       "\n",
       "// Listen for the removal of the full notebook cells\n",
       "var notebookContainer = gd.closest('#notebook-container');\n",
       "if (notebookContainer) {{\n",
       "    x.observe(notebookContainer, {childList: true});\n",
       "}}\n",
       "\n",
       "// Listen for the clearing of the current output cell\n",
       "var outputEl = gd.closest('.output');\n",
       "if (outputEl) {{\n",
       "    x.observe(outputEl, {childList: true});\n",
       "}}\n",
       "\n",
       "                        })                };                });            </script>        </div>"
      ]
     },
     "metadata": {},
     "output_type": "display_data"
    }
   ],
   "source": [
    "px.bar(grid_auroc.loc[\"CHEMBL262\",:].sort_values(ascending=False))"
   ]
  },
  {
   "cell_type": "code",
   "execution_count": 71,
   "metadata": {},
   "outputs": [
    {
     "data": {
      "application/vnd.plotly.v1+json": {
       "config": {
        "plotlyServerURL": "https://plot.ly"
       },
       "data": [
        {
         "alignmentgroup": "True",
         "hovertemplate": "variable=CHEMBL5567<br>index=%{x}<br>value=%{y}<extra></extra>",
         "legendgroup": "CHEMBL5567",
         "marker": {
          "color": "#636efa",
          "pattern": {
           "shape": ""
          }
         },
         "name": "CHEMBL5567",
         "offsetgroup": "CHEMBL5567",
         "orientation": "v",
         "showlegend": true,
         "textposition": "auto",
         "type": "bar",
         "x": [
          "decile_RDKIT_BraunBlanquet",
          "aupr_RAD2D_Cosine",
          "aupr_ASP_Cosine",
          "aupr_LSTAR_Cosine",
          "decile_LSTAR_Cosine",
          "decile_RAD2D_Cosine",
          "decile_ASP_Cosine",
          "cuartile_RAD2D_Cosine",
          "cuartile_LSTAR_Cosine",
          "cuartile_ASP_Cosine",
          "auroc_LSTAR_Cosine",
          "auroc_ASP_Cosine",
          "auroc_RAD2D_Cosine",
          "aupr_LSTAR_Tanimoto",
          "aupr_ASP_Tanimoto",
          "aupr_RAD2D_Tanimoto",
          "decile_RAD2D_Tanimoto",
          "decile_ASP_Tanimoto",
          "decile_LSTAR_Tanimoto",
          "decile_RDKIT_Tanimoto",
          "mean_ASP_Cosine",
          "mean_RAD2D_Cosine",
          "mean_LSTAR_Cosine",
          "decile_RAD2D_BraunBlanquet",
          "decile_ASP_BraunBlanquet",
          "decile_LSTAR_BraunBlanquet",
          "cuartile_RDKIT_BraunBlanquet",
          "auroc_ASP_Tanimoto",
          "auroc_LSTAR_Tanimoto",
          "auroc_RAD2D_Tanimoto",
          "aupr_RDKIT_BraunBlanquet",
          "cuartile_RAD2D_Tanimoto",
          "cuartile_LSTAR_Tanimoto",
          "cuartile_ASP_Tanimoto",
          "mean_LSTAR_Tanimoto",
          "mean_RAD2D_Tanimoto",
          "mean_ASP_Tanimoto",
          "max_LSTAR_Tanimoto",
          "max_RAD2D_Tanimoto",
          "max_ASP_Tanimoto",
          "cuartile_LSTAR_BraunBlanquet",
          "cuartile_ASP_BraunBlanquet",
          "cuartile_RAD2D_BraunBlanquet",
          "max_RAD2D_BraunBlanquet",
          "max_ASP_BraunBlanquet",
          "max_LSTAR_BraunBlanquet",
          "max_ASP_Cosine",
          "max_RAD2D_Cosine",
          "max_LSTAR_Cosine",
          "aupr_ASP_BraunBlanquet",
          "aupr_LSTAR_BraunBlanquet",
          "aupr_RAD2D_BraunBlanquet",
          "auroc_RDKIT_BraunBlanquet",
          "max_RDKIT_BraunBlanquet",
          "mean_RDKIT_BraunBlanquet",
          "decile_RDKIT_Cosine",
          "max_RDKIT_Tanimoto",
          "mean_LSTAR_BraunBlanquet",
          "mean_ASP_BraunBlanquet",
          "mean_RAD2D_BraunBlanquet",
          "auroc_RAD2D_BraunBlanquet",
          "auroc_LSTAR_BraunBlanquet",
          "auroc_ASP_BraunBlanquet",
          "max_RDKIT_Cosine",
          "cuartile_RDKIT_Tanimoto",
          "aupr_RDKIT_Tanimoto",
          "mean_RDKIT_Tanimoto",
          "auroc_RDKIT_Cosine",
          "mean_RDKIT_Cosine",
          "cuartile_RDKIT_Cosine",
          "aupr_RDKIT_Cosine",
          "auroc_RDKIT_Tanimoto"
         ],
         "xaxis": "x",
         "y": [
          0.8290852918459671,
          0.8252234359483615,
          0.8252234359483615,
          0.8252234359483615,
          0.8184927728125344,
          0.8184927728125344,
          0.8184927728125344,
          0.8016661149729669,
          0.8016661149729669,
          0.8016661149729669,
          0.8003420500937879,
          0.8003420500937879,
          0.8003420500937879,
          0.7944940968774137,
          0.7944940968774137,
          0.7944940968774137,
          0.7935010482180294,
          0.7935010482180294,
          0.7935010482180294,
          0.7868255544521681,
          0.7825775129648019,
          0.7825775129648019,
          0.7825775129648019,
          0.7750193092794879,
          0.7750193092794879,
          0.7750193092794879,
          0.7711022840119167,
          0.7690610173231822,
          0.7690610173231822,
          0.7690610173231822,
          0.7654198389054396,
          0.7624958622972526,
          0.7624958622972526,
          0.7624958622972526,
          0.7372834602228843,
          0.7372834602228843,
          0.7372834602228843,
          0.7357387178638419,
          0.7357387178638419,
          0.7357387178638419,
          0.7348008385744235,
          0.7348008385744235,
          0.7348008385744235,
          0.7336422818051418,
          0.7336422818051418,
          0.7336422818051418,
          0.7292287322078781,
          0.7292287322078781,
          0.7292287322078781,
          0.7231601015116407,
          0.7231601015116407,
          0.7231601015116407,
          0.7205119717532825,
          0.7194085843539666,
          0.7122365662584134,
          0.7018647247048438,
          0.6996027805362464,
          0.6919342381110007,
          0.6919342381110007,
          0.6919342381110007,
          0.6917411453161204,
          0.6917411453161204,
          0.6917411453161204,
          0.676266137040715,
          0.6586119386516607,
          0.6054286660046342,
          0.600353083967781,
          0.5998565596380888,
          0.5962705505903122,
          0.5951119938210305,
          0.5940637757916803,
          0.5829747324285556
         ],
         "yaxis": "y"
        }
       ],
       "layout": {
        "barmode": "relative",
        "legend": {
         "title": {
          "text": "variable"
         },
         "tracegroupgap": 0
        },
        "margin": {
         "t": 60
        },
        "template": {
         "data": {
          "bar": [
           {
            "error_x": {
             "color": "#2a3f5f"
            },
            "error_y": {
             "color": "#2a3f5f"
            },
            "marker": {
             "line": {
              "color": "#E5ECF6",
              "width": 0.5
             },
             "pattern": {
              "fillmode": "overlay",
              "size": 10,
              "solidity": 0.2
             }
            },
            "type": "bar"
           }
          ],
          "barpolar": [
           {
            "marker": {
             "line": {
              "color": "#E5ECF6",
              "width": 0.5
             },
             "pattern": {
              "fillmode": "overlay",
              "size": 10,
              "solidity": 0.2
             }
            },
            "type": "barpolar"
           }
          ],
          "carpet": [
           {
            "aaxis": {
             "endlinecolor": "#2a3f5f",
             "gridcolor": "white",
             "linecolor": "white",
             "minorgridcolor": "white",
             "startlinecolor": "#2a3f5f"
            },
            "baxis": {
             "endlinecolor": "#2a3f5f",
             "gridcolor": "white",
             "linecolor": "white",
             "minorgridcolor": "white",
             "startlinecolor": "#2a3f5f"
            },
            "type": "carpet"
           }
          ],
          "choropleth": [
           {
            "colorbar": {
             "outlinewidth": 0,
             "ticks": ""
            },
            "type": "choropleth"
           }
          ],
          "contour": [
           {
            "colorbar": {
             "outlinewidth": 0,
             "ticks": ""
            },
            "colorscale": [
             [
              0,
              "#0d0887"
             ],
             [
              0.1111111111111111,
              "#46039f"
             ],
             [
              0.2222222222222222,
              "#7201a8"
             ],
             [
              0.3333333333333333,
              "#9c179e"
             ],
             [
              0.4444444444444444,
              "#bd3786"
             ],
             [
              0.5555555555555556,
              "#d8576b"
             ],
             [
              0.6666666666666666,
              "#ed7953"
             ],
             [
              0.7777777777777778,
              "#fb9f3a"
             ],
             [
              0.8888888888888888,
              "#fdca26"
             ],
             [
              1,
              "#f0f921"
             ]
            ],
            "type": "contour"
           }
          ],
          "contourcarpet": [
           {
            "colorbar": {
             "outlinewidth": 0,
             "ticks": ""
            },
            "type": "contourcarpet"
           }
          ],
          "heatmap": [
           {
            "colorbar": {
             "outlinewidth": 0,
             "ticks": ""
            },
            "colorscale": [
             [
              0,
              "#0d0887"
             ],
             [
              0.1111111111111111,
              "#46039f"
             ],
             [
              0.2222222222222222,
              "#7201a8"
             ],
             [
              0.3333333333333333,
              "#9c179e"
             ],
             [
              0.4444444444444444,
              "#bd3786"
             ],
             [
              0.5555555555555556,
              "#d8576b"
             ],
             [
              0.6666666666666666,
              "#ed7953"
             ],
             [
              0.7777777777777778,
              "#fb9f3a"
             ],
             [
              0.8888888888888888,
              "#fdca26"
             ],
             [
              1,
              "#f0f921"
             ]
            ],
            "type": "heatmap"
           }
          ],
          "heatmapgl": [
           {
            "colorbar": {
             "outlinewidth": 0,
             "ticks": ""
            },
            "colorscale": [
             [
              0,
              "#0d0887"
             ],
             [
              0.1111111111111111,
              "#46039f"
             ],
             [
              0.2222222222222222,
              "#7201a8"
             ],
             [
              0.3333333333333333,
              "#9c179e"
             ],
             [
              0.4444444444444444,
              "#bd3786"
             ],
             [
              0.5555555555555556,
              "#d8576b"
             ],
             [
              0.6666666666666666,
              "#ed7953"
             ],
             [
              0.7777777777777778,
              "#fb9f3a"
             ],
             [
              0.8888888888888888,
              "#fdca26"
             ],
             [
              1,
              "#f0f921"
             ]
            ],
            "type": "heatmapgl"
           }
          ],
          "histogram": [
           {
            "marker": {
             "pattern": {
              "fillmode": "overlay",
              "size": 10,
              "solidity": 0.2
             }
            },
            "type": "histogram"
           }
          ],
          "histogram2d": [
           {
            "colorbar": {
             "outlinewidth": 0,
             "ticks": ""
            },
            "colorscale": [
             [
              0,
              "#0d0887"
             ],
             [
              0.1111111111111111,
              "#46039f"
             ],
             [
              0.2222222222222222,
              "#7201a8"
             ],
             [
              0.3333333333333333,
              "#9c179e"
             ],
             [
              0.4444444444444444,
              "#bd3786"
             ],
             [
              0.5555555555555556,
              "#d8576b"
             ],
             [
              0.6666666666666666,
              "#ed7953"
             ],
             [
              0.7777777777777778,
              "#fb9f3a"
             ],
             [
              0.8888888888888888,
              "#fdca26"
             ],
             [
              1,
              "#f0f921"
             ]
            ],
            "type": "histogram2d"
           }
          ],
          "histogram2dcontour": [
           {
            "colorbar": {
             "outlinewidth": 0,
             "ticks": ""
            },
            "colorscale": [
             [
              0,
              "#0d0887"
             ],
             [
              0.1111111111111111,
              "#46039f"
             ],
             [
              0.2222222222222222,
              "#7201a8"
             ],
             [
              0.3333333333333333,
              "#9c179e"
             ],
             [
              0.4444444444444444,
              "#bd3786"
             ],
             [
              0.5555555555555556,
              "#d8576b"
             ],
             [
              0.6666666666666666,
              "#ed7953"
             ],
             [
              0.7777777777777778,
              "#fb9f3a"
             ],
             [
              0.8888888888888888,
              "#fdca26"
             ],
             [
              1,
              "#f0f921"
             ]
            ],
            "type": "histogram2dcontour"
           }
          ],
          "mesh3d": [
           {
            "colorbar": {
             "outlinewidth": 0,
             "ticks": ""
            },
            "type": "mesh3d"
           }
          ],
          "parcoords": [
           {
            "line": {
             "colorbar": {
              "outlinewidth": 0,
              "ticks": ""
             }
            },
            "type": "parcoords"
           }
          ],
          "pie": [
           {
            "automargin": true,
            "type": "pie"
           }
          ],
          "scatter": [
           {
            "fillpattern": {
             "fillmode": "overlay",
             "size": 10,
             "solidity": 0.2
            },
            "type": "scatter"
           }
          ],
          "scatter3d": [
           {
            "line": {
             "colorbar": {
              "outlinewidth": 0,
              "ticks": ""
             }
            },
            "marker": {
             "colorbar": {
              "outlinewidth": 0,
              "ticks": ""
             }
            },
            "type": "scatter3d"
           }
          ],
          "scattercarpet": [
           {
            "marker": {
             "colorbar": {
              "outlinewidth": 0,
              "ticks": ""
             }
            },
            "type": "scattercarpet"
           }
          ],
          "scattergeo": [
           {
            "marker": {
             "colorbar": {
              "outlinewidth": 0,
              "ticks": ""
             }
            },
            "type": "scattergeo"
           }
          ],
          "scattergl": [
           {
            "marker": {
             "colorbar": {
              "outlinewidth": 0,
              "ticks": ""
             }
            },
            "type": "scattergl"
           }
          ],
          "scattermapbox": [
           {
            "marker": {
             "colorbar": {
              "outlinewidth": 0,
              "ticks": ""
             }
            },
            "type": "scattermapbox"
           }
          ],
          "scatterpolar": [
           {
            "marker": {
             "colorbar": {
              "outlinewidth": 0,
              "ticks": ""
             }
            },
            "type": "scatterpolar"
           }
          ],
          "scatterpolargl": [
           {
            "marker": {
             "colorbar": {
              "outlinewidth": 0,
              "ticks": ""
             }
            },
            "type": "scatterpolargl"
           }
          ],
          "scatterternary": [
           {
            "marker": {
             "colorbar": {
              "outlinewidth": 0,
              "ticks": ""
             }
            },
            "type": "scatterternary"
           }
          ],
          "surface": [
           {
            "colorbar": {
             "outlinewidth": 0,
             "ticks": ""
            },
            "colorscale": [
             [
              0,
              "#0d0887"
             ],
             [
              0.1111111111111111,
              "#46039f"
             ],
             [
              0.2222222222222222,
              "#7201a8"
             ],
             [
              0.3333333333333333,
              "#9c179e"
             ],
             [
              0.4444444444444444,
              "#bd3786"
             ],
             [
              0.5555555555555556,
              "#d8576b"
             ],
             [
              0.6666666666666666,
              "#ed7953"
             ],
             [
              0.7777777777777778,
              "#fb9f3a"
             ],
             [
              0.8888888888888888,
              "#fdca26"
             ],
             [
              1,
              "#f0f921"
             ]
            ],
            "type": "surface"
           }
          ],
          "table": [
           {
            "cells": {
             "fill": {
              "color": "#EBF0F8"
             },
             "line": {
              "color": "white"
             }
            },
            "header": {
             "fill": {
              "color": "#C8D4E3"
             },
             "line": {
              "color": "white"
             }
            },
            "type": "table"
           }
          ]
         },
         "layout": {
          "annotationdefaults": {
           "arrowcolor": "#2a3f5f",
           "arrowhead": 0,
           "arrowwidth": 1
          },
          "autotypenumbers": "strict",
          "coloraxis": {
           "colorbar": {
            "outlinewidth": 0,
            "ticks": ""
           }
          },
          "colorscale": {
           "diverging": [
            [
             0,
             "#8e0152"
            ],
            [
             0.1,
             "#c51b7d"
            ],
            [
             0.2,
             "#de77ae"
            ],
            [
             0.3,
             "#f1b6da"
            ],
            [
             0.4,
             "#fde0ef"
            ],
            [
             0.5,
             "#f7f7f7"
            ],
            [
             0.6,
             "#e6f5d0"
            ],
            [
             0.7,
             "#b8e186"
            ],
            [
             0.8,
             "#7fbc41"
            ],
            [
             0.9,
             "#4d9221"
            ],
            [
             1,
             "#276419"
            ]
           ],
           "sequential": [
            [
             0,
             "#0d0887"
            ],
            [
             0.1111111111111111,
             "#46039f"
            ],
            [
             0.2222222222222222,
             "#7201a8"
            ],
            [
             0.3333333333333333,
             "#9c179e"
            ],
            [
             0.4444444444444444,
             "#bd3786"
            ],
            [
             0.5555555555555556,
             "#d8576b"
            ],
            [
             0.6666666666666666,
             "#ed7953"
            ],
            [
             0.7777777777777778,
             "#fb9f3a"
            ],
            [
             0.8888888888888888,
             "#fdca26"
            ],
            [
             1,
             "#f0f921"
            ]
           ],
           "sequentialminus": [
            [
             0,
             "#0d0887"
            ],
            [
             0.1111111111111111,
             "#46039f"
            ],
            [
             0.2222222222222222,
             "#7201a8"
            ],
            [
             0.3333333333333333,
             "#9c179e"
            ],
            [
             0.4444444444444444,
             "#bd3786"
            ],
            [
             0.5555555555555556,
             "#d8576b"
            ],
            [
             0.6666666666666666,
             "#ed7953"
            ],
            [
             0.7777777777777778,
             "#fb9f3a"
            ],
            [
             0.8888888888888888,
             "#fdca26"
            ],
            [
             1,
             "#f0f921"
            ]
           ]
          },
          "colorway": [
           "#636efa",
           "#EF553B",
           "#00cc96",
           "#ab63fa",
           "#FFA15A",
           "#19d3f3",
           "#FF6692",
           "#B6E880",
           "#FF97FF",
           "#FECB52"
          ],
          "font": {
           "color": "#2a3f5f"
          },
          "geo": {
           "bgcolor": "white",
           "lakecolor": "white",
           "landcolor": "#E5ECF6",
           "showlakes": true,
           "showland": true,
           "subunitcolor": "white"
          },
          "hoverlabel": {
           "align": "left"
          },
          "hovermode": "closest",
          "mapbox": {
           "style": "light"
          },
          "paper_bgcolor": "white",
          "plot_bgcolor": "#E5ECF6",
          "polar": {
           "angularaxis": {
            "gridcolor": "white",
            "linecolor": "white",
            "ticks": ""
           },
           "bgcolor": "#E5ECF6",
           "radialaxis": {
            "gridcolor": "white",
            "linecolor": "white",
            "ticks": ""
           }
          },
          "scene": {
           "xaxis": {
            "backgroundcolor": "#E5ECF6",
            "gridcolor": "white",
            "gridwidth": 2,
            "linecolor": "white",
            "showbackground": true,
            "ticks": "",
            "zerolinecolor": "white"
           },
           "yaxis": {
            "backgroundcolor": "#E5ECF6",
            "gridcolor": "white",
            "gridwidth": 2,
            "linecolor": "white",
            "showbackground": true,
            "ticks": "",
            "zerolinecolor": "white"
           },
           "zaxis": {
            "backgroundcolor": "#E5ECF6",
            "gridcolor": "white",
            "gridwidth": 2,
            "linecolor": "white",
            "showbackground": true,
            "ticks": "",
            "zerolinecolor": "white"
           }
          },
          "shapedefaults": {
           "line": {
            "color": "#2a3f5f"
           }
          },
          "ternary": {
           "aaxis": {
            "gridcolor": "white",
            "linecolor": "white",
            "ticks": ""
           },
           "baxis": {
            "gridcolor": "white",
            "linecolor": "white",
            "ticks": ""
           },
           "bgcolor": "#E5ECF6",
           "caxis": {
            "gridcolor": "white",
            "linecolor": "white",
            "ticks": ""
           }
          },
          "title": {
           "x": 0.05
          },
          "xaxis": {
           "automargin": true,
           "gridcolor": "white",
           "linecolor": "white",
           "ticks": "",
           "title": {
            "standoff": 15
           },
           "zerolinecolor": "white",
           "zerolinewidth": 2
          },
          "yaxis": {
           "automargin": true,
           "gridcolor": "white",
           "linecolor": "white",
           "ticks": "",
           "title": {
            "standoff": 15
           },
           "zerolinecolor": "white",
           "zerolinewidth": 2
          }
         }
        },
        "xaxis": {
         "anchor": "y",
         "domain": [
          0,
          1
         ],
         "title": {
          "text": "index"
         }
        },
        "yaxis": {
         "anchor": "x",
         "domain": [
          0,
          1
         ],
         "title": {
          "text": "value"
         }
        }
       }
      },
      "text/html": [
       "<div>                            <div id=\"4e7b2092-d8cb-4f40-a68f-a1ffe9ccd58d\" class=\"plotly-graph-div\" style=\"height:525px; width:100%;\"></div>            <script type=\"text/javascript\">                require([\"plotly\"], function(Plotly) {                    window.PLOTLYENV=window.PLOTLYENV || {};                                    if (document.getElementById(\"4e7b2092-d8cb-4f40-a68f-a1ffe9ccd58d\")) {                    Plotly.newPlot(                        \"4e7b2092-d8cb-4f40-a68f-a1ffe9ccd58d\",                        [{\"alignmentgroup\":\"True\",\"hovertemplate\":\"variable=CHEMBL5567\\u003cbr\\u003eindex=%{x}\\u003cbr\\u003evalue=%{y}\\u003cextra\\u003e\\u003c\\u002fextra\\u003e\",\"legendgroup\":\"CHEMBL5567\",\"marker\":{\"color\":\"#636efa\",\"pattern\":{\"shape\":\"\"}},\"name\":\"CHEMBL5567\",\"offsetgroup\":\"CHEMBL5567\",\"orientation\":\"v\",\"showlegend\":true,\"textposition\":\"auto\",\"x\":[\"decile_RDKIT_BraunBlanquet\",\"aupr_RAD2D_Cosine\",\"aupr_ASP_Cosine\",\"aupr_LSTAR_Cosine\",\"decile_LSTAR_Cosine\",\"decile_RAD2D_Cosine\",\"decile_ASP_Cosine\",\"cuartile_RAD2D_Cosine\",\"cuartile_LSTAR_Cosine\",\"cuartile_ASP_Cosine\",\"auroc_LSTAR_Cosine\",\"auroc_ASP_Cosine\",\"auroc_RAD2D_Cosine\",\"aupr_LSTAR_Tanimoto\",\"aupr_ASP_Tanimoto\",\"aupr_RAD2D_Tanimoto\",\"decile_RAD2D_Tanimoto\",\"decile_ASP_Tanimoto\",\"decile_LSTAR_Tanimoto\",\"decile_RDKIT_Tanimoto\",\"mean_ASP_Cosine\",\"mean_RAD2D_Cosine\",\"mean_LSTAR_Cosine\",\"decile_RAD2D_BraunBlanquet\",\"decile_ASP_BraunBlanquet\",\"decile_LSTAR_BraunBlanquet\",\"cuartile_RDKIT_BraunBlanquet\",\"auroc_ASP_Tanimoto\",\"auroc_LSTAR_Tanimoto\",\"auroc_RAD2D_Tanimoto\",\"aupr_RDKIT_BraunBlanquet\",\"cuartile_RAD2D_Tanimoto\",\"cuartile_LSTAR_Tanimoto\",\"cuartile_ASP_Tanimoto\",\"mean_LSTAR_Tanimoto\",\"mean_RAD2D_Tanimoto\",\"mean_ASP_Tanimoto\",\"max_LSTAR_Tanimoto\",\"max_RAD2D_Tanimoto\",\"max_ASP_Tanimoto\",\"cuartile_LSTAR_BraunBlanquet\",\"cuartile_ASP_BraunBlanquet\",\"cuartile_RAD2D_BraunBlanquet\",\"max_RAD2D_BraunBlanquet\",\"max_ASP_BraunBlanquet\",\"max_LSTAR_BraunBlanquet\",\"max_ASP_Cosine\",\"max_RAD2D_Cosine\",\"max_LSTAR_Cosine\",\"aupr_ASP_BraunBlanquet\",\"aupr_LSTAR_BraunBlanquet\",\"aupr_RAD2D_BraunBlanquet\",\"auroc_RDKIT_BraunBlanquet\",\"max_RDKIT_BraunBlanquet\",\"mean_RDKIT_BraunBlanquet\",\"decile_RDKIT_Cosine\",\"max_RDKIT_Tanimoto\",\"mean_LSTAR_BraunBlanquet\",\"mean_ASP_BraunBlanquet\",\"mean_RAD2D_BraunBlanquet\",\"auroc_RAD2D_BraunBlanquet\",\"auroc_LSTAR_BraunBlanquet\",\"auroc_ASP_BraunBlanquet\",\"max_RDKIT_Cosine\",\"cuartile_RDKIT_Tanimoto\",\"aupr_RDKIT_Tanimoto\",\"mean_RDKIT_Tanimoto\",\"auroc_RDKIT_Cosine\",\"mean_RDKIT_Cosine\",\"cuartile_RDKIT_Cosine\",\"aupr_RDKIT_Cosine\",\"auroc_RDKIT_Tanimoto\"],\"xaxis\":\"x\",\"y\":[0.8290852918459671,0.8252234359483615,0.8252234359483615,0.8252234359483615,0.8184927728125344,0.8184927728125344,0.8184927728125344,0.8016661149729669,0.8016661149729669,0.8016661149729669,0.8003420500937879,0.8003420500937879,0.8003420500937879,0.7944940968774137,0.7944940968774137,0.7944940968774137,0.7935010482180294,0.7935010482180294,0.7935010482180294,0.7868255544521681,0.7825775129648019,0.7825775129648019,0.7825775129648019,0.7750193092794879,0.7750193092794879,0.7750193092794879,0.7711022840119167,0.7690610173231822,0.7690610173231822,0.7690610173231822,0.7654198389054396,0.7624958622972526,0.7624958622972526,0.7624958622972526,0.7372834602228843,0.7372834602228843,0.7372834602228843,0.7357387178638419,0.7357387178638419,0.7357387178638419,0.7348008385744235,0.7348008385744235,0.7348008385744235,0.7336422818051418,0.7336422818051418,0.7336422818051418,0.7292287322078781,0.7292287322078781,0.7292287322078781,0.7231601015116407,0.7231601015116407,0.7231601015116407,0.7205119717532825,0.7194085843539666,0.7122365662584134,0.7018647247048438,0.6996027805362464,0.6919342381110007,0.6919342381110007,0.6919342381110007,0.6917411453161204,0.6917411453161204,0.6917411453161204,0.676266137040715,0.6586119386516607,0.6054286660046342,0.600353083967781,0.5998565596380888,0.5962705505903122,0.5951119938210305,0.5940637757916803,0.5829747324285556],\"yaxis\":\"y\",\"type\":\"bar\"}],                        {\"template\":{\"data\":{\"histogram2dcontour\":[{\"type\":\"histogram2dcontour\",\"colorbar\":{\"outlinewidth\":0,\"ticks\":\"\"},\"colorscale\":[[0.0,\"#0d0887\"],[0.1111111111111111,\"#46039f\"],[0.2222222222222222,\"#7201a8\"],[0.3333333333333333,\"#9c179e\"],[0.4444444444444444,\"#bd3786\"],[0.5555555555555556,\"#d8576b\"],[0.6666666666666666,\"#ed7953\"],[0.7777777777777778,\"#fb9f3a\"],[0.8888888888888888,\"#fdca26\"],[1.0,\"#f0f921\"]]}],\"choropleth\":[{\"type\":\"choropleth\",\"colorbar\":{\"outlinewidth\":0,\"ticks\":\"\"}}],\"histogram2d\":[{\"type\":\"histogram2d\",\"colorbar\":{\"outlinewidth\":0,\"ticks\":\"\"},\"colorscale\":[[0.0,\"#0d0887\"],[0.1111111111111111,\"#46039f\"],[0.2222222222222222,\"#7201a8\"],[0.3333333333333333,\"#9c179e\"],[0.4444444444444444,\"#bd3786\"],[0.5555555555555556,\"#d8576b\"],[0.6666666666666666,\"#ed7953\"],[0.7777777777777778,\"#fb9f3a\"],[0.8888888888888888,\"#fdca26\"],[1.0,\"#f0f921\"]]}],\"heatmap\":[{\"type\":\"heatmap\",\"colorbar\":{\"outlinewidth\":0,\"ticks\":\"\"},\"colorscale\":[[0.0,\"#0d0887\"],[0.1111111111111111,\"#46039f\"],[0.2222222222222222,\"#7201a8\"],[0.3333333333333333,\"#9c179e\"],[0.4444444444444444,\"#bd3786\"],[0.5555555555555556,\"#d8576b\"],[0.6666666666666666,\"#ed7953\"],[0.7777777777777778,\"#fb9f3a\"],[0.8888888888888888,\"#fdca26\"],[1.0,\"#f0f921\"]]}],\"heatmapgl\":[{\"type\":\"heatmapgl\",\"colorbar\":{\"outlinewidth\":0,\"ticks\":\"\"},\"colorscale\":[[0.0,\"#0d0887\"],[0.1111111111111111,\"#46039f\"],[0.2222222222222222,\"#7201a8\"],[0.3333333333333333,\"#9c179e\"],[0.4444444444444444,\"#bd3786\"],[0.5555555555555556,\"#d8576b\"],[0.6666666666666666,\"#ed7953\"],[0.7777777777777778,\"#fb9f3a\"],[0.8888888888888888,\"#fdca26\"],[1.0,\"#f0f921\"]]}],\"contourcarpet\":[{\"type\":\"contourcarpet\",\"colorbar\":{\"outlinewidth\":0,\"ticks\":\"\"}}],\"contour\":[{\"type\":\"contour\",\"colorbar\":{\"outlinewidth\":0,\"ticks\":\"\"},\"colorscale\":[[0.0,\"#0d0887\"],[0.1111111111111111,\"#46039f\"],[0.2222222222222222,\"#7201a8\"],[0.3333333333333333,\"#9c179e\"],[0.4444444444444444,\"#bd3786\"],[0.5555555555555556,\"#d8576b\"],[0.6666666666666666,\"#ed7953\"],[0.7777777777777778,\"#fb9f3a\"],[0.8888888888888888,\"#fdca26\"],[1.0,\"#f0f921\"]]}],\"surface\":[{\"type\":\"surface\",\"colorbar\":{\"outlinewidth\":0,\"ticks\":\"\"},\"colorscale\":[[0.0,\"#0d0887\"],[0.1111111111111111,\"#46039f\"],[0.2222222222222222,\"#7201a8\"],[0.3333333333333333,\"#9c179e\"],[0.4444444444444444,\"#bd3786\"],[0.5555555555555556,\"#d8576b\"],[0.6666666666666666,\"#ed7953\"],[0.7777777777777778,\"#fb9f3a\"],[0.8888888888888888,\"#fdca26\"],[1.0,\"#f0f921\"]]}],\"mesh3d\":[{\"type\":\"mesh3d\",\"colorbar\":{\"outlinewidth\":0,\"ticks\":\"\"}}],\"scatter\":[{\"fillpattern\":{\"fillmode\":\"overlay\",\"size\":10,\"solidity\":0.2},\"type\":\"scatter\"}],\"parcoords\":[{\"type\":\"parcoords\",\"line\":{\"colorbar\":{\"outlinewidth\":0,\"ticks\":\"\"}}}],\"scatterpolargl\":[{\"type\":\"scatterpolargl\",\"marker\":{\"colorbar\":{\"outlinewidth\":0,\"ticks\":\"\"}}}],\"bar\":[{\"error_x\":{\"color\":\"#2a3f5f\"},\"error_y\":{\"color\":\"#2a3f5f\"},\"marker\":{\"line\":{\"color\":\"#E5ECF6\",\"width\":0.5},\"pattern\":{\"fillmode\":\"overlay\",\"size\":10,\"solidity\":0.2}},\"type\":\"bar\"}],\"scattergeo\":[{\"type\":\"scattergeo\",\"marker\":{\"colorbar\":{\"outlinewidth\":0,\"ticks\":\"\"}}}],\"scatterpolar\":[{\"type\":\"scatterpolar\",\"marker\":{\"colorbar\":{\"outlinewidth\":0,\"ticks\":\"\"}}}],\"histogram\":[{\"marker\":{\"pattern\":{\"fillmode\":\"overlay\",\"size\":10,\"solidity\":0.2}},\"type\":\"histogram\"}],\"scattergl\":[{\"type\":\"scattergl\",\"marker\":{\"colorbar\":{\"outlinewidth\":0,\"ticks\":\"\"}}}],\"scatter3d\":[{\"type\":\"scatter3d\",\"line\":{\"colorbar\":{\"outlinewidth\":0,\"ticks\":\"\"}},\"marker\":{\"colorbar\":{\"outlinewidth\":0,\"ticks\":\"\"}}}],\"scattermapbox\":[{\"type\":\"scattermapbox\",\"marker\":{\"colorbar\":{\"outlinewidth\":0,\"ticks\":\"\"}}}],\"scatterternary\":[{\"type\":\"scatterternary\",\"marker\":{\"colorbar\":{\"outlinewidth\":0,\"ticks\":\"\"}}}],\"scattercarpet\":[{\"type\":\"scattercarpet\",\"marker\":{\"colorbar\":{\"outlinewidth\":0,\"ticks\":\"\"}}}],\"carpet\":[{\"aaxis\":{\"endlinecolor\":\"#2a3f5f\",\"gridcolor\":\"white\",\"linecolor\":\"white\",\"minorgridcolor\":\"white\",\"startlinecolor\":\"#2a3f5f\"},\"baxis\":{\"endlinecolor\":\"#2a3f5f\",\"gridcolor\":\"white\",\"linecolor\":\"white\",\"minorgridcolor\":\"white\",\"startlinecolor\":\"#2a3f5f\"},\"type\":\"carpet\"}],\"table\":[{\"cells\":{\"fill\":{\"color\":\"#EBF0F8\"},\"line\":{\"color\":\"white\"}},\"header\":{\"fill\":{\"color\":\"#C8D4E3\"},\"line\":{\"color\":\"white\"}},\"type\":\"table\"}],\"barpolar\":[{\"marker\":{\"line\":{\"color\":\"#E5ECF6\",\"width\":0.5},\"pattern\":{\"fillmode\":\"overlay\",\"size\":10,\"solidity\":0.2}},\"type\":\"barpolar\"}],\"pie\":[{\"automargin\":true,\"type\":\"pie\"}]},\"layout\":{\"autotypenumbers\":\"strict\",\"colorway\":[\"#636efa\",\"#EF553B\",\"#00cc96\",\"#ab63fa\",\"#FFA15A\",\"#19d3f3\",\"#FF6692\",\"#B6E880\",\"#FF97FF\",\"#FECB52\"],\"font\":{\"color\":\"#2a3f5f\"},\"hovermode\":\"closest\",\"hoverlabel\":{\"align\":\"left\"},\"paper_bgcolor\":\"white\",\"plot_bgcolor\":\"#E5ECF6\",\"polar\":{\"bgcolor\":\"#E5ECF6\",\"angularaxis\":{\"gridcolor\":\"white\",\"linecolor\":\"white\",\"ticks\":\"\"},\"radialaxis\":{\"gridcolor\":\"white\",\"linecolor\":\"white\",\"ticks\":\"\"}},\"ternary\":{\"bgcolor\":\"#E5ECF6\",\"aaxis\":{\"gridcolor\":\"white\",\"linecolor\":\"white\",\"ticks\":\"\"},\"baxis\":{\"gridcolor\":\"white\",\"linecolor\":\"white\",\"ticks\":\"\"},\"caxis\":{\"gridcolor\":\"white\",\"linecolor\":\"white\",\"ticks\":\"\"}},\"coloraxis\":{\"colorbar\":{\"outlinewidth\":0,\"ticks\":\"\"}},\"colorscale\":{\"sequential\":[[0.0,\"#0d0887\"],[0.1111111111111111,\"#46039f\"],[0.2222222222222222,\"#7201a8\"],[0.3333333333333333,\"#9c179e\"],[0.4444444444444444,\"#bd3786\"],[0.5555555555555556,\"#d8576b\"],[0.6666666666666666,\"#ed7953\"],[0.7777777777777778,\"#fb9f3a\"],[0.8888888888888888,\"#fdca26\"],[1.0,\"#f0f921\"]],\"sequentialminus\":[[0.0,\"#0d0887\"],[0.1111111111111111,\"#46039f\"],[0.2222222222222222,\"#7201a8\"],[0.3333333333333333,\"#9c179e\"],[0.4444444444444444,\"#bd3786\"],[0.5555555555555556,\"#d8576b\"],[0.6666666666666666,\"#ed7953\"],[0.7777777777777778,\"#fb9f3a\"],[0.8888888888888888,\"#fdca26\"],[1.0,\"#f0f921\"]],\"diverging\":[[0,\"#8e0152\"],[0.1,\"#c51b7d\"],[0.2,\"#de77ae\"],[0.3,\"#f1b6da\"],[0.4,\"#fde0ef\"],[0.5,\"#f7f7f7\"],[0.6,\"#e6f5d0\"],[0.7,\"#b8e186\"],[0.8,\"#7fbc41\"],[0.9,\"#4d9221\"],[1,\"#276419\"]]},\"xaxis\":{\"gridcolor\":\"white\",\"linecolor\":\"white\",\"ticks\":\"\",\"title\":{\"standoff\":15},\"zerolinecolor\":\"white\",\"automargin\":true,\"zerolinewidth\":2},\"yaxis\":{\"gridcolor\":\"white\",\"linecolor\":\"white\",\"ticks\":\"\",\"title\":{\"standoff\":15},\"zerolinecolor\":\"white\",\"automargin\":true,\"zerolinewidth\":2},\"scene\":{\"xaxis\":{\"backgroundcolor\":\"#E5ECF6\",\"gridcolor\":\"white\",\"linecolor\":\"white\",\"showbackground\":true,\"ticks\":\"\",\"zerolinecolor\":\"white\",\"gridwidth\":2},\"yaxis\":{\"backgroundcolor\":\"#E5ECF6\",\"gridcolor\":\"white\",\"linecolor\":\"white\",\"showbackground\":true,\"ticks\":\"\",\"zerolinecolor\":\"white\",\"gridwidth\":2},\"zaxis\":{\"backgroundcolor\":\"#E5ECF6\",\"gridcolor\":\"white\",\"linecolor\":\"white\",\"showbackground\":true,\"ticks\":\"\",\"zerolinecolor\":\"white\",\"gridwidth\":2}},\"shapedefaults\":{\"line\":{\"color\":\"#2a3f5f\"}},\"annotationdefaults\":{\"arrowcolor\":\"#2a3f5f\",\"arrowhead\":0,\"arrowwidth\":1},\"geo\":{\"bgcolor\":\"white\",\"landcolor\":\"#E5ECF6\",\"subunitcolor\":\"white\",\"showland\":true,\"showlakes\":true,\"lakecolor\":\"white\"},\"title\":{\"x\":0.05},\"mapbox\":{\"style\":\"light\"}}},\"xaxis\":{\"anchor\":\"y\",\"domain\":[0.0,1.0],\"title\":{\"text\":\"index\"}},\"yaxis\":{\"anchor\":\"x\",\"domain\":[0.0,1.0],\"title\":{\"text\":\"value\"}},\"legend\":{\"title\":{\"text\":\"variable\"},\"tracegroupgap\":0},\"margin\":{\"t\":60},\"barmode\":\"relative\"},                        {\"responsive\": true}                    ).then(function(){\n",
       "                            \n",
       "var gd = document.getElementById('4e7b2092-d8cb-4f40-a68f-a1ffe9ccd58d');\n",
       "var x = new MutationObserver(function (mutations, observer) {{\n",
       "        var display = window.getComputedStyle(gd).display;\n",
       "        if (!display || display === 'none') {{\n",
       "            console.log([gd, 'removed!']);\n",
       "            Plotly.purge(gd);\n",
       "            observer.disconnect();\n",
       "        }}\n",
       "}});\n",
       "\n",
       "// Listen for the removal of the full notebook cells\n",
       "var notebookContainer = gd.closest('#notebook-container');\n",
       "if (notebookContainer) {{\n",
       "    x.observe(notebookContainer, {childList: true});\n",
       "}}\n",
       "\n",
       "// Listen for the clearing of the current output cell\n",
       "var outputEl = gd.closest('.output');\n",
       "if (outputEl) {{\n",
       "    x.observe(outputEl, {childList: true});\n",
       "}}\n",
       "\n",
       "                        })                };                });            </script>        </div>"
      ]
     },
     "metadata": {},
     "output_type": "display_data"
    }
   ],
   "source": [
    "px.bar(grid_auroc.loc[\"CHEMBL5567\",:].sort_values(ascending=False))"
   ]
  },
  {
   "cell_type": "code",
   "execution_count": 72,
   "metadata": {},
   "outputs": [
    {
     "data": {
      "application/vnd.plotly.v1+json": {
       "config": {
        "plotlyServerURL": "https://plot.ly"
       },
       "data": [
        {
         "alignmentgroup": "True",
         "hovertemplate": "variable=CHEMBL2850<br>index=%{x}<br>value=%{y}<extra></extra>",
         "legendgroup": "CHEMBL2850",
         "marker": {
          "color": "#636efa",
          "pattern": {
           "shape": ""
          }
         },
         "name": "CHEMBL2850",
         "offsetgroup": "CHEMBL2850",
         "orientation": "v",
         "showlegend": true,
         "textposition": "auto",
         "type": "bar",
         "x": [
          "max_RDKIT_Tanimoto",
          "max_RDKIT_Cosine",
          "max_RDKIT_BraunBlanquet",
          "decile_RDKIT_BraunBlanquet",
          "cuartile_RAD2D_Cosine",
          "cuartile_ASP_Cosine",
          "cuartile_LSTAR_Cosine",
          "cuartile_RDKIT_Cosine",
          "max_RAD2D_BraunBlanquet",
          "max_LSTAR_BraunBlanquet",
          "max_ASP_BraunBlanquet",
          "cuartile_ASP_Tanimoto",
          "cuartile_RAD2D_Tanimoto",
          "cuartile_LSTAR_Tanimoto",
          "decile_ASP_BraunBlanquet",
          "decile_RAD2D_BraunBlanquet",
          "decile_LSTAR_BraunBlanquet",
          "cuartile_RDKIT_Tanimoto",
          "max_LSTAR_Cosine",
          "max_ASP_Cosine",
          "max_RAD2D_Cosine",
          "cuartile_RAD2D_BraunBlanquet",
          "cuartile_ASP_BraunBlanquet",
          "cuartile_LSTAR_BraunBlanquet",
          "max_RAD2D_Tanimoto",
          "max_ASP_Tanimoto",
          "max_LSTAR_Tanimoto",
          "cuartile_RDKIT_BraunBlanquet",
          "decile_RDKIT_Cosine",
          "decile_RDKIT_Tanimoto",
          "decile_ASP_Cosine",
          "decile_RAD2D_Cosine",
          "decile_LSTAR_Cosine",
          "decile_ASP_Tanimoto",
          "decile_LSTAR_Tanimoto",
          "decile_RAD2D_Tanimoto",
          "aupr_LSTAR_Tanimoto",
          "aupr_ASP_Tanimoto",
          "aupr_RAD2D_Tanimoto",
          "aupr_LSTAR_Cosine",
          "aupr_ASP_Cosine",
          "aupr_RAD2D_Cosine",
          "aupr_RAD2D_BraunBlanquet",
          "aupr_ASP_BraunBlanquet",
          "aupr_LSTAR_BraunBlanquet",
          "aupr_RDKIT_BraunBlanquet",
          "aupr_RDKIT_Tanimoto",
          "mean_RDKIT_Tanimoto",
          "aupr_RDKIT_Cosine",
          "mean_RDKIT_BraunBlanquet",
          "mean_RDKIT_Cosine",
          "auroc_RDKIT_BraunBlanquet",
          "mean_RAD2D_Tanimoto",
          "mean_LSTAR_Tanimoto",
          "mean_ASP_Tanimoto",
          "auroc_RDKIT_Tanimoto",
          "mean_RAD2D_BraunBlanquet",
          "mean_LSTAR_BraunBlanquet",
          "mean_ASP_BraunBlanquet",
          "mean_LSTAR_Cosine",
          "mean_RAD2D_Cosine",
          "mean_ASP_Cosine",
          "auroc_ASP_BraunBlanquet",
          "auroc_LSTAR_BraunBlanquet",
          "auroc_RAD2D_BraunBlanquet",
          "auroc_RDKIT_Cosine",
          "auroc_RAD2D_Tanimoto",
          "auroc_LSTAR_Tanimoto",
          "auroc_ASP_Tanimoto",
          "auroc_LSTAR_Cosine",
          "auroc_ASP_Cosine",
          "auroc_RAD2D_Cosine"
         ],
         "xaxis": "x",
         "y": [
          0.7573502722323049,
          0.7388384754990927,
          0.7284936479128857,
          0.6791288566243194,
          0.6771324863883846,
          0.6771324863883846,
          0.6771324863883846,
          0.669147005444646,
          0.6666061705989111,
          0.6666061705989111,
          0.6666061705989111,
          0.6655172413793102,
          0.6655172413793102,
          0.6655172413793102,
          0.6600725952813067,
          0.6600725952813067,
          0.6600725952813067,
          0.6588021778584391,
          0.6578947368421054,
          0.6578947368421054,
          0.6578947368421054,
          0.6577132486388384,
          0.6577132486388384,
          0.6577132486388384,
          0.6558983666061706,
          0.6558983666061706,
          0.6558983666061706,
          0.6446460980036297,
          0.6406533575317604,
          0.6404718693284935,
          0.6386569872958259,
          0.6386569872958259,
          0.6386569872958259,
          0.623956442831216,
          0.623956442831216,
          0.623956442831216,
          0.6185117967332123,
          0.6185117967332123,
          0.6185117967332123,
          0.6166969147005446,
          0.6166969147005446,
          0.6166969147005446,
          0.606715063520871,
          0.606715063520871,
          0.606715063520871,
          0.6054446460980035,
          0.6038112522686024,
          0.5920145190562612,
          0.591470054446461,
          0.5905626134301271,
          0.5858439201451906,
          0.5813067150635208,
          0.5725952813067151,
          0.5725952813067151,
          0.5725952813067151,
          0.5713248638838475,
          0.5707803992740471,
          0.5707803992740471,
          0.5707803992740471,
          0.5678765880217785,
          0.5678765880217785,
          0.5678765880217785,
          0.5647912885662432,
          0.5647912885662432,
          0.5647912885662432,
          0.5573502722323048,
          0.539382940108893,
          0.539382940108893,
          0.539382940108893,
          0.5353901996370236,
          0.5353901996370236,
          0.5353901996370236
         ],
         "yaxis": "y"
        }
       ],
       "layout": {
        "barmode": "relative",
        "legend": {
         "title": {
          "text": "variable"
         },
         "tracegroupgap": 0
        },
        "margin": {
         "t": 60
        },
        "template": {
         "data": {
          "bar": [
           {
            "error_x": {
             "color": "#2a3f5f"
            },
            "error_y": {
             "color": "#2a3f5f"
            },
            "marker": {
             "line": {
              "color": "#E5ECF6",
              "width": 0.5
             },
             "pattern": {
              "fillmode": "overlay",
              "size": 10,
              "solidity": 0.2
             }
            },
            "type": "bar"
           }
          ],
          "barpolar": [
           {
            "marker": {
             "line": {
              "color": "#E5ECF6",
              "width": 0.5
             },
             "pattern": {
              "fillmode": "overlay",
              "size": 10,
              "solidity": 0.2
             }
            },
            "type": "barpolar"
           }
          ],
          "carpet": [
           {
            "aaxis": {
             "endlinecolor": "#2a3f5f",
             "gridcolor": "white",
             "linecolor": "white",
             "minorgridcolor": "white",
             "startlinecolor": "#2a3f5f"
            },
            "baxis": {
             "endlinecolor": "#2a3f5f",
             "gridcolor": "white",
             "linecolor": "white",
             "minorgridcolor": "white",
             "startlinecolor": "#2a3f5f"
            },
            "type": "carpet"
           }
          ],
          "choropleth": [
           {
            "colorbar": {
             "outlinewidth": 0,
             "ticks": ""
            },
            "type": "choropleth"
           }
          ],
          "contour": [
           {
            "colorbar": {
             "outlinewidth": 0,
             "ticks": ""
            },
            "colorscale": [
             [
              0,
              "#0d0887"
             ],
             [
              0.1111111111111111,
              "#46039f"
             ],
             [
              0.2222222222222222,
              "#7201a8"
             ],
             [
              0.3333333333333333,
              "#9c179e"
             ],
             [
              0.4444444444444444,
              "#bd3786"
             ],
             [
              0.5555555555555556,
              "#d8576b"
             ],
             [
              0.6666666666666666,
              "#ed7953"
             ],
             [
              0.7777777777777778,
              "#fb9f3a"
             ],
             [
              0.8888888888888888,
              "#fdca26"
             ],
             [
              1,
              "#f0f921"
             ]
            ],
            "type": "contour"
           }
          ],
          "contourcarpet": [
           {
            "colorbar": {
             "outlinewidth": 0,
             "ticks": ""
            },
            "type": "contourcarpet"
           }
          ],
          "heatmap": [
           {
            "colorbar": {
             "outlinewidth": 0,
             "ticks": ""
            },
            "colorscale": [
             [
              0,
              "#0d0887"
             ],
             [
              0.1111111111111111,
              "#46039f"
             ],
             [
              0.2222222222222222,
              "#7201a8"
             ],
             [
              0.3333333333333333,
              "#9c179e"
             ],
             [
              0.4444444444444444,
              "#bd3786"
             ],
             [
              0.5555555555555556,
              "#d8576b"
             ],
             [
              0.6666666666666666,
              "#ed7953"
             ],
             [
              0.7777777777777778,
              "#fb9f3a"
             ],
             [
              0.8888888888888888,
              "#fdca26"
             ],
             [
              1,
              "#f0f921"
             ]
            ],
            "type": "heatmap"
           }
          ],
          "heatmapgl": [
           {
            "colorbar": {
             "outlinewidth": 0,
             "ticks": ""
            },
            "colorscale": [
             [
              0,
              "#0d0887"
             ],
             [
              0.1111111111111111,
              "#46039f"
             ],
             [
              0.2222222222222222,
              "#7201a8"
             ],
             [
              0.3333333333333333,
              "#9c179e"
             ],
             [
              0.4444444444444444,
              "#bd3786"
             ],
             [
              0.5555555555555556,
              "#d8576b"
             ],
             [
              0.6666666666666666,
              "#ed7953"
             ],
             [
              0.7777777777777778,
              "#fb9f3a"
             ],
             [
              0.8888888888888888,
              "#fdca26"
             ],
             [
              1,
              "#f0f921"
             ]
            ],
            "type": "heatmapgl"
           }
          ],
          "histogram": [
           {
            "marker": {
             "pattern": {
              "fillmode": "overlay",
              "size": 10,
              "solidity": 0.2
             }
            },
            "type": "histogram"
           }
          ],
          "histogram2d": [
           {
            "colorbar": {
             "outlinewidth": 0,
             "ticks": ""
            },
            "colorscale": [
             [
              0,
              "#0d0887"
             ],
             [
              0.1111111111111111,
              "#46039f"
             ],
             [
              0.2222222222222222,
              "#7201a8"
             ],
             [
              0.3333333333333333,
              "#9c179e"
             ],
             [
              0.4444444444444444,
              "#bd3786"
             ],
             [
              0.5555555555555556,
              "#d8576b"
             ],
             [
              0.6666666666666666,
              "#ed7953"
             ],
             [
              0.7777777777777778,
              "#fb9f3a"
             ],
             [
              0.8888888888888888,
              "#fdca26"
             ],
             [
              1,
              "#f0f921"
             ]
            ],
            "type": "histogram2d"
           }
          ],
          "histogram2dcontour": [
           {
            "colorbar": {
             "outlinewidth": 0,
             "ticks": ""
            },
            "colorscale": [
             [
              0,
              "#0d0887"
             ],
             [
              0.1111111111111111,
              "#46039f"
             ],
             [
              0.2222222222222222,
              "#7201a8"
             ],
             [
              0.3333333333333333,
              "#9c179e"
             ],
             [
              0.4444444444444444,
              "#bd3786"
             ],
             [
              0.5555555555555556,
              "#d8576b"
             ],
             [
              0.6666666666666666,
              "#ed7953"
             ],
             [
              0.7777777777777778,
              "#fb9f3a"
             ],
             [
              0.8888888888888888,
              "#fdca26"
             ],
             [
              1,
              "#f0f921"
             ]
            ],
            "type": "histogram2dcontour"
           }
          ],
          "mesh3d": [
           {
            "colorbar": {
             "outlinewidth": 0,
             "ticks": ""
            },
            "type": "mesh3d"
           }
          ],
          "parcoords": [
           {
            "line": {
             "colorbar": {
              "outlinewidth": 0,
              "ticks": ""
             }
            },
            "type": "parcoords"
           }
          ],
          "pie": [
           {
            "automargin": true,
            "type": "pie"
           }
          ],
          "scatter": [
           {
            "fillpattern": {
             "fillmode": "overlay",
             "size": 10,
             "solidity": 0.2
            },
            "type": "scatter"
           }
          ],
          "scatter3d": [
           {
            "line": {
             "colorbar": {
              "outlinewidth": 0,
              "ticks": ""
             }
            },
            "marker": {
             "colorbar": {
              "outlinewidth": 0,
              "ticks": ""
             }
            },
            "type": "scatter3d"
           }
          ],
          "scattercarpet": [
           {
            "marker": {
             "colorbar": {
              "outlinewidth": 0,
              "ticks": ""
             }
            },
            "type": "scattercarpet"
           }
          ],
          "scattergeo": [
           {
            "marker": {
             "colorbar": {
              "outlinewidth": 0,
              "ticks": ""
             }
            },
            "type": "scattergeo"
           }
          ],
          "scattergl": [
           {
            "marker": {
             "colorbar": {
              "outlinewidth": 0,
              "ticks": ""
             }
            },
            "type": "scattergl"
           }
          ],
          "scattermapbox": [
           {
            "marker": {
             "colorbar": {
              "outlinewidth": 0,
              "ticks": ""
             }
            },
            "type": "scattermapbox"
           }
          ],
          "scatterpolar": [
           {
            "marker": {
             "colorbar": {
              "outlinewidth": 0,
              "ticks": ""
             }
            },
            "type": "scatterpolar"
           }
          ],
          "scatterpolargl": [
           {
            "marker": {
             "colorbar": {
              "outlinewidth": 0,
              "ticks": ""
             }
            },
            "type": "scatterpolargl"
           }
          ],
          "scatterternary": [
           {
            "marker": {
             "colorbar": {
              "outlinewidth": 0,
              "ticks": ""
             }
            },
            "type": "scatterternary"
           }
          ],
          "surface": [
           {
            "colorbar": {
             "outlinewidth": 0,
             "ticks": ""
            },
            "colorscale": [
             [
              0,
              "#0d0887"
             ],
             [
              0.1111111111111111,
              "#46039f"
             ],
             [
              0.2222222222222222,
              "#7201a8"
             ],
             [
              0.3333333333333333,
              "#9c179e"
             ],
             [
              0.4444444444444444,
              "#bd3786"
             ],
             [
              0.5555555555555556,
              "#d8576b"
             ],
             [
              0.6666666666666666,
              "#ed7953"
             ],
             [
              0.7777777777777778,
              "#fb9f3a"
             ],
             [
              0.8888888888888888,
              "#fdca26"
             ],
             [
              1,
              "#f0f921"
             ]
            ],
            "type": "surface"
           }
          ],
          "table": [
           {
            "cells": {
             "fill": {
              "color": "#EBF0F8"
             },
             "line": {
              "color": "white"
             }
            },
            "header": {
             "fill": {
              "color": "#C8D4E3"
             },
             "line": {
              "color": "white"
             }
            },
            "type": "table"
           }
          ]
         },
         "layout": {
          "annotationdefaults": {
           "arrowcolor": "#2a3f5f",
           "arrowhead": 0,
           "arrowwidth": 1
          },
          "autotypenumbers": "strict",
          "coloraxis": {
           "colorbar": {
            "outlinewidth": 0,
            "ticks": ""
           }
          },
          "colorscale": {
           "diverging": [
            [
             0,
             "#8e0152"
            ],
            [
             0.1,
             "#c51b7d"
            ],
            [
             0.2,
             "#de77ae"
            ],
            [
             0.3,
             "#f1b6da"
            ],
            [
             0.4,
             "#fde0ef"
            ],
            [
             0.5,
             "#f7f7f7"
            ],
            [
             0.6,
             "#e6f5d0"
            ],
            [
             0.7,
             "#b8e186"
            ],
            [
             0.8,
             "#7fbc41"
            ],
            [
             0.9,
             "#4d9221"
            ],
            [
             1,
             "#276419"
            ]
           ],
           "sequential": [
            [
             0,
             "#0d0887"
            ],
            [
             0.1111111111111111,
             "#46039f"
            ],
            [
             0.2222222222222222,
             "#7201a8"
            ],
            [
             0.3333333333333333,
             "#9c179e"
            ],
            [
             0.4444444444444444,
             "#bd3786"
            ],
            [
             0.5555555555555556,
             "#d8576b"
            ],
            [
             0.6666666666666666,
             "#ed7953"
            ],
            [
             0.7777777777777778,
             "#fb9f3a"
            ],
            [
             0.8888888888888888,
             "#fdca26"
            ],
            [
             1,
             "#f0f921"
            ]
           ],
           "sequentialminus": [
            [
             0,
             "#0d0887"
            ],
            [
             0.1111111111111111,
             "#46039f"
            ],
            [
             0.2222222222222222,
             "#7201a8"
            ],
            [
             0.3333333333333333,
             "#9c179e"
            ],
            [
             0.4444444444444444,
             "#bd3786"
            ],
            [
             0.5555555555555556,
             "#d8576b"
            ],
            [
             0.6666666666666666,
             "#ed7953"
            ],
            [
             0.7777777777777778,
             "#fb9f3a"
            ],
            [
             0.8888888888888888,
             "#fdca26"
            ],
            [
             1,
             "#f0f921"
            ]
           ]
          },
          "colorway": [
           "#636efa",
           "#EF553B",
           "#00cc96",
           "#ab63fa",
           "#FFA15A",
           "#19d3f3",
           "#FF6692",
           "#B6E880",
           "#FF97FF",
           "#FECB52"
          ],
          "font": {
           "color": "#2a3f5f"
          },
          "geo": {
           "bgcolor": "white",
           "lakecolor": "white",
           "landcolor": "#E5ECF6",
           "showlakes": true,
           "showland": true,
           "subunitcolor": "white"
          },
          "hoverlabel": {
           "align": "left"
          },
          "hovermode": "closest",
          "mapbox": {
           "style": "light"
          },
          "paper_bgcolor": "white",
          "plot_bgcolor": "#E5ECF6",
          "polar": {
           "angularaxis": {
            "gridcolor": "white",
            "linecolor": "white",
            "ticks": ""
           },
           "bgcolor": "#E5ECF6",
           "radialaxis": {
            "gridcolor": "white",
            "linecolor": "white",
            "ticks": ""
           }
          },
          "scene": {
           "xaxis": {
            "backgroundcolor": "#E5ECF6",
            "gridcolor": "white",
            "gridwidth": 2,
            "linecolor": "white",
            "showbackground": true,
            "ticks": "",
            "zerolinecolor": "white"
           },
           "yaxis": {
            "backgroundcolor": "#E5ECF6",
            "gridcolor": "white",
            "gridwidth": 2,
            "linecolor": "white",
            "showbackground": true,
            "ticks": "",
            "zerolinecolor": "white"
           },
           "zaxis": {
            "backgroundcolor": "#E5ECF6",
            "gridcolor": "white",
            "gridwidth": 2,
            "linecolor": "white",
            "showbackground": true,
            "ticks": "",
            "zerolinecolor": "white"
           }
          },
          "shapedefaults": {
           "line": {
            "color": "#2a3f5f"
           }
          },
          "ternary": {
           "aaxis": {
            "gridcolor": "white",
            "linecolor": "white",
            "ticks": ""
           },
           "baxis": {
            "gridcolor": "white",
            "linecolor": "white",
            "ticks": ""
           },
           "bgcolor": "#E5ECF6",
           "caxis": {
            "gridcolor": "white",
            "linecolor": "white",
            "ticks": ""
           }
          },
          "title": {
           "x": 0.05
          },
          "xaxis": {
           "automargin": true,
           "gridcolor": "white",
           "linecolor": "white",
           "ticks": "",
           "title": {
            "standoff": 15
           },
           "zerolinecolor": "white",
           "zerolinewidth": 2
          },
          "yaxis": {
           "automargin": true,
           "gridcolor": "white",
           "linecolor": "white",
           "ticks": "",
           "title": {
            "standoff": 15
           },
           "zerolinecolor": "white",
           "zerolinewidth": 2
          }
         }
        },
        "xaxis": {
         "anchor": "y",
         "domain": [
          0,
          1
         ],
         "title": {
          "text": "index"
         }
        },
        "yaxis": {
         "anchor": "x",
         "domain": [
          0,
          1
         ],
         "title": {
          "text": "value"
         }
        }
       }
      },
      "text/html": [
       "<div>                            <div id=\"2b8b95bc-f65a-4b05-aec7-e0eb84de4df9\" class=\"plotly-graph-div\" style=\"height:525px; width:100%;\"></div>            <script type=\"text/javascript\">                require([\"plotly\"], function(Plotly) {                    window.PLOTLYENV=window.PLOTLYENV || {};                                    if (document.getElementById(\"2b8b95bc-f65a-4b05-aec7-e0eb84de4df9\")) {                    Plotly.newPlot(                        \"2b8b95bc-f65a-4b05-aec7-e0eb84de4df9\",                        [{\"alignmentgroup\":\"True\",\"hovertemplate\":\"variable=CHEMBL2850\\u003cbr\\u003eindex=%{x}\\u003cbr\\u003evalue=%{y}\\u003cextra\\u003e\\u003c\\u002fextra\\u003e\",\"legendgroup\":\"CHEMBL2850\",\"marker\":{\"color\":\"#636efa\",\"pattern\":{\"shape\":\"\"}},\"name\":\"CHEMBL2850\",\"offsetgroup\":\"CHEMBL2850\",\"orientation\":\"v\",\"showlegend\":true,\"textposition\":\"auto\",\"x\":[\"max_RDKIT_Tanimoto\",\"max_RDKIT_Cosine\",\"max_RDKIT_BraunBlanquet\",\"decile_RDKIT_BraunBlanquet\",\"cuartile_RAD2D_Cosine\",\"cuartile_ASP_Cosine\",\"cuartile_LSTAR_Cosine\",\"cuartile_RDKIT_Cosine\",\"max_RAD2D_BraunBlanquet\",\"max_LSTAR_BraunBlanquet\",\"max_ASP_BraunBlanquet\",\"cuartile_ASP_Tanimoto\",\"cuartile_RAD2D_Tanimoto\",\"cuartile_LSTAR_Tanimoto\",\"decile_ASP_BraunBlanquet\",\"decile_RAD2D_BraunBlanquet\",\"decile_LSTAR_BraunBlanquet\",\"cuartile_RDKIT_Tanimoto\",\"max_LSTAR_Cosine\",\"max_ASP_Cosine\",\"max_RAD2D_Cosine\",\"cuartile_RAD2D_BraunBlanquet\",\"cuartile_ASP_BraunBlanquet\",\"cuartile_LSTAR_BraunBlanquet\",\"max_RAD2D_Tanimoto\",\"max_ASP_Tanimoto\",\"max_LSTAR_Tanimoto\",\"cuartile_RDKIT_BraunBlanquet\",\"decile_RDKIT_Cosine\",\"decile_RDKIT_Tanimoto\",\"decile_ASP_Cosine\",\"decile_RAD2D_Cosine\",\"decile_LSTAR_Cosine\",\"decile_ASP_Tanimoto\",\"decile_LSTAR_Tanimoto\",\"decile_RAD2D_Tanimoto\",\"aupr_LSTAR_Tanimoto\",\"aupr_ASP_Tanimoto\",\"aupr_RAD2D_Tanimoto\",\"aupr_LSTAR_Cosine\",\"aupr_ASP_Cosine\",\"aupr_RAD2D_Cosine\",\"aupr_RAD2D_BraunBlanquet\",\"aupr_ASP_BraunBlanquet\",\"aupr_LSTAR_BraunBlanquet\",\"aupr_RDKIT_BraunBlanquet\",\"aupr_RDKIT_Tanimoto\",\"mean_RDKIT_Tanimoto\",\"aupr_RDKIT_Cosine\",\"mean_RDKIT_BraunBlanquet\",\"mean_RDKIT_Cosine\",\"auroc_RDKIT_BraunBlanquet\",\"mean_RAD2D_Tanimoto\",\"mean_LSTAR_Tanimoto\",\"mean_ASP_Tanimoto\",\"auroc_RDKIT_Tanimoto\",\"mean_RAD2D_BraunBlanquet\",\"mean_LSTAR_BraunBlanquet\",\"mean_ASP_BraunBlanquet\",\"mean_LSTAR_Cosine\",\"mean_RAD2D_Cosine\",\"mean_ASP_Cosine\",\"auroc_ASP_BraunBlanquet\",\"auroc_LSTAR_BraunBlanquet\",\"auroc_RAD2D_BraunBlanquet\",\"auroc_RDKIT_Cosine\",\"auroc_RAD2D_Tanimoto\",\"auroc_LSTAR_Tanimoto\",\"auroc_ASP_Tanimoto\",\"auroc_LSTAR_Cosine\",\"auroc_ASP_Cosine\",\"auroc_RAD2D_Cosine\"],\"xaxis\":\"x\",\"y\":[0.7573502722323049,0.7388384754990927,0.7284936479128857,0.6791288566243194,0.6771324863883846,0.6771324863883846,0.6771324863883846,0.669147005444646,0.6666061705989111,0.6666061705989111,0.6666061705989111,0.6655172413793102,0.6655172413793102,0.6655172413793102,0.6600725952813067,0.6600725952813067,0.6600725952813067,0.6588021778584391,0.6578947368421054,0.6578947368421054,0.6578947368421054,0.6577132486388384,0.6577132486388384,0.6577132486388384,0.6558983666061706,0.6558983666061706,0.6558983666061706,0.6446460980036297,0.6406533575317604,0.6404718693284935,0.6386569872958259,0.6386569872958259,0.6386569872958259,0.623956442831216,0.623956442831216,0.623956442831216,0.6185117967332123,0.6185117967332123,0.6185117967332123,0.6166969147005446,0.6166969147005446,0.6166969147005446,0.606715063520871,0.606715063520871,0.606715063520871,0.6054446460980035,0.6038112522686024,0.5920145190562612,0.591470054446461,0.5905626134301271,0.5858439201451906,0.5813067150635208,0.5725952813067151,0.5725952813067151,0.5725952813067151,0.5713248638838475,0.5707803992740471,0.5707803992740471,0.5707803992740471,0.5678765880217785,0.5678765880217785,0.5678765880217785,0.5647912885662432,0.5647912885662432,0.5647912885662432,0.5573502722323048,0.539382940108893,0.539382940108893,0.539382940108893,0.5353901996370236,0.5353901996370236,0.5353901996370236],\"yaxis\":\"y\",\"type\":\"bar\"}],                        {\"template\":{\"data\":{\"histogram2dcontour\":[{\"type\":\"histogram2dcontour\",\"colorbar\":{\"outlinewidth\":0,\"ticks\":\"\"},\"colorscale\":[[0.0,\"#0d0887\"],[0.1111111111111111,\"#46039f\"],[0.2222222222222222,\"#7201a8\"],[0.3333333333333333,\"#9c179e\"],[0.4444444444444444,\"#bd3786\"],[0.5555555555555556,\"#d8576b\"],[0.6666666666666666,\"#ed7953\"],[0.7777777777777778,\"#fb9f3a\"],[0.8888888888888888,\"#fdca26\"],[1.0,\"#f0f921\"]]}],\"choropleth\":[{\"type\":\"choropleth\",\"colorbar\":{\"outlinewidth\":0,\"ticks\":\"\"}}],\"histogram2d\":[{\"type\":\"histogram2d\",\"colorbar\":{\"outlinewidth\":0,\"ticks\":\"\"},\"colorscale\":[[0.0,\"#0d0887\"],[0.1111111111111111,\"#46039f\"],[0.2222222222222222,\"#7201a8\"],[0.3333333333333333,\"#9c179e\"],[0.4444444444444444,\"#bd3786\"],[0.5555555555555556,\"#d8576b\"],[0.6666666666666666,\"#ed7953\"],[0.7777777777777778,\"#fb9f3a\"],[0.8888888888888888,\"#fdca26\"],[1.0,\"#f0f921\"]]}],\"heatmap\":[{\"type\":\"heatmap\",\"colorbar\":{\"outlinewidth\":0,\"ticks\":\"\"},\"colorscale\":[[0.0,\"#0d0887\"],[0.1111111111111111,\"#46039f\"],[0.2222222222222222,\"#7201a8\"],[0.3333333333333333,\"#9c179e\"],[0.4444444444444444,\"#bd3786\"],[0.5555555555555556,\"#d8576b\"],[0.6666666666666666,\"#ed7953\"],[0.7777777777777778,\"#fb9f3a\"],[0.8888888888888888,\"#fdca26\"],[1.0,\"#f0f921\"]]}],\"heatmapgl\":[{\"type\":\"heatmapgl\",\"colorbar\":{\"outlinewidth\":0,\"ticks\":\"\"},\"colorscale\":[[0.0,\"#0d0887\"],[0.1111111111111111,\"#46039f\"],[0.2222222222222222,\"#7201a8\"],[0.3333333333333333,\"#9c179e\"],[0.4444444444444444,\"#bd3786\"],[0.5555555555555556,\"#d8576b\"],[0.6666666666666666,\"#ed7953\"],[0.7777777777777778,\"#fb9f3a\"],[0.8888888888888888,\"#fdca26\"],[1.0,\"#f0f921\"]]}],\"contourcarpet\":[{\"type\":\"contourcarpet\",\"colorbar\":{\"outlinewidth\":0,\"ticks\":\"\"}}],\"contour\":[{\"type\":\"contour\",\"colorbar\":{\"outlinewidth\":0,\"ticks\":\"\"},\"colorscale\":[[0.0,\"#0d0887\"],[0.1111111111111111,\"#46039f\"],[0.2222222222222222,\"#7201a8\"],[0.3333333333333333,\"#9c179e\"],[0.4444444444444444,\"#bd3786\"],[0.5555555555555556,\"#d8576b\"],[0.6666666666666666,\"#ed7953\"],[0.7777777777777778,\"#fb9f3a\"],[0.8888888888888888,\"#fdca26\"],[1.0,\"#f0f921\"]]}],\"surface\":[{\"type\":\"surface\",\"colorbar\":{\"outlinewidth\":0,\"ticks\":\"\"},\"colorscale\":[[0.0,\"#0d0887\"],[0.1111111111111111,\"#46039f\"],[0.2222222222222222,\"#7201a8\"],[0.3333333333333333,\"#9c179e\"],[0.4444444444444444,\"#bd3786\"],[0.5555555555555556,\"#d8576b\"],[0.6666666666666666,\"#ed7953\"],[0.7777777777777778,\"#fb9f3a\"],[0.8888888888888888,\"#fdca26\"],[1.0,\"#f0f921\"]]}],\"mesh3d\":[{\"type\":\"mesh3d\",\"colorbar\":{\"outlinewidth\":0,\"ticks\":\"\"}}],\"scatter\":[{\"fillpattern\":{\"fillmode\":\"overlay\",\"size\":10,\"solidity\":0.2},\"type\":\"scatter\"}],\"parcoords\":[{\"type\":\"parcoords\",\"line\":{\"colorbar\":{\"outlinewidth\":0,\"ticks\":\"\"}}}],\"scatterpolargl\":[{\"type\":\"scatterpolargl\",\"marker\":{\"colorbar\":{\"outlinewidth\":0,\"ticks\":\"\"}}}],\"bar\":[{\"error_x\":{\"color\":\"#2a3f5f\"},\"error_y\":{\"color\":\"#2a3f5f\"},\"marker\":{\"line\":{\"color\":\"#E5ECF6\",\"width\":0.5},\"pattern\":{\"fillmode\":\"overlay\",\"size\":10,\"solidity\":0.2}},\"type\":\"bar\"}],\"scattergeo\":[{\"type\":\"scattergeo\",\"marker\":{\"colorbar\":{\"outlinewidth\":0,\"ticks\":\"\"}}}],\"scatterpolar\":[{\"type\":\"scatterpolar\",\"marker\":{\"colorbar\":{\"outlinewidth\":0,\"ticks\":\"\"}}}],\"histogram\":[{\"marker\":{\"pattern\":{\"fillmode\":\"overlay\",\"size\":10,\"solidity\":0.2}},\"type\":\"histogram\"}],\"scattergl\":[{\"type\":\"scattergl\",\"marker\":{\"colorbar\":{\"outlinewidth\":0,\"ticks\":\"\"}}}],\"scatter3d\":[{\"type\":\"scatter3d\",\"line\":{\"colorbar\":{\"outlinewidth\":0,\"ticks\":\"\"}},\"marker\":{\"colorbar\":{\"outlinewidth\":0,\"ticks\":\"\"}}}],\"scattermapbox\":[{\"type\":\"scattermapbox\",\"marker\":{\"colorbar\":{\"outlinewidth\":0,\"ticks\":\"\"}}}],\"scatterternary\":[{\"type\":\"scatterternary\",\"marker\":{\"colorbar\":{\"outlinewidth\":0,\"ticks\":\"\"}}}],\"scattercarpet\":[{\"type\":\"scattercarpet\",\"marker\":{\"colorbar\":{\"outlinewidth\":0,\"ticks\":\"\"}}}],\"carpet\":[{\"aaxis\":{\"endlinecolor\":\"#2a3f5f\",\"gridcolor\":\"white\",\"linecolor\":\"white\",\"minorgridcolor\":\"white\",\"startlinecolor\":\"#2a3f5f\"},\"baxis\":{\"endlinecolor\":\"#2a3f5f\",\"gridcolor\":\"white\",\"linecolor\":\"white\",\"minorgridcolor\":\"white\",\"startlinecolor\":\"#2a3f5f\"},\"type\":\"carpet\"}],\"table\":[{\"cells\":{\"fill\":{\"color\":\"#EBF0F8\"},\"line\":{\"color\":\"white\"}},\"header\":{\"fill\":{\"color\":\"#C8D4E3\"},\"line\":{\"color\":\"white\"}},\"type\":\"table\"}],\"barpolar\":[{\"marker\":{\"line\":{\"color\":\"#E5ECF6\",\"width\":0.5},\"pattern\":{\"fillmode\":\"overlay\",\"size\":10,\"solidity\":0.2}},\"type\":\"barpolar\"}],\"pie\":[{\"automargin\":true,\"type\":\"pie\"}]},\"layout\":{\"autotypenumbers\":\"strict\",\"colorway\":[\"#636efa\",\"#EF553B\",\"#00cc96\",\"#ab63fa\",\"#FFA15A\",\"#19d3f3\",\"#FF6692\",\"#B6E880\",\"#FF97FF\",\"#FECB52\"],\"font\":{\"color\":\"#2a3f5f\"},\"hovermode\":\"closest\",\"hoverlabel\":{\"align\":\"left\"},\"paper_bgcolor\":\"white\",\"plot_bgcolor\":\"#E5ECF6\",\"polar\":{\"bgcolor\":\"#E5ECF6\",\"angularaxis\":{\"gridcolor\":\"white\",\"linecolor\":\"white\",\"ticks\":\"\"},\"radialaxis\":{\"gridcolor\":\"white\",\"linecolor\":\"white\",\"ticks\":\"\"}},\"ternary\":{\"bgcolor\":\"#E5ECF6\",\"aaxis\":{\"gridcolor\":\"white\",\"linecolor\":\"white\",\"ticks\":\"\"},\"baxis\":{\"gridcolor\":\"white\",\"linecolor\":\"white\",\"ticks\":\"\"},\"caxis\":{\"gridcolor\":\"white\",\"linecolor\":\"white\",\"ticks\":\"\"}},\"coloraxis\":{\"colorbar\":{\"outlinewidth\":0,\"ticks\":\"\"}},\"colorscale\":{\"sequential\":[[0.0,\"#0d0887\"],[0.1111111111111111,\"#46039f\"],[0.2222222222222222,\"#7201a8\"],[0.3333333333333333,\"#9c179e\"],[0.4444444444444444,\"#bd3786\"],[0.5555555555555556,\"#d8576b\"],[0.6666666666666666,\"#ed7953\"],[0.7777777777777778,\"#fb9f3a\"],[0.8888888888888888,\"#fdca26\"],[1.0,\"#f0f921\"]],\"sequentialminus\":[[0.0,\"#0d0887\"],[0.1111111111111111,\"#46039f\"],[0.2222222222222222,\"#7201a8\"],[0.3333333333333333,\"#9c179e\"],[0.4444444444444444,\"#bd3786\"],[0.5555555555555556,\"#d8576b\"],[0.6666666666666666,\"#ed7953\"],[0.7777777777777778,\"#fb9f3a\"],[0.8888888888888888,\"#fdca26\"],[1.0,\"#f0f921\"]],\"diverging\":[[0,\"#8e0152\"],[0.1,\"#c51b7d\"],[0.2,\"#de77ae\"],[0.3,\"#f1b6da\"],[0.4,\"#fde0ef\"],[0.5,\"#f7f7f7\"],[0.6,\"#e6f5d0\"],[0.7,\"#b8e186\"],[0.8,\"#7fbc41\"],[0.9,\"#4d9221\"],[1,\"#276419\"]]},\"xaxis\":{\"gridcolor\":\"white\",\"linecolor\":\"white\",\"ticks\":\"\",\"title\":{\"standoff\":15},\"zerolinecolor\":\"white\",\"automargin\":true,\"zerolinewidth\":2},\"yaxis\":{\"gridcolor\":\"white\",\"linecolor\":\"white\",\"ticks\":\"\",\"title\":{\"standoff\":15},\"zerolinecolor\":\"white\",\"automargin\":true,\"zerolinewidth\":2},\"scene\":{\"xaxis\":{\"backgroundcolor\":\"#E5ECF6\",\"gridcolor\":\"white\",\"linecolor\":\"white\",\"showbackground\":true,\"ticks\":\"\",\"zerolinecolor\":\"white\",\"gridwidth\":2},\"yaxis\":{\"backgroundcolor\":\"#E5ECF6\",\"gridcolor\":\"white\",\"linecolor\":\"white\",\"showbackground\":true,\"ticks\":\"\",\"zerolinecolor\":\"white\",\"gridwidth\":2},\"zaxis\":{\"backgroundcolor\":\"#E5ECF6\",\"gridcolor\":\"white\",\"linecolor\":\"white\",\"showbackground\":true,\"ticks\":\"\",\"zerolinecolor\":\"white\",\"gridwidth\":2}},\"shapedefaults\":{\"line\":{\"color\":\"#2a3f5f\"}},\"annotationdefaults\":{\"arrowcolor\":\"#2a3f5f\",\"arrowhead\":0,\"arrowwidth\":1},\"geo\":{\"bgcolor\":\"white\",\"landcolor\":\"#E5ECF6\",\"subunitcolor\":\"white\",\"showland\":true,\"showlakes\":true,\"lakecolor\":\"white\"},\"title\":{\"x\":0.05},\"mapbox\":{\"style\":\"light\"}}},\"xaxis\":{\"anchor\":\"y\",\"domain\":[0.0,1.0],\"title\":{\"text\":\"index\"}},\"yaxis\":{\"anchor\":\"x\",\"domain\":[0.0,1.0],\"title\":{\"text\":\"value\"}},\"legend\":{\"title\":{\"text\":\"variable\"},\"tracegroupgap\":0},\"margin\":{\"t\":60},\"barmode\":\"relative\"},                        {\"responsive\": true}                    ).then(function(){\n",
       "                            \n",
       "var gd = document.getElementById('2b8b95bc-f65a-4b05-aec7-e0eb84de4df9');\n",
       "var x = new MutationObserver(function (mutations, observer) {{\n",
       "        var display = window.getComputedStyle(gd).display;\n",
       "        if (!display || display === 'none') {{\n",
       "            console.log([gd, 'removed!']);\n",
       "            Plotly.purge(gd);\n",
       "            observer.disconnect();\n",
       "        }}\n",
       "}});\n",
       "\n",
       "// Listen for the removal of the full notebook cells\n",
       "var notebookContainer = gd.closest('#notebook-container');\n",
       "if (notebookContainer) {{\n",
       "    x.observe(notebookContainer, {childList: true});\n",
       "}}\n",
       "\n",
       "// Listen for the clearing of the current output cell\n",
       "var outputEl = gd.closest('.output');\n",
       "if (outputEl) {{\n",
       "    x.observe(outputEl, {childList: true});\n",
       "}}\n",
       "\n",
       "                        })                };                });            </script>        </div>"
      ]
     },
     "metadata": {},
     "output_type": "display_data"
    }
   ],
   "source": [
    "px.bar(grid_auroc.loc[\"CHEMBL2850\",:].sort_values(ascending=False))"
   ]
  },
  {
   "cell_type": "code",
   "execution_count": 73,
   "metadata": {},
   "outputs": [
    {
     "data": {
      "application/vnd.plotly.v1+json": {
       "config": {
        "plotlyServerURL": "https://plot.ly"
       },
       "data": [
        {
         "alignmentgroup": "True",
         "hovertemplate": "variable=CHEMBL4657<br>index=%{x}<br>value=%{y}<extra></extra>",
         "legendgroup": "CHEMBL4657",
         "marker": {
          "color": "#636efa",
          "pattern": {
           "shape": ""
          }
         },
         "name": "CHEMBL4657",
         "offsetgroup": "CHEMBL4657",
         "orientation": "v",
         "showlegend": true,
         "textposition": "auto",
         "type": "bar",
         "x": [
          "max_ASP_BraunBlanquet",
          "max_LSTAR_BraunBlanquet",
          "max_RAD2D_BraunBlanquet",
          "max_RAD2D_Tanimoto",
          "max_ASP_Tanimoto",
          "max_LSTAR_Tanimoto",
          "max_RAD2D_Cosine",
          "max_ASP_Cosine",
          "max_LSTAR_Cosine",
          "max_RDKIT_BraunBlanquet",
          "max_RDKIT_Tanimoto",
          "max_RDKIT_Cosine",
          "decile_RDKIT_Tanimoto",
          "decile_RDKIT_Cosine",
          "decile_RDKIT_BraunBlanquet",
          "decile_ASP_Tanimoto",
          "decile_LSTAR_Tanimoto",
          "decile_RAD2D_Tanimoto",
          "decile_LSTAR_Cosine",
          "decile_ASP_Cosine",
          "decile_RAD2D_Cosine",
          "decile_ASP_BraunBlanquet",
          "decile_LSTAR_BraunBlanquet",
          "decile_RAD2D_BraunBlanquet",
          "cuartile_RDKIT_Cosine",
          "cuartile_RDKIT_Tanimoto",
          "cuartile_RDKIT_BraunBlanquet",
          "cuartile_RAD2D_Tanimoto",
          "cuartile_ASP_Tanimoto",
          "cuartile_LSTAR_Tanimoto",
          "cuartile_ASP_BraunBlanquet",
          "cuartile_LSTAR_BraunBlanquet",
          "cuartile_RAD2D_BraunBlanquet",
          "cuartile_LSTAR_Cosine",
          "cuartile_ASP_Cosine",
          "cuartile_RAD2D_Cosine",
          "mean_ASP_Tanimoto",
          "mean_LSTAR_Tanimoto",
          "mean_RAD2D_Tanimoto",
          "mean_RDKIT_Tanimoto",
          "aupr_RDKIT_Cosine",
          "mean_RDKIT_Cosine",
          "mean_ASP_Cosine",
          "mean_LSTAR_Cosine",
          "mean_RAD2D_Cosine",
          "mean_ASP_BraunBlanquet",
          "mean_RAD2D_BraunBlanquet",
          "mean_LSTAR_BraunBlanquet",
          "aupr_RDKIT_Tanimoto",
          "aupr_RDKIT_BraunBlanquet",
          "aupr_RAD2D_BraunBlanquet",
          "aupr_LSTAR_BraunBlanquet",
          "aupr_ASP_BraunBlanquet",
          "aupr_RAD2D_Cosine",
          "aupr_LSTAR_Cosine",
          "aupr_ASP_Cosine",
          "aupr_ASP_Tanimoto",
          "aupr_LSTAR_Tanimoto",
          "aupr_RAD2D_Tanimoto",
          "mean_RDKIT_BraunBlanquet",
          "auroc_RDKIT_Cosine",
          "auroc_RDKIT_Tanimoto",
          "auroc_RDKIT_BraunBlanquet",
          "auroc_RAD2D_Tanimoto",
          "auroc_ASP_Tanimoto",
          "auroc_LSTAR_Tanimoto",
          "auroc_ASP_BraunBlanquet",
          "auroc_RAD2D_BraunBlanquet",
          "auroc_LSTAR_BraunBlanquet",
          "auroc_ASP_Cosine",
          "auroc_RAD2D_Cosine",
          "auroc_LSTAR_Cosine"
         ],
         "xaxis": "x",
         "y": [
          0.916798864490273,
          0.916798864490273,
          0.916798864490273,
          0.9110378224931116,
          0.9110378224931116,
          0.9110378224931116,
          0.9052350338148116,
          0.9052350338148116,
          0.9052350338148116,
          0.9047758203222844,
          0.902688486265342,
          0.8970109376304582,
          0.8962177506888203,
          0.8931702429656843,
          0.8879101611421892,
          0.8811054521165567,
          0.8811054521165567,
          0.8811054521165567,
          0.8761793437421724,
          0.8761793437421724,
          0.8761793437421724,
          0.8755531435250897,
          0.8755531435250897,
          0.8755531435250897,
          0.8745094764966186,
          0.8743007430909243,
          0.8646155130667112,
          0.853302162478083,
          0.853302162478083,
          0.853302162478083,
          0.8434081990481757,
          0.8434081990481757,
          0.8434081990481757,
          0.8426150121065376,
          0.8426150121065376,
          0.8426150121065376,
          0.8098856140936797,
          0.8098856140936797,
          0.8098856140936797,
          0.7931451949570009,
          0.7915588210737247,
          0.7839191784253152,
          0.7783251231527094,
          0.7783251231527094,
          0.7783251231527094,
          0.7701427736494949,
          0.7701427736494949,
          0.7701427736494949,
          0.7693913333889955,
          0.7593303832345328,
          0.757910996075812,
          0.757910996075812,
          0.757910996075812,
          0.7564081155548134,
          0.7564081155548134,
          0.7564081155548134,
          0.7563246221925357,
          0.7563246221925357,
          0.7563246221925357,
          0.7409618435334391,
          0.7076479919846373,
          0.6853552642564917,
          0.6449862235952242,
          0.6406445687567839,
          0.6406445687567839,
          0.6406445687567839,
          0.6384737413375637,
          0.6384737413375637,
          0.6384737413375637,
          0.636469900642899,
          0.636469900642899,
          0.636469900642899
         ],
         "yaxis": "y"
        }
       ],
       "layout": {
        "barmode": "relative",
        "legend": {
         "title": {
          "text": "variable"
         },
         "tracegroupgap": 0
        },
        "margin": {
         "t": 60
        },
        "template": {
         "data": {
          "bar": [
           {
            "error_x": {
             "color": "#2a3f5f"
            },
            "error_y": {
             "color": "#2a3f5f"
            },
            "marker": {
             "line": {
              "color": "#E5ECF6",
              "width": 0.5
             },
             "pattern": {
              "fillmode": "overlay",
              "size": 10,
              "solidity": 0.2
             }
            },
            "type": "bar"
           }
          ],
          "barpolar": [
           {
            "marker": {
             "line": {
              "color": "#E5ECF6",
              "width": 0.5
             },
             "pattern": {
              "fillmode": "overlay",
              "size": 10,
              "solidity": 0.2
             }
            },
            "type": "barpolar"
           }
          ],
          "carpet": [
           {
            "aaxis": {
             "endlinecolor": "#2a3f5f",
             "gridcolor": "white",
             "linecolor": "white",
             "minorgridcolor": "white",
             "startlinecolor": "#2a3f5f"
            },
            "baxis": {
             "endlinecolor": "#2a3f5f",
             "gridcolor": "white",
             "linecolor": "white",
             "minorgridcolor": "white",
             "startlinecolor": "#2a3f5f"
            },
            "type": "carpet"
           }
          ],
          "choropleth": [
           {
            "colorbar": {
             "outlinewidth": 0,
             "ticks": ""
            },
            "type": "choropleth"
           }
          ],
          "contour": [
           {
            "colorbar": {
             "outlinewidth": 0,
             "ticks": ""
            },
            "colorscale": [
             [
              0,
              "#0d0887"
             ],
             [
              0.1111111111111111,
              "#46039f"
             ],
             [
              0.2222222222222222,
              "#7201a8"
             ],
             [
              0.3333333333333333,
              "#9c179e"
             ],
             [
              0.4444444444444444,
              "#bd3786"
             ],
             [
              0.5555555555555556,
              "#d8576b"
             ],
             [
              0.6666666666666666,
              "#ed7953"
             ],
             [
              0.7777777777777778,
              "#fb9f3a"
             ],
             [
              0.8888888888888888,
              "#fdca26"
             ],
             [
              1,
              "#f0f921"
             ]
            ],
            "type": "contour"
           }
          ],
          "contourcarpet": [
           {
            "colorbar": {
             "outlinewidth": 0,
             "ticks": ""
            },
            "type": "contourcarpet"
           }
          ],
          "heatmap": [
           {
            "colorbar": {
             "outlinewidth": 0,
             "ticks": ""
            },
            "colorscale": [
             [
              0,
              "#0d0887"
             ],
             [
              0.1111111111111111,
              "#46039f"
             ],
             [
              0.2222222222222222,
              "#7201a8"
             ],
             [
              0.3333333333333333,
              "#9c179e"
             ],
             [
              0.4444444444444444,
              "#bd3786"
             ],
             [
              0.5555555555555556,
              "#d8576b"
             ],
             [
              0.6666666666666666,
              "#ed7953"
             ],
             [
              0.7777777777777778,
              "#fb9f3a"
             ],
             [
              0.8888888888888888,
              "#fdca26"
             ],
             [
              1,
              "#f0f921"
             ]
            ],
            "type": "heatmap"
           }
          ],
          "heatmapgl": [
           {
            "colorbar": {
             "outlinewidth": 0,
             "ticks": ""
            },
            "colorscale": [
             [
              0,
              "#0d0887"
             ],
             [
              0.1111111111111111,
              "#46039f"
             ],
             [
              0.2222222222222222,
              "#7201a8"
             ],
             [
              0.3333333333333333,
              "#9c179e"
             ],
             [
              0.4444444444444444,
              "#bd3786"
             ],
             [
              0.5555555555555556,
              "#d8576b"
             ],
             [
              0.6666666666666666,
              "#ed7953"
             ],
             [
              0.7777777777777778,
              "#fb9f3a"
             ],
             [
              0.8888888888888888,
              "#fdca26"
             ],
             [
              1,
              "#f0f921"
             ]
            ],
            "type": "heatmapgl"
           }
          ],
          "histogram": [
           {
            "marker": {
             "pattern": {
              "fillmode": "overlay",
              "size": 10,
              "solidity": 0.2
             }
            },
            "type": "histogram"
           }
          ],
          "histogram2d": [
           {
            "colorbar": {
             "outlinewidth": 0,
             "ticks": ""
            },
            "colorscale": [
             [
              0,
              "#0d0887"
             ],
             [
              0.1111111111111111,
              "#46039f"
             ],
             [
              0.2222222222222222,
              "#7201a8"
             ],
             [
              0.3333333333333333,
              "#9c179e"
             ],
             [
              0.4444444444444444,
              "#bd3786"
             ],
             [
              0.5555555555555556,
              "#d8576b"
             ],
             [
              0.6666666666666666,
              "#ed7953"
             ],
             [
              0.7777777777777778,
              "#fb9f3a"
             ],
             [
              0.8888888888888888,
              "#fdca26"
             ],
             [
              1,
              "#f0f921"
             ]
            ],
            "type": "histogram2d"
           }
          ],
          "histogram2dcontour": [
           {
            "colorbar": {
             "outlinewidth": 0,
             "ticks": ""
            },
            "colorscale": [
             [
              0,
              "#0d0887"
             ],
             [
              0.1111111111111111,
              "#46039f"
             ],
             [
              0.2222222222222222,
              "#7201a8"
             ],
             [
              0.3333333333333333,
              "#9c179e"
             ],
             [
              0.4444444444444444,
              "#bd3786"
             ],
             [
              0.5555555555555556,
              "#d8576b"
             ],
             [
              0.6666666666666666,
              "#ed7953"
             ],
             [
              0.7777777777777778,
              "#fb9f3a"
             ],
             [
              0.8888888888888888,
              "#fdca26"
             ],
             [
              1,
              "#f0f921"
             ]
            ],
            "type": "histogram2dcontour"
           }
          ],
          "mesh3d": [
           {
            "colorbar": {
             "outlinewidth": 0,
             "ticks": ""
            },
            "type": "mesh3d"
           }
          ],
          "parcoords": [
           {
            "line": {
             "colorbar": {
              "outlinewidth": 0,
              "ticks": ""
             }
            },
            "type": "parcoords"
           }
          ],
          "pie": [
           {
            "automargin": true,
            "type": "pie"
           }
          ],
          "scatter": [
           {
            "fillpattern": {
             "fillmode": "overlay",
             "size": 10,
             "solidity": 0.2
            },
            "type": "scatter"
           }
          ],
          "scatter3d": [
           {
            "line": {
             "colorbar": {
              "outlinewidth": 0,
              "ticks": ""
             }
            },
            "marker": {
             "colorbar": {
              "outlinewidth": 0,
              "ticks": ""
             }
            },
            "type": "scatter3d"
           }
          ],
          "scattercarpet": [
           {
            "marker": {
             "colorbar": {
              "outlinewidth": 0,
              "ticks": ""
             }
            },
            "type": "scattercarpet"
           }
          ],
          "scattergeo": [
           {
            "marker": {
             "colorbar": {
              "outlinewidth": 0,
              "ticks": ""
             }
            },
            "type": "scattergeo"
           }
          ],
          "scattergl": [
           {
            "marker": {
             "colorbar": {
              "outlinewidth": 0,
              "ticks": ""
             }
            },
            "type": "scattergl"
           }
          ],
          "scattermapbox": [
           {
            "marker": {
             "colorbar": {
              "outlinewidth": 0,
              "ticks": ""
             }
            },
            "type": "scattermapbox"
           }
          ],
          "scatterpolar": [
           {
            "marker": {
             "colorbar": {
              "outlinewidth": 0,
              "ticks": ""
             }
            },
            "type": "scatterpolar"
           }
          ],
          "scatterpolargl": [
           {
            "marker": {
             "colorbar": {
              "outlinewidth": 0,
              "ticks": ""
             }
            },
            "type": "scatterpolargl"
           }
          ],
          "scatterternary": [
           {
            "marker": {
             "colorbar": {
              "outlinewidth": 0,
              "ticks": ""
             }
            },
            "type": "scatterternary"
           }
          ],
          "surface": [
           {
            "colorbar": {
             "outlinewidth": 0,
             "ticks": ""
            },
            "colorscale": [
             [
              0,
              "#0d0887"
             ],
             [
              0.1111111111111111,
              "#46039f"
             ],
             [
              0.2222222222222222,
              "#7201a8"
             ],
             [
              0.3333333333333333,
              "#9c179e"
             ],
             [
              0.4444444444444444,
              "#bd3786"
             ],
             [
              0.5555555555555556,
              "#d8576b"
             ],
             [
              0.6666666666666666,
              "#ed7953"
             ],
             [
              0.7777777777777778,
              "#fb9f3a"
             ],
             [
              0.8888888888888888,
              "#fdca26"
             ],
             [
              1,
              "#f0f921"
             ]
            ],
            "type": "surface"
           }
          ],
          "table": [
           {
            "cells": {
             "fill": {
              "color": "#EBF0F8"
             },
             "line": {
              "color": "white"
             }
            },
            "header": {
             "fill": {
              "color": "#C8D4E3"
             },
             "line": {
              "color": "white"
             }
            },
            "type": "table"
           }
          ]
         },
         "layout": {
          "annotationdefaults": {
           "arrowcolor": "#2a3f5f",
           "arrowhead": 0,
           "arrowwidth": 1
          },
          "autotypenumbers": "strict",
          "coloraxis": {
           "colorbar": {
            "outlinewidth": 0,
            "ticks": ""
           }
          },
          "colorscale": {
           "diverging": [
            [
             0,
             "#8e0152"
            ],
            [
             0.1,
             "#c51b7d"
            ],
            [
             0.2,
             "#de77ae"
            ],
            [
             0.3,
             "#f1b6da"
            ],
            [
             0.4,
             "#fde0ef"
            ],
            [
             0.5,
             "#f7f7f7"
            ],
            [
             0.6,
             "#e6f5d0"
            ],
            [
             0.7,
             "#b8e186"
            ],
            [
             0.8,
             "#7fbc41"
            ],
            [
             0.9,
             "#4d9221"
            ],
            [
             1,
             "#276419"
            ]
           ],
           "sequential": [
            [
             0,
             "#0d0887"
            ],
            [
             0.1111111111111111,
             "#46039f"
            ],
            [
             0.2222222222222222,
             "#7201a8"
            ],
            [
             0.3333333333333333,
             "#9c179e"
            ],
            [
             0.4444444444444444,
             "#bd3786"
            ],
            [
             0.5555555555555556,
             "#d8576b"
            ],
            [
             0.6666666666666666,
             "#ed7953"
            ],
            [
             0.7777777777777778,
             "#fb9f3a"
            ],
            [
             0.8888888888888888,
             "#fdca26"
            ],
            [
             1,
             "#f0f921"
            ]
           ],
           "sequentialminus": [
            [
             0,
             "#0d0887"
            ],
            [
             0.1111111111111111,
             "#46039f"
            ],
            [
             0.2222222222222222,
             "#7201a8"
            ],
            [
             0.3333333333333333,
             "#9c179e"
            ],
            [
             0.4444444444444444,
             "#bd3786"
            ],
            [
             0.5555555555555556,
             "#d8576b"
            ],
            [
             0.6666666666666666,
             "#ed7953"
            ],
            [
             0.7777777777777778,
             "#fb9f3a"
            ],
            [
             0.8888888888888888,
             "#fdca26"
            ],
            [
             1,
             "#f0f921"
            ]
           ]
          },
          "colorway": [
           "#636efa",
           "#EF553B",
           "#00cc96",
           "#ab63fa",
           "#FFA15A",
           "#19d3f3",
           "#FF6692",
           "#B6E880",
           "#FF97FF",
           "#FECB52"
          ],
          "font": {
           "color": "#2a3f5f"
          },
          "geo": {
           "bgcolor": "white",
           "lakecolor": "white",
           "landcolor": "#E5ECF6",
           "showlakes": true,
           "showland": true,
           "subunitcolor": "white"
          },
          "hoverlabel": {
           "align": "left"
          },
          "hovermode": "closest",
          "mapbox": {
           "style": "light"
          },
          "paper_bgcolor": "white",
          "plot_bgcolor": "#E5ECF6",
          "polar": {
           "angularaxis": {
            "gridcolor": "white",
            "linecolor": "white",
            "ticks": ""
           },
           "bgcolor": "#E5ECF6",
           "radialaxis": {
            "gridcolor": "white",
            "linecolor": "white",
            "ticks": ""
           }
          },
          "scene": {
           "xaxis": {
            "backgroundcolor": "#E5ECF6",
            "gridcolor": "white",
            "gridwidth": 2,
            "linecolor": "white",
            "showbackground": true,
            "ticks": "",
            "zerolinecolor": "white"
           },
           "yaxis": {
            "backgroundcolor": "#E5ECF6",
            "gridcolor": "white",
            "gridwidth": 2,
            "linecolor": "white",
            "showbackground": true,
            "ticks": "",
            "zerolinecolor": "white"
           },
           "zaxis": {
            "backgroundcolor": "#E5ECF6",
            "gridcolor": "white",
            "gridwidth": 2,
            "linecolor": "white",
            "showbackground": true,
            "ticks": "",
            "zerolinecolor": "white"
           }
          },
          "shapedefaults": {
           "line": {
            "color": "#2a3f5f"
           }
          },
          "ternary": {
           "aaxis": {
            "gridcolor": "white",
            "linecolor": "white",
            "ticks": ""
           },
           "baxis": {
            "gridcolor": "white",
            "linecolor": "white",
            "ticks": ""
           },
           "bgcolor": "#E5ECF6",
           "caxis": {
            "gridcolor": "white",
            "linecolor": "white",
            "ticks": ""
           }
          },
          "title": {
           "x": 0.05
          },
          "xaxis": {
           "automargin": true,
           "gridcolor": "white",
           "linecolor": "white",
           "ticks": "",
           "title": {
            "standoff": 15
           },
           "zerolinecolor": "white",
           "zerolinewidth": 2
          },
          "yaxis": {
           "automargin": true,
           "gridcolor": "white",
           "linecolor": "white",
           "ticks": "",
           "title": {
            "standoff": 15
           },
           "zerolinecolor": "white",
           "zerolinewidth": 2
          }
         }
        },
        "xaxis": {
         "anchor": "y",
         "domain": [
          0,
          1
         ],
         "title": {
          "text": "index"
         }
        },
        "yaxis": {
         "anchor": "x",
         "domain": [
          0,
          1
         ],
         "title": {
          "text": "value"
         }
        }
       }
      },
      "text/html": [
       "<div>                            <div id=\"1e493527-316d-4c19-a9ff-3d0a02cc0a22\" class=\"plotly-graph-div\" style=\"height:525px; width:100%;\"></div>            <script type=\"text/javascript\">                require([\"plotly\"], function(Plotly) {                    window.PLOTLYENV=window.PLOTLYENV || {};                                    if (document.getElementById(\"1e493527-316d-4c19-a9ff-3d0a02cc0a22\")) {                    Plotly.newPlot(                        \"1e493527-316d-4c19-a9ff-3d0a02cc0a22\",                        [{\"alignmentgroup\":\"True\",\"hovertemplate\":\"variable=CHEMBL4657\\u003cbr\\u003eindex=%{x}\\u003cbr\\u003evalue=%{y}\\u003cextra\\u003e\\u003c\\u002fextra\\u003e\",\"legendgroup\":\"CHEMBL4657\",\"marker\":{\"color\":\"#636efa\",\"pattern\":{\"shape\":\"\"}},\"name\":\"CHEMBL4657\",\"offsetgroup\":\"CHEMBL4657\",\"orientation\":\"v\",\"showlegend\":true,\"textposition\":\"auto\",\"x\":[\"max_ASP_BraunBlanquet\",\"max_LSTAR_BraunBlanquet\",\"max_RAD2D_BraunBlanquet\",\"max_RAD2D_Tanimoto\",\"max_ASP_Tanimoto\",\"max_LSTAR_Tanimoto\",\"max_RAD2D_Cosine\",\"max_ASP_Cosine\",\"max_LSTAR_Cosine\",\"max_RDKIT_BraunBlanquet\",\"max_RDKIT_Tanimoto\",\"max_RDKIT_Cosine\",\"decile_RDKIT_Tanimoto\",\"decile_RDKIT_Cosine\",\"decile_RDKIT_BraunBlanquet\",\"decile_ASP_Tanimoto\",\"decile_LSTAR_Tanimoto\",\"decile_RAD2D_Tanimoto\",\"decile_LSTAR_Cosine\",\"decile_ASP_Cosine\",\"decile_RAD2D_Cosine\",\"decile_ASP_BraunBlanquet\",\"decile_LSTAR_BraunBlanquet\",\"decile_RAD2D_BraunBlanquet\",\"cuartile_RDKIT_Cosine\",\"cuartile_RDKIT_Tanimoto\",\"cuartile_RDKIT_BraunBlanquet\",\"cuartile_RAD2D_Tanimoto\",\"cuartile_ASP_Tanimoto\",\"cuartile_LSTAR_Tanimoto\",\"cuartile_ASP_BraunBlanquet\",\"cuartile_LSTAR_BraunBlanquet\",\"cuartile_RAD2D_BraunBlanquet\",\"cuartile_LSTAR_Cosine\",\"cuartile_ASP_Cosine\",\"cuartile_RAD2D_Cosine\",\"mean_ASP_Tanimoto\",\"mean_LSTAR_Tanimoto\",\"mean_RAD2D_Tanimoto\",\"mean_RDKIT_Tanimoto\",\"aupr_RDKIT_Cosine\",\"mean_RDKIT_Cosine\",\"mean_ASP_Cosine\",\"mean_LSTAR_Cosine\",\"mean_RAD2D_Cosine\",\"mean_ASP_BraunBlanquet\",\"mean_RAD2D_BraunBlanquet\",\"mean_LSTAR_BraunBlanquet\",\"aupr_RDKIT_Tanimoto\",\"aupr_RDKIT_BraunBlanquet\",\"aupr_RAD2D_BraunBlanquet\",\"aupr_LSTAR_BraunBlanquet\",\"aupr_ASP_BraunBlanquet\",\"aupr_RAD2D_Cosine\",\"aupr_LSTAR_Cosine\",\"aupr_ASP_Cosine\",\"aupr_ASP_Tanimoto\",\"aupr_LSTAR_Tanimoto\",\"aupr_RAD2D_Tanimoto\",\"mean_RDKIT_BraunBlanquet\",\"auroc_RDKIT_Cosine\",\"auroc_RDKIT_Tanimoto\",\"auroc_RDKIT_BraunBlanquet\",\"auroc_RAD2D_Tanimoto\",\"auroc_ASP_Tanimoto\",\"auroc_LSTAR_Tanimoto\",\"auroc_ASP_BraunBlanquet\",\"auroc_RAD2D_BraunBlanquet\",\"auroc_LSTAR_BraunBlanquet\",\"auroc_ASP_Cosine\",\"auroc_RAD2D_Cosine\",\"auroc_LSTAR_Cosine\"],\"xaxis\":\"x\",\"y\":[0.916798864490273,0.916798864490273,0.916798864490273,0.9110378224931116,0.9110378224931116,0.9110378224931116,0.9052350338148116,0.9052350338148116,0.9052350338148116,0.9047758203222844,0.902688486265342,0.8970109376304582,0.8962177506888203,0.8931702429656843,0.8879101611421892,0.8811054521165567,0.8811054521165567,0.8811054521165567,0.8761793437421724,0.8761793437421724,0.8761793437421724,0.8755531435250897,0.8755531435250897,0.8755531435250897,0.8745094764966186,0.8743007430909243,0.8646155130667112,0.853302162478083,0.853302162478083,0.853302162478083,0.8434081990481757,0.8434081990481757,0.8434081990481757,0.8426150121065376,0.8426150121065376,0.8426150121065376,0.8098856140936797,0.8098856140936797,0.8098856140936797,0.7931451949570009,0.7915588210737247,0.7839191784253152,0.7783251231527094,0.7783251231527094,0.7783251231527094,0.7701427736494949,0.7701427736494949,0.7701427736494949,0.7693913333889955,0.7593303832345328,0.757910996075812,0.757910996075812,0.757910996075812,0.7564081155548134,0.7564081155548134,0.7564081155548134,0.7563246221925357,0.7563246221925357,0.7563246221925357,0.7409618435334391,0.7076479919846373,0.6853552642564917,0.6449862235952242,0.6406445687567839,0.6406445687567839,0.6406445687567839,0.6384737413375637,0.6384737413375637,0.6384737413375637,0.636469900642899,0.636469900642899,0.636469900642899],\"yaxis\":\"y\",\"type\":\"bar\"}],                        {\"template\":{\"data\":{\"histogram2dcontour\":[{\"type\":\"histogram2dcontour\",\"colorbar\":{\"outlinewidth\":0,\"ticks\":\"\"},\"colorscale\":[[0.0,\"#0d0887\"],[0.1111111111111111,\"#46039f\"],[0.2222222222222222,\"#7201a8\"],[0.3333333333333333,\"#9c179e\"],[0.4444444444444444,\"#bd3786\"],[0.5555555555555556,\"#d8576b\"],[0.6666666666666666,\"#ed7953\"],[0.7777777777777778,\"#fb9f3a\"],[0.8888888888888888,\"#fdca26\"],[1.0,\"#f0f921\"]]}],\"choropleth\":[{\"type\":\"choropleth\",\"colorbar\":{\"outlinewidth\":0,\"ticks\":\"\"}}],\"histogram2d\":[{\"type\":\"histogram2d\",\"colorbar\":{\"outlinewidth\":0,\"ticks\":\"\"},\"colorscale\":[[0.0,\"#0d0887\"],[0.1111111111111111,\"#46039f\"],[0.2222222222222222,\"#7201a8\"],[0.3333333333333333,\"#9c179e\"],[0.4444444444444444,\"#bd3786\"],[0.5555555555555556,\"#d8576b\"],[0.6666666666666666,\"#ed7953\"],[0.7777777777777778,\"#fb9f3a\"],[0.8888888888888888,\"#fdca26\"],[1.0,\"#f0f921\"]]}],\"heatmap\":[{\"type\":\"heatmap\",\"colorbar\":{\"outlinewidth\":0,\"ticks\":\"\"},\"colorscale\":[[0.0,\"#0d0887\"],[0.1111111111111111,\"#46039f\"],[0.2222222222222222,\"#7201a8\"],[0.3333333333333333,\"#9c179e\"],[0.4444444444444444,\"#bd3786\"],[0.5555555555555556,\"#d8576b\"],[0.6666666666666666,\"#ed7953\"],[0.7777777777777778,\"#fb9f3a\"],[0.8888888888888888,\"#fdca26\"],[1.0,\"#f0f921\"]]}],\"heatmapgl\":[{\"type\":\"heatmapgl\",\"colorbar\":{\"outlinewidth\":0,\"ticks\":\"\"},\"colorscale\":[[0.0,\"#0d0887\"],[0.1111111111111111,\"#46039f\"],[0.2222222222222222,\"#7201a8\"],[0.3333333333333333,\"#9c179e\"],[0.4444444444444444,\"#bd3786\"],[0.5555555555555556,\"#d8576b\"],[0.6666666666666666,\"#ed7953\"],[0.7777777777777778,\"#fb9f3a\"],[0.8888888888888888,\"#fdca26\"],[1.0,\"#f0f921\"]]}],\"contourcarpet\":[{\"type\":\"contourcarpet\",\"colorbar\":{\"outlinewidth\":0,\"ticks\":\"\"}}],\"contour\":[{\"type\":\"contour\",\"colorbar\":{\"outlinewidth\":0,\"ticks\":\"\"},\"colorscale\":[[0.0,\"#0d0887\"],[0.1111111111111111,\"#46039f\"],[0.2222222222222222,\"#7201a8\"],[0.3333333333333333,\"#9c179e\"],[0.4444444444444444,\"#bd3786\"],[0.5555555555555556,\"#d8576b\"],[0.6666666666666666,\"#ed7953\"],[0.7777777777777778,\"#fb9f3a\"],[0.8888888888888888,\"#fdca26\"],[1.0,\"#f0f921\"]]}],\"surface\":[{\"type\":\"surface\",\"colorbar\":{\"outlinewidth\":0,\"ticks\":\"\"},\"colorscale\":[[0.0,\"#0d0887\"],[0.1111111111111111,\"#46039f\"],[0.2222222222222222,\"#7201a8\"],[0.3333333333333333,\"#9c179e\"],[0.4444444444444444,\"#bd3786\"],[0.5555555555555556,\"#d8576b\"],[0.6666666666666666,\"#ed7953\"],[0.7777777777777778,\"#fb9f3a\"],[0.8888888888888888,\"#fdca26\"],[1.0,\"#f0f921\"]]}],\"mesh3d\":[{\"type\":\"mesh3d\",\"colorbar\":{\"outlinewidth\":0,\"ticks\":\"\"}}],\"scatter\":[{\"fillpattern\":{\"fillmode\":\"overlay\",\"size\":10,\"solidity\":0.2},\"type\":\"scatter\"}],\"parcoords\":[{\"type\":\"parcoords\",\"line\":{\"colorbar\":{\"outlinewidth\":0,\"ticks\":\"\"}}}],\"scatterpolargl\":[{\"type\":\"scatterpolargl\",\"marker\":{\"colorbar\":{\"outlinewidth\":0,\"ticks\":\"\"}}}],\"bar\":[{\"error_x\":{\"color\":\"#2a3f5f\"},\"error_y\":{\"color\":\"#2a3f5f\"},\"marker\":{\"line\":{\"color\":\"#E5ECF6\",\"width\":0.5},\"pattern\":{\"fillmode\":\"overlay\",\"size\":10,\"solidity\":0.2}},\"type\":\"bar\"}],\"scattergeo\":[{\"type\":\"scattergeo\",\"marker\":{\"colorbar\":{\"outlinewidth\":0,\"ticks\":\"\"}}}],\"scatterpolar\":[{\"type\":\"scatterpolar\",\"marker\":{\"colorbar\":{\"outlinewidth\":0,\"ticks\":\"\"}}}],\"histogram\":[{\"marker\":{\"pattern\":{\"fillmode\":\"overlay\",\"size\":10,\"solidity\":0.2}},\"type\":\"histogram\"}],\"scattergl\":[{\"type\":\"scattergl\",\"marker\":{\"colorbar\":{\"outlinewidth\":0,\"ticks\":\"\"}}}],\"scatter3d\":[{\"type\":\"scatter3d\",\"line\":{\"colorbar\":{\"outlinewidth\":0,\"ticks\":\"\"}},\"marker\":{\"colorbar\":{\"outlinewidth\":0,\"ticks\":\"\"}}}],\"scattermapbox\":[{\"type\":\"scattermapbox\",\"marker\":{\"colorbar\":{\"outlinewidth\":0,\"ticks\":\"\"}}}],\"scatterternary\":[{\"type\":\"scatterternary\",\"marker\":{\"colorbar\":{\"outlinewidth\":0,\"ticks\":\"\"}}}],\"scattercarpet\":[{\"type\":\"scattercarpet\",\"marker\":{\"colorbar\":{\"outlinewidth\":0,\"ticks\":\"\"}}}],\"carpet\":[{\"aaxis\":{\"endlinecolor\":\"#2a3f5f\",\"gridcolor\":\"white\",\"linecolor\":\"white\",\"minorgridcolor\":\"white\",\"startlinecolor\":\"#2a3f5f\"},\"baxis\":{\"endlinecolor\":\"#2a3f5f\",\"gridcolor\":\"white\",\"linecolor\":\"white\",\"minorgridcolor\":\"white\",\"startlinecolor\":\"#2a3f5f\"},\"type\":\"carpet\"}],\"table\":[{\"cells\":{\"fill\":{\"color\":\"#EBF0F8\"},\"line\":{\"color\":\"white\"}},\"header\":{\"fill\":{\"color\":\"#C8D4E3\"},\"line\":{\"color\":\"white\"}},\"type\":\"table\"}],\"barpolar\":[{\"marker\":{\"line\":{\"color\":\"#E5ECF6\",\"width\":0.5},\"pattern\":{\"fillmode\":\"overlay\",\"size\":10,\"solidity\":0.2}},\"type\":\"barpolar\"}],\"pie\":[{\"automargin\":true,\"type\":\"pie\"}]},\"layout\":{\"autotypenumbers\":\"strict\",\"colorway\":[\"#636efa\",\"#EF553B\",\"#00cc96\",\"#ab63fa\",\"#FFA15A\",\"#19d3f3\",\"#FF6692\",\"#B6E880\",\"#FF97FF\",\"#FECB52\"],\"font\":{\"color\":\"#2a3f5f\"},\"hovermode\":\"closest\",\"hoverlabel\":{\"align\":\"left\"},\"paper_bgcolor\":\"white\",\"plot_bgcolor\":\"#E5ECF6\",\"polar\":{\"bgcolor\":\"#E5ECF6\",\"angularaxis\":{\"gridcolor\":\"white\",\"linecolor\":\"white\",\"ticks\":\"\"},\"radialaxis\":{\"gridcolor\":\"white\",\"linecolor\":\"white\",\"ticks\":\"\"}},\"ternary\":{\"bgcolor\":\"#E5ECF6\",\"aaxis\":{\"gridcolor\":\"white\",\"linecolor\":\"white\",\"ticks\":\"\"},\"baxis\":{\"gridcolor\":\"white\",\"linecolor\":\"white\",\"ticks\":\"\"},\"caxis\":{\"gridcolor\":\"white\",\"linecolor\":\"white\",\"ticks\":\"\"}},\"coloraxis\":{\"colorbar\":{\"outlinewidth\":0,\"ticks\":\"\"}},\"colorscale\":{\"sequential\":[[0.0,\"#0d0887\"],[0.1111111111111111,\"#46039f\"],[0.2222222222222222,\"#7201a8\"],[0.3333333333333333,\"#9c179e\"],[0.4444444444444444,\"#bd3786\"],[0.5555555555555556,\"#d8576b\"],[0.6666666666666666,\"#ed7953\"],[0.7777777777777778,\"#fb9f3a\"],[0.8888888888888888,\"#fdca26\"],[1.0,\"#f0f921\"]],\"sequentialminus\":[[0.0,\"#0d0887\"],[0.1111111111111111,\"#46039f\"],[0.2222222222222222,\"#7201a8\"],[0.3333333333333333,\"#9c179e\"],[0.4444444444444444,\"#bd3786\"],[0.5555555555555556,\"#d8576b\"],[0.6666666666666666,\"#ed7953\"],[0.7777777777777778,\"#fb9f3a\"],[0.8888888888888888,\"#fdca26\"],[1.0,\"#f0f921\"]],\"diverging\":[[0,\"#8e0152\"],[0.1,\"#c51b7d\"],[0.2,\"#de77ae\"],[0.3,\"#f1b6da\"],[0.4,\"#fde0ef\"],[0.5,\"#f7f7f7\"],[0.6,\"#e6f5d0\"],[0.7,\"#b8e186\"],[0.8,\"#7fbc41\"],[0.9,\"#4d9221\"],[1,\"#276419\"]]},\"xaxis\":{\"gridcolor\":\"white\",\"linecolor\":\"white\",\"ticks\":\"\",\"title\":{\"standoff\":15},\"zerolinecolor\":\"white\",\"automargin\":true,\"zerolinewidth\":2},\"yaxis\":{\"gridcolor\":\"white\",\"linecolor\":\"white\",\"ticks\":\"\",\"title\":{\"standoff\":15},\"zerolinecolor\":\"white\",\"automargin\":true,\"zerolinewidth\":2},\"scene\":{\"xaxis\":{\"backgroundcolor\":\"#E5ECF6\",\"gridcolor\":\"white\",\"linecolor\":\"white\",\"showbackground\":true,\"ticks\":\"\",\"zerolinecolor\":\"white\",\"gridwidth\":2},\"yaxis\":{\"backgroundcolor\":\"#E5ECF6\",\"gridcolor\":\"white\",\"linecolor\":\"white\",\"showbackground\":true,\"ticks\":\"\",\"zerolinecolor\":\"white\",\"gridwidth\":2},\"zaxis\":{\"backgroundcolor\":\"#E5ECF6\",\"gridcolor\":\"white\",\"linecolor\":\"white\",\"showbackground\":true,\"ticks\":\"\",\"zerolinecolor\":\"white\",\"gridwidth\":2}},\"shapedefaults\":{\"line\":{\"color\":\"#2a3f5f\"}},\"annotationdefaults\":{\"arrowcolor\":\"#2a3f5f\",\"arrowhead\":0,\"arrowwidth\":1},\"geo\":{\"bgcolor\":\"white\",\"landcolor\":\"#E5ECF6\",\"subunitcolor\":\"white\",\"showland\":true,\"showlakes\":true,\"lakecolor\":\"white\"},\"title\":{\"x\":0.05},\"mapbox\":{\"style\":\"light\"}}},\"xaxis\":{\"anchor\":\"y\",\"domain\":[0.0,1.0],\"title\":{\"text\":\"index\"}},\"yaxis\":{\"anchor\":\"x\",\"domain\":[0.0,1.0],\"title\":{\"text\":\"value\"}},\"legend\":{\"title\":{\"text\":\"variable\"},\"tracegroupgap\":0},\"margin\":{\"t\":60},\"barmode\":\"relative\"},                        {\"responsive\": true}                    ).then(function(){\n",
       "                            \n",
       "var gd = document.getElementById('1e493527-316d-4c19-a9ff-3d0a02cc0a22');\n",
       "var x = new MutationObserver(function (mutations, observer) {{\n",
       "        var display = window.getComputedStyle(gd).display;\n",
       "        if (!display || display === 'none') {{\n",
       "            console.log([gd, 'removed!']);\n",
       "            Plotly.purge(gd);\n",
       "            observer.disconnect();\n",
       "        }}\n",
       "}});\n",
       "\n",
       "// Listen for the removal of the full notebook cells\n",
       "var notebookContainer = gd.closest('#notebook-container');\n",
       "if (notebookContainer) {{\n",
       "    x.observe(notebookContainer, {childList: true});\n",
       "}}\n",
       "\n",
       "// Listen for the clearing of the current output cell\n",
       "var outputEl = gd.closest('.output');\n",
       "if (outputEl) {{\n",
       "    x.observe(outputEl, {childList: true});\n",
       "}}\n",
       "\n",
       "                        })                };                });            </script>        </div>"
      ]
     },
     "metadata": {},
     "output_type": "display_data"
    }
   ],
   "source": [
    "px.bar(grid_auroc.loc[\"CHEMBL4657\",:].sort_values(ascending=False))"
   ]
  },
  {
   "cell_type": "code",
   "execution_count": 74,
   "metadata": {},
   "outputs": [
    {
     "data": {
      "application/vnd.plotly.v1+json": {
       "config": {
        "plotlyServerURL": "https://plot.ly"
       },
       "data": [
        {
         "alignmentgroup": "True",
         "hovertemplate": "variable=CHEMBL2581<br>index=%{x}<br>value=%{y}<extra></extra>",
         "legendgroup": "CHEMBL2581",
         "marker": {
          "color": "#636efa",
          "pattern": {
           "shape": ""
          }
         },
         "name": "CHEMBL2581",
         "offsetgroup": "CHEMBL2581",
         "orientation": "v",
         "showlegend": true,
         "textposition": "auto",
         "type": "bar",
         "x": [
          "max_RAD2D_Cosine",
          "max_ASP_Cosine",
          "max_LSTAR_Cosine",
          "max_ASP_BraunBlanquet",
          "max_RAD2D_BraunBlanquet",
          "max_LSTAR_BraunBlanquet",
          "max_RAD2D_Tanimoto",
          "max_ASP_Tanimoto",
          "max_LSTAR_Tanimoto",
          "max_RDKIT_Tanimoto",
          "max_RDKIT_Cosine",
          "max_RDKIT_BraunBlanquet",
          "decile_RDKIT_Cosine",
          "decile_LSTAR_Cosine",
          "decile_RAD2D_Cosine",
          "decile_ASP_Cosine",
          "decile_RDKIT_Tanimoto",
          "decile_LSTAR_Tanimoto",
          "decile_ASP_Tanimoto",
          "decile_RAD2D_Tanimoto",
          "cuartile_RDKIT_Cosine",
          "decile_RDKIT_BraunBlanquet",
          "aupr_RDKIT_Cosine",
          "cuartile_RDKIT_Tanimoto",
          "decile_LSTAR_BraunBlanquet",
          "decile_ASP_BraunBlanquet",
          "decile_RAD2D_BraunBlanquet",
          "auroc_RDKIT_Cosine",
          "cuartile_ASP_Tanimoto",
          "cuartile_LSTAR_Tanimoto",
          "cuartile_RAD2D_Tanimoto",
          "cuartile_RAD2D_Cosine",
          "cuartile_ASP_Cosine",
          "cuartile_LSTAR_Cosine",
          "mean_RDKIT_Cosine",
          "aupr_RDKIT_Tanimoto",
          "cuartile_RDKIT_BraunBlanquet",
          "auroc_RDKIT_Tanimoto",
          "mean_RDKIT_Tanimoto",
          "cuartile_ASP_BraunBlanquet",
          "cuartile_LSTAR_BraunBlanquet",
          "cuartile_RAD2D_BraunBlanquet",
          "mean_ASP_Cosine",
          "mean_RAD2D_Cosine",
          "mean_LSTAR_Cosine",
          "mean_ASP_Tanimoto",
          "mean_LSTAR_Tanimoto",
          "mean_RAD2D_Tanimoto",
          "aupr_ASP_Cosine",
          "aupr_RAD2D_Cosine",
          "aupr_LSTAR_Cosine",
          "aupr_LSTAR_Tanimoto",
          "aupr_ASP_Tanimoto",
          "aupr_RAD2D_Tanimoto",
          "mean_RDKIT_BraunBlanquet",
          "aupr_RDKIT_BraunBlanquet",
          "auroc_RAD2D_Cosine",
          "auroc_LSTAR_Cosine",
          "auroc_ASP_Cosine",
          "mean_ASP_BraunBlanquet",
          "mean_LSTAR_BraunBlanquet",
          "mean_RAD2D_BraunBlanquet",
          "auroc_LSTAR_Tanimoto",
          "auroc_ASP_Tanimoto",
          "auroc_RAD2D_Tanimoto",
          "aupr_RAD2D_BraunBlanquet",
          "aupr_LSTAR_BraunBlanquet",
          "aupr_ASP_BraunBlanquet",
          "auroc_RDKIT_BraunBlanquet",
          "auroc_RAD2D_BraunBlanquet",
          "auroc_ASP_BraunBlanquet",
          "auroc_LSTAR_BraunBlanquet"
         ],
         "xaxis": "x",
         "y": [
          0.9279532583552684,
          0.9279532583552684,
          0.9279532583552684,
          0.9269562096195262,
          0.9269562096195262,
          0.9269562096195262,
          0.9264975672010848,
          0.9264975672010848,
          0.9264975672010848,
          0.9086703358060144,
          0.9083512802105768,
          0.9076334051208425,
          0.8873933157852756,
          0.8838637632607482,
          0.8838637632607482,
          0.8838637632607482,
          0.8837441174124592,
          0.8833452979181622,
          0.8833452979181622,
          0.8833452979181622,
          0.8788386376326074,
          0.8777020020738614,
          0.8764457206668261,
          0.8756879636276622,
          0.8755483768046581,
          0.8755483768046581,
          0.8755483768046581,
          0.8693666746430566,
          0.8677115737417246,
          0.8677115737417246,
          0.8677115737417246,
          0.8674523410704316,
          0.8674523410704316,
          0.8674523410704316,
          0.8657772991943846,
          0.8611111111111112,
          0.8585786073223259,
          0.8556672250139586,
          0.8549294089495094,
          0.8526561378320172,
          0.8526561378320172,
          0.8526561378320172,
          0.8510010369306852,
          0.8510010369306852,
          0.8510010369306852,
          0.8486081199649039,
          0.8486081199649039,
          0.8486081199649039,
          0.8473717795325836,
          0.8473717795325836,
          0.8473717795325836,
          0.8336125069793412,
          0.8336125069793412,
          0.8336125069793412,
          0.8320172290021536,
          0.831458881710138,
          0.8286870862247747,
          0.8286870862247747,
          0.8286870862247747,
          0.8229241445321848,
          0.8229241445321848,
          0.8229241445321848,
          0.8167823243200129,
          0.8167823243200129,
          0.8167823243200129,
          0.8087062295605009,
          0.8087062295605009,
          0.8087062295605009,
          0.807290420355747,
          0.7890244875169499,
          0.7890244875169499,
          0.7890244875169499
         ],
         "yaxis": "y"
        }
       ],
       "layout": {
        "barmode": "relative",
        "legend": {
         "title": {
          "text": "variable"
         },
         "tracegroupgap": 0
        },
        "margin": {
         "t": 60
        },
        "template": {
         "data": {
          "bar": [
           {
            "error_x": {
             "color": "#2a3f5f"
            },
            "error_y": {
             "color": "#2a3f5f"
            },
            "marker": {
             "line": {
              "color": "#E5ECF6",
              "width": 0.5
             },
             "pattern": {
              "fillmode": "overlay",
              "size": 10,
              "solidity": 0.2
             }
            },
            "type": "bar"
           }
          ],
          "barpolar": [
           {
            "marker": {
             "line": {
              "color": "#E5ECF6",
              "width": 0.5
             },
             "pattern": {
              "fillmode": "overlay",
              "size": 10,
              "solidity": 0.2
             }
            },
            "type": "barpolar"
           }
          ],
          "carpet": [
           {
            "aaxis": {
             "endlinecolor": "#2a3f5f",
             "gridcolor": "white",
             "linecolor": "white",
             "minorgridcolor": "white",
             "startlinecolor": "#2a3f5f"
            },
            "baxis": {
             "endlinecolor": "#2a3f5f",
             "gridcolor": "white",
             "linecolor": "white",
             "minorgridcolor": "white",
             "startlinecolor": "#2a3f5f"
            },
            "type": "carpet"
           }
          ],
          "choropleth": [
           {
            "colorbar": {
             "outlinewidth": 0,
             "ticks": ""
            },
            "type": "choropleth"
           }
          ],
          "contour": [
           {
            "colorbar": {
             "outlinewidth": 0,
             "ticks": ""
            },
            "colorscale": [
             [
              0,
              "#0d0887"
             ],
             [
              0.1111111111111111,
              "#46039f"
             ],
             [
              0.2222222222222222,
              "#7201a8"
             ],
             [
              0.3333333333333333,
              "#9c179e"
             ],
             [
              0.4444444444444444,
              "#bd3786"
             ],
             [
              0.5555555555555556,
              "#d8576b"
             ],
             [
              0.6666666666666666,
              "#ed7953"
             ],
             [
              0.7777777777777778,
              "#fb9f3a"
             ],
             [
              0.8888888888888888,
              "#fdca26"
             ],
             [
              1,
              "#f0f921"
             ]
            ],
            "type": "contour"
           }
          ],
          "contourcarpet": [
           {
            "colorbar": {
             "outlinewidth": 0,
             "ticks": ""
            },
            "type": "contourcarpet"
           }
          ],
          "heatmap": [
           {
            "colorbar": {
             "outlinewidth": 0,
             "ticks": ""
            },
            "colorscale": [
             [
              0,
              "#0d0887"
             ],
             [
              0.1111111111111111,
              "#46039f"
             ],
             [
              0.2222222222222222,
              "#7201a8"
             ],
             [
              0.3333333333333333,
              "#9c179e"
             ],
             [
              0.4444444444444444,
              "#bd3786"
             ],
             [
              0.5555555555555556,
              "#d8576b"
             ],
             [
              0.6666666666666666,
              "#ed7953"
             ],
             [
              0.7777777777777778,
              "#fb9f3a"
             ],
             [
              0.8888888888888888,
              "#fdca26"
             ],
             [
              1,
              "#f0f921"
             ]
            ],
            "type": "heatmap"
           }
          ],
          "heatmapgl": [
           {
            "colorbar": {
             "outlinewidth": 0,
             "ticks": ""
            },
            "colorscale": [
             [
              0,
              "#0d0887"
             ],
             [
              0.1111111111111111,
              "#46039f"
             ],
             [
              0.2222222222222222,
              "#7201a8"
             ],
             [
              0.3333333333333333,
              "#9c179e"
             ],
             [
              0.4444444444444444,
              "#bd3786"
             ],
             [
              0.5555555555555556,
              "#d8576b"
             ],
             [
              0.6666666666666666,
              "#ed7953"
             ],
             [
              0.7777777777777778,
              "#fb9f3a"
             ],
             [
              0.8888888888888888,
              "#fdca26"
             ],
             [
              1,
              "#f0f921"
             ]
            ],
            "type": "heatmapgl"
           }
          ],
          "histogram": [
           {
            "marker": {
             "pattern": {
              "fillmode": "overlay",
              "size": 10,
              "solidity": 0.2
             }
            },
            "type": "histogram"
           }
          ],
          "histogram2d": [
           {
            "colorbar": {
             "outlinewidth": 0,
             "ticks": ""
            },
            "colorscale": [
             [
              0,
              "#0d0887"
             ],
             [
              0.1111111111111111,
              "#46039f"
             ],
             [
              0.2222222222222222,
              "#7201a8"
             ],
             [
              0.3333333333333333,
              "#9c179e"
             ],
             [
              0.4444444444444444,
              "#bd3786"
             ],
             [
              0.5555555555555556,
              "#d8576b"
             ],
             [
              0.6666666666666666,
              "#ed7953"
             ],
             [
              0.7777777777777778,
              "#fb9f3a"
             ],
             [
              0.8888888888888888,
              "#fdca26"
             ],
             [
              1,
              "#f0f921"
             ]
            ],
            "type": "histogram2d"
           }
          ],
          "histogram2dcontour": [
           {
            "colorbar": {
             "outlinewidth": 0,
             "ticks": ""
            },
            "colorscale": [
             [
              0,
              "#0d0887"
             ],
             [
              0.1111111111111111,
              "#46039f"
             ],
             [
              0.2222222222222222,
              "#7201a8"
             ],
             [
              0.3333333333333333,
              "#9c179e"
             ],
             [
              0.4444444444444444,
              "#bd3786"
             ],
             [
              0.5555555555555556,
              "#d8576b"
             ],
             [
              0.6666666666666666,
              "#ed7953"
             ],
             [
              0.7777777777777778,
              "#fb9f3a"
             ],
             [
              0.8888888888888888,
              "#fdca26"
             ],
             [
              1,
              "#f0f921"
             ]
            ],
            "type": "histogram2dcontour"
           }
          ],
          "mesh3d": [
           {
            "colorbar": {
             "outlinewidth": 0,
             "ticks": ""
            },
            "type": "mesh3d"
           }
          ],
          "parcoords": [
           {
            "line": {
             "colorbar": {
              "outlinewidth": 0,
              "ticks": ""
             }
            },
            "type": "parcoords"
           }
          ],
          "pie": [
           {
            "automargin": true,
            "type": "pie"
           }
          ],
          "scatter": [
           {
            "fillpattern": {
             "fillmode": "overlay",
             "size": 10,
             "solidity": 0.2
            },
            "type": "scatter"
           }
          ],
          "scatter3d": [
           {
            "line": {
             "colorbar": {
              "outlinewidth": 0,
              "ticks": ""
             }
            },
            "marker": {
             "colorbar": {
              "outlinewidth": 0,
              "ticks": ""
             }
            },
            "type": "scatter3d"
           }
          ],
          "scattercarpet": [
           {
            "marker": {
             "colorbar": {
              "outlinewidth": 0,
              "ticks": ""
             }
            },
            "type": "scattercarpet"
           }
          ],
          "scattergeo": [
           {
            "marker": {
             "colorbar": {
              "outlinewidth": 0,
              "ticks": ""
             }
            },
            "type": "scattergeo"
           }
          ],
          "scattergl": [
           {
            "marker": {
             "colorbar": {
              "outlinewidth": 0,
              "ticks": ""
             }
            },
            "type": "scattergl"
           }
          ],
          "scattermapbox": [
           {
            "marker": {
             "colorbar": {
              "outlinewidth": 0,
              "ticks": ""
             }
            },
            "type": "scattermapbox"
           }
          ],
          "scatterpolar": [
           {
            "marker": {
             "colorbar": {
              "outlinewidth": 0,
              "ticks": ""
             }
            },
            "type": "scatterpolar"
           }
          ],
          "scatterpolargl": [
           {
            "marker": {
             "colorbar": {
              "outlinewidth": 0,
              "ticks": ""
             }
            },
            "type": "scatterpolargl"
           }
          ],
          "scatterternary": [
           {
            "marker": {
             "colorbar": {
              "outlinewidth": 0,
              "ticks": ""
             }
            },
            "type": "scatterternary"
           }
          ],
          "surface": [
           {
            "colorbar": {
             "outlinewidth": 0,
             "ticks": ""
            },
            "colorscale": [
             [
              0,
              "#0d0887"
             ],
             [
              0.1111111111111111,
              "#46039f"
             ],
             [
              0.2222222222222222,
              "#7201a8"
             ],
             [
              0.3333333333333333,
              "#9c179e"
             ],
             [
              0.4444444444444444,
              "#bd3786"
             ],
             [
              0.5555555555555556,
              "#d8576b"
             ],
             [
              0.6666666666666666,
              "#ed7953"
             ],
             [
              0.7777777777777778,
              "#fb9f3a"
             ],
             [
              0.8888888888888888,
              "#fdca26"
             ],
             [
              1,
              "#f0f921"
             ]
            ],
            "type": "surface"
           }
          ],
          "table": [
           {
            "cells": {
             "fill": {
              "color": "#EBF0F8"
             },
             "line": {
              "color": "white"
             }
            },
            "header": {
             "fill": {
              "color": "#C8D4E3"
             },
             "line": {
              "color": "white"
             }
            },
            "type": "table"
           }
          ]
         },
         "layout": {
          "annotationdefaults": {
           "arrowcolor": "#2a3f5f",
           "arrowhead": 0,
           "arrowwidth": 1
          },
          "autotypenumbers": "strict",
          "coloraxis": {
           "colorbar": {
            "outlinewidth": 0,
            "ticks": ""
           }
          },
          "colorscale": {
           "diverging": [
            [
             0,
             "#8e0152"
            ],
            [
             0.1,
             "#c51b7d"
            ],
            [
             0.2,
             "#de77ae"
            ],
            [
             0.3,
             "#f1b6da"
            ],
            [
             0.4,
             "#fde0ef"
            ],
            [
             0.5,
             "#f7f7f7"
            ],
            [
             0.6,
             "#e6f5d0"
            ],
            [
             0.7,
             "#b8e186"
            ],
            [
             0.8,
             "#7fbc41"
            ],
            [
             0.9,
             "#4d9221"
            ],
            [
             1,
             "#276419"
            ]
           ],
           "sequential": [
            [
             0,
             "#0d0887"
            ],
            [
             0.1111111111111111,
             "#46039f"
            ],
            [
             0.2222222222222222,
             "#7201a8"
            ],
            [
             0.3333333333333333,
             "#9c179e"
            ],
            [
             0.4444444444444444,
             "#bd3786"
            ],
            [
             0.5555555555555556,
             "#d8576b"
            ],
            [
             0.6666666666666666,
             "#ed7953"
            ],
            [
             0.7777777777777778,
             "#fb9f3a"
            ],
            [
             0.8888888888888888,
             "#fdca26"
            ],
            [
             1,
             "#f0f921"
            ]
           ],
           "sequentialminus": [
            [
             0,
             "#0d0887"
            ],
            [
             0.1111111111111111,
             "#46039f"
            ],
            [
             0.2222222222222222,
             "#7201a8"
            ],
            [
             0.3333333333333333,
             "#9c179e"
            ],
            [
             0.4444444444444444,
             "#bd3786"
            ],
            [
             0.5555555555555556,
             "#d8576b"
            ],
            [
             0.6666666666666666,
             "#ed7953"
            ],
            [
             0.7777777777777778,
             "#fb9f3a"
            ],
            [
             0.8888888888888888,
             "#fdca26"
            ],
            [
             1,
             "#f0f921"
            ]
           ]
          },
          "colorway": [
           "#636efa",
           "#EF553B",
           "#00cc96",
           "#ab63fa",
           "#FFA15A",
           "#19d3f3",
           "#FF6692",
           "#B6E880",
           "#FF97FF",
           "#FECB52"
          ],
          "font": {
           "color": "#2a3f5f"
          },
          "geo": {
           "bgcolor": "white",
           "lakecolor": "white",
           "landcolor": "#E5ECF6",
           "showlakes": true,
           "showland": true,
           "subunitcolor": "white"
          },
          "hoverlabel": {
           "align": "left"
          },
          "hovermode": "closest",
          "mapbox": {
           "style": "light"
          },
          "paper_bgcolor": "white",
          "plot_bgcolor": "#E5ECF6",
          "polar": {
           "angularaxis": {
            "gridcolor": "white",
            "linecolor": "white",
            "ticks": ""
           },
           "bgcolor": "#E5ECF6",
           "radialaxis": {
            "gridcolor": "white",
            "linecolor": "white",
            "ticks": ""
           }
          },
          "scene": {
           "xaxis": {
            "backgroundcolor": "#E5ECF6",
            "gridcolor": "white",
            "gridwidth": 2,
            "linecolor": "white",
            "showbackground": true,
            "ticks": "",
            "zerolinecolor": "white"
           },
           "yaxis": {
            "backgroundcolor": "#E5ECF6",
            "gridcolor": "white",
            "gridwidth": 2,
            "linecolor": "white",
            "showbackground": true,
            "ticks": "",
            "zerolinecolor": "white"
           },
           "zaxis": {
            "backgroundcolor": "#E5ECF6",
            "gridcolor": "white",
            "gridwidth": 2,
            "linecolor": "white",
            "showbackground": true,
            "ticks": "",
            "zerolinecolor": "white"
           }
          },
          "shapedefaults": {
           "line": {
            "color": "#2a3f5f"
           }
          },
          "ternary": {
           "aaxis": {
            "gridcolor": "white",
            "linecolor": "white",
            "ticks": ""
           },
           "baxis": {
            "gridcolor": "white",
            "linecolor": "white",
            "ticks": ""
           },
           "bgcolor": "#E5ECF6",
           "caxis": {
            "gridcolor": "white",
            "linecolor": "white",
            "ticks": ""
           }
          },
          "title": {
           "x": 0.05
          },
          "xaxis": {
           "automargin": true,
           "gridcolor": "white",
           "linecolor": "white",
           "ticks": "",
           "title": {
            "standoff": 15
           },
           "zerolinecolor": "white",
           "zerolinewidth": 2
          },
          "yaxis": {
           "automargin": true,
           "gridcolor": "white",
           "linecolor": "white",
           "ticks": "",
           "title": {
            "standoff": 15
           },
           "zerolinecolor": "white",
           "zerolinewidth": 2
          }
         }
        },
        "xaxis": {
         "anchor": "y",
         "domain": [
          0,
          1
         ],
         "title": {
          "text": "index"
         }
        },
        "yaxis": {
         "anchor": "x",
         "domain": [
          0,
          1
         ],
         "title": {
          "text": "value"
         }
        }
       }
      },
      "text/html": [
       "<div>                            <div id=\"51148f3d-19b6-4b84-9d8e-d0eb7729f558\" class=\"plotly-graph-div\" style=\"height:525px; width:100%;\"></div>            <script type=\"text/javascript\">                require([\"plotly\"], function(Plotly) {                    window.PLOTLYENV=window.PLOTLYENV || {};                                    if (document.getElementById(\"51148f3d-19b6-4b84-9d8e-d0eb7729f558\")) {                    Plotly.newPlot(                        \"51148f3d-19b6-4b84-9d8e-d0eb7729f558\",                        [{\"alignmentgroup\":\"True\",\"hovertemplate\":\"variable=CHEMBL2581\\u003cbr\\u003eindex=%{x}\\u003cbr\\u003evalue=%{y}\\u003cextra\\u003e\\u003c\\u002fextra\\u003e\",\"legendgroup\":\"CHEMBL2581\",\"marker\":{\"color\":\"#636efa\",\"pattern\":{\"shape\":\"\"}},\"name\":\"CHEMBL2581\",\"offsetgroup\":\"CHEMBL2581\",\"orientation\":\"v\",\"showlegend\":true,\"textposition\":\"auto\",\"x\":[\"max_RAD2D_Cosine\",\"max_ASP_Cosine\",\"max_LSTAR_Cosine\",\"max_ASP_BraunBlanquet\",\"max_RAD2D_BraunBlanquet\",\"max_LSTAR_BraunBlanquet\",\"max_RAD2D_Tanimoto\",\"max_ASP_Tanimoto\",\"max_LSTAR_Tanimoto\",\"max_RDKIT_Tanimoto\",\"max_RDKIT_Cosine\",\"max_RDKIT_BraunBlanquet\",\"decile_RDKIT_Cosine\",\"decile_LSTAR_Cosine\",\"decile_RAD2D_Cosine\",\"decile_ASP_Cosine\",\"decile_RDKIT_Tanimoto\",\"decile_LSTAR_Tanimoto\",\"decile_ASP_Tanimoto\",\"decile_RAD2D_Tanimoto\",\"cuartile_RDKIT_Cosine\",\"decile_RDKIT_BraunBlanquet\",\"aupr_RDKIT_Cosine\",\"cuartile_RDKIT_Tanimoto\",\"decile_LSTAR_BraunBlanquet\",\"decile_ASP_BraunBlanquet\",\"decile_RAD2D_BraunBlanquet\",\"auroc_RDKIT_Cosine\",\"cuartile_ASP_Tanimoto\",\"cuartile_LSTAR_Tanimoto\",\"cuartile_RAD2D_Tanimoto\",\"cuartile_RAD2D_Cosine\",\"cuartile_ASP_Cosine\",\"cuartile_LSTAR_Cosine\",\"mean_RDKIT_Cosine\",\"aupr_RDKIT_Tanimoto\",\"cuartile_RDKIT_BraunBlanquet\",\"auroc_RDKIT_Tanimoto\",\"mean_RDKIT_Tanimoto\",\"cuartile_ASP_BraunBlanquet\",\"cuartile_LSTAR_BraunBlanquet\",\"cuartile_RAD2D_BraunBlanquet\",\"mean_ASP_Cosine\",\"mean_RAD2D_Cosine\",\"mean_LSTAR_Cosine\",\"mean_ASP_Tanimoto\",\"mean_LSTAR_Tanimoto\",\"mean_RAD2D_Tanimoto\",\"aupr_ASP_Cosine\",\"aupr_RAD2D_Cosine\",\"aupr_LSTAR_Cosine\",\"aupr_LSTAR_Tanimoto\",\"aupr_ASP_Tanimoto\",\"aupr_RAD2D_Tanimoto\",\"mean_RDKIT_BraunBlanquet\",\"aupr_RDKIT_BraunBlanquet\",\"auroc_RAD2D_Cosine\",\"auroc_LSTAR_Cosine\",\"auroc_ASP_Cosine\",\"mean_ASP_BraunBlanquet\",\"mean_LSTAR_BraunBlanquet\",\"mean_RAD2D_BraunBlanquet\",\"auroc_LSTAR_Tanimoto\",\"auroc_ASP_Tanimoto\",\"auroc_RAD2D_Tanimoto\",\"aupr_RAD2D_BraunBlanquet\",\"aupr_LSTAR_BraunBlanquet\",\"aupr_ASP_BraunBlanquet\",\"auroc_RDKIT_BraunBlanquet\",\"auroc_RAD2D_BraunBlanquet\",\"auroc_ASP_BraunBlanquet\",\"auroc_LSTAR_BraunBlanquet\"],\"xaxis\":\"x\",\"y\":[0.9279532583552684,0.9279532583552684,0.9279532583552684,0.9269562096195262,0.9269562096195262,0.9269562096195262,0.9264975672010848,0.9264975672010848,0.9264975672010848,0.9086703358060144,0.9083512802105768,0.9076334051208425,0.8873933157852756,0.8838637632607482,0.8838637632607482,0.8838637632607482,0.8837441174124592,0.8833452979181622,0.8833452979181622,0.8833452979181622,0.8788386376326074,0.8777020020738614,0.8764457206668261,0.8756879636276622,0.8755483768046581,0.8755483768046581,0.8755483768046581,0.8693666746430566,0.8677115737417246,0.8677115737417246,0.8677115737417246,0.8674523410704316,0.8674523410704316,0.8674523410704316,0.8657772991943846,0.8611111111111112,0.8585786073223259,0.8556672250139586,0.8549294089495094,0.8526561378320172,0.8526561378320172,0.8526561378320172,0.8510010369306852,0.8510010369306852,0.8510010369306852,0.8486081199649039,0.8486081199649039,0.8486081199649039,0.8473717795325836,0.8473717795325836,0.8473717795325836,0.8336125069793412,0.8336125069793412,0.8336125069793412,0.8320172290021536,0.831458881710138,0.8286870862247747,0.8286870862247747,0.8286870862247747,0.8229241445321848,0.8229241445321848,0.8229241445321848,0.8167823243200129,0.8167823243200129,0.8167823243200129,0.8087062295605009,0.8087062295605009,0.8087062295605009,0.807290420355747,0.7890244875169499,0.7890244875169499,0.7890244875169499],\"yaxis\":\"y\",\"type\":\"bar\"}],                        {\"template\":{\"data\":{\"histogram2dcontour\":[{\"type\":\"histogram2dcontour\",\"colorbar\":{\"outlinewidth\":0,\"ticks\":\"\"},\"colorscale\":[[0.0,\"#0d0887\"],[0.1111111111111111,\"#46039f\"],[0.2222222222222222,\"#7201a8\"],[0.3333333333333333,\"#9c179e\"],[0.4444444444444444,\"#bd3786\"],[0.5555555555555556,\"#d8576b\"],[0.6666666666666666,\"#ed7953\"],[0.7777777777777778,\"#fb9f3a\"],[0.8888888888888888,\"#fdca26\"],[1.0,\"#f0f921\"]]}],\"choropleth\":[{\"type\":\"choropleth\",\"colorbar\":{\"outlinewidth\":0,\"ticks\":\"\"}}],\"histogram2d\":[{\"type\":\"histogram2d\",\"colorbar\":{\"outlinewidth\":0,\"ticks\":\"\"},\"colorscale\":[[0.0,\"#0d0887\"],[0.1111111111111111,\"#46039f\"],[0.2222222222222222,\"#7201a8\"],[0.3333333333333333,\"#9c179e\"],[0.4444444444444444,\"#bd3786\"],[0.5555555555555556,\"#d8576b\"],[0.6666666666666666,\"#ed7953\"],[0.7777777777777778,\"#fb9f3a\"],[0.8888888888888888,\"#fdca26\"],[1.0,\"#f0f921\"]]}],\"heatmap\":[{\"type\":\"heatmap\",\"colorbar\":{\"outlinewidth\":0,\"ticks\":\"\"},\"colorscale\":[[0.0,\"#0d0887\"],[0.1111111111111111,\"#46039f\"],[0.2222222222222222,\"#7201a8\"],[0.3333333333333333,\"#9c179e\"],[0.4444444444444444,\"#bd3786\"],[0.5555555555555556,\"#d8576b\"],[0.6666666666666666,\"#ed7953\"],[0.7777777777777778,\"#fb9f3a\"],[0.8888888888888888,\"#fdca26\"],[1.0,\"#f0f921\"]]}],\"heatmapgl\":[{\"type\":\"heatmapgl\",\"colorbar\":{\"outlinewidth\":0,\"ticks\":\"\"},\"colorscale\":[[0.0,\"#0d0887\"],[0.1111111111111111,\"#46039f\"],[0.2222222222222222,\"#7201a8\"],[0.3333333333333333,\"#9c179e\"],[0.4444444444444444,\"#bd3786\"],[0.5555555555555556,\"#d8576b\"],[0.6666666666666666,\"#ed7953\"],[0.7777777777777778,\"#fb9f3a\"],[0.8888888888888888,\"#fdca26\"],[1.0,\"#f0f921\"]]}],\"contourcarpet\":[{\"type\":\"contourcarpet\",\"colorbar\":{\"outlinewidth\":0,\"ticks\":\"\"}}],\"contour\":[{\"type\":\"contour\",\"colorbar\":{\"outlinewidth\":0,\"ticks\":\"\"},\"colorscale\":[[0.0,\"#0d0887\"],[0.1111111111111111,\"#46039f\"],[0.2222222222222222,\"#7201a8\"],[0.3333333333333333,\"#9c179e\"],[0.4444444444444444,\"#bd3786\"],[0.5555555555555556,\"#d8576b\"],[0.6666666666666666,\"#ed7953\"],[0.7777777777777778,\"#fb9f3a\"],[0.8888888888888888,\"#fdca26\"],[1.0,\"#f0f921\"]]}],\"surface\":[{\"type\":\"surface\",\"colorbar\":{\"outlinewidth\":0,\"ticks\":\"\"},\"colorscale\":[[0.0,\"#0d0887\"],[0.1111111111111111,\"#46039f\"],[0.2222222222222222,\"#7201a8\"],[0.3333333333333333,\"#9c179e\"],[0.4444444444444444,\"#bd3786\"],[0.5555555555555556,\"#d8576b\"],[0.6666666666666666,\"#ed7953\"],[0.7777777777777778,\"#fb9f3a\"],[0.8888888888888888,\"#fdca26\"],[1.0,\"#f0f921\"]]}],\"mesh3d\":[{\"type\":\"mesh3d\",\"colorbar\":{\"outlinewidth\":0,\"ticks\":\"\"}}],\"scatter\":[{\"fillpattern\":{\"fillmode\":\"overlay\",\"size\":10,\"solidity\":0.2},\"type\":\"scatter\"}],\"parcoords\":[{\"type\":\"parcoords\",\"line\":{\"colorbar\":{\"outlinewidth\":0,\"ticks\":\"\"}}}],\"scatterpolargl\":[{\"type\":\"scatterpolargl\",\"marker\":{\"colorbar\":{\"outlinewidth\":0,\"ticks\":\"\"}}}],\"bar\":[{\"error_x\":{\"color\":\"#2a3f5f\"},\"error_y\":{\"color\":\"#2a3f5f\"},\"marker\":{\"line\":{\"color\":\"#E5ECF6\",\"width\":0.5},\"pattern\":{\"fillmode\":\"overlay\",\"size\":10,\"solidity\":0.2}},\"type\":\"bar\"}],\"scattergeo\":[{\"type\":\"scattergeo\",\"marker\":{\"colorbar\":{\"outlinewidth\":0,\"ticks\":\"\"}}}],\"scatterpolar\":[{\"type\":\"scatterpolar\",\"marker\":{\"colorbar\":{\"outlinewidth\":0,\"ticks\":\"\"}}}],\"histogram\":[{\"marker\":{\"pattern\":{\"fillmode\":\"overlay\",\"size\":10,\"solidity\":0.2}},\"type\":\"histogram\"}],\"scattergl\":[{\"type\":\"scattergl\",\"marker\":{\"colorbar\":{\"outlinewidth\":0,\"ticks\":\"\"}}}],\"scatter3d\":[{\"type\":\"scatter3d\",\"line\":{\"colorbar\":{\"outlinewidth\":0,\"ticks\":\"\"}},\"marker\":{\"colorbar\":{\"outlinewidth\":0,\"ticks\":\"\"}}}],\"scattermapbox\":[{\"type\":\"scattermapbox\",\"marker\":{\"colorbar\":{\"outlinewidth\":0,\"ticks\":\"\"}}}],\"scatterternary\":[{\"type\":\"scatterternary\",\"marker\":{\"colorbar\":{\"outlinewidth\":0,\"ticks\":\"\"}}}],\"scattercarpet\":[{\"type\":\"scattercarpet\",\"marker\":{\"colorbar\":{\"outlinewidth\":0,\"ticks\":\"\"}}}],\"carpet\":[{\"aaxis\":{\"endlinecolor\":\"#2a3f5f\",\"gridcolor\":\"white\",\"linecolor\":\"white\",\"minorgridcolor\":\"white\",\"startlinecolor\":\"#2a3f5f\"},\"baxis\":{\"endlinecolor\":\"#2a3f5f\",\"gridcolor\":\"white\",\"linecolor\":\"white\",\"minorgridcolor\":\"white\",\"startlinecolor\":\"#2a3f5f\"},\"type\":\"carpet\"}],\"table\":[{\"cells\":{\"fill\":{\"color\":\"#EBF0F8\"},\"line\":{\"color\":\"white\"}},\"header\":{\"fill\":{\"color\":\"#C8D4E3\"},\"line\":{\"color\":\"white\"}},\"type\":\"table\"}],\"barpolar\":[{\"marker\":{\"line\":{\"color\":\"#E5ECF6\",\"width\":0.5},\"pattern\":{\"fillmode\":\"overlay\",\"size\":10,\"solidity\":0.2}},\"type\":\"barpolar\"}],\"pie\":[{\"automargin\":true,\"type\":\"pie\"}]},\"layout\":{\"autotypenumbers\":\"strict\",\"colorway\":[\"#636efa\",\"#EF553B\",\"#00cc96\",\"#ab63fa\",\"#FFA15A\",\"#19d3f3\",\"#FF6692\",\"#B6E880\",\"#FF97FF\",\"#FECB52\"],\"font\":{\"color\":\"#2a3f5f\"},\"hovermode\":\"closest\",\"hoverlabel\":{\"align\":\"left\"},\"paper_bgcolor\":\"white\",\"plot_bgcolor\":\"#E5ECF6\",\"polar\":{\"bgcolor\":\"#E5ECF6\",\"angularaxis\":{\"gridcolor\":\"white\",\"linecolor\":\"white\",\"ticks\":\"\"},\"radialaxis\":{\"gridcolor\":\"white\",\"linecolor\":\"white\",\"ticks\":\"\"}},\"ternary\":{\"bgcolor\":\"#E5ECF6\",\"aaxis\":{\"gridcolor\":\"white\",\"linecolor\":\"white\",\"ticks\":\"\"},\"baxis\":{\"gridcolor\":\"white\",\"linecolor\":\"white\",\"ticks\":\"\"},\"caxis\":{\"gridcolor\":\"white\",\"linecolor\":\"white\",\"ticks\":\"\"}},\"coloraxis\":{\"colorbar\":{\"outlinewidth\":0,\"ticks\":\"\"}},\"colorscale\":{\"sequential\":[[0.0,\"#0d0887\"],[0.1111111111111111,\"#46039f\"],[0.2222222222222222,\"#7201a8\"],[0.3333333333333333,\"#9c179e\"],[0.4444444444444444,\"#bd3786\"],[0.5555555555555556,\"#d8576b\"],[0.6666666666666666,\"#ed7953\"],[0.7777777777777778,\"#fb9f3a\"],[0.8888888888888888,\"#fdca26\"],[1.0,\"#f0f921\"]],\"sequentialminus\":[[0.0,\"#0d0887\"],[0.1111111111111111,\"#46039f\"],[0.2222222222222222,\"#7201a8\"],[0.3333333333333333,\"#9c179e\"],[0.4444444444444444,\"#bd3786\"],[0.5555555555555556,\"#d8576b\"],[0.6666666666666666,\"#ed7953\"],[0.7777777777777778,\"#fb9f3a\"],[0.8888888888888888,\"#fdca26\"],[1.0,\"#f0f921\"]],\"diverging\":[[0,\"#8e0152\"],[0.1,\"#c51b7d\"],[0.2,\"#de77ae\"],[0.3,\"#f1b6da\"],[0.4,\"#fde0ef\"],[0.5,\"#f7f7f7\"],[0.6,\"#e6f5d0\"],[0.7,\"#b8e186\"],[0.8,\"#7fbc41\"],[0.9,\"#4d9221\"],[1,\"#276419\"]]},\"xaxis\":{\"gridcolor\":\"white\",\"linecolor\":\"white\",\"ticks\":\"\",\"title\":{\"standoff\":15},\"zerolinecolor\":\"white\",\"automargin\":true,\"zerolinewidth\":2},\"yaxis\":{\"gridcolor\":\"white\",\"linecolor\":\"white\",\"ticks\":\"\",\"title\":{\"standoff\":15},\"zerolinecolor\":\"white\",\"automargin\":true,\"zerolinewidth\":2},\"scene\":{\"xaxis\":{\"backgroundcolor\":\"#E5ECF6\",\"gridcolor\":\"white\",\"linecolor\":\"white\",\"showbackground\":true,\"ticks\":\"\",\"zerolinecolor\":\"white\",\"gridwidth\":2},\"yaxis\":{\"backgroundcolor\":\"#E5ECF6\",\"gridcolor\":\"white\",\"linecolor\":\"white\",\"showbackground\":true,\"ticks\":\"\",\"zerolinecolor\":\"white\",\"gridwidth\":2},\"zaxis\":{\"backgroundcolor\":\"#E5ECF6\",\"gridcolor\":\"white\",\"linecolor\":\"white\",\"showbackground\":true,\"ticks\":\"\",\"zerolinecolor\":\"white\",\"gridwidth\":2}},\"shapedefaults\":{\"line\":{\"color\":\"#2a3f5f\"}},\"annotationdefaults\":{\"arrowcolor\":\"#2a3f5f\",\"arrowhead\":0,\"arrowwidth\":1},\"geo\":{\"bgcolor\":\"white\",\"landcolor\":\"#E5ECF6\",\"subunitcolor\":\"white\",\"showland\":true,\"showlakes\":true,\"lakecolor\":\"white\"},\"title\":{\"x\":0.05},\"mapbox\":{\"style\":\"light\"}}},\"xaxis\":{\"anchor\":\"y\",\"domain\":[0.0,1.0],\"title\":{\"text\":\"index\"}},\"yaxis\":{\"anchor\":\"x\",\"domain\":[0.0,1.0],\"title\":{\"text\":\"value\"}},\"legend\":{\"title\":{\"text\":\"variable\"},\"tracegroupgap\":0},\"margin\":{\"t\":60},\"barmode\":\"relative\"},                        {\"responsive\": true}                    ).then(function(){\n",
       "                            \n",
       "var gd = document.getElementById('51148f3d-19b6-4b84-9d8e-d0eb7729f558');\n",
       "var x = new MutationObserver(function (mutations, observer) {{\n",
       "        var display = window.getComputedStyle(gd).display;\n",
       "        if (!display || display === 'none') {{\n",
       "            console.log([gd, 'removed!']);\n",
       "            Plotly.purge(gd);\n",
       "            observer.disconnect();\n",
       "        }}\n",
       "}});\n",
       "\n",
       "// Listen for the removal of the full notebook cells\n",
       "var notebookContainer = gd.closest('#notebook-container');\n",
       "if (notebookContainer) {{\n",
       "    x.observe(notebookContainer, {childList: true});\n",
       "}}\n",
       "\n",
       "// Listen for the clearing of the current output cell\n",
       "var outputEl = gd.closest('.output');\n",
       "if (outputEl) {{\n",
       "    x.observe(outputEl, {childList: true});\n",
       "}}\n",
       "\n",
       "                        })                };                });            </script>        </div>"
      ]
     },
     "metadata": {},
     "output_type": "display_data"
    }
   ],
   "source": [
    "fig = px.bar(grid_auroc.loc[\"CHEMBL2581\",:].sort_values(ascending=False))"
   ]
  },
  {
   "cell_type": "code",
   "execution_count": 79,
   "metadata": {},
   "outputs": [
    {
     "data": {
      "application/vnd.plotly.v1+json": {
       "config": {
        "plotlyServerURL": "https://plot.ly"
       },
       "data": [
        {
         "alignmentgroup": "True",
         "hovertemplate": "variable=CHEMBL262<br>AUROC=%{x}<br>count=%{y}<extra></extra>",
         "legendgroup": "CHEMBL262",
         "marker": {
          "color": "#636efa",
          "pattern": {
           "shape": ""
          }
         },
         "name": "CHEMBL262",
         "offsetgroup": "CHEMBL262",
         "orientation": "v",
         "showlegend": true,
         "textposition": "auto",
         "texttemplate": "%{y:.4}",
         "type": "bar",
         "x": [
          0.8693401693283831,
          0.8693401693283831,
          0.8693401693283831,
          0.8659270827194687,
          0.8659270827194687,
          0.8659270827194687,
          0.8650873160861964,
          0.8650873160861964,
          0.8650873160861964,
          0.8482723397568113,
          0.8456400887893609,
          0.8314033433516019,
          0.805429508711965,
          0.805429508711965,
          0.805429508711965,
          0.8033767458306322,
          0.8033767458306322,
          0.8033767458306322,
          0.7981417093916356,
          0.7981417093916356,
          0.7981417093916356,
          0.791895024259925,
          0.791895024259925,
          0.791895024259925,
          0.7824562437385821,
          0.7824562437385821,
          0.7824562437385821,
          0.7803936590252813,
          0.7803936590252813,
          0.7803936590252813,
          0.7515174730390712,
          0.736165949672933,
          0.7146168503349244,
          0.7119551338715697,
          0.7119551338715697,
          0.7119551338715697,
          0.7118176282240164,
          0.7032922780757067,
          0.7002966193254367,
          0.695866973107824,
          0.695866973107824,
          0.695866973107824,
          0.6943544109847368,
          0.6943544109847368,
          0.6943544109847368,
          0.6921248551279784,
          0.6921248551279784,
          0.6921248551279784,
          0.6891684837055808,
          0.6891684837055808,
          0.6891684837055808,
          0.6871157208242482,
          0.6862317559471192,
          0.6855245840454162,
          0.6782957157168955,
          0.6632781346376726,
          0.6617753943465534,
          0.6591529652110713,
          0.6591529652110713,
          0.6591529652110713,
          0.6427505058243463,
          0.6388905258608837,
          0.6326438407291729,
          0.5994067613491268,
          0.5994067613491268,
          0.5994067613491268,
          0.5960084074881646,
          0.5960084074881646,
          0.5960084074881646,
          0.5901742392991141,
          0.5901742392991141,
          0.5901742392991141
         ],
         "xaxis": "x",
         "y": [
          1,
          1,
          1,
          1,
          1,
          1,
          1,
          1,
          1,
          1,
          1,
          1,
          1,
          1,
          1,
          1,
          1,
          1,
          1,
          1,
          1,
          1,
          1,
          1,
          1,
          1,
          1,
          1,
          1,
          1,
          1,
          1,
          1,
          1,
          1,
          1,
          1,
          1,
          1,
          1,
          1,
          1,
          1,
          1,
          1,
          1,
          1,
          1,
          1,
          1,
          1,
          1,
          1,
          1,
          1,
          1,
          1,
          1,
          1,
          1,
          1,
          1,
          1,
          1,
          1,
          1,
          1,
          1,
          1,
          1,
          1,
          1
         ],
         "yaxis": "y"
        }
       ],
       "layout": {
        "annotations": [
         {
          "font": {
           "color": "red"
          },
          "showarrow": false,
          "text": "0.8693401693283831",
          "x": 0,
          "xanchor": "left",
          "xref": "x domain",
          "y": 0.8693401693283831,
          "yanchor": "bottom",
          "yref": "y"
         }
        ],
        "barmode": "relative",
        "height": 600,
        "legend": {
         "title": {
          "text": "variable"
         },
         "tracegroupgap": 0
        },
        "shapes": [
         {
          "line": {
           "color": "red",
           "dash": "dot"
          },
          "type": "line",
          "x0": 0,
          "x1": 1,
          "xref": "x domain",
          "y0": 0.8693401693283831,
          "y1": 0.8693401693283831,
          "yref": "y"
         }
        ],
        "showlegend": false,
        "template": {
         "data": {
          "bar": [
           {
            "error_x": {
             "color": "#2a3f5f"
            },
            "error_y": {
             "color": "#2a3f5f"
            },
            "marker": {
             "line": {
              "color": "#E5ECF6",
              "width": 0.5
             },
             "pattern": {
              "fillmode": "overlay",
              "size": 10,
              "solidity": 0.2
             }
            },
            "type": "bar"
           }
          ],
          "barpolar": [
           {
            "marker": {
             "line": {
              "color": "#E5ECF6",
              "width": 0.5
             },
             "pattern": {
              "fillmode": "overlay",
              "size": 10,
              "solidity": 0.2
             }
            },
            "type": "barpolar"
           }
          ],
          "carpet": [
           {
            "aaxis": {
             "endlinecolor": "#2a3f5f",
             "gridcolor": "white",
             "linecolor": "white",
             "minorgridcolor": "white",
             "startlinecolor": "#2a3f5f"
            },
            "baxis": {
             "endlinecolor": "#2a3f5f",
             "gridcolor": "white",
             "linecolor": "white",
             "minorgridcolor": "white",
             "startlinecolor": "#2a3f5f"
            },
            "type": "carpet"
           }
          ],
          "choropleth": [
           {
            "colorbar": {
             "outlinewidth": 0,
             "ticks": ""
            },
            "type": "choropleth"
           }
          ],
          "contour": [
           {
            "colorbar": {
             "outlinewidth": 0,
             "ticks": ""
            },
            "colorscale": [
             [
              0,
              "#0d0887"
             ],
             [
              0.1111111111111111,
              "#46039f"
             ],
             [
              0.2222222222222222,
              "#7201a8"
             ],
             [
              0.3333333333333333,
              "#9c179e"
             ],
             [
              0.4444444444444444,
              "#bd3786"
             ],
             [
              0.5555555555555556,
              "#d8576b"
             ],
             [
              0.6666666666666666,
              "#ed7953"
             ],
             [
              0.7777777777777778,
              "#fb9f3a"
             ],
             [
              0.8888888888888888,
              "#fdca26"
             ],
             [
              1,
              "#f0f921"
             ]
            ],
            "type": "contour"
           }
          ],
          "contourcarpet": [
           {
            "colorbar": {
             "outlinewidth": 0,
             "ticks": ""
            },
            "type": "contourcarpet"
           }
          ],
          "heatmap": [
           {
            "colorbar": {
             "outlinewidth": 0,
             "ticks": ""
            },
            "colorscale": [
             [
              0,
              "#0d0887"
             ],
             [
              0.1111111111111111,
              "#46039f"
             ],
             [
              0.2222222222222222,
              "#7201a8"
             ],
             [
              0.3333333333333333,
              "#9c179e"
             ],
             [
              0.4444444444444444,
              "#bd3786"
             ],
             [
              0.5555555555555556,
              "#d8576b"
             ],
             [
              0.6666666666666666,
              "#ed7953"
             ],
             [
              0.7777777777777778,
              "#fb9f3a"
             ],
             [
              0.8888888888888888,
              "#fdca26"
             ],
             [
              1,
              "#f0f921"
             ]
            ],
            "type": "heatmap"
           }
          ],
          "heatmapgl": [
           {
            "colorbar": {
             "outlinewidth": 0,
             "ticks": ""
            },
            "colorscale": [
             [
              0,
              "#0d0887"
             ],
             [
              0.1111111111111111,
              "#46039f"
             ],
             [
              0.2222222222222222,
              "#7201a8"
             ],
             [
              0.3333333333333333,
              "#9c179e"
             ],
             [
              0.4444444444444444,
              "#bd3786"
             ],
             [
              0.5555555555555556,
              "#d8576b"
             ],
             [
              0.6666666666666666,
              "#ed7953"
             ],
             [
              0.7777777777777778,
              "#fb9f3a"
             ],
             [
              0.8888888888888888,
              "#fdca26"
             ],
             [
              1,
              "#f0f921"
             ]
            ],
            "type": "heatmapgl"
           }
          ],
          "histogram": [
           {
            "marker": {
             "pattern": {
              "fillmode": "overlay",
              "size": 10,
              "solidity": 0.2
             }
            },
            "type": "histogram"
           }
          ],
          "histogram2d": [
           {
            "colorbar": {
             "outlinewidth": 0,
             "ticks": ""
            },
            "colorscale": [
             [
              0,
              "#0d0887"
             ],
             [
              0.1111111111111111,
              "#46039f"
             ],
             [
              0.2222222222222222,
              "#7201a8"
             ],
             [
              0.3333333333333333,
              "#9c179e"
             ],
             [
              0.4444444444444444,
              "#bd3786"
             ],
             [
              0.5555555555555556,
              "#d8576b"
             ],
             [
              0.6666666666666666,
              "#ed7953"
             ],
             [
              0.7777777777777778,
              "#fb9f3a"
             ],
             [
              0.8888888888888888,
              "#fdca26"
             ],
             [
              1,
              "#f0f921"
             ]
            ],
            "type": "histogram2d"
           }
          ],
          "histogram2dcontour": [
           {
            "colorbar": {
             "outlinewidth": 0,
             "ticks": ""
            },
            "colorscale": [
             [
              0,
              "#0d0887"
             ],
             [
              0.1111111111111111,
              "#46039f"
             ],
             [
              0.2222222222222222,
              "#7201a8"
             ],
             [
              0.3333333333333333,
              "#9c179e"
             ],
             [
              0.4444444444444444,
              "#bd3786"
             ],
             [
              0.5555555555555556,
              "#d8576b"
             ],
             [
              0.6666666666666666,
              "#ed7953"
             ],
             [
              0.7777777777777778,
              "#fb9f3a"
             ],
             [
              0.8888888888888888,
              "#fdca26"
             ],
             [
              1,
              "#f0f921"
             ]
            ],
            "type": "histogram2dcontour"
           }
          ],
          "mesh3d": [
           {
            "colorbar": {
             "outlinewidth": 0,
             "ticks": ""
            },
            "type": "mesh3d"
           }
          ],
          "parcoords": [
           {
            "line": {
             "colorbar": {
              "outlinewidth": 0,
              "ticks": ""
             }
            },
            "type": "parcoords"
           }
          ],
          "pie": [
           {
            "automargin": true,
            "type": "pie"
           }
          ],
          "scatter": [
           {
            "fillpattern": {
             "fillmode": "overlay",
             "size": 10,
             "solidity": 0.2
            },
            "type": "scatter"
           }
          ],
          "scatter3d": [
           {
            "line": {
             "colorbar": {
              "outlinewidth": 0,
              "ticks": ""
             }
            },
            "marker": {
             "colorbar": {
              "outlinewidth": 0,
              "ticks": ""
             }
            },
            "type": "scatter3d"
           }
          ],
          "scattercarpet": [
           {
            "marker": {
             "colorbar": {
              "outlinewidth": 0,
              "ticks": ""
             }
            },
            "type": "scattercarpet"
           }
          ],
          "scattergeo": [
           {
            "marker": {
             "colorbar": {
              "outlinewidth": 0,
              "ticks": ""
             }
            },
            "type": "scattergeo"
           }
          ],
          "scattergl": [
           {
            "marker": {
             "colorbar": {
              "outlinewidth": 0,
              "ticks": ""
             }
            },
            "type": "scattergl"
           }
          ],
          "scattermapbox": [
           {
            "marker": {
             "colorbar": {
              "outlinewidth": 0,
              "ticks": ""
             }
            },
            "type": "scattermapbox"
           }
          ],
          "scatterpolar": [
           {
            "marker": {
             "colorbar": {
              "outlinewidth": 0,
              "ticks": ""
             }
            },
            "type": "scatterpolar"
           }
          ],
          "scatterpolargl": [
           {
            "marker": {
             "colorbar": {
              "outlinewidth": 0,
              "ticks": ""
             }
            },
            "type": "scatterpolargl"
           }
          ],
          "scatterternary": [
           {
            "marker": {
             "colorbar": {
              "outlinewidth": 0,
              "ticks": ""
             }
            },
            "type": "scatterternary"
           }
          ],
          "surface": [
           {
            "colorbar": {
             "outlinewidth": 0,
             "ticks": ""
            },
            "colorscale": [
             [
              0,
              "#0d0887"
             ],
             [
              0.1111111111111111,
              "#46039f"
             ],
             [
              0.2222222222222222,
              "#7201a8"
             ],
             [
              0.3333333333333333,
              "#9c179e"
             ],
             [
              0.4444444444444444,
              "#bd3786"
             ],
             [
              0.5555555555555556,
              "#d8576b"
             ],
             [
              0.6666666666666666,
              "#ed7953"
             ],
             [
              0.7777777777777778,
              "#fb9f3a"
             ],
             [
              0.8888888888888888,
              "#fdca26"
             ],
             [
              1,
              "#f0f921"
             ]
            ],
            "type": "surface"
           }
          ],
          "table": [
           {
            "cells": {
             "fill": {
              "color": "#EBF0F8"
             },
             "line": {
              "color": "white"
             }
            },
            "header": {
             "fill": {
              "color": "#C8D4E3"
             },
             "line": {
              "color": "white"
             }
            },
            "type": "table"
           }
          ]
         },
         "layout": {
          "annotationdefaults": {
           "arrowcolor": "#2a3f5f",
           "arrowhead": 0,
           "arrowwidth": 1
          },
          "autotypenumbers": "strict",
          "coloraxis": {
           "colorbar": {
            "outlinewidth": 0,
            "ticks": ""
           }
          },
          "colorscale": {
           "diverging": [
            [
             0,
             "#8e0152"
            ],
            [
             0.1,
             "#c51b7d"
            ],
            [
             0.2,
             "#de77ae"
            ],
            [
             0.3,
             "#f1b6da"
            ],
            [
             0.4,
             "#fde0ef"
            ],
            [
             0.5,
             "#f7f7f7"
            ],
            [
             0.6,
             "#e6f5d0"
            ],
            [
             0.7,
             "#b8e186"
            ],
            [
             0.8,
             "#7fbc41"
            ],
            [
             0.9,
             "#4d9221"
            ],
            [
             1,
             "#276419"
            ]
           ],
           "sequential": [
            [
             0,
             "#0d0887"
            ],
            [
             0.1111111111111111,
             "#46039f"
            ],
            [
             0.2222222222222222,
             "#7201a8"
            ],
            [
             0.3333333333333333,
             "#9c179e"
            ],
            [
             0.4444444444444444,
             "#bd3786"
            ],
            [
             0.5555555555555556,
             "#d8576b"
            ],
            [
             0.6666666666666666,
             "#ed7953"
            ],
            [
             0.7777777777777778,
             "#fb9f3a"
            ],
            [
             0.8888888888888888,
             "#fdca26"
            ],
            [
             1,
             "#f0f921"
            ]
           ],
           "sequentialminus": [
            [
             0,
             "#0d0887"
            ],
            [
             0.1111111111111111,
             "#46039f"
            ],
            [
             0.2222222222222222,
             "#7201a8"
            ],
            [
             0.3333333333333333,
             "#9c179e"
            ],
            [
             0.4444444444444444,
             "#bd3786"
            ],
            [
             0.5555555555555556,
             "#d8576b"
            ],
            [
             0.6666666666666666,
             "#ed7953"
            ],
            [
             0.7777777777777778,
             "#fb9f3a"
            ],
            [
             0.8888888888888888,
             "#fdca26"
            ],
            [
             1,
             "#f0f921"
            ]
           ]
          },
          "colorway": [
           "#636efa",
           "#EF553B",
           "#00cc96",
           "#ab63fa",
           "#FFA15A",
           "#19d3f3",
           "#FF6692",
           "#B6E880",
           "#FF97FF",
           "#FECB52"
          ],
          "font": {
           "color": "#2a3f5f"
          },
          "geo": {
           "bgcolor": "white",
           "lakecolor": "white",
           "landcolor": "#E5ECF6",
           "showlakes": true,
           "showland": true,
           "subunitcolor": "white"
          },
          "hoverlabel": {
           "align": "left"
          },
          "hovermode": "closest",
          "mapbox": {
           "style": "light"
          },
          "paper_bgcolor": "white",
          "plot_bgcolor": "#E5ECF6",
          "polar": {
           "angularaxis": {
            "gridcolor": "white",
            "linecolor": "white",
            "ticks": ""
           },
           "bgcolor": "#E5ECF6",
           "radialaxis": {
            "gridcolor": "white",
            "linecolor": "white",
            "ticks": ""
           }
          },
          "scene": {
           "xaxis": {
            "backgroundcolor": "#E5ECF6",
            "gridcolor": "white",
            "gridwidth": 2,
            "linecolor": "white",
            "showbackground": true,
            "ticks": "",
            "zerolinecolor": "white"
           },
           "yaxis": {
            "backgroundcolor": "#E5ECF6",
            "gridcolor": "white",
            "gridwidth": 2,
            "linecolor": "white",
            "showbackground": true,
            "ticks": "",
            "zerolinecolor": "white"
           },
           "zaxis": {
            "backgroundcolor": "#E5ECF6",
            "gridcolor": "white",
            "gridwidth": 2,
            "linecolor": "white",
            "showbackground": true,
            "ticks": "",
            "zerolinecolor": "white"
           }
          },
          "shapedefaults": {
           "line": {
            "color": "#2a3f5f"
           }
          },
          "ternary": {
           "aaxis": {
            "gridcolor": "white",
            "linecolor": "white",
            "ticks": ""
           },
           "baxis": {
            "gridcolor": "white",
            "linecolor": "white",
            "ticks": ""
           },
           "bgcolor": "#E5ECF6",
           "caxis": {
            "gridcolor": "white",
            "linecolor": "white",
            "ticks": ""
           }
          },
          "title": {
           "x": 0.05
          },
          "xaxis": {
           "automargin": true,
           "gridcolor": "white",
           "linecolor": "white",
           "ticks": "",
           "title": {
            "standoff": 15
           },
           "zerolinecolor": "white",
           "zerolinewidth": 2
          },
          "yaxis": {
           "automargin": true,
           "gridcolor": "white",
           "linecolor": "white",
           "ticks": "",
           "title": {
            "standoff": 15
           },
           "zerolinecolor": "white",
           "zerolinewidth": 2
          }
         }
        },
        "title": {
         "text": "Baseline grid search of CHEMBL262"
        },
        "width": 1100,
        "xaxis": {
         "anchor": "y",
         "automargin": true,
         "domain": [
          0,
          1
         ],
         "tickfont": {
          "size": 11
         },
         "title": {
          "text": "AUROC"
         }
        },
        "yaxis": {
         "anchor": "x",
         "domain": [
          0,
          1
         ],
         "title": {
          "text": "count"
         }
        }
       }
      },
      "text/html": [
       "<div>                            <div id=\"5cea19db-39b9-4c10-ad03-d1a621b15afc\" class=\"plotly-graph-div\" style=\"height:600px; width:1100px;\"></div>            <script type=\"text/javascript\">                require([\"plotly\"], function(Plotly) {                    window.PLOTLYENV=window.PLOTLYENV || {};                                    if (document.getElementById(\"5cea19db-39b9-4c10-ad03-d1a621b15afc\")) {                    Plotly.newPlot(                        \"5cea19db-39b9-4c10-ad03-d1a621b15afc\",                        [{\"alignmentgroup\":\"True\",\"hovertemplate\":\"variable=CHEMBL262\\u003cbr\\u003eAUROC=%{x}\\u003cbr\\u003ecount=%{y}\\u003cextra\\u003e\\u003c\\u002fextra\\u003e\",\"legendgroup\":\"CHEMBL262\",\"marker\":{\"color\":\"#636efa\",\"pattern\":{\"shape\":\"\"}},\"name\":\"CHEMBL262\",\"offsetgroup\":\"CHEMBL262\",\"orientation\":\"v\",\"showlegend\":true,\"textposition\":\"auto\",\"texttemplate\":\"%{y:.4}\",\"x\":[0.8693401693283831,0.8693401693283831,0.8693401693283831,0.8659270827194687,0.8659270827194687,0.8659270827194687,0.8650873160861964,0.8650873160861964,0.8650873160861964,0.8482723397568113,0.8456400887893609,0.8314033433516019,0.805429508711965,0.805429508711965,0.805429508711965,0.8033767458306322,0.8033767458306322,0.8033767458306322,0.7981417093916356,0.7981417093916356,0.7981417093916356,0.791895024259925,0.791895024259925,0.791895024259925,0.7824562437385821,0.7824562437385821,0.7824562437385821,0.7803936590252813,0.7803936590252813,0.7803936590252813,0.7515174730390712,0.736165949672933,0.7146168503349244,0.7119551338715697,0.7119551338715697,0.7119551338715697,0.7118176282240164,0.7032922780757067,0.7002966193254367,0.695866973107824,0.695866973107824,0.695866973107824,0.6943544109847368,0.6943544109847368,0.6943544109847368,0.6921248551279784,0.6921248551279784,0.6921248551279784,0.6891684837055808,0.6891684837055808,0.6891684837055808,0.6871157208242482,0.6862317559471192,0.6855245840454162,0.6782957157168955,0.6632781346376726,0.6617753943465534,0.6591529652110713,0.6591529652110713,0.6591529652110713,0.6427505058243463,0.6388905258608837,0.6326438407291729,0.5994067613491268,0.5994067613491268,0.5994067613491268,0.5960084074881646,0.5960084074881646,0.5960084074881646,0.5901742392991141,0.5901742392991141,0.5901742392991141],\"xaxis\":\"x\",\"y\":[1,1,1,1,1,1,1,1,1,1,1,1,1,1,1,1,1,1,1,1,1,1,1,1,1,1,1,1,1,1,1,1,1,1,1,1,1,1,1,1,1,1,1,1,1,1,1,1,1,1,1,1,1,1,1,1,1,1,1,1,1,1,1,1,1,1,1,1,1,1,1,1],\"yaxis\":\"y\",\"type\":\"bar\"}],                        {\"template\":{\"data\":{\"histogram2dcontour\":[{\"type\":\"histogram2dcontour\",\"colorbar\":{\"outlinewidth\":0,\"ticks\":\"\"},\"colorscale\":[[0.0,\"#0d0887\"],[0.1111111111111111,\"#46039f\"],[0.2222222222222222,\"#7201a8\"],[0.3333333333333333,\"#9c179e\"],[0.4444444444444444,\"#bd3786\"],[0.5555555555555556,\"#d8576b\"],[0.6666666666666666,\"#ed7953\"],[0.7777777777777778,\"#fb9f3a\"],[0.8888888888888888,\"#fdca26\"],[1.0,\"#f0f921\"]]}],\"choropleth\":[{\"type\":\"choropleth\",\"colorbar\":{\"outlinewidth\":0,\"ticks\":\"\"}}],\"histogram2d\":[{\"type\":\"histogram2d\",\"colorbar\":{\"outlinewidth\":0,\"ticks\":\"\"},\"colorscale\":[[0.0,\"#0d0887\"],[0.1111111111111111,\"#46039f\"],[0.2222222222222222,\"#7201a8\"],[0.3333333333333333,\"#9c179e\"],[0.4444444444444444,\"#bd3786\"],[0.5555555555555556,\"#d8576b\"],[0.6666666666666666,\"#ed7953\"],[0.7777777777777778,\"#fb9f3a\"],[0.8888888888888888,\"#fdca26\"],[1.0,\"#f0f921\"]]}],\"heatmap\":[{\"type\":\"heatmap\",\"colorbar\":{\"outlinewidth\":0,\"ticks\":\"\"},\"colorscale\":[[0.0,\"#0d0887\"],[0.1111111111111111,\"#46039f\"],[0.2222222222222222,\"#7201a8\"],[0.3333333333333333,\"#9c179e\"],[0.4444444444444444,\"#bd3786\"],[0.5555555555555556,\"#d8576b\"],[0.6666666666666666,\"#ed7953\"],[0.7777777777777778,\"#fb9f3a\"],[0.8888888888888888,\"#fdca26\"],[1.0,\"#f0f921\"]]}],\"heatmapgl\":[{\"type\":\"heatmapgl\",\"colorbar\":{\"outlinewidth\":0,\"ticks\":\"\"},\"colorscale\":[[0.0,\"#0d0887\"],[0.1111111111111111,\"#46039f\"],[0.2222222222222222,\"#7201a8\"],[0.3333333333333333,\"#9c179e\"],[0.4444444444444444,\"#bd3786\"],[0.5555555555555556,\"#d8576b\"],[0.6666666666666666,\"#ed7953\"],[0.7777777777777778,\"#fb9f3a\"],[0.8888888888888888,\"#fdca26\"],[1.0,\"#f0f921\"]]}],\"contourcarpet\":[{\"type\":\"contourcarpet\",\"colorbar\":{\"outlinewidth\":0,\"ticks\":\"\"}}],\"contour\":[{\"type\":\"contour\",\"colorbar\":{\"outlinewidth\":0,\"ticks\":\"\"},\"colorscale\":[[0.0,\"#0d0887\"],[0.1111111111111111,\"#46039f\"],[0.2222222222222222,\"#7201a8\"],[0.3333333333333333,\"#9c179e\"],[0.4444444444444444,\"#bd3786\"],[0.5555555555555556,\"#d8576b\"],[0.6666666666666666,\"#ed7953\"],[0.7777777777777778,\"#fb9f3a\"],[0.8888888888888888,\"#fdca26\"],[1.0,\"#f0f921\"]]}],\"surface\":[{\"type\":\"surface\",\"colorbar\":{\"outlinewidth\":0,\"ticks\":\"\"},\"colorscale\":[[0.0,\"#0d0887\"],[0.1111111111111111,\"#46039f\"],[0.2222222222222222,\"#7201a8\"],[0.3333333333333333,\"#9c179e\"],[0.4444444444444444,\"#bd3786\"],[0.5555555555555556,\"#d8576b\"],[0.6666666666666666,\"#ed7953\"],[0.7777777777777778,\"#fb9f3a\"],[0.8888888888888888,\"#fdca26\"],[1.0,\"#f0f921\"]]}],\"mesh3d\":[{\"type\":\"mesh3d\",\"colorbar\":{\"outlinewidth\":0,\"ticks\":\"\"}}],\"scatter\":[{\"fillpattern\":{\"fillmode\":\"overlay\",\"size\":10,\"solidity\":0.2},\"type\":\"scatter\"}],\"parcoords\":[{\"type\":\"parcoords\",\"line\":{\"colorbar\":{\"outlinewidth\":0,\"ticks\":\"\"}}}],\"scatterpolargl\":[{\"type\":\"scatterpolargl\",\"marker\":{\"colorbar\":{\"outlinewidth\":0,\"ticks\":\"\"}}}],\"bar\":[{\"error_x\":{\"color\":\"#2a3f5f\"},\"error_y\":{\"color\":\"#2a3f5f\"},\"marker\":{\"line\":{\"color\":\"#E5ECF6\",\"width\":0.5},\"pattern\":{\"fillmode\":\"overlay\",\"size\":10,\"solidity\":0.2}},\"type\":\"bar\"}],\"scattergeo\":[{\"type\":\"scattergeo\",\"marker\":{\"colorbar\":{\"outlinewidth\":0,\"ticks\":\"\"}}}],\"scatterpolar\":[{\"type\":\"scatterpolar\",\"marker\":{\"colorbar\":{\"outlinewidth\":0,\"ticks\":\"\"}}}],\"histogram\":[{\"marker\":{\"pattern\":{\"fillmode\":\"overlay\",\"size\":10,\"solidity\":0.2}},\"type\":\"histogram\"}],\"scattergl\":[{\"type\":\"scattergl\",\"marker\":{\"colorbar\":{\"outlinewidth\":0,\"ticks\":\"\"}}}],\"scatter3d\":[{\"type\":\"scatter3d\",\"line\":{\"colorbar\":{\"outlinewidth\":0,\"ticks\":\"\"}},\"marker\":{\"colorbar\":{\"outlinewidth\":0,\"ticks\":\"\"}}}],\"scattermapbox\":[{\"type\":\"scattermapbox\",\"marker\":{\"colorbar\":{\"outlinewidth\":0,\"ticks\":\"\"}}}],\"scatterternary\":[{\"type\":\"scatterternary\",\"marker\":{\"colorbar\":{\"outlinewidth\":0,\"ticks\":\"\"}}}],\"scattercarpet\":[{\"type\":\"scattercarpet\",\"marker\":{\"colorbar\":{\"outlinewidth\":0,\"ticks\":\"\"}}}],\"carpet\":[{\"aaxis\":{\"endlinecolor\":\"#2a3f5f\",\"gridcolor\":\"white\",\"linecolor\":\"white\",\"minorgridcolor\":\"white\",\"startlinecolor\":\"#2a3f5f\"},\"baxis\":{\"endlinecolor\":\"#2a3f5f\",\"gridcolor\":\"white\",\"linecolor\":\"white\",\"minorgridcolor\":\"white\",\"startlinecolor\":\"#2a3f5f\"},\"type\":\"carpet\"}],\"table\":[{\"cells\":{\"fill\":{\"color\":\"#EBF0F8\"},\"line\":{\"color\":\"white\"}},\"header\":{\"fill\":{\"color\":\"#C8D4E3\"},\"line\":{\"color\":\"white\"}},\"type\":\"table\"}],\"barpolar\":[{\"marker\":{\"line\":{\"color\":\"#E5ECF6\",\"width\":0.5},\"pattern\":{\"fillmode\":\"overlay\",\"size\":10,\"solidity\":0.2}},\"type\":\"barpolar\"}],\"pie\":[{\"automargin\":true,\"type\":\"pie\"}]},\"layout\":{\"autotypenumbers\":\"strict\",\"colorway\":[\"#636efa\",\"#EF553B\",\"#00cc96\",\"#ab63fa\",\"#FFA15A\",\"#19d3f3\",\"#FF6692\",\"#B6E880\",\"#FF97FF\",\"#FECB52\"],\"font\":{\"color\":\"#2a3f5f\"},\"hovermode\":\"closest\",\"hoverlabel\":{\"align\":\"left\"},\"paper_bgcolor\":\"white\",\"plot_bgcolor\":\"#E5ECF6\",\"polar\":{\"bgcolor\":\"#E5ECF6\",\"angularaxis\":{\"gridcolor\":\"white\",\"linecolor\":\"white\",\"ticks\":\"\"},\"radialaxis\":{\"gridcolor\":\"white\",\"linecolor\":\"white\",\"ticks\":\"\"}},\"ternary\":{\"bgcolor\":\"#E5ECF6\",\"aaxis\":{\"gridcolor\":\"white\",\"linecolor\":\"white\",\"ticks\":\"\"},\"baxis\":{\"gridcolor\":\"white\",\"linecolor\":\"white\",\"ticks\":\"\"},\"caxis\":{\"gridcolor\":\"white\",\"linecolor\":\"white\",\"ticks\":\"\"}},\"coloraxis\":{\"colorbar\":{\"outlinewidth\":0,\"ticks\":\"\"}},\"colorscale\":{\"sequential\":[[0.0,\"#0d0887\"],[0.1111111111111111,\"#46039f\"],[0.2222222222222222,\"#7201a8\"],[0.3333333333333333,\"#9c179e\"],[0.4444444444444444,\"#bd3786\"],[0.5555555555555556,\"#d8576b\"],[0.6666666666666666,\"#ed7953\"],[0.7777777777777778,\"#fb9f3a\"],[0.8888888888888888,\"#fdca26\"],[1.0,\"#f0f921\"]],\"sequentialminus\":[[0.0,\"#0d0887\"],[0.1111111111111111,\"#46039f\"],[0.2222222222222222,\"#7201a8\"],[0.3333333333333333,\"#9c179e\"],[0.4444444444444444,\"#bd3786\"],[0.5555555555555556,\"#d8576b\"],[0.6666666666666666,\"#ed7953\"],[0.7777777777777778,\"#fb9f3a\"],[0.8888888888888888,\"#fdca26\"],[1.0,\"#f0f921\"]],\"diverging\":[[0,\"#8e0152\"],[0.1,\"#c51b7d\"],[0.2,\"#de77ae\"],[0.3,\"#f1b6da\"],[0.4,\"#fde0ef\"],[0.5,\"#f7f7f7\"],[0.6,\"#e6f5d0\"],[0.7,\"#b8e186\"],[0.8,\"#7fbc41\"],[0.9,\"#4d9221\"],[1,\"#276419\"]]},\"xaxis\":{\"gridcolor\":\"white\",\"linecolor\":\"white\",\"ticks\":\"\",\"title\":{\"standoff\":15},\"zerolinecolor\":\"white\",\"automargin\":true,\"zerolinewidth\":2},\"yaxis\":{\"gridcolor\":\"white\",\"linecolor\":\"white\",\"ticks\":\"\",\"title\":{\"standoff\":15},\"zerolinecolor\":\"white\",\"automargin\":true,\"zerolinewidth\":2},\"scene\":{\"xaxis\":{\"backgroundcolor\":\"#E5ECF6\",\"gridcolor\":\"white\",\"linecolor\":\"white\",\"showbackground\":true,\"ticks\":\"\",\"zerolinecolor\":\"white\",\"gridwidth\":2},\"yaxis\":{\"backgroundcolor\":\"#E5ECF6\",\"gridcolor\":\"white\",\"linecolor\":\"white\",\"showbackground\":true,\"ticks\":\"\",\"zerolinecolor\":\"white\",\"gridwidth\":2},\"zaxis\":{\"backgroundcolor\":\"#E5ECF6\",\"gridcolor\":\"white\",\"linecolor\":\"white\",\"showbackground\":true,\"ticks\":\"\",\"zerolinecolor\":\"white\",\"gridwidth\":2}},\"shapedefaults\":{\"line\":{\"color\":\"#2a3f5f\"}},\"annotationdefaults\":{\"arrowcolor\":\"#2a3f5f\",\"arrowhead\":0,\"arrowwidth\":1},\"geo\":{\"bgcolor\":\"white\",\"landcolor\":\"#E5ECF6\",\"subunitcolor\":\"white\",\"showland\":true,\"showlakes\":true,\"lakecolor\":\"white\"},\"title\":{\"x\":0.05},\"mapbox\":{\"style\":\"light\"}}},\"xaxis\":{\"anchor\":\"y\",\"domain\":[0.0,1.0],\"title\":{\"text\":\"AUROC\"},\"tickfont\":{\"size\":11},\"automargin\":true},\"yaxis\":{\"anchor\":\"x\",\"domain\":[0.0,1.0],\"title\":{\"text\":\"count\"}},\"legend\":{\"title\":{\"text\":\"variable\"},\"tracegroupgap\":0},\"title\":{\"text\":\"Baseline grid search of CHEMBL262\"},\"barmode\":\"relative\",\"height\":600,\"width\":1100,\"showlegend\":false,\"shapes\":[{\"line\":{\"color\":\"red\",\"dash\":\"dot\"},\"type\":\"line\",\"x0\":0,\"x1\":1,\"xref\":\"x domain\",\"y0\":0.8693401693283831,\"y1\":0.8693401693283831,\"yref\":\"y\"}],\"annotations\":[{\"font\":{\"color\":\"red\"},\"showarrow\":false,\"text\":\"0.8693401693283831\",\"x\":0,\"xanchor\":\"left\",\"xref\":\"x domain\",\"y\":0.8693401693283831,\"yanchor\":\"bottom\",\"yref\":\"y\"}]},                        {\"responsive\": true}                    ).then(function(){\n",
       "                            \n",
       "var gd = document.getElementById('5cea19db-39b9-4c10-ad03-d1a621b15afc');\n",
       "var x = new MutationObserver(function (mutations, observer) {{\n",
       "        var display = window.getComputedStyle(gd).display;\n",
       "        if (!display || display === 'none') {{\n",
       "            console.log([gd, 'removed!']);\n",
       "            Plotly.purge(gd);\n",
       "            observer.disconnect();\n",
       "        }}\n",
       "}});\n",
       "\n",
       "// Listen for the removal of the full notebook cells\n",
       "var notebookContainer = gd.closest('#notebook-container');\n",
       "if (notebookContainer) {{\n",
       "    x.observe(notebookContainer, {childList: true});\n",
       "}}\n",
       "\n",
       "// Listen for the clearing of the current output cell\n",
       "var outputEl = gd.closest('.output');\n",
       "if (outputEl) {{\n",
       "    x.observe(outputEl, {childList: true});\n",
       "}}\n",
       "\n",
       "                        })                };                });            </script>        </div>"
      ]
     },
     "metadata": {},
     "output_type": "display_data"
    }
   ],
   "source": [
    "auroc = \"AUROC\"\n",
    "grid_data = grid.loc[grid[\"AUROC\"]==auroc,:]\n",
    "\n",
    "target = \"CHEMBL262\"\n",
    "data = grid_data.loc[target,:]\n",
    "data = data.drop(\"AUROC\")\n",
    "data = data.sort_values(ascending=False)\n",
    "fig = px.bar(data,title=f\"Baseline grid search of {target}\",labels={\"index\":\"Parameters searched\",\"value\":auroc},height=600,width=1100,text_auto='.4')\n",
    "fig.update_layout(showlegend=False)\n",
    "fig.add_hline(data.iloc[0], annotation_text=data.iloc[0], \n",
    "              annotation_position=\"top left\",\n",
    "              line_dash=\"dot\",\n",
    "              line_color=\"red\",\n",
    "              annotation_font_color=\"red\")\n",
    "fig.update_layout(\n",
    "    xaxis=dict(\n",
    "        tickfont=dict(size=11),  # Set the font size for x-axis labels\n",
    "        automargin=True\n",
    "    )\n",
    ")\n",
    "fig"
   ]
  },
  {
   "cell_type": "code",
   "execution_count": 86,
   "metadata": {},
   "outputs": [
    {
     "data": {
      "application/vnd.plotly.v1+json": {
       "config": {
        "plotlyServerURL": "https://plot.ly"
       },
       "data": [
        {
         "alignmentgroup": "True",
         "hovertemplate": "Parameters searched=%{x}<br>AUROC=%{y}<extra></extra>",
         "legendgroup": "",
         "marker": {
          "color": "#636efa",
          "pattern": {
           "shape": ""
          }
         },
         "name": "",
         "offsetgroup": "",
         "orientation": "v",
         "showlegend": false,
         "textposition": "auto",
         "texttemplate": "%{y:.4}",
         "type": "bar",
         "x": [
          "max_RAD2D_Tanimoto",
          "max_ASP_Tanimoto",
          "max_LSTAR_Tanimoto",
          "max_ASP_BraunBlanquet",
          "max_LSTAR_BraunBlanquet",
          "max_RAD2D_BraunBlanquet",
          "max_RAD2D_Cosine",
          "max_ASP_Cosine",
          "max_LSTAR_Cosine",
          "max_RDKIT_BraunBlanquet",
          "max_RDKIT_Tanimoto",
          "max_RDKIT_Cosine",
          "decile_RAD2D_Tanimoto",
          "decile_LSTAR_Tanimoto",
          "decile_ASP_Tanimoto",
          "decile_RAD2D_BraunBlanquet",
          "decile_ASP_BraunBlanquet",
          "decile_LSTAR_BraunBlanquet",
          "decile_LSTAR_Cosine",
          "decile_RAD2D_Cosine",
          "decile_ASP_Cosine",
          "cuartile_RAD2D_Tanimoto",
          "cuartile_LSTAR_Tanimoto",
          "cuartile_ASP_Tanimoto",
          "cuartile_LSTAR_Cosine",
          "cuartile_RAD2D_Cosine",
          "cuartile_ASP_Cosine",
          "cuartile_LSTAR_BraunBlanquet",
          "cuartile_ASP_BraunBlanquet",
          "cuartile_RAD2D_BraunBlanquet",
          "decile_RDKIT_BraunBlanquet",
          "cuartile_RDKIT_BraunBlanquet",
          "mean_RDKIT_BraunBlanquet",
          "aupr_LSTAR_Cosine",
          "aupr_ASP_Cosine",
          "aupr_RAD2D_Cosine",
          "decile_RDKIT_Tanimoto",
          "mean_RDKIT_Tanimoto",
          "aupr_RDKIT_BraunBlanquet",
          "mean_LSTAR_BraunBlanquet",
          "mean_RAD2D_BraunBlanquet",
          "mean_ASP_BraunBlanquet",
          "mean_RAD2D_Tanimoto",
          "mean_LSTAR_Tanimoto",
          "mean_ASP_Tanimoto",
          "aupr_ASP_Tanimoto",
          "aupr_RAD2D_Tanimoto",
          "aupr_LSTAR_Tanimoto",
          "mean_RAD2D_Cosine",
          "mean_ASP_Cosine",
          "mean_LSTAR_Cosine",
          "decile_RDKIT_Cosine",
          "mean_RDKIT_Cosine",
          "cuartile_RDKIT_Tanimoto",
          "aupr_RDKIT_Cosine",
          "cuartile_RDKIT_Cosine",
          "aupr_RDKIT_Tanimoto",
          "aupr_RAD2D_BraunBlanquet",
          "aupr_ASP_BraunBlanquet",
          "aupr_LSTAR_BraunBlanquet",
          "auroc_RDKIT_Cosine",
          "auroc_RDKIT_BraunBlanquet",
          "auroc_RDKIT_Tanimoto",
          "auroc_ASP_Cosine",
          "auroc_LSTAR_Cosine",
          "auroc_RAD2D_Cosine",
          "auroc_RAD2D_BraunBlanquet",
          "auroc_ASP_BraunBlanquet",
          "auroc_LSTAR_BraunBlanquet",
          "auroc_ASP_Tanimoto",
          "auroc_RAD2D_Tanimoto",
          "auroc_LSTAR_Tanimoto"
         ],
         "xaxis": "x",
         "y": [
          0.8693401693283831,
          0.8693401693283831,
          0.8693401693283831,
          0.8659270827194687,
          0.8659270827194687,
          0.8659270827194687,
          0.8650873160861964,
          0.8650873160861964,
          0.8650873160861964,
          0.8482723397568113,
          0.8456400887893609,
          0.8314033433516019,
          0.805429508711965,
          0.805429508711965,
          0.805429508711965,
          0.8033767458306322,
          0.8033767458306322,
          0.8033767458306322,
          0.7981417093916356,
          0.7981417093916356,
          0.7981417093916356,
          0.791895024259925,
          0.791895024259925,
          0.791895024259925,
          0.7824562437385821,
          0.7824562437385821,
          0.7824562437385821,
          0.7803936590252813,
          0.7803936590252813,
          0.7803936590252813,
          0.7515174730390712,
          0.736165949672933,
          0.7146168503349244,
          0.7119551338715697,
          0.7119551338715697,
          0.7119551338715697,
          0.7118176282240164,
          0.7032922780757067,
          0.7002966193254367,
          0.695866973107824,
          0.695866973107824,
          0.695866973107824,
          0.6943544109847368,
          0.6943544109847368,
          0.6943544109847368,
          0.6921248551279784,
          0.6921248551279784,
          0.6921248551279784,
          0.6891684837055808,
          0.6891684837055808,
          0.6891684837055808,
          0.6871157208242482,
          0.6862317559471192,
          0.6855245840454162,
          0.6782957157168955,
          0.6632781346376726,
          0.6617753943465534,
          0.6591529652110713,
          0.6591529652110713,
          0.6591529652110713,
          0.6427505058243463,
          0.6388905258608837,
          0.6326438407291729,
          0.5994067613491268,
          0.5994067613491268,
          0.5994067613491268,
          0.5960084074881646,
          0.5960084074881646,
          0.5960084074881646,
          0.5901742392991141,
          0.5901742392991141,
          0.5901742392991141
         ],
         "yaxis": "y"
        }
       ],
       "layout": {
        "barmode": "relative",
        "height": 600,
        "legend": {
         "tracegroupgap": 0
        },
        "template": {
         "data": {
          "bar": [
           {
            "error_x": {
             "color": "#2a3f5f"
            },
            "error_y": {
             "color": "#2a3f5f"
            },
            "marker": {
             "line": {
              "color": "#E5ECF6",
              "width": 0.5
             },
             "pattern": {
              "fillmode": "overlay",
              "size": 10,
              "solidity": 0.2
             }
            },
            "type": "bar"
           }
          ],
          "barpolar": [
           {
            "marker": {
             "line": {
              "color": "#E5ECF6",
              "width": 0.5
             },
             "pattern": {
              "fillmode": "overlay",
              "size": 10,
              "solidity": 0.2
             }
            },
            "type": "barpolar"
           }
          ],
          "carpet": [
           {
            "aaxis": {
             "endlinecolor": "#2a3f5f",
             "gridcolor": "white",
             "linecolor": "white",
             "minorgridcolor": "white",
             "startlinecolor": "#2a3f5f"
            },
            "baxis": {
             "endlinecolor": "#2a3f5f",
             "gridcolor": "white",
             "linecolor": "white",
             "minorgridcolor": "white",
             "startlinecolor": "#2a3f5f"
            },
            "type": "carpet"
           }
          ],
          "choropleth": [
           {
            "colorbar": {
             "outlinewidth": 0,
             "ticks": ""
            },
            "type": "choropleth"
           }
          ],
          "contour": [
           {
            "colorbar": {
             "outlinewidth": 0,
             "ticks": ""
            },
            "colorscale": [
             [
              0,
              "#0d0887"
             ],
             [
              0.1111111111111111,
              "#46039f"
             ],
             [
              0.2222222222222222,
              "#7201a8"
             ],
             [
              0.3333333333333333,
              "#9c179e"
             ],
             [
              0.4444444444444444,
              "#bd3786"
             ],
             [
              0.5555555555555556,
              "#d8576b"
             ],
             [
              0.6666666666666666,
              "#ed7953"
             ],
             [
              0.7777777777777778,
              "#fb9f3a"
             ],
             [
              0.8888888888888888,
              "#fdca26"
             ],
             [
              1,
              "#f0f921"
             ]
            ],
            "type": "contour"
           }
          ],
          "contourcarpet": [
           {
            "colorbar": {
             "outlinewidth": 0,
             "ticks": ""
            },
            "type": "contourcarpet"
           }
          ],
          "heatmap": [
           {
            "colorbar": {
             "outlinewidth": 0,
             "ticks": ""
            },
            "colorscale": [
             [
              0,
              "#0d0887"
             ],
             [
              0.1111111111111111,
              "#46039f"
             ],
             [
              0.2222222222222222,
              "#7201a8"
             ],
             [
              0.3333333333333333,
              "#9c179e"
             ],
             [
              0.4444444444444444,
              "#bd3786"
             ],
             [
              0.5555555555555556,
              "#d8576b"
             ],
             [
              0.6666666666666666,
              "#ed7953"
             ],
             [
              0.7777777777777778,
              "#fb9f3a"
             ],
             [
              0.8888888888888888,
              "#fdca26"
             ],
             [
              1,
              "#f0f921"
             ]
            ],
            "type": "heatmap"
           }
          ],
          "heatmapgl": [
           {
            "colorbar": {
             "outlinewidth": 0,
             "ticks": ""
            },
            "colorscale": [
             [
              0,
              "#0d0887"
             ],
             [
              0.1111111111111111,
              "#46039f"
             ],
             [
              0.2222222222222222,
              "#7201a8"
             ],
             [
              0.3333333333333333,
              "#9c179e"
             ],
             [
              0.4444444444444444,
              "#bd3786"
             ],
             [
              0.5555555555555556,
              "#d8576b"
             ],
             [
              0.6666666666666666,
              "#ed7953"
             ],
             [
              0.7777777777777778,
              "#fb9f3a"
             ],
             [
              0.8888888888888888,
              "#fdca26"
             ],
             [
              1,
              "#f0f921"
             ]
            ],
            "type": "heatmapgl"
           }
          ],
          "histogram": [
           {
            "marker": {
             "pattern": {
              "fillmode": "overlay",
              "size": 10,
              "solidity": 0.2
             }
            },
            "type": "histogram"
           }
          ],
          "histogram2d": [
           {
            "colorbar": {
             "outlinewidth": 0,
             "ticks": ""
            },
            "colorscale": [
             [
              0,
              "#0d0887"
             ],
             [
              0.1111111111111111,
              "#46039f"
             ],
             [
              0.2222222222222222,
              "#7201a8"
             ],
             [
              0.3333333333333333,
              "#9c179e"
             ],
             [
              0.4444444444444444,
              "#bd3786"
             ],
             [
              0.5555555555555556,
              "#d8576b"
             ],
             [
              0.6666666666666666,
              "#ed7953"
             ],
             [
              0.7777777777777778,
              "#fb9f3a"
             ],
             [
              0.8888888888888888,
              "#fdca26"
             ],
             [
              1,
              "#f0f921"
             ]
            ],
            "type": "histogram2d"
           }
          ],
          "histogram2dcontour": [
           {
            "colorbar": {
             "outlinewidth": 0,
             "ticks": ""
            },
            "colorscale": [
             [
              0,
              "#0d0887"
             ],
             [
              0.1111111111111111,
              "#46039f"
             ],
             [
              0.2222222222222222,
              "#7201a8"
             ],
             [
              0.3333333333333333,
              "#9c179e"
             ],
             [
              0.4444444444444444,
              "#bd3786"
             ],
             [
              0.5555555555555556,
              "#d8576b"
             ],
             [
              0.6666666666666666,
              "#ed7953"
             ],
             [
              0.7777777777777778,
              "#fb9f3a"
             ],
             [
              0.8888888888888888,
              "#fdca26"
             ],
             [
              1,
              "#f0f921"
             ]
            ],
            "type": "histogram2dcontour"
           }
          ],
          "mesh3d": [
           {
            "colorbar": {
             "outlinewidth": 0,
             "ticks": ""
            },
            "type": "mesh3d"
           }
          ],
          "parcoords": [
           {
            "line": {
             "colorbar": {
              "outlinewidth": 0,
              "ticks": ""
             }
            },
            "type": "parcoords"
           }
          ],
          "pie": [
           {
            "automargin": true,
            "type": "pie"
           }
          ],
          "scatter": [
           {
            "fillpattern": {
             "fillmode": "overlay",
             "size": 10,
             "solidity": 0.2
            },
            "type": "scatter"
           }
          ],
          "scatter3d": [
           {
            "line": {
             "colorbar": {
              "outlinewidth": 0,
              "ticks": ""
             }
            },
            "marker": {
             "colorbar": {
              "outlinewidth": 0,
              "ticks": ""
             }
            },
            "type": "scatter3d"
           }
          ],
          "scattercarpet": [
           {
            "marker": {
             "colorbar": {
              "outlinewidth": 0,
              "ticks": ""
             }
            },
            "type": "scattercarpet"
           }
          ],
          "scattergeo": [
           {
            "marker": {
             "colorbar": {
              "outlinewidth": 0,
              "ticks": ""
             }
            },
            "type": "scattergeo"
           }
          ],
          "scattergl": [
           {
            "marker": {
             "colorbar": {
              "outlinewidth": 0,
              "ticks": ""
             }
            },
            "type": "scattergl"
           }
          ],
          "scattermapbox": [
           {
            "marker": {
             "colorbar": {
              "outlinewidth": 0,
              "ticks": ""
             }
            },
            "type": "scattermapbox"
           }
          ],
          "scatterpolar": [
           {
            "marker": {
             "colorbar": {
              "outlinewidth": 0,
              "ticks": ""
             }
            },
            "type": "scatterpolar"
           }
          ],
          "scatterpolargl": [
           {
            "marker": {
             "colorbar": {
              "outlinewidth": 0,
              "ticks": ""
             }
            },
            "type": "scatterpolargl"
           }
          ],
          "scatterternary": [
           {
            "marker": {
             "colorbar": {
              "outlinewidth": 0,
              "ticks": ""
             }
            },
            "type": "scatterternary"
           }
          ],
          "surface": [
           {
            "colorbar": {
             "outlinewidth": 0,
             "ticks": ""
            },
            "colorscale": [
             [
              0,
              "#0d0887"
             ],
             [
              0.1111111111111111,
              "#46039f"
             ],
             [
              0.2222222222222222,
              "#7201a8"
             ],
             [
              0.3333333333333333,
              "#9c179e"
             ],
             [
              0.4444444444444444,
              "#bd3786"
             ],
             [
              0.5555555555555556,
              "#d8576b"
             ],
             [
              0.6666666666666666,
              "#ed7953"
             ],
             [
              0.7777777777777778,
              "#fb9f3a"
             ],
             [
              0.8888888888888888,
              "#fdca26"
             ],
             [
              1,
              "#f0f921"
             ]
            ],
            "type": "surface"
           }
          ],
          "table": [
           {
            "cells": {
             "fill": {
              "color": "#EBF0F8"
             },
             "line": {
              "color": "white"
             }
            },
            "header": {
             "fill": {
              "color": "#C8D4E3"
             },
             "line": {
              "color": "white"
             }
            },
            "type": "table"
           }
          ]
         },
         "layout": {
          "annotationdefaults": {
           "arrowcolor": "#2a3f5f",
           "arrowhead": 0,
           "arrowwidth": 1
          },
          "autotypenumbers": "strict",
          "coloraxis": {
           "colorbar": {
            "outlinewidth": 0,
            "ticks": ""
           }
          },
          "colorscale": {
           "diverging": [
            [
             0,
             "#8e0152"
            ],
            [
             0.1,
             "#c51b7d"
            ],
            [
             0.2,
             "#de77ae"
            ],
            [
             0.3,
             "#f1b6da"
            ],
            [
             0.4,
             "#fde0ef"
            ],
            [
             0.5,
             "#f7f7f7"
            ],
            [
             0.6,
             "#e6f5d0"
            ],
            [
             0.7,
             "#b8e186"
            ],
            [
             0.8,
             "#7fbc41"
            ],
            [
             0.9,
             "#4d9221"
            ],
            [
             1,
             "#276419"
            ]
           ],
           "sequential": [
            [
             0,
             "#0d0887"
            ],
            [
             0.1111111111111111,
             "#46039f"
            ],
            [
             0.2222222222222222,
             "#7201a8"
            ],
            [
             0.3333333333333333,
             "#9c179e"
            ],
            [
             0.4444444444444444,
             "#bd3786"
            ],
            [
             0.5555555555555556,
             "#d8576b"
            ],
            [
             0.6666666666666666,
             "#ed7953"
            ],
            [
             0.7777777777777778,
             "#fb9f3a"
            ],
            [
             0.8888888888888888,
             "#fdca26"
            ],
            [
             1,
             "#f0f921"
            ]
           ],
           "sequentialminus": [
            [
             0,
             "#0d0887"
            ],
            [
             0.1111111111111111,
             "#46039f"
            ],
            [
             0.2222222222222222,
             "#7201a8"
            ],
            [
             0.3333333333333333,
             "#9c179e"
            ],
            [
             0.4444444444444444,
             "#bd3786"
            ],
            [
             0.5555555555555556,
             "#d8576b"
            ],
            [
             0.6666666666666666,
             "#ed7953"
            ],
            [
             0.7777777777777778,
             "#fb9f3a"
            ],
            [
             0.8888888888888888,
             "#fdca26"
            ],
            [
             1,
             "#f0f921"
            ]
           ]
          },
          "colorway": [
           "#636efa",
           "#EF553B",
           "#00cc96",
           "#ab63fa",
           "#FFA15A",
           "#19d3f3",
           "#FF6692",
           "#B6E880",
           "#FF97FF",
           "#FECB52"
          ],
          "font": {
           "color": "#2a3f5f"
          },
          "geo": {
           "bgcolor": "white",
           "lakecolor": "white",
           "landcolor": "#E5ECF6",
           "showlakes": true,
           "showland": true,
           "subunitcolor": "white"
          },
          "hoverlabel": {
           "align": "left"
          },
          "hovermode": "closest",
          "mapbox": {
           "style": "light"
          },
          "paper_bgcolor": "white",
          "plot_bgcolor": "#E5ECF6",
          "polar": {
           "angularaxis": {
            "gridcolor": "white",
            "linecolor": "white",
            "ticks": ""
           },
           "bgcolor": "#E5ECF6",
           "radialaxis": {
            "gridcolor": "white",
            "linecolor": "white",
            "ticks": ""
           }
          },
          "scene": {
           "xaxis": {
            "backgroundcolor": "#E5ECF6",
            "gridcolor": "white",
            "gridwidth": 2,
            "linecolor": "white",
            "showbackground": true,
            "ticks": "",
            "zerolinecolor": "white"
           },
           "yaxis": {
            "backgroundcolor": "#E5ECF6",
            "gridcolor": "white",
            "gridwidth": 2,
            "linecolor": "white",
            "showbackground": true,
            "ticks": "",
            "zerolinecolor": "white"
           },
           "zaxis": {
            "backgroundcolor": "#E5ECF6",
            "gridcolor": "white",
            "gridwidth": 2,
            "linecolor": "white",
            "showbackground": true,
            "ticks": "",
            "zerolinecolor": "white"
           }
          },
          "shapedefaults": {
           "line": {
            "color": "#2a3f5f"
           }
          },
          "ternary": {
           "aaxis": {
            "gridcolor": "white",
            "linecolor": "white",
            "ticks": ""
           },
           "baxis": {
            "gridcolor": "white",
            "linecolor": "white",
            "ticks": ""
           },
           "bgcolor": "#E5ECF6",
           "caxis": {
            "gridcolor": "white",
            "linecolor": "white",
            "ticks": ""
           }
          },
          "title": {
           "x": 0.05
          },
          "xaxis": {
           "automargin": true,
           "gridcolor": "white",
           "linecolor": "white",
           "ticks": "",
           "title": {
            "standoff": 15
           },
           "zerolinecolor": "white",
           "zerolinewidth": 2
          },
          "yaxis": {
           "automargin": true,
           "gridcolor": "white",
           "linecolor": "white",
           "ticks": "",
           "title": {
            "standoff": 15
           },
           "zerolinecolor": "white",
           "zerolinewidth": 2
          }
         }
        },
        "title": {
         "text": "Baseline grid search of CHEMBL262"
        },
        "width": 1500,
        "xaxis": {
         "anchor": "y",
         "domain": [
          0,
          1
         ],
         "title": {
          "text": "Parameters searched"
         }
        },
        "yaxis": {
         "anchor": "x",
         "domain": [
          0,
          1
         ],
         "title": {
          "text": "AUROC"
         }
        }
       }
      },
      "text/html": [
       "<div>                            <div id=\"3d89a7bb-2c41-4f17-ba58-cc44b46aa7b5\" class=\"plotly-graph-div\" style=\"height:600px; width:1500px;\"></div>            <script type=\"text/javascript\">                require([\"plotly\"], function(Plotly) {                    window.PLOTLYENV=window.PLOTLYENV || {};                                    if (document.getElementById(\"3d89a7bb-2c41-4f17-ba58-cc44b46aa7b5\")) {                    Plotly.newPlot(                        \"3d89a7bb-2c41-4f17-ba58-cc44b46aa7b5\",                        [{\"alignmentgroup\":\"True\",\"hovertemplate\":\"Parameters searched=%{x}\\u003cbr\\u003eAUROC=%{y}\\u003cextra\\u003e\\u003c\\u002fextra\\u003e\",\"legendgroup\":\"\",\"marker\":{\"color\":\"#636efa\",\"pattern\":{\"shape\":\"\"}},\"name\":\"\",\"offsetgroup\":\"\",\"orientation\":\"v\",\"showlegend\":false,\"textposition\":\"auto\",\"texttemplate\":\"%{y:.4}\",\"x\":[\"max_RAD2D_Tanimoto\",\"max_ASP_Tanimoto\",\"max_LSTAR_Tanimoto\",\"max_ASP_BraunBlanquet\",\"max_LSTAR_BraunBlanquet\",\"max_RAD2D_BraunBlanquet\",\"max_RAD2D_Cosine\",\"max_ASP_Cosine\",\"max_LSTAR_Cosine\",\"max_RDKIT_BraunBlanquet\",\"max_RDKIT_Tanimoto\",\"max_RDKIT_Cosine\",\"decile_RAD2D_Tanimoto\",\"decile_LSTAR_Tanimoto\",\"decile_ASP_Tanimoto\",\"decile_RAD2D_BraunBlanquet\",\"decile_ASP_BraunBlanquet\",\"decile_LSTAR_BraunBlanquet\",\"decile_LSTAR_Cosine\",\"decile_RAD2D_Cosine\",\"decile_ASP_Cosine\",\"cuartile_RAD2D_Tanimoto\",\"cuartile_LSTAR_Tanimoto\",\"cuartile_ASP_Tanimoto\",\"cuartile_LSTAR_Cosine\",\"cuartile_RAD2D_Cosine\",\"cuartile_ASP_Cosine\",\"cuartile_LSTAR_BraunBlanquet\",\"cuartile_ASP_BraunBlanquet\",\"cuartile_RAD2D_BraunBlanquet\",\"decile_RDKIT_BraunBlanquet\",\"cuartile_RDKIT_BraunBlanquet\",\"mean_RDKIT_BraunBlanquet\",\"aupr_LSTAR_Cosine\",\"aupr_ASP_Cosine\",\"aupr_RAD2D_Cosine\",\"decile_RDKIT_Tanimoto\",\"mean_RDKIT_Tanimoto\",\"aupr_RDKIT_BraunBlanquet\",\"mean_LSTAR_BraunBlanquet\",\"mean_RAD2D_BraunBlanquet\",\"mean_ASP_BraunBlanquet\",\"mean_RAD2D_Tanimoto\",\"mean_LSTAR_Tanimoto\",\"mean_ASP_Tanimoto\",\"aupr_ASP_Tanimoto\",\"aupr_RAD2D_Tanimoto\",\"aupr_LSTAR_Tanimoto\",\"mean_RAD2D_Cosine\",\"mean_ASP_Cosine\",\"mean_LSTAR_Cosine\",\"decile_RDKIT_Cosine\",\"mean_RDKIT_Cosine\",\"cuartile_RDKIT_Tanimoto\",\"aupr_RDKIT_Cosine\",\"cuartile_RDKIT_Cosine\",\"aupr_RDKIT_Tanimoto\",\"aupr_RAD2D_BraunBlanquet\",\"aupr_ASP_BraunBlanquet\",\"aupr_LSTAR_BraunBlanquet\",\"auroc_RDKIT_Cosine\",\"auroc_RDKIT_BraunBlanquet\",\"auroc_RDKIT_Tanimoto\",\"auroc_ASP_Cosine\",\"auroc_LSTAR_Cosine\",\"auroc_RAD2D_Cosine\",\"auroc_RAD2D_BraunBlanquet\",\"auroc_ASP_BraunBlanquet\",\"auroc_LSTAR_BraunBlanquet\",\"auroc_ASP_Tanimoto\",\"auroc_RAD2D_Tanimoto\",\"auroc_LSTAR_Tanimoto\"],\"xaxis\":\"x\",\"y\":[0.8693401693283831,0.8693401693283831,0.8693401693283831,0.8659270827194687,0.8659270827194687,0.8659270827194687,0.8650873160861964,0.8650873160861964,0.8650873160861964,0.8482723397568113,0.8456400887893609,0.8314033433516019,0.805429508711965,0.805429508711965,0.805429508711965,0.8033767458306322,0.8033767458306322,0.8033767458306322,0.7981417093916356,0.7981417093916356,0.7981417093916356,0.791895024259925,0.791895024259925,0.791895024259925,0.7824562437385821,0.7824562437385821,0.7824562437385821,0.7803936590252813,0.7803936590252813,0.7803936590252813,0.7515174730390712,0.736165949672933,0.7146168503349244,0.7119551338715697,0.7119551338715697,0.7119551338715697,0.7118176282240164,0.7032922780757067,0.7002966193254367,0.695866973107824,0.695866973107824,0.695866973107824,0.6943544109847368,0.6943544109847368,0.6943544109847368,0.6921248551279784,0.6921248551279784,0.6921248551279784,0.6891684837055808,0.6891684837055808,0.6891684837055808,0.6871157208242482,0.6862317559471192,0.6855245840454162,0.6782957157168955,0.6632781346376726,0.6617753943465534,0.6591529652110713,0.6591529652110713,0.6591529652110713,0.6427505058243463,0.6388905258608837,0.6326438407291729,0.5994067613491268,0.5994067613491268,0.5994067613491268,0.5960084074881646,0.5960084074881646,0.5960084074881646,0.5901742392991141,0.5901742392991141,0.5901742392991141],\"yaxis\":\"y\",\"type\":\"bar\"}],                        {\"template\":{\"data\":{\"histogram2dcontour\":[{\"type\":\"histogram2dcontour\",\"colorbar\":{\"outlinewidth\":0,\"ticks\":\"\"},\"colorscale\":[[0.0,\"#0d0887\"],[0.1111111111111111,\"#46039f\"],[0.2222222222222222,\"#7201a8\"],[0.3333333333333333,\"#9c179e\"],[0.4444444444444444,\"#bd3786\"],[0.5555555555555556,\"#d8576b\"],[0.6666666666666666,\"#ed7953\"],[0.7777777777777778,\"#fb9f3a\"],[0.8888888888888888,\"#fdca26\"],[1.0,\"#f0f921\"]]}],\"choropleth\":[{\"type\":\"choropleth\",\"colorbar\":{\"outlinewidth\":0,\"ticks\":\"\"}}],\"histogram2d\":[{\"type\":\"histogram2d\",\"colorbar\":{\"outlinewidth\":0,\"ticks\":\"\"},\"colorscale\":[[0.0,\"#0d0887\"],[0.1111111111111111,\"#46039f\"],[0.2222222222222222,\"#7201a8\"],[0.3333333333333333,\"#9c179e\"],[0.4444444444444444,\"#bd3786\"],[0.5555555555555556,\"#d8576b\"],[0.6666666666666666,\"#ed7953\"],[0.7777777777777778,\"#fb9f3a\"],[0.8888888888888888,\"#fdca26\"],[1.0,\"#f0f921\"]]}],\"heatmap\":[{\"type\":\"heatmap\",\"colorbar\":{\"outlinewidth\":0,\"ticks\":\"\"},\"colorscale\":[[0.0,\"#0d0887\"],[0.1111111111111111,\"#46039f\"],[0.2222222222222222,\"#7201a8\"],[0.3333333333333333,\"#9c179e\"],[0.4444444444444444,\"#bd3786\"],[0.5555555555555556,\"#d8576b\"],[0.6666666666666666,\"#ed7953\"],[0.7777777777777778,\"#fb9f3a\"],[0.8888888888888888,\"#fdca26\"],[1.0,\"#f0f921\"]]}],\"heatmapgl\":[{\"type\":\"heatmapgl\",\"colorbar\":{\"outlinewidth\":0,\"ticks\":\"\"},\"colorscale\":[[0.0,\"#0d0887\"],[0.1111111111111111,\"#46039f\"],[0.2222222222222222,\"#7201a8\"],[0.3333333333333333,\"#9c179e\"],[0.4444444444444444,\"#bd3786\"],[0.5555555555555556,\"#d8576b\"],[0.6666666666666666,\"#ed7953\"],[0.7777777777777778,\"#fb9f3a\"],[0.8888888888888888,\"#fdca26\"],[1.0,\"#f0f921\"]]}],\"contourcarpet\":[{\"type\":\"contourcarpet\",\"colorbar\":{\"outlinewidth\":0,\"ticks\":\"\"}}],\"contour\":[{\"type\":\"contour\",\"colorbar\":{\"outlinewidth\":0,\"ticks\":\"\"},\"colorscale\":[[0.0,\"#0d0887\"],[0.1111111111111111,\"#46039f\"],[0.2222222222222222,\"#7201a8\"],[0.3333333333333333,\"#9c179e\"],[0.4444444444444444,\"#bd3786\"],[0.5555555555555556,\"#d8576b\"],[0.6666666666666666,\"#ed7953\"],[0.7777777777777778,\"#fb9f3a\"],[0.8888888888888888,\"#fdca26\"],[1.0,\"#f0f921\"]]}],\"surface\":[{\"type\":\"surface\",\"colorbar\":{\"outlinewidth\":0,\"ticks\":\"\"},\"colorscale\":[[0.0,\"#0d0887\"],[0.1111111111111111,\"#46039f\"],[0.2222222222222222,\"#7201a8\"],[0.3333333333333333,\"#9c179e\"],[0.4444444444444444,\"#bd3786\"],[0.5555555555555556,\"#d8576b\"],[0.6666666666666666,\"#ed7953\"],[0.7777777777777778,\"#fb9f3a\"],[0.8888888888888888,\"#fdca26\"],[1.0,\"#f0f921\"]]}],\"mesh3d\":[{\"type\":\"mesh3d\",\"colorbar\":{\"outlinewidth\":0,\"ticks\":\"\"}}],\"scatter\":[{\"fillpattern\":{\"fillmode\":\"overlay\",\"size\":10,\"solidity\":0.2},\"type\":\"scatter\"}],\"parcoords\":[{\"type\":\"parcoords\",\"line\":{\"colorbar\":{\"outlinewidth\":0,\"ticks\":\"\"}}}],\"scatterpolargl\":[{\"type\":\"scatterpolargl\",\"marker\":{\"colorbar\":{\"outlinewidth\":0,\"ticks\":\"\"}}}],\"bar\":[{\"error_x\":{\"color\":\"#2a3f5f\"},\"error_y\":{\"color\":\"#2a3f5f\"},\"marker\":{\"line\":{\"color\":\"#E5ECF6\",\"width\":0.5},\"pattern\":{\"fillmode\":\"overlay\",\"size\":10,\"solidity\":0.2}},\"type\":\"bar\"}],\"scattergeo\":[{\"type\":\"scattergeo\",\"marker\":{\"colorbar\":{\"outlinewidth\":0,\"ticks\":\"\"}}}],\"scatterpolar\":[{\"type\":\"scatterpolar\",\"marker\":{\"colorbar\":{\"outlinewidth\":0,\"ticks\":\"\"}}}],\"histogram\":[{\"marker\":{\"pattern\":{\"fillmode\":\"overlay\",\"size\":10,\"solidity\":0.2}},\"type\":\"histogram\"}],\"scattergl\":[{\"type\":\"scattergl\",\"marker\":{\"colorbar\":{\"outlinewidth\":0,\"ticks\":\"\"}}}],\"scatter3d\":[{\"type\":\"scatter3d\",\"line\":{\"colorbar\":{\"outlinewidth\":0,\"ticks\":\"\"}},\"marker\":{\"colorbar\":{\"outlinewidth\":0,\"ticks\":\"\"}}}],\"scattermapbox\":[{\"type\":\"scattermapbox\",\"marker\":{\"colorbar\":{\"outlinewidth\":0,\"ticks\":\"\"}}}],\"scatterternary\":[{\"type\":\"scatterternary\",\"marker\":{\"colorbar\":{\"outlinewidth\":0,\"ticks\":\"\"}}}],\"scattercarpet\":[{\"type\":\"scattercarpet\",\"marker\":{\"colorbar\":{\"outlinewidth\":0,\"ticks\":\"\"}}}],\"carpet\":[{\"aaxis\":{\"endlinecolor\":\"#2a3f5f\",\"gridcolor\":\"white\",\"linecolor\":\"white\",\"minorgridcolor\":\"white\",\"startlinecolor\":\"#2a3f5f\"},\"baxis\":{\"endlinecolor\":\"#2a3f5f\",\"gridcolor\":\"white\",\"linecolor\":\"white\",\"minorgridcolor\":\"white\",\"startlinecolor\":\"#2a3f5f\"},\"type\":\"carpet\"}],\"table\":[{\"cells\":{\"fill\":{\"color\":\"#EBF0F8\"},\"line\":{\"color\":\"white\"}},\"header\":{\"fill\":{\"color\":\"#C8D4E3\"},\"line\":{\"color\":\"white\"}},\"type\":\"table\"}],\"barpolar\":[{\"marker\":{\"line\":{\"color\":\"#E5ECF6\",\"width\":0.5},\"pattern\":{\"fillmode\":\"overlay\",\"size\":10,\"solidity\":0.2}},\"type\":\"barpolar\"}],\"pie\":[{\"automargin\":true,\"type\":\"pie\"}]},\"layout\":{\"autotypenumbers\":\"strict\",\"colorway\":[\"#636efa\",\"#EF553B\",\"#00cc96\",\"#ab63fa\",\"#FFA15A\",\"#19d3f3\",\"#FF6692\",\"#B6E880\",\"#FF97FF\",\"#FECB52\"],\"font\":{\"color\":\"#2a3f5f\"},\"hovermode\":\"closest\",\"hoverlabel\":{\"align\":\"left\"},\"paper_bgcolor\":\"white\",\"plot_bgcolor\":\"#E5ECF6\",\"polar\":{\"bgcolor\":\"#E5ECF6\",\"angularaxis\":{\"gridcolor\":\"white\",\"linecolor\":\"white\",\"ticks\":\"\"},\"radialaxis\":{\"gridcolor\":\"white\",\"linecolor\":\"white\",\"ticks\":\"\"}},\"ternary\":{\"bgcolor\":\"#E5ECF6\",\"aaxis\":{\"gridcolor\":\"white\",\"linecolor\":\"white\",\"ticks\":\"\"},\"baxis\":{\"gridcolor\":\"white\",\"linecolor\":\"white\",\"ticks\":\"\"},\"caxis\":{\"gridcolor\":\"white\",\"linecolor\":\"white\",\"ticks\":\"\"}},\"coloraxis\":{\"colorbar\":{\"outlinewidth\":0,\"ticks\":\"\"}},\"colorscale\":{\"sequential\":[[0.0,\"#0d0887\"],[0.1111111111111111,\"#46039f\"],[0.2222222222222222,\"#7201a8\"],[0.3333333333333333,\"#9c179e\"],[0.4444444444444444,\"#bd3786\"],[0.5555555555555556,\"#d8576b\"],[0.6666666666666666,\"#ed7953\"],[0.7777777777777778,\"#fb9f3a\"],[0.8888888888888888,\"#fdca26\"],[1.0,\"#f0f921\"]],\"sequentialminus\":[[0.0,\"#0d0887\"],[0.1111111111111111,\"#46039f\"],[0.2222222222222222,\"#7201a8\"],[0.3333333333333333,\"#9c179e\"],[0.4444444444444444,\"#bd3786\"],[0.5555555555555556,\"#d8576b\"],[0.6666666666666666,\"#ed7953\"],[0.7777777777777778,\"#fb9f3a\"],[0.8888888888888888,\"#fdca26\"],[1.0,\"#f0f921\"]],\"diverging\":[[0,\"#8e0152\"],[0.1,\"#c51b7d\"],[0.2,\"#de77ae\"],[0.3,\"#f1b6da\"],[0.4,\"#fde0ef\"],[0.5,\"#f7f7f7\"],[0.6,\"#e6f5d0\"],[0.7,\"#b8e186\"],[0.8,\"#7fbc41\"],[0.9,\"#4d9221\"],[1,\"#276419\"]]},\"xaxis\":{\"gridcolor\":\"white\",\"linecolor\":\"white\",\"ticks\":\"\",\"title\":{\"standoff\":15},\"zerolinecolor\":\"white\",\"automargin\":true,\"zerolinewidth\":2},\"yaxis\":{\"gridcolor\":\"white\",\"linecolor\":\"white\",\"ticks\":\"\",\"title\":{\"standoff\":15},\"zerolinecolor\":\"white\",\"automargin\":true,\"zerolinewidth\":2},\"scene\":{\"xaxis\":{\"backgroundcolor\":\"#E5ECF6\",\"gridcolor\":\"white\",\"linecolor\":\"white\",\"showbackground\":true,\"ticks\":\"\",\"zerolinecolor\":\"white\",\"gridwidth\":2},\"yaxis\":{\"backgroundcolor\":\"#E5ECF6\",\"gridcolor\":\"white\",\"linecolor\":\"white\",\"showbackground\":true,\"ticks\":\"\",\"zerolinecolor\":\"white\",\"gridwidth\":2},\"zaxis\":{\"backgroundcolor\":\"#E5ECF6\",\"gridcolor\":\"white\",\"linecolor\":\"white\",\"showbackground\":true,\"ticks\":\"\",\"zerolinecolor\":\"white\",\"gridwidth\":2}},\"shapedefaults\":{\"line\":{\"color\":\"#2a3f5f\"}},\"annotationdefaults\":{\"arrowcolor\":\"#2a3f5f\",\"arrowhead\":0,\"arrowwidth\":1},\"geo\":{\"bgcolor\":\"white\",\"landcolor\":\"#E5ECF6\",\"subunitcolor\":\"white\",\"showland\":true,\"showlakes\":true,\"lakecolor\":\"white\"},\"title\":{\"x\":0.05},\"mapbox\":{\"style\":\"light\"}}},\"xaxis\":{\"anchor\":\"y\",\"domain\":[0.0,1.0],\"title\":{\"text\":\"Parameters searched\"}},\"yaxis\":{\"anchor\":\"x\",\"domain\":[0.0,1.0],\"title\":{\"text\":\"AUROC\"}},\"legend\":{\"tracegroupgap\":0},\"title\":{\"text\":\"Baseline grid search of CHEMBL262\"},\"barmode\":\"relative\",\"height\":600,\"width\":1500},                        {\"responsive\": true}                    ).then(function(){\n",
       "                            \n",
       "var gd = document.getElementById('3d89a7bb-2c41-4f17-ba58-cc44b46aa7b5');\n",
       "var x = new MutationObserver(function (mutations, observer) {{\n",
       "        var display = window.getComputedStyle(gd).display;\n",
       "        if (!display || display === 'none') {{\n",
       "            console.log([gd, 'removed!']);\n",
       "            Plotly.purge(gd);\n",
       "            observer.disconnect();\n",
       "        }}\n",
       "}});\n",
       "\n",
       "// Listen for the removal of the full notebook cells\n",
       "var notebookContainer = gd.closest('#notebook-container');\n",
       "if (notebookContainer) {{\n",
       "    x.observe(notebookContainer, {childList: true});\n",
       "}}\n",
       "\n",
       "// Listen for the clearing of the current output cell\n",
       "var outputEl = gd.closest('.output');\n",
       "if (outputEl) {{\n",
       "    x.observe(outputEl, {childList: true});\n",
       "}}\n",
       "\n",
       "                        })                };                });            </script>        </div>"
      ]
     },
     "metadata": {},
     "output_type": "display_data"
    }
   ],
   "source": [
    "px.bar(x=data.index,y=data,title=f\"Baseline grid search of {target}\",labels={\"x\":\"Parameters searched\",\"y\":auroc},height=600,width=1500,text_auto='.4')"
   ]
  },
  {
   "cell_type": "markdown",
   "metadata": {},
   "source": [
    "Generate all plots\n"
   ]
  },
  {
   "cell_type": "code",
   "execution_count": 92,
   "metadata": {},
   "outputs": [],
   "source": [
    "for auroc in [\"AUROC\",\"AUROC15\",\"AUROC30\"]:\n",
    "    grid_data = grid.loc[grid[\"AUROC\"]==auroc,:]\n",
    "    \n",
    "    for target in grid_data.index.unique():\n",
    "        data = grid_data.loc[target,:]\n",
    "        data = data.drop(\"AUROC\")\n",
    "        data = data.sort_values(ascending=False)\n",
    "        data = data.head(25)\n",
    "        fig = px.bar(x=data.index,y=data,title=f\"Top 25 Baseline grid search of {target}\",labels={\"x\":\"Parameters searched\",\"y\":auroc},height=600,width=800,text_auto='.4')\n",
    "        fig.update_layout(showlegend=False)\n",
    "        fig.update_layout(\n",
    "            xaxis=dict(\n",
    "                tickfont=dict(size=11),  # Set the font size for x-axis labels\n",
    "                automargin=True\n",
    "            )\n",
    "        )\n",
    "        fig.update_yaxes(range=[0, 1])\n",
    "        fig.write_image(f\"plots/{target}_{auroc}.png\")"
   ]
  }
 ],
 "metadata": {
  "kernelspec": {
   "display_name": "Python 3",
   "language": "python",
   "name": "python3"
  },
  "language_info": {
   "codemirror_mode": {
    "name": "ipython",
    "version": 3
   },
   "file_extension": ".py",
   "mimetype": "text/x-python",
   "name": "python",
   "nbconvert_exporter": "python",
   "pygments_lexer": "ipython3",
   "version": "3.11.5"
  }
 },
 "nbformat": 4,
 "nbformat_minor": 2
}
