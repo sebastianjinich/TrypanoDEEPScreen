{
 "cells": [
  {
   "cell_type": "code",
   "execution_count": 3,
   "metadata": {},
   "outputs": [
    {
     "name": "stderr",
     "output_type": "stream",
     "text": [
      "/big/lab/sjinich/che_env/lib/python3.8/site-packages/tqdm/auto.py:21: TqdmWarning: IProgress not found. Please update jupyter and ipywidgets. See https://ipywidgets.readthedocs.io/en/stable/user_install.html\n",
      "  from .autonotebook import tqdm as notebook_tqdm\n",
      "2024-07-23 19:02:53,830\tINFO util.py:154 -- Missing packages: ['ipywidgets']. Run `pip install -U ipywidgets`, then restart the notebook server for rich notebook output.\n",
      "2024-07-23 19:02:54,423\tINFO util.py:154 -- Missing packages: ['ipywidgets']. Run `pip install -U ipywidgets`, then restart the notebook server for rich notebook output.\n",
      "2024-07-23 19:02:58,003\tINFO util.py:154 -- Missing packages: ['ipywidgets']. Run `pip install -U ipywidgets`, then restart the notebook server for rich notebook output.\n"
     ]
    }
   ],
   "source": [
    "import sys\n",
    "sys.path.insert(0, '/home/sjinich/disco/TrypanoDEEPscreen/src/ml')\n",
    "\n",
    "from engine.hyperparameters_tune_raytune_rdkit_features import DEEPScreenClassifier\n",
    "from datasets.datamodule_rdkit_features import DEEPscreenDataModule"
   ]
  },
  {
   "cell_type": "code",
   "execution_count": 15,
   "metadata": {},
   "outputs": [],
   "source": [
    "from lightning import Trainer\n",
    "import pandas as pd\n",
    "import numpy as np\n",
    "import glob\n",
    "import os\n",
    "\n",
    "data = pd.read_csv(\"/home/sjinich/disco/TrypanoDEEPscreen/.data/processed/CHEMBL262features_rdkit.csv\")\n",
    "features = np.load(\"/home/sjinich/disco/TrypanoDEEPscreen/.data/processed/CHEMBL262features_rdkit.npy\")\n",
    "\n",
    "path = \"/home/sjinich/disco/TrypanoDEEPscreen/.experiments/chembl262_rdkitfeaturization\"\n",
    "trial_id = \"0e775_00081\"\n",
    "\n",
    "checkpoints_str = glob.glob(os.path.join(path,f\"*{trial_id}*checkpoint*\"))"
   ]
  },
  {
   "cell_type": "code",
   "execution_count": 17,
   "metadata": {},
   "outputs": [
    {
     "data": {
      "text/plain": [
       "['/home/sjinich/disco/TrypanoDEEPscreen/.experiments/chembl262_rdkitfeaturization/TorchTrainer_0e775_00081_81_batch_size=64,drop_rate=0.5000,fully_layer_1=512,fully_layer_2=512,learning_rate=0.0001_2024-07-09_04-51-29/checkpoint_000199/',\n",
       " '/home/sjinich/disco/TrypanoDEEPscreen/.experiments/chembl262_rdkitfeaturization/TorchTrainer_0e775_00081_81_batch_size=64,drop_rate=0.5000,fully_layer_1=512,fully_layer_2=512,learning_rate=0.0001_2024-07-09_04-51-29/checkpoint_000175/']"
      ]
     },
     "execution_count": 17,
     "metadata": {},
     "output_type": "execute_result"
    }
   ],
   "source": [
    "glob.glob(os.path.join(path,f\"*{trial_id}*/checkpoint*/\"))"
   ]
  },
  {
   "cell_type": "code",
   "execution_count": null,
   "metadata": {},
   "outputs": [],
   "source": [
    "trainer = Trainer()\n",
    "model = DEEPScreenClassifier.load_from_checkpoint(best_checkpoint_path,experiment_result_path=\"/home/sjinich/disco/TrypanoDEEPscreen/.experiments\")\n"
   ]
  }
 ],
 "metadata": {
  "kernelspec": {
   "display_name": "Python 3",
   "language": "python",
   "name": "python3"
  },
  "language_info": {
   "codemirror_mode": {
    "name": "ipython",
    "version": 3
   },
   "file_extension": ".py",
   "mimetype": "text/x-python",
   "name": "python",
   "nbconvert_exporter": "python",
   "pygments_lexer": "ipython3",
   "version": "3.8.8"
  }
 },
 "nbformat": 4,
 "nbformat_minor": 2
}
